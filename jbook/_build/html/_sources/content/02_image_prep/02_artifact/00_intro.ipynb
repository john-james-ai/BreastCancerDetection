{
 "cells": [
  {
   "cell_type": "markdown",
   "id": "c3bbd9ec",
   "metadata": {},
   "source": [
    "# Artifact Removal\n",
    "\n",
    "Deep learning-based computer-aided diagnosis (CADx) performance derives from its ability to accurately detect, and classify abnormalities in breast tissue from digital mammograms. Forgive the anthropomorphism, but when a model “sees” an image, it must distinguish a region or regions of interest, each with distinct properties, from the background, text, and other artifacts of the scanning process. The presence of such artifacts challenges model-based detection and can lead to classification errors.\n",
    "\n",
    "To get a sense of the challenge, note the artifacts in the following four randomly sampled images from the CBIS-DDSM dataset."
   ]
  },
  {
   "cell_type": "code",
   "execution_count": null,
   "id": "cd5620f7",
   "metadata": {
    "tags": [
     "remove-input",
     "remove-output"
    ]
   },
   "outputs": [],
   "source": [
    "import os\n",
    "if 'jbook' in os.getcwd():\n",
    "    os.chdir(os.path.abspath(os.path.join(\"../../../..\")))\n",
    "\n",
    "import numpy as np\n",
    "import cv2\n",
    "import matplotlib.pyplot as plt\n",
    "from bcd.utils.image import convert_uint8\n",
    "from myst_nb import glue\n",
    "\n",
    "img1 = \"data/image/1_dev/converted/train/benign/347c2455-cb62-40f8-a173-9e4eb9a21902.png\"\n",
    "img2 = \"data/image/1_dev/converted/train/benign/4ed91643-1e06-4b2c-8efb-bc60dd9e0313.png\"\n",
    "img3 = \"data/image/1_dev/converted/train/malignant/7dcc12fd-88f0-4048-a6ab-5dd0bd836f08.png\"\n",
    "img4 = \"data/image/1_dev/converted/train/malignant/596ef5db-9610-4f13-9c1a-4c411b1d957c.png\"\n",
    "\n",
    "img1 = cv2.imread(img1, cv2.IMREAD_GRAYSCALE)\n",
    "img2 = cv2.imread(img2, cv2.IMREAD_GRAYSCALE)\n",
    "img3 = cv2.imread(img3, cv2.IMREAD_GRAYSCALE)\n",
    "img4 = cv2.imread(img4, cv2.IMREAD_GRAYSCALE)\n",
    "\n",
    "fig, axes = plt.subplots(nrows=1, ncols=4, figsize=(12,6))\n",
    "_ = axes[0].imshow(img1, cmap='gray', aspect='auto')\n",
    "_ = axes[1].imshow(img2, cmap='gray',aspect='auto')\n",
    "_ = axes[2].imshow(img3, cmap='gray',aspect='auto')\n",
    "_ = axes[3].imshow(img4, cmap='gray',aspect='auto')\n",
    "\n",
    "labels = np.array([\"(a)\", \"(b)\", \"(c)\", \"(d)\"])\n",
    "for i in range(4):\n",
    "    _ = axes[i].set_xlabel(labels[i])\n",
    "    _ = axes[i].set_xticks([])\n",
    "    _ = axes[i].set_yticks([])\n",
    "\n",
    "\n",
    "plt.tight_layout()\n",
    "\n",
    "glue(\"artifacts\", fig)"
   ]
  },
  {
   "cell_type": "markdown",
   "id": "75c0ff4a",
   "metadata": {},
   "source": [
    "```{glue:figure} artifacts\n",
    "---\n",
    "align: center\n",
    "name: artifacts_fig\n",
    "---\n",
    "Artifacts in Mammogram Images\n",
    "```\n",
    "\n",
    "The images in {numref}`artifacts_fig` are not edge cases. Text and such artifacts were extant in 79 out of 88 (~89%) randomly sampled images from the CBIS-DDSM dataset.\n",
    "\n",
    "Before modeling and inference can take place, the breast tissue must be isolated and segmented annotations, and any artifacts that may compromise the detection and classification of anomalies in the mammogram.\n",
    "\n",
    "In this section, we describe a two-step process for removing artifacts.\n",
    "\n",
    "1. **Thresholding**: Partition the original grayscale image a binary image with two regions: a foreground region containing the breast region of interest, and a background region, using thresholding and binarization.\n",
    "2. **Breast Segmentation**: From the binary image, detect the breast contours using a border following algorithm {cite}`suzukiTopologicalStructuralAnalysis1985` and segment the breast from artifacts."
   ]
  }
 ],
 "metadata": {
  "jupytext": {
   "text_representation": {
    "extension": ".md",
    "format_name": "myst",
    "format_version": 0.13,
    "jupytext_version": "1.15.1"
   }
  },
  "kernelspec": {
   "display_name": "bcd",
   "language": "python",
   "name": "python3"
  },
  "source_map": [
   12,
   19,
   58
  ]
 },
 "nbformat": 4,
 "nbformat_minor": 5
}