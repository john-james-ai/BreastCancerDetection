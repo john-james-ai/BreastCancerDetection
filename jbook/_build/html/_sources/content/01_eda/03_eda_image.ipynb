{
 "cells": [
  {
   "cell_type": "markdown",
   "id": "31743879",
   "metadata": {},
   "source": [
    "# Exploratory Data Analysis of Images"
   ]
  },
  {
   "cell_type": "markdown",
   "id": "4e1064ae",
   "metadata": {},
   "source": [
    "Image quality factors such as resolution, the presence of noise and artifacts, contrast, and size affect the visual information contained in mammography, and crucially determine the performance of deep learning classification models.\n",
    "\n",
    "In this section, we conduct an exploratory data analysis of the CBIS-DDSM full mammogram imaging data with several objectives in mind:\n",
    "\n",
    "1. Evaluate image quality in terms of noise, annotations, artifacts, and labeling that may negatively affect the classification task.\n",
    "2. Inspect the distribution of image resolution and aspect ratios.\n",
    "3. Examine pixel intensity distributions by class.\n",
    "4. Visually characterize image texture and contrast vis-a-vis case pathology, abnormality type, and morphology.\n",
    "\n",
    "This analysis is organized as follows:\n",
    "\n",
    "1. Overview: Describes how benign and malignant images are organized in the training and test sets.\n",
    "2. Resolution and Aspect Ratio: Analyze resolution and aspect ratios\n",
    "3. Pixel Value Distribution: Evaluate the distribution of pixel values between benign and malignant cases\n",
    "4. Image Quality Analysis: Visualize and assess image quality with respect to text, labels, and artifacts\n",
    "5. Calcification Case Analysis: Examine calcification case images for the various morphologies\n",
    "6. Mass Case Analysis: Review mass case images of various shapes and margins.\n",
    "7. Summary and Key Takeaways: Review key observations and takeaways."
   ]
  },
  {
   "cell_type": "code",
   "execution_count": null,
   "id": "877e85b7",
   "metadata": {
    "tags": [
     "hide-cell"
    ]
   },
   "outputs": [],
   "source": [
    "import os\n",
    "if 'jbook' in os.getcwd():\n",
    "    os.chdir(os.path.abspath(os.path.join(\"../../..\")))\n",
    "import warnings\n",
    "import numpy as np\n",
    "from myst_nb import glue\n",
    "from bcd.explore.image.eda_image import ImageExplorer\n",
    "warnings.filterwarnings(\"ignore\")"
   ]
  },
  {
   "cell_type": "markdown",
   "id": "a5c7e5d7",
   "metadata": {},
   "source": [
    "## Overview\n",
    "\n",
    "There are 3565 full mammogram images, not counting one for which the DICOM file was corrupt. {numref}`edai_stats_plot_fig` shows the number of images in the training and test sets by pathology."
   ]
  },
  {
   "cell_type": "code",
   "execution_count": null,
   "id": "dcc38ba0",
   "metadata": {
    "tags": [
     "hide-cell",
     "remove-output"
    ]
   },
   "outputs": [],
   "source": [
    "x = ImageExplorer()\n",
    "fig, stats = x.summary()\n",
    "glue(\"edai_stats_df\", stats)\n",
    "glue(\"edai_stats_plot\", fig)"
   ]
  },
  {
   "cell_type": "markdown",
   "id": "e711d3a4",
   "metadata": {},
   "source": [
    "```{glue:figure} edai_stats_plot\n",
    "---\n",
    "align: center\n",
    "name: edai_stats_plot_fig\n",
    "---\n",
    "Overview of CBIS-DDSM Training and Test Sets\n",
    "```\n",
    "\n",
    "```{glue:figure} edai_stats_df\n",
    "---\n",
    "align: center\n",
    "name: edai_stats_df_fig\n",
    "---\n",
    "CBIS-DDSM Training and Test Set Statistics\n",
    "```\n",
    "\n",
    "\n",
    "\n",
    "As shown in {numref}`edai_stats_plot_fig` and {numref}`edai_stats_df_fig`, we have a training test split of 80/20 where malignancy was found in approximately 40% of the cases.\n",
    "\n",
    "Class imbalance can lead to biased predictions. Augmenting the malignant class with various transformations will mitigate bias introduced by class imbalance."
   ]
  },
  {
   "cell_type": "markdown",
   "id": "5459d896",
   "metadata": {},
   "source": [
    "## Resolution and Aspect Ratio\n",
    "\n",
    "Optimal resolution is essential to distinguish malignancy in subtle radiological masses and calcifications. {numref}`edai_resolutions_plot_fig` illuminates the distribution of resolution in the CBIS-DDSM dataset."
   ]
  },
  {
   "cell_type": "code",
   "execution_count": null,
   "id": "455afab5",
   "metadata": {
    "tags": [
     "remove-output",
     "hide-cell"
    ]
   },
   "outputs": [],
   "source": [
    "fig, stats = x.analyze_resolution()\n",
    "\n",
    "glue(\"edai_resolutions_df\", stats)\n",
    "glue(\"edai_resolutions_plot\", fig)"
   ]
  },
  {
   "cell_type": "markdown",
   "id": "df6cadb5",
   "metadata": {},
   "source": [
    "```{glue:figure} edai_resolutions_plot\n",
    "---\n",
    "align: center\n",
    "name: edai_resolutions_plot_fig\n",
    "---\n",
    "Analysis of Image Resolution and Aspect Ratio\n",
    "```\n",
    "\n",
    "```{glue:figure} edai_resolutions_df\n",
    "---\n",
    "align: center\n",
    "name: edai_resolutions_df_fig\n",
    "---\n",
    "Descriptive Statistics for Resolution and Aspect Ratio\n",
    "```"
   ]
  },
  {
   "cell_type": "markdown",
   "id": "8082a102",
   "metadata": {},
   "source": [
    "{numref}`edai_resolutions_plot_fig` and {numref}`edai_resolutions_df_fig` indicate high-resolution images with heights ranging from 3256 to 7111 pixels and widths of 1531 to 5431 pixels. The mean aspect ratio is 0.6 and ranges from 0.3 to 0.83.\n",
    "\n",
    "Images will be resized to 256x256 for the convolutional neural network model. Generally, there are two approaches to resizing:\n",
    "\n",
    "- **Destructive Resizing**: The image is resized without retaining the original aspect ratio.\n",
    "- **Non-Destructive Resizing**: Images are resized with padding to retain the original aspect ratio.\n",
    "\n",
    "We will be experimenting with both methods to determine which results in higher classification accuracy, and recall."
   ]
  },
  {
   "cell_type": "markdown",
   "id": "58710aee",
   "metadata": {},
   "source": [
    "## Pixel Value Distribution\n",
    "\n",
    "Pixel intensity value is the property that defines the spatial characteristics of the breast and abnormalities in mammography. Here, we examine the centrality and variation (standard deviation) of pixel values for benign and malignant cases."
   ]
  },
  {
   "cell_type": "code",
   "execution_count": null,
   "id": "da90c2e7",
   "metadata": {
    "tags": [
     "remove-output",
     "hide-cell"
    ]
   },
   "outputs": [],
   "source": [
    "fig, stats = x.analyze_pixel_values()\n",
    "glue(\"edai_pixels_df\", stats)\n",
    "glue(\"edai_pixels_plot\", fig)"
   ]
  },
  {
   "cell_type": "markdown",
   "id": "ca0c2756",
   "metadata": {},
   "source": [
    "```{glue:figure} edai_pixels_plot\n",
    "---\n",
    "align: center\n",
    "name: edai_pixels_plot_fig\n",
    "---\n",
    "Analysis of Image Pixel Intensity Statistics\n",
    "```\n",
    "\n",
    "```{glue:figure} edai_pixels_df\n",
    "---\n",
    "align: center\n",
    "name: edai_pixels_df_fig\n",
    "---\n",
    "Descriptive Statistics for Average Image Pixel Intensity\n",
    "```"
   ]
  },
  {
   "cell_type": "markdown",
   "id": "80020b16",
   "metadata": {},
   "source": [
    "Several observations can be made based upon {numref}`edai_pixels_plot_fig` and {numref}`edai_pixels_df_fig`:\n",
    "\n",
    "1. Standard deviation and mean appear to be positively and linearly associated.\n",
    "2. Though from a statistical perspective, outliers are extant at 3 * the standard deviation from the average mean, the maximum values are approximately half of the maximum pixel value for 16-bit images.\n",
    "3. Malignant cases tend to have slightly higher averages and greater variation in pixel intensities.\n",
    "\n",
    "Is the difference in average mean pixel intensities between classes significant?"
   ]
  },
  {
   "cell_type": "code",
   "execution_count": null,
   "id": "bd465458",
   "metadata": {
    "tags": [
     "hide-cell"
    ]
   },
   "outputs": [],
   "source": [
    "# Create a lambda expression to filter the data\n",
    "cond_benign = lambda x: x['cancer'] == False\n",
    "cond_malignant = lambda x: x['cancer'] == True\n",
    "\n",
    "# Obtain the mean_pixel_values for each pathology\n",
    "benign_pixels_averages = x.get_data(x='mean_pixel_value', condition=cond_benign)\n",
    "malignant_pixels_averages = x.get_data(x='mean_pixel_value', condition=cond_malignant)\n",
    "\n",
    "benign_mean = np.mean(benign_pixels_averages)\n",
    "benign_std = np.std(benign_pixels_averages)\n",
    "malignant_mean = np.mean(malignant_pixels_averages)\n",
    "malignant_std = np.std(malignant_pixels_averages)\n",
    "\n",
    "# Conduct a Student's T-Test\n",
    "t, pvalue = x.test_centrality(a=benign_pixels_averages, b=malignant_pixels_averages, alternative='less')\n",
    "df = len(benign_pixels_averages) + len(malignant_pixels_averages) - 2\n",
    "\n",
    "glue(\"benign_mean\", benign_mean)\n",
    "glue(\"benign_std\", benign_std)\n",
    "glue(\"malignant_mean\", malignant_mean)\n",
    "glue(\"malignant_std\", malignant_std)\n",
    "glue(\"t_statistic\", t)\n",
    "glue(\"pvalue\", pvalue)\n",
    "glue(\"degrees_of_freedom\", df)"
   ]
  },
  {
   "cell_type": "markdown",
   "id": "4ca714c1",
   "metadata": {},
   "source": [
    "A student's t-test reveals that the average mean intensity values for the benign cases (M={glue:}`benign_mean`, SD={glue:}`benign_std`) were less than average mean pixel values for the malignant cases (M={glue:}`malignant_mean`, SD={glue:}`malignant_std`); t({glue:}`degrees_of_freedom`)={glue:}`t_statistic`, p < 0.01."
   ]
  },
  {
   "cell_type": "markdown",
   "id": "05adb443",
   "metadata": {
    "tags": [
     "remove-output"
    ]
   },
   "source": [
    "We've analyzed pixel values at the aggregate level, let's examine the pixel intensity distributions for a sampling of the images."
   ]
  },
  {
   "cell_type": "code",
   "execution_count": null,
   "id": "1df2a022",
   "metadata": {
    "tags": [
     "hide-cell",
     "remove-output"
    ]
   },
   "outputs": [],
   "source": [
    "title = f\"CBIS-DDSM\\nPixel Intensity Histograms\"\n",
    "fig = x.visualize(n=20, sort_by='cancer', histogram=True, title=title, random_state=5)\n",
    "\n",
    "glue(\"edai_histograms\", fig)"
   ]
  },
  {
   "cell_type": "markdown",
   "id": "f7a7bcc7",
   "metadata": {},
   "source": [
    "```{glue:figure} edai_histograms\n",
    "---\n",
    "align: center\n",
    "name: edai_histograms_fig\n",
    "---\n",
    "Pixel Intensity Histograms for Sample Mammograms\n",
    "```\n",
    "\n",
    "We've converted the 16-bit images to 8-bit unsigned grauyscale format so that the pixel values would be normalized between 0 and 255.\n",
    "\n",
    "{numref}`edai_histograms_fig` shows histograms dominated by a single peak near the black end of the spectrum, with barely discernable weaker peaks at various points within"
   ]
  },
  {
   "cell_type": "markdown",
   "id": "7682e454",
   "metadata": {},
   "source": [
    "## Image Quality Analysis\n",
    "\n",
    "Here, we examine the quality of the mammography in terms of artifacts, text, and other anomalies that may influence the classification task."
   ]
  },
  {
   "cell_type": "code",
   "execution_count": null,
   "id": "316d55ef",
   "metadata": {
    "tags": [
     "hide-cell",
     "remove-output"
    ]
   },
   "outputs": [],
   "source": [
    "fig = x.visualize(n=50, sort_by='cancer', random_state=5)\n",
    "glue(\"edai_dqa\", fig)"
   ]
  },
  {
   "cell_type": "markdown",
   "id": "19df706a",
   "metadata": {},
   "source": [
    "```{glue:figure} edai_dqa\n",
    "---\n",
    "align: center\n",
    "name: edai_dqa_fig\n",
    "---\n",
    "Pixel Intensity Histograms for Sample Mammograms\n",
    "```\n",
    "\n",
    "{numref}`edai_dqa_fig` shows a random sampling of 50 mammogram images from the CBIS-DDSM. We make note of the following:\n",
    "\n",
    "1. Artifacts and/or lines were found in 44 out of 50 (88%) images.\n",
    "2. Pectoral muscle, evident in 19 (38%) of the images in the sample, has similar density and pixel intensity values as the dense tissues of interest. Image preprocessing must identify and remove both artifacts and pectoral muscles from the images.\n",
    "3. The first three rows contain mammograms showing benign diagnoses and the last two rows show malignancies. Generally, malignancies are characterized by high density and high contrast in the regions of interest.\n",
    "4. Contrast enhancement must be incorporated into the preprocessing workflow to ensure that more subtle features can be distinguished by the network."
   ]
  },
  {
   "cell_type": "markdown",
   "id": "8e11b3ef",
   "metadata": {},
   "source": [
    "## Calcification Case Analysis\n",
    "\n",
    "A calcification is a calcium deposit that develops in the breast. They usually appear as white, opaque markings on mammograms. Diagnosing breast calcifications involves analyzing the morphology and distribution of calcifications. Here, we examine the most common calcification morphologies and distributions in the CBIS-DDSM dataset."
   ]
  },
  {
   "cell_type": "markdown",
   "id": "72b34f07",
   "metadata": {
    "tags": [
     "hide-cell"
    ]
   },
   "source": [
    "### Calcification Morphology\n",
    "\n",
    "Morphology defines the form of calcifications.  It is the most important factor in differentiating between benign and malignant calcifications. Here, we examine the most common calcification morphologies {numref}`calcification_morphologies` in the CBIS-DDSM dataset.\n",
    "\n",
    "```{table} Calcification Morphologies\n",
    ":name: calcification_morphologies\n",
    "\n",
    "| Morphology            | BI-RADS   Assessment                                   |\n",
    "|-----------------------|--------------------------------------------------------|\n",
    "| Lucent Centered       | BI-RADS 2 - Benign                                     |\n",
    "| Punctate              | BI-RADS 2,3,4 - Benign / Probably   Benign / Suspicious |\n",
    "| Pleomorphic           | BI-RADS 4 - Suspicious                                  |\n",
    "| Amorphous             | BI-RADS 4 - Suspicious                                  |\n",
    "| Fine Linear Branching | BI-RADS 4C - Highly Suspicious                         |\n",
    "```"
   ]
  },
  {
   "cell_type": "markdown",
   "id": "8e8db6b5",
   "metadata": {},
   "source": [
    "#### Lucent-Centered\n",
    "\n",
    "Lucent-Centered calcifications are round or oval, ranging from 1mm to over a centimeter. They are the result of fat necrosis, calcified debris in ducts, and occasional fibroadenomas. Lucent-centered calcifications are assessed as BI-RADS 2 – Benign {cite}`smithuisRadiologyAssistantDifferential`."
   ]
  },
  {
   "cell_type": "code",
   "execution_count": null,
   "id": "5b178380",
   "metadata": {
    "tags": [
     "hide-cell",
     "remove-output"
    ]
   },
   "outputs": [],
   "source": [
    "title = f\"CBIS-DDSM\\nCalcification Cases - Lucent Centered Calcification Type\"\n",
    "cond = lambda x: x['calc_type'].isin(['LUCENT_CENTERED', 'LUCENT_CENTERED_PUNCTATE'])\n",
    "fig = x.visualize(n=20, condition=cond, sort_by=['cancer'], title=title, random_state=20)\n",
    "glue(\"edai_lucent\", fig)"
   ]
  },
  {
   "cell_type": "markdown",
   "id": "f23bc354",
   "metadata": {},
   "source": [
    "```{glue:figure} edai_lucent\n",
    "---\n",
    "align: center\n",
    "name: edai_lucent_fig\n",
    "---\n",
    "Calcification Cases Lucent-Centered Calcification Type\n",
    "```\n",
    "\n",
    "{numref}`edai_lucent_fig` displays sample calcification cases with lucent-centered calcifications.\n",
    "\n",
    "#### Punctate\n",
    "\n",
    "Punctate morphology refers to round calcifications smaller than 0.5mm that frequently form in the acini of the terminal duct lobular unit. Round and punctate calcifications are classified as:\n",
    "\n",
    "- BI-RADS 2: when scattered round calcifications\n",
    "- BI-RADS 3 or 4: when in an isolated cluster"
   ]
  },
  {
   "cell_type": "code",
   "execution_count": null,
   "id": "ce20a1b2",
   "metadata": {
    "tags": [
     "hide-cell",
     "remove-output"
    ]
   },
   "outputs": [],
   "source": [
    "title = f\"CBIS-DDSM\\nCalcification Cases - Punctate Calcification Type\"\n",
    "cond = lambda x: x['calc_type'] == 'PUNCTATE'\n",
    "fig = x.visualize(n=20, condition=cond, sort_by=['cancer'], title=title, random_state=20)\n",
    "glue(\"edai_punctate\", fig)"
   ]
  },
  {
   "cell_type": "markdown",
   "id": "94e48d33",
   "metadata": {},
   "source": [
    "```{glue:figure} edai_punctate\n",
    "---\n",
    "align: center\n",
    "name: edai_punctate_fig\n",
    "---\n",
    "Calcification Cases Punctate Calcification Type\n",
    "```\n",
    "\n",
    "{numref}`edai_punctate_fig` shows calcification cases with punctate calcifications.\n",
    "\n",
    "#### Pleomorphic\n",
    "\n",
    "Pleomorphic calcifications vary in size and shape but are usually smaller than 0.5 mm in diameter. They represent a 25%-40% chance of malignancy."
   ]
  },
  {
   "cell_type": "code",
   "execution_count": null,
   "id": "ccbffa98",
   "metadata": {
    "tags": [
     "hide-cell",
     "remove-output"
    ]
   },
   "outputs": [],
   "source": [
    "title = f\"CBIS-DDSM\\nCalcification Cases - Pleomorphic Calcification Type\"\n",
    "cond = lambda x: x['calc_type'] == 'PLEOMORPHIC'\n",
    "fig = x.visualize(n=20, condition=cond, sort_by=['cancer'], title=title, random_state=20)\n",
    "glue(\"edai_pleomorphic\", fig)"
   ]
  },
  {
   "cell_type": "markdown",
   "id": "492fc05f",
   "metadata": {},
   "source": [
    "```{glue:figure} edai_pleomorphic\n",
    "---\n",
    "align: center\n",
    "name: edai_pleomorphic_fig\n",
    "---\n",
    "Calcification Cases Pleomorphic Calcification Type\n",
    "```\n",
    "\n",
    "{numref}`edai_pleomorphic_fig` shows calcification cases with pleomorphic calcifications.\n",
    "\n",
    "#### Amorphous\n",
    "\n",
    "Amorphous calcifications are defined as ‘without clearly defined shape or form’. They are typically small and/or hazy in appearance. The majority of cases are benign (60%), with the remainder of cases presenting as high-risk (20%) or malignant (20%) {cite}`smithuisRadiologyAssistantDifferential`."
   ]
  },
  {
   "cell_type": "code",
   "execution_count": null,
   "id": "2a248349",
   "metadata": {
    "tags": [
     "hide-cell",
     "remove-output"
    ]
   },
   "outputs": [],
   "source": [
    "title = f\"CBIS-DDSM\\nCalcification Cases - Amorphous\"\n",
    "cond = lambda x: x['calc_type'] == 'AMORPHOUS'\n",
    "fig = x.visualize(n=20, condition=cond, sort_by=['cancer'], title=title, random_state=20)\n",
    "glue(\"edai_amorphous\", fig)"
   ]
  },
  {
   "cell_type": "markdown",
   "id": "c6ae1480",
   "metadata": {},
   "source": [
    "```{glue:figure} edai_amorphous\n",
    "---\n",
    "align: center\n",
    "name: edai_amorphous_fig\n",
    "---\n",
    "Calcification Cases Amorphous Calcification Type\n",
    "```\n",
    "\n",
    "{numref}`edai_amorphous_fig` shows calcification cases with amorphous calcifications.\n",
    "\n",
    "#### Fine Linear Branching\n",
    "\n",
    "These are thin, irregular, linear, or curvilinear calcifications and are highly suspicious (BI-RADS-4C)."
   ]
  },
  {
   "cell_type": "code",
   "execution_count": null,
   "id": "13315dad",
   "metadata": {
    "tags": [
     "hide-cell",
     "remove-output"
    ]
   },
   "outputs": [],
   "source": [
    "title = f\"CBIS-DDSM\\nCalcification Cases - Fine Linear Branching\"\n",
    "cond = lambda x: x['calc_type'] == 'FINE_LINEAR_BRANCHING'\n",
    "fig = x.visualize(n=20, condition=cond, sort_by=['cancer'], title=title, random_state=20)\n",
    "glue(\"edai_flb\", fig)"
   ]
  },
  {
   "cell_type": "markdown",
   "id": "2247aa6d",
   "metadata": {},
   "source": [
    "```{glue:figure} edai_flb\n",
    "---\n",
    "align: center\n",
    "name: edai_flb_fig\n",
    "---\n",
    "Calcification Cases Fine Linear Branching Calcification Type\n",
    "```\n",
    "\n",
    "{numref}`edai_flb_fig` shows calcification cases with fine linear branching calcifications.\n",
    "\n",
    "### Calcification Distribution\n",
    "\n",
    "Calcification Distribution can be described as how an abnormality spatially presents within the breast tissue. We will be analyzing the following five calcification distributions in {numref}`calcification_distributions`.\n",
    "\n",
    "```{table} Calcification Distributions\n",
    ":name: calcification_distributions\n",
    "| Distribution        | BI-RADS Assessment                                    |\n",
    "|---------------------|-------------------------------------------------------|\n",
    "| Clustered           | BI-RADS - 2,3,4 - Benign/Probably Benign / Suspicious |\n",
    "| Linear | BI-RADS - 2,3,4 - Benign/Probably Benign / Suspicious |\n",
    "| Diffusely Scattered | BI-RADS 2 - Benign                                    |\n",
    "| Regional            | BI-RADS 3 - Probably Benign                           |\n",
    "| Segmental           | BI-RADS 4,5 - Suspicious / Highly Suspicious          |\n",
    "```"
   ]
  },
  {
   "cell_type": "markdown",
   "id": "a14262c6",
   "metadata": {},
   "source": [
    "#### Clustered\n",
    "\n",
    "Clustered distribution describes at least 5 calcifications that occupy a small volume of tissue.  These calcifications are seen in benign and malignant pathologies and are of intermediate concern. Clusters that are scattered throughout the breast indicate in favor of a benign entity; whereas, a single cluster is highly suggestive of malignancy."
   ]
  },
  {
   "cell_type": "code",
   "execution_count": null,
   "id": "e62366dd",
   "metadata": {
    "tags": [
     "hide-cell",
     "remove-output"
    ]
   },
   "outputs": [],
   "source": [
    "title = f\"CBIS-DDSM\\nCalcification Cases - Clustered\"\n",
    "cond = lambda x: x['calc_distribution'] == 'CLUSTERED'\n",
    "fig = x.visualize(n=20, condition=cond, sort_by=['cancer'], title=title, random_state=20)\n",
    "glue(\"edai_clustered\", fig)"
   ]
  },
  {
   "cell_type": "markdown",
   "id": "1fc4dfa3",
   "metadata": {},
   "source": [
    "```{glue:figure} edai_clustered\n",
    "---\n",
    "align: center\n",
    "name: edai_clustered_fig\n",
    "---\n",
    "Calcification Cases Clustered Calcification Distribution\n",
    "```\n",
    "\n",
    "{numref}`edai_clustered_fig` shows calcification cases with clustered calcifications.\n",
    "\n",
    "#### Linear\n",
    "\n",
    "Linear calcifications, as the name suggests, appear in a linear fashion in the breast. This distribution can indicate benign, probably benign, or suspicious. Benign linear calcifications include vascular calcifications, one of the most common findings encountered in mammography. Linear branching calcifications that follow a ductal distribution are associated with ductal carcinoma in situ (DCIS) and invasive ductal carcinoma and are highly suspicious. They have a more delicate appearance and show a finer more interrupted dot-dash pattern {cite}`laiLinearBreastCalcifications2012`."
   ]
  },
  {
   "cell_type": "code",
   "execution_count": null,
   "id": "2ed91512",
   "metadata": {
    "tags": [
     "hide-cell",
     "remove-output"
    ]
   },
   "outputs": [],
   "source": [
    "title = f\"CBIS-DDSM\\nCalcification Cases - Linear\"\n",
    "cond = lambda x: x['calc_distribution'] == 'LINEAR'\n",
    "fig = x.visualize(n=20, condition=cond, sort_by=['cancer'], title=title, random_state=20)\n",
    "glue(\"edai_linear\", fig)"
   ]
  },
  {
   "cell_type": "markdown",
   "id": "74f5e823",
   "metadata": {},
   "source": [
    "```{glue:figure} edai_linear\n",
    "---\n",
    "align: center\n",
    "name: edai_linear_fig\n",
    "---\n",
    "Calcification Cases Linear Calcification Distribution\n",
    "```\n",
    "\n",
    "{numref}`edai_linear_fig` shows calcification cases with linear calcifications.\n",
    "\n",
    "#### Diffusely Scattered\n",
    "\n",
    "Diffuse scattered calcifications appear as calcifications or clusters of calcifications throughout the breast. These are typically diagnosed as benign."
   ]
  },
  {
   "cell_type": "code",
   "execution_count": null,
   "id": "ce81b6c9",
   "metadata": {
    "tags": [
     "hide-cell",
     "remove-output"
    ]
   },
   "outputs": [],
   "source": [
    "title = f\"CBIS-DDSM\\nCalcification Cases - Diffusely Scattered\"\n",
    "cond = lambda x: x['calc_distribution'] == 'DIFFUSELY_SCATTERED'\n",
    "fig = x.visualize(n=20, condition=cond, sort_by=['cancer'], title=title, random_state=20)\n",
    "glue(\"edai_ds\", fig)"
   ]
  },
  {
   "cell_type": "markdown",
   "id": "2ad58732",
   "metadata": {},
   "source": [
    "```{glue:figure} edai_ds\n",
    "---\n",
    "align: center\n",
    "name: edai_ds_fig\n",
    "---\n",
    "Calcification Cases Diffusely Scattered Calcification Distribution\n",
    "```\n",
    "\n",
    "#### Regional\n",
    "\n",
    "Regional calcifications are scattered in a large volume (>2 cc) of breast tissue and are typically seen as benign."
   ]
  },
  {
   "cell_type": "code",
   "execution_count": null,
   "id": "15caa519",
   "metadata": {
    "tags": [
     "hide-cell",
     "remove-output"
    ]
   },
   "outputs": [],
   "source": [
    "title = f\"CBIS-DDSM\\nCalcification Cases - Regional\"\n",
    "cond = lambda x: x['calc_distribution'] == 'REGIONAL'\n",
    "fig = x.visualize(n=20, condition=cond, sort_by=['cancer'], title=title, random_state=20)\n",
    "glue(\"edai_regional\", fig)"
   ]
  },
  {
   "cell_type": "markdown",
   "id": "c582a061",
   "metadata": {},
   "source": [
    "```{glue:figure} edai_regional\n",
    "---\n",
    "align: center\n",
    "name: edai_regional_fig\n",
    "---\n",
    "Calcification Cases Regional Calcification Distribution\n",
    "```\n",
    "\n",
    "{numref}`edai_regional_fig` shows calcification cases with regional calcifications.\n",
    "\n",
    "#### Segmental\n",
    "\n",
    "Segmental calcifications are calcium deposits that follow the expected distribution of one or more ducts and their branches. They can have a branching appearance or cover a triangular region, with the most acute angle pointing to the nipple. Whereas segmental calcifications often can be characterized as benign, microcalcifications following a segmental distribution are often suspicious for malignancy because of their anatomic relationship with the ductal system {cite}`chenSegmentalBreastCalcifications2012`."
   ]
  },
  {
   "cell_type": "code",
   "execution_count": null,
   "id": "56c337d8",
   "metadata": {
    "tags": [
     "hide-cell",
     "remove-output"
    ]
   },
   "outputs": [],
   "source": [
    "title = f\"CBIS-DDSM\\nCalcification Cases - Segmental\"\n",
    "cond = lambda x: x['calc_distribution'] == 'SEGMENTAL'\n",
    "fig = x.visualize(n=20, condition=cond, sort_by=['cancer'], title=title, random_state=20)\n",
    "glue(\"edai_segmental\", fig)"
   ]
  },
  {
   "cell_type": "markdown",
   "id": "5b34f686",
   "metadata": {},
   "source": [
    "```{glue:figure} edai_segmental\n",
    "---\n",
    "align: center\n",
    "name: edai_segmental_fig\n",
    "---\n",
    "Calcification Cases Segmental Calcification Distribution\n",
    "```\n",
    "\n",
    "{numref}`edai_segmental_fig` shows calcification cases with segmental calcifications.\n",
    "\n",
    "This concludes our analysis of calcification cases. Next we examine mass cases and their shapes and margins.\n",
    "\n",
    "## Mass Case Analysis\n",
    "\n",
    "Breast masses, usually non-cancerous, are three-dimensional, space-occupying lesions found in the breast in two different mammograms. The BI-RADS {cite}`americancollegeofradiologyACRBIRADSAtlas2013` lexicon describes masses in terms of their shape and margin. In this section, we visually examine the mass cases in terms of their shape and margin characteristics."
   ]
  },
  {
   "cell_type": "markdown",
   "id": "38fb2875",
   "metadata": {},
   "source": [
    "### Mass Shape Analysis\n",
    "\n",
    "Masses can present in a variety of shapes, the most common are listed in  {numref}`mass_shapes`:\n",
    "\n",
    "```{table} Mass Shapes\n",
    ":name: mass_shapes\n",
    "| Shape     | BI-RADS Assessment           |\n",
    "|-----------|------------------------------|\n",
    "| Round     | BI-RADS 3 - Probably Benign  |\n",
    "| Oval      | BI-RADS 3 - Probably Benign  |\n",
    "| Lobulated | BI-RADS 3 - Probably Benign  |\n",
    "| Irregular | BI-RADS 5 - Highly Suspicious |\n",
    "```"
   ]
  },
  {
   "cell_type": "markdown",
   "id": "291a6662",
   "metadata": {},
   "source": [
    "#### Round Masses\n",
    "\n",
    "A round mass is spherical, ball-shaped, or circular. Though a well-demarcated cancer may be round, round masses are usually non-cancerous."
   ]
  },
  {
   "cell_type": "code",
   "execution_count": null,
   "id": "177134b0",
   "metadata": {
    "tags": [
     "hide-cell",
     "remove-output"
    ]
   },
   "outputs": [],
   "source": [
    "title = f\"CBIS-DDSM\\nMass Cases - Round\"\n",
    "cond = lambda x: x['mass_shape'] == 'ROUND'\n",
    "fig = x.visualize(n=20, condition=cond, sort_by=['cancer'], title=title, random_state=20)\n",
    "glue(\"edai_round\", fig)"
   ]
  },
  {
   "cell_type": "markdown",
   "id": "ecd6dcd7",
   "metadata": {},
   "source": [
    "```{glue:figure} edai_round\n",
    "---\n",
    "align: center\n",
    "name: edai_round_fig\n",
    "---\n",
    "Mass Cases Round Mass Shape\n",
    "```\n",
    "\n",
    "{numref}`edai_round_fig` shows round mass cases.\n",
    "\n",
    "#### Oval Masses\n",
    "\n",
    "An oval mass is elliptical or egg-shaped and is usually suggestive of a benign lesion."
   ]
  },
  {
   "cell_type": "code",
   "execution_count": null,
   "id": "7e339e64",
   "metadata": {
    "tags": [
     "hide-cell",
     "remove-output"
    ]
   },
   "outputs": [],
   "source": [
    "title = f\"CBIS-DDSM\\nMass Cases - Oval\"\n",
    "cond = lambda x: x['mass_shape'] == 'OVAL'\n",
    "fig = x.visualize(n=20, condition=cond, sort_by=['cancer'], title=title, random_state=20)"
   ]
  },
  {
   "cell_type": "markdown",
   "id": "b104e2b6",
   "metadata": {},
   "source": [
    "#### Lobulated Masses\n",
    "\n",
    "A lobulated mass has an undulating or scalloped contour and is usually suggestive of a benign lesion."
   ]
  },
  {
   "cell_type": "code",
   "execution_count": null,
   "id": "64910fd9",
   "metadata": {
    "tags": [
     "hide-cell",
     "remove-output"
    ]
   },
   "outputs": [],
   "source": [
    "title = f\"CBIS-DDSM\\nMass Cases - Lobulated\"\n",
    "cond = lambda x: x['mass_shape'] == 'LOBULATED'\n",
    "fig = x.visualize(n=20, condition=cond, sort_by=['cancer'], title=title, random_state=20)\n",
    "glue(\"edai_oval\", fig)"
   ]
  },
  {
   "cell_type": "markdown",
   "id": "dd34097d",
   "metadata": {},
   "source": [
    "```{glue:figure} edai_oval\n",
    "---\n",
    "align: center\n",
    "name: edai_oval_fig\n",
    "---\n",
    "Mass Cases Oval Mass Shape\n",
    "```\n",
    "\n",
    "{numref}`edai_oval_fig` shows oval mass cases.\n",
    "\n",
    "#### Irregular\n",
    "\n",
    "An irregular mass is uneven in shape and cannot be characterized as round, oval, or lobulated {cite}`americancollegeofradiologyACRBIRADSAtlas2013`."
   ]
  },
  {
   "cell_type": "code",
   "execution_count": null,
   "id": "cdd45798",
   "metadata": {
    "tags": [
     "hide-cell",
     "remove-output"
    ]
   },
   "outputs": [],
   "source": [
    "title = f\"CBIS-DDSM\\nMass Cases - Irregular\"\n",
    "cond = lambda x: x['mass_shape'] == 'IRREGULAR'\n",
    "fig = x.visualize(n=20, condition=cond, sort_by=['cancer'], title=title, random_state=20)\n",
    "glue(\"edai_irregular\", fig)"
   ]
  },
  {
   "cell_type": "markdown",
   "id": "0b3be78d",
   "metadata": {},
   "source": [
    "```{glue:figure} edai_irregular\n",
    "---\n",
    "align: center\n",
    "name: edai_irregular_fig\n",
    "---\n",
    "Mass Cases Irregular Mass Shape\n",
    "```\n",
    "\n",
    "{numref}`edai_irregular_fig` shows masses with irregular shapes."
   ]
  },
  {
   "cell_type": "markdown",
   "id": "f4d8f54e",
   "metadata": {},
   "source": [
    "### Mass Margin Analysis\n",
    "\n",
    "The mass margin is the edge or border of the lesion and indicates a demarcation from the adjacent normal breast parenchyma. Mass margin is an important predictor of whether a mass is benign or malignant.\n",
    "\n",
    "Our visualization analysis will include the following five mass margins defined in the standard BI-RADS terminology.\n",
    "\n",
    "```{table} Mass Margins\n",
    ":name: mass_margins\n",
    "| Margin         | BI-RADS Assessment            |\n",
    "|----------------|-------------------------------|\n",
    "| Circumscribed  | BI-RADS 3 - Probably Benign   |\n",
    "| Ill-Defined    | BI-RADS 4 - Suspicious        |\n",
    "| Microlobulated | BI-RADS 4 - Suspicious        |\n",
    "| Spiculated     | BI-RADS 5 - Highly Suspicious |\n",
    "| Obscured       | N/A                           |\n",
    "```"
   ]
  },
  {
   "cell_type": "markdown",
   "id": "e3a69c57",
   "metadata": {},
   "source": [
    "#### Circumscribed\n",
    "\n",
    "A circumscribed margin is sharply demarcated with an abrupt transition between the lesion and the surrounding tissue. At least 75% of the margin must be well-defined for a mass to qualify as circumscribed. A circumscribed margin is most likely a feature of a probably benign lesion."
   ]
  },
  {
   "cell_type": "code",
   "execution_count": null,
   "id": "bb37d37b",
   "metadata": {
    "tags": [
     "hide-cell",
     "remove-output"
    ]
   },
   "outputs": [],
   "source": [
    "title = f\"CBIS-DDSM\\nMass Cases - Circumscribed\"\n",
    "cond = lambda x: x['mass_margins'] == 'CIRCUMSCRIBED'\n",
    "fig = x.visualize(n=20, condition=cond, sort_by=['cancer'], title=title, random_state=20)"
   ]
  },
  {
   "cell_type": "markdown",
   "id": "a24cd5e8",
   "metadata": {},
   "source": [
    "#### Ill-Defined\n",
    "\n",
    "Ill-defined or indistinct margins have no clear demarcation of the entire margin, or any portion of the margin, from the surrounding tissue.  An ill-defined margin is usually assessed as suspicious."
   ]
  },
  {
   "cell_type": "code",
   "execution_count": null,
   "id": "c4c8416d",
   "metadata": {
    "tags": [
     "hide-cell",
     "remove-output"
    ]
   },
   "outputs": [],
   "source": [
    "title = f\"CBIS-DDSM\\nMass Cases - Ill-Defined\"\n",
    "cond = lambda x: x['mass_margins'] == 'ILL_DEFINED'\n",
    "fig = x.visualize(n=20, condition=cond, sort_by=['cancer'], title=title, random_state=20)\n",
    "glue(\"edai_ill-defined\", fig)"
   ]
  },
  {
   "cell_type": "markdown",
   "id": "813622f5",
   "metadata": {},
   "source": [
    "```{glue:figure} edai_ill-defined\n",
    "---\n",
    "align: center\n",
    "name: edai_ill-defined_fig\n",
    "---\n",
    "Mass Cases Ill-Defined Mass Margin\n",
    "```\n",
    "\n",
    "{numref}`edai_ill-defined_fig` shows masses with ill-defined margins.\n",
    "\n",
    "#### Microlobulated\n",
    "\n",
    "Microlobulated masses have undulating, lobulated margins and measure only several millimeters or smaller. They are suspicious of malignancy and suspicion increases with the number of lobulations."
   ]
  },
  {
   "cell_type": "code",
   "execution_count": null,
   "id": "0657038d",
   "metadata": {
    "tags": [
     "hide-cell",
     "remove-output"
    ]
   },
   "outputs": [],
   "source": [
    "title = f\"CBIS-DDSM\\nMass Cases - Microlobulated\"\n",
    "cond = lambda x: x['mass_margins'] == 'MICROLOBULATED'\n",
    "fig = x.visualize(n=20, condition=cond, sort_by=['cancer'], title=title, random_state=20)\n",
    "glue(\"edai_microlobulated\", fig)"
   ]
  },
  {
   "cell_type": "markdown",
   "id": "1881f711",
   "metadata": {},
   "source": [
    "```{glue:figure} edai_microlobulated\n",
    "---\n",
    "align: center\n",
    "name: edai_microlobulated_fig\n",
    "---\n",
    "Mass Cases Microlobulated Mass Margin\n",
    "```\n",
    "\n",
    "{numref}`edai_microlobulated_fig` shows masses with microlobulated margins.\n",
    "\n",
    "#### Spiculated\n",
    "\n",
    "A spiculated margin is dense, irregular, and characterized by lines of varying lengths and thickness radiating from the margins of the mass. They are considered virtually pathognomonic of breast cancer because very few benign lesions produce such an appearance.\n",
    "\n",
    "In low-density breasts, spiculated masses can be easily visible; however, they become less conspicuous with increasing breast density."
   ]
  },
  {
   "cell_type": "code",
   "execution_count": null,
   "id": "b72822e3",
   "metadata": {
    "tags": [
     "hide-cell",
     "remove-output"
    ]
   },
   "outputs": [],
   "source": [
    "title = f\"CBIS-DDSM\\nMass Cases - Spiculated\"\n",
    "cond = lambda x: x['mass_margins'] == 'SPICULATED'\n",
    "fig = x.visualize(n=20, condition=cond, sort_by=['cancer'], title=title, random_state=20)\n",
    "glue(\"edai_spiculated\", fig)"
   ]
  },
  {
   "cell_type": "markdown",
   "id": "d44eed32",
   "metadata": {},
   "source": [
    "```{glue:figure} edai_spiculated\n",
    "---\n",
    "align: center\n",
    "name: edai_spiculated_fig\n",
    "---\n",
    "Mass Cases Spiculated Mass Margin\n",
    "```\n",
    "\n",
    "{numref}`edai_spiculated_fig` shows masses with spiculated margins.\n",
    "\n",
    "#### Obscured\n",
    "\n",
    "An obscured margin is greater than 25% hidden by superimposed or adjacent fibroglandular tissue. Further imaging may be required in such cases, to render an assessment."
   ]
  },
  {
   "cell_type": "code",
   "execution_count": null,
   "id": "8b46dd4a",
   "metadata": {
    "tags": [
     "hide-cell",
     "remove-output"
    ]
   },
   "outputs": [],
   "source": [
    "title = f\"CBIS-DDSM\\nMass Cases - Obscured\"\n",
    "cond = lambda x: x['mass_margins'] == 'OBSCURED'\n",
    "fig = x.visualize(n=20, condition=cond, sort_by=['cancer'], title=title, random_state=20)\n",
    "glue(\"edai_obscured\", fig)"
   ]
  },
  {
   "cell_type": "markdown",
   "id": "8bb61ec5",
   "metadata": {},
   "source": [
    "```{glue:figure} edai_obscured\n",
    "---\n",
    "align: center\n",
    "name: edai_obscured_fig\n",
    "---\n",
    "Mass Cases Obscured Mass Margin\n",
    "```\n",
    "\n",
    "{numref}`edai_obscured_fig` shows masses with obscured margins."
   ]
  },
  {
   "cell_type": "markdown",
   "id": "8a874f94",
   "metadata": {},
   "source": [
    "## Summary and Key Takeaways\n",
    "\n",
    "The purpose of this section was to conduct an exploratory data analysis of the CBIS-DDSM full mammogram imaging data. We evaluated image quality in terms of annotations, artifacts, and labeling in the dataset, inspected image resolutions, analyzed the distribution of pixel intensities vis-a-vis pathology, and visually characterized image texture and contrast for masses and calcifications.\n",
    "\n",
    "From this analysis, several key takeaways emerged:\n",
    "\n",
    "1. Of the 3565 cases, approximately 40% of the training and test cases are malignant. Class imbalance can lead to biased predictions and degraded classification performance. Image augmentation techniques should be employed to mitigate bias introduced by class imbalance.\n",
    "2. Approximately 88% of the samples we examined had labeling, lines, and artifacts that must be removed during image preprocessing.\n",
    "3. Pectoral muscle, found in approximately 38% of the images sampled, shares some of the same visual characteristics of the dense region of interest and may compromise the classification performance of the convolutional neural network. Pectoral muscle removal will be an essential tasks in the image preprocessing workflow.\n",
    "4. An analysis of pixel intensities revealed that the average pixel values for malignant cases (M=14,025.57, SD=4620.74) was greater than that of the benign cases (M=12,762.52, SD=4,436.66). A student's t-test indicated the statistical significance (t(3563)=-8.15, p < 0.01) of this result.\n",
    "5. The CBIS-DDSM is comprised of high-resolution 16-bit images with aspect ratios ranging from 0.3 to 0.83. These images will be downsized to 256 x 256 pixels. Experimentation will determine whether to perform destructive resizing that changes the aspect ratio, or padded resizing in which the original aspect ratio is retained.\n",
    "6. Contrast enhancement must be encorporated into the preprocessing workflow to ensure that subtle masses and calcifications can be effectively distinguished from surrounding breast tissue as benign or malignant.\n",
    "\n",
    "This concludes the exploratory data analysis of the CBIS-DDSM dataset. In this next section, we will build a modularized preprocessing module for denoising, artifact and pectoral removal,  contrast enhancement, and resizing."
   ]
  }
 ],
 "metadata": {
  "jupytext": {
   "text_representation": {
    "extension": ".md",
    "format_name": "myst",
    "format_version": 0.13,
    "jupytext_version": "1.15.1"
   }
  },
  "kernelspec": {
   "display_name": "bcd",
   "language": "python",
   "name": "python3"
  },
  "source_map": [
   12,
   16,
   39,
   50,
   56,
   63,
   87,
   93,
   100,
   118,
   129,
   135,
   141,
   159,
   169,
   195,
   199,
   203,
   210,
   224,
   230,
   235,
   252,
   258,
   276,
   284,
   291,
   310,
   317,
   333,
   340,
   356,
   363,
   379,
   386,
   413,
   419,
   426,
   442,
   449,
   465,
   472,
   486,
   493,
   509,
   516,
   534,
   550,
   556,
   563,
   579,
   585,
   591,
   598,
   614,
   621,
   633,
   652,
   658,
   664,
   670,
   677,
   693,
   700,
   718,
   725,
   741,
   748,
   760
  ]
 },
 "nbformat": 4,
 "nbformat_minor": 5
}