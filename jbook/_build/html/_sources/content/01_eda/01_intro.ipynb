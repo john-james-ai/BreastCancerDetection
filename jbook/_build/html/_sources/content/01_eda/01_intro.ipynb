{
 "cells": [
  {
   "cell_type": "markdown",
   "id": "befe317c",
   "metadata": {},
   "source": [
    "# EDA Part 1: Introduction\n",
    "\n",
    "In this section, we conduct an exploratory data analysis of the CBIS-DDSM dataset with several goals in mind:\n",
    "\n",
    "1. Maximize insight into the data and the factors that influence screening results in the CBIS-DDSM dataset.\n",
    "2. Assess the quality of the digital mammography in the CBIS-DDSM dataset.\n",
    "3. Select optimal methods and parameters for preprocessing tasks such as denoising and artifact removal.\n",
    "\n",
    "The exploratory data analysis is structured as follows:\n",
    "\n",
    "{numref}`eda2` describes the structure and organization of the CBIS-DDSM dataset. {numref}`eda2` prepares the case and DICOM data for the analysis effort. {numref}`eda4` explores the case metadata for insights into screening and diagnosis of calcification and mass abnormalities in the dataset. {numref}`eda5` examines the quality and characteristics of the CBIS-DDSM images vis-à-vis abnormality type and morphological features of calcifications and masses. Finally, {numref}`eda6` evaluates methods and optimal parameter settings for preprocessing tasks such as denoising and artifact removal."
   ]
  }
 ],
 "metadata": {
  "jupytext": {
   "text_representation": {
    "extension": ".md",
    "format_name": "myst",
    "format_version": 0.13,
    "jupytext_version": "1.15.1"
   }
  },
  "kernelspec": {
   "display_name": "Python 3",
   "language": "python",
   "name": "python3"
  },
  "source_map": [
   12
  ]
 },
 "nbformat": 4,
 "nbformat_minor": 5
}