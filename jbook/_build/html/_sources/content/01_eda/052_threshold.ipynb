{
 "cells": [
  {
   "cell_type": "markdown",
   "id": "69719bf4",
   "metadata": {},
   "source": [
    "(eda52)=\n",
    "# Thresholding"
   ]
  },
  {
   "cell_type": "code",
   "execution_count": null,
   "id": "b408460e",
   "metadata": {
    "tags": [
     "remove-input"
    ]
   },
   "outputs": [],
   "source": [
    "import os\n",
    "if 'jbook' in os.getcwd():\n",
    "    os.chdir(os.path.abspath(os.path.join(\"../../..\")))\n",
    "\n",
    "import numpy as np\n",
    "import cv2\n",
    "import matplotlib.pyplot as plt\n",
    "from myst_nb import glue\n",
    "\n",
    "from bcd.preprocess.image.threshold import (ThresholdAnalyzer,\n",
    "    ThresholdLi, ThresholdISOData, ThresholdTriangle, ThresholdOTSU, ThresholdAdaptiveMean, ThresholdAdaptiveGaussian, ThresholdManual, ThresholdYen, ThresholdTriangleAnalyzer\n",
    ")\n",
    "from bcd.utils.visual import plot_images\n",
    "\n",
    "img1 = \"data/image/1_dev/converted/train/benign/347c2455-cb62-40f8-a173-9e4eb9a21902.png\"\n",
    "img2 = \"data/image/1_dev/converted/train/benign/4ed91643-1e06-4b2c-8efb-bc60dd9e0313.png\"\n",
    "img3 = \"data/image/1_dev/converted/train/malignant/7dcc12fd-88f0-4048-a6ab-5dd0bd836f08.png\"\n",
    "img4 = \"data/image/1_dev/converted/train/malignant/596ef5db-9610-4f13-9c1a-4c411b1d957c.png\"\n",
    "\n",
    "img1 = cv2.imread(img1, cv2.IMREAD_GRAYSCALE)\n",
    "img2 = cv2.imread(img2, cv2.IMREAD_GRAYSCALE)\n",
    "img3 = cv2.imread(img3, cv2.IMREAD_GRAYSCALE)\n",
    "img4 = cv2.imread(img4, cv2.IMREAD_GRAYSCALE)\n",
    "\n",
    "images = (img1,img2,img3,img4)"
   ]
  },
  {
   "cell_type": "markdown",
   "id": "ef231993",
   "metadata": {},
   "source": [
    "In digital mammography preprocessing, thresholding separates structures, features, and regions of interest (ROIs) from the image background based on pixel intensity values and a designated cut-off value or threshold.  From a grayscale image, a binary image is created where the pixel intensity values in the grayscale image are reduced to just two pixel intensity values in the binary image: 0 corresponding to all pixels in the grayscale image that are less than or equal to the threshold, and 1 (or 255 for 8-bit grayscale binary images) corresponding to all pixels in the grayscale image that are greater than the threshold.\n",
    "\n",
    "## Thresholding in Digital Mammography\n",
    "\n",
    "Segmentation based on pixel intensity thresholds is justified in digital mammography where pixel intensity is the parameter that most directly relates to the spatial characteristics of the structures within a mammogram. For this reason, threshold-based algorithm segmentation is a crucial early step in almost any digital mammography image analysis and preprocessing workflow.\n",
    "\n",
    "## Critical Importance of Threshold\n",
    "\n",
    "The selection of the threshold critically determines the quality of the thresholding result."
   ]
  },
  {
   "cell_type": "code",
   "execution_count": null,
   "id": "35379a64",
   "metadata": {
    "tags": [
     "remove-input",
     "remove-output"
    ]
   },
   "outputs": [],
   "source": [
    "def plot_binary_images(image: np.ndarray, thresholds: list):\n",
    "    thresholds = [32,64,128]\n",
    "    images = [img3]\n",
    "    for t in thresholds:\n",
    "        _, img = cv2.threshold(img3, thresh=t, maxval=np.max(img3), type=cv2.THRESH_BINARY)\n",
    "        images.append(img)\n",
    "    titles = [f\"Binary Image T={t}\" for t in thresholds]\n",
    "    titles = [\"Original Image\"] + titles\n",
    "    title = \"Binary Thresholding at Various Threshold Values\"\n",
    "    return plot_images(images=images, titles=titles, title=title)\n",
    "\n",
    "thresholds = [32,64,128]\n",
    "fig = plot_binary_images(image=img3, thresholds=thresholds)\n",
    "glue(\"various_thresholds\", fig)"
   ]
  },
  {
   "cell_type": "markdown",
   "id": "d4754157",
   "metadata": {},
   "source": [
    "```{glue:figure} various_thresholds\n",
    "---\n",
    "align: center\n",
    "name: various_thresholds_fig\n",
    "---\n",
    "Impact of Threshold Value on Binarization\n",
    "```\n",
    "\n",
    "{numref}`various_thresholds_fig` illustrates the impact of various threshold values on the binarization result.  As the threshold value increases from $T=32$ to $T=128$, we notice a few things:\n",
    "\n",
    "- **Border Smoothness**:  Borders tend to become increasingly rough as threshold value increases.\n",
    "- **Information Loss**.  Threshold value and information loss are positively correlated. High thresholds can shrink objects to the background as indicated in {numref}`various_thresholds_fig`  (d).\n",
    "- **Artifact Removal**: On the other hand, some information loss is acceptable if that information is an artifact. Higher thresholds tend to be associated with greater artifact removal.\n",
    "\n",
    "And there's the trade-off. {numref}`various_thresholds_fig` clearly illustrates the importance of selecting an appropriate threshold, what principled techniques exist for selecting thresholds that balance information capture and artifact removal?\n",
    "\n",
    "Well, manual techniques can be tedious, and time-consuming, and don’t reflect the inherent variability in digital mammography. No single threshold value will perform consistently across all images.  And though no universally superior *automated* thresholding method exists, several techniques have been proposed, each with distinct performance characteristics, strengths, and weaknesses, that have broad applicability across a range of image analysis and processing domains. We’ll examine those next.\n",
    "\n",
    "## Automated Thresholding Algorithms\n",
    "\n",
    "Sezgin and Sankur {cite}sankurSurveyImageThresholding2004 cast the space of automated thresholding techniques as follows: [^thresholds]\n",
    "\n",
    "- **Histogram shape-based** methods that analyze, for instance, the peaks, valleys, and curvatures of smoothed histograms.\n",
    "- **Clustering-based methods** cluster the gray-level samples into background and foreground. Alternatively, the image is modeled as a mixture of two Gaussians.\n",
    "- **Entropy-based methods** use the entropy of the foreground and background regions, the cross-entropy between the original and binarized image, etc.\n",
    "- **Object attribute-based** methods that analyze the similarity between the gray-level and the binarized images, such as fuzzy shape similarity, edge coincidence, etc.\n",
    "- **The spatial methods** use higher-order probability distribution and/or correlation between pixels\n",
    "- **Local methods adapt** the threshold value on each pixel to the local image characteristics.\n",
    "\n",
    "[^thresholds]: For the taxonomist, Sezgin’s framework is not mutually exclusive and collectively exhaustive (MECE). For instance, Otsu’s Method {cite}`otsuThresholdSelectionMethod1979` can be categorized as both a histogram shape-based method and a clustering-based method.\n",
    "\n",
    "For this effort, eight automated thresholding techniques {numref}`auto-thresh-tbl` were selected based on the intrinsic properties of the CBIS-DDSM dataset.\n",
    "\n",
    "```{table} Automated Threshold Methods\n",
    ":name: auto-thresh-tbl\n",
    "\n",
    "| # | Type                    | Method                               | Author(s)                                            | Publication                                                  |\n",
    "|---|-------------------------|--------------------------------------|------------------------------------------------------|--------------------------------------------------------------|\n",
    "| 1 | Histogram-Based         | Triangle Method                      | Zack, G. W., Rogers, W. E. and Latt, S. A., 1977,    | Automatic Measurement of Sister Chromatid Exchange Frequency |\n",
    "| 2 | Cluster-Based           | ISOData Method                       | Ridler, TW & Calvard, S (1978)                       | Picture thresholding using an iterative selection method     |\n",
    "| 3 | Histogram/Cluster-Based | Otsu's Method                        | Nobuyuki Otsu (1979)                                 | A threshold selection method from gray-level histograms      |\n",
    "| 4 | Entropy-Based           | Li's Minimum Cross-Entropy Method    | Li C.H. and Lee C.K. (1993)                          | Minimum Cross Entropy Thresholding                           |\n",
    "| 5 | Spatial-Based           | Yen's Multilevel Thresholding Method | Jui-Cheng Yen, Fu-Juay Chang, and Shyang Chang (1995) | A new criterion for automatic multilevel thresholding        |\n",
    "| 7 | Local                   | Adaptive Mean Method             | Bradley, D., G. Roth 2007                            | Adapting Thresholding Using the Integral Image               |\n",
    "| 8 |                         | Adaptive Gaussian Method                 | Bradley, D., G. Roth 2007                            | Adapting Thresholding Using the Integral Image\n",
    "\n",
    "```\n",
    "\n",
    "### Triangle Method\n",
    "\n",
    "The Triangle method was proposed in 1977 as a method for automatically detecting and counting sister chromatid exchanges in human chromosomes {cite}`zackAutomaticMeasurementSister1977`.\n",
    "\n",
    "```{figure} ../../figures/triangle_zack.png\n",
    "---\n",
    "name: triangle\n",
    "---\n",
    "Triangle Thresholding Method\n",
    "```\n",
    "\n",
    "{numref}`triangle` was taken from the original paper and geometrically depicts the triangle threshold method. The threshold is selected by first normalizing the dynamic range and the counts of the intensity histogram to values in [0,1]. A line is then constructed between the histogram peak and the tip of the long tail. Point A is selected at the base of the histogram bin that has the maximum perpendicular distance from the ‘peak-to-tip’ line. The threshold is set to A $+\\delta \\ge 0$.\n",
    "\n",
    "This method was applied to four test images of varying breast densities, contrast, abnormalities, and diagnoses. {numref}`threshold_triangle_fig` shows the original images (a)-(d), the binary images (e)-(h), the segmentation results (i)-(l), and the triangle histograms with thresholds annotated (m)-(p)."
   ]
  },
  {
   "cell_type": "code",
   "execution_count": null,
   "id": "3e668eae",
   "metadata": {
    "tags": [
     "remove-input",
     "remove-output"
    ]
   },
   "outputs": [],
   "source": [
    "analyzer = ThresholdTriangleAnalyzer()\n",
    "threshold = ThresholdTriangle()\n",
    "fig = analyzer.analyze(images=images, threshold=threshold)\n",
    "\n",
    "glue(\"threshold_triangle\", fig)"
   ]
  },
  {
   "cell_type": "markdown",
   "id": "e21735af",
   "metadata": {},
   "source": [
    "```{glue:figure} threshold_triangle\n",
    "---\n",
    "align: center\n",
    "name: threshold_triangle_fig\n",
    "---\n",
    "Triangle Threshold Segmentation Method. (a) through (d) are the original images, (e) through (h) are the binary masks, (i) through (l) are the segmented images and the normalized histograms and thresholds are presented at (m) through (p)\n",
    "```\n",
    "\n",
    "Several observations can be made. First, all images had the same threshold $T=2$, despite varying levels of contrast, illumination, and breast density. Second, at $T=2$, we have little to no artifact removal as their pixel intensities are not distinguished from other foreground structures. Overall, the algorithm effectively distinguished the breast tissue from the background with no apparent loss of information.\n",
    "\n",
    "The triangle method assumes pixel intensity distributions with a maximum peak near one end of the histogram and searches for thresholds towards the other end. Hence, this method is particularly well suited for images with highly skewed pixel intensity distributions with a single dominant peak and one or more weak peaks as we see here.\n",
    "\n",
    "### ISODATA Method\n",
    "\n",
    "The ISODATA method is an iterative approach based upon the Iterative Self-Organizing Data Analysis algorithm (ISODATA) algorithm {cite}`ridlerPictureThresholdingUsing1978` and is commonly used in biomedical imaging.\n",
    "\n",
    "In general, it first assigns an initial threshold $T$, usually the average of the pixel intensities in the image. The second step classifies each pixel to the closest class. In the third step, the mean values $\\mu_1$ and $\\mu_2$ for each class are estimated using a Gaussian distribution. Next, a new threshold is selected as the average of $\\mu_1$ and $\\mu_2$ {cite}`el-zaartImagesThresholdingUsing2010`.  Steps two and three are repeated until the change in threshold is less than a predesignated parameter.\n",
    "\n",
    "In {numref}`threshold_isodata_fig` we have the segmentation results for the ISODATA method applied to our test images."
   ]
  },
  {
   "cell_type": "code",
   "execution_count": null,
   "id": "6037bbd7",
   "metadata": {
    "tags": [
     "remove-input",
     "remove-output"
    ]
   },
   "outputs": [],
   "source": [
    "analyzer = ThresholdAnalyzer()\n",
    "threshold = ThresholdISOData()\n",
    "fig = analyzer.analyze(images=images, threshold=threshold)\n",
    "\n",
    "glue(\"threshold_isodata\", fig)"
   ]
  },
  {
   "cell_type": "markdown",
   "id": "45976d36",
   "metadata": {},
   "source": [
    "```{glue:figure} threshold_isodata\n",
    "---\n",
    "align: center\n",
    "name: threshold_isodata_fig\n",
    "---\n",
    "ISOData Threshold Segmentation Method. (a) through (d) are the original images, (e) through (h) are the binary masks, and (i) through (l) are the segmented images.\n",
    "```\n",
    "\n",
    "The ISODATA method generated higher thresholds in [63, 54, 92, 79] with slightly more roughness along the edges.\n",
    "\n",
    "An advantage of the ISOData method is that one doesn't need to know much about the properties of the image in advance.  On the other hand, the ISODATA algorithm assumes a symmetric Gaussian pixel distribution and may not perform well with images with a non-symmetric histogram as we've observed here.\n",
    "\n",
    "### Otsu's Method\n",
    "\n",
    "Otsu's Method {cite}`otsuThresholdSelectionMethod1979`  is a very popular image thresholding technique that separates images into two classes by minimizing the intra-class variance, denoted as $\\sigma^2_w(t)$. Let’s build this from the bottom up.\n",
    "\n",
    "The Otsu method initializes the threshold $t=0$, then computes the image histogram and probabilities of each intensity level $p(i)$ denoted as:\n",
    "\n",
    "```{math}\n",
    ":label: otsu_prob\n",
    "p(i) = \\frac{n_i}{n}\n",
    "```\n",
    "\n",
    "where  $i$ is a pixel intensity level, $n_i$ is the number of pixels with intensity level $i$, and $n$ is the total number of pixels.\n",
    "\n",
    "Next, the image is split into two classes: $C_0$  containing all pixels with intensity in the range [0,t), and $C_1$ which contains all pixels with intensity in the range [t, L], where L is the number of bins in the histogram.\n",
    "\n",
    "The next step is to obtain weights for $C_0, and $C_1$, denoted $w_0(t)$ and $w_1(t)$, respectively.\n",
    "\n",
    "```{math}\n",
    ":label: otsu_weights\n",
    "w_0(t) = \\sum_{i=0}^{t-1} p(i), \\\\\n",
    "w_1(t) = \\sum_{i=t}^{L-1} p(i),\n",
    "```\n",
    "\n",
    "Next, the means for $C_0$ and $C_1$, denoted $\\mu_0$ and $\\mu_1$, respectively:\n",
    "\n",
    "```{math}\n",
    ":label: otsu_means\n",
    "\\mu_0(t) = \\frac{\\sum_{i=0}^{t-1} ip(i)}{w_0{t}}, \\\\\n",
    "\\mu_1(t) = \\frac{\\sum_{i=t}^{L-1} ip(i)}{w_1{t}},\n",
    "```\n",
    "\n",
    "Now, we compute the weighted variance of each class, denoted as $\\sigma_0^2$, and $\\sigma_1^2$:\n",
    "\n",
    "```{math}\n",
    ":label: otsu_cvar\n",
    "\\sigma_0^2(t) = \\sum_{i=0}^{t-1}[i-\\mu_0(t)]^2 \\frac{p(i)}{w_0(t)} \\\\\n",
    "\\sigma_1^2(t) =  \\sum_{i=t}^{L-1}[i-\\mu_1(t)]^2 \\frac{p(i)}{w_1(t)}\n",
    "```\n",
    "\n",
    "From {cite}`otsuThresholdSelectionMethod1979`  we have two options to find the threshold. The first is to minimize intra-class variance as follows:\n",
    "\n",
    "```{math}\n",
    ":label: otsu_ivar\n",
    "\\sigma_w^2(t) =w_0(t)\\sigma^2_0(t)+w_1(t)\\sigma^2_1(t).\n",
    "```\n",
    "\n",
    "The second method is to maximize inter-class variance as follows:\n",
    "\n",
    "```{math}\n",
    ":label: otsu_bvar\n",
    "\\sigma_b^2(t) =w_0(t)w_1(t)[\\mu_0(t)-\\mu_1(t)]^2\n",
    "```\n",
    "\n",
    "The method we will be using minimizes the **intra-class variance**.\n",
    "\n",
    "Hence, the general algorithm for minimizing the intra-class variance is given by:\n",
    "\n",
    "1. Initialize threshold $t=0$\n",
    "2. Calculate the histogram and intensity level probabilities $p(i)$\n",
    "3. Initialize $w_0(0)$ and $w_1(0)$\n",
    "4. FOR t in range (0,L-1)\n",
    "   - Update values of $w_i,\\mu_i,$ where $w_i$ is the weighted probability and $\\mu_i$ is the mean of class $i$.\n",
    "   - Calculate the intra-class variance value $\\sigma_w^2(t)$\n",
    "5. The final threshold is that which minimizes $\\sigma_w^2(t)$\n",
    "\n",
    "Let's examine Otsu's method on our test images."
   ]
  },
  {
   "cell_type": "code",
   "execution_count": null,
   "id": "387fac98",
   "metadata": {
    "tags": [
     "remove-input",
     "remove-output"
    ]
   },
   "outputs": [],
   "source": [
    "analyzer = ThresholdAnalyzer()\n",
    "threshold = ThresholdOTSU()\n",
    "fig = analyzer.analyze(images=images, threshold=threshold)\n",
    "\n",
    "glue(\"threshold_otsu\", fig)"
   ]
  },
  {
   "cell_type": "markdown",
   "id": "94a5f629",
   "metadata": {},
   "source": [
    "```{glue:figure} threshold_otsu\n",
    "---\n",
    "align: center\n",
    "name: threshold_otsu_fig\n",
    "---\n",
    "OTSU's Threshold Segmentation Method. (a) through (d) are the original images, (e) through (h) are the binary masks, and (i) through (l) are the segmented images.\n",
    "```\n",
    "\n",
    "What stands out immediately, is that the selected thresholds for the Otsu method and the ISODATA method on our test set are precisely the same.\n",
    "\n",
    "The Otsu method performs well when the image histogram is bimodal with a deep and sharp valley between two peaks {cite}`kittlerThresholdSelectionUsing1985`.  However, the method isn’t the best choice in the presence of heavy noise,  large variances in lighting, or when intra-class variance is larger than inter-class variance.  In such cases, adaptations have been proposed such as the  Kittler-Illingworth method {cite}`kittlerMinimumErrorThresholding1986`.\n",
    "\n",
    "### Li's Minimum Cross-Entropy Method\n",
    "\n",
    "Probably the most popular entropy-based threshold method was proposed in 1993 by Li and Lee {cite}`liMinimumCrossEntropy1993`. It finds the 'optimal' threshold to distinguish between background and foreground by exhaustively searching for the threshold that minimized the *cross-entropy* between the foreground and the foreground mean and between the background and the background mean.\n",
    "\n",
    "In 1998, Li and Tam implemented a faster adaptation that used the *slope* of the cross-entropy instead {cite}`liIterativeAlgorithmMinimum1998`. This version, implemented in the scikit-image package, was employed on our test images."
   ]
  },
  {
   "cell_type": "code",
   "execution_count": null,
   "id": "6f71cbd0",
   "metadata": {
    "tags": [
     "remove-input",
     "remove-output"
    ]
   },
   "outputs": [],
   "source": [
    "analyzer = ThresholdAnalyzer(show_histograms=False)\n",
    "threshold = ThresholdLi()\n",
    "fig = analyzer.analyze(images=images, threshold=threshold)\n",
    "\n",
    "glue(\"threshold_li\", fig)"
   ]
  },
  {
   "cell_type": "markdown",
   "id": "67b17e90",
   "metadata": {},
   "source": [
    "```{glue:figure} threshold_li\n",
    "---\n",
    "align: center\n",
    "name: threshold_li_fig\n",
    "---\n",
    "Li's Minimum Cross-Entropy Threshold Segmentation Method. (a) through (d) are the original images, (e) through (h) are the binary masks, and (i) through (l) are the segmented images.\n",
    "```\n",
    "\n",
    "Li's method selected slightly lower thresholds in [23, 17, 33, 29] than those of Otsu and ISODATA. At these lower thresholds, we see slightly more smoothness on the edges.\n",
    "\n",
    "This method works well when the image histograms are convex; however, when the pixel distributions are not convex, gradient descent could yield a threshold that is not optimal.\n",
    "\n",
    "### Yen's Multilevel Method\n",
    "\n",
    "Yen's Automatic Multilevel Threshold algorithm was proposed in 1995 {cite}`jui-chengyenNewCriterionAutomatic1995` based on two criteria. The first one is the discrepancy between the thresholded and original images, and the second is the number of bits required to represent the thresholded image.  The discrepancy is defined in terms of a maximum entropic correlation criterion EC for bilevel thresholding given by:\n",
    "\n",
    "```{math}\n",
    ":label: yen_ec\n",
    "EC(s) = -\\text{ln}(G(s)\\cdot G^{\\prime}(s)) + 2\\text{ln}(P(s)\\cdot(1-P(s)))\n",
    "```\n",
    "\n",
    "where:\n",
    "\n",
    "```{math}\n",
    ":label: yen_g\n",
    "G(S)=\\displaystyle\\sum{i=0}^{s-1}p_i^2,\\\\\n",
    "G^{\\prime}(s)= \\displaystyle\\sum{i=s}^{m-1}p_i^2,\n",
    "```\n",
    "\n",
    "and $m$ is the number of gray levels in the image, $p_i$ is the probability of the gray level $i$ and $P(s)=\\displaystyle\\sum_{i=0}^{s-1} p_i$ is the total probability up to gray level $(s-1)$."
   ]
  },
  {
   "cell_type": "code",
   "execution_count": null,
   "id": "57c3116b",
   "metadata": {
    "tags": [
     "remove-input",
     "remove-output"
    ]
   },
   "outputs": [],
   "source": [
    "analyzer = ThresholdAnalyzer()\n",
    "threshold = ThresholdYen()\n",
    "fig = analyzer.analyze(images=images, threshold=threshold)\n",
    "\n",
    "glue(\"threshold_yen\", fig)"
   ]
  },
  {
   "cell_type": "markdown",
   "id": "4ac5c5b7",
   "metadata": {},
   "source": [
    "```{glue:figure} threshold_yen\n",
    "---\n",
    "align: center\n",
    "name: threshold_yen_fig\n",
    "---\n",
    "Yen's Multilevel Threshold Segmentation Method. (a) through (d) are the original images, (e) through (h) are the binary masks, and (i) through (l) are the segmented images.\n",
    "```\n",
    "\n",
    "In {numref}`threshold_yen_fig`, Yen's algorithm performed fairly well on three of the images; however, the threshold of 153 in (e) pushed almost the entire region of interest into the background.\n",
    "\n",
    "Yen's multilevel thresholding has several advantages and disadvantages. It allows for better image segmentation for complex images. However, it can be computationally expensive as obtaining the optimal threshold through exhaustive search increases exponentially, especially when a large number of thresholds are needed.\n",
    "\n",
    "### Adaptive Methods\n",
    "\n",
    "The threshold algorithms above are known as global threshold techniques. They compute a single threshold for the entire image, which may not be optimal for situations when the lighting is non-uniform across the image.\n",
    "\n",
    "Adaptive methods, by contrast, compute thresholds for each pixel based on the intensity values in its neighborhood.  The underlying assumption of all adaptive or *local* methods is that smaller regions of an image are more likely to have approximately homogeneous illumination as opposed to the image as a whole.\n",
    "\n",
    "Setting an appropriate neighborhood size is crucial. One that is too large would produce segmentation results similar to that of a global threshold algorithm. Neighborhood sizes are odd numbers such as 3, 5, 7, or 11.\n",
    "\n",
    "The general formula for the adaptive method is:\n",
    "\n",
    "```{math}\n",
    ":label: adaptive\n",
    "T = \\text{mean}(I_L)-C\n",
    "```\n",
    "\n",
    "where the mean is either the arithmetic mean or the Gaussian mean and $I_L$ is the local neighborhood of the image $I$. The constant $C$ can be used to fine-tune the threshold value $t$.\n",
    "\n",
    "Let's examine the performance of the adaptive mean and Gaussian methods with a neighborhood size of 5.\n",
    "\n",
    "#### Adaptive Mean Method"
   ]
  },
  {
   "cell_type": "code",
   "execution_count": null,
   "id": "ab579bab",
   "metadata": {
    "tags": [
     "remove-input",
     "remove-output"
    ]
   },
   "outputs": [],
   "source": [
    "analyzer = ThresholdAnalyzer()\n",
    "threshold = ThresholdAdaptiveMean()\n",
    "fig = analyzer.analyze(images=images, threshold=threshold)\n",
    "\n",
    "glue(\"threshold_local_mean\", fig)"
   ]
  },
  {
   "cell_type": "markdown",
   "id": "96bc958e",
   "metadata": {},
   "source": [
    "```{glue:figure} threshold_local_mean\n",
    "---\n",
    "align: center\n",
    "name: threshold_local_mean_fig\n",
    "---\n",
    "Adaptive Mean Threshold Segmentation Method. (a) through (d) are the original images, (e) through (h) are the binary masks, and (i) through (l) are the segmented images.\n",
    "```\n",
    "\n",
    "#### Adaptive Gaussian Method"
   ]
  },
  {
   "cell_type": "code",
   "execution_count": null,
   "id": "9769ad4c",
   "metadata": {
    "tags": [
     "remove-input",
     "remove-output"
    ]
   },
   "outputs": [],
   "source": [
    "analyzer = ThresholdAnalyzer()\n",
    "threshold = ThresholdAdaptiveGaussian()\n",
    "fig = analyzer.analyze(images=images, threshold=threshold)\n",
    "\n",
    "glue(\"threshold_local_gaussian\", fig)"
   ]
  },
  {
   "cell_type": "markdown",
   "id": "489c3196",
   "metadata": {},
   "source": [
    "```{glue:figure} threshold_local_gaussian\n",
    "---\n",
    "align: center\n",
    "name: threshold_local_gaussian_fig\n",
    "---\n",
    "Adaptive Gaussian Threshold Segmentation Method. (a) through (d) are the original images, (e) through (h) are the binary masks, and (i) through (l) are the segmented images.\n",
    "```\n",
    "\n",
    "{numref}`threshold_local_mean_fig` and {numref}`threshold_local_gaussian_fig` indicate that the adaptive methods are not particularly well suited for images with relatively uniform pixel distributions."
   ]
  }
 ],
 "metadata": {
  "jupytext": {
   "text_representation": {
    "extension": ".md",
    "format_name": "myst",
    "format_version": 0.13,
    "jupytext_version": "1.15.1"
   }
  },
  "kernelspec": {
   "display_name": "bcd",
   "language": "python",
   "name": "python3"
  },
  "source_map": [
   12,
   16,
   44,
   56,
   73,
   138,
   146,
   168,
   176,
   257,
   265,
   285,
   293,
   326,
   334,
   369,
   377,
   389,
   397
  ]
 },
 "nbformat": 4,
 "nbformat_minor": 5
}