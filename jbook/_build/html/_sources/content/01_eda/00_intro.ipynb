{
 "cells": [
  {
   "cell_type": "markdown",
   "id": "8e5f9ecf",
   "metadata": {},
   "source": [
    "# EDA Introduction\n",
    "\n",
    "In this section, we conduct an exploratory data analysis of the CBIS-DDSM dataset with several goals in mind:\n",
    "\n",
    "1. Maximize insight into the data and the factors that influence screening results in the CBIS-DDSM dataset.\n",
    "2. Assess the quality of the digital mammography in the CBIS-DDSM dataset.\n",
    "3. Select optimal methods and parameters for preprocessing\ttasks such as denoising and artifact removal.\n",
    "\n",
    "The exploratory data analysis is structured as follows:\n",
    "\n",
    "{numref}`eda1` describes the structure and organization of the CBIS-DDSM dataset. {numref}`eda2` prepares the case and DICOM data for the analysis effort. {numref}`eda3` explores the case metadata for insights into screening and diagnosis of calcification and mass abnormalities in the dataset. {numref}`eda4` examines the quality and characteristics of the CBIS-DDSM images vis-à-vis abnormality type and morphological features of calcifications and masses. Finally, {numref}`eda5` evaluates methods and optimal parameter settings for preprocessing tasks such as denoising and artifact removal."
   ]
  }
 ],
 "metadata": {
  "jupytext": {
   "text_representation": {
    "extension": ".md",
    "format_name": "myst",
    "format_version": 0.13,
    "jupytext_version": "1.15.1"
   }
  },
  "kernelspec": {
   "display_name": "Python 3",
   "language": "python",
   "name": "python3"
  },
  "source_map": [
   12
  ]
 },
 "nbformat": 4,
 "nbformat_minor": 5
}