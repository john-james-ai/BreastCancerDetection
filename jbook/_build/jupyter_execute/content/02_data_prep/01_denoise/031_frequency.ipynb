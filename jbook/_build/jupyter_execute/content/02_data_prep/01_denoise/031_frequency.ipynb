{
 "cells": [
  {
   "cell_type": "markdown",
   "id": "c1d3cb18",
   "metadata": {},
   "source": [
    "# Frequency Domain Filtering\n",
    "\n",
    "Normally, we think of an image as a rectangular array of pixels, each pixel representing an intensity at a position in the spatial domain. However, some operations are complicated, or impossible to perform in the spatial domain, and; therefore, a different representation is required.\n",
    "\n",
    "Representing an image as the sum of sinusoidal waves places it in the frequency domain in which certain denoising and smoothing operations on the periodic structure are possible.\n",
    "We convert an image to a spectrum in the frequency domain via the Fourier transformation (FT) {cite}` fourierAnalyticalTheoryHeat2007. It has two components: **magnitude** and **phase**. The magnitude tells us *how much* a certain frequency component is present, and the phase tells us *where* the frequency component is in the image.\n",
    "\n",
    "To get some intuition into the frequency domain representation, we plot a few the Fourier transformation of a few simple images. In general, we plot the *magnitude* images and **not** the *phase* images [^phase].\n",
    "\n",
    "[^phase]: The case reports of people who have studied phase images shortly thereafter succumbing to hallucinogenics or ending up in a Tibetan monastery {cite}`IntroductionFourierTransform`  have not been corroborated. Nonetheless, the study of phase images in the frequency domain is best avoided."
   ]
  },
  {
   "cell_type": "code",
   "execution_count": null,
   "id": "00a6e97e",
   "metadata": {
    "tags": [
     "hide-cell",
     "remove-output"
    ]
   },
   "outputs": [],
   "source": [
    "import os\n",
    "if 'jbook' in os.getcwd():\n",
    "    os.chdir(os.path.abspath(os.path.join(\"../../../..\")))\n",
    "import cv2\n",
    "import matplotlib.pyplot as plt\n",
    "import numpy as np\n",
    "from bcd.utils.image import convert_uint8\n",
    "from myst_nb import glue\n",
    "\n",
    "FP_WHITE = \"jbook/figures/frequency_white.jpg\"\n",
    "FP_HLINE = \"jbook/figures/frequency_hline.png\"\n",
    "FP_VLINE = \"jbook/figures/frequency_vline.png\"\n",
    "FP_MMG = \"jbook/figures/mammogram.png\"\n",
    "\n",
    "def get_image(fp: str, size: int = 200):\n",
    "    img = cv2.imread(fp, cv2.IMREAD_GRAYSCALE)\n",
    "    return cv2.resize(img, (size,size))\n",
    "\n",
    "def transform_image(img):\n",
    "    # Compute fourier transformation\n",
    "    img_fft = np.fft.fft2(img)\n",
    "    # Shift the zero-frequency to the center\n",
    "    img_shifted = np.fft.fftshift(img_fft)\n",
    "    # Compute amplitude\n",
    "    img_amp = np.abs(img_shifted)\n",
    "    img_amp = np.clip(img_amp, a_min=0, a_max=50000)\n",
    "    return img_amp\n",
    "\n",
    "\n",
    "img_white = get_image(fp=FP_WHITE)\n",
    "img_hline = get_image(fp=FP_HLINE)\n",
    "img_vline = get_image(fp=FP_VLINE)\n",
    "img_mmg = get_image(fp=FP_MMG)\n",
    "\n",
    "img_white_fft = transform_image(img_white)\n",
    "img_hline_fft = transform_image(img_hline)\n",
    "img_vline_fft = transform_image(img_vline)\n",
    "img_mmg_fft = transform_image(img_mmg)\n",
    "\n",
    "fig, axes = plt.subplots(nrows=2, ncols=4, figsize=(12,6))\n",
    "_ = axes[0,0].imshow(img_white, cmap='gray')\n",
    "_ = axes[0,1].imshow(img_hline, cmap='gray')\n",
    "_ = axes[0,2].imshow(img_vline, cmap='gray')\n",
    "_ = axes[0,3].imshow(img_mmg, cmap='gray')\n",
    "\n",
    "_ = axes[1,0].imshow(img_white_fft, cmap='gray')\n",
    "_ = axes[1,1].imshow(img_hline_fft, cmap='gray')\n",
    "_ = axes[1,2].imshow(img_vline_fft, cmap='gray')\n",
    "_ = axes[1,3].imshow(img_mmg_fft, cmap='gray')\n",
    "\n",
    "labels = np.array([[\"(a)\", \"(b)\", \"(c)\", \"(d)\"], [\"(e)\", \"(f)\", \"(g)\", \"(h)\"]])\n",
    "for i in range(2):\n",
    "    for j in range(4):\n",
    "        _ = axes[i,j].set_xlabel(labels[i,j])\n",
    "        _ = axes[i,j].set_xticks([])\n",
    "        _ = axes[i,j].set_yticks([])\n",
    "\n",
    "plt.tight_layout()\n",
    "\n",
    "glue(\"fft\", fig)"
   ]
  },
  {
   "cell_type": "markdown",
   "id": "b0f4f04d",
   "metadata": {},
   "source": [
    "```{glue:figure} fft\n",
    "---\n",
    "align: center\n",
    "name: fft_fig\n",
    "---\n",
    "Discrete Fourier Transformation\n",
    "```"
   ]
  }
 ],
 "metadata": {
  "jupytext": {
   "text_representation": {
    "extension": ".md",
    "format_name": "myst",
    "format_version": 0.13,
    "jupytext_version": "1.15.1"
   }
  },
  "kernelspec": {
   "display_name": "bcd",
   "language": "python",
   "name": "python3"
  },
  "source_map": [
   12,
   24,
   86
  ]
 },
 "nbformat": 4,
 "nbformat_minor": 5
}