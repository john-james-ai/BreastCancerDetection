{
 "cells": [
  {
   "cell_type": "markdown",
   "id": "e8460340",
   "metadata": {},
   "source": [
    "# Exploratory Data Analysis (EDA) 1.0 - Metadata\n",
    "\n",
    "In this section, we conduct an exploratory data analysis of the CBIS-DDSM Case and DICOM datasets prepared in prior sections. The purpose of this EDA is three-fold:\n",
    "\n",
    "1. Discover the relationships among the features\n",
    "2. Explore the nature of the relationships between the features and the diagnostic target.\n",
    "3. Identify features that have the greatest influence classification accuracy.\n",
    "\n",
    "## The Dataset\n",
    "\n",
    "In this section, we will be analyzing the Case Dataset: calcification and mass datasets containing patient, abnormality, BI-RADS assessment, image image_view, breast density, subtlety, and pathology (diagnosis) information. The dataset dictionary is outlined in {numref}`eda1_case_dataset`.\n",
    "\n",
    "```{table} Case Dataset Dictionary\n",
    ":name: eda1_case_dataset\n",
    "\n",
    "| #  | Variable             | Type        | Description                                                                                                                  |\n",
    "|----|----------------------|-------------|------------------------------------------------------------------------------------------------------------------------------|\n",
    "| 1  | patient_id           | Nominal     | Unique identifier for each patient.                                                                                          |\n",
    "| 2  | breast_density       | Discrete    | BI-RADS overall assessment of the volume of attenuating tissues in the breast.                                             |\n",
    "| 3  | left_or_right_breast | Nominal     | Which breast was imaged.                                                                                                     |\n",
    "| 4  | image_view           | Dichotomous | Either cranialcaudal or mediolateral oblique image_view.                                                                            |\n",
    "| 5  | abnormality_id       | Discrete    | Number of abnormalities for the patient.                                                                                       |\n",
    "| 6  | abnormality_type     | Dichotomous | BI-RADS category of the abnormality.                                                                                         |\n",
    "| 7  | calc_type            | Nominal     | Characterization of the type of calcification (where applicable)                                                             |\n",
    "| 8  | calc_distribution    | Nominal     | The arrangement of the calcifications inside the breast and, relative to the probability of malignancy. (where applicable) |\n",
    "| 9  | mass_shape           | Nominal     | Shape of the mass                                                                                                            |\n",
    "| 10 | mass_margins         | Nominal     | Feature that separates the mass from the adjacent breast parenchyma.                                                         |\n",
    "| 11 | assessment           | Discrete    | Overall BI-RADS assessment of the mammography                                                                                |\n",
    "| 12 | pathology            | Nominal     | Determination of the malignancy of the case.                                                                                 |\n",
    "| 13 | subtlety             | Discrete    | Degree of diagnostic difficulty                                                                                              |\n",
    "| 14 | fileset              | Nominal     | Indicates training or test set.                                                                                              |\n",
    "| 15 | case_id              | Nominal     | Unique identifier for the case.                                                                                              |\n",
    "| 16 | cancer               | Dichotomous | Indicates whether the cancer is diagnosed.                                                                                   |\n",
    "```\n",
    "\n",
    "## Guiding Questions\n",
    "\n",
    "```{tip}\n",
    "“Far better an approximate answer to the right question, which is often vague, than an exact answer to the wrong question, which can always be made precise.” — John Tukey\n",
    "```\n",
    "\n",
    "Here, we'll put forward a set of questions to motivate and guide the discovery process.\n",
    "\n",
    "1. What are the relationships between calcification and mass morphological features and malignancy?\n",
    "2. To what degree does breast density relate to abnormality types and malignancy?\n",
    "3. Are certain abnormalities more or less subtle?\n",
    "4. What are the relative features of importance concerning screening?\n",
    "\n",
    "## Exploratory Data Analysis Plan\n",
    "\n",
    "The EDA will be conducted in three primary stages:\n",
    "\n",
    "1. **Univariate**: Examination of the variables independently\n",
    "2. **Bivariate**: Evaluate the relations among the features and between the features and the target.\n",
    "3. **Multivariate**: Discover feature importance w.r.t. screening and diagnosis."
   ]
  },
  {
   "cell_type": "code",
   "execution_count": 1,
   "id": "64b073e0",
   "metadata": {
    "tags": [
     "remove-cell",
     "hide-input"
    ]
   },
   "outputs": [],
   "source": [
    "import sys\n",
    "import os\n",
    "if 'jbook' in os.getcwd():\n",
    "    os.chdir(os.path.abspath(os.path.join(\"../../..\")))\n",
    "import warnings\n",
    "warnings.filterwarnings(\"ignore\")"
   ]
  },
  {
   "cell_type": "code",
   "execution_count": 2,
   "id": "de0519e9",
   "metadata": {
    "tags": [
     "hide-input"
    ]
   },
   "outputs": [],
   "source": [
    "import pandas as pd\n",
    "from scipy import stats\n",
    "import pickle\n",
    "import numpy as np\n",
    "import matplotlib.pyplot as plt\n",
    "import seaborn as sns\n",
    "from myst_nb import glue\n",
    "import seaborn.objects as so\n",
    "from sklearn.svm import SVC\n",
    "from sklearn.linear_model import LogisticRegression\n",
    "from sklearn.ensemble import RandomForestClassifier\n",
    "\n",
    "from bcd.explore.meta.case import CaseExplorer\n",
    "from bcd.explore.meta.multivariate.pipeline import PipelineBuilder\n",
    "from bcd.explore.meta.multivariate.selection import ModelSelector\n",
    "\n",
    "pd.options.display.max_rows = 999\n",
    "pd.options.display.max_columns = 999\n",
    "sns.set_style('whitegrid')\n",
    "sns.set_palette(\"Blues_r\")"
   ]
  },
  {
   "cell_type": "code",
   "execution_count": 3,
   "id": "c7877002",
   "metadata": {
    "tags": [
     "remove-cell",
     "hide-input"
    ]
   },
   "outputs": [],
   "source": [
    "CASE_FP = \"data/meta/3_cooked/cases.csv\""
   ]
  },
  {
   "cell_type": "code",
   "execution_count": 4,
   "id": "c4ce850a",
   "metadata": {
    "tags": [
     "hide-input"
    ]
   },
   "outputs": [],
   "source": [
    "cases = CaseExplorer(filepath=CASE_FP)\n",
    "calc = CaseExplorer(df=cases.get_calc_data())\n",
    "mass = CaseExplorer(df=cases.get_mass_data())"
   ]
  },
  {
   "cell_type": "markdown",
   "id": "1514efcd",
   "metadata": {},
   "source": [
    "## Univariate Analysis\n",
    "\n",
    "Let's get an overall sense of the data."
   ]
  },
  {
   "cell_type": "code",
   "execution_count": 5,
   "id": "922aa284",
   "metadata": {
    "tags": [
     "remove-output"
    ]
   },
   "outputs": [
    {
     "data": {
      "text/html": [
       "<div>\n",
       "<style scoped>\n",
       "    .dataframe tbody tr th:only-of-type {\n",
       "        vertical-align: middle;\n",
       "    }\n",
       "\n",
       "    .dataframe tbody tr th {\n",
       "        vertical-align: top;\n",
       "    }\n",
       "\n",
       "    .dataframe thead th {\n",
       "        text-align: right;\n",
       "    }\n",
       "</style>\n",
       "<table border=\"1\" class=\"dataframe\">\n",
       "  <thead>\n",
       "    <tr style=\"text-align: right;\">\n",
       "      <th></th>\n",
       "      <th>Summary</th>\n",
       "    </tr>\n",
       "  </thead>\n",
       "  <tbody>\n",
       "    <tr>\n",
       "      <th>Patients</th>\n",
       "      <td>1566</td>\n",
       "    </tr>\n",
       "    <tr>\n",
       "      <th>Cases</th>\n",
       "      <td>3566</td>\n",
       "    </tr>\n",
       "    <tr>\n",
       "      <th>Calcification Cases</th>\n",
       "      <td>1872</td>\n",
       "    </tr>\n",
       "    <tr>\n",
       "      <th>Calcification Cases - Benign</th>\n",
       "      <td>1199</td>\n",
       "    </tr>\n",
       "    <tr>\n",
       "      <th>Calcification Cases - Malignant</th>\n",
       "      <td>673</td>\n",
       "    </tr>\n",
       "    <tr>\n",
       "      <th>Mass Cases</th>\n",
       "      <td>1694</td>\n",
       "    </tr>\n",
       "    <tr>\n",
       "      <th>Mass Cases - Benign</th>\n",
       "      <td>910</td>\n",
       "    </tr>\n",
       "    <tr>\n",
       "      <th>Mass Cases - Malignant</th>\n",
       "      <td>784</td>\n",
       "    </tr>\n",
       "  </tbody>\n",
       "</table>\n",
       "</div>"
      ],
      "text/plain": [
       "                                 Summary\n",
       "Patients                            1566\n",
       "Cases                               3566\n",
       "Calcification Cases                 1872\n",
       "Calcification Cases - Benign        1199\n",
       "Calcification Cases - Malignant      673\n",
       "Mass Cases                          1694\n",
       "Mass Cases - Benign                  910\n",
       "Mass Cases - Malignant               784"
      ]
     },
     "metadata": {
      "scrapbook": {
       "mime_prefix": "",
       "name": "eda1_summary"
      }
     },
     "output_type": "display_data"
    }
   ],
   "source": [
    "summary = cases.summary()\n",
    "glue(\"eda1_summary\", summary)"
   ]
  },
  {
   "cell_type": "markdown",
   "id": "885b8e27",
   "metadata": {},
   "source": [
    "```{glue:figure} eda1_summary\n",
    "---\n",
    "align: center\n",
    "name: eda1_summary_df\n",
    "---\n",
    "CBIS-DDSM Dataset Summary\n",
    "```"
   ]
  },
  {
   "cell_type": "code",
   "execution_count": 6,
   "id": "f3262046",
   "metadata": {
    "tags": [
     "hide-input"
    ]
   },
   "outputs": [
    {
     "data": {
      "text/plain": [
       "52.5"
      ]
     },
     "metadata": {
      "scrapbook": {
       "mime_prefix": "",
       "name": "pct_calc"
      }
     },
     "output_type": "display_data"
    },
    {
     "data": {
      "text/plain": [
       "47.5"
      ]
     },
     "metadata": {
      "scrapbook": {
       "mime_prefix": "",
       "name": "pct_mass"
      }
     },
     "output_type": "display_data"
    },
    {
     "data": {
      "text/plain": [
       "35.95"
      ]
     },
     "metadata": {
      "scrapbook": {
       "mime_prefix": "",
       "name": "pct_calc_mal"
      }
     },
     "output_type": "display_data"
    },
    {
     "data": {
      "text/plain": [
       "64.05"
      ]
     },
     "metadata": {
      "scrapbook": {
       "mime_prefix": "",
       "name": "pct_calc_bn"
      }
     },
     "output_type": "display_data"
    },
    {
     "data": {
      "text/plain": [
       "46.28"
      ]
     },
     "metadata": {
      "scrapbook": {
       "mime_prefix": "",
       "name": "pct_mass_mal"
      }
     },
     "output_type": "display_data"
    },
    {
     "data": {
      "text/plain": [
       "53.72"
      ]
     },
     "metadata": {
      "scrapbook": {
       "mime_prefix": "",
       "name": "pct_mass_bn"
      }
     },
     "output_type": "display_data"
    },
    {
     "data": {
      "text/plain": [
       "2.28"
      ]
     },
     "metadata": {
      "scrapbook": {
       "mime_prefix": "",
       "name": "cases_per_patient"
      }
     },
     "output_type": "display_data"
    }
   ],
   "source": [
    "st = summary.T\n",
    "pct_calc = round(st['Calcification Cases'] / st['Cases'] * 100,2).values[0]\n",
    "pct_mass = round(st['Mass Cases'] / st['Cases'] * 100,2).values[0]\n",
    "pct_calc_mal = round(st['Calcification Cases - Malignant'] / st['Calcification Cases'] * 100,2).values[0]\n",
    "pct_calc_bn = round(st['Calcification Cases - Benign'] / st['Calcification Cases'] * 100,2).values[0]\n",
    "pct_mass_mal = round(st['Mass Cases - Malignant'] / st['Mass Cases'] * 100,2).values[0]\n",
    "pct_mass_bn = round(st['Mass Cases - Benign'] / st['Mass Cases'] * 100,2).values[0]\n",
    "cases_per_patient = round(st['Cases'] / st['Patients'],2).values[0]\n",
    "\n",
    "glue(\"pct_calc\", pct_calc)\n",
    "glue(\"pct_mass\", pct_mass)\n",
    "glue(\"pct_calc_mal\", pct_calc_mal)\n",
    "glue(\"pct_calc_bn\", pct_calc_bn)\n",
    "glue(\"pct_mass_mal\", pct_mass_mal)\n",
    "glue(\"pct_mass_bn\", pct_mass_bn)\n",
    "glue(\"cases_per_patient\", cases_per_patient)"
   ]
  },
  {
   "cell_type": "markdown",
   "id": "7c247c35",
   "metadata": {},
   "source": [
    "From {numref}`eda1_summary_df`, several observations can be made:\n",
    "\n",
    "1. We have 3566 cases, {glue:}`pct_calc`% are calcification cases and {glue:}`pct_mass`% are mass cases.\n",
    "2. Of the calcification cases, {glue:}`pct_calc_bn`% are benign and {glue:}`pct_calc_mal`% are malignant.\n",
    "3. Of the mass cases, {glue:}`pct_mass_bn`% are benign and {glue:}`pct_mass_mal`% are malignant.\n",
    "4. On average, we have approximately {glue:}`cases_per_patient` cases per patient.\n",
    "\n",
    "Case, as defined in {cite}`leeCuratedMammographyData2017`, indicates a particular abnormality, seen on the craniocaudal (CC) and/or mediolateral oblique (MLO) views."
   ]
  },
  {
   "cell_type": "markdown",
   "id": "7f8ce117",
   "metadata": {},
   "source": [
    "Let's take a look at the calcification and mass data."
   ]
  },
  {
   "cell_type": "code",
   "execution_count": 7,
   "id": "2f525d9d",
   "metadata": {
    "tags": [
     "hide-input"
    ]
   },
   "outputs": [
    {
     "data": {
      "text/html": [
       "<div>\n",
       "<style scoped>\n",
       "    .dataframe tbody tr th:only-of-type {\n",
       "        vertical-align: middle;\n",
       "    }\n",
       "\n",
       "    .dataframe tbody tr th {\n",
       "        vertical-align: top;\n",
       "    }\n",
       "\n",
       "    .dataframe thead th {\n",
       "        text-align: right;\n",
       "    }\n",
       "</style>\n",
       "<table border=\"1\" class=\"dataframe\">\n",
       "  <thead>\n",
       "    <tr style=\"text-align: right;\">\n",
       "      <th></th>\n",
       "      <th>case_id</th>\n",
       "      <th>patient_id</th>\n",
       "      <th>breast_density</th>\n",
       "      <th>left_or_right_breast</th>\n",
       "      <th>image_view</th>\n",
       "      <th>abnormality_id</th>\n",
       "      <th>calc_type</th>\n",
       "      <th>calc_distribution</th>\n",
       "      <th>assessment</th>\n",
       "      <th>pathology</th>\n",
       "      <th>subtlety</th>\n",
       "      <th>fileset</th>\n",
       "      <th>cancer</th>\n",
       "    </tr>\n",
       "  </thead>\n",
       "  <tbody>\n",
       "    <tr>\n",
       "      <th>48</th>\n",
       "      <td>Calcification-Train_P_00031_LEFT_CC_1</td>\n",
       "      <td>P_00031</td>\n",
       "      <td>4</td>\n",
       "      <td>LEFT</td>\n",
       "      <td>CC</td>\n",
       "      <td>1</td>\n",
       "      <td>PLEOMORPHIC</td>\n",
       "      <td>CLUSTERED</td>\n",
       "      <td>4</td>\n",
       "      <td>MALIGNANT</td>\n",
       "      <td>1</td>\n",
       "      <td>train</td>\n",
       "      <td>True</td>\n",
       "    </tr>\n",
       "    <tr>\n",
       "      <th>1553</th>\n",
       "      <td>Calcification-Test_P_00041_LEFT_MLO_2</td>\n",
       "      <td>P_00041</td>\n",
       "      <td>1</td>\n",
       "      <td>LEFT</td>\n",
       "      <td>MLO</td>\n",
       "      <td>2</td>\n",
       "      <td>LUCENT_CENTERED</td>\n",
       "      <td>SEGMENTAL</td>\n",
       "      <td>2</td>\n",
       "      <td>BENIGN_WITHOUT_CALLBACK</td>\n",
       "      <td>5</td>\n",
       "      <td>test</td>\n",
       "      <td>False</td>\n",
       "    </tr>\n",
       "    <tr>\n",
       "      <th>46</th>\n",
       "      <td>Calcification-Train_P_00030_RIGHT_CC_1</td>\n",
       "      <td>P_00030</td>\n",
       "      <td>2</td>\n",
       "      <td>RIGHT</td>\n",
       "      <td>CC</td>\n",
       "      <td>1</td>\n",
       "      <td>VASCULAR</td>\n",
       "      <td>SEGMENTAL</td>\n",
       "      <td>2</td>\n",
       "      <td>BENIGN_WITHOUT_CALLBACK</td>\n",
       "      <td>4</td>\n",
       "      <td>train</td>\n",
       "      <td>False</td>\n",
       "    </tr>\n",
       "    <tr>\n",
       "      <th>1804</th>\n",
       "      <td>Calcification-Test_P_01635_RIGHT_MLO_2</td>\n",
       "      <td>P_01635</td>\n",
       "      <td>2</td>\n",
       "      <td>RIGHT</td>\n",
       "      <td>MLO</td>\n",
       "      <td>2</td>\n",
       "      <td>AMORPHOUS-PLEOMORPHIC</td>\n",
       "      <td>CLUSTERED</td>\n",
       "      <td>4</td>\n",
       "      <td>MALIGNANT</td>\n",
       "      <td>3</td>\n",
       "      <td>test</td>\n",
       "      <td>True</td>\n",
       "    </tr>\n",
       "    <tr>\n",
       "      <th>318</th>\n",
       "      <td>Calcification-Train_P_00455_LEFT_CC_1</td>\n",
       "      <td>P_00455</td>\n",
       "      <td>1</td>\n",
       "      <td>LEFT</td>\n",
       "      <td>CC</td>\n",
       "      <td>1</td>\n",
       "      <td>LUCENT_CENTERED</td>\n",
       "      <td>SEGMENTAL</td>\n",
       "      <td>2</td>\n",
       "      <td>BENIGN_WITHOUT_CALLBACK</td>\n",
       "      <td>3</td>\n",
       "      <td>train</td>\n",
       "      <td>False</td>\n",
       "    </tr>\n",
       "  </tbody>\n",
       "</table>\n",
       "</div>"
      ],
      "text/plain": [
       "                                     case_id patient_id  breast_density  \\\n",
       "48     Calcification-Train_P_00031_LEFT_CC_1    P_00031               4   \n",
       "1553   Calcification-Test_P_00041_LEFT_MLO_2    P_00041               1   \n",
       "46    Calcification-Train_P_00030_RIGHT_CC_1    P_00030               2   \n",
       "1804  Calcification-Test_P_01635_RIGHT_MLO_2    P_01635               2   \n",
       "318    Calcification-Train_P_00455_LEFT_CC_1    P_00455               1   \n",
       "\n",
       "     left_or_right_breast image_view  abnormality_id              calc_type  \\\n",
       "48                   LEFT         CC               1            PLEOMORPHIC   \n",
       "1553                 LEFT        MLO               2        LUCENT_CENTERED   \n",
       "46                  RIGHT         CC               1               VASCULAR   \n",
       "1804                RIGHT        MLO               2  AMORPHOUS-PLEOMORPHIC   \n",
       "318                  LEFT         CC               1        LUCENT_CENTERED   \n",
       "\n",
       "     calc_distribution  assessment                pathology  subtlety fileset  \\\n",
       "48           CLUSTERED           4                MALIGNANT         1   train   \n",
       "1553         SEGMENTAL           2  BENIGN_WITHOUT_CALLBACK         5    test   \n",
       "46           SEGMENTAL           2  BENIGN_WITHOUT_CALLBACK         4   train   \n",
       "1804         CLUSTERED           4                MALIGNANT         3    test   \n",
       "318          SEGMENTAL           2  BENIGN_WITHOUT_CALLBACK         3   train   \n",
       "\n",
       "      cancer  \n",
       "48      True  \n",
       "1553   False  \n",
       "46     False  \n",
       "1804    True  \n",
       "318    False  "
      ]
     },
     "execution_count": 7,
     "metadata": {},
     "output_type": "execute_result"
    },
    {
     "data": {
      "text/html": [
       "<div>\n",
       "<style scoped>\n",
       "    .dataframe tbody tr th:only-of-type {\n",
       "        vertical-align: middle;\n",
       "    }\n",
       "\n",
       "    .dataframe tbody tr th {\n",
       "        vertical-align: top;\n",
       "    }\n",
       "\n",
       "    .dataframe thead th {\n",
       "        text-align: right;\n",
       "    }\n",
       "</style>\n",
       "<table border=\"1\" class=\"dataframe\">\n",
       "  <thead>\n",
       "    <tr style=\"text-align: right;\">\n",
       "      <th></th>\n",
       "      <th>case_id</th>\n",
       "      <th>patient_id</th>\n",
       "      <th>breast_density</th>\n",
       "      <th>left_or_right_breast</th>\n",
       "      <th>image_view</th>\n",
       "      <th>abnormality_id</th>\n",
       "      <th>mass_shape</th>\n",
       "      <th>mass_margins</th>\n",
       "      <th>assessment</th>\n",
       "      <th>pathology</th>\n",
       "      <th>subtlety</th>\n",
       "      <th>fileset</th>\n",
       "      <th>cancer</th>\n",
       "    </tr>\n",
       "  </thead>\n",
       "  <tbody>\n",
       "    <tr>\n",
       "      <th>2060</th>\n",
       "      <td>Mass-Train_P_00279_LEFT_CC_1</td>\n",
       "      <td>P_00279</td>\n",
       "      <td>3</td>\n",
       "      <td>LEFT</td>\n",
       "      <td>CC</td>\n",
       "      <td>1</td>\n",
       "      <td>ROUND</td>\n",
       "      <td>OBSCURED</td>\n",
       "      <td>0</td>\n",
       "      <td>BENIGN</td>\n",
       "      <td>4</td>\n",
       "      <td>train</td>\n",
       "      <td>False</td>\n",
       "    </tr>\n",
       "    <tr>\n",
       "      <th>1952</th>\n",
       "      <td>Mass-Train_P_00106_LEFT_CC_3</td>\n",
       "      <td>P_00106</td>\n",
       "      <td>1</td>\n",
       "      <td>LEFT</td>\n",
       "      <td>CC</td>\n",
       "      <td>3</td>\n",
       "      <td>LYMPH_NODE</td>\n",
       "      <td>CIRCUMSCRIBED</td>\n",
       "      <td>2</td>\n",
       "      <td>BENIGN_WITHOUT_CALLBACK</td>\n",
       "      <td>4</td>\n",
       "      <td>train</td>\n",
       "      <td>False</td>\n",
       "    </tr>\n",
       "    <tr>\n",
       "      <th>2347</th>\n",
       "      <td>Mass-Train_P_00695_RIGHT_CC_1</td>\n",
       "      <td>P_00695</td>\n",
       "      <td>2</td>\n",
       "      <td>RIGHT</td>\n",
       "      <td>CC</td>\n",
       "      <td>1</td>\n",
       "      <td>ASYMMETRIC_BREAST_TISSUE</td>\n",
       "      <td>ILL_DEFINED</td>\n",
       "      <td>5</td>\n",
       "      <td>MALIGNANT</td>\n",
       "      <td>5</td>\n",
       "      <td>train</td>\n",
       "      <td>True</td>\n",
       "    </tr>\n",
       "    <tr>\n",
       "      <th>2650</th>\n",
       "      <td>Mass-Train_P_01134_RIGHT_CC_1</td>\n",
       "      <td>P_01134</td>\n",
       "      <td>2</td>\n",
       "      <td>RIGHT</td>\n",
       "      <td>CC</td>\n",
       "      <td>1</td>\n",
       "      <td>IRREGULAR</td>\n",
       "      <td>SPICULATED</td>\n",
       "      <td>5</td>\n",
       "      <td>MALIGNANT</td>\n",
       "      <td>5</td>\n",
       "      <td>train</td>\n",
       "      <td>True</td>\n",
       "    </tr>\n",
       "    <tr>\n",
       "      <th>2758</th>\n",
       "      <td>Mass-Train_P_01268_RIGHT_MLO_1</td>\n",
       "      <td>P_01268</td>\n",
       "      <td>3</td>\n",
       "      <td>RIGHT</td>\n",
       "      <td>MLO</td>\n",
       "      <td>1</td>\n",
       "      <td>LOBULATED</td>\n",
       "      <td>OBSCURED</td>\n",
       "      <td>0</td>\n",
       "      <td>BENIGN</td>\n",
       "      <td>5</td>\n",
       "      <td>train</td>\n",
       "      <td>False</td>\n",
       "    </tr>\n",
       "  </tbody>\n",
       "</table>\n",
       "</div>"
      ],
      "text/plain": [
       "                             case_id patient_id  breast_density  \\\n",
       "2060    Mass-Train_P_00279_LEFT_CC_1    P_00279               3   \n",
       "1952    Mass-Train_P_00106_LEFT_CC_3    P_00106               1   \n",
       "2347   Mass-Train_P_00695_RIGHT_CC_1    P_00695               2   \n",
       "2650   Mass-Train_P_01134_RIGHT_CC_1    P_01134               2   \n",
       "2758  Mass-Train_P_01268_RIGHT_MLO_1    P_01268               3   \n",
       "\n",
       "     left_or_right_breast image_view  abnormality_id  \\\n",
       "2060                 LEFT         CC               1   \n",
       "1952                 LEFT         CC               3   \n",
       "2347                RIGHT         CC               1   \n",
       "2650                RIGHT         CC               1   \n",
       "2758                RIGHT        MLO               1   \n",
       "\n",
       "                    mass_shape   mass_margins  assessment  \\\n",
       "2060                     ROUND       OBSCURED           0   \n",
       "1952                LYMPH_NODE  CIRCUMSCRIBED           2   \n",
       "2347  ASYMMETRIC_BREAST_TISSUE    ILL_DEFINED           5   \n",
       "2650                 IRREGULAR     SPICULATED           5   \n",
       "2758                 LOBULATED       OBSCURED           0   \n",
       "\n",
       "                    pathology  subtlety fileset  cancer  \n",
       "2060                   BENIGN         4   train   False  \n",
       "1952  BENIGN_WITHOUT_CALLBACK         4   train   False  \n",
       "2347                MALIGNANT         5   train    True  \n",
       "2650                MALIGNANT         5   train    True  \n",
       "2758                   BENIGN         5   train   False  "
      ]
     },
     "execution_count": 7,
     "metadata": {},
     "output_type": "execute_result"
    }
   ],
   "source": [
    "cases.get_calc_data().sample(5)\n",
    "cases.get_mass_data().sample(5)"
   ]
  },
  {
   "cell_type": "markdown",
   "id": "4e795ad5",
   "metadata": {},
   "source": [
    "Our univariate analysis will cover:\n",
    "\n",
    "- Breast Density\n",
    "- Left or Right Breast\n",
    "- Image View\n",
    "- Abnormality Id\n",
    "- Abnormality Type\n",
    "- Subtlety\n",
    "- BI-RADS Assessment\n",
    "- Calcification Type\n",
    "- Calcification Distribution\n",
    "- Mass Shape\n",
    "- Mass Margins\n",
    "- Pathology\n",
    "- Cancer (Target)"
   ]
  }
 ],
 "metadata": {
  "jupytext": {
   "text_representation": {
    "extension": ".md",
    "format_name": "myst",
    "format_version": 0.13,
    "jupytext_version": "1.15.1"
   }
  },
  "kernelspec": {
   "display_name": "Python 3",
   "language": "python",
   "name": "python3"
  },
  "language_info": {
   "codemirror_mode": {
    "name": "ipython",
    "version": 3
   },
   "file_extension": ".py",
   "mimetype": "text/x-python",
   "name": "python",
   "nbconvert_exporter": "python",
   "pygments_lexer": "ipython3",
   "version": "3.10.12"
  },
  "source_map": [
   14,
   74,
   85,
   110,
   116,
   124,
   130,
   135,
   145,
   164,
   175,
   179,
   186
  ]
 },
 "nbformat": 4,
 "nbformat_minor": 5
}