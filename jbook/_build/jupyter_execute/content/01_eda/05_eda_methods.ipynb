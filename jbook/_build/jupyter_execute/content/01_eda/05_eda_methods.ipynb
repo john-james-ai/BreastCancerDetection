{
 "cells": [
  {
   "cell_type": "markdown",
   "id": "b3b7c896",
   "metadata": {},
   "source": [
    "(eda3)=\n",
    "# EDA Part III: Algorithm Selection"
   ]
  }
 ],
 "metadata": {
  "jupytext": {
   "text_representation": {
    "extension": ".md",
    "format_name": "myst",
    "format_version": 0.13,
    "jupytext_version": "1.16.0"
   }
  },
  "source_map": [
   8
  ]
 },
 "nbformat": 4,
 "nbformat_minor": 5
}