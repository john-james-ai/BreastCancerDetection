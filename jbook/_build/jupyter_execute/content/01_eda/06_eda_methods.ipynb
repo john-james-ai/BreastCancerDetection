{
 "cells": [
  {
   "cell_type": "markdown",
   "id": "f1bfa7c1",
   "metadata": {},
   "source": [
    "(eda6)=\n",
    "\n",
    "# EDA Part 6: Algorithm Selection\n",
    "\n",
    "Image data processing will involve denoising the images, artifact and pectoral muscle removal, image enhancement, and augmentation techniques in advance of statistical modeling. Model performance will, in part, rest on the selection of these algorithms and the degree to which their parameters have been optimized for the dataset.\n",
    "\n",
    "The goal of this section is to select and optimize the algorithms that will be used during the preprocessing stage. Specifically, our focus will be on selecting a denoiser algorithm and a binary threshold algorithm for breast segmentation.\n",
    "In section {numref}`eda61`, we will review the types of noise inherent in digital mammography, review the most widely used denoising methods, and then evaluate, select, and parameterize the denoising algorithm that will be used downstream. Next, {numref}`eda62` will review, select, and tune a binary threshold algorithm for breast segmentation."
   ]
  }
 ],
 "metadata": {
  "jupytext": {
   "text_representation": {
    "extension": ".md",
    "format_name": "myst",
    "format_version": 0.13,
    "jupytext_version": "1.16.0"
   }
  },
  "source_map": [
   8
  ]
 },
 "nbformat": 4,
 "nbformat_minor": 5
}