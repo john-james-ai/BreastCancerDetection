{
 "cells": [
  {
   "cell_type": "code",
   "execution_count": 1,
   "id": "da56ec83",
   "metadata": {
    "tags": [
     "hide-input"
    ]
   },
   "outputs": [],
   "source": [
    "import os\n",
    "if 'jbook' in os.getcwd():\n",
    "    os.chdir(os.path.abspath(os.path.join(\"../../..\")))\n",
    "from myst_nb import glue\n",
    "import pandas as pd"
   ]
  },
  {
   "cell_type": "code",
   "execution_count": 2,
   "id": "949f00f9",
   "metadata": {},
   "outputs": [],
   "source": [
    "fp_calc_train = \"data/meta/0_raw/calc_case_description_train_set.csv\"\n",
    "fp_calc_test = \"data/meta/0_raw/calc_case_description_test_set.csv\"\n",
    "fp_mass_train = \"data/meta/0_raw/mass_case_description_train_set.csv\"\n",
    "fp_mass_test = \"data/meta/0_raw/mass_case_description_test_set.csv\"\n",
    "fp_metadata = \"data/meta/0_raw/metadata.csv\""
   ]
  },
  {
   "cell_type": "code",
   "execution_count": 3,
   "id": "5af0ab30",
   "metadata": {
    "tags": [
     "hide-input"
    ]
   },
   "outputs": [
    {
     "name": "stdout",
     "output_type": "stream",
     "text": [
      "<class 'pandas.core.frame.DataFrame'>\n",
      "RangeIndex: 1546 entries, 0 to 1545\n",
      "Data columns (total 14 columns):\n",
      " #   Column                   Non-Null Count  Dtype \n",
      "---  ------                   --------------  ----- \n",
      " 0   patient_id               1546 non-null   object\n",
      " 1   breast density           1546 non-null   int64 \n",
      " 2   left or right breast     1546 non-null   object\n",
      " 3   image view               1546 non-null   object\n",
      " 4   abnormality id           1546 non-null   int64 \n",
      " 5   abnormality type         1546 non-null   object\n",
      " 6   calc type                1526 non-null   object\n",
      " 7   calc distribution        1170 non-null   object\n",
      " 8   assessment               1546 non-null   int64 \n",
      " 9   pathology                1546 non-null   object\n",
      " 10  subtlety                 1546 non-null   int64 \n",
      " 11  image file path          1546 non-null   object\n",
      " 12  cropped image file path  1546 non-null   object\n",
      " 13  ROI mask file path       1546 non-null   object\n",
      "dtypes: int64(4), object(10)\n",
      "memory usage: 169.2+ KB\n"
     ]
    }
   ],
   "source": [
    "df = pd.read_csv(fp_calc_train)\n",
    "df.info()"
   ]
  },
  {
   "cell_type": "code",
   "execution_count": 4,
   "id": "29148cf9",
   "metadata": {
    "tags": [
     "hide-input",
     "remove-output"
    ]
   },
   "outputs": [
    {
     "data": {
      "text/plain": [
       "1546"
      ]
     },
     "metadata": {
      "scrapbook": {
       "mime_prefix": "",
       "name": "n_records"
      }
     },
     "output_type": "display_data"
    },
    {
     "data": {
      "text/html": [
       "<div>\n",
       "<style scoped>\n",
       "    .dataframe tbody tr th:only-of-type {\n",
       "        vertical-align: middle;\n",
       "    }\n",
       "\n",
       "    .dataframe tbody tr th {\n",
       "        vertical-align: top;\n",
       "    }\n",
       "\n",
       "    .dataframe thead th {\n",
       "        text-align: right;\n",
       "    }\n",
       "</style>\n",
       "<table border=\"1\" class=\"dataframe\">\n",
       "  <thead>\n",
       "    <tr style=\"text-align: right;\">\n",
       "      <th></th>\n",
       "      <th>pathology</th>\n",
       "      <th>patient_id</th>\n",
       "    </tr>\n",
       "  </thead>\n",
       "  <tbody>\n",
       "    <tr>\n",
       "      <th>0</th>\n",
       "      <td>BENIGN</td>\n",
       "      <td>258</td>\n",
       "    </tr>\n",
       "    <tr>\n",
       "      <th>1</th>\n",
       "      <td>BENIGN_WITHOUT_CALLBACK</td>\n",
       "      <td>82</td>\n",
       "    </tr>\n",
       "    <tr>\n",
       "      <th>2</th>\n",
       "      <td>MALIGNANT</td>\n",
       "      <td>276</td>\n",
       "    </tr>\n",
       "    <tr>\n",
       "      <th>Total</th>\n",
       "      <td></td>\n",
       "      <td>616</td>\n",
       "    </tr>\n",
       "  </tbody>\n",
       "</table>\n",
       "</div>"
      ],
      "text/plain": [
       "                     pathology  patient_id\n",
       "0                       BENIGN         258\n",
       "1      BENIGN_WITHOUT_CALLBACK          82\n",
       "2                    MALIGNANT         276\n",
       "Total                                  616"
      ]
     },
     "metadata": {
      "scrapbook": {
       "mime_prefix": "",
       "name": "pathologies"
      }
     },
     "output_type": "display_data"
    },
    {
     "data": {
      "text/plain": [
       "602"
      ]
     },
     "metadata": {
      "scrapbook": {
       "mime_prefix": "",
       "name": "n_cases"
      }
     },
     "output_type": "display_data"
    },
    {
     "data": {
      "text/plain": [
       "14"
      ]
     },
     "metadata": {
      "scrapbook": {
       "mime_prefix": "",
       "name": "n_cases_multiple_pathologies"
      }
     },
     "output_type": "display_data"
    }
   ],
   "source": [
    "# Total record count\n",
    "n_records = len(df)\n",
    "\n",
    "# Number of cases\n",
    "n_cases =  df['patient_id'].nunique()\n",
    "\n",
    "# Pathologies and patient counts.\n",
    "pathologies = df[['patient_id', 'pathology']].drop_duplicates().groupby(by='pathology').count().reset_index()\n",
    "pathologies.loc['Total'] = pathologies.sum()\n",
    "pathologies.loc[pathologies.index[-1], 'pathology'] = \"\"\n",
    "\n",
    "# Number of patients with multiple abnormalities and diagnoses\n",
    "case_pathologies = df[['patient_id', 'pathology']].drop_duplicates().groupby(by='patient_id').count()\n",
    "n_cases_multiple_pathologies = len(case_pathologies.loc[case_pathologies['pathology']==2])\n",
    "\n",
    "glue('n_records', n_records)\n",
    "glue('pathologies', pathologies)\n",
    "glue('n_cases', n_cases)\n",
    "glue('n_cases_multiple_pathologies', n_cases_multiple_pathologies)"
   ]
  }
 ],
 "metadata": {
  "jupytext": {
   "text_representation": {
    "extension": ".md",
    "format_name": "myst",
    "format_version": 0.13,
    "jupytext_version": "1.16.0"
   }
  },
  "kernelspec": {
   "display_name": "bcd",
   "language": "python",
   "name": "python3"
  },
  "language_info": {
   "codemirror_mode": {
    "name": "ipython",
    "version": 3
   },
   "file_extension": ".py",
   "mimetype": "text/x-python",
   "name": "python",
   "nbconvert_exporter": "python",
   "pygments_lexer": "ipython3",
   "version": "3.10.12"
  },
  "source_map": [
   12,
   22,
   32,
   38,
   42,
   48,
   53,
   57,
   79,
   93,
   102
  ]
 },
 "nbformat": 4,
 "nbformat_minor": 5
}