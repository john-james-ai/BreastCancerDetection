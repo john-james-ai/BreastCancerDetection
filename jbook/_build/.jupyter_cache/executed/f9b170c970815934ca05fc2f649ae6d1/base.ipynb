{
 "cells": [
  {
   "cell_type": "code",
   "execution_count": 1,
   "id": "8d0649e6",
   "metadata": {},
   "outputs": [
    {
     "name": "stdout",
     "output_type": "stream",
     "text": [
      "Python implementation: CPython\n",
      "Python version       : 3.10.12\n",
      "IPython version      : 8.14.0\n",
      "\n",
      "cv2          : 4.8.1\n",
      "ipykernel    : 6.25.1\n",
      "joblib       : 1.3.2\n",
      "jupyter-book : not installed\n",
      "logmatic     : 0.3.5\n",
      "matplotlib   : 3.7.1\n",
      "numpy        : 1.26.2\n",
      "pandas       : 2.1.1\n",
      "python       : not installed\n",
      "python-dotenv: not installed\n",
      "pyyaml       : not installed\n",
      "requests     : 2.31.0\n",
      "scipy        : 1.11.4\n",
      "seaborn      : 0.12.2\n",
      "skimage      : 0.20.0\n",
      "sklearn      : 1.3.0\n",
      "studioai     : 0.2.14\n",
      "yaml         : 6.0.1\n",
      "\n",
      "Compiler    : GCC 11.2.0\n",
      "OS          : Linux\n",
      "Release     : 5.15.133.1-microsoft-standard-WSL2\n",
      "Machine     : x86_64\n",
      "Processor   : x86_64\n",
      "CPU cores   : 24\n",
      "Architecture: 64bit\n",
      "\n"
     ]
    }
   ],
   "source": [
    "%load_ext watermark\n",
    "%watermark -v -m -p cv2,ipykernel,joblib,jupyter-book,logmatic,matplotlib,numpy,pandas,python,python-dotenv,pyyaml,requests,scipy,seaborn,skimage,sklearn,studioai,yaml"
   ]
  }
 ],
 "metadata": {
  "jupytext": {
   "text_representation": {
    "extension": ".md",
    "format_name": "myst",
    "format_version": 0.13,
    "jupytext_version": "1.16.0"
   }
  },
  "kernelspec": {
   "display_name": "Python 3",
   "language": "python",
   "name": "python3"
  },
  "language_info": {
   "codemirror_mode": {
    "name": "ipython",
    "version": 3
   },
   "file_extension": ".py",
   "mimetype": "text/x-python",
   "name": "python",
   "nbconvert_exporter": "python",
   "pygments_lexer": "ipython3",
   "version": "3.10.12"
  },
  "source_map": [
   12,
   110
  ]
 },
 "nbformat": 4,
 "nbformat_minor": 5
}