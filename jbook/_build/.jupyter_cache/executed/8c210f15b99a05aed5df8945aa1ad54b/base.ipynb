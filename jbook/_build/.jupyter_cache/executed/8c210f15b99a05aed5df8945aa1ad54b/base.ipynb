{
 "cells": [
  {
   "cell_type": "code",
   "execution_count": 1,
   "id": "e37182e5",
   "metadata": {
    "tags": [
     "hide-input"
    ]
   },
   "outputs": [],
   "source": [
    "import os\n",
    "if 'jbook' in os.getcwd():\n",
    "    os.chdir(os.path.abspath(os.path.join(\"../../..\")))\n",
    "from myst_nb import glue\n",
    "import pandas as pd"
   ]
  },
  {
   "cell_type": "code",
   "execution_count": 2,
   "id": "c0643015",
   "metadata": {},
   "outputs": [],
   "source": [
    "fp_calc_train = \"data/meta/0_raw/calc_case_description_train_set.csv\"\n",
    "fp_calc_test = \"data/meta/0_raw/calc_case_description_test_set.csv\"\n",
    "fp_mass_train = \"data/meta/0_raw/mass_case_description_train_set.csv\"\n",
    "fp_mass_test = \"data/meta/0_raw/mass_case_description_test_set.csv\"\n",
    "fp_metadata = \"data/meta/0_raw/metadata.csv\""
   ]
  },
  {
   "cell_type": "code",
   "execution_count": 3,
   "id": "e1198f02",
   "metadata": {
    "tags": [
     "hide-input"
    ]
   },
   "outputs": [
    {
     "name": "stdout",
     "output_type": "stream",
     "text": [
      "<class 'pandas.core.frame.DataFrame'>\n",
      "RangeIndex: 1546 entries, 0 to 1545\n",
      "Data columns (total 14 columns):\n",
      " #   Column                   Non-Null Count  Dtype \n",
      "---  ------                   --------------  ----- \n",
      " 0   patient_id               1546 non-null   object\n",
      " 1   breast density           1546 non-null   int64 \n",
      " 2   left or right breast     1546 non-null   object\n",
      " 3   image view               1546 non-null   object\n",
      " 4   abnormality id           1546 non-null   int64 \n",
      " 5   abnormality type         1546 non-null   object\n",
      " 6   calc type                1526 non-null   object\n",
      " 7   calc distribution        1170 non-null   object\n",
      " 8   assessment               1546 non-null   int64 \n",
      " 9   pathology                1546 non-null   object\n",
      " 10  subtlety                 1546 non-null   int64 \n",
      " 11  image file path          1546 non-null   object\n",
      " 12  cropped image file path  1546 non-null   object\n",
      " 13  ROI mask file path       1546 non-null   object\n",
      "dtypes: int64(4), object(10)\n",
      "memory usage: 169.2+ KB\n"
     ]
    }
   ],
   "source": [
    "df = pd.read_csv(fp_calc_train)\n",
    "df.info()"
   ]
  },
  {
   "cell_type": "code",
   "execution_count": 4,
   "id": "8b1bccc6",
   "metadata": {
    "tags": [
     "hide-input",
     "remove-output"
    ]
   },
   "outputs": [
    {
     "data": {
      "text/plain": [
       "1546"
      ]
     },
     "metadata": {
      "scrapbook": {
       "mime_prefix": "",
       "name": "n_records"
      }
     },
     "output_type": "display_data"
    },
    {
     "data": {
      "text/plain": [
       "602"
      ]
     },
     "metadata": {
      "scrapbook": {
       "mime_prefix": "",
       "name": "n_cases"
      }
     },
     "output_type": "display_data"
    },
    {
     "data": {
      "text/html": [
       "<div>\n",
       "<style scoped>\n",
       "    .dataframe tbody tr th:only-of-type {\n",
       "        vertical-align: middle;\n",
       "    }\n",
       "\n",
       "    .dataframe tbody tr th {\n",
       "        vertical-align: top;\n",
       "    }\n",
       "\n",
       "    .dataframe thead th {\n",
       "        text-align: right;\n",
       "    }\n",
       "</style>\n",
       "<table border=\"1\" class=\"dataframe\">\n",
       "  <thead>\n",
       "    <tr style=\"text-align: right;\">\n",
       "      <th></th>\n",
       "      <th>pathology</th>\n",
       "    </tr>\n",
       "    <tr>\n",
       "      <th>patient_id</th>\n",
       "      <th></th>\n",
       "    </tr>\n",
       "  </thead>\n",
       "  <tbody>\n",
       "    <tr>\n",
       "      <th>P_00005</th>\n",
       "      <td>1</td>\n",
       "    </tr>\n",
       "    <tr>\n",
       "      <th>P_00007</th>\n",
       "      <td>1</td>\n",
       "    </tr>\n",
       "    <tr>\n",
       "      <th>P_00008</th>\n",
       "      <td>1</td>\n",
       "    </tr>\n",
       "    <tr>\n",
       "      <th>P_00010</th>\n",
       "      <td>1</td>\n",
       "    </tr>\n",
       "    <tr>\n",
       "      <th>P_00011</th>\n",
       "      <td>1</td>\n",
       "    </tr>\n",
       "    <tr>\n",
       "      <th>...</th>\n",
       "      <td>...</td>\n",
       "    </tr>\n",
       "    <tr>\n",
       "      <th>P_02559</th>\n",
       "      <td>1</td>\n",
       "    </tr>\n",
       "    <tr>\n",
       "      <th>P_02563</th>\n",
       "      <td>1</td>\n",
       "    </tr>\n",
       "    <tr>\n",
       "      <th>P_02566</th>\n",
       "      <td>1</td>\n",
       "    </tr>\n",
       "    <tr>\n",
       "      <th>P_02572</th>\n",
       "      <td>1</td>\n",
       "    </tr>\n",
       "    <tr>\n",
       "      <th>P_02584</th>\n",
       "      <td>1</td>\n",
       "    </tr>\n",
       "  </tbody>\n",
       "</table>\n",
       "<p>602 rows × 1 columns</p>\n",
       "</div>"
      ],
      "text/plain": [
       "            pathology\n",
       "patient_id           \n",
       "P_00005             1\n",
       "P_00007             1\n",
       "P_00008             1\n",
       "P_00010             1\n",
       "P_00011             1\n",
       "...               ...\n",
       "P_02559             1\n",
       "P_02563             1\n",
       "P_02566             1\n",
       "P_02572             1\n",
       "P_02584             1\n",
       "\n",
       "[602 rows x 1 columns]"
      ]
     },
     "metadata": {
      "scrapbook": {
       "mime_prefix": "",
       "name": "case_pathologies"
      }
     },
     "output_type": "display_data"
    },
    {
     "data": {
      "text/plain": [
       "14"
      ]
     },
     "metadata": {
      "scrapbook": {
       "mime_prefix": "",
       "name": "n_cases_multiple_pathologies"
      }
     },
     "output_type": "display_data"
    }
   ],
   "source": [
    "n_records = len(df)\n",
    "n_cases =  df['patient_id'].nunique()\n",
    "case_pathologies = df[['patient_id', 'pathology']].drop_duplicates().groupby(by='patient_id').count()\n",
    "n_cases_multiple_pathologies = len(case_pathologies.loc[case_pathologies['pathology']==2])\n",
    "glue('n_records', n_records)\n",
    "glue('n_cases', n_cases)\n",
    "glue('case_pathologies', case_pathologies)\n",
    "glue('n_cases_multiple_pathologies', n_cases_multiple_pathologies)"
   ]
  }
 ],
 "metadata": {
  "jupytext": {
   "text_representation": {
    "extension": ".md",
    "format_name": "myst",
    "format_version": 0.13,
    "jupytext_version": "1.16.0"
   }
  },
  "kernelspec": {
   "display_name": "bcd",
   "language": "python",
   "name": "python3"
  },
  "language_info": {
   "codemirror_mode": {
    "name": "ipython",
    "version": 3
   },
   "file_extension": ".py",
   "mimetype": "text/x-python",
   "name": "python",
   "nbconvert_exporter": "python",
   "pygments_lexer": "ipython3",
   "version": "3.10.12"
  },
  "source_map": [
   12,
   21,
   30,
   36,
   40,
   46,
   51,
   55,
   66,
   76,
   85
  ]
 },
 "nbformat": 4,
 "nbformat_minor": 5
}