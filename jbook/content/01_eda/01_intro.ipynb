{
 "cells": [
  {
   "cell_type": "markdown",
   "id": "02a1c535",
   "metadata": {},
   "source": [
    "# EDA Part 1: Introduction\n",
    "\n",
    "In this section, we conduct an exploratory data analysis of the CBIS-DDSM dataset with several goals in mind:\n",
    "\n",
    "1. Maximize insight into the data and the factors that influence screening results in the CBIS-DDSM dataset.\n",
    "2. Assess the quality of the digital mammography in the CBIS-DDSM dataset.\n",
    "3. Select optimal methods and parameters for preprocessing tasks such as denoising and artifact removal.\n",
    "\n",
    "```{table}\n",
    ":name: eda_vars\n",
    "| Variable          | Section | Definition                                                              |\n",
    "|-------------------|---------|-------------------------------------------------------------------------|\n",
    "| patient_id        | Case    | Identifier for each patient                                             |\n",
    "| mmg_id            | Case    | Identifier for each mammogram                                           |\n",
    "| breast_density    | Case    | BI-RADS categorization of the amount of fibroglandular tissue (FGT)     |\n",
    "| laterality        | Case    | Left or right breast                                                    |\n",
    "| image_view        | Case    | Craniocaudal (CC) or Mediolateral Oblique (MLO) view                    |\n",
    "| abnormality_id    | Case    | The number of abnormality in the mammogram.                             |\n",
    "| abnormality_type  | Case    | Either calcification or mass                                            |\n",
    "| calc_type         | Case    | Calcification type (when applicable)                                    |\n",
    "| calc_distribution | Case    | Calcification distribution (when applicable)                            |\n",
    "| assessment        | Case    | BI-RADS assessment in [0,5]                                             |\n",
    "| pathology         | Case    | Either 'BENIGN, 'BENIGN_WITHOUT_CALLBACK', or 'MALIGNANT'               |\n",
    "| subtlety          | Case    | Indication of reading difficulty from 0 - highly subtle to 5 - obvious. |\n",
    "| mass_shape        | Case    | Shape of the mass such as round, oval, lobular, or irregular            |\n",
    "| mass_margins      | Case    | The feature that separates the mass from adjacent breast parenchyma.    |\n",
    "| cancer            | Case    | Either True (Malignant) or False (Benign)                               |\n",
    "| bit_depth         | Image   | Number of bits representing a pixel value. Either 8 or 16               |\n",
    "| rows              | Image   | Number of rows in the image                                             |\n",
    "| cols              | Image   | Number of columns in the image                                          |\n",
    "| aspect_ratio      | Image   | Ratio of the image width to height.                                     |\n",
    "| size              | Image   | Product of image width and height                                       |\n",
    "| min_pixel_value   | Image   | Minimum pixel value                                                     |\n",
    "| max_pixel_value   | Image   | Maximum pixel value                                                     |\n",
    "| mean_pixel_value  | Image   | Average pixel value                                                     |\n",
    "| std_pixel_value   | Image   | Standard deviation of pixel values                                      |\n",
    "```\n",
    "\n",
    "The exploratory data analysis will include the case and image variables listed in {numref}`eda_vars` and will be structured as follows:\n",
    "\n",
    "{numref}`eda2` explores the case metadata for insights into screening and diagnosis of calcification and mass abnormalities in the dataset. {numref}`eda3` examines the quality and characteristics of the CBIS-DDSM images vis-à-vis abnormality type and morphological features of calcifications and masses. Finally, {numref}`eda4` evaluates methods and optimal parameter settings for preprocessing tasks such as denoising and artifact removal."
   ]
  }
 ],
 "metadata": {
  "kernelspec": {
   "display_name": "Python 3",
   "language": "python",
   "name": "python3"
  }
 },
 "nbformat": 4,
 "nbformat_minor": 5
}
