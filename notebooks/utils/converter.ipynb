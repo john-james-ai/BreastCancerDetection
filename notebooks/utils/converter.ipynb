{
 "cells": [
  {
   "cell_type": "markdown",
   "metadata": {},
   "source": [
    "# Jupyter / Myst Migration\n",
    "This notebook performs the migration of content between the notebook and jbook folders."
   ]
  },
  {
   "cell_type": "code",
   "execution_count": 1,
   "metadata": {},
   "outputs": [],
   "source": [
    "from bcd.utils.jbook import DocConverter"
   ]
  },
  {
   "cell_type": "code",
   "execution_count": 2,
   "metadata": {},
   "outputs": [
    {
     "ename": "NotJSONError",
     "evalue": "Notebook does not appear to be JSON: ''",
     "output_type": "error",
     "traceback": [
      "\u001b[0;31m---------------------------------------------------------------------------\u001b[0m",
      "\u001b[0;31mJSONDecodeError\u001b[0m                           Traceback (most recent call last)",
      "File \u001b[0;32m~/anaconda3/envs/bcd/lib/python3.10/site-packages/nbformat/reader.py:20\u001b[0m, in \u001b[0;36mparse_json\u001b[0;34m(s, **kwargs)\u001b[0m\n\u001b[1;32m     19\u001b[0m \u001b[39mtry\u001b[39;00m:\n\u001b[0;32m---> 20\u001b[0m     nb_dict \u001b[39m=\u001b[39m json\u001b[39m.\u001b[39;49mloads(s, \u001b[39m*\u001b[39;49m\u001b[39m*\u001b[39;49mkwargs)\n\u001b[1;32m     21\u001b[0m \u001b[39mexcept\u001b[39;00m \u001b[39mValueError\u001b[39;00m \u001b[39mas\u001b[39;00m e:\n",
      "File \u001b[0;32m~/anaconda3/envs/bcd/lib/python3.10/json/__init__.py:346\u001b[0m, in \u001b[0;36mloads\u001b[0;34m(s, cls, object_hook, parse_float, parse_int, parse_constant, object_pairs_hook, **kw)\u001b[0m\n\u001b[1;32m    343\u001b[0m \u001b[39mif\u001b[39;00m (\u001b[39mcls\u001b[39m \u001b[39mis\u001b[39;00m \u001b[39mNone\u001b[39;00m \u001b[39mand\u001b[39;00m object_hook \u001b[39mis\u001b[39;00m \u001b[39mNone\u001b[39;00m \u001b[39mand\u001b[39;00m\n\u001b[1;32m    344\u001b[0m         parse_int \u001b[39mis\u001b[39;00m \u001b[39mNone\u001b[39;00m \u001b[39mand\u001b[39;00m parse_float \u001b[39mis\u001b[39;00m \u001b[39mNone\u001b[39;00m \u001b[39mand\u001b[39;00m\n\u001b[1;32m    345\u001b[0m         parse_constant \u001b[39mis\u001b[39;00m \u001b[39mNone\u001b[39;00m \u001b[39mand\u001b[39;00m object_pairs_hook \u001b[39mis\u001b[39;00m \u001b[39mNone\u001b[39;00m \u001b[39mand\u001b[39;00m \u001b[39mnot\u001b[39;00m kw):\n\u001b[0;32m--> 346\u001b[0m     \u001b[39mreturn\u001b[39;00m _default_decoder\u001b[39m.\u001b[39;49mdecode(s)\n\u001b[1;32m    347\u001b[0m \u001b[39mif\u001b[39;00m \u001b[39mcls\u001b[39m \u001b[39mis\u001b[39;00m \u001b[39mNone\u001b[39;00m:\n",
      "File \u001b[0;32m~/anaconda3/envs/bcd/lib/python3.10/json/decoder.py:337\u001b[0m, in \u001b[0;36mJSONDecoder.decode\u001b[0;34m(self, s, _w)\u001b[0m\n\u001b[1;32m    333\u001b[0m \u001b[39m\u001b[39m\u001b[39m\"\"\"Return the Python representation of ``s`` (a ``str`` instance\u001b[39;00m\n\u001b[1;32m    334\u001b[0m \u001b[39mcontaining a JSON document).\u001b[39;00m\n\u001b[1;32m    335\u001b[0m \n\u001b[1;32m    336\u001b[0m \u001b[39m\"\"\"\u001b[39;00m\n\u001b[0;32m--> 337\u001b[0m obj, end \u001b[39m=\u001b[39m \u001b[39mself\u001b[39;49m\u001b[39m.\u001b[39;49mraw_decode(s, idx\u001b[39m=\u001b[39;49m_w(s, \u001b[39m0\u001b[39;49m)\u001b[39m.\u001b[39;49mend())\n\u001b[1;32m    338\u001b[0m end \u001b[39m=\u001b[39m _w(s, end)\u001b[39m.\u001b[39mend()\n",
      "File \u001b[0;32m~/anaconda3/envs/bcd/lib/python3.10/json/decoder.py:355\u001b[0m, in \u001b[0;36mJSONDecoder.raw_decode\u001b[0;34m(self, s, idx)\u001b[0m\n\u001b[1;32m    354\u001b[0m \u001b[39mexcept\u001b[39;00m \u001b[39mStopIteration\u001b[39;00m \u001b[39mas\u001b[39;00m err:\n\u001b[0;32m--> 355\u001b[0m     \u001b[39mraise\u001b[39;00m JSONDecodeError(\u001b[39m\"\u001b[39m\u001b[39mExpecting value\u001b[39m\u001b[39m\"\u001b[39m, s, err\u001b[39m.\u001b[39mvalue) \u001b[39mfrom\u001b[39;00m \u001b[39mNone\u001b[39;00m\n\u001b[1;32m    356\u001b[0m \u001b[39mreturn\u001b[39;00m obj, end\n",
      "\u001b[0;31mJSONDecodeError\u001b[0m: Expecting value: line 1 column 1 (char 0)",
      "\nThe above exception was the direct cause of the following exception:\n",
      "\u001b[0;31mNotJSONError\u001b[0m                              Traceback (most recent call last)",
      "\u001b[1;32m/home/john/projects/bcd/notebooks/utils/converter.ipynb Cell 3\u001b[0m line \u001b[0;36m2\n\u001b[1;32m      <a href='vscode-notebook-cell://wsl%2Bubuntu/home/john/projects/bcd/notebooks/utils/converter.ipynb#W2sdnNjb2RlLXJlbW90ZQ%3D%3D?line=0'>1</a>\u001b[0m converter \u001b[39m=\u001b[39m DocConverter()\n\u001b[0;32m----> <a href='vscode-notebook-cell://wsl%2Bubuntu/home/john/projects/bcd/notebooks/utils/converter.ipynb#W2sdnNjb2RlLXJlbW90ZQ%3D%3D?line=1'>2</a>\u001b[0m converter\u001b[39m.\u001b[39;49mto_jbook(force\u001b[39m=\u001b[39;49m\u001b[39mTrue\u001b[39;49;00m)\n",
      "File \u001b[0;32m~/projects/bcd/bcd/utils/jbook.py:96\u001b[0m, in \u001b[0;36mDocConverter.to_jbook\u001b[0;34m(self, force)\u001b[0m\n\u001b[1;32m     94\u001b[0m         \u001b[39mself\u001b[39m\u001b[39m.\u001b[39m_to_jbook(source\u001b[39m=\u001b[39msource, dest\u001b[39m=\u001b[39mdest)\n\u001b[1;32m     95\u001b[0m \u001b[39melse\u001b[39;00m:\n\u001b[0;32m---> 96\u001b[0m     \u001b[39mself\u001b[39;49m\u001b[39m.\u001b[39;49m_to_jbook(source\u001b[39m=\u001b[39;49msource, dest\u001b[39m=\u001b[39;49mdest)\n",
      "File \u001b[0;32m~/projects/bcd/bcd/utils/jbook.py:114\u001b[0m, in \u001b[0;36mDocConverter._to_jbook\u001b[0;34m(self, source, dest)\u001b[0m\n\u001b[1;32m    112\u001b[0m \u001b[39mdef\u001b[39;00m \u001b[39m_to_jbook\u001b[39m(\u001b[39mself\u001b[39m, source: \u001b[39mstr\u001b[39m, dest: \u001b[39mstr\u001b[39m) \u001b[39m-\u001b[39m\u001b[39m>\u001b[39m \u001b[39mNone\u001b[39;00m:\n\u001b[1;32m    113\u001b[0m \u001b[39m    \u001b[39m\u001b[39m\"\"\"Converts a single myst markdown file to jupyter notebook.\"\"\"\u001b[39;00m\n\u001b[0;32m--> 114\u001b[0m     nb \u001b[39m=\u001b[39m jupytext\u001b[39m.\u001b[39;49mread(source)\n\u001b[1;32m    115\u001b[0m     jupytext\u001b[39m.\u001b[39mwrite(nb, dest, fmt\u001b[39m=\u001b[39m\u001b[39m\"\u001b[39m\u001b[39mmd:myst\u001b[39m\u001b[39m\"\u001b[39m)\n\u001b[1;32m    116\u001b[0m     logger\u001b[39m.\u001b[39minfo(\u001b[39mf\u001b[39m\u001b[39m\"\u001b[39m\u001b[39mJBook markdown converted from \u001b[39m\u001b[39m{\u001b[39;00msource\u001b[39m}\u001b[39;00m\u001b[39m to \u001b[39m\u001b[39m{\u001b[39;00mdest\u001b[39m}\u001b[39;00m\u001b[39m\"\u001b[39m)\n",
      "File \u001b[0;32m~/anaconda3/envs/bcd/lib/python3.10/site-packages/jupytext/jupytext.py:421\u001b[0m, in \u001b[0;36mread\u001b[0;34m(fp, as_version, fmt, config, **kwargs)\u001b[0m\n\u001b[1;32m    419\u001b[0m     fmt\u001b[39m.\u001b[39mupdate({\u001b[39m\"\u001b[39m\u001b[39mextension\u001b[39m\u001b[39m\"\u001b[39m: ext})\n\u001b[1;32m    420\u001b[0m     \u001b[39mwith\u001b[39;00m \u001b[39mopen\u001b[39m(fp, encoding\u001b[39m=\u001b[39m\u001b[39m\"\u001b[39m\u001b[39mutf-8\u001b[39m\u001b[39m\"\u001b[39m) \u001b[39mas\u001b[39;00m stream:\n\u001b[0;32m--> 421\u001b[0m         \u001b[39mreturn\u001b[39;00m read(stream, as_version\u001b[39m=\u001b[39;49mas_version, fmt\u001b[39m=\u001b[39;49mfmt, config\u001b[39m=\u001b[39;49mconfig, \u001b[39m*\u001b[39;49m\u001b[39m*\u001b[39;49mkwargs)\n\u001b[1;32m    423\u001b[0m \u001b[39mif\u001b[39;00m fmt \u001b[39mis\u001b[39;00m \u001b[39mnot\u001b[39;00m \u001b[39mNone\u001b[39;00m:\n\u001b[1;32m    424\u001b[0m     fmt \u001b[39m=\u001b[39m long_form_one_format(fmt)\n",
      "File \u001b[0;32m~/anaconda3/envs/bcd/lib/python3.10/site-packages/jupytext/jupytext.py:426\u001b[0m, in \u001b[0;36mread\u001b[0;34m(fp, as_version, fmt, config, **kwargs)\u001b[0m\n\u001b[1;32m    424\u001b[0m fmt \u001b[39m=\u001b[39m long_form_one_format(fmt)\n\u001b[1;32m    425\u001b[0m \u001b[39mif\u001b[39;00m fmt[\u001b[39m\"\u001b[39m\u001b[39mextension\u001b[39m\u001b[39m\"\u001b[39m] \u001b[39m==\u001b[39m \u001b[39m\"\u001b[39m\u001b[39m.ipynb\u001b[39m\u001b[39m\"\u001b[39m:\n\u001b[0;32m--> 426\u001b[0m     notebook \u001b[39m=\u001b[39m nbformat\u001b[39m.\u001b[39;49mread(fp, as_version, \u001b[39m*\u001b[39;49m\u001b[39m*\u001b[39;49mkwargs)\n\u001b[1;32m    427\u001b[0m     rearrange_jupytext_metadata(notebook\u001b[39m.\u001b[39mmetadata)\n\u001b[1;32m    428\u001b[0m     \u001b[39mreturn\u001b[39;00m notebook\n",
      "File \u001b[0;32m~/anaconda3/envs/bcd/lib/python3.10/site-packages/nbformat/__init__.py:171\u001b[0m, in \u001b[0;36mread\u001b[0;34m(fp, as_version, capture_validation_error, **kwargs)\u001b[0m\n\u001b[1;32m    168\u001b[0m     \u001b[39mwith\u001b[39;00m \u001b[39mopen\u001b[39m(fp, encoding\u001b[39m=\u001b[39m\u001b[39m\"\u001b[39m\u001b[39mutf-8\u001b[39m\u001b[39m\"\u001b[39m) \u001b[39mas\u001b[39;00m f:\n\u001b[1;32m    169\u001b[0m         \u001b[39mreturn\u001b[39;00m reads(f\u001b[39m.\u001b[39mread(), as_version, capture_validation_error, \u001b[39m*\u001b[39m\u001b[39m*\u001b[39mkwargs)\n\u001b[0;32m--> 171\u001b[0m \u001b[39mreturn\u001b[39;00m reads(buf, as_version, capture_validation_error, \u001b[39m*\u001b[39;49m\u001b[39m*\u001b[39;49mkwargs)\n",
      "File \u001b[0;32m~/anaconda3/envs/bcd/lib/python3.10/site-packages/nbformat/__init__.py:89\u001b[0m, in \u001b[0;36mreads\u001b[0;34m(s, as_version, capture_validation_error, **kwargs)\u001b[0m\n\u001b[1;32m     63\u001b[0m \u001b[39mdef\u001b[39;00m \u001b[39mreads\u001b[39m(s, as_version, capture_validation_error\u001b[39m=\u001b[39m\u001b[39mNone\u001b[39;00m, \u001b[39m*\u001b[39m\u001b[39m*\u001b[39mkwargs):\n\u001b[1;32m     64\u001b[0m \u001b[39m    \u001b[39m\u001b[39m\"\"\"Read a notebook from a string and return the NotebookNode object as the given version.\u001b[39;00m\n\u001b[1;32m     65\u001b[0m \n\u001b[1;32m     66\u001b[0m \u001b[39m    The string can contain a notebook of any version.\u001b[39;00m\n\u001b[0;32m   (...)\u001b[0m\n\u001b[1;32m     87\u001b[0m \u001b[39m        The notebook that was read.\u001b[39;00m\n\u001b[1;32m     88\u001b[0m \u001b[39m    \"\"\"\u001b[39;00m\n\u001b[0;32m---> 89\u001b[0m     nb \u001b[39m=\u001b[39m reader\u001b[39m.\u001b[39;49mreads(s, \u001b[39m*\u001b[39;49m\u001b[39m*\u001b[39;49mkwargs)\n\u001b[1;32m     90\u001b[0m     \u001b[39mif\u001b[39;00m as_version \u001b[39mis\u001b[39;00m \u001b[39mnot\u001b[39;00m NO_CONVERT:\n\u001b[1;32m     91\u001b[0m         nb \u001b[39m=\u001b[39m convert(nb, as_version)\n",
      "File \u001b[0;32m~/anaconda3/envs/bcd/lib/python3.10/site-packages/nbformat/reader.py:76\u001b[0m, in \u001b[0;36mreads\u001b[0;34m(s, **kwargs)\u001b[0m\n\u001b[1;32m     51\u001b[0m \u001b[39m\u001b[39m\u001b[39m\"\"\"Read a notebook from a json string and return the\u001b[39;00m\n\u001b[1;32m     52\u001b[0m \u001b[39mNotebookNode object.\u001b[39;00m\n\u001b[1;32m     53\u001b[0m \n\u001b[0;32m   (...)\u001b[0m\n\u001b[1;32m     72\u001b[0m \u001b[39m    Specified major version is invalid or unsupported.\u001b[39;00m\n\u001b[1;32m     73\u001b[0m \u001b[39m\"\"\"\u001b[39;00m\n\u001b[1;32m     74\u001b[0m \u001b[39mfrom\u001b[39;00m \u001b[39m.\u001b[39;00m \u001b[39mimport\u001b[39;00m NBFormatError, versions\n\u001b[0;32m---> 76\u001b[0m nb_dict \u001b[39m=\u001b[39m parse_json(s, \u001b[39m*\u001b[39;49m\u001b[39m*\u001b[39;49mkwargs)\n\u001b[1;32m     77\u001b[0m (major, minor) \u001b[39m=\u001b[39m get_version(nb_dict)\n\u001b[1;32m     78\u001b[0m \u001b[39mif\u001b[39;00m major \u001b[39min\u001b[39;00m versions:\n",
      "File \u001b[0;32m~/anaconda3/envs/bcd/lib/python3.10/site-packages/nbformat/reader.py:26\u001b[0m, in \u001b[0;36mparse_json\u001b[0;34m(s, **kwargs)\u001b[0m\n\u001b[1;32m     24\u001b[0m     \u001b[39mif\u001b[39;00m \u001b[39mlen\u001b[39m(message) \u001b[39m>\u001b[39m \u001b[39m80\u001b[39m:  \u001b[39m# noqa\u001b[39;00m\n\u001b[1;32m     25\u001b[0m         message \u001b[39m=\u001b[39m message[:\u001b[39m77\u001b[39m] \u001b[39m+\u001b[39m \u001b[39m\"\u001b[39m\u001b[39m...\u001b[39m\u001b[39m\"\u001b[39m\n\u001b[0;32m---> 26\u001b[0m     \u001b[39mraise\u001b[39;00m NotJSONError(message) \u001b[39mfrom\u001b[39;00m \u001b[39me\u001b[39;00m\n\u001b[1;32m     27\u001b[0m \u001b[39mreturn\u001b[39;00m nb_dict\n",
      "\u001b[0;31mNotJSONError\u001b[0m: Notebook does not appear to be JSON: ''"
     ]
    }
   ],
   "source": [
    "converter = DocConverter()\n",
    "converter.to_jbook(force=True)"
   ]
  }
 ],
 "metadata": {
  "kernelspec": {
   "display_name": "bcd",
   "language": "python",
   "name": "python3"
  },
  "language_info": {
   "codemirror_mode": {
    "name": "ipython",
    "version": 3
   },
   "file_extension": ".py",
   "mimetype": "text/x-python",
   "name": "python",
   "nbconvert_exporter": "python",
   "pygments_lexer": "ipython3",
   "version": "3.10.12"
  },
  "orig_nbformat": 4
 },
 "nbformat": 4,
 "nbformat_minor": 2
}
