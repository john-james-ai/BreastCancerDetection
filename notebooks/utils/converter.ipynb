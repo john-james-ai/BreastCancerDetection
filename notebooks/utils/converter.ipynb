{
 "cells": [
  {
   "cell_type": "markdown",
   "metadata": {},
   "source": [
    "# Jupyter / Myst Migration\n",
    "This notebook performs the migration of content between the notebook and jbook folders."
   ]
  },
  {
   "cell_type": "code",
   "execution_count": 1,
   "metadata": {},
   "outputs": [],
   "source": [
    "from bcd.utils.jbook import DocConverter"
   ]
  },
  {
   "cell_type": "code",
   "execution_count": 2,
   "metadata": {},
   "outputs": [],
   "source": [
    "source_path = \"notebooks/content/00_data/*.ipynb\"\n",
    "dest_path = \"jbook/content/00_data/*.md\"\n",
    "converter = DocConverter(jbook_search_path=dest_path, notebook_search_path=source_path)\n",
    "converter.to_jbook(force=True)"
   ]
  }
 ],
 "metadata": {
  "kernelspec": {
   "display_name": "bcd",
   "language": "python",
   "name": "python3"
  },
  "language_info": {
   "codemirror_mode": {
    "name": "ipython",
    "version": 3
   },
   "file_extension": ".py",
   "mimetype": "text/x-python",
   "name": "python",
   "nbconvert_exporter": "python",
   "pygments_lexer": "ipython3",
   "version": "3.10.12"
  },
  "orig_nbformat": 4
 },
 "nbformat": 4,
 "nbformat_minor": 2
}
