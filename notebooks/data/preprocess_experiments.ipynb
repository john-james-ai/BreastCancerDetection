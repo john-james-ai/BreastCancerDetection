{
 "cells": [
  {
   "cell_type": "markdown",
   "metadata": {},
   "source": [
    "# Image Preprocessing"
   ]
  },
  {
   "cell_type": "markdown",
   "metadata": {},
   "source": [
    "## Inports"
   ]
  },
  {
   "cell_type": "code",
   "execution_count": 1,
   "metadata": {},
   "outputs": [],
   "source": [
    "from bcd.dal.image import ImageRepo\n",
    "from bcd.preprocess.builder import ImageProcessingJobBuilder\n",
    "from bcd.preprocess.noise import MedianFilter\n",
    "from bcd.preprocess.threshold import ThresholdTriangle, ThresholdManual\n",
    "from bcd.preprocess.artifact import ArtifactRemoverContour, ArtifactRemoverConnection\n",
    "from bcd.preprocess.enhance import Enhance"
   ]
  },
  {
   "cell_type": "markdown",
   "metadata": {},
   "source": [
    "## Contants and Parameters"
   ]
  },
  {
   "cell_type": "code",
   "execution_count": 2,
   "metadata": {},
   "outputs": [],
   "source": [
    "destination = \"data/image/2_exp/contour_manual/\"\n",
    "mmgs = ['Calc-Training_P_00008_RIGHT_MLO', 'Calc-Training_P_00098_LEFT_MLO','Calc-Training_P_00224_LEFT_MLO','Calc-Training_P_01823_RIGHT_MLO','Calc-Training_P_00978_LEFT_CC','Mass-Training_P_00634_RIGHT_MLO','Mass-Training_P_01641_LEFT_CC','Mass-Training_P_01853_LEFT_CC']\n",
    "condition = lambda x: x['mmg_id'].isin(mmgs)\n",
    "force=True\n",
    "clip_limit = 2.0\n",
    "thresholds = [0, 0.1, 0.2]\n",
    "kernel_sizes = [3,7,11,15,23]"
   ]
  },
  {
   "cell_type": "markdown",
   "metadata": {},
   "source": [
    "## Tasks"
   ]
  },
  {
   "cell_type": "code",
   "execution_count": 3,
   "metadata": {},
   "outputs": [
    {
     "name": "stderr",
     "output_type": "stream",
     "text": [
      "100%|██████████| 8/8 [00:00<00:00, 322.88it/s]\n",
      "100%|██████████| 8/8 [00:00<00:00, 1245.71it/s]\n",
      "100%|██████████| 8/8 [00:00<00:00, 1351.37it/s]\n",
      "100%|██████████| 8/8 [00:00<00:00, 1396.24it/s]\n",
      "100%|██████████| 8/8 [00:00<00:00, 1441.90it/s]\n",
      "100%|██████████| 8/8 [00:00<00:00, 1478.56it/s]\n",
      "100%|██████████| 8/8 [00:00<00:00, 1586.65it/s]\n",
      "100%|██████████| 8/8 [00:00<00:00, 1527.21it/s]\n",
      "100%|██████████| 8/8 [00:00<00:00, 1807.60it/s]\n",
      "100%|██████████| 8/8 [00:00<00:00, 1408.19it/s]\n",
      "100%|██████████| 8/8 [00:00<00:00, 1499.57it/s]\n",
      "100%|██████████| 8/8 [00:00<00:00, 1419.75it/s]\n",
      "100%|██████████| 8/8 [00:00<00:00, 1290.41it/s]\n",
      "100%|██████████| 8/8 [00:00<00:00, 1357.27it/s]\n",
      "100%|██████████| 8/8 [00:00<00:00, 1542.38it/s]\n"
     ]
    }
   ],
   "source": [
    "for threshold in thresholds:\n",
    "    for kernel_size in kernel_sizes:\n",
    "        directory = f'{destination}threshold_{threshold}_kernel_{kernel_size}'\n",
    "        noise = MedianFilter()\n",
    "        thresh = ThresholdManual(threshold=threshold)\n",
    "        artifact = ArtifactRemoverContour(binarizer=thresh, kernel_size=kernel_size)\n",
    "        enhance = Enhance(clip_limit=clip_limit)\n",
    "        builder = ImageProcessingJobBuilder(repo=ImageRepo)\n",
    "        builder.set_resources()\n",
    "        builder.set_inputs(condition=condition)\n",
    "        builder.set_outputs(destination=directory,force=force)\n",
    "        builder.add_task(task=noise)\n",
    "        builder.add_task(task=artifact)\n",
    "        builder.add_task(task=enhance)\n",
    "        job = builder.job\n",
    "        job.run()"
   ]
  }
 ],
 "metadata": {
  "kernelspec": {
   "display_name": "bcd",
   "language": "python",
   "name": "python3"
  },
  "language_info": {
   "codemirror_mode": {
    "name": "ipython",
    "version": 3
   },
   "file_extension": ".py",
   "mimetype": "text/x-python",
   "name": "python",
   "nbconvert_exporter": "python",
   "pygments_lexer": "ipython3",
   "version": "3.10.12"
  }
 },
 "nbformat": 4,
 "nbformat_minor": 2
}
