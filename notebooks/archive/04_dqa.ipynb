{
 "cells": [
  {
   "cell_type": "markdown",
   "metadata": {},
   "source": [
    "# CBIS-DDSM Data Quality Analysis (DQA)\n",
    "\n",
    "This section aims to identify any data issues that may affect downstream analyses and modeling efforts. Our approach will touch on four dimensions of data quality. \n",
    "\n",
    "| # | Dimension | Definition | Metric | Metric Definition |\n",
    "|---|----------------|-------------------------------------|----------------|-------------------------------------|\n",
    "| 1 | Completeness | Are the data complete? | Completeness Ratio | Ratio of non-null values / rows over the total number of data cells / rows |\n",
    "| 2 | Uniqueness | Are their duplicate records | Uniqueness Ratio | Ratio of unique values / rows over total number of cells / rows |\n",
    "| 3 | Validity   | Are the values consistent with defined rules? | Validity Ratio | Ratio of valid cells / rows over total number of data cells / rows |\n",
    "| 4 | Consistency   | Are the data consistent across datasets? | Consistency Ratio | Ratio of consistent data pairs over total data pairs evaluated |\n",
    "\n",
    "\n",
    "Datasets in scope for this analysis are as follows:\n",
    "\n",
    "| # | File Name | Description |\n",
    "|---|----------------|-------------------------------------|\n",
    "| 1 | calc_cases.csv | Calcification Case Descriptive Data |\n",
    "| 2 | mass_cases.csv | Mass Case Descriptive Data          |\n",
    "| 3 | series.csv     | Series Metadata                     |\n",
    "| 4 | dicom.csv      | DICOM Image Metadata                |\n",
    "\n",
    "Completeness, uniqueness, and validity analyses will be conducted on each dataset separately. After which, we'll evaluate the degree to which mass and calcification case data and DICOM metadata are consistent. \n",
    "\n",
    "Note, accuracy and relevance, two additional dimensions of data quality,  are missing from this analysis. An accuracy evaluation requires an external source-of-truth with which, the CBIS-DDSM data are matched. As we lack such a data source, we have no basis for evaluating the accuracy of the CBIS-DDSM data collection. With respect to relevance, duplicate and irrelevant data were removed from the data collection during the previous data preparation exercise."
   ]
  },
  {
   "cell_type": "code",
   "execution_count": 48,
   "metadata": {},
   "outputs": [],
   "source": [
    "import os\n",
    "if 'jbook' in os.getcwd():\n",
    "    os.chdir(os.path.abspath(os.path.join(\"../..\")))\n",
    "\n",
    "import pandas as pd\n",
    "import numpy as np\n",
    "\n",
    "from bcd.data.case.dqa import MassCaseDQA, CalcCaseDQA\n",
    "from bcd.data.series.dqa import SeriesDQA\n",
    "from bcd.data.dicom.dqa import DicomDQA"
   ]
  },
  {
   "cell_type": "code",
   "execution_count": 49,
   "metadata": {
    "tags": [
     "remove-input"
    ]
   },
   "outputs": [],
   "source": [
    "# Filepaths\n",
    "fpc = \"data/staged/calc_cases.csv\"\n",
    "fpm = \"data/staged/mass_cases.csv\"\n",
    "fps = \"data/staged/series.csv\"\n",
    "fpd = \"data/staged/dicom.csv\""
   ]
  },
  {
   "cell_type": "markdown",
   "metadata": {},
   "source": [
    "## Calcification Cases\n",
    "### Completeness Analysis"
   ]
  },
  {
   "cell_type": "code",
   "execution_count": 50,
   "metadata": {},
   "outputs": [
    {
     "name": "stdout",
     "output_type": "stream",
     "text": [
      "\n",
      "\n",
      "                          Completeness                          \n",
      "                         Dataset | Calc Cases\n",
      "                        Filename | calc_cases.csv\n",
      "                            Rows | 1872\n",
      "                   Rows Complete | 1409\n",
      "                Row Completeness | 0.753\n",
      "                           Cells | 28080\n",
      "                  Cells Complete | 27617\n",
      "               Cell Completeness | 0.984\n",
      "\n",
      "\n"
     ]
    }
   ],
   "source": [
    "dqa = CalcCaseDQA(filepath=fpc)\n",
    "calc_completeness = dqa.analyze_completeness()\n",
    "print(calc_completeness.summary)"
   ]
  },
  {
   "cell_type": "markdown",
   "metadata": {},
   "source": [
    "Here, we've summarized dataset completeness at the row and cell levels. We have a completeness of 0.75 and 0.98 for rows and cells respectively. Let's drill down to the variable level."
   ]
  },
  {
   "cell_type": "code",
   "execution_count": 51,
   "metadata": {},
   "outputs": [
    {
     "data": {
      "text/html": [
       "<div>\n",
       "<style scoped>\n",
       "    .dataframe tbody tr th:only-of-type {\n",
       "        vertical-align: middle;\n",
       "    }\n",
       "\n",
       "    .dataframe tbody tr th {\n",
       "        vertical-align: top;\n",
       "    }\n",
       "\n",
       "    .dataframe thead th {\n",
       "        text-align: right;\n",
       "    }\n",
       "</style>\n",
       "<table border=\"1\" class=\"dataframe\">\n",
       "  <thead>\n",
       "    <tr style=\"text-align: right;\">\n",
       "      <th></th>\n",
       "      <th>N</th>\n",
       "      <th>Complete</th>\n",
       "      <th>Completeness</th>\n",
       "    </tr>\n",
       "  </thead>\n",
       "  <tbody>\n",
       "    <tr>\n",
       "      <th>patient_id</th>\n",
       "      <td>1872</td>\n",
       "      <td>1872</td>\n",
       "      <td>1.00</td>\n",
       "    </tr>\n",
       "    <tr>\n",
       "      <th>breast_density</th>\n",
       "      <td>1872</td>\n",
       "      <td>1872</td>\n",
       "      <td>1.00</td>\n",
       "    </tr>\n",
       "    <tr>\n",
       "      <th>left_or_right_breast</th>\n",
       "      <td>1872</td>\n",
       "      <td>1872</td>\n",
       "      <td>1.00</td>\n",
       "    </tr>\n",
       "    <tr>\n",
       "      <th>image_view</th>\n",
       "      <td>1872</td>\n",
       "      <td>1872</td>\n",
       "      <td>1.00</td>\n",
       "    </tr>\n",
       "    <tr>\n",
       "      <th>abnormality_id</th>\n",
       "      <td>1872</td>\n",
       "      <td>1872</td>\n",
       "      <td>1.00</td>\n",
       "    </tr>\n",
       "    <tr>\n",
       "      <th>abnormality_type</th>\n",
       "      <td>1872</td>\n",
       "      <td>1872</td>\n",
       "      <td>1.00</td>\n",
       "    </tr>\n",
       "    <tr>\n",
       "      <th>calc_type</th>\n",
       "      <td>1872</td>\n",
       "      <td>1848</td>\n",
       "      <td>0.99</td>\n",
       "    </tr>\n",
       "    <tr>\n",
       "      <th>calc_distribution</th>\n",
       "      <td>1872</td>\n",
       "      <td>1433</td>\n",
       "      <td>0.77</td>\n",
       "    </tr>\n",
       "    <tr>\n",
       "      <th>assessment</th>\n",
       "      <td>1872</td>\n",
       "      <td>1872</td>\n",
       "      <td>1.00</td>\n",
       "    </tr>\n",
       "    <tr>\n",
       "      <th>pathology</th>\n",
       "      <td>1872</td>\n",
       "      <td>1872</td>\n",
       "      <td>1.00</td>\n",
       "    </tr>\n",
       "    <tr>\n",
       "      <th>subtlety</th>\n",
       "      <td>1872</td>\n",
       "      <td>1872</td>\n",
       "      <td>1.00</td>\n",
       "    </tr>\n",
       "    <tr>\n",
       "      <th>dataset</th>\n",
       "      <td>1872</td>\n",
       "      <td>1872</td>\n",
       "      <td>1.00</td>\n",
       "    </tr>\n",
       "    <tr>\n",
       "      <th>image_series_uid</th>\n",
       "      <td>1872</td>\n",
       "      <td>1872</td>\n",
       "      <td>1.00</td>\n",
       "    </tr>\n",
       "    <tr>\n",
       "      <th>roi_mask_series_uid</th>\n",
       "      <td>1872</td>\n",
       "      <td>1872</td>\n",
       "      <td>1.00</td>\n",
       "    </tr>\n",
       "    <tr>\n",
       "      <th>cropped_image_series_uid</th>\n",
       "      <td>1872</td>\n",
       "      <td>1872</td>\n",
       "      <td>1.00</td>\n",
       "    </tr>\n",
       "  </tbody>\n",
       "</table>\n",
       "</div>"
      ],
      "text/plain": [
       "                             N  Complete  Completeness\n",
       "patient_id                1872      1872          1.00\n",
       "breast_density            1872      1872          1.00\n",
       "left_or_right_breast      1872      1872          1.00\n",
       "image_view                1872      1872          1.00\n",
       "abnormality_id            1872      1872          1.00\n",
       "abnormality_type          1872      1872          1.00\n",
       "calc_type                 1872      1848          0.99\n",
       "calc_distribution         1872      1433          0.77\n",
       "assessment                1872      1872          1.00\n",
       "pathology                 1872      1872          1.00\n",
       "subtlety                  1872      1872          1.00\n",
       "dataset                   1872      1872          1.00\n",
       "image_series_uid          1872      1872          1.00\n",
       "roi_mask_series_uid       1872      1872          1.00\n",
       "cropped_image_series_uid  1872      1872          1.00"
      ]
     },
     "execution_count": 51,
     "metadata": {},
     "output_type": "execute_result"
    }
   ],
   "source": [
    "calc_completeness.detail"
   ]
  },
  {
   "cell_type": "markdown",
   "metadata": {},
   "source": [
    "The sources of 'incompleteness' are calcification type and calcification distribution with completeness of 0.99 and 0.77 respectively. "
   ]
  },
  {
   "cell_type": "markdown",
   "metadata": {},
   "source": [
    "### Uniqueness Analysis"
   ]
  },
  {
   "cell_type": "code",
   "execution_count": 52,
   "metadata": {},
   "outputs": [
    {
     "name": "stdout",
     "output_type": "stream",
     "text": [
      "\n",
      "\n",
      "                           Uniqueness                           \n",
      "                         Dataset | Calc Cases\n",
      "                        Filename | calc_cases.csv\n",
      "                            Rows | 1872\n",
      "                     Unique Rows | 1872\n",
      "                  Row Uniqueness | 1.0\n",
      "                           Cells | 28080\n",
      "                    Unique Cells | 6095\n",
      "                 Cell Uniqueness | 0.217\n",
      "\n",
      "\n"
     ]
    }
   ],
   "source": [
    "calc_uniqueness = dqa.analyze_uniqueness()\n",
    "print(calc_uniqueness.summary)"
   ]
  },
  {
   "cell_type": "markdown",
   "metadata": {},
   "source": [
    "As indicated, no duplicate records are extant in the dataset. "
   ]
  },
  {
   "cell_type": "markdown",
   "metadata": {},
   "source": [
    "### Validity Analysis"
   ]
  },
  {
   "cell_type": "code",
   "execution_count": 53,
   "metadata": {},
   "outputs": [
    {
     "name": "stdout",
     "output_type": "stream",
     "text": [
      "\n",
      "\n",
      "                            Validity                            \n",
      "                         Dataset | Calc Cases\n",
      "                        Filename | calc_cases.csv\n",
      "                            Rows | 1872\n",
      "                      Rows Valid | 1331\n",
      "                    Row Validity | 0.711\n",
      "                           Cells | 28080\n",
      "                     Cells Valid | 27539\n",
      "                   Cell Validity | 0.981\n",
      "\n",
      "\n"
     ]
    }
   ],
   "source": [
    "calc_validity = dqa.analyze_validity()\n",
    "print(calc_validity.summary)"
   ]
  },
  {
   "cell_type": "markdown",
   "metadata": {},
   "source": [
    "Approximately 70% of the rows are valid cases. Let's check the distribution of the invalid cells among the variables in the dataset."
   ]
  },
  {
   "cell_type": "code",
   "execution_count": 54,
   "metadata": {},
   "outputs": [
    {
     "data": {
      "text/html": [
       "<div>\n",
       "<style scoped>\n",
       "    .dataframe tbody tr th:only-of-type {\n",
       "        vertical-align: middle;\n",
       "    }\n",
       "\n",
       "    .dataframe tbody tr th {\n",
       "        vertical-align: top;\n",
       "    }\n",
       "\n",
       "    .dataframe thead th {\n",
       "        text-align: right;\n",
       "    }\n",
       "</style>\n",
       "<table border=\"1\" class=\"dataframe\">\n",
       "  <thead>\n",
       "    <tr style=\"text-align: right;\">\n",
       "      <th></th>\n",
       "      <th>N</th>\n",
       "      <th>Valid</th>\n",
       "      <th>Validity</th>\n",
       "    </tr>\n",
       "  </thead>\n",
       "  <tbody>\n",
       "    <tr>\n",
       "      <th>patient_id</th>\n",
       "      <td>1872</td>\n",
       "      <td>1872</td>\n",
       "      <td>1.00</td>\n",
       "    </tr>\n",
       "    <tr>\n",
       "      <th>breast_density</th>\n",
       "      <td>1872</td>\n",
       "      <td>1870</td>\n",
       "      <td>1.00</td>\n",
       "    </tr>\n",
       "    <tr>\n",
       "      <th>left_or_right_breast</th>\n",
       "      <td>1872</td>\n",
       "      <td>1872</td>\n",
       "      <td>1.00</td>\n",
       "    </tr>\n",
       "    <tr>\n",
       "      <th>image_view</th>\n",
       "      <td>1872</td>\n",
       "      <td>1872</td>\n",
       "      <td>1.00</td>\n",
       "    </tr>\n",
       "    <tr>\n",
       "      <th>abnormality_id</th>\n",
       "      <td>1872</td>\n",
       "      <td>1872</td>\n",
       "      <td>1.00</td>\n",
       "    </tr>\n",
       "    <tr>\n",
       "      <th>abnormality_type</th>\n",
       "      <td>1872</td>\n",
       "      <td>1872</td>\n",
       "      <td>1.00</td>\n",
       "    </tr>\n",
       "    <tr>\n",
       "      <th>calc_type</th>\n",
       "      <td>1872</td>\n",
       "      <td>1848</td>\n",
       "      <td>0.99</td>\n",
       "    </tr>\n",
       "    <tr>\n",
       "      <th>calc_distribution</th>\n",
       "      <td>1872</td>\n",
       "      <td>1433</td>\n",
       "      <td>0.77</td>\n",
       "    </tr>\n",
       "    <tr>\n",
       "      <th>assessment</th>\n",
       "      <td>1872</td>\n",
       "      <td>1796</td>\n",
       "      <td>0.96</td>\n",
       "    </tr>\n",
       "    <tr>\n",
       "      <th>pathology</th>\n",
       "      <td>1872</td>\n",
       "      <td>1872</td>\n",
       "      <td>1.00</td>\n",
       "    </tr>\n",
       "    <tr>\n",
       "      <th>subtlety</th>\n",
       "      <td>1872</td>\n",
       "      <td>1872</td>\n",
       "      <td>1.00</td>\n",
       "    </tr>\n",
       "    <tr>\n",
       "      <th>dataset</th>\n",
       "      <td>1872</td>\n",
       "      <td>1872</td>\n",
       "      <td>1.00</td>\n",
       "    </tr>\n",
       "    <tr>\n",
       "      <th>image_series_uid</th>\n",
       "      <td>1872</td>\n",
       "      <td>1872</td>\n",
       "      <td>1.00</td>\n",
       "    </tr>\n",
       "    <tr>\n",
       "      <th>roi_mask_series_uid</th>\n",
       "      <td>1872</td>\n",
       "      <td>1872</td>\n",
       "      <td>1.00</td>\n",
       "    </tr>\n",
       "    <tr>\n",
       "      <th>cropped_image_series_uid</th>\n",
       "      <td>1872</td>\n",
       "      <td>1872</td>\n",
       "      <td>1.00</td>\n",
       "    </tr>\n",
       "  </tbody>\n",
       "</table>\n",
       "</div>"
      ],
      "text/plain": [
       "                             N  Valid  Validity\n",
       "patient_id                1872   1872      1.00\n",
       "breast_density            1872   1870      1.00\n",
       "left_or_right_breast      1872   1872      1.00\n",
       "image_view                1872   1872      1.00\n",
       "abnormality_id            1872   1872      1.00\n",
       "abnormality_type          1872   1872      1.00\n",
       "calc_type                 1872   1848      0.99\n",
       "calc_distribution         1872   1433      0.77\n",
       "assessment                1872   1796      0.96\n",
       "pathology                 1872   1872      1.00\n",
       "subtlety                  1872   1872      1.00\n",
       "dataset                   1872   1872      1.00\n",
       "image_series_uid          1872   1872      1.00\n",
       "roi_mask_series_uid       1872   1872      1.00\n",
       "cropped_image_series_uid  1872   1872      1.00"
      ]
     },
     "execution_count": 54,
     "metadata": {},
     "output_type": "execute_result"
    }
   ],
   "source": [
    "calc_validity.detail"
   ]
  },
  {
   "cell_type": "markdown",
   "metadata": {},
   "source": [
    "Missing calcification distribution data are having a material impact on the validity of the calcification dataset.  Let's move on to the mass cases."
   ]
  },
  {
   "cell_type": "markdown",
   "metadata": {},
   "source": [
    "## Mass Cases\n",
    "### Completeness Analysis"
   ]
  },
  {
   "cell_type": "code",
   "execution_count": 55,
   "metadata": {},
   "outputs": [
    {
     "name": "stdout",
     "output_type": "stream",
     "text": [
      "\n",
      "\n",
      "                          Completeness                          \n",
      "                         Dataset | Mass Cases\n",
      "                        Filename | mass_cases.csv\n",
      "                            Rows | 1696\n",
      "                   Rows Complete | 1634\n",
      "                Row Completeness | 0.963\n",
      "                           Cells | 25440\n",
      "                  Cells Complete | 25376\n",
      "               Cell Completeness | 0.997\n",
      "\n",
      "\n"
     ]
    }
   ],
   "source": [
    "dqa = MassCaseDQA(filepath=fpm)\n",
    "mass_completeness = dqa.analyze_completeness()\n",
    "print(mass_completeness.summary)"
   ]
  },
  {
   "cell_type": "markdown",
   "metadata": {},
   "source": [
    "Row and cell completeness are 0.96 and 0.99 respectively. "
   ]
  },
  {
   "cell_type": "code",
   "execution_count": 56,
   "metadata": {},
   "outputs": [
    {
     "data": {
      "text/html": [
       "<div>\n",
       "<style scoped>\n",
       "    .dataframe tbody tr th:only-of-type {\n",
       "        vertical-align: middle;\n",
       "    }\n",
       "\n",
       "    .dataframe tbody tr th {\n",
       "        vertical-align: top;\n",
       "    }\n",
       "\n",
       "    .dataframe thead th {\n",
       "        text-align: right;\n",
       "    }\n",
       "</style>\n",
       "<table border=\"1\" class=\"dataframe\">\n",
       "  <thead>\n",
       "    <tr style=\"text-align: right;\">\n",
       "      <th></th>\n",
       "      <th>N</th>\n",
       "      <th>Complete</th>\n",
       "      <th>Completeness</th>\n",
       "    </tr>\n",
       "  </thead>\n",
       "  <tbody>\n",
       "    <tr>\n",
       "      <th>patient_id</th>\n",
       "      <td>1696</td>\n",
       "      <td>1696</td>\n",
       "      <td>1.00</td>\n",
       "    </tr>\n",
       "    <tr>\n",
       "      <th>breast_density</th>\n",
       "      <td>1696</td>\n",
       "      <td>1696</td>\n",
       "      <td>1.00</td>\n",
       "    </tr>\n",
       "    <tr>\n",
       "      <th>left_or_right_breast</th>\n",
       "      <td>1696</td>\n",
       "      <td>1696</td>\n",
       "      <td>1.00</td>\n",
       "    </tr>\n",
       "    <tr>\n",
       "      <th>image_view</th>\n",
       "      <td>1696</td>\n",
       "      <td>1696</td>\n",
       "      <td>1.00</td>\n",
       "    </tr>\n",
       "    <tr>\n",
       "      <th>abnormality_id</th>\n",
       "      <td>1696</td>\n",
       "      <td>1696</td>\n",
       "      <td>1.00</td>\n",
       "    </tr>\n",
       "    <tr>\n",
       "      <th>abnormality_type</th>\n",
       "      <td>1696</td>\n",
       "      <td>1696</td>\n",
       "      <td>1.00</td>\n",
       "    </tr>\n",
       "    <tr>\n",
       "      <th>mass_shape</th>\n",
       "      <td>1696</td>\n",
       "      <td>1692</td>\n",
       "      <td>1.00</td>\n",
       "    </tr>\n",
       "    <tr>\n",
       "      <th>mass_margins</th>\n",
       "      <td>1696</td>\n",
       "      <td>1636</td>\n",
       "      <td>0.96</td>\n",
       "    </tr>\n",
       "    <tr>\n",
       "      <th>assessment</th>\n",
       "      <td>1696</td>\n",
       "      <td>1696</td>\n",
       "      <td>1.00</td>\n",
       "    </tr>\n",
       "    <tr>\n",
       "      <th>pathology</th>\n",
       "      <td>1696</td>\n",
       "      <td>1696</td>\n",
       "      <td>1.00</td>\n",
       "    </tr>\n",
       "    <tr>\n",
       "      <th>subtlety</th>\n",
       "      <td>1696</td>\n",
       "      <td>1696</td>\n",
       "      <td>1.00</td>\n",
       "    </tr>\n",
       "    <tr>\n",
       "      <th>dataset</th>\n",
       "      <td>1696</td>\n",
       "      <td>1696</td>\n",
       "      <td>1.00</td>\n",
       "    </tr>\n",
       "    <tr>\n",
       "      <th>image_series_uid</th>\n",
       "      <td>1696</td>\n",
       "      <td>1696</td>\n",
       "      <td>1.00</td>\n",
       "    </tr>\n",
       "    <tr>\n",
       "      <th>roi_mask_series_uid</th>\n",
       "      <td>1696</td>\n",
       "      <td>1696</td>\n",
       "      <td>1.00</td>\n",
       "    </tr>\n",
       "    <tr>\n",
       "      <th>cropped_image_series_uid</th>\n",
       "      <td>1696</td>\n",
       "      <td>1696</td>\n",
       "      <td>1.00</td>\n",
       "    </tr>\n",
       "  </tbody>\n",
       "</table>\n",
       "</div>"
      ],
      "text/plain": [
       "                             N  Complete  Completeness\n",
       "patient_id                1696      1696          1.00\n",
       "breast_density            1696      1696          1.00\n",
       "left_or_right_breast      1696      1696          1.00\n",
       "image_view                1696      1696          1.00\n",
       "abnormality_id            1696      1696          1.00\n",
       "abnormality_type          1696      1696          1.00\n",
       "mass_shape                1696      1692          1.00\n",
       "mass_margins              1696      1636          0.96\n",
       "assessment                1696      1696          1.00\n",
       "pathology                 1696      1696          1.00\n",
       "subtlety                  1696      1696          1.00\n",
       "dataset                   1696      1696          1.00\n",
       "image_series_uid          1696      1696          1.00\n",
       "roi_mask_series_uid       1696      1696          1.00\n",
       "cropped_image_series_uid  1696      1696          1.00"
      ]
     },
     "execution_count": 56,
     "metadata": {},
     "output_type": "execute_result"
    }
   ],
   "source": [
    "mass_completeness.detail"
   ]
  },
  {
   "cell_type": "markdown",
   "metadata": {},
   "source": [
    "Of the 1696 observations, 60 have missing mass margin data."
   ]
  },
  {
   "cell_type": "markdown",
   "metadata": {},
   "source": [
    "### Uniqueness Analysis"
   ]
  },
  {
   "cell_type": "code",
   "execution_count": 57,
   "metadata": {},
   "outputs": [
    {
     "name": "stdout",
     "output_type": "stream",
     "text": [
      "\n",
      "\n",
      "                           Uniqueness                           \n",
      "                         Dataset | Mass Cases\n",
      "                        Filename | mass_cases.csv\n",
      "                            Rows | 1696\n",
      "                     Unique Rows | 1696\n",
      "                  Row Uniqueness | 1.0\n",
      "                           Cells | 25440\n",
      "                    Unique Cells | 5946\n",
      "                 Cell Uniqueness | 0.234\n",
      "\n",
      "\n"
     ]
    }
   ],
   "source": [
    "mass_uniqueness = dqa.analyze_uniqueness()\n",
    "print(mass_uniqueness.summary)"
   ]
  },
  {
   "cell_type": "markdown",
   "metadata": {},
   "source": [
    "No duplicate rows are extant in the mass cases dataset."
   ]
  },
  {
   "cell_type": "markdown",
   "metadata": {},
   "source": [
    "### Validity Analysis"
   ]
  },
  {
   "cell_type": "code",
   "execution_count": 58,
   "metadata": {},
   "outputs": [
    {
     "name": "stdout",
     "output_type": "stream",
     "text": [
      "\n",
      "\n",
      "                            Validity                            \n",
      "                         Dataset | Mass Cases\n",
      "                        Filename | mass_cases.csv\n",
      "                            Rows | 1696\n",
      "                      Rows Valid | 1478\n",
      "                    Row Validity | 0.871\n",
      "                           Cells | 25440\n",
      "                     Cells Valid | 25212\n",
      "                   Cell Validity | 0.991\n",
      "\n",
      "\n"
     ]
    }
   ],
   "source": [
    "mass_validity = dqa.analyze_validity()\n",
    "print(mass_validity.summary)"
   ]
  },
  {
   "cell_type": "markdown",
   "metadata": {},
   "source": [
    "The high cell validity vis-a-vis the row validity indicates that our validity issues center on relatively few variables in the dataset."
   ]
  },
  {
   "cell_type": "code",
   "execution_count": 59,
   "metadata": {},
   "outputs": [
    {
     "data": {
      "text/html": [
       "<div>\n",
       "<style scoped>\n",
       "    .dataframe tbody tr th:only-of-type {\n",
       "        vertical-align: middle;\n",
       "    }\n",
       "\n",
       "    .dataframe tbody tr th {\n",
       "        vertical-align: top;\n",
       "    }\n",
       "\n",
       "    .dataframe thead th {\n",
       "        text-align: right;\n",
       "    }\n",
       "</style>\n",
       "<table border=\"1\" class=\"dataframe\">\n",
       "  <thead>\n",
       "    <tr style=\"text-align: right;\">\n",
       "      <th></th>\n",
       "      <th>N</th>\n",
       "      <th>Valid</th>\n",
       "      <th>Validity</th>\n",
       "    </tr>\n",
       "  </thead>\n",
       "  <tbody>\n",
       "    <tr>\n",
       "      <th>patient_id</th>\n",
       "      <td>1696</td>\n",
       "      <td>1696</td>\n",
       "      <td>1.00</td>\n",
       "    </tr>\n",
       "    <tr>\n",
       "      <th>breast_density</th>\n",
       "      <td>1696</td>\n",
       "      <td>1696</td>\n",
       "      <td>1.00</td>\n",
       "    </tr>\n",
       "    <tr>\n",
       "      <th>left_or_right_breast</th>\n",
       "      <td>1696</td>\n",
       "      <td>1696</td>\n",
       "      <td>1.00</td>\n",
       "    </tr>\n",
       "    <tr>\n",
       "      <th>image_view</th>\n",
       "      <td>1696</td>\n",
       "      <td>1696</td>\n",
       "      <td>1.00</td>\n",
       "    </tr>\n",
       "    <tr>\n",
       "      <th>abnormality_id</th>\n",
       "      <td>1696</td>\n",
       "      <td>1696</td>\n",
       "      <td>1.00</td>\n",
       "    </tr>\n",
       "    <tr>\n",
       "      <th>abnormality_type</th>\n",
       "      <td>1696</td>\n",
       "      <td>1696</td>\n",
       "      <td>1.00</td>\n",
       "    </tr>\n",
       "    <tr>\n",
       "      <th>mass_shape</th>\n",
       "      <td>1696</td>\n",
       "      <td>1692</td>\n",
       "      <td>1.00</td>\n",
       "    </tr>\n",
       "    <tr>\n",
       "      <th>mass_margins</th>\n",
       "      <td>1696</td>\n",
       "      <td>1636</td>\n",
       "      <td>0.96</td>\n",
       "    </tr>\n",
       "    <tr>\n",
       "      <th>assessment</th>\n",
       "      <td>1696</td>\n",
       "      <td>1534</td>\n",
       "      <td>0.90</td>\n",
       "    </tr>\n",
       "    <tr>\n",
       "      <th>pathology</th>\n",
       "      <td>1696</td>\n",
       "      <td>1696</td>\n",
       "      <td>1.00</td>\n",
       "    </tr>\n",
       "    <tr>\n",
       "      <th>subtlety</th>\n",
       "      <td>1696</td>\n",
       "      <td>1694</td>\n",
       "      <td>1.00</td>\n",
       "    </tr>\n",
       "    <tr>\n",
       "      <th>dataset</th>\n",
       "      <td>1696</td>\n",
       "      <td>1696</td>\n",
       "      <td>1.00</td>\n",
       "    </tr>\n",
       "    <tr>\n",
       "      <th>image_series_uid</th>\n",
       "      <td>1696</td>\n",
       "      <td>1696</td>\n",
       "      <td>1.00</td>\n",
       "    </tr>\n",
       "    <tr>\n",
       "      <th>roi_mask_series_uid</th>\n",
       "      <td>1696</td>\n",
       "      <td>1696</td>\n",
       "      <td>1.00</td>\n",
       "    </tr>\n",
       "    <tr>\n",
       "      <th>cropped_image_series_uid</th>\n",
       "      <td>1696</td>\n",
       "      <td>1696</td>\n",
       "      <td>1.00</td>\n",
       "    </tr>\n",
       "  </tbody>\n",
       "</table>\n",
       "</div>"
      ],
      "text/plain": [
       "                             N  Valid  Validity\n",
       "patient_id                1696   1696      1.00\n",
       "breast_density            1696   1696      1.00\n",
       "left_or_right_breast      1696   1696      1.00\n",
       "image_view                1696   1696      1.00\n",
       "abnormality_id            1696   1696      1.00\n",
       "abnormality_type          1696   1696      1.00\n",
       "mass_shape                1696   1692      1.00\n",
       "mass_margins              1696   1636      0.96\n",
       "assessment                1696   1534      0.90\n",
       "pathology                 1696   1696      1.00\n",
       "subtlety                  1696   1694      1.00\n",
       "dataset                   1696   1696      1.00\n",
       "image_series_uid          1696   1696      1.00\n",
       "roi_mask_series_uid       1696   1696      1.00\n",
       "cropped_image_series_uid  1696   1696      1.00"
      ]
     },
     "execution_count": 59,
     "metadata": {},
     "output_type": "execute_result"
    }
   ],
   "source": [
    "mass_validity.detail"
   ]
  },
  {
   "cell_type": "markdown",
   "metadata": {},
   "source": [
    "As suspected,  the variance in row and cell validity can be attributed to errors in mass margin and BI-RADS assessment values. Moving on the the series metadata."
   ]
  },
  {
   "cell_type": "markdown",
   "metadata": {},
   "source": [
    "## Series Metadata\n",
    "### Completeness Analysis"
   ]
  },
  {
   "cell_type": "code",
   "execution_count": 60,
   "metadata": {},
   "outputs": [
    {
     "name": "stdout",
     "output_type": "stream",
     "text": [
      "\n",
      "\n",
      "                          Completeness                          \n",
      "                         Dataset | Series\n",
      "                        Filename | series.csv\n",
      "                            Rows | 6775\n",
      "                   Rows Complete | 6775\n",
      "                Row Completeness | 1.0\n",
      "                           Cells | 27100\n",
      "                  Cells Complete | 27100\n",
      "               Cell Completeness | 1.0\n",
      "\n",
      "\n"
     ]
    }
   ],
   "source": [
    "dqa = SeriesDQA(filepath=fps)\n",
    "series_completeness = dqa.analyze_completeness()\n",
    "print(series_completeness.summary)"
   ]
  },
  {
   "cell_type": "markdown",
   "metadata": {},
   "source": [
    "### Uniqueness Analysis"
   ]
  },
  {
   "cell_type": "code",
   "execution_count": 61,
   "metadata": {},
   "outputs": [
    {
     "name": "stdout",
     "output_type": "stream",
     "text": [
      "\n",
      "\n",
      "                           Uniqueness                           \n",
      "                         Dataset | Series\n",
      "                        Filename | series.csv\n",
      "                            Rows | 6775\n",
      "                     Unique Rows | 6775\n",
      "                  Row Uniqueness | 1.0\n",
      "                           Cells | 27100\n",
      "                    Unique Cells | 13555\n",
      "                 Cell Uniqueness | 0.5\n",
      "\n",
      "\n"
     ]
    }
   ],
   "source": [
    "series_uniqueness = dqa.analyze_uniqueness()\n",
    "print(series_uniqueness.summary)"
   ]
  },
  {
   "cell_type": "markdown",
   "metadata": {},
   "source": [
    "### Validity Analysis"
   ]
  },
  {
   "cell_type": "code",
   "execution_count": 62,
   "metadata": {},
   "outputs": [
    {
     "name": "stdout",
     "output_type": "stream",
     "text": [
      "\n",
      "\n",
      "                            Validity                            \n",
      "                         Dataset | Series\n",
      "                        Filename | series.csv\n",
      "                            Rows | 6775\n",
      "                      Rows Valid | 6775\n",
      "                    Row Validity | 1.0\n",
      "                           Cells | 27100\n",
      "                     Cells Valid | 27100\n",
      "                   Cell Validity | 1.0\n",
      "\n",
      "\n"
     ]
    }
   ],
   "source": [
    "series_validity = dqa.analyze_validity()\n",
    "print(series_validity.summary)"
   ]
  },
  {
   "cell_type": "markdown",
   "metadata": {},
   "source": [
    "The series data are complete, unique, and valid. On to the DICOM Image metadata.\n",
    "\n",
    "## DICOM Image Metadata\n",
    "### Completeness Analysis"
   ]
  },
  {
   "cell_type": "code",
   "execution_count": 63,
   "metadata": {},
   "outputs": [
    {
     "name": "stdout",
     "output_type": "stream",
     "text": [
      "\n",
      "\n",
      "                          Completeness                          \n",
      "                         Dataset | Dicom\n",
      "                        Filename | dicom.csv\n",
      "                            Rows | 10238\n",
      "                   Rows Complete | 10238\n",
      "                Row Completeness | 1.0\n",
      "                           Cells | 112618\n",
      "                  Cells Complete | 112618\n",
      "               Cell Completeness | 1.0\n",
      "\n",
      "\n"
     ]
    }
   ],
   "source": [
    "dqa = DicomDQA(filepath=fpd)\n",
    "dicom_completeness = dqa.analyze_completeness()\n",
    "print(dicom_completeness.summary)"
   ]
  },
  {
   "cell_type": "markdown",
   "metadata": {},
   "source": [
    "### Uniqueness Analysis"
   ]
  },
  {
   "cell_type": "code",
   "execution_count": 64,
   "metadata": {},
   "outputs": [
    {
     "name": "stdout",
     "output_type": "stream",
     "text": [
      "\n",
      "\n",
      "                           Uniqueness                           \n",
      "                         Dataset | Dicom\n",
      "                        Filename | dicom.csv\n",
      "                            Rows | 10238\n",
      "                     Unique Rows | 10238\n",
      "                  Row Uniqueness | 1.0\n",
      "                           Cells | 112618\n",
      "                    Unique Cells | 27385\n",
      "                 Cell Uniqueness | 0.243\n",
      "\n",
      "\n"
     ]
    }
   ],
   "source": [
    "dicom_uniqueness = dqa.analyze_uniqueness()\n",
    "print(dicom_uniqueness.summary)"
   ]
  },
  {
   "cell_type": "markdown",
   "metadata": {},
   "source": [
    "### Validity Analysis"
   ]
  },
  {
   "cell_type": "code",
   "execution_count": 65,
   "metadata": {},
   "outputs": [
    {
     "name": "stdout",
     "output_type": "stream",
     "text": [
      "\n",
      "\n",
      "                            Validity                            \n",
      "                         Dataset | Dicom\n",
      "                        Filename | dicom.csv\n",
      "                            Rows | 10238\n",
      "                      Rows Valid | 10238\n",
      "                    Row Validity | 1.0\n",
      "                           Cells | 112618\n",
      "                     Cells Valid | 112618\n",
      "                   Cell Validity | 1.0\n",
      "\n",
      "\n"
     ]
    }
   ],
   "source": [
    "dicom_validity = dqa.analyze_validity()\n",
    "print(dicom_validity.summary)"
   ]
  },
  {
   "cell_type": "markdown",
   "metadata": {},
   "source": [
    "## Consistency Analysis\n",
    "The calcification and mass case descriptions include a series uid linking the mammography to DICOM image files. Next, we assess the degree to which the series uids in the case files are in agreement with the DICOM image metadata."
   ]
  },
  {
   "cell_type": "code",
   "execution_count": 86,
   "metadata": {},
   "outputs": [
    {
     "name": "stdout",
     "output_type": "stream",
     "text": [
      "A total of 10704 series uids were evaluated.\n"
     ]
    },
    {
     "data": {
      "text/html": [
       "<div>\n",
       "<style scoped>\n",
       "    .dataframe tbody tr th:only-of-type {\n",
       "        vertical-align: middle;\n",
       "    }\n",
       "\n",
       "    .dataframe tbody tr th {\n",
       "        vertical-align: top;\n",
       "    }\n",
       "\n",
       "    .dataframe thead th {\n",
       "        text-align: right;\n",
       "    }\n",
       "</style>\n",
       "<table border=\"1\" class=\"dataframe\">\n",
       "  <thead>\n",
       "    <tr style=\"text-align: right;\">\n",
       "      <th></th>\n",
       "      <th></th>\n",
       "      <th></th>\n",
       "      <th>count</th>\n",
       "    </tr>\n",
       "    <tr>\n",
       "      <th>case type</th>\n",
       "      <th>series_type</th>\n",
       "      <th>valid</th>\n",
       "      <th></th>\n",
       "    </tr>\n",
       "  </thead>\n",
       "  <tbody>\n",
       "    <tr>\n",
       "      <th rowspan=\"3\" valign=\"top\">calcification</th>\n",
       "      <th>Cropped Image</th>\n",
       "      <th>True</th>\n",
       "      <td>1872</td>\n",
       "    </tr>\n",
       "    <tr>\n",
       "      <th>Full Mammography</th>\n",
       "      <th>True</th>\n",
       "      <td>1872</td>\n",
       "    </tr>\n",
       "    <tr>\n",
       "      <th>ROI Mask</th>\n",
       "      <th>True</th>\n",
       "      <td>1872</td>\n",
       "    </tr>\n",
       "    <tr>\n",
       "      <th rowspan=\"4\" valign=\"top\">mass</th>\n",
       "      <th>Cropped Image</th>\n",
       "      <th>True</th>\n",
       "      <td>1696</td>\n",
       "    </tr>\n",
       "    <tr>\n",
       "      <th rowspan=\"2\" valign=\"top\">Full Mammography</th>\n",
       "      <th>False</th>\n",
       "      <td>1</td>\n",
       "    </tr>\n",
       "    <tr>\n",
       "      <th>True</th>\n",
       "      <td>1695</td>\n",
       "    </tr>\n",
       "    <tr>\n",
       "      <th>ROI Mask</th>\n",
       "      <th>True</th>\n",
       "      <td>1696</td>\n",
       "    </tr>\n",
       "  </tbody>\n",
       "</table>\n",
       "</div>"
      ],
      "text/plain": [
       "                                      count\n",
       "case type     series_type      valid       \n",
       "calcification Cropped Image    True    1872\n",
       "              Full Mammography True    1872\n",
       "              ROI Mask         True    1872\n",
       "mass          Cropped Image    True    1696\n",
       "              Full Mammography False      1\n",
       "                               True    1695\n",
       "              ROI Mask         True    1696"
      ]
     },
     "execution_count": 86,
     "metadata": {},
     "output_type": "execute_result"
    },
    {
     "name": "stdout",
     "output_type": "stream",
     "text": [
      "Overall consistency ratio is 1.0\n"
     ]
    }
   ],
   "source": [
    "# Calcification Series UIDs\n",
    "dfc = pd.read_csv(fpc)\n",
    "calc_full = pd.DataFrame({'case type': 'calcification', 'series_type': 'Full Mammography', 'series_uid': dfc['image_series_uid']})\n",
    "calc_roi = pd.DataFrame({'case type': 'calcification', 'series_type': 'ROI Mask', 'series_uid': dfc['roi_mask_series_uid']})\n",
    "calc_cropped = pd.DataFrame({'case type': 'calcification', 'series_type': 'Cropped Image', 'series_uid': dfc['cropped_image_series_uid']})\n",
    "\n",
    "dfm = pd.read_csv(fpm)\n",
    "mass_full = pd.DataFrame({'case type': 'mass', 'series_type': 'Full Mammography', 'series_uid': dfm['image_series_uid']})\n",
    "mass_roi = pd.DataFrame({'case type': 'mass', 'series_type': 'ROI Mask', 'series_uid': dfm['roi_mask_series_uid']})\n",
    "mass_cropped = pd.DataFrame({'case type': 'mass', 'series_type': 'Cropped Image', 'series_uid': dfm['cropped_image_series_uid']})\n",
    "\n",
    "case_series_uids = pd.concat([calc_full, calc_roi, calc_cropped, mass_full, mass_roi, mass_cropped], axis=0)\n",
    "\n",
    "dicom = pd.read_csv(fpd)\n",
    "\n",
    "case_series_uids['valid'] = case_series_uids['series_uid'].isin(dicom['series_uid'])\n",
    "result = case_series_uids[['case type', 'series_type', 'valid']].groupby(by=['case type','series_type', 'valid']).value_counts().to_frame()\n",
    "print(f\"A total of {result['count'].sum()} series uids were evaluated.\")\n",
    "\n",
    "result\n",
    "r = result.reset_index()\n",
    "overall_consistency = r.loc[r['valid'] == True]['count'].sum() / r['count'].sum()\n",
    "print(f\"Overall consistency ratio is {round(overall_consistency,3)}\")\n"
   ]
  },
  {
   "cell_type": "markdown",
   "metadata": {},
   "source": [
    "Of 10,704 series uids, one was missing from the DICOM metadata. This corresponds with a corrupt DICOM image file that could not be read. \n",
    "Let's summarize."
   ]
  },
  {
   "cell_type": "markdown",
   "metadata": {},
   "source": [
    "## Completeness Analysis"
   ]
  },
  {
   "cell_type": "code",
   "execution_count": 82,
   "metadata": {},
   "outputs": [
    {
     "data": {
      "text/html": [
       "<div>\n",
       "<style scoped>\n",
       "    .dataframe tbody tr th:only-of-type {\n",
       "        vertical-align: middle;\n",
       "    }\n",
       "\n",
       "    .dataframe tbody tr th {\n",
       "        vertical-align: top;\n",
       "    }\n",
       "\n",
       "    .dataframe thead th {\n",
       "        text-align: right;\n",
       "    }\n",
       "</style>\n",
       "<table border=\"1\" class=\"dataframe\">\n",
       "  <thead>\n",
       "    <tr style=\"text-align: right;\">\n",
       "      <th></th>\n",
       "      <th>dataset</th>\n",
       "      <th>filename</th>\n",
       "      <th>rows</th>\n",
       "      <th>rows_complete</th>\n",
       "      <th>row_completeness</th>\n",
       "      <th>cells</th>\n",
       "      <th>cells_complete</th>\n",
       "      <th>cell_completeness</th>\n",
       "    </tr>\n",
       "  </thead>\n",
       "  <tbody>\n",
       "    <tr>\n",
       "      <th>0</th>\n",
       "      <td>Calc Cases</td>\n",
       "      <td>calc_cases.csv</td>\n",
       "      <td>1872</td>\n",
       "      <td>1409</td>\n",
       "      <td>0.75</td>\n",
       "      <td>28080</td>\n",
       "      <td>27617</td>\n",
       "      <td>0.98</td>\n",
       "    </tr>\n",
       "    <tr>\n",
       "      <th>0</th>\n",
       "      <td>Mass Cases</td>\n",
       "      <td>mass_cases.csv</td>\n",
       "      <td>1696</td>\n",
       "      <td>1634</td>\n",
       "      <td>0.96</td>\n",
       "      <td>25440</td>\n",
       "      <td>25376</td>\n",
       "      <td>1.00</td>\n",
       "    </tr>\n",
       "    <tr>\n",
       "      <th>0</th>\n",
       "      <td>Series</td>\n",
       "      <td>series.csv</td>\n",
       "      <td>6775</td>\n",
       "      <td>6775</td>\n",
       "      <td>1.00</td>\n",
       "      <td>27100</td>\n",
       "      <td>27100</td>\n",
       "      <td>1.00</td>\n",
       "    </tr>\n",
       "    <tr>\n",
       "      <th>0</th>\n",
       "      <td>Dicom</td>\n",
       "      <td>dicom.csv</td>\n",
       "      <td>10238</td>\n",
       "      <td>10238</td>\n",
       "      <td>1.00</td>\n",
       "      <td>112618</td>\n",
       "      <td>112618</td>\n",
       "      <td>1.00</td>\n",
       "    </tr>\n",
       "  </tbody>\n",
       "</table>\n",
       "</div>"
      ],
      "text/plain": [
       "      dataset        filename   rows  rows_complete  row_completeness   cells  \\\n",
       "0  Calc Cases  calc_cases.csv   1872           1409              0.75   28080   \n",
       "0  Mass Cases  mass_cases.csv   1696           1634              0.96   25440   \n",
       "0      Series      series.csv   6775           6775              1.00   27100   \n",
       "0       Dicom       dicom.csv  10238          10238              1.00  112618   \n",
       "\n",
       "   cells_complete  cell_completeness  \n",
       "0           27617               0.98  \n",
       "0           25376               1.00  \n",
       "0           27100               1.00  \n",
       "0          112618               1.00  "
      ]
     },
     "execution_count": 82,
     "metadata": {},
     "output_type": "execute_result"
    },
    {
     "name": "stdout",
     "output_type": "stream",
     "text": [
      "Overall weighted average completeness for the CBIS-DDSM collection was 0.974\n"
     ]
    }
   ],
   "source": [
    "completeness = pd.concat([calc_completeness.summary.as_df(), mass_completeness.summary.as_df(), series_completeness.summary.as_df(), dicom_completeness.summary.as_df()], axis=0)\n",
    "completeness\n",
    "overall_completeness = completeness['rows_complete'].sum() / completeness['rows'].sum() \n",
    "print(f\"Overall weighted average completeness for the CBIS-DDSM collection was {round(overall_completeness,3)}\")"
   ]
  },
  {
   "cell_type": "markdown",
   "metadata": {},
   "source": [
    "## Uniqueness Analysis"
   ]
  },
  {
   "cell_type": "code",
   "execution_count": 83,
   "metadata": {},
   "outputs": [
    {
     "data": {
      "text/html": [
       "<div>\n",
       "<style scoped>\n",
       "    .dataframe tbody tr th:only-of-type {\n",
       "        vertical-align: middle;\n",
       "    }\n",
       "\n",
       "    .dataframe tbody tr th {\n",
       "        vertical-align: top;\n",
       "    }\n",
       "\n",
       "    .dataframe thead th {\n",
       "        text-align: right;\n",
       "    }\n",
       "</style>\n",
       "<table border=\"1\" class=\"dataframe\">\n",
       "  <thead>\n",
       "    <tr style=\"text-align: right;\">\n",
       "      <th></th>\n",
       "      <th>dataset</th>\n",
       "      <th>filename</th>\n",
       "      <th>rows</th>\n",
       "      <th>unique_rows</th>\n",
       "      <th>row_uniqueness</th>\n",
       "      <th>cells</th>\n",
       "      <th>unique_cells</th>\n",
       "      <th>cell_uniqueness</th>\n",
       "    </tr>\n",
       "  </thead>\n",
       "  <tbody>\n",
       "    <tr>\n",
       "      <th>0</th>\n",
       "      <td>Calc Cases</td>\n",
       "      <td>calc_cases.csv</td>\n",
       "      <td>1872</td>\n",
       "      <td>1872</td>\n",
       "      <td>1.00</td>\n",
       "      <td>28080</td>\n",
       "      <td>6095</td>\n",
       "      <td>0.22</td>\n",
       "    </tr>\n",
       "    <tr>\n",
       "      <th>0</th>\n",
       "      <td>Mass Cases</td>\n",
       "      <td>mass_cases.csv</td>\n",
       "      <td>1696</td>\n",
       "      <td>1696</td>\n",
       "      <td>1.00</td>\n",
       "      <td>25440</td>\n",
       "      <td>5946</td>\n",
       "      <td>0.23</td>\n",
       "    </tr>\n",
       "    <tr>\n",
       "      <th>0</th>\n",
       "      <td>Series</td>\n",
       "      <td>series.csv</td>\n",
       "      <td>6775</td>\n",
       "      <td>6775</td>\n",
       "      <td>1.00</td>\n",
       "      <td>27100</td>\n",
       "      <td>13555</td>\n",
       "      <td>0.50</td>\n",
       "    </tr>\n",
       "    <tr>\n",
       "      <th>0</th>\n",
       "      <td>Dicom</td>\n",
       "      <td>dicom.csv</td>\n",
       "      <td>10238</td>\n",
       "      <td>10238</td>\n",
       "      <td>1.00</td>\n",
       "      <td>112618</td>\n",
       "      <td>27385</td>\n",
       "      <td>0.24</td>\n",
       "    </tr>\n",
       "  </tbody>\n",
       "</table>\n",
       "</div>"
      ],
      "text/plain": [
       "      dataset        filename   rows  unique_rows  row_uniqueness   cells  \\\n",
       "0  Calc Cases  calc_cases.csv   1872         1872            1.00   28080   \n",
       "0  Mass Cases  mass_cases.csv   1696         1696            1.00   25440   \n",
       "0      Series      series.csv   6775         6775            1.00   27100   \n",
       "0       Dicom       dicom.csv  10238        10238            1.00  112618   \n",
       "\n",
       "   unique_cells  cell_uniqueness  \n",
       "0          6095             0.22  \n",
       "0          5946             0.23  \n",
       "0         13555             0.50  \n",
       "0         27385             0.24  "
      ]
     },
     "execution_count": 83,
     "metadata": {},
     "output_type": "execute_result"
    },
    {
     "name": "stdout",
     "output_type": "stream",
     "text": [
      "Overall weighted average completeness for the CBIS-DDSM collection was 1.0\n"
     ]
    }
   ],
   "source": [
    "uniqueness = pd.concat([calc_uniqueness.summary.as_df(), mass_uniqueness.summary.as_df(), series_uniqueness.summary.as_df(), dicom_uniqueness.summary.as_df()], axis=0)\n",
    "uniqueness\n",
    "overall_uniqueness = uniqueness['unique_rows'].sum() / uniqueness['rows'].sum() \n",
    "print(f\"Overall weighted average uniqueness for the CBIS-DDSM collection was {round(overall_uniqueness,3)}\")"
   ]
  },
  {
   "cell_type": "markdown",
   "metadata": {},
   "source": [
    "## Validity Analysis"
   ]
  },
  {
   "cell_type": "code",
   "execution_count": 84,
   "metadata": {},
   "outputs": [
    {
     "data": {
      "text/html": [
       "<div>\n",
       "<style scoped>\n",
       "    .dataframe tbody tr th:only-of-type {\n",
       "        vertical-align: middle;\n",
       "    }\n",
       "\n",
       "    .dataframe tbody tr th {\n",
       "        vertical-align: top;\n",
       "    }\n",
       "\n",
       "    .dataframe thead th {\n",
       "        text-align: right;\n",
       "    }\n",
       "</style>\n",
       "<table border=\"1\" class=\"dataframe\">\n",
       "  <thead>\n",
       "    <tr style=\"text-align: right;\">\n",
       "      <th></th>\n",
       "      <th>dataset</th>\n",
       "      <th>filename</th>\n",
       "      <th>rows</th>\n",
       "      <th>rows_valid</th>\n",
       "      <th>row_validity</th>\n",
       "      <th>cells</th>\n",
       "      <th>cells_valid</th>\n",
       "      <th>cell_validity</th>\n",
       "    </tr>\n",
       "  </thead>\n",
       "  <tbody>\n",
       "    <tr>\n",
       "      <th>0</th>\n",
       "      <td>Calc Cases</td>\n",
       "      <td>calc_cases.csv</td>\n",
       "      <td>1872</td>\n",
       "      <td>1331</td>\n",
       "      <td>0.71</td>\n",
       "      <td>28080</td>\n",
       "      <td>27539</td>\n",
       "      <td>0.98</td>\n",
       "    </tr>\n",
       "    <tr>\n",
       "      <th>0</th>\n",
       "      <td>Mass Cases</td>\n",
       "      <td>mass_cases.csv</td>\n",
       "      <td>1696</td>\n",
       "      <td>1478</td>\n",
       "      <td>0.87</td>\n",
       "      <td>25440</td>\n",
       "      <td>25212</td>\n",
       "      <td>0.99</td>\n",
       "    </tr>\n",
       "    <tr>\n",
       "      <th>0</th>\n",
       "      <td>Series</td>\n",
       "      <td>series.csv</td>\n",
       "      <td>6775</td>\n",
       "      <td>6775</td>\n",
       "      <td>1.00</td>\n",
       "      <td>27100</td>\n",
       "      <td>27100</td>\n",
       "      <td>1.00</td>\n",
       "    </tr>\n",
       "    <tr>\n",
       "      <th>0</th>\n",
       "      <td>Dicom</td>\n",
       "      <td>dicom.csv</td>\n",
       "      <td>10238</td>\n",
       "      <td>10238</td>\n",
       "      <td>1.00</td>\n",
       "      <td>112618</td>\n",
       "      <td>112618</td>\n",
       "      <td>1.00</td>\n",
       "    </tr>\n",
       "  </tbody>\n",
       "</table>\n",
       "</div>"
      ],
      "text/plain": [
       "      dataset        filename   rows  rows_valid  row_validity   cells  \\\n",
       "0  Calc Cases  calc_cases.csv   1872        1331          0.71   28080   \n",
       "0  Mass Cases  mass_cases.csv   1696        1478          0.87   25440   \n",
       "0      Series      series.csv   6775        6775          1.00   27100   \n",
       "0       Dicom       dicom.csv  10238       10238          1.00  112618   \n",
       "\n",
       "   cells_valid  cell_validity  \n",
       "0        27539           0.98  \n",
       "0        25212           0.99  \n",
       "0        27100           1.00  \n",
       "0       112618           1.00  "
      ]
     },
     "execution_count": 84,
     "metadata": {},
     "output_type": "execute_result"
    },
    {
     "name": "stdout",
     "output_type": "stream",
     "text": [
      "Overall weighted average completeness for the CBIS-DDSM collection was 0.963\n"
     ]
    }
   ],
   "source": [
    "validity = pd.concat([calc_validity.summary.as_df(), mass_validity.summary.as_df(), series_validity.summary.as_df(), dicom_validity.summary.as_df()], axis=0)\n",
    "validity\n",
    "overall_validity = validity['rows_valid'].sum() / validity['rows'].sum() \n",
    "print(f\"Overall weighted average validity for the CBIS-DDSM collection was {round(overall_validity,3)}\")"
   ]
  },
  {
   "cell_type": "markdown",
   "metadata": {},
   "source": [
    "This brief data quality analysis of the CBIS-DDSM was undertaken to expose potential data quality issues in advance of the analysis effort. To that end, the DQA centered around four main themes or questions: \n",
    "- Completeness: Are all the datasets and the data items complete?\n",
    "- Uniqueness: \n",
    "Is the data complete themes or questions themes of completeness, uniqueness, validity, and consistency.  four dimensions of data quality   Four dimensions of data quality Four dimensions of data quality were  analysis  with the data any data issues that would be  This brief data quality analysis examined the CBIS-DDSM along four dimensions of data quality.  four dimensions  The CBIS-DDSM collection is one of the most widely used mammography datasets in research.   "
   ]
  },
  {
   "cell_type": "markdown",
   "metadata": {},
   "source": [
    "The CBIS-DDSM collection  "
   ]
  }
 ],
 "metadata": {
  "kernelspec": {
   "display_name": "bcd",
   "language": "python",
   "name": "python3"
  },
  "language_info": {
   "codemirror_mode": {
    "name": "ipython",
    "version": 3
   },
   "file_extension": ".py",
   "mimetype": "text/x-python",
   "name": "python",
   "nbconvert_exporter": "python",
   "pygments_lexer": "ipython3",
   "version": "3.10.12"
  },
  "orig_nbformat": 4
 },
 "nbformat": 4,
 "nbformat_minor": 2
}
