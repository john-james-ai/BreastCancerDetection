{
 "cells": [
  {
   "cell_type": "markdown",
   "metadata": {},
   "source": [
    "# Denoiser"
   ]
  },
  {
   "cell_type": "code",
   "execution_count": null,
   "metadata": {},
   "outputs": [],
   "source": [
    "from datetime import datetime\n",
    "import pandas as pd\n",
    "import matplotlib.pyplot as plt\n",
    "from skimage.restoration import (denoise_bilateral, denoise_nl_means, \n",
    "                                 denoise_wavelet, \n",
    "                                 denoise_tv_bregman)\n",
    "from content.denoise import TotalVariationDenoisier, BilateralDenoiser, WaveletDenoisier, NLMDenoisier\n"
   ]
  },
  {
   "cell_type": "code",
   "execution_count": null,
   "metadata": {},
   "outputs": [],
   "source": [
    "SOURCE = \"/content/raw\"\n",
    "DESTINATION = \"/content/denoised\"\n",
    "RESULTS_FILEPATH = \"/content/denoised/results.csv\""
   ]
  },
  {
   "cell_type": "markdown",
   "metadata": {},
   "source": [
    "## Bilateral Denoiser"
   ]
  },
  {
   "cell_type": "code",
   "execution_count": null,
   "metadata": {},
   "outputs": [],
   "source": [
    "print(\"Executing Bilateral Denoiser\")\n",
    "start = datetime.now()\n",
    "dn = BilateralDenoiser(denoiser=denoise_bilateral, source=SOURCE, destination=DESTINATION)\n",
    "dn.run()\n",
    "stop = datetime.now()\n",
    "print(f\"Completed Bilateral Denoiser in {(stop-start).total_seconds()} seconds.\")\n",
    "msg = \"Download Results and hit 'y' when done.\"\n",
    "go = input(msg)\n",
    "if 'y' in go.lower():\n",
    "    pass"
   ]
  },
  {
   "cell_type": "markdown",
   "metadata": {},
   "source": [
    "## Total Variation Denoiser"
   ]
  },
  {
   "cell_type": "code",
   "execution_count": null,
   "metadata": {},
   "outputs": [],
   "source": [
    "print(\"Executing Total Variation Denoiser\")\n",
    "start = datetime.now()\n",
    "dn = TotalVariationDenoisier(denoiser=denoise_tv_bregman, source=SOURCE, destination=DESTINATION)\n",
    "dn.run()\n",
    "stop = datetime.now()\n",
    "print(f\"Completed Total Variation Denoiser in {(stop-start).total_seconds()} seconds.\")\n",
    "go = input(msg)\n",
    "if 'y' in go.lower():\n",
    "    pass"
   ]
  },
  {
   "cell_type": "markdown",
   "metadata": {},
   "source": [
    "## Non-Local Means Denoiser"
   ]
  },
  {
   "cell_type": "code",
   "execution_count": null,
   "metadata": {},
   "outputs": [],
   "source": [
    "print(\"Executing Non-Local Means Denoiser\")\n",
    "start = datetime.now()\n",
    "dn = NLMDenoisier(denoiser=denoise_tv_bregman, source=SOURCE, destination=DESTINATION)\n",
    "dn.run()\n",
    "stop = datetime.now()\n",
    "print(f\"Completed Non-Local Means Denoiser in {(stop-start).total_seconds()} seconds.\")\n",
    "if 'y' in go.lower():\n",
    "    pass"
   ]
  },
  {
   "cell_type": "markdown",
   "metadata": {},
   "source": [
    "## Wavelet Denoiser"
   ]
  },
  {
   "cell_type": "code",
   "execution_count": null,
   "metadata": {},
   "outputs": [],
   "source": [
    "print(\"Executing Wavelet Denoiser\")\n",
    "start = datetime.now()\n",
    "dn = WaveletDenoisier(denoiser=denoise_tv_bregman, source=SOURCE, destination=DESTINATION)\n",
    "dn.run()\n",
    "stop = datetime.now()\n",
    "print(f\"Completed Wavelet Denoiser in {(stop-start).total_seconds()} seconds.\")"
   ]
  }
 ],
 "metadata": {
  "language_info": {
   "name": "python"
  }
 },
 "nbformat": 4,
 "nbformat_minor": 2
}
