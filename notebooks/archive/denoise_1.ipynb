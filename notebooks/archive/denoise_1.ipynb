{
 "cells": [
  {
   "cell_type": "markdown",
   "metadata": {},
   "source": [
    "# Denoise Lab"
   ]
  },
  {
   "cell_type": "code",
   "execution_count": 1,
   "metadata": {},
   "outputs": [],
   "source": [
    "import skimage\n",
    "import numpy as np\n",
    "from matplotlib import pyplot as plt\n",
    "from matplotlib import gridspec\n",
    "\n",
    "\n",
    "from skimage.metrics import peak_signal_noise_ratio as psnr\n",
    "from skimage.restoration import (calibrate_denoiser,\n",
    "                                 denoise_wavelet,\n",
    "                                 denoise_tv_chambolle, denoise_nl_means,\n",
    "                                 estimate_sigma)\n",
    "from bcd.dal.io.image import ImageIO"
   ]
  },
  {
   "cell_type": "code",
   "execution_count": 3,
   "metadata": {},
   "outputs": [
    {
     "data": {
      "text/plain": [
       "'denoise_nl_means'"
      ]
     },
     "execution_count": 3,
     "metadata": {},
     "output_type": "execute_result"
    }
   ],
   "source": [
    "denoise_nl_means.__name__"
   ]
  },
  {
   "cell_type": "code",
   "execution_count": 2,
   "metadata": {},
   "outputs": [],
   "source": [
    "image = ImageIO.read(filepath = \"data/image/1_dev/4a104faa-1b67-4c4a-9769-6a066ea7cb8a.png\")"
   ]
  },
  {
   "cell_type": "markdown",
   "metadata": {},
   "source": [
    "## Total Variation"
   ]
  },
  {
   "cell_type": "code",
   "execution_count": 3,
   "metadata": {},
   "outputs": [],
   "source": [
    "parameter_ranges_tv = {'weight': np.arange(0.05, 0.3, 0.2)}\n",
    "_, (parameters_tested_tv, losses_tv) = calibrate_denoiser(\n",
    "                                    image,\n",
    "                                    denoise_tv_chambolle,\n",
    "                                    denoise_parameters=parameter_ranges_tv,\n",
    "                                    extra_output=True)\n",
    "print(f'Minimum self-supervised loss TV: {np.min(losses_tv):.4f}')                      \n",
    "best_parameters_tv = parameters_tested_tv[np.argmin(losses_tv)]\n",
    "denoised_calibrated_tv = denoise_invariant(image, denoise_tv_chambolle,\n",
    "                                           denoiser_kwargs=best_parameters_tv)\n",
    "denoised_default_tv = denoise_tv_chambolle(image, **best_parameters_tv)\n",
    "\n",
    "psnr_calibrated_tv = psnr(image, denoised_calibrated_tv)\n",
    "psnr_default_tv = psnr(image, denoised_default_tv)              "
   ]
  },
  {
   "cell_type": "markdown",
   "metadata": {},
   "source": [
    "## Wavelet"
   ]
  },
  {
   "cell_type": "code",
   "execution_count": null,
   "metadata": {},
   "outputs": [],
   "source": [
    "parameter_ranges_wavelet = {'sigma': np.arange(0.01, 0.3, 0.03)}\n",
    "_, (parameters_tested_wavelet, losses_wavelet) = calibrate_denoiser(\n",
    "                                                image,\n",
    "                                                _denoise_wavelet,\n",
    "                                                parameter_ranges_wavelet,\n",
    "                                                extra_output=True)\n",
    "print(f'Minimum self-supervised loss wavelet: {np.min(losses_wavelet):.4f}')\n",
    "\n",
    "best_parameters_wavelet = parameters_tested_wavelet[np.argmin(losses_wavelet)]\n",
    "denoised_calibrated_wavelet = denoise_invariant(\n",
    "        image, _denoise_wavelet,\n",
    "        denoiser_kwargs=best_parameters_wavelet)\n",
    "denoised_default_wavelet = _denoise_wavelet(image, **best_parameters_wavelet)\n",
    "\n",
    "psnr_calibrated_wavelet = psnr(image, denoised_calibrated_wavelet)\n",
    "psnr_default_wavelet = psnr(image, denoised_default_wavelet)"
   ]
  },
  {
   "cell_type": "markdown",
   "metadata": {},
   "source": [
    "## Non-Local Means"
   ]
  },
  {
   "cell_type": "code",
   "execution_count": null,
   "metadata": {},
   "outputs": [],
   "source": [
    "sigma_est = estimate_sigma(image)\n",
    "\n",
    "parameter_ranges_nl = {'sigma': np.arange(0.6, 1.4, 0.2) * sigma_est,\n",
    "                       'h': np.arange(0.6, 1.2, 0.2) * sigma_est}\n",
    "\n",
    "parameter_ranges_nl = {'sigma': np.arange(0.01, 0.3, 0.03)}\n",
    "_, (parameters_tested_nl, losses_nl) = calibrate_denoiser(image,\n",
    "                                                        denoise_nl_means,\n",
    "                                                        parameter_ranges_nl,\n",
    "                                                        extra_output=True)\n",
    "print(f'Minimum self-supervised loss NL means: {np.min(losses_nl):.4f}')\n",
    "\n",
    "best_parameters_nl = parameters_tested_nl[np.argmin(losses_nl)]\n",
    "denoised_calibrated_nl = denoise_invariant(image, denoise_nl_means,\n",
    "                                           denoiser_kwargs=best_parameters_nl)\n",
    "denoised_default_nl = denoise_nl_means(image, **best_parameters_nl)\n",
    "\n",
    "psnr_calibrated_nl = psnr(image, denoised_calibrated_nl)\n",
    "psnr_default_nl = psnr(image, denoised_default_nl)"
   ]
  },
  {
   "cell_type": "markdown",
   "metadata": {},
   "source": [
    "## Bilateral \n",
    "### Parameters\n",
    "Performance of the bilateral filter is governed by two parameters $\\theta_d$ and $\\theta_r$. The $\\theta_d$ parameter determines the kernel size and a rule of thumb, is to set this to 2% of the image diagonal. The $\\theta_r$ is the standard deviation of the range and should be proportional to the noise in the image. A rule of thumb is to set $\\theta_r$ to the mean or median of the image gradients."
   ]
  },
  {
   "cell_type": "markdown",
   "metadata": {},
   "source": [
    "# Results"
   ]
  },
  {
   "cell_type": "code",
   "execution_count": null,
   "metadata": {},
   "outputs": [],
   "source": [
    "print('                       PSNR')\n",
    "print(f'NL means (Default)   : {psnr_default_nl:.1f}')\n",
    "print(f'NL means (Calibrated): {psnr_calibrated_nl:.1f}')\n",
    "print(f'Wavelet  (Default)   : {psnr_default_wavelet:.1f}')\n",
    "print(f'Wavelet  (Calibrated): {psnr_calibrated_wavelet:.1f}')\n",
    "print(f'TV norm  (Default)   : {psnr_default_tv:.1f}')\n",
    "print(f'TV norm  (Calibrated): {psnr_calibrated_tv:.1f}')\n",
    "\n",
    "plt.subplots(figsize=(10, 12))\n",
    "plt.imshow(image, cmap='Greys_r')\n",
    "plt.xticks([])\n",
    "plt.yticks([])\n",
    "plt.title('Noisy Image')\n",
    "\n",
    "def get_inset(x):\n",
    "    return x[0:100, -140:]\n",
    "\n",
    "fig, axes = plt.subplots(ncols=3, nrows=2, figsize=(15, 8))\n",
    "\n",
    "for ax in axes.ravel():\n",
    "    ax.set_xticks([])\n",
    "    ax.set_yticks([])\n",
    "\n",
    "axes[0, 0].imshow(get_inset(denoised_default_nl), cmap='Greys_r')\n",
    "axes[0, 0].set_title('NL Means Default')\n",
    "axes[1, 0].imshow(get_inset(denoised_calibrated_nl), cmap='Greys_r')\n",
    "axes[1, 0].set_title('NL Means Calibrated')\n",
    "axes[0, 1].imshow(get_inset(denoised_default_wavelet), cmap='Greys_r')\n",
    "axes[0, 1].set_title('Wavelet Default')\n",
    "axes[1, 1].imshow(get_inset(denoised_calibrated_wavelet), cmap='Greys_r')\n",
    "axes[1, 1].set_title('Wavelet Calibrated')\n",
    "axes[0, 2].imshow(get_inset(denoised_default_tv), cmap='Greys_r')\n",
    "axes[0, 2].set_title('TV Norm Default')\n",
    "axes[1, 2].imshow(get_inset(denoised_calibrated_tv), cmap='Greys_r')\n",
    "axes[1, 2].set_title('TV Norm Calibrated')\n",
    "\n",
    "for spine in axes[1, 2].spines.values():\n",
    "    spine.set_edgecolor('red')\n",
    "    spine.set_linewidth(5)\n",
    "\n",
    "plt.show()"
   ]
  }
 ],
 "metadata": {
  "kernelspec": {
   "display_name": "bcd",
   "language": "python",
   "name": "python3"
  },
  "language_info": {
   "codemirror_mode": {
    "name": "ipython",
    "version": 3
   },
   "file_extension": ".py",
   "mimetype": "text/x-python",
   "name": "python",
   "nbconvert_exporter": "python",
   "pygments_lexer": "ipython3",
   "version": "3.10.12"
  }
 },
 "nbformat": 4,
 "nbformat_minor": 2
}
