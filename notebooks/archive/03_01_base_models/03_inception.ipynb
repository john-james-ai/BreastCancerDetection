{
 "cells": [
  {
   "cell_type": "markdown",
   "metadata": {},
   "source": [
    "# ResNet"
   ]
  },
  {
   "cell_type": "code",
   "execution_count": 1,
   "metadata": {},
   "outputs": [],
   "source": [
    "import os\n",
    "import wandb\n",
    "import pathlib\n",
    "import pandas as pd\n",
    "import tensorflow as tf\n",
    "\n",
    "from bcd.model.repo import ExperimentRepo\n",
    "from bcd.model.factory import InceptionFactory\n",
    "from bcd.model.transfer import FineTuner\n",
    "from bcd.model.callback import Historian\n",
    "from bcd.model.schedule import LinearThawSchedule, LogThawSchedule, LinearLearningRateSchedule, LogLearningRateSchedule\n",
    "pd.set_option('display.max_rows',999)\n"
   ]
  },
  {
   "cell_type": "markdown",
   "metadata": {},
   "source": [
    "## Configuration"
   ]
  },
  {
   "cell_type": "code",
   "execution_count": 2,
   "metadata": {},
   "outputs": [
    {
     "name": "stdout",
     "output_type": "stream",
     "text": [
      "env: \"WANDB_NOTEBOOK_NAME\"=\"03_inception.ipynb\"\n"
     ]
    }
   ],
   "source": [
    "# W&B\n",
    "%env \"WANDB_NOTEBOOK_NAME\" \"03_inception.ipynb\"\n",
    "project = \"breast_cancer_detection\"\n",
    "\n",
    "# Model Parameters\n",
    "full_dataset = False\n",
    "architecture='InceptionV3'\n",
    "model_name = \"inception\" if full_dataset else \"inception_10\"\n",
    "version=\"v1_log\"\n",
    "name = f\"{model_name}_{version}\"\n",
    "force = False  # Whether to retrain if the model and weights already exist from a prior training session.\n",
    "metrics = ['accuracy', tf.keras.metrics.Precision(), tf.keras.metrics.Recall()]\n",
    "base_model_layer = 4 # Layer of the inception base model\n",
    "base_model_layers = 311 # layers in inception model\n",
    "loss = \"binary_crossentropy\"\n",
    "activation = \"sigmoid\"\n",
    "\n",
    "# Dataset params\n",
    "batch_size = 64 if full_dataset else 32\n",
    "input_shape = (224,224,3)\n",
    "output_shape = 1\n",
    "train_dir = pathlib.Path(\"data/image/1_final/training/training/\").with_suffix('') if full_dataset else pathlib.Path(\"data/image/1_final/training_10/training/\").with_suffix('') \n",
    "test_dir = pathlib.Path(\"data/image/1_final/test/test/\").with_suffix('')\n",
    "\n",
    "# Feature Extraction Parameters\n",
    "initial_epochs = 100  # Number of epochs to train for feature extraction\n",
    "fe_learning_rate = 1e-5\n",
    "\n",
    "# Fine Tune Parameters\n",
    "fine_tune_epochs = 10  # Number of epochs for each fine tune session\n",
    "fine_tune_sessions = 5 # Number of fine tune sessions\n",
    "fine_tune_min_lr = 1e-8\n",
    "fine_tune_max_lr = 1e-5\n",
    "fine_tune_thaw_schedule = \"log\"\n",
    "\n",
    "\n",
    "# Early stop parameters \n",
    "es_min_delta = 0.0001\n",
    "es_monitor = \"val_loss\"  # Monitor validation loss for early stopping\n",
    "es_patience = 8  # The number of consecutive epochs for which lack of improvement is tolerated \n",
    "es_restore_best_weights = True  # Returns the best weights rather than the weights at the last epoch.\n",
    "es_verbose = 1\n",
    "es_session_patience = None # The number of fine tuning sessions for which lack of improvement is tolerated. If None, no early stopping at session level\n",
    "\n",
    "# Reduce LR on Plateau Parameters\n",
    "rlr_monitor = \"val_loss\"\n",
    "rlr_factor = 0.5\n",
    "rlr_patience = 3\n",
    "rlr_verbose = 1\n",
    "rlr_mode = \"auto\"\n",
    "rlr_min_delta = 0.0001\n",
    "rlr_min_lr=1e-10\n",
    "\n",
    "# ModelCheckpoint Callback parameters\n",
    "mcp_location = \"models/\"\n",
    "mcp_mode = \"auto\"\n",
    "mcp_save_weights_only = False\n",
    "mcp_save_best_only = True\n",
    "mcp_save_freq = \"epoch\"\n",
    "mcp_verbose = 1\n",
    "\n",
    "# Historian parameters\n",
    "filename = f\"{name}_history.pkl\"\n",
    "historian_filepath = os.path.join(\"models\", name, filename)\n",
    "\n"
   ]
  },
  {
   "cell_type": "markdown",
   "metadata": {},
   "source": [
    "## Experiment Setup"
   ]
  },
  {
   "cell_type": "code",
   "execution_count": 3,
   "metadata": {},
   "outputs": [],
   "source": [
    "config = {\n",
    "    \"architecture\": architecture,\n",
    "    \"model_name\": model_name,\n",
    "    \"version\": version,\n",
    "    \"dataset\": \"CBIS-DDSM-10\",\n",
    "    \"batch_size\": batch_size,\n",
    "    \"initial_epochs\": initial_epochs,\n",
    "    \"fine_tune_epochs\": fine_tune_epochs,\n",
    "    \"fine_tune_sessions\": fine_tune_sessions,\n",
    "    \"fine_tune_min_lr\": fine_tune_min_lr,\n",
    "    \"fine_tune_max_lr\": fine_tune_max_lr,\n",
    "    \"fine_tune_schedule\": fine_tune_thaw_schedule,\n",
    "    \"early_stop_min_delta\": es_min_delta,\n",
    "    \"early_stop_monitor\": es_monitor,\n",
    "    \"early_stop_patience\": es_patience,\n",
    "    \"early_stop_restore_best_weights\": es_restore_best_weights,\n",
    "    \"early_stop_verbose\": es_verbose,\n",
    "    \"rlr_monitor\": rlr_monitor,\n",
    "    \"rlr_factor\": rlr_factor,\n",
    "    \"rlr_patience\": rlr_patience,\n",
    "    \"rlr_verbose\": rlr_verbose,\n",
    "    \"rlr_mode\": rlr_mode,\n",
    "    \"rlr_min_delta\": rlr_min_delta,\n",
    "    \"rlr_min_lr\": rlr_min_lr\n",
    "    \n",
    "}"
   ]
  },
  {
   "cell_type": "code",
   "execution_count": 4,
   "metadata": {},
   "outputs": [
    {
     "name": "stdout",
     "output_type": "stream",
     "text": [
      "ERROR:wandb.jupyter:Failed to detect the name of this notebook, you can set it manually with the WANDB_NOTEBOOK_NAME environment variable to enable code saving.\n"
     ]
    },
    {
     "name": "stderr",
     "output_type": "stream",
     "text": [
      "\u001b[34m\u001b[1mwandb\u001b[0m: Currently logged in as: \u001b[33maistudio\u001b[0m. Use \u001b[1m`wandb login --relogin`\u001b[0m to force relogin\n"
     ]
    },
    {
     "data": {
      "text/html": [
       "Tracking run with wandb version 0.16.2"
      ],
      "text/plain": [
       "<IPython.core.display.HTML object>"
      ]
     },
     "metadata": {},
     "output_type": "display_data"
    },
    {
     "data": {
      "text/html": [
       "Run data is saved locally in <code>/home/john/projects/bcd/wandb/run-20240126_113438-cskzv8vv</code>"
      ],
      "text/plain": [
       "<IPython.core.display.HTML object>"
      ]
     },
     "metadata": {},
     "output_type": "display_data"
    },
    {
     "data": {
      "text/html": [
       "Syncing run <strong><a href='https://wandb.ai/aistudio/breast_cancer_detection/runs/cskzv8vv' target=\"_blank\">astral-glitter-36</a></strong> to <a href='https://wandb.ai/aistudio/breast_cancer_detection' target=\"_blank\">Weights & Biases</a> (<a href='https://wandb.me/run' target=\"_blank\">docs</a>)<br/>"
      ],
      "text/plain": [
       "<IPython.core.display.HTML object>"
      ]
     },
     "metadata": {},
     "output_type": "display_data"
    },
    {
     "data": {
      "text/html": [
       " View project at <a href='https://wandb.ai/aistudio/breast_cancer_detection' target=\"_blank\">https://wandb.ai/aistudio/breast_cancer_detection</a>"
      ],
      "text/plain": [
       "<IPython.core.display.HTML object>"
      ]
     },
     "metadata": {},
     "output_type": "display_data"
    },
    {
     "data": {
      "text/html": [
       " View run at <a href='https://wandb.ai/aistudio/breast_cancer_detection/runs/cskzv8vv' target=\"_blank\">https://wandb.ai/aistudio/breast_cancer_detection/runs/cskzv8vv</a>"
      ],
      "text/plain": [
       "<IPython.core.display.HTML object>"
      ]
     },
     "metadata": {},
     "output_type": "display_data"
    }
   ],
   "source": [
    "run = wandb.init(project=project, config=config)"
   ]
  },
  {
   "cell_type": "markdown",
   "metadata": {},
   "source": [
    "## Load Data"
   ]
  },
  {
   "cell_type": "code",
   "execution_count": 5,
   "metadata": {},
   "outputs": [
    {
     "name": "stdout",
     "output_type": "stream",
     "text": [
      "Found 276 files belonging to 2 classes.\n",
      "Using 221 files for training.\n",
      "Found 276 files belonging to 2 classes.\n",
      "Using 55 files for validation.\n",
      "Found 649 files belonging to 2 classes.\n"
     ]
    }
   ],
   "source": [
    "# Training DataSet (10%)\n",
    "train_ds = tf.keras.utils.image_dataset_from_directory(\n",
    "    train_dir,\n",
    "    labels=\"inferred\",\n",
    "    color_mode=\"rgb\",\n",
    "    image_size=(224,224),\n",
    "    shuffle=True,\n",
    "    validation_split=0.2,\n",
    "    subset='training',\n",
    "    interpolation=\"bilinear\",\n",
    "    seed=123,\n",
    "    batch_size=batch_size)\n",
    "\n",
    "# Validation DataSet (10%)\n",
    "val_ds = tf.keras.utils.image_dataset_from_directory(\n",
    "    train_dir,\n",
    "    labels=\"inferred\",\n",
    "    color_mode=\"rgb\",\n",
    "    image_size=(224,224),\n",
    "    shuffle=True,\n",
    "    validation_split=0.2,\n",
    "    subset='validation',\n",
    "    interpolation=\"bilinear\",\n",
    "    seed=123,\n",
    "    batch_size=batch_size)\n",
    "\n",
    "# Test Set\n",
    "test_ds = tf.keras.utils.image_dataset_from_directory(\n",
    "    test_dir,\n",
    "    labels=\"inferred\",\n",
    "    color_mode=\"rgb\",\n",
    "    image_size=(224,224),\n",
    "    shuffle=True)"
   ]
  },
  {
   "cell_type": "markdown",
   "metadata": {},
   "source": [
    "## Dependencies\n",
    "Several dependencies will be used throughout this notebook, including:\n",
    "- Early Stop Callback\n",
    "- Reduce Learning Rate on Plateau Callback\n",
    "- Model Repository\n",
    "- ResNet Model Factory\n",
    "- Historian Callback\n",
    "\n",
    "We'll make those objects available here."
   ]
  },
  {
   "cell_type": "code",
   "execution_count": 6,
   "metadata": {},
   "outputs": [],
   "source": [
    "early_stop_callback = tf.keras.callbacks.EarlyStopping(monitor=es_monitor, \n",
    "                                                       min_delta=es_min_delta,\n",
    "                                                       patience=es_patience, \n",
    "                                                       restore_best_weights=es_restore_best_weights,\n",
    "                                                       verbose=es_verbose)\n",
    "\n",
    "reduce_lr_callback = tf.keras.callbacks.ReduceLROnPlateau(monitor=rlr_monitor,\n",
    "                                                          factor=rlr_factor,\n",
    "                                                          patience=rlr_patience,\n",
    "                                                          verbose=rlr_verbose,\n",
    "                                                          mode=rlr_mode,\n",
    "                                                          min_delta=rlr_min_delta,\n",
    "                                                          min_lr=rlr_min_lr)\n",
    "wandb_callback = wandb.keras.WandbMetricsLogger()\n",
    "\n",
    "repo = ExperimentRepo(location=mcp_location)\n",
    "\n",
    "factory = InceptionFactory()\n",
    "\n",
    "historian = Historian(name=name)\n",
    "\n",
    "if fine_tune_thaw_schedule == \"linear\":\n",
    "    thaw_schedule = LinearThawSchedule(sessions=fine_tune_sessions, \n",
    "                                    base_model_layer=base_model_layer, \n",
    "                                    n_layers=len(factory.base_model.layers))\n",
    "    learning_rate_schedule = LinearLearningRateSchedule(sessions=fine_tune_sessions, initial_learning_rate=fine_tune_max_lr, final_learning_rate=fine_tune_min_lr)\n",
    "\n",
    "else:\n",
    "    thaw_schedule = LogThawSchedule(sessions=fine_tune_sessions, \n",
    "                                   base_model_layer=base_model_layer, \n",
    "                                   n_layers=len(factory.base_model.layers))\n",
    "\n",
    "\n",
    "\n",
    "    learning_rate_schedule = LogLearningRateSchedule(sessions=fine_tune_sessions, initial_learning_rate=fine_tune_max_lr, final_learning_rate=fine_tune_min_lr)\n"
   ]
  },
  {
   "cell_type": "markdown",
   "metadata": {},
   "source": [
    "## Feature Extraction\n",
    "If the model already exists, obtain it from the repository. Otherwise, create the model and perform feature extraction."
   ]
  },
  {
   "cell_type": "code",
   "execution_count": 7,
   "metadata": {},
   "outputs": [
    {
     "name": "stdout",
     "output_type": "stream",
     "text": [
      "Model: \"model\"\n",
      "_________________________________________________________________\n",
      " Layer (type)                Output Shape              Param #   \n",
      "=================================================================\n",
      " input_layer (InputLayer)    [(None, 224, 224, 3)]     0         \n",
      "                                                                 \n",
      " tf.math.truediv (TFOpLambda  (None, 224, 224, 3)      0         \n",
      " )                                                               \n",
      "                                                                 \n",
      " tf.math.subtract (TFOpLambd  (None, 224, 224, 3)      0         \n",
      " a)                                                              \n",
      "                                                                 \n",
      " data_augmentation (Sequenti  (None, 224, 224, 3)      0         \n",
      " al)                                                             \n",
      "                                                                 \n",
      " inception_v3 (Functional)   (None, None, None, 2048)  21802784  \n",
      "                                                                 \n",
      " global_average_pooling_laye  (None, 2048)             0         \n",
      " r (GlobalAveragePooling2D)                                      \n",
      "                                                                 \n",
      " output_layer (Dense)        (None, 1)                 2049      \n",
      "                                                                 \n",
      "=================================================================\n",
      "Total params: 21,804,833\n",
      "Trainable params: 2,049\n",
      "Non-trainable params: 21,802,784\n",
      "_________________________________________________________________\n",
      "Epoch 1/100\n",
      "7/7 [==============================] - ETA: 0s - loss: 0.7171 - accuracy: 0.5611 - precision: 0.3684 - recall: 0.0761\n",
      "Epoch 1: val_loss improved from inf to 0.66299, saving model to models/inception_10_v1_log/feature_extraction/inception_10_v1_log_feature_extraction_01-val_loss_0.66.keras\n",
      "7/7 [==============================] - 28s 3s/step - loss: 0.7171 - accuracy: 0.5611 - precision: 0.3684 - recall: 0.0761 - val_loss: 0.6630 - val_accuracy: 0.6909 - val_precision: 0.0000e+00 - val_recall: 0.0000e+00 - lr: 1.0000e-05 - duration: 27.7432\n",
      "Epoch 2/100\n",
      "7/7 [==============================] - ETA: 0s - loss: 0.7647 - accuracy: 0.5792 - precision: 0.4762 - recall: 0.1087\n",
      "Epoch 2: val_loss improved from 0.66299 to 0.65809, saving model to models/inception_10_v1_log/feature_extraction/inception_10_v1_log_feature_extraction_02-val_loss_0.66.keras\n",
      "7/7 [==============================] - 18s 2s/step - loss: 0.7647 - accuracy: 0.5792 - precision: 0.4762 - recall: 0.1087 - val_loss: 0.6581 - val_accuracy: 0.7091 - val_precision: 1.0000 - val_recall: 0.0588 - lr: 1.0000e-05 - duration: 17.9838\n",
      "Epoch 3/100\n",
      "7/7 [==============================] - ETA: 0s - loss: 0.7308 - accuracy: 0.5792 - precision: 0.4737 - recall: 0.0978\n",
      "Epoch 3: val_loss improved from 0.65809 to 0.65394, saving model to models/inception_10_v1_log/feature_extraction/inception_10_v1_log_feature_extraction_03-val_loss_0.65.keras\n",
      "7/7 [==============================] - 19s 2s/step - loss: 0.7308 - accuracy: 0.5792 - precision: 0.4737 - recall: 0.0978 - val_loss: 0.6539 - val_accuracy: 0.7091 - val_precision: 1.0000 - val_recall: 0.0588 - lr: 1.0000e-05 - duration: 18.6479\n",
      "Epoch 4/100\n",
      "7/7 [==============================] - ETA: 0s - loss: 0.7192 - accuracy: 0.5882 - precision: 0.5172 - recall: 0.1630\n",
      "Epoch 4: val_loss improved from 0.65394 to 0.65019, saving model to models/inception_10_v1_log/feature_extraction/inception_10_v1_log_feature_extraction_04-val_loss_0.65.keras\n",
      "7/7 [==============================] - 18s 2s/step - loss: 0.7192 - accuracy: 0.5882 - precision: 0.5172 - recall: 0.1630 - val_loss: 0.6502 - val_accuracy: 0.7091 - val_precision: 1.0000 - val_recall: 0.0588 - lr: 1.0000e-05 - duration: 17.8424\n",
      "Epoch 5/100\n",
      "7/7 [==============================] - ETA: 0s - loss: 0.7328 - accuracy: 0.5430 - precision: 0.3548 - recall: 0.1196    \n",
      "Epoch 5: val_loss improved from 0.65019 to 0.64743, saving model to models/inception_10_v1_log/feature_extraction/inception_10_v1_log_feature_extraction_05-val_loss_0.65.keras\n",
      "7/7 [==============================] - 18s 2s/step - loss: 0.7328 - accuracy: 0.5430 - precision: 0.3548 - recall: 0.1196 - val_loss: 0.6474 - val_accuracy: 0.7091 - val_precision: 1.0000 - val_recall: 0.0588 - lr: 1.0000e-05 - duration: 17.9894\n",
      "Epoch 6/100\n",
      "7/7 [==============================] - ETA: 0s - loss: 0.7482 - accuracy: 0.5837 - precision: 0.5000 - recall: 0.1957\n",
      "Epoch 6: val_loss improved from 0.64743 to 0.64509, saving model to models/inception_10_v1_log/feature_extraction/inception_10_v1_log_feature_extraction_06-val_loss_0.65.keras\n",
      "7/7 [==============================] - 18s 2s/step - loss: 0.7482 - accuracy: 0.5837 - precision: 0.5000 - recall: 0.1957 - val_loss: 0.6451 - val_accuracy: 0.7091 - val_precision: 1.0000 - val_recall: 0.0588 - lr: 1.0000e-05 - duration: 17.8422\n",
      "Epoch 7/100\n",
      "7/7 [==============================] - ETA: 0s - loss: 0.7060 - accuracy: 0.5837 - precision: 0.5000 - recall: 0.1848\n",
      "Epoch 7: val_loss improved from 0.64509 to 0.64327, saving model to models/inception_10_v1_log/feature_extraction/inception_10_v1_log_feature_extraction_07-val_loss_0.64.keras\n",
      "7/7 [==============================] - 18s 2s/step - loss: 0.7060 - accuracy: 0.5837 - precision: 0.5000 - recall: 0.1848 - val_loss: 0.6433 - val_accuracy: 0.7091 - val_precision: 1.0000 - val_recall: 0.0588 - lr: 1.0000e-05 - duration: 17.9556\n",
      "Epoch 8/100\n",
      "7/7 [==============================] - ETA: 0s - loss: 0.6969 - accuracy: 0.6109 - precision: 0.5938 - recall: 0.2065\n",
      "Epoch 8: val_loss improved from 0.64327 to 0.64158, saving model to models/inception_10_v1_log/feature_extraction/inception_10_v1_log_feature_extraction_08-val_loss_0.64.keras\n",
      "7/7 [==============================] - 17s 2s/step - loss: 0.6969 - accuracy: 0.6109 - precision: 0.5938 - recall: 0.2065 - val_loss: 0.6416 - val_accuracy: 0.7091 - val_precision: 1.0000 - val_recall: 0.0588 - lr: 1.0000e-05 - duration: 17.3547\n",
      "Epoch 9/100\n",
      "7/7 [==============================] - ETA: 0s - loss: 0.7517 - accuracy: 0.5701 - precision: 0.4651 - recall: 0.2174\n",
      "Epoch 9: val_loss improved from 0.64158 to 0.64007, saving model to models/inception_10_v1_log/feature_extraction/inception_10_v1_log_feature_extraction_09-val_loss_0.64.keras\n",
      "7/7 [==============================] - 18s 2s/step - loss: 0.7517 - accuracy: 0.5701 - precision: 0.4651 - recall: 0.2174 - val_loss: 0.6401 - val_accuracy: 0.7091 - val_precision: 1.0000 - val_recall: 0.0588 - lr: 1.0000e-05 - duration: 18.1798\n",
      "Epoch 10/100\n",
      "7/7 [==============================] - ETA: 0s - loss: 0.7137 - accuracy: 0.5973 - precision: 0.5306 - recall: 0.2826\n",
      "Epoch 10: val_loss improved from 0.64007 to 0.63890, saving model to models/inception_10_v1_log/feature_extraction/inception_10_v1_log_feature_extraction_10-val_loss_0.64.keras\n",
      "7/7 [==============================] - 17s 2s/step - loss: 0.7137 - accuracy: 0.5973 - precision: 0.5306 - recall: 0.2826 - val_loss: 0.6389 - val_accuracy: 0.7091 - val_precision: 1.0000 - val_recall: 0.0588 - lr: 1.0000e-05 - duration: 17.2169\n",
      "Epoch 11/100\n",
      "7/7 [==============================] - ETA: 0s - loss: 0.7294 - accuracy: 0.5430 - precision: 0.4000 - recall: 0.1957\n",
      "Epoch 11: val_loss improved from 0.63890 to 0.63803, saving model to models/inception_10_v1_log/feature_extraction/inception_10_v1_log_feature_extraction_11-val_loss_0.64.keras\n",
      "7/7 [==============================] - 18s 2s/step - loss: 0.7294 - accuracy: 0.5430 - precision: 0.4000 - recall: 0.1957 - val_loss: 0.6380 - val_accuracy: 0.6909 - val_precision: 0.5000 - val_recall: 0.0588 - lr: 1.0000e-05 - duration: 18.0129\n",
      "Epoch 12/100\n",
      "7/7 [==============================] - ETA: 0s - loss: 0.7050 - accuracy: 0.5973 - precision: 0.5319 - recall: 0.2717\n",
      "Epoch 12: val_loss improved from 0.63803 to 0.63707, saving model to models/inception_10_v1_log/feature_extraction/inception_10_v1_log_feature_extraction_12-val_loss_0.64.keras\n",
      "7/7 [==============================] - 19s 2s/step - loss: 0.7050 - accuracy: 0.5973 - precision: 0.5319 - recall: 0.2717 - val_loss: 0.6371 - val_accuracy: 0.6909 - val_precision: 0.5000 - val_recall: 0.0588 - lr: 1.0000e-05 - duration: 18.8447\n",
      "Epoch 13/100\n",
      "7/7 [==============================] - ETA: 0s - loss: 0.6803 - accuracy: 0.5837 - precision: 0.5000 - recall: 0.3043\n",
      "Epoch 13: val_loss improved from 0.63707 to 0.63646, saving model to models/inception_10_v1_log/feature_extraction/inception_10_v1_log_feature_extraction_13-val_loss_0.64.keras\n",
      "7/7 [==============================] - 16s 2s/step - loss: 0.6803 - accuracy: 0.5837 - precision: 0.5000 - recall: 0.3043 - val_loss: 0.6365 - val_accuracy: 0.6727 - val_precision: 0.3333 - val_recall: 0.0588 - lr: 1.0000e-05 - duration: 15.9933\n",
      "Epoch 14/100\n",
      "7/7 [==============================] - ETA: 0s - loss: 0.7068 - accuracy: 0.5475 - precision: 0.4375 - recall: 0.3043\n",
      "Epoch 14: val_loss improved from 0.63646 to 0.63607, saving model to models/inception_10_v1_log/feature_extraction/inception_10_v1_log_feature_extraction_14-val_loss_0.64.keras\n",
      "7/7 [==============================] - 18s 2s/step - loss: 0.7068 - accuracy: 0.5475 - precision: 0.4375 - recall: 0.3043 - val_loss: 0.6361 - val_accuracy: 0.6727 - val_precision: 0.3333 - val_recall: 0.0588 - lr: 1.0000e-05 - duration: 18.4074\n",
      "Epoch 15/100\n",
      "7/7 [==============================] - ETA: 0s - loss: 0.7258 - accuracy: 0.5520 - precision: 0.4444 - recall: 0.3043\n",
      "Epoch 15: val_loss improved from 0.63607 to 0.63579, saving model to models/inception_10_v1_log/feature_extraction/inception_10_v1_log_feature_extraction_15-val_loss_0.64.keras\n",
      "7/7 [==============================] - 17s 2s/step - loss: 0.7258 - accuracy: 0.5520 - precision: 0.4444 - recall: 0.3043 - val_loss: 0.6358 - val_accuracy: 0.6727 - val_precision: 0.3333 - val_recall: 0.0588 - lr: 1.0000e-05 - duration: 16.5251\n",
      "Epoch 16/100\n",
      "7/7 [==============================] - ETA: 0s - loss: 0.7221 - accuracy: 0.5656 - precision: 0.4643 - recall: 0.2826\n",
      "Epoch 16: val_loss improved from 0.63579 to 0.63560, saving model to models/inception_10_v1_log/feature_extraction/inception_10_v1_log_feature_extraction_16-val_loss_0.64.keras\n",
      "7/7 [==============================] - 18s 2s/step - loss: 0.7221 - accuracy: 0.5656 - precision: 0.4643 - recall: 0.2826 - val_loss: 0.6356 - val_accuracy: 0.6727 - val_precision: 0.3333 - val_recall: 0.0588 - lr: 1.0000e-05 - duration: 17.8058\n",
      "Epoch 17/100\n",
      "7/7 [==============================] - ETA: 0s - loss: 0.6690 - accuracy: 0.5792 - precision: 0.4915 - recall: 0.3152\n",
      "Epoch 17: val_loss improved from 0.63560 to 0.63537, saving model to models/inception_10_v1_log/feature_extraction/inception_10_v1_log_feature_extraction_17-val_loss_0.64.keras\n",
      "7/7 [==============================] - 18s 2s/step - loss: 0.6690 - accuracy: 0.5792 - precision: 0.4915 - recall: 0.3152 - val_loss: 0.6354 - val_accuracy: 0.6727 - val_precision: 0.3333 - val_recall: 0.0588 - lr: 1.0000e-05 - duration: 17.9981\n",
      "Epoch 18/100\n",
      "7/7 [==============================] - ETA: 0s - loss: 0.7353 - accuracy: 0.5249 - precision: 0.3898 - recall: 0.2500\n",
      "Epoch 18: val_loss improved from 0.63537 to 0.63517, saving model to models/inception_10_v1_log/feature_extraction/inception_10_v1_log_feature_extraction_18-val_loss_0.64.keras\n",
      "7/7 [==============================] - 18s 2s/step - loss: 0.7353 - accuracy: 0.5249 - precision: 0.3898 - recall: 0.2500 - val_loss: 0.6352 - val_accuracy: 0.6727 - val_precision: 0.3333 - val_recall: 0.0588 - lr: 1.0000e-05 - duration: 17.9585\n",
      "Epoch 19/100\n",
      "7/7 [==============================] - ETA: 0s - loss: 0.7380 - accuracy: 0.5611 - precision: 0.4545 - recall: 0.2717\n",
      "Epoch 19: val_loss improved from 0.63517 to 0.63480, saving model to models/inception_10_v1_log/feature_extraction/inception_10_v1_log_feature_extraction_19-val_loss_0.63.keras\n",
      "7/7 [==============================] - 19s 2s/step - loss: 0.7380 - accuracy: 0.5611 - precision: 0.4545 - recall: 0.2717 - val_loss: 0.6348 - val_accuracy: 0.6727 - val_precision: 0.3333 - val_recall: 0.0588 - lr: 1.0000e-05 - duration: 19.4578\n",
      "Epoch 20/100\n",
      "7/7 [==============================] - ETA: 0s - loss: 0.7177 - accuracy: 0.5475 - precision: 0.4259 - recall: 0.2500\n",
      "Epoch 20: val_loss improved from 0.63480 to 0.63440, saving model to models/inception_10_v1_log/feature_extraction/inception_10_v1_log_feature_extraction_20-val_loss_0.63.keras\n",
      "7/7 [==============================] - 21s 2s/step - loss: 0.7177 - accuracy: 0.5475 - precision: 0.4259 - recall: 0.2500 - val_loss: 0.6344 - val_accuracy: 0.6727 - val_precision: 0.3333 - val_recall: 0.0588 - lr: 1.0000e-05 - duration: 20.5534\n",
      "Epoch 21/100\n",
      "7/7 [==============================] - ETA: 0s - loss: 0.7053 - accuracy: 0.5294 - precision: 0.3966 - recall: 0.2500\n",
      "Epoch 21: val_loss improved from 0.63440 to 0.63424, saving model to models/inception_10_v1_log/feature_extraction/inception_10_v1_log_feature_extraction_21-val_loss_0.63.keras\n",
      "7/7 [==============================] - 19s 2s/step - loss: 0.7053 - accuracy: 0.5294 - precision: 0.3966 - recall: 0.2500 - val_loss: 0.6342 - val_accuracy: 0.6727 - val_precision: 0.3333 - val_recall: 0.0588 - lr: 1.0000e-05 - duration: 19.0136\n",
      "Epoch 22/100\n",
      "7/7 [==============================] - ETA: 0s - loss: 0.7174 - accuracy: 0.5475 - precision: 0.4259 - recall: 0.2500\n",
      "Epoch 22: val_loss improved from 0.63424 to 0.63406, saving model to models/inception_10_v1_log/feature_extraction/inception_10_v1_log_feature_extraction_22-val_loss_0.63.keras\n",
      "7/7 [==============================] - 18s 2s/step - loss: 0.7174 - accuracy: 0.5475 - precision: 0.4259 - recall: 0.2500 - val_loss: 0.6341 - val_accuracy: 0.6727 - val_precision: 0.3333 - val_recall: 0.0588 - lr: 1.0000e-05 - duration: 17.9048\n",
      "Epoch 23/100\n",
      "7/7 [==============================] - ETA: 0s - loss: 0.6981 - accuracy: 0.5566 - precision: 0.4483 - recall: 0.2826\n",
      "Epoch 23: val_loss improved from 0.63406 to 0.63389, saving model to models/inception_10_v1_log/feature_extraction/inception_10_v1_log_feature_extraction_23-val_loss_0.63.keras\n",
      "7/7 [==============================] - 19s 2s/step - loss: 0.6981 - accuracy: 0.5566 - precision: 0.4483 - recall: 0.2826 - val_loss: 0.6339 - val_accuracy: 0.6727 - val_precision: 0.3333 - val_recall: 0.0588 - lr: 1.0000e-05 - duration: 19.0928\n",
      "Epoch 24/100\n",
      "7/7 [==============================] - ETA: 0s - loss: 0.7052 - accuracy: 0.5339 - precision: 0.4179 - recall: 0.3043\n",
      "Epoch 24: val_loss improved from 0.63389 to 0.63378, saving model to models/inception_10_v1_log/feature_extraction/inception_10_v1_log_feature_extraction_24-val_loss_0.63.keras\n",
      "7/7 [==============================] - 18s 2s/step - loss: 0.7052 - accuracy: 0.5339 - precision: 0.4179 - recall: 0.3043 - val_loss: 0.6338 - val_accuracy: 0.6727 - val_precision: 0.3333 - val_recall: 0.0588 - lr: 1.0000e-05 - duration: 18.4365\n",
      "Epoch 25/100\n",
      "7/7 [==============================] - ETA: 0s - loss: 0.7253 - accuracy: 0.5385 - precision: 0.4194 - recall: 0.2826\n",
      "Epoch 25: val_loss improved from 0.63378 to 0.63371, saving model to models/inception_10_v1_log/feature_extraction/inception_10_v1_log_feature_extraction_25-val_loss_0.63.keras\n",
      "7/7 [==============================] - 20s 2s/step - loss: 0.7253 - accuracy: 0.5385 - precision: 0.4194 - recall: 0.2826 - val_loss: 0.6337 - val_accuracy: 0.6727 - val_precision: 0.3333 - val_recall: 0.0588 - lr: 1.0000e-05 - duration: 19.6886\n",
      "Epoch 26/100\n",
      "7/7 [==============================] - ETA: 0s - loss: 0.6955 - accuracy: 0.5294 - precision: 0.4189 - recall: 0.3370\n",
      "Epoch 26: val_loss did not improve from 0.63371\n",
      "7/7 [==============================] - 19s 2s/step - loss: 0.6955 - accuracy: 0.5294 - precision: 0.4189 - recall: 0.3370 - val_loss: 0.6337 - val_accuracy: 0.6727 - val_precision: 0.3333 - val_recall: 0.0588 - lr: 1.0000e-05 - duration: 18.8821\n",
      "Epoch 27/100\n",
      "7/7 [==============================] - ETA: 0s - loss: 0.6746 - accuracy: 0.5792 - precision: 0.4918 - recall: 0.3261\n",
      "Epoch 27: val_loss improved from 0.63371 to 0.63370, saving model to models/inception_10_v1_log/feature_extraction/inception_10_v1_log_feature_extraction_27-val_loss_0.63.keras\n",
      "\n",
      "Epoch 27: ReduceLROnPlateau reducing learning rate to 4.999999873689376e-06.\n",
      "7/7 [==============================] - 19s 2s/step - loss: 0.6746 - accuracy: 0.5792 - precision: 0.4918 - recall: 0.3261 - val_loss: 0.6337 - val_accuracy: 0.6727 - val_precision: 0.3333 - val_recall: 0.0588 - lr: 1.0000e-05 - duration: 19.4295\n",
      "Epoch 28/100\n",
      "7/7 [==============================] - ETA: 0s - loss: 0.7031 - accuracy: 0.5294 - precision: 0.4032 - recall: 0.2717\n",
      "Epoch 28: val_loss did not improve from 0.63370\n",
      "7/7 [==============================] - 18s 2s/step - loss: 0.7031 - accuracy: 0.5294 - precision: 0.4032 - recall: 0.2717 - val_loss: 0.6337 - val_accuracy: 0.6727 - val_precision: 0.3333 - val_recall: 0.0588 - lr: 5.0000e-06 - duration: 17.5537\n",
      "Epoch 29/100\n",
      "7/7 [==============================] - ETA: 0s - loss: 0.6857 - accuracy: 0.5656 - precision: 0.4737 - recall: 0.3913\n",
      "Epoch 29: val_loss improved from 0.63370 to 0.63369, saving model to models/inception_10_v1_log/feature_extraction/inception_10_v1_log_feature_extraction_29-val_loss_0.63.keras\n",
      "7/7 [==============================] - 19s 2s/step - loss: 0.6857 - accuracy: 0.5656 - precision: 0.4737 - recall: 0.3913 - val_loss: 0.6337 - val_accuracy: 0.6727 - val_precision: 0.3333 - val_recall: 0.0588 - lr: 5.0000e-06 - duration: 19.1288\n",
      "Epoch 30/100\n",
      "7/7 [==============================] - ETA: 0s - loss: 0.7110 - accuracy: 0.5385 - precision: 0.4138 - recall: 0.2609\n",
      "Epoch 30: val_loss did not improve from 0.63369\n",
      "\n",
      "Epoch 30: ReduceLROnPlateau reducing learning rate to 2.499999936844688e-06.\n",
      "7/7 [==============================] - 18s 2s/step - loss: 0.7110 - accuracy: 0.5385 - precision: 0.4138 - recall: 0.2609 - val_loss: 0.6337 - val_accuracy: 0.6727 - val_precision: 0.3333 - val_recall: 0.0588 - lr: 5.0000e-06 - duration: 18.3951\n",
      "Epoch 31/100\n",
      "7/7 [==============================] - ETA: 0s - loss: 0.7142 - accuracy: 0.5566 - precision: 0.4559 - recall: 0.3370\n",
      "Epoch 31: val_loss did not improve from 0.63369\n",
      "7/7 [==============================] - 16s 2s/step - loss: 0.7142 - accuracy: 0.5566 - precision: 0.4559 - recall: 0.3370 - val_loss: 0.6337 - val_accuracy: 0.6727 - val_precision: 0.3333 - val_recall: 0.0588 - lr: 2.5000e-06 - duration: 15.7739\n",
      "Epoch 32/100\n",
      "7/7 [==============================] - ETA: 0s - loss: 0.7210 - accuracy: 0.5430 - precision: 0.4384 - recall: 0.3478\n",
      "Epoch 32: val_loss improved from 0.63369 to 0.63367, saving model to models/inception_10_v1_log/feature_extraction/inception_10_v1_log_feature_extraction_32-val_loss_0.63.keras\n",
      "7/7 [==============================] - 18s 2s/step - loss: 0.7210 - accuracy: 0.5430 - precision: 0.4384 - recall: 0.3478 - val_loss: 0.6337 - val_accuracy: 0.6727 - val_precision: 0.3333 - val_recall: 0.0588 - lr: 2.5000e-06 - duration: 18.3635\n",
      "Epoch 33/100\n",
      "7/7 [==============================] - ETA: 0s - loss: 0.6748 - accuracy: 0.6154 - precision: 0.5455 - recall: 0.4565\n",
      "Epoch 33: val_loss did not improve from 0.63367\n",
      "7/7 [==============================] - 18s 2s/step - loss: 0.6748 - accuracy: 0.6154 - precision: 0.5455 - recall: 0.4565 - val_loss: 0.6337 - val_accuracy: 0.6727 - val_precision: 0.3333 - val_recall: 0.0588 - lr: 2.5000e-06 - duration: 17.6197\n",
      "Epoch 34/100\n",
      "7/7 [==============================] - ETA: 0s - loss: 0.6920 - accuracy: 0.6018 - precision: 0.5312 - recall: 0.3696\n",
      "Epoch 34: val_loss did not improve from 0.63367\n",
      "7/7 [==============================] - 17s 2s/step - loss: 0.6920 - accuracy: 0.6018 - precision: 0.5312 - recall: 0.3696 - val_loss: 0.6337 - val_accuracy: 0.6727 - val_precision: 0.3333 - val_recall: 0.0588 - lr: 2.5000e-06 - duration: 17.4800\n",
      "Epoch 35/100\n",
      "7/7 [==============================] - ETA: 0s - loss: 0.7029 - accuracy: 0.5882 - precision: 0.5079 - recall: 0.3478\n",
      "Epoch 35: val_loss improved from 0.63367 to 0.63366, saving model to models/inception_10_v1_log/feature_extraction/inception_10_v1_log_feature_extraction_35-val_loss_0.63.keras\n",
      "\n",
      "Epoch 35: ReduceLROnPlateau reducing learning rate to 1.249999968422344e-06.\n",
      "7/7 [==============================] - 17s 2s/step - loss: 0.7029 - accuracy: 0.5882 - precision: 0.5079 - recall: 0.3478 - val_loss: 0.6337 - val_accuracy: 0.6727 - val_precision: 0.3333 - val_recall: 0.0588 - lr: 2.5000e-06 - duration: 17.2205\n",
      "Epoch 36/100\n",
      "7/7 [==============================] - ETA: 0s - loss: 0.7307 - accuracy: 0.5475 - precision: 0.4259 - recall: 0.2500\n",
      "Epoch 36: val_loss improved from 0.63366 to 0.63365, saving model to models/inception_10_v1_log/feature_extraction/inception_10_v1_log_feature_extraction_36-val_loss_0.63.keras\n",
      "7/7 [==============================] - 18s 2s/step - loss: 0.7307 - accuracy: 0.5475 - precision: 0.4259 - recall: 0.2500 - val_loss: 0.6336 - val_accuracy: 0.6727 - val_precision: 0.3333 - val_recall: 0.0588 - lr: 1.2500e-06 - duration: 17.7515\n",
      "Epoch 37/100\n",
      "7/7 [==============================] - ETA: 0s - loss: 0.7155 - accuracy: 0.5158 - precision: 0.3404 - recall: 0.1739\n",
      "Epoch 37: val_loss improved from 0.63365 to 0.63362, saving model to models/inception_10_v1_log/feature_extraction/inception_10_v1_log_feature_extraction_37-val_loss_0.63.keras\n",
      "7/7 [==============================] - 19s 2s/step - loss: 0.7155 - accuracy: 0.5158 - precision: 0.3404 - recall: 0.1739 - val_loss: 0.6336 - val_accuracy: 0.6727 - val_precision: 0.3333 - val_recall: 0.0588 - lr: 1.2500e-06 - duration: 19.2643\n",
      "Epoch 38/100\n",
      "7/7 [==============================] - ETA: 0s - loss: 0.7104 - accuracy: 0.5837 - precision: 0.5000 - recall: 0.3913\n",
      "Epoch 38: val_loss improved from 0.63362 to 0.63360, saving model to models/inception_10_v1_log/feature_extraction/inception_10_v1_log_feature_extraction_38-val_loss_0.63.keras\n",
      "\n",
      "Epoch 38: ReduceLROnPlateau reducing learning rate to 6.24999984211172e-07.\n",
      "7/7 [==============================] - 16s 2s/step - loss: 0.7104 - accuracy: 0.5837 - precision: 0.5000 - recall: 0.3913 - val_loss: 0.6336 - val_accuracy: 0.6727 - val_precision: 0.3333 - val_recall: 0.0588 - lr: 1.2500e-06 - duration: 16.4996\n",
      "Epoch 39/100\n",
      "7/7 [==============================] - ETA: 0s - loss: 0.7448 - accuracy: 0.5294 - precision: 0.4062 - recall: 0.2826\n",
      "Epoch 39: val_loss improved from 0.63360 to 0.63360, saving model to models/inception_10_v1_log/feature_extraction/inception_10_v1_log_feature_extraction_39-val_loss_0.63.keras\n",
      "7/7 [==============================] - 19s 2s/step - loss: 0.7448 - accuracy: 0.5294 - precision: 0.4062 - recall: 0.2826 - val_loss: 0.6336 - val_accuracy: 0.6727 - val_precision: 0.3333 - val_recall: 0.0588 - lr: 6.2500e-07 - duration: 18.8011\n",
      "Epoch 40/100\n",
      "7/7 [==============================] - ETA: 0s - loss: 0.7079 - accuracy: 0.5339 - precision: 0.4225 - recall: 0.3261\n",
      "Epoch 40: val_loss improved from 0.63360 to 0.63359, saving model to models/inception_10_v1_log/feature_extraction/inception_10_v1_log_feature_extraction_40-val_loss_0.63.keras\n",
      "Restoring model weights from the end of the best epoch: 32.\n",
      "7/7 [==============================] - 17s 2s/step - loss: 0.7079 - accuracy: 0.5339 - precision: 0.4225 - recall: 0.3261 - val_loss: 0.6336 - val_accuracy: 0.6727 - val_precision: 0.3333 - val_recall: 0.0588 - lr: 6.2500e-07 - duration: 17.1498\n",
      "Epoch 40: early stopping\n"
     ]
    },
    {
     "name": "stderr",
     "output_type": "stream",
     "text": [
      "2024-01-26 11:47:34.324763: W tensorflow/python/util/util.cc:368] Sets are not currently considered sequences, but this may change in the future, so consider avoiding using them.\n"
     ]
    },
    {
     "name": "stdout",
     "output_type": "stream",
     "text": [
      "INFO:tensorflow:Assets written to: ram://c23af7eb-a7c2-4c1e-a945-5e55d11d589d/assets\n",
      "INFO:tensorflow:Assets written to: ram://c23af7eb-a7c2-4c1e-a945-5e55d11d589d/assets\n"
     ]
    },
    {
     "data": {
      "text/plain": [
       "ArtifactManifestEntry(path='inception_10_v1_log_feature_extraction_40-val_loss_0.63.keras', digest='x4eHktHjvzqGQWAJREDFSw==', size=87771056, local_path='/home/john/.local/share/wandb/artifacts/staging/tmpudf04l3r')"
      ]
     },
     "execution_count": 7,
     "metadata": {},
     "output_type": "execute_result"
    },
    {
     "data": {
      "text/plain": [
       "<Artifact inception_10_v1_log-feature_extraction-cskzv8vv>"
      ]
     },
     "execution_count": 7,
     "metadata": {},
     "output_type": "execute_result"
    },
    {
     "name": "stderr",
     "output_type": "stream",
     "text": [
      "\u001b[34m\u001b[1mwandb\u001b[0m: Waiting for artifact inception_10_v1_log-feature_extraction-cskzv8vv to be committed...\n"
     ]
    },
    {
     "data": {
      "application/vnd.jupyter.widget-view+json": {
       "model_id": "1e97b82a4e87471a9c324acf8e65bdc9",
       "version_major": 2,
       "version_minor": 0
      },
      "text/plain": [
       "VBox(children=(Label(value='0.003 MB of 83.708 MB uploaded\\r'), FloatProgress(value=4.1754618621915074e-05, ma…"
      ]
     },
     "metadata": {},
     "output_type": "display_data"
    },
    {
     "name": "stderr",
     "output_type": "stream",
     "text": [
      "\n",
      "\u001b[34m\u001b[1mwandb\u001b[0m: Committed artifact aistudio/breast_cancer_detection/inception_10_v1_log-feature_extraction-cskzv8vv:v0\n"
     ]
    }
   ],
   "source": [
    "stage = \"feature_extraction\"\n",
    "if force or not repo.exists(name=name, stage=stage):\n",
    "    model = factory.create(input_shape=input_shape, \n",
    "                            output_shape=output_shape,\n",
    "                            activation=activation)\n",
    "    # Create the optimizer\n",
    "    optimizer=tf.keras.optimizers.Adam(learning_rate=fe_learning_rate)\n",
    "\n",
    "    # Compile the Model\n",
    "    model.compile(\n",
    "        loss=loss,\n",
    "        optimizer=optimizer,\n",
    "        metrics=metrics,        \n",
    "    )\n",
    "\n",
    "    # Delete existing checkpoints\n",
    "    repo.remove(name=name, stage=stage)\n",
    "    # Summarize the model\n",
    "    model.summary()\n",
    "    # Obtain a checkpoint callback from the model repository \n",
    "    checkpoint_callback = repo.create_callback(name=name, stage=stage)\n",
    "    # Set the session on the historian to 0 for feature extraction\n",
    "    historian.on_session_begin(session=0)\n",
    "    # Fit the model with callbacks\n",
    "    history = model.fit(train_ds, \n",
    "                        validation_data=val_ds, \n",
    "                        epochs=initial_epochs, \n",
    "                        callbacks=[checkpoint_callback, \n",
    "                                   reduce_lr_callback,\n",
    "                                   early_stop_callback, \n",
    "                                   wandb_callback,                                   \n",
    "                                   historian])        \n",
    "    # Register the model on wandb\n",
    "    filepath = repo.get_filepath(name=name, stage=stage)    \n",
    "    artifact = wandb.Artifact(f\"{name}-{stage}-{run.id}\", type=\"model\")\n",
    "    artifact.add_file(filepath)\n",
    "    wandb.log_artifact(artifact, aliases=[stage, \"best\"])\n",
    "    wandb.run.link_artifact(artifact, \"aistudio/breast_cancer_detection/Inception\")\n",
    "else:\n",
    "    # Obtain the model from the repository\n",
    "    model = repo.get(name=name, stage=stage)\n",
    "    # Obtain the historian\n",
    "    historian = historian.load(historian_filepath)    \n",
    "    # Summarize the model\n",
    "    model.summary()"
   ]
  },
  {
   "cell_type": "markdown",
   "metadata": {},
   "source": [
    "## Fine Tuning"
   ]
  },
  {
   "cell_type": "code",
   "execution_count": 8,
   "metadata": {},
   "outputs": [
    {
     "name": "stdout",
     "output_type": "stream",
     "text": [
      "\n",
      "\n",
      "INFO:LogThawSchedule:Thawed 2 layers of the base model.\n",
      "\n",
      "\n",
      "INFO:LogLearningRateSchedule:Set learning rate to 1e-05\n",
      "Model: \"model\"\n",
      "_________________________________________________________________\n",
      " Layer (type)                Output Shape              Param #   \n",
      "=================================================================\n",
      " input_layer (InputLayer)    [(None, 224, 224, 3)]     0         \n",
      "                                                                 \n",
      " tf.math.truediv (TFOpLambda  (None, 224, 224, 3)      0         \n",
      " )                                                               \n",
      "                                                                 \n",
      " tf.math.subtract (TFOpLambd  (None, 224, 224, 3)      0         \n",
      " a)                                                              \n",
      "                                                                 \n",
      " data_augmentation (Sequenti  (None, 224, 224, 3)      0         \n",
      " al)                                                             \n",
      "                                                                 \n",
      " inception_v3 (Functional)   (None, None, None, 2048)  21802784  \n",
      "                                                                 \n",
      " global_average_pooling_laye  (None, 2048)             0         \n",
      " r (GlobalAveragePooling2D)                                      \n",
      "                                                                 \n",
      " output_layer (Dense)        (None, 1)                 2049      \n",
      "                                                                 \n",
      "=================================================================\n",
      "Total params: 21,804,833\n",
      "Trainable params: 2,049\n",
      "Non-trainable params: 21,802,784\n",
      "_________________________________________________________________\n",
      "Epoch 41/50\n",
      "7/7 [==============================] - ETA: 0s - loss: 0.6794 - accuracy: 0.6154 - precision: 0.5417 - recall: 0.3578\n",
      "Epoch 41: val_loss improved from inf to 0.63372, saving model to models/inception_10_v1_log/fine_tuning_session_1/inception_10_v1_log_fine_tuning_session_1_41-val_loss_0.63.keras\n",
      "7/7 [==============================] - 26s 3s/step - loss: 0.6794 - accuracy: 0.6154 - precision: 0.5417 - recall: 0.3578 - val_loss: 0.6337 - val_accuracy: 0.6727 - val_precision: 0.3333 - val_recall: 0.0588 - lr: 1.0000e-05 - duration: 25.7400\n",
      "Epoch 42/50\n",
      "7/7 [==============================] - ETA: 0s - loss: 0.6960 - accuracy: 0.5611 - precision: 0.4528 - recall: 0.2609\n",
      "Epoch 42: val_loss did not improve from 0.63372\n",
      "7/7 [==============================] - 19s 2s/step - loss: 0.6960 - accuracy: 0.5611 - precision: 0.4528 - recall: 0.2609 - val_loss: 0.6338 - val_accuracy: 0.6727 - val_precision: 0.3333 - val_recall: 0.0588 - lr: 1.0000e-05 - duration: 18.7951\n",
      "Epoch 43/50\n",
      "7/7 [==============================] - ETA: 0s - loss: 0.6904 - accuracy: 0.5837 - precision: 0.5000 - recall: 0.3261\n",
      "Epoch 43: val_loss did not improve from 0.63372\n",
      "7/7 [==============================] - 16s 2s/step - loss: 0.6904 - accuracy: 0.5837 - precision: 0.5000 - recall: 0.3261 - val_loss: 0.6338 - val_accuracy: 0.6727 - val_precision: 0.3333 - val_recall: 0.0588 - lr: 1.0000e-05 - duration: 16.1171\n",
      "Epoch 44/50\n",
      "7/7 [==============================] - ETA: 0s - loss: 0.6961 - accuracy: 0.5475 - precision: 0.4412 - recall: 0.3261\n",
      "Epoch 44: ReduceLROnPlateau reducing learning rate to 5e-06.\n",
      "\n",
      "Epoch 44: val_loss improved from 0.63372 to 0.63362, saving model to models/inception_10_v1_log/fine_tuning_session_1/inception_10_v1_log_fine_tuning_session_1_44-val_loss_0.63.keras\n",
      "7/7 [==============================] - 19s 2s/step - loss: 0.6961 - accuracy: 0.5475 - precision: 0.4412 - recall: 0.3261 - val_loss: 0.6336 - val_accuracy: 0.6727 - val_precision: 0.3333 - val_recall: 0.0588 - lr: 1.0000e-05 - duration: 17.9500\n",
      "Epoch 45/50\n",
      "7/7 [==============================] - ETA: 0s - loss: 0.6943 - accuracy: 0.5882 - precision: 0.5077 - recall: 0.3587\n",
      "Epoch 45: val_loss improved from 0.63362 to 0.63351, saving model to models/inception_10_v1_log/fine_tuning_session_1/inception_10_v1_log_fine_tuning_session_1_45-val_loss_0.63.keras\n",
      "7/7 [==============================] - 17s 2s/step - loss: 0.6943 - accuracy: 0.5882 - precision: 0.5077 - recall: 0.3587 - val_loss: 0.6335 - val_accuracy: 0.6727 - val_precision: 0.3333 - val_recall: 0.0588 - lr: 5.0000e-06 - duration: 16.7222\n",
      "Epoch 46/50\n",
      "7/7 [==============================] - ETA: 0s - loss: 0.6921 - accuracy: 0.5747 - precision: 0.4844 - recall: 0.3370\n",
      "Epoch 46: val_loss improved from 0.63351 to 0.63344, saving model to models/inception_10_v1_log/fine_tuning_session_1/inception_10_v1_log_fine_tuning_session_1_46-val_loss_0.63.keras\n",
      "7/7 [==============================] - 16s 2s/step - loss: 0.6921 - accuracy: 0.5747 - precision: 0.4844 - recall: 0.3370 - val_loss: 0.6334 - val_accuracy: 0.6727 - val_precision: 0.3333 - val_recall: 0.0588 - lr: 5.0000e-06 - duration: 15.7103\n",
      "Epoch 47/50\n",
      "7/7 [==============================] - ETA: 0s - loss: 0.7016 - accuracy: 0.5747 - precision: 0.4808 - recall: 0.2717\n",
      "Epoch 47: val_loss improved from 0.63344 to 0.63331, saving model to models/inception_10_v1_log/fine_tuning_session_1/inception_10_v1_log_fine_tuning_session_1_47-val_loss_0.63.keras\n",
      "7/7 [==============================] - 18s 2s/step - loss: 0.7016 - accuracy: 0.5747 - precision: 0.4808 - recall: 0.2717 - val_loss: 0.6333 - val_accuracy: 0.6727 - val_precision: 0.3333 - val_recall: 0.0588 - lr: 5.0000e-06 - duration: 17.2964\n",
      "Epoch 48/50\n",
      "7/7 [==============================] - ETA: 0s - loss: 0.7054 - accuracy: 0.5566 - precision: 0.4516 - recall: 0.3043\n",
      "Epoch 48: val_loss improved from 0.63331 to 0.63324, saving model to models/inception_10_v1_log/fine_tuning_session_1/inception_10_v1_log_fine_tuning_session_1_48-val_loss_0.63.keras\n",
      "7/7 [==============================] - 17s 2s/step - loss: 0.7054 - accuracy: 0.5566 - precision: 0.4516 - recall: 0.3043 - val_loss: 0.6332 - val_accuracy: 0.6727 - val_precision: 0.3333 - val_recall: 0.0588 - lr: 5.0000e-06 - duration: 16.5058\n",
      "Epoch 49/50\n",
      "7/7 [==============================] - ETA: 0s - loss: 0.7111 - accuracy: 0.5068 - precision: 0.3651 - recall: 0.2500\n",
      "Epoch 49: val_loss improved from 0.63324 to 0.63321, saving model to models/inception_10_v1_log/fine_tuning_session_1/inception_10_v1_log_fine_tuning_session_1_49-val_loss_0.63.keras\n",
      "7/7 [==============================] - 18s 2s/step - loss: 0.7111 - accuracy: 0.5068 - precision: 0.3651 - recall: 0.2500 - val_loss: 0.6332 - val_accuracy: 0.6727 - val_precision: 0.3333 - val_recall: 0.0588 - lr: 5.0000e-06 - duration: 17.5389\n",
      "Epoch 50/50\n",
      "7/7 [==============================] - ETA: 0s - loss: 0.7137 - accuracy: 0.5611 - precision: 0.4627 - recall: 0.3370\n",
      "Epoch 50: val_loss improved from 0.63321 to 0.63320, saving model to models/inception_10_v1_log/fine_tuning_session_1/inception_10_v1_log_fine_tuning_session_1_50-val_loss_0.63.keras\n",
      "7/7 [==============================] - 18s 2s/step - loss: 0.7137 - accuracy: 0.5611 - precision: 0.4627 - recall: 0.3370 - val_loss: 0.6332 - val_accuracy: 0.6727 - val_precision: 0.3333 - val_recall: 0.0588 - lr: 5.0000e-06 - duration: 17.0322\n",
      "INFO:tensorflow:Assets written to: ram://8d2abbb3-11a0-4d81-a2ea-dde21f57f345/assets\n",
      "INFO:tensorflow:Assets written to: ram://8d2abbb3-11a0-4d81-a2ea-dde21f57f345/assets\n"
     ]
    },
    {
     "name": "stderr",
     "output_type": "stream",
     "text": [
      "\u001b[34m\u001b[1mwandb\u001b[0m: Waiting for artifact inception_10_v1_log-fine_tuning_session_1-cskzv8vv to be committed...\n",
      "\n",
      "\u001b[34m\u001b[1mwandb\u001b[0m: Committed artifact aistudio/breast_cancer_detection/inception_10_v1_log-fine_tuning_session_1-cskzv8vv:v0\n"
     ]
    },
    {
     "name": "stdout",
     "output_type": "stream",
     "text": [
      "\n",
      "\n",
      "INFO:LogThawSchedule:Thawed 7 layers of the base model.\n",
      "\n",
      "\n",
      "INFO:LogLearningRateSchedule:Set learning rate to 1.778279410038923e-06\n",
      "Model: \"model\"\n",
      "_________________________________________________________________\n",
      " Layer (type)                Output Shape              Param #   \n",
      "=================================================================\n",
      " input_layer (InputLayer)    [(None, 224, 224, 3)]     0         \n",
      "                                                                 \n",
      " tf.math.truediv (TFOpLambda  (None, 224, 224, 3)      0         \n",
      " )                                                               \n",
      "                                                                 \n",
      " tf.math.subtract (TFOpLambd  (None, 224, 224, 3)      0         \n",
      " a)                                                              \n",
      "                                                                 \n",
      " data_augmentation (Sequenti  (None, 224, 224, 3)      0         \n",
      " al)                                                             \n",
      "                                                                 \n",
      " inception_v3 (Functional)   (None, None, None, 2048)  21802784  \n",
      "                                                                 \n",
      " global_average_pooling_laye  (None, 2048)             0         \n",
      " r (GlobalAveragePooling2D)                                      \n",
      "                                                                 \n",
      " output_layer (Dense)        (None, 1)                 2049      \n",
      "                                                                 \n",
      "=================================================================\n",
      "Total params: 21,804,833\n",
      "Trainable params: 2,241\n",
      "Non-trainable params: 21,802,592\n",
      "_________________________________________________________________\n",
      "Epoch 51/60\n",
      "7/7 [==============================] - ETA: 0s - loss: 0.7185 - accuracy: 0.5249 - precision: 0.4000 - recall: 0.2569\n",
      "Epoch 51: val_loss improved from inf to 0.63320, saving model to models/inception_10_v1_log/fine_tuning_session_2/inception_10_v1_log_fine_tuning_session_2_51-val_loss_0.63.keras\n",
      "7/7 [==============================] - 27s 2s/step - loss: 0.7185 - accuracy: 0.5249 - precision: 0.4000 - recall: 0.2569 - val_loss: 0.6332 - val_accuracy: 0.6727 - val_precision: 0.3333 - val_recall: 0.0588 - lr: 1.7783e-06 - duration: 26.8548\n",
      "Epoch 52/60\n",
      "7/7 [==============================] - ETA: 0s - loss: 0.6825 - accuracy: 0.6199 - precision: 0.5588 - recall: 0.4130\n",
      "Epoch 52: val_loss improved from 0.63320 to 0.63320, saving model to models/inception_10_v1_log/fine_tuning_session_2/inception_10_v1_log_fine_tuning_session_2_52-val_loss_0.63.keras\n",
      "7/7 [==============================] - 18s 2s/step - loss: 0.6825 - accuracy: 0.6199 - precision: 0.5588 - recall: 0.4130 - val_loss: 0.6332 - val_accuracy: 0.6727 - val_precision: 0.3333 - val_recall: 0.0588 - lr: 1.7783e-06 - duration: 17.6393\n",
      "Epoch 53/60\n",
      "7/7 [==============================] - ETA: 0s - loss: 0.7282 - accuracy: 0.5566 - precision: 0.4500 - recall: 0.2935\n",
      "Epoch 53: val_loss improved from 0.63320 to 0.63318, saving model to models/inception_10_v1_log/fine_tuning_session_2/inception_10_v1_log_fine_tuning_session_2_53-val_loss_0.63.keras\n",
      "7/7 [==============================] - 17s 2s/step - loss: 0.7282 - accuracy: 0.5566 - precision: 0.4500 - recall: 0.2935 - val_loss: 0.6332 - val_accuracy: 0.6727 - val_precision: 0.3333 - val_recall: 0.0588 - lr: 1.7783e-06 - duration: 16.7433\n",
      "Epoch 54/60\n",
      "7/7 [==============================] - ETA: 0s - loss: 0.7391 - accuracy: 0.5158 - precision: 0.3729 - recall: 0.2391\n",
      "Epoch 54: ReduceLROnPlateau reducing learning rate to 8.891397050194615e-07.\n",
      "\n",
      "Epoch 54: val_loss improved from 0.63318 to 0.63316, saving model to models/inception_10_v1_log/fine_tuning_session_2/inception_10_v1_log_fine_tuning_session_2_54-val_loss_0.63.keras\n",
      "7/7 [==============================] - 17s 2s/step - loss: 0.7391 - accuracy: 0.5158 - precision: 0.3729 - recall: 0.2391 - val_loss: 0.6332 - val_accuracy: 0.6727 - val_precision: 0.3333 - val_recall: 0.0588 - lr: 1.7783e-06 - duration: 16.3831\n",
      "Epoch 55/60\n",
      "7/7 [==============================] - ETA: 0s - loss: 0.6853 - accuracy: 0.5747 - precision: 0.4857 - recall: 0.3696\n",
      "Epoch 55: val_loss improved from 0.63316 to 0.63315, saving model to models/inception_10_v1_log/fine_tuning_session_2/inception_10_v1_log_fine_tuning_session_2_55-val_loss_0.63.keras\n",
      "7/7 [==============================] - 17s 2s/step - loss: 0.6853 - accuracy: 0.5747 - precision: 0.4857 - recall: 0.3696 - val_loss: 0.6332 - val_accuracy: 0.6727 - val_precision: 0.3333 - val_recall: 0.0588 - lr: 8.8914e-07 - duration: 15.9307\n",
      "Epoch 56/60\n",
      "7/7 [==============================] - ETA: 0s - loss: 0.7066 - accuracy: 0.5520 - precision: 0.4478 - recall: 0.3261\n",
      "Epoch 56: val_loss improved from 0.63315 to 0.63315, saving model to models/inception_10_v1_log/fine_tuning_session_2/inception_10_v1_log_fine_tuning_session_2_56-val_loss_0.63.keras\n",
      "7/7 [==============================] - 17s 2s/step - loss: 0.7066 - accuracy: 0.5520 - precision: 0.4478 - recall: 0.3261 - val_loss: 0.6331 - val_accuracy: 0.6727 - val_precision: 0.3333 - val_recall: 0.0588 - lr: 8.8914e-07 - duration: 16.8389\n",
      "Epoch 57/60\n",
      "7/7 [==============================] - ETA: 0s - loss: 0.7235 - accuracy: 0.5475 - precision: 0.4333 - recall: 0.2826\n",
      "Epoch 57: ReduceLROnPlateau reducing learning rate to 4.445698525097307e-07.\n",
      "\n",
      "Epoch 57: val_loss improved from 0.63315 to 0.63315, saving model to models/inception_10_v1_log/fine_tuning_session_2/inception_10_v1_log_fine_tuning_session_2_57-val_loss_0.63.keras\n",
      "7/7 [==============================] - 18s 2s/step - loss: 0.7235 - accuracy: 0.5475 - precision: 0.4333 - recall: 0.2826 - val_loss: 0.6331 - val_accuracy: 0.6727 - val_precision: 0.3333 - val_recall: 0.0588 - lr: 8.8914e-07 - duration: 17.6533\n",
      "Epoch 58/60\n",
      "7/7 [==============================] - ETA: 0s - loss: 0.7085 - accuracy: 0.5249 - precision: 0.3860 - recall: 0.2391\n",
      "Epoch 58: val_loss improved from 0.63315 to 0.63314, saving model to models/inception_10_v1_log/fine_tuning_session_2/inception_10_v1_log_fine_tuning_session_2_58-val_loss_0.63.keras\n",
      "7/7 [==============================] - 18s 2s/step - loss: 0.7085 - accuracy: 0.5249 - precision: 0.3860 - recall: 0.2391 - val_loss: 0.6331 - val_accuracy: 0.6727 - val_precision: 0.3333 - val_recall: 0.0588 - lr: 4.4457e-07 - duration: 16.9158\n",
      "Epoch 59/60\n",
      "7/7 [==============================] - ETA: 0s - loss: 0.7132 - accuracy: 0.5475 - precision: 0.4412 - recall: 0.3261Restoring model weights from the end of the best epoch: 51.\n",
      "\n",
      "Epoch 59: val_loss improved from 0.63314 to 0.63314, saving model to models/inception_10_v1_log/fine_tuning_session_2/inception_10_v1_log_fine_tuning_session_2_59-val_loss_0.63.keras\n",
      "7/7 [==============================] - 19s 2s/step - loss: 0.7132 - accuracy: 0.5475 - precision: 0.4412 - recall: 0.3261 - val_loss: 0.6331 - val_accuracy: 0.6727 - val_precision: 0.3333 - val_recall: 0.0588 - lr: 4.4457e-07 - duration: 18.3329\n",
      "Epoch 59: early stopping\n",
      "INFO:tensorflow:Assets written to: ram://37a23e43-c7c5-44ae-9263-539e00e9908b/assets\n",
      "INFO:tensorflow:Assets written to: ram://37a23e43-c7c5-44ae-9263-539e00e9908b/assets\n"
     ]
    },
    {
     "name": "stderr",
     "output_type": "stream",
     "text": [
      "\u001b[34m\u001b[1mwandb\u001b[0m: Waiting for artifact inception_10_v1_log-fine_tuning_session_2-cskzv8vv to be committed...\n",
      "\n",
      "\u001b[34m\u001b[1mwandb\u001b[0m: Committed artifact aistudio/breast_cancer_detection/inception_10_v1_log-fine_tuning_session_2-cskzv8vv:v0\n"
     ]
    },
    {
     "name": "stdout",
     "output_type": "stream",
     "text": [
      "\n",
      "\n",
      "INFO:LogThawSchedule:Thawed 24 layers of the base model.\n",
      "\n",
      "\n",
      "INFO:LogLearningRateSchedule:Set learning rate to 3.162277660168379e-07\n",
      "Model: \"model\"\n",
      "_________________________________________________________________\n",
      " Layer (type)                Output Shape              Param #   \n",
      "=================================================================\n",
      " input_layer (InputLayer)    [(None, 224, 224, 3)]     0         \n",
      "                                                                 \n",
      " tf.math.truediv (TFOpLambda  (None, 224, 224, 3)      0         \n",
      " )                                                               \n",
      "                                                                 \n",
      " tf.math.subtract (TFOpLambd  (None, 224, 224, 3)      0         \n",
      " a)                                                              \n",
      "                                                                 \n",
      " data_augmentation (Sequenti  (None, 224, 224, 3)      0         \n",
      " al)                                                             \n",
      "                                                                 \n",
      " inception_v3 (Functional)   (None, None, None, 2048)  21802784  \n",
      "                                                                 \n",
      " global_average_pooling_laye  (None, 2048)             0         \n",
      " r (GlobalAveragePooling2D)                                      \n",
      "                                                                 \n",
      " output_layer (Dense)        (None, 1)                 2049      \n",
      "                                                                 \n",
      "=================================================================\n",
      "Total params: 21,804,833\n",
      "Trainable params: 2,822,145\n",
      "Non-trainable params: 18,982,688\n",
      "_________________________________________________________________\n",
      "Epoch 60/69\n",
      "7/7 [==============================] - ETA: 0s - loss: 0.7044 - accuracy: 0.5611 - precision: 0.4545 - recall: 0.2752\n",
      "Epoch 60: val_loss improved from inf to 0.63301, saving model to models/inception_10_v1_log/fine_tuning_session_3/inception_10_v1_log_fine_tuning_session_3_60-val_loss_0.63.keras\n",
      "7/7 [==============================] - 27s 3s/step - loss: 0.7044 - accuracy: 0.5611 - precision: 0.4545 - recall: 0.2752 - val_loss: 0.6330 - val_accuracy: 0.6727 - val_precision: 0.3333 - val_recall: 0.0588 - lr: 3.1623e-07 - duration: 26.5174\n",
      "Epoch 61/69\n",
      "7/7 [==============================] - ETA: 0s - loss: 0.7113 - accuracy: 0.5566 - precision: 0.4571 - recall: 0.3478\n",
      "Epoch 61: val_loss improved from 0.63301 to 0.63273, saving model to models/inception_10_v1_log/fine_tuning_session_3/inception_10_v1_log_fine_tuning_session_3_61-val_loss_0.63.keras\n",
      "7/7 [==============================] - 17s 2s/step - loss: 0.7113 - accuracy: 0.5566 - precision: 0.4571 - recall: 0.3478 - val_loss: 0.6327 - val_accuracy: 0.6727 - val_precision: 0.3333 - val_recall: 0.0588 - lr: 3.1623e-07 - duration: 16.1327\n",
      "Epoch 62/69\n",
      "7/7 [==============================] - ETA: 0s - loss: 0.7287 - accuracy: 0.5294 - precision: 0.4062 - recall: 0.2826\n",
      "Epoch 62: val_loss improved from 0.63273 to 0.63255, saving model to models/inception_10_v1_log/fine_tuning_session_3/inception_10_v1_log_fine_tuning_session_3_62-val_loss_0.63.keras\n",
      "7/7 [==============================] - 17s 2s/step - loss: 0.7287 - accuracy: 0.5294 - precision: 0.4062 - recall: 0.2826 - val_loss: 0.6325 - val_accuracy: 0.6727 - val_precision: 0.3333 - val_recall: 0.0588 - lr: 3.1623e-07 - duration: 16.2638\n",
      "Epoch 63/69\n",
      "7/7 [==============================] - ETA: 0s - loss: 0.6885 - accuracy: 0.5701 - precision: 0.4783 - recall: 0.3587\n",
      "Epoch 63: val_loss improved from 0.63255 to 0.63242, saving model to models/inception_10_v1_log/fine_tuning_session_3/inception_10_v1_log_fine_tuning_session_3_63-val_loss_0.63.keras\n",
      "7/7 [==============================] - 19s 2s/step - loss: 0.6885 - accuracy: 0.5701 - precision: 0.4783 - recall: 0.3587 - val_loss: 0.6324 - val_accuracy: 0.6727 - val_precision: 0.3333 - val_recall: 0.0588 - lr: 3.1623e-07 - duration: 18.0616\n",
      "Epoch 64/69\n",
      "7/7 [==============================] - ETA: 0s - loss: 0.7313 - accuracy: 0.5747 - precision: 0.4839 - recall: 0.3261\n",
      "Epoch 64: val_loss improved from 0.63242 to 0.63234, saving model to models/inception_10_v1_log/fine_tuning_session_3/inception_10_v1_log_fine_tuning_session_3_64-val_loss_0.63.keras\n",
      "7/7 [==============================] - 17s 2s/step - loss: 0.7313 - accuracy: 0.5747 - precision: 0.4839 - recall: 0.3261 - val_loss: 0.6323 - val_accuracy: 0.6727 - val_precision: 0.3333 - val_recall: 0.0588 - lr: 3.1623e-07 - duration: 16.5467\n",
      "Epoch 65/69\n",
      "7/7 [==============================] - ETA: 0s - loss: 0.7278 - accuracy: 0.5475 - precision: 0.4286 - recall: 0.2609\n",
      "Epoch 65: val_loss improved from 0.63234 to 0.63234, saving model to models/inception_10_v1_log/fine_tuning_session_3/inception_10_v1_log_fine_tuning_session_3_65-val_loss_0.63.keras\n",
      "7/7 [==============================] - 18s 2s/step - loss: 0.7278 - accuracy: 0.5475 - precision: 0.4286 - recall: 0.2609 - val_loss: 0.6323 - val_accuracy: 0.6727 - val_precision: 0.3333 - val_recall: 0.0588 - lr: 3.1623e-07 - duration: 16.9980\n",
      "Epoch 66/69\n",
      "7/7 [==============================] - ETA: 0s - loss: 0.7143 - accuracy: 0.5611 - precision: 0.4528 - recall: 0.2609\n",
      "Epoch 66: val_loss improved from 0.63234 to 0.63231, saving model to models/inception_10_v1_log/fine_tuning_session_3/inception_10_v1_log_fine_tuning_session_3_66-val_loss_0.63.keras\n",
      "7/7 [==============================] - 18s 2s/step - loss: 0.7143 - accuracy: 0.5611 - precision: 0.4528 - recall: 0.2609 - val_loss: 0.6323 - val_accuracy: 0.6727 - val_precision: 0.3333 - val_recall: 0.0588 - lr: 3.1623e-07 - duration: 17.4773\n",
      "Epoch 67/69\n",
      "7/7 [==============================] - ETA: 0s - loss: 0.6830 - accuracy: 0.6109 - precision: 0.5500 - recall: 0.3587\n",
      "Epoch 67: val_loss improved from 0.63231 to 0.63220, saving model to models/inception_10_v1_log/fine_tuning_session_3/inception_10_v1_log_fine_tuning_session_3_67-val_loss_0.63.keras\n",
      "7/7 [==============================] - 18s 2s/step - loss: 0.6830 - accuracy: 0.6109 - precision: 0.5500 - recall: 0.3587 - val_loss: 0.6322 - val_accuracy: 0.6727 - val_precision: 0.3333 - val_recall: 0.0588 - lr: 3.1623e-07 - duration: 17.6653\n",
      "Epoch 68/69\n",
      "7/7 [==============================] - ETA: 0s - loss: 0.7164 - accuracy: 0.5566 - precision: 0.4464 - recall: 0.2717\n",
      "Epoch 68: val_loss improved from 0.63220 to 0.63206, saving model to models/inception_10_v1_log/fine_tuning_session_3/inception_10_v1_log_fine_tuning_session_3_68-val_loss_0.63.keras\n",
      "7/7 [==============================] - 18s 2s/step - loss: 0.7164 - accuracy: 0.5566 - precision: 0.4464 - recall: 0.2717 - val_loss: 0.6321 - val_accuracy: 0.6727 - val_precision: 0.3333 - val_recall: 0.0588 - lr: 3.1623e-07 - duration: 17.5142\n",
      "Epoch 69/69\n",
      "7/7 [==============================] - ETA: 0s - loss: 0.7190 - accuracy: 0.5656 - precision: 0.4714 - recall: 0.3587\n",
      "Epoch 69: val_loss improved from 0.63206 to 0.63199, saving model to models/inception_10_v1_log/fine_tuning_session_3/inception_10_v1_log_fine_tuning_session_3_69-val_loss_0.63.keras\n",
      "7/7 [==============================] - 18s 2s/step - loss: 0.7190 - accuracy: 0.5656 - precision: 0.4714 - recall: 0.3587 - val_loss: 0.6320 - val_accuracy: 0.6727 - val_precision: 0.3333 - val_recall: 0.0588 - lr: 3.1623e-07 - duration: 17.7040\n",
      "INFO:tensorflow:Assets written to: ram://bd1860eb-ed13-4e55-8f0d-ba397ba7545e/assets\n",
      "INFO:tensorflow:Assets written to: ram://bd1860eb-ed13-4e55-8f0d-ba397ba7545e/assets\n"
     ]
    },
    {
     "name": "stderr",
     "output_type": "stream",
     "text": [
      "\u001b[34m\u001b[1mwandb\u001b[0m: Waiting for artifact inception_10_v1_log-fine_tuning_session_3-cskzv8vv to be committed...\n",
      "\n",
      "\u001b[34m\u001b[1mwandb\u001b[0m: Committed artifact aistudio/breast_cancer_detection/inception_10_v1_log-fine_tuning_session_3-cskzv8vv:v0\n"
     ]
    },
    {
     "name": "stdout",
     "output_type": "stream",
     "text": [
      "\n",
      "\n",
      "INFO:LogThawSchedule:Thawed 88 layers of the base model.\n",
      "\n",
      "\n",
      "INFO:LogLearningRateSchedule:Set learning rate to 5.6234132519034905e-08\n",
      "Model: \"model\"\n",
      "_________________________________________________________________\n",
      " Layer (type)                Output Shape              Param #   \n",
      "=================================================================\n",
      " input_layer (InputLayer)    [(None, 224, 224, 3)]     0         \n",
      "                                                                 \n",
      " tf.math.truediv (TFOpLambda  (None, 224, 224, 3)      0         \n",
      " )                                                               \n",
      "                                                                 \n",
      " tf.math.subtract (TFOpLambd  (None, 224, 224, 3)      0         \n",
      " a)                                                              \n",
      "                                                                 \n",
      " data_augmentation (Sequenti  (None, 224, 224, 3)      0         \n",
      " al)                                                             \n",
      "                                                                 \n",
      " inception_v3 (Functional)   (None, None, None, 2048)  21802784  \n",
      "                                                                 \n",
      " global_average_pooling_laye  (None, 2048)             0         \n",
      " r (GlobalAveragePooling2D)                                      \n",
      "                                                                 \n",
      " output_layer (Dense)        (None, 1)                 2049      \n",
      "                                                                 \n",
      "=================================================================\n",
      "Total params: 21,804,833\n",
      "Trainable params: 12,814,145\n",
      "Non-trainable params: 8,990,688\n",
      "_________________________________________________________________\n",
      "Epoch 70/79\n",
      "7/7 [==============================] - ETA: 0s - loss: 0.6891 - accuracy: 0.5566 - precision: 0.4407 - recall: 0.2385\n",
      "Epoch 70: val_loss improved from inf to 0.63197, saving model to models/inception_10_v1_log/fine_tuning_session_4/inception_10_v1_log_fine_tuning_session_4_70-val_loss_0.63.keras\n",
      "7/7 [==============================] - 31s 3s/step - loss: 0.6891 - accuracy: 0.5566 - precision: 0.4407 - recall: 0.2385 - val_loss: 0.6320 - val_accuracy: 0.6727 - val_precision: 0.3333 - val_recall: 0.0588 - lr: 5.6234e-08 - duration: 29.7723\n",
      "Epoch 71/79\n",
      "7/7 [==============================] - ETA: 0s - loss: 0.6940 - accuracy: 0.5792 - precision: 0.4902 - recall: 0.2717\n",
      "Epoch 71: val_loss improved from 0.63197 to 0.63193, saving model to models/inception_10_v1_log/fine_tuning_session_4/inception_10_v1_log_fine_tuning_session_4_71-val_loss_0.63.keras\n",
      "7/7 [==============================] - 21s 3s/step - loss: 0.6940 - accuracy: 0.5792 - precision: 0.4902 - recall: 0.2717 - val_loss: 0.6319 - val_accuracy: 0.6727 - val_precision: 0.3333 - val_recall: 0.0588 - lr: 5.6234e-08 - duration: 20.1390\n",
      "Epoch 72/79\n",
      "7/7 [==============================] - ETA: 0s - loss: 0.7231 - accuracy: 0.5113 - precision: 0.3947 - recall: 0.3261\n",
      "Epoch 72: val_loss improved from 0.63193 to 0.63188, saving model to models/inception_10_v1_log/fine_tuning_session_4/inception_10_v1_log_fine_tuning_session_4_72-val_loss_0.63.keras\n",
      "7/7 [==============================] - 22s 3s/step - loss: 0.7231 - accuracy: 0.5113 - precision: 0.3947 - recall: 0.3261 - val_loss: 0.6319 - val_accuracy: 0.6727 - val_precision: 0.3333 - val_recall: 0.0588 - lr: 5.6234e-08 - duration: 21.6092\n",
      "Epoch 73/79\n",
      "7/7 [==============================] - ETA: 0s - loss: 0.7028 - accuracy: 0.5566 - precision: 0.4500 - recall: 0.2935\n",
      "Epoch 73: val_loss improved from 0.63188 to 0.63182, saving model to models/inception_10_v1_log/fine_tuning_session_4/inception_10_v1_log_fine_tuning_session_4_73-val_loss_0.63.keras\n",
      "7/7 [==============================] - 21s 3s/step - loss: 0.7028 - accuracy: 0.5566 - precision: 0.4500 - recall: 0.2935 - val_loss: 0.6318 - val_accuracy: 0.6727 - val_precision: 0.3333 - val_recall: 0.0588 - lr: 5.6234e-08 - duration: 20.0003\n",
      "Epoch 74/79\n",
      "7/7 [==============================] - ETA: 0s - loss: 0.6914 - accuracy: 0.5701 - precision: 0.4762 - recall: 0.3261\n",
      "Epoch 74: val_loss improved from 0.63182 to 0.63180, saving model to models/inception_10_v1_log/fine_tuning_session_4/inception_10_v1_log_fine_tuning_session_4_74-val_loss_0.63.keras\n",
      "7/7 [==============================] - 24s 3s/step - loss: 0.6914 - accuracy: 0.5701 - precision: 0.4762 - recall: 0.3261 - val_loss: 0.6318 - val_accuracy: 0.6727 - val_precision: 0.3333 - val_recall: 0.0588 - lr: 5.6234e-08 - duration: 23.4593\n",
      "Epoch 75/79\n",
      "7/7 [==============================] - ETA: 0s - loss: 0.6945 - accuracy: 0.5611 - precision: 0.4638 - recall: 0.3478\n",
      "Epoch 75: val_loss improved from 0.63180 to 0.63178, saving model to models/inception_10_v1_log/fine_tuning_session_4/inception_10_v1_log_fine_tuning_session_4_75-val_loss_0.63.keras\n",
      "7/7 [==============================] - 22s 3s/step - loss: 0.6945 - accuracy: 0.5611 - precision: 0.4638 - recall: 0.3478 - val_loss: 0.6318 - val_accuracy: 0.6727 - val_precision: 0.3333 - val_recall: 0.0588 - lr: 5.6234e-08 - duration: 21.1390\n",
      "Epoch 76/79\n",
      "7/7 [==============================] - ETA: 0s - loss: 0.7114 - accuracy: 0.5249 - precision: 0.4000 - recall: 0.2826\n",
      "Epoch 76: ReduceLROnPlateau reducing learning rate to 2.8117066259517452e-08.\n",
      "\n",
      "Epoch 76: val_loss improved from 0.63178 to 0.63176, saving model to models/inception_10_v1_log/fine_tuning_session_4/inception_10_v1_log_fine_tuning_session_4_76-val_loss_0.63.keras\n",
      "7/7 [==============================] - 23s 3s/step - loss: 0.7114 - accuracy: 0.5249 - precision: 0.4000 - recall: 0.2826 - val_loss: 0.6318 - val_accuracy: 0.6727 - val_precision: 0.3333 - val_recall: 0.0588 - lr: 5.6234e-08 - duration: 21.8691\n",
      "Epoch 77/79\n",
      "7/7 [==============================] - ETA: 0s - loss: 0.7011 - accuracy: 0.5792 - precision: 0.4915 - recall: 0.3152\n",
      "Epoch 77: val_loss improved from 0.63176 to 0.63173, saving model to models/inception_10_v1_log/fine_tuning_session_4/inception_10_v1_log_fine_tuning_session_4_77-val_loss_0.63.keras\n",
      "7/7 [==============================] - 21s 3s/step - loss: 0.7011 - accuracy: 0.5792 - precision: 0.4915 - recall: 0.3152 - val_loss: 0.6317 - val_accuracy: 0.6727 - val_precision: 0.3333 - val_recall: 0.0588 - lr: 2.8117e-08 - duration: 20.4450\n",
      "Epoch 78/79\n",
      "7/7 [==============================] - ETA: 0s - loss: 0.6851 - accuracy: 0.5701 - precision: 0.4737 - recall: 0.2935\n",
      "Epoch 78: val_loss improved from 0.63173 to 0.63172, saving model to models/inception_10_v1_log/fine_tuning_session_4/inception_10_v1_log_fine_tuning_session_4_78-val_loss_0.63.keras\n",
      "7/7 [==============================] - 22s 3s/step - loss: 0.6851 - accuracy: 0.5701 - precision: 0.4737 - recall: 0.2935 - val_loss: 0.6317 - val_accuracy: 0.6727 - val_precision: 0.3333 - val_recall: 0.0588 - lr: 2.8117e-08 - duration: 21.1478\n",
      "Epoch 79/79\n",
      "7/7 [==============================] - ETA: 0s - loss: 0.6890 - accuracy: 0.5747 - precision: 0.4848 - recall: 0.3478\n",
      "Epoch 79: val_loss improved from 0.63172 to 0.63171, saving model to models/inception_10_v1_log/fine_tuning_session_4/inception_10_v1_log_fine_tuning_session_4_79-val_loss_0.63.keras\n",
      "7/7 [==============================] - 24s 3s/step - loss: 0.6890 - accuracy: 0.5747 - precision: 0.4848 - recall: 0.3478 - val_loss: 0.6317 - val_accuracy: 0.6727 - val_precision: 0.3333 - val_recall: 0.0588 - lr: 2.8117e-08 - duration: 20.8255\n",
      "INFO:tensorflow:Assets written to: ram://c5bddd76-1d6e-45bd-81f2-43a145981774/assets\n",
      "INFO:tensorflow:Assets written to: ram://c5bddd76-1d6e-45bd-81f2-43a145981774/assets\n"
     ]
    },
    {
     "name": "stderr",
     "output_type": "stream",
     "text": [
      "\u001b[34m\u001b[1mwandb\u001b[0m: Waiting for artifact inception_10_v1_log-fine_tuning_session_4-cskzv8vv to be committed...\n",
      "\n",
      "\u001b[34m\u001b[1mwandb\u001b[0m: Committed artifact aistudio/breast_cancer_detection/inception_10_v1_log-fine_tuning_session_4-cskzv8vv:v0\n"
     ]
    },
    {
     "name": "stdout",
     "output_type": "stream",
     "text": [
      "\n",
      "\n",
      "INFO:LogThawSchedule:Thawed 311 layers of the base model.\n",
      "\n",
      "\n",
      "INFO:LogLearningRateSchedule:Set learning rate to 1e-08\n",
      "Model: \"model\"\n",
      "_________________________________________________________________\n",
      " Layer (type)                Output Shape              Param #   \n",
      "=================================================================\n",
      " input_layer (InputLayer)    [(None, 224, 224, 3)]     0         \n",
      "                                                                 \n",
      " tf.math.truediv (TFOpLambda  (None, 224, 224, 3)      0         \n",
      " )                                                               \n",
      "                                                                 \n",
      " tf.math.subtract (TFOpLambd  (None, 224, 224, 3)      0         \n",
      " a)                                                              \n",
      "                                                                 \n",
      " data_augmentation (Sequenti  (None, 224, 224, 3)      0         \n",
      " al)                                                             \n",
      "                                                                 \n",
      " inception_v3 (Functional)   (None, None, None, 2048)  21802784  \n",
      "                                                                 \n",
      " global_average_pooling_laye  (None, 2048)             0         \n",
      " r (GlobalAveragePooling2D)                                      \n",
      "                                                                 \n",
      " output_layer (Dense)        (None, 1)                 2049      \n",
      "                                                                 \n",
      "=================================================================\n",
      "Total params: 21,804,833\n",
      "Trainable params: 21,770,401\n",
      "Non-trainable params: 34,432\n",
      "_________________________________________________________________\n",
      "Epoch 80/89\n",
      "7/7 [==============================] - ETA: 0s - loss: 0.6878 - accuracy: 0.5882 - precision: 0.5000 - recall: 0.2752\n",
      "Epoch 80: val_loss improved from inf to 0.63167, saving model to models/inception_10_v1_log/fine_tuning_session_5/inception_10_v1_log_fine_tuning_session_5_80-val_loss_0.63.keras\n",
      "7/7 [==============================] - 64s 8s/step - loss: 0.6878 - accuracy: 0.5882 - precision: 0.5000 - recall: 0.2752 - val_loss: 0.6317 - val_accuracy: 0.6727 - val_precision: 0.3333 - val_recall: 0.0588 - lr: 1.0000e-08 - duration: 63.1917\n",
      "Epoch 81/89\n",
      "7/7 [==============================] - ETA: 0s - loss: 0.7032 - accuracy: 0.5113 - precision: 0.3788 - recall: 0.2717\n",
      "Epoch 81: val_loss improved from 0.63167 to 0.63165, saving model to models/inception_10_v1_log/fine_tuning_session_5/inception_10_v1_log_fine_tuning_session_5_81-val_loss_0.63.keras\n",
      "7/7 [==============================] - 52s 7s/step - loss: 0.7032 - accuracy: 0.5113 - precision: 0.3788 - recall: 0.2717 - val_loss: 0.6317 - val_accuracy: 0.6727 - val_precision: 0.3333 - val_recall: 0.0588 - lr: 1.0000e-08 - duration: 50.7351\n",
      "Epoch 82/89\n",
      "7/7 [==============================] - ETA: 0s - loss: 0.7116 - accuracy: 0.5339 - precision: 0.4098 - recall: 0.2717\n",
      "Epoch 82: val_loss improved from 0.63165 to 0.63164, saving model to models/inception_10_v1_log/fine_tuning_session_5/inception_10_v1_log_fine_tuning_session_5_82-val_loss_0.63.keras\n",
      "7/7 [==============================] - 49s 6s/step - loss: 0.7116 - accuracy: 0.5339 - precision: 0.4098 - recall: 0.2717 - val_loss: 0.6316 - val_accuracy: 0.6727 - val_precision: 0.3333 - val_recall: 0.0588 - lr: 1.0000e-08 - duration: 48.0949\n",
      "Epoch 83/89\n",
      "7/7 [==============================] - ETA: 0s - loss: 0.7302 - accuracy: 0.5475 - precision: 0.4412 - recall: 0.3261\n",
      "Epoch 83: ReduceLROnPlateau reducing learning rate to 5e-09.\n",
      "\n",
      "Epoch 83: val_loss improved from 0.63164 to 0.63161, saving model to models/inception_10_v1_log/fine_tuning_session_5/inception_10_v1_log_fine_tuning_session_5_83-val_loss_0.63.keras\n",
      "7/7 [==============================] - 49s 7s/step - loss: 0.7302 - accuracy: 0.5475 - precision: 0.4412 - recall: 0.3261 - val_loss: 0.6316 - val_accuracy: 0.6727 - val_precision: 0.3333 - val_recall: 0.0588 - lr: 1.0000e-08 - duration: 48.0524\n",
      "Epoch 84/89\n",
      "7/7 [==============================] - ETA: 0s - loss: 0.6970 - accuracy: 0.5566 - precision: 0.4444 - recall: 0.2609\n",
      "Epoch 84: val_loss improved from 0.63161 to 0.63161, saving model to models/inception_10_v1_log/fine_tuning_session_5/inception_10_v1_log_fine_tuning_session_5_84-val_loss_0.63.keras\n",
      "7/7 [==============================] - 53s 7s/step - loss: 0.6970 - accuracy: 0.5566 - precision: 0.4444 - recall: 0.2609 - val_loss: 0.6316 - val_accuracy: 0.6727 - val_precision: 0.3333 - val_recall: 0.0588 - lr: 5.0000e-09 - duration: 51.5618\n",
      "Epoch 85/89\n",
      "7/7 [==============================] - ETA: 0s - loss: 0.7120 - accuracy: 0.5430 - precision: 0.4237 - recall: 0.2717\n",
      "Epoch 85: val_loss improved from 0.63161 to 0.63160, saving model to models/inception_10_v1_log/fine_tuning_session_5/inception_10_v1_log_fine_tuning_session_5_85-val_loss_0.63.keras\n",
      "7/7 [==============================] - 51s 7s/step - loss: 0.7120 - accuracy: 0.5430 - precision: 0.4237 - recall: 0.2717 - val_loss: 0.6316 - val_accuracy: 0.6727 - val_precision: 0.3333 - val_recall: 0.0588 - lr: 5.0000e-09 - duration: 49.6458\n",
      "Epoch 86/89\n",
      "7/7 [==============================] - ETA: 0s - loss: 0.6849 - accuracy: 0.5747 - precision: 0.4865 - recall: 0.3913\n",
      "Epoch 86: ReduceLROnPlateau reducing learning rate to 2.5e-09.\n",
      "\n",
      "Epoch 86: val_loss improved from 0.63160 to 0.63160, saving model to models/inception_10_v1_log/fine_tuning_session_5/inception_10_v1_log_fine_tuning_session_5_86-val_loss_0.63.keras\n",
      "7/7 [==============================] - 53s 7s/step - loss: 0.6849 - accuracy: 0.5747 - precision: 0.4865 - recall: 0.3913 - val_loss: 0.6316 - val_accuracy: 0.6727 - val_precision: 0.3333 - val_recall: 0.0588 - lr: 5.0000e-09 - duration: 51.8481\n",
      "Epoch 87/89\n",
      "7/7 [==============================] - ETA: 0s - loss: 0.7126 - accuracy: 0.5249 - precision: 0.3774 - recall: 0.2174\n",
      "Epoch 87: val_loss improved from 0.63160 to 0.63160, saving model to models/inception_10_v1_log/fine_tuning_session_5/inception_10_v1_log_fine_tuning_session_5_87-val_loss_0.63.keras\n",
      "7/7 [==============================] - 50s 7s/step - loss: 0.7126 - accuracy: 0.5249 - precision: 0.3774 - recall: 0.2174 - val_loss: 0.6316 - val_accuracy: 0.6727 - val_precision: 0.3333 - val_recall: 0.0588 - lr: 2.5000e-09 - duration: 49.3504\n",
      "Epoch 88/89\n",
      "7/7 [==============================] - ETA: 0s - loss: 0.6919 - accuracy: 0.6199 - precision: 0.5625 - recall: 0.3913Restoring model weights from the end of the best epoch: 80.\n",
      "\n",
      "Epoch 88: val_loss improved from 0.63160 to 0.63159, saving model to models/inception_10_v1_log/fine_tuning_session_5/inception_10_v1_log_fine_tuning_session_5_88-val_loss_0.63.keras\n",
      "7/7 [==============================] - 48s 6s/step - loss: 0.6919 - accuracy: 0.6199 - precision: 0.5625 - recall: 0.3913 - val_loss: 0.6316 - val_accuracy: 0.6727 - val_precision: 0.3333 - val_recall: 0.0588 - lr: 2.5000e-09 - duration: 46.3971\n",
      "Epoch 88: early stopping\n",
      "INFO:tensorflow:Assets written to: ram://1ffc2ba2-6945-4e22-bdf8-6636a308c57d/assets\n",
      "INFO:tensorflow:Assets written to: ram://1ffc2ba2-6945-4e22-bdf8-6636a308c57d/assets\n"
     ]
    },
    {
     "name": "stderr",
     "output_type": "stream",
     "text": [
      "\u001b[34m\u001b[1mwandb\u001b[0m: Waiting for artifact inception_10_v1_log-fine_tuning_session_5-cskzv8vv to be committed...\n",
      "\n",
      "\u001b[34m\u001b[1mwandb\u001b[0m: Committed artifact aistudio/breast_cancer_detection/inception_10_v1_log-fine_tuning_session_5-cskzv8vv:v0\n",
      "wandb: WARNING Source type is set to 'repo' but some required information is missing from the environment. A job will not be created from this run. See https://docs.wandb.ai/guides/launch/create-job\n"
     ]
    },
    {
     "data": {
      "text/html": [
       "<style>\n",
       "    table.wandb td:nth-child(1) { padding: 0 10px; text-align: left ; width: auto;} td:nth-child(2) {text-align: left ; width: 100%}\n",
       "    .wandb-row { display: flex; flex-direction: row; flex-wrap: wrap; justify-content: flex-start; width: 100% }\n",
       "    .wandb-col { display: flex; flex-direction: column; flex-basis: 100%; flex: 1; padding: 10px; }\n",
       "    </style>\n",
       "<div class=\"wandb-row\"><div class=\"wandb-col\"><h3>Run history:</h3><br/><table class=\"wandb\"><tr><td>epoch/accuracy</td><td>▄▅▃▆▅▇▃▅▂▂▄▃▅▃▃▇▃▆█▆▆▅▄█▁▄▃▄▅▃▇▄▁▅▂▅▁▃▃█</td></tr><tr><td>epoch/epoch</td><td>▁▁▁▁▂▂▂▂▂▃▃▃▃▃▃▄▄▄▄▄▅▅▅▅▅▅▆▆▆▆▆▇▇▇▇▇▇███</td></tr><tr><td>epoch/learning_rate</td><td>████████████▄▃▃▃▂▁██▄▄▄▂▂▂▁▁▁▁▁▁▁▁▁▁▁▁▁▁</td></tr><tr><td>epoch/loss</td><td>▅▆▆▄█▄▄▅▇▄▃▆▁▄▅▃▆▄▁▂▃▃▅▂▇▄▅▄▂▆▂▂▅▃▄▂▄▆▄▃</td></tr><tr><td>epoch/lr</td><td>█████████████▄▃▃▂▂██▄▄▄▂▂▂▁▁▁▁▁▁▁▁▁▁▁▁▁▁</td></tr><tr><td>epoch/precision</td><td>▁▅▁▆▅▇▄▅▂▂▄▃▆▃▄▇▃▆▇▆▆▅▅█▂▄▄▄▅▃█▄▂▅▃▅▂▄▃█</td></tr><tr><td>epoch/recall</td><td>▁▁▂▃▄▅▆▅▅▅▅▅▆▅▇▇▅█▇▆▇▅▆█▄▆▆▇▇▅▇▄▆▆▅▇▅▆▅█</td></tr><tr><td>epoch/val_accuracy</td><td>▅████▅▁▁▁▁▁▁▁▁▁▁▁▁▁▁▁▁▁▁▁▁▁▁▁▁▁▁▁▁▁▁▁▁▁▁</td></tr><tr><td>epoch/val_loss</td><td>█▆▅▄▃▂▂▂▂▂▂▁▁▁▁▁▁▁▁▁▁▁▁▁▁▁▁▁▁▁▁▁▁▁▁▁▁▁▁▁</td></tr><tr><td>epoch/val_precision</td><td>▁████▅▃▃▃▃▃▃▃▃▃▃▃▃▃▃▃▃▃▃▃▃▃▃▃▃▃▃▃▃▃▃▃▃▃▃</td></tr><tr><td>epoch/val_recall</td><td>▁███████████████████████████████████████</td></tr></table><br/></div><div class=\"wandb-col\"><h3>Run summary:</h3><br/><table class=\"wandb\"><tr><td>epoch/accuracy</td><td>0.61991</td></tr><tr><td>epoch/epoch</td><td>87</td></tr><tr><td>epoch/learning_rate</td><td>0.0</td></tr><tr><td>epoch/loss</td><td>0.69193</td></tr><tr><td>epoch/lr</td><td>0.0</td></tr><tr><td>epoch/precision</td><td>0.5625</td></tr><tr><td>epoch/recall</td><td>0.3913</td></tr><tr><td>epoch/val_accuracy</td><td>0.67273</td></tr><tr><td>epoch/val_loss</td><td>0.63159</td></tr><tr><td>epoch/val_precision</td><td>0.33333</td></tr><tr><td>epoch/val_recall</td><td>0.05882</td></tr></table><br/></div></div>"
      ],
      "text/plain": [
       "<IPython.core.display.HTML object>"
      ]
     },
     "metadata": {},
     "output_type": "display_data"
    },
    {
     "data": {
      "text/html": [
       " View run <strong style=\"color:#cdcd00\">astral-glitter-36</strong> at: <a href='https://wandb.ai/aistudio/breast_cancer_detection/runs/cskzv8vv' target=\"_blank\">https://wandb.ai/aistudio/breast_cancer_detection/runs/cskzv8vv</a><br/>Synced 6 W&B file(s), 0 media file(s), 6 artifact file(s) and 0 other file(s)"
      ],
      "text/plain": [
       "<IPython.core.display.HTML object>"
      ]
     },
     "metadata": {},
     "output_type": "display_data"
    },
    {
     "data": {
      "text/html": [
       "Find logs at: <code>./wandb/run-20240126_113438-cskzv8vv/logs</code>"
      ],
      "text/plain": [
       "<IPython.core.display.HTML object>"
      ]
     },
     "metadata": {},
     "output_type": "display_data"
    }
   ],
   "source": [
    "ft = FineTuner(name=name, \n",
    "               train_ds=train_ds, \n",
    "               validation_ds=val_ds, \n",
    "               repo=repo,\n",
    "               thaw_schedule=thaw_schedule,\n",
    "               learning_rate_schedule=learning_rate_schedule,               \n",
    "               metrics=metrics,\n",
    "               fine_tune_epochs=fine_tune_epochs,\n",
    "               sessions=fine_tune_sessions,\n",
    "               callbacks=[early_stop_callback, reduce_lr_callback, wandb_callback],\n",
    "               )\n",
    "ft.tune(model=model, historian=historian, force=force)\n",
    "run.finish()"
   ]
  },
  {
   "cell_type": "markdown",
   "metadata": {},
   "source": [
    "## Learning Curves"
   ]
  },
  {
   "cell_type": "code",
   "execution_count": 9,
   "metadata": {},
   "outputs": [
    {
     "data": {
      "image/png": "[encoded data removed]",
      "text/plain": [
       "<Figure size 1200x400 with 2 Axes>"
      ]
     },
     "metadata": {},
     "output_type": "display_data"
    }
   ],
   "source": [
    "# Plot the historian\n",
    "historian.plot_learning_curves()"
   ]
  },
  {
   "cell_type": "markdown",
   "metadata": {},
   "source": [
    "## Evaluation"
   ]
  },
  {
   "cell_type": "raw",
   "metadata": {},
   "source": [
    "results = model.evaluate(test_ds, batch_size=batch_size)\n",
    "print(\"Test Loss, Test Accuracy: \", results)"
   ]
  }
 ],
 "metadata": {
  "kernelspec": {
   "display_name": "bcd",
   "language": "python",
   "name": "python3"
  },
  "language_info": {
   "codemirror_mode": {
    "name": "ipython",
    "version": 3
   },
   "file_extension": ".py",
   "mimetype": "text/x-python",
   "name": "python",
   "nbconvert_exporter": "python",
   "pygments_lexer": "ipython3",
   "version": "3.10.12"
  }
 },
 "nbformat": 4,
 "nbformat_minor": 2
}
