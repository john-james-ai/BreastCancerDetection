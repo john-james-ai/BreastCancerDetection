{
 "cells": [
  {
   "cell_type": "markdown",
   "metadata": {},
   "source": [
    "# ResNet"
   ]
  },
  {
   "cell_type": "code",
   "execution_count": 1,
   "metadata": {},
   "outputs": [],
   "source": [
    "import os\n",
    "import wandb\n",
    "import pathlib\n",
    "import pandas as pd\n",
    "import tensorflow as tf\n",
    "\n",
    "from bcd.model.repo import ExperimentRepo\n",
    "from bcd.model.factory import ResNetFactory\n",
    "from bcd.model.transfer import FineTuner\n",
    "from bcd.model.callback import Historian\n",
    "from bcd.model.schedule import LinearThawSchedule, LogThawSchedule, LinearLearningRateSchedule, LogLearningRateSchedule\n",
    "pd.set_option('display.max_rows',999)\n"
   ]
  },
  {
   "cell_type": "markdown",
   "metadata": {},
   "source": [
    "## Configuration"
   ]
  },
  {
   "cell_type": "code",
   "execution_count": 2,
   "metadata": {},
   "outputs": [
    {
     "name": "stdout",
     "output_type": "stream",
     "text": [
      "env: \"WANDB_NOTEBOOK_NAME\"=\"02_resnet.ipynb\"\n"
     ]
    }
   ],
   "source": [
    "# W&B\n",
    "%env \"WANDB_NOTEBOOK_NAME\" \"02_resnet.ipynb\"\n",
    "project = \"breast_cancer_detection\"\n",
    "\n",
    "# Model Parameters\n",
    "full_dataset = True\n",
    "fine_tuning = False\n",
    "architecture='ResNet152'\n",
    "model_name = \"resnet\" if full_dataset else \"resnet_10\"\n",
    "version=\"v2_log\"\n",
    "name = f\"{model_name}_{version}\"\n",
    "force = False  # Whether to retrain if the model and weights already exist from a prior training session.\n",
    "metrics = ['accuracy', tf.keras.metrics.Precision(), tf.keras.metrics.Recall()]\n",
    "base_model_layer = 4 # Layer of the resnet base model\n",
    "base_model_layers = 564\n",
    "loss = \"binary_crossentropy\"\n",
    "activation = \"sigmoid\"\n",
    "\n",
    "# Dataset params\n",
    "batch_size = 64 if full_dataset else 32\n",
    "input_shape = (224,224,3)\n",
    "output_shape = 1\n",
    "train_dir = pathlib.Path(\"data/image/1_final/training/training/\").with_suffix('') if full_dataset else pathlib.Path(\"data/image/1_final/training_10/training/\").with_suffix('') \n",
    "test_dir = pathlib.Path(\"data/image/1_final/test/test/\").with_suffix('')\n",
    "\n",
    "# Feature Extraction Parameters\n",
    "initial_epochs = 100  # Number of epochs to train for feature extraction\n",
    "fe_learning_rate = 1e-4\n",
    "\n",
    "# Fine Tune Parameters\n",
    "fine_tune_epochs = 10  # Number of epochs for each fine tune session\n",
    "fine_tune_sessions = 5 # Number of fine tune sessions\n",
    "fine_tune_min_lr = 1e-7\n",
    "fine_tune_max_lr = 1e-4\n",
    "fine_tune_thaw_schedule = \"log\"\n",
    "\n",
    "\n",
    "# Early stop parameters \n",
    "es_min_delta = 0.0001\n",
    "es_monitor = \"val_loss\"  # Monitor validation loss for early stopping\n",
    "es_patience = 8  # The number of consecutive epochs for which lack of improvement is tolerated \n",
    "es_restore_best_weights = True  # Returns the best weights rather than the weights at the last epoch.\n",
    "es_verbose = 1\n",
    "es_session_patience = None # The number of fine tuning sessions for which lack of improvement is tolerated. If None, no early stopping at session level\n",
    "\n",
    "# Reduce LR on Plateau Parameters\n",
    "rlr_monitor = \"val_loss\"\n",
    "rlr_factor = 0.5\n",
    "rlr_patience = 3\n",
    "rlr_verbose = 1\n",
    "rlr_mode = \"auto\"\n",
    "rlr_min_delta = 0.0001\n",
    "rlr_min_lr=1e-10\n",
    "\n",
    "# ModelCheckpoint Callback parameters\n",
    "mcp_location = \"models/\"\n",
    "mcp_mode = \"auto\"\n",
    "mcp_save_weights_only = False\n",
    "mcp_save_best_only = True\n",
    "mcp_save_freq = \"epoch\"\n",
    "mcp_verbose = 1\n",
    "\n",
    "# Historian parameters\n",
    "filename = f\"{name}_history.pkl\"\n",
    "historian_filepath = os.path.join(\"models\", name, filename)\n",
    "\n"
   ]
  },
  {
   "cell_type": "markdown",
   "metadata": {},
   "source": [
    "## Experiment Setup"
   ]
  },
  {
   "cell_type": "code",
   "execution_count": 3,
   "metadata": {},
   "outputs": [],
   "source": [
    "config = {\n",
    "    \"architecture\": architecture,\n",
    "    \"model_name\": model_name,\n",
    "    \"version\": version,\n",
    "    \"dataset\": \"CBIS-DDSM-10\",\n",
    "    \"batch_size\": batch_size,\n",
    "    \"initial_epochs\": initial_epochs,\n",
    "    \"fine_tuning\": fine_tuning,\n",
    "    \"fine_tune_epochs\": fine_tune_epochs,\n",
    "    \"fine_tune_sessions\": fine_tune_sessions,\n",
    "    \"fine_tune_min_lr\": fine_tune_min_lr,\n",
    "    \"fine_tune_max_lr\": fine_tune_max_lr,\n",
    "    \"fine_tune_schedule\": fine_tune_thaw_schedule,\n",
    "    \"early_stop_min_delta\": es_min_delta,\n",
    "    \"early_stop_monitor\": es_monitor,\n",
    "    \"early_stop_patience\": es_patience,\n",
    "    \"early_stop_restore_best_weights\": es_restore_best_weights,\n",
    "    \"early_stop_verbose\": es_verbose,\n",
    "    \"rlr_monitor\": rlr_monitor,\n",
    "    \"rlr_factor\": rlr_factor,\n",
    "    \"rlr_patience\": rlr_patience,\n",
    "    \"rlr_verbose\": rlr_verbose,\n",
    "    \"rlr_mode\": rlr_mode,\n",
    "    \"rlr_min_delta\": rlr_min_delta,\n",
    "    \"rlr_min_lr\": rlr_min_lr\n",
    "    \n",
    "}"
   ]
  },
  {
   "cell_type": "code",
   "execution_count": 4,
   "metadata": {},
   "outputs": [
    {
     "name": "stdout",
     "output_type": "stream",
     "text": [
      "ERROR:wandb.jupyter:Failed to detect the name of this notebook, you can set it manually with the WANDB_NOTEBOOK_NAME environment variable to enable code saving.\n"
     ]
    },
    {
     "name": "stderr",
     "output_type": "stream",
     "text": [
      "\u001b[34m\u001b[1mwandb\u001b[0m: Currently logged in as: \u001b[33maistudio\u001b[0m. Use \u001b[1m`wandb login --relogin`\u001b[0m to force relogin\n"
     ]
    },
    {
     "data": {
      "text/html": [
       "Tracking run with wandb version 0.16.2"
      ],
      "text/plain": [
       "<IPython.core.display.HTML object>"
      ]
     },
     "metadata": {},
     "output_type": "display_data"
    },
    {
     "data": {
      "text/html": [
       "Run data is saved locally in <code>/home/john/projects/bcd/wandb/run-20240129_114227-ez1p75i8</code>"
      ],
      "text/plain": [
       "<IPython.core.display.HTML object>"
      ]
     },
     "metadata": {},
     "output_type": "display_data"
    },
    {
     "data": {
      "text/html": [
       "Syncing run <strong><a href='https://wandb.ai/aistudio/breast_cancer_detection/runs/ez1p75i8' target=\"_blank\">happy-dawn-1</a></strong> to <a href='https://wandb.ai/aistudio/breast_cancer_detection' target=\"_blank\">Weights & Biases</a> (<a href='https://wandb.me/run' target=\"_blank\">docs</a>)<br/>"
      ],
      "text/plain": [
       "<IPython.core.display.HTML object>"
      ]
     },
     "metadata": {},
     "output_type": "display_data"
    },
    {
     "data": {
      "text/html": [
       " View project at <a href='https://wandb.ai/aistudio/breast_cancer_detection' target=\"_blank\">https://wandb.ai/aistudio/breast_cancer_detection</a>"
      ],
      "text/plain": [
       "<IPython.core.display.HTML object>"
      ]
     },
     "metadata": {},
     "output_type": "display_data"
    },
    {
     "data": {
      "text/html": [
       " View run at <a href='https://wandb.ai/aistudio/breast_cancer_detection/runs/ez1p75i8' target=\"_blank\">https://wandb.ai/aistudio/breast_cancer_detection/runs/ez1p75i8</a>"
      ],
      "text/plain": [
       "<IPython.core.display.HTML object>"
      ]
     },
     "metadata": {},
     "output_type": "display_data"
    }
   ],
   "source": [
    "run = wandb.init(project=project, config=config)"
   ]
  },
  {
   "cell_type": "markdown",
   "metadata": {},
   "source": [
    "## Load Data"
   ]
  },
  {
   "cell_type": "code",
   "execution_count": 5,
   "metadata": {},
   "outputs": [
    {
     "name": "stdout",
     "output_type": "stream",
     "text": [
      "Found 2471 files belonging to 2 classes.\n",
      "Using 1977 files for training.\n",
      "Found 2471 files belonging to 2 classes.\n",
      "Using 494 files for validation.\n",
      "Found 649 files belonging to 2 classes.\n"
     ]
    }
   ],
   "source": [
    "# Training DataSet (10%)\n",
    "train_ds = tf.keras.utils.image_dataset_from_directory(\n",
    "    train_dir,\n",
    "    labels=\"inferred\",\n",
    "    color_mode=\"rgb\",\n",
    "    image_size=(224,224),\n",
    "    shuffle=True,\n",
    "    validation_split=0.2,\n",
    "    subset='training',\n",
    "    interpolation=\"bilinear\",\n",
    "    seed=123,\n",
    "    batch_size=batch_size)\n",
    "\n",
    "# Validation DataSet (10%)\n",
    "val_ds = tf.keras.utils.image_dataset_from_directory(\n",
    "    train_dir,\n",
    "    labels=\"inferred\",\n",
    "    color_mode=\"rgb\",\n",
    "    image_size=(224,224),\n",
    "    shuffle=True,\n",
    "    validation_split=0.2,\n",
    "    subset='validation',\n",
    "    interpolation=\"bilinear\",\n",
    "    seed=123,\n",
    "    batch_size=batch_size)\n",
    "\n",
    "# Test Set\n",
    "test_ds = tf.keras.utils.image_dataset_from_directory(\n",
    "    test_dir,\n",
    "    labels=\"inferred\",\n",
    "    color_mode=\"rgb\",\n",
    "    image_size=(224,224),\n",
    "    shuffle=True)"
   ]
  },
  {
   "cell_type": "markdown",
   "metadata": {},
   "source": [
    "## Dependencies\n",
    "Several dependencies will be used throughout this notebook, including:\n",
    "- Early Stop Callback\n",
    "- Reduce Learning Rate on Plateau Callback\n",
    "- Model Repository\n",
    "- ResNet Model Factory\n",
    "- Historian Callback\n",
    "\n",
    "We'll make those objects available here."
   ]
  },
  {
   "cell_type": "code",
   "execution_count": 6,
   "metadata": {},
   "outputs": [],
   "source": [
    "early_stop_callback = tf.keras.callbacks.EarlyStopping(monitor=es_monitor, \n",
    "                                                       min_delta=es_min_delta,\n",
    "                                                       patience=es_patience, \n",
    "                                                       restore_best_weights=es_restore_best_weights,\n",
    "                                                       verbose=es_verbose)\n",
    "\n",
    "reduce_lr_callback = tf.keras.callbacks.ReduceLROnPlateau(monitor=rlr_monitor,\n",
    "                                                          factor=rlr_factor,\n",
    "                                                          patience=rlr_patience,\n",
    "                                                          verbose=rlr_verbose,\n",
    "                                                          mode=rlr_mode,\n",
    "                                                          min_delta=rlr_min_delta,\n",
    "                                                          min_lr=rlr_min_lr)\n",
    "wandb_callback = wandb.keras.WandbMetricsLogger()\n",
    "\n",
    "repo = ExperimentRepo(location=mcp_location)\n",
    "\n",
    "factory = ResNetFactory()\n",
    "\n",
    "historian = Historian(name=name)\n",
    "\n",
    "if fine_tune_thaw_schedule == \"linear\":\n",
    "    thaw_schedule = LinearThawSchedule(sessions=fine_tune_sessions, \n",
    "                                    base_model_layer=base_model_layer, \n",
    "                                    n_layers=len(factory.base_model.layers))\n",
    "    learning_rate_schedule = LinearLearningRateSchedule(sessions=fine_tune_sessions, initial_learning_rate=fine_tune_max_lr, final_learning_rate=fine_tune_min_lr)\n",
    "\n",
    "else:\n",
    "    thaw_schedule = LogThawSchedule(sessions=fine_tune_sessions, \n",
    "                                   base_model_layer=base_model_layer, \n",
    "                                   n_layers=len(factory.base_model.layers))\n",
    "\n",
    "\n",
    "\n",
    "    learning_rate_schedule = LogLearningRateSchedule(sessions=fine_tune_sessions, initial_learning_rate=fine_tune_max_lr, final_learning_rate=fine_tune_min_lr)\n"
   ]
  },
  {
   "cell_type": "markdown",
   "metadata": {},
   "source": [
    "## Feature Extraction\n",
    "If the model already exists, obtain it from the repository. Otherwise, create the model and perform feature extraction."
   ]
  },
  {
   "cell_type": "code",
   "execution_count": 7,
   "metadata": {},
   "outputs": [
    {
     "name": "stdout",
     "output_type": "stream",
     "text": [
      "Model: \"model\"\n",
      "_________________________________________________________________\n",
      " Layer (type)                Output Shape              Param #   \n",
      "=================================================================\n",
      " input_layer (InputLayer)    [(None, 224, 224, 3)]     0         \n",
      "                                                                 \n",
      " tf.math.truediv (TFOpLambda  (None, 224, 224, 3)      0         \n",
      " )                                                               \n",
      "                                                                 \n",
      " tf.math.subtract (TFOpLambd  (None, 224, 224, 3)      0         \n",
      " a)                                                              \n",
      "                                                                 \n",
      " data_augmentation (Sequenti  (None, 224, 224, 3)      0         \n",
      " al)                                                             \n",
      "                                                                 \n",
      " resnet152v2 (Functional)    (None, None, None, 2048)  58331648  \n",
      "                                                                 \n",
      " global_average_pooling_laye  (None, 2048)             0         \n",
      " r (GlobalAveragePooling2D)                                      \n",
      "                                                                 \n",
      " output_layer (Dense)        (None, 1)                 2049      \n",
      "                                                                 \n",
      "=================================================================\n",
      "Total params: 58,333,697\n",
      "Trainable params: 2,049\n",
      "Non-trainable params: 58,331,648\n",
      "_________________________________________________________________\n",
      "Epoch 1/100\n"
     ]
    },
    {
     "name": "stderr",
     "output_type": "stream",
     "text": [
      "2024-01-29 11:43:15.895670: I tensorflow/core/kernels/data/shuffle_dataset_op.cc:390] Filling up shuffle buffer (this may take a while): 492 of 512\n",
      "2024-01-29 11:43:15.992512: I tensorflow/core/kernels/data/shuffle_dataset_op.cc:415] Shuffle buffer filled.\n"
     ]
    },
    {
     "name": "stdout",
     "output_type": "stream",
     "text": [
      "31/31 [==============================] - ETA: 0s - loss: 0.7756 - accuracy: 0.5109 - precision: 0.4480 - recall: 0.3730 \n",
      "Epoch 1: val_loss improved from inf to 0.76794, saving model to models/resnet_v2_log/feature_extraction/resnet_v2_log_feature_extraction_01-val_loss_0.77.keras\n",
      "31/31 [==============================] - 596s 19s/step - loss: 0.7756 - accuracy: 0.5109 - precision: 0.4480 - recall: 0.3730 - val_loss: 0.7679 - val_accuracy: 0.4777 - val_precision: 0.4098 - val_recall: 0.3801 - lr: 1.0000e-04 - duration: 596.4589\n",
      "Epoch 2/100\n",
      "31/31 [==============================] - ETA: 0s - loss: 0.7653 - accuracy: 0.5028 - precision: 0.4355 - recall: 0.3528 \n",
      "Epoch 2: val_loss improved from 0.76794 to 0.75587, saving model to models/resnet_v2_log/feature_extraction/resnet_v2_log_feature_extraction_02-val_loss_0.76.keras\n",
      "31/31 [==============================] - 550s 17s/step - loss: 0.7653 - accuracy: 0.5028 - precision: 0.4355 - recall: 0.3528 - val_loss: 0.7559 - val_accuracy: 0.4939 - val_precision: 0.4190 - val_recall: 0.3394 - lr: 1.0000e-04 - duration: 549.5232\n",
      "Epoch 3/100\n",
      "31/31 [==============================] - ETA: 0s - loss: 0.7412 - accuracy: 0.5175 - precision: 0.4536 - recall: 0.3517 \n",
      "Epoch 3: val_loss improved from 0.75587 to 0.74560, saving model to models/resnet_v2_log/feature_extraction/resnet_v2_log_feature_extraction_03-val_loss_0.75.keras\n",
      "31/31 [==============================] - 535s 17s/step - loss: 0.7412 - accuracy: 0.5175 - precision: 0.4536 - recall: 0.3517 - val_loss: 0.7456 - val_accuracy: 0.4980 - val_precision: 0.4151 - val_recall: 0.2986 - lr: 1.0000e-04 - duration: 535.3295\n",
      "Epoch 4/100\n",
      "31/31 [==============================] - ETA: 0s - loss: 0.7254 - accuracy: 0.5341 - precision: 0.4792 - recall: 0.4011 \n",
      "Epoch 4: val_loss improved from 0.74560 to 0.73866, saving model to models/resnet_v2_log/feature_extraction/resnet_v2_log_feature_extraction_04-val_loss_0.74.keras\n",
      "31/31 [==============================] - 522s 17s/step - loss: 0.7254 - accuracy: 0.5341 - precision: 0.4792 - recall: 0.4011 - val_loss: 0.7387 - val_accuracy: 0.5040 - val_precision: 0.4221 - val_recall: 0.2941 - lr: 1.0000e-04 - duration: 522.3760\n",
      "Epoch 5/100\n",
      "31/31 [==============================] - ETA: 0s - loss: 0.7142 - accuracy: 0.5438 - precision: 0.4909 - recall: 0.3652 \n",
      "Epoch 5: val_loss improved from 0.73866 to 0.73274, saving model to models/resnet_v2_log/feature_extraction/resnet_v2_log_feature_extraction_05-val_loss_0.73.keras\n",
      "31/31 [==============================] - 536s 17s/step - loss: 0.7142 - accuracy: 0.5438 - precision: 0.4909 - recall: 0.3652 - val_loss: 0.7327 - val_accuracy: 0.5081 - val_precision: 0.4276 - val_recall: 0.2941 - lr: 1.0000e-04 - duration: 535.8425\n",
      "Epoch 6/100\n",
      "31/31 [==============================] - ETA: 0s - loss: 0.7148 - accuracy: 0.5341 - precision: 0.4781 - recall: 0.3809 \n",
      "Epoch 6: val_loss improved from 0.73274 to 0.72769, saving model to models/resnet_v2_log/feature_extraction/resnet_v2_log_feature_extraction_06-val_loss_0.73.keras\n",
      "31/31 [==============================] - 526s 17s/step - loss: 0.7148 - accuracy: 0.5341 - precision: 0.4781 - recall: 0.3809 - val_loss: 0.7277 - val_accuracy: 0.5121 - val_precision: 0.4194 - val_recall: 0.2353 - lr: 1.0000e-04 - duration: 526.0225\n",
      "Epoch 7/100\n",
      "31/31 [==============================] - ETA: 0s - loss: 0.7116 - accuracy: 0.5503 - precision: 0.5008 - recall: 0.3494 \n",
      "Epoch 7: val_loss improved from 0.72769 to 0.72296, saving model to models/resnet_v2_log/feature_extraction/resnet_v2_log_feature_extraction_07-val_loss_0.72.keras\n",
      "31/31 [==============================] - 544s 17s/step - loss: 0.7116 - accuracy: 0.5503 - precision: 0.5008 - recall: 0.3494 - val_loss: 0.7230 - val_accuracy: 0.5283 - val_precision: 0.4565 - val_recall: 0.2851 - lr: 1.0000e-04 - duration: 544.0317\n",
      "Epoch 8/100\n",
      "31/31 [==============================] - ETA: 0s - loss: 0.7027 - accuracy: 0.5422 - precision: 0.4899 - recall: 0.4101 \n",
      "Epoch 8: val_loss improved from 0.72296 to 0.71931, saving model to models/resnet_v2_log/feature_extraction/resnet_v2_log_feature_extraction_08-val_loss_0.72.keras\n",
      "31/31 [==============================] - 520s 17s/step - loss: 0.7027 - accuracy: 0.5422 - precision: 0.4899 - recall: 0.4101 - val_loss: 0.7193 - val_accuracy: 0.5223 - val_precision: 0.4370 - val_recall: 0.2353 - lr: 1.0000e-04 - duration: 520.4761\n",
      "Epoch 9/100\n",
      "31/31 [==============================] - ETA: 0s - loss: 0.6921 - accuracy: 0.5736 - precision: 0.5354 - recall: 0.3989 \n",
      "Epoch 9: val_loss improved from 0.71931 to 0.71571, saving model to models/resnet_v2_log/feature_extraction/resnet_v2_log_feature_extraction_09-val_loss_0.72.keras\n",
      "31/31 [==============================] - 530s 17s/step - loss: 0.6921 - accuracy: 0.5736 - precision: 0.5354 - recall: 0.3989 - val_loss: 0.7157 - val_accuracy: 0.5304 - val_precision: 0.4522 - val_recall: 0.2353 - lr: 1.0000e-04 - duration: 530.1427\n",
      "Epoch 10/100\n",
      "31/31 [==============================] - ETA: 0s - loss: 0.6987 - accuracy: 0.5493 - precision: 0.4993 - recall: 0.4236 \n",
      "Epoch 10: val_loss did not improve from 0.71571\n",
      "31/31 [==============================] - 523s 17s/step - loss: 0.6987 - accuracy: 0.5493 - precision: 0.4993 - recall: 0.4236 - val_loss: 0.7161 - val_accuracy: 0.5486 - val_precision: 0.4872 - val_recall: 0.1719 - lr: 1.0000e-04 - duration: 522.7244\n",
      "Epoch 11/100\n",
      "31/31 [==============================] - ETA: 0s - loss: 0.6881 - accuracy: 0.5599 - precision: 0.5163 - recall: 0.3551 \n",
      "Epoch 11: val_loss improved from 0.71571 to 0.71197, saving model to models/resnet_v2_log/feature_extraction/resnet_v2_log_feature_extraction_11-val_loss_0.71.keras\n",
      "31/31 [==============================] - 537s 17s/step - loss: 0.6881 - accuracy: 0.5599 - precision: 0.5163 - recall: 0.3551 - val_loss: 0.7120 - val_accuracy: 0.5466 - val_precision: 0.4835 - val_recall: 0.1991 - lr: 1.0000e-04 - duration: 536.8633\n",
      "Epoch 12/100\n",
      "31/31 [==============================] - ETA: 0s - loss: 0.6895 - accuracy: 0.5650 - precision: 0.5216 - recall: 0.4067 \n",
      "Epoch 12: val_loss improved from 0.71197 to 0.70948, saving model to models/resnet_v2_log/feature_extraction/resnet_v2_log_feature_extraction_12-val_loss_0.71.keras\n",
      "31/31 [==============================] - 509s 16s/step - loss: 0.6895 - accuracy: 0.5650 - precision: 0.5216 - recall: 0.4067 - val_loss: 0.7095 - val_accuracy: 0.5526 - val_precision: 0.5000 - val_recall: 0.1991 - lr: 1.0000e-04 - duration: 509.3630\n",
      "Epoch 13/100\n",
      "31/31 [==============================] - ETA: 0s - loss: 0.6894 - accuracy: 0.5655 - precision: 0.5232 - recall: 0.3933 \n",
      "Epoch 13: val_loss improved from 0.70948 to 0.70754, saving model to models/resnet_v2_log/feature_extraction/resnet_v2_log_feature_extraction_13-val_loss_0.71.keras\n",
      "31/31 [==============================] - 513s 16s/step - loss: 0.6894 - accuracy: 0.5655 - precision: 0.5232 - recall: 0.3933 - val_loss: 0.7075 - val_accuracy: 0.5526 - val_precision: 0.5000 - val_recall: 0.1900 - lr: 1.0000e-04 - duration: 512.9482\n",
      "Epoch 14/100\n",
      "31/31 [==============================] - ETA: 0s - loss: 0.6919 - accuracy: 0.5610 - precision: 0.5153 - recall: 0.4169 \n",
      "Epoch 14: val_loss improved from 0.70754 to 0.70541, saving model to models/resnet_v2_log/feature_extraction/resnet_v2_log_feature_extraction_14-val_loss_0.71.keras\n",
      "31/31 [==============================] - 523s 17s/step - loss: 0.6919 - accuracy: 0.5610 - precision: 0.5153 - recall: 0.4169 - val_loss: 0.7054 - val_accuracy: 0.5486 - val_precision: 0.4872 - val_recall: 0.1719 - lr: 1.0000e-04 - duration: 523.2445\n",
      "Epoch 15/100\n",
      "31/31 [==============================] - ETA: 0s - loss: 0.6793 - accuracy: 0.5756 - precision: 0.5397 - recall: 0.3899 \n",
      "Epoch 15: val_loss improved from 0.70541 to 0.70345, saving model to models/resnet_v2_log/feature_extraction/resnet_v2_log_feature_extraction_15-val_loss_0.70.keras\n",
      "31/31 [==============================] - 515s 17s/step - loss: 0.6793 - accuracy: 0.5756 - precision: 0.5397 - recall: 0.3899 - val_loss: 0.7035 - val_accuracy: 0.5466 - val_precision: 0.4828 - val_recall: 0.1900 - lr: 1.0000e-04 - duration: 515.3209\n",
      "Epoch 16/100\n",
      "31/31 [==============================] - ETA: 0s - loss: 0.6822 - accuracy: 0.5625 - precision: 0.5191 - recall: 0.3809 \n",
      "Epoch 16: val_loss did not improve from 0.70345\n",
      "31/31 [==============================] - 518s 17s/step - loss: 0.6822 - accuracy: 0.5625 - precision: 0.5191 - recall: 0.3809 - val_loss: 0.7035 - val_accuracy: 0.5385 - val_precision: 0.4568 - val_recall: 0.1674 - lr: 1.0000e-04 - duration: 517.8509\n",
      "Epoch 17/100\n",
      "31/31 [==============================] - ETA: 0s - loss: 0.6873 - accuracy: 0.5761 - precision: 0.5390 - recall: 0.4034 \n",
      "Epoch 17: val_loss improved from 0.70345 to 0.70240, saving model to models/resnet_v2_log/feature_extraction/resnet_v2_log_feature_extraction_17-val_loss_0.70.keras\n",
      "31/31 [==============================] - 521s 17s/step - loss: 0.6873 - accuracy: 0.5761 - precision: 0.5390 - recall: 0.4034 - val_loss: 0.7024 - val_accuracy: 0.5425 - val_precision: 0.4675 - val_recall: 0.1629 - lr: 1.0000e-04 - duration: 520.6175\n",
      "Epoch 18/100\n",
      "31/31 [==============================] - ETA: 0s - loss: 0.6757 - accuracy: 0.5736 - precision: 0.5409 - recall: 0.3494 \n",
      "Epoch 18: val_loss improved from 0.70240 to 0.69929, saving model to models/resnet_v2_log/feature_extraction/resnet_v2_log_feature_extraction_18-val_loss_0.70.keras\n",
      "31/31 [==============================] - 534s 17s/step - loss: 0.6757 - accuracy: 0.5736 - precision: 0.5409 - recall: 0.3494 - val_loss: 0.6993 - val_accuracy: 0.5607 - val_precision: 0.5189 - val_recall: 0.2489 - lr: 1.0000e-04 - duration: 533.9988\n",
      "Epoch 19/100\n",
      "31/31 [==============================] - ETA: 0s - loss: 0.6805 - accuracy: 0.5736 - precision: 0.5378 - recall: 0.3753 \n",
      "Epoch 19: val_loss improved from 0.69929 to 0.69908, saving model to models/resnet_v2_log/feature_extraction/resnet_v2_log_feature_extraction_19-val_loss_0.70.keras\n",
      "31/31 [==============================] - 528s 17s/step - loss: 0.6805 - accuracy: 0.5736 - precision: 0.5378 - recall: 0.3753 - val_loss: 0.6991 - val_accuracy: 0.5506 - val_precision: 0.4944 - val_recall: 0.1991 - lr: 1.0000e-04 - duration: 527.5057\n",
      "Epoch 20/100\n",
      "31/31 [==============================] - ETA: 0s - loss: 0.6805 - accuracy: 0.5756 - precision: 0.5376 - recall: 0.4101 \n",
      "Epoch 20: val_loss improved from 0.69908 to 0.69724, saving model to models/resnet_v2_log/feature_extraction/resnet_v2_log_feature_extraction_20-val_loss_0.70.keras\n",
      "31/31 [==============================] - 484s 15s/step - loss: 0.6805 - accuracy: 0.5756 - precision: 0.5376 - recall: 0.4101 - val_loss: 0.6972 - val_accuracy: 0.5607 - val_precision: 0.5185 - val_recall: 0.2534 - lr: 1.0000e-04 - duration: 484.0905\n",
      "Epoch 21/100\n",
      "31/31 [==============================] - ETA: 0s - loss: 0.6814 - accuracy: 0.5726 - precision: 0.5318 - recall: 0.4225 \n",
      "Epoch 21: val_loss improved from 0.69724 to 0.69609, saving model to models/resnet_v2_log/feature_extraction/resnet_v2_log_feature_extraction_21-val_loss_0.70.keras\n",
      "31/31 [==============================] - 519s 17s/step - loss: 0.6814 - accuracy: 0.5726 - precision: 0.5318 - recall: 0.4225 - val_loss: 0.6961 - val_accuracy: 0.5587 - val_precision: 0.5130 - val_recall: 0.2670 - lr: 1.0000e-04 - duration: 519.4658\n",
      "Epoch 22/100\n",
      "31/31 [==============================] - ETA: 0s - loss: 0.6782 - accuracy: 0.5771 - precision: 0.5458 - recall: 0.3618 \n",
      "Epoch 22: val_loss improved from 0.69609 to 0.69505, saving model to models/resnet_v2_log/feature_extraction/resnet_v2_log_feature_extraction_22-val_loss_0.70.keras\n",
      "31/31 [==============================] - 520s 17s/step - loss: 0.6782 - accuracy: 0.5771 - precision: 0.5458 - recall: 0.3618 - val_loss: 0.6951 - val_accuracy: 0.5688 - val_precision: 0.5328 - val_recall: 0.2941 - lr: 1.0000e-04 - duration: 519.9078\n",
      "Epoch 23/100\n",
      "31/31 [==============================] - ETA: 0s - loss: 0.6777 - accuracy: 0.5766 - precision: 0.5349 - recall: 0.4562 \n",
      "Epoch 23: val_loss improved from 0.69505 to 0.69496, saving model to models/resnet_v2_log/feature_extraction/resnet_v2_log_feature_extraction_23-val_loss_0.69.keras\n",
      "31/31 [==============================] - 527s 17s/step - loss: 0.6777 - accuracy: 0.5766 - precision: 0.5349 - recall: 0.4562 - val_loss: 0.6950 - val_accuracy: 0.5526 - val_precision: 0.5000 - val_recall: 0.2443 - lr: 1.0000e-04 - duration: 527.3882\n",
      "Epoch 24/100\n",
      "31/31 [==============================] - ETA: 0s - loss: 0.6737 - accuracy: 0.5807 - precision: 0.5469 - recall: 0.4000 \n",
      "Epoch 24: val_loss improved from 0.69496 to 0.69366, saving model to models/resnet_v2_log/feature_extraction/resnet_v2_log_feature_extraction_24-val_loss_0.69.keras\n",
      "31/31 [==============================] - 527s 17s/step - loss: 0.6737 - accuracy: 0.5807 - precision: 0.5469 - recall: 0.4000 - val_loss: 0.6937 - val_accuracy: 0.5628 - val_precision: 0.5221 - val_recall: 0.2670 - lr: 1.0000e-04 - duration: 527.4623\n",
      "Epoch 25/100\n",
      "31/31 [==============================] - ETA: 0s - loss: 0.6716 - accuracy: 0.5781 - precision: 0.5398 - recall: 0.4270 \n",
      "Epoch 25: val_loss improved from 0.69366 to 0.69341, saving model to models/resnet_v2_log/feature_extraction/resnet_v2_log_feature_extraction_25-val_loss_0.69.keras\n",
      "31/31 [==============================] - 512s 16s/step - loss: 0.6716 - accuracy: 0.5781 - precision: 0.5398 - recall: 0.4270 - val_loss: 0.6934 - val_accuracy: 0.5506 - val_precision: 0.4951 - val_recall: 0.2308 - lr: 1.0000e-04 - duration: 511.9951\n",
      "Epoch 26/100\n",
      "31/31 [==============================] - ETA: 0s - loss: 0.6626 - accuracy: 0.6105 - precision: 0.5935 - recall: 0.4281 \n",
      "Epoch 26: val_loss improved from 0.69341 to 0.69220, saving model to models/resnet_v2_log/feature_extraction/resnet_v2_log_feature_extraction_26-val_loss_0.69.keras\n",
      "31/31 [==============================] - 521s 17s/step - loss: 0.6626 - accuracy: 0.6105 - precision: 0.5935 - recall: 0.4281 - val_loss: 0.6922 - val_accuracy: 0.5688 - val_precision: 0.5333 - val_recall: 0.2896 - lr: 1.0000e-04 - duration: 520.8045\n",
      "Epoch 27/100\n",
      "31/31 [==============================] - ETA: 0s - loss: 0.6652 - accuracy: 0.5979 - precision: 0.5723 - recall: 0.4225 \n",
      "Epoch 27: val_loss improved from 0.69220 to 0.69124, saving model to models/resnet_v2_log/feature_extraction/resnet_v2_log_feature_extraction_27-val_loss_0.69.keras\n",
      "31/31 [==============================] - 530s 17s/step - loss: 0.6652 - accuracy: 0.5979 - precision: 0.5723 - recall: 0.4225 - val_loss: 0.6912 - val_accuracy: 0.5729 - val_precision: 0.5391 - val_recall: 0.3122 - lr: 1.0000e-04 - duration: 530.0294\n",
      "Epoch 28/100\n",
      "31/31 [==============================] - ETA: 0s - loss: 0.6723 - accuracy: 0.5802 - precision: 0.5473 - recall: 0.3899 \n",
      "Epoch 28: val_loss improved from 0.69124 to 0.69048, saving model to models/resnet_v2_log/feature_extraction/resnet_v2_log_feature_extraction_28-val_loss_0.69.keras\n",
      "31/31 [==============================] - 518s 17s/step - loss: 0.6723 - accuracy: 0.5802 - precision: 0.5473 - recall: 0.3899 - val_loss: 0.6905 - val_accuracy: 0.5729 - val_precision: 0.5403 - val_recall: 0.3032 - lr: 1.0000e-04 - duration: 518.3897\n",
      "Epoch 29/100\n",
      "31/31 [==============================] - ETA: 0s - loss: 0.6793 - accuracy: 0.5797 - precision: 0.5445 - recall: 0.4056 \n",
      "Epoch 29: val_loss improved from 0.69048 to 0.68955, saving model to models/resnet_v2_log/feature_extraction/resnet_v2_log_feature_extraction_29-val_loss_0.69.keras\n",
      "31/31 [==============================] - 514s 16s/step - loss: 0.6793 - accuracy: 0.5797 - precision: 0.5445 - recall: 0.4056 - val_loss: 0.6896 - val_accuracy: 0.5769 - val_precision: 0.5492 - val_recall: 0.3032 - lr: 1.0000e-04 - duration: 514.3041\n",
      "Epoch 30/100\n",
      "31/31 [==============================] - ETA: 0s - loss: 0.6696 - accuracy: 0.5943 - precision: 0.5598 - recall: 0.4629 \n",
      "Epoch 30: val_loss did not improve from 0.68955\n",
      "31/31 [==============================] - 521s 17s/step - loss: 0.6696 - accuracy: 0.5943 - precision: 0.5598 - recall: 0.4629 - val_loss: 0.6897 - val_accuracy: 0.5729 - val_precision: 0.5397 - val_recall: 0.3077 - lr: 1.0000e-04 - duration: 520.8405\n",
      "Epoch 31/100\n",
      "31/31 [==============================] - ETA: 0s - loss: 0.6710 - accuracy: 0.5721 - precision: 0.5322 - recall: 0.4090 \n",
      "Epoch 31: val_loss improved from 0.68955 to 0.68930, saving model to models/resnet_v2_log/feature_extraction/resnet_v2_log_feature_extraction_31-val_loss_0.69.keras\n",
      "31/31 [==============================] - 530s 17s/step - loss: 0.6710 - accuracy: 0.5721 - precision: 0.5322 - recall: 0.4090 - val_loss: 0.6893 - val_accuracy: 0.5709 - val_precision: 0.5319 - val_recall: 0.3394 - lr: 1.0000e-04 - duration: 530.0283\n",
      "Epoch 32/100\n",
      "31/31 [==============================] - ETA: 0s - loss: 0.6769 - accuracy: 0.5802 - precision: 0.5409 - recall: 0.4461 \n",
      "Epoch 32: val_loss did not improve from 0.68930\n",
      "31/31 [==============================] - 495s 16s/step - loss: 0.6769 - accuracy: 0.5802 - precision: 0.5409 - recall: 0.4461 - val_loss: 0.6895 - val_accuracy: 0.5769 - val_precision: 0.5435 - val_recall: 0.3394 - lr: 1.0000e-04 - duration: 494.5234\n",
      "Epoch 33/100\n",
      "31/31 [==============================] - ETA: 0s - loss: 0.6582 - accuracy: 0.5959 - precision: 0.5658 - recall: 0.4393 \n",
      "Epoch 33: val_loss did not improve from 0.68930\n",
      "31/31 [==============================] - 515s 16s/step - loss: 0.6582 - accuracy: 0.5959 - precision: 0.5658 - recall: 0.4393 - val_loss: 0.6895 - val_accuracy: 0.5749 - val_precision: 0.5433 - val_recall: 0.3122 - lr: 1.0000e-04 - duration: 514.5827\n",
      "Epoch 34/100\n",
      "31/31 [==============================] - ETA: 0s - loss: 0.6643 - accuracy: 0.5893 - precision: 0.5596 - recall: 0.4112 \n",
      "Epoch 34: val_loss improved from 0.68930 to 0.68874, saving model to models/resnet_v2_log/feature_extraction/resnet_v2_log_feature_extraction_34-val_loss_0.69.keras\n",
      "31/31 [==============================] - 513s 16s/step - loss: 0.6643 - accuracy: 0.5893 - precision: 0.5596 - recall: 0.4112 - val_loss: 0.6887 - val_accuracy: 0.5688 - val_precision: 0.5294 - val_recall: 0.3258 - lr: 1.0000e-04 - duration: 513.1335\n",
      "Epoch 35/100\n",
      "31/31 [==============================] - ETA: 0s - loss: 0.6650 - accuracy: 0.6029 - precision: 0.5775 - recall: 0.4393 \n",
      "Epoch 35: val_loss improved from 0.68874 to 0.68828, saving model to models/resnet_v2_log/feature_extraction/resnet_v2_log_feature_extraction_35-val_loss_0.69.keras\n",
      "31/31 [==============================] - 510s 16s/step - loss: 0.6650 - accuracy: 0.6029 - precision: 0.5775 - recall: 0.4393 - val_loss: 0.6883 - val_accuracy: 0.5749 - val_precision: 0.5433 - val_recall: 0.3122 - lr: 1.0000e-04 - duration: 510.1556\n",
      "Epoch 36/100\n",
      "31/31 [==============================] - ETA: 0s - loss: 0.6712 - accuracy: 0.5893 - precision: 0.5579 - recall: 0.4225 \n",
      "Epoch 36: val_loss improved from 0.68828 to 0.68745, saving model to models/resnet_v2_log/feature_extraction/resnet_v2_log_feature_extraction_36-val_loss_0.69.keras\n",
      "31/31 [==============================] - 513s 16s/step - loss: 0.6712 - accuracy: 0.5893 - precision: 0.5579 - recall: 0.4225 - val_loss: 0.6874 - val_accuracy: 0.5709 - val_precision: 0.5324 - val_recall: 0.3348 - lr: 1.0000e-04 - duration: 512.7730\n",
      "Epoch 37/100\n",
      "31/31 [==============================] - ETA: 0s - loss: 0.6665 - accuracy: 0.5938 - precision: 0.5628 - recall: 0.4382 \n",
      "Epoch 37: val_loss did not improve from 0.68745\n",
      "31/31 [==============================] - 518s 16s/step - loss: 0.6665 - accuracy: 0.5938 - precision: 0.5628 - recall: 0.4382 - val_loss: 0.6886 - val_accuracy: 0.5688 - val_precision: 0.5351 - val_recall: 0.2760 - lr: 1.0000e-04 - duration: 517.7500\n",
      "Epoch 38/100\n",
      "31/31 [==============================] - ETA: 0s - loss: 0.6640 - accuracy: 0.5974 - precision: 0.5697 - recall: 0.4315 \n",
      "Epoch 38: val_loss improved from 0.68745 to 0.68733, saving model to models/resnet_v2_log/feature_extraction/resnet_v2_log_feature_extraction_38-val_loss_0.69.keras\n",
      "31/31 [==============================] - 500s 16s/step - loss: 0.6640 - accuracy: 0.5974 - precision: 0.5697 - recall: 0.4315 - val_loss: 0.6873 - val_accuracy: 0.5709 - val_precision: 0.5338 - val_recall: 0.3213 - lr: 1.0000e-04 - duration: 500.4291\n",
      "Epoch 39/100\n",
      "31/31 [==============================] - ETA: 0s - loss: 0.6605 - accuracy: 0.6014 - precision: 0.5777 - recall: 0.4258 \n",
      "Epoch 39: val_loss improved from 0.68733 to 0.68728, saving model to models/resnet_v2_log/feature_extraction/resnet_v2_log_feature_extraction_39-val_loss_0.69.keras\n",
      "31/31 [==============================] - 514s 16s/step - loss: 0.6605 - accuracy: 0.6014 - precision: 0.5777 - recall: 0.4258 - val_loss: 0.6873 - val_accuracy: 0.5709 - val_precision: 0.5273 - val_recall: 0.3937 - lr: 1.0000e-04 - duration: 514.0095\n",
      "Epoch 40/100\n",
      "31/31 [==============================] - ETA: 0s - loss: 0.6627 - accuracy: 0.5964 - precision: 0.5627 - recall: 0.4640 \n",
      "Epoch 40: val_loss improved from 0.68728 to 0.68661, saving model to models/resnet_v2_log/feature_extraction/resnet_v2_log_feature_extraction_40-val_loss_0.69.keras\n",
      "31/31 [==============================] - 510s 16s/step - loss: 0.6627 - accuracy: 0.5964 - precision: 0.5627 - recall: 0.4640 - val_loss: 0.6866 - val_accuracy: 0.5648 - val_precision: 0.5203 - val_recall: 0.3484 - lr: 1.0000e-04 - duration: 509.6827\n",
      "Epoch 41/100\n",
      "31/31 [==============================] - ETA: 0s - loss: 0.6629 - accuracy: 0.6024 - precision: 0.5825 - recall: 0.4124 \n",
      "Epoch 41: val_loss did not improve from 0.68661\n",
      "31/31 [==============================] - 519s 17s/step - loss: 0.6629 - accuracy: 0.6024 - precision: 0.5825 - recall: 0.4124 - val_loss: 0.6873 - val_accuracy: 0.5709 - val_precision: 0.5276 - val_recall: 0.3891 - lr: 1.0000e-04 - duration: 518.6470\n",
      "Epoch 42/100\n",
      "31/31 [==============================] - ETA: 0s - loss: 0.6663 - accuracy: 0.5883 - precision: 0.5538 - recall: 0.4393 \n",
      "Epoch 42: val_loss did not improve from 0.68661\n",
      "31/31 [==============================] - 508s 16s/step - loss: 0.6663 - accuracy: 0.5883 - precision: 0.5538 - recall: 0.4393 - val_loss: 0.6873 - val_accuracy: 0.5668 - val_precision: 0.5207 - val_recall: 0.3982 - lr: 1.0000e-04 - duration: 507.6801\n",
      "Epoch 43/100\n",
      "31/31 [==============================] - ETA: 0s - loss: 0.6658 - accuracy: 0.5928 - precision: 0.5610 - recall: 0.4393 "
     ]
    }
   ],
   "source": [
    "stage = \"feature_extraction\"\n",
    "if force or not repo.exists(name=name, stage=stage):\n",
    "    model = factory.create(input_shape=input_shape, \n",
    "                            output_shape=output_shape,\n",
    "                            activation=activation)\n",
    "    # Create the optimizer\n",
    "    optimizer=tf.keras.optimizers.Adam(learning_rate=fe_learning_rate)\n",
    "\n",
    "    # Compile the Model\n",
    "    model.compile(\n",
    "        loss=loss,\n",
    "        optimizer=optimizer,\n",
    "        metrics=metrics,        \n",
    "    )\n",
    "\n",
    "    # Delete existing checkpoints\n",
    "    repo.remove(name=name, stage=stage)\n",
    "    # Summarize the model\n",
    "    model.summary()\n",
    "    # Obtain a checkpoint callback from the model repository \n",
    "    checkpoint_callback = repo.create_callback(name=name, stage=stage)\n",
    "    # Set the session on the historian to 0 for feature extraction\n",
    "    historian.on_session_begin(session=0)\n",
    "    # Fit the model with callbacks\n",
    "    history = model.fit(train_ds, \n",
    "                        validation_data=val_ds, \n",
    "                        epochs=initial_epochs, \n",
    "                        callbacks=[checkpoint_callback, \n",
    "                                   reduce_lr_callback,\n",
    "                                   early_stop_callback, \n",
    "                                   wandb_callback,                                   \n",
    "                                   historian])        \n",
    "    # Register the model on wandb\n",
    "    filepath = repo.get_filepath(name=name, stage=stage)    \n",
    "    artifact = wandb.Artifact(f\"{name}-{stage}-{run.id}\", type=\"model\")\n",
    "    artifact.add_file(filepath)\n",
    "    wandb.log_artifact(artifact, aliases=[stage, \"best\"])\n",
    "    wandb.run.link_artifact(artifact, \"aistudio/breast_cancer_detection/ResNet\")\n",
    "else:\n",
    "    # Obtain the model from the repository\n",
    "    model = repo.get(name=name, stage=stage)\n",
    "    # Obtain the historian\n",
    "    historian = historian.load(historian_filepath)    \n",
    "    # Summarize the model\n",
    "    model.summary()"
   ]
  },
  {
   "cell_type": "markdown",
   "metadata": {},
   "source": [
    "## Fine Tuning"
   ]
  },
  {
   "cell_type": "code",
   "execution_count": null,
   "metadata": {},
   "outputs": [],
   "source": [
    "if fine_tuning:\n",
    "    ft = FineTuner(name=name, \n",
    "               train_ds=train_ds, \n",
    "               validation_ds=val_ds, \n",
    "               repo=repo,\n",
    "               thaw_schedule=thaw_schedule,\n",
    "               learning_rate_schedule=learning_rate_schedule,               \n",
    "               metrics=metrics,\n",
    "               fine_tune_epochs=fine_tune_epochs,\n",
    "               sessions=fine_tune_sessions,\n",
    "               callbacks=[early_stop_callback, reduce_lr_callback, wandb_callback],\n",
    "               )\n",
    "    ft.tune(model=model, historian=historian, force=force)\n",
    "run.finish()"
   ]
  },
  {
   "cell_type": "markdown",
   "metadata": {},
   "source": [
    "## Learning Curves"
   ]
  },
  {
   "cell_type": "code",
   "execution_count": null,
   "metadata": {},
   "outputs": [],
   "source": [
    "# Plot the historian\n",
    "historian.plot_learning_curves()"
   ]
  },
  {
   "cell_type": "markdown",
   "metadata": {},
   "source": [
    "## Evaluation"
   ]
  },
  {
   "cell_type": "raw",
   "metadata": {},
   "source": [
    "results = model.evaluate(test_ds, batch_size=batch_size)\n",
    "print(\"Test Loss, Test Accuracy: \", results)"
   ]
  }
 ],
 "metadata": {
  "kernelspec": {
   "display_name": "bcd",
   "language": "python",
   "name": "python3"
  },
  "language_info": {
   "codemirror_mode": {
    "name": "ipython",
    "version": 3
   },
   "file_extension": ".py",
   "mimetype": "text/x-python",
   "name": "python",
   "nbconvert_exporter": "python",
   "pygments_lexer": "ipython3",
   "version": "3.10.12"
  }
 },
 "nbformat": 4,
 "nbformat_minor": 2
}
