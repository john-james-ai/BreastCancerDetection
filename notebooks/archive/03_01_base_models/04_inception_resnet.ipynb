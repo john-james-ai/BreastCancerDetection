{
 "cells": [
  {
   "cell_type": "markdown",
   "metadata": {},
   "source": [
    "# InceptionResNet"
   ]
  },
  {
   "cell_type": "code",
   "execution_count": 1,
   "metadata": {},
   "outputs": [],
   "source": [
    "import os\n",
    "import wandb\n",
    "import pathlib\n",
    "import tensorflow as tf\n",
    "\n",
    "from bcd.model.repo import ExperimentRepo\n",
    "from bcd.model.factory import InceptionResNetFactory\n",
    "from bcd.model.transfer import FineTuner\n",
    "from bcd.model.callback import Historian\n",
    "from bcd.model.schedule import LinearThawSchedule, LogThawSchedule, LinearLearningRateSchedule, LogLearningRateSchedule\n",
    "pd.set_option('display.max_rows',999)\n"
   ]
  },
  {
   "cell_type": "markdown",
   "metadata": {},
   "source": [
    "## Configuration"
   ]
  },
  {
   "cell_type": "code",
   "execution_count": 2,
   "metadata": {},
   "outputs": [
    {
     "name": "stdout",
     "output_type": "stream",
     "text": [
      "env: \"WANDB_NOTEBOOK_NAME\"=\"04_inception_resnet.ipynb\"\n"
     ]
    }
   ],
   "source": [
    "# W&B\n",
    "%env \"WANDB_NOTEBOOK_NAME\" \"04_inception_resnet.ipynb\"\n",
    "project = \"breast_cancer_detection\"\n",
    "\n",
    "# Model Parameters\n",
    "full_dataset = False\n",
    "architecture='InceptionResnet'\n",
    "model_name = \"inception_resnet\" if full_dataset else \"inception_resnet_10\"\n",
    "version=\"v1_log\"\n",
    "name = f\"{model_name}_{version}\"\n",
    "force = False  # Whether to retrain if the model and weights already exist from a prior training session.\n",
    "metrics = ['accuracy', tf.keras.metrics.Precision(), tf.keras.metrics.Recall()]\n",
    "base_model_layer = 4 # Layer of the inception resnet base model\n",
    "base_model_layers = 780 # layers in inception resnet model\n",
    "loss = \"binary_crossentropy\"\n",
    "activation = \"sigmoid\"\n",
    "\n",
    "# Dataset params\n",
    "batch_size = 64 if full_dataset else 32\n",
    "input_shape = (224,224,3)\n",
    "output_shape = 1\n",
    "train_dir = pathlib.Path(\"data/image/1_final/training/training/\").with_suffix('') if full_dataset else pathlib.Path(\"data/image/1_final/training_10/training/\").with_suffix('') \n",
    "test_dir = pathlib.Path(\"data/image/1_final/test/test/\").with_suffix('')\n",
    "\n",
    "# Feature Extraction Parameters\n",
    "initial_epochs = 100  # Number of epochs to train for feature extraction\n",
    "fe_learning_rate = 1e-5\n",
    "\n",
    "# Fine Tune Parameters\n",
    "fine_tune_epochs = 10  # Number of epochs for each fine tune session\n",
    "fine_tune_sessions = 5 # Number of fine tune sessions\n",
    "fine_tune_min_lr = 1e-8\n",
    "fine_tune_max_lr = 1e-5\n",
    "fine_tune_thaw_schedule = \"log\"\n",
    "\n",
    "\n",
    "# Early stop parameters \n",
    "es_min_delta = 0.0001\n",
    "es_monitor = \"val_loss\"  # Monitor validation loss for early stopping\n",
    "es_patience = 8  # The number of consecutive epochs for which lack of improvement is tolerated \n",
    "es_restore_best_weights = True  # Returns the best weights rather than the weights at the last epoch.\n",
    "es_verbose = 1\n",
    "es_session_patience = None # The number of fine tuning sessions for which lack of improvement is tolerated. If None, no early stopping at session level\n",
    "\n",
    "# Reduce LR on Plateau Parameters\n",
    "rlr_monitor = \"val_loss\"\n",
    "rlr_factor = 0.5\n",
    "rlr_patience = 3\n",
    "rlr_verbose = 1\n",
    "rlr_mode = \"auto\"\n",
    "rlr_min_delta = 0.0001\n",
    "rlr_min_lr=1e-10\n",
    "\n",
    "# ModelCheckpoint Callback parameters\n",
    "mcp_location = \"models/\"\n",
    "mcp_mode = \"auto\"\n",
    "mcp_save_weights_only = False\n",
    "mcp_save_best_only = True\n",
    "mcp_save_freq = \"epoch\"\n",
    "mcp_verbose = 1\n",
    "\n",
    "# Historian parameters\n",
    "filename = f\"{name}_history.pkl\"\n",
    "historian_filepath = os.path.join(\"models\", name, filename)\n",
    "\n"
   ]
  },
  {
   "cell_type": "markdown",
   "metadata": {},
   "source": [
    "## Experiment Setup"
   ]
  },
  {
   "cell_type": "code",
   "execution_count": 3,
   "metadata": {},
   "outputs": [],
   "source": [
    "config = {\n",
    "    \"architecture\": architecture,\n",
    "    \"model_name\": model_name,\n",
    "    \"version\": version,\n",
    "    \"dataset\": \"CBIS-DDSM-10\",\n",
    "    \"batch_size\": batch_size,\n",
    "    \"initial_epochs\": initial_epochs,\n",
    "    \"fine_tune_epochs\": fine_tune_epochs,\n",
    "    \"fine_tune_sessions\": fine_tune_sessions,\n",
    "    \"fine_tune_min_lr\": fine_tune_min_lr,\n",
    "    \"fine_tune_max_lr\": fine_tune_max_lr,\n",
    "    \"fine_tune_schedule\": fine_tune_thaw_schedule,\n",
    "    \"early_stop_min_delta\": es_min_delta,\n",
    "    \"early_stop_monitor\": es_monitor,\n",
    "    \"early_stop_patience\": es_patience,\n",
    "    \"early_stop_restore_best_weights\": es_restore_best_weights,\n",
    "    \"early_stop_verbose\": es_verbose,\n",
    "    \"rlr_monitor\": rlr_monitor,\n",
    "    \"rlr_factor\": rlr_factor,\n",
    "    \"rlr_patience\": rlr_patience,\n",
    "    \"rlr_verbose\": rlr_verbose,\n",
    "    \"rlr_mode\": rlr_mode,\n",
    "    \"rlr_min_delta\": rlr_min_delta,\n",
    "    \"rlr_min_lr\": rlr_min_lr\n",
    "    \n",
    "}"
   ]
  },
  {
   "cell_type": "code",
   "execution_count": 4,
   "metadata": {},
   "outputs": [
    {
     "name": "stdout",
     "output_type": "stream",
     "text": [
      "ERROR:wandb.jupyter:Failed to detect the name of this notebook, you can set it manually with the WANDB_NOTEBOOK_NAME environment variable to enable code saving.\n"
     ]
    },
    {
     "name": "stderr",
     "output_type": "stream",
     "text": [
      "\u001b[34m\u001b[1mwandb\u001b[0m: Currently logged in as: \u001b[33maistudio\u001b[0m. Use \u001b[1m`wandb login --relogin`\u001b[0m to force relogin\n"
     ]
    },
    {
     "data": {
      "text/html": [
       "Tracking run with wandb version 0.16.2"
      ],
      "text/plain": [
       "<IPython.core.display.HTML object>"
      ]
     },
     "metadata": {},
     "output_type": "display_data"
    },
    {
     "data": {
      "text/html": [
       "Run data is saved locally in <code>/home/john/projects/bcd/wandb/run-20240126_145856-b5lr3qs8</code>"
      ],
      "text/plain": [
       "<IPython.core.display.HTML object>"
      ]
     },
     "metadata": {},
     "output_type": "display_data"
    },
    {
     "data": {
      "text/html": [
       "Syncing run <strong><a href='https://wandb.ai/aistudio/breast_cancer_detection/runs/b5lr3qs8' target=\"_blank\">icy-eon-40</a></strong> to <a href='https://wandb.ai/aistudio/breast_cancer_detection' target=\"_blank\">Weights & Biases</a> (<a href='https://wandb.me/run' target=\"_blank\">docs</a>)<br/>"
      ],
      "text/plain": [
       "<IPython.core.display.HTML object>"
      ]
     },
     "metadata": {},
     "output_type": "display_data"
    },
    {
     "data": {
      "text/html": [
       " View project at <a href='https://wandb.ai/aistudio/breast_cancer_detection' target=\"_blank\">https://wandb.ai/aistudio/breast_cancer_detection</a>"
      ],
      "text/plain": [
       "<IPython.core.display.HTML object>"
      ]
     },
     "metadata": {},
     "output_type": "display_data"
    },
    {
     "data": {
      "text/html": [
       " View run at <a href='https://wandb.ai/aistudio/breast_cancer_detection/runs/b5lr3qs8' target=\"_blank\">https://wandb.ai/aistudio/breast_cancer_detection/runs/b5lr3qs8</a>"
      ],
      "text/plain": [
       "<IPython.core.display.HTML object>"
      ]
     },
     "metadata": {},
     "output_type": "display_data"
    }
   ],
   "source": [
    "run = wandb.init(project=project, config=config)"
   ]
  },
  {
   "cell_type": "markdown",
   "metadata": {},
   "source": [
    "## Load Data"
   ]
  },
  {
   "cell_type": "code",
   "execution_count": 5,
   "metadata": {},
   "outputs": [
    {
     "name": "stdout",
     "output_type": "stream",
     "text": [
      "Found 276 files belonging to 2 classes.\n",
      "Using 221 files for training.\n",
      "Found 276 files belonging to 2 classes.\n",
      "Using 55 files for validation.\n",
      "Found 649 files belonging to 2 classes.\n"
     ]
    }
   ],
   "source": [
    "# Training DataSet (10%)\n",
    "train_ds = tf.keras.utils.image_dataset_from_directory(\n",
    "    train_dir,\n",
    "    labels=\"inferred\",\n",
    "    color_mode=\"rgb\",\n",
    "    image_size=(224,224),\n",
    "    shuffle=True,\n",
    "    validation_split=0.2,\n",
    "    subset='training',\n",
    "    interpolation=\"bilinear\",\n",
    "    seed=123,\n",
    "    batch_size=batch_size)\n",
    "\n",
    "# Validation DataSet (10%)\n",
    "val_ds = tf.keras.utils.image_dataset_from_directory(\n",
    "    train_dir,\n",
    "    labels=\"inferred\",\n",
    "    color_mode=\"rgb\",\n",
    "    image_size=(224,224),\n",
    "    shuffle=True,\n",
    "    validation_split=0.2,\n",
    "    subset='validation',\n",
    "    interpolation=\"bilinear\",\n",
    "    seed=123,\n",
    "    batch_size=batch_size)\n",
    "\n",
    "# Test Set\n",
    "test_ds = tf.keras.utils.image_dataset_from_directory(\n",
    "    test_dir,\n",
    "    labels=\"inferred\",\n",
    "    color_mode=\"rgb\",\n",
    "    image_size=(224,224),\n",
    "    shuffle=True)"
   ]
  },
  {
   "cell_type": "markdown",
   "metadata": {},
   "source": [
    "## Dependencies\n",
    "Several dependencies will be used throughout this notebook, including:\n",
    "- Early Stop Callback\n",
    "- Reduce Learning Rate on Plateau Callback\n",
    "- Model Repository\n",
    "- ResNet Model Factory\n",
    "- Historian Callback\n",
    "\n",
    "We'll make those objects available here."
   ]
  },
  {
   "cell_type": "code",
   "execution_count": 6,
   "metadata": {},
   "outputs": [],
   "source": [
    "early_stop_callback = tf.keras.callbacks.EarlyStopping(monitor=es_monitor, \n",
    "                                                       min_delta=es_min_delta,\n",
    "                                                       patience=es_patience, \n",
    "                                                       restore_best_weights=es_restore_best_weights,\n",
    "                                                       verbose=es_verbose)\n",
    "\n",
    "reduce_lr_callback = tf.keras.callbacks.ReduceLROnPlateau(monitor=rlr_monitor,\n",
    "                                                          factor=rlr_factor,\n",
    "                                                          patience=rlr_patience,\n",
    "                                                          verbose=rlr_verbose,\n",
    "                                                          mode=rlr_mode,\n",
    "                                                          min_delta=rlr_min_delta,\n",
    "                                                          min_lr=rlr_min_lr)\n",
    "wandb_callback = wandb.keras.WandbMetricsLogger()\n",
    "\n",
    "repo = ExperimentRepo(location=mcp_location)\n",
    "\n",
    "factory = InceptionResNetFactory()\n",
    "\n",
    "historian = Historian(name=name)\n",
    "\n",
    "if fine_tune_thaw_schedule == \"linear\":\n",
    "    thaw_schedule = LinearThawSchedule(sessions=fine_tune_sessions, \n",
    "                                    base_model_layer=base_model_layer, \n",
    "                                    n_layers=len(factory.base_model.layers))\n",
    "    learning_rate_schedule = LinearLearningRateSchedule(sessions=fine_tune_sessions, initial_learning_rate=fine_tune_max_lr, final_learning_rate=fine_tune_min_lr)\n",
    "\n",
    "else:\n",
    "    thaw_schedule = LogThawSchedule(sessions=fine_tune_sessions, \n",
    "                                   base_model_layer=base_model_layer, \n",
    "                                   n_layers=len(factory.base_model.layers))\n",
    "\n",
    "\n",
    "\n",
    "    learning_rate_schedule = LogLearningRateSchedule(sessions=fine_tune_sessions, initial_learning_rate=fine_tune_max_lr, final_learning_rate=fine_tune_min_lr)\n"
   ]
  },
  {
   "cell_type": "raw",
   "metadata": {},
   "source": [
    "model = factory.create(input_shape=input_shape, \n",
    "                        output_shape=output_shape,\n",
    "                        activation=activation)\n",
    "model.summary()\n",
    "len(model.layers[4].layers)"
   ]
  },
  {
   "cell_type": "markdown",
   "metadata": {},
   "source": [
    "## Feature Extraction\n",
    "If the model already exists, obtain it from the repository. Otherwise, create the model and perform feature extraction."
   ]
  },
  {
   "cell_type": "code",
   "execution_count": 7,
   "metadata": {},
   "outputs": [
    {
     "name": "stdout",
     "output_type": "stream",
     "text": [
      "Model: \"model\"\n",
      "_________________________________________________________________\n",
      " Layer (type)                Output Shape              Param #   \n",
      "=================================================================\n",
      " input_layer (InputLayer)    [(None, 224, 224, 3)]     0         \n",
      "                                                                 \n",
      " tf.math.truediv (TFOpLambda  (None, 224, 224, 3)      0         \n",
      " )                                                               \n",
      "                                                                 \n",
      " tf.math.subtract (TFOpLambd  (None, 224, 224, 3)      0         \n",
      " a)                                                              \n",
      "                                                                 \n",
      " data_augmentation (Sequenti  (None, 224, 224, 3)      0         \n",
      " al)                                                             \n",
      "                                                                 \n",
      " inception_resnet_v2 (Functi  (None, None, None, 1536)  54336736 \n",
      " onal)                                                           \n",
      "                                                                 \n",
      " global_average_pooling_laye  (None, 1536)             0         \n",
      " r (GlobalAveragePooling2D)                                      \n",
      "                                                                 \n",
      " output_layer (Dense)        (None, 1)                 1537      \n",
      "                                                                 \n",
      "=================================================================\n",
      "Total params: 54,338,273\n",
      "Trainable params: 1,537\n",
      "Non-trainable params: 54,336,736\n",
      "_________________________________________________________________\n",
      "Epoch 1/100\n",
      "7/7 [==============================] - ETA: 0s - loss: 0.7508 - accuracy: 0.5158 - precision: 0.4453 - recall: 0.6630\n",
      "Epoch 1: val_loss improved from inf to 0.76739, saving model to models/inception_resnet_10_v1_log/feature_extraction/inception_resnet_10_v1_log_feature_extraction_01-val_loss_0.77.keras\n",
      "7/7 [==============================] - 57s 6s/step - loss: 0.7508 - accuracy: 0.5158 - precision: 0.4453 - recall: 0.6630 - val_loss: 0.7674 - val_accuracy: 0.4727 - val_precision: 0.3571 - val_recall: 0.8824 - lr: 1.0000e-05 - duration: 56.7277\n",
      "Epoch 2/100\n",
      "7/7 [==============================] - ETA: 0s - loss: 0.7333 - accuracy: 0.5385 - precision: 0.4632 - recall: 0.6848\n",
      "Epoch 2: val_loss improved from 0.76739 to 0.75416, saving model to models/inception_resnet_10_v1_log/feature_extraction/inception_resnet_10_v1_log_feature_extraction_02-val_loss_0.75.keras\n",
      "7/7 [==============================] - 37s 5s/step - loss: 0.7333 - accuracy: 0.5385 - precision: 0.4632 - recall: 0.6848 - val_loss: 0.7542 - val_accuracy: 0.5091 - val_precision: 0.3750 - val_recall: 0.8824 - lr: 1.0000e-05 - duration: 36.6834\n",
      "Epoch 3/100\n",
      "7/7 [==============================] - ETA: 0s - loss: 0.7506 - accuracy: 0.4751 - precision: 0.4048 - recall: 0.5543\n",
      "Epoch 3: val_loss improved from 0.75416 to 0.74123, saving model to models/inception_resnet_10_v1_log/feature_extraction/inception_resnet_10_v1_log_feature_extraction_03-val_loss_0.74.keras\n",
      "7/7 [==============================] - 37s 5s/step - loss: 0.7506 - accuracy: 0.4751 - precision: 0.4048 - recall: 0.5543 - val_loss: 0.7412 - val_accuracy: 0.5636 - val_precision: 0.4054 - val_recall: 0.8824 - lr: 1.0000e-05 - duration: 36.5190\n",
      "Epoch 4/100\n",
      "7/7 [==============================] - ETA: 0s - loss: 0.7167 - accuracy: 0.5113 - precision: 0.4344 - recall: 0.5761\n",
      "Epoch 4: val_loss improved from 0.74123 to 0.73178, saving model to models/inception_resnet_10_v1_log/feature_extraction/inception_resnet_10_v1_log_feature_extraction_04-val_loss_0.73.keras\n",
      "7/7 [==============================] - 38s 5s/step - loss: 0.7167 - accuracy: 0.5113 - precision: 0.4344 - recall: 0.5761 - val_loss: 0.7318 - val_accuracy: 0.5636 - val_precision: 0.4054 - val_recall: 0.8824 - lr: 1.0000e-05 - duration: 37.9092\n",
      "Epoch 5/100\n",
      "7/7 [==============================] - ETA: 0s - loss: 0.6904 - accuracy: 0.5566 - precision: 0.4746 - recall: 0.6087\n",
      "Epoch 5: val_loss improved from 0.73178 to 0.72147, saving model to models/inception_resnet_10_v1_log/feature_extraction/inception_resnet_10_v1_log_feature_extraction_05-val_loss_0.72.keras\n",
      "7/7 [==============================] - 34s 5s/step - loss: 0.6904 - accuracy: 0.5566 - precision: 0.4746 - recall: 0.6087 - val_loss: 0.7215 - val_accuracy: 0.6364 - val_precision: 0.4545 - val_recall: 0.8824 - lr: 1.0000e-05 - duration: 33.9061\n",
      "Epoch 6/100\n",
      "7/7 [==============================] - ETA: 0s - loss: 0.7478 - accuracy: 0.5385 - precision: 0.4545 - recall: 0.5435\n",
      "Epoch 6: val_loss improved from 0.72147 to 0.71065, saving model to models/inception_resnet_10_v1_log/feature_extraction/inception_resnet_10_v1_log_feature_extraction_06-val_loss_0.71.keras\n",
      "7/7 [==============================] - 35s 5s/step - loss: 0.7478 - accuracy: 0.5385 - precision: 0.4545 - recall: 0.5435 - val_loss: 0.7107 - val_accuracy: 0.6364 - val_precision: 0.4545 - val_recall: 0.8824 - lr: 1.0000e-05 - duration: 34.8670\n",
      "Epoch 7/100\n",
      "7/7 [==============================] - ETA: 0s - loss: 0.7445 - accuracy: 0.4570 - precision: 0.3772 - recall: 0.4674\n",
      "Epoch 7: val_loss improved from 0.71065 to 0.70140, saving model to models/inception_resnet_10_v1_log/feature_extraction/inception_resnet_10_v1_log_feature_extraction_07-val_loss_0.70.keras\n",
      "7/7 [==============================] - 38s 5s/step - loss: 0.7445 - accuracy: 0.4570 - precision: 0.3772 - recall: 0.4674 - val_loss: 0.7014 - val_accuracy: 0.6182 - val_precision: 0.4375 - val_recall: 0.8235 - lr: 1.0000e-05 - duration: 37.6238\n",
      "Epoch 8/100\n",
      "7/7 [==============================] - ETA: 0s - loss: 0.7135 - accuracy: 0.5339 - precision: 0.4466 - recall: 0.5000\n",
      "Epoch 8: val_loss improved from 0.70140 to 0.69415, saving model to models/inception_resnet_10_v1_log/feature_extraction/inception_resnet_10_v1_log_feature_extraction_08-val_loss_0.69.keras\n",
      "7/7 [==============================] - 36s 5s/step - loss: 0.7135 - accuracy: 0.5339 - precision: 0.4466 - recall: 0.5000 - val_loss: 0.6941 - val_accuracy: 0.6000 - val_precision: 0.4194 - val_recall: 0.7647 - lr: 1.0000e-05 - duration: 35.7979\n",
      "Epoch 9/100\n",
      "7/7 [==============================] - ETA: 0s - loss: 0.7165 - accuracy: 0.5113 - precision: 0.4245 - recall: 0.4891\n",
      "Epoch 9: val_loss improved from 0.69415 to 0.68839, saving model to models/inception_resnet_10_v1_log/feature_extraction/inception_resnet_10_v1_log_feature_extraction_09-val_loss_0.69.keras\n",
      "7/7 [==============================] - 36s 5s/step - loss: 0.7165 - accuracy: 0.5113 - precision: 0.4245 - recall: 0.4891 - val_loss: 0.6884 - val_accuracy: 0.6182 - val_precision: 0.4333 - val_recall: 0.7647 - lr: 1.0000e-05 - duration: 35.6951\n",
      "Epoch 10/100\n",
      "7/7 [==============================] - ETA: 0s - loss: 0.7646 - accuracy: 0.5113 - precision: 0.4111 - recall: 0.4022\n",
      "Epoch 10: val_loss improved from 0.68839 to 0.68215, saving model to models/inception_resnet_10_v1_log/feature_extraction/inception_resnet_10_v1_log_feature_extraction_10-val_loss_0.68.keras\n",
      "7/7 [==============================] - 33s 5s/step - loss: 0.7646 - accuracy: 0.5113 - precision: 0.4111 - recall: 0.4022 - val_loss: 0.6822 - val_accuracy: 0.6364 - val_precision: 0.4483 - val_recall: 0.7647 - lr: 1.0000e-05 - duration: 33.2899\n",
      "Epoch 11/100\n",
      "7/7 [==============================] - ETA: 0s - loss: 0.7263 - accuracy: 0.5204 - precision: 0.4239 - recall: 0.4239\n",
      "Epoch 11: val_loss improved from 0.68215 to 0.67642, saving model to models/inception_resnet_10_v1_log/feature_extraction/inception_resnet_10_v1_log_feature_extraction_11-val_loss_0.68.keras\n",
      "7/7 [==============================] - 36s 5s/step - loss: 0.7263 - accuracy: 0.5204 - precision: 0.4239 - recall: 0.4239 - val_loss: 0.6764 - val_accuracy: 0.6364 - val_precision: 0.4483 - val_recall: 0.7647 - lr: 1.0000e-05 - duration: 36.2165\n",
      "Epoch 12/100\n",
      "7/7 [==============================] - ETA: 0s - loss: 0.7395 - accuracy: 0.5339 - precision: 0.4421 - recall: 0.4565\n",
      "Epoch 12: val_loss improved from 0.67642 to 0.67272, saving model to models/inception_resnet_10_v1_log/feature_extraction/inception_resnet_10_v1_log_feature_extraction_12-val_loss_0.67.keras\n",
      "7/7 [==============================] - 37s 5s/step - loss: 0.7395 - accuracy: 0.5339 - precision: 0.4421 - recall: 0.4565 - val_loss: 0.6727 - val_accuracy: 0.6545 - val_precision: 0.4643 - val_recall: 0.7647 - lr: 1.0000e-05 - duration: 36.6550\n",
      "Epoch 13/100\n",
      "7/7 [==============================] - ETA: 0s - loss: 0.7117 - accuracy: 0.5747 - precision: 0.4865 - recall: 0.3913\n",
      "Epoch 13: val_loss improved from 0.67272 to 0.66835, saving model to models/inception_resnet_10_v1_log/feature_extraction/inception_resnet_10_v1_log_feature_extraction_13-val_loss_0.67.keras\n",
      "7/7 [==============================] - 32s 4s/step - loss: 0.7117 - accuracy: 0.5747 - precision: 0.4865 - recall: 0.3913 - val_loss: 0.6684 - val_accuracy: 0.6545 - val_precision: 0.4615 - val_recall: 0.7059 - lr: 1.0000e-05 - duration: 31.5403\n",
      "Epoch 14/100\n",
      "7/7 [==============================] - ETA: 0s - loss: 0.7445 - accuracy: 0.4932 - precision: 0.3750 - recall: 0.3261\n",
      "Epoch 14: val_loss improved from 0.66835 to 0.66518, saving model to models/inception_resnet_10_v1_log/feature_extraction/inception_resnet_10_v1_log_feature_extraction_14-val_loss_0.67.keras\n",
      "7/7 [==============================] - 36s 5s/step - loss: 0.7445 - accuracy: 0.4932 - precision: 0.3750 - recall: 0.3261 - val_loss: 0.6652 - val_accuracy: 0.6545 - val_precision: 0.4615 - val_recall: 0.7059 - lr: 1.0000e-05 - duration: 36.0610\n",
      "Epoch 15/100\n",
      "7/7 [==============================] - ETA: 0s - loss: 0.7731 - accuracy: 0.5430 - precision: 0.4471 - recall: 0.4130\n",
      "Epoch 15: val_loss improved from 0.66518 to 0.66267, saving model to models/inception_resnet_10_v1_log/feature_extraction/inception_resnet_10_v1_log_feature_extraction_15-val_loss_0.66.keras\n",
      "7/7 [==============================] - 34s 5s/step - loss: 0.7731 - accuracy: 0.5430 - precision: 0.4471 - recall: 0.4130 - val_loss: 0.6627 - val_accuracy: 0.6545 - val_precision: 0.4615 - val_recall: 0.7059 - lr: 1.0000e-05 - duration: 33.6176\n",
      "Epoch 16/100\n",
      "7/7 [==============================] - ETA: 0s - loss: 0.7389 - accuracy: 0.5113 - precision: 0.4048 - recall: 0.3696\n",
      "Epoch 16: val_loss improved from 0.66267 to 0.65962, saving model to models/inception_resnet_10_v1_log/feature_extraction/inception_resnet_10_v1_log_feature_extraction_16-val_loss_0.66.keras\n",
      "7/7 [==============================] - 38s 5s/step - loss: 0.7389 - accuracy: 0.5113 - precision: 0.4048 - recall: 0.3696 - val_loss: 0.6596 - val_accuracy: 0.6545 - val_precision: 0.4615 - val_recall: 0.7059 - lr: 1.0000e-05 - duration: 38.1617\n",
      "Epoch 17/100\n",
      "7/7 [==============================] - ETA: 0s - loss: 0.7165 - accuracy: 0.5566 - precision: 0.4595 - recall: 0.3696\n",
      "Epoch 17: val_loss improved from 0.65962 to 0.65830, saving model to models/inception_resnet_10_v1_log/feature_extraction/inception_resnet_10_v1_log_feature_extraction_17-val_loss_0.66.keras\n",
      "7/7 [==============================] - 38s 5s/step - loss: 0.7165 - accuracy: 0.5566 - precision: 0.4595 - recall: 0.3696 - val_loss: 0.6583 - val_accuracy: 0.6545 - val_precision: 0.4615 - val_recall: 0.7059 - lr: 1.0000e-05 - duration: 37.5888\n",
      "Epoch 18/100\n",
      "7/7 [==============================] - ETA: 0s - loss: 0.7159 - accuracy: 0.5566 - precision: 0.4625 - recall: 0.4022\n",
      "Epoch 18: val_loss improved from 0.65830 to 0.65750, saving model to models/inception_resnet_10_v1_log/feature_extraction/inception_resnet_10_v1_log_feature_extraction_18-val_loss_0.66.keras\n",
      "7/7 [==============================] - 36s 5s/step - loss: 0.7159 - accuracy: 0.5566 - precision: 0.4625 - recall: 0.4022 - val_loss: 0.6575 - val_accuracy: 0.6545 - val_precision: 0.4615 - val_recall: 0.7059 - lr: 1.0000e-05 - duration: 36.1814\n",
      "Epoch 19/100\n",
      "7/7 [==============================] - ETA: 0s - loss: 0.7629 - accuracy: 0.5294 - precision: 0.4302 - recall: 0.4022\n",
      "Epoch 19: val_loss improved from 0.65750 to 0.65600, saving model to models/inception_resnet_10_v1_log/feature_extraction/inception_resnet_10_v1_log_feature_extraction_19-val_loss_0.66.keras\n",
      "7/7 [==============================] - 35s 4s/step - loss: 0.7629 - accuracy: 0.5294 - precision: 0.4302 - recall: 0.4022 - val_loss: 0.6560 - val_accuracy: 0.6545 - val_precision: 0.4615 - val_recall: 0.7059 - lr: 1.0000e-05 - duration: 35.2748\n",
      "Epoch 20/100\n",
      "7/7 [==============================] - ETA: 0s - loss: 0.7483 - accuracy: 0.4796 - precision: 0.3708 - recall: 0.3587\n",
      "Epoch 20: val_loss did not improve from 0.65600\n",
      "7/7 [==============================] - 33s 5s/step - loss: 0.7483 - accuracy: 0.4796 - precision: 0.3708 - recall: 0.3587 - val_loss: 0.6562 - val_accuracy: 0.6545 - val_precision: 0.4615 - val_recall: 0.7059 - lr: 1.0000e-05 - duration: 33.4288\n",
      "Epoch 21/100\n",
      "7/7 [==============================] - ETA: 0s - loss: 0.6745 - accuracy: 0.5882 - precision: 0.5065 - recall: 0.4239\n",
      "Epoch 21: val_loss improved from 0.65600 to 0.65435, saving model to models/inception_resnet_10_v1_log/feature_extraction/inception_resnet_10_v1_log_feature_extraction_21-val_loss_0.65.keras\n",
      "7/7 [==============================] - 36s 5s/step - loss: 0.6745 - accuracy: 0.5882 - precision: 0.5065 - recall: 0.4239 - val_loss: 0.6543 - val_accuracy: 0.6364 - val_precision: 0.4400 - val_recall: 0.6471 - lr: 1.0000e-05 - duration: 36.0611\n",
      "Epoch 22/100\n",
      "7/7 [==============================] - ETA: 0s - loss: 0.7140 - accuracy: 0.5520 - precision: 0.4545 - recall: 0.3804\n",
      "Epoch 22: val_loss improved from 0.65435 to 0.65195, saving model to models/inception_resnet_10_v1_log/feature_extraction/inception_resnet_10_v1_log_feature_extraction_22-val_loss_0.65.keras\n",
      "7/7 [==============================] - 39s 5s/step - loss: 0.7140 - accuracy: 0.5520 - precision: 0.4545 - recall: 0.3804 - val_loss: 0.6519 - val_accuracy: 0.6182 - val_precision: 0.4167 - val_recall: 0.5882 - lr: 1.0000e-05 - duration: 39.3044\n",
      "Epoch 23/100\n",
      "7/7 [==============================] - ETA: 0s - loss: 0.7630 - accuracy: 0.4887 - precision: 0.3820 - recall: 0.3696\n",
      "Epoch 23: val_loss improved from 0.65195 to 0.65083, saving model to models/inception_resnet_10_v1_log/feature_extraction/inception_resnet_10_v1_log_feature_extraction_23-val_loss_0.65.keras\n",
      "7/7 [==============================] - 36s 5s/step - loss: 0.7630 - accuracy: 0.4887 - precision: 0.3820 - recall: 0.3696 - val_loss: 0.6508 - val_accuracy: 0.6182 - val_precision: 0.4167 - val_recall: 0.5882 - lr: 1.0000e-05 - duration: 35.9199\n",
      "Epoch 24/100\n",
      "7/7 [==============================] - ETA: 0s - loss: 0.7391 - accuracy: 0.5158 - precision: 0.4051 - recall: 0.3478\n",
      "Epoch 24: val_loss improved from 0.65083 to 0.64977, saving model to models/inception_resnet_10_v1_log/feature_extraction/inception_resnet_10_v1_log_feature_extraction_24-val_loss_0.65.keras\n",
      "7/7 [==============================] - 37s 5s/step - loss: 0.7391 - accuracy: 0.5158 - precision: 0.4051 - recall: 0.3478 - val_loss: 0.6498 - val_accuracy: 0.6182 - val_precision: 0.4167 - val_recall: 0.5882 - lr: 1.0000e-05 - duration: 37.3166\n",
      "Epoch 25/100\n",
      "7/7 [==============================] - ETA: 0s - loss: 0.7254 - accuracy: 0.5385 - precision: 0.4359 - recall: 0.3696\n",
      "Epoch 25: val_loss improved from 0.64977 to 0.64880, saving model to models/inception_resnet_10_v1_log/feature_extraction/inception_resnet_10_v1_log_feature_extraction_25-val_loss_0.65.keras\n",
      "7/7 [==============================] - 36s 5s/step - loss: 0.7254 - accuracy: 0.5385 - precision: 0.4359 - recall: 0.3696 - val_loss: 0.6488 - val_accuracy: 0.6182 - val_precision: 0.4167 - val_recall: 0.5882 - lr: 1.0000e-05 - duration: 36.4111\n",
      "Epoch 26/100\n",
      "7/7 [==============================] - ETA: 0s - loss: 0.7056 - accuracy: 0.5747 - precision: 0.4872 - recall: 0.4130\n",
      "Epoch 26: val_loss improved from 0.64880 to 0.64711, saving model to models/inception_resnet_10_v1_log/feature_extraction/inception_resnet_10_v1_log_feature_extraction_26-val_loss_0.65.keras\n",
      "7/7 [==============================] - 37s 5s/step - loss: 0.7056 - accuracy: 0.5747 - precision: 0.4872 - recall: 0.4130 - val_loss: 0.6471 - val_accuracy: 0.6182 - val_precision: 0.4167 - val_recall: 0.5882 - lr: 1.0000e-05 - duration: 36.6645\n",
      "Epoch 27/100\n",
      "7/7 [==============================] - ETA: 0s - loss: 0.7034 - accuracy: 0.5656 - precision: 0.4722 - recall: 0.3696\n",
      "Epoch 27: val_loss improved from 0.64711 to 0.64633, saving model to models/inception_resnet_10_v1_log/feature_extraction/inception_resnet_10_v1_log_feature_extraction_27-val_loss_0.65.keras\n",
      "7/7 [==============================] - 35s 5s/step - loss: 0.7034 - accuracy: 0.5656 - precision: 0.4722 - recall: 0.3696 - val_loss: 0.6463 - val_accuracy: 0.6182 - val_precision: 0.4167 - val_recall: 0.5882 - lr: 1.0000e-05 - duration: 34.8028\n",
      "Epoch 28/100\n",
      "7/7 [==============================] - ETA: 0s - loss: 0.7052 - accuracy: 0.5701 - precision: 0.4789 - recall: 0.3696\n",
      "Epoch 28: val_loss improved from 0.64633 to 0.64483, saving model to models/inception_resnet_10_v1_log/feature_extraction/inception_resnet_10_v1_log_feature_extraction_28-val_loss_0.64.keras\n",
      "7/7 [==============================] - 34s 5s/step - loss: 0.7052 - accuracy: 0.5701 - precision: 0.4789 - recall: 0.3696 - val_loss: 0.6448 - val_accuracy: 0.6182 - val_precision: 0.4167 - val_recall: 0.5882 - lr: 1.0000e-05 - duration: 34.4222\n",
      "Epoch 29/100\n",
      "7/7 [==============================] - ETA: 0s - loss: 0.7388 - accuracy: 0.5294 - precision: 0.4091 - recall: 0.2935\n",
      "Epoch 29: val_loss did not improve from 0.64483\n",
      "7/7 [==============================] - 31s 4s/step - loss: 0.7388 - accuracy: 0.5294 - precision: 0.4091 - recall: 0.2935 - val_loss: 0.6451 - val_accuracy: 0.6182 - val_precision: 0.4167 - val_recall: 0.5882 - lr: 1.0000e-05 - duration: 31.1587\n",
      "Epoch 30/100\n",
      "7/7 [==============================] - ETA: 0s - loss: 0.7458 - accuracy: 0.5294 - precision: 0.4167 - recall: 0.3261\n",
      "Epoch 30: val_loss improved from 0.64483 to 0.64455, saving model to models/inception_resnet_10_v1_log/feature_extraction/inception_resnet_10_v1_log_feature_extraction_30-val_loss_0.64.keras\n",
      "7/7 [==============================] - 35s 5s/step - loss: 0.7458 - accuracy: 0.5294 - precision: 0.4167 - recall: 0.3261 - val_loss: 0.6445 - val_accuracy: 0.6182 - val_precision: 0.4167 - val_recall: 0.5882 - lr: 1.0000e-05 - duration: 35.1915\n",
      "Epoch 31/100\n",
      "7/7 [==============================] - ETA: 0s - loss: 0.7035 - accuracy: 0.5430 - precision: 0.4328 - recall: 0.3152\n",
      "Epoch 31: val_loss improved from 0.64455 to 0.64365, saving model to models/inception_resnet_10_v1_log/feature_extraction/inception_resnet_10_v1_log_feature_extraction_31-val_loss_0.64.keras\n",
      "7/7 [==============================] - 37s 5s/step - loss: 0.7035 - accuracy: 0.5430 - precision: 0.4328 - recall: 0.3152 - val_loss: 0.6436 - val_accuracy: 0.6182 - val_precision: 0.4167 - val_recall: 0.5882 - lr: 1.0000e-05 - duration: 36.5297\n",
      "Epoch 32/100\n",
      "7/7 [==============================] - ETA: 0s - loss: 0.6793 - accuracy: 0.5837 - precision: 0.5000 - recall: 0.3478\n",
      "Epoch 32: val_loss did not improve from 0.64365\n",
      "7/7 [==============================] - 35s 4s/step - loss: 0.6793 - accuracy: 0.5837 - precision: 0.5000 - recall: 0.3478 - val_loss: 0.6445 - val_accuracy: 0.6182 - val_precision: 0.4167 - val_recall: 0.5882 - lr: 1.0000e-05 - duration: 34.6681\n",
      "Epoch 33/100\n",
      "7/7 [==============================] - ETA: 0s - loss: 0.6919 - accuracy: 0.5792 - precision: 0.4925 - recall: 0.3587\n",
      "Epoch 33: val_loss did not improve from 0.64365\n",
      "7/7 [==============================] - 34s 5s/step - loss: 0.6919 - accuracy: 0.5792 - precision: 0.4925 - recall: 0.3587 - val_loss: 0.6447 - val_accuracy: 0.6182 - val_precision: 0.4167 - val_recall: 0.5882 - lr: 1.0000e-05 - duration: 34.4620\n",
      "Epoch 34/100\n",
      "7/7 [==============================] - ETA: 0s - loss: 0.6792 - accuracy: 0.5928 - precision: 0.5147 - recall: 0.3804\n",
      "Epoch 34: val_loss did not improve from 0.64365\n",
      "\n",
      "Epoch 34: ReduceLROnPlateau reducing learning rate to 4.999999873689376e-06.\n",
      "7/7 [==============================] - 33s 4s/step - loss: 0.6792 - accuracy: 0.5928 - precision: 0.5147 - recall: 0.3804 - val_loss: 0.6446 - val_accuracy: 0.6182 - val_precision: 0.4167 - val_recall: 0.5882 - lr: 1.0000e-05 - duration: 33.1897\n",
      "Epoch 35/100\n",
      "7/7 [==============================] - ETA: 0s - loss: 0.7046 - accuracy: 0.5430 - precision: 0.4444 - recall: 0.3913\n",
      "Epoch 35: val_loss did not improve from 0.64365\n",
      "7/7 [==============================] - 36s 5s/step - loss: 0.7046 - accuracy: 0.5430 - precision: 0.4444 - recall: 0.3913 - val_loss: 0.6444 - val_accuracy: 0.6182 - val_precision: 0.4167 - val_recall: 0.5882 - lr: 5.0000e-06 - duration: 35.6874\n",
      "Epoch 36/100\n",
      "7/7 [==============================] - ETA: 0s - loss: 0.6873 - accuracy: 0.6063 - precision: 0.5333 - recall: 0.4348\n",
      "Epoch 36: val_loss did not improve from 0.64365\n",
      "7/7 [==============================] - 34s 5s/step - loss: 0.6873 - accuracy: 0.6063 - precision: 0.5333 - recall: 0.4348 - val_loss: 0.6437 - val_accuracy: 0.6182 - val_precision: 0.4167 - val_recall: 0.5882 - lr: 5.0000e-06 - duration: 34.4262\n",
      "Epoch 37/100\n",
      "7/7 [==============================] - ETA: 0s - loss: 0.6882 - accuracy: 0.5973 - precision: 0.5195 - recall: 0.4348\n",
      "Epoch 37: val_loss improved from 0.64365 to 0.64329, saving model to models/inception_resnet_10_v1_log/feature_extraction/inception_resnet_10_v1_log_feature_extraction_37-val_loss_0.64.keras\n",
      "7/7 [==============================] - 34s 4s/step - loss: 0.6882 - accuracy: 0.5973 - precision: 0.5195 - recall: 0.4348 - val_loss: 0.6433 - val_accuracy: 0.6182 - val_precision: 0.4167 - val_recall: 0.5882 - lr: 5.0000e-06 - duration: 33.5037\n",
      "Epoch 38/100\n",
      "7/7 [==============================] - ETA: 0s - loss: 0.7147 - accuracy: 0.5475 - precision: 0.4524 - recall: 0.4130\n",
      "Epoch 38: val_loss improved from 0.64329 to 0.64258, saving model to models/inception_resnet_10_v1_log/feature_extraction/inception_resnet_10_v1_log_feature_extraction_38-val_loss_0.64.keras\n",
      "7/7 [==============================] - 38s 5s/step - loss: 0.7147 - accuracy: 0.5475 - precision: 0.4524 - recall: 0.4130 - val_loss: 0.6426 - val_accuracy: 0.6182 - val_precision: 0.4167 - val_recall: 0.5882 - lr: 5.0000e-06 - duration: 37.7033\n",
      "Epoch 39/100\n",
      "7/7 [==============================] - ETA: 0s - loss: 0.7318 - accuracy: 0.5520 - precision: 0.4557 - recall: 0.3913\n",
      "Epoch 39: val_loss improved from 0.64258 to 0.64198, saving model to models/inception_resnet_10_v1_log/feature_extraction/inception_resnet_10_v1_log_feature_extraction_39-val_loss_0.64.keras\n",
      "7/7 [==============================] - 34s 5s/step - loss: 0.7318 - accuracy: 0.5520 - precision: 0.4557 - recall: 0.3913 - val_loss: 0.6420 - val_accuracy: 0.6182 - val_precision: 0.4167 - val_recall: 0.5882 - lr: 5.0000e-06 - duration: 34.4624\n",
      "Epoch 40/100\n",
      "7/7 [==============================] - ETA: 0s - loss: 0.7171 - accuracy: 0.5475 - precision: 0.4459 - recall: 0.3587\n",
      "Epoch 40: val_loss improved from 0.64198 to 0.64145, saving model to models/inception_resnet_10_v1_log/feature_extraction/inception_resnet_10_v1_log_feature_extraction_40-val_loss_0.64.keras\n",
      "7/7 [==============================] - 37s 5s/step - loss: 0.7171 - accuracy: 0.5475 - precision: 0.4459 - recall: 0.3587 - val_loss: 0.6414 - val_accuracy: 0.6182 - val_precision: 0.4167 - val_recall: 0.5882 - lr: 5.0000e-06 - duration: 36.9677\n",
      "Epoch 41/100\n",
      "7/7 [==============================] - ETA: 0s - loss: 0.7013 - accuracy: 0.5475 - precision: 0.4412 - recall: 0.3261\n",
      "Epoch 41: val_loss improved from 0.64145 to 0.64084, saving model to models/inception_resnet_10_v1_log/feature_extraction/inception_resnet_10_v1_log_feature_extraction_41-val_loss_0.64.keras\n",
      "7/7 [==============================] - 36s 5s/step - loss: 0.7013 - accuracy: 0.5475 - precision: 0.4412 - recall: 0.3261 - val_loss: 0.6408 - val_accuracy: 0.6182 - val_precision: 0.4167 - val_recall: 0.5882 - lr: 5.0000e-06 - duration: 36.1388\n",
      "Epoch 42/100\n",
      "7/7 [==============================] - ETA: 0s - loss: 0.7175 - accuracy: 0.5792 - precision: 0.4941 - recall: 0.4565\n",
      "Epoch 42: val_loss improved from 0.64084 to 0.64045, saving model to models/inception_resnet_10_v1_log/feature_extraction/inception_resnet_10_v1_log_feature_extraction_42-val_loss_0.64.keras\n",
      "7/7 [==============================] - 38s 5s/step - loss: 0.7175 - accuracy: 0.5792 - precision: 0.4941 - recall: 0.4565 - val_loss: 0.6404 - val_accuracy: 0.6182 - val_precision: 0.4167 - val_recall: 0.5882 - lr: 5.0000e-06 - duration: 38.0264\n",
      "Epoch 43/100\n",
      "7/7 [==============================] - ETA: 0s - loss: 0.6988 - accuracy: 0.5339 - precision: 0.4225 - recall: 0.3261\n",
      "Epoch 43: val_loss improved from 0.64045 to 0.63982, saving model to models/inception_resnet_10_v1_log/feature_extraction/inception_resnet_10_v1_log_feature_extraction_43-val_loss_0.64.keras\n",
      "7/7 [==============================] - 38s 5s/step - loss: 0.6988 - accuracy: 0.5339 - precision: 0.4225 - recall: 0.3261 - val_loss: 0.6398 - val_accuracy: 0.6182 - val_precision: 0.4167 - val_recall: 0.5882 - lr: 5.0000e-06 - duration: 37.9639\n",
      "Epoch 44/100\n",
      "7/7 [==============================] - ETA: 0s - loss: 0.7263 - accuracy: 0.5701 - precision: 0.4769 - recall: 0.3370\n",
      "Epoch 44: val_loss improved from 0.63982 to 0.63971, saving model to models/inception_resnet_10_v1_log/feature_extraction/inception_resnet_10_v1_log_feature_extraction_44-val_loss_0.64.keras\n",
      "7/7 [==============================] - 35s 5s/step - loss: 0.7263 - accuracy: 0.5701 - precision: 0.4769 - recall: 0.3370 - val_loss: 0.6397 - val_accuracy: 0.6182 - val_precision: 0.4167 - val_recall: 0.5882 - lr: 5.0000e-06 - duration: 34.8584\n",
      "Epoch 45/100\n",
      "7/7 [==============================] - ETA: 0s - loss: 0.7042 - accuracy: 0.5611 - precision: 0.4561 - recall: 0.2826\n",
      "Epoch 45: val_loss did not improve from 0.63971\n",
      "7/7 [==============================] - 35s 4s/step - loss: 0.7042 - accuracy: 0.5611 - precision: 0.4561 - recall: 0.2826 - val_loss: 0.6398 - val_accuracy: 0.6182 - val_precision: 0.4167 - val_recall: 0.5882 - lr: 5.0000e-06 - duration: 34.8257\n",
      "Epoch 46/100\n",
      "7/7 [==============================] - ETA: 0s - loss: 0.7064 - accuracy: 0.5656 - precision: 0.4714 - recall: 0.3587\n",
      "Epoch 46: val_loss did not improve from 0.63971\n",
      "7/7 [==============================] - 34s 5s/step - loss: 0.7064 - accuracy: 0.5656 - precision: 0.4714 - recall: 0.3587 - val_loss: 0.6402 - val_accuracy: 0.6182 - val_precision: 0.4167 - val_recall: 0.5882 - lr: 5.0000e-06 - duration: 34.3487\n",
      "Epoch 47/100\n",
      "7/7 [==============================] - ETA: 0s - loss: 0.7173 - accuracy: 0.5430 - precision: 0.4348 - recall: 0.3261\n",
      "Epoch 47: val_loss did not improve from 0.63971\n",
      "\n",
      "Epoch 47: ReduceLROnPlateau reducing learning rate to 2.499999936844688e-06.\n",
      "7/7 [==============================] - 33s 4s/step - loss: 0.7173 - accuracy: 0.5430 - precision: 0.4348 - recall: 0.3261 - val_loss: 0.6405 - val_accuracy: 0.6182 - val_precision: 0.4167 - val_recall: 0.5882 - lr: 5.0000e-06 - duration: 32.6994\n",
      "Epoch 48/100\n",
      "7/7 [==============================] - ETA: 0s - loss: 0.7434 - accuracy: 0.4977 - precision: 0.3662 - recall: 0.2826\n",
      "Epoch 48: val_loss did not improve from 0.63971\n",
      "7/7 [==============================] - 35s 5s/step - loss: 0.7434 - accuracy: 0.4977 - precision: 0.3662 - recall: 0.2826 - val_loss: 0.6407 - val_accuracy: 0.6182 - val_precision: 0.4167 - val_recall: 0.5882 - lr: 2.5000e-06 - duration: 34.8820\n",
      "Epoch 49/100\n",
      "7/7 [==============================] - ETA: 0s - loss: 0.7391 - accuracy: 0.5294 - precision: 0.4167 - recall: 0.3261\n",
      "Epoch 49: val_loss did not improve from 0.63971\n",
      "7/7 [==============================] - 31s 4s/step - loss: 0.7391 - accuracy: 0.5294 - precision: 0.4167 - recall: 0.3261 - val_loss: 0.6406 - val_accuracy: 0.6182 - val_precision: 0.4167 - val_recall: 0.5882 - lr: 2.5000e-06 - duration: 31.4677\n",
      "Epoch 50/100\n",
      "7/7 [==============================] - ETA: 0s - loss: 0.7310 - accuracy: 0.5294 - precision: 0.4118 - recall: 0.3043\n",
      "Epoch 50: val_loss did not improve from 0.63971\n",
      "\n",
      "Epoch 50: ReduceLROnPlateau reducing learning rate to 1.249999968422344e-06.\n",
      "7/7 [==============================] - 32s 4s/step - loss: 0.7310 - accuracy: 0.5294 - precision: 0.4118 - recall: 0.3043 - val_loss: 0.6406 - val_accuracy: 0.6182 - val_precision: 0.4167 - val_recall: 0.5882 - lr: 2.5000e-06 - duration: 31.7647\n",
      "Epoch 51/100\n",
      "7/7 [==============================] - ETA: 0s - loss: 0.6967 - accuracy: 0.5701 - precision: 0.4805 - recall: 0.4022\n",
      "Epoch 51: val_loss did not improve from 0.63971\n",
      "7/7 [==============================] - 36s 5s/step - loss: 0.6967 - accuracy: 0.5701 - precision: 0.4805 - recall: 0.4022 - val_loss: 0.6404 - val_accuracy: 0.6182 - val_precision: 0.4167 - val_recall: 0.5882 - lr: 1.2500e-06 - duration: 35.8538\n",
      "Epoch 52/100\n",
      "7/7 [==============================] - ETA: 0s - loss: 0.7021 - accuracy: 0.5882 - precision: 0.5077 - recall: 0.3587\n",
      "Epoch 52: val_loss did not improve from 0.63971\n",
      "Restoring model weights from the end of the best epoch: 44.\n",
      "7/7 [==============================] - 33s 4s/step - loss: 0.7021 - accuracy: 0.5882 - precision: 0.5077 - recall: 0.3587 - val_loss: 0.6406 - val_accuracy: 0.6182 - val_precision: 0.4167 - val_recall: 0.5882 - lr: 1.2500e-06 - duration: 33.4228\n",
      "Epoch 52: early stopping\n"
     ]
    },
    {
     "name": "stderr",
     "output_type": "stream",
     "text": [
      "2024-01-26 15:31:09.756785: W tensorflow/python/util/util.cc:368] Sets are not currently considered sequences, but this may change in the future, so consider avoiding using them.\n"
     ]
    },
    {
     "name": "stdout",
     "output_type": "stream",
     "text": [
      "INFO:tensorflow:Assets written to: ram://a49e5084-3a60-49c9-a31f-e5b35b159d9d/assets\n",
      "INFO:tensorflow:Assets written to: ram://a49e5084-3a60-49c9-a31f-e5b35b159d9d/assets\n"
     ]
    },
    {
     "data": {
      "text/plain": [
       "ArtifactManifestEntry(path='inception_resnet_10_v1_log_feature_extraction_44-val_loss_0.64.keras', digest='Z6f7CxcQUzioCAgD5Vcdvg==', size=218620472, local_path='/home/john/.local/share/wandb/artifacts/staging/tmpzhm4svq9')"
      ]
     },
     "execution_count": 7,
     "metadata": {},
     "output_type": "execute_result"
    },
    {
     "data": {
      "text/plain": [
       "<Artifact inception_resnet_10_v1_log-feature_extraction-b5lr3qs8>"
      ]
     },
     "execution_count": 7,
     "metadata": {},
     "output_type": "execute_result"
    },
    {
     "name": "stderr",
     "output_type": "stream",
     "text": [
      "\u001b[34m\u001b[1mwandb\u001b[0m: Waiting for artifact inception_resnet_10_v1_log-feature_extraction-b5lr3qs8 to be committed...\n"
     ]
    },
    {
     "data": {
      "application/vnd.jupyter.widget-view+json": {
       "model_id": "f67679193e764e9abb3b805580af8de3",
       "version_major": 2,
       "version_minor": 0
      },
      "text/plain": [
       "VBox(children=(Label(value='0.003 MB of 208.496 MB uploaded\\r'), FloatProgress(value=1.6768505223334488e-05, m…"
      ]
     },
     "metadata": {},
     "output_type": "display_data"
    },
    {
     "name": "stderr",
     "output_type": "stream",
     "text": [
      "\n",
      "\u001b[34m\u001b[1mwandb\u001b[0m: Committed artifact aistudio/breast_cancer_detection/inception_resnet_10_v1_log-feature_extraction-b5lr3qs8:v0\n"
     ]
    }
   ],
   "source": [
    "stage = \"feature_extraction\"\n",
    "if force or not repo.exists(name=name, stage=stage):\n",
    "    model = factory.create(input_shape=input_shape, \n",
    "                            output_shape=output_shape,\n",
    "                            activation=activation)\n",
    "    # Create the optimizer\n",
    "    optimizer=tf.keras.optimizers.Adam(learning_rate=fe_learning_rate)\n",
    "\n",
    "    # Compile the Model\n",
    "    model.compile(\n",
    "        loss=loss,\n",
    "        optimizer=optimizer,\n",
    "        metrics=metrics,        \n",
    "    )\n",
    "\n",
    "    # Delete existing checkpoints\n",
    "    repo.remove(name=name, stage=stage)\n",
    "    # Summarize the model\n",
    "    model.summary()\n",
    "    # Obtain a checkpoint callback from the model repository \n",
    "    checkpoint_callback = repo.create_callback(name=name, stage=stage)\n",
    "    # Set the session on the historian to 0 for feature extraction\n",
    "    historian.on_session_begin(session=0)\n",
    "    # Fit the model with callbacks\n",
    "    history = model.fit(train_ds, \n",
    "                        validation_data=val_ds, \n",
    "                        epochs=initial_epochs, \n",
    "                        callbacks=[checkpoint_callback, \n",
    "                                   reduce_lr_callback,\n",
    "                                   early_stop_callback, \n",
    "                                   wandb_callback,                                   \n",
    "                                   historian])        \n",
    "    # Register the model on wandb\n",
    "    filepath = repo.get_filepath(name=name, stage=stage)    \n",
    "    artifact = wandb.Artifact(f\"{name}-{stage}-{run.id}\", type=\"model\")\n",
    "    artifact.add_file(filepath)\n",
    "    wandb.log_artifact(artifact, aliases=[stage, \"best\"])\n",
    "    wandb.run.link_artifact(artifact, \"aistudio/breast_cancer_detection/InceptionResnet\")\n",
    "else:\n",
    "    # Obtain the model from the repository\n",
    "    model = repo.get(name=name, stage=stage)\n",
    "    # Obtain the historian\n",
    "    historian = historian.load(historian_filepath)    \n",
    "    # Summarize the model\n",
    "    model.summary()"
   ]
  },
  {
   "cell_type": "markdown",
   "metadata": {},
   "source": [
    "## Fine Tuning"
   ]
  },
  {
   "cell_type": "code",
   "execution_count": 8,
   "metadata": {},
   "outputs": [
    {
     "name": "stdout",
     "output_type": "stream",
     "text": [
      "\n",
      "\n",
      "INFO:LogThawSchedule:Thawed 2 layers of the base model.\n",
      "\n",
      "\n",
      "INFO:LogLearningRateSchedule:Set learning rate to 1e-05\n",
      "Model: \"model\"\n",
      "_________________________________________________________________\n",
      " Layer (type)                Output Shape              Param #   \n",
      "=================================================================\n",
      " input_layer (InputLayer)    [(None, 224, 224, 3)]     0         \n",
      "                                                                 \n",
      " tf.math.truediv (TFOpLambda  (None, 224, 224, 3)      0         \n",
      " )                                                               \n",
      "                                                                 \n",
      " tf.math.subtract (TFOpLambd  (None, 224, 224, 3)      0         \n",
      " a)                                                              \n",
      "                                                                 \n",
      " data_augmentation (Sequenti  (None, 224, 224, 3)      0         \n",
      " al)                                                             \n",
      "                                                                 \n",
      " inception_resnet_v2 (Functi  (None, None, None, 1536)  54336736 \n",
      " onal)                                                           \n",
      "                                                                 \n",
      " global_average_pooling_laye  (None, 1536)             0         \n",
      " r (GlobalAveragePooling2D)                                      \n",
      "                                                                 \n",
      " output_layer (Dense)        (None, 1)                 1537      \n",
      "                                                                 \n",
      "=================================================================\n",
      "Total params: 54,338,273\n",
      "Trainable params: 3,073\n",
      "Non-trainable params: 54,335,200\n",
      "_________________________________________________________________\n",
      "Epoch 53/62\n",
      "7/7 [==============================] - ETA: 0s - loss: 0.7053 - accuracy: 0.5566 - precision: 0.4490 - recall: 0.4037\n",
      "Epoch 53: val_loss improved from inf to 0.64032, saving model to models/inception_resnet_10_v1_log/fine_tuning_session_1/inception_resnet_10_v1_log_fine_tuning_session_1_53-val_loss_0.64.keras\n",
      "7/7 [==============================] - 58s 6s/step - loss: 0.7053 - accuracy: 0.5566 - precision: 0.4490 - recall: 0.4037 - val_loss: 0.6403 - val_accuracy: 0.6182 - val_precision: 0.4167 - val_recall: 0.5882 - lr: 1.0000e-05 - duration: 56.2557\n",
      "Epoch 54/62\n",
      "7/7 [==============================] - ETA: 0s - loss: 0.7232 - accuracy: 0.5023 - precision: 0.3846 - recall: 0.3261\n",
      "Epoch 54: val_loss improved from 0.64032 to 0.63982, saving model to models/inception_resnet_10_v1_log/fine_tuning_session_1/inception_resnet_10_v1_log_fine_tuning_session_1_54-val_loss_0.64.keras\n",
      "7/7 [==============================] - 39s 5s/step - loss: 0.7232 - accuracy: 0.5023 - precision: 0.3846 - recall: 0.3261 - val_loss: 0.6398 - val_accuracy: 0.6182 - val_precision: 0.4167 - val_recall: 0.5882 - lr: 1.0000e-05 - duration: 36.8682\n",
      "Epoch 55/62\n",
      "7/7 [==============================] - ETA: 0s - loss: 0.6794 - accuracy: 0.5928 - precision: 0.5152 - recall: 0.3696\n",
      "Epoch 55: val_loss improved from 0.63982 to 0.63964, saving model to models/inception_resnet_10_v1_log/fine_tuning_session_1/inception_resnet_10_v1_log_fine_tuning_session_1_55-val_loss_0.64.keras\n",
      "7/7 [==============================] - 35s 5s/step - loss: 0.6794 - accuracy: 0.5928 - precision: 0.5152 - recall: 0.3696 - val_loss: 0.6396 - val_accuracy: 0.6182 - val_precision: 0.4167 - val_recall: 0.5882 - lr: 1.0000e-05 - duration: 33.4485\n",
      "Epoch 56/62\n",
      "7/7 [==============================] - ETA: 0s - loss: 0.7210 - accuracy: 0.5339 - precision: 0.4247 - recall: 0.3370\n",
      "Epoch 56: val_loss improved from 0.63964 to 0.63944, saving model to models/inception_resnet_10_v1_log/fine_tuning_session_1/inception_resnet_10_v1_log_fine_tuning_session_1_56-val_loss_0.64.keras\n",
      "7/7 [==============================] - 36s 5s/step - loss: 0.7210 - accuracy: 0.5339 - precision: 0.4247 - recall: 0.3370 - val_loss: 0.6394 - val_accuracy: 0.6182 - val_precision: 0.4167 - val_recall: 0.5882 - lr: 1.0000e-05 - duration: 34.0525\n",
      "Epoch 57/62\n",
      "7/7 [==============================] - ETA: 0s - loss: 0.7072 - accuracy: 0.5882 - precision: 0.5067 - recall: 0.4130\n",
      "Epoch 57: val_loss did not improve from 0.63944\n",
      "7/7 [==============================] - 35s 5s/step - loss: 0.7072 - accuracy: 0.5882 - precision: 0.5067 - recall: 0.4130 - val_loss: 0.6397 - val_accuracy: 0.6182 - val_precision: 0.4167 - val_recall: 0.5882 - lr: 1.0000e-05 - duration: 35.1114\n",
      "Epoch 58/62\n",
      "7/7 [==============================] - ETA: 0s - loss: 0.7218 - accuracy: 0.5475 - precision: 0.4412 - recall: 0.3261\n",
      "Epoch 58: val_loss did not improve from 0.63944\n",
      "7/7 [==============================] - 32s 4s/step - loss: 0.7218 - accuracy: 0.5475 - precision: 0.4412 - recall: 0.3261 - val_loss: 0.6401 - val_accuracy: 0.6182 - val_precision: 0.4167 - val_recall: 0.5882 - lr: 1.0000e-05 - duration: 32.3148\n",
      "Epoch 59/62\n",
      "7/7 [==============================] - ETA: 0s - loss: 0.7312 - accuracy: 0.5339 - precision: 0.4203 - recall: 0.3152\n",
      "Epoch 59: ReduceLROnPlateau reducing learning rate to 5e-06.\n",
      "\n",
      "Epoch 59: val_loss did not improve from 0.63944\n",
      "7/7 [==============================] - 31s 4s/step - loss: 0.7312 - accuracy: 0.5339 - precision: 0.4203 - recall: 0.3152 - val_loss: 0.6399 - val_accuracy: 0.6182 - val_precision: 0.4167 - val_recall: 0.5882 - lr: 1.0000e-05 - duration: 31.0730\n",
      "Epoch 60/62\n",
      "7/7 [==============================] - ETA: 0s - loss: 0.7111 - accuracy: 0.5792 - precision: 0.4930 - recall: 0.3804\n",
      "Epoch 60: val_loss did not improve from 0.63944\n",
      "7/7 [==============================] - 32s 4s/step - loss: 0.7111 - accuracy: 0.5792 - precision: 0.4930 - recall: 0.3804 - val_loss: 0.6400 - val_accuracy: 0.6182 - val_precision: 0.4167 - val_recall: 0.5882 - lr: 5.0000e-06 - duration: 32.1252\n",
      "Epoch 61/62\n",
      "7/7 [==============================] - ETA: 0s - loss: 0.6657 - accuracy: 0.6154 - precision: 0.5493 - recall: 0.4239\n",
      "Epoch 61: val_loss did not improve from 0.63944\n",
      "7/7 [==============================] - 35s 5s/step - loss: 0.6657 - accuracy: 0.6154 - precision: 0.5493 - recall: 0.4239 - val_loss: 0.6401 - val_accuracy: 0.6182 - val_precision: 0.4167 - val_recall: 0.5882 - lr: 5.0000e-06 - duration: 34.5678\n",
      "Epoch 62/62\n",
      "7/7 [==============================] - ETA: 0s - loss: 0.6918 - accuracy: 0.5611 - precision: 0.4603 - recall: 0.3152\n",
      "Epoch 62: ReduceLROnPlateau reducing learning rate to 2.5e-06.\n",
      "\n",
      "Epoch 62: val_loss did not improve from 0.63944\n",
      "7/7 [==============================] - 34s 4s/step - loss: 0.6918 - accuracy: 0.5611 - precision: 0.4603 - recall: 0.3152 - val_loss: 0.6404 - val_accuracy: 0.6182 - val_precision: 0.4167 - val_recall: 0.5882 - lr: 5.0000e-06 - duration: 33.5390\n",
      "INFO:tensorflow:Assets written to: ram://d8089939-10b8-4d2b-bef4-8b819fb6674c/assets\n",
      "INFO:tensorflow:Assets written to: ram://d8089939-10b8-4d2b-bef4-8b819fb6674c/assets\n"
     ]
    },
    {
     "name": "stderr",
     "output_type": "stream",
     "text": [
      "\u001b[34m\u001b[1mwandb\u001b[0m: Waiting for artifact inception_resnet_10_v1_log-fine_tuning_session_1-b5lr3qs8 to be committed...\n",
      "\n",
      "\u001b[34m\u001b[1mwandb\u001b[0m: Committed artifact aistudio/breast_cancer_detection/inception_resnet_10_v1_log-fine_tuning_session_1-b5lr3qs8:v0\n"
     ]
    },
    {
     "name": "stdout",
     "output_type": "stream",
     "text": [
      "\n",
      "\n",
      "INFO:LogThawSchedule:Thawed 8 layers of the base model.\n",
      "\n",
      "\n",
      "INFO:LogLearningRateSchedule:Set learning rate to 1.778279410038923e-06\n",
      "Model: \"model\"\n",
      "_________________________________________________________________\n",
      " Layer (type)                Output Shape              Param #   \n",
      "=================================================================\n",
      " input_layer (InputLayer)    [(None, 224, 224, 3)]     0         \n",
      "                                                                 \n",
      " tf.math.truediv (TFOpLambda  (None, 224, 224, 3)      0         \n",
      " )                                                               \n",
      "                                                                 \n",
      " tf.math.subtract (TFOpLambd  (None, 224, 224, 3)      0         \n",
      " a)                                                              \n",
      "                                                                 \n",
      " data_augmentation (Sequenti  (None, 224, 224, 3)      0         \n",
      " al)                                                             \n",
      "                                                                 \n",
      " inception_resnet_v2 (Functi  (None, None, None, 1536)  54336736 \n",
      " onal)                                                           \n",
      "                                                                 \n",
      " global_average_pooling_laye  (None, 1536)             0         \n",
      " r (GlobalAveragePooling2D)                                      \n",
      "                                                                 \n",
      " output_layer (Dense)        (None, 1)                 1537      \n",
      "                                                                 \n",
      "=================================================================\n",
      "Total params: 54,338,273\n",
      "Trainable params: 4,131,873\n",
      "Non-trainable params: 50,206,400\n",
      "_________________________________________________________________\n",
      "Epoch 63/72\n",
      "7/7 [==============================] - ETA: 0s - loss: 0.7251 - accuracy: 0.5068 - precision: 0.3960 - recall: 0.3670\n",
      "Epoch 63: val_loss improved from inf to 0.64544, saving model to models/inception_resnet_10_v1_log/fine_tuning_session_2/inception_resnet_10_v1_log_fine_tuning_session_2_63-val_loss_0.65.keras\n",
      "7/7 [==============================] - 58s 6s/step - loss: 0.7251 - accuracy: 0.5068 - precision: 0.3960 - recall: 0.3670 - val_loss: 0.6454 - val_accuracy: 0.6182 - val_precision: 0.4167 - val_recall: 0.5882 - lr: 1.7783e-06 - duration: 55.9617\n",
      "Epoch 64/72\n",
      "7/7 [==============================] - ETA: 0s - loss: 0.7224 - accuracy: 0.5068 - precision: 0.3924 - recall: 0.3370\n",
      "Epoch 64: val_loss improved from 0.64544 to 0.63484, saving model to models/inception_resnet_10_v1_log/fine_tuning_session_2/inception_resnet_10_v1_log_fine_tuning_session_2_64-val_loss_0.63.keras\n",
      "7/7 [==============================] - 39s 5s/step - loss: 0.7224 - accuracy: 0.5068 - precision: 0.3924 - recall: 0.3370 - val_loss: 0.6348 - val_accuracy: 0.6182 - val_precision: 0.4167 - val_recall: 0.5882 - lr: 1.7783e-06 - duration: 37.7939\n",
      "Epoch 65/72\n",
      "7/7 [==============================] - ETA: 0s - loss: 0.7158 - accuracy: 0.5339 - precision: 0.4225 - recall: 0.3261\n",
      "Epoch 65: val_loss improved from 0.63484 to 0.63061, saving model to models/inception_resnet_10_v1_log/fine_tuning_session_2/inception_resnet_10_v1_log_fine_tuning_session_2_65-val_loss_0.63.keras\n",
      "7/7 [==============================] - 38s 5s/step - loss: 0.7158 - accuracy: 0.5339 - precision: 0.4225 - recall: 0.3261 - val_loss: 0.6306 - val_accuracy: 0.6182 - val_precision: 0.4167 - val_recall: 0.5882 - lr: 1.7783e-06 - duration: 36.5534\n",
      "Epoch 66/72\n",
      "7/7 [==============================] - ETA: 0s - loss: 0.7320 - accuracy: 0.4977 - precision: 0.3766 - recall: 0.3152\n",
      "Epoch 66: val_loss did not improve from 0.63061\n",
      "7/7 [==============================] - 34s 5s/step - loss: 0.7320 - accuracy: 0.4977 - precision: 0.3766 - recall: 0.3152 - val_loss: 0.6307 - val_accuracy: 0.6182 - val_precision: 0.4167 - val_recall: 0.5882 - lr: 1.7783e-06 - duration: 34.3573\n",
      "Epoch 67/72\n",
      "7/7 [==============================] - ETA: 0s - loss: 0.6748 - accuracy: 0.5928 - precision: 0.5143 - recall: 0.3913\n",
      "Epoch 67: val_loss improved from 0.63061 to 0.62962, saving model to models/inception_resnet_10_v1_log/fine_tuning_session_2/inception_resnet_10_v1_log_fine_tuning_session_2_67-val_loss_0.63.keras\n",
      "7/7 [==============================] - 37s 5s/step - loss: 0.6748 - accuracy: 0.5928 - precision: 0.5143 - recall: 0.3913 - val_loss: 0.6296 - val_accuracy: 0.6182 - val_precision: 0.4167 - val_recall: 0.5882 - lr: 1.7783e-06 - duration: 35.2991\n",
      "Epoch 68/72\n",
      "7/7 [==============================] - ETA: 0s - loss: 0.7080 - accuracy: 0.5430 - precision: 0.4328 - recall: 0.3152\n",
      "Epoch 68: val_loss improved from 0.62962 to 0.62593, saving model to models/inception_resnet_10_v1_log/fine_tuning_session_2/inception_resnet_10_v1_log_fine_tuning_session_2_68-val_loss_0.63.keras\n",
      "7/7 [==============================] - 40s 5s/step - loss: 0.7080 - accuracy: 0.5430 - precision: 0.4328 - recall: 0.3152 - val_loss: 0.6259 - val_accuracy: 0.6182 - val_precision: 0.4167 - val_recall: 0.5882 - lr: 1.7783e-06 - duration: 38.0203\n",
      "Epoch 69/72\n",
      "7/7 [==============================] - ETA: 0s - loss: 0.7194 - accuracy: 0.5430 - precision: 0.4308 - recall: 0.3043\n",
      "Epoch 69: val_loss did not improve from 0.62593\n",
      "7/7 [==============================] - 32s 4s/step - loss: 0.7194 - accuracy: 0.5430 - precision: 0.4308 - recall: 0.3043 - val_loss: 0.6268 - val_accuracy: 0.6182 - val_precision: 0.4167 - val_recall: 0.5882 - lr: 1.7783e-06 - duration: 32.3205\n",
      "Epoch 70/72\n",
      "7/7 [==============================] - ETA: 0s - loss: 0.6887 - accuracy: 0.6063 - precision: 0.5352 - recall: 0.4130\n",
      "Epoch 70: val_loss did not improve from 0.62593\n",
      "7/7 [==============================] - 34s 5s/step - loss: 0.6887 - accuracy: 0.6063 - precision: 0.5352 - recall: 0.4130 - val_loss: 0.6319 - val_accuracy: 0.6182 - val_precision: 0.4167 - val_recall: 0.5882 - lr: 1.7783e-06 - duration: 33.6453\n",
      "Epoch 71/72\n",
      "7/7 [==============================] - ETA: 0s - loss: 0.6914 - accuracy: 0.5701 - precision: 0.4762 - recall: 0.3261\n",
      "Epoch 71: ReduceLROnPlateau reducing learning rate to 8.891397050194615e-07.\n",
      "\n",
      "Epoch 71: val_loss did not improve from 0.62593\n",
      "7/7 [==============================] - 35s 4s/step - loss: 0.6914 - accuracy: 0.5701 - precision: 0.4762 - recall: 0.3261 - val_loss: 0.6320 - val_accuracy: 0.6000 - val_precision: 0.4000 - val_recall: 0.5882 - lr: 1.7783e-06 - duration: 34.6441\n",
      "Epoch 72/72\n",
      "7/7 [==============================] - ETA: 0s - loss: 0.6810 - accuracy: 0.5249 - precision: 0.4085 - recall: 0.3152\n",
      "Epoch 72: val_loss did not improve from 0.62593\n",
      "7/7 [==============================] - 36s 5s/step - loss: 0.6810 - accuracy: 0.5249 - precision: 0.4085 - recall: 0.3152 - val_loss: 0.6346 - val_accuracy: 0.6000 - val_precision: 0.4000 - val_recall: 0.5882 - lr: 8.8914e-07 - duration: 35.5397\n",
      "INFO:tensorflow:Assets written to: ram://e36c66aa-e5b7-4526-96d9-cd30053c0f4b/assets\n",
      "INFO:tensorflow:Assets written to: ram://e36c66aa-e5b7-4526-96d9-cd30053c0f4b/assets\n"
     ]
    },
    {
     "name": "stderr",
     "output_type": "stream",
     "text": [
      "\u001b[34m\u001b[1mwandb\u001b[0m: Waiting for artifact inception_resnet_10_v1_log-fine_tuning_session_2-b5lr3qs8 to be committed...\n",
      "\n",
      "\u001b[34m\u001b[1mwandb\u001b[0m: Committed artifact aistudio/breast_cancer_detection/inception_resnet_10_v1_log-fine_tuning_session_2-b5lr3qs8:v0\n"
     ]
    },
    {
     "name": "stdout",
     "output_type": "stream",
     "text": [
      "\n",
      "\n",
      "INFO:LogThawSchedule:Thawed 39 layers of the base model.\n",
      "\n",
      "\n",
      "INFO:LogLearningRateSchedule:Set learning rate to 3.162277660168379e-07\n",
      "Model: \"model\"\n",
      "_________________________________________________________________\n",
      " Layer (type)                Output Shape              Param #   \n",
      "=================================================================\n",
      " input_layer (InputLayer)    [(None, 224, 224, 3)]     0         \n",
      "                                                                 \n",
      " tf.math.truediv (TFOpLambda  (None, 224, 224, 3)      0         \n",
      " )                                                               \n",
      "                                                                 \n",
      " tf.math.subtract (TFOpLambd  (None, 224, 224, 3)      0         \n",
      " a)                                                              \n",
      "                                                                 \n",
      " data_augmentation (Sequenti  (None, 224, 224, 3)      0         \n",
      " al)                                                             \n",
      "                                                                 \n",
      " inception_resnet_v2 (Functi  (None, None, None, 1536)  54336736 \n",
      " onal)                                                           \n",
      "                                                                 \n",
      " global_average_pooling_laye  (None, 1536)             0         \n",
      " r (GlobalAveragePooling2D)                                      \n",
      "                                                                 \n",
      " output_layer (Dense)        (None, 1)                 1537      \n",
      "                                                                 \n",
      "=================================================================\n",
      "Total params: 54,338,273\n",
      "Trainable params: 8,200,993\n",
      "Non-trainable params: 46,137,280\n",
      "_________________________________________________________________\n",
      "Epoch 73/82\n",
      "7/7 [==============================] - ETA: 0s - loss: 0.6918 - accuracy: 0.5792 - precision: 0.4700 - recall: 0.4312\n",
      "Epoch 73: val_loss improved from inf to 0.63396, saving model to models/inception_resnet_10_v1_log/fine_tuning_session_3/inception_resnet_10_v1_log_fine_tuning_session_3_73-val_loss_0.63.keras\n",
      "7/7 [==============================] - 65s 6s/step - loss: 0.6918 - accuracy: 0.5792 - precision: 0.4700 - recall: 0.4312 - val_loss: 0.6340 - val_accuracy: 0.6000 - val_precision: 0.4000 - val_recall: 0.5882 - lr: 3.1623e-07 - duration: 63.4066\n",
      "Epoch 74/82\n",
      "7/7 [==============================] - ETA: 0s - loss: 0.6951 - accuracy: 0.5701 - precision: 0.4805 - recall: 0.4022\n",
      "Epoch 74: val_loss improved from 0.63396 to 0.63202, saving model to models/inception_resnet_10_v1_log/fine_tuning_session_3/inception_resnet_10_v1_log_fine_tuning_session_3_74-val_loss_0.63.keras\n",
      "7/7 [==============================] - 42s 5s/step - loss: 0.6951 - accuracy: 0.5701 - precision: 0.4805 - recall: 0.4022 - val_loss: 0.6320 - val_accuracy: 0.6000 - val_precision: 0.4000 - val_recall: 0.5882 - lr: 3.1623e-07 - duration: 40.2671\n",
      "Epoch 75/82\n",
      "7/7 [==============================] - ETA: 0s - loss: 0.6844 - accuracy: 0.5882 - precision: 0.5075 - recall: 0.3696\n",
      "Epoch 75: val_loss improved from 0.63202 to 0.63151, saving model to models/inception_resnet_10_v1_log/fine_tuning_session_3/inception_resnet_10_v1_log_fine_tuning_session_3_75-val_loss_0.63.keras\n",
      "7/7 [==============================] - 38s 5s/step - loss: 0.6844 - accuracy: 0.5882 - precision: 0.5075 - recall: 0.3696 - val_loss: 0.6315 - val_accuracy: 0.6000 - val_precision: 0.4000 - val_recall: 0.5882 - lr: 3.1623e-07 - duration: 35.8793\n",
      "Epoch 76/82\n",
      "7/7 [==============================] - ETA: 0s - loss: 0.6600 - accuracy: 0.6154 - precision: 0.5538 - recall: 0.3913\n",
      "Epoch 76: val_loss improved from 0.63151 to 0.63142, saving model to models/inception_resnet_10_v1_log/fine_tuning_session_3/inception_resnet_10_v1_log_fine_tuning_session_3_76-val_loss_0.63.keras\n",
      "7/7 [==============================] - 35s 5s/step - loss: 0.6600 - accuracy: 0.6154 - precision: 0.5538 - recall: 0.3913 - val_loss: 0.6314 - val_accuracy: 0.6000 - val_precision: 0.4000 - val_recall: 0.5882 - lr: 3.1623e-07 - duration: 33.1653\n",
      "Epoch 77/82\n",
      "7/7 [==============================] - ETA: 0s - loss: 0.6729 - accuracy: 0.5837 - precision: 0.5000 - recall: 0.3587\n",
      "Epoch 77: val_loss did not improve from 0.63142\n",
      "7/7 [==============================] - 38s 5s/step - loss: 0.6729 - accuracy: 0.5837 - precision: 0.5000 - recall: 0.3587 - val_loss: 0.6315 - val_accuracy: 0.6000 - val_precision: 0.4000 - val_recall: 0.5882 - lr: 3.1623e-07 - duration: 37.9371\n",
      "Epoch 78/82\n",
      "7/7 [==============================] - ETA: 0s - loss: 0.6704 - accuracy: 0.5928 - precision: 0.5156 - recall: 0.3587\n",
      "Epoch 78: ReduceLROnPlateau reducing learning rate to 1.5811388300841896e-07.\n",
      "\n",
      "Epoch 78: val_loss did not improve from 0.63142\n",
      "7/7 [==============================] - 35s 5s/step - loss: 0.6704 - accuracy: 0.5928 - precision: 0.5156 - recall: 0.3587 - val_loss: 0.6317 - val_accuracy: 0.6000 - val_precision: 0.4000 - val_recall: 0.5882 - lr: 3.1623e-07 - duration: 35.0527\n",
      "Epoch 79/82\n",
      "7/7 [==============================] - ETA: 0s - loss: 0.6878 - accuracy: 0.5747 - precision: 0.4872 - recall: 0.4130\n",
      "Epoch 79: val_loss did not improve from 0.63142\n",
      "7/7 [==============================] - 33s 4s/step - loss: 0.6878 - accuracy: 0.5747 - precision: 0.4872 - recall: 0.4130 - val_loss: 0.6315 - val_accuracy: 0.6000 - val_precision: 0.4000 - val_recall: 0.5882 - lr: 1.5811e-07 - duration: 33.4316\n",
      "Epoch 80/82\n",
      "7/7 [==============================] - ETA: 0s - loss: 0.6703 - accuracy: 0.6109 - precision: 0.5405 - recall: 0.4348\n",
      "Epoch 80: val_loss improved from 0.63142 to 0.63088, saving model to models/inception_resnet_10_v1_log/fine_tuning_session_3/inception_resnet_10_v1_log_fine_tuning_session_3_80-val_loss_0.63.keras\n",
      "7/7 [==============================] - 37s 5s/step - loss: 0.6703 - accuracy: 0.6109 - precision: 0.5405 - recall: 0.4348 - val_loss: 0.6309 - val_accuracy: 0.6000 - val_precision: 0.4000 - val_recall: 0.5882 - lr: 1.5811e-07 - duration: 35.1962\n",
      "Epoch 81/82\n",
      "7/7 [==============================] - ETA: 0s - loss: 0.6911 - accuracy: 0.5701 - precision: 0.4776 - recall: 0.3478\n",
      "Epoch 81: val_loss improved from 0.63088 to 0.63023, saving model to models/inception_resnet_10_v1_log/fine_tuning_session_3/inception_resnet_10_v1_log_fine_tuning_session_3_81-val_loss_0.63.keras\n",
      "7/7 [==============================] - 40s 6s/step - loss: 0.6911 - accuracy: 0.5701 - precision: 0.4776 - recall: 0.3478 - val_loss: 0.6302 - val_accuracy: 0.5818 - val_precision: 0.3750 - val_recall: 0.5294 - lr: 1.5811e-07 - duration: 38.6420\n",
      "Epoch 82/82\n",
      "7/7 [==============================] - ETA: 0s - loss: 0.7023 - accuracy: 0.5656 - precision: 0.4677 - recall: 0.3152\n",
      "Epoch 82: val_loss did not improve from 0.63023\n",
      "7/7 [==============================] - 34s 5s/step - loss: 0.7023 - accuracy: 0.5656 - precision: 0.4677 - recall: 0.3152 - val_loss: 0.6303 - val_accuracy: 0.5818 - val_precision: 0.3750 - val_recall: 0.5294 - lr: 1.5811e-07 - duration: 34.3133\n",
      "INFO:tensorflow:Assets written to: ram://39eafd4e-4337-41ee-a3b7-7366390e2c7f/assets\n",
      "INFO:tensorflow:Assets written to: ram://39eafd4e-4337-41ee-a3b7-7366390e2c7f/assets\n"
     ]
    },
    {
     "name": "stderr",
     "output_type": "stream",
     "text": [
      "\u001b[34m\u001b[1mwandb\u001b[0m: Waiting for artifact inception_resnet_10_v1_log-fine_tuning_session_3-b5lr3qs8 to be committed...\n",
      "\n",
      "\u001b[34m\u001b[1mwandb\u001b[0m: Committed artifact aistudio/breast_cancer_detection/inception_resnet_10_v1_log-fine_tuning_session_3-b5lr3qs8:v0\n"
     ]
    },
    {
     "name": "stdout",
     "output_type": "stream",
     "text": [
      "\n",
      "\n",
      "INFO:LogThawSchedule:Thawed 175 layers of the base model.\n",
      "\n",
      "\n",
      "INFO:LogLearningRateSchedule:Set learning rate to 5.6234132519034905e-08\n",
      "Model: \"model\"\n",
      "_________________________________________________________________\n",
      " Layer (type)                Output Shape              Param #   \n",
      "=================================================================\n",
      " input_layer (InputLayer)    [(None, 224, 224, 3)]     0         \n",
      "                                                                 \n",
      " tf.math.truediv (TFOpLambda  (None, 224, 224, 3)      0         \n",
      " )                                                               \n",
      "                                                                 \n",
      " tf.math.subtract (TFOpLambd  (None, 224, 224, 3)      0         \n",
      " a)                                                              \n",
      "                                                                 \n",
      " data_augmentation (Sequenti  (None, 224, 224, 3)      0         \n",
      " al)                                                             \n",
      "                                                                 \n",
      " inception_resnet_v2 (Functi  (None, None, None, 1536)  54336736 \n",
      " onal)                                                           \n",
      "                                                                 \n",
      " global_average_pooling_laye  (None, 1536)             0         \n",
      " r (GlobalAveragePooling2D)                                      \n",
      "                                                                 \n",
      " output_layer (Dense)        (None, 1)                 1537      \n",
      "                                                                 \n",
      "=================================================================\n",
      "Total params: 54,338,273\n",
      "Trainable params: 25,922,273\n",
      "Non-trainable params: 28,416,000\n",
      "_________________________________________________________________\n",
      "Epoch 83/92\n",
      "7/7 [==============================] - ETA: 0s - loss: 0.6719 - accuracy: 0.5701 - precision: 0.4494 - recall: 0.3670\n",
      "Epoch 83: val_loss improved from inf to 0.62993, saving model to models/inception_resnet_10_v1_log/fine_tuning_session_4/inception_resnet_10_v1_log_fine_tuning_session_4_83-val_loss_0.63.keras\n",
      "7/7 [==============================] - 63s 6s/step - loss: 0.6719 - accuracy: 0.5701 - precision: 0.4494 - recall: 0.3670 - val_loss: 0.6299 - val_accuracy: 0.5818 - val_precision: 0.3750 - val_recall: 0.5294 - lr: 5.6234e-08 - duration: 61.0134\n",
      "Epoch 84/92\n",
      "7/7 [==============================] - ETA: 0s - loss: 0.6570 - accuracy: 0.6063 - precision: 0.5362 - recall: 0.4022\n",
      "Epoch 84: val_loss improved from 0.62993 to 0.62974, saving model to models/inception_resnet_10_v1_log/fine_tuning_session_4/inception_resnet_10_v1_log_fine_tuning_session_4_84-val_loss_0.63.keras\n",
      "7/7 [==============================] - 42s 6s/step - loss: 0.6570 - accuracy: 0.6063 - precision: 0.5362 - recall: 0.4022 - val_loss: 0.6297 - val_accuracy: 0.5818 - val_precision: 0.3750 - val_recall: 0.5294 - lr: 5.6234e-08 - duration: 40.0760\n",
      "Epoch 85/92\n",
      "7/7 [==============================] - ETA: 0s - loss: 0.6935 - accuracy: 0.5475 - precision: 0.4375 - recall: 0.3043\n",
      "Epoch 85: val_loss improved from 0.62974 to 0.62962, saving model to models/inception_resnet_10_v1_log/fine_tuning_session_4/inception_resnet_10_v1_log_fine_tuning_session_4_85-val_loss_0.63.keras\n",
      "7/7 [==============================] - 42s 6s/step - loss: 0.6935 - accuracy: 0.5475 - precision: 0.4375 - recall: 0.3043 - val_loss: 0.6296 - val_accuracy: 0.5818 - val_precision: 0.3750 - val_recall: 0.5294 - lr: 5.6234e-08 - duration: 39.6712\n",
      "Epoch 86/92\n",
      "7/7 [==============================] - ETA: 0s - loss: 0.7084 - accuracy: 0.5520 - precision: 0.4444 - recall: 0.3043\n",
      "Epoch 86: val_loss improved from 0.62962 to 0.62954, saving model to models/inception_resnet_10_v1_log/fine_tuning_session_4/inception_resnet_10_v1_log_fine_tuning_session_4_86-val_loss_0.63.keras\n",
      "7/7 [==============================] - 43s 6s/step - loss: 0.7084 - accuracy: 0.5520 - precision: 0.4444 - recall: 0.3043 - val_loss: 0.6295 - val_accuracy: 0.5818 - val_precision: 0.3750 - val_recall: 0.5294 - lr: 5.6234e-08 - duration: 40.8518\n",
      "Epoch 87/92\n",
      "7/7 [==============================] - ETA: 0s - loss: 0.6634 - accuracy: 0.5928 - precision: 0.5152 - recall: 0.3696\n",
      "Epoch 87: val_loss improved from 0.62954 to 0.62937, saving model to models/inception_resnet_10_v1_log/fine_tuning_session_4/inception_resnet_10_v1_log_fine_tuning_session_4_87-val_loss_0.63.keras\n",
      "7/7 [==============================] - 40s 6s/step - loss: 0.6634 - accuracy: 0.5928 - precision: 0.5152 - recall: 0.3696 - val_loss: 0.6294 - val_accuracy: 0.5818 - val_precision: 0.3750 - val_recall: 0.5294 - lr: 5.6234e-08 - duration: 38.1955\n",
      "Epoch 88/92\n",
      "7/7 [==============================] - ETA: 0s - loss: 0.7020 - accuracy: 0.5566 - precision: 0.4516 - recall: 0.3043\n",
      "Epoch 88: val_loss did not improve from 0.62937\n",
      "7/7 [==============================] - 36s 5s/step - loss: 0.7020 - accuracy: 0.5566 - precision: 0.4516 - recall: 0.3043 - val_loss: 0.6294 - val_accuracy: 0.5818 - val_precision: 0.3750 - val_recall: 0.5294 - lr: 5.6234e-08 - duration: 35.6155\n",
      "Epoch 89/92\n",
      "7/7 [==============================] - ETA: 0s - loss: 0.6727 - accuracy: 0.6109 - precision: 0.5429 - recall: 0.4130\n",
      "Epoch 89: val_loss improved from 0.62937 to 0.62930, saving model to models/inception_resnet_10_v1_log/fine_tuning_session_4/inception_resnet_10_v1_log_fine_tuning_session_4_89-val_loss_0.63.keras\n",
      "7/7 [==============================] - 48s 7s/step - loss: 0.6727 - accuracy: 0.6109 - precision: 0.5429 - recall: 0.4130 - val_loss: 0.6293 - val_accuracy: 0.5818 - val_precision: 0.3750 - val_recall: 0.5294 - lr: 5.6234e-08 - duration: 41.4952\n",
      "Epoch 90/92\n",
      "7/7 [==============================] - ETA: 0s - loss: 0.6794 - accuracy: 0.5928 - precision: 0.5116 - recall: 0.4783\n",
      "Epoch 90: val_loss improved from 0.62930 to 0.62902, saving model to models/inception_resnet_10_v1_log/fine_tuning_session_4/inception_resnet_10_v1_log_fine_tuning_session_4_90-val_loss_0.63.keras\n",
      "7/7 [==============================] - 42s 6s/step - loss: 0.6794 - accuracy: 0.5928 - precision: 0.5116 - recall: 0.4783 - val_loss: 0.6290 - val_accuracy: 0.5818 - val_precision: 0.3750 - val_recall: 0.5294 - lr: 5.6234e-08 - duration: 40.3643\n",
      "Epoch 91/92\n",
      "7/7 [==============================] - ETA: 0s - loss: 0.6717 - accuracy: 0.5882 - precision: 0.5072 - recall: 0.3804\n",
      "Epoch 91: val_loss improved from 0.62902 to 0.62875, saving model to models/inception_resnet_10_v1_log/fine_tuning_session_4/inception_resnet_10_v1_log_fine_tuning_session_4_91-val_loss_0.63.keras\n",
      "7/7 [==============================] - 42s 5s/step - loss: 0.6717 - accuracy: 0.5882 - precision: 0.5072 - recall: 0.3804 - val_loss: 0.6287 - val_accuracy: 0.5818 - val_precision: 0.3750 - val_recall: 0.5294 - lr: 5.6234e-08 - duration: 39.5859\n",
      "Epoch 92/92\n",
      "7/7 [==============================] - ETA: 0s - loss: 0.7078 - accuracy: 0.5611 - precision: 0.4667 - recall: 0.3804\n",
      "Epoch 92: val_loss improved from 0.62875 to 0.62850, saving model to models/inception_resnet_10_v1_log/fine_tuning_session_4/inception_resnet_10_v1_log_fine_tuning_session_4_92-val_loss_0.63.keras\n",
      "7/7 [==============================] - 44s 6s/step - loss: 0.7078 - accuracy: 0.5611 - precision: 0.4667 - recall: 0.3804 - val_loss: 0.6285 - val_accuracy: 0.5818 - val_precision: 0.3750 - val_recall: 0.5294 - lr: 5.6234e-08 - duration: 41.8536\n",
      "INFO:tensorflow:Assets written to: ram://40956c6f-0557-4d22-9e00-66fb0ee8459b/assets\n",
      "INFO:tensorflow:Assets written to: ram://40956c6f-0557-4d22-9e00-66fb0ee8459b/assets\n"
     ]
    },
    {
     "name": "stderr",
     "output_type": "stream",
     "text": [
      "\u001b[34m\u001b[1mwandb\u001b[0m: Waiting for artifact inception_resnet_10_v1_log-fine_tuning_session_4-b5lr3qs8 to be committed...\n",
      "\n",
      "\u001b[34m\u001b[1mwandb\u001b[0m: Committed artifact aistudio/breast_cancer_detection/inception_resnet_10_v1_log-fine_tuning_session_4-b5lr3qs8:v0\n"
     ]
    },
    {
     "name": "stdout",
     "output_type": "stream",
     "text": [
      "\n",
      "\n",
      "INFO:LogThawSchedule:Thawed 780 layers of the base model.\n",
      "\n",
      "\n",
      "INFO:LogLearningRateSchedule:Set learning rate to 1e-08\n",
      "Model: \"model\"\n",
      "_________________________________________________________________\n",
      " Layer (type)                Output Shape              Param #   \n",
      "=================================================================\n",
      " input_layer (InputLayer)    [(None, 224, 224, 3)]     0         \n",
      "                                                                 \n",
      " tf.math.truediv (TFOpLambda  (None, 224, 224, 3)      0         \n",
      " )                                                               \n",
      "                                                                 \n",
      " tf.math.subtract (TFOpLambd  (None, 224, 224, 3)      0         \n",
      " a)                                                              \n",
      "                                                                 \n",
      " data_augmentation (Sequenti  (None, 224, 224, 3)      0         \n",
      " al)                                                             \n",
      "                                                                 \n",
      " inception_resnet_v2 (Functi  (None, None, None, 1536)  54336736 \n",
      " onal)                                                           \n",
      "                                                                 \n",
      " global_average_pooling_laye  (None, 1536)             0         \n",
      " r (GlobalAveragePooling2D)                                      \n",
      "                                                                 \n",
      " output_layer (Dense)        (None, 1)                 1537      \n",
      "                                                                 \n",
      "=================================================================\n",
      "Total params: 54,338,273\n",
      "Trainable params: 54,277,729\n",
      "Non-trainable params: 60,544\n",
      "_________________________________________________________________\n",
      "Epoch 93/102\n",
      "7/7 [==============================] - ETA: 0s - loss: 0.6637 - accuracy: 0.5973 - precision: 0.4845 - recall: 0.4312 \n",
      "Epoch 93: val_loss improved from inf to 0.62826, saving model to models/inception_resnet_10_v1_log/fine_tuning_session_5/inception_resnet_10_v1_log_fine_tuning_session_5_93-val_loss_0.63.keras\n",
      "7/7 [==============================] - 146s 18s/step - loss: 0.6637 - accuracy: 0.5973 - precision: 0.4845 - recall: 0.4312 - val_loss: 0.6283 - val_accuracy: 0.5818 - val_precision: 0.3750 - val_recall: 0.5294 - lr: 1.0000e-08 - duration: 142.8466\n",
      "Epoch 94/102\n",
      "7/7 [==============================] - ETA: 0s - loss: 0.6694 - accuracy: 0.5701 - precision: 0.4762 - recall: 0.3261 \n",
      "Epoch 94: val_loss improved from 0.62826 to 0.62815, saving model to models/inception_resnet_10_v1_log/fine_tuning_session_5/inception_resnet_10_v1_log_fine_tuning_session_5_94-val_loss_0.63.keras\n",
      "7/7 [==============================] - 119s 17s/step - loss: 0.6694 - accuracy: 0.5701 - precision: 0.4762 - recall: 0.3261 - val_loss: 0.6282 - val_accuracy: 0.5818 - val_precision: 0.3750 - val_recall: 0.5294 - lr: 1.0000e-08 - duration: 116.1129\n",
      "Epoch 95/102\n",
      "7/7 [==============================] - ETA: 0s - loss: 0.7074 - accuracy: 0.5701 - precision: 0.4783 - recall: 0.3587 \n",
      "Epoch 95: val_loss improved from 0.62815 to 0.62810, saving model to models/inception_resnet_10_v1_log/fine_tuning_session_5/inception_resnet_10_v1_log_fine_tuning_session_5_95-val_loss_0.63.keras\n",
      "7/7 [==============================] - 100s 13s/step - loss: 0.7074 - accuracy: 0.5701 - precision: 0.4783 - recall: 0.3587 - val_loss: 0.6281 - val_accuracy: 0.5818 - val_precision: 0.3750 - val_recall: 0.5294 - lr: 1.0000e-08 - duration: 96.6433\n",
      "Epoch 96/102\n",
      "7/7 [==============================] - ETA: 0s - loss: 0.6719 - accuracy: 0.5837 - precision: 0.5000 - recall: 0.3370 \n",
      "Epoch 96: val_loss improved from 0.62810 to 0.62805, saving model to models/inception_resnet_10_v1_log/fine_tuning_session_5/inception_resnet_10_v1_log_fine_tuning_session_5_96-val_loss_0.63.keras\n",
      "7/7 [==============================] - 100s 14s/step - loss: 0.6719 - accuracy: 0.5837 - precision: 0.5000 - recall: 0.3370 - val_loss: 0.6281 - val_accuracy: 0.5818 - val_precision: 0.3750 - val_recall: 0.5294 - lr: 1.0000e-08 - duration: 96.3152\n",
      "Epoch 97/102\n",
      "7/7 [==============================] - ETA: 0s - loss: 0.6726 - accuracy: 0.5928 - precision: 0.5139 - recall: 0.4022 \n",
      "Epoch 97: val_loss improved from 0.62805 to 0.62799, saving model to models/inception_resnet_10_v1_log/fine_tuning_session_5/inception_resnet_10_v1_log_fine_tuning_session_5_97-val_loss_0.63.keras\n",
      "7/7 [==============================] - 106s 14s/step - loss: 0.6726 - accuracy: 0.5928 - precision: 0.5139 - recall: 0.4022 - val_loss: 0.6280 - val_accuracy: 0.5818 - val_precision: 0.3750 - val_recall: 0.5294 - lr: 1.0000e-08 - duration: 102.1489\n",
      "Epoch 98/102\n",
      "7/7 [==============================] - ETA: 0s - loss: 0.6519 - accuracy: 0.6425 - precision: 0.5915 - recall: 0.4565 \n",
      "Epoch 98: val_loss improved from 0.62799 to 0.62791, saving model to models/inception_resnet_10_v1_log/fine_tuning_session_5/inception_resnet_10_v1_log_fine_tuning_session_5_98-val_loss_0.63.keras\n",
      "7/7 [==============================] - 103s 14s/step - loss: 0.6519 - accuracy: 0.6425 - precision: 0.5915 - recall: 0.4565 - val_loss: 0.6279 - val_accuracy: 0.5818 - val_precision: 0.3750 - val_recall: 0.5294 - lr: 1.0000e-08 - duration: 99.5938\n",
      "Epoch 99/102\n",
      "7/7 [==============================] - ETA: 0s - loss: 0.6908 - accuracy: 0.5747 - precision: 0.4853 - recall: 0.3587 \n",
      "Epoch 99: val_loss improved from 0.62791 to 0.62781, saving model to models/inception_resnet_10_v1_log/fine_tuning_session_5/inception_resnet_10_v1_log_fine_tuning_session_5_99-val_loss_0.63.keras\n",
      "7/7 [==============================] - 108s 15s/step - loss: 0.6908 - accuracy: 0.5747 - precision: 0.4853 - recall: 0.3587 - val_loss: 0.6278 - val_accuracy: 0.5818 - val_precision: 0.3750 - val_recall: 0.5294 - lr: 1.0000e-08 - duration: 104.3015\n",
      "Epoch 100/102\n",
      "7/7 [==============================] - ETA: 0s - loss: 0.6657 - accuracy: 0.6018 - precision: 0.5333 - recall: 0.3478 \n",
      "Epoch 100: val_loss did not improve from 0.62781\n",
      "7/7 [==============================] - 94s 13s/step - loss: 0.6657 - accuracy: 0.6018 - precision: 0.5333 - recall: 0.3478 - val_loss: 0.6278 - val_accuracy: 0.5818 - val_precision: 0.3750 - val_recall: 0.5294 - lr: 1.0000e-08 - duration: 94.0215\n",
      "Epoch 101/102\n",
      "7/7 [==============================] - ETA: 0s - loss: 0.6709 - accuracy: 0.6154 - precision: 0.5593 - recall: 0.3587 \n",
      "Epoch 101: val_loss did not improve from 0.62781\n",
      "7/7 [==============================] - 100s 14s/step - loss: 0.6709 - accuracy: 0.6154 - precision: 0.5593 - recall: 0.3587 - val_loss: 0.6278 - val_accuracy: 0.5818 - val_precision: 0.3750 - val_recall: 0.5294 - lr: 1.0000e-08 - duration: 100.2705\n",
      "Epoch 102/102\n",
      "7/7 [==============================] - ETA: 0s - loss: 0.7017 - accuracy: 0.5701 - precision: 0.4776 - recall: 0.3478 \n",
      "Epoch 102: ReduceLROnPlateau reducing learning rate to 5e-09.\n",
      "\n",
      "Epoch 102: val_loss did not improve from 0.62781\n",
      "7/7 [==============================] - 99s 14s/step - loss: 0.7017 - accuracy: 0.5701 - precision: 0.4776 - recall: 0.3478 - val_loss: 0.6278 - val_accuracy: 0.5818 - val_precision: 0.3750 - val_recall: 0.5294 - lr: 1.0000e-08 - duration: 99.4938\n",
      "INFO:tensorflow:Assets written to: ram://c8a496e8-a735-4dad-b048-6b35290c96c1/assets\n",
      "INFO:tensorflow:Assets written to: ram://c8a496e8-a735-4dad-b048-6b35290c96c1/assets\n"
     ]
    },
    {
     "name": "stderr",
     "output_type": "stream",
     "text": [
      "\u001b[34m\u001b[1mwandb\u001b[0m: Waiting for artifact inception_resnet_10_v1_log-fine_tuning_session_5-b5lr3qs8 to be committed...\n",
      "\n",
      "\u001b[34m\u001b[1mwandb\u001b[0m: Committed artifact aistudio/breast_cancer_detection/inception_resnet_10_v1_log-fine_tuning_session_5-b5lr3qs8:v0\n",
      "wandb: WARNING Source type is set to 'repo' but some required information is missing from the environment. A job will not be created from this run. See https://docs.wandb.ai/guides/launch/create-job\n"
     ]
    },
    {
     "data": {
      "text/html": [
       "<style>\n",
       "    table.wandb td:nth-child(1) { padding: 0 10px; text-align: left ; width: auto;} td:nth-child(2) {text-align: left ; width: 100%}\n",
       "    .wandb-row { display: flex; flex-direction: row; flex-wrap: wrap; justify-content: flex-start; width: 100% }\n",
       "    .wandb-col { display: flex; flex-direction: column; flex-basis: 100%; flex: 1; padding: 10px; }\n",
       "    </style>\n",
       "<div class=\"wandb-row\"><div class=\"wandb-col\"><h3>Run history:</h3><br/><table class=\"wandb\"><tr><td>epoch/accuracy</td><td>▃▁▄▄▃▆▃▄▇▃▆▄▆▇▇▅▆▅▄▄▇▇▇▆▃▄▄█▆█▇▆▆▅█▇▆▆▆▆</td></tr><tr><td>epoch/epoch</td><td>▁▁▁▁▂▂▂▂▂▃▃▃▃▃▃▄▄▄▄▄▅▅▅▅▅▅▆▆▆▆▆▇▇▇▇▇▇███</td></tr><tr><td>epoch/learning_rate</td><td>█████████████▄▄▄▄▄▃▂▂██▄▂▂▂▂▁▁▁▁▁▁▁▁▁▁▁▁</td></tr><tr><td>epoch/loss</td><td>▇▇▇▅▆▅▆█▂▆▄▆▂▂▃▆▅▄▅▆▄▂▄▄▅▅▄▃▃▁▂▃▂▄▂▂▂▂▃▄</td></tr><tr><td>epoch/lr</td><td>██████████████▄▄▄▄▄▃▂██▄▂▂▂▂▁▁▁▁▁▁▁▁▁▁▁▁</td></tr><tr><td>epoch/precision</td><td>▃▁▄▃▂▅▁▃▆▁▅▂▆▆▆▄▅▄▃▂▆▆▆▅▁▂▃▇▄█▆▅▃▃█▆▅▆▅▅</td></tr><tr><td>epoch/recall</td><td>█▆▆▅▄▃▃▃▄▂▃▁▂▃▄▃▄▁▂▁▂▃▃▃▃▂▂▃▄▃▂▂▃▁▃▃▂▂▂▂</td></tr><tr><td>epoch/val_accuracy</td><td>▁▅▇▆▇███▇▇▇▇▇▇▇▇▇▇▇▇▇▇▇▇▇▇▇▇▆▆▆▅▅▅▅▅▅▅▅▅</td></tr><tr><td>epoch/val_loss</td><td>█▇▅▄▃▃▃▂▂▂▂▂▂▂▂▂▂▂▂▂▂▂▂▂▂▁▁▁▁▁▁▁▁▁▁▁▁▁▁▁</td></tr><tr><td>epoch/val_precision</td><td>▁▄█▅▇███▇▅▅▅▅▅▅▅▅▅▅▅▅▅▅▅▅▅▅▅▄▄▄▂▂▂▂▂▂▂▂▂</td></tr><tr><td>epoch/val_recall</td><td>███▆▆▅▅▅▃▂▂▂▂▂▂▂▂▂▂▂▂▂▂▂▂▂▂▂▂▂▂▁▁▁▁▁▁▁▁▁</td></tr></table><br/></div><div class=\"wandb-col\"><h3>Run summary:</h3><br/><table class=\"wandb\"><tr><td>epoch/accuracy</td><td>0.57014</td></tr><tr><td>epoch/epoch</td><td>101</td></tr><tr><td>epoch/learning_rate</td><td>0.0</td></tr><tr><td>epoch/loss</td><td>0.70175</td></tr><tr><td>epoch/lr</td><td>0.0</td></tr><tr><td>epoch/precision</td><td>0.47761</td></tr><tr><td>epoch/recall</td><td>0.34783</td></tr><tr><td>epoch/val_accuracy</td><td>0.58182</td></tr><tr><td>epoch/val_loss</td><td>0.62783</td></tr><tr><td>epoch/val_precision</td><td>0.375</td></tr><tr><td>epoch/val_recall</td><td>0.52941</td></tr></table><br/></div></div>"
      ],
      "text/plain": [
       "<IPython.core.display.HTML object>"
      ]
     },
     "metadata": {},
     "output_type": "display_data"
    },
    {
     "data": {
      "text/html": [
       " View run <strong style=\"color:#cdcd00\">icy-eon-40</strong> at: <a href='https://wandb.ai/aistudio/breast_cancer_detection/runs/b5lr3qs8' target=\"_blank\">https://wandb.ai/aistudio/breast_cancer_detection/runs/b5lr3qs8</a><br/>Synced 6 W&B file(s), 0 media file(s), 6 artifact file(s) and 0 other file(s)"
      ],
      "text/plain": [
       "<IPython.core.display.HTML object>"
      ]
     },
     "metadata": {},
     "output_type": "display_data"
    },
    {
     "data": {
      "text/html": [
       "Find logs at: <code>./wandb/run-20240126_145856-b5lr3qs8/logs</code>"
      ],
      "text/plain": [
       "<IPython.core.display.HTML object>"
      ]
     },
     "metadata": {},
     "output_type": "display_data"
    }
   ],
   "source": [
    "ft = FineTuner(name=name, \n",
    "               train_ds=train_ds, \n",
    "               validation_ds=val_ds, \n",
    "               repo=repo,\n",
    "               thaw_schedule=thaw_schedule,\n",
    "               learning_rate_schedule=learning_rate_schedule,               \n",
    "               metrics=metrics,\n",
    "               fine_tune_epochs=fine_tune_epochs,\n",
    "               sessions=fine_tune_sessions,\n",
    "               callbacks=[early_stop_callback, reduce_lr_callback, wandb_callback],\n",
    "               )\n",
    "ft.tune(model=model, historian=historian, force=force)\n",
    "run.finish()"
   ]
  },
  {
   "cell_type": "markdown",
   "metadata": {},
   "source": [
    "## Learning Curves"
   ]
  },
  {
   "cell_type": "code",
   "execution_count": 9,
   "metadata": {},
   "outputs": [
    {
     "data": {
      "image/png": "[encoded data removed]",
      "text/plain": [
       "<Figure size 1200x400 with 2 Axes>"
      ]
     },
     "metadata": {},
     "output_type": "display_data"
    }
   ],
   "source": [
    "# Plot the historian\n",
    "historian.plot_learning_curves()"
   ]
  },
  {
   "cell_type": "markdown",
   "metadata": {},
   "source": [
    "## Evaluation"
   ]
  },
  {
   "cell_type": "raw",
   "metadata": {},
   "source": [
    "results = model.evaluate(test_ds, batch_size=batch_size)\n",
    "print(\"Test Loss, Test Accuracy: \", results)"
   ]
  }
 ],
 "metadata": {
  "kernelspec": {
   "display_name": "bcd",
   "language": "python",
   "name": "python3"
  },
  "language_info": {
   "codemirror_mode": {
    "name": "ipython",
    "version": 3
   },
   "file_extension": ".py",
   "mimetype": "text/x-python",
   "name": "python",
   "nbconvert_exporter": "python",
   "pygments_lexer": "ipython3",
   "version": "3.10.12"
  }
 },
 "nbformat": 4,
 "nbformat_minor": 2
}
