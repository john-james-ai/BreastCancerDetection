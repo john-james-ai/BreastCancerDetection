{
 "cells": [
  {
   "cell_type": "markdown",
   "metadata": {},
   "source": [
    "# MobileNet"
   ]
  },
  {
   "cell_type": "code",
   "execution_count": 1,
   "metadata": {},
   "outputs": [],
   "source": [
    "import os\n",
    "import wandb\n",
    "import pathlib\n",
    "import tensorflow as tf\n",
    "import pandas as pd\n",
    "\n",
    "from bcd.model.repo import ExperimentRepo\n",
    "from bcd.model.factory import MobileNetFactory\n",
    "from bcd.model.transfer import FineTuner\n",
    "from bcd.model.callback import Historian\n",
    "from bcd.model.schedule import LinearThawSchedule, LogThawSchedule, LinearLearningRateSchedule, LogLearningRateSchedule\n",
    "pd.set_option('display.max_rows',999)\n"
   ]
  },
  {
   "cell_type": "markdown",
   "metadata": {},
   "source": [
    "## Configuration"
   ]
  },
  {
   "cell_type": "code",
   "execution_count": 2,
   "metadata": {},
   "outputs": [
    {
     "name": "stdout",
     "output_type": "stream",
     "text": [
      "env: \"WANDB_NOTEBOOK_NAME\"=\"05_mobilenet.ipynb\"\n"
     ]
    }
   ],
   "source": [
    "# W&B\n",
    "%env \"WANDB_NOTEBOOK_NAME\" \"05_mobilenet.ipynb\"\n",
    "project = \"breast_cancer_detection\"\n",
    "\n",
    "# Model Parameters\n",
    "full_dataset = False\n",
    "architecture='MobileNet'\n",
    "model_name = \"mobile_net\" if full_dataset else \"mobile_net_10\"\n",
    "version=\"v1_log\"\n",
    "name = f\"{model_name}_{version}\"\n",
    "force = False  # Whether to retrain if the model and weights already exist from a prior training session.\n",
    "metrics = ['accuracy', tf.keras.metrics.Precision(), tf.keras.metrics.Recall()]\n",
    "base_model_layer = 4 # Layer of the inception resnet base model\n",
    "base_model_layers = 154 # layers in inception resnet model\n",
    "loss = \"binary_crossentropy\"\n",
    "activation = \"sigmoid\"\n",
    "\n",
    "# Dataset params\n",
    "batch_size = 64 if full_dataset else 32\n",
    "input_shape = (224,224,3)\n",
    "output_shape = 1\n",
    "train_dir = pathlib.Path(\"data/image/1_final/training/training/\").with_suffix('') if full_dataset else pathlib.Path(\"data/image/1_final/training_10/training/\").with_suffix('') \n",
    "test_dir = pathlib.Path(\"data/image/1_final/test/test/\").with_suffix('')\n",
    "\n",
    "# Feature Extraction Parameters\n",
    "initial_epochs = 100  # Number of epochs to train for feature extraction\n",
    "fe_learning_rate = 1e-4\n",
    "\n",
    "# Fine Tune Parameters\n",
    "fine_tune_epochs = 10  # Number of epochs for each fine tune session\n",
    "fine_tune_sessions = 5 # Number of fine tune sessions\n",
    "fine_tune_min_lr = 1e-8\n",
    "fine_tune_max_lr = 1e-4\n",
    "fine_tune_thaw_schedule = \"log\"\n",
    "\n",
    "\n",
    "# Early stop parameters \n",
    "es_min_delta = 0.0001\n",
    "es_monitor = \"val_loss\"  # Monitor validation loss for early stopping\n",
    "es_patience = 8  # The number of consecutive epochs for which lack of improvement is tolerated \n",
    "es_restore_best_weights = True  # Returns the best weights rather than the weights at the last epoch.\n",
    "es_verbose = 1\n",
    "es_session_patience = None # The number of fine tuning sessions for which lack of improvement is tolerated. If None, no early stopping at session level\n",
    "\n",
    "# Reduce LR on Plateau Parameters\n",
    "rlr_monitor = \"val_loss\"\n",
    "rlr_factor = 0.5\n",
    "rlr_patience = 3\n",
    "rlr_verbose = 1\n",
    "rlr_mode = \"auto\"\n",
    "rlr_min_delta = 0.0001\n",
    "rlr_min_lr=1e-10\n",
    "\n",
    "# ModelCheckpoint Callback parameters\n",
    "mcp_location = \"models/\"\n",
    "mcp_mode = \"auto\"\n",
    "mcp_save_weights_only = False\n",
    "mcp_save_best_only = True\n",
    "mcp_save_freq = \"epoch\"\n",
    "mcp_verbose = 1\n",
    "\n",
    "# Historian parameters\n",
    "filename = f\"{name}_history.pkl\"\n",
    "historian_filepath = os.path.join(\"models\", name, filename)\n",
    "\n"
   ]
  },
  {
   "cell_type": "markdown",
   "metadata": {},
   "source": [
    "## Experiment Setup"
   ]
  },
  {
   "cell_type": "code",
   "execution_count": 3,
   "metadata": {},
   "outputs": [],
   "source": [
    "config = {\n",
    "    \"architecture\": architecture,\n",
    "    \"model_name\": model_name,\n",
    "    \"version\": version,\n",
    "    \"dataset\": \"CBIS-DDSM-10\",\n",
    "    \"batch_size\": batch_size,\n",
    "    \"initial_epochs\": initial_epochs,\n",
    "    \"fine_tune_epochs\": fine_tune_epochs,\n",
    "    \"fine_tune_sessions\": fine_tune_sessions,\n",
    "    \"fine_tune_min_lr\": fine_tune_min_lr,\n",
    "    \"fine_tune_max_lr\": fine_tune_max_lr,\n",
    "    \"fine_tune_schedule\": fine_tune_thaw_schedule,\n",
    "    \"early_stop_min_delta\": es_min_delta,\n",
    "    \"early_stop_monitor\": es_monitor,\n",
    "    \"early_stop_patience\": es_patience,\n",
    "    \"early_stop_restore_best_weights\": es_restore_best_weights,\n",
    "    \"early_stop_verbose\": es_verbose,\n",
    "    \"rlr_monitor\": rlr_monitor,\n",
    "    \"rlr_factor\": rlr_factor,\n",
    "    \"rlr_patience\": rlr_patience,\n",
    "    \"rlr_verbose\": rlr_verbose,\n",
    "    \"rlr_mode\": rlr_mode,\n",
    "    \"rlr_min_delta\": rlr_min_delta,\n",
    "    \"rlr_min_lr\": rlr_min_lr\n",
    "    \n",
    "}"
   ]
  },
  {
   "cell_type": "code",
   "execution_count": 4,
   "metadata": {},
   "outputs": [
    {
     "name": "stdout",
     "output_type": "stream",
     "text": [
      "ERROR:wandb.jupyter:Failed to detect the name of this notebook, you can set it manually with the WANDB_NOTEBOOK_NAME environment variable to enable code saving.\n"
     ]
    },
    {
     "name": "stderr",
     "output_type": "stream",
     "text": [
      "\u001b[34m\u001b[1mwandb\u001b[0m: Currently logged in as: \u001b[33maistudio\u001b[0m. Use \u001b[1m`wandb login --relogin`\u001b[0m to force relogin\n"
     ]
    },
    {
     "data": {
      "text/html": [
       "Tracking run with wandb version 0.16.2"
      ],
      "text/plain": [
       "<IPython.core.display.HTML object>"
      ]
     },
     "metadata": {},
     "output_type": "display_data"
    },
    {
     "data": {
      "text/html": [
       "Run data is saved locally in <code>/home/john/projects/bcd/wandb/run-20240128_094424-usbma03r</code>"
      ],
      "text/plain": [
       "<IPython.core.display.HTML object>"
      ]
     },
     "metadata": {},
     "output_type": "display_data"
    },
    {
     "data": {
      "text/html": [
       "Syncing run <strong><a href='https://wandb.ai/aistudio/breast_cancer_detection/runs/usbma03r' target=\"_blank\">good-forest-43</a></strong> to <a href='https://wandb.ai/aistudio/breast_cancer_detection' target=\"_blank\">Weights & Biases</a> (<a href='https://wandb.me/run' target=\"_blank\">docs</a>)<br/>"
      ],
      "text/plain": [
       "<IPython.core.display.HTML object>"
      ]
     },
     "metadata": {},
     "output_type": "display_data"
    },
    {
     "data": {
      "text/html": [
       " View project at <a href='https://wandb.ai/aistudio/breast_cancer_detection' target=\"_blank\">https://wandb.ai/aistudio/breast_cancer_detection</a>"
      ],
      "text/plain": [
       "<IPython.core.display.HTML object>"
      ]
     },
     "metadata": {},
     "output_type": "display_data"
    },
    {
     "data": {
      "text/html": [
       " View run at <a href='https://wandb.ai/aistudio/breast_cancer_detection/runs/usbma03r' target=\"_blank\">https://wandb.ai/aistudio/breast_cancer_detection/runs/usbma03r</a>"
      ],
      "text/plain": [
       "<IPython.core.display.HTML object>"
      ]
     },
     "metadata": {},
     "output_type": "display_data"
    }
   ],
   "source": [
    "run = wandb.init(project=project, config=config)"
   ]
  },
  {
   "cell_type": "markdown",
   "metadata": {},
   "source": [
    "## Load Data"
   ]
  },
  {
   "cell_type": "code",
   "execution_count": 5,
   "metadata": {},
   "outputs": [
    {
     "name": "stdout",
     "output_type": "stream",
     "text": [
      "Found 276 files belonging to 2 classes.\n",
      "Using 221 files for training.\n",
      "Found 276 files belonging to 2 classes.\n",
      "Using 55 files for validation.\n",
      "Found 649 files belonging to 2 classes.\n"
     ]
    }
   ],
   "source": [
    "# Training DataSet (10%)\n",
    "train_ds = tf.keras.utils.image_dataset_from_directory(\n",
    "    train_dir,\n",
    "    labels=\"inferred\",\n",
    "    color_mode=\"rgb\",\n",
    "    image_size=(224,224),\n",
    "    shuffle=True,\n",
    "    validation_split=0.2,\n",
    "    subset='training',\n",
    "    interpolation=\"bilinear\",\n",
    "    seed=123,\n",
    "    batch_size=batch_size)\n",
    "\n",
    "# Validation DataSet (10%)\n",
    "val_ds = tf.keras.utils.image_dataset_from_directory(\n",
    "    train_dir,\n",
    "    labels=\"inferred\",\n",
    "    color_mode=\"rgb\",\n",
    "    image_size=(224,224),\n",
    "    shuffle=True,\n",
    "    validation_split=0.2,\n",
    "    subset='validation',\n",
    "    interpolation=\"bilinear\",\n",
    "    seed=123,\n",
    "    batch_size=batch_size)\n",
    "\n",
    "# Test Set\n",
    "test_ds = tf.keras.utils.image_dataset_from_directory(\n",
    "    test_dir,\n",
    "    labels=\"inferred\",\n",
    "    color_mode=\"rgb\",\n",
    "    image_size=(224,224),\n",
    "    shuffle=True)"
   ]
  },
  {
   "cell_type": "markdown",
   "metadata": {},
   "source": [
    "## Dependencies\n",
    "Several dependencies will be used throughout this notebook, including:\n",
    "- Early Stop Callback\n",
    "- Reduce Learning Rate on Plateau Callback\n",
    "- Model Repository\n",
    "- ResNet Model Factory\n",
    "- Historian Callback\n",
    "\n",
    "We'll make those objects available here."
   ]
  },
  {
   "cell_type": "code",
   "execution_count": 6,
   "metadata": {},
   "outputs": [
    {
     "name": "stdout",
     "output_type": "stream",
     "text": [
      "WARNING:tensorflow:`input_shape` is undefined or non-square, or `rows` is not in [96, 128, 160, 192, 224]. Weights for input shape (224, 224) will be loaded as the default.\n",
      "WARNING:tensorflow:`input_shape` is undefined or non-square, or `rows` is not in [96, 128, 160, 192, 224]. Weights for input shape (224, 224) will be loaded as the default.\n"
     ]
    }
   ],
   "source": [
    "early_stop_callback = tf.keras.callbacks.EarlyStopping(monitor=es_monitor, \n",
    "                                                       min_delta=es_min_delta,\n",
    "                                                       patience=es_patience, \n",
    "                                                       restore_best_weights=es_restore_best_weights,\n",
    "                                                       verbose=es_verbose)\n",
    "\n",
    "reduce_lr_callback = tf.keras.callbacks.ReduceLROnPlateau(monitor=rlr_monitor,\n",
    "                                                          factor=rlr_factor,\n",
    "                                                          patience=rlr_patience,\n",
    "                                                          verbose=rlr_verbose,\n",
    "                                                          mode=rlr_mode,\n",
    "                                                          min_delta=rlr_min_delta,\n",
    "                                                          min_lr=rlr_min_lr)\n",
    "wandb_callback = wandb.keras.WandbMetricsLogger()\n",
    "\n",
    "repo = ExperimentRepo(location=mcp_location)\n",
    "\n",
    "factory = MobileNetFactory()\n",
    "\n",
    "historian = Historian(name=name)\n",
    "\n",
    "if fine_tune_thaw_schedule == \"linear\":\n",
    "    thaw_schedule = LinearThawSchedule(sessions=fine_tune_sessions, \n",
    "                                    base_model_layer=base_model_layer, \n",
    "                                    n_layers=len(factory.base_model.layers))\n",
    "    learning_rate_schedule = LinearLearningRateSchedule(sessions=fine_tune_sessions, initial_learning_rate=fine_tune_max_lr, final_learning_rate=fine_tune_min_lr)\n",
    "\n",
    "else:\n",
    "    thaw_schedule = LogThawSchedule(sessions=fine_tune_sessions, \n",
    "                                   base_model_layer=base_model_layer, \n",
    "                                   n_layers=len(factory.base_model.layers))\n",
    "\n",
    "\n",
    "\n",
    "    learning_rate_schedule = LogLearningRateSchedule(sessions=fine_tune_sessions, initial_learning_rate=fine_tune_max_lr, final_learning_rate=fine_tune_min_lr)\n"
   ]
  },
  {
   "cell_type": "raw",
   "metadata": {},
   "source": [
    "model = factory.create(input_shape=input_shape, \n",
    "                        output_shape=output_shape,\n",
    "                        activation=activation)\n",
    "model.summary()\n",
    "len(model.layers[4].layers)"
   ]
  },
  {
   "cell_type": "markdown",
   "metadata": {},
   "source": [
    "## Feature Extraction\n",
    "If the model already exists, obtain it from the repository. Otherwise, create the model and perform feature extraction."
   ]
  },
  {
   "cell_type": "code",
   "execution_count": 7,
   "metadata": {},
   "outputs": [
    {
     "name": "stdout",
     "output_type": "stream",
     "text": [
      "WARNING:tensorflow:`input_shape` is undefined or non-square, or `rows` is not in [96, 128, 160, 192, 224]. Weights for input shape (224, 224) will be loaded as the default.\n",
      "WARNING:tensorflow:`input_shape` is undefined or non-square, or `rows` is not in [96, 128, 160, 192, 224]. Weights for input shape (224, 224) will be loaded as the default.\n"
     ]
    },
    {
     "name": "stdout",
     "output_type": "stream",
     "text": [
      "Model: \"model\"\n",
      "_________________________________________________________________\n",
      " Layer (type)                Output Shape              Param #   \n",
      "=================================================================\n",
      " input_layer (InputLayer)    [(None, 224, 224, 3)]     0         \n",
      "                                                                 \n",
      " tf.math.truediv (TFOpLambda  (None, 224, 224, 3)      0         \n",
      " )                                                               \n",
      "                                                                 \n",
      " tf.math.subtract (TFOpLambd  (None, 224, 224, 3)      0         \n",
      " a)                                                              \n",
      "                                                                 \n",
      " data_augmentation (Sequenti  (None, 224, 224, 3)      0         \n",
      " al)                                                             \n",
      "                                                                 \n",
      " mobilenetv2_1.00_224 (Funct  (None, None, None, 1280)  2257984  \n",
      " ional)                                                          \n",
      "                                                                 \n",
      " global_average_pooling_laye  (None, 1280)             0         \n",
      " r (GlobalAveragePooling2D)                                      \n",
      "                                                                 \n",
      " output_layer (Dense)        (None, 1)                 1281      \n",
      "                                                                 \n",
      "=================================================================\n",
      "Total params: 2,259,265\n",
      "Trainable params: 1,281\n",
      "Non-trainable params: 2,257,984\n",
      "_________________________________________________________________\n",
      "Epoch 1/100\n",
      "7/7 [==============================] - ETA: 0s - loss: 0.8345 - accuracy: 0.4615 - precision: 0.3969 - recall: 0.5652\n",
      "Epoch 1: val_loss improved from inf to 0.64937, saving model to models/mobile_net_10_v1_log/feature_extraction/mobile_net_10_v1_log_feature_extraction_01-val_loss_0.65.keras\n",
      "7/7 [==============================] - 16s 1s/step - loss: 0.8345 - accuracy: 0.4615 - precision: 0.3969 - recall: 0.5652 - val_loss: 0.6494 - val_accuracy: 0.6545 - val_precision: 0.3333 - val_recall: 0.1176 - lr: 1.0000e-04 - duration: 16.2775\n",
      "Epoch 2/100\n",
      "7/7 [==============================] - ETA: 0s - loss: 0.7331 - accuracy: 0.5520 - precision: 0.4588 - recall: 0.4239\n",
      "Epoch 2: val_loss improved from 0.64937 to 0.64378, saving model to models/mobile_net_10_v1_log/feature_extraction/mobile_net_10_v1_log_feature_extraction_02-val_loss_0.64.keras\n",
      "7/7 [==============================] - 11s 1s/step - loss: 0.7331 - accuracy: 0.5520 - precision: 0.4588 - recall: 0.4239 - val_loss: 0.6438 - val_accuracy: 0.6909 - val_precision: 0.5000 - val_recall: 0.0588 - lr: 1.0000e-04 - duration: 10.5312\n",
      "Epoch 3/100\n",
      "7/7 [==============================] - ETA: 0s - loss: 0.7186 - accuracy: 0.5656 - precision: 0.4706 - recall: 0.3478\n",
      "Epoch 3: val_loss improved from 0.64378 to 0.64227, saving model to models/mobile_net_10_v1_log/feature_extraction/mobile_net_10_v1_log_feature_extraction_03-val_loss_0.64.keras\n",
      "7/7 [==============================] - 10s 1s/step - loss: 0.7186 - accuracy: 0.5656 - precision: 0.4706 - recall: 0.3478 - val_loss: 0.6423 - val_accuracy: 0.6909 - val_precision: 0.5000 - val_recall: 0.0588 - lr: 1.0000e-04 - duration: 10.3210\n",
      "Epoch 4/100\n",
      "7/7 [==============================] - ETA: 0s - loss: 0.7555 - accuracy: 0.5339 - precision: 0.4247 - recall: 0.3370\n",
      "Epoch 4: val_loss improved from 0.64227 to 0.64155, saving model to models/mobile_net_10_v1_log/feature_extraction/mobile_net_10_v1_log_feature_extraction_04-val_loss_0.64.keras\n",
      "7/7 [==============================] - 10s 1s/step - loss: 0.7555 - accuracy: 0.5339 - precision: 0.4247 - recall: 0.3370 - val_loss: 0.6416 - val_accuracy: 0.7091 - val_precision: 1.0000 - val_recall: 0.0588 - lr: 1.0000e-04 - duration: 10.1669\n",
      "Epoch 5/100\n",
      "7/7 [==============================] - ETA: 0s - loss: 0.7202 - accuracy: 0.5520 - precision: 0.4340 - recall: 0.2500\n",
      "Epoch 5: val_loss improved from 0.64155 to 0.64088, saving model to models/mobile_net_10_v1_log/feature_extraction/mobile_net_10_v1_log_feature_extraction_05-val_loss_0.64.keras\n",
      "7/7 [==============================] - 10s 1s/step - loss: 0.7202 - accuracy: 0.5520 - precision: 0.4340 - recall: 0.2500 - val_loss: 0.6409 - val_accuracy: 0.7091 - val_precision: 1.0000 - val_recall: 0.0588 - lr: 1.0000e-04 - duration: 10.0742\n",
      "Epoch 6/100\n",
      "7/7 [==============================] - ETA: 0s - loss: 0.7488 - accuracy: 0.5249 - precision: 0.3898 - recall: 0.2500\n",
      "Epoch 6: val_loss improved from 0.64088 to 0.64024, saving model to models/mobile_net_10_v1_log/feature_extraction/mobile_net_10_v1_log_feature_extraction_06-val_loss_0.64.keras\n",
      "7/7 [==============================] - 10s 1s/step - loss: 0.7488 - accuracy: 0.5249 - precision: 0.3898 - recall: 0.2500 - val_loss: 0.6402 - val_accuracy: 0.7091 - val_precision: 1.0000 - val_recall: 0.0588 - lr: 1.0000e-04 - duration: 10.0485\n",
      "Epoch 7/100\n",
      "7/7 [==============================] - ETA: 0s - loss: 0.7382 - accuracy: 0.5656 - precision: 0.4565 - recall: 0.2283\n",
      "Epoch 7: val_loss improved from 0.64024 to 0.63978, saving model to models/mobile_net_10_v1_log/feature_extraction/mobile_net_10_v1_log_feature_extraction_07-val_loss_0.64.keras\n",
      "7/7 [==============================] - 11s 1s/step - loss: 0.7382 - accuracy: 0.5656 - precision: 0.4565 - recall: 0.2283 - val_loss: 0.6398 - val_accuracy: 0.6909 - val_precision: 0.5000 - val_recall: 0.0588 - lr: 1.0000e-04 - duration: 10.6248\n",
      "Epoch 8/100\n",
      "7/7 [==============================] - ETA: 0s - loss: 0.7066 - accuracy: 0.5792 - precision: 0.4894 - recall: 0.2500\n",
      "Epoch 8: val_loss did not improve from 0.63978\n",
      "7/7 [==============================] - 10s 1s/step - loss: 0.7066 - accuracy: 0.5792 - precision: 0.4894 - recall: 0.2500 - val_loss: 0.6401 - val_accuracy: 0.6909 - val_precision: 0.5000 - val_recall: 0.0588 - lr: 1.0000e-04 - duration: 10.0853\n",
      "Epoch 9/100\n",
      "7/7 [==============================] - ETA: 0s - loss: 0.7476 - accuracy: 0.5023 - precision: 0.3816 - recall: 0.3152\n",
      "Epoch 9: val_loss did not improve from 0.63978\n",
      "7/7 [==============================] - 10s 995ms/step - loss: 0.7476 - accuracy: 0.5023 - precision: 0.3816 - recall: 0.3152 - val_loss: 0.6407 - val_accuracy: 0.6909 - val_precision: 0.5000 - val_recall: 0.0588 - lr: 1.0000e-04 - duration: 9.9175\n",
      "Epoch 10/100\n",
      "7/7 [==============================] - ETA: 0s - loss: 0.7694 - accuracy: 0.5113 - precision: 0.3824 - recall: 0.2826\n",
      "Epoch 10: val_loss did not improve from 0.63978\n",
      "\n",
      "Epoch 10: ReduceLROnPlateau reducing learning rate to 4.999999873689376e-05.\n",
      "7/7 [==============================] - 10s 984ms/step - loss: 0.7694 - accuracy: 0.5113 - precision: 0.3824 - recall: 0.2826 - val_loss: 0.6405 - val_accuracy: 0.6909 - val_precision: 0.5000 - val_recall: 0.0588 - lr: 1.0000e-04 - duration: 9.6934\n",
      "Epoch 11/100\n",
      "7/7 [==============================] - ETA: 0s - loss: 0.7442 - accuracy: 0.5204 - precision: 0.4028 - recall: 0.3152\n",
      "Epoch 11: val_loss improved from 0.63978 to 0.63964, saving model to models/mobile_net_10_v1_log/feature_extraction/mobile_net_10_v1_log_feature_extraction_11-val_loss_0.64.keras\n",
      "7/7 [==============================] - 10s 997ms/step - loss: 0.7442 - accuracy: 0.5204 - precision: 0.4028 - recall: 0.3152 - val_loss: 0.6396 - val_accuracy: 0.6909 - val_precision: 0.5000 - val_recall: 0.0588 - lr: 5.0000e-05 - duration: 9.9534\n",
      "Epoch 12/100\n",
      "7/7 [==============================] - ETA: 0s - loss: 0.7249 - accuracy: 0.5475 - precision: 0.4355 - recall: 0.2935\n",
      "Epoch 12: val_loss improved from 0.63964 to 0.63940, saving model to models/mobile_net_10_v1_log/feature_extraction/mobile_net_10_v1_log_feature_extraction_12-val_loss_0.64.keras\n",
      "7/7 [==============================] - 10s 1s/step - loss: 0.7249 - accuracy: 0.5475 - precision: 0.4355 - recall: 0.2935 - val_loss: 0.6394 - val_accuracy: 0.6909 - val_precision: 0.5000 - val_recall: 0.0588 - lr: 5.0000e-05 - duration: 10.3109\n",
      "Epoch 13/100\n",
      "7/7 [==============================] - ETA: 0s - loss: 0.7542 - accuracy: 0.4932 - precision: 0.3387 - recall: 0.2283\n",
      "Epoch 13: val_loss improved from 0.63940 to 0.63892, saving model to models/mobile_net_10_v1_log/feature_extraction/mobile_net_10_v1_log_feature_extraction_13-val_loss_0.64.keras\n",
      "7/7 [==============================] - 10s 990ms/step - loss: 0.7542 - accuracy: 0.4932 - precision: 0.3387 - recall: 0.2283 - val_loss: 0.6389 - val_accuracy: 0.6909 - val_precision: 0.5000 - val_recall: 0.0588 - lr: 5.0000e-05 - duration: 9.8958\n",
      "Epoch 14/100\n",
      "7/7 [==============================] - ETA: 0s - loss: 0.7528 - accuracy: 0.4932 - precision: 0.3611 - recall: 0.2826\n",
      "Epoch 14: val_loss improved from 0.63892 to 0.63839, saving model to models/mobile_net_10_v1_log/feature_extraction/mobile_net_10_v1_log_feature_extraction_14-val_loss_0.64.keras\n",
      "7/7 [==============================] - 10s 1s/step - loss: 0.7528 - accuracy: 0.4932 - precision: 0.3611 - recall: 0.2826 - val_loss: 0.6384 - val_accuracy: 0.6909 - val_precision: 0.5000 - val_recall: 0.0588 - lr: 5.0000e-05 - duration: 10.1656\n",
      "Epoch 15/100\n",
      "7/7 [==============================] - ETA: 0s - loss: 0.7396 - accuracy: 0.5249 - precision: 0.3818 - recall: 0.2283\n",
      "Epoch 15: val_loss improved from 0.63839 to 0.63774, saving model to models/mobile_net_10_v1_log/feature_extraction/mobile_net_10_v1_log_feature_extraction_15-val_loss_0.64.keras\n",
      "7/7 [==============================] - 10s 1s/step - loss: 0.7396 - accuracy: 0.5249 - precision: 0.3818 - recall: 0.2283 - val_loss: 0.6377 - val_accuracy: 0.6909 - val_precision: 0.5000 - val_recall: 0.0588 - lr: 5.0000e-05 - duration: 10.0724\n",
      "Epoch 16/100\n",
      "7/7 [==============================] - ETA: 0s - loss: 0.7340 - accuracy: 0.5294 - precision: 0.4062 - recall: 0.2826\n",
      "Epoch 16: val_loss improved from 0.63774 to 0.63714, saving model to models/mobile_net_10_v1_log/feature_extraction/mobile_net_10_v1_log_feature_extraction_16-val_loss_0.64.keras\n",
      "7/7 [==============================] - 10s 1s/step - loss: 0.7340 - accuracy: 0.5294 - precision: 0.4062 - recall: 0.2826 - val_loss: 0.6371 - val_accuracy: 0.6909 - val_precision: 0.5000 - val_recall: 0.0588 - lr: 5.0000e-05 - duration: 9.9524\n",
      "Epoch 17/100\n",
      "7/7 [==============================] - ETA: 0s - loss: 0.6874 - accuracy: 0.5973 - precision: 0.5231 - recall: 0.3696    \n",
      "Epoch 17: val_loss improved from 0.63714 to 0.63687, saving model to models/mobile_net_10_v1_log/feature_extraction/mobile_net_10_v1_log_feature_extraction_17-val_loss_0.64.keras\n",
      "7/7 [==============================] - 10s 1s/step - loss: 0.6874 - accuracy: 0.5973 - precision: 0.5231 - recall: 0.3696 - val_loss: 0.6369 - val_accuracy: 0.6909 - val_precision: 0.5000 - val_recall: 0.0588 - lr: 5.0000e-05 - duration: 10.1872\n",
      "Epoch 18/100\n",
      "7/7 [==============================] - ETA: 0s - loss: 0.7392 - accuracy: 0.5204 - precision: 0.3600 - recall: 0.1957\n",
      "Epoch 18: val_loss improved from 0.63687 to 0.63669, saving model to models/mobile_net_10_v1_log/feature_extraction/mobile_net_10_v1_log_feature_extraction_18-val_loss_0.64.keras\n",
      "7/7 [==============================] - 10s 1s/step - loss: 0.7392 - accuracy: 0.5204 - precision: 0.3600 - recall: 0.1957 - val_loss: 0.6367 - val_accuracy: 0.6909 - val_precision: 0.5000 - val_recall: 0.0588 - lr: 5.0000e-05 - duration: 10.1320\n",
      "Epoch 19/100\n",
      "7/7 [==============================] - ETA: 0s - loss: 0.6988 - accuracy: 0.5566 - precision: 0.4211 - recall: 0.1739\n",
      "Epoch 19: val_loss did not improve from 0.63669\n",
      "7/7 [==============================] - 10s 982ms/step - loss: 0.6988 - accuracy: 0.5566 - precision: 0.4211 - recall: 0.1739 - val_loss: 0.6367 - val_accuracy: 0.6909 - val_precision: 0.5000 - val_recall: 0.0588 - lr: 5.0000e-05 - duration: 9.8029\n",
      "Epoch 20/100\n",
      "7/7 [==============================] - ETA: 0s - loss: 0.6903 - accuracy: 0.5430 - precision: 0.4211 - recall: 0.2609\n",
      "Epoch 20: val_loss did not improve from 0.63669\n",
      "7/7 [==============================] - 10s 978ms/step - loss: 0.6903 - accuracy: 0.5430 - precision: 0.4211 - recall: 0.2609 - val_loss: 0.6376 - val_accuracy: 0.6909 - val_precision: 0.5000 - val_recall: 0.0588 - lr: 5.0000e-05 - duration: 9.7288\n",
      "Epoch 21/100\n",
      "7/7 [==============================] - ETA: 0s - loss: 0.7259 - accuracy: 0.5113 - precision: 0.3667 - recall: 0.2391\n",
      "Epoch 21: val_loss did not improve from 0.63669\n",
      "\n",
      "Epoch 21: ReduceLROnPlateau reducing learning rate to 2.499999936844688e-05.\n",
      "7/7 [==============================] - 10s 1s/step - loss: 0.7259 - accuracy: 0.5113 - precision: 0.3667 - recall: 0.2391 - val_loss: 0.6380 - val_accuracy: 0.6909 - val_precision: 0.5000 - val_recall: 0.0588 - lr: 5.0000e-05 - duration: 10.0077\n",
      "Epoch 22/100\n",
      "7/7 [==============================] - ETA: 0s - loss: 0.7028 - accuracy: 0.5701 - precision: 0.4776 - recall: 0.3478\n",
      "Epoch 22: val_loss did not improve from 0.63669\n",
      "7/7 [==============================] - 10s 958ms/step - loss: 0.7028 - accuracy: 0.5701 - precision: 0.4776 - recall: 0.3478 - val_loss: 0.6378 - val_accuracy: 0.6909 - val_precision: 0.5000 - val_recall: 0.0588 - lr: 2.5000e-05 - duration: 9.7430\n",
      "Epoch 23/100\n",
      "7/7 [==============================] - ETA: 0s - loss: 0.6822 - accuracy: 0.5430 - precision: 0.4182 - recall: 0.2500\n",
      "Epoch 23: val_loss did not improve from 0.63669\n",
      "7/7 [==============================] - 10s 1s/step - loss: 0.6822 - accuracy: 0.5430 - precision: 0.4182 - recall: 0.2500 - val_loss: 0.6379 - val_accuracy: 0.6909 - val_precision: 0.5000 - val_recall: 0.0588 - lr: 2.5000e-05 - duration: 10.1488\n",
      "Epoch 24/100\n",
      "7/7 [==============================] - ETA: 0s - loss: 0.6850 - accuracy: 0.5566 - precision: 0.4400 - recall: 0.2391\n",
      "Epoch 24: val_loss did not improve from 0.63669\n",
      "\n",
      "Epoch 24: ReduceLROnPlateau reducing learning rate to 1.249999968422344e-05.\n",
      "7/7 [==============================] - 10s 1s/step - loss: 0.6850 - accuracy: 0.5566 - precision: 0.4400 - recall: 0.2391 - val_loss: 0.6379 - val_accuracy: 0.6909 - val_precision: 0.5000 - val_recall: 0.0588 - lr: 2.5000e-05 - duration: 10.2541\n",
      "Epoch 25/100\n",
      "7/7 [==============================] - ETA: 0s - loss: 0.6963 - accuracy: 0.5430 - precision: 0.4182 - recall: 0.2500\n",
      "Epoch 25: val_loss did not improve from 0.63669\n",
      "7/7 [==============================] - 10s 1s/step - loss: 0.6963 - accuracy: 0.5430 - precision: 0.4182 - recall: 0.2500 - val_loss: 0.6380 - val_accuracy: 0.6909 - val_precision: 0.5000 - val_recall: 0.0588 - lr: 1.2500e-05 - duration: 10.2370\n",
      "Epoch 26/100\n",
      "7/7 [==============================] - ETA: 0s - loss: 0.7163 - accuracy: 0.5339 - precision: 0.4098 - recall: 0.2717\n",
      "Epoch 26: val_loss did not improve from 0.63669\n",
      "Restoring model weights from the end of the best epoch: 18.\n",
      "7/7 [==============================] - 10s 930ms/step - loss: 0.7163 - accuracy: 0.5339 - precision: 0.4098 - recall: 0.2717 - val_loss: 0.6380 - val_accuracy: 0.6909 - val_precision: 0.5000 - val_recall: 0.0588 - lr: 1.2500e-05 - duration: 9.7636\n",
      "Epoch 26: early stopping\n"
     ]
    },
    {
     "name": "stderr",
     "output_type": "stream",
     "text": [
      "2024-01-28 09:49:18.274053: W tensorflow/python/util/util.cc:368] Sets are not currently considered sequences, but this may change in the future, so consider avoiding using them.\n"
     ]
    },
    {
     "name": "stdout",
     "output_type": "stream",
     "text": [
      "INFO:tensorflow:Assets written to: ram://27136223-bc9c-4d0b-b90d-3216375274cb/assets\n",
      "INFO:tensorflow:Assets written to: ram://27136223-bc9c-4d0b-b90d-3216375274cb/assets\n"
     ]
    },
    {
     "data": {
      "text/plain": [
       "ArtifactManifestEntry(path='mobile_net_10_v1_log_feature_extraction_18-val_loss_0.64.keras', digest='4iftbVtWJRBnvuxol6I/bw==', size=9363360, local_path='/home/john/.local/share/wandb/artifacts/staging/tmp2g2e388z')"
      ]
     },
     "execution_count": 7,
     "metadata": {},
     "output_type": "execute_result"
    },
    {
     "data": {
      "text/plain": [
       "<Artifact mobile_net_10_v1_log-feature_extraction-usbma03r>"
      ]
     },
     "execution_count": 7,
     "metadata": {},
     "output_type": "execute_result"
    },
    {
     "name": "stderr",
     "output_type": "stream",
     "text": [
      "\u001b[34m\u001b[1mwandb\u001b[0m: Waiting for artifact mobile_net_10_v1_log-feature_extraction-usbma03r to be committed...\n"
     ]
    },
    {
     "data": {
      "application/vnd.jupyter.widget-view+json": {
       "model_id": "888283de44e44dc99b831e10b3b24582",
       "version_major": 2,
       "version_minor": 0
      },
      "text/plain": [
       "VBox(children=(Label(value='0.003 MB of 8.933 MB uploaded\\r'), FloatProgress(value=0.0003912661704223059, max=…"
      ]
     },
     "metadata": {},
     "output_type": "display_data"
    },
    {
     "name": "stderr",
     "output_type": "stream",
     "text": [
      "\n",
      "\u001b[34m\u001b[1mwandb\u001b[0m: Committed artifact aistudio/breast_cancer_detection/mobile_net_10_v1_log-feature_extraction-usbma03r:v0\n"
     ]
    }
   ],
   "source": [
    "stage = \"feature_extraction\"\n",
    "if force or not repo.exists(name=name, stage=stage):\n",
    "    model = factory.create(input_shape=input_shape, \n",
    "                            output_shape=output_shape,\n",
    "                            activation=activation)\n",
    "    # Create the optimizer\n",
    "    optimizer=tf.keras.optimizers.Adam(learning_rate=fe_learning_rate)\n",
    "\n",
    "    # Compile the Model\n",
    "    model.compile(\n",
    "        loss=loss,\n",
    "        optimizer=optimizer,\n",
    "        metrics=metrics,        \n",
    "    )\n",
    "\n",
    "    # Delete existing checkpoints\n",
    "    repo.remove(name=name, stage=stage)\n",
    "    # Summarize the model\n",
    "    model.summary()\n",
    "    # Obtain a checkpoint callback from the model repository \n",
    "    checkpoint_callback = repo.create_callback(name=name, stage=stage)\n",
    "    # Set the session on the historian to 0 for feature extraction\n",
    "    historian.on_session_begin(session=0)\n",
    "    # Fit the model with callbacks\n",
    "    history = model.fit(train_ds, \n",
    "                        validation_data=val_ds, \n",
    "                        epochs=initial_epochs, \n",
    "                        callbacks=[checkpoint_callback, \n",
    "                                   reduce_lr_callback,\n",
    "                                   early_stop_callback, \n",
    "                                   wandb_callback,                                   \n",
    "                                   historian])        \n",
    "    # Register the model on wandb\n",
    "    filepath = repo.get_filepath(name=name, stage=stage)    \n",
    "    artifact = wandb.Artifact(f\"{name}-{stage}-{run.id}\", type=\"model\")\n",
    "    artifact.add_file(filepath)\n",
    "    wandb.log_artifact(artifact, aliases=[stage, \"best\"])\n",
    "    wandb.run.link_artifact(artifact, \"aistudio/breast_cancer_detection/InceptionResnet\")\n",
    "else:\n",
    "    # Obtain the model from the repository\n",
    "    model = repo.get(name=name, stage=stage)\n",
    "    # Obtain the historian\n",
    "    historian = historian.load(historian_filepath)    \n",
    "    # Summarize the model\n",
    "    model.summary()"
   ]
  },
  {
   "cell_type": "markdown",
   "metadata": {},
   "source": [
    "## Fine Tuning"
   ]
  },
  {
   "cell_type": "code",
   "execution_count": 8,
   "metadata": {},
   "outputs": [
    {
     "name": "stdout",
     "output_type": "stream",
     "text": [
      "\n",
      "\n",
      "INFO:LogThawSchedule:Thawed 2 layers of the base model.\n",
      "\n",
      "\n",
      "INFO:LogLearningRateSchedule:Set learning rate to 0.0001\n",
      "Model: \"model\"\n",
      "_________________________________________________________________\n",
      " Layer (type)                Output Shape              Param #   \n",
      "=================================================================\n",
      " input_layer (InputLayer)    [(None, 224, 224, 3)]     0         \n",
      "                                                                 \n",
      " tf.math.truediv (TFOpLambda  (None, 224, 224, 3)      0         \n",
      " )                                                               \n",
      "                                                                 \n",
      " tf.math.subtract (TFOpLambd  (None, 224, 224, 3)      0         \n",
      " a)                                                              \n",
      "                                                                 \n",
      " data_augmentation (Sequenti  (None, 224, 224, 3)      0         \n",
      " al)                                                             \n",
      "                                                                 \n",
      " mobilenetv2_1.00_224 (Funct  (None, None, None, 1280)  2257984  \n",
      " ional)                                                          \n",
      "                                                                 \n",
      " global_average_pooling_laye  (None, 1280)             0         \n",
      " r (GlobalAveragePooling2D)                                      \n",
      "                                                                 \n",
      " output_layer (Dense)        (None, 1)                 1281      \n",
      "                                                                 \n",
      "=================================================================\n",
      "Total params: 2,259,265\n",
      "Trainable params: 3,841\n",
      "Non-trainable params: 2,255,424\n",
      "_________________________________________________________________\n",
      "Epoch 27/36\n",
      "7/7 [==============================] - ETA: 0s - loss: 0.7121 - accuracy: 0.5385 - precision: 0.4138 - recall: 0.2202\n",
      "Epoch 27: val_loss improved from inf to 0.63564, saving model to models/mobile_net_10_v1_log/fine_tuning_session_1/mobile_net_10_v1_log_fine_tuning_session_1_27-val_loss_0.64.keras\n",
      "7/7 [==============================] - 16s 1s/step - loss: 0.7121 - accuracy: 0.5385 - precision: 0.4138 - recall: 0.2202 - val_loss: 0.6356 - val_accuracy: 0.6909 - val_precision: 0.5000 - val_recall: 0.0588 - lr: 1.0000e-04 - duration: 15.5514\n",
      "Epoch 28/36\n",
      "7/7 [==============================] - ETA: 0s - loss: 0.7345 - accuracy: 0.5294 - precision: 0.3889 - recall: 0.2283\n",
      "Epoch 28: val_loss did not improve from 0.63564\n",
      "7/7 [==============================] - 10s 1s/step - loss: 0.7345 - accuracy: 0.5294 - precision: 0.3889 - recall: 0.2283 - val_loss: 0.6374 - val_accuracy: 0.6909 - val_precision: 0.5000 - val_recall: 0.0588 - lr: 1.0000e-04 - duration: 10.2099\n",
      "Epoch 29/36\n",
      "7/7 [==============================] - ETA: 0s - loss: 0.7256 - accuracy: 0.5249 - precision: 0.4058 - recall: 0.3043\n",
      "Epoch 29: val_loss did not improve from 0.63564\n",
      "7/7 [==============================] - 10s 943ms/step - loss: 0.7256 - accuracy: 0.5249 - precision: 0.4058 - recall: 0.3043 - val_loss: 0.6388 - val_accuracy: 0.6909 - val_precision: 0.5000 - val_recall: 0.0588 - lr: 1.0000e-04 - duration: 9.7862\n",
      "Epoch 30/36\n",
      "7/7 [==============================] - ETA: 0s - loss: 0.7048 - accuracy: 0.5566 - precision: 0.4583 - recall: 0.3587\n",
      "Epoch 30: ReduceLROnPlateau reducing learning rate to 5e-05.\n",
      "\n",
      "Epoch 30: val_loss did not improve from 0.63564\n",
      "7/7 [==============================] - 10s 963ms/step - loss: 0.7048 - accuracy: 0.5566 - precision: 0.4583 - recall: 0.3587 - val_loss: 0.6380 - val_accuracy: 0.6909 - val_precision: 0.5000 - val_recall: 0.0588 - lr: 1.0000e-04 - duration: 9.6976\n",
      "Epoch 31/36\n",
      "7/7 [==============================] - ETA: 0s - loss: 0.6994 - accuracy: 0.5385 - precision: 0.4219 - recall: 0.2935\n",
      "Epoch 31: val_loss did not improve from 0.63564\n",
      "7/7 [==============================] - 10s 981ms/step - loss: 0.6994 - accuracy: 0.5385 - precision: 0.4219 - recall: 0.2935 - val_loss: 0.6382 - val_accuracy: 0.6909 - val_precision: 0.5000 - val_recall: 0.0588 - lr: 5.0000e-05 - duration: 9.7618\n",
      "Epoch 32/36\n",
      "7/7 [==============================] - ETA: 0s - loss: 0.6707 - accuracy: 0.6063 - precision: 0.5397 - recall: 0.3696\n",
      "Epoch 32: val_loss did not improve from 0.63564\n",
      "7/7 [==============================] - 10s 1s/step - loss: 0.6707 - accuracy: 0.6063 - precision: 0.5397 - recall: 0.3696 - val_loss: 0.6378 - val_accuracy: 0.6909 - val_precision: 0.5000 - val_recall: 0.0588 - lr: 5.0000e-05 - duration: 9.9814\n",
      "Epoch 33/36\n",
      "7/7 [==============================] - ETA: 0s - loss: 0.7099 - accuracy: 0.5520 - precision: 0.4462 - recall: 0.3152\n",
      "Epoch 33: ReduceLROnPlateau reducing learning rate to 2.5e-05.\n",
      "\n",
      "Epoch 33: val_loss did not improve from 0.63564\n",
      "7/7 [==============================] - 10s 994ms/step - loss: 0.7099 - accuracy: 0.5520 - precision: 0.4462 - recall: 0.3152 - val_loss: 0.6371 - val_accuracy: 0.6909 - val_precision: 0.5000 - val_recall: 0.0588 - lr: 5.0000e-05 - duration: 9.8760\n",
      "Epoch 34/36\n",
      "7/7 [==============================] - ETA: 0s - loss: 0.7033 - accuracy: 0.5611 - precision: 0.4561 - recall: 0.2826\n",
      "Epoch 34: val_loss did not improve from 0.63564\n",
      "7/7 [==============================] - 10s 942ms/step - loss: 0.7033 - accuracy: 0.5611 - precision: 0.4561 - recall: 0.2826 - val_loss: 0.6369 - val_accuracy: 0.6909 - val_precision: 0.5000 - val_recall: 0.0588 - lr: 2.5000e-05 - duration: 9.7208\n",
      "Epoch 35/36\n",
      "7/7 [==============================] - ETA: 0s - loss: 0.6906 - accuracy: 0.5928 - precision: 0.5172 - recall: 0.3261Restoring model weights from the end of the best epoch: 27.\n",
      "\n",
      "Epoch 35: val_loss did not improve from 0.63564\n",
      "7/7 [==============================] - 10s 1s/step - loss: 0.6906 - accuracy: 0.5928 - precision: 0.5172 - recall: 0.3261 - val_loss: 0.6365 - val_accuracy: 0.6909 - val_precision: 0.5000 - val_recall: 0.0588 - lr: 2.5000e-05 - duration: 10.2566\n",
      "Epoch 35: early stopping\n",
      "INFO:tensorflow:Assets written to: ram://9c6a1aa5-6430-41a6-a7b8-ef15ed7dbaf5/assets\n",
      "INFO:tensorflow:Assets written to: ram://9c6a1aa5-6430-41a6-a7b8-ef15ed7dbaf5/assets\n"
     ]
    },
    {
     "name": "stderr",
     "output_type": "stream",
     "text": [
      "\u001b[34m\u001b[1mwandb\u001b[0m: Waiting for artifact mobile_net_10_v1_log-fine_tuning_session_1-usbma03r to be committed...\n",
      "\n",
      "\u001b[34m\u001b[1mwandb\u001b[0m: Committed artifact aistudio/breast_cancer_detection/mobile_net_10_v1_log-fine_tuning_session_1-usbma03r:v0\n"
     ]
    },
    {
     "name": "stdout",
     "output_type": "stream",
     "text": [
      "\n",
      "\n",
      "INFO:LogThawSchedule:Thawed 5 layers of the base model.\n",
      "\n",
      "\n",
      "INFO:LogLearningRateSchedule:Set learning rate to 1e-05\n",
      "Model: \"model\"\n",
      "_________________________________________________________________\n",
      " Layer (type)                Output Shape              Param #   \n",
      "=================================================================\n",
      " input_layer (InputLayer)    [(None, 224, 224, 3)]     0         \n",
      "                                                                 \n",
      " tf.math.truediv (TFOpLambda  (None, 224, 224, 3)      0         \n",
      " )                                                               \n",
      "                                                                 \n",
      " tf.math.subtract (TFOpLambd  (None, 224, 224, 3)      0         \n",
      " a)                                                              \n",
      "                                                                 \n",
      " data_augmentation (Sequenti  (None, 224, 224, 3)      0         \n",
      " al)                                                             \n",
      "                                                                 \n",
      " mobilenetv2_1.00_224 (Funct  (None, None, None, 1280)  2257984  \n",
      " ional)                                                          \n",
      "                                                                 \n",
      " global_average_pooling_laye  (None, 1280)             0         \n",
      " r (GlobalAveragePooling2D)                                      \n",
      "                                                                 \n",
      " output_layer (Dense)        (None, 1)                 1281      \n",
      "                                                                 \n",
      "=================================================================\n",
      "Total params: 2,259,265\n",
      "Trainable params: 721,281\n",
      "Non-trainable params: 1,537,984\n",
      "_________________________________________________________________\n",
      "Epoch 36/45\n",
      "7/7 [==============================] - ETA: 0s - loss: 0.6994 - accuracy: 0.5249 - precision: 0.4110 - recall: 0.2752\n",
      "Epoch 36: val_loss improved from inf to 0.63634, saving model to models/mobile_net_10_v1_log/fine_tuning_session_2/mobile_net_10_v1_log_fine_tuning_session_2_36-val_loss_0.64.keras\n",
      "7/7 [==============================] - 16s 1s/step - loss: 0.6994 - accuracy: 0.5249 - precision: 0.4110 - recall: 0.2752 - val_loss: 0.6363 - val_accuracy: 0.6909 - val_precision: 0.5000 - val_recall: 0.0588 - lr: 1.0000e-05 - duration: 15.7266\n",
      "Epoch 37/45\n",
      "7/7 [==============================] - ETA: 0s - loss: 0.7273 - accuracy: 0.5249 - precision: 0.3617 - recall: 0.1848    \n",
      "Epoch 37: val_loss did not improve from 0.63634\n",
      "7/7 [==============================] - 10s 1s/step - loss: 0.7273 - accuracy: 0.5249 - precision: 0.3617 - recall: 0.1848 - val_loss: 0.6423 - val_accuracy: 0.6545 - val_precision: 0.2500 - val_recall: 0.0588 - lr: 1.0000e-05 - duration: 10.3583\n",
      "Epoch 38/45\n",
      "7/7 [==============================] - ETA: 0s - loss: 0.6916 - accuracy: 0.5475 - precision: 0.4355 - recall: 0.2935\n",
      "Epoch 38: val_loss did not improve from 0.63634\n",
      "7/7 [==============================] - 11s 1s/step - loss: 0.6916 - accuracy: 0.5475 - precision: 0.4355 - recall: 0.2935 - val_loss: 0.6518 - val_accuracy: 0.6727 - val_precision: 0.4286 - val_recall: 0.1765 - lr: 1.0000e-05 - duration: 10.5202\n",
      "Epoch 39/45\n",
      "7/7 [==============================] - ETA: 0s - loss: 0.6944 - accuracy: 0.5837 - precision: 0.5000 - recall: 0.3370\n",
      "Epoch 39: ReduceLROnPlateau reducing learning rate to 5e-06.\n",
      "\n",
      "Epoch 39: val_loss did not improve from 0.63634\n",
      "7/7 [==============================] - 10s 1s/step - loss: 0.6944 - accuracy: 0.5837 - precision: 0.5000 - recall: 0.3370 - val_loss: 0.6481 - val_accuracy: 0.6545 - val_precision: 0.3333 - val_recall: 0.1176 - lr: 1.0000e-05 - duration: 10.3960\n",
      "Epoch 40/45\n",
      "7/7 [==============================] - ETA: 0s - loss: 0.6828 - accuracy: 0.5475 - precision: 0.4286 - recall: 0.2609\n",
      "Epoch 40: val_loss did not improve from 0.63634\n",
      "7/7 [==============================] - 11s 1s/step - loss: 0.6828 - accuracy: 0.5475 - precision: 0.4286 - recall: 0.2609 - val_loss: 0.6523 - val_accuracy: 0.7091 - val_precision: 0.5556 - val_recall: 0.2941 - lr: 5.0000e-06 - duration: 10.5536\n",
      "Epoch 41/45\n",
      "7/7 [==============================] - ETA: 0s - loss: 0.6527 - accuracy: 0.5882 - precision: 0.5075 - recall: 0.3696\n",
      "Epoch 41: val_loss did not improve from 0.63634\n",
      "7/7 [==============================] - 11s 1s/step - loss: 0.6527 - accuracy: 0.5882 - precision: 0.5075 - recall: 0.3696 - val_loss: 0.6505 - val_accuracy: 0.6727 - val_precision: 0.4444 - val_recall: 0.2353 - lr: 5.0000e-06 - duration: 10.5060\n",
      "Epoch 42/45\n",
      "7/7 [==============================] - ETA: 0s - loss: 0.6607 - accuracy: 0.6109 - precision: 0.5455 - recall: 0.3913\n",
      "Epoch 42: ReduceLROnPlateau reducing learning rate to 2.5e-06.\n",
      "\n",
      "Epoch 42: val_loss did not improve from 0.63634\n",
      "7/7 [==============================] - 10s 987ms/step - loss: 0.6607 - accuracy: 0.6109 - precision: 0.5455 - recall: 0.3913 - val_loss: 0.6485 - val_accuracy: 0.6545 - val_precision: 0.3750 - val_recall: 0.1765 - lr: 5.0000e-06 - duration: 9.9356\n",
      "Epoch 43/45\n",
      "7/7 [==============================] - ETA: 0s - loss: 0.6363 - accuracy: 0.6018 - precision: 0.5476 - recall: 0.2500\n",
      "Epoch 43: val_loss did not improve from 0.63634\n",
      "7/7 [==============================] - 11s 1s/step - loss: 0.6363 - accuracy: 0.6018 - precision: 0.5476 - recall: 0.2500 - val_loss: 0.6492 - val_accuracy: 0.6727 - val_precision: 0.4444 - val_recall: 0.2353 - lr: 2.5000e-06 - duration: 10.5066\n",
      "Epoch 44/45\n",
      "7/7 [==============================] - ETA: 0s - loss: 0.6378 - accuracy: 0.6425 - precision: 0.5867 - recall: 0.4783Restoring model weights from the end of the best epoch: 36.\n",
      "\n",
      "Epoch 44: val_loss did not improve from 0.63634\n",
      "7/7 [==============================] - 11s 1s/step - loss: 0.6378 - accuracy: 0.6425 - precision: 0.5867 - recall: 0.4783 - val_loss: 0.6507 - val_accuracy: 0.6727 - val_precision: 0.4444 - val_recall: 0.2353 - lr: 2.5000e-06 - duration: 10.7845\n",
      "Epoch 44: early stopping\n",
      "INFO:tensorflow:Assets written to: ram://46716c12-078f-4a6a-ac1c-0468974983b9/assets\n",
      "INFO:tensorflow:Assets written to: ram://46716c12-078f-4a6a-ac1c-0468974983b9/assets\n"
     ]
    },
    {
     "name": "stderr",
     "output_type": "stream",
     "text": [
      "\u001b[34m\u001b[1mwandb\u001b[0m: Waiting for artifact mobile_net_10_v1_log-fine_tuning_session_2-usbma03r to be committed...\n",
      "\n",
      "\u001b[34m\u001b[1mwandb\u001b[0m: Committed artifact aistudio/breast_cancer_detection/mobile_net_10_v1_log-fine_tuning_session_2-usbma03r:v0\n"
     ]
    },
    {
     "name": "stdout",
     "output_type": "stream",
     "text": [
      "\n",
      "\n",
      "INFO:LogThawSchedule:Thawed 17 layers of the base model.\n",
      "\n",
      "\n",
      "INFO:LogLearningRateSchedule:Set learning rate to 1e-06\n",
      "Model: \"model\"\n",
      "_________________________________________________________________\n",
      " Layer (type)                Output Shape              Param #   \n",
      "=================================================================\n",
      " input_layer (InputLayer)    [(None, 224, 224, 3)]     0         \n",
      "                                                                 \n",
      " tf.math.truediv (TFOpLambda  (None, 224, 224, 3)      0         \n",
      " )                                                               \n",
      "                                                                 \n",
      " tf.math.subtract (TFOpLambd  (None, 224, 224, 3)      0         \n",
      " a)                                                              \n",
      "                                                                 \n",
      " data_augmentation (Sequenti  (None, 224, 224, 3)      0         \n",
      " al)                                                             \n",
      "                                                                 \n",
      " mobilenetv2_1.00_224 (Funct  (None, None, None, 1280)  2257984  \n",
      " ional)                                                          \n",
      "                                                                 \n",
      " global_average_pooling_laye  (None, 1280)             0         \n",
      " r (GlobalAveragePooling2D)                                      \n",
      "                                                                 \n",
      " output_layer (Dense)        (None, 1)                 1281      \n",
      "                                                                 \n",
      "=================================================================\n",
      "Total params: 2,259,265\n",
      "Trainable params: 1,051,841\n",
      "Non-trainable params: 1,207,424\n",
      "_________________________________________________________________\n",
      "Epoch 45/54\n",
      "7/7 [==============================] - ETA: 0s - loss: 0.7196 - accuracy: 0.5294 - precision: 0.3617 - recall: 0.1560\n",
      "Epoch 45: val_loss improved from inf to 0.64170, saving model to models/mobile_net_10_v1_log/fine_tuning_session_3/mobile_net_10_v1_log_fine_tuning_session_3_45-val_loss_0.64.keras\n",
      "7/7 [==============================] - 17s 1s/step - loss: 0.7196 - accuracy: 0.5294 - precision: 0.3617 - recall: 0.1560 - val_loss: 0.6417 - val_accuracy: 0.6727 - val_precision: 0.3333 - val_recall: 0.0588 - lr: 1.0000e-06 - duration: 16.2466\n",
      "Epoch 46/54\n",
      "7/7 [==============================] - ETA: 0s - loss: 0.6658 - accuracy: 0.6199 - precision: 0.5833 - recall: 0.3043\n",
      "Epoch 46: val_loss did not improve from 0.64170\n",
      "7/7 [==============================] - 11s 1s/step - loss: 0.6658 - accuracy: 0.6199 - precision: 0.5833 - recall: 0.3043 - val_loss: 0.6442 - val_accuracy: 0.6727 - val_precision: 0.3333 - val_recall: 0.0588 - lr: 1.0000e-06 - duration: 10.7023\n",
      "Epoch 47/54\n",
      "7/7 [==============================] - ETA: 0s - loss: 0.7143 - accuracy: 0.5385 - precision: 0.4306 - recall: 0.3370\n",
      "Epoch 47: val_loss did not improve from 0.64170\n",
      "7/7 [==============================] - 10s 1s/step - loss: 0.7143 - accuracy: 0.5385 - precision: 0.4306 - recall: 0.3370 - val_loss: 0.6446 - val_accuracy: 0.6545 - val_precision: 0.2500 - val_recall: 0.0588 - lr: 1.0000e-06 - duration: 10.0803\n",
      "Epoch 48/54\n",
      "7/7 [==============================] - ETA: 0s - loss: 0.7211 - accuracy: 0.5339 - precision: 0.4179 - recall: 0.3043\n",
      "Epoch 48: ReduceLROnPlateau reducing learning rate to 5e-07.\n",
      "\n",
      "Epoch 48: val_loss did not improve from 0.64170\n",
      "7/7 [==============================] - 10s 1s/step - loss: 0.7211 - accuracy: 0.5339 - precision: 0.4179 - recall: 0.3043 - val_loss: 0.6434 - val_accuracy: 0.6727 - val_precision: 0.3333 - val_recall: 0.0588 - lr: 1.0000e-06 - duration: 10.2626\n",
      "Epoch 49/54\n",
      "7/7 [==============================] - ETA: 0s - loss: 0.6946 - accuracy: 0.5475 - precision: 0.4444 - recall: 0.3478\n",
      "Epoch 49: val_loss did not improve from 0.64170\n",
      "7/7 [==============================] - 10s 1s/step - loss: 0.6946 - accuracy: 0.5475 - precision: 0.4444 - recall: 0.3478 - val_loss: 0.6434 - val_accuracy: 0.6545 - val_precision: 0.2500 - val_recall: 0.0588 - lr: 5.0000e-07 - duration: 10.1113\n",
      "Epoch 50/54\n",
      "7/7 [==============================] - ETA: 0s - loss: 0.6817 - accuracy: 0.5339 - precision: 0.4035 - recall: 0.2500\n",
      "Epoch 50: val_loss did not improve from 0.64170\n",
      "7/7 [==============================] - 11s 1s/step - loss: 0.6817 - accuracy: 0.5339 - precision: 0.4035 - recall: 0.2500 - val_loss: 0.6429 - val_accuracy: 0.6545 - val_precision: 0.2500 - val_recall: 0.0588 - lr: 5.0000e-07 - duration: 10.6394\n",
      "Epoch 51/54\n",
      "7/7 [==============================] - ETA: 0s - loss: 0.6981 - accuracy: 0.5566 - precision: 0.4444 - recall: 0.2609\n",
      "Epoch 51: ReduceLROnPlateau reducing learning rate to 2.5e-07.\n",
      "\n",
      "Epoch 51: val_loss did not improve from 0.64170\n",
      "7/7 [==============================] - 10s 1s/step - loss: 0.6981 - accuracy: 0.5566 - precision: 0.4444 - recall: 0.2609 - val_loss: 0.6426 - val_accuracy: 0.6545 - val_precision: 0.2500 - val_recall: 0.0588 - lr: 5.0000e-07 - duration: 10.1430\n",
      "Epoch 52/54\n",
      "7/7 [==============================] - ETA: 0s - loss: 0.6986 - accuracy: 0.5656 - precision: 0.4667 - recall: 0.3043\n",
      "Epoch 52: val_loss did not improve from 0.64170\n",
      "7/7 [==============================] - 10s 980ms/step - loss: 0.6986 - accuracy: 0.5656 - precision: 0.4667 - recall: 0.3043 - val_loss: 0.6426 - val_accuracy: 0.6545 - val_precision: 0.2500 - val_recall: 0.0588 - lr: 2.5000e-07 - duration: 9.9854\n",
      "Epoch 53/54\n",
      "7/7 [==============================] - ETA: 0s - loss: 0.6775 - accuracy: 0.5611 - precision: 0.4510 - recall: 0.2500Restoring model weights from the end of the best epoch: 45.\n",
      "\n",
      "Epoch 53: val_loss did not improve from 0.64170\n",
      "7/7 [==============================] - 11s 1s/step - loss: 0.6775 - accuracy: 0.5611 - precision: 0.4510 - recall: 0.2500 - val_loss: 0.6427 - val_accuracy: 0.6545 - val_precision: 0.2500 - val_recall: 0.0588 - lr: 2.5000e-07 - duration: 10.8903\n",
      "Epoch 53: early stopping\n",
      "INFO:tensorflow:Assets written to: ram://8c094aa8-e13d-42c2-8529-20a45dda0b56/assets\n",
      "INFO:tensorflow:Assets written to: ram://8c094aa8-e13d-42c2-8529-20a45dda0b56/assets\n"
     ]
    },
    {
     "name": "stderr",
     "output_type": "stream",
     "text": [
      "\u001b[34m\u001b[1mwandb\u001b[0m: Waiting for artifact mobile_net_10_v1_log-fine_tuning_session_3-usbma03r to be committed...\n",
      "\n",
      "\u001b[34m\u001b[1mwandb\u001b[0m: Committed artifact aistudio/breast_cancer_detection/mobile_net_10_v1_log-fine_tuning_session_3-usbma03r:v0\n"
     ]
    },
    {
     "name": "stdout",
     "output_type": "stream",
     "text": [
      "\n",
      "\n",
      "INFO:LogThawSchedule:Thawed 51 layers of the base model.\n",
      "\n",
      "\n",
      "INFO:LogLearningRateSchedule:Set learning rate to 1e-07\n",
      "Model: \"model\"\n",
      "_________________________________________________________________\n",
      " Layer (type)                Output Shape              Param #   \n",
      "=================================================================\n",
      " input_layer (InputLayer)    [(None, 224, 224, 3)]     0         \n",
      "                                                                 \n",
      " tf.math.truediv (TFOpLambda  (None, 224, 224, 3)      0         \n",
      " )                                                               \n",
      "                                                                 \n",
      " tf.math.subtract (TFOpLambd  (None, 224, 224, 3)      0         \n",
      " a)                                                              \n",
      "                                                                 \n",
      " data_augmentation (Sequenti  (None, 224, 224, 3)      0         \n",
      " al)                                                             \n",
      "                                                                 \n",
      " mobilenetv2_1.00_224 (Funct  (None, None, None, 1280)  2257984  \n",
      " ional)                                                          \n",
      "                                                                 \n",
      " global_average_pooling_laye  (None, 1280)             0         \n",
      " r (GlobalAveragePooling2D)                                      \n",
      "                                                                 \n",
      " output_layer (Dense)        (None, 1)                 1281      \n",
      "                                                                 \n",
      "=================================================================\n",
      "Total params: 2,259,265\n",
      "Trainable params: 1,856,385\n",
      "Non-trainable params: 402,880\n",
      "_________________________________________________________________\n",
      "Epoch 54/63\n",
      "7/7 [==============================] - ETA: 0s - loss: 0.6950 - accuracy: 0.5837 - precision: 0.4828 - recall: 0.2569\n",
      "Epoch 54: val_loss improved from inf to 0.64231, saving model to models/mobile_net_10_v1_log/fine_tuning_session_4/mobile_net_10_v1_log_fine_tuning_session_4_54-val_loss_0.64.keras\n",
      "7/7 [==============================] - 19s 2s/step - loss: 0.6950 - accuracy: 0.5837 - precision: 0.4828 - recall: 0.2569 - val_loss: 0.6423 - val_accuracy: 0.6727 - val_precision: 0.3333 - val_recall: 0.0588 - lr: 1.0000e-07 - duration: 18.3769\n",
      "Epoch 55/63\n",
      "7/7 [==============================] - ETA: 0s - loss: 0.7048 - accuracy: 0.5520 - precision: 0.4286 - recall: 0.2283\n",
      "Epoch 55: val_loss did not improve from 0.64231\n",
      "7/7 [==============================] - 12s 1s/step - loss: 0.7048 - accuracy: 0.5520 - precision: 0.4286 - recall: 0.2283 - val_loss: 0.6425 - val_accuracy: 0.6727 - val_precision: 0.3333 - val_recall: 0.0588 - lr: 1.0000e-07 - duration: 11.8709\n",
      "Epoch 56/63\n",
      "7/7 [==============================] - ETA: 0s - loss: 0.6832 - accuracy: 0.5701 - precision: 0.4776 - recall: 0.3478\n",
      "Epoch 56: val_loss did not improve from 0.64231\n",
      "7/7 [==============================] - 12s 1s/step - loss: 0.6832 - accuracy: 0.5701 - precision: 0.4776 - recall: 0.3478 - val_loss: 0.6424 - val_accuracy: 0.6727 - val_precision: 0.3333 - val_recall: 0.0588 - lr: 1.0000e-07 - duration: 11.8647\n",
      "Epoch 57/63\n",
      "7/7 [==============================] - ETA: 0s - loss: 0.6735 - accuracy: 0.6335 - precision: 0.6279 - recall: 0.2935\n",
      "Epoch 57: ReduceLROnPlateau reducing learning rate to 5e-08.\n",
      "\n",
      "Epoch 57: val_loss did not improve from 0.64231\n",
      "7/7 [==============================] - 13s 1s/step - loss: 0.6735 - accuracy: 0.6335 - precision: 0.6279 - recall: 0.2935 - val_loss: 0.6427 - val_accuracy: 0.6727 - val_precision: 0.3333 - val_recall: 0.0588 - lr: 1.0000e-07 - duration: 12.7116\n",
      "Epoch 58/63\n",
      "7/7 [==============================] - ETA: 0s - loss: 0.7070 - accuracy: 0.5294 - precision: 0.4167 - recall: 0.3261\n",
      "Epoch 58: val_loss did not improve from 0.64231\n",
      "7/7 [==============================] - 11s 1s/step - loss: 0.7070 - accuracy: 0.5294 - precision: 0.4167 - recall: 0.3261 - val_loss: 0.6427 - val_accuracy: 0.6727 - val_precision: 0.3333 - val_recall: 0.0588 - lr: 5.0000e-08 - duration: 11.3188\n",
      "Epoch 59/63\n",
      "7/7 [==============================] - ETA: 0s - loss: 0.7165 - accuracy: 0.5430 - precision: 0.3953 - recall: 0.1848\n",
      "Epoch 59: val_loss did not improve from 0.64231\n",
      "7/7 [==============================] - 12s 1s/step - loss: 0.7165 - accuracy: 0.5430 - precision: 0.3953 - recall: 0.1848 - val_loss: 0.6429 - val_accuracy: 0.6727 - val_precision: 0.3333 - val_recall: 0.0588 - lr: 5.0000e-08 - duration: 11.8692\n",
      "Epoch 60/63\n",
      "7/7 [==============================] - ETA: 0s - loss: 0.6690 - accuracy: 0.5611 - precision: 0.4545 - recall: 0.2717\n",
      "Epoch 60: ReduceLROnPlateau reducing learning rate to 2.5e-08.\n",
      "\n",
      "Epoch 60: val_loss did not improve from 0.64231\n",
      "7/7 [==============================] - 12s 1s/step - loss: 0.6690 - accuracy: 0.5611 - precision: 0.4545 - recall: 0.2717 - val_loss: 0.6428 - val_accuracy: 0.6727 - val_precision: 0.3333 - val_recall: 0.0588 - lr: 5.0000e-08 - duration: 12.4620\n",
      "Epoch 61/63\n",
      "7/7 [==============================] - ETA: 0s - loss: 0.7247 - accuracy: 0.5430 - precision: 0.4286 - recall: 0.2935\n",
      "Epoch 61: val_loss did not improve from 0.64231\n",
      "7/7 [==============================] - 12s 1s/step - loss: 0.7247 - accuracy: 0.5430 - precision: 0.4286 - recall: 0.2935 - val_loss: 0.6428 - val_accuracy: 0.6727 - val_precision: 0.3333 - val_recall: 0.0588 - lr: 2.5000e-08 - duration: 11.7691\n",
      "Epoch 62/63\n",
      "7/7 [==============================] - ETA: 0s - loss: 0.6856 - accuracy: 0.5611 - precision: 0.4561 - recall: 0.2826Restoring model weights from the end of the best epoch: 54.\n",
      "\n",
      "Epoch 62: val_loss did not improve from 0.64231\n",
      "7/7 [==============================] - 12s 1s/step - loss: 0.6856 - accuracy: 0.5611 - precision: 0.4561 - recall: 0.2826 - val_loss: 0.6428 - val_accuracy: 0.6727 - val_precision: 0.3333 - val_recall: 0.0588 - lr: 2.5000e-08 - duration: 11.9179\n",
      "Epoch 62: early stopping\n",
      "INFO:tensorflow:Assets written to: ram://363e19f0-ddcf-44c8-8816-396973abd044/assets\n",
      "INFO:tensorflow:Assets written to: ram://363e19f0-ddcf-44c8-8816-396973abd044/assets\n"
     ]
    },
    {
     "name": "stderr",
     "output_type": "stream",
     "text": [
      "\u001b[34m\u001b[1mwandb\u001b[0m: Waiting for artifact mobile_net_10_v1_log-fine_tuning_session_4-usbma03r to be committed...\n",
      "\n",
      "\u001b[34m\u001b[1mwandb\u001b[0m: Committed artifact aistudio/breast_cancer_detection/mobile_net_10_v1_log-fine_tuning_session_4-usbma03r:v0\n"
     ]
    },
    {
     "name": "stdout",
     "output_type": "stream",
     "text": [
      "\n",
      "\n",
      "INFO:LogThawSchedule:Thawed 154 layers of the base model.\n",
      "\n",
      "\n",
      "INFO:LogLearningRateSchedule:Set learning rate to 1e-08\n",
      "Model: \"model\"\n",
      "_________________________________________________________________\n",
      " Layer (type)                Output Shape              Param #   \n",
      "=================================================================\n",
      " input_layer (InputLayer)    [(None, 224, 224, 3)]     0         \n",
      "                                                                 \n",
      " tf.math.truediv (TFOpLambda  (None, 224, 224, 3)      0         \n",
      " )                                                               \n",
      "                                                                 \n",
      " tf.math.subtract (TFOpLambd  (None, 224, 224, 3)      0         \n",
      " a)                                                              \n",
      "                                                                 \n",
      " data_augmentation (Sequenti  (None, 224, 224, 3)      0         \n",
      " al)                                                             \n",
      "                                                                 \n",
      " mobilenetv2_1.00_224 (Funct  (None, None, None, 1280)  2257984  \n",
      " ional)                                                          \n",
      "                                                                 \n",
      " global_average_pooling_laye  (None, 1280)             0         \n",
      " r (GlobalAveragePooling2D)                                      \n",
      "                                                                 \n",
      " output_layer (Dense)        (None, 1)                 1281      \n",
      "                                                                 \n",
      "=================================================================\n",
      "Total params: 2,259,265\n",
      "Trainable params: 2,225,153\n",
      "Non-trainable params: 34,112\n",
      "_________________________________________________________________\n",
      "Epoch 63/72\n",
      "7/7 [==============================] - ETA: 0s - loss: 0.7198 - accuracy: 0.5520 - precision: 0.4286 - recall: 0.2202\n",
      "Epoch 63: val_loss improved from inf to 0.64235, saving model to models/mobile_net_10_v1_log/fine_tuning_session_5/mobile_net_10_v1_log_fine_tuning_session_5_63-val_loss_0.64.keras\n",
      "7/7 [==============================] - 32s 3s/step - loss: 0.7198 - accuracy: 0.5520 - precision: 0.4286 - recall: 0.2202 - val_loss: 0.6423 - val_accuracy: 0.6727 - val_precision: 0.3333 - val_recall: 0.0588 - lr: 1.0000e-08 - duration: 31.3910\n",
      "Epoch 64/72\n",
      "7/7 [==============================] - ETA: 0s - loss: 0.6881 - accuracy: 0.5882 - precision: 0.5075 - recall: 0.3696\n",
      "Epoch 64: val_loss did not improve from 0.64235\n",
      "7/7 [==============================] - 27s 4s/step - loss: 0.6881 - accuracy: 0.5882 - precision: 0.5075 - recall: 0.3696 - val_loss: 0.6424 - val_accuracy: 0.6727 - val_precision: 0.3333 - val_recall: 0.0588 - lr: 1.0000e-08 - duration: 27.3609\n",
      "Epoch 65/72\n",
      "7/7 [==============================] - ETA: 0s - loss: 0.7163 - accuracy: 0.5339 - precision: 0.4000 - recall: 0.2391\n",
      "Epoch 65: val_loss improved from 0.64235 to 0.64235, saving model to models/mobile_net_10_v1_log/fine_tuning_session_5/mobile_net_10_v1_log_fine_tuning_session_5_65-val_loss_0.64.keras\n",
      "7/7 [==============================] - 28s 4s/step - loss: 0.7163 - accuracy: 0.5339 - precision: 0.4000 - recall: 0.2391 - val_loss: 0.6423 - val_accuracy: 0.6727 - val_precision: 0.3333 - val_recall: 0.0588 - lr: 1.0000e-08 - duration: 27.3185\n",
      "Epoch 66/72\n",
      "7/7 [==============================] - ETA: 0s - loss: 0.6607 - accuracy: 0.6063 - precision: 0.5424 - recall: 0.3478\n",
      "Epoch 66: ReduceLROnPlateau reducing learning rate to 5e-09.\n",
      "\n",
      "Epoch 66: val_loss improved from 0.64235 to 0.64232, saving model to models/mobile_net_10_v1_log/fine_tuning_session_5/mobile_net_10_v1_log_fine_tuning_session_5_66-val_loss_0.64.keras\n",
      "7/7 [==============================] - 28s 4s/step - loss: 0.6607 - accuracy: 0.6063 - precision: 0.5424 - recall: 0.3478 - val_loss: 0.6423 - val_accuracy: 0.6727 - val_precision: 0.3333 - val_recall: 0.0588 - lr: 1.0000e-08 - duration: 27.7585\n",
      "Epoch 67/72\n",
      "7/7 [==============================] - ETA: 0s - loss: 0.6663 - accuracy: 0.5973 - precision: 0.5366 - recall: 0.2391\n",
      "Epoch 67: val_loss did not improve from 0.64232\n",
      "7/7 [==============================] - 29s 4s/step - loss: 0.6663 - accuracy: 0.5973 - precision: 0.5366 - recall: 0.2391 - val_loss: 0.6423 - val_accuracy: 0.6727 - val_precision: 0.3333 - val_recall: 0.0588 - lr: 5.0000e-09 - duration: 28.5909\n",
      "Epoch 68/72\n",
      "7/7 [==============================] - ETA: 0s - loss: 0.6730 - accuracy: 0.5792 - precision: 0.4884 - recall: 0.2283\n",
      "Epoch 68: val_loss did not improve from 0.64232\n",
      "7/7 [==============================] - 27s 3s/step - loss: 0.6730 - accuracy: 0.5792 - precision: 0.4884 - recall: 0.2283 - val_loss: 0.6423 - val_accuracy: 0.6727 - val_precision: 0.3333 - val_recall: 0.0588 - lr: 5.0000e-09 - duration: 26.7244\n",
      "Epoch 69/72\n",
      "7/7 [==============================] - ETA: 0s - loss: 0.7290 - accuracy: 0.5249 - precision: 0.4177 - recall: 0.3587\n",
      "Epoch 69: ReduceLROnPlateau reducing learning rate to 2.5e-09.\n",
      "\n",
      "Epoch 69: val_loss did not improve from 0.64232\n",
      "7/7 [==============================] - 23s 3s/step - loss: 0.7290 - accuracy: 0.5249 - precision: 0.4177 - recall: 0.3587 - val_loss: 0.6423 - val_accuracy: 0.6727 - val_precision: 0.3333 - val_recall: 0.0588 - lr: 5.0000e-09 - duration: 22.7614\n",
      "Epoch 70/72\n",
      "7/7 [==============================] - ETA: 0s - loss: 0.6701 - accuracy: 0.5701 - precision: 0.4754 - recall: 0.3152  \n",
      "Epoch 70: val_loss did not improve from 0.64232\n",
      "7/7 [==============================] - 27s 4s/step - loss: 0.6701 - accuracy: 0.5701 - precision: 0.4754 - recall: 0.3152 - val_loss: 0.6423 - val_accuracy: 0.6727 - val_precision: 0.3333 - val_recall: 0.0588 - lr: 2.5000e-09 - duration: 27.0538\n",
      "Epoch 71/72\n",
      "7/7 [==============================] - ETA: 0s - loss: 0.6816 - accuracy: 0.5792 - precision: 0.4923 - recall: 0.3478Restoring model weights from the end of the best epoch: 63.\n",
      "\n",
      "Epoch 71: val_loss did not improve from 0.64232\n",
      "7/7 [==============================] - 26s 3s/step - loss: 0.6816 - accuracy: 0.5792 - precision: 0.4923 - recall: 0.3478 - val_loss: 0.6423 - val_accuracy: 0.6727 - val_precision: 0.3333 - val_recall: 0.0588 - lr: 2.5000e-09 - duration: 26.1649\n",
      "Epoch 71: early stopping\n",
      "INFO:tensorflow:Assets written to: ram://44687d74-3721-4052-b8a7-75e1b1cd4c76/assets\n",
      "INFO:tensorflow:Assets written to: ram://44687d74-3721-4052-b8a7-75e1b1cd4c76/assets\n"
     ]
    },
    {
     "name": "stderr",
     "output_type": "stream",
     "text": [
      "\u001b[34m\u001b[1mwandb\u001b[0m: Waiting for artifact mobile_net_10_v1_log-fine_tuning_session_5-usbma03r to be committed...\n",
      "\n",
      "\u001b[34m\u001b[1mwandb\u001b[0m: Committed artifact aistudio/breast_cancer_detection/mobile_net_10_v1_log-fine_tuning_session_5-usbma03r:v0\n",
      "wandb: WARNING Source type is set to 'repo' but some required information is missing from the environment. A job will not be created from this run. See https://docs.wandb.ai/guides/launch/create-job\n"
     ]
    },
    {
     "data": {
      "text/html": [
       "<style>\n",
       "    table.wandb td:nth-child(1) { padding: 0 10px; text-align: left ; width: auto;} td:nth-child(2) {text-align: left ; width: 100%}\n",
       "    .wandb-row { display: flex; flex-direction: row; flex-wrap: wrap; justify-content: flex-start; width: 100% }\n",
       "    .wandb-col { display: flex; flex-direction: column; flex-basis: 100%; flex: 1; padding: 10px; }\n",
       "    </style>\n",
       "<div class=\"wandb-row\"><div class=\"wandb-col\"><h3>Run history:</h3><br/><table class=\"wandb\"><tr><td>epoch/accuracy</td><td>▁▅▄▃▆▃▃▂▃▆▃▄▅▅▄▄▃▄▅▆▃▄▄▇█▄▄▄▅▅▆▅▄▅▅▅▄▆▃▆</td></tr><tr><td>epoch/epoch</td><td>▁▁▁▁▂▂▂▂▂▃▃▃▃▃▃▄▄▄▄▄▅▅▅▅▅▅▆▆▆▆▆▇▇▇▇▇▇███</td></tr><tr><td>epoch/learning_rate</td><td>██████▄▄▄▄▄▄▃▂▂██▄▃▃▂▂▁▁▁▁▁▁▁▁▁▁▁▁▁▁▁▁▁▁</td></tr><tr><td>epoch/loss</td><td>█▄▅▅▃▅▅▅▅▃▅▃▃▃▄▄▄▃▄▃▃▃▃▂▁▄▄▃▃▂▃▃▃▂▃▄▄▂▄▃</td></tr><tr><td>epoch/lr</td><td>██████▄▄▄▄▄▄▃▃▂██▄▄▃▂▂▁▁▁▁▁▁▁▁▁▁▁▁▁▁▁▁▁▁</td></tr><tr><td>epoch/precision</td><td>▃▄▃▂▅▂▃▁▂▆▂▃▅▄▃▃▃▃▄▆▃▄▄▇█▂▄▄▄▄▅▅▃▄▄▄▃▇▃▅</td></tr><tr><td>epoch/recall</td><td>█▆▄▃▃▄▄▂▂▅▂▃▄▂▃▂▄▃▄▄▃▃▃▅▇▁▄▄▃▃▃▄▄▃▃▂▂▂▄▄</td></tr><tr><td>epoch/val_accuracy</td><td>▁▆██▆▆▆▆▆▆▆▆▆▆▆▆▆▆▆▆▆▃█▁▃▃▁▁▁▁▃▃▃▃▃▃▃▃▃▃</td></tr><tr><td>epoch/val_loss</td><td>▇▄▃▃▃▃▃▂▂▂▁▂▂▂▂▁▂▂▂▁▁██▆▇▄▅▄▄▄▄▄▄▄▄▄▄▄▄▄</td></tr><tr><td>epoch/val_precision</td><td>▂▃██▃▃▃▃▃▃▃▃▃▃▃▃▃▃▃▃▃▃▄▂▃▂▁▁▁▁▂▂▂▂▂▂▂▂▂▂</td></tr><tr><td>epoch/val_recall</td><td>▃▁▁▁▁▁▁▁▁▁▁▁▁▁▁▁▁▁▁▁▁▄█▄▆▁▁▁▁▁▁▁▁▁▁▁▁▁▁▁</td></tr></table><br/></div><div class=\"wandb-col\"><h3>Run summary:</h3><br/><table class=\"wandb\"><tr><td>epoch/accuracy</td><td>0.57919</td></tr><tr><td>epoch/epoch</td><td>70</td></tr><tr><td>epoch/learning_rate</td><td>0.0</td></tr><tr><td>epoch/loss</td><td>0.68157</td></tr><tr><td>epoch/lr</td><td>0.0</td></tr><tr><td>epoch/precision</td><td>0.49231</td></tr><tr><td>epoch/recall</td><td>0.34783</td></tr><tr><td>epoch/val_accuracy</td><td>0.67273</td></tr><tr><td>epoch/val_loss</td><td>0.64233</td></tr><tr><td>epoch/val_precision</td><td>0.33333</td></tr><tr><td>epoch/val_recall</td><td>0.05882</td></tr></table><br/></div></div>"
      ],
      "text/plain": [
       "<IPython.core.display.HTML object>"
      ]
     },
     "metadata": {},
     "output_type": "display_data"
    },
    {
     "data": {
      "text/html": [
       " View run <strong style=\"color:#cdcd00\">good-forest-43</strong> at: <a href='https://wandb.ai/aistudio/breast_cancer_detection/runs/usbma03r' target=\"_blank\">https://wandb.ai/aistudio/breast_cancer_detection/runs/usbma03r</a><br/>Synced 6 W&B file(s), 0 media file(s), 6 artifact file(s) and 0 other file(s)"
      ],
      "text/plain": [
       "<IPython.core.display.HTML object>"
      ]
     },
     "metadata": {},
     "output_type": "display_data"
    },
    {
     "data": {
      "text/html": [
       "Find logs at: <code>./wandb/run-20240128_094424-usbma03r/logs</code>"
      ],
      "text/plain": [
       "<IPython.core.display.HTML object>"
      ]
     },
     "metadata": {},
     "output_type": "display_data"
    }
   ],
   "source": [
    "ft = FineTuner(name=name, \n",
    "               train_ds=train_ds, \n",
    "               validation_ds=val_ds, \n",
    "               repo=repo,\n",
    "               thaw_schedule=thaw_schedule,\n",
    "               learning_rate_schedule=learning_rate_schedule,               \n",
    "               metrics=metrics,\n",
    "               fine_tune_epochs=fine_tune_epochs,\n",
    "               sessions=fine_tune_sessions,\n",
    "               callbacks=[early_stop_callback, reduce_lr_callback, wandb_callback],\n",
    "               )\n",
    "ft.tune(model=model, historian=historian, force=force)\n",
    "run.finish()"
   ]
  },
  {
   "cell_type": "markdown",
   "metadata": {},
   "source": [
    "## Learning Curves"
   ]
  },
  {
   "cell_type": "code",
   "execution_count": 9,
   "metadata": {},
   "outputs": [
    {
     "data": {
      "image/png": "[encoded data removed]",
      "text/plain": [
       "<Figure size 1200x400 with 2 Axes>"
      ]
     },
     "metadata": {},
     "output_type": "display_data"
    }
   ],
   "source": [
    "# Plot the historian\n",
    "historian.plot_learning_curves()"
   ]
  },
  {
   "cell_type": "markdown",
   "metadata": {},
   "source": [
    "## Evaluation"
   ]
  },
  {
   "cell_type": "raw",
   "metadata": {},
   "source": [
    "results = model.evaluate(test_ds, batch_size=batch_size)\n",
    "print(\"Test Loss, Test Accuracy: \", results)"
   ]
  }
 ],
 "metadata": {
  "kernelspec": {
   "display_name": "bcd",
   "language": "python",
   "name": "python3"
  },
  "language_info": {
   "codemirror_mode": {
    "name": "ipython",
    "version": 3
   },
   "file_extension": ".py",
   "mimetype": "text/x-python",
   "name": "python",
   "nbconvert_exporter": "python",
   "pygments_lexer": "ipython3",
   "version": "3.10.12"
  }
 },
 "nbformat": 4,
 "nbformat_minor": 2
}
