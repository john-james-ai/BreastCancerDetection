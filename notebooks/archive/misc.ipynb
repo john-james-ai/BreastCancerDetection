{
 "cells": [
  {
   "cell_type": "code",
   "execution_count": 2,
   "metadata": {},
   "outputs": [],
   "source": [
    "import os\n",
    "import pandas as pd\n",
    "import numpy as np"
   ]
  },
  {
   "cell_type": "code",
   "execution_count": 2,
   "metadata": {},
   "outputs": [],
   "source": [
    "fp = \"data/meta/0_raw/calc_case_description_test_set.csv\"\n"
   ]
  },
  {
   "cell_type": "code",
   "execution_count": 4,
   "metadata": {},
   "outputs": [
    {
     "name": "stdout",
     "output_type": "stream",
     "text": [
      "<class 'pandas.core.frame.DataFrame'>\n",
      "RangeIndex: 326 entries, 0 to 325\n",
      "Data columns (total 14 columns):\n",
      " #   Column                   Non-Null Count  Dtype \n",
      "---  ------                   --------------  ----- \n",
      " 0   patient_id               326 non-null    object\n",
      " 1   breast density           326 non-null    int64 \n",
      " 2   left or right breast     326 non-null    object\n",
      " 3   image view               326 non-null    object\n",
      " 4   abnormality id           326 non-null    int64 \n",
      " 5   abnormality type         326 non-null    object\n",
      " 6   calc type                322 non-null    object\n",
      " 7   calc distribution        263 non-null    object\n",
      " 8   assessment               326 non-null    int64 \n",
      " 9   pathology                326 non-null    object\n",
      " 10  subtlety                 326 non-null    int64 \n",
      " 11  image file path          326 non-null    object\n",
      " 12  cropped image file path  326 non-null    object\n",
      " 13  ROI mask file path       326 non-null    object\n",
      "dtypes: int64(4), object(10)\n",
      "memory usage: 35.8+ KB\n"
     ]
    },
    {
     "data": {
      "text/plain": [
       "'Calc-Test_P_00038_LEFT_CC/1.3.6.1.4.1.9590.100.1.2.85935434310203356712688695661986996009/1.3.6.1.4.1.9590.100.1.2.374115997511889073021386151921807063992/000000.dcm'"
      ]
     },
     "execution_count": 4,
     "metadata": {},
     "output_type": "execute_result"
    }
   ],
   "source": [
    "meta = pd.read_csv(fp)\n",
    "meta.info()\n",
    "meta.iloc[0][\"image file path\"]"
   ]
  },
  {
   "cell_type": "code",
   "execution_count": 9,
   "metadata": {},
   "outputs": [
    {
     "data": {
      "text/plain": [
       "array([1.e-06, 1.e-07, 1.e-08, 1.e-09, 1.e-10])"
      ]
     },
     "execution_count": 9,
     "metadata": {},
     "output_type": "execute_result"
    }
   ],
   "source": [
    "a = 1e-6\n",
    "b = 1e-10\n",
    "np.geomspace(a,b,5)"
   ]
  }
 ],
 "metadata": {
  "kernelspec": {
   "display_name": "bcd",
   "language": "python",
   "name": "python3"
  },
  "language_info": {
   "codemirror_mode": {
    "name": "ipython",
    "version": 3
   },
   "file_extension": ".py",
   "mimetype": "text/x-python",
   "name": "python",
   "nbconvert_exporter": "python",
   "pygments_lexer": "ipython3",
   "version": "3.10.12"
  }
 },
 "nbformat": 4,
 "nbformat_minor": 2
}
