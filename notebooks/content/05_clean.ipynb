{
 "cells": [
  {
   "cell_type": "markdown",
   "metadata": {},
   "source": [
    "# Data Cleaning\n",
    "In the prior section, we identified a few anomalies to correct. This brief notebook execute the following data cleaning steps:\n",
    "1. Remove cases with invalid subtlety values   \n",
    "2. Set values to 'NOT APPLICABLE' where appropriate, e.g., mass shape and margins are not applicable to calcification cases and will be set as such.\n",
    "3. Perform Multivariate Imputation by Chained Equations (MICE) to predict missing values in the dataset.\n",
    "\n",
    "Once complete, we'll conduct a random inspection of the data and run a final data quality analysis."
   ]
  },
  {
   "cell_type": "code",
   "execution_count": null,
   "metadata": {},
   "outputs": [],
   "source": [
    "import os\n",
    "if 'jbook' in os.getcwd():\n",
    "    os.chdir(os.path.abspath(os.path.join(\"../..\")))\n",
    "\n",
    "import pandas as pd\n",
    "import numpy as np\n",
    "\n",
    "from bcd.data.prep.case import CaseImputer\n",
    "pd.options.display.max_rows = 999\n",
    "\n",
    "from bcd.data.dqa.case import MassCaseDQA, CalcCaseDQA\n",
    "from bcd.data import CALC_VARIABLES, MASS_VARIABLES"
   ]
  },
  {
   "cell_type": "code",
   "execution_count": null,
   "metadata": {},
   "outputs": [],
   "source": [
    "FP_IN = \"data/staged/case.csv\"\n",
    "FP_CLEAN_CASES = \"data/clean/cases.csv\"\n",
    "FP_CLEAN_CALC =  \"data/clean/calc_cases.csv\"\n",
    "FP_CLEAN_MASS =  \"data/clean/mass_cases.csv\"\n",
    "CASES_TO_REMOVE = ['P_00710_RIGHT_mass_MLO_1', 'P_00710_RIGHT_mass_CC_1']"
   ]
  },
  {
   "cell_type": "markdown",
   "metadata": {},
   "source": [
    "## Setup\n",
    "First, we'll load the data, and capture the original data. Next, we'll set invalid values for breast density to NA so that they will be picked up by the imputer. Then, set mass and calcification specific variables to NA where appropriate. Finally, we'll capture the rows with missing data for final comparison."
   ]
  },
  {
   "cell_type": "code",
   "execution_count": null,
   "metadata": {},
   "outputs": [],
   "source": [
    "# Load data and capture original version.\n",
    "df_orig = pd.read_csv(FP_IN)\n",
    "df_interim = df_orig"
   ]
  },
  {
   "cell_type": "code",
   "execution_count": null,
   "metadata": {},
   "outputs": [],
   "source": [
    "# Set invalid values for breast_density to NA\n",
    "df_interim['breast_density'] = df_interim['breast_density'].replace(0, np.NAN)"
   ]
  },
  {
   "cell_type": "code",
   "execution_count": null,
   "metadata": {},
   "outputs": [],
   "source": [
    "# Set case and mass data to NOT APPLICABLE where appropriate.\n",
    "df_interim.loc[df_interim['abnormality_type'] == 'calcification', 'mass_shape'] = 'NA'\n",
    "df_interim.loc[df_interim['abnormality_type'] == 'calcification', 'mass_margins'] = 'NA'\n",
    "df_interim.loc[df_interim['abnormality_type'] == 'mass', 'calc_type'] = 'NA'\n",
    "df_interim.loc[df_interim['abnormality_type'] == 'mass', 'calc_distribution'] = 'NA'"
   ]
  },
  {
   "cell_type": "code",
   "execution_count": null,
   "metadata": {},
   "outputs": [],
   "source": [
    "# Grab rows with missing data\n",
    "null_mask = df_interim.isnull().any(axis=1)\n",
    "df_missing = df_interim[null_mask]\n",
    "msg = f\"There are {df_missing.shape[0]} rows (approximately {round(df_missing.shape[0] / df_orig.shape[0] * 100,1)}% of the dataset) with missing data in the dataset.\"\n",
    "print(msg)"
   ]
  },
  {
   "cell_type": "markdown",
   "metadata": {},
   "source": [
    "## Data Removal"
   ]
  },
  {
   "cell_type": "code",
   "execution_count": null,
   "metadata": {},
   "outputs": [],
   "source": [
    "df_interim = df_interim.loc[~df_interim['case_id'].isin(CASES_TO_REMOVE)]\n",
    "msg = f\"A total of {df_orig.shape[0] - df_interim.shape[0]} rows were removed from the dataset, leaving {df_interim.shape[0]} rows.\"\n",
    "print(msg)"
   ]
  },
  {
   "cell_type": "markdown",
   "metadata": {},
   "source": [
    "## Data Imputation\n",
    "Multiple Imputation by Chained Equations (MICE) is a robust, informative method of estimating missing values in datasets. The procedure imputes missing data through an iterative series of predictive models which estimate the value of missing data using the other variables in the dataset. For this, we'll use our CaseImputer which wraps scikit-learn's IterativeImputer implementation of MICE."
   ]
  },
  {
   "cell_type": "code",
   "execution_count": null,
   "metadata": {},
   "outputs": [],
   "source": [
    "imp = CaseImputer(random_state=5)\n",
    "imp.fit(df=df_interim)\n",
    "df_clean = imp.transform(df=df_interim)"
   ]
  },
  {
   "cell_type": "markdown",
   "metadata": {},
   "source": [
    "## Save Data"
   ]
  },
  {
   "cell_type": "code",
   "execution_count": null,
   "metadata": {},
   "outputs": [],
   "source": [
    "os.makedirs(os.path.dirname(FP_CLEAN_CASES), exist_ok=True)\n",
    "df_clean.to_csv(FP_CLEAN_CASES, index=False)\n",
    "df_calc = df_clean[CALC_VARIABLES].loc[df_clean['abnormality_type'] == 'calcification']\n",
    "df_mass = df_clean[MASS_VARIABLES].loc[df_clean['abnormality_type'] == 'mass']\n",
    "df_calc.to_csv(FP_CLEAN_CALC, index=False)\n",
    "df_mass.to_csv(FP_CLEAN_MASS, index=False)"
   ]
  },
  {
   "cell_type": "markdown",
   "metadata": {},
   "source": [
    "## Random Sample Inspection"
   ]
  },
  {
   "cell_type": "markdown",
   "metadata": {},
   "source": [
    "Let's take a look at a random sampling of the missing data and compare."
   ]
  },
  {
   "cell_type": "code",
   "execution_count": null,
   "metadata": {},
   "outputs": [],
   "source": [
    "sample_cases = df_missing['case_id'].sample(10)\n",
    "df_missing.loc[df_missing['case_id'].isin(sample_cases)]\n",
    "df_clean.loc[df_clean['case_id'].isin(sample_cases)]"
   ]
  },
  {
   "cell_type": "markdown",
   "metadata": {},
   "source": [
    "## Data Quality Analysis 2.0\n",
    "Ok, let's have another go at the data quality analysis."
   ]
  },
  {
   "cell_type": "markdown",
   "metadata": {},
   "source": [
    "### Completeness Analysis"
   ]
  },
  {
   "cell_type": "code",
   "execution_count": null,
   "metadata": {},
   "outputs": [],
   "source": [
    "dqc = CalcCaseDQA(filepath=FP_CLEAN_CALC)\n",
    "dqm = MassCaseDQA(filepath=FP_CLEAN_MASS)\n",
    "dqcc = dqc.analyze_completeness()\n",
    "dqmc = dqm.analyze_completeness()"
   ]
  },
  {
   "cell_type": "code",
   "execution_count": null,
   "metadata": {},
   "outputs": [],
   "source": [
    "print(dqcc.summary)\n",
    "print(dqmc.summary)"
   ]
  },
  {
   "cell_type": "markdown",
   "metadata": {},
   "source": [
    "We're complete."
   ]
  },
  {
   "cell_type": "markdown",
   "metadata": {},
   "source": [
    "### Uniqueness Analysis"
   ]
  },
  {
   "cell_type": "code",
   "execution_count": null,
   "metadata": {},
   "outputs": [],
   "source": [
    "dqcu = dqc.analyze_uniqueness()\n",
    "dqmu = dqm.analyze_uniqueness()\n",
    "print(dqcu.summary)\n",
    "print(dqmu.summary)"
   ]
  },
  {
   "cell_type": "markdown",
   "metadata": {},
   "source": [
    "We're unique."
   ]
  },
  {
   "cell_type": "markdown",
   "metadata": {},
   "source": [
    "### Validity Analysis"
   ]
  },
  {
   "cell_type": "code",
   "execution_count": null,
   "metadata": {},
   "outputs": [],
   "source": [
    "dqcv = dqc.analyze_validity()\n",
    "dqmv = dqm.analyze_validity()\n",
    "print(dqcv.summary)\n",
    "print(dqmv.summary)"
   ]
  },
  {
   "cell_type": "markdown",
   "metadata": {},
   "source": [
    "We're valid. This concludes the data cleaning exercise."
   ]
  }
 ],
 "metadata": {
  "kernelspec": {
   "display_name": "bcd",
   "language": "python",
   "name": "python3"
  },
  "language_info": {
   "codemirror_mode": {
    "name": "ipython",
    "version": 3
   },
   "file_extension": ".py",
   "mimetype": "text/x-python",
   "name": "python",
   "nbconvert_exporter": "python",
   "pygments_lexer": "ipython3",
   "version": "3.10.12"
  },
  "orig_nbformat": 4
 },
 "nbformat": 4,
 "nbformat_minor": 2
}
