{
 "cells": [
  {
   "cell_type": "markdown",
   "metadata": {},
   "source": [
    "# CBIS-DDSM Data Preparation\n",
    "Downstream data quality and exploratory analyses requires data that has relevance for the study, minimal or no data duplication or anomalies, referential integrity, no transitive dependencies, and a format, type, and structure so that analyses are efficient, inferences are correct, and insights have impact. In this section, we condition and optimize the data, its structure, organization, and format to support downstream exploratory data analysis.\n",
    "\n",
    "This exercise will produce three datasets essential to the exploratory effort:\n",
    "1. Case Description: Mass and calcification clinical data with cross-references to DICOM series.\n",
    "2. Series Metadata: Series data mapped to file locations. \n",
    "3. DICOM Metadata: DICOM image properties such as bit rate, width, height, and pixel value ranges.\n"
   ]
  },
  {
   "cell_type": "code",
   "execution_count": 1,
   "metadata": {},
   "outputs": [],
   "source": [
    "import os\n",
    "if 'jbook' in os.getcwd():\n",
    "    os.chdir(os.path.abspath(os.path.join(\"../..\")))\n",
    "\n",
    "from bcd.data.case.prep import CasePrep\n",
    "from bcd.data.series.prep import SeriesPrep\n",
    "from bcd.data.dicom.prep import DicomPrep"
   ]
  },
  {
   "cell_type": "markdown",
   "metadata": {},
   "source": [
    "## Case Description\n",
    "Several data preparation tasks are performed on the mass and calcification case descriptive datasets. \n",
    "\n",
    "1. **Combined Case Datasets**: The mass and calcification cases are split into separate training and test sets to support modeling and consistent evaluation of diagnostic methods. Exploratory data analysis; by-contrast, examines the *entire* dataset, before any assumptions are made on the data. We combine the training and test sets by BI-RADS category to ensure that we have an appropriate top-down view of the forest, and the trees.\n",
    "2. **Series UID, not File Paths**: The case description datasets contain incorrect file paths for the full, cropped, and ROI mask images. However, the file paths include Series UID, which can be mapped to the correct file location via series metadata. Here, we replace these file paths with the series uids, contained therein.\n",
    "3. **Benign is Benign**: Case descriptions have a pathology of 'BENIGN', 'MALIGNANT', and 'BENIGN WITHOUT CALLBACK'. The latter means that the region is suspicious and should be monitored, but no further investigation is required. This distinction isn't relevant to this study; hence, 'BENIGN WITHOUT CALLBACK' will be replaced by 'BENIGN'."
   ]
  },
  {
   "cell_type": "code",
   "execution_count": 2,
   "metadata": {
    "tags": [
     "remove-input"
    ]
   },
   "outputs": [],
   "source": [
    "# Calc Filepaths\n",
    "CALC_TRAIN_FP = \"data/raw/meta/calc_case_description_train_set.csv\"\n",
    "CALC_TEST_FP = \"data/raw/meta/calc_case_description_test_set.csv\"\n",
    "CALC_FP = \"data/staged/calc_cases.csv\"\n",
    "\n",
    "# Mass Filepaths\n",
    "MASS_TRAIN_FP = \"data/raw/meta/mass_case_description_train_set.csv\"\n",
    "MASS_TEST_FP = \"data/raw/meta/mass_case_description_test_set.csv\"\n",
    "MASS_FP = \"data/staged/mass_cases.csv\""
   ]
  },
  {
   "cell_type": "code",
   "execution_count": 3,
   "metadata": {},
   "outputs": [],
   "source": [
    "case = CasePrep()\n",
    "case.prep(train_fp=CALC_TRAIN_FP, test_fp=CALC_TEST_FP, cases_fp=CALC_FP)\n",
    "case.prep(train_fp=MASS_TRAIN_FP, test_fp=MASS_TEST_FP, cases_fp=MASS_FP)"
   ]
  },
  {
   "cell_type": "markdown",
   "metadata": {},
   "source": [
    "## Series Metadata\n",
    "The purpose of the series metadata is map a series identifier to the location of its files. Variables must be relevant to that purpose, or removed. To that end, the following variables will be removed from the series metadata dataset:\n",
    "\n",
    "| # |   Variable    | Description                         |       Rationale      |\n",
    "|---|---------------|-------------------------------------|----------------------|\n",
    "| 1 | collection    | Name of collection (CBIS-DDSM)      |       Relevance      |\n",
    "| 2 | data_description_uri | The URI for the CBIS-DDSM Data Description | Relevance |\n",
    "| 3 | subject_id | Composite of file set, BI-RADS category, patient id, breast side, and view | Relevance, Redundancy | \n",
    "| 4 | study_uid  | Study identifier | Relevance, Transitive Dependence |\n",
    "| 5 | study_date | Date study was conducted | Relevance |\n",
    "| 6 | modality | Contains single value: \"MG'  | Relevance |\n",
    "| 7 | sop_class_name | DICOM SOP Class  | Relevance |\n",
    "| 8 | sop_class_uid | DICOM SOP UID  | Relevance |\n",
    "| 9 | file_size | The file to which this refers is unclear.  | Relevance, Transitive Dependency |\n",
    "| 10 | download_timestamp | Datetime the data were downloaded  | Relevance |\n",
    "\n",
    "Once the spurious data are removed, the series metadata file will contain:\n",
    "- Series UID: A unique identifier for the series\n",
    "- Series Description: Specifies wether the series includes full mammography, cropped images, or ROI masks.\n",
    "- Number of Images: The number of images in the series\n",
    "- File Location: The directory containing the images"
   ]
  },
  {
   "cell_type": "code",
   "execution_count": 4,
   "metadata": {},
   "outputs": [],
   "source": [
    "SERIES_INPUT_FP = \"data/raw/meta/metadata.csv\"\n",
    "SERIES_OUTPUT_FP = \"data/staged/series.csv\""
   ]
  },
  {
   "cell_type": "code",
   "execution_count": 5,
   "metadata": {},
   "outputs": [],
   "source": [
    "series = SeriesPrep()\n",
    "series.prep(fp_in=SERIES_INPUT_FP, fp_out=SERIES_OUTPUT_FP)"
   ]
  },
  {
   "cell_type": "markdown",
   "metadata": {},
   "source": [
    "## Dicom Metadata\n",
    "DICOM image properties are buried within the DICOM image files. Here, we extract the following image metadata properties from the DICOM image files and store them in a csv file for downstream analysis and image data processing:\n",
    "\n",
    "- Series UID: The unique identifier for the series.\n",
    "- Patient Id: A unique identifier for each patient.\n",
    "- Side: Left or right breast.\n",
    "- Image View: Either craniocaudal (CC) or mediolateral oblique (MLO) view.\n",
    "- Height: Number of rows in the image pixel data.\n",
    "- Width: Number of columns in the image pixel data.\n",
    "- Bits: The number of bits stored in the image.\n",
    "- Smallest Image Pixel Value\n",
    "- Largest Image Pixel Value\n",
    "- Pixel Value Range\n"
   ]
  },
  {
   "cell_type": "code",
   "execution_count": 6,
   "metadata": {},
   "outputs": [],
   "source": [
    "LOCATION = \"data/raw/CBIS-DDSM\"\n",
    "DICOM_FP = \"data/staged/dicom.csv\"\n",
    "SKIP_LIST = [\"Mass-Training_P_01382_LEFT_MLO/07-20-2016-DDSM-93921/1.000000-full mammogram images-05891/1-1.dcm\"]"
   ]
  },
  {
   "cell_type": "code",
   "execution_count": 7,
   "metadata": {},
   "outputs": [
    {
     "name": "stdout",
     "output_type": "stream",
     "text": [
      "DEBUG:bcd.data.dicom.prep:Number of filepaths: 10239\n",
      "DEBUG:bcd.data.dicom.prep:Number of filtered filepaths: 10238\n",
      "DEBUG:bcd.data.dicom.prep:Length of DICOM data: 10238\n",
      "DEBUG:bcd.data.dicom.prep:Shape of DICOM Data: (10238, 11)\n"
     ]
    }
   ],
   "source": [
    "dicom = DicomPrep()\n",
    "dicom.prep(location=LOCATION, dicom_fp=DICOM_FP, skip_list=SKIP_LIST)"
   ]
  }
 ],
 "metadata": {
  "kernelspec": {
   "display_name": "bcd",
   "language": "python",
   "name": "python3"
  },
  "language_info": {
   "codemirror_mode": {
    "name": "ipython",
    "version": 3
   },
   "file_extension": ".py",
   "mimetype": "text/x-python",
   "name": "python",
   "nbconvert_exporter": "python",
   "pygments_lexer": "ipython3",
   "version": "3.10.12"
  },
  "orig_nbformat": 4
 },
 "nbformat": 4,
 "nbformat_minor": 2
}
