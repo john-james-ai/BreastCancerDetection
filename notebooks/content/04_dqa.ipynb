{
 "cells": [
  {
   "cell_type": "markdown",
   "metadata": {},
   "source": [
    "# CBIS-DDSM Data Quality Analysis (DQA)\n",
    "In the previous section, we began the process of transforming the raw CBIS-DDSM case and DICOM data into a structure and format more suitable for analysis. The purpose of this effort is to identify potential data quality issues, errors, and anomalies requiring further data preprocessing, prior to the analysis stage. \n",
    "\n",
    "## Datasets\n",
    "The scope of this analysis includes the following datasets:\n",
    "\n",
    "| Dataset             | Description                                        |\n",
    "|---------------------|----------------------------------------------------|\n",
    "| Master Case Dataset | Calcification and mass case training and test sets |\n",
    "| DICOM Dataset       | DICOM Image Metadata                               |\n",
    "\n",
    "### Approach\n",
    "Our approach will touch on four dimensions of data quality.\n",
    "\n",
    "| # | Dimension | Definition | Metric | Metric Definition |\n",
    "|---|----------------|-------------------------------------|----------------|-------------------------------------|\n",
    "| 1 | Completeness | Are the data complete? | Completeness Ratio | Ratio of non-null data values / rows over the total number of data values / rows |\n",
    "| 2 | Uniqueness | Are their duplicate records | Uniqueness Ratio | Ratio of unique data values / rows over total number of data values / rows |\n",
    "| 3 | Validity   | Are the values consistent with defined rules? | Validity Ratio | Ratio of valid cells / rows over total number of data cells / rows |\n",
    "| 4 | Consistency   | Are the data consistent across datasets? | Consistency Ratio | Ratio of consistent data pairs over total data pairs evaluated |\n",
    "\n",
    "Note, accuracy and relevance, two additional dimensions of data quality, are missing from this analysis. An accuracy evaluation requires an external source-of-truth against which, the CBIS-DDSM data are compared. As we lack such a data source, we have no basis for evaluating the accuracy of the CBIS-DDSM data collection. With respect to relevance, duplicate and irrelevant data were removed from the data collection during the previous data preparation exercise."
   ]
  },
  {
   "cell_type": "code",
   "execution_count": 1,
   "metadata": {},
   "outputs": [],
   "source": [
    "import os\n",
    "if 'jbook' in os.getcwd():\n",
    "    os.chdir(os.path.abspath(os.path.join(\"../..\")))\n",
    "\n",
    "import pandas as pd\n",
    "from IPython.display import HTML, display_html\n",
    "import numpy as np\n",
    "\n",
    "from bcd.data.dqa.case import MassCaseDQA, CalcCaseDQA\n",
    "from bcd.data.dqa.dicom import DicomDQA\n",
    "\n",
    "pd.set_option('display.max_colwidth', 200)"
   ]
  },
  {
   "cell_type": "code",
   "execution_count": 2,
   "metadata": {
    "tags": [
     "remove-input"
    ]
   },
   "outputs": [],
   "source": [
    "# Filepaths\n",
    "fpc = \"data/staged/calc_cases.csv\"\n",
    "fpm = \"data/staged/mass_cases.csv\"\n",
    "fpd = \"data/staged/dicom.csv\""
   ]
  },
  {
   "cell_type": "markdown",
   "metadata": {},
   "source": [
    "## Master Case Dataset\n"
   ]
  },
  {
   "cell_type": "markdown",
   "metadata": {},
   "source": [
    "### Completeness Analysis"
   ]
  },
  {
   "cell_type": "code",
   "execution_count": 3,
   "metadata": {},
   "outputs": [
    {
     "name": "stdout",
     "output_type": "stream",
     "text": [
      "\n",
      "\n",
      "                          Completeness                          \n",
      "                         Dataset | Calc Cases\n",
      "                        Filename | calc_cases.csv\n",
      "                         Records | 1872\n",
      "                Complete Records | 1409\n",
      "             Record Completeness | 0.753\n",
      "                     Data Values | 26208\n",
      "            Complete Data Values | 25745\n",
      "         Data Value Completeness | 0.982\n",
      "\n",
      " \n",
      "\n",
      "                          Completeness                          \n",
      "                         Dataset | Mass Cases\n",
      "                        Filename | mass_cases.csv\n",
      "                         Records | 1696\n",
      "                Complete Records | 1634\n",
      "             Record Completeness | 0.963\n",
      "                     Data Values | 23744\n",
      "            Complete Data Values | 23680\n",
      "         Data Value Completeness | 0.997\n",
      "\n",
      " "
     ]
    }
   ],
   "source": [
    "dqc = CalcCaseDQA(filepath=fpc)\n",
    "dqm = MassCaseDQA(filepath=fpm)\n",
    "dqcc = dqc.analyze_completeness()\n",
    "dqmc = dqm.analyze_completeness()\n",
    "print(dqcc.summary, end=\" \")\n",
    "print(dqmc.summary, end=\" \")\n"
   ]
  },
  {
   "cell_type": "markdown",
   "metadata": {},
   "source": [
    "Calcification cases have a record and data value completeness of 0.753 and 0.982 respectively. On the other hand, mass record and data value completeness was 0.96 and 0.997 respectively. Let's examine data value completeness for the calcification cases."
   ]
  },
  {
   "cell_type": "code",
   "execution_count": 4,
   "metadata": {},
   "outputs": [
    {
     "data": {
      "text/html": [
       "<div>\n",
       "<style scoped>\n",
       "    .dataframe tbody tr th:only-of-type {\n",
       "        vertical-align: middle;\n",
       "    }\n",
       "\n",
       "    .dataframe tbody tr th {\n",
       "        vertical-align: top;\n",
       "    }\n",
       "\n",
       "    .dataframe thead th {\n",
       "        text-align: right;\n",
       "    }\n",
       "</style>\n",
       "<table border=\"1\" class=\"dataframe\">\n",
       "  <thead>\n",
       "    <tr style=\"text-align: right;\">\n",
       "      <th></th>\n",
       "      <th>N</th>\n",
       "      <th>Complete</th>\n",
       "      <th>Missing</th>\n",
       "      <th>Completeness</th>\n",
       "    </tr>\n",
       "  </thead>\n",
       "  <tbody>\n",
       "    <tr>\n",
       "      <th>patient_id</th>\n",
       "      <td>1872</td>\n",
       "      <td>1872</td>\n",
       "      <td>0</td>\n",
       "      <td>1.00</td>\n",
       "    </tr>\n",
       "    <tr>\n",
       "      <th>breast_density</th>\n",
       "      <td>1872</td>\n",
       "      <td>1872</td>\n",
       "      <td>0</td>\n",
       "      <td>1.00</td>\n",
       "    </tr>\n",
       "    <tr>\n",
       "      <th>left_or_right_breast</th>\n",
       "      <td>1872</td>\n",
       "      <td>1872</td>\n",
       "      <td>0</td>\n",
       "      <td>1.00</td>\n",
       "    </tr>\n",
       "    <tr>\n",
       "      <th>image_view</th>\n",
       "      <td>1872</td>\n",
       "      <td>1872</td>\n",
       "      <td>0</td>\n",
       "      <td>1.00</td>\n",
       "    </tr>\n",
       "    <tr>\n",
       "      <th>abnormality_id</th>\n",
       "      <td>1872</td>\n",
       "      <td>1872</td>\n",
       "      <td>0</td>\n",
       "      <td>1.00</td>\n",
       "    </tr>\n",
       "    <tr>\n",
       "      <th>abnormality_type</th>\n",
       "      <td>1872</td>\n",
       "      <td>1872</td>\n",
       "      <td>0</td>\n",
       "      <td>1.00</td>\n",
       "    </tr>\n",
       "    <tr>\n",
       "      <th>calc_type</th>\n",
       "      <td>1872</td>\n",
       "      <td>1848</td>\n",
       "      <td>24</td>\n",
       "      <td>0.99</td>\n",
       "    </tr>\n",
       "    <tr>\n",
       "      <th>calc_distribution</th>\n",
       "      <td>1872</td>\n",
       "      <td>1433</td>\n",
       "      <td>439</td>\n",
       "      <td>0.77</td>\n",
       "    </tr>\n",
       "    <tr>\n",
       "      <th>assessment</th>\n",
       "      <td>1872</td>\n",
       "      <td>1872</td>\n",
       "      <td>0</td>\n",
       "      <td>1.00</td>\n",
       "    </tr>\n",
       "    <tr>\n",
       "      <th>pathology</th>\n",
       "      <td>1872</td>\n",
       "      <td>1872</td>\n",
       "      <td>0</td>\n",
       "      <td>1.00</td>\n",
       "    </tr>\n",
       "    <tr>\n",
       "      <th>subtlety</th>\n",
       "      <td>1872</td>\n",
       "      <td>1872</td>\n",
       "      <td>0</td>\n",
       "      <td>1.00</td>\n",
       "    </tr>\n",
       "    <tr>\n",
       "      <th>fileset</th>\n",
       "      <td>1872</td>\n",
       "      <td>1872</td>\n",
       "      <td>0</td>\n",
       "      <td>1.00</td>\n",
       "    </tr>\n",
       "    <tr>\n",
       "      <th>case_id</th>\n",
       "      <td>1872</td>\n",
       "      <td>1872</td>\n",
       "      <td>0</td>\n",
       "      <td>1.00</td>\n",
       "    </tr>\n",
       "    <tr>\n",
       "      <th>cancer</th>\n",
       "      <td>1872</td>\n",
       "      <td>1872</td>\n",
       "      <td>0</td>\n",
       "      <td>1.00</td>\n",
       "    </tr>\n",
       "  </tbody>\n",
       "</table>\n",
       "</div>"
      ],
      "text/plain": [
       "                         N  Complete  Missing  Completeness\n",
       "patient_id            1872      1872        0          1.00\n",
       "breast_density        1872      1872        0          1.00\n",
       "left_or_right_breast  1872      1872        0          1.00\n",
       "image_view            1872      1872        0          1.00\n",
       "abnormality_id        1872      1872        0          1.00\n",
       "abnormality_type      1872      1872        0          1.00\n",
       "calc_type             1872      1848       24          0.99\n",
       "calc_distribution     1872      1433      439          0.77\n",
       "assessment            1872      1872        0          1.00\n",
       "pathology             1872      1872        0          1.00\n",
       "subtlety              1872      1872        0          1.00\n",
       "fileset               1872      1872        0          1.00\n",
       "case_id               1872      1872        0          1.00\n",
       "cancer                1872      1872        0          1.00"
      ]
     },
     "execution_count": 4,
     "metadata": {},
     "output_type": "execute_result"
    }
   ],
   "source": [
    "dqcc.detail"
   ]
  },
  {
   "cell_type": "markdown",
   "metadata": {},
   "source": [
    "Calcification type and calcification distribution have 1% and 23% missing values, respectively. The 24 records with missing calcification type can be ignored as they represent less than %1 of the data. Calcification distribution; on the other hand, has a missingness of over 30%. Let's examine calcification distribution vis-a-vis our target, pathology."
   ]
  },
  {
   "cell_type": "code",
   "execution_count": 5,
   "metadata": {},
   "outputs": [
    {
     "data": {
      "text/html": [
       "<div>\n",
       "<style scoped>\n",
       "    .dataframe tbody tr th:only-of-type {\n",
       "        vertical-align: middle;\n",
       "    }\n",
       "\n",
       "    .dataframe tbody tr th {\n",
       "        vertical-align: top;\n",
       "    }\n",
       "\n",
       "    .dataframe thead th {\n",
       "        text-align: right;\n",
       "    }\n",
       "</style>\n",
       "<table border=\"1\" class=\"dataframe\">\n",
       "  <thead>\n",
       "    <tr style=\"text-align: right;\">\n",
       "      <th></th>\n",
       "      <th>count</th>\n",
       "    </tr>\n",
       "    <tr>\n",
       "      <th>pathology</th>\n",
       "      <th></th>\n",
       "    </tr>\n",
       "  </thead>\n",
       "  <tbody>\n",
       "    <tr>\n",
       "      <th>BENIGN_WITHOUT_CALLBACK</th>\n",
       "      <td>434</td>\n",
       "    </tr>\n",
       "    <tr>\n",
       "      <th>BENIGN</th>\n",
       "      <td>5</td>\n",
       "    </tr>\n",
       "  </tbody>\n",
       "</table>\n",
       "</div>"
      ],
      "text/plain": [
       "                         count\n",
       "pathology                     \n",
       "BENIGN_WITHOUT_CALLBACK    434\n",
       "BENIGN                       5"
      ]
     },
     "execution_count": 5,
     "metadata": {},
     "output_type": "execute_result"
    }
   ],
   "source": [
    "dqc.get_incomplete_data(subset='calc_distribution')['pathology'].value_counts().to_frame()"
   ]
  },
  {
   "cell_type": "markdown",
   "metadata": {},
   "source": [
    "This is interesting. Over 98% of the records with missing calcification distribution have a pathology of BENIGN_WITHOUT_CALLBACK. This suggests that the calcification distribution data are Missing at Random (MAR). That is, the probability of encountering missing calcification distribution may be systematically related to a benign pathology. Let's take a look at the variable level mass case completeness."
   ]
  },
  {
   "cell_type": "code",
   "execution_count": 6,
   "metadata": {},
   "outputs": [
    {
     "data": {
      "text/html": [
       "<div>\n",
       "<style scoped>\n",
       "    .dataframe tbody tr th:only-of-type {\n",
       "        vertical-align: middle;\n",
       "    }\n",
       "\n",
       "    .dataframe tbody tr th {\n",
       "        vertical-align: top;\n",
       "    }\n",
       "\n",
       "    .dataframe thead th {\n",
       "        text-align: right;\n",
       "    }\n",
       "</style>\n",
       "<table border=\"1\" class=\"dataframe\">\n",
       "  <thead>\n",
       "    <tr style=\"text-align: right;\">\n",
       "      <th></th>\n",
       "      <th>N</th>\n",
       "      <th>Complete</th>\n",
       "      <th>Missing</th>\n",
       "      <th>Completeness</th>\n",
       "    </tr>\n",
       "  </thead>\n",
       "  <tbody>\n",
       "    <tr>\n",
       "      <th>patient_id</th>\n",
       "      <td>1696</td>\n",
       "      <td>1696</td>\n",
       "      <td>0</td>\n",
       "      <td>1.00</td>\n",
       "    </tr>\n",
       "    <tr>\n",
       "      <th>breast_density</th>\n",
       "      <td>1696</td>\n",
       "      <td>1696</td>\n",
       "      <td>0</td>\n",
       "      <td>1.00</td>\n",
       "    </tr>\n",
       "    <tr>\n",
       "      <th>left_or_right_breast</th>\n",
       "      <td>1696</td>\n",
       "      <td>1696</td>\n",
       "      <td>0</td>\n",
       "      <td>1.00</td>\n",
       "    </tr>\n",
       "    <tr>\n",
       "      <th>image_view</th>\n",
       "      <td>1696</td>\n",
       "      <td>1696</td>\n",
       "      <td>0</td>\n",
       "      <td>1.00</td>\n",
       "    </tr>\n",
       "    <tr>\n",
       "      <th>abnormality_id</th>\n",
       "      <td>1696</td>\n",
       "      <td>1696</td>\n",
       "      <td>0</td>\n",
       "      <td>1.00</td>\n",
       "    </tr>\n",
       "    <tr>\n",
       "      <th>abnormality_type</th>\n",
       "      <td>1696</td>\n",
       "      <td>1696</td>\n",
       "      <td>0</td>\n",
       "      <td>1.00</td>\n",
       "    </tr>\n",
       "    <tr>\n",
       "      <th>assessment</th>\n",
       "      <td>1696</td>\n",
       "      <td>1696</td>\n",
       "      <td>0</td>\n",
       "      <td>1.00</td>\n",
       "    </tr>\n",
       "    <tr>\n",
       "      <th>pathology</th>\n",
       "      <td>1696</td>\n",
       "      <td>1696</td>\n",
       "      <td>0</td>\n",
       "      <td>1.00</td>\n",
       "    </tr>\n",
       "    <tr>\n",
       "      <th>subtlety</th>\n",
       "      <td>1696</td>\n",
       "      <td>1696</td>\n",
       "      <td>0</td>\n",
       "      <td>1.00</td>\n",
       "    </tr>\n",
       "    <tr>\n",
       "      <th>fileset</th>\n",
       "      <td>1696</td>\n",
       "      <td>1696</td>\n",
       "      <td>0</td>\n",
       "      <td>1.00</td>\n",
       "    </tr>\n",
       "    <tr>\n",
       "      <th>mass_shape</th>\n",
       "      <td>1696</td>\n",
       "      <td>1692</td>\n",
       "      <td>4</td>\n",
       "      <td>1.00</td>\n",
       "    </tr>\n",
       "    <tr>\n",
       "      <th>mass_margins</th>\n",
       "      <td>1696</td>\n",
       "      <td>1636</td>\n",
       "      <td>60</td>\n",
       "      <td>0.96</td>\n",
       "    </tr>\n",
       "    <tr>\n",
       "      <th>case_id</th>\n",
       "      <td>1696</td>\n",
       "      <td>1696</td>\n",
       "      <td>0</td>\n",
       "      <td>1.00</td>\n",
       "    </tr>\n",
       "    <tr>\n",
       "      <th>cancer</th>\n",
       "      <td>1696</td>\n",
       "      <td>1696</td>\n",
       "      <td>0</td>\n",
       "      <td>1.00</td>\n",
       "    </tr>\n",
       "  </tbody>\n",
       "</table>\n",
       "</div>"
      ],
      "text/plain": [
       "                         N  Complete  Missing  Completeness\n",
       "patient_id            1696      1696        0          1.00\n",
       "breast_density        1696      1696        0          1.00\n",
       "left_or_right_breast  1696      1696        0          1.00\n",
       "image_view            1696      1696        0          1.00\n",
       "abnormality_id        1696      1696        0          1.00\n",
       "abnormality_type      1696      1696        0          1.00\n",
       "assessment            1696      1696        0          1.00\n",
       "pathology             1696      1696        0          1.00\n",
       "subtlety              1696      1696        0          1.00\n",
       "fileset               1696      1696        0          1.00\n",
       "mass_shape            1696      1692        4          1.00\n",
       "mass_margins          1696      1636       60          0.96\n",
       "case_id               1696      1696        0          1.00\n",
       "cancer                1696      1696        0          1.00"
      ]
     },
     "execution_count": 6,
     "metadata": {},
     "output_type": "execute_result"
    }
   ],
   "source": [
    "dqmc.detail"
   ]
  },
  {
   "cell_type": "markdown",
   "metadata": {},
   "source": [
    "Here, mass margins and shape have a missingness of about 4% and 1% respectively. The missingness is small enough relative to the sample size to be ignored. Nonetheless, let's examine mass margins data vis-a-vis pathology."
   ]
  },
  {
   "cell_type": "code",
   "execution_count": 7,
   "metadata": {},
   "outputs": [
    {
     "data": {
      "text/html": [
       "<div>\n",
       "<style scoped>\n",
       "    .dataframe tbody tr th:only-of-type {\n",
       "        vertical-align: middle;\n",
       "    }\n",
       "\n",
       "    .dataframe tbody tr th {\n",
       "        vertical-align: top;\n",
       "    }\n",
       "\n",
       "    .dataframe thead th {\n",
       "        text-align: right;\n",
       "    }\n",
       "</style>\n",
       "<table border=\"1\" class=\"dataframe\">\n",
       "  <thead>\n",
       "    <tr style=\"text-align: right;\">\n",
       "      <th></th>\n",
       "      <th>proportion</th>\n",
       "    </tr>\n",
       "    <tr>\n",
       "      <th>pathology</th>\n",
       "      <th></th>\n",
       "    </tr>\n",
       "  </thead>\n",
       "  <tbody>\n",
       "    <tr>\n",
       "      <th>BENIGN_WITHOUT_CALLBACK</th>\n",
       "      <td>0.68</td>\n",
       "    </tr>\n",
       "    <tr>\n",
       "      <th>MALIGNANT</th>\n",
       "      <td>0.18</td>\n",
       "    </tr>\n",
       "    <tr>\n",
       "      <th>BENIGN</th>\n",
       "      <td>0.13</td>\n",
       "    </tr>\n",
       "  </tbody>\n",
       "</table>\n",
       "</div>"
      ],
      "text/plain": [
       "                         proportion\n",
       "pathology                          \n",
       "BENIGN_WITHOUT_CALLBACK        0.68\n",
       "MALIGNANT                      0.18\n",
       "BENIGN                         0.13"
      ]
     },
     "execution_count": 7,
     "metadata": {},
     "output_type": "execute_result"
    }
   ],
   "source": [
    "dqm.get_incomplete_data(subset='mass_margins')['pathology'].value_counts(normalize=True).to_frame()"
   ]
  },
  {
   "cell_type": "markdown",
   "metadata": {},
   "source": [
    "As with calcification distribution, the mass margin missingness appears to be related to a pathology of benign without callback.Let's check mass shape missingness."
   ]
  },
  {
   "cell_type": "code",
   "execution_count": 8,
   "metadata": {},
   "outputs": [
    {
     "data": {
      "text/html": [
       "<div>\n",
       "<style scoped>\n",
       "    .dataframe tbody tr th:only-of-type {\n",
       "        vertical-align: middle;\n",
       "    }\n",
       "\n",
       "    .dataframe tbody tr th {\n",
       "        vertical-align: top;\n",
       "    }\n",
       "\n",
       "    .dataframe thead th {\n",
       "        text-align: right;\n",
       "    }\n",
       "</style>\n",
       "<table border=\"1\" class=\"dataframe\">\n",
       "  <thead>\n",
       "    <tr style=\"text-align: right;\">\n",
       "      <th></th>\n",
       "      <th>proportion</th>\n",
       "    </tr>\n",
       "    <tr>\n",
       "      <th>pathology</th>\n",
       "      <th></th>\n",
       "    </tr>\n",
       "  </thead>\n",
       "  <tbody>\n",
       "    <tr>\n",
       "      <th>MALIGNANT</th>\n",
       "      <td>0.50</td>\n",
       "    </tr>\n",
       "    <tr>\n",
       "      <th>BENIGN</th>\n",
       "      <td>0.50</td>\n",
       "    </tr>\n",
       "  </tbody>\n",
       "</table>\n",
       "</div>"
      ],
      "text/plain": [
       "           proportion\n",
       "pathology            \n",
       "MALIGNANT        0.50\n",
       "BENIGN           0.50"
      ]
     },
     "execution_count": 8,
     "metadata": {},
     "output_type": "execute_result"
    }
   ],
   "source": [
    "dqm.get_incomplete_data(subset='mass_shape')['pathology'].value_counts(normalize=True).to_frame()"
   ]
  },
  {
   "cell_type": "markdown",
   "metadata": {},
   "source": [
    "These numbers indicate that a malignant and benign pathologies are equally likely in the presence of mass shape missingness. \n",
    "\n",
    "Calcification and mass cases have a missingness of about 25% and 5%, respectively. In both cases, the missing values are nominal variables. Rather than deleting the observations and risk losing valuable information, we will encode the missing values with the value of 'MISSING'.\n",
    "\n",
    "Let's move on to the uniqueness analysis."
   ]
  },
  {
   "cell_type": "markdown",
   "metadata": {},
   "source": [
    "### Uniqueness Analysis"
   ]
  },
  {
   "cell_type": "code",
   "execution_count": 9,
   "metadata": {},
   "outputs": [
    {
     "name": "stdout",
     "output_type": "stream",
     "text": [
      "\n",
      "\n",
      "                           Uniqueness                           \n",
      "                         Dataset | Calc Cases\n",
      "                        Filename | calc_cases.csv\n",
      "                         Records | 1872\n",
      "                  Unique Records | 1872\n",
      "               Record Uniqueness | 1.0\n",
      "                     Data Values | 26208\n",
      "              Unique Data Values | 2714\n",
      "           Data Value Uniqueness | 0.104\n",
      "\n",
      "\n",
      "\n",
      "\n",
      "                           Uniqueness                           \n",
      "                         Dataset | Mass Cases\n",
      "                        Filename | mass_cases.csv\n",
      "                         Records | 1696\n",
      "                  Unique Records | 1696\n",
      "               Record Uniqueness | 1.0\n",
      "                     Data Values | 23744\n",
      "              Unique Data Values | 2661\n",
      "           Data Value Uniqueness | 0.112\n",
      "\n",
      "\n"
     ]
    }
   ],
   "source": [
    "dqcu = dqc.analyze_uniqueness()\n",
    "print(dqcu.summary)\n",
    "dqmu = dqm.analyze_uniqueness()\n",
    "print(dqmu.summary)"
   ]
  },
  {
   "cell_type": "markdown",
   "metadata": {},
   "source": [
    "With record uniqueness of one for both calcification and mass cases, no duplication appears extant."
   ]
  },
  {
   "cell_type": "markdown",
   "metadata": {},
   "source": [
    "### Validity Analysis\n",
    "Here, we assess the degree to which the datasets contain valid values. "
   ]
  },
  {
   "cell_type": "code",
   "execution_count": 10,
   "metadata": {},
   "outputs": [
    {
     "name": "stdout",
     "output_type": "stream",
     "text": [
      "\n",
      "\n",
      "                            Validity                            \n",
      "                         Dataset | Calc Cases\n",
      "                        Filename | calc_cases.csv\n",
      "                         Records | 1872\n",
      "                   Valid Records | 1407\n",
      "                 Record Validity | 0.752\n",
      "                     Data Values | 26208\n",
      "               Valid Data Values | 25743\n",
      "             Data Value Validity | 0.982\n",
      "\n",
      "\n",
      "\n",
      "\n",
      "                            Validity                            \n",
      "                         Dataset | Mass Cases\n",
      "                        Filename | mass_cases.csv\n",
      "                         Records | 1696\n",
      "                   Valid Records | 1634\n",
      "                 Record Validity | 0.963\n",
      "                     Data Values | 23744\n",
      "               Valid Data Values | 23678\n",
      "             Data Value Validity | 0.997\n",
      "\n",
      "\n"
     ]
    }
   ],
   "source": [
    "dqcv = dqc.analyze_validity()\n",
    "print(dqcv.summary)\n",
    "dqmv = dqm.analyze_validity()\n",
    "print(dqmv.summary)"
   ]
  },
  {
   "cell_type": "markdown",
   "metadata": {},
   "source": [
    "For calcification cases, We have a row and data value validity 0.752 and 0.982, respectively. This comports with expectations as null values also invalid values. For mass cases, the situation is considerably better. We have a row and data value validity of 0.963 and 0.997, respectively.  \n",
    "\n",
    "Imputing the missing calcification distribution values will drastically improve validity for the calcification cases. Mass cases have a missingness of less than 5%. Nonetheless, that amounts to 60 observations. Let's check the details of mass case validity."
   ]
  },
  {
   "cell_type": "code",
   "execution_count": 11,
   "metadata": {},
   "outputs": [
    {
     "data": {
      "text/html": [
       "<style type=\"text/css\">\n",
       "</style>\n",
       "<table id=\"T_34976\" style='display:inline; margin-right:220px;'>\n",
       "  <caption>Calcification Validity</caption>\n",
       "  <thead>\n",
       "    <tr>\n",
       "      <th class=\"blank level0\" >&nbsp;</th>\n",
       "      <th id=\"T_34976_level0_col0\" class=\"col_heading level0 col0\" >N</th>\n",
       "      <th id=\"T_34976_level0_col1\" class=\"col_heading level0 col1\" >Valid</th>\n",
       "      <th id=\"T_34976_level0_col2\" class=\"col_heading level0 col2\" >Invalid</th>\n",
       "      <th id=\"T_34976_level0_col3\" class=\"col_heading level0 col3\" >Validity</th>\n",
       "    </tr>\n",
       "  </thead>\n",
       "  <tbody>\n",
       "    <tr>\n",
       "      <th id=\"T_34976_level0_row0\" class=\"row_heading level0 row0\" >case_id</th>\n",
       "      <td id=\"T_34976_row0_col0\" class=\"data row0 col0\" >1872</td>\n",
       "      <td id=\"T_34976_row0_col1\" class=\"data row0 col1\" >1872</td>\n",
       "      <td id=\"T_34976_row0_col2\" class=\"data row0 col2\" >0</td>\n",
       "      <td id=\"T_34976_row0_col3\" class=\"data row0 col3\" >1.000000</td>\n",
       "    </tr>\n",
       "    <tr>\n",
       "      <th id=\"T_34976_level0_row1\" class=\"row_heading level0 row1\" >patient_id</th>\n",
       "      <td id=\"T_34976_row1_col0\" class=\"data row1 col0\" >1872</td>\n",
       "      <td id=\"T_34976_row1_col1\" class=\"data row1 col1\" >1872</td>\n",
       "      <td id=\"T_34976_row1_col2\" class=\"data row1 col2\" >0</td>\n",
       "      <td id=\"T_34976_row1_col3\" class=\"data row1 col3\" >1.000000</td>\n",
       "    </tr>\n",
       "    <tr>\n",
       "      <th id=\"T_34976_level0_row2\" class=\"row_heading level0 row2\" >breast_density</th>\n",
       "      <td id=\"T_34976_row2_col0\" class=\"data row2 col0\" >1872</td>\n",
       "      <td id=\"T_34976_row2_col1\" class=\"data row2 col1\" >1870</td>\n",
       "      <td id=\"T_34976_row2_col2\" class=\"data row2 col2\" >2</td>\n",
       "      <td id=\"T_34976_row2_col3\" class=\"data row2 col3\" >0.998932</td>\n",
       "    </tr>\n",
       "    <tr>\n",
       "      <th id=\"T_34976_level0_row3\" class=\"row_heading level0 row3\" >left_or_right_breast</th>\n",
       "      <td id=\"T_34976_row3_col0\" class=\"data row3 col0\" >1872</td>\n",
       "      <td id=\"T_34976_row3_col1\" class=\"data row3 col1\" >1872</td>\n",
       "      <td id=\"T_34976_row3_col2\" class=\"data row3 col2\" >0</td>\n",
       "      <td id=\"T_34976_row3_col3\" class=\"data row3 col3\" >1.000000</td>\n",
       "    </tr>\n",
       "    <tr>\n",
       "      <th id=\"T_34976_level0_row4\" class=\"row_heading level0 row4\" >image_view</th>\n",
       "      <td id=\"T_34976_row4_col0\" class=\"data row4 col0\" >1872</td>\n",
       "      <td id=\"T_34976_row4_col1\" class=\"data row4 col1\" >1872</td>\n",
       "      <td id=\"T_34976_row4_col2\" class=\"data row4 col2\" >0</td>\n",
       "      <td id=\"T_34976_row4_col3\" class=\"data row4 col3\" >1.000000</td>\n",
       "    </tr>\n",
       "    <tr>\n",
       "      <th id=\"T_34976_level0_row5\" class=\"row_heading level0 row5\" >abnormality_id</th>\n",
       "      <td id=\"T_34976_row5_col0\" class=\"data row5 col0\" >1872</td>\n",
       "      <td id=\"T_34976_row5_col1\" class=\"data row5 col1\" >1872</td>\n",
       "      <td id=\"T_34976_row5_col2\" class=\"data row5 col2\" >0</td>\n",
       "      <td id=\"T_34976_row5_col3\" class=\"data row5 col3\" >1.000000</td>\n",
       "    </tr>\n",
       "    <tr>\n",
       "      <th id=\"T_34976_level0_row6\" class=\"row_heading level0 row6\" >abnormality_type</th>\n",
       "      <td id=\"T_34976_row6_col0\" class=\"data row6 col0\" >1872</td>\n",
       "      <td id=\"T_34976_row6_col1\" class=\"data row6 col1\" >1872</td>\n",
       "      <td id=\"T_34976_row6_col2\" class=\"data row6 col2\" >0</td>\n",
       "      <td id=\"T_34976_row6_col3\" class=\"data row6 col3\" >1.000000</td>\n",
       "    </tr>\n",
       "    <tr>\n",
       "      <th id=\"T_34976_level0_row7\" class=\"row_heading level0 row7\" >calc_type</th>\n",
       "      <td id=\"T_34976_row7_col0\" class=\"data row7 col0\" >1872</td>\n",
       "      <td id=\"T_34976_row7_col1\" class=\"data row7 col1\" >1848</td>\n",
       "      <td id=\"T_34976_row7_col2\" class=\"data row7 col2\" >24</td>\n",
       "      <td id=\"T_34976_row7_col3\" class=\"data row7 col3\" >0.987179</td>\n",
       "    </tr>\n",
       "    <tr>\n",
       "      <th id=\"T_34976_level0_row8\" class=\"row_heading level0 row8\" >calc_distribution</th>\n",
       "      <td id=\"T_34976_row8_col0\" class=\"data row8 col0\" >1872</td>\n",
       "      <td id=\"T_34976_row8_col1\" class=\"data row8 col1\" >1433</td>\n",
       "      <td id=\"T_34976_row8_col2\" class=\"data row8 col2\" >439</td>\n",
       "      <td id=\"T_34976_row8_col3\" class=\"data row8 col3\" >0.765491</td>\n",
       "    </tr>\n",
       "    <tr>\n",
       "      <th id=\"T_34976_level0_row9\" class=\"row_heading level0 row9\" >assessment</th>\n",
       "      <td id=\"T_34976_row9_col0\" class=\"data row9 col0\" >1872</td>\n",
       "      <td id=\"T_34976_row9_col1\" class=\"data row9 col1\" >1872</td>\n",
       "      <td id=\"T_34976_row9_col2\" class=\"data row9 col2\" >0</td>\n",
       "      <td id=\"T_34976_row9_col3\" class=\"data row9 col3\" >1.000000</td>\n",
       "    </tr>\n",
       "    <tr>\n",
       "      <th id=\"T_34976_level0_row10\" class=\"row_heading level0 row10\" >pathology</th>\n",
       "      <td id=\"T_34976_row10_col0\" class=\"data row10 col0\" >1872</td>\n",
       "      <td id=\"T_34976_row10_col1\" class=\"data row10 col1\" >1872</td>\n",
       "      <td id=\"T_34976_row10_col2\" class=\"data row10 col2\" >0</td>\n",
       "      <td id=\"T_34976_row10_col3\" class=\"data row10 col3\" >1.000000</td>\n",
       "    </tr>\n",
       "    <tr>\n",
       "      <th id=\"T_34976_level0_row11\" class=\"row_heading level0 row11\" >subtlety</th>\n",
       "      <td id=\"T_34976_row11_col0\" class=\"data row11 col0\" >1872</td>\n",
       "      <td id=\"T_34976_row11_col1\" class=\"data row11 col1\" >1872</td>\n",
       "      <td id=\"T_34976_row11_col2\" class=\"data row11 col2\" >0</td>\n",
       "      <td id=\"T_34976_row11_col3\" class=\"data row11 col3\" >1.000000</td>\n",
       "    </tr>\n",
       "    <tr>\n",
       "      <th id=\"T_34976_level0_row12\" class=\"row_heading level0 row12\" >fileset</th>\n",
       "      <td id=\"T_34976_row12_col0\" class=\"data row12 col0\" >1872</td>\n",
       "      <td id=\"T_34976_row12_col1\" class=\"data row12 col1\" >1872</td>\n",
       "      <td id=\"T_34976_row12_col2\" class=\"data row12 col2\" >0</td>\n",
       "      <td id=\"T_34976_row12_col3\" class=\"data row12 col3\" >1.000000</td>\n",
       "    </tr>\n",
       "    <tr>\n",
       "      <th id=\"T_34976_level0_row13\" class=\"row_heading level0 row13\" >cancer</th>\n",
       "      <td id=\"T_34976_row13_col0\" class=\"data row13 col0\" >1872</td>\n",
       "      <td id=\"T_34976_row13_col1\" class=\"data row13 col1\" >1872</td>\n",
       "      <td id=\"T_34976_row13_col2\" class=\"data row13 col2\" >0</td>\n",
       "      <td id=\"T_34976_row13_col3\" class=\"data row13 col3\" >1.000000</td>\n",
       "    </tr>\n",
       "  </tbody>\n",
       "</table>\n",
       "<style type=\"text/css\">\n",
       "</style>\n",
       "<table id=\"T_31d23\" style='display:inline; margin-right:120px'>\n",
       "  <caption>Mass Validity</caption>\n",
       "  <thead>\n",
       "    <tr>\n",
       "      <th class=\"blank level0\" >&nbsp;</th>\n",
       "      <th id=\"T_31d23_level0_col0\" class=\"col_heading level0 col0\" >N</th>\n",
       "      <th id=\"T_31d23_level0_col1\" class=\"col_heading level0 col1\" >Valid</th>\n",
       "      <th id=\"T_31d23_level0_col2\" class=\"col_heading level0 col2\" >Invalid</th>\n",
       "      <th id=\"T_31d23_level0_col3\" class=\"col_heading level0 col3\" >Validity</th>\n",
       "    </tr>\n",
       "  </thead>\n",
       "  <tbody>\n",
       "    <tr>\n",
       "      <th id=\"T_31d23_level0_row0\" class=\"row_heading level0 row0\" >case_id</th>\n",
       "      <td id=\"T_31d23_row0_col0\" class=\"data row0 col0\" >1696</td>\n",
       "      <td id=\"T_31d23_row0_col1\" class=\"data row0 col1\" >1696</td>\n",
       "      <td id=\"T_31d23_row0_col2\" class=\"data row0 col2\" >0</td>\n",
       "      <td id=\"T_31d23_row0_col3\" class=\"data row0 col3\" >1.000000</td>\n",
       "    </tr>\n",
       "    <tr>\n",
       "      <th id=\"T_31d23_level0_row1\" class=\"row_heading level0 row1\" >patient_id</th>\n",
       "      <td id=\"T_31d23_row1_col0\" class=\"data row1 col0\" >1696</td>\n",
       "      <td id=\"T_31d23_row1_col1\" class=\"data row1 col1\" >1696</td>\n",
       "      <td id=\"T_31d23_row1_col2\" class=\"data row1 col2\" >0</td>\n",
       "      <td id=\"T_31d23_row1_col3\" class=\"data row1 col3\" >1.000000</td>\n",
       "    </tr>\n",
       "    <tr>\n",
       "      <th id=\"T_31d23_level0_row2\" class=\"row_heading level0 row2\" >breast_density</th>\n",
       "      <td id=\"T_31d23_row2_col0\" class=\"data row2 col0\" >1696</td>\n",
       "      <td id=\"T_31d23_row2_col1\" class=\"data row2 col1\" >1696</td>\n",
       "      <td id=\"T_31d23_row2_col2\" class=\"data row2 col2\" >0</td>\n",
       "      <td id=\"T_31d23_row2_col3\" class=\"data row2 col3\" >1.000000</td>\n",
       "    </tr>\n",
       "    <tr>\n",
       "      <th id=\"T_31d23_level0_row3\" class=\"row_heading level0 row3\" >left_or_right_breast</th>\n",
       "      <td id=\"T_31d23_row3_col0\" class=\"data row3 col0\" >1696</td>\n",
       "      <td id=\"T_31d23_row3_col1\" class=\"data row3 col1\" >1696</td>\n",
       "      <td id=\"T_31d23_row3_col2\" class=\"data row3 col2\" >0</td>\n",
       "      <td id=\"T_31d23_row3_col3\" class=\"data row3 col3\" >1.000000</td>\n",
       "    </tr>\n",
       "    <tr>\n",
       "      <th id=\"T_31d23_level0_row4\" class=\"row_heading level0 row4\" >image_view</th>\n",
       "      <td id=\"T_31d23_row4_col0\" class=\"data row4 col0\" >1696</td>\n",
       "      <td id=\"T_31d23_row4_col1\" class=\"data row4 col1\" >1696</td>\n",
       "      <td id=\"T_31d23_row4_col2\" class=\"data row4 col2\" >0</td>\n",
       "      <td id=\"T_31d23_row4_col3\" class=\"data row4 col3\" >1.000000</td>\n",
       "    </tr>\n",
       "    <tr>\n",
       "      <th id=\"T_31d23_level0_row5\" class=\"row_heading level0 row5\" >abnormality_id</th>\n",
       "      <td id=\"T_31d23_row5_col0\" class=\"data row5 col0\" >1696</td>\n",
       "      <td id=\"T_31d23_row5_col1\" class=\"data row5 col1\" >1696</td>\n",
       "      <td id=\"T_31d23_row5_col2\" class=\"data row5 col2\" >0</td>\n",
       "      <td id=\"T_31d23_row5_col3\" class=\"data row5 col3\" >1.000000</td>\n",
       "    </tr>\n",
       "    <tr>\n",
       "      <th id=\"T_31d23_level0_row6\" class=\"row_heading level0 row6\" >abnormality_type</th>\n",
       "      <td id=\"T_31d23_row6_col0\" class=\"data row6 col0\" >1696</td>\n",
       "      <td id=\"T_31d23_row6_col1\" class=\"data row6 col1\" >1696</td>\n",
       "      <td id=\"T_31d23_row6_col2\" class=\"data row6 col2\" >0</td>\n",
       "      <td id=\"T_31d23_row6_col3\" class=\"data row6 col3\" >1.000000</td>\n",
       "    </tr>\n",
       "    <tr>\n",
       "      <th id=\"T_31d23_level0_row7\" class=\"row_heading level0 row7\" >mass_shape</th>\n",
       "      <td id=\"T_31d23_row7_col0\" class=\"data row7 col0\" >1696</td>\n",
       "      <td id=\"T_31d23_row7_col1\" class=\"data row7 col1\" >1692</td>\n",
       "      <td id=\"T_31d23_row7_col2\" class=\"data row7 col2\" >4</td>\n",
       "      <td id=\"T_31d23_row7_col3\" class=\"data row7 col3\" >0.997642</td>\n",
       "    </tr>\n",
       "    <tr>\n",
       "      <th id=\"T_31d23_level0_row8\" class=\"row_heading level0 row8\" >mass_margins</th>\n",
       "      <td id=\"T_31d23_row8_col0\" class=\"data row8 col0\" >1696</td>\n",
       "      <td id=\"T_31d23_row8_col1\" class=\"data row8 col1\" >1636</td>\n",
       "      <td id=\"T_31d23_row8_col2\" class=\"data row8 col2\" >60</td>\n",
       "      <td id=\"T_31d23_row8_col3\" class=\"data row8 col3\" >0.964623</td>\n",
       "    </tr>\n",
       "    <tr>\n",
       "      <th id=\"T_31d23_level0_row9\" class=\"row_heading level0 row9\" >assessment</th>\n",
       "      <td id=\"T_31d23_row9_col0\" class=\"data row9 col0\" >1696</td>\n",
       "      <td id=\"T_31d23_row9_col1\" class=\"data row9 col1\" >1696</td>\n",
       "      <td id=\"T_31d23_row9_col2\" class=\"data row9 col2\" >0</td>\n",
       "      <td id=\"T_31d23_row9_col3\" class=\"data row9 col3\" >1.000000</td>\n",
       "    </tr>\n",
       "    <tr>\n",
       "      <th id=\"T_31d23_level0_row10\" class=\"row_heading level0 row10\" >pathology</th>\n",
       "      <td id=\"T_31d23_row10_col0\" class=\"data row10 col0\" >1696</td>\n",
       "      <td id=\"T_31d23_row10_col1\" class=\"data row10 col1\" >1696</td>\n",
       "      <td id=\"T_31d23_row10_col2\" class=\"data row10 col2\" >0</td>\n",
       "      <td id=\"T_31d23_row10_col3\" class=\"data row10 col3\" >1.000000</td>\n",
       "    </tr>\n",
       "    <tr>\n",
       "      <th id=\"T_31d23_level0_row11\" class=\"row_heading level0 row11\" >subtlety</th>\n",
       "      <td id=\"T_31d23_row11_col0\" class=\"data row11 col0\" >1696</td>\n",
       "      <td id=\"T_31d23_row11_col1\" class=\"data row11 col1\" >1694</td>\n",
       "      <td id=\"T_31d23_row11_col2\" class=\"data row11 col2\" >2</td>\n",
       "      <td id=\"T_31d23_row11_col3\" class=\"data row11 col3\" >0.998821</td>\n",
       "    </tr>\n",
       "    <tr>\n",
       "      <th id=\"T_31d23_level0_row12\" class=\"row_heading level0 row12\" >fileset</th>\n",
       "      <td id=\"T_31d23_row12_col0\" class=\"data row12 col0\" >1696</td>\n",
       "      <td id=\"T_31d23_row12_col1\" class=\"data row12 col1\" >1696</td>\n",
       "      <td id=\"T_31d23_row12_col2\" class=\"data row12 col2\" >0</td>\n",
       "      <td id=\"T_31d23_row12_col3\" class=\"data row12 col3\" >1.000000</td>\n",
       "    </tr>\n",
       "    <tr>\n",
       "      <th id=\"T_31d23_level0_row13\" class=\"row_heading level0 row13\" >cancer</th>\n",
       "      <td id=\"T_31d23_row13_col0\" class=\"data row13 col0\" >1696</td>\n",
       "      <td id=\"T_31d23_row13_col1\" class=\"data row13 col1\" >1696</td>\n",
       "      <td id=\"T_31d23_row13_col2\" class=\"data row13 col2\" >0</td>\n",
       "      <td id=\"T_31d23_row13_col3\" class=\"data row13 col3\" >1.000000</td>\n",
       "    </tr>\n",
       "  </tbody>\n",
       "</table>\n"
      ]
     },
     "metadata": {},
     "output_type": "display_data"
    }
   ],
   "source": [
    "df1_style = dqcv.detail.style.set_table_attributes(\"style='display:inline; margin-right:220px;'\").set_caption(\"Calcification Validity\")\n",
    "df2_style = dqmv.detail.style.set_table_attributes(\"style='display:inline; margin-right:120px'\").set_caption(\"Mass Validity\")\n",
    "\n",
    "display_html(df1_style._repr_html_() + df2_style._repr_html_(), raw=True)"
   ]
  },
  {
   "cell_type": "markdown",
   "metadata": {},
   "source": [
    "The numbers of invalid values for calc_type, calc_distribution, mass_shape, and mass_margins equals the numbers of missing values. However, we have four new invalid observations. Two of which have invalid breast density values, and the others have invalid subtlety values. Let's take a look and the invalid calcification cases."
   ]
  },
  {
   "cell_type": "markdown",
   "metadata": {},
   "source": [
    "#### Invalid Calcification Case Analysis"
   ]
  },
  {
   "cell_type": "code",
   "execution_count": 20,
   "metadata": {},
   "outputs": [
    {
     "data": {
      "text/html": [
       "<div>\n",
       "<style scoped>\n",
       "    .dataframe tbody tr th:only-of-type {\n",
       "        vertical-align: middle;\n",
       "    }\n",
       "\n",
       "    .dataframe tbody tr th {\n",
       "        vertical-align: top;\n",
       "    }\n",
       "\n",
       "    .dataframe thead th {\n",
       "        text-align: right;\n",
       "    }\n",
       "</style>\n",
       "<table border=\"1\" class=\"dataframe\">\n",
       "  <thead>\n",
       "    <tr style=\"text-align: right;\">\n",
       "      <th></th>\n",
       "      <th>patient_id</th>\n",
       "      <th>breast_density</th>\n",
       "      <th>left_or_right_breast</th>\n",
       "      <th>image_view</th>\n",
       "      <th>abnormality_id</th>\n",
       "      <th>abnormality_type</th>\n",
       "      <th>calc_type</th>\n",
       "      <th>calc_distribution</th>\n",
       "      <th>assessment</th>\n",
       "      <th>pathology</th>\n",
       "      <th>subtlety</th>\n",
       "      <th>fileset</th>\n",
       "      <th>case_id</th>\n",
       "      <th>cancer</th>\n",
       "    </tr>\n",
       "  </thead>\n",
       "  <tbody>\n",
       "    <tr>\n",
       "      <th>1817</th>\n",
       "      <td>P_01743</td>\n",
       "      <td>0</td>\n",
       "      <td>RIGHT</td>\n",
       "      <td>CC</td>\n",
       "      <td>1</td>\n",
       "      <td>calcification</td>\n",
       "      <td>PLEOMORPHIC</td>\n",
       "      <td>DIFFUSELY_SCATTERED</td>\n",
       "      <td>5</td>\n",
       "      <td>MALIGNANT</td>\n",
       "      <td>5</td>\n",
       "      <td>test</td>\n",
       "      <td>P_01743_RIGHT_calcification_CC_1</td>\n",
       "      <td>True</td>\n",
       "    </tr>\n",
       "    <tr>\n",
       "      <th>1818</th>\n",
       "      <td>P_01743</td>\n",
       "      <td>0</td>\n",
       "      <td>RIGHT</td>\n",
       "      <td>MLO</td>\n",
       "      <td>1</td>\n",
       "      <td>calcification</td>\n",
       "      <td>PLEOMORPHIC</td>\n",
       "      <td>DIFFUSELY_SCATTERED</td>\n",
       "      <td>5</td>\n",
       "      <td>MALIGNANT</td>\n",
       "      <td>5</td>\n",
       "      <td>test</td>\n",
       "      <td>P_01743_RIGHT_calcification_MLO_1</td>\n",
       "      <td>True</td>\n",
       "    </tr>\n",
       "  </tbody>\n",
       "</table>\n",
       "</div>"
      ],
      "text/plain": [
       "     patient_id  breast_density left_or_right_breast image_view  \\\n",
       "1817    P_01743               0                RIGHT         CC   \n",
       "1818    P_01743               0                RIGHT        MLO   \n",
       "\n",
       "      abnormality_id abnormality_type    calc_type    calc_distribution  \\\n",
       "1817               1    calcification  PLEOMORPHIC  DIFFUSELY_SCATTERED   \n",
       "1818               1    calcification  PLEOMORPHIC  DIFFUSELY_SCATTERED   \n",
       "\n",
       "      assessment  pathology  subtlety fileset  \\\n",
       "1817           5  MALIGNANT         5    test   \n",
       "1818           5  MALIGNANT         5    test   \n",
       "\n",
       "                                case_id  cancer  \n",
       "1817   P_01743_RIGHT_calcification_CC_1    True  \n",
       "1818  P_01743_RIGHT_calcification_MLO_1    True  "
      ]
     },
     "execution_count": 20,
     "metadata": {},
     "output_type": "execute_result"
    }
   ],
   "source": [
    "dqc.get_invalid_data(subset='breast_density')"
   ]
  },
  {
   "cell_type": "markdown",
   "metadata": {},
   "source": [
    "Both observations with breast density values of zero, are for the same patient. Let's see what densities we have for similar malignant calcification cases."
   ]
  },
  {
   "cell_type": "code",
   "execution_count": 25,
   "metadata": {},
   "outputs": [],
   "source": [
    "df = dqc.get_complete_data()\n",
    "df_similar_type = df.loc[(df['calc_type'] == 'PLEOMORPHIC') & (df['cancer'] == True)]\n",
    "df_similar_dist = df.loc[(df['calc_distribution'] == 'DIFFUSELY_SCATTERED') & (df['cancer'] == True)]\n"
   ]
  },
  {
   "cell_type": "markdown",
   "metadata": {},
   "source": [
    "The breast density counts below are for PLEOMORPHIC calcification cases."
   ]
  },
  {
   "cell_type": "code",
   "execution_count": 23,
   "metadata": {},
   "outputs": [
    {
     "data": {
      "text/html": [
       "<div>\n",
       "<style scoped>\n",
       "    .dataframe tbody tr th:only-of-type {\n",
       "        vertical-align: middle;\n",
       "    }\n",
       "\n",
       "    .dataframe tbody tr th {\n",
       "        vertical-align: top;\n",
       "    }\n",
       "\n",
       "    .dataframe thead th {\n",
       "        text-align: right;\n",
       "    }\n",
       "</style>\n",
       "<table border=\"1\" class=\"dataframe\">\n",
       "  <thead>\n",
       "    <tr style=\"text-align: right;\">\n",
       "      <th></th>\n",
       "      <th>count</th>\n",
       "    </tr>\n",
       "    <tr>\n",
       "      <th>breast_density</th>\n",
       "      <th></th>\n",
       "    </tr>\n",
       "  </thead>\n",
       "  <tbody>\n",
       "    <tr>\n",
       "      <th>3</th>\n",
       "      <td>158</td>\n",
       "    </tr>\n",
       "    <tr>\n",
       "      <th>2</th>\n",
       "      <td>123</td>\n",
       "    </tr>\n",
       "    <tr>\n",
       "      <th>4</th>\n",
       "      <td>121</td>\n",
       "    </tr>\n",
       "    <tr>\n",
       "      <th>1</th>\n",
       "      <td>23</td>\n",
       "    </tr>\n",
       "    <tr>\n",
       "      <th>0</th>\n",
       "      <td>2</td>\n",
       "    </tr>\n",
       "  </tbody>\n",
       "</table>\n",
       "</div>"
      ],
      "text/plain": [
       "                count\n",
       "breast_density       \n",
       "3                 158\n",
       "2                 123\n",
       "4                 121\n",
       "1                  23\n",
       "0                   2"
      ]
     },
     "execution_count": 23,
     "metadata": {},
     "output_type": "execute_result"
    }
   ],
   "source": [
    "df_similar_type['breast_density'].value_counts().to_frame()"
   ]
  },
  {
   "cell_type": "markdown",
   "metadata": {},
   "source": [
    "Statistically, breast densities of 2,3 and 4 are equally probable for malignant PLEOMORPHIC cases. Let's see if calcification distribution is more discriminative."
   ]
  },
  {
   "cell_type": "code",
   "execution_count": 24,
   "metadata": {},
   "outputs": [
    {
     "data": {
      "text/html": [
       "<div>\n",
       "<style scoped>\n",
       "    .dataframe tbody tr th:only-of-type {\n",
       "        vertical-align: middle;\n",
       "    }\n",
       "\n",
       "    .dataframe tbody tr th {\n",
       "        vertical-align: top;\n",
       "    }\n",
       "\n",
       "    .dataframe thead th {\n",
       "        text-align: right;\n",
       "    }\n",
       "</style>\n",
       "<table border=\"1\" class=\"dataframe\">\n",
       "  <thead>\n",
       "    <tr style=\"text-align: right;\">\n",
       "      <th></th>\n",
       "      <th>count</th>\n",
       "    </tr>\n",
       "    <tr>\n",
       "      <th>breast_density</th>\n",
       "      <th></th>\n",
       "    </tr>\n",
       "  </thead>\n",
       "  <tbody>\n",
       "    <tr>\n",
       "      <th>2</th>\n",
       "      <td>2</td>\n",
       "    </tr>\n",
       "    <tr>\n",
       "      <th>0</th>\n",
       "      <td>2</td>\n",
       "    </tr>\n",
       "    <tr>\n",
       "      <th>3</th>\n",
       "      <td>1</td>\n",
       "    </tr>\n",
       "  </tbody>\n",
       "</table>\n",
       "</div>"
      ],
      "text/plain": [
       "                count\n",
       "breast_density       \n",
       "2                   2\n",
       "0                   2\n",
       "3                   1"
      ]
     },
     "execution_count": 24,
     "metadata": {},
     "output_type": "execute_result"
    }
   ],
   "source": [
    "df_similar_dist['breast_density'].value_counts().to_frame()"
   ]
  },
  {
   "cell_type": "markdown",
   "metadata": {},
   "source": [
    "We only have five DIFFUSELY_SCATTERED calcification cases, two of which have invalid values, two have a breast densities of 2, and another with a value of 3. Not a statistically significant difference in breast densities for DIFFUSELY_SCATTERED calcification cases. Though these invalid observations are relatively, they represent 40% of the DIFFUSELY_SCATTERED calcification cases. We'll attempt to impute these values rather than delete them. "
   ]
  },
  {
   "cell_type": "markdown",
   "metadata": {},
   "source": [
    "#### Invalid Mass Case Analysis\n",
    "The invalid mass cases have subtlety values of zero. Let's take a look at the data."
   ]
  },
  {
   "cell_type": "code",
   "execution_count": 26,
   "metadata": {},
   "outputs": [
    {
     "data": {
      "text/html": [
       "<div>\n",
       "<style scoped>\n",
       "    .dataframe tbody tr th:only-of-type {\n",
       "        vertical-align: middle;\n",
       "    }\n",
       "\n",
       "    .dataframe tbody tr th {\n",
       "        vertical-align: top;\n",
       "    }\n",
       "\n",
       "    .dataframe thead th {\n",
       "        text-align: right;\n",
       "    }\n",
       "</style>\n",
       "<table border=\"1\" class=\"dataframe\">\n",
       "  <thead>\n",
       "    <tr style=\"text-align: right;\">\n",
       "      <th></th>\n",
       "      <th>patient_id</th>\n",
       "      <th>breast_density</th>\n",
       "      <th>left_or_right_breast</th>\n",
       "      <th>image_view</th>\n",
       "      <th>abnormality_id</th>\n",
       "      <th>abnormality_type</th>\n",
       "      <th>assessment</th>\n",
       "      <th>pathology</th>\n",
       "      <th>subtlety</th>\n",
       "      <th>fileset</th>\n",
       "      <th>mass_shape</th>\n",
       "      <th>mass_margins</th>\n",
       "      <th>case_id</th>\n",
       "      <th>cancer</th>\n",
       "    </tr>\n",
       "  </thead>\n",
       "  <tbody>\n",
       "    <tr>\n",
       "      <th>492</th>\n",
       "      <td>P_00710</td>\n",
       "      <td>2</td>\n",
       "      <td>RIGHT</td>\n",
       "      <td>CC</td>\n",
       "      <td>1</td>\n",
       "      <td>mass</td>\n",
       "      <td>0</td>\n",
       "      <td>BENIGN</td>\n",
       "      <td>0</td>\n",
       "      <td>train</td>\n",
       "      <td>NaN</td>\n",
       "      <td>NaN</td>\n",
       "      <td>P_00710_RIGHT_mass_CC_1</td>\n",
       "      <td>False</td>\n",
       "    </tr>\n",
       "    <tr>\n",
       "      <th>493</th>\n",
       "      <td>P_00710</td>\n",
       "      <td>2</td>\n",
       "      <td>RIGHT</td>\n",
       "      <td>MLO</td>\n",
       "      <td>1</td>\n",
       "      <td>mass</td>\n",
       "      <td>0</td>\n",
       "      <td>BENIGN</td>\n",
       "      <td>0</td>\n",
       "      <td>train</td>\n",
       "      <td>NaN</td>\n",
       "      <td>NaN</td>\n",
       "      <td>P_00710_RIGHT_mass_MLO_1</td>\n",
       "      <td>False</td>\n",
       "    </tr>\n",
       "  </tbody>\n",
       "</table>\n",
       "</div>"
      ],
      "text/plain": [
       "    patient_id  breast_density left_or_right_breast image_view  \\\n",
       "492    P_00710               2                RIGHT         CC   \n",
       "493    P_00710               2                RIGHT        MLO   \n",
       "\n",
       "     abnormality_id abnormality_type  assessment pathology  subtlety fileset  \\\n",
       "492               1             mass           0    BENIGN         0   train   \n",
       "493               1             mass           0    BENIGN         0   train   \n",
       "\n",
       "    mass_shape mass_margins                   case_id  cancer  \n",
       "492        NaN          NaN   P_00710_RIGHT_mass_CC_1   False  \n",
       "493        NaN          NaN  P_00710_RIGHT_mass_MLO_1   False  "
      ]
     },
     "execution_count": 26,
     "metadata": {},
     "output_type": "execute_result"
    }
   ],
   "source": [
    "dqm.get_invalid_data(subset='subtlety')"
   ]
  },
  {
   "cell_type": "markdown",
   "metadata": {},
   "source": [
    "Similarly, these cases are for the same patient. Notably, these cases convey little information: missing mass shape and margins data. In this case deletion would be the best option."
   ]
  },
  {
   "cell_type": "markdown",
   "metadata": {},
   "source": [
    "## DICOM Dataset\n",
    "### Completeness Analysis"
   ]
  },
  {
   "cell_type": "code",
   "execution_count": 13,
   "metadata": {},
   "outputs": [
    {
     "name": "stdout",
     "output_type": "stream",
     "text": [
      "\n",
      "\n",
      "                          Completeness                          \n",
      "                         Dataset | Dicom\n",
      "                        Filename | dicom.csv\n",
      "                         Records | 10238\n",
      "                Complete Records | 10238\n",
      "             Record Completeness | 1.0\n",
      "                     Data Values | 174046\n",
      "            Complete Data Values | 174046\n",
      "         Data Value Completeness | 1.0\n",
      "\n",
      "\n"
     ]
    }
   ],
   "source": [
    "dqd = DicomDQA(filepath=fpd)\n",
    "dqdc = dqd.analyze_completeness()\n",
    "print(dqdc.summary)"
   ]
  },
  {
   "cell_type": "markdown",
   "metadata": {},
   "source": [
    "According to The Cancer Imaging Archive (TCIA), there are 10,230 images in the CBIS-DDSM. Yet, our DICOM Dataset contains 10,703 observations, 464 more than expected at a completeness of 100%. In addition, a corrupt DICOM image file was encountered during data preparation and was skipped. This brings the overage to 465. Could there be some duplication? "
   ]
  },
  {
   "cell_type": "markdown",
   "metadata": {},
   "source": [
    "### Uniqueness Analysis"
   ]
  },
  {
   "cell_type": "code",
   "execution_count": 14,
   "metadata": {},
   "outputs": [
    {
     "name": "stdout",
     "output_type": "stream",
     "text": [
      "\n",
      "\n",
      "                           Uniqueness                           \n",
      "                         Dataset | Dicom\n",
      "                        Filename | dicom.csv\n",
      "                         Records | 10238\n",
      "                  Unique Records | 10238\n",
      "               Record Uniqueness | 1.0\n",
      "                     Data Values | 174046\n",
      "              Unique Data Values | 48679\n",
      "           Data Value Uniqueness | 0.28\n",
      "\n",
      "\n"
     ]
    }
   ],
   "source": [
    "dqdu = dqd.analyze_uniqueness()\n",
    "print(dqdu.summary)"
   ]
  },
  {
   "cell_type": "markdown",
   "metadata": {},
   "source": [
    "As indicated above, we have no duplicate records in the dataset."
   ]
  },
  {
   "cell_type": "markdown",
   "metadata": {},
   "source": [
    "### Validity Analysis"
   ]
  },
  {
   "cell_type": "code",
   "execution_count": 15,
   "metadata": {},
   "outputs": [
    {
     "name": "stdout",
     "output_type": "stream",
     "text": [
      "\n",
      "\n",
      "                            Validity                            \n",
      "                         Dataset | Dicom\n",
      "                        Filename | dicom.csv\n",
      "                         Records | 10238\n",
      "                   Valid Records | 10238\n",
      "                 Record Validity | 1.0\n",
      "                     Data Values | 174046\n",
      "               Valid Data Values | 153570\n",
      "             Data Value Validity | 0.882\n",
      "\n",
      "\n"
     ]
    }
   ],
   "source": [
    "dqdv = dqd.analyze_validity()\n",
    "print(dqdv.summary)"
   ]
  },
  {
   "cell_type": "markdown",
   "metadata": {},
   "source": [
    "The DICOM Dataset has 100% validity. "
   ]
  },
  {
   "cell_type": "markdown",
   "metadata": {},
   "source": [
    "### Consistency Analysis\n",
    "Both the case datasets and the DICOM image dataset contain patient_id, side, and image_view. Next, we confirm that these variables are consistent between the case and the DICOM datasets. "
   ]
  },
  {
   "cell_type": "code",
   "execution_count": 16,
   "metadata": {},
   "outputs": [
    {
     "name": "stdout",
     "output_type": "stream",
     "text": [
      "\n",
      "\n",
      "                          Consistency                           \n",
      "                         Dataset | Dicom\n",
      "                        Filename | dicom.csv\n",
      "                         Records | 10703\n",
      "              Consistent Records | 10703\n",
      "              Record Consistency | 1.0\n",
      "                     Data Values | 32109\n",
      "          Consistent Data Values | 32109\n",
      "          Data Value Consistency | 1.0\n",
      "\n",
      "\n"
     ]
    }
   ],
   "source": [
    "dqdcy = dqd.analyze_consistency()\n",
    "print(dqdcy.summary)"
   ]
  },
  {
   "cell_type": "markdown",
   "metadata": {},
   "source": [
    "These data show that the case information are consistent between the case and DICOM Datasets. \n",
    "\n",
    "### Summary\n",
    "A brief data quality analysis of the CBIS-DDSM case and DICOM data examined completeness, uniqueness, validity and consistency. The results are summarized below."
   ]
  },
  {
   "cell_type": "code",
   "execution_count": 17,
   "metadata": {
    "tags": [
     "remove-input"
    ]
   },
   "outputs": [
    {
     "data": {
      "text/html": [
       "<div>\n",
       "<style scoped>\n",
       "    .dataframe tbody tr th:only-of-type {\n",
       "        vertical-align: middle;\n",
       "    }\n",
       "\n",
       "    .dataframe tbody tr th {\n",
       "        vertical-align: top;\n",
       "    }\n",
       "\n",
       "    .dataframe thead th {\n",
       "        text-align: right;\n",
       "    }\n",
       "</style>\n",
       "<table border=\"1\" class=\"dataframe\">\n",
       "  <thead>\n",
       "    <tr style=\"text-align: right;\">\n",
       "      <th></th>\n",
       "      <th></th>\n",
       "      <th>Value</th>\n",
       "    </tr>\n",
       "    <tr>\n",
       "      <th>Dimension</th>\n",
       "      <th>Dataset</th>\n",
       "      <th></th>\n",
       "    </tr>\n",
       "  </thead>\n",
       "  <tbody>\n",
       "    <tr>\n",
       "      <th rowspan=\"3\" valign=\"top\">Completeness</th>\n",
       "      <th>MASS Cases</th>\n",
       "      <td>0.75</td>\n",
       "    </tr>\n",
       "    <tr>\n",
       "      <th>Calc Cases</th>\n",
       "      <td>0.96</td>\n",
       "    </tr>\n",
       "    <tr>\n",
       "      <th>DICOM Dataset</th>\n",
       "      <td>1.00</td>\n",
       "    </tr>\n",
       "    <tr>\n",
       "      <th rowspan=\"3\" valign=\"top\">Uniqueness</th>\n",
       "      <th>MASS Cases</th>\n",
       "      <td>1.00</td>\n",
       "    </tr>\n",
       "    <tr>\n",
       "      <th>Calc Cases</th>\n",
       "      <td>1.00</td>\n",
       "    </tr>\n",
       "    <tr>\n",
       "      <th>DICOM Dataset</th>\n",
       "      <td>1.00</td>\n",
       "    </tr>\n",
       "    <tr>\n",
       "      <th rowspan=\"3\" valign=\"top\">Validity</th>\n",
       "      <th>MASS Cases</th>\n",
       "      <td>0.75</td>\n",
       "    </tr>\n",
       "    <tr>\n",
       "      <th>Calc Cases</th>\n",
       "      <td>0.96</td>\n",
       "    </tr>\n",
       "    <tr>\n",
       "      <th>DICOM Dataset</th>\n",
       "      <td>1.00</td>\n",
       "    </tr>\n",
       "    <tr>\n",
       "      <th>Consistency</th>\n",
       "      <th>DICOM Dataset</th>\n",
       "      <td>1.00</td>\n",
       "    </tr>\n",
       "  </tbody>\n",
       "</table>\n",
       "</div>"
      ],
      "text/plain": [
       "                            Value\n",
       "Dimension    Dataset             \n",
       "Completeness MASS Cases      0.75\n",
       "             Calc Cases      0.96\n",
       "             DICOM Dataset   1.00\n",
       "Uniqueness   MASS Cases      1.00\n",
       "             Calc Cases      1.00\n",
       "             DICOM Dataset   1.00\n",
       "Validity     MASS Cases      0.75\n",
       "             Calc Cases      0.96\n",
       "             DICOM Dataset   1.00\n",
       "Consistency  DICOM Dataset   1.00"
      ]
     },
     "execution_count": 17,
     "metadata": {},
     "output_type": "execute_result"
    }
   ],
   "source": [
    "data = [0.753, 0.963, 1,1, 1, 1, 0.752, 0.963, 1, 1]\n",
    "datasets = ['MASS Cases', 'Calc Cases', 'DICOM Dataset','MASS Cases', 'Calc Cases', 'DICOM Dataset','MASS Cases', 'Calc Cases', 'DICOM Dataset','DICOM Dataset']\n",
    "dimension = [\"Completeness\",\"Completeness\",\"Completeness\",\"Uniqueness\",\"Uniqueness\",\"Uniqueness\",\"Validity\",\"Validity\",\"Validity\",\"Consistency\"]\n",
    "d = {'Dimension': dimension, 'Dataset': datasets, 'Value': data, }\n",
    "df = pd.DataFrame(d)\n",
    "df.set_index(['Dimension', 'Dataset'])"
   ]
  },
  {
   "cell_type": "markdown",
   "metadata": {},
   "source": [
    "**Data Preparation Tasks**\n",
    "1. The following observations have zero for breast density, values that will be considered missing:\n",
    "   1. P_01743_RIGHT_calcification_CC_1\n",
    "   2. P_01743_RIGHT_calcification_MLO_1\n",
    "2. We will use Multivariate Imputation by Chained Equations (MICE) to predict missing and invalid values for the following variables:\n",
    "   1. calc_distribution\n",
    "   2. mass_margins\n",
    "   3. mass shape\n",
    "   4. calc_type\n",
    "   5. breast_density\n",
    "3. The following cases will be deleted from the dataset.\n",
    "   1. P_00710_RIGHT_mass_MLO_1\n",
    "   2. P_00710_RIGHT_mass_CC_1"
   ]
  }
 ],
 "metadata": {
  "kernelspec": {
   "display_name": "bcd",
   "language": "python",
   "name": "python3"
  },
  "language_info": {
   "codemirror_mode": {
    "name": "ipython",
    "version": 3
   },
   "file_extension": ".py",
   "mimetype": "text/x-python",
   "name": "python",
   "nbconvert_exporter": "python",
   "pygments_lexer": "ipython3",
   "version": "3.10.12"
  },
  "orig_nbformat": 4
 },
 "nbformat": 4,
 "nbformat_minor": 2
}
