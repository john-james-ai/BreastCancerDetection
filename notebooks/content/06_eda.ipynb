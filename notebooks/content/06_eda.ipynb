{
 "cells": [
  {
   "cell_type": "markdown",
   "id": "ed96f990",
   "metadata": {},
   "source": [
    "# Exploratory Data Analysis (EDA) of the **CBIS-DDSM** Dataset\n",
    "In this section, we conduct an exploratory data analysis of the CBIS-DDSM Case and DICOM datasets prepared in prior sections. The purpose of this EDA is four-fold:\n",
    "1. Discover the relationships among the features.\n",
    "2. Explore the nature and degree to which features relate to a diagnosis of breast cancer.\n",
    "3. Identify errors, outliers, and anomalies in the data before the modeling stage.\n",
    "4. Assess image quality and develop an appropriate image pre-processing approach.\n",
    "\n",
    "## The Datasets\n",
    "This analysis will involve the following datasets:\n",
    "- Case Datasets: Calcification and mass datasets containing patient, abnormality, BI-RADS assessment, image view, breast density, subtlety, and pathology (diagnosis) information.\n",
    "- DICOM Dataset: Contains image properties, such as image size, shape, bit-depth, aspect ratio, and photometric interpretation.\n",
    "- DICOM Images: The mammography, ROI masks, and cropped images in DICOM format.\n",
    "\n",
    "### Case Dataset Dictionary\n",
    "\n",
    "| #  | Variable             | Type        | Description                                                                                                                  | Validity                                   |\n",
    "|----|----------------------|-------------|------------------------------------------------------------------------------------------------------------------------------|--------------------------------------------|\n",
    "| 1  | patient_id           | Nominal     | Unique identifier for each patient.                                                                                          | String of format \"P_00000'                 |\n",
    "| 2  | breast_density       | Discrete    | BI-RADS overall assessment of the volume of attenuating tissues in the   breast.                                             | Integer range [1,4]                        |\n",
    "| 3  | left_or_right_breast | Nominal     | Which breast was imaged.                                                                                                     | RIGHT or LEFT                              |\n",
    "| 4  | image_view           | Dichotomous | Either cranialcaudal or mediolateral oblique view.                                                                            | CC or MLO                                  |\n",
    "| 5  | abnormality_id       | Discrete    | Number of abnormality for the patient.                                                                                       | Integer                                    |\n",
    "| 6  | abnormality_type     | Dichotomous | BI-RADS category of the abnormality.                                                                                         | calcification or mass                      |\n",
    "| 7  | calc_type            | Nominal     | Characterization of the type of calcification (where applicable)                                                             | See appendix                               |\n",
    "| 8  | calc_distribution    | Nominal     | The arrangement of the calcifications inside the breast and, relative to   the probability of malignancy. (where applicable) | See appendix                               |\n",
    "| 9  | assessment           | Discrete    | Overall BI-RADS assessment of the mammography                                                                                | Integer range [0,6]                        |\n",
    "| 10 | pathology            | Nominal     | Determination of the malignancy of the case.                                                                                 | MALIGNANT, BENIGN, BENIGN_WITHOUT_CALLBACK |\n",
    "| 11 | subtlety             | Discrete    | Degree of diagnostic difficulty                                                                                              | Integer range [1,5]                        |\n",
    "| 12 | fileset              | Nominal     | Indicates training or test set.                                                                                              | train or test                              |\n",
    "| 13 | mass_shape           | Nominal     | Shape of the mass                                                                                                            | See appendix                               |\n",
    "| 14 | mass_margins         | Nominal     | Feature that separates the mass from the adjacent breast parenchyma.                                                         | See appendix                               |\n",
    "| 15 | case_id              | Nominal     | Unique identifier for the case.                                                                                              | String                                     |\n",
    "| 16 | cancer               | Dichotomous | Indicates whether the cancer is diagnosed.                                                                                   | True or False                              |\n",
    "\n",
    "### DICOM Dataset Dictionary\n",
    "| #  | Variable                   | Type        | Description                                                               |\n",
    "|----|----------------------------|-------------|---------------------------------------------------------------------------|\n",
    "| 1  | series_uid                 | Nominal     | Unique identifier for a series of images.                                 |\n",
    "| 2  | filepath                   | Nominal     | The path to the image.                                                    |\n",
    "| 3  | patient_id                 | Nominal     | Unique identifier for each patient.                                       |\n",
    "| 4  | side                       | Nominal     | Which breast was imaged.                                                  |\n",
    "| 5  | image_view                 | Dichotomous | Either cranialcaudal or mediolateral oblique view.                         |\n",
    "| 6  | photometric_interpretation | Nominal     | Intended interpretation of the pixel data.                                |\n",
    "| 7  | samples_per_pixel          | Discrete    | Number of samples (planes) in this image.                                 |\n",
    "| 8  | height                     | Discrete    | Number of rows in the image.                                              |\n",
    "| 9  | width                      | Discrete    | Number of columns in the image.                                           |\n",
    "| 10 | size                       | Discrete    | Number of pixels in the image.                                            |\n",
    "| 11 | aspect_ratio               | Continuous  | Ratio of vertical and horizontal size.                                    |\n",
    "| 12 | bits                       | Discrete    | Number of bits stored for each pixel sample.                              |\n",
    "| 13 | smallest_image_pixel       | Discrete    | The minimum actual pixel value encountered in the image.                  |\n",
    "| 14 | largest_image_pixel        | Discrete    | The maximum actual pixel value encountered in the image.                  |\n",
    "| 15 | image_pixel_range          | Discrete    | Difference between largest and smallest image pixel.                      |\n",
    "| 16 | brisque                    | Continuous  | BRISQUE score indicating overall quality of the image.                    |\n",
    "| 17 | series_description         | Nominal     | Whether the series contains full mammography, ROI mask or cropped images. |\n",
    "\n",
    "\n",
    "## Approach\n",
    "### Guiding Questions\n",
    "> “Far better an approximate answer to the right question, which is often vague, than an exact answer to the wrong question, which can always be made precise.” — John Tukey\n",
    "\n",
    "Here, we'll put forward a set of questions to motivate and guide the discovery process.\n",
    "\n",
    "**General Questions**\n",
    "1. Density is considered a potential signal of pathology. How does density relate to BI-RADS assessment and pathology in the CBIS-DDSM dataset?\n",
    "2. Are abnormalities considered more subtle in dense breasts? \n",
    "4. Is breast density determinative of abnormality type, to some degree?\n",
    "5. Are masses more or less subtle than calcification abnormalities?\n",
    "7. To what degree are the BI-RADS assessments and pathology in agreement?\n",
    "8. Does subtlety affect the agreement between BI-RADS assessment and pathology?\n",
    "\n",
    "**Calcification Cases**\n",
    "1. Which calcification types are most malignant?\n",
    "2. How do calcification type and distribution relate to pathology?\n",
    "3. What does the calcification distribution imply about a diagnosis?\n",
    "4. To what degree does calcification distribution relate to breast density? \n",
    "5. Are certain calcification types more or less subtle than others?\n",
    "6. To what degree are subtlety and calcification distribution related?\n",
    "\n",
    "**Mass Cases**\n",
    "1. How does mass shape relate to pathology?\n",
    "2. To what degree do mass shape and mass margins affect a BI-RADS assessment? Pathology?\n",
    "3. What is the relationship between subtlety and mass shape? Mass margins?\n",
    "4. Do the data support a relationship between breast density and mass shape? mass margins?\n",
    "\n",
    "**Image Properties**\n",
    "1. What is the overall quality of the images in the dataset?\n",
    "2. What is the distribution of the image sizes in terms of height and width?\n",
    "3. Is bit-depth consistent across all images? Full mammograms? ROI Masks?\n",
    "4. Is photometric interpretation consistent across all full mammogram images? ROI masks?\n",
    "5. To what degree are image and ROI mask sizes in agreement?\n",
    "\n",
    "**Images**\n",
    "1. To what degree are artifacts (marks and texts) extant in the imaging?\n",
    "2. How would image brightness and contrast be characterized in the dataset?\n",
    "3. Is visual intra-class dissimilarity and inter-class similarity a factor among benign calcifications, benign masses, malignant calcifications, and malignant masses?\n"
   ]
  },
  {
   "cell_type": "markdown",
   "id": "58ee6e6e",
   "metadata": {},
   "source": [
    "### Exploratory Data Analysis Plan\n",
    "The EDA will be conducted in six stages:\n",
    "\n",
    "| Stage | Dataset        | Analysis     | Focus                                                                                                  |\n",
    "|-------|----------------|--------------|--------------------------------------------------------------------------------------------------------|\n",
    "| 1     | Case           | Univariate   | Explore descriptive statistics for each variable in the datasets   separately.                         |\n",
    "| 2     | Case           | Bivariate    | Analyze pairwise relationships between variables.                                                      |\n",
    "| 3     | Case           | Multivariate | Evaluate the relationships among multiple variables (more than two) and   patterns.                    |\n",
    "| 4     | DICOM Metadata | Quality      | Assessment of overall quality of images.                                                               |\n",
    "| 5     | DICOM Metadata | Structure    | Analyze the image sizes, shape and pixel values.                                                       |\n",
    "| 6     | DICOM Images   | Visual       | Conduct visual analysis of various abnormalities, densities, and   diagnoses.                          |"
   ]
  },
  {
   "cell_type": "markdown",
   "id": "ddf924c8",
   "metadata": {},
   "source": [
    "**Preliminaries**\n",
    "The section has the following python package dependencies:\n",
    "- **Pandas**: Tabular data processing and analysis\n",
    "- **Numpy**: Numerical processing\n",
    "- **Matplotlib** and **Seaborn**: Data visualization\n",
    "- **Scipy**: Statistical analysis\n",
    "- **StudioAI**: Data visualization and statistical analysis "
   ]
  },
  {
   "cell_type": "code",
   "execution_count": 1,
   "id": "bcef5804",
   "metadata": {
    "tags": [
     "remove-cell"
    ]
   },
   "outputs": [],
   "source": [
    "import sys\n",
    "import os\n",
    "if 'jbook' in os.getcwd():\n",
    "    os.chdir(os.path.abspath(os.path.join(\"../..\")))\n",
    "import warnings\n",
    "warnings.filterwarnings(\"ignore\")"
   ]
  },
  {
   "cell_type": "code",
   "execution_count": 2,
   "id": "48993264",
   "metadata": {
    "tags": []
   },
   "outputs": [],
   "source": [
    "import pandas as pd\n",
    "from scipy import stats\n",
    "import pickle\n",
    "from IPython.display import display_html, HTML\n",
    "import numpy as np\n",
    "import matplotlib.pyplot as plt\n",
    "import seaborn as sns\n",
    "import seaborn.objects as so\n",
    "from sklearn.svm import SVC\n",
    "from sklearn.linear_model import LogisticRegression\n",
    "from sklearn.ensemble import RandomForestClassifier\n",
    "\n",
    "from bcd.data.dataset.case import CaseDataset\n",
    "from bcd.data.dataset.dicom import DicomDataset\n",
    "from bcd.model.pipeline import PipelineBuilder\n",
    "from bcd.model.selection import ModelSelector\n",
    "\n",
    "pd.options.display.max_rows = 999\n",
    "pd.options.display.max_columns = 999\n",
    "sns.set_style('whitegrid')\n",
    "sns.set_palette(\"Blues_r\")"
   ]
  },
  {
   "cell_type": "code",
   "execution_count": 3,
   "id": "50d824d0",
   "metadata": {
    "tags": [
     "remove-cell"
    ]
   },
   "outputs": [],
   "source": [
    "CASE_FP = \"data/preprocessed/cases.csv\"\n",
    "DICOM_FP = \"data/clean/dicom_case.csv\""
   ]
  },
  {
   "cell_type": "code",
   "execution_count": null,
   "id": "28279d08",
   "metadata": {},
   "outputs": [],
   "source": [
    "cases = CaseDataset(filepath=CASE_FP)\n",
    "calc = CaseDataset(df=cases.get_calc_data())\n",
    "mass = CaseDataset(df=cases.get_mass_data())"
   ]
  },
  {
   "cell_type": "markdown",
   "id": "0d727e75",
   "metadata": {},
   "source": [
    "## Case Data Univariate Analysis\n",
    "Let's get an overall sense of the data."
   ]
  },
  {
   "cell_type": "code",
   "execution_count": null,
   "id": "0b88d6cf",
   "metadata": {},
   "outputs": [],
   "source": [
    "summary = cases.summary()\n",
    "summary"
   ]
  },
  {
   "cell_type": "code",
   "execution_count": null,
   "id": "3b7008de",
   "metadata": {
    "tags": [
     "hide-input"
    ]
   },
   "outputs": [],
   "source": [
    "st = summary.T\n",
    "pct_calc = round(st['Calcification Cases'] / st['Cases'] * 100,2).values[0]\n",
    "pct_mass = round(st['Mass Cases'] / st['Cases'] * 100,2).values[0]\n",
    "pct_calc_mal = round(st['Calcification Cases - Malignant'] / st['Calcification Cases'] * 100,2).values[0]\n",
    "pct_calc_bn = round(st['Calcification Cases - Benign'] / st['Calcification Cases'] * 100,2).values[0]\n",
    "pct_mass_mal = round(st['Mass Cases - Malignant'] / st['Mass Cases'] * 100,2).values[0]\n",
    "pct_mass_bn = round(st['Mass Cases - Benign'] / st['Mass Cases'] * 100,2).values[0]\n",
    "cases_per_patient = round(st['Cases'] / st['Patients'],2).values[0]\n",
    "msg = f\"Key Observations\\n\"\n",
    "msg += f\"1.\\tThe number of patients, {st['Patients'].values[0]} comports with the TCIA data description.\\n\"\n",
    "msg += f\"2.\\tWe have {st['Cases'].values[0]} cases, {pct_calc}% are calcification cases and {pct_mass}% are mass cases.\\n\"\n",
    "msg += f\"3.\\tOf the calcification cases, {pct_calc_bn}% are benign, {pct_calc_mal} or malignant.\\n\"\n",
    "msg += f\"4.\\tOf the mass cases, {pct_mass_bn}% are benign, {pct_mass_mal} or malignant.\\n\"\n",
    "msg += f\"5\\tOn average we have approximately {cases_per_patient} cases per patient.\"\n",
    "print(msg)"
   ]
  },
  {
   "cell_type": "markdown",
   "id": "5ea0c645",
   "metadata": {},
   "source": [
    "\n",
    "Let's take a look at the calcification and mass data."
   ]
  },
  {
   "cell_type": "code",
   "execution_count": null,
   "id": "43351145",
   "metadata": {},
   "outputs": [],
   "source": [
    "cases.get_calc_data().sample(5)\n",
    "cases.get_mass_data().sample(5)"
   ]
  },
  {
   "cell_type": "markdown",
   "id": "40c8f5c9",
   "metadata": {},
   "source": [
    "Our univariate analysis will cover:\n",
    "- Breast Density\n",
    "- Left or Right Breast\n",
    "- Image View\n",
    "- Abnormality Id\n",
    "- Abnormality Type\n",
    "- Subtlety\n",
    "- BI-RADS Assessment\n",
    "- Calcification Type\n",
    "- Calcification Distribution\n",
    "- Mass Shape\n",
    "- Mass Margins\n",
    "- Pathology\n",
    "- Cancer (Target)\n",
    "\n",
    "And we begin..."
   ]
  },
  {
   "cell_type": "markdown",
   "id": "a8fceb43",
   "metadata": {},
   "source": [
    "### Breast Density\n",
    "Radiologists classify breast density using a 4-level density scale {cite}BreastImagingReporting:\n",
    "\n",
    "1. Almost entirely fatty\n",
    "2. Scattered areas of fibroglandular density\n",
    "3. Heterogeneously dense\n",
    "4. Extremely dense\n",
    "\n",
    "According to the American College of Radiology™️, breast density in the U.S.:\n",
    "\n",
    "- 10% of women have almost entirely fatty breasts,\n",
    "- 10% have extremely dense breasts,\n",
    "- 40% of women have scattered areas of fibroglandular density\n",
    "- 40% have heterogeneously dense breasts\n",
    "\n",
    "{figure}\n",
    ":name: density_ref\n",
    "Breast Density Categories {cite}`WHATAREDENSE`"
   ]
  },
  {
   "cell_type": "code",
   "execution_count": null,
   "id": "de41f4ae",
   "metadata": {
    "tags": [
     "remove-cell"
    ]
   },
   "outputs": [],
   "source": [
    "df_cases = cases.as_df()\n",
    "d1 = np.repeat([1], int(df_cases.shape[0]*.1))\n",
    "d2 = np.repeat([2], int(df_cases.shape[0]*.4))\n",
    "d3 = np.repeat([3], int(df_cases.shape[0]*.4))\n",
    "d4 = np.repeat([4], int(df_cases.shape[0]*.1))\n",
    "d = np.append(arr=d1,values=d2)\n",
    "d = np.append(arr=d,values=d3)\n",
    "d = np.append(arr=d,values=d4)\n",
    "d = {\"Breast Density\": d, \"Sample\": \"U.S.\"}\n",
    "usd = pd.DataFrame(data=d)\n",
    "density = df_cases['breast_density'].to_frame()\n",
    "density.rename(columns={'breast_density': 'Breast Density'}, inplace=True)\n",
    "density['Sample'] = 'CBIS-DDSM'\n",
    "density = pd.concat([density, usd], axis=0).reset_index()"
   ]
  },
  {
   "cell_type": "markdown",
   "id": "127f7d7e",
   "metadata": {},
   "source": [
    "The following exhibits the counts by breast density category in the CBIS-DDSM dataset vis-a-vis a sample from the US of the same size."
   ]
  },
  {
   "cell_type": "code",
   "execution_count": null,
   "id": "50b844e7",
   "metadata": {},
   "outputs": [],
   "source": [
    "fig, ax = plt.subplots(figsize=(12,4))\n",
    "cases.plot.countplot(data=density,x='Breast Density', hue=\"Sample\", ax=ax, title =\"Distribution of Breast Density in CBIS-DDSM\", dodge=True)"
   ]
  },
  {
   "cell_type": "markdown",
   "id": "ee2c3fae",
   "metadata": {},
   "source": [
    "Interesting. The distribution of breast density in the dataset models pretty closely the distribution of breast density in the United States. "
   ]
  },
  {
   "cell_type": "code",
   "execution_count": null,
   "id": "80957abe",
   "metadata": {},
   "outputs": [],
   "source": [
    "fig, ax = plt.subplots(figsize=(12,4))\n",
    "cases.plot.countplot(x='breast_density', ax=ax, title =\"Distribution of Breast Density in CBIS-DDSM\", plot_counts=True)"
   ]
  },
  {
   "cell_type": "markdown",
   "id": "de3de21e",
   "metadata": {},
   "source": [
    "The distribution of breast density in the CBIS-DDSM approximates a normal distribution, to the extent four points make a distribution. "
   ]
  },
  {
   "cell_type": "markdown",
   "id": "9f9cf882",
   "metadata": {},
   "source": [
    "### Left or Right Side"
   ]
  },
  {
   "cell_type": "code",
   "execution_count": null,
   "id": "0536e733",
   "metadata": {},
   "outputs": [],
   "source": [
    "fig, ax = plt.subplots(figsize=(12,4))\n",
    "cases.plot.countplot(x='left_or_right_breast', ax=ax, title =\"Distribution of Left/Right Breasts in CBIS-DDSM\", plot_counts=True)"
   ]
  },
  {
   "cell_type": "markdown",
   "id": "62ca645e",
   "metadata": {},
   "source": [
    "The dataset is approximately balanced with respect to left or right breasts."
   ]
  },
  {
   "cell_type": "markdown",
   "id": "c6d7fff7",
   "metadata": {},
   "source": [
    "### Image View\n",
    "CBIS-DDSM contains digital mammography images in two different views: cranial caudal (CC) and mediolateral oblique (MLO). The CC view is taken from above the breast; whereas, the MLO view is taken from the center of the breast outward. "
   ]
  },
  {
   "cell_type": "code",
   "execution_count": null,
   "id": "5e1f698f",
   "metadata": {},
   "outputs": [],
   "source": [
    "fig, ax = plt.subplots(figsize=(12,4))\n",
    "cases.plot.countplot(x='image_view', ax=ax, title =\"Distribution of Image View in CBIS-DDSM\", plot_counts=True)"
   ]
  },
  {
   "cell_type": "markdown",
   "id": "e6478c67",
   "metadata": {},
   "source": [
    "Slightly greater number of MLO views; however, the dataset has a reasonable balance of image views."
   ]
  },
  {
   "cell_type": "markdown",
   "id": "80fecc0d",
   "metadata": {},
   "source": [
    "### Abnormality Id\n",
    "The abnormality id is a sequence number assigned to each abnormality for a patient. "
   ]
  },
  {
   "cell_type": "code",
   "execution_count": null,
   "id": "e36bbbb6",
   "metadata": {},
   "outputs": [],
   "source": [
    "fig, ax = plt.subplots(figsize=(12,4))\n",
    "cases.plot.countplot(x='abnormality_id', ax=ax, title =\"Distribution of Abnormality Counts per Patient in CBIS-DDSM\", plot_counts=True)"
   ]
  },
  {
   "cell_type": "markdown",
   "id": "7c83b477",
   "metadata": {},
   "source": [
    "The vast majority of patients present with a single abnormality; although, a considerable number have two or more."
   ]
  },
  {
   "cell_type": "markdown",
   "id": "662c249f",
   "metadata": {},
   "source": [
    "### Abnormality Type\n",
    "CBIS-DDSM contains two abnormality types: calcification and mass. \n",
    "\n",
    "Calcifications, common on mammograms, especially after age 50, are calcium deposits within the breast tissue. Typically benign, calcifications show up as either macrocalcifications or microcalcifications. Macrocalcifications appear as large white dots or dashes which are almost always noncancerous, requiring no further testing or follow-up. Microcalcifications show up as fine, white specks, similar to grains of salt. Usually noncancerous, but certain patterns can be an early sign of cancer.\n",
    "\n",
    "Masses are also common, particularly among women of reproductive age. For the 25% of women affected by breast disease in their lifetime, the vast majority will present initially with a new breast mass in the primary care setting. Breast masses have a wide range of causes, from physiological adenosis to highly aggressive malignancy.  \n",
    "\n",
    "As shown below, the dataset contains a balance of calcification and mass cases."
   ]
  },
  {
   "cell_type": "code",
   "execution_count": null,
   "id": "8327734a",
   "metadata": {},
   "outputs": [],
   "source": [
    "fig, ax = plt.subplots(figsize=(12,4))\n",
    "cases.plot.countplot(x='abnormality_type', ax=ax, title =\"Distribution of Abnormality Types in CBIS-DDSM\", plot_counts=True)"
   ]
  },
  {
   "cell_type": "markdown",
   "id": "ab033b14",
   "metadata": {},
   "source": [
    "### Subtlety\n",
    "Subtlety is a measure of the degree to which a particular case is difficult to diagnose. Values range from 1 (highly subtle) to 5 (obvious)."
   ]
  },
  {
   "cell_type": "code",
   "execution_count": null,
   "id": "25e29a29",
   "metadata": {},
   "outputs": [],
   "source": [
    "fig, ax = plt.subplots(figsize=(12,4))\n",
    "cases.plot.countplot(x='subtlety', ax=ax, title =\"Distribution of Subtlety in CBIS-DDSM\", plot_counts=True)"
   ]
  },
  {
   "cell_type": "markdown",
   "id": "02b125de",
   "metadata": {},
   "source": [
    "CBIS-DDSM cases cover the range from highly subtle to obvious, trending towards a greater number of cases considered moderately subtle to obvious."
   ]
  },
  {
   "cell_type": "markdown",
   "id": "a1276ffd",
   "metadata": {},
   "source": [
    "### BI-RADS Assessment\n",
    "A BI-RADS assessment an overall assessment of the imaging and has size categories:\n",
    "\n",
    "| Category | Definition                                                                                                                                                         |\n",
    "|----------|--------------------------------------------------------------------------------------------------------------------------------------------------------------------|\n",
    "| 0        | Means the findings are unclear. The radiologist will need more images to   determine a score                                                                       |\n",
    "| 1        | Means the findings are negative and the breast tissue appears normal. No   masses, calcifications, asymmetry or other abnormalities have been   found.             |\n",
    "| 2        | Means the findings are benign, which is also negative for cancer. While a   mass, calcification or other abnormality may have been detected, it’s not   cancerous. |\n",
    "| 3        | Means the findings are probably benign. While a mass, calcification or   other abnormality may have been found, it’s most likely not cancerous.                    |\n",
    "| 4        | Means cancer is suspected. There are four subcategories that relate to   the probability of a malignancy: 4A (2-10%) 4B (10-50%) 4C (50-95%)                       |\n",
    "| 5        | Means cancer is highly suspected. Findings have a 95% chance or higher of   being cancerous.                                                                       |\n",
    "| 6        | Cancer was previously diagnosed using a biopsy.                                                                                                                    |"
   ]
  },
  {
   "cell_type": "code",
   "execution_count": null,
   "id": "43a0752a",
   "metadata": {},
   "outputs": [],
   "source": [
    "fig, ax = plt.subplots(figsize=(12,4))\n",
    "cases.plot.countplot(x='assessment', ax=ax, title =\"Distribution of BI-RADS Assessment in CBIS-DDSM\", plot_counts=True)"
   ]
  },
  {
   "cell_type": "markdown",
   "id": "e4b95eb8",
   "metadata": {},
   "source": [
    "### Calcification Type\n",
    "Calcification type describes the morphology of a case and is the most important factor in the differentiation between benign and malignant cases. There are over 40 different categories of calc_type in the dataset; yet, the some of the main categories are:\n",
    "\n",
    "| #  | Morphology            |                                                                                                                | Assessment     |\n",
    "|----|-----------------------|----------------------------------------------------------------------------------------------------------------|----------------|\n",
    "| 1  | Amorphous             | Indistinct calcifications, without clearly defined shape, small and/or   hazy in appearance                    | BI-RADS 4B     |\n",
    "| 2  | Coarse Heterogeneous  | Irregular, conspicuous calcifications, typically larger than 0.5 mm.                                           | BI-RADS 3      |\n",
    "| 3  | Dystrophic            | Irregular, 'lava-shaped', larger than 0.5 mm, which develop 3-5 years   after treatment in about 30% of women. | BI-RADS 1 or 2 |\n",
    "| 4  | Eggshell              | Very thin benign calcifications that appear as calcium                                                         | BI-RADS 1 or 2 |\n",
    "| 5  | Fine Linear Branching | Thin linear or curvilinear irregular.                                                                          | BI-RADS 4B     |\n",
    "| 6  | Large Rod-like        | Benign calcifications that form continuous rods that may occassionally be   branching.                         | BI-RADS 1 or 2 |\n",
    "| 7  | Lucent-Centered       | Round or oval calcifications, typically result of fat necrosis, or   calcified debris in ducts                 | BI-RADS 1 or 2 |\n",
    "| 8  | Milk of Calcium       | Benign sedimented calcifications in macro or microcysts.                                                       | BI-RADS 1 or 2 |\n",
    "| 9  | Pleomorphic           | Calcifications varying in size and shape, more conspicuous than amorphic   calcifications.                     | BI-RADS 4B     |\n",
    "| 10 | Punctate              | Round calcifications 0.5-1 mm in size.                                                                         | BI-RADS 2,3,4  |\n",
    "| 11 | Skin                  | Skin calcifications, usually lucent-centered deposits                                                          | BI-RADS 1 or 2 |\n",
    "| 12 | Vascular              | Linear or form parallel tracks, usually associated with blood vessels.                                         | BI-RADS 1 or 2 |\n",
    "\n"
   ]
  },
  {
   "cell_type": "code",
   "execution_count": null,
   "id": "3b2c0c39",
   "metadata": {},
   "outputs": [],
   "source": [
    "fig, ax = plt.subplots(figsize=(12,10))\n",
    "cases.plot.countplot(y='calc_type', ax=ax, title =\"Distribution of Calcification Types in CBIS-DDSM\", plot_counts=True, order_by_count=True)"
   ]
  },
  {
   "cell_type": "markdown",
   "id": "ca69cd77",
   "metadata": {},
   "source": [
    "The vast majority of calcification types are pleomorphic, amorphous, and lucent-centered."
   ]
  },
  {
   "cell_type": "markdown",
   "id": "697fca03",
   "metadata": {},
   "source": [
    "### Calcification Distribution\n",
    "Calcification distribution refers to the arrangement of the calcifications inside the breast. BI-RADS describes the following categories of calcification distribution:\n",
    "1. Diffuse or Scattered: Calcifications throughout the whole breast.\n",
    "2. Regional: Scattered in a larger volume (> 2 cc) of breast tissue and not in the expected ductal distribution.\n",
    "3. Clustered: Groups of at least 5 calcifications in a small volume of tissue\n",
    "4. Segmental: Calcium deposits appear in ducts or branches of a segment or lobe."
   ]
  },
  {
   "cell_type": "code",
   "execution_count": null,
   "id": "00de6972",
   "metadata": {},
   "outputs": [],
   "source": [
    "fig, ax = plt.subplots(figsize=(12,6))\n",
    "calc.plot.countplot(y='calc_distribution', ax=ax, title =\"Distribution of Calcification Distributions in CBIS-DDSM\", plot_counts=True, order_by_count=True)"
   ]
  },
  {
   "cell_type": "markdown",
   "id": "25283119",
   "metadata": {},
   "source": [
    "### Mass Shape\n",
    "The BI-RADS lexicon defines four mass shapes:\n",
    "1. Round\n",
    "2. Oval\n",
    "3. Lobulated\n",
    "4. Irregular\n",
    "\n",
    "The following mass shapes are represented in the CBIS-DDSM."
   ]
  },
  {
   "cell_type": "code",
   "execution_count": null,
   "id": "173a7111",
   "metadata": {},
   "outputs": [],
   "source": [
    "fig, ax = plt.subplots(figsize=(12,6))\n",
    "mass.plot.countplot(y='mass_shape', ax=ax, title =\"Distribution of Mass Shapes in CBIS-DDSM\", plot_counts=True, order_by_count=True)"
   ]
  },
  {
   "cell_type": "markdown",
   "id": "7aaf3679",
   "metadata": {},
   "source": [
    "Most mass cases have lobulated, irregular, oval or round shapes."
   ]
  },
  {
   "cell_type": "markdown",
   "id": "1a9542fd",
   "metadata": {},
   "source": [
    "### Mass Margins\n",
    "A feature that separates the mass from the adjacent breast parenchyma. Mass margins can be:\n",
    "1. Circumscribed: Low probability of malignancy.\n",
    "2. Obscured: Undetermined likelihood of malignancy.\n",
    "3. Spiculated: Higher likelihood of malignancy.\n",
    "4. Microlobulated: Suspicious for breast carcinoma: \n",
    "5. Ill-Defined: Also called 'indistinct'. Generally suspicious of malignancy.     \n"
   ]
  },
  {
   "cell_type": "code",
   "execution_count": null,
   "id": "89491dd8",
   "metadata": {},
   "outputs": [],
   "source": [
    "fig, ax = plt.subplots(figsize=(12,6))\n",
    "mass.plot.countplot(y='mass_margins', ax=ax, title =\"Distribution of Mass Margins in CBIS-DDSM\", plot_counts=True, order_by_count=True)"
   ]
  },
  {
   "cell_type": "markdown",
   "id": "3bcdb7b5",
   "metadata": {},
   "source": [
    "Circumscribed, ill-defined, obscured and microlobulated mass margins are most frequently observed in this dataset."
   ]
  },
  {
   "cell_type": "markdown",
   "id": "16889c96",
   "metadata": {},
   "source": [
    "### Pathology\n",
    "The dataset distinguishes three outcomes: malignant, benign, and benign without callback. The latter indicates that the region may be suspicious, and should be monitored, but no further investigation is required."
   ]
  },
  {
   "cell_type": "code",
   "execution_count": null,
   "id": "252c18ab",
   "metadata": {},
   "outputs": [],
   "source": [
    "fig, ax = plt.subplots(figsize=(12,4))\n",
    "cases.plot.countplot(x='pathology', ax=ax, title =\"Distribution of Pathology in CBIS-DDSM\", plot_counts=True, order_by_count=True)"
   ]
  },
  {
   "cell_type": "markdown",
   "id": "e156edfe",
   "metadata": {},
   "source": [
    "The majority of cases are benign; although, benign without callback represents a considerable proportion of the cases. "
   ]
  },
  {
   "cell_type": "markdown",
   "id": "7f83cecc",
   "metadata": {},
   "source": [
    "### Cancer\n",
    "Here, we collapse BENIGN and BENIGN_WITHOUT_CALLBACK into a single category."
   ]
  },
  {
   "cell_type": "code",
   "execution_count": null,
   "id": "ec326a9c",
   "metadata": {},
   "outputs": [],
   "source": [
    "fig, ax = plt.subplots(figsize=(12,4))\n",
    "cases.plot.countplot(x='cancer', ax=ax, title =\"Distribution of Cancer Diagnoses in CBIS-DDSM\")"
   ]
  },
  {
   "cell_type": "markdown",
   "id": "48225e28",
   "metadata": {},
   "source": [
    "### Summary CBIS-DDSM Case Univariate Analysis\n",
    "Several observations can be made at this stage.\n",
    "1. The CBIS-DDSM is well-balanced with respect to breast density, morphology, subtlety, BI-RADS assessment, and pathology. \n",
    "2. Over 40 calcification types are represented; however, the majority of cases fall into one of five types.\n",
    "3. Similarly, there are nearly 20 categories of mass margins; yet, but most cases fall into one of the five major classes:\n",
    "   1. Spiculated\n",
    "   2. Circumscribed\n",
    "   3. Obscured\n",
    "   4. Ill-Defined\n",
    "\n",
    "Next up, bivariate analysis. "
   ]
  },
  {
   "cell_type": "markdown",
   "id": "d5b1c6c3",
   "metadata": {},
   "source": [
    "## Case Data Bivariate Analysis\n",
    "This bivariate analysis will comprise a dependency analysis, and an inter-dependence analysis.  The former assesses the degree to which a cancer diagnosis depends upon the values of the explanatory variables, such as breast density, type and distribution of calcifications, and the shape and margins of masses. The inter-dependence analysis explores the association between two independent variables."
   ]
  },
  {
   "cell_type": "code",
   "execution_count": null,
   "id": "3da6e3c5",
   "metadata": {},
   "outputs": [],
   "source": [
    "df = cases.as_df(categorize_ordinals=True)"
   ]
  },
  {
   "cell_type": "markdown",
   "id": "b9a82012",
   "metadata": {},
   "source": [
    "### Bivariate Target Variable Association Analysis"
   ]
  },
  {
   "cell_type": "markdown",
   "id": "a095cc9a",
   "metadata": {},
   "source": [
    "#### Cancer Diagnosis by Breast Density"
   ]
  },
  {
   "cell_type": "code",
   "execution_count": null,
   "id": "4a7d40f6",
   "metadata": {},
   "outputs": [],
   "source": [
    "sns.objects.Plot(df, x='breast_density', color='cancer').add(so.Bar(), so.Count(), so.Stack()).theme({**sns.axes_style(\"whitegrid\"), \"grid.linestyle\": \":\"}).label(title=\"Diagnosis by Breast Density\").layout(size=(12,4), engine='tight')"
   ]
  },
  {
   "cell_type": "markdown",
   "id": "8489888d",
   "metadata": {},
   "source": [
    "It's rather difficult to assess the degree to which breast density related to a diagnosis. Let's plot the relative proportions."
   ]
  },
  {
   "cell_type": "code",
   "execution_count": null,
   "id": "7b9b69b4",
   "metadata": {},
   "outputs": [],
   "source": [
    "prop = df[['breast_density', 'cancer']].groupby(by=['breast_density']).value_counts(normalize=True).to_frame().reset_index().sort_values(by=['breast_density','cancer'])\n",
    "sns.objects.Plot(prop, x='breast_density', y='proportion', color='cancer').add(so.Bar(), so.Stack()).theme({**sns.axes_style(\"whitegrid\"), \"grid.linestyle\": \":\"}).label(title=\"Diagnosis by Breast Density\").layout(size=(12,4), engine='tight')"
   ]
  },
  {
   "cell_type": "markdown",
   "id": "cd76b1cd",
   "metadata": {},
   "source": [
    "Breast density is considered a risk factor for breast cancer, as women with dense breasts have a higher risk of breast cancer than women with fatty breasts {cite}`DenseBreastsAnswers2018`. Notwithstanding, the CBIS-DDSM data don't reveal a strong relationship between breast density and diagnosis. Let's see if a test of association supports our inference."
   ]
  },
  {
   "cell_type": "code",
   "execution_count": null,
   "id": "4bb902e3",
   "metadata": {},
   "outputs": [],
   "source": [
    "kt = cases.stats.kendallstau(a='breast_density', b='cancer')\n",
    "print(kt)"
   ]
  },
  {
   "cell_type": "markdown",
   "id": "a653cf74",
   "metadata": {},
   "source": [
    "The Kendall's Tau test measuring the association between breast density and malignancy indicated a non-significant association of weak effect, ($\\phi_\\tau$ = 0.01, p = 0.54)."
   ]
  },
  {
   "cell_type": "markdown",
   "id": "f609ca9f",
   "metadata": {},
   "source": [
    "#### Cancer Diagnosis by Breast\n",
    "A 2022 study published in Nature {cite}`abdouLeftSidedBreast2022` suggests that breast cancer is slightly more prevalent on the left side of the body than it is on the right. Do the CBIS-DDSM data support this finding?"
   ]
  },
  {
   "cell_type": "code",
   "execution_count": null,
   "id": "6bdc7535",
   "metadata": {},
   "outputs": [],
   "source": [
    "sns.objects.Plot(df, x='left_or_right_breast', color='cancer').add(so.Bar(), so.Count(), so.Stack()).theme({**sns.axes_style(\"whitegrid\"), \"grid.linestyle\": \":\"}).label(title=\"Diagnosis by Breast\").layout(size=(12,4), engine='tight')"
   ]
  },
  {
   "cell_type": "markdown",
   "id": "4cf95899",
   "metadata": {},
   "source": [
    "If there is a slightly greater risk of cancer in the left breast, it would not be evident in the CBIS-DDSM data."
   ]
  },
  {
   "cell_type": "code",
   "execution_count": null,
   "id": "589a1ec9",
   "metadata": {},
   "outputs": [],
   "source": [
    "cv = cases.stats.cramersv(a='left_or_right_breast', b='cancer')\n",
    "print(cv)"
   ]
  },
  {
   "cell_type": "markdown",
   "id": "6b32b502",
   "metadata": {},
   "source": [
    "The chi-square test above, indicates a non-significant association of negligible effect between breast and diagnosis, ($X^2$ (1,n=3566)=2.97 p=0.08, $\\phi$=.03). "
   ]
  },
  {
   "cell_type": "markdown",
   "id": "df66ab9b",
   "metadata": {},
   "source": [
    "#### Cancer by Image View\n",
    "A study published in RSNA Journals {cite}`korhonenBreastCancerConspicuity2019` analyzed breast cancer conspicuity by view and determined that cancers were more likely to be high conspicuity in the craniocaudal (CC) than the mediolateral oblique (MLO) view.  Let's see what our data suggest."
   ]
  },
  {
   "cell_type": "code",
   "execution_count": null,
   "id": "bba39d10",
   "metadata": {},
   "outputs": [],
   "source": [
    "sns.objects.Plot(df, x='image_view', color='cancer').add(so.Bar(), so.Count(), so.Stack()).theme({**sns.axes_style(\"whitegrid\"), \"grid.linestyle\": \":\"}).label(title=\"Diagnosis by Image View\").layout(size=(12,4), engine='tight')"
   ]
  },
  {
   "cell_type": "code",
   "execution_count": null,
   "id": "00dd4d98",
   "metadata": {},
   "outputs": [],
   "source": [
    "df[[ 'cancer', 'image_view']].groupby(by=['image_view']).value_counts(normalize=True).to_frame()"
   ]
  },
  {
   "cell_type": "markdown",
   "id": "d879f1d8",
   "metadata": {},
   "source": [
    "Both views have the same proportion of malignancies suggesting no association between image view and the diagnosis.  "
   ]
  },
  {
   "cell_type": "code",
   "execution_count": null,
   "id": "cb7026b4",
   "metadata": {},
   "outputs": [],
   "source": [
    "cv = cases.stats.cramersv(a='image_view', b='cancer')\n",
    "print(cv)"
   ]
  },
  {
   "cell_type": "markdown",
   "id": "c9d43831",
   "metadata": {},
   "source": [
    "The chi-square test above, indicates a non-significant association of negligible effect between image view and diagnosis, ($X^2$ (1,n=3566)=0.007 p=0.93, $\\phi$=.002). "
   ]
  },
  {
   "cell_type": "markdown",
   "id": "6bebc785",
   "metadata": {},
   "source": [
    "#### Cancer by Abnormality Type\n",
    "Is abnormality type an indicator of malignancy?"
   ]
  },
  {
   "cell_type": "code",
   "execution_count": null,
   "id": "90ce2c16",
   "metadata": {},
   "outputs": [],
   "source": [
    "sns.objects.Plot(df, x='abnormality_type', color='cancer').add(so.Bar(), so.Count(), so.Stack()).theme({**sns.axes_style(\"whitegrid\"), \"grid.linestyle\": \":\"}).label(title=\"Diagnosis by Abnormality Type\").layout(size=(12,4), engine='tight')"
   ]
  },
  {
   "cell_type": "code",
   "execution_count": null,
   "id": "4305a1d9",
   "metadata": {},
   "outputs": [],
   "source": [
    "df[[ 'cancer', 'abnormality_type']].groupby(by=['cancer']).value_counts(normalize=True).to_frame()"
   ]
  },
  {
   "cell_type": "markdown",
   "id": "661e6640",
   "metadata": {},
   "source": [
    "These data indicate that the probability of a malignancy is slightly higher for masses than calcifications. Is this significant?"
   ]
  },
  {
   "cell_type": "code",
   "execution_count": null,
   "id": "d3f0a1f3",
   "metadata": {},
   "outputs": [],
   "source": [
    "cv = cases.stats.cramersv(a='abnormality_type', b='cancer')\n",
    "print(cv)"
   ]
  },
  {
   "cell_type": "markdown",
   "id": "809b5d1c",
   "metadata": {},
   "source": [
    "The chi-square test above, indicates a significant association of small effect between abnormality type and diagnosis, ($X^2$ (1,n=3566)=38.85 p<0.01, $\\phi$=.10). More malignancies were diagnosed among the mass cases, compared to calcifications (54% vs 46%)."
   ]
  },
  {
   "cell_type": "markdown",
   "id": "d27fd5e4",
   "metadata": {},
   "source": [
    "#### BI-RADS Assessment and Cancer\n",
    "The BI-RADS assessment is an overall summary of the mammography report and has seven categories.\n",
    "\n",
    "| Label | Description                                                                              | Likelihood of Cancer                                                        |\n",
    "| ----- | ---------------------------------------------------------------------------------------- | --------------------------------------------------------------------------- |\n",
    "| 0     | Incomplete . Need Additional   Imaging Evaluation and/or Prior Mammograms for Comparison | NA                                                                          |\n",
    "| 1     | Negative Routine mammography                                                             | Essentially 0% likelihood of malignancy                                     |\n",
    "| 2     | Benign Routine mammography                                                               | Essentially 0% likelihood of malignancy                                     |\n",
    "| 3     | Probably Benign Short-interval   (6-month)                                               | > 0% but . 2% likelihood of malignancy                                      |\n",
    "| 4     | Suspicious                                                                               | Low: 2% to ≤ 10%      Moderate: > 10% to ≤ 50%       High: > 50% to < 95% |\n",
    "| 5     | Highly Suggestive of Malignancy                                                          | > 95% likelihood of malignancy                                              |\n",
    "| 6     | Known Biopsy-Proven Malignancy                                                           | NA                                                                          |\n",
    "\n",
    "To what degree is there agreement between the BI-RADS assessments and diagnosis."
   ]
  },
  {
   "cell_type": "code",
   "execution_count": null,
   "id": "1b5d3624",
   "metadata": {},
   "outputs": [],
   "source": [
    "sns.objects.Plot(df, x='assessment', color='cancer').add(so.Bar(), so.Count(), so.Stack()).theme({**sns.axes_style(\"whitegrid\"), \"grid.linestyle\": \":\"}).label(title=\"Diagnosis by BI-RADS Assessment\").layout(size=(12,4), engine='tight')\n",
    "prop = df[['assessment', 'cancer']].groupby(by=['assessment']).value_counts(normalize=True).to_frame().reset_index().sort_values(by=['assessment','cancer'])\n",
    "sns.objects.Plot(prop, x='assessment', y='proportion', color='cancer').add(so.Bar(), so.Stack()).theme({**sns.axes_style(\"whitegrid\"), \"grid.linestyle\": \":\"}).label(title=\"Diagnosis by BI-RADS Assessment\").layout(size=(12,4), engine='tight')"
   ]
  },
  {
   "cell_type": "code",
   "execution_count": null,
   "id": "024603aa",
   "metadata": {},
   "outputs": [],
   "source": [
    "counts = df[[ 'assessment', 'cancer']].groupby(by=['assessment']).value_counts(normalize=False).to_frame().sort_values(by=['assessment', 'cancer'])\n",
    "prop = df[[ 'assessment', 'cancer']].groupby(by=['assessment']).value_counts(normalize=True).to_frame().sort_values(by=['assessment', 'cancer'])\n",
    "\n",
    "df1_style = counts.style.set_table_attributes(\"style='display:inline; margin-right:220px;'\").set_caption(\"Cancer Diagnosis by BI-RADS Assessment\")\n",
    "df2_style = prop.style.set_table_attributes(\"style='display:inline; margin-right:120px'\").set_caption(\"Cancer Diagnosis by BI-RADS Assessment (Proportions)\")\n",
    "\n",
    "display_html(df1_style._repr_html_() + df2_style._repr_html_(), raw=True)"
   ]
  },
  {
   "cell_type": "markdown",
   "id": "725b4eea",
   "metadata": {},
   "source": [
    "These data do show a relationship between BI-RADS assessment and diagnosis. Let's evaluate the effect size."
   ]
  },
  {
   "cell_type": "code",
   "execution_count": null,
   "id": "a192465b",
   "metadata": {},
   "outputs": [],
   "source": [
    "kt = cases.stats.kendallstau(a='assessment', b='cancer')\n",
    "print(kt)"
   ]
  },
  {
   "cell_type": "markdown",
   "id": "e164f4b8",
   "metadata": {},
   "source": [
    "Indeed, the Kendall's Tau test above, indicates a significant association of strong effect between BI-RADS assessment and diagnosis, ($\\phi_\\tau$=0.60, p<0.01)."
   ]
  },
  {
   "cell_type": "markdown",
   "id": "dde1dabc",
   "metadata": {},
   "source": [
    "Several observations. \n",
    "1. Incomplete assessments had a malignancy approaching 25%.\n",
    "2. There were only three BI-RADS Category 1 assessments.\n",
    "3. Category 2 assessments, were all negative for cancer.\n",
    "4. At Category 3 and above, we see a sharp increase in the proportion of cancer diagnoses."
   ]
  },
  {
   "cell_type": "markdown",
   "id": "106ce670",
   "metadata": {},
   "source": [
    "#### Subtlety and Cancer\n",
    "Are malignancies more or less conspicuous?"
   ]
  },
  {
   "cell_type": "code",
   "execution_count": null,
   "id": "6f86f828",
   "metadata": {},
   "outputs": [],
   "source": [
    "sns.objects.Plot(df, x='subtlety', color='cancer').add(so.Bar(), so.Count(), so.Stack()).theme({**sns.axes_style(\"whitegrid\"), \"grid.linestyle\": \":\"}).label(title=\"Diagnosis by Subtlety\").layout(size=(12,4), engine='tight')"
   ]
  },
  {
   "cell_type": "markdown",
   "id": "549359c9",
   "metadata": {},
   "source": [
    "Any association between subtlety and malignancy isn't clear from the above. Let's examine the relative proportions of malignancy vis-a-vis subtlety."
   ]
  },
  {
   "cell_type": "code",
   "execution_count": null,
   "id": "cb5ab0f3",
   "metadata": {},
   "outputs": [],
   "source": [
    "prop = df[['subtlety', 'cancer']].groupby(by=['subtlety']).value_counts(normalize=True).to_frame().reset_index().sort_values(by=['subtlety','cancer'])\n",
    "sns.objects.Plot(prop, x='subtlety', y='proportion', color='cancer').add(so.Bar(), so.Stack()).theme({**sns.axes_style(\"whitegrid\"), \"grid.linestyle\": \":\"}).label(title=\"Diagnosis by Subtlety\").layout(size=(12,4), engine='tight')"
   ]
  },
  {
   "cell_type": "markdown",
   "id": "a0e9b3eb",
   "metadata": {},
   "source": [
    "An association seems to be present. Let's look at the numbers."
   ]
  },
  {
   "cell_type": "code",
   "execution_count": null,
   "id": "fed66cb4",
   "metadata": {},
   "outputs": [],
   "source": [
    "counts = df[[ 'subtlety', 'cancer']].groupby(by=['subtlety']).value_counts(normalize=False).to_frame().sort_values(by=['subtlety', 'cancer'])\n",
    "prop = df[[ 'subtlety', 'cancer']].groupby(by=['subtlety']).value_counts(normalize=True).to_frame().sort_values(by=['subtlety', 'cancer'])\n",
    "\n",
    "df1_style = counts.style.set_table_attributes(\"style='display:inline; margin-right:220px;'\").set_caption(\"Cancer Diagnosis by Subtlety\")\n",
    "df2_style = prop.style.set_table_attributes(\"style='display:inline; margin-right:120px'\").set_caption(\"Cancer Diagnosis by Subtlety (Proportions)\")\n",
    "\n",
    "display_html(df1_style._repr_html_() + df2_style._repr_html_(), raw=True)"
   ]
  },
  {
   "cell_type": "markdown",
   "id": "c7bf5239",
   "metadata": {},
   "source": [
    "Again, it would be difficult to draw an inference of association between subtlety and diagnosis."
   ]
  },
  {
   "cell_type": "code",
   "execution_count": null,
   "id": "756eceb0",
   "metadata": {},
   "outputs": [],
   "source": [
    "kt = cases.stats.kendallstau(a='subtlety', b='cancer')\n",
    "print(kt)"
   ]
  },
  {
   "cell_type": "markdown",
   "id": "5b1a557f",
   "metadata": {},
   "source": [
    "The Kendall's Tau test measuring the association between subtlety and malignancy indicated a non-significant association of weak effect, $\\phi_\\tau$ = 0.003, p = 0.86."
   ]
  },
  {
   "cell_type": "markdown",
   "id": "dab5fb41",
   "metadata": {},
   "source": [
    "#### Calcification Type and Cancer\n",
    "What is the association between calcification type and malignancy. According to the literature, fine linear branching, and pleomorphic calcifications are of the highest concern, followed by amorphous and coarse heterogenous abnormalities. "
   ]
  },
  {
   "cell_type": "code",
   "execution_count": null,
   "id": "9aafcc8d",
   "metadata": {},
   "outputs": [],
   "source": [
    "df_calc = calc.as_df()\n",
    "prop = df_calc[['calc_type', 'cancer']].groupby(by=['calc_type']).value_counts(normalize=True).to_frame().reset_index().sort_values(by=['calc_type','cancer'])\n",
    "sns.objects.Plot(prop, y='calc_type', x='proportion', color='cancer').add(so.Bar(), so.Stack()).theme({**sns.axes_style(\"whitegrid\"), \"grid.linestyle\": \":\"}).label(title=\"Diagnosis by Calcification Type\").layout(size=(12,12), engine='tight')"
   ]
  },
  {
   "cell_type": "markdown",
   "id": "f01e7603",
   "metadata": {},
   "source": [
    "As this plot suggests, an association between calcification type and diagnosis is extant. Let's check the strength of this association."
   ]
  },
  {
   "cell_type": "code",
   "execution_count": null,
   "id": "c6e05761",
   "metadata": {},
   "outputs": [],
   "source": [
    "cv = calc.stats.cramersv(a='calc_type', b='cancer')\n",
    "print(cv)"
   ]
  },
  {
   "cell_type": "markdown",
   "id": "3b2a501a",
   "metadata": {},
   "source": [
    "This chi-square test of independence between calcification type and diagnosis indicates a significant association of large effect ($X^2$(1,n=1872)=539.69 p<0.01, $V$=0.54)."
   ]
  },
  {
   "cell_type": "markdown",
   "id": "4b0f0285",
   "metadata": {},
   "source": [
    "The following lists the top 10 most malignant calcification types by proportion in the CBIS-DDSM. "
   ]
  },
  {
   "cell_type": "code",
   "execution_count": null,
   "id": "60232593",
   "metadata": {},
   "outputs": [],
   "source": [
    "fig, ax = plt.subplots(figsize=(12,6))\n",
    "calc_types = cases.get_most_malignant_calc(x='calc_type', n=10)\n",
    "calc.plot.barplot(data=calc_types, y='calc_type', x='proportion', title='Malignancy by Calcification Type', ax=ax)"
   ]
  },
  {
   "cell_type": "markdown",
   "id": "9d4a6dbc",
   "metadata": {},
   "source": []
  },
  {
   "cell_type": "markdown",
   "id": "9d883490",
   "metadata": {},
   "source": [
    "#### Calcification Distribution\n",
    "How do we characterize the association between calcification distribution and malignancy?"
   ]
  },
  {
   "cell_type": "code",
   "execution_count": null,
   "id": "fe492426",
   "metadata": {},
   "outputs": [],
   "source": [
    "prop = df_calc[['calc_distribution', 'cancer']].groupby(by=['calc_distribution']).value_counts(normalize=True).to_frame().reset_index().sort_values(by=['calc_distribution','cancer'])\n",
    "sns.objects.Plot(prop, y='calc_distribution', x='proportion', color='cancer').add(so.Bar(), so.Stack()).theme({**sns.axes_style(\"whitegrid\"), \"grid.linestyle\": \":\"}).label(title=\"Diagnosis by Calcification Distribution\").layout(size=(12,8), engine='tight')"
   ]
  },
  {
   "cell_type": "markdown",
   "id": "8fa00c7f",
   "metadata": {},
   "source": [
    "Again, we see an association between calcification distribution and malignancy.  Let's check the most malignant calcification distributions."
   ]
  },
  {
   "cell_type": "code",
   "execution_count": null,
   "id": "aac9c374",
   "metadata": {},
   "outputs": [],
   "source": [
    "fig, ax = plt.subplots(figsize=(12,4))\n",
    "calc_types = cases.get_most_malignant_calc(x='calc_distribution', n=5)\n",
    "calc.plot.barplot(data=calc_types, y='calc_distribution', x='proportion', title='Malignancy by Calcification Distribution', ax=ax)"
   ]
  },
  {
   "cell_type": "code",
   "execution_count": null,
   "id": "75d64abc",
   "metadata": {},
   "outputs": [],
   "source": [
    "cv = calc.stats.cramersv(a='calc_distribution', b='cancer')\n",
    "print(cv)"
   ]
  },
  {
   "cell_type": "markdown",
   "id": "84801ea2",
   "metadata": {},
   "source": [
    "This chi-square test of independence between calcification distribution and diagnosis indicates a moderate and significant association ($X^2$(1,n=1872)=198.56 p<0.01, $V$=0.33)."
   ]
  },
  {
   "cell_type": "markdown",
   "id": "245eaf71",
   "metadata": {},
   "source": [
    "#### Mass Shape and Cancer\n",
    "Mass shape and mass margins are the most significant features that indicate whether a mass is benign or malignant {cite}`bassettAbnormalMammogram2003`. "
   ]
  },
  {
   "cell_type": "code",
   "execution_count": null,
   "id": "2da6f306",
   "metadata": {},
   "outputs": [],
   "source": [
    "df_mass = mass.as_df()\n",
    "prop = df_mass[['mass_shape', 'cancer']].groupby(by=['mass_shape']).value_counts(normalize=True).to_frame().reset_index().sort_values(by=['mass_shape','cancer'])\n",
    "sns.objects.Plot(prop, y='mass_shape', x='proportion', color='cancer').add(so.Bar(), so.Stack()).theme({**sns.axes_style(\"whitegrid\"), \"grid.linestyle\": \":\"}).label(title=\"Diagnosis by Mass Shape\").layout(size=(12,8), engine='tight')"
   ]
  },
  {
   "cell_type": "markdown",
   "id": "6004ffeb",
   "metadata": {},
   "source": [
    "As suggested, an association between mass shape and diagnosis is evident. Which mass shapes are most malignant?"
   ]
  },
  {
   "cell_type": "code",
   "execution_count": null,
   "id": "a99a3834",
   "metadata": {},
   "outputs": [],
   "source": [
    "fig, ax = plt.subplots(figsize=(12,4))\n",
    "mass_shapes = cases.get_most_malignant_mass(x='mass_shape', n=10)\n",
    "mass.plot.barplot(data=mass_shapes, y='mass_shape', x='proportion', title='Malignancy by Mass Shape', ax=ax)"
   ]
  },
  {
   "cell_type": "code",
   "execution_count": null,
   "id": "dbbd4dfe",
   "metadata": {},
   "outputs": [],
   "source": [
    "cv = mass.stats.cramersv(a='mass_shape', b='cancer')\n",
    "print(cv)"
   ]
  },
  {
   "cell_type": "markdown",
   "id": "3ab2e051",
   "metadata": {},
   "source": [
    "This chi-square test of independence between mass shape and diagnosis indicates a large and significant association ($X^2$(1,n=1694)=440.92 p<0.01, $V$=0.51)."
   ]
  },
  {
   "cell_type": "markdown",
   "id": "a3c6a655",
   "metadata": {},
   "source": [
    "#### Mass Margins and Cancer\n",
    "Mass margins, a feature that separates the mass from the adjacent breast parenchyma, is often the feature which enables differentiation between benign and malignant. "
   ]
  },
  {
   "cell_type": "code",
   "execution_count": null,
   "id": "1f91e0c9",
   "metadata": {},
   "outputs": [],
   "source": [
    "prop = df_mass[['mass_margins', 'cancer']].groupby(by=['mass_margins']).value_counts(normalize=True).to_frame().reset_index().sort_values(by=['mass_margins','cancer'])\n",
    "sns.objects.Plot(prop, y='mass_margins', x='proportion', color='cancer').add(so.Bar(), so.Stack()).theme({**sns.axes_style(\"whitegrid\"), \"grid.linestyle\": \":\"}).label(title=\"Diagnosis by Mass Margins\").layout(size=(12,8), engine='tight')"
   ]
  },
  {
   "cell_type": "markdown",
   "id": "bbc47da2",
   "metadata": {},
   "source": [
    "As expected, mass margins appear determinative. Which mass margins are most concerning?"
   ]
  },
  {
   "cell_type": "code",
   "execution_count": null,
   "id": "34306558",
   "metadata": {},
   "outputs": [],
   "source": [
    "fig, ax = plt.subplots(figsize=(12,4))\n",
    "mass_margins = cases.get_most_malignant_mass(x='mass_margins', n=10)\n",
    "mass.plot.barplot(data=mass_margins, y='mass_margins', x='proportion', title='Malignancy by Mass Margins', ax=ax)"
   ]
  },
  {
   "cell_type": "code",
   "execution_count": null,
   "id": "5553315f",
   "metadata": {},
   "outputs": [],
   "source": [
    "cv = mass.stats.cramersv(a='mass_margins', b='cancer')\n",
    "print(cv)"
   ]
  },
  {
   "cell_type": "markdown",
   "id": "9bcee3f8",
   "metadata": {},
   "source": [
    "This chi-square test of independence between mass margins and diagnosis indicates a large and significant association ($X^2$(1,n=1694)=588.62 p<0.01, $V$=0.59).\n",
    "\n",
    "That concludes the target association section of the bivariate analysis. Let's examine the relationships among the features."
   ]
  },
  {
   "cell_type": "markdown",
   "id": "5439997e",
   "metadata": {},
   "source": [
    "### Bivariate Feature Association Analysis\n",
    "What does calcification type imply about calcification distribution? To what degree is mass shape and mass margin related? Are certain morphologies more or less subtle? In this section, we examine the strength of associations among the features in the CBIS-DDSM using Cramer's V effect size measurement. For this exercise, we'll interpret the Cramer's V effect sizes as follows:\n",
    "\n",
    "|      V      |   Effect   |\n",
    "|:-----------:|:----------:|\n",
    "|    ≥ 0.5    |    Large   |\n",
    "| ≥ 0.3 < 0.5 |  Moderate  |\n",
    "| ≥ 0.1 < 0.3 |    Small   |\n",
    "|   0 < 0.1   | Negligible |\n",
    "\n",
    "We'll start with the full dataset, to investigate the relationships between non-morphological features. Then, we'll analyze mass and calcification cases separately to avoid in spurious associations across abnormality types."
   ]
  },
  {
   "cell_type": "code",
   "execution_count": null,
   "id": "3dc33f39",
   "metadata": {},
   "outputs": [],
   "source": [
    "fig, ax = plt.subplots(figsize=(8,8))\n",
    "cases.plot_feature_associations(ax=ax)"
   ]
  },
  {
   "cell_type": "markdown",
   "id": "a9287f10",
   "metadata": {},
   "source": [
    "We'll ignore abnormality type and the morphology associationss for now. Calcification and mass morphology associations will be analyzed separately. That said, several observations can be made:\n",
    "1. Abnormality type has a moderate association with BI-RADS assessment. \n",
    "2. There appears to be weak associations among the non-morphological features.\n",
    "\n",
    "Let's take a look breast density vis-a-vis abnormality type."
   ]
  },
  {
   "cell_type": "code",
   "execution_count": null,
   "id": "d77ccbe9",
   "metadata": {},
   "outputs": [],
   "source": [
    "fig, ax = plt.subplots(figsize=(12,4))\n",
    "df = cases.as_df()\n",
    "df_props = df[['abnormality_type', 'breast_density']].groupby(by=['abnormality_type']).value_counts(normalize=True, sort=False).to_frame().reset_index()\n",
    "cases.plot.barplot(data=df_props, x='breast_density', y='proportion', hue='abnormality_type', ax=ax)"
   ]
  },
  {
   "cell_type": "markdown",
   "id": "91531209",
   "metadata": {},
   "source": [
    "Abnormality types tends to behave similarly across breast density categories, thus the weak association."
   ]
  },
  {
   "cell_type": "markdown",
   "id": "24db733d",
   "metadata": {},
   "source": [
    "#### Calcification Feature Bivariate Analysis"
   ]
  },
  {
   "cell_type": "code",
   "execution_count": null,
   "id": "bc9528e4",
   "metadata": {},
   "outputs": [],
   "source": [
    "\n",
    "fig, ax = plt.subplots(figsize=(8,8))\n",
    "calc.plot_calc_feature_associations(ax=ax)"
   ]
  },
  {
   "cell_type": "markdown",
   "id": "90e2f31c",
   "metadata": {},
   "source": [
    "##### Calcification Variables with Large Effect\n",
    "Calcification type and assessment appear to be strongly associated. Let's take a closer look."
   ]
  },
  {
   "cell_type": "markdown",
   "id": "9bfc017b",
   "metadata": {},
   "source": [
    "###### Calcification Type and Assessment"
   ]
  },
  {
   "cell_type": "code",
   "execution_count": null,
   "id": "3eb2a62c",
   "metadata": {},
   "outputs": [],
   "source": [
    "cv = calc.stats.cramersv(a='calc_type', b='assessment')\n",
    "print(cv)"
   ]
  },
  {
   "cell_type": "markdown",
   "id": "61f778a3",
   "metadata": {},
   "source": [
    "Indeed, the result is signficant ($X^2$(4,n=1694)=2183.62 p<0.01, $V$=0.54).\n",
    "\n",
    "In the prior section, we separated compound calcification types into separate categories; thereby, reducing the number of calcification types from 40 to 13. Let's examine the relationship between these calcification types and assessment. "
   ]
  },
  {
   "cell_type": "code",
   "execution_count": null,
   "id": "e061e628",
   "metadata": {},
   "outputs": [],
   "source": [
    "_ = cases.summarize_morphology_by_feature(morphology='calc_type', by='assessment', figsize=(12,12))"
   ]
  },
  {
   "cell_type": "markdown",
   "id": "188f995b",
   "metadata": {},
   "source": [
    "Above, we show the proportion of BI-RADS assessments for each calcification type. Pleomorphic, fine linear branching and amorphous calcifications appear to render the highest levels of suspicion with BI-RADS 4 and 5 assessments. Those of intermediate concern are dystrophic and punctate. The remaining are associated with generally benign classifications."
   ]
  },
  {
   "cell_type": "markdown",
   "id": "0d0b7373",
   "metadata": {},
   "source": [
    "##### Calcification Variables with Moderate Effect\n",
    "Moderate associations appear to be extant between:\n",
    "- calcification type and calcification distribution\n",
    "- calcification type and subtlety\n",
    "- calcification distribution and assessment\n",
    "- calcification type and breast density\n",
    "\n",
    "Let's take a look."
   ]
  },
  {
   "cell_type": "markdown",
   "id": "891cc2da",
   "metadata": {},
   "source": [
    "**Calcification Type and Calcification Distribution**"
   ]
  },
  {
   "cell_type": "code",
   "execution_count": null,
   "id": "d94ea762",
   "metadata": {},
   "outputs": [],
   "source": [
    "_ = cases.compare_morphology(m1='calc_type', m2='calc_distribution')"
   ]
  },
  {
   "cell_type": "markdown",
   "id": "f8813f18",
   "metadata": {},
   "source": [
    "For each calcification type, we show the calcification distributions by proportion of calcification type cases in which they co-occur. For instance, amorphous types tend to co-occur with clustered distributions. Eggshell calcifications appear exclusively with segmental distributions in the CBIS-DDSM.  \n",
    "\n",
    "Let's check calcification type and subtlety.\n",
    "\n",
    "**Calcification Type and Subtlety**"
   ]
  },
  {
   "cell_type": "code",
   "execution_count": null,
   "id": "14adeec3",
   "metadata": {},
   "outputs": [],
   "source": [
    "_ = cases.summarize_morphology_by_feature(morphology='calc_type', by='subtlety')"
   ]
  },
  {
   "cell_type": "markdown",
   "id": "c7ce25a8",
   "metadata": {},
   "source": [
    "Here, we see that dystrophic, course, large_rodlike, lucent_centered, and round and regular calcifications present less conspicuously than the others.\n",
    "\n",
    "Next, calcification distribution and BI-RADS assessment."
   ]
  },
  {
   "cell_type": "code",
   "execution_count": null,
   "id": "cf08119a",
   "metadata": {},
   "outputs": [],
   "source": [
    "_ = cases.summarize_morphology_by_feature(morphology='calc_distribution', by='assessment', figsize=(12,6))"
   ]
  },
  {
   "cell_type": "markdown",
   "id": "ce55c317",
   "metadata": {},
   "source": [
    "Clustered and linear calcification distributions tend to be suspicious with assessments in the BI-RADS 4 range. Regional distributions can indicate anything from benign to highly suspicious. Diffusely scattered and segmental distributions are primarily considered benign in the CBIS-DDSM.\n",
    "\n",
    "Lastly, calcification type and breast density.\n",
    "\n",
    "**Calcification Type and Breast Density**"
   ]
  },
  {
   "cell_type": "code",
   "execution_count": null,
   "id": "895e8eed",
   "metadata": {},
   "outputs": [],
   "source": [
    "_ = cases.summarize_morphology_by_feature(morphology='calc_type', by='breast_density', figsize=(12,8))"
   ]
  },
  {
   "cell_type": "markdown",
   "id": "463a5e39",
   "metadata": {},
   "source": [
    "Amorphous, course, fine linear branching, lucent centered, and pleomorphic almost follow a normal distribution. Some cases have fatty breasts, some extremely dense; but, most are in the middle categories 2 and 3. Eggshell, large rodlike, milk of calcium, skin, and vascular types stand out as co-occuring with breasts of specific densities."
   ]
  },
  {
   "cell_type": "markdown",
   "id": "b7691a51",
   "metadata": {},
   "source": [
    "#### Mass Feature Bivariate Analysis\n",
    "Next, let's examine feature relationships for mass cases."
   ]
  },
  {
   "cell_type": "code",
   "execution_count": null,
   "id": "67cdc3e0",
   "metadata": {},
   "outputs": [],
   "source": [
    "\n",
    "fig, ax = plt.subplots(figsize=(8,8))\n",
    "mass.plot_mass_feature_associations(ax=ax)"
   ]
  },
  {
   "cell_type": "markdown",
   "id": "433811a8",
   "metadata": {},
   "source": [
    "No strong associations here, but we can identify a couple moderate associations.\n",
    "- mass shape and assessment\n",
    "- mass margins and assessment\n",
    "\n",
    "It's notable that mass shape and mass margins are weakly associated."
   ]
  },
  {
   "cell_type": "markdown",
   "id": "a8e4289b",
   "metadata": {},
   "source": [
    "**Mass Shape and Assessment**"
   ]
  },
  {
   "cell_type": "code",
   "execution_count": null,
   "id": "98dea356",
   "metadata": {},
   "outputs": [],
   "source": [
    "_ = cases.summarize_morphology_by_feature(morphology='mass_shape', by='assessment', figsize=(12,8))"
   ]
  },
  {
   "cell_type": "markdown",
   "id": "6bb4853e",
   "metadata": {},
   "source": [
    "Architectural distortion, irregular, oval, and round shapes tend to render the most concern. \n",
    "\n",
    "Next, mass margins and assessment.\n",
    "\n",
    "**Mass Margins and Assessment**"
   ]
  },
  {
   "cell_type": "code",
   "execution_count": null,
   "id": "5735dc50",
   "metadata": {},
   "outputs": [],
   "source": [
    "_ = cases.summarize_morphology_by_feature(morphology='mass_margins', by='assessment', figsize=(12,6))"
   ]
  },
  {
   "cell_type": "markdown",
   "id": "912ad71b",
   "metadata": {},
   "source": [
    "Spiculated, ill-defined, and microlobulated masses appear to be of greater concern than obscured, and perhaps circumscribed mass margins."
   ]
  },
  {
   "cell_type": "markdown",
   "id": "e9e4b115",
   "metadata": {},
   "source": [
    "### Summary CBIS-DDSM Bivariate Analysis\n",
    "This concludes the bivariate component of this exploratory data analysis. Let's summarize our observations thus far.\n",
    "\n",
    "Our bivariate analysis was conducted in two parts:\n",
    "1. Bivariate Target Variable Association Analysis\n",
    "2. Bivariate Feature Association Analysis\n",
    "\n",
    "The former examined the relationships between the features and the target variable, 'cancer' and the latter explored the relationships between feature pairs.  "
   ]
  },
  {
   "cell_type": "code",
   "execution_count": null,
   "id": "b165a053",
   "metadata": {},
   "outputs": [],
   "source": [
    "cases.plot_target_associations()"
   ]
  },
  {
   "cell_type": "markdown",
   "id": "ff3fe6ca",
   "metadata": {},
   "source": [
    "#### Bivariate Target Association Analysis Summary\n",
    "The plot above depicts the Cramer's V associations between the independent variables and our target variable, 'cancer'. The main observations are as follows:\n",
    "1. There was strong agreement between the BI-RADS assessments and the pathology ($\\tau$=0.60, p<0.01); an expected finding as many of the BI-RADS assessments were likely updated as additional information was gathered by the physician {cite}`leeCuratedMammographyData2017`.\n",
    "2. Mass margins had the strongest association with pathology ($X^2$(1,n=1694)=588.62 p<0.01, $V$=0.59). Of the 19 categories, the margins most associated with malignancy were:\n",
    "   1. Obscured-Spiculated,\n",
    "   2. Obscured-Ill-Defined,\n",
    "   3. Circumscribed-Spiculated,\n",
    "   4. Microlobulated-Spiculated, and\n",
    "   5. Microlobulated-Ill-Defined-Spiculated\n",
    "   Indeed, 100% of the above cases were malignant. \n",
    "3. Calcification type was also strongly associated with pathology ($X^2$(1,n=1872)=539.69 p<0.01, $V$=0.54). Punctate fine linear branching, punctate amorphous pleomorphic, and amorphous round and regular had malignancy rates of 100% in the dataset. Pleomorphic fine linear branching, fine linear branching, amorphous pleomorphic, and pleomorphic all had malignancy rates exceeding 50%.  \n",
    "4. Mass shape had a large and significant effect on pathology in the dataset ($X^2$(1,n=1694)=440.92 p<0.01, $V$=0.51). Lobulated, round irregular, and irregular architectural distortion were associated with malignancy rates exceeding 80%. \n",
    "5. Calcification distribution had a moderate effect on pathology.  ($X^2$(1,n=1872)=198.56 p<0.01, $V$=0.33). Linear segmental, clustered linear, and linear calcification distributions were associated with malignancy rates above 50%.\n",
    "6. Subtlety, abnormality type, breast, breast density, and image view were all weakly associated with pathology.\n"
   ]
  },
  {
   "cell_type": "markdown",
   "id": "585ac4a2",
   "metadata": {},
   "source": [
    "#### Bivariate Feature Association Analysis Summary\n",
    "Cramer's V was used to measure the degree of association between the features. We observed several strong associations in both calcification and mass cases:\n",
    "1. Calcification Cases: \n",
    "   1. There was a strong association (V=0.54) between calcification type and BI-RADS assessment. \n",
    "   2. Moderate associations were observed between:\n",
    "      1. breast density and calcification type\n",
    "      2. calcification type and distribution\n",
    "      3. calcification type and subtlety\n",
    "      4. calcification distribution and BI-RADS assessment\n",
    "   3. The other features were weakly associated. \n",
    "2. Mass Cases:\n",
    "   1. No strong associations were observed among the features in the mass dataset.\n",
    "   2. Moderate associations were observed between:\n",
    "      1. mass shape and BI-RADS assessment\n",
    "      2. mass margins and BI-RADS assessment\n",
    "   3. Other features were weakly associated.\n",
    "\n",
    "Next, multivariate data analysis."
   ]
  },
  {
   "cell_type": "markdown",
   "id": "b85ad232",
   "metadata": {},
   "source": [
    "## Case Data Multivariate Analysis\n",
    "The purpose of the multivariate analysis is to elucidate features of the data, beyond that which can be derived from the univariate, and bivariate analyses above. Our objectives; therefore, are to:\n",
    "1. Identify the variables that most impact the diagnosis of cancer,\n",
    "2. Estimate the importance of each independent variable in explaining the diagnosis.\n",
    "3. Establish a model to predict a diagnosis, given the independent variables.\n",
    "\n",
    " Logistic Regression, Support Vector Machines, and Random Forests classifiers will be trained on the calcification and mass training data. The models will be evaluated using cross-validation, and the best algorithm will make predictions on the entire mass or calcification dataset."
   ]
  },
  {
   "cell_type": "code",
   "execution_count": null,
   "id": "9138848b",
   "metadata": {
    "tags": [
     "remove-cell"
    ]
   },
   "outputs": [],
   "source": [
    "FORCE_MODEL_FIT = False"
   ]
  },
  {
   "cell_type": "markdown",
   "id": "969fd7b1",
   "metadata": {},
   "source": [
    "### Build Pipelines\n",
    "Pipelines are built for each classifier."
   ]
  },
  {
   "cell_type": "code",
   "execution_count": null,
   "id": "66b60d36",
   "metadata": {},
   "outputs": [],
   "source": [
    "pb = PipelineBuilder()\n",
    "pb.set_jobs(6)\n",
    "pb.set_standard_scaler()\n",
    "pb.set_scorer('accuracy')\n",
    "\n",
    "# Build Logistic Regression Pipeline\n",
    "params_lr = [{'clf__penalty': ['l1', 'l2'],\n",
    "\t\t      'clf__C': [1.0, 0.5, 0.1],\n",
    "\t\t      'clf__solver': ['liblinear']}] \n",
    "clf = LogisticRegression(random_state=5)\n",
    "pb.set_classifier(classifier=clf, params=params_lr)\n",
    "pb.build_gridsearch_cv()\n",
    "lr = pb.pipeline\n",
    "\n",
    "# Build SVM Pipeline\n",
    "clf = SVC(random_state=5)\n",
    "params_svc = [{'clf__kernel': ['linear'], \n",
    "\t\t       'clf__C': [1,2,3,4,5, 6, 7, 8, 9, 10]}]\n",
    "pb.set_classifier(classifier=clf, params=params_svc)\n",
    "pb.build_gridsearch_cv()\n",
    "svc = pb.pipeline\n",
    "\n",
    "# Build Random Forest Pipeline\n",
    "clf = RandomForestClassifier(random_state=5)\n",
    "param_range = [1,2,3,4,5]\n",
    "params_rf = [{'clf__criterion': ['gini', 'entropy'],\n",
    "\t\t      'clf__min_samples_leaf': param_range,\n",
    "\t\t      'clf__max_depth': param_range,\n",
    "\t\t      'clf__min_samples_split': param_range[1:]}]  \n",
    "pb.set_classifier(classifier=clf, params=params_rf)\n",
    "pb.build_gridsearch_cv()\n",
    "rf = pb.pipeline\n",
    "\n"
   ]
  },
  {
   "cell_type": "markdown",
   "id": "01f42f67",
   "metadata": {},
   "source": [
    "### Calcification Case Multivariate Analysis\n",
    "#### Load Data"
   ]
  },
  {
   "cell_type": "code",
   "execution_count": null,
   "id": "54647021",
   "metadata": {},
   "outputs": [],
   "source": [
    "CALC_TRAIN_FP = os.path.abspath(\"data/cooked/calc_train.csv\")\n",
    "CALC_TEST_FP = os.path.abspath(\"data/cooked/calc_test.csv\")"
   ]
  },
  {
   "cell_type": "code",
   "execution_count": null,
   "id": "1889b91a",
   "metadata": {},
   "outputs": [],
   "source": [
    "train = pd.read_csv(CALC_TRAIN_FP)\n",
    "X_train = train.loc[:,train.columns != 'cancer']\n",
    "y_train = train['cancer']\n",
    "\n",
    "test = pd.read_csv(CALC_TEST_FP)\n",
    "X_test= test.loc[:, test.columns != 'cancer']\n",
    "y_test = test['cancer']\n",
    "X = pd.concat([X_train, X_test], axis=0)\n",
    "y = pd.concat([y_train, y_test], axis=0)"
   ]
  },
  {
   "cell_type": "markdown",
   "id": "d7f15f08",
   "metadata": {},
   "source": [
    "#### Build and Execute Model Selection"
   ]
  },
  {
   "cell_type": "code",
   "execution_count": null,
   "id": "c8dc2a28",
   "metadata": {},
   "outputs": [],
   "source": [
    "BEST_CALC_MODEL_FP = os.path.abspath('model/eda/best_calc_pipeline.pkl')"
   ]
  },
  {
   "cell_type": "code",
   "execution_count": null,
   "id": "7b7eeef6",
   "metadata": {},
   "outputs": [],
   "source": [
    "\n",
    "# Build Model Selector\n",
    "calc_ms = ModelSelector(filepath=BEST_CALC_MODEL_FP)\n",
    "calc_ms.add_pipeline(pipeline=lr, name=\"Logistic Regression\")\n",
    "calc_ms.add_pipeline(pipeline=svc, name=\"Support Vector Classifier\")\n",
    "calc_ms.add_pipeline(pipeline=rf, name=\"Random Forest\")"
   ]
  },
  {
   "cell_type": "markdown",
   "id": "c49b6441",
   "metadata": {},
   "source": [
    "#### Prediction Results"
   ]
  },
  {
   "cell_type": "code",
   "execution_count": null,
   "id": "bdbab4b0",
   "metadata": {},
   "outputs": [],
   "source": [
    "calc_ms.run(X_train=X_train, y_train=y_train, X_test=X_test, y_test=y_test, force=FORCE_MODEL_FIT)\n",
    "y_pred = calc_ms.predict(X=X)\n",
    "calc_ms.score(y_true=y, y_pred=y_pred)"
   ]
  },
  {
   "cell_type": "markdown",
   "id": "26bc1e7c",
   "metadata": {},
   "source": [
    "Logistic Regression outperformed Support Vector Machine and Random Forest on the calcification dataset. It achieved an overall accuracy of 0.72. The precision (positive class), or the ability of the classifier not to classify false negatives was 0.58. The ability of the classifier to find all positive (malignant) cases was 0.79. The weighted harmonic mean of precision and recall was 0.67."
   ]
  },
  {
   "cell_type": "markdown",
   "id": "cc51bd19",
   "metadata": {},
   "source": [
    "#### Calcification Variable Importance"
   ]
  },
  {
   "cell_type": "markdown",
   "id": "14667014",
   "metadata": {},
   "source": [
    "The coefficients of the model indicate the importance of the feature to the prediction task. A positive value provides evidence that the instance being classified belongs to the positive or malignant class; whereas, a negative value provides evidence that the instance being classified belongs to the negative or benign class. Let's take a look.  "
   ]
  },
  {
   "cell_type": "code",
   "execution_count": null,
   "id": "53d242e7",
   "metadata": {},
   "outputs": [],
   "source": [
    "fig, ax = plt.subplots(figsize=(12,8))\n",
    "title = f\"CBIS-DDSM Multivariate Analysis\\nCalcification Cases\\nFeature Importance\"\n",
    "calc_ms.plot_feature_importance(title=title, ax=ax)"
   ]
  },
  {
   "cell_type": "markdown",
   "id": "3f81e73f",
   "metadata": {},
   "source": [
    "We see that calcification types have the greatest impact on the classification task. Further, the feature weight of evidence aligns with current literature on the differential of breast calcifications. For instance, pleomorphic, fine linear, and fine linear branching calcifications are understood to have a higher probability of malignancy. In contrast, lucent centered, and vascular calcifications are typically classified as BI-RADS 1 or 2.\n"
   ]
  },
  {
   "cell_type": "markdown",
   "id": "95843337",
   "metadata": {},
   "source": [
    "### Mass Case Multivariate Analysis\n",
    "#### Load Data"
   ]
  },
  {
   "cell_type": "code",
   "execution_count": null,
   "id": "017ca7cb",
   "metadata": {},
   "outputs": [],
   "source": [
    "MASS_TRAIN_FP = os.path.abspath(\"data/cooked/mass_train.csv\")\n",
    "MASS_TEST_FP = os.path.abspath(\"data/cooked/mass_test.csv\")"
   ]
  },
  {
   "cell_type": "code",
   "execution_count": null,
   "id": "f5ac8eaa",
   "metadata": {},
   "outputs": [],
   "source": [
    "train = pd.read_csv(MASS_TRAIN_FP)\n",
    "X_train = train.loc[:,train.columns != 'cancer']\n",
    "y_train = train['cancer']\n",
    "\n",
    "test = pd.read_csv(MASS_TEST_FP)\n",
    "X_test= test.loc[:, test.columns != 'cancer']\n",
    "y_test = test['cancer']\n",
    "X = pd.concat([X_train, X_test], axis=0)\n",
    "y = pd.concat([y_train, y_test], axis=0)"
   ]
  },
  {
   "cell_type": "markdown",
   "id": "db2926c9",
   "metadata": {},
   "source": [
    "#### Build and Execute Model Selection"
   ]
  },
  {
   "cell_type": "code",
   "execution_count": null,
   "id": "45bec197",
   "metadata": {},
   "outputs": [],
   "source": [
    "BEST_MASS_MODEL_FP = os.path.abspath('model/eda/best_mass_pipeline.pkl')"
   ]
  },
  {
   "cell_type": "code",
   "execution_count": null,
   "id": "40047f94",
   "metadata": {},
   "outputs": [],
   "source": [
    "# Build Model Selector\n",
    "mass_ms = ModelSelector(filepath=BEST_MASS_MODEL_FP)\n",
    "mass_ms.add_pipeline(pipeline=lr, name=\"Logistic Regression\")\n",
    "mass_ms.add_pipeline(pipeline=svc, name=\"Support Vector Classifier\")\n",
    "mass_ms.add_pipeline(pipeline=rf, name=\"Random Forest\")"
   ]
  },
  {
   "cell_type": "markdown",
   "id": "8d80911e",
   "metadata": {},
   "source": [
    "#### Prediction Results"
   ]
  },
  {
   "cell_type": "code",
   "execution_count": null,
   "id": "32c653cd",
   "metadata": {},
   "outputs": [],
   "source": [
    "mass_ms.run(X_train=X_train, y_train=y_train, X_test=X_test, y_test=y_test, force=FORCE_MODEL_FIT)\n",
    "y_pred = mass_ms.predict(X=X)\n",
    "mass_ms.score(y_true=y, y_pred=y_pred)"
   ]
  },
  {
   "cell_type": "markdown",
   "id": "ddbbd365",
   "metadata": {},
   "source": [
    "Random Forest performed the best on the mass data. It achieved an accuracy of 0.79. Precision and recall were 0.77, and 0.78 respectively. "
   ]
  },
  {
   "cell_type": "markdown",
   "id": "71717e71",
   "metadata": {},
   "source": [
    "#### Mass Variable Importance"
   ]
  },
  {
   "cell_type": "code",
   "execution_count": null,
   "id": "fe42f4b4",
   "metadata": {},
   "outputs": [],
   "source": [
    "fig, ax = plt.subplots(figsize=(12,12))\n",
    "title = f\"CBIS-DDSM Multivariate Analysis\\nMass Cases\\nFeature Importance\"\n",
    "mass_ms.plot_feature_importance(title=title, ax=ax)"
   ]
  },
  {
   "cell_type": "markdown",
   "id": "749d67ca",
   "metadata": {},
   "source": [
    "Random Forest performed best of the three models on the mass data. Unlike Logistic Regression, Random Forest has no coefficients to provide weight of evidence for (or against) the positive class. Rather, Random Forest computes a feature's non-negative importance according to its ability to increase the purity of the leaves in each tree. Pure leaves have data points from only one class. Therefore, we would expect the most important features to be strongly associated with a benign or malignant finding. Let's examine a few of the top features.\n",
    "\n",
    "Spiculated masses are characterized by lines of varying length and thickness radiating from the margins of the mass and are considered very suspicious for malignancy {cite}`978-0-7216-7494-0`. Circumscribed masses have margins with a sharp demarcation between the lesion and surrounding tissue {cite}`princeMultipleCircumscribedMasses2018.` Most circumscribed masses are benign. Irregular masses, those having margins that are neither round nor oval, tend to imply a more suspicious finding {cite}`princeMultipleIrregularMasses2018`.  An obscured mass is a mass with greater than 25% of its margin hidden by surrounding fibro glandular tissue on the mammography; hence, it cannot be fully assessed. {cite}`elezabyObscuredMass2018`. In practice; however, this term is commonly used when the portion of the margin that is visualized is circumscribed, implying a lower likelihood of malignancy.\n"
   ]
  },
  {
   "cell_type": "markdown",
   "id": "84d2c648",
   "metadata": {},
   "source": [
    "## DICOM Image Quality\n",
    "Image quality in mammography is affected by the shape an size of the image, the x-ray absorption properties of the lesion or anatomy being radiographed, x-ray beam quality, geometric unsharpness, resolution,  annotations and noise properties of the recording system. "
   ]
  },
  {
   "cell_type": "code",
   "execution_count": 4,
   "id": "d9d9f83f",
   "metadata": {},
   "outputs": [],
   "source": [
    "ds = DicomDataset(filepath=DICOM_FP)"
   ]
  },
  {
   "cell_type": "code",
   "execution_count": 5,
   "id": "6aba588e",
   "metadata": {},
   "outputs": [
    {
     "data": {
      "text/html": [
       "<div>\n",
       "<style scoped>\n",
       "    .dataframe tbody tr th:only-of-type {\n",
       "        vertical-align: middle;\n",
       "    }\n",
       "\n",
       "    .dataframe tbody tr th {\n",
       "        vertical-align: top;\n",
       "    }\n",
       "\n",
       "    .dataframe thead th {\n",
       "        text-align: right;\n",
       "    }\n",
       "</style>\n",
       "<table border=\"1\" class=\"dataframe\">\n",
       "  <thead>\n",
       "    <tr style=\"text-align: right;\">\n",
       "      <th></th>\n",
       "      <th>Column</th>\n",
       "      <th>DataType</th>\n",
       "      <th>Complete</th>\n",
       "      <th>Null</th>\n",
       "      <th>Completeness</th>\n",
       "      <th>Unique</th>\n",
       "      <th>Duplicate</th>\n",
       "      <th>Uniqueness</th>\n",
       "      <th>Size</th>\n",
       "    </tr>\n",
       "  </thead>\n",
       "  <tbody>\n",
       "    <tr>\n",
       "      <th>0</th>\n",
       "      <td>series_uid</td>\n",
       "      <td>object</td>\n",
       "      <td>10703</td>\n",
       "      <td>0</td>\n",
       "      <td>1.00</td>\n",
       "      <td>6774</td>\n",
       "      <td>3929</td>\n",
       "      <td>0.63</td>\n",
       "      <td>1292410</td>\n",
       "    </tr>\n",
       "    <tr>\n",
       "      <th>1</th>\n",
       "      <td>filepath</td>\n",
       "      <td>object</td>\n",
       "      <td>10703</td>\n",
       "      <td>0</td>\n",
       "      <td>1.00</td>\n",
       "      <td>10238</td>\n",
       "      <td>465</td>\n",
       "      <td>0.96</td>\n",
       "      <td>1814748</td>\n",
       "    </tr>\n",
       "    <tr>\n",
       "      <th>2</th>\n",
       "      <td>patient_id</td>\n",
       "      <td>object</td>\n",
       "      <td>10703</td>\n",
       "      <td>0</td>\n",
       "      <td>1.00</td>\n",
       "      <td>1566</td>\n",
       "      <td>9137</td>\n",
       "      <td>0.15</td>\n",
       "      <td>684992</td>\n",
       "    </tr>\n",
       "    <tr>\n",
       "      <th>3</th>\n",
       "      <td>side</td>\n",
       "      <td>category</td>\n",
       "      <td>10703</td>\n",
       "      <td>0</td>\n",
       "      <td>1.00</td>\n",
       "      <td>2</td>\n",
       "      <td>10701</td>\n",
       "      <td>0.00</td>\n",
       "      <td>10934</td>\n",
       "    </tr>\n",
       "    <tr>\n",
       "      <th>4</th>\n",
       "      <td>image_view</td>\n",
       "      <td>category</td>\n",
       "      <td>10703</td>\n",
       "      <td>0</td>\n",
       "      <td>1.00</td>\n",
       "      <td>2</td>\n",
       "      <td>10701</td>\n",
       "      <td>0.00</td>\n",
       "      <td>10822</td>\n",
       "    </tr>\n",
       "    <tr>\n",
       "      <th>5</th>\n",
       "      <td>photometric_interpretation</td>\n",
       "      <td>category</td>\n",
       "      <td>10703</td>\n",
       "      <td>0</td>\n",
       "      <td>1.00</td>\n",
       "      <td>1</td>\n",
       "      <td>10702</td>\n",
       "      <td>0.00</td>\n",
       "      <td>10771</td>\n",
       "    </tr>\n",
       "    <tr>\n",
       "      <th>6</th>\n",
       "      <td>samples_per_pixel</td>\n",
       "      <td>int32</td>\n",
       "      <td>10703</td>\n",
       "      <td>0</td>\n",
       "      <td>1.00</td>\n",
       "      <td>1</td>\n",
       "      <td>10702</td>\n",
       "      <td>0.00</td>\n",
       "      <td>42812</td>\n",
       "    </tr>\n",
       "    <tr>\n",
       "      <th>7</th>\n",
       "      <td>height</td>\n",
       "      <td>int64</td>\n",
       "      <td>10703</td>\n",
       "      <td>0</td>\n",
       "      <td>1.00</td>\n",
       "      <td>1077</td>\n",
       "      <td>9626</td>\n",
       "      <td>0.10</td>\n",
       "      <td>85624</td>\n",
       "    </tr>\n",
       "    <tr>\n",
       "      <th>8</th>\n",
       "      <td>width</td>\n",
       "      <td>int64</td>\n",
       "      <td>10703</td>\n",
       "      <td>0</td>\n",
       "      <td>1.00</td>\n",
       "      <td>1208</td>\n",
       "      <td>9495</td>\n",
       "      <td>0.11</td>\n",
       "      <td>85624</td>\n",
       "    </tr>\n",
       "    <tr>\n",
       "      <th>9</th>\n",
       "      <td>size</td>\n",
       "      <td>int64</td>\n",
       "      <td>10703</td>\n",
       "      <td>0</td>\n",
       "      <td>1.00</td>\n",
       "      <td>5531</td>\n",
       "      <td>5172</td>\n",
       "      <td>0.52</td>\n",
       "      <td>85624</td>\n",
       "    </tr>\n",
       "    <tr>\n",
       "      <th>10</th>\n",
       "      <td>aspect_ratio</td>\n",
       "      <td>float64</td>\n",
       "      <td>10703</td>\n",
       "      <td>0</td>\n",
       "      <td>1.00</td>\n",
       "      <td>5591</td>\n",
       "      <td>5112</td>\n",
       "      <td>0.52</td>\n",
       "      <td>85624</td>\n",
       "    </tr>\n",
       "    <tr>\n",
       "      <th>11</th>\n",
       "      <td>bits</td>\n",
       "      <td>category</td>\n",
       "      <td>10703</td>\n",
       "      <td>0</td>\n",
       "      <td>1.00</td>\n",
       "      <td>2</td>\n",
       "      <td>10701</td>\n",
       "      <td>0.00</td>\n",
       "      <td>10820</td>\n",
       "    </tr>\n",
       "    <tr>\n",
       "      <th>12</th>\n",
       "      <td>smallest_image_pixel</td>\n",
       "      <td>int64</td>\n",
       "      <td>10703</td>\n",
       "      <td>0</td>\n",
       "      <td>1.00</td>\n",
       "      <td>3026</td>\n",
       "      <td>7677</td>\n",
       "      <td>0.28</td>\n",
       "      <td>85624</td>\n",
       "    </tr>\n",
       "    <tr>\n",
       "      <th>13</th>\n",
       "      <td>largest_image_pixel</td>\n",
       "      <td>int64</td>\n",
       "      <td>10703</td>\n",
       "      <td>0</td>\n",
       "      <td>1.00</td>\n",
       "      <td>235</td>\n",
       "      <td>10468</td>\n",
       "      <td>0.02</td>\n",
       "      <td>85624</td>\n",
       "    </tr>\n",
       "    <tr>\n",
       "      <th>14</th>\n",
       "      <td>image_pixel_range</td>\n",
       "      <td>int64</td>\n",
       "      <td>10703</td>\n",
       "      <td>0</td>\n",
       "      <td>1.00</td>\n",
       "      <td>3255</td>\n",
       "      <td>7448</td>\n",
       "      <td>0.30</td>\n",
       "      <td>85624</td>\n",
       "    </tr>\n",
       "    <tr>\n",
       "      <th>15</th>\n",
       "      <td>brisque</td>\n",
       "      <td>float64</td>\n",
       "      <td>10703</td>\n",
       "      <td>0</td>\n",
       "      <td>1.00</td>\n",
       "      <td>10167</td>\n",
       "      <td>536</td>\n",
       "      <td>0.95</td>\n",
       "      <td>85624</td>\n",
       "    </tr>\n",
       "    <tr>\n",
       "      <th>16</th>\n",
       "      <td>series_description</td>\n",
       "      <td>object</td>\n",
       "      <td>10703</td>\n",
       "      <td>0</td>\n",
       "      <td>1.00</td>\n",
       "      <td>3</td>\n",
       "      <td>10700</td>\n",
       "      <td>0.00</td>\n",
       "      <td>791914</td>\n",
       "    </tr>\n",
       "    <tr>\n",
       "      <th>17</th>\n",
       "      <td>case_id</td>\n",
       "      <td>object</td>\n",
       "      <td>10703</td>\n",
       "      <td>0</td>\n",
       "      <td>1.00</td>\n",
       "      <td>3568</td>\n",
       "      <td>7135</td>\n",
       "      <td>0.33</td>\n",
       "      <td>907015</td>\n",
       "    </tr>\n",
       "    <tr>\n",
       "      <th>18</th>\n",
       "      <td>breast_density</td>\n",
       "      <td>float64</td>\n",
       "      <td>10697</td>\n",
       "      <td>6</td>\n",
       "      <td>1.00</td>\n",
       "      <td>4</td>\n",
       "      <td>10699</td>\n",
       "      <td>0.00</td>\n",
       "      <td>85624</td>\n",
       "    </tr>\n",
       "    <tr>\n",
       "      <th>19</th>\n",
       "      <td>abnormality_id</td>\n",
       "      <td>float64</td>\n",
       "      <td>10697</td>\n",
       "      <td>6</td>\n",
       "      <td>1.00</td>\n",
       "      <td>7</td>\n",
       "      <td>10696</td>\n",
       "      <td>0.00</td>\n",
       "      <td>85624</td>\n",
       "    </tr>\n",
       "    <tr>\n",
       "      <th>20</th>\n",
       "      <td>abnormality_type</td>\n",
       "      <td>object</td>\n",
       "      <td>10697</td>\n",
       "      <td>6</td>\n",
       "      <td>1.00</td>\n",
       "      <td>2</td>\n",
       "      <td>10701</td>\n",
       "      <td>0.00</td>\n",
       "      <td>703253</td>\n",
       "    </tr>\n",
       "    <tr>\n",
       "      <th>21</th>\n",
       "      <td>calc_type</td>\n",
       "      <td>object</td>\n",
       "      <td>10697</td>\n",
       "      <td>6</td>\n",
       "      <td>1.00</td>\n",
       "      <td>44</td>\n",
       "      <td>10659</td>\n",
       "      <td>0.00</td>\n",
       "      <td>759592</td>\n",
       "    </tr>\n",
       "    <tr>\n",
       "      <th>22</th>\n",
       "      <td>calc_distribution</td>\n",
       "      <td>object</td>\n",
       "      <td>10697</td>\n",
       "      <td>6</td>\n",
       "      <td>1.00</td>\n",
       "      <td>9</td>\n",
       "      <td>10694</td>\n",
       "      <td>0.00</td>\n",
       "      <td>732388</td>\n",
       "    </tr>\n",
       "    <tr>\n",
       "      <th>23</th>\n",
       "      <td>assessment</td>\n",
       "      <td>float64</td>\n",
       "      <td>10697</td>\n",
       "      <td>6</td>\n",
       "      <td>1.00</td>\n",
       "      <td>6</td>\n",
       "      <td>10697</td>\n",
       "      <td>0.00</td>\n",
       "      <td>85624</td>\n",
       "    </tr>\n",
       "    <tr>\n",
       "      <th>24</th>\n",
       "      <td>pathology</td>\n",
       "      <td>object</td>\n",
       "      <td>10697</td>\n",
       "      <td>6</td>\n",
       "      <td>1.00</td>\n",
       "      <td>3</td>\n",
       "      <td>10700</td>\n",
       "      <td>0.00</td>\n",
       "      <td>721998</td>\n",
       "    </tr>\n",
       "    <tr>\n",
       "      <th>25</th>\n",
       "      <td>subtlety</td>\n",
       "      <td>float64</td>\n",
       "      <td>10697</td>\n",
       "      <td>6</td>\n",
       "      <td>1.00</td>\n",
       "      <td>5</td>\n",
       "      <td>10698</td>\n",
       "      <td>0.00</td>\n",
       "      <td>85624</td>\n",
       "    </tr>\n",
       "    <tr>\n",
       "      <th>26</th>\n",
       "      <td>fileset</td>\n",
       "      <td>object</td>\n",
       "      <td>10697</td>\n",
       "      <td>6</td>\n",
       "      <td>1.00</td>\n",
       "      <td>2</td>\n",
       "      <td>10701</td>\n",
       "      <td>0.00</td>\n",
       "      <td>661294</td>\n",
       "    </tr>\n",
       "    <tr>\n",
       "      <th>27</th>\n",
       "      <td>mass_shape</td>\n",
       "      <td>object</td>\n",
       "      <td>10697</td>\n",
       "      <td>6</td>\n",
       "      <td>1.00</td>\n",
       "      <td>21</td>\n",
       "      <td>10682</td>\n",
       "      <td>0.00</td>\n",
       "      <td>737966</td>\n",
       "    </tr>\n",
       "    <tr>\n",
       "      <th>28</th>\n",
       "      <td>mass_margins</td>\n",
       "      <td>object</td>\n",
       "      <td>10697</td>\n",
       "      <td>6</td>\n",
       "      <td>1.00</td>\n",
       "      <td>20</td>\n",
       "      <td>10683</td>\n",
       "      <td>0.00</td>\n",
       "      <td>749552</td>\n",
       "    </tr>\n",
       "    <tr>\n",
       "      <th>29</th>\n",
       "      <td>cancer</td>\n",
       "      <td>object</td>\n",
       "      <td>10697</td>\n",
       "      <td>6</td>\n",
       "      <td>1.00</td>\n",
       "      <td>2</td>\n",
       "      <td>10701</td>\n",
       "      <td>0.00</td>\n",
       "      <td>359980</td>\n",
       "    </tr>\n",
       "  </tbody>\n",
       "</table>\n",
       "</div>"
      ],
      "text/plain": [
       "                        Column  DataType  Complete  Null  Completeness  \\\n",
       "0                   series_uid    object     10703     0          1.00   \n",
       "1                     filepath    object     10703     0          1.00   \n",
       "2                   patient_id    object     10703     0          1.00   \n",
       "3                         side  category     10703     0          1.00   \n",
       "4                   image_view  category     10703     0          1.00   \n",
       "5   photometric_interpretation  category     10703     0          1.00   \n",
       "6            samples_per_pixel     int32     10703     0          1.00   \n",
       "7                       height     int64     10703     0          1.00   \n",
       "8                        width     int64     10703     0          1.00   \n",
       "9                         size     int64     10703     0          1.00   \n",
       "10                aspect_ratio   float64     10703     0          1.00   \n",
       "11                        bits  category     10703     0          1.00   \n",
       "12        smallest_image_pixel     int64     10703     0          1.00   \n",
       "13         largest_image_pixel     int64     10703     0          1.00   \n",
       "14           image_pixel_range     int64     10703     0          1.00   \n",
       "15                     brisque   float64     10703     0          1.00   \n",
       "16          series_description    object     10703     0          1.00   \n",
       "17                     case_id    object     10703     0          1.00   \n",
       "18              breast_density   float64     10697     6          1.00   \n",
       "19              abnormality_id   float64     10697     6          1.00   \n",
       "20            abnormality_type    object     10697     6          1.00   \n",
       "21                   calc_type    object     10697     6          1.00   \n",
       "22           calc_distribution    object     10697     6          1.00   \n",
       "23                  assessment   float64     10697     6          1.00   \n",
       "24                   pathology    object     10697     6          1.00   \n",
       "25                    subtlety   float64     10697     6          1.00   \n",
       "26                     fileset    object     10697     6          1.00   \n",
       "27                  mass_shape    object     10697     6          1.00   \n",
       "28                mass_margins    object     10697     6          1.00   \n",
       "29                      cancer    object     10697     6          1.00   \n",
       "\n",
       "    Unique  Duplicate  Uniqueness     Size  \n",
       "0     6774       3929        0.63  1292410  \n",
       "1    10238        465        0.96  1814748  \n",
       "2     1566       9137        0.15   684992  \n",
       "3        2      10701        0.00    10934  \n",
       "4        2      10701        0.00    10822  \n",
       "5        1      10702        0.00    10771  \n",
       "6        1      10702        0.00    42812  \n",
       "7     1077       9626        0.10    85624  \n",
       "8     1208       9495        0.11    85624  \n",
       "9     5531       5172        0.52    85624  \n",
       "10    5591       5112        0.52    85624  \n",
       "11       2      10701        0.00    10820  \n",
       "12    3026       7677        0.28    85624  \n",
       "13     235      10468        0.02    85624  \n",
       "14    3255       7448        0.30    85624  \n",
       "15   10167        536        0.95    85624  \n",
       "16       3      10700        0.00   791914  \n",
       "17    3568       7135        0.33   907015  \n",
       "18       4      10699        0.00    85624  \n",
       "19       7      10696        0.00    85624  \n",
       "20       2      10701        0.00   703253  \n",
       "21      44      10659        0.00   759592  \n",
       "22       9      10694        0.00   732388  \n",
       "23       6      10697        0.00    85624  \n",
       "24       3      10700        0.00   721998  \n",
       "25       5      10698        0.00    85624  \n",
       "26       2      10701        0.00   661294  \n",
       "27      21      10682        0.00   737966  \n",
       "28      20      10683        0.00   749552  \n",
       "29       2      10701        0.00   359980  "
      ]
     },
     "execution_count": 5,
     "metadata": {},
     "output_type": "execute_result"
    }
   ],
   "source": [
    "ds.info"
   ]
  },
  {
   "cell_type": "code",
   "execution_count": 6,
   "id": "829ab245",
   "metadata": {},
   "outputs": [
    {
     "data": {
      "image/png": "[encoded data removed]",
      "text/plain": [
       "<Figure size 1200x400 with 2 Axes>"
      ]
     },
     "metadata": {},
     "output_type": "display_data"
    }
   ],
   "source": [
    "fig, axes = plt.subplots(figsize=(12,4),nrows=1, ncols=2)\n",
    "ds.plot.histogram(x='brisque', ax=axes[0], title=\"Distribution of Image Quality\")\n",
    "ds.plot.boxplot(x='brisque', ax=axes[1], title=\"Distribution of Image Quality\")\n"
   ]
  },
  {
   "cell_type": "code",
   "execution_count": 7,
   "id": "b2edd143",
   "metadata": {},
   "outputs": [
    {
     "data": {
      "image/png": "[encoded data removed]",
      "text/plain": [
       "<Figure size 1200x600 with 4 Axes>"
      ]
     },
     "metadata": {},
     "output_type": "display_data"
    }
   ],
   "source": [
    "fig, axes = plt.subplots(figsize=(12,6), nrows=2, ncols=2)\n",
    "ds.plot.histogram(x='height', ax=axes[0,0], title=\"Distribution of Image Height\")\n",
    "ds.plot.histogram(x='width', ax=axes[0,1], title=\"Distribution of Image Width\")\n",
    "ds.plot.histogram(x='size', ax=axes[1,0], title=\"Distribution of Image Size\")\n",
    "ds.plot.histogram(x='aspect_ratio', ax=axes[1,1], title=\"Distribution of Aspect Ratio\")\n",
    "_ = fig.suptitle(\"CBIS-DDSM Image Quality Assessment\\nImage Properties\")\n",
    "plt.tight_layout()"
   ]
  },
  {
   "cell_type": "code",
   "execution_count": 8,
   "id": "2e7cf22c",
   "metadata": {},
   "outputs": [
    {
     "data": {
      "image/png": "[encoded data removed]",
      "text/plain": [
       "<Figure size 1200x400 with 2 Axes>"
      ]
     },
     "metadata": {},
     "output_type": "display_data"
    },
    {
     "data": {
      "image/png": "[encoded data removed]",
      "text/plain": [
       "<Figure size 1000x400 with 1 Axes>"
      ]
     },
     "metadata": {},
     "output_type": "display_data"
    }
   ],
   "source": [
    "fig, axes = plt.subplots(figsize=(12,4), nrows=1, ncols=2)\n",
    "ds.plot.histogram(x='smallest_image_pixel', ax=axes[0], title=\"Distribution of Smallest Image Pixel Value\")\n",
    "ds.plot.histogram(x='largest_image_pixel', ax=axes[1], title=\"Distribution of Largest Image Pixel Value\")\n",
    "fig, ax = plt.subplots(figsize=(10,4))\n",
    "ds.plot.histogram(x='image_pixel_range', ax=ax, title=\"Distribution of Image Pixel Range\")\n",
    "_ = fig.suptitle(\"CBIS-DDSM Image Quality Assessment\\nPixel Value Analysis\")\n",
    "plt.tight_layout()"
   ]
  },
  {
   "cell_type": "code",
   "execution_count": 9,
   "id": "45c17285",
   "metadata": {},
   "outputs": [
    {
     "name": "stderr",
     "output_type": "stream",
     "text": [
      "100%|██████████| 4/4 [00:00<00:00,  5.22it/s]\n"
     ]
    },
    {
     "data": {
      "image/png": "[encoded data removed]",
      "text/plain": [
       "<Figure size 1600x800 with 4 Axes>"
      ]
     },
     "metadata": {},
     "output_type": "display_data"
    }
   ],
   "source": [
    "ds.plot_images(random_state=5, nrows=4, ncols=4, figsize=(20,16), n=16)"
   ]
  }
 ],
 "metadata": {
  "jupytext": {
   "formats": "md:myst"
  },
  "kernelspec": {
   "display_name": "Python 3",
   "language": "python",
   "name": "python3"
  },
  "language_info": {
   "codemirror_mode": {
    "name": "ipython",
    "version": 3
   },
   "file_extension": ".py",
   "mimetype": "text/x-python",
   "name": "python",
   "nbconvert_exporter": "python",
   "pygments_lexer": "ipython3",
   "version": "3.10.12"
  }
 },
 "nbformat": 4,
 "nbformat_minor": 5
}
