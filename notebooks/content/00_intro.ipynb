{
 "cells": [
  {
   "cell_type": "markdown",
   "metadata": {},
   "source": [
    "# EDA Introduction\n",
    "\n",
    "In this section, we conduct an exploratory data analysis of the CBIS-DDSM dataset with several goals in mind:\n",
    "\n",
    "1.\tMaximize insight into the data and the factors that influence screening results in the CBIS-DDSM dataset.\n",
    "2.\tAssess the quality of the digital mammography in the CBIS-DDSM dataset.\n",
    "3.\tSelect optimal methods and parameters for preprocessing\ttasks such as denoising and artifact removal. \n",
    "\n",
    "The exploratory data analysis is structured as follows:\n",
    "\n",
    "{numref}`eda_dataset` describes the structure and organization of the CBIS-DDSM dataset. {numref}`eda0` prepares the case and DICOM data for the analysis effort. {numref}`eda1` explores the case metadata for insights into the screening and diagnosis of calcification and mass abnormalities in the dataset. {numref}`eda2` examines the quality and characteristics of the CBIS-DDSM images vis-à-vis abnormality type and morphological features of calcifications and masses. Finally, {numref}`eda3` evaluates methods and optimal parameter settings for preprocessing tasks such as denoising and artifact removal. \n"
   ]
  }
 ],
 "metadata": {
  "kernelspec": {
   "display_name": "Python 3",
   "language": "python",
   "name": "python3"
  }
 },
 "nbformat": 4,
 "nbformat_minor": 5
}
