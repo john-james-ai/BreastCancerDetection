{
 "cells": [
  {
   "cell_type": "markdown",
   "id": "1604f9f9",
   "metadata": {},
   "source": [
    "# Introduction\n",
    "\n",
    "Breast cancer ....\n",
    "\n",
    "## Detecting Breast Cancer using Mammography\n",
    "Describe views, images, \n",
    "\n",
    "## Computer Added Diagnostics \n"
   ]
  }
 ],
 "metadata": {
  "kernelspec": {
   "display_name": "Python 3",
   "language": "python",
   "name": "python3"
  }
 },
 "nbformat": 4,
 "nbformat_minor": 5
}
