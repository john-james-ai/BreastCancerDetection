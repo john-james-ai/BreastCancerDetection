{
 "cells": [
  {
   "cell_type": "markdown",
   "id": "50592640",
   "metadata": {},
   "source": [
    "# CBIS-DDSM - Unbox\n",
    "\n",
    "Before conducting data quality and exploratory analyses, we unbox the data to ensure that, well...*' we got what we paid for*. Our aim here is to get a general sense of the structure of the data and to make any changes that will facilitate the next stages of the analysis. \n",
    "\n",
    "First, we'll examine the case training sets, then the series metadata, and finally, we'll extract data from a few DICOM datasets.\n"
   ]
  },
  {
   "cell_type": "code",
   "execution_count": 1,
   "id": "0417ff6c",
   "metadata": {
    "tags": [
     "hide-input"
    ]
   },
   "outputs": [],
   "source": [
    "import os\n",
    "if 'jbook' in os.getcwd():\n",
    "    os.chdir(os.path.abspath(os.path.join(\"../../..\")))\n",
    "from myst_nb import glue\n",
    "import pandas as pd\n",
    "\n",
    "fp_calc_train = \"data/meta/0_raw/calc_case_description_train_set.csv\"\n",
    "fp_mass_train = \"data/meta/0_raw/mass_case_description_train_set.csv\"\n",
    "fp_metadata = \"data/meta/0_raw/metadata.csv\""
   ]
  },
  {
   "cell_type": "markdown",
   "id": "6254f1af",
   "metadata": {},
   "source": [
    "## Calcification Cases"
   ]
  },
  {
   "cell_type": "markdown",
   "id": "d5f02f4f",
   "metadata": {},
   "source": [
    "### Calcification Train Cases\n",
    "\n",
    "We expect a total of 602 cases, 329 are benign and 273 are malignant."
   ]
  },
  {
   "cell_type": "code",
   "execution_count": 2,
   "id": "c8eaef5e",
   "metadata": {},
   "outputs": [
    {
     "name": "stdout",
     "output_type": "stream",
     "text": [
      "<class 'pandas.core.frame.DataFrame'>\n",
      "RangeIndex: 1546 entries, 0 to 1545\n",
      "Data columns (total 14 columns):\n",
      " #   Column                   Non-Null Count  Dtype \n",
      "---  ------                   --------------  ----- \n",
      " 0   patient_id               1546 non-null   object\n",
      " 1   breast density           1546 non-null   int64 \n",
      " 2   left or right breast     1546 non-null   object\n",
      " 3   image view               1546 non-null   object\n",
      " 4   abnormality id           1546 non-null   int64 \n",
      " 5   abnormality type         1546 non-null   object\n",
      " 6   calc type                1526 non-null   object\n",
      " 7   calc distribution        1170 non-null   object\n",
      " 8   assessment               1546 non-null   int64 \n",
      " 9   pathology                1546 non-null   object\n",
      " 10  subtlety                 1546 non-null   int64 \n",
      " 11  image file path          1546 non-null   object\n",
      " 12  cropped image file path  1546 non-null   object\n",
      " 13  ROI mask file path       1546 non-null   object\n",
      "dtypes: int64(4), object(10)\n",
      "memory usage: 169.2+ KB\n"
     ]
    }
   ],
   "source": [
    "df = pd.read_csv(fp_calc_train)\n",
    "df.info()"
   ]
  },
  {
   "cell_type": "markdown",
   "id": "9127da19",
   "metadata": {},
   "source": [
    "We have 1546 observations and 14 columns *(with spaces in the column names, which is somewhat vexing)* in the calcification training set."
   ]
  },
  {
   "cell_type": "code",
   "execution_count": 3,
   "id": "47cc8d16",
   "metadata": {},
   "outputs": [
    {
     "data": {
      "text/html": [
       "<div>\n",
       "<style scoped>\n",
       "    .dataframe tbody tr th:only-of-type {\n",
       "        vertical-align: middle;\n",
       "    }\n",
       "\n",
       "    .dataframe tbody tr th {\n",
       "        vertical-align: top;\n",
       "    }\n",
       "\n",
       "    .dataframe thead th {\n",
       "        text-align: right;\n",
       "    }\n",
       "</style>\n",
       "<table border=\"1\" class=\"dataframe\">\n",
       "  <thead>\n",
       "    <tr style=\"text-align: right;\">\n",
       "      <th></th>\n",
       "      <th>patient_id</th>\n",
       "      <th>breast density</th>\n",
       "      <th>left or right breast</th>\n",
       "      <th>image view</th>\n",
       "      <th>abnormality id</th>\n",
       "      <th>abnormality type</th>\n",
       "      <th>calc type</th>\n",
       "      <th>calc distribution</th>\n",
       "      <th>assessment</th>\n",
       "      <th>pathology</th>\n",
       "      <th>subtlety</th>\n",
       "      <th>image file path</th>\n",
       "      <th>cropped image file path</th>\n",
       "      <th>ROI mask file path</th>\n",
       "    </tr>\n",
       "  </thead>\n",
       "  <tbody>\n",
       "    <tr>\n",
       "      <th>0</th>\n",
       "      <td>P_00005</td>\n",
       "      <td>3</td>\n",
       "      <td>RIGHT</td>\n",
       "      <td>CC</td>\n",
       "      <td>1</td>\n",
       "      <td>calcification</td>\n",
       "      <td>AMORPHOUS</td>\n",
       "      <td>CLUSTERED</td>\n",
       "      <td>3</td>\n",
       "      <td>MALIGNANT</td>\n",
       "      <td>3</td>\n",
       "      <td>Calc-Training_P_00005_RIGHT_CC/1.3.6.1.4.1.959...</td>\n",
       "      <td>Calc-Training_P_00005_RIGHT_CC_1/1.3.6.1.4.1.9...</td>\n",
       "      <td>Calc-Training_P_00005_RIGHT_CC_1/1.3.6.1.4.1.9...</td>\n",
       "    </tr>\n",
       "    <tr>\n",
       "      <th>1</th>\n",
       "      <td>P_00005</td>\n",
       "      <td>3</td>\n",
       "      <td>RIGHT</td>\n",
       "      <td>MLO</td>\n",
       "      <td>1</td>\n",
       "      <td>calcification</td>\n",
       "      <td>AMORPHOUS</td>\n",
       "      <td>CLUSTERED</td>\n",
       "      <td>3</td>\n",
       "      <td>MALIGNANT</td>\n",
       "      <td>3</td>\n",
       "      <td>Calc-Training_P_00005_RIGHT_MLO/1.3.6.1.4.1.95...</td>\n",
       "      <td>Calc-Training_P_00005_RIGHT_MLO_1/1.3.6.1.4.1....</td>\n",
       "      <td>Calc-Training_P_00005_RIGHT_MLO_1/1.3.6.1.4.1....</td>\n",
       "    </tr>\n",
       "    <tr>\n",
       "      <th>2</th>\n",
       "      <td>P_00007</td>\n",
       "      <td>4</td>\n",
       "      <td>LEFT</td>\n",
       "      <td>CC</td>\n",
       "      <td>1</td>\n",
       "      <td>calcification</td>\n",
       "      <td>PLEOMORPHIC</td>\n",
       "      <td>LINEAR</td>\n",
       "      <td>4</td>\n",
       "      <td>BENIGN</td>\n",
       "      <td>4</td>\n",
       "      <td>Calc-Training_P_00007_LEFT_CC/1.3.6.1.4.1.9590...</td>\n",
       "      <td>Calc-Training_P_00007_LEFT_CC_1/1.3.6.1.4.1.95...</td>\n",
       "      <td>Calc-Training_P_00007_LEFT_CC_1/1.3.6.1.4.1.95...</td>\n",
       "    </tr>\n",
       "    <tr>\n",
       "      <th>3</th>\n",
       "      <td>P_00007</td>\n",
       "      <td>4</td>\n",
       "      <td>LEFT</td>\n",
       "      <td>MLO</td>\n",
       "      <td>1</td>\n",
       "      <td>calcification</td>\n",
       "      <td>PLEOMORPHIC</td>\n",
       "      <td>LINEAR</td>\n",
       "      <td>4</td>\n",
       "      <td>BENIGN</td>\n",
       "      <td>4</td>\n",
       "      <td>Calc-Training_P_00007_LEFT_MLO/1.3.6.1.4.1.959...</td>\n",
       "      <td>Calc-Training_P_00007_LEFT_MLO_1/1.3.6.1.4.1.9...</td>\n",
       "      <td>Calc-Training_P_00007_LEFT_MLO_1/1.3.6.1.4.1.9...</td>\n",
       "    </tr>\n",
       "    <tr>\n",
       "      <th>4</th>\n",
       "      <td>P_00008</td>\n",
       "      <td>1</td>\n",
       "      <td>LEFT</td>\n",
       "      <td>CC</td>\n",
       "      <td>1</td>\n",
       "      <td>calcification</td>\n",
       "      <td>NaN</td>\n",
       "      <td>REGIONAL</td>\n",
       "      <td>2</td>\n",
       "      <td>BENIGN_WITHOUT_CALLBACK</td>\n",
       "      <td>3</td>\n",
       "      <td>Calc-Training_P_00008_LEFT_CC/1.3.6.1.4.1.9590...</td>\n",
       "      <td>Calc-Training_P_00008_LEFT_CC_1/1.3.6.1.4.1.95...</td>\n",
       "      <td>Calc-Training_P_00008_LEFT_CC_1/1.3.6.1.4.1.95...</td>\n",
       "    </tr>\n",
       "  </tbody>\n",
       "</table>\n",
       "</div>"
      ],
      "text/plain": [
       "  patient_id  breast density left or right breast image view  abnormality id  \\\n",
       "0    P_00005               3                RIGHT         CC               1   \n",
       "1    P_00005               3                RIGHT        MLO               1   \n",
       "2    P_00007               4                 LEFT         CC               1   \n",
       "3    P_00007               4                 LEFT        MLO               1   \n",
       "4    P_00008               1                 LEFT         CC               1   \n",
       "\n",
       "  abnormality type    calc type calc distribution  assessment  \\\n",
       "0    calcification    AMORPHOUS         CLUSTERED           3   \n",
       "1    calcification    AMORPHOUS         CLUSTERED           3   \n",
       "2    calcification  PLEOMORPHIC            LINEAR           4   \n",
       "3    calcification  PLEOMORPHIC            LINEAR           4   \n",
       "4    calcification          NaN          REGIONAL           2   \n",
       "\n",
       "                 pathology  subtlety  \\\n",
       "0                MALIGNANT         3   \n",
       "1                MALIGNANT         3   \n",
       "2                   BENIGN         4   \n",
       "3                   BENIGN         4   \n",
       "4  BENIGN_WITHOUT_CALLBACK         3   \n",
       "\n",
       "                                     image file path  \\\n",
       "0  Calc-Training_P_00005_RIGHT_CC/1.3.6.1.4.1.959...   \n",
       "1  Calc-Training_P_00005_RIGHT_MLO/1.3.6.1.4.1.95...   \n",
       "2  Calc-Training_P_00007_LEFT_CC/1.3.6.1.4.1.9590...   \n",
       "3  Calc-Training_P_00007_LEFT_MLO/1.3.6.1.4.1.959...   \n",
       "4  Calc-Training_P_00008_LEFT_CC/1.3.6.1.4.1.9590...   \n",
       "\n",
       "                             cropped image file path  \\\n",
       "0  Calc-Training_P_00005_RIGHT_CC_1/1.3.6.1.4.1.9...   \n",
       "1  Calc-Training_P_00005_RIGHT_MLO_1/1.3.6.1.4.1....   \n",
       "2  Calc-Training_P_00007_LEFT_CC_1/1.3.6.1.4.1.95...   \n",
       "3  Calc-Training_P_00007_LEFT_MLO_1/1.3.6.1.4.1.9...   \n",
       "4  Calc-Training_P_00008_LEFT_CC_1/1.3.6.1.4.1.95...   \n",
       "\n",
       "                                  ROI mask file path  \n",
       "0  Calc-Training_P_00005_RIGHT_CC_1/1.3.6.1.4.1.9...  \n",
       "1  Calc-Training_P_00005_RIGHT_MLO_1/1.3.6.1.4.1....  \n",
       "2  Calc-Training_P_00007_LEFT_CC_1/1.3.6.1.4.1.95...  \n",
       "3  Calc-Training_P_00007_LEFT_MLO_1/1.3.6.1.4.1.9...  \n",
       "4  Calc-Training_P_00008_LEFT_CC_1/1.3.6.1.4.1.95...  "
      ]
     },
     "metadata": {
      "scrapbook": {
       "mime_prefix": "",
       "name": "calc_train_sample"
      }
     },
     "output_type": "display_data"
    },
    {
     "data": {
      "text/plain": [
       "1546"
      ]
     },
     "metadata": {
      "scrapbook": {
       "mime_prefix": "",
       "name": "calc_train_n_records"
      }
     },
     "output_type": "display_data"
    },
    {
     "data": {
      "text/html": [
       "<div>\n",
       "<style scoped>\n",
       "    .dataframe tbody tr th:only-of-type {\n",
       "        vertical-align: middle;\n",
       "    }\n",
       "\n",
       "    .dataframe tbody tr th {\n",
       "        vertical-align: top;\n",
       "    }\n",
       "\n",
       "    .dataframe thead th {\n",
       "        text-align: right;\n",
       "    }\n",
       "</style>\n",
       "<table border=\"1\" class=\"dataframe\">\n",
       "  <thead>\n",
       "    <tr style=\"text-align: right;\">\n",
       "      <th></th>\n",
       "      <th>Pathology</th>\n",
       "      <th>Count</th>\n",
       "    </tr>\n",
       "  </thead>\n",
       "  <tbody>\n",
       "    <tr>\n",
       "      <th>0</th>\n",
       "      <td>BENIGN</td>\n",
       "      <td>258</td>\n",
       "    </tr>\n",
       "    <tr>\n",
       "      <th>1</th>\n",
       "      <td>BENIGN_WITHOUT_CALLBACK</td>\n",
       "      <td>82</td>\n",
       "    </tr>\n",
       "    <tr>\n",
       "      <th>2</th>\n",
       "      <td>MALIGNANT</td>\n",
       "      <td>276</td>\n",
       "    </tr>\n",
       "    <tr>\n",
       "      <th>Total</th>\n",
       "      <td></td>\n",
       "      <td>616</td>\n",
       "    </tr>\n",
       "  </tbody>\n",
       "</table>\n",
       "</div>"
      ],
      "text/plain": [
       "                     Pathology  Count\n",
       "0                       BENIGN    258\n",
       "1      BENIGN_WITHOUT_CALLBACK     82\n",
       "2                    MALIGNANT    276\n",
       "Total                             616"
      ]
     },
     "metadata": {
      "scrapbook": {
       "mime_prefix": "",
       "name": "calc_train_pathologies"
      }
     },
     "output_type": "display_data"
    },
    {
     "data": {
      "text/plain": [
       "602"
      ]
     },
     "metadata": {
      "scrapbook": {
       "mime_prefix": "",
       "name": "calc_train_n_cases"
      }
     },
     "output_type": "display_data"
    },
    {
     "data": {
      "text/plain": [
       "14"
      ]
     },
     "metadata": {
      "scrapbook": {
       "mime_prefix": "",
       "name": "calc_train_n_cases_multiple_pathologies"
      }
     },
     "output_type": "display_data"
    }
   ],
   "source": [
    "# Total record count\n",
    "n_records = len(df)\n",
    "\n",
    "# Sample\n",
    "sample = df.head()\n",
    "\n",
    "# Number of cases\n",
    "n_cases =  df['patient_id'].nunique()\n",
    "\n",
    "# Pathologies and patient counts.\n",
    "pathologies = df[['patient_id', 'pathology']].drop_duplicates().groupby(by='pathology').count().reset_index()\n",
    "pathologies.columns = ['Pathology', 'Count']\n",
    "pathologies.loc['Total'] = pathologies.sum()\n",
    "pathologies.loc[pathologies.index[-1], 'Pathology'] = \"\"\n",
    "\n",
    "# Number of patients with multiple abnormalities and diagnoses\n",
    "case_pathologies = df[['patient_id', 'pathology']].drop_duplicates().groupby(by='patient_id').count()\n",
    "n_cases_multiple_pathologies = len(case_pathologies.loc[case_pathologies['pathology']==2])\n",
    "\n",
    "glue('calc_train_sample', sample)\n",
    "glue('calc_train_n_records', n_records)\n",
    "glue('calc_train_pathologies', pathologies)\n",
    "glue('calc_train_n_cases', n_cases)\n",
    "glue('calc_train_n_cases_multiple_pathologies', n_cases_multiple_pathologies)"
   ]
  },
  {
   "cell_type": "markdown",
   "id": "6d1d3cd6",
   "metadata": {},
   "source": [
    "Of the {glue:}`calc_train_n_records` observations, there are {glue:}`calc_train_n_cases` unique cases in the calcification training set. Let's summarize the counts by diagnosis.\n",
    "\n",
    "```{glue:figure} calc_train_pathologies\n",
    "---\n",
    "align: center\n",
    "name: calc_train_pathologies_fig\n",
    "---\n",
    "Patient Count by Pathology\n",
    "```\n",
    "\n",
    "{numref}`calc_train_pathologies_fig` indicates and the data show that there are {glue:}`calc_train_n_cases_multiple_pathologies` patients with two pathologies, bringing our total to 616 diagnoses. Let's take a look at the data.\n",
    "\n",
    "\n",
    "```{glue:figure} calc_train_sample\n",
    "---\n",
    "align: center\n",
    "name: calc_train_sample_fig\n",
    "---\n",
    "Calcification Train Data Sample\n",
    "```\n",
    "\n",
    "We have some missing values (calcification types and distributions) and an *unexpected* third classification in our binary classification problem. Let's check the calcification test data."
   ]
  },
  {
   "cell_type": "markdown",
   "id": "7e982853",
   "metadata": {},
   "source": [
    "### Calcification Test Cases\n",
    "The calcification test dataset should contain a total of 151 cases, of which 85 are benign, and 66 are malignant."
   ]
  },
  {
   "cell_type": "code",
   "execution_count": 4,
   "id": "cf39525b",
   "metadata": {},
   "outputs": [
    {
     "name": "stdout",
     "output_type": "stream",
     "text": [
      "<class 'pandas.core.frame.DataFrame'>\n",
      "RangeIndex: 326 entries, 0 to 325\n",
      "Data columns (total 14 columns):\n",
      " #   Column                   Non-Null Count  Dtype \n",
      "---  ------                   --------------  ----- \n",
      " 0   patient_id               326 non-null    object\n",
      " 1   breast density           326 non-null    int64 \n",
      " 2   left or right breast     326 non-null    object\n",
      " 3   image view               326 non-null    object\n",
      " 4   abnormality id           326 non-null    int64 \n",
      " 5   abnormality type         326 non-null    object\n",
      " 6   calc type                322 non-null    object\n",
      " 7   calc distribution        263 non-null    object\n",
      " 8   assessment               326 non-null    int64 \n",
      " 9   pathology                326 non-null    object\n",
      " 10  subtlety                 326 non-null    int64 \n",
      " 11  image file path          326 non-null    object\n",
      " 12  cropped image file path  326 non-null    object\n",
      " 13  ROI mask file path       326 non-null    object\n",
      "dtypes: int64(4), object(10)\n",
      "memory usage: 35.8+ KB\n"
     ]
    }
   ],
   "source": [
    "df = pd.read_csv(fp_calc_test)\n",
    "df.info()"
   ]
  },
  {
   "cell_type": "code",
   "execution_count": 5,
   "id": "5c5bb7ed",
   "metadata": {},
   "outputs": [
    {
     "data": {
      "text/html": [
       "<div>\n",
       "<style scoped>\n",
       "    .dataframe tbody tr th:only-of-type {\n",
       "        vertical-align: middle;\n",
       "    }\n",
       "\n",
       "    .dataframe tbody tr th {\n",
       "        vertical-align: top;\n",
       "    }\n",
       "\n",
       "    .dataframe thead th {\n",
       "        text-align: right;\n",
       "    }\n",
       "</style>\n",
       "<table border=\"1\" class=\"dataframe\">\n",
       "  <thead>\n",
       "    <tr style=\"text-align: right;\">\n",
       "      <th></th>\n",
       "      <th>patient_id</th>\n",
       "      <th>breast density</th>\n",
       "      <th>left or right breast</th>\n",
       "      <th>image view</th>\n",
       "      <th>abnormality id</th>\n",
       "      <th>abnormality type</th>\n",
       "      <th>calc type</th>\n",
       "      <th>calc distribution</th>\n",
       "      <th>assessment</th>\n",
       "      <th>pathology</th>\n",
       "      <th>subtlety</th>\n",
       "      <th>image file path</th>\n",
       "      <th>cropped image file path</th>\n",
       "      <th>ROI mask file path</th>\n",
       "    </tr>\n",
       "  </thead>\n",
       "  <tbody>\n",
       "    <tr>\n",
       "      <th>0</th>\n",
       "      <td>P_00038</td>\n",
       "      <td>2</td>\n",
       "      <td>LEFT</td>\n",
       "      <td>CC</td>\n",
       "      <td>1</td>\n",
       "      <td>calcification</td>\n",
       "      <td>PUNCTATE-PLEOMORPHIC</td>\n",
       "      <td>CLUSTERED</td>\n",
       "      <td>4</td>\n",
       "      <td>BENIGN</td>\n",
       "      <td>2</td>\n",
       "      <td>Calc-Test_P_00038_LEFT_CC/1.3.6.1.4.1.9590.100...</td>\n",
       "      <td>Calc-Test_P_00038_LEFT_CC_1/1.3.6.1.4.1.9590.1...</td>\n",
       "      <td>Calc-Test_P_00038_LEFT_CC_1/1.3.6.1.4.1.9590.1...</td>\n",
       "    </tr>\n",
       "    <tr>\n",
       "      <th>1</th>\n",
       "      <td>P_00038</td>\n",
       "      <td>2</td>\n",
       "      <td>LEFT</td>\n",
       "      <td>MLO</td>\n",
       "      <td>1</td>\n",
       "      <td>calcification</td>\n",
       "      <td>PUNCTATE-PLEOMORPHIC</td>\n",
       "      <td>CLUSTERED</td>\n",
       "      <td>4</td>\n",
       "      <td>BENIGN</td>\n",
       "      <td>2</td>\n",
       "      <td>Calc-Test_P_00038_LEFT_MLO/1.3.6.1.4.1.9590.10...</td>\n",
       "      <td>Calc-Test_P_00038_LEFT_MLO_1/1.3.6.1.4.1.9590....</td>\n",
       "      <td>Calc-Test_P_00038_LEFT_MLO_1/1.3.6.1.4.1.9590....</td>\n",
       "    </tr>\n",
       "    <tr>\n",
       "      <th>2</th>\n",
       "      <td>P_00038</td>\n",
       "      <td>2</td>\n",
       "      <td>RIGHT</td>\n",
       "      <td>CC</td>\n",
       "      <td>1</td>\n",
       "      <td>calcification</td>\n",
       "      <td>VASCULAR</td>\n",
       "      <td>NaN</td>\n",
       "      <td>2</td>\n",
       "      <td>BENIGN_WITHOUT_CALLBACK</td>\n",
       "      <td>5</td>\n",
       "      <td>Calc-Test_P_00038_RIGHT_CC/1.3.6.1.4.1.9590.10...</td>\n",
       "      <td>Calc-Test_P_00038_RIGHT_CC_1/1.3.6.1.4.1.9590....</td>\n",
       "      <td>Calc-Test_P_00038_RIGHT_CC_1/1.3.6.1.4.1.9590....</td>\n",
       "    </tr>\n",
       "    <tr>\n",
       "      <th>3</th>\n",
       "      <td>P_00038</td>\n",
       "      <td>2</td>\n",
       "      <td>RIGHT</td>\n",
       "      <td>CC</td>\n",
       "      <td>2</td>\n",
       "      <td>calcification</td>\n",
       "      <td>VASCULAR</td>\n",
       "      <td>NaN</td>\n",
       "      <td>2</td>\n",
       "      <td>BENIGN_WITHOUT_CALLBACK</td>\n",
       "      <td>5</td>\n",
       "      <td>Calc-Test_P_00038_RIGHT_CC/1.3.6.1.4.1.9590.10...</td>\n",
       "      <td>Calc-Test_P_00038_RIGHT_CC_2/1.3.6.1.4.1.9590....</td>\n",
       "      <td>Calc-Test_P_00038_RIGHT_CC_2/1.3.6.1.4.1.9590....</td>\n",
       "    </tr>\n",
       "    <tr>\n",
       "      <th>4</th>\n",
       "      <td>P_00038</td>\n",
       "      <td>2</td>\n",
       "      <td>RIGHT</td>\n",
       "      <td>MLO</td>\n",
       "      <td>1</td>\n",
       "      <td>calcification</td>\n",
       "      <td>VASCULAR</td>\n",
       "      <td>NaN</td>\n",
       "      <td>2</td>\n",
       "      <td>BENIGN_WITHOUT_CALLBACK</td>\n",
       "      <td>5</td>\n",
       "      <td>Calc-Test_P_00038_RIGHT_MLO/1.3.6.1.4.1.9590.1...</td>\n",
       "      <td>Calc-Test_P_00038_RIGHT_MLO_1/1.3.6.1.4.1.9590...</td>\n",
       "      <td>Calc-Test_P_00038_RIGHT_MLO_1/1.3.6.1.4.1.9590...</td>\n",
       "    </tr>\n",
       "  </tbody>\n",
       "</table>\n",
       "</div>"
      ],
      "text/plain": [
       "  patient_id  breast density left or right breast image view  abnormality id  \\\n",
       "0    P_00038               2                 LEFT         CC               1   \n",
       "1    P_00038               2                 LEFT        MLO               1   \n",
       "2    P_00038               2                RIGHT         CC               1   \n",
       "3    P_00038               2                RIGHT         CC               2   \n",
       "4    P_00038               2                RIGHT        MLO               1   \n",
       "\n",
       "  abnormality type             calc type calc distribution  assessment  \\\n",
       "0    calcification  PUNCTATE-PLEOMORPHIC         CLUSTERED           4   \n",
       "1    calcification  PUNCTATE-PLEOMORPHIC         CLUSTERED           4   \n",
       "2    calcification              VASCULAR               NaN           2   \n",
       "3    calcification              VASCULAR               NaN           2   \n",
       "4    calcification              VASCULAR               NaN           2   \n",
       "\n",
       "                 pathology  subtlety  \\\n",
       "0                   BENIGN         2   \n",
       "1                   BENIGN         2   \n",
       "2  BENIGN_WITHOUT_CALLBACK         5   \n",
       "3  BENIGN_WITHOUT_CALLBACK         5   \n",
       "4  BENIGN_WITHOUT_CALLBACK         5   \n",
       "\n",
       "                                     image file path  \\\n",
       "0  Calc-Test_P_00038_LEFT_CC/1.3.6.1.4.1.9590.100...   \n",
       "1  Calc-Test_P_00038_LEFT_MLO/1.3.6.1.4.1.9590.10...   \n",
       "2  Calc-Test_P_00038_RIGHT_CC/1.3.6.1.4.1.9590.10...   \n",
       "3  Calc-Test_P_00038_RIGHT_CC/1.3.6.1.4.1.9590.10...   \n",
       "4  Calc-Test_P_00038_RIGHT_MLO/1.3.6.1.4.1.9590.1...   \n",
       "\n",
       "                             cropped image file path  \\\n",
       "0  Calc-Test_P_00038_LEFT_CC_1/1.3.6.1.4.1.9590.1...   \n",
       "1  Calc-Test_P_00038_LEFT_MLO_1/1.3.6.1.4.1.9590....   \n",
       "2  Calc-Test_P_00038_RIGHT_CC_1/1.3.6.1.4.1.9590....   \n",
       "3  Calc-Test_P_00038_RIGHT_CC_2/1.3.6.1.4.1.9590....   \n",
       "4  Calc-Test_P_00038_RIGHT_MLO_1/1.3.6.1.4.1.9590...   \n",
       "\n",
       "                                  ROI mask file path  \n",
       "0  Calc-Test_P_00038_LEFT_CC_1/1.3.6.1.4.1.9590.1...  \n",
       "1  Calc-Test_P_00038_LEFT_MLO_1/1.3.6.1.4.1.9590....  \n",
       "2  Calc-Test_P_00038_RIGHT_CC_1/1.3.6.1.4.1.9590....  \n",
       "3  Calc-Test_P_00038_RIGHT_CC_2/1.3.6.1.4.1.9590....  \n",
       "4  Calc-Test_P_00038_RIGHT_MLO_1/1.3.6.1.4.1.9590...  "
      ]
     },
     "metadata": {
      "scrapbook": {
       "mime_prefix": "",
       "name": "calc_test_sample"
      }
     },
     "output_type": "display_data"
    },
    {
     "data": {
      "text/plain": [
       "326"
      ]
     },
     "metadata": {
      "scrapbook": {
       "mime_prefix": "",
       "name": "calc_test_n_records"
      }
     },
     "output_type": "display_data"
    },
    {
     "data": {
      "text/html": [
       "<div>\n",
       "<style scoped>\n",
       "    .dataframe tbody tr th:only-of-type {\n",
       "        vertical-align: middle;\n",
       "    }\n",
       "\n",
       "    .dataframe tbody tr th {\n",
       "        vertical-align: top;\n",
       "    }\n",
       "\n",
       "    .dataframe thead th {\n",
       "        text-align: right;\n",
       "    }\n",
       "</style>\n",
       "<table border=\"1\" class=\"dataframe\">\n",
       "  <thead>\n",
       "    <tr style=\"text-align: right;\">\n",
       "      <th></th>\n",
       "      <th>Pathology</th>\n",
       "      <th>Count</th>\n",
       "    </tr>\n",
       "  </thead>\n",
       "  <tbody>\n",
       "    <tr>\n",
       "      <th>0</th>\n",
       "      <td>BENIGN</td>\n",
       "      <td>70</td>\n",
       "    </tr>\n",
       "    <tr>\n",
       "      <th>1</th>\n",
       "      <td>BENIGN_WITHOUT_CALLBACK</td>\n",
       "      <td>17</td>\n",
       "    </tr>\n",
       "    <tr>\n",
       "      <th>2</th>\n",
       "      <td>MALIGNANT</td>\n",
       "      <td>67</td>\n",
       "    </tr>\n",
       "    <tr>\n",
       "      <th>Total</th>\n",
       "      <td></td>\n",
       "      <td>154</td>\n",
       "    </tr>\n",
       "  </tbody>\n",
       "</table>\n",
       "</div>"
      ],
      "text/plain": [
       "                     Pathology  Count\n",
       "0                       BENIGN     70\n",
       "1      BENIGN_WITHOUT_CALLBACK     17\n",
       "2                    MALIGNANT     67\n",
       "Total                             154"
      ]
     },
     "metadata": {
      "scrapbook": {
       "mime_prefix": "",
       "name": "calc_test_pathologies"
      }
     },
     "output_type": "display_data"
    },
    {
     "data": {
      "text/plain": [
       "151"
      ]
     },
     "metadata": {
      "scrapbook": {
       "mime_prefix": "",
       "name": "calc_test_n_cases"
      }
     },
     "output_type": "display_data"
    },
    {
     "data": {
      "text/plain": [
       "3"
      ]
     },
     "metadata": {
      "scrapbook": {
       "mime_prefix": "",
       "name": "calc_test_n_cases_multiple_pathologies"
      }
     },
     "output_type": "display_data"
    }
   ],
   "source": [
    "# Total record count\n",
    "n_records = len(df)\n",
    "\n",
    "# Sample\n",
    "sample = df.head()\n",
    "\n",
    "# Number of cases\n",
    "n_cases =  df['patient_id'].nunique()\n",
    "\n",
    "# Pathologies and patient counts.\n",
    "pathologies = df[['patient_id', 'pathology']].drop_duplicates().groupby(by='pathology').count().reset_index()\n",
    "pathologies.columns = ['Pathology', 'Count']\n",
    "pathologies.loc['Total'] = pathologies.sum()\n",
    "pathologies.loc[pathologies.index[-1], 'Pathology'] = \"\"\n",
    "\n",
    "# Number of patients with multiple abnormalities and diagnoses\n",
    "case_pathologies = df[['patient_id', 'pathology']].drop_duplicates().groupby(by='patient_id').count()\n",
    "n_cases_multiple_pathologies = len(case_pathologies.loc[case_pathologies['pathology']==2])\n",
    "\n",
    "glue('calc_test_sample', sample)\n",
    "glue('calc_test_n_records', n_records)\n",
    "glue('calc_test_pathologies', pathologies)\n",
    "glue('calc_test_n_cases', n_cases)\n",
    "glue('calc_test_n_cases_multiple_pathologies', n_cases_multiple_pathologies)\n"
   ]
  },
  {
   "cell_type": "markdown",
   "metadata": {},
   "source": [
    "Of the {glue:}`calc_test_n_records` observations, there are {glue:}`calc_test_n_cases` unique cases in the calcification testing set. \n",
    "\n",
    "```{glue:figure} calc_test_pathologies\n",
    "---\n",
    "align: center\n",
    "name: calc_test_pathologies_fig\n",
    "---\n",
    "Patient Count by Pathology\n",
    "```\n",
    "\n",
    "Similarly, {numref}`calc_test_pathologies_fig` reveals that {glue:}`calc_test_n_cases_multiple_pathologies` patients have multiple (two) abnormalities with different diagnoses. Let's inspect the data.\n",
    "\n",
    "```{glue:figure} calc_test_sample\n",
    "---\n",
    "align: center\n",
    "name: calc_test_sample_fig\n",
    "---\n",
    "Calcification Test Data Sample\n",
    "```\n",
    "\n",
    "Approximately 2% of the calcification types and 20% of the calcification distributions are missing. Let's examine the mass case data."
   ]
  },
  {
   "cell_type": "markdown",
   "id": "f7aad3b3",
   "metadata": {},
   "source": [
    "## Mass Cases"
   ]
  },
  {
   "cell_type": "markdown",
   "id": "7e6c540c",
   "metadata": {},
   "source": [
    "### Mass Train Cases\n",
    "\n",
    "We expect a total of 691 cases, 355 are benign and 336 are malignant."
   ]
  },
  {
   "cell_type": "code",
   "execution_count": 6,
   "id": "14855011",
   "metadata": {
    "tags": [
     "hide-input"
    ]
   },
   "outputs": [
    {
     "name": "stdout",
     "output_type": "stream",
     "text": [
      "<class 'pandas.core.frame.DataFrame'>\n",
      "RangeIndex: 1318 entries, 0 to 1317\n",
      "Data columns (total 14 columns):\n",
      " #   Column                   Non-Null Count  Dtype \n",
      "---  ------                   --------------  ----- \n",
      " 0   patient_id               1318 non-null   object\n",
      " 1   breast_density           1318 non-null   int64 \n",
      " 2   left or right breast     1318 non-null   object\n",
      " 3   image view               1318 non-null   object\n",
      " 4   abnormality id           1318 non-null   int64 \n",
      " 5   abnormality type         1318 non-null   object\n",
      " 6   mass shape               1314 non-null   object\n",
      " 7   mass margins             1275 non-null   object\n",
      " 8   assessment               1318 non-null   int64 \n",
      " 9   pathology                1318 non-null   object\n",
      " 10  subtlety                 1318 non-null   int64 \n",
      " 11  image file path          1318 non-null   object\n",
      " 12  cropped image file path  1318 non-null   object\n",
      " 13  ROI mask file path       1318 non-null   object\n",
      "dtypes: int64(4), object(10)\n",
      "memory usage: 144.3+ KB\n"
     ]
    }
   ],
   "source": [
    "df = pd.read_csv(fp_mass_train)\n",
    "df.info()"
   ]
  },
  {
   "cell_type": "code",
   "execution_count": 7,
   "id": "45750492",
   "metadata": {
    "tags": [
     "hide-input",
     "remove-output"
    ]
   },
   "outputs": [
    {
     "data": {
      "text/html": [
       "<div>\n",
       "<style scoped>\n",
       "    .dataframe tbody tr th:only-of-type {\n",
       "        vertical-align: middle;\n",
       "    }\n",
       "\n",
       "    .dataframe tbody tr th {\n",
       "        vertical-align: top;\n",
       "    }\n",
       "\n",
       "    .dataframe thead th {\n",
       "        text-align: right;\n",
       "    }\n",
       "</style>\n",
       "<table border=\"1\" class=\"dataframe\">\n",
       "  <thead>\n",
       "    <tr style=\"text-align: right;\">\n",
       "      <th></th>\n",
       "      <th>patient_id</th>\n",
       "      <th>breast_density</th>\n",
       "      <th>left or right breast</th>\n",
       "      <th>image view</th>\n",
       "      <th>abnormality id</th>\n",
       "      <th>abnormality type</th>\n",
       "      <th>mass shape</th>\n",
       "      <th>mass margins</th>\n",
       "      <th>assessment</th>\n",
       "      <th>pathology</th>\n",
       "      <th>subtlety</th>\n",
       "      <th>image file path</th>\n",
       "      <th>cropped image file path</th>\n",
       "      <th>ROI mask file path</th>\n",
       "    </tr>\n",
       "  </thead>\n",
       "  <tbody>\n",
       "    <tr>\n",
       "      <th>0</th>\n",
       "      <td>P_00001</td>\n",
       "      <td>3</td>\n",
       "      <td>LEFT</td>\n",
       "      <td>CC</td>\n",
       "      <td>1</td>\n",
       "      <td>mass</td>\n",
       "      <td>IRREGULAR-ARCHITECTURAL_DISTORTION</td>\n",
       "      <td>SPICULATED</td>\n",
       "      <td>4</td>\n",
       "      <td>MALIGNANT</td>\n",
       "      <td>4</td>\n",
       "      <td>Mass-Training_P_00001_LEFT_CC/1.3.6.1.4.1.9590...</td>\n",
       "      <td>Mass-Training_P_00001_LEFT_CC_1/1.3.6.1.4.1.95...</td>\n",
       "      <td>Mass-Training_P_00001_LEFT_CC_1/1.3.6.1.4.1.95...</td>\n",
       "    </tr>\n",
       "    <tr>\n",
       "      <th>1</th>\n",
       "      <td>P_00001</td>\n",
       "      <td>3</td>\n",
       "      <td>LEFT</td>\n",
       "      <td>MLO</td>\n",
       "      <td>1</td>\n",
       "      <td>mass</td>\n",
       "      <td>IRREGULAR-ARCHITECTURAL_DISTORTION</td>\n",
       "      <td>SPICULATED</td>\n",
       "      <td>4</td>\n",
       "      <td>MALIGNANT</td>\n",
       "      <td>4</td>\n",
       "      <td>Mass-Training_P_00001_LEFT_MLO/1.3.6.1.4.1.959...</td>\n",
       "      <td>Mass-Training_P_00001_LEFT_MLO_1/1.3.6.1.4.1.9...</td>\n",
       "      <td>Mass-Training_P_00001_LEFT_MLO_1/1.3.6.1.4.1.9...</td>\n",
       "    </tr>\n",
       "    <tr>\n",
       "      <th>2</th>\n",
       "      <td>P_00004</td>\n",
       "      <td>3</td>\n",
       "      <td>LEFT</td>\n",
       "      <td>CC</td>\n",
       "      <td>1</td>\n",
       "      <td>mass</td>\n",
       "      <td>ARCHITECTURAL_DISTORTION</td>\n",
       "      <td>ILL_DEFINED</td>\n",
       "      <td>4</td>\n",
       "      <td>BENIGN</td>\n",
       "      <td>3</td>\n",
       "      <td>Mass-Training_P_00004_LEFT_CC/1.3.6.1.4.1.9590...</td>\n",
       "      <td>Mass-Training_P_00004_LEFT_CC_1/1.3.6.1.4.1.95...</td>\n",
       "      <td>Mass-Training_P_00004_LEFT_CC_1/1.3.6.1.4.1.95...</td>\n",
       "    </tr>\n",
       "    <tr>\n",
       "      <th>3</th>\n",
       "      <td>P_00004</td>\n",
       "      <td>3</td>\n",
       "      <td>LEFT</td>\n",
       "      <td>MLO</td>\n",
       "      <td>1</td>\n",
       "      <td>mass</td>\n",
       "      <td>ARCHITECTURAL_DISTORTION</td>\n",
       "      <td>ILL_DEFINED</td>\n",
       "      <td>4</td>\n",
       "      <td>BENIGN</td>\n",
       "      <td>3</td>\n",
       "      <td>Mass-Training_P_00004_LEFT_MLO/1.3.6.1.4.1.959...</td>\n",
       "      <td>Mass-Training_P_00004_LEFT_MLO_1/1.3.6.1.4.1.9...</td>\n",
       "      <td>Mass-Training_P_00004_LEFT_MLO_1/1.3.6.1.4.1.9...</td>\n",
       "    </tr>\n",
       "    <tr>\n",
       "      <th>4</th>\n",
       "      <td>P_00004</td>\n",
       "      <td>3</td>\n",
       "      <td>RIGHT</td>\n",
       "      <td>MLO</td>\n",
       "      <td>1</td>\n",
       "      <td>mass</td>\n",
       "      <td>OVAL</td>\n",
       "      <td>CIRCUMSCRIBED</td>\n",
       "      <td>4</td>\n",
       "      <td>BENIGN</td>\n",
       "      <td>5</td>\n",
       "      <td>Mass-Training_P_00004_RIGHT_MLO/1.3.6.1.4.1.95...</td>\n",
       "      <td>Mass-Training_P_00004_RIGHT_MLO_1/1.3.6.1.4.1....</td>\n",
       "      <td>Mass-Training_P_00004_RIGHT_MLO_1/1.3.6.1.4.1....</td>\n",
       "    </tr>\n",
       "  </tbody>\n",
       "</table>\n",
       "</div>"
      ],
      "text/plain": [
       "  patient_id  breast_density left or right breast image view  abnormality id  \\\n",
       "0    P_00001               3                 LEFT         CC               1   \n",
       "1    P_00001               3                 LEFT        MLO               1   \n",
       "2    P_00004               3                 LEFT         CC               1   \n",
       "3    P_00004               3                 LEFT        MLO               1   \n",
       "4    P_00004               3                RIGHT        MLO               1   \n",
       "\n",
       "  abnormality type                          mass shape   mass margins  \\\n",
       "0             mass  IRREGULAR-ARCHITECTURAL_DISTORTION     SPICULATED   \n",
       "1             mass  IRREGULAR-ARCHITECTURAL_DISTORTION     SPICULATED   \n",
       "2             mass            ARCHITECTURAL_DISTORTION    ILL_DEFINED   \n",
       "3             mass            ARCHITECTURAL_DISTORTION    ILL_DEFINED   \n",
       "4             mass                                OVAL  CIRCUMSCRIBED   \n",
       "\n",
       "   assessment  pathology  subtlety  \\\n",
       "0           4  MALIGNANT         4   \n",
       "1           4  MALIGNANT         4   \n",
       "2           4     BENIGN         3   \n",
       "3           4     BENIGN         3   \n",
       "4           4     BENIGN         5   \n",
       "\n",
       "                                     image file path  \\\n",
       "0  Mass-Training_P_00001_LEFT_CC/1.3.6.1.4.1.9590...   \n",
       "1  Mass-Training_P_00001_LEFT_MLO/1.3.6.1.4.1.959...   \n",
       "2  Mass-Training_P_00004_LEFT_CC/1.3.6.1.4.1.9590...   \n",
       "3  Mass-Training_P_00004_LEFT_MLO/1.3.6.1.4.1.959...   \n",
       "4  Mass-Training_P_00004_RIGHT_MLO/1.3.6.1.4.1.95...   \n",
       "\n",
       "                             cropped image file path  \\\n",
       "0  Mass-Training_P_00001_LEFT_CC_1/1.3.6.1.4.1.95...   \n",
       "1  Mass-Training_P_00001_LEFT_MLO_1/1.3.6.1.4.1.9...   \n",
       "2  Mass-Training_P_00004_LEFT_CC_1/1.3.6.1.4.1.95...   \n",
       "3  Mass-Training_P_00004_LEFT_MLO_1/1.3.6.1.4.1.9...   \n",
       "4  Mass-Training_P_00004_RIGHT_MLO_1/1.3.6.1.4.1....   \n",
       "\n",
       "                                  ROI mask file path  \n",
       "0  Mass-Training_P_00001_LEFT_CC_1/1.3.6.1.4.1.95...  \n",
       "1  Mass-Training_P_00001_LEFT_MLO_1/1.3.6.1.4.1.9...  \n",
       "2  Mass-Training_P_00004_LEFT_CC_1/1.3.6.1.4.1.95...  \n",
       "3  Mass-Training_P_00004_LEFT_MLO_1/1.3.6.1.4.1.9...  \n",
       "4  Mass-Training_P_00004_RIGHT_MLO_1/1.3.6.1.4.1....  "
      ]
     },
     "metadata": {
      "scrapbook": {
       "mime_prefix": "",
       "name": "mass_train_sample"
      }
     },
     "output_type": "display_data"
    },
    {
     "data": {
      "text/plain": [
       "1318"
      ]
     },
     "metadata": {
      "scrapbook": {
       "mime_prefix": "",
       "name": "mass_train_n_records"
      }
     },
     "output_type": "display_data"
    },
    {
     "data": {
      "text/html": [
       "<div>\n",
       "<style scoped>\n",
       "    .dataframe tbody tr th:only-of-type {\n",
       "        vertical-align: middle;\n",
       "    }\n",
       "\n",
       "    .dataframe tbody tr th {\n",
       "        vertical-align: top;\n",
       "    }\n",
       "\n",
       "    .dataframe thead th {\n",
       "        text-align: right;\n",
       "    }\n",
       "</style>\n",
       "<table border=\"1\" class=\"dataframe\">\n",
       "  <thead>\n",
       "    <tr style=\"text-align: right;\">\n",
       "      <th></th>\n",
       "      <th>Pathology</th>\n",
       "      <th>Count</th>\n",
       "    </tr>\n",
       "  </thead>\n",
       "  <tbody>\n",
       "    <tr>\n",
       "      <th>0</th>\n",
       "      <td>BENIGN</td>\n",
       "      <td>304</td>\n",
       "    </tr>\n",
       "    <tr>\n",
       "      <th>1</th>\n",
       "      <td>BENIGN_WITHOUT_CALLBACK</td>\n",
       "      <td>54</td>\n",
       "    </tr>\n",
       "    <tr>\n",
       "      <th>2</th>\n",
       "      <td>MALIGNANT</td>\n",
       "      <td>346</td>\n",
       "    </tr>\n",
       "    <tr>\n",
       "      <th>Total</th>\n",
       "      <td></td>\n",
       "      <td>704</td>\n",
       "    </tr>\n",
       "  </tbody>\n",
       "</table>\n",
       "</div>"
      ],
      "text/plain": [
       "                     Pathology  Count\n",
       "0                       BENIGN    304\n",
       "1      BENIGN_WITHOUT_CALLBACK     54\n",
       "2                    MALIGNANT    346\n",
       "Total                             704"
      ]
     },
     "metadata": {
      "scrapbook": {
       "mime_prefix": "",
       "name": "mass_train_pathologies"
      }
     },
     "output_type": "display_data"
    },
    {
     "data": {
      "text/plain": [
       "691"
      ]
     },
     "metadata": {
      "scrapbook": {
       "mime_prefix": "",
       "name": "mass_train_n_cases"
      }
     },
     "output_type": "display_data"
    },
    {
     "data": {
      "text/plain": [
       "13"
      ]
     },
     "metadata": {
      "scrapbook": {
       "mime_prefix": "",
       "name": "mass_train_n_cases_multiple_pathologies"
      }
     },
     "output_type": "display_data"
    }
   ],
   "source": [
    "# Total record count\n",
    "n_records = len(df)\n",
    "\n",
    "# Sample\n",
    "sample = df.head()\n",
    "\n",
    "# Number of cases\n",
    "n_cases =  df['patient_id'].nunique()\n",
    "\n",
    "# Pathologies and patient counts.\n",
    "pathologies = df[['patient_id', 'pathology']].drop_duplicates().groupby(by='pathology').count().reset_index()\n",
    "pathologies.columns = ['Pathology', 'Count']\n",
    "pathologies.loc['Total'] = pathologies.sum()\n",
    "pathologies.loc[pathologies.index[-1], 'Pathology'] = \"\"\n",
    "\n",
    "# Number of patients with multiple abnormalities and diagnoses\n",
    "case_pathologies = df[['patient_id', 'pathology']].drop_duplicates().groupby(by='patient_id').count()\n",
    "n_cases_multiple_pathologies = len(case_pathologies.loc[case_pathologies['pathology']==2])\n",
    "\n",
    "glue('mass_train_sample', sample)\n",
    "glue('mass_train_n_records', n_records)\n",
    "glue('mass_train_pathologies', pathologies)\n",
    "glue('mass_train_n_cases', n_cases)\n",
    "glue('mass_train_n_cases_multiple_pathologies', n_cases_multiple_pathologies)\n"
   ]
  },
  {
   "cell_type": "markdown",
   "id": "9f59197e",
   "metadata": {},
   "source": [
    "Of the {glue:}`mass_train_n_records` observations, there are {glue:}`mass_train_n_cases` unique cases in the mass training set. The following summarizes the pathologies.\n",
    "\n",
    "```{glue:figure} mass_train_pathologies\n",
    "---\n",
    "align: center\n",
    "name: mass_train_pathologies_fig\n",
    "---\n",
    "Patient Count by Pathology\n",
    "```\n",
    "\n",
    "{numref}`mass_train_pathologies_fig` indicates that there are {glue:}`mass_train_n_cases_multiple_pathologies` patients with two pathologies, bringing our total to 704 diagnoses.\n",
    "\n",
    "```{glue:figure} mass_train_sample\n",
    "---\n",
    "align: center\n",
    "name: mass_train_sample_fig\n",
    "---\n",
    "Mass Training Data Sample\n",
    "```\n",
    "\n",
    "Only missing 1% of the mass shapes, and 4% of the mass margins. Let's check the test set.\n"
   ]
  },
  {
   "cell_type": "markdown",
   "id": "b1cf1a92",
   "metadata": {},
   "source": [
    "### Mass Test Cases"
   ]
  },
  {
   "cell_type": "code",
   "execution_count": 11,
   "id": "7a252ef8",
   "metadata": {
    "tags": [
     "hide-cell"
    ]
   },
   "outputs": [
    {
     "name": "stdout",
     "output_type": "stream",
     "text": [
      "<class 'pandas.core.frame.DataFrame'>\n",
      "RangeIndex: 378 entries, 0 to 377\n",
      "Data columns (total 14 columns):\n",
      " #   Column                   Non-Null Count  Dtype \n",
      "---  ------                   --------------  ----- \n",
      " 0   patient_id               378 non-null    object\n",
      " 1   breast_density           378 non-null    int64 \n",
      " 2   left or right breast     378 non-null    object\n",
      " 3   image view               378 non-null    object\n",
      " 4   abnormality id           378 non-null    int64 \n",
      " 5   abnormality type         378 non-null    object\n",
      " 6   mass shape               378 non-null    object\n",
      " 7   mass margins             361 non-null    object\n",
      " 8   assessment               378 non-null    int64 \n",
      " 9   pathology                378 non-null    object\n",
      " 10  subtlety                 378 non-null    int64 \n",
      " 11  image file path          378 non-null    object\n",
      " 12  cropped image file path  378 non-null    object\n",
      " 13  ROI mask file path       378 non-null    object\n",
      "dtypes: int64(4), object(10)\n",
      "memory usage: 41.5+ KB\n"
     ]
    }
   ],
   "source": [
    "df = pd.read_csv(fp_mass_test)\n",
    "df.info()"
   ]
  },
  {
   "cell_type": "code",
   "execution_count": 9,
   "id": "0c5cea8b",
   "metadata": {},
   "outputs": [
    {
     "data": {
      "text/html": [
       "<div>\n",
       "<style scoped>\n",
       "    .dataframe tbody tr th:only-of-type {\n",
       "        vertical-align: middle;\n",
       "    }\n",
       "\n",
       "    .dataframe tbody tr th {\n",
       "        vertical-align: top;\n",
       "    }\n",
       "\n",
       "    .dataframe thead th {\n",
       "        text-align: right;\n",
       "    }\n",
       "</style>\n",
       "<table border=\"1\" class=\"dataframe\">\n",
       "  <thead>\n",
       "    <tr style=\"text-align: right;\">\n",
       "      <th></th>\n",
       "      <th>patient_id</th>\n",
       "      <th>breast density</th>\n",
       "      <th>left or right breast</th>\n",
       "      <th>image view</th>\n",
       "      <th>abnormality id</th>\n",
       "      <th>abnormality type</th>\n",
       "      <th>calc type</th>\n",
       "      <th>calc distribution</th>\n",
       "      <th>assessment</th>\n",
       "      <th>pathology</th>\n",
       "      <th>subtlety</th>\n",
       "      <th>image file path</th>\n",
       "      <th>cropped image file path</th>\n",
       "      <th>ROI mask file path</th>\n",
       "    </tr>\n",
       "  </thead>\n",
       "  <tbody>\n",
       "    <tr>\n",
       "      <th>0</th>\n",
       "      <td>P_00038</td>\n",
       "      <td>2</td>\n",
       "      <td>LEFT</td>\n",
       "      <td>CC</td>\n",
       "      <td>1</td>\n",
       "      <td>calcification</td>\n",
       "      <td>PUNCTATE-PLEOMORPHIC</td>\n",
       "      <td>CLUSTERED</td>\n",
       "      <td>4</td>\n",
       "      <td>BENIGN</td>\n",
       "      <td>2</td>\n",
       "      <td>Calc-Test_P_00038_LEFT_CC/1.3.6.1.4.1.9590.100...</td>\n",
       "      <td>Calc-Test_P_00038_LEFT_CC_1/1.3.6.1.4.1.9590.1...</td>\n",
       "      <td>Calc-Test_P_00038_LEFT_CC_1/1.3.6.1.4.1.9590.1...</td>\n",
       "    </tr>\n",
       "    <tr>\n",
       "      <th>1</th>\n",
       "      <td>P_00038</td>\n",
       "      <td>2</td>\n",
       "      <td>LEFT</td>\n",
       "      <td>MLO</td>\n",
       "      <td>1</td>\n",
       "      <td>calcification</td>\n",
       "      <td>PUNCTATE-PLEOMORPHIC</td>\n",
       "      <td>CLUSTERED</td>\n",
       "      <td>4</td>\n",
       "      <td>BENIGN</td>\n",
       "      <td>2</td>\n",
       "      <td>Calc-Test_P_00038_LEFT_MLO/1.3.6.1.4.1.9590.10...</td>\n",
       "      <td>Calc-Test_P_00038_LEFT_MLO_1/1.3.6.1.4.1.9590....</td>\n",
       "      <td>Calc-Test_P_00038_LEFT_MLO_1/1.3.6.1.4.1.9590....</td>\n",
       "    </tr>\n",
       "    <tr>\n",
       "      <th>2</th>\n",
       "      <td>P_00038</td>\n",
       "      <td>2</td>\n",
       "      <td>RIGHT</td>\n",
       "      <td>CC</td>\n",
       "      <td>1</td>\n",
       "      <td>calcification</td>\n",
       "      <td>VASCULAR</td>\n",
       "      <td>NaN</td>\n",
       "      <td>2</td>\n",
       "      <td>BENIGN_WITHOUT_CALLBACK</td>\n",
       "      <td>5</td>\n",
       "      <td>Calc-Test_P_00038_RIGHT_CC/1.3.6.1.4.1.9590.10...</td>\n",
       "      <td>Calc-Test_P_00038_RIGHT_CC_1/1.3.6.1.4.1.9590....</td>\n",
       "      <td>Calc-Test_P_00038_RIGHT_CC_1/1.3.6.1.4.1.9590....</td>\n",
       "    </tr>\n",
       "    <tr>\n",
       "      <th>3</th>\n",
       "      <td>P_00038</td>\n",
       "      <td>2</td>\n",
       "      <td>RIGHT</td>\n",
       "      <td>CC</td>\n",
       "      <td>2</td>\n",
       "      <td>calcification</td>\n",
       "      <td>VASCULAR</td>\n",
       "      <td>NaN</td>\n",
       "      <td>2</td>\n",
       "      <td>BENIGN_WITHOUT_CALLBACK</td>\n",
       "      <td>5</td>\n",
       "      <td>Calc-Test_P_00038_RIGHT_CC/1.3.6.1.4.1.9590.10...</td>\n",
       "      <td>Calc-Test_P_00038_RIGHT_CC_2/1.3.6.1.4.1.9590....</td>\n",
       "      <td>Calc-Test_P_00038_RIGHT_CC_2/1.3.6.1.4.1.9590....</td>\n",
       "    </tr>\n",
       "    <tr>\n",
       "      <th>4</th>\n",
       "      <td>P_00038</td>\n",
       "      <td>2</td>\n",
       "      <td>RIGHT</td>\n",
       "      <td>MLO</td>\n",
       "      <td>1</td>\n",
       "      <td>calcification</td>\n",
       "      <td>VASCULAR</td>\n",
       "      <td>NaN</td>\n",
       "      <td>2</td>\n",
       "      <td>BENIGN_WITHOUT_CALLBACK</td>\n",
       "      <td>5</td>\n",
       "      <td>Calc-Test_P_00038_RIGHT_MLO/1.3.6.1.4.1.9590.1...</td>\n",
       "      <td>Calc-Test_P_00038_RIGHT_MLO_1/1.3.6.1.4.1.9590...</td>\n",
       "      <td>Calc-Test_P_00038_RIGHT_MLO_1/1.3.6.1.4.1.9590...</td>\n",
       "    </tr>\n",
       "  </tbody>\n",
       "</table>\n",
       "</div>"
      ],
      "text/plain": [
       "  patient_id  breast density left or right breast image view  abnormality id  \\\n",
       "0    P_00038               2                 LEFT         CC               1   \n",
       "1    P_00038               2                 LEFT        MLO               1   \n",
       "2    P_00038               2                RIGHT         CC               1   \n",
       "3    P_00038               2                RIGHT         CC               2   \n",
       "4    P_00038               2                RIGHT        MLO               1   \n",
       "\n",
       "  abnormality type             calc type calc distribution  assessment  \\\n",
       "0    calcification  PUNCTATE-PLEOMORPHIC         CLUSTERED           4   \n",
       "1    calcification  PUNCTATE-PLEOMORPHIC         CLUSTERED           4   \n",
       "2    calcification              VASCULAR               NaN           2   \n",
       "3    calcification              VASCULAR               NaN           2   \n",
       "4    calcification              VASCULAR               NaN           2   \n",
       "\n",
       "                 pathology  subtlety  \\\n",
       "0                   BENIGN         2   \n",
       "1                   BENIGN         2   \n",
       "2  BENIGN_WITHOUT_CALLBACK         5   \n",
       "3  BENIGN_WITHOUT_CALLBACK         5   \n",
       "4  BENIGN_WITHOUT_CALLBACK         5   \n",
       "\n",
       "                                     image file path  \\\n",
       "0  Calc-Test_P_00038_LEFT_CC/1.3.6.1.4.1.9590.100...   \n",
       "1  Calc-Test_P_00038_LEFT_MLO/1.3.6.1.4.1.9590.10...   \n",
       "2  Calc-Test_P_00038_RIGHT_CC/1.3.6.1.4.1.9590.10...   \n",
       "3  Calc-Test_P_00038_RIGHT_CC/1.3.6.1.4.1.9590.10...   \n",
       "4  Calc-Test_P_00038_RIGHT_MLO/1.3.6.1.4.1.9590.1...   \n",
       "\n",
       "                             cropped image file path  \\\n",
       "0  Calc-Test_P_00038_LEFT_CC_1/1.3.6.1.4.1.9590.1...   \n",
       "1  Calc-Test_P_00038_LEFT_MLO_1/1.3.6.1.4.1.9590....   \n",
       "2  Calc-Test_P_00038_RIGHT_CC_1/1.3.6.1.4.1.9590....   \n",
       "3  Calc-Test_P_00038_RIGHT_CC_2/1.3.6.1.4.1.9590....   \n",
       "4  Calc-Test_P_00038_RIGHT_MLO_1/1.3.6.1.4.1.9590...   \n",
       "\n",
       "                                  ROI mask file path  \n",
       "0  Calc-Test_P_00038_LEFT_CC_1/1.3.6.1.4.1.9590.1...  \n",
       "1  Calc-Test_P_00038_LEFT_MLO_1/1.3.6.1.4.1.9590....  \n",
       "2  Calc-Test_P_00038_RIGHT_CC_1/1.3.6.1.4.1.9590....  \n",
       "3  Calc-Test_P_00038_RIGHT_CC_2/1.3.6.1.4.1.9590....  \n",
       "4  Calc-Test_P_00038_RIGHT_MLO_1/1.3.6.1.4.1.9590...  "
      ]
     },
     "metadata": {
      "scrapbook": {
       "mime_prefix": "",
       "name": "mass_test_sample"
      }
     },
     "output_type": "display_data"
    },
    {
     "data": {
      "text/plain": [
       "326"
      ]
     },
     "metadata": {
      "scrapbook": {
       "mime_prefix": "",
       "name": "mass_test_n_records"
      }
     },
     "output_type": "display_data"
    },
    {
     "data": {
      "text/html": [
       "<div>\n",
       "<style scoped>\n",
       "    .dataframe tbody tr th:only-of-type {\n",
       "        vertical-align: middle;\n",
       "    }\n",
       "\n",
       "    .dataframe tbody tr th {\n",
       "        vertical-align: top;\n",
       "    }\n",
       "\n",
       "    .dataframe thead th {\n",
       "        text-align: right;\n",
       "    }\n",
       "</style>\n",
       "<table border=\"1\" class=\"dataframe\">\n",
       "  <thead>\n",
       "    <tr style=\"text-align: right;\">\n",
       "      <th></th>\n",
       "      <th>Pathology</th>\n",
       "      <th>Count</th>\n",
       "    </tr>\n",
       "  </thead>\n",
       "  <tbody>\n",
       "    <tr>\n",
       "      <th>0</th>\n",
       "      <td>BENIGN</td>\n",
       "      <td>70</td>\n",
       "    </tr>\n",
       "    <tr>\n",
       "      <th>1</th>\n",
       "      <td>BENIGN_WITHOUT_CALLBACK</td>\n",
       "      <td>17</td>\n",
       "    </tr>\n",
       "    <tr>\n",
       "      <th>2</th>\n",
       "      <td>MALIGNANT</td>\n",
       "      <td>67</td>\n",
       "    </tr>\n",
       "    <tr>\n",
       "      <th>Total</th>\n",
       "      <td></td>\n",
       "      <td>154</td>\n",
       "    </tr>\n",
       "  </tbody>\n",
       "</table>\n",
       "</div>"
      ],
      "text/plain": [
       "                     Pathology  Count\n",
       "0                       BENIGN     70\n",
       "1      BENIGN_WITHOUT_CALLBACK     17\n",
       "2                    MALIGNANT     67\n",
       "Total                             154"
      ]
     },
     "metadata": {
      "scrapbook": {
       "mime_prefix": "",
       "name": "mass_test_pathologies"
      }
     },
     "output_type": "display_data"
    },
    {
     "data": {
      "text/plain": [
       "151"
      ]
     },
     "metadata": {
      "scrapbook": {
       "mime_prefix": "",
       "name": "mass_test_n_cases"
      }
     },
     "output_type": "display_data"
    },
    {
     "data": {
      "text/plain": [
       "3"
      ]
     },
     "metadata": {
      "scrapbook": {
       "mime_prefix": "",
       "name": "mass_test_n_cases_multiple_pathologies"
      }
     },
     "output_type": "display_data"
    }
   ],
   "source": [
    "# Total record count\n",
    "n_records = len(df)\n",
    "\n",
    "# Sample\n",
    "sample = df.head()\n",
    "\n",
    "# Number of cases\n",
    "n_cases =  df['patient_id'].nunique()\n",
    "\n",
    "# Pathologies and patient counts.\n",
    "pathologies = df[['patient_id', 'pathology']].drop_duplicates().groupby(by='pathology').count().reset_index()\n",
    "pathologies.columns = ['Pathology', 'Count']\n",
    "pathologies.loc['Total'] = pathologies.sum()\n",
    "pathologies.loc[pathologies.index[-1], 'Pathology'] = \"\"\n",
    "\n",
    "# Number of patients with multiple abnormalities and diagnoses\n",
    "case_pathologies = df[['patient_id', 'pathology']].drop_duplicates().groupby(by='patient_id').count()\n",
    "n_cases_multiple_pathologies = len(case_pathologies.loc[case_pathologies['pathology']==2])\n",
    "\n",
    "glue('mass_test_sample', sample)\n",
    "glue('mass_test_n_records', n_records)\n",
    "glue('mass_test_pathologies', pathologies)\n",
    "glue('mass_test_n_cases', n_cases)\n",
    "glue('mass_test_n_cases_multiple_pathologies', n_cases_multiple_pathologies)\n",
    "\n"
   ]
  },
  {
   "cell_type": "markdown",
   "id": "12577d89",
   "metadata": {},
   "source": [
    "Of the {glue:}`mass_test_n_records` observations, there are {glue:}`mass_test_n_cases` unique cases in the mass testing set. \n",
    "\n",
    "```{glue:figure} mass_test_pathologies\n",
    "---\n",
    "align: center\n",
    "name: mass_test_pathologies_fig\n",
    "---\n",
    "Patient Count by Pathology\n",
    "```\n",
    "\n",
    "Here, {numref}`mass_test_pathologies_fig` shows that there are {glue:}`mass_test_n_cases_multiple_pathologies` patients with two abnormalities with different pathologies, bringing our total to 154 assessments.\n",
    "\n",
    "```{glue:figure} mass_test_sample\n",
    "---\n",
    "align: center\n",
    "name: mass_test_sample_fig\n",
    "---\n",
    "Mass Test Data Sample\n",
    "```\n",
    "\n",
    "About 4% of the mass margins are missing from the test set. Next, we'll examine the series metadata."
   ]
  },
  {
   "cell_type": "code",
   "execution_count": 10,
   "id": "41378cd6",
   "metadata": {},
   "outputs": [
    {
     "name": "stdout",
     "output_type": "stream",
     "text": [
      "<class 'pandas.core.frame.DataFrame'>\n",
      "RangeIndex: 6775 entries, 0 to 6774\n",
      "Data columns (total 14 columns):\n",
      " #   Column                Non-Null Count  Dtype \n",
      "---  ------                --------------  ----- \n",
      " 0   series_uid            6775 non-null   object\n",
      " 1   collection            6775 non-null   object\n",
      " 2   data_description_uri  6775 non-null   object\n",
      " 3   subject_id            6775 non-null   object\n",
      " 4   study_uid             6775 non-null   object\n",
      " 5   study_date            6775 non-null   object\n",
      " 6   series_description    6775 non-null   object\n",
      " 7   modality              6775 non-null   object\n",
      " 8   sop_class_name        6775 non-null   object\n",
      " 9   sop_class_uid         6775 non-null   object\n",
      " 10  number_of_images      6775 non-null   int64 \n",
      " 11  file_size             6775 non-null   object\n",
      " 12  file_location         6775 non-null   object\n",
      " 13  download_timestamp    6775 non-null   object\n",
      "dtypes: int64(1), object(13)\n",
      "memory usage: 741.1+ KB\n"
     ]
    }
   ],
   "source": [
    "df = pd.read_csv(fp_metadata)\n",
    "df.info()\n",
    "\n",
    "sample = df.head()\n",
    "glue('series_sample', sample)"
   ]
  },
  {
   "cell_type": "markdown",
   "id": "3522d410",
   "metadata": {},
   "source": [
    "```{glue:figure} series_sample\n",
    "---\n",
    "align: center\n",
    "name: series_sample_fig\n",
    "---\n",
    "Series Metadata Sample\n",
    "```\n",
    "\n",
    "Here, we have the series and study information for each set of images. The file locations indicate folders containing full mammogram, ROI, and cropped images. \n",
    "\n",
    "Next, we unbox the DICOM images. While doing so, we'll extract statistics on the pixel values for the exploratory analysis."
   ]
  },
  {
   "cell_type": "markdown",
   "id": "5fed668c",
   "metadata": {},
   "source": [
    "A few of things stand out thus far.\n",
    "\n",
    "1. About 2% of the calcification types and 25% of the calcification distributions are missing. \n",
    "2. We have a third *unexpected* pathology for our binary classification problem: 'BENIGN_WITHOUT_CALLBACK'. Benign without callback implies that a physician marked some aspect of the case as worth tracking, but did not require further followup {cite}`DDSMOverviewVolumea`. Changing these diagnoses to 'BENIGN' at this stage risks losing information that may explain other anomalies or missing values in the dataset. Rather than risk information loss, we'll add a new binary feature to indicate malignant (True) or a benign (False).\n",
    "3. A quick check revealed that the file paths in the case datasets are not consistent with the data downloaded from the TCIA. However, they contain study and series uids corresponding to DICOM image metadata which may help link cases to images.\n",
    "\n",
    "The following summarizes the pathologies.\n"
   ]
  }
 ],
 "metadata": {
  "kernelspec": {
   "display_name": "bcd",
   "language": "python",
   "name": "python3"
  },
  "language_info": {
   "codemirror_mode": {
    "name": "ipython",
    "version": 3
   },
   "file_extension": ".py",
   "mimetype": "text/x-python",
   "name": "python",
   "nbconvert_exporter": "python",
   "pygments_lexer": "ipython3",
   "version": "3.10.12"
  }
 },
 "nbformat": 4,
 "nbformat_minor": 5
}
