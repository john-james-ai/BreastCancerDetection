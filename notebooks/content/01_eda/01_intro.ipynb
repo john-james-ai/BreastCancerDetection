{
 "cells": [
  {
   "cell_type": "markdown",
   "id": "02a1c535",
   "metadata": {},
   "source": [
    "# EDA Part 1: Introduction\n",
    "\n",
    "In this section, we conduct an exploratory data analysis of the CBIS-DDSM dataset with several goals in mind:\n",
    "\n",
    "1. Maximize insight into the data and the factors that influence screening results in the CBIS-DDSM dataset.\n",
    "2. Assess the quality of the digital mammography in the CBIS-DDSM dataset.\n",
    "3. Select optimal methods and parameters for preprocessing tasks such as denoising and artifact removal.\n",
    "\n",
    "The exploratory data analysis will be structured as follows:\n",
    "\n",
    "{numref}`eda2` explores the case metadata for insights into screening and diagnosis of calcification and mass abnormalities in the dataset. {numref}`eda3` examines the quality and characteristics of the CBIS-DDSM images vis-à-vis abnormality type and morphological features of calcifications and masses. Finally, {numref}`eda4` evaluates methods and optimal parameter settings for preprocessing tasks such as denoising and artifact removal."
   ]
  }
 ],
 "metadata": {
  "kernelspec": {
   "display_name": "Python 3",
   "language": "python",
   "name": "python3"
  }
 },
 "nbformat": 4,
 "nbformat_minor": 5
}
