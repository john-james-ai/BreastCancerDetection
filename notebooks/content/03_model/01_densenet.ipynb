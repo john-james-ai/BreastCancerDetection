{
 "cells": [
  {
   "cell_type": "markdown",
   "metadata": {},
   "source": [
    "# DenseNet\n",
    "\n",
    "Dense Convolutional Network (DenseNet) {cite}`huangDenselyConnectedConvolutional2018a`, introduced by Gao Huang and Kilian Weinberger of Cornell University,  Zhuang Liu of Tsinghua University, and Laurens van der Maaten of Facebook AI Research (FAIR) is among the most influential convolutional neural network (CNN) architectures of the past decade. With over 41,600 citations, the publication received Best Paper honors in the 2017 Conference on Computer Vision and Pattern Recognition (CVPR). \n",
    "\n",
    "## DenseNet Architecture\n",
    "A typical convolutional neural network (CNN) architecture is comprised of one or more blocks of convolutional and pooling layers, fully connected layer(s), and an output layer that generates the predictions. \n",
    "\n",
    "```{figure} ../../figures/cnn.png\n",
    "---\n",
    "align: center\n",
    "---\n",
    "Traditional Convolutional Network\n",
    "```\n",
    "\n",
    "Each layer, generally speaking, takes feature maps from the previous layer, performs a convolution or pooling operation, and produces feature maps for the subsequent layer. For the $L$ layers in a CNN, there are typically $L$ connections – one between each layer and its subsequent layer.\n",
    "\n",
    "As CNNs become deeper, and the number of layers increases, the problem of vanishing gradients becomes emergent. Vanishing gradients occur when the partial derivatives of the activation functions gradually diminish as they propagate back through the network.\n",
    "\n",
    "In a DenseNet architecture, each layer is connected to every other layer, thereby increasing information flow through the network, strengthening feature propagation, and alleviating the vanishing gradient problem. \n",
    "\n",
    "Each layer $l$ in a DenseNet architecture receives $l$ inputs, consisting of concatenated feature maps from all preceding layers, and passes its feature maps to all $L-l$ subsequent layers. {numref}`densenet_blocks` illustrates the layout. \n",
    "\n",
    "```{figure} ../../figures/densenet_architecture.png\n",
    "---\n",
    "align: center\n",
    "---\n",
    "Densely Connected Convolutional Network\n",
    "```\n",
    "\n",
    "Hence a $L$ layer DenseNet has $\\frac{L(L+1)}{2}$ connections. \n",
    "\n",
    "```{math}\n",
    ":label: densenet_input\n",
    "X_l=\\mathcal{H}_l([x_0,x_1,…,x_{l-1}),\n",
    "```\n",
    "\n",
    "where $[x_0,x_1,…,x_{l-1}]$ refers to the concatenation of the feature maps produced in layers $0,…,l-1$.\n",
    "\n",
    "The DenseNet architecture can be further described in terms of its dense blocks, transition layers, bottleneck layers, and growth rate.\n",
    "\n",
    "### Dense Blocks\n",
    "\n",
    "A DenseNet is comprised of four (4) dense blocks, each containing four composite functions. Each composite function performs three consecutive operations: batch normalization (BN), followed by a rectified linear unit (ReLU), then a 3 x 3 convolution (Conv) as shown in {numref}`densenet_dense_block`.\n",
    "\n",
    "```{figure} ../../figures/densenet_composition.gif\n",
    "---\n",
    "align: center\n",
    "---\n",
    "DenseNet Composition Layer\n",
    "```\n",
    "\n",
    "Four sets of $k$ channel feature maps are generated, concatenated, and then passed on to a transition layer.\n",
    "\n",
    "### Transition Layer\n",
    "\n",
    "Between each dense block, transition layers perform the convolution and pooling operation, down-sampling the feature maps for subsequent dense blocks. \n",
    "\n",
    "```{figure} ../../figures/dense_blocks.png\n",
    "---\n",
    "align: center\n",
    "---\n",
    "Multiple Dense Blocks and Transition Layers\n",
    "```\n",
    "\n",
    "The transition layer consists of a batch normalization layer, a 1 x 1 convolutional layer, and a 2 x 2 average pooling layer.\n",
    "\n",
    "### Bottleneck Layers\n",
    "\n",
    "Bottleneck layers reduce the number of feature maps in the dense blocks and improve computational efficiency. A 1 x 1 convolution reduces the output channel dimensions before the 3 x 3 convolution in each block.\n",
    "\n",
    "```{figure} ../../figures/densenet_bottleneck.png\n",
    "---\n",
    "align: center\n",
    "---\n",
    "Bottleneck Layers\n",
    "```\n",
    "\n",
    "The BN-ReLU-Conv(1x1)-BN-ReLU-Conv(3X3) above is referred to as the DenseNet-B Bottleneck Layer.\n",
    "\n",
    "### Growth Rate\n",
    "\n",
    "DenseNet layers are also very narrow, in that each layer contributes $k$ feature maps to the ‘collective knowledge’ of the network, while the remaining feature maps are kept unchanged. \n",
    "```{figure} ../../figures/densenet_growth.png\n",
    "---\n",
    "align: center\n",
    "---\n",
    "DenseNet Growth Rate\n",
    "```\n",
    "The hyperparameter $k$ is known as the *growth rate* of the network. It regulates how much new information each layer contributes to the global state. Once written, the global state can be accessed everywhere in the network; hence, no need to replicate it from layer to layer.\n",
    "\n",
    "## DenseNet Architecture Benefits \n",
    "Several key benefits are derived from the DenseNet architecture.\n",
    "\n",
    "### Parameter Efficiency: \n",
    "DenseNet can achieve SOTA performance matching that of ResNet with only 0.8M parameters, as compared to 10.2M parameters with ResNet. DenseNet250 with 15.3M parameters consistently outperforms models such as FractaNet and Wide ResNets that have more than 30M parameters.\n",
    "\n",
    "### Computational Efficiency\n",
    "```{figure} ../../figures/densenet_efficiency.png\n",
    "---\n",
    "align: center\n",
    "---\n",
    "DenseNet Computational Efficiency\n",
    "```\n",
    "The number of parameters in the ResNet model is directly proportional to the number of input and output feature maps:  C x C; whereas, the number of parameters in the DenseNet architecture is directly proportional to the number of layers and the growth rate as ($l$ x $k$ x $k$), where $k<<C$.\n",
    "\n",
    "### Improved Gradient Flow\n",
    "Each layer has direct access to the gradients from the loss function and to the original input signal, which helps with the training of deeper network architectures.\n",
    "\n",
    "### Reduced Overfitting\n",
    "Dense connections have a regularizing effect which reduces overfitting on tasks with smaller training sets.\n",
    "\n",
    "### Implicit Deep Supervision:\n",
    "A single DenseNet loss function performs deep supervision of all layers through at most two or three transition layers. \n",
    "\n",
    "```{figure} ../../figures/densenet_deep_supervision.png\n",
    "---\n",
    "align: center\n",
    "---\n",
    "Densely Connected Convolutional Network\n",
    "```\n",
    "\n",
    "### Diversified Features\n",
    "Since each layer in DenseNet receives all the output from the preceding layers, it is exposed to a more diversified feature set which tends to present richer patterns. \n",
    "\n",
    "```{figure} ../../figures/densenet_diversified.png\n",
    "---\n",
    "align: center\n",
    "---\n",
    "Densely Connected Convolutional Network\n",
    "```\n",
    "\n",
    "### Low Complexity Features\n",
    "In standard convolutional networks, classifiers make predictions based on the high complexity features of the top of the network. \n",
    "\n",
    "```{figure} ../../figures/densenet_std_feature_complexity.png\n",
    "---\n",
    "align: center\n",
    "---\n",
    "Traditional Convolutional Networks High Complexity Features\n",
    "```\n",
    "As a consequence of the dense connection architecture, DenseNet classifiers leverage the range of feature complexity levels when making predictions. \n",
    "\n",
    "```{figure} ../../figures/densenet_feature_complexity.png\n",
    "---\n",
    "align: center\n",
    "---\n",
    "DenseNet Full Range of Feature Complexity\n",
    "```"
   ]
  },
  {
   "cell_type": "code",
   "execution_count": 1,
   "metadata": {},
   "outputs": [],
   "source": [
    "import os\n",
    "import wandb\n",
    "import pathlib\n",
    "import pandas as pd\n",
    "import tensorflow as tf\n",
    "\n",
    "from bcd.model.repo import ModelRepo\n",
    "from bcd.model.factory import DenseNetFactory\n",
    "from bcd.model.transfer import FineTuner\n",
    "from bcd.model.callback import Historian\n",
    "from bcd.model.schedule import LinearThawSchedule, LogThawSchedule, LinearLearningRateSchedule, LogLearningRateSchedule\n",
    "pd.set_option('display.max_rows',999)\n"
   ]
  },
  {
   "cell_type": "markdown",
   "metadata": {},
   "source": [
    "## Configuration"
   ]
  },
  {
   "cell_type": "code",
   "execution_count": 2,
   "metadata": {},
   "outputs": [
    {
     "name": "stdout",
     "output_type": "stream",
     "text": [
      "env: \"WANDB_NOTEBOOK_NAME\"=\"01_densenet.ipynb\"\n"
     ]
    }
   ],
   "source": [
    "# W&B\n",
    "%env \"WANDB_NOTEBOOK_NAME\" \"01_densenet.ipynb\"\n",
    "project = \"breast_cancer_detection\"\n",
    "\n",
    "# Model Parameters\n",
    "full_dataset = True\n",
    "model_name = \"densenet\" if full_dataset else \"densenet_10\"\n",
    "version=\"v4_log\"\n",
    "name = f\"{model_name}_{version}\"\n",
    "force = False  # Whether to retrain if the model and weights already exist from a prior training session.\n",
    "metrics = ['accuracy', tf.keras.metrics.Precision(), tf.keras.metrics.Recall()]\n",
    "base_model_layer = 5 # Layer of the DenseNet base model\n",
    "loss = \"binary_crossentropy\"\n",
    "activation = \"sigmoid\"\n",
    "\n",
    "# Dataset params\n",
    "batch_size = 64 if full_dataset else 32\n",
    "input_shape = (224,224,3)\n",
    "output_shape = 1\n",
    "train_dir = pathlib.Path(\"data/image/1_final/training/training/\").with_suffix('') if full_dataset else pathlib.Path(\"data/image/1_final/training_10/training/\").with_suffix('') \n",
    "test_dir = pathlib.Path(\"data/image/1_final/test/test/\").with_suffix('')\n",
    "\n",
    "# Feature Extraction Parameters\n",
    "initial_epochs = 100  # Number of epochs to train for feature extraction\n",
    "fe_learning_rate = 1e-4\n",
    "\n",
    "# Fine Tune Parameters\n",
    "fine_tune_epochs = 10  # Number of epochs for each fine tune session\n",
    "fine_tune_sessions = 10 # Number of fine tune sessions\n",
    "fine_tune_min_lr = 1e-7\n",
    "fine_tune_max_lr = 1e-4\n",
    "\n",
    "\n",
    "# Early stop parameters \n",
    "es_min_delta = 0.0001\n",
    "es_monitor = \"val_loss\"  # Monitor validation loss for early stopping\n",
    "es_patience = 8  # The number of consecutive epochs for which lack of improvement is tolerated \n",
    "es_restore_best_weights = True  # Returns the best weights rather than the weights at the last epoch.\n",
    "es_verbose = 1\n",
    "es_session_patience = None # The number of fine tuning sessions for which lack of improvement is tolerated. If None, no early stopping at session level\n",
    "\n",
    "# Reduce LR on Plateau Parameters\n",
    "rlr_monitor = \"val_loss\"\n",
    "rlr_factor = 0.5\n",
    "rlr_patience = 3\n",
    "rlr_verbose = 1\n",
    "rlr_mode = \"auto\"\n",
    "rlr_min_delta = 0.0001\n",
    "rlr_min_lr=1e-10\n",
    "\n",
    "# ModelCheckpoint Callback parameters\n",
    "mcp_location = \"models/\"\n",
    "mcp_mode = \"auto\"\n",
    "mcp_save_weights_only = False\n",
    "mcp_save_best_only = True\n",
    "mcp_save_freq = \"epoch\"\n",
    "mcp_verbose = 1\n",
    "\n",
    "# Historian parameters\n",
    "filename = f\"{name}_history.pkl\"\n",
    "historian_filepath = os.path.join(\"models\", name, filename)\n",
    "\n"
   ]
  },
  {
   "cell_type": "markdown",
   "metadata": {},
   "source": [
    "## Experiment Setup"
   ]
  },
  {
   "cell_type": "code",
   "execution_count": 3,
   "metadata": {},
   "outputs": [],
   "source": [
    "config = {\n",
    "    \"architecture\": \"cnn\",\n",
    "    \"model_name\": model_name,\n",
    "    \"version\": version,\n",
    "    \"dataset\": \"CBIS-DDSM-10\",\n",
    "    \"batch_size\": batch_size,\n",
    "    \"initial_epochs\": initial_epochs,\n",
    "    \"fine_tune_epochs\": fine_tune_epochs,\n",
    "    \"fine_tune_sessions\": fine_tune_sessions,\n",
    "    \"fine_tune_min_lr\": fine_tune_min_lr,\n",
    "    \"fine_tune_max_lr\": fine_tune_max_lr,\n",
    "    \"early_stop_min_delta\": es_min_delta,\n",
    "    \"early_stop_monitor\": es_monitor,\n",
    "    \"early_stop_patience\": es_patience,\n",
    "    \"early_stop_restore_best_weights\": es_restore_best_weights,\n",
    "    \"early_stop_verbose\": es_verbose,\n",
    "    \"rlr_monitor\": rlr_monitor,\n",
    "    \"rlr_factor\": rlr_factor,\n",
    "    \"rlr_patience\": rlr_patience,\n",
    "    \"rlr_verbose\": rlr_verbose,\n",
    "    \"rlr_mode\": rlr_mode,\n",
    "    \"rlr_min_delta\": rlr_min_delta,\n",
    "    \"rlr_min_lr\": rlr_min_lr\n",
    "    \n",
    "}"
   ]
  },
  {
   "cell_type": "code",
   "execution_count": 4,
   "metadata": {},
   "outputs": [
    {
     "name": "stdout",
     "output_type": "stream",
     "text": [
      "ERROR:wandb.jupyter:Failed to detect the name of this notebook, you can set it manually with the WANDB_NOTEBOOK_NAME environment variable to enable code saving.\n"
     ]
    },
    {
     "name": "stderr",
     "output_type": "stream",
     "text": [
      "\u001b[34m\u001b[1mwandb\u001b[0m: Currently logged in as: \u001b[33maistudio\u001b[0m. Use \u001b[1m`wandb login --relogin`\u001b[0m to force relogin\n"
     ]
    },
    {
     "data": {
      "text/html": [
       "Tracking run with wandb version 0.16.2"
      ],
      "text/plain": [
       "<IPython.core.display.HTML object>"
      ]
     },
     "metadata": {},
     "output_type": "display_data"
    },
    {
     "data": {
      "text/html": [
       "Run data is saved locally in <code>/home/john/projects/bcd/wandb/run-20240122_145246-3hw2oxf8</code>"
      ],
      "text/plain": [
       "<IPython.core.display.HTML object>"
      ]
     },
     "metadata": {},
     "output_type": "display_data"
    },
    {
     "data": {
      "text/html": [
       "Syncing run <strong><a href='https://wandb.ai/aistudio/breast_cancer_detection/runs/3hw2oxf8' target=\"_blank\">legendary-pine-29</a></strong> to <a href='https://wandb.ai/aistudio/breast_cancer_detection' target=\"_blank\">Weights & Biases</a> (<a href='https://wandb.me/run' target=\"_blank\">docs</a>)<br/>"
      ],
      "text/plain": [
       "<IPython.core.display.HTML object>"
      ]
     },
     "metadata": {},
     "output_type": "display_data"
    },
    {
     "data": {
      "text/html": [
       " View project at <a href='https://wandb.ai/aistudio/breast_cancer_detection' target=\"_blank\">https://wandb.ai/aistudio/breast_cancer_detection</a>"
      ],
      "text/plain": [
       "<IPython.core.display.HTML object>"
      ]
     },
     "metadata": {},
     "output_type": "display_data"
    },
    {
     "data": {
      "text/html": [
       " View run at <a href='https://wandb.ai/aistudio/breast_cancer_detection/runs/3hw2oxf8' target=\"_blank\">https://wandb.ai/aistudio/breast_cancer_detection/runs/3hw2oxf8</a>"
      ],
      "text/plain": [
       "<IPython.core.display.HTML object>"
      ]
     },
     "metadata": {},
     "output_type": "display_data"
    }
   ],
   "source": [
    "run = wandb.init(project=project, config=config)"
   ]
  },
  {
   "cell_type": "markdown",
   "metadata": {},
   "source": [
    "## Load Data"
   ]
  },
  {
   "cell_type": "code",
   "execution_count": 5,
   "metadata": {},
   "outputs": [
    {
     "name": "stdout",
     "output_type": "stream",
     "text": [
      "Found 276 files belonging to 2 classes.\n",
      "Using 221 files for training.\n",
      "Found 276 files belonging to 2 classes.\n",
      "Using 55 files for validation.\n",
      "Found 649 files belonging to 2 classes.\n"
     ]
    }
   ],
   "source": [
    "# Training DataSet (10%)\n",
    "train_ds = tf.keras.utils.image_dataset_from_directory(\n",
    "    train_dir,\n",
    "    labels=\"inferred\",\n",
    "    color_mode=\"rgb\",\n",
    "    image_size=(224,224),\n",
    "    shuffle=True,\n",
    "    validation_split=0.2,\n",
    "    subset='training',\n",
    "    interpolation=\"bilinear\",\n",
    "    seed=123,\n",
    "    batch_size=batch_size)\n",
    "\n",
    "# Validation DataSet (10%)\n",
    "val_ds = tf.keras.utils.image_dataset_from_directory(\n",
    "    train_dir,\n",
    "    labels=\"inferred\",\n",
    "    color_mode=\"rgb\",\n",
    "    image_size=(224,224),\n",
    "    shuffle=True,\n",
    "    validation_split=0.2,\n",
    "    subset='validation',\n",
    "    interpolation=\"bilinear\",\n",
    "    seed=123,\n",
    "    batch_size=batch_size)\n",
    "\n",
    "# Test Set\n",
    "test_ds = tf.keras.utils.image_dataset_from_directory(\n",
    "    test_dir,\n",
    "    labels=\"inferred\",\n",
    "    color_mode=\"rgb\",\n",
    "    image_size=(224,224),\n",
    "    shuffle=True)"
   ]
  },
  {
   "cell_type": "markdown",
   "metadata": {},
   "source": [
    "## Dependencies\n",
    "Several dependencies will be used throughout this notebook, including:\n",
    "- Early Stop Callback\n",
    "- Reduce Learning Rate on Plateau Callback\n",
    "- Model Repository\n",
    "- DenseNet Model Factory\n",
    "- Historian Callback\n",
    "\n",
    "We'll make those objects available here."
   ]
  },
  {
   "cell_type": "code",
   "execution_count": 6,
   "metadata": {},
   "outputs": [],
   "source": [
    "early_stop_callback = tf.keras.callbacks.EarlyStopping(monitor=es_monitor, \n",
    "                                                       min_delta=es_min_delta,\n",
    "                                                       patience=es_patience, \n",
    "                                                       restore_best_weights=es_restore_best_weights,\n",
    "                                                       verbose=es_verbose)\n",
    "\n",
    "reduce_lr_callback = tf.keras.callbacks.ReduceLROnPlateau(monitor=rlr_monitor,\n",
    "                                                          factor=rlr_factor,\n",
    "                                                          patience=rlr_patience,\n",
    "                                                          verbose=rlr_verbose,\n",
    "                                                          mode=rlr_mode,\n",
    "                                                          min_delta=rlr_min_delta,\n",
    "                                                          min_lr=rlr_min_lr)\n",
    "wandb_callback = wandb.keras.WandbMetricsLogger()\n",
    "\n",
    "repo = ModelRepo(location=mcp_location)\n",
    "\n",
    "factory = DenseNetFactory()\n",
    "\n",
    "historian = Historian(name=name)\n",
    "\n",
    "linear_thaw_schedule = LinearThawSchedule(sessions=fine_tune_sessions, \n",
    "                                   base_model_layer=base_model_layer, \n",
    "                                   n_layers=len(factory.base_model.layers))\n",
    "\n",
    "log_thaw_schedule = LogThawSchedule(sessions=fine_tune_sessions, \n",
    "                                   base_model_layer=base_model_layer, \n",
    "                                   n_layers=len(factory.base_model.layers))\n",
    "\n",
    "linear_learning_rate_schedule = LinearLearningRateSchedule(sessions=fine_tune_sessions, initial_learning_rate=fine_tune_max_lr, final_learning_rate=fine_tune_min_lr)\n",
    "\n",
    "log_learning_rate_schedule = LogLearningRateSchedule(sessions=fine_tune_sessions, initial_learning_rate=fine_tune_max_lr, final_learning_rate=fine_tune_min_lr)\n"
   ]
  },
  {
   "cell_type": "markdown",
   "metadata": {},
   "source": [
    "## Feature Extraction\n",
    "If the model already exists, obtain it from the repository. Otherwise, create the model and perform feature extraction."
   ]
  },
  {
   "cell_type": "code",
   "execution_count": 7,
   "metadata": {},
   "outputs": [
    {
     "name": "stdout",
     "output_type": "stream",
     "text": [
      "Model: \"model\"\n",
      "_________________________________________________________________\n",
      " Layer (type)                Output Shape              Param #   \n",
      "=================================================================\n",
      " input_layer (InputLayer)    [(None, 224, 224, 3)]     0         \n",
      "                                                                 \n",
      " tf.math.truediv (TFOpLambda  (None, 224, 224, 3)      0         \n",
      " )                                                               \n",
      "                                                                 \n",
      " tf.nn.bias_add (TFOpLambda)  (None, 224, 224, 3)      0         \n",
      "                                                                 \n",
      " tf.math.truediv_1 (TFOpLamb  (None, 224, 224, 3)      0         \n",
      " da)                                                             \n",
      "                                                                 \n",
      " data_augmentation (Sequenti  (None, 224, 224, 3)      0         \n",
      " al)                                                             \n",
      "                                                                 \n",
      " densenet201 (Functional)    (None, None, None, 1920)  18321984  \n",
      "                                                                 \n",
      " global_average_pooling_laye  (None, 1920)             0         \n",
      " r (GlobalAveragePooling2D)                                      \n",
      "                                                                 \n",
      " output_layer (Dense)        (None, 1)                 1921      \n",
      "                                                                 \n",
      "=================================================================\n",
      "Total params: 18,323,905\n",
      "Trainable params: 1,921\n",
      "Non-trainable params: 18,321,984\n",
      "_________________________________________________________________\n",
      "Epoch 1/100\n",
      "7/7 [==============================] - ETA: 0s - loss: 0.7415 - accuracy: 0.4615 - precision: 0.4192 - recall: 0.7609\n",
      "Epoch 1: val_loss improved from inf to 0.62626, saving model to models/densenet_10_v4_log/feature_extraction/densenet_10_v4_log_feature_extraction_01-val_loss_0.63.keras\n",
      "7/7 [==============================] - 63s 7s/step - loss: 0.7415 - accuracy: 0.4615 - precision: 0.4192 - recall: 0.7609 - val_loss: 0.6263 - val_accuracy: 0.6364 - val_precision: 0.3333 - val_recall: 0.1765 - lr: 1.0000e-04 - duration: 63.0470\n",
      "Epoch 2/100\n",
      "7/7 [==============================] - ETA: 0s - loss: 0.6704 - accuracy: 0.5656 - precision: 0.4821 - recall: 0.5870\n",
      "Epoch 2: val_loss improved from 0.62626 to 0.60854, saving model to models/densenet_10_v4_log/feature_extraction/densenet_10_v4_log_feature_extraction_02-val_loss_0.61.keras\n",
      "7/7 [==============================] - 42s 6s/step - loss: 0.6704 - accuracy: 0.5656 - precision: 0.4821 - recall: 0.5870 - val_loss: 0.6085 - val_accuracy: 0.6909 - val_precision: 0.5000 - val_recall: 0.1176 - lr: 1.0000e-04 - duration: 42.3575\n",
      "Epoch 3/100\n",
      "7/7 [==============================] - ETA: 0s - loss: 0.6825 - accuracy: 0.5475 - precision: 0.4394 - recall: 0.3152\n",
      "Epoch 3: val_loss improved from 0.60854 to 0.60166, saving model to models/densenet_10_v4_log/feature_extraction/densenet_10_v4_log_feature_extraction_03-val_loss_0.60.keras\n",
      "7/7 [==============================] - 41s 6s/step - loss: 0.6825 - accuracy: 0.5475 - precision: 0.4394 - recall: 0.3152 - val_loss: 0.6017 - val_accuracy: 0.6727 - val_precision: 0.0000e+00 - val_recall: 0.0000e+00 - lr: 1.0000e-04 - duration: 41.3978\n",
      "Epoch 4/100\n",
      "7/7 [==============================] - ETA: 0s - loss: 0.6718 - accuracy: 0.5837 - precision: 0.5000 - recall: 0.2826\n",
      "Epoch 4: val_loss improved from 0.60166 to 0.60054, saving model to models/densenet_10_v4_log/feature_extraction/densenet_10_v4_log_feature_extraction_04-val_loss_0.60.keras\n",
      "7/7 [==============================] - 40s 6s/step - loss: 0.6718 - accuracy: 0.5837 - precision: 0.5000 - recall: 0.2826 - val_loss: 0.6005 - val_accuracy: 0.6727 - val_precision: 0.0000e+00 - val_recall: 0.0000e+00 - lr: 1.0000e-04 - duration: 39.9058\n",
      "Epoch 5/100\n",
      "7/7 [==============================] - ETA: 0s - loss: 0.7058 - accuracy: 0.5339 - precision: 0.4000 - recall: 0.2391\n",
      "Epoch 5: val_loss improved from 0.60054 to 0.59966, saving model to models/densenet_10_v4_log/feature_extraction/densenet_10_v4_log_feature_extraction_05-val_loss_0.60.keras\n",
      "7/7 [==============================] - 42s 6s/step - loss: 0.7058 - accuracy: 0.5339 - precision: 0.4000 - recall: 0.2391 - val_loss: 0.5997 - val_accuracy: 0.6727 - val_precision: 0.0000e+00 - val_recall: 0.0000e+00 - lr: 1.0000e-04 - duration: 42.1478\n",
      "Epoch 6/100\n",
      "7/7 [==============================] - ETA: 0s - loss: 0.6994 - accuracy: 0.5566 - precision: 0.4211 - recall: 0.1739\n",
      "Epoch 6: val_loss improved from 0.59966 to 0.59918, saving model to models/densenet_10_v4_log/feature_extraction/densenet_10_v4_log_feature_extraction_06-val_loss_0.60.keras\n",
      "7/7 [==============================] - 44s 6s/step - loss: 0.6994 - accuracy: 0.5566 - precision: 0.4211 - recall: 0.1739 - val_loss: 0.5992 - val_accuracy: 0.6727 - val_precision: 0.0000e+00 - val_recall: 0.0000e+00 - lr: 1.0000e-04 - duration: 43.7311\n",
      "Epoch 7/100\n",
      "7/7 [==============================] - ETA: 0s - loss: 0.7249 - accuracy: 0.5294 - precision: 0.3846 - recall: 0.2174 \n",
      "Epoch 7: val_loss improved from 0.59918 to 0.59885, saving model to models/densenet_10_v4_log/feature_extraction/densenet_10_v4_log_feature_extraction_07-val_loss_0.60.keras\n",
      "7/7 [==============================] - 39s 6s/step - loss: 0.7249 - accuracy: 0.5294 - precision: 0.3846 - recall: 0.2174 - val_loss: 0.5989 - val_accuracy: 0.6727 - val_precision: 0.0000e+00 - val_recall: 0.0000e+00 - lr: 1.0000e-04 - duration: 39.1367\n",
      "Epoch 8/100\n",
      "7/7 [==============================] - ETA: 0s - loss: 0.7010 - accuracy: 0.5656 - precision: 0.4655 - recall: 0.2935\n",
      "Epoch 8: val_loss did not improve from 0.59885\n",
      "7/7 [==============================] - 39s 5s/step - loss: 0.7010 - accuracy: 0.5656 - precision: 0.4655 - recall: 0.2935 - val_loss: 0.5995 - val_accuracy: 0.6727 - val_precision: 0.0000e+00 - val_recall: 0.0000e+00 - lr: 1.0000e-04 - duration: 39.2581\n",
      "Epoch 9/100\n",
      "7/7 [==============================] - ETA: 0s - loss: 0.6945 - accuracy: 0.5113 - precision: 0.3667 - recall: 0.2391\n",
      "Epoch 9: val_loss did not improve from 0.59885\n",
      "7/7 [==============================] - 41s 5s/step - loss: 0.6945 - accuracy: 0.5113 - precision: 0.3667 - recall: 0.2391 - val_loss: 0.6007 - val_accuracy: 0.6727 - val_precision: 0.0000e+00 - val_recall: 0.0000e+00 - lr: 1.0000e-04 - duration: 41.0082\n",
      "Epoch 10/100\n",
      "7/7 [==============================] - ETA: 0s - loss: 0.6852 - accuracy: 0.5656 - precision: 0.4667 - recall: 0.3043\n",
      "Epoch 10: val_loss did not improve from 0.59885\n",
      "\n",
      "Epoch 10: ReduceLROnPlateau reducing learning rate to 4.999999873689376e-05.\n",
      "7/7 [==============================] - 43s 6s/step - loss: 0.6852 - accuracy: 0.5656 - precision: 0.4667 - recall: 0.3043 - val_loss: 0.6009 - val_accuracy: 0.6727 - val_precision: 0.0000e+00 - val_recall: 0.0000e+00 - lr: 1.0000e-04 - duration: 42.7498\n",
      "Epoch 11/100\n",
      "7/7 [==============================] - ETA: 0s - loss: 0.7041 - accuracy: 0.5747 - precision: 0.4828 - recall: 0.3043\n",
      "Epoch 11: val_loss did not improve from 0.59885\n",
      "7/7 [==============================] - 43s 6s/step - loss: 0.7041 - accuracy: 0.5747 - precision: 0.4828 - recall: 0.3043 - val_loss: 0.6004 - val_accuracy: 0.6727 - val_precision: 0.0000e+00 - val_recall: 0.0000e+00 - lr: 5.0000e-05 - duration: 43.1786\n",
      "Epoch 12/100\n",
      "7/7 [==============================] - ETA: 0s - loss: 0.6944 - accuracy: 0.5520 - precision: 0.4340 - recall: 0.2500\n",
      "Epoch 12: val_loss did not improve from 0.59885\n",
      "7/7 [==============================] - 42s 6s/step - loss: 0.6944 - accuracy: 0.5520 - precision: 0.4340 - recall: 0.2500 - val_loss: 0.6005 - val_accuracy: 0.6727 - val_precision: 0.0000e+00 - val_recall: 0.0000e+00 - lr: 5.0000e-05 - duration: 41.8383\n",
      "Epoch 13/100\n",
      "7/7 [==============================] - ETA: 0s - loss: 0.6816 - accuracy: 0.5566 - precision: 0.4423 - recall: 0.2500\n",
      "Epoch 13: val_loss did not improve from 0.59885\n",
      "\n",
      "Epoch 13: ReduceLROnPlateau reducing learning rate to 2.499999936844688e-05.\n",
      "7/7 [==============================] - 41s 6s/step - loss: 0.6816 - accuracy: 0.5566 - precision: 0.4423 - recall: 0.2500 - val_loss: 0.6001 - val_accuracy: 0.6727 - val_precision: 0.0000e+00 - val_recall: 0.0000e+00 - lr: 5.0000e-05 - duration: 41.3096\n",
      "Epoch 14/100\n",
      "7/7 [==============================] - ETA: 0s - loss: 0.6797 - accuracy: 0.5882 - precision: 0.5085 - recall: 0.3261\n",
      "Epoch 14: val_loss did not improve from 0.59885\n",
      "7/7 [==============================] - 42s 5s/step - loss: 0.6797 - accuracy: 0.5882 - precision: 0.5085 - recall: 0.3261 - val_loss: 0.6000 - val_accuracy: 0.6727 - val_precision: 0.0000e+00 - val_recall: 0.0000e+00 - lr: 2.5000e-05 - duration: 41.8833\n",
      "Epoch 15/100\n",
      "7/7 [==============================] - ETA: 0s - loss: 0.6657 - accuracy: 0.5837 - precision: 0.5000 - recall: 0.4130\n",
      "Epoch 15: val_loss did not improve from 0.59885\n",
      "Restoring model weights from the end of the best epoch: 7.\n",
      "7/7 [==============================] - 44s 6s/step - loss: 0.6657 - accuracy: 0.5837 - precision: 0.5000 - recall: 0.4130 - val_loss: 0.5998 - val_accuracy: 0.6727 - val_precision: 0.0000e+00 - val_recall: 0.0000e+00 - lr: 2.5000e-05 - duration: 43.5618\n",
      "Epoch 15: early stopping\n"
     ]
    },
    {
     "name": "stderr",
     "output_type": "stream",
     "text": [
      "2024-01-22 15:04:47.194884: W tensorflow/python/util/util.cc:368] Sets are not currently considered sequences, but this may change in the future, so consider avoiding using them.\n"
     ]
    },
    {
     "name": "stdout",
     "output_type": "stream",
     "text": [
      "INFO:tensorflow:Assets written to: ram://e8eab0f9-4faa-46a5-ab1d-0a0d52704b9e/assets\n",
      "INFO:tensorflow:Assets written to: ram://e8eab0f9-4faa-46a5-ab1d-0a0d52704b9e/assets\n"
     ]
    },
    {
     "data": {
      "text/plain": [
       "ArtifactManifestEntry(path='densenet_10_v4_log_feature_extraction_07-val_loss_0.60.keras', digest='uUYs3jmD00gch6vxUwldFg==', size=74489344, local_path='/home/john/.local/share/wandb/artifacts/staging/tmp81su055n')"
      ]
     },
     "execution_count": 7,
     "metadata": {},
     "output_type": "execute_result"
    },
    {
     "data": {
      "text/plain": [
       "<Artifact densenet_10_v4_log-feature_extraction-3hw2oxf8>"
      ]
     },
     "execution_count": 7,
     "metadata": {},
     "output_type": "execute_result"
    },
    {
     "name": "stderr",
     "output_type": "stream",
     "text": [
      "\u001b[34m\u001b[1mwandb\u001b[0m: Waiting for artifact densenet_10_v4_log-feature_extraction-3hw2oxf8 to be committed...\n"
     ]
    },
    {
     "data": {
      "application/vnd.jupyter.widget-view+json": {
       "model_id": "48383b0050e745fa9929dd1879913365",
       "version_major": 2,
       "version_minor": 0
      },
      "text/plain": [
       "VBox(children=(Label(value='0.003 MB of 71.042 MB uploaded\\r'), FloatProgress(value=4.917240084025605e-05, max…"
      ]
     },
     "metadata": {},
     "output_type": "display_data"
    },
    {
     "name": "stderr",
     "output_type": "stream",
     "text": [
      "\n",
      "\u001b[34m\u001b[1mwandb\u001b[0m: Committed artifact aistudio/breast_cancer_detection/densenet_10_v4_log-feature_extraction-3hw2oxf8:v0\n"
     ]
    }
   ],
   "source": [
    "stage = \"feature_extraction\"\n",
    "if force or not repo.exists(name=name, stage=stage):\n",
    "    model = factory.create(input_shape=input_shape, \n",
    "                            output_shape=output_shape,\n",
    "                            activation=activation)\n",
    "    # Create the optimizer\n",
    "    optimizer=tf.keras.optimizers.Adam(learning_rate=fe_learning_rate)\n",
    "\n",
    "    # Compile the Model\n",
    "    model.compile(\n",
    "        loss=loss,\n",
    "        optimizer=optimizer,\n",
    "        metrics=metrics,        \n",
    "    )\n",
    "\n",
    "    # Delete existing checkpoints\n",
    "    repo.remove(name=name, stage=stage)\n",
    "    # Summarize the model\n",
    "    model.summary()\n",
    "    # Obtain a checkpoint callback from the model repository \n",
    "    checkpoint_callback = repo.create_callback(name=name, stage=stage)\n",
    "    # Set the session on the historian to 0 for feature extraction\n",
    "    historian.on_session_begin(session=0)\n",
    "    # Fit the model with callbacks\n",
    "    history = model.fit(train_ds, \n",
    "                        validation_data=val_ds, \n",
    "                        epochs=initial_epochs, \n",
    "                        callbacks=[checkpoint_callback, \n",
    "                                   reduce_lr_callback,\n",
    "                                   early_stop_callback, \n",
    "                                   wandb_callback,                                   \n",
    "                                   historian])        \n",
    "    # Register the model on wandb\n",
    "    filepath = repo.get_filepath(name=name, stage=stage)    \n",
    "    artifact = wandb.Artifact(f\"{name}-{stage}-{run.id}\", type=\"model\")\n",
    "    artifact.add_file(filepath)\n",
    "    wandb.log_artifact(artifact, aliases=[stage, \"best\"])\n",
    "    wandb.run.link_artifact(artifact, \"aistudio/breast_cancer_detection/DenseNet\")\n",
    "else:\n",
    "    # Obtain the model from the repository\n",
    "    model = repo.get(name=name, stage=stage)\n",
    "    # Obtain the historian\n",
    "    historian = historian.load(historian_filepath)    \n",
    "    # Summarize the model\n",
    "    model.summary()"
   ]
  },
  {
   "cell_type": "markdown",
   "metadata": {},
   "source": [
    "Feature extraction appears to have converged in fourteen epochs. Our early stopping callback stopped training when validation loss didn't improve in 3 epochs. Training and validation accuracy of 55% and 50% respectively, alludes to the considerable difference between source and target datasets. Gradually fine tuning the network on the CBIS-DDSM dataset will allow the network to adapt to the features and characteristics of our dataset.\n",
    "\n",
    "The next cell will iteratively run a series of 10 fine tuning sessions in which the DenseNet model is gradually unfrozen in 10 increments. Each increment increases the number of layers to be thawed logarithmically from 1 layer to 707 layers of the DenseNet model. Learning rates will be decayed logarithmically from 1e-4 to 1e-10 to mitigate catastrophic forgetting within the network. "
   ]
  },
  {
   "cell_type": "markdown",
   "metadata": {},
   "source": [
    "Excellent. We can now move on to the fine tuning stage."
   ]
  },
  {
   "cell_type": "markdown",
   "metadata": {},
   "source": [
    "## Fine Tuning"
   ]
  },
  {
   "cell_type": "raw",
   "metadata": {},
   "source": [
    "ft = FineTuner(name=name, \n",
    "               train_ds=train_ds, \n",
    "               validation_ds=val_ds, \n",
    "               repo=repo,\n",
    "               thaw_schedule=log_thaw_schedule,\n",
    "               learning_rate_schedule=log_learning_rate_schedule,               \n",
    "               metrics=metrics,\n",
    "               fine_tune_epochs=fine_tune_epochs,\n",
    "               sessions=fine_tune_sessions,\n",
    "               callbacks=[early_stop_callback, reduce_lr_callback, wandb_callback],\n",
    "               )\n",
    "ft.tune(model=model, historian=historian, force=force)\n",
    "run.finish()"
   ]
  },
  {
   "cell_type": "markdown",
   "metadata": {},
   "source": [
    "Fine tuning has completed. Let's check the learning curves."
   ]
  },
  {
   "cell_type": "code",
   "execution_count": 9,
   "metadata": {},
   "outputs": [
    {
     "data": {
      "image/png": "[encoded data removed]",
      "text/plain": [
       "<Figure size 1200x400 with 2 Axes>"
      ]
     },
     "metadata": {},
     "output_type": "display_data"
    }
   ],
   "source": [
    "# Plot the historian\n",
    "historian.plot_learning_curves()"
   ]
  },
  {
   "cell_type": "markdown",
   "metadata": {},
   "source": [
    "## Evaluation\n",
    "Let's evaluate generalization performance on the test set. "
   ]
  },
  {
   "cell_type": "raw",
   "metadata": {},
   "source": [
    "results = model.evaluate(test_ds, batch_size=batch_size)\n",
    "print(\"Test Loss, Test Accuracy: \", results)"
   ]
  }
 ],
 "metadata": {
  "kernelspec": {
   "display_name": "bcd",
   "language": "python",
   "name": "python3"
  },
  "language_info": {
   "codemirror_mode": {
    "name": "ipython",
    "version": 3
   },
   "file_extension": ".py",
   "mimetype": "text/x-python",
   "name": "python",
   "nbconvert_exporter": "python",
   "pygments_lexer": "ipython3",
   "version": "3.10.12"
  }
 },
 "nbformat": 4,
 "nbformat_minor": 2
}
