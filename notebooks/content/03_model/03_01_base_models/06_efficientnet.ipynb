{
 "cells": [
  {
   "cell_type": "markdown",
   "metadata": {},
   "source": [
    "# EfficientNet"
   ]
  },
  {
   "cell_type": "code",
   "execution_count": 10,
   "metadata": {},
   "outputs": [],
   "source": [
    "import os\n",
    "import wandb\n",
    "import pathlib\n",
    "import tensorflow as tf\n",
    "import pandas as pd\n",
    "\n",
    "from bcd.model.repo import ModelRepo\n",
    "from bcd.model.factory import EfficientNetFactory\n",
    "from bcd.model.transfer import FineTuner\n",
    "from bcd.model.callback import Historian\n",
    "from bcd.model.schedule import LinearThawSchedule, LogThawSchedule, LinearLearningRateSchedule, LogLearningRateSchedule\n",
    "pd.set_option('display.max_rows',999)\n"
   ]
  },
  {
   "cell_type": "markdown",
   "metadata": {},
   "source": [
    "## Configuration"
   ]
  },
  {
   "cell_type": "code",
   "execution_count": 11,
   "metadata": {},
   "outputs": [
    {
     "name": "stdout",
     "output_type": "stream",
     "text": [
      "env: \"WANDB_NOTEBOOK_NAME\"=\"05_efficientnet.ipynb\"\n"
     ]
    }
   ],
   "source": [
    "# W&B\n",
    "%env \"WANDB_NOTEBOOK_NAME\" \"05_efficientnet.ipynb\"\n",
    "project = \"breast_cancer_detection\"\n",
    "fine_tune = True\n",
    "\n",
    "# Model Parameters\n",
    "full_dataset = True\n",
    "architecture='EfficientNet'\n",
    "model_name = \"efficient_net\" if full_dataset else \"efficient_net_10\"\n",
    "version=\"v2_log\"\n",
    "name = f\"{model_name}_{version}\"\n",
    "force = False  # Whether to retrain if the model and weights already exist from a prior training session.\n",
    "metrics = ['accuracy', tf.keras.metrics.Precision(), tf.keras.metrics.Recall()]\n",
    "base_model_layer = 2 # Layer of the inception resnet base model\n",
    "base_model_layers = 479 # layers in inception resnet model\n",
    "loss = \"binary_crossentropy\"\n",
    "activation = \"sigmoid\"\n",
    "\n",
    "# Dataset params\n",
    "batch_size = 64 if full_dataset else 32\n",
    "input_shape = (224,224,3)\n",
    "output_shape = 1\n",
    "train_dir = pathlib.Path(\"data/image/1_final/training/training/\").with_suffix('') if full_dataset else pathlib.Path(\"data/image/1_final/training_10/training/\").with_suffix('') \n",
    "test_dir = pathlib.Path(\"data/image/1_final/test/test/\").with_suffix('')\n",
    "\n",
    "# Feature Extraction Parameters\n",
    "initial_epochs = 100  # Number of epochs to train for feature extraction\n",
    "fe_learning_rate = 1e-3\n",
    "\n",
    "# Fine Tune Parameters\n",
    "fine_tune_epochs = 10  # Number of epochs for each fine tune session\n",
    "fine_tune_sessions = 5 # Number of fine tune sessions\n",
    "fine_tune_min_lr = 1e-8\n",
    "fine_tune_max_lr = 1e-3\n",
    "fine_tune_thaw_schedule = \"log\"\n",
    "\n",
    "\n",
    "# Early stop parameters \n",
    "es_min_delta = 0.0001\n",
    "es_monitor = \"val_loss\"  # Monitor validation loss for early stopping\n",
    "es_patience = 8  # The number of consecutive epochs for which lack of improvement is tolerated \n",
    "es_restore_best_weights = True  # Returns the best weights rather than the weights at the last epoch.\n",
    "es_verbose = 1\n",
    "es_session_patience = None # The number of fine tuning sessions for which lack of improvement is tolerated. If None, no early stopping at session level\n",
    "\n",
    "# Reduce LR on Plateau Parameters\n",
    "rlr_monitor = \"val_loss\"\n",
    "rlr_factor = 0.5\n",
    "rlr_patience = 3\n",
    "rlr_verbose = 1\n",
    "rlr_mode = \"auto\"\n",
    "rlr_min_delta = 0.0001\n",
    "rlr_min_lr=1e-10\n",
    "\n",
    "# ModelCheckpoint Callback parameters\n",
    "mcp_location = \"models/\"\n",
    "mcp_mode = \"auto\"\n",
    "mcp_save_weights_only = False\n",
    "mcp_save_best_only = True\n",
    "mcp_save_freq = \"epoch\"\n",
    "mcp_verbose = 1\n",
    "\n",
    "# Historian parameters\n",
    "filename = f\"{name}_history.pkl\"\n",
    "historian_filepath = os.path.join(\"models\", name, filename)\n",
    "\n"
   ]
  },
  {
   "cell_type": "markdown",
   "metadata": {},
   "source": [
    "## Experiment Setup"
   ]
  },
  {
   "cell_type": "code",
   "execution_count": 12,
   "metadata": {},
   "outputs": [],
   "source": [
    "config = {\n",
    "    \"architecture\": architecture,\n",
    "    \"model_name\": model_name,\n",
    "    \"version\": version,\n",
    "    \"dataset\": \"CBIS-DDSM\",\n",
    "    \"batch_size\": batch_size,\n",
    "    \"initial_epochs\": initial_epochs,\n",
    "    \"fine_tune\": fine_tune,\n",
    "    \"fine_tune_epochs\": fine_tune_epochs,\n",
    "    \"fine_tune_sessions\": fine_tune_sessions,\n",
    "    \"fine_tune_min_lr\": fine_tune_min_lr,\n",
    "    \"fine_tune_max_lr\": fine_tune_max_lr,\n",
    "    \"fine_tune_schedule\": fine_tune_thaw_schedule,\n",
    "    \"early_stop_min_delta\": es_min_delta,\n",
    "    \"early_stop_monitor\": es_monitor,\n",
    "    \"early_stop_patience\": es_patience,\n",
    "    \"early_stop_restore_best_weights\": es_restore_best_weights,\n",
    "    \"early_stop_verbose\": es_verbose,\n",
    "    \"rlr_monitor\": rlr_monitor,\n",
    "    \"rlr_factor\": rlr_factor,\n",
    "    \"rlr_patience\": rlr_patience,\n",
    "    \"rlr_verbose\": rlr_verbose,\n",
    "    \"rlr_mode\": rlr_mode,\n",
    "    \"rlr_min_delta\": rlr_min_delta,\n",
    "    \"rlr_min_lr\": rlr_min_lr\n",
    "    \n",
    "}"
   ]
  },
  {
   "cell_type": "code",
   "execution_count": 13,
   "metadata": {},
   "outputs": [
    {
     "data": {
      "text/html": [
       "Tracking run with wandb version 0.16.2"
      ],
      "text/plain": [
       "<IPython.core.display.HTML object>"
      ]
     },
     "metadata": {},
     "output_type": "display_data"
    },
    {
     "data": {
      "text/html": [
       "Run data is saved locally in <code>/home/john/projects/bcd/wandb/run-20240201_180926-a9im0leb</code>"
      ],
      "text/plain": [
       "<IPython.core.display.HTML object>"
      ]
     },
     "metadata": {},
     "output_type": "display_data"
    },
    {
     "data": {
      "text/html": [
       "Syncing run <strong><a href='https://wandb.ai/aistudio/breast_cancer_detection/runs/a9im0leb' target=\"_blank\">skilled-puddle-6</a></strong> to <a href='https://wandb.ai/aistudio/breast_cancer_detection' target=\"_blank\">Weights & Biases</a> (<a href='https://wandb.me/run' target=\"_blank\">docs</a>)<br/>"
      ],
      "text/plain": [
       "<IPython.core.display.HTML object>"
      ]
     },
     "metadata": {},
     "output_type": "display_data"
    },
    {
     "data": {
      "text/html": [
       " View project at <a href='https://wandb.ai/aistudio/breast_cancer_detection' target=\"_blank\">https://wandb.ai/aistudio/breast_cancer_detection</a>"
      ],
      "text/plain": [
       "<IPython.core.display.HTML object>"
      ]
     },
     "metadata": {},
     "output_type": "display_data"
    },
    {
     "data": {
      "text/html": [
       " View run at <a href='https://wandb.ai/aistudio/breast_cancer_detection/runs/a9im0leb' target=\"_blank\">https://wandb.ai/aistudio/breast_cancer_detection/runs/a9im0leb</a>"
      ],
      "text/plain": [
       "<IPython.core.display.HTML object>"
      ]
     },
     "metadata": {},
     "output_type": "display_data"
    }
   ],
   "source": [
    "run = wandb.init(project=project, config=config)"
   ]
  },
  {
   "cell_type": "markdown",
   "metadata": {},
   "source": [
    "## Load Data"
   ]
  },
  {
   "cell_type": "code",
   "execution_count": 14,
   "metadata": {},
   "outputs": [
    {
     "name": "stdout",
     "output_type": "stream",
     "text": [
      "Found 2471 files belonging to 2 classes.\n",
      "Using 1977 files for training.\n",
      "Found 2471 files belonging to 2 classes.\n",
      "Using 494 files for validation.\n",
      "Found 649 files belonging to 2 classes.\n"
     ]
    }
   ],
   "source": [
    "# Training DataSet (10%)\n",
    "train_ds = tf.keras.utils.image_dataset_from_directory(\n",
    "    train_dir,\n",
    "    labels=\"inferred\",\n",
    "    color_mode=\"rgb\",\n",
    "    image_size=(224,224),\n",
    "    shuffle=True,\n",
    "    validation_split=0.2,\n",
    "    subset='training',\n",
    "    interpolation=\"bilinear\",\n",
    "    seed=123,\n",
    "    batch_size=batch_size)\n",
    "\n",
    "# Validation DataSet (10%)\n",
    "val_ds = tf.keras.utils.image_dataset_from_directory(\n",
    "    train_dir,\n",
    "    labels=\"inferred\",\n",
    "    color_mode=\"rgb\",\n",
    "    image_size=(224,224),\n",
    "    shuffle=True,\n",
    "    validation_split=0.2,\n",
    "    subset='validation',\n",
    "    interpolation=\"bilinear\",\n",
    "    seed=123,\n",
    "    batch_size=batch_size)\n",
    "\n",
    "# Test Set\n",
    "test_ds = tf.keras.utils.image_dataset_from_directory(\n",
    "    test_dir,\n",
    "    labels=\"inferred\",\n",
    "    color_mode=\"rgb\",\n",
    "    image_size=(224,224),\n",
    "    shuffle=True)"
   ]
  },
  {
   "cell_type": "markdown",
   "metadata": {},
   "source": [
    "## Dependencies\n",
    "Several dependencies will be used throughout this notebook, including:\n",
    "- Early Stop Callback\n",
    "- Reduce Learning Rate on Plateau Callback\n",
    "- Model Repository\n",
    "- ResNet Model Factory\n",
    "- Historian Callback\n",
    "\n",
    "We'll make those objects available here."
   ]
  },
  {
   "cell_type": "code",
   "execution_count": 15,
   "metadata": {},
   "outputs": [],
   "source": [
    "early_stop_callback = tf.keras.callbacks.EarlyStopping(monitor=es_monitor, \n",
    "                                                       min_delta=es_min_delta,\n",
    "                                                       patience=es_patience, \n",
    "                                                       restore_best_weights=es_restore_best_weights,\n",
    "                                                       verbose=es_verbose)\n",
    "\n",
    "reduce_lr_callback = tf.keras.callbacks.ReduceLROnPlateau(monitor=rlr_monitor,\n",
    "                                                          factor=rlr_factor,\n",
    "                                                          patience=rlr_patience,\n",
    "                                                          verbose=rlr_verbose,\n",
    "                                                          mode=rlr_mode,\n",
    "                                                          min_delta=rlr_min_delta,\n",
    "                                                          min_lr=rlr_min_lr)\n",
    "wandb_callback = wandb.keras.WandbMetricsLogger()\n",
    "\n",
    "repo = ModelRepo(location=mcp_location)\n",
    "\n",
    "factory = EfficientNetFactory()\n",
    "\n",
    "historian = Historian(name=name)\n",
    "\n",
    "if fine_tune_thaw_schedule == \"linear\":\n",
    "    thaw_schedule = LinearThawSchedule(sessions=fine_tune_sessions, \n",
    "                                    base_model_layer=base_model_layer, \n",
    "                                    n_layers=len(factory.base_model.layers))\n",
    "    learning_rate_schedule = LinearLearningRateSchedule(sessions=fine_tune_sessions, initial_learning_rate=fine_tune_max_lr, final_learning_rate=fine_tune_min_lr)\n",
    "\n",
    "else:\n",
    "    thaw_schedule = LogThawSchedule(sessions=fine_tune_sessions, \n",
    "                                   base_model_layer=base_model_layer, \n",
    "                                   n_layers=len(factory.base_model.layers))\n",
    "\n",
    "\n",
    "\n",
    "    learning_rate_schedule = LogLearningRateSchedule(sessions=fine_tune_sessions, initial_learning_rate=fine_tune_max_lr, final_learning_rate=fine_tune_min_lr)\n"
   ]
  },
  {
   "cell_type": "raw",
   "metadata": {},
   "source": [
    "model = factory.create(input_shape=input_shape, \n",
    "                        output_shape=output_shape,\n",
    "                        activation=activation)\n",
    "model.summary()\n",
    "len(model.layers[2].layers)"
   ]
  },
  {
   "cell_type": "markdown",
   "metadata": {},
   "source": [
    "## Feature Extraction\n",
    "If the model already exists, obtain it from the repository. Otherwise, create the model and perform feature extraction."
   ]
  },
  {
   "cell_type": "code",
   "execution_count": 16,
   "metadata": {},
   "outputs": [
    {
     "name": "stdout",
     "output_type": "stream",
     "text": [
      "INFO:ModelRepo:Loaded efficient_net_v2_log_feature_extraction model from the repository.\n",
      "Model: \"model\"\n",
      "_________________________________________________________________\n",
      " Layer (type)                Output Shape              Param #   \n",
      "=================================================================\n",
      " input_layer (InputLayer)    [(None, 224, 224, 3)]     0         \n",
      "                                                                 \n",
      " data_augmentation (Sequenti  (None, 224, 224, 3)      0         \n",
      " al)                                                             \n",
      "                                                                 \n",
      " efficientnetv2-s (Functiona  (None, None, None, 1280)  20331360 \n",
      " l)                                                              \n",
      "                                                                 \n",
      " global_average_pooling_laye  (None, 1280)             0         \n",
      " r (GlobalAveragePooling2D)                                      \n",
      "                                                                 \n",
      " output_layer (Dense)        (None, 1)                 1281      \n",
      "                                                                 \n",
      "=================================================================\n",
      "Total params: 20,332,641\n",
      "Trainable params: 1,281\n",
      "Non-trainable params: 20,331,360\n",
      "_________________________________________________________________\n"
     ]
    }
   ],
   "source": [
    "stage = \"feature_extraction\"\n",
    "if force or not repo.exists(name=name, stage=stage):\n",
    "    model = factory.create(input_shape=input_shape, \n",
    "                            output_shape=output_shape,\n",
    "                            activation=activation)\n",
    "    # Create the optimizer\n",
    "    optimizer=tf.keras.optimizers.Adam(learning_rate=fe_learning_rate)\n",
    "\n",
    "    # Compile the Model\n",
    "    model.compile(\n",
    "        loss=loss,\n",
    "        optimizer=optimizer,\n",
    "        metrics=metrics,        \n",
    "    )\n",
    "\n",
    "    # Delete existing checkpoints\n",
    "    repo.remove(name=name, stage=stage)\n",
    "    # Summarize the model\n",
    "    model.summary()\n",
    "    # Obtain a checkpoint callback from the model repository \n",
    "    checkpoint_callback = repo.create_callback(name=name, stage=stage)\n",
    "    # Set the session on the historian to 0 for feature extraction\n",
    "    historian.on_session_begin(session=0)\n",
    "    # Fit the model with callbacks\n",
    "    history = model.fit(train_ds, \n",
    "                        validation_data=val_ds, \n",
    "                        epochs=initial_epochs, \n",
    "                        callbacks=[checkpoint_callback, \n",
    "                                   reduce_lr_callback,\n",
    "                                   early_stop_callback, \n",
    "                                   wandb_callback,                                   \n",
    "                                   historian])        \n",
    "    # Register the model on wandb\n",
    "    filepath = repo.get_filepath(name=name, stage=stage)    \n",
    "    artifact = wandb.Artifact(f\"{name}-{stage}-{run.id}\", type=\"model\")\n",
    "    artifact.add_file(filepath)\n",
    "    wandb.log_artifact(artifact, aliases=[stage, \"best\"])\n",
    "    wandb.run.link_artifact(artifact, \"aistudio/breast_cancer_detection/InceptionResnet\")\n",
    "else:\n",
    "    # Obtain the model from the repository\n",
    "    model = repo.get(name=name, stage=stage)\n",
    "    # Obtain the historian\n",
    "    historian = historian.load(historian_filepath)    \n",
    "    # Summarize the model\n",
    "    model.summary()"
   ]
  },
  {
   "cell_type": "markdown",
   "metadata": {},
   "source": [
    "## Fine Tuning"
   ]
  },
  {
   "cell_type": "code",
   "execution_count": 17,
   "metadata": {},
   "outputs": [
    {
     "name": "stdout",
     "output_type": "stream",
     "text": [
      "\n",
      "\n",
      "INFO:LogThawSchedule:Thawed 2 layers of the base model.\n",
      "\n",
      "\n",
      "INFO:LogLearningRateSchedule:Set learning rate to 0.001\n",
      "Model: \"model\"\n",
      "_________________________________________________________________\n",
      " Layer (type)                Output Shape              Param #   \n",
      "=================================================================\n",
      " input_layer (InputLayer)    [(None, 224, 224, 3)]     0         \n",
      "                                                                 \n",
      " data_augmentation (Sequenti  (None, 224, 224, 3)      0         \n",
      " al)                                                             \n"
     ]
    },
    {
     "name": "stdout",
     "output_type": "stream",
     "text": [
      "                                                                 \n",
      " efficientnetv2-s (Functiona  (None, None, None, 1280)  20331360 \n",
      " l)                                                              \n",
      "                                                                 \n",
      " global_average_pooling_laye  (None, 1280)             0         \n",
      " r (GlobalAveragePooling2D)                                      \n",
      "                                                                 \n",
      " output_layer (Dense)        (None, 1)                 1281      \n",
      "                                                                 \n",
      "=================================================================\n",
      "Total params: 20,332,641\n",
      "Trainable params: 3,841\n",
      "Non-trainable params: 20,328,800\n",
      "_________________________________________________________________\n",
      "Epoch 35/44\n",
      "31/31 [==============================] - ETA: 0s - loss: 0.6008 - accuracy: 0.6859 - precision_1: 0.6767 - recall_1: 0.5787\n",
      "Epoch 35: val_loss improved from inf to 0.63836, saving model to models/efficient_net_v2_log/fine_tuning_session_1/efficient_net_v2_log_fine_tuning_session_1_35-val_loss_0.64.keras\n",
      "31/31 [==============================] - 250s 7s/step - loss: 0.6008 - accuracy: 0.6859 - precision_1: 0.6767 - recall_1: 0.5787 - val_loss: 0.6384 - val_accuracy: 0.6316 - val_precision_1: 0.6032 - val_recall_1: 0.5158 - lr: 1.0000e-03 - duration: 248.9608\n",
      "Epoch 36/44\n",
      "31/31 [==============================] - ETA: 0s - loss: 0.5964 - accuracy: 0.6793 - precision_1: 0.6749 - recall_1: 0.5551\n",
      "Epoch 36: val_loss did not improve from 0.63836\n",
      "31/31 [==============================] - 230s 7s/step - loss: 0.5964 - accuracy: 0.6793 - precision_1: 0.6749 - recall_1: 0.5551 - val_loss: 0.6385 - val_accuracy: 0.6235 - val_precision_1: 0.5967 - val_recall_1: 0.4887 - lr: 1.0000e-03 - duration: 230.1827\n",
      "Epoch 37/44\n",
      "31/31 [==============================] - ETA: 0s - loss: 0.5929 - accuracy: 0.6783 - precision_1: 0.6862 - recall_1: 0.5258\n",
      "Epoch 37: val_loss did not improve from 0.63836\n",
      "31/31 [==============================] - 231s 7s/step - loss: 0.5929 - accuracy: 0.6783 - precision_1: 0.6862 - recall_1: 0.5258 - val_loss: 0.6410 - val_accuracy: 0.6275 - val_precision_1: 0.5853 - val_recall_1: 0.5747 - lr: 1.0000e-03 - duration: 231.2659\n",
      "Epoch 38/44\n",
      "31/31 [==============================] - ETA: 0s - loss: 0.5923 - accuracy: 0.6980 - precision_1: 0.6866 - recall_1: 0.6056\n",
      "Epoch 38: ReduceLROnPlateau reducing learning rate to 0.0005.\n",
      "\n",
      "Epoch 38: val_loss did not improve from 0.63836\n",
      "31/31 [==============================] - 230s 7s/step - loss: 0.5923 - accuracy: 0.6980 - precision_1: 0.6866 - recall_1: 0.6056 - val_loss: 0.6389 - val_accuracy: 0.6235 - val_precision_1: 0.5956 - val_recall_1: 0.4932 - lr: 1.0000e-03 - duration: 230.0903\n",
      "Epoch 39/44\n",
      "31/31 [==============================] - ETA: 0s - loss: 0.5877 - accuracy: 0.6874 - precision_1: 0.6809 - recall_1: 0.5753\n",
      "Epoch 39: val_loss did not improve from 0.63836\n",
      "31/31 [==============================] - 231s 7s/step - loss: 0.5877 - accuracy: 0.6874 - precision_1: 0.6809 - recall_1: 0.5753 - val_loss: 0.6393 - val_accuracy: 0.6275 - val_precision_1: 0.6135 - val_recall_1: 0.4525 - lr: 5.0000e-04 - duration: 231.4592\n",
      "Epoch 40/44\n",
      "31/31 [==============================] - ETA: 0s - loss: 0.5939 - accuracy: 0.6829 - precision_1: 0.6794 - recall_1: 0.5596\n",
      "Epoch 40: val_loss improved from 0.63836 to 0.63813, saving model to models/efficient_net_v2_log/fine_tuning_session_1/efficient_net_v2_log_fine_tuning_session_1_40-val_loss_0.64.keras\n",
      "31/31 [==============================] - 231s 7s/step - loss: 0.5939 - accuracy: 0.6829 - precision_1: 0.6794 - recall_1: 0.5596 - val_loss: 0.6381 - val_accuracy: 0.6336 - val_precision_1: 0.6176 - val_recall_1: 0.4751 - lr: 5.0000e-04 - duration: 229.7382\n",
      "Epoch 41/44\n",
      "31/31 [==============================] - ETA: 0s - loss: 0.5876 - accuracy: 0.6874 - precision_1: 0.6863 - recall_1: 0.5629\n",
      "Epoch 41: val_loss did not improve from 0.63813\n",
      "31/31 [==============================] - 234s 7s/step - loss: 0.5876 - accuracy: 0.6874 - precision_1: 0.6863 - recall_1: 0.5629 - val_loss: 0.6392 - val_accuracy: 0.6275 - val_precision_1: 0.5894 - val_recall_1: 0.5520 - lr: 5.0000e-04 - duration: 233.7007\n",
      "Epoch 42/44\n",
      "31/31 [==============================] - ETA: 0s - loss: 0.5893 - accuracy: 0.6904 - precision_1: 0.6853 - recall_1: 0.5775\n",
      "Epoch 42: val_loss did not improve from 0.63813\n",
      "31/31 [==============================] - 233s 7s/step - loss: 0.5893 - accuracy: 0.6904 - precision_1: 0.6853 - recall_1: 0.5775 - val_loss: 0.6388 - val_accuracy: 0.6255 - val_precision_1: 0.5918 - val_recall_1: 0.5249 - lr: 5.0000e-04 - duration: 233.0674\n",
      "Epoch 43/44\n",
      "31/31 [==============================] - ETA: 0s - loss: 0.5861 - accuracy: 0.6925 - precision_1: 0.6986 - recall_1: 0.5573\n",
      "Epoch 43: ReduceLROnPlateau reducing learning rate to 0.00025.\n",
      "\n",
      "Epoch 43: val_loss did not improve from 0.63813\n",
      "31/31 [==============================] - 233s 7s/step - loss: 0.5861 - accuracy: 0.6925 - precision_1: 0.6986 - recall_1: 0.5573 - val_loss: 0.6385 - val_accuracy: 0.6275 - val_precision_1: 0.6022 - val_recall_1: 0.4932 - lr: 5.0000e-04 - duration: 232.9304\n",
      "Epoch 44/44\n",
      "31/31 [==============================] - ETA: 0s - loss: 0.5841 - accuracy: 0.6980 - precision_1: 0.6838 - recall_1: 0.6124\n",
      "Epoch 44: val_loss did not improve from 0.63813\n",
      "31/31 [==============================] - 231s 7s/step - loss: 0.5841 - accuracy: 0.6980 - precision_1: 0.6838 - recall_1: 0.6124 - val_loss: 0.6382 - val_accuracy: 0.6356 - val_precision_1: 0.6213 - val_recall_1: 0.4751 - lr: 2.5000e-04 - duration: 231.3072\n",
      "WARNING:tensorflow:Detecting that an object or model or tf.train.Checkpoint is being deleted with unrestored values. See the following logs for the specific values in question. To silence these warnings, use `status.expect_partial()`. See https://www.tensorflow.org/api_docs/python/tf/train/Checkpoint#restorefor details about the status object returned by the restore function.\n",
      "WARNING:tensorflow:Detecting that an object or model or tf.train.Checkpoint is being deleted with unrestored values. See the following logs for the specific values in question. To silence these warnings, use `status.expect_partial()`. See https://www.tensorflow.org/api_docs/python/tf/train/Checkpoint#restorefor details about the status object returned by the restore function.\n",
      "WARNING:tensorflow:Value in checkpoint could not be found in the restored object: (root).layer-1.layer-0._random_generator._generator._state_var\n",
      "WARNING:tensorflow:Value in checkpoint could not be found in the restored object: (root).layer-1.layer-0._random_generator._generator._state_var\n",
      "INFO:tensorflow:Assets written to: ram://db5274b5-4a5e-49a6-b2db-5a12b9ca5327/assets\n",
      "INFO:tensorflow:Assets written to: ram://db5274b5-4a5e-49a6-b2db-5a12b9ca5327/assets\n"
     ]
    },
    {
     "name": "stderr",
     "output_type": "stream",
     "text": [
      "\u001b[34m\u001b[1mwandb\u001b[0m: Waiting for artifact efficient_net_v2_log-fine_tuning_session_1-a9im0leb to be committed...\n"
     ]
    },
    {
     "data": {
      "application/vnd.jupyter.widget-view+json": {
       "model_id": "39e427a5d9024143b5387fdf7485fe2d",
       "version_major": 2,
       "version_minor": 0
      },
      "text/plain": [
       "VBox(children=(Label(value='0.910 MB of 78.379 MB uploaded\\r'), FloatProgress(value=0.011607044072119254, max=…"
      ]
     },
     "metadata": {},
     "output_type": "display_data"
    },
    {
     "name": "stderr",
     "output_type": "stream",
     "text": [
      "\n",
      "\u001b[34m\u001b[1mwandb\u001b[0m: Committed artifact aistudio/breast_cancer_detection/efficient_net_v2_log-fine_tuning_session_1-a9im0leb:v0\n"
     ]
    },
    {
     "name": "stdout",
     "output_type": "stream",
     "text": [
      "\n",
      "\n",
      "INFO:LogThawSchedule:Thawed 7 layers of the base model.\n",
      "\n",
      "\n",
      "INFO:LogLearningRateSchedule:Set learning rate to 5.623413251903491e-05\n",
      "Model: \"model\"\n",
      "_________________________________________________________________\n",
      " Layer (type)                Output Shape              Param #   \n",
      "=================================================================\n",
      " input_layer (InputLayer)    [(None, 224, 224, 3)]     0         \n",
      "                                                                 \n",
      " data_augmentation (Sequenti  (None, 224, 224, 3)      0         \n",
      " al)                                                             \n",
      "                                                                 \n",
      " efficientnetv2-s (Functiona  (None, None, None, 1280)  20331360 \n",
      " l)                                                              \n",
      "                                                                 \n",
      " global_average_pooling_laye  (None, 1280)             0         \n",
      " r (GlobalAveragePooling2D)                                      \n",
      "                                                                 \n",
      " output_layer (Dense)        (None, 1)                 1281      \n",
      "                                                                 \n",
      "=================================================================\n",
      "Total params: 20,332,641\n",
      "Trainable params: 725,249\n",
      "Non-trainable params: 19,607,392\n",
      "_________________________________________________________________\n",
      "Epoch 45/54\n",
      "31/31 [==============================] - ETA: 0s - loss: 0.5863 - accuracy: 0.6960 - precision_1: 0.6752 - recall_1: 0.5725\n",
      "Epoch 45: val_loss improved from inf to 0.63610, saving model to models/efficient_net_v2_log/fine_tuning_session_2/efficient_net_v2_log_fine_tuning_session_2_45-val_loss_0.64.keras\n",
      "31/31 [==============================] - 256s 8s/step - loss: 0.5863 - accuracy: 0.6960 - precision_1: 0.6752 - recall_1: 0.5725 - val_loss: 0.6361 - val_accuracy: 0.6255 - val_precision_1: 0.5928 - val_recall_1: 0.5204 - lr: 5.6234e-05 - duration: 255.4232\n",
      "Epoch 46/54\n",
      "31/31 [==============================] - ETA: 0s - loss: 0.5779 - accuracy: 0.6975 - precision_1: 0.6867 - recall_1: 0.6034\n",
      "Epoch 46: val_loss did not improve from 0.63610\n",
      "31/31 [==============================] - 234s 7s/step - loss: 0.5779 - accuracy: 0.6975 - precision_1: 0.6867 - recall_1: 0.6034 - val_loss: 0.6432 - val_accuracy: 0.6154 - val_precision_1: 0.5643 - val_recall_1: 0.6154 - lr: 5.6234e-05 - duration: 233.7833\n",
      "Epoch 47/54\n",
      "31/31 [==============================] - ETA: 0s - loss: 0.5717 - accuracy: 0.6965 - precision_1: 0.6812 - recall_1: 0.6124\n",
      "Epoch 47: val_loss improved from 0.63610 to 0.63245, saving model to models/efficient_net_v2_log/fine_tuning_session_2/efficient_net_v2_log_fine_tuning_session_2_47-val_loss_0.63.keras\n",
      "31/31 [==============================] - 234s 7s/step - loss: 0.5717 - accuracy: 0.6965 - precision_1: 0.6812 - recall_1: 0.6124 - val_loss: 0.6325 - val_accuracy: 0.6417 - val_precision_1: 0.6236 - val_recall_1: 0.5023 - lr: 5.6234e-05 - duration: 232.6033\n",
      "Epoch 48/54\n",
      "31/31 [==============================] - ETA: 0s - loss: 0.5730 - accuracy: 0.6960 - precision_1: 0.6782 - recall_1: 0.6180\n",
      "Epoch 48: val_loss did not improve from 0.63245\n",
      "31/31 [==============================] - 230s 7s/step - loss: 0.5730 - accuracy: 0.6960 - precision_1: 0.6782 - recall_1: 0.6180 - val_loss: 0.6377 - val_accuracy: 0.6356 - val_precision_1: 0.5895 - val_recall_1: 0.6109 - lr: 5.6234e-05 - duration: 229.5314\n",
      "Epoch 49/54\n",
      "31/31 [==============================] - ETA: 0s - loss: 0.5680 - accuracy: 0.6980 - precision_1: 0.6999 - recall_1: 0.5764\n",
      "Epoch 49: val_loss did not improve from 0.63245\n",
      "31/31 [==============================] - 230s 7s/step - loss: 0.5680 - accuracy: 0.6980 - precision_1: 0.6999 - recall_1: 0.5764 - val_loss: 0.6350 - val_accuracy: 0.6356 - val_precision_1: 0.6096 - val_recall_1: 0.5158 - lr: 5.6234e-05 - duration: 229.6556\n",
      "Epoch 50/54\n",
      " 4/31 [==>...........................] - ETA: 2:50 - loss: 0.5270 - accuracy: 0.7422 - precision_1: 0.7477 - recall_1: 0.6860"
     ]
    }
   ],
   "source": [
    "if fine_tune:\n",
    "    ft = FineTuner(name=name, \n",
    "                train_ds=train_ds, \n",
    "                validation_ds=val_ds, \n",
    "                repo=repo,\n",
    "                thaw_schedule=thaw_schedule,\n",
    "                learning_rate_schedule=learning_rate_schedule,               \n",
    "                metrics=metrics,\n",
    "                fine_tune_epochs=fine_tune_epochs,\n",
    "                sessions=fine_tune_sessions,\n",
    "                callbacks=[early_stop_callback, reduce_lr_callback, wandb_callback],\n",
    "                )\n",
    "    ft.tune(model=model, historian=historian, force=force)\n",
    "run.finish()"
   ]
  },
  {
   "cell_type": "markdown",
   "metadata": {},
   "source": [
    "## Learning Curves"
   ]
  },
  {
   "cell_type": "code",
   "execution_count": null,
   "metadata": {},
   "outputs": [
    {
     "data": {
      "image/png": "[encoded data removed]",
      "text/plain": [
       "<Figure size 1200x400 with 2 Axes>"
      ]
     },
     "metadata": {},
     "output_type": "display_data"
    }
   ],
   "source": [
    "# Plot the historian\n",
    "historian.plot_learning_curves()"
   ]
  },
  {
   "cell_type": "markdown",
   "metadata": {},
   "source": [
    "## Evaluation"
   ]
  },
  {
   "cell_type": "raw",
   "metadata": {},
   "source": [
    "results = model.evaluate(test_ds, batch_size=batch_size)\n",
    "print(\"Test Loss, Test Accuracy: \", results)"
   ]
  }
 ],
 "metadata": {
  "kernelspec": {
   "display_name": "bcd",
   "language": "python",
   "name": "python3"
  },
  "language_info": {
   "codemirror_mode": {
    "name": "ipython",
    "version": 3
   },
   "file_extension": ".py",
   "mimetype": "text/x-python",
   "name": "python",
   "nbconvert_exporter": "python",
   "pygments_lexer": "ipython3",
   "version": "3.10.12"
  }
 },
 "nbformat": 4,
 "nbformat_minor": 2
}
