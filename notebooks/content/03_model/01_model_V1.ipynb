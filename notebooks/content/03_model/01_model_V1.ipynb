{
 "cells": [
  {
   "cell_type": "markdown",
   "metadata": {},
   "source": [
    "# Model V1"
   ]
  },
  {
   "cell_type": "code",
   "execution_count": 1,
   "metadata": {},
   "outputs": [],
   "source": [
    "import pathlib\n",
    "import tensorflow as tf\n",
    "import pandas as pd\n",
    "\n",
    "from bcd.model.factory import ModelFactoryV1\n",
    "from bcd.model.experiment import Experiment\n",
    "from bcd.model.repo import ModelRepo\n",
    "pd.set_option('display.max_rows',999)\n"
   ]
  },
  {
   "cell_type": "markdown",
   "metadata": {},
   "source": [
    "## Configuration"
   ]
  },
  {
   "cell_type": "code",
   "execution_count": 2,
   "metadata": {},
   "outputs": [
    {
     "name": "stdout",
     "output_type": "stream",
     "text": [
      "env: \"WANDB_NOTEBOOK_NAME\"=\"01_model_V1.ipynb\"\n"
     ]
    }
   ],
   "source": [
    "# Experiment Parameters\n",
    "%env \"WANDB_NOTEBOOK_NAME\" \"01_model_V1.ipynb\"\n",
    "project = \"BCD_V1\"\n",
    "full_dataset = False\n",
    "\n",
    "# Model Parameters\n",
    "force = False  # Whether to retrain if the model and weights already exist from a prior training session.\n",
    "metrics = ['accuracy', tf.keras.metrics.AUC(), tf.keras.metrics.Precision(), tf.keras.metrics.Recall()]\n",
    "loss = \"binary_crossentropy\"\n",
    "activation = \"sigmoid\"\n",
    "epochs = 100\n",
    "learning_rate = 1e-4\n",
    "num_classes = 2\n",
    "\n",
    "# Dataset params\n",
    "dataset = \"CBIS-DDSM\" if full_dataset else \"CBIS-DDSM-10\"\n",
    "batch_size = 64 if full_dataset else 32\n",
    "input_shape = (224,224,3)\n",
    "output_shape = 1\n",
    "train_dir = pathlib.Path(\"data/image/1_final/training/training/\").with_suffix('') if full_dataset else pathlib.Path(\"data/image/1_final/training_10/training/\").with_suffix('') \n",
    "test_dir = pathlib.Path(\"data/image/1_final/test/test/\").with_suffix('')\n",
    "\n",
    "# Early stop parameters \n",
    "es_min_delta = 0.0001\n",
    "es_monitor = \"val_loss\"  # Monitor validation loss for early stopping\n",
    "es_patience = 8  # The number of epochs for which lack of improvement is tolerated \n",
    "es_restore_best_weights = True  # Returns the best weights rather than the weights at the last epoch.\n",
    "es_verbose = 1\n",
    "\n",
    "# Reduce LR on Plateau Parameters\n",
    "rlr_monitor = \"val_loss\"\n",
    "rlr_factor = 0.5\n",
    "rlr_patience = 3\n",
    "rlr_verbose = 1\n",
    "rlr_mode = \"auto\"\n",
    "rlr_min_delta = 1e-4\n",
    "rlr_min_lr=1e-10\n",
    "\n"
   ]
  },
  {
   "cell_type": "markdown",
   "metadata": {},
   "source": [
    "## Experiment Config"
   ]
  },
  {
   "cell_type": "code",
   "execution_count": 3,
   "metadata": {},
   "outputs": [],
   "source": [
    "config = {\n",
    "    \"project\": project,        \n",
    "    \"dataset\": dataset,\n",
    "    \"num_classes\": num_classes,\n",
    "    \"batch_size\": batch_size,\n",
    "    \"epochs\": epochs,    \n",
    "    \"learning_rate\": learning_rate,\n",
    "    \"loss\": loss,    \n",
    "    \"early_stop_min_delta\": es_min_delta,\n",
    "    \"early_stop_monitor\": es_monitor,\n",
    "    \"early_stop_patience\": es_patience,\n",
    "    \"early_stop_restore_best_weights\": es_restore_best_weights,\n",
    "    \"early_stop_verbose\": es_verbose,\n",
    "    \"rlr_monitor\": rlr_monitor,\n",
    "    \"rlr_factor\": rlr_factor,\n",
    "    \"rlr_patience\": rlr_patience,\n",
    "    \"rlr_verbose\": rlr_verbose,\n",
    "    \"rlr_mode\": rlr_mode,\n",
    "    \"rlr_min_delta\": rlr_min_delta,\n",
    "    \"rlr_min_lr\": rlr_min_lr\n",
    "    \n",
    "}"
   ]
  },
  {
   "cell_type": "markdown",
   "metadata": {},
   "source": [
    "## Load Data"
   ]
  },
  {
   "cell_type": "code",
   "execution_count": 4,
   "metadata": {},
   "outputs": [
    {
     "name": "stdout",
     "output_type": "stream",
     "text": [
      "Found 276 files belonging to 2 classes.\n",
      "Using 221 files for training.\n",
      "Found 276 files belonging to 2 classes.\n",
      "Using 55 files for validation.\n",
      "Found 649 files belonging to 2 classes.\n"
     ]
    }
   ],
   "source": [
    "# Training DataSet (10%)\n",
    "train_ds = tf.keras.utils.image_dataset_from_directory(\n",
    "    train_dir,\n",
    "    labels=\"inferred\",\n",
    "    color_mode=\"rgb\",\n",
    "    image_size=(224,224),\n",
    "    shuffle=True,\n",
    "    validation_split=0.2,\n",
    "    subset='training',\n",
    "    interpolation=\"bilinear\",\n",
    "    seed=123,\n",
    "    batch_size=batch_size)\n",
    "\n",
    "# Validation DataSet (10%)\n",
    "val_ds = tf.keras.utils.image_dataset_from_directory(\n",
    "    train_dir,\n",
    "    labels=\"inferred\",\n",
    "    color_mode=\"rgb\",\n",
    "    image_size=(224,224),\n",
    "    shuffle=True,\n",
    "    validation_split=0.2,\n",
    "    subset='validation',\n",
    "    interpolation=\"bilinear\",\n",
    "    seed=123,\n",
    "    batch_size=batch_size)\n",
    "\n",
    "# Test Set\n",
    "test_ds = tf.keras.utils.image_dataset_from_directory(\n",
    "    test_dir,\n",
    "    labels=\"inferred\",\n",
    "    color_mode=\"rgb\",\n",
    "    image_size=(224,224),\n",
    "    shuffle=True)"
   ]
  },
  {
   "cell_type": "markdown",
   "metadata": {},
   "source": [
    "## Callbacks"
   ]
  },
  {
   "cell_type": "code",
   "execution_count": 5,
   "metadata": {},
   "outputs": [],
   "source": [
    "early_stop_callback = tf.keras.callbacks.EarlyStopping(monitor=es_monitor, \n",
    "                                                       min_delta=es_min_delta,\n",
    "                                                       patience=es_patience, \n",
    "                                                       restore_best_weights=es_restore_best_weights,\n",
    "                                                       verbose=es_verbose)\n",
    "\n",
    "reduce_lr_callback = tf.keras.callbacks.ReduceLROnPlateau(monitor=rlr_monitor,\n",
    "                                                          factor=rlr_factor,\n",
    "                                                          patience=rlr_patience,\n",
    "                                                          verbose=rlr_verbose,\n",
    "                                                          mode=rlr_mode,\n",
    "                                                          min_delta=rlr_min_delta,\n",
    "                                                          min_lr=rlr_min_lr)\n",
    "callbacks = [early_stop_callback, reduce_lr_callback]"
   ]
  },
  {
   "cell_type": "markdown",
   "metadata": {},
   "source": [
    "## Dependencies"
   ]
  },
  {
   "cell_type": "code",
   "execution_count": 6,
   "metadata": {},
   "outputs": [],
   "source": [
    "optimizer=tf.keras.optimizers.Adam(learning_rate=learning_rate)\n",
    "repo = ModelRepo()"
   ]
  },
  {
   "cell_type": "markdown",
   "metadata": {},
   "source": [
    "## DenseNet Experiment"
   ]
  },
  {
   "cell_type": "code",
   "execution_count": 7,
   "metadata": {},
   "outputs": [
    {
     "name": "stdout",
     "output_type": "stream",
     "text": [
      "Model: \"model\"\n",
      "_________________________________________________________________\n",
      " Layer (type)                Output Shape              Param #   \n",
      "=================================================================\n",
      " input_layer (InputLayer)    [(None, 224, 224, 3)]     0         \n",
      "                                                                 \n",
      " tf.math.truediv (TFOpLambda  (None, 224, 224, 3)      0         \n",
      " )                                                               \n",
      "                                                                 \n",
      " tf.nn.bias_add (TFOpLambda)  (None, 224, 224, 3)      0         \n",
      "                                                                 \n",
      " tf.math.truediv_1 (TFOpLamb  (None, 224, 224, 3)      0         \n",
      " da)                                                             \n",
      "                                                                 \n",
      " data_augmentation (Sequenti  (None, 224, 224, 3)      0         \n",
      " al)                                                             \n",
      "                                                                 \n",
      " densenet201 (Functional)    (None, None, None, 1920)  18321984  \n",
      "                                                                 \n",
      " bcd_global_average_pooling   (None, 1920)             0         \n",
      " (GlobalAveragePooling2D)                                        \n",
      "                                                                 \n",
      " bcd_dense_1 (Dense)         (None, 1024)              1967104   \n",
      "                                                                 \n",
      " bcd_dropout_1 (Dropout)     (None, 1024)              0         \n",
      "                                                                 \n",
      " bcd_dense_2 (Dense)         (None, 1024)              1049600   \n",
      "                                                                 \n",
      " bcd_dropout_2 (Dropout)     (None, 1024)              0         \n",
      "                                                                 \n",
      " bcd_dense_3 (Dense)         (None, 512)               524800    \n",
      "                                                                 \n",
      " bcd_dense_4 (Dense)         (None, 128)               65664     \n",
      "                                                                 \n",
      " bcd_output_layer (Dense)    (None, 1)                 129       \n",
      "                                                                 \n",
      "=================================================================\n",
      "Total params: 21,929,281\n",
      "Trainable params: 3,607,297\n",
      "Non-trainable params: 18,321,984\n",
      "_________________________________________________________________\n",
      "              precision    recall  f1-score   support\n",
      "\n",
      "      benign       0.76      0.76      0.76        38\n",
      "   malignant       0.47      0.47      0.47        17\n",
      "\n",
      "    accuracy                           0.67        55\n",
      "   macro avg       0.62      0.62      0.62        55\n",
      "weighted avg       0.67      0.67      0.67        55\n",
      "\n"
     ]
    },
    {
     "data": {
      "image/png": "[encoded data removed]",
      "text/plain": [
       "<Figure size 400x400 with 1 Axes>"
      ]
     },
     "metadata": {},
     "output_type": "display_data"
    },
    {
     "name": "stdout",
     "output_type": "stream",
     "text": [
      "21/21 [==============================] - 115s 5s/step - loss: 0.6835 - accuracy: 0.5208 - auc: 0.5292 - precision: 0.3842 - recall: 0.2955\n"
     ]
    },
    {
     "data": {
      "text/plain": [
       "[0.6834872961044312,\n",
       " 0.5208012461662292,\n",
       " 0.5292453765869141,\n",
       " 0.3842364549636841,\n",
       " 0.2954545319080353]"
      ]
     },
     "execution_count": 7,
     "metadata": {},
     "output_type": "execute_result"
    }
   ],
   "source": [
    "# Obtain the DenseNet model\n",
    "factory = ModelFactoryV1(input_shape=input_shape, output_shape=output_shape, activation=activation)\n",
    "densenet = factory.create_densenet()\n",
    "densenet.summary()\n",
    "\n",
    "# Create and run the experiment.\n",
    "densenet_experiment = Experiment(model=densenet, config=config, repo=repo, optimizer=optimizer, callbacks=callbacks, metrics=metrics, force=force)\n",
    "densenet_experiment.run(train_ds=train_ds, val_ds=val_ds)\n",
    "densenet_experiment.classification_report(data=val_ds)\n",
    "densenet_experiment.plot_confusion_matrix(data=val_ds)\n",
    "densenet_experiment.evaluate(data=test_ds)"
   ]
  },
  {
   "cell_type": "markdown",
   "metadata": {},
   "source": [
    "## ResNet Experiment"
   ]
  },
  {
   "cell_type": "code",
   "execution_count": 8,
   "metadata": {},
   "outputs": [
    {
     "name": "stdout",
     "output_type": "stream",
     "text": [
      "Model: \"model_1\"\n",
      "_________________________________________________________________\n",
      " Layer (type)                Output Shape              Param #   \n",
      "=================================================================\n",
      " input_layer (InputLayer)    [(None, 224, 224, 3)]     0         \n",
      "                                                                 \n",
      " tf.math.truediv_2 (TFOpLamb  (None, 224, 224, 3)      0         \n",
      " da)                                                             \n",
      "                                                                 \n",
      " tf.math.subtract (TFOpLambd  (None, 224, 224, 3)      0         \n",
      " a)                                                              \n",
      "                                                                 \n",
      " data_augmentation (Sequenti  (None, 224, 224, 3)      0         \n",
      " al)                                                             \n",
      "                                                                 \n",
      " resnet152v2 (Functional)    (None, None, None, 2048)  58331648  \n",
      "                                                                 \n",
      " bcd_global_average_pooling   (None, 2048)             0         \n",
      " (GlobalAveragePooling2D)                                        \n",
      "                                                                 \n",
      " bcd_dense_1 (Dense)         (None, 1024)              2098176   \n",
      "                                                                 \n",
      " bcd_dropout_1 (Dropout)     (None, 1024)              0         \n",
      "                                                                 \n",
      " bcd_dense_2 (Dense)         (None, 1024)              1049600   \n",
      "                                                                 \n",
      " bcd_dropout_2 (Dropout)     (None, 1024)              0         \n",
      "                                                                 \n",
      " bcd_dense_3 (Dense)         (None, 512)               524800    \n",
      "                                                                 \n",
      " bcd_dense_4 (Dense)         (None, 128)               65664     \n",
      "                                                                 \n",
      " bcd_output_layer (Dense)    (None, 1)                 129       \n",
      "                                                                 \n",
      "=================================================================\n",
      "Total params: 62,070,017\n",
      "Trainable params: 3,738,369\n",
      "Non-trainable params: 58,331,648\n",
      "_________________________________________________________________\n",
      "              precision    recall  f1-score   support\n",
      "\n",
      "      benign       0.71      0.89      0.79        38\n",
      "   malignant       0.43      0.18      0.25        17\n",
      "\n",
      "    accuracy                           0.67        55\n",
      "   macro avg       0.57      0.54      0.52        55\n",
      "weighted avg       0.62      0.67      0.62        55\n",
      "\n"
     ]
    },
    {
     "data": {
      "image/png": "[encoded data removed]",
      "text/plain": [
       "<Figure size 400x400 with 1 Axes>"
      ]
     },
     "metadata": {},
     "output_type": "display_data"
    },
    {
     "name": "stdout",
     "output_type": "stream",
     "text": [
      "21/21 [==============================] - 150s 7s/step - loss: 0.6898 - accuracy: 0.5701 - auc: 0.5184 - precision: 0.4476 - recall: 0.2424\n"
     ]
    },
    {
     "data": {
      "text/plain": [
       "[0.6897546648979187,\n",
       " 0.5701078772544861,\n",
       " 0.5183687210083008,\n",
       " 0.4475524425506592,\n",
       " 0.24242424964904785]"
      ]
     },
     "execution_count": 8,
     "metadata": {},
     "output_type": "execute_result"
    }
   ],
   "source": [
    "# Obtain the ResNet model\n",
    "resnet = factory.create_resnet()\n",
    "resnet.summary()\n",
    "\n",
    "# Create and run the experiment.\n",
    "resnet_experiment = Experiment(model=resnet, config=config, repo=repo, optimizer=optimizer, callbacks=callbacks, metrics=metrics, force=force)\n",
    "resnet_experiment.run(train_ds=train_ds, val_ds=val_ds)\n",
    "resnet_experiment.classification_report(data=val_ds)\n",
    "resnet_experiment.plot_confusion_matrix(data=val_ds)\n",
    "resnet_experiment.evaluate(data=test_ds)"
   ]
  },
  {
   "cell_type": "markdown",
   "metadata": {},
   "source": [
    "## Inception Experiment"
   ]
  },
  {
   "cell_type": "code",
   "execution_count": 9,
   "metadata": {},
   "outputs": [
    {
     "name": "stdout",
     "output_type": "stream",
     "text": [
      "Model: \"model_2\"\n",
      "_________________________________________________________________\n",
      " Layer (type)                Output Shape              Param #   \n",
      "=================================================================\n",
      " input_layer (InputLayer)    [(None, 224, 224, 3)]     0         \n",
      "                                                                 \n",
      " tf.math.truediv_3 (TFOpLamb  (None, 224, 224, 3)      0         \n",
      " da)                                                             \n",
      "                                                                 \n",
      " tf.math.subtract_1 (TFOpLam  (None, 224, 224, 3)      0         \n",
      " bda)                                                            \n",
      "                                                                 \n",
      " data_augmentation (Sequenti  (None, 224, 224, 3)      0         \n",
      " al)                                                             \n",
      "                                                                 \n",
      " inception_v3 (Functional)   (None, None, None, 2048)  21802784  \n",
      "                                                                 \n",
      " bcd_global_average_pooling   (None, 2048)             0         \n",
      " (GlobalAveragePooling2D)                                        \n",
      "                                                                 \n",
      " bcd_dense_1 (Dense)         (None, 1024)              2098176   \n",
      "                                                                 \n",
      " bcd_dropout_1 (Dropout)     (None, 1024)              0         \n",
      "                                                                 \n",
      " bcd_dense_2 (Dense)         (None, 1024)              1049600   \n",
      "                                                                 \n",
      " bcd_dropout_2 (Dropout)     (None, 1024)              0         \n",
      "                                                                 \n",
      " bcd_dense_3 (Dense)         (None, 512)               524800    \n",
      "                                                                 \n",
      " bcd_dense_4 (Dense)         (None, 128)               65664     \n",
      "                                                                 \n",
      " bcd_output_layer (Dense)    (None, 1)                 129       \n",
      "                                                                 \n",
      "=================================================================\n",
      "Total params: 25,541,153\n",
      "Trainable params: 3,738,369\n",
      "Non-trainable params: 21,802,784\n",
      "_________________________________________________________________\n"
     ]
    },
    {
     "name": "stderr",
     "output_type": "stream",
     "text": [
      "Failed to detect the name of this notebook, you can set it manually with the WANDB_NOTEBOOK_NAME environment variable to enable code saving.\n",
      "\u001b[34m\u001b[1mwandb\u001b[0m: Currently logged in as: \u001b[33maistudio\u001b[0m. Use \u001b[1m`wandb login --relogin`\u001b[0m to force relogin\n"
     ]
    },
    {
     "data": {
      "text/html": [
       "wandb version 0.16.3 is available!  To upgrade, please run:\n",
       " $ pip install wandb --upgrade"
      ],
      "text/plain": [
       "<IPython.core.display.HTML object>"
      ]
     },
     "metadata": {},
     "output_type": "display_data"
    },
    {
     "data": {
      "text/html": [
       "Tracking run with wandb version 0.16.2"
      ],
      "text/plain": [
       "<IPython.core.display.HTML object>"
      ]
     },
     "metadata": {},
     "output_type": "display_data"
    },
    {
     "data": {
      "text/html": [
       "Run data is saved locally in <code>/home/john/projects/bcd/wandb/run-20240207_070659-wtu0w3od</code>"
      ],
      "text/plain": [
       "<IPython.core.display.HTML object>"
      ]
     },
     "metadata": {},
     "output_type": "display_data"
    },
    {
     "data": {
      "text/html": [
       "Syncing run <strong><a href='https://wandb.ai/aistudio/BCD_V1/runs/wtu0w3od' target=\"_blank\">effortless-gorge-5</a></strong> to <a href='https://wandb.ai/aistudio/BCD_V1' target=\"_blank\">Weights & Biases</a> (<a href='https://wandb.me/run' target=\"_blank\">docs</a>)<br/>"
      ],
      "text/plain": [
       "<IPython.core.display.HTML object>"
      ]
     },
     "metadata": {},
     "output_type": "display_data"
    },
    {
     "data": {
      "text/html": [
       " View project at <a href='https://wandb.ai/aistudio/BCD_V1' target=\"_blank\">https://wandb.ai/aistudio/BCD_V1</a>"
      ],
      "text/plain": [
       "<IPython.core.display.HTML object>"
      ]
     },
     "metadata": {},
     "output_type": "display_data"
    },
    {
     "data": {
      "text/html": [
       " View run at <a href='https://wandb.ai/aistudio/BCD_V1/runs/wtu0w3od' target=\"_blank\">https://wandb.ai/aistudio/BCD_V1/runs/wtu0w3od</a>"
      ],
      "text/plain": [
       "<IPython.core.display.HTML object>"
      ]
     },
     "metadata": {},
     "output_type": "display_data"
    },
    {
     "name": "stdout",
     "output_type": "stream",
     "text": [
      "Epoch 1/100\n",
      "7/7 [==============================] - 27s 2s/step - loss: 0.7103 - accuracy: 0.5339 - auc: 0.4779 - precision: 0.3922 - recall: 0.2174 - val_loss: 0.6222 - val_accuracy: 0.6727 - val_auc: 0.6238 - val_precision: 0.0000e+00 - val_recall: 0.0000e+00 - lr: 1.0000e-04\n",
      "Epoch 2/100\n",
      "7/7 [==============================] - 18s 2s/step - loss: 0.6821 - accuracy: 0.5701 - auc: 0.5632 - precision: 0.4694 - recall: 0.2500 - val_loss: 0.6501 - val_accuracy: 0.6182 - val_auc: 0.5859 - val_precision: 0.3000 - val_recall: 0.1765 - lr: 1.0000e-04\n",
      "Epoch 3/100\n",
      "7/7 [==============================] - 18s 2s/step - loss: 0.6712 - accuracy: 0.5928 - auc: 0.5922 - precision: 0.5294 - recall: 0.1957 - val_loss: 0.6515 - val_accuracy: 0.6000 - val_auc: 0.6029 - val_precision: 0.3913 - val_recall: 0.5294 - lr: 1.0000e-04\n",
      "Epoch 4/100\n",
      "7/7 [==============================] - ETA: 0s - loss: 0.6660 - accuracy: 0.5837 - auc: 0.6378 - precision: 0.5000 - recall: 0.5761\n",
      "Epoch 4: ReduceLROnPlateau reducing learning rate to 4.999999873689376e-05.\n",
      "7/7 [==============================] - 18s 2s/step - loss: 0.6660 - accuracy: 0.5837 - auc: 0.6378 - precision: 0.5000 - recall: 0.5761 - val_loss: 0.6522 - val_accuracy: 0.5636 - val_auc: 0.5704 - val_precision: 0.3158 - val_recall: 0.3529 - lr: 1.0000e-04\n",
      "Epoch 5/100\n",
      "7/7 [==============================] - 18s 2s/step - loss: 0.6620 - accuracy: 0.6516 - auc: 0.6109 - precision: 0.6596 - recall: 0.3370 - val_loss: 0.6234 - val_accuracy: 0.5818 - val_auc: 0.5441 - val_precision: 0.0000e+00 - val_recall: 0.0000e+00 - lr: 5.0000e-05\n",
      "Epoch 6/100\n",
      "7/7 [==============================] - 17s 2s/step - loss: 0.6361 - accuracy: 0.6109 - auc: 0.6780 - precision: 0.5714 - recall: 0.2609 - val_loss: 0.6602 - val_accuracy: 0.5455 - val_auc: 0.5464 - val_precision: 0.3000 - val_recall: 0.3529 - lr: 5.0000e-05\n",
      "Epoch 7/100\n",
      "7/7 [==============================] - ETA: 0s - loss: 0.6391 - accuracy: 0.6561 - auc: 0.6618 - precision: 0.6250 - recall: 0.4348\n",
      "Epoch 7: ReduceLROnPlateau reducing learning rate to 2.499999936844688e-05.\n",
      "7/7 [==============================] - 18s 2s/step - loss: 0.6391 - accuracy: 0.6561 - auc: 0.6618 - precision: 0.6250 - recall: 0.4348 - val_loss: 0.6697 - val_accuracy: 0.5091 - val_auc: 0.5387 - val_precision: 0.2917 - val_recall: 0.4118 - lr: 5.0000e-05\n",
      "Epoch 8/100\n",
      "7/7 [==============================] - 17s 2s/step - loss: 0.6349 - accuracy: 0.6109 - auc: 0.6628 - precision: 0.5500 - recall: 0.3587 - val_loss: 0.6625 - val_accuracy: 0.5273 - val_auc: 0.5449 - val_precision: 0.2632 - val_recall: 0.2941 - lr: 2.5000e-05\n",
      "Epoch 9/100\n",
      "7/7 [==============================] - ETA: 0s - loss: 0.6416 - accuracy: 0.5837 - auc: 0.6546 - precision: 0.5000 - recall: 0.3370Restoring model weights from the end of the best epoch: 1.\n",
      "7/7 [==============================] - 18s 2s/step - loss: 0.6416 - accuracy: 0.5837 - auc: 0.6546 - precision: 0.5000 - recall: 0.3370 - val_loss: 0.6626 - val_accuracy: 0.5455 - val_auc: 0.5542 - val_precision: 0.3000 - val_recall: 0.3529 - lr: 2.5000e-05\n",
      "Epoch 9: early stopping\n"
     ]
    },
    {
     "name": "stderr",
     "output_type": "stream",
     "text": [
      "\u001b[34m\u001b[1mwandb\u001b[0m: Waiting for artifact InceptionV3_V1-CBIS-DDSM-10-wtu0w3od to be committed...\n"
     ]
    },
    {
     "data": {
      "application/vnd.jupyter.widget-view+json": {
       "model_id": "b655335598fc4542b56b544741f1f53c",
       "version_major": 2,
       "version_minor": 0
      },
      "text/plain": [
       "VBox(children=(Label(value='0.003 MB of 126.493 MB uploaded\\r'), FloatProgress(value=2.7186863090621596e-05, m…"
      ]
     },
     "metadata": {},
     "output_type": "display_data"
    },
    {
     "name": "stderr",
     "output_type": "stream",
     "text": [
      "\n",
      "\u001b[34m\u001b[1mwandb\u001b[0m: Committed artifact aistudio/BCD_V1/InceptionV3_V1-CBIS-DDSM-10-wtu0w3od:v0\n",
      "wandb: WARNING Source type is set to 'repo' but some required information is missing from the environment. A job will not be created from this run. See https://docs.wandb.ai/guides/launch/create-job\n"
     ]
    },
    {
     "data": {
      "text/html": [
       "<style>\n",
       "    table.wandb td:nth-child(1) { padding: 0 10px; text-align: left ; width: auto;} td:nth-child(2) {text-align: left ; width: 100%}\n",
       "    .wandb-row { display: flex; flex-direction: row; flex-wrap: wrap; justify-content: flex-start; width: 100% }\n",
       "    .wandb-col { display: flex; flex-direction: column; flex-basis: 100%; flex: 1; padding: 10px; }\n",
       "    </style>\n",
       "<div class=\"wandb-row\"><div class=\"wandb-col\"><h3>Run history:</h3><br/><table class=\"wandb\"><tr><td>epoch/accuracy</td><td>▁▃▄▄█▅█▅▄</td></tr><tr><td>epoch/auc</td><td>▁▄▅▇▆█▇▇▇</td></tr><tr><td>epoch/epoch</td><td>▁▂▃▄▅▅▆▇█</td></tr><tr><td>epoch/learning_rate</td><td>███▃▃▃▁▁▁</td></tr><tr><td>epoch/loss</td><td>█▅▄▄▄▁▁▁▂</td></tr><tr><td>epoch/lr</td><td>████▃▃▃▁▁</td></tr><tr><td>epoch/precision</td><td>▁▃▅▄█▆▇▅▄</td></tr><tr><td>epoch/recall</td><td>▁▂▁█▄▂▅▄▄</td></tr><tr><td>epoch/val_accuracy</td><td>█▆▅▃▄▃▁▂▃</td></tr><tr><td>epoch/val_auc</td><td>█▅▆▄▁▂▁▂▂</td></tr><tr><td>epoch/val_loss</td><td>▁▅▅▅▁▇█▇▇</td></tr><tr><td>epoch/val_precision</td><td>▁▆█▇▁▆▆▆▆</td></tr><tr><td>epoch/val_recall</td><td>▁▃█▆▁▆▆▅▆</td></tr></table><br/></div><div class=\"wandb-col\"><h3>Run summary:</h3><br/><table class=\"wandb\"><tr><td>epoch/accuracy</td><td>0.58371</td></tr><tr><td>epoch/auc</td><td>0.65462</td></tr><tr><td>epoch/epoch</td><td>8</td></tr><tr><td>epoch/learning_rate</td><td>2e-05</td></tr><tr><td>epoch/loss</td><td>0.64162</td></tr><tr><td>epoch/lr</td><td>2e-05</td></tr><tr><td>epoch/precision</td><td>0.5</td></tr><tr><td>epoch/recall</td><td>0.33696</td></tr><tr><td>epoch/val_accuracy</td><td>0.54545</td></tr><tr><td>epoch/val_auc</td><td>0.55418</td></tr><tr><td>epoch/val_loss</td><td>0.66262</td></tr><tr><td>epoch/val_precision</td><td>0.3</td></tr><tr><td>epoch/val_recall</td><td>0.35294</td></tr></table><br/></div></div>"
      ],
      "text/plain": [
       "<IPython.core.display.HTML object>"
      ]
     },
     "metadata": {},
     "output_type": "display_data"
    },
    {
     "data": {
      "text/html": [
       " View run <strong style=\"color:#cdcd00\">effortless-gorge-5</strong> at: <a href='https://wandb.ai/aistudio/BCD_V1/runs/wtu0w3od' target=\"_blank\">https://wandb.ai/aistudio/BCD_V1/runs/wtu0w3od</a><br/>Synced 6 W&B file(s), 0 media file(s), 1 artifact file(s) and 0 other file(s)"
      ],
      "text/plain": [
       "<IPython.core.display.HTML object>"
      ]
     },
     "metadata": {},
     "output_type": "display_data"
    },
    {
     "data": {
      "text/html": [
       "Find logs at: <code>./wandb/run-20240207_070659-wtu0w3od/logs</code>"
      ],
      "text/plain": [
       "<IPython.core.display.HTML object>"
      ]
     },
     "metadata": {},
     "output_type": "display_data"
    },
    {
     "name": "stdout",
     "output_type": "stream",
     "text": [
      "              precision    recall  f1-score   support\n",
      "\n",
      "      benign       0.69      0.97      0.80        38\n",
      "   malignant       0.00      0.00      0.00        17\n",
      "\n",
      "    accuracy                           0.67        55\n",
      "   macro avg       0.34      0.49      0.40        55\n",
      "weighted avg       0.47      0.67      0.56        55\n",
      "\n"
     ]
    },
    {
     "data": {
      "image/png": "[encoded data removed]",
      "text/plain": [
       "<Figure size 400x400 with 1 Axes>"
      ]
     },
     "metadata": {},
     "output_type": "display_data"
    },
    {
     "name": "stdout",
     "output_type": "stream",
     "text": [
      "21/21 [==============================] - 43s 2s/step - loss: 0.6740 - accuracy: 0.5948 - auc: 0.5325 - precision: 0.6000 - recall: 0.0114\n"
     ]
    },
    {
     "data": {
      "text/plain": [
       "[0.6739670634269714,\n",
       " 0.5947611927986145,\n",
       " 0.5324872136116028,\n",
       " 0.6000000238418579,\n",
       " 0.011363636702299118]"
      ]
     },
     "execution_count": 9,
     "metadata": {},
     "output_type": "execute_result"
    }
   ],
   "source": [
    "# Obtain the ResNet model\n",
    "inception = factory.create_inception()\n",
    "inception.summary()\n",
    "\n",
    "# Create and run the experiment.\n",
    "inception_experiment = Experiment(model=inception, config=config, repo=repo, optimizer=optimizer, callbacks=callbacks, metrics=metrics, force=force)\n",
    "inception_experiment.run(train_ds=train_ds, val_ds=val_ds)\n",
    "inception_experiment.classification_report(data=val_ds)\n",
    "inception_experiment.plot_confusion_matrix(data=val_ds)\n",
    "inception_experiment.evaluate(data=test_ds)\n"
   ]
  },
  {
   "cell_type": "markdown",
   "metadata": {},
   "source": [
    "## EfficientNet Experiment"
   ]
  },
  {
   "cell_type": "code",
   "execution_count": 10,
   "metadata": {},
   "outputs": [
    {
     "name": "stdout",
     "output_type": "stream",
     "text": [
      "Model: \"model\"\n",
      "_________________________________________________________________\n",
      " Layer (type)                Output Shape              Param #   \n",
      "=================================================================\n",
      " input_layer (InputLayer)    [(None, 224, 224, 3)]     0         \n",
      "                                                                 \n",
      " tf.math.truediv (TFOpLambda  (None, 224, 224, 3)      0         \n",
      " )                                                               \n",
      "                                                                 \n",
      " tf.math.subtract (TFOpLambd  (None, 224, 224, 3)      0         \n",
      " a)                                                              \n",
      "                                                                 \n",
      " data_augmentation (Sequenti  (None, 224, 224, 3)      0         \n",
      " al)                                                             \n",
      "                                                                 \n",
      " efficientnetv2-s (Functiona  (None, None, None, 1280)  20331360 \n",
      " l)                                                              \n",
      "                                                                 \n",
      " bcd_global_average_pooling   (None, 1280)             0         \n",
      " (GlobalAveragePooling2D)                                        \n",
      "                                                                 \n",
      " bcd_dense_1 (Dense)         (None, 1024)              1311744   \n",
      "                                                                 \n",
      " bcd_dropout_1 (Dropout)     (None, 1024)              0         \n",
      "                                                                 \n",
      " bcd_dense_2 (Dense)         (None, 1024)              1049600   \n",
      "                                                                 \n",
      " bcd_dropout_2 (Dropout)     (None, 1024)              0         \n",
      "                                                                 \n",
      " bcd_dense_3 (Dense)         (None, 512)               524800    \n",
      "                                                                 \n",
      " bcd_dense_4 (Dense)         (None, 128)               65664     \n",
      "                                                                 \n",
      " bcd_output_layer (Dense)    (None, 1)                 129       \n",
      "                                                                 \n",
      "=================================================================\n",
      "Total params: 23,283,297\n",
      "Trainable params: 2,951,937\n",
      "Non-trainable params: 20,331,360\n",
      "_________________________________________________________________\n"
     ]
    },
    {
     "data": {
      "text/html": [
       "wandb version 0.16.3 is available!  To upgrade, please run:\n",
       " $ pip install wandb --upgrade"
      ],
      "text/plain": [
       "<IPython.core.display.HTML object>"
      ]
     },
     "metadata": {},
     "output_type": "display_data"
    },
    {
     "data": {
      "text/html": [
       "Tracking run with wandb version 0.16.2"
      ],
      "text/plain": [
       "<IPython.core.display.HTML object>"
      ]
     },
     "metadata": {},
     "output_type": "display_data"
    },
    {
     "data": {
      "text/html": [
       "Run data is saved locally in <code>/home/john/projects/bcd/wandb/run-20240207_071244-473aanzv</code>"
      ],
      "text/plain": [
       "<IPython.core.display.HTML object>"
      ]
     },
     "metadata": {},
     "output_type": "display_data"
    },
    {
     "data": {
      "text/html": [
       "Syncing run <strong><a href='https://wandb.ai/aistudio/BCD_V1/runs/473aanzv' target=\"_blank\">expert-disco-6</a></strong> to <a href='https://wandb.ai/aistudio/BCD_V1' target=\"_blank\">Weights & Biases</a> (<a href='https://wandb.me/run' target=\"_blank\">docs</a>)<br/>"
      ],
      "text/plain": [
       "<IPython.core.display.HTML object>"
      ]
     },
     "metadata": {},
     "output_type": "display_data"
    },
    {
     "data": {
      "text/html": [
       " View project at <a href='https://wandb.ai/aistudio/BCD_V1' target=\"_blank\">https://wandb.ai/aistudio/BCD_V1</a>"
      ],
      "text/plain": [
       "<IPython.core.display.HTML object>"
      ]
     },
     "metadata": {},
     "output_type": "display_data"
    },
    {
     "data": {
      "text/html": [
       " View run at <a href='https://wandb.ai/aistudio/BCD_V1/runs/473aanzv' target=\"_blank\">https://wandb.ai/aistudio/BCD_V1/runs/473aanzv</a>"
      ],
      "text/plain": [
       "<IPython.core.display.HTML object>"
      ]
     },
     "metadata": {},
     "output_type": "display_data"
    },
    {
     "name": "stdout",
     "output_type": "stream",
     "text": [
      "Epoch 1/100\n",
      "7/7 [==============================] - 46s 4s/step - loss: 0.7039 - accuracy: 0.4299 - auc: 0.5172 - precision: 0.3988 - recall: 0.1826 - val_loss: 0.6822 - val_accuracy: 0.6909 - val_auc: 0.3669 - val_precision: 0.0000e+00 - val_recall: 0.0000e+00 - lr: 2.5000e-05\n",
      "Epoch 2/100\n",
      "7/7 [==============================] - 27s 4s/step - loss: 0.6892 - accuracy: 0.5656 - auc: 0.4635 - precision: 0.4286 - recall: 0.1304 - val_loss: 0.6666 - val_accuracy: 0.6909 - val_auc: 0.4040 - val_precision: 0.0000e+00 - val_recall: 0.0000e+00 - lr: 2.5000e-05\n",
      "Epoch 3/100\n",
      "7/7 [==============================] - 28s 4s/step - loss: 0.6823 - accuracy: 0.5882 - auc: 0.4962 - precision: 1.0000 - recall: 0.0109 - val_loss: 0.6545 - val_accuracy: 0.6909 - val_auc: 0.4389 - val_precision: 0.0000e+00 - val_recall: 0.0000e+00 - lr: 2.5000e-05\n",
      "Epoch 4/100\n",
      "7/7 [==============================] - 29s 4s/step - loss: 0.6822 - accuracy: 0.5837 - auc: 0.4762 - precision: 0.0000e+00 - recall: 0.0000e+00 - val_loss: 0.6474 - val_accuracy: 0.6909 - val_auc: 0.4056 - val_precision: 0.0000e+00 - val_recall: 0.0000e+00 - lr: 2.5000e-05\n",
      "Epoch 5/100\n",
      "7/7 [==============================] - 27s 3s/step - loss: 0.6726 - accuracy: 0.5837 - auc: 0.5999 - precision: 0.0000e+00 - recall: 0.0000e+00 - val_loss: 0.6440 - val_accuracy: 0.6909 - val_auc: 0.4218 - val_precision: 0.0000e+00 - val_recall: 0.0000e+00 - lr: 2.5000e-05\n",
      "Epoch 6/100\n",
      "7/7 [==============================] - 28s 4s/step - loss: 0.6728 - accuracy: 0.5837 - auc: 0.6029 - precision: 0.0000e+00 - recall: 0.0000e+00 - val_loss: 0.6408 - val_accuracy: 0.6909 - val_auc: 0.4110 - val_precision: 0.0000e+00 - val_recall: 0.0000e+00 - lr: 2.5000e-05\n",
      "Epoch 7/100\n",
      "7/7 [==============================] - 27s 4s/step - loss: 0.6759 - accuracy: 0.5837 - auc: 0.5652 - precision: 0.0000e+00 - recall: 0.0000e+00 - val_loss: 0.6404 - val_accuracy: 0.6909 - val_auc: 0.5286 - val_precision: 0.0000e+00 - val_recall: 0.0000e+00 - lr: 2.5000e-05\n",
      "Epoch 8/100\n",
      "7/7 [==============================] - 28s 4s/step - loss: 0.6753 - accuracy: 0.5837 - auc: 0.5523 - precision: 0.0000e+00 - recall: 0.0000e+00 - val_loss: 0.6409 - val_accuracy: 0.6909 - val_auc: 0.5356 - val_precision: 0.0000e+00 - val_recall: 0.0000e+00 - lr: 2.5000e-05\n",
      "Epoch 9/100\n",
      "7/7 [==============================] - 27s 3s/step - loss: 0.6717 - accuracy: 0.5837 - auc: 0.6017 - precision: 0.0000e+00 - recall: 0.0000e+00 - val_loss: 0.6411 - val_accuracy: 0.6909 - val_auc: 0.5619 - val_precision: 0.0000e+00 - val_recall: 0.0000e+00 - lr: 2.5000e-05\n",
      "Epoch 10/100\n",
      "7/7 [==============================] - ETA: 0s - loss: 0.6746 - accuracy: 0.5837 - auc: 0.5689 - precision: 0.0000e+00 - recall: 0.0000e+00\n",
      "Epoch 10: ReduceLROnPlateau reducing learning rate to 1.249999968422344e-05.\n",
      "7/7 [==============================] - 26s 3s/step - loss: 0.6746 - accuracy: 0.5837 - auc: 0.5689 - precision: 0.0000e+00 - recall: 0.0000e+00 - val_loss: 0.6441 - val_accuracy: 0.6909 - val_auc: 0.5681 - val_precision: 0.0000e+00 - val_recall: 0.0000e+00 - lr: 2.5000e-05\n",
      "Epoch 11/100\n",
      "7/7 [==============================] - 26s 3s/step - loss: 0.6684 - accuracy: 0.5837 - auc: 0.6483 - precision: 0.0000e+00 - recall: 0.0000e+00 - val_loss: 0.6435 - val_accuracy: 0.6909 - val_auc: 0.5650 - val_precision: 0.0000e+00 - val_recall: 0.0000e+00 - lr: 1.2500e-05\n",
      "Epoch 12/100\n",
      "7/7 [==============================] - 28s 4s/step - loss: 0.6718 - accuracy: 0.5837 - auc: 0.6042 - precision: 0.0000e+00 - recall: 0.0000e+00 - val_loss: 0.6425 - val_accuracy: 0.6909 - val_auc: 0.5689 - val_precision: 0.0000e+00 - val_recall: 0.0000e+00 - lr: 1.2500e-05\n",
      "Epoch 13/100\n",
      "7/7 [==============================] - ETA: 0s - loss: 0.6680 - accuracy: 0.5837 - auc: 0.6408 - precision: 0.0000e+00 - recall: 0.0000e+00\n",
      "Epoch 13: ReduceLROnPlateau reducing learning rate to 6.24999984211172e-06.\n",
      "7/7 [==============================] - 27s 3s/step - loss: 0.6680 - accuracy: 0.5837 - auc: 0.6408 - precision: 0.0000e+00 - recall: 0.0000e+00 - val_loss: 0.6422 - val_accuracy: 0.6909 - val_auc: 0.5542 - val_precision: 0.0000e+00 - val_recall: 0.0000e+00 - lr: 1.2500e-05\n",
      "Epoch 14/100\n",
      "7/7 [==============================] - 27s 4s/step - loss: 0.6690 - accuracy: 0.5882 - auc: 0.6197 - precision: 1.0000 - recall: 0.0109 - val_loss: 0.6420 - val_accuracy: 0.6909 - val_auc: 0.5635 - val_precision: 0.0000e+00 - val_recall: 0.0000e+00 - lr: 6.2500e-06\n",
      "Epoch 15/100\n",
      "7/7 [==============================] - ETA: 0s - loss: 0.6640 - accuracy: 0.5837 - auc: 0.6874 - precision: 0.0000e+00 - recall: 0.0000e+00Restoring model weights from the end of the best epoch: 7.\n",
      "7/7 [==============================] - 28s 4s/step - loss: 0.6640 - accuracy: 0.5837 - auc: 0.6874 - precision: 0.0000e+00 - recall: 0.0000e+00 - val_loss: 0.6416 - val_accuracy: 0.6909 - val_auc: 0.5704 - val_precision: 0.0000e+00 - val_recall: 0.0000e+00 - lr: 6.2500e-06\n",
      "Epoch 15: early stopping\n"
     ]
    },
    {
     "ename": "ValueError",
     "evalue": "Unable to create dataset (name already exists)",
     "output_type": "error",
     "traceback": [
      "\u001b[0;31m---------------------------------------------------------------------------\u001b[0m",
      "\u001b[0;31mValueError\u001b[0m                                Traceback (most recent call last)",
      "Cell \u001b[0;32mIn[10], line 7\u001b[0m\n\u001b[1;32m      5\u001b[0m \u001b[38;5;66;03m# Create and run the experiment.\u001b[39;00m\n\u001b[1;32m      6\u001b[0m efficientnet_experiment \u001b[38;5;241m=\u001b[39m Experiment(model\u001b[38;5;241m=\u001b[39mefficientnet, config\u001b[38;5;241m=\u001b[39mconfig, repo\u001b[38;5;241m=\u001b[39mrepo, optimizer\u001b[38;5;241m=\u001b[39moptimizer, callbacks\u001b[38;5;241m=\u001b[39mcallbacks, metrics\u001b[38;5;241m=\u001b[39mmetrics, force\u001b[38;5;241m=\u001b[39mforce)\n\u001b[0;32m----> 7\u001b[0m \u001b[43mefficientnet_experiment\u001b[49m\u001b[38;5;241;43m.\u001b[39;49m\u001b[43mrun\u001b[49m\u001b[43m(\u001b[49m\u001b[43mtrain_ds\u001b[49m\u001b[38;5;241;43m=\u001b[39;49m\u001b[43mtrain_ds\u001b[49m\u001b[43m,\u001b[49m\u001b[43m \u001b[49m\u001b[43mval_ds\u001b[49m\u001b[38;5;241;43m=\u001b[39;49m\u001b[43mval_ds\u001b[49m\u001b[43m)\u001b[49m\n\u001b[1;32m      8\u001b[0m efficientnet_experiment\u001b[38;5;241m.\u001b[39mclassification_report(data\u001b[38;5;241m=\u001b[39mval_ds)\n\u001b[1;32m      9\u001b[0m efficientnet_experiment\u001b[38;5;241m.\u001b[39mplot_confusion_matrix(data\u001b[38;5;241m=\u001b[39mval_ds)\n",
      "File \u001b[0;32m~/projects/bcd/bcd/model/experiment.py:116\u001b[0m, in \u001b[0;36mExperiment.run\u001b[0;34m(self, train_ds, val_ds)\u001b[0m\n\u001b[1;32m    109\u001b[0m # Fit the model\n\u001b[1;32m    110\u001b[0m self._history = self._model.fit(\n\u001b[1;32m    111\u001b[0m     train_ds,\n\u001b[1;32m    112\u001b[0m     validation_data=val_ds,\n\u001b[1;32m    113\u001b[0m     epochs=self._config[\"epochs\"],\n\u001b[1;32m    114\u001b[0m     callbacks=self._callbacks,\n\u001b[1;32m    115\u001b[0m )\n\u001b[0;32m--> 116\u001b[0m # Save the model in the repository\n\u001b[1;32m    117\u001b[0m self._repo.add(name=self._name, model=self._model)\n\u001b[1;32m    119\u001b[0m # Register the model as an artifact on wandb\n",
      "File \u001b[0;32m~/projects/bcd/bcd/model/repo.py:65\u001b[0m, in \u001b[0;36mModelRepo.add\u001b[0;34m(self, name, model)\u001b[0m\n\u001b[1;32m     62\u001b[0m filepath \u001b[38;5;241m=\u001b[39m \u001b[38;5;28mself\u001b[39m\u001b[38;5;241m.\u001b[39mget_filepath(name\u001b[38;5;241m=\u001b[39mname)\n\u001b[1;32m     64\u001b[0m \u001b[38;5;28;01mif\u001b[39;00m \u001b[38;5;129;01mnot\u001b[39;00m os\u001b[38;5;241m.\u001b[39mpath\u001b[38;5;241m.\u001b[39mexists(filepath):\n\u001b[0;32m---> 65\u001b[0m     \u001b[43mmodel\u001b[49m\u001b[38;5;241;43m.\u001b[39;49m\u001b[43msave\u001b[49m\u001b[43m(\u001b[49m\u001b[43mfilepath\u001b[49m\u001b[43m)\u001b[49m\n\u001b[1;32m     66\u001b[0m \u001b[38;5;28;01melse\u001b[39;00m:\n\u001b[1;32m     67\u001b[0m     msg \u001b[38;5;241m=\u001b[39m \u001b[38;5;124mf\u001b[39m\u001b[38;5;124m\"\u001b[39m\u001b[38;5;124mModel \u001b[39m\u001b[38;5;132;01m{\u001b[39;00mname\u001b[38;5;132;01m}\u001b[39;00m\u001b[38;5;124m already exists and can\u001b[39m\u001b[38;5;124m'\u001b[39m\u001b[38;5;124mt be added.\u001b[39m\u001b[38;5;124m\"\u001b[39m\n",
      "File \u001b[0;32m~/anaconda3/envs/bcd/lib/python3.10/site-packages/keras/utils/traceback_utils.py:67\u001b[0m, in \u001b[0;36mfilter_traceback.<locals>.error_handler\u001b[0;34m(*args, **kwargs)\u001b[0m\n\u001b[1;32m     65\u001b[0m \u001b[38;5;28;01mexcept\u001b[39;00m \u001b[38;5;167;01mException\u001b[39;00m \u001b[38;5;28;01mas\u001b[39;00m e:  \u001b[38;5;66;03m# pylint: disable=broad-except\u001b[39;00m\n\u001b[1;32m     66\u001b[0m   filtered_tb \u001b[38;5;241m=\u001b[39m _process_traceback_frames(e\u001b[38;5;241m.\u001b[39m__traceback__)\n\u001b[0;32m---> 67\u001b[0m   \u001b[38;5;28;01mraise\u001b[39;00m e\u001b[38;5;241m.\u001b[39mwith_traceback(filtered_tb) \u001b[38;5;28;01mfrom\u001b[39;00m \u001b[38;5;28;01mNone\u001b[39;00m\n\u001b[1;32m     68\u001b[0m \u001b[38;5;28;01mfinally\u001b[39;00m:\n\u001b[1;32m     69\u001b[0m   \u001b[38;5;28;01mdel\u001b[39;00m filtered_tb\n",
      "File \u001b[0;32m~/anaconda3/envs/bcd/lib/python3.10/site-packages/h5py/_hl/group.py:161\u001b[0m, in \u001b[0;36mGroup.create_dataset\u001b[0;34m(self, name, shape, dtype, data, **kwds)\u001b[0m\n\u001b[1;32m    158\u001b[0m         parent_path, name \u001b[38;5;241m=\u001b[39m name\u001b[38;5;241m.\u001b[39mrsplit(\u001b[38;5;124mb\u001b[39m\u001b[38;5;124m'\u001b[39m\u001b[38;5;124m/\u001b[39m\u001b[38;5;124m'\u001b[39m, \u001b[38;5;241m1\u001b[39m)\n\u001b[1;32m    159\u001b[0m         group \u001b[38;5;241m=\u001b[39m \u001b[38;5;28mself\u001b[39m\u001b[38;5;241m.\u001b[39mrequire_group(parent_path)\n\u001b[0;32m--> 161\u001b[0m dsid \u001b[38;5;241m=\u001b[39m \u001b[43mdataset\u001b[49m\u001b[38;5;241;43m.\u001b[39;49m\u001b[43mmake_new_dset\u001b[49m\u001b[43m(\u001b[49m\u001b[43mgroup\u001b[49m\u001b[43m,\u001b[49m\u001b[43m \u001b[49m\u001b[43mshape\u001b[49m\u001b[43m,\u001b[49m\u001b[43m \u001b[49m\u001b[43mdtype\u001b[49m\u001b[43m,\u001b[49m\u001b[43m \u001b[49m\u001b[43mdata\u001b[49m\u001b[43m,\u001b[49m\u001b[43m \u001b[49m\u001b[43mname\u001b[49m\u001b[43m,\u001b[49m\u001b[43m \u001b[49m\u001b[38;5;241;43m*\u001b[39;49m\u001b[38;5;241;43m*\u001b[39;49m\u001b[43mkwds\u001b[49m\u001b[43m)\u001b[49m\n\u001b[1;32m    162\u001b[0m dset \u001b[38;5;241m=\u001b[39m dataset\u001b[38;5;241m.\u001b[39mDataset(dsid)\n\u001b[1;32m    163\u001b[0m \u001b[38;5;28;01mreturn\u001b[39;00m dset\n",
      "File \u001b[0;32m~/anaconda3/envs/bcd/lib/python3.10/site-packages/h5py/_hl/dataset.py:156\u001b[0m, in \u001b[0;36mmake_new_dset\u001b[0;34m(parent, shape, dtype, data, name, chunks, compression, shuffle, fletcher32, maxshape, compression_opts, fillvalue, scaleoffset, track_times, external, track_order, dcpl, dapl, efile_prefix, virtual_prefix, allow_unknown_filter)\u001b[0m\n\u001b[1;32m    152\u001b[0m \u001b[38;5;28;01melse\u001b[39;00m:\n\u001b[1;32m    153\u001b[0m     sid \u001b[38;5;241m=\u001b[39m h5s\u001b[38;5;241m.\u001b[39mcreate_simple(shape, maxshape)\n\u001b[0;32m--> 156\u001b[0m dset_id \u001b[38;5;241m=\u001b[39m \u001b[43mh5d\u001b[49m\u001b[38;5;241;43m.\u001b[39;49m\u001b[43mcreate\u001b[49m\u001b[43m(\u001b[49m\u001b[43mparent\u001b[49m\u001b[38;5;241;43m.\u001b[39;49m\u001b[43mid\u001b[49m\u001b[43m,\u001b[49m\u001b[43m \u001b[49m\u001b[43mname\u001b[49m\u001b[43m,\u001b[49m\u001b[43m \u001b[49m\u001b[43mtid\u001b[49m\u001b[43m,\u001b[49m\u001b[43m \u001b[49m\u001b[43msid\u001b[49m\u001b[43m,\u001b[49m\u001b[43m \u001b[49m\u001b[43mdcpl\u001b[49m\u001b[38;5;241;43m=\u001b[39;49m\u001b[43mdcpl\u001b[49m\u001b[43m,\u001b[49m\u001b[43m \u001b[49m\u001b[43mdapl\u001b[49m\u001b[38;5;241;43m=\u001b[39;49m\u001b[43mdapl\u001b[49m\u001b[43m)\u001b[49m\n\u001b[1;32m    158\u001b[0m \u001b[38;5;28;01mif\u001b[39;00m (data \u001b[38;5;129;01mis\u001b[39;00m \u001b[38;5;129;01mnot\u001b[39;00m \u001b[38;5;28;01mNone\u001b[39;00m) \u001b[38;5;129;01mand\u001b[39;00m (\u001b[38;5;129;01mnot\u001b[39;00m \u001b[38;5;28misinstance\u001b[39m(data, Empty)):\n\u001b[1;32m    159\u001b[0m     dset_id\u001b[38;5;241m.\u001b[39mwrite(h5s\u001b[38;5;241m.\u001b[39mALL, h5s\u001b[38;5;241m.\u001b[39mALL, data)\n",
      "File \u001b[0;32mh5py/_objects.pyx:54\u001b[0m, in \u001b[0;36mh5py._objects.with_phil.wrapper\u001b[0;34m()\u001b[0m\n",
      "File \u001b[0;32mh5py/_objects.pyx:55\u001b[0m, in \u001b[0;36mh5py._objects.with_phil.wrapper\u001b[0;34m()\u001b[0m\n",
      "File \u001b[0;32mh5py/h5d.pyx:87\u001b[0m, in \u001b[0;36mh5py.h5d.create\u001b[0;34m()\u001b[0m\n",
      "\u001b[0;31mValueError\u001b[0m: Unable to create dataset (name already exists)"
     ]
    }
   ],
   "source": [
    "# Obtain the Efficientnet model\n",
    "efficientnet = factory.create_efficientnet()\n",
    "efficientnet.summary()\n",
    "\n",
    "# Create and run the experiment.\n",
    "efficientnet_experiment = Experiment(model=efficientnet, config=config, repo=repo, optimizer=optimizer, callbacks=callbacks, metrics=metrics, force=force)\n",
    "efficientnet_experiment.run(train_ds=train_ds, val_ds=val_ds)\n",
    "efficientnet_experiment.classification_report(data=val_ds)\n",
    "efficientnet_experiment.plot_confusion_matrix(data=val_ds)\n",
    "efficientnet_experiment.evaluate(data=test_ds)\n"
   ]
  },
  {
   "cell_type": "code",
   "execution_count": null,
   "metadata": {},
   "outputs": [],
   "source": [
    "for i, w in enumerate(efficientnet.weights):\n",
    "    print(i, w.name)"
   ]
  },
  {
   "cell_type": "markdown",
   "metadata": {},
   "source": [
    "## Inception/Resnet Experiment"
   ]
  },
  {
   "cell_type": "code",
   "execution_count": null,
   "metadata": {},
   "outputs": [],
   "source": [
    "# Obtain the Inception_resnet model\n",
    "inception_resnet = factory.create_inception_resnet()\n",
    "inception_resnet.summary()\n",
    "\n",
    "# Create and run the experiment.\n",
    "inception_resnet_experiment = Experiment(model=inception_resnet, config=config, repo=repo, optimizer=optimizer, callbacks=callbacks, metrics=metrics, force=force)\n",
    "inception_resnet_experiment.run(train_ds=train_ds, val_ds=val_ds)\n",
    "inception_resnet_experiment.classification_report(data=val_ds)\n",
    "inception_resnet_experiment.plot_confusion_matrix(data=val_ds)\n",
    "inception_resnet_experiment.evaluate(data=test_ds)\n"
   ]
  },
  {
   "cell_type": "markdown",
   "metadata": {},
   "source": [
    "## MobileNet Experiment"
   ]
  },
  {
   "cell_type": "code",
   "execution_count": null,
   "metadata": {},
   "outputs": [],
   "source": [
    "# Obtain the Mobilenet model\n",
    "mobilenet = factory.create_mobilenet()\n",
    "mobilenet.summary()\n",
    "\n",
    "# Create and run the experiment.\n",
    "mobilenet_experiment = Experiment(model=mobilenet, config=config, repo=repo, optimizer=optimizer, callbacks=callbacks, metrics=metrics, force=force)\n",
    "mobilenet_experiment.run(train_ds=train_ds, val_ds=val_ds)\n",
    "mobilenet_experiment.classification_report(data=val_ds)\n",
    "mobilenet_experiment.plot_confusion_matrix(data=val_ds)\n",
    "mobilenet_experiment.evaluate(data=test_ds)\n"
   ]
  },
  {
   "cell_type": "markdown",
   "metadata": {},
   "source": [
    "## Xception Experiment"
   ]
  },
  {
   "cell_type": "code",
   "execution_count": null,
   "metadata": {},
   "outputs": [],
   "source": [
    "# Obtain the Xception model\n",
    "xception = factory.create_xception()\n",
    "xception.summary()\n",
    "\n",
    "# Create and run the experiment.\n",
    "xception_experiment = Experiment(model=xception, config=config, repo=repo, optimizer=optimizer, callbacks=callbacks, metrics=metrics, force=force)\n",
    "xception_experiment.run(train_ds=train_ds, val_ds=val_ds)\n",
    "xception_experiment.classification_report(data=val_ds)\n",
    "xception_experiment.plot_confusion_matrix(data=val_ds)\n",
    "xception_experiment.evaluate(data=test_ds)\n"
   ]
  }
 ],
 "metadata": {
  "kernelspec": {
   "display_name": "bcd",
   "language": "python",
   "name": "python3"
  },
  "language_info": {
   "codemirror_mode": {
    "name": "ipython",
    "version": 3
   },
   "file_extension": ".py",
   "mimetype": "text/x-python",
   "name": "python",
   "nbconvert_exporter": "python",
   "pygments_lexer": "ipython3",
   "version": "3.10.12"
  }
 },
 "nbformat": 4,
 "nbformat_minor": 2
}
