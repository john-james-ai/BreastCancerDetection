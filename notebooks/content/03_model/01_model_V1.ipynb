{
 "cells": [
  {
   "cell_type": "markdown",
   "metadata": {},
   "source": [
    "# Model V1"
   ]
  },
  {
   "cell_type": "code",
   "execution_count": 1,
   "metadata": {},
   "outputs": [
    {
     "data": {
      "text/plain": [
       "True"
      ]
     },
     "execution_count": 1,
     "metadata": {},
     "output_type": "execute_result"
    }
   ],
   "source": [
    "import os\n",
    "import pathlib\n",
    "import tensorflow as tf\n",
    "import pandas as pd\n",
    "from dotenv import load_dotenv\n",
    "import wandb\n",
    "\n",
    "from bcd.model.factory import ModelFactoryV1\n",
    "from bcd.model.experiment import Experiment\n",
    "from bcd.model.repo import ModelRepo\n",
    "pd.set_option('display.max_rows',999)\n",
    "load_dotenv()"
   ]
  },
  {
   "cell_type": "markdown",
   "metadata": {},
   "source": [
    "## Configuration"
   ]
  },
  {
   "cell_type": "code",
   "execution_count": 2,
   "metadata": {},
   "outputs": [
    {
     "name": "stdout",
     "output_type": "stream",
     "text": [
      "env: \"WANDB_NOTEBOOK_NAME\"=\"01_model_V1.ipynb\"\n"
     ]
    }
   ],
   "source": [
    "# Experiment Parameters\n",
    "%env \"WANDB_NOTEBOOK_NAME\" \"01_model_V1.ipynb\"\n",
    "full_dataset = False\n",
    "project = \"BCD_V1_CBIS-DDSM\" if full_dataset else \"BCD_V1_CBIS-DDSM-10\" \n",
    "\n",
    "# Model Parameters\n",
    "force = True  # Whether to retrain if the model and weights already exist from a prior training session.\n",
    "metrics = ['accuracy', tf.keras.metrics.AUC(), tf.keras.metrics.Precision(), tf.keras.metrics.Recall()]\n",
    "loss = \"binary_crossentropy\"\n",
    "activation = \"sigmoid\"\n",
    "epochs = 100\n",
    "learning_rate = 1e-4\n",
    "num_classes = 2\n",
    "\n",
    "# Dataset params\n",
    "dataset = \"CBIS-DDSM\" if full_dataset else \"CBIS-DDSM-10\"\n",
    "batch_size = 64 if full_dataset else 32\n",
    "input_shape = (224,224,3)\n",
    "output_shape = 1\n",
    "train_dir = pathlib.Path(\"data/image/1_final/training/training/\").with_suffix('') if full_dataset else pathlib.Path(\"data/image/1_final/training_10/training/\").with_suffix('') \n",
    "test_dir = pathlib.Path(\"data/image/1_final/test/test/\").with_suffix('')\n",
    "\n",
    "# Early stop parameters \n",
    "es_min_delta = 0.0001\n",
    "es_monitor = \"val_loss\"  # Monitor validation loss for early stopping\n",
    "es_patience = 10  # The number of epochs for which lack of improvement is tolerated \n",
    "es_restore_best_weights = True  # Returns the best weights rather than the weights at the last epoch.\n",
    "es_verbose = 1\n",
    "\n",
    "# Reduce LR on Plateau Parameters\n",
    "rlr_monitor = \"val_loss\"\n",
    "rlr_factor = 0.5\n",
    "rlr_patience = 3\n",
    "rlr_verbose = 1\n",
    "rlr_mode = \"auto\"\n",
    "rlr_min_delta = 1e-4\n",
    "rlr_min_lr=1e-10\n",
    "\n"
   ]
  },
  {
   "cell_type": "markdown",
   "metadata": {},
   "source": [
    "## Experiment Config"
   ]
  },
  {
   "cell_type": "code",
   "execution_count": 3,
   "metadata": {},
   "outputs": [],
   "source": [
    "config = {\n",
    "    \"project\": project,        \n",
    "    \"dataset\": dataset,\n",
    "    \"run_name\": None,\n",
    "    \"num_classes\": num_classes,\n",
    "    \"batch_size\": batch_size,\n",
    "    \"epochs\": epochs,    \n",
    "    \"learning_rate\": learning_rate,\n",
    "    \"loss\": loss,    \n",
    "    \"early_stop_min_delta\": es_min_delta,\n",
    "    \"early_stop_monitor\": es_monitor,\n",
    "    \"early_stop_patience\": es_patience,\n",
    "    \"early_stop_restore_best_weights\": es_restore_best_weights,\n",
    "    \"early_stop_verbose\": es_verbose,\n",
    "    \"rlr_monitor\": rlr_monitor,\n",
    "    \"rlr_factor\": rlr_factor,\n",
    "    \"rlr_patience\": rlr_patience,\n",
    "    \"rlr_verbose\": rlr_verbose,\n",
    "    \"rlr_mode\": rlr_mode,\n",
    "    \"rlr_min_delta\": rlr_min_delta,\n",
    "    \"rlr_min_lr\": rlr_min_lr\n",
    "    \n",
    "}"
   ]
  },
  {
   "cell_type": "markdown",
   "metadata": {},
   "source": [
    "## Load Data"
   ]
  },
  {
   "cell_type": "code",
   "execution_count": 4,
   "metadata": {},
   "outputs": [
    {
     "name": "stdout",
     "output_type": "stream",
     "text": [
      "Found 276 files belonging to 2 classes.\n",
      "Using 221 files for training.\n",
      "Found 276 files belonging to 2 classes.\n",
      "Using 55 files for validation.\n",
      "Found 649 files belonging to 2 classes.\n"
     ]
    }
   ],
   "source": [
    "# Training DataSet (10%)\n",
    "train_ds = tf.keras.utils.image_dataset_from_directory(\n",
    "    train_dir,\n",
    "    labels=\"inferred\",\n",
    "    color_mode=\"rgb\",\n",
    "    image_size=(224,224),\n",
    "    shuffle=True,\n",
    "    validation_split=0.2,\n",
    "    subset='training',\n",
    "    interpolation=\"bilinear\",\n",
    "    seed=123,\n",
    "    batch_size=batch_size)\n",
    "\n",
    "# Validation DataSet (10%)\n",
    "val_ds = tf.keras.utils.image_dataset_from_directory(\n",
    "    train_dir,\n",
    "    labels=\"inferred\",\n",
    "    color_mode=\"rgb\",\n",
    "    image_size=(224,224),\n",
    "    shuffle=True,\n",
    "    validation_split=0.2,\n",
    "    subset='validation',\n",
    "    interpolation=\"bilinear\",\n",
    "    seed=123,\n",
    "    batch_size=batch_size)\n",
    "\n",
    "# Test Set\n",
    "test_ds = tf.keras.utils.image_dataset_from_directory(\n",
    "    test_dir,\n",
    "    labels=\"inferred\",\n",
    "    color_mode=\"rgb\",\n",
    "    image_size=(224,224),\n",
    "    shuffle=False)"
   ]
  },
  {
   "cell_type": "markdown",
   "metadata": {},
   "source": [
    "## Callbacks"
   ]
  },
  {
   "cell_type": "code",
   "execution_count": 5,
   "metadata": {},
   "outputs": [],
   "source": [
    "early_stop_callback = tf.keras.callbacks.EarlyStopping(monitor=es_monitor, \n",
    "                                                       min_delta=es_min_delta,\n",
    "                                                       patience=es_patience, \n",
    "                                                       restore_best_weights=es_restore_best_weights,\n",
    "                                                       verbose=es_verbose)\n",
    "\n",
    "reduce_lr_callback = tf.keras.callbacks.ReduceLROnPlateau(monitor=rlr_monitor,\n",
    "                                                          factor=rlr_factor,\n",
    "                                                          patience=rlr_patience,\n",
    "                                                          verbose=rlr_verbose,\n",
    "                                                          mode=rlr_mode,\n",
    "                                                          min_delta=rlr_min_delta,\n",
    "                                                          min_lr=rlr_min_lr)\n",
    "callbacks = [early_stop_callback, reduce_lr_callback]"
   ]
  },
  {
   "cell_type": "markdown",
   "metadata": {},
   "source": [
    "## Dependencies"
   ]
  },
  {
   "cell_type": "code",
   "execution_count": 6,
   "metadata": {},
   "outputs": [],
   "source": [
    "optimizer=tf.keras.optimizers.Adam(learning_rate=learning_rate)\n",
    "repo = ModelRepo()\n",
    "factory = ModelFactoryV1(input_shape=input_shape, output_shape=output_shape, activation=activation)"
   ]
  },
  {
   "cell_type": "markdown",
   "metadata": {},
   "source": [
    "## DenseNet Experiment"
   ]
  },
  {
   "cell_type": "code",
   "execution_count": 7,
   "metadata": {},
   "outputs": [
    {
     "name": "stdout",
     "output_type": "stream",
     "text": [
      "Model: \"model\"\n",
      "_________________________________________________________________\n",
      " Layer (type)                Output Shape              Param #   \n",
      "=================================================================\n",
      " input_layer (InputLayer)    [(None, 224, 224, 3)]     0         \n",
      "                                                                 \n",
      " tf.math.truediv (TFOpLambda  (None, 224, 224, 3)      0         \n",
      " )                                                               \n",
      "                                                                 \n",
      " tf.nn.bias_add (TFOpLambda)  (None, 224, 224, 3)      0         \n",
      "                                                                 \n",
      " tf.math.truediv_1 (TFOpLamb  (None, 224, 224, 3)      0         \n",
      " da)                                                             \n",
      "                                                                 \n",
      " data_augmentation (Sequenti  (None, 224, 224, 3)      0         \n",
      " al)                                                             \n",
      "                                                                 \n",
      " densenet201 (Functional)    (None, None, None, 1920)  18321984  \n",
      "                                                                 \n",
      " densenet_global_average_poo  (None, 1920)             0         \n",
      " ling (GlobalAveragePooling2                                     \n",
      " D)                                                              \n",
      "                                                                 \n",
      " densenet_dense_1 (Dense)    (None, 1024)              1967104   \n",
      "                                                                 \n",
      " densenet_dropout_1 (Dropout  (None, 1024)             0         \n",
      " )                                                               \n",
      "                                                                 \n",
      " densenet_dense_2 (Dense)    (None, 1024)              1049600   \n",
      "                                                                 \n",
      " densenet_dropout_2 (Dropout  (None, 1024)             0         \n",
      " )                                                               \n",
      "                                                                 \n",
      " densenet_dense_3 (Dense)    (None, 512)               524800    \n",
      "                                                                 \n",
      " densenet_dense_4 (Dense)    (None, 128)               65664     \n",
      "                                                                 \n",
      " densenet_output_layer (Dens  (None, 1)                129       \n",
      " e)                                                              \n",
      "                                                                 \n",
      "=================================================================\n",
      "Total params: 21,929,281\n",
      "Trainable params: 3,607,297\n",
      "Non-trainable params: 18,321,984\n",
      "_________________________________________________________________\n"
     ]
    },
    {
     "name": "stderr",
     "output_type": "stream",
     "text": [
      "Failed to detect the name of this notebook, you can set it manually with the WANDB_NOTEBOOK_NAME environment variable to enable code saving.\n",
      "\u001b[34m\u001b[1mwandb\u001b[0m: Currently logged in as: \u001b[33maistudio\u001b[0m. Use \u001b[1m`wandb login --relogin`\u001b[0m to force relogin\n"
     ]
    },
    {
     "data": {
      "text/html": [
       "wandb version 0.16.3 is available!  To upgrade, please run:\n",
       " $ pip install wandb --upgrade"
      ],
      "text/plain": [
       "<IPython.core.display.HTML object>"
      ]
     },
     "metadata": {},
     "output_type": "display_data"
    },
    {
     "data": {
      "text/html": [
       "Tracking run with wandb version 0.16.2"
      ],
      "text/plain": [
       "<IPython.core.display.HTML object>"
      ]
     },
     "metadata": {},
     "output_type": "display_data"
    },
    {
     "data": {
      "text/html": [
       "Run data is saved locally in <code>/home/john/projects/bcd/wandb/run-20240208_083113-fqev8k09</code>"
      ],
      "text/plain": [
       "<IPython.core.display.HTML object>"
      ]
     },
     "metadata": {},
     "output_type": "display_data"
    },
    {
     "data": {
      "text/html": [
       "Syncing run <strong><a href='https://wandb.ai/aistudio/BCD_V1_CBIS-DDSM-10/runs/fqev8k09' target=\"_blank\">DenseNet</a></strong> to <a href='https://wandb.ai/aistudio/BCD_V1_CBIS-DDSM-10' target=\"_blank\">Weights & Biases</a> (<a href='https://wandb.me/run' target=\"_blank\">docs</a>)<br/>"
      ],
      "text/plain": [
       "<IPython.core.display.HTML object>"
      ]
     },
     "metadata": {},
     "output_type": "display_data"
    },
    {
     "data": {
      "text/html": [
       " View project at <a href='https://wandb.ai/aistudio/BCD_V1_CBIS-DDSM-10' target=\"_blank\">https://wandb.ai/aistudio/BCD_V1_CBIS-DDSM-10</a>"
      ],
      "text/plain": [
       "<IPython.core.display.HTML object>"
      ]
     },
     "metadata": {},
     "output_type": "display_data"
    },
    {
     "data": {
      "text/html": [
       " View run at <a href='https://wandb.ai/aistudio/BCD_V1_CBIS-DDSM-10/runs/fqev8k09' target=\"_blank\">https://wandb.ai/aistudio/BCD_V1_CBIS-DDSM-10/runs/fqev8k09</a>"
      ],
      "text/plain": [
       "<IPython.core.display.HTML object>"
      ]
     },
     "metadata": {},
     "output_type": "display_data"
    },
    {
     "name": "stdout",
     "output_type": "stream",
     "text": [
      "Epoch 1/100\n",
      "7/7 [==============================] - 63s 6s/step - loss: 0.6928 - accuracy: 0.5566 - auc: 0.5111 - precision: 0.4483 - recall: 0.2826 - val_loss: 0.6315 - val_accuracy: 0.6909 - val_auc: 0.5519 - val_precision: 0.0000e+00 - val_recall: 0.0000e+00 - lr: 1.0000e-04\n",
      "Epoch 2/100\n",
      "7/7 [==============================] - 42s 6s/step - loss: 0.7006 - accuracy: 0.5928 - auc: 0.4619 - precision: 0.5357 - recall: 0.1630 - val_loss: 0.6313 - val_accuracy: 0.6909 - val_auc: 0.5356 - val_precision: 0.0000e+00 - val_recall: 0.0000e+00 - lr: 1.0000e-04\n",
      "Epoch 3/100\n",
      "7/7 [==============================] - 41s 6s/step - loss: 0.6596 - accuracy: 0.6244 - auc: 0.6096 - precision: 0.7143 - recall: 0.1630 - val_loss: 0.6415 - val_accuracy: 0.6727 - val_auc: 0.5704 - val_precision: 0.0000e+00 - val_recall: 0.0000e+00 - lr: 1.0000e-04\n",
      "Epoch 4/100\n",
      "7/7 [==============================] - 41s 6s/step - loss: 0.6852 - accuracy: 0.5566 - auc: 0.5435 - precision: 0.4625 - recall: 0.4022 - val_loss: 0.6674 - val_accuracy: 0.5818 - val_auc: 0.5751 - val_precision: 0.2857 - val_recall: 0.2353 - lr: 1.0000e-04\n",
      "Epoch 5/100\n",
      "7/7 [==============================] - 41s 6s/step - loss: 0.6613 - accuracy: 0.5747 - auc: 0.6037 - precision: 0.4762 - recall: 0.2174 - val_loss: 0.6178 - val_accuracy: 0.6909 - val_auc: 0.5913 - val_precision: 0.0000e+00 - val_recall: 0.0000e+00 - lr: 1.0000e-04\n",
      "Epoch 6/100\n",
      "7/7 [==============================] - 41s 5s/step - loss: 0.6452 - accuracy: 0.6244 - auc: 0.6679 - precision: 0.6957 - recall: 0.1739 - val_loss: 0.6475 - val_accuracy: 0.6364 - val_auc: 0.5875 - val_precision: 0.3333 - val_recall: 0.1765 - lr: 1.0000e-04\n",
      "Epoch 7/100\n",
      "7/7 [==============================] - 40s 5s/step - loss: 0.6368 - accuracy: 0.6516 - auc: 0.6790 - precision: 0.6000 - recall: 0.4891 - val_loss: 0.6687 - val_accuracy: 0.6182 - val_auc: 0.5828 - val_precision: 0.4000 - val_recall: 0.4706 - lr: 1.0000e-04\n",
      "Epoch 8/100\n",
      "7/7 [==============================] - ETA: 0s - loss: 0.6484 - accuracy: 0.6335 - auc: 0.6557 - precision: 0.5714 - recall: 0.4783\n",
      "Epoch 8: ReduceLROnPlateau reducing learning rate to 4.999999873689376e-05.\n",
      "7/7 [==============================] - 40s 5s/step - loss: 0.6484 - accuracy: 0.6335 - auc: 0.6557 - precision: 0.5714 - recall: 0.4783 - val_loss: 0.6260 - val_accuracy: 0.6364 - val_auc: 0.5844 - val_precision: 0.2000 - val_recall: 0.0588 - lr: 1.0000e-04\n",
      "Epoch 9/100\n",
      "7/7 [==============================] - 40s 5s/step - loss: 0.6056 - accuracy: 0.6606 - auc: 0.7432 - precision: 0.7297 - recall: 0.2935 - val_loss: 0.6271 - val_accuracy: 0.6545 - val_auc: 0.5898 - val_precision: 0.3333 - val_recall: 0.1176 - lr: 5.0000e-05\n",
      "Epoch 10/100\n",
      "7/7 [==============================] - 41s 6s/step - loss: 0.6139 - accuracy: 0.6833 - auc: 0.7066 - precision: 0.7391 - recall: 0.3696 - val_loss: 0.6398 - val_accuracy: 0.6545 - val_auc: 0.5844 - val_precision: 0.4167 - val_recall: 0.2941 - lr: 5.0000e-05\n",
      "Epoch 11/100\n",
      "7/7 [==============================] - ETA: 0s - loss: 0.5962 - accuracy: 0.6833 - auc: 0.7488 - precision: 0.6897 - recall: 0.4348\n",
      "Epoch 11: ReduceLROnPlateau reducing learning rate to 2.499999936844688e-05.\n",
      "7/7 [==============================] - 41s 6s/step - loss: 0.5962 - accuracy: 0.6833 - auc: 0.7488 - precision: 0.6897 - recall: 0.4348 - val_loss: 0.6347 - val_accuracy: 0.6000 - val_auc: 0.5805 - val_precision: 0.2222 - val_recall: 0.1176 - lr: 5.0000e-05\n",
      "Epoch 12/100\n",
      "7/7 [==============================] - 40s 6s/step - loss: 0.6081 - accuracy: 0.6425 - auc: 0.7183 - precision: 0.6066 - recall: 0.4022 - val_loss: 0.6430 - val_accuracy: 0.6182 - val_auc: 0.5789 - val_precision: 0.3571 - val_recall: 0.2941 - lr: 2.5000e-05\n",
      "Epoch 13/100\n",
      "7/7 [==============================] - 41s 6s/step - loss: 0.6054 - accuracy: 0.6878 - auc: 0.7283 - precision: 0.6667 - recall: 0.5000 - val_loss: 0.6417 - val_accuracy: 0.6182 - val_auc: 0.5789 - val_precision: 0.3571 - val_recall: 0.2941 - lr: 2.5000e-05\n",
      "Epoch 14/100\n",
      "7/7 [==============================] - ETA: 0s - loss: 0.5925 - accuracy: 0.6471 - auc: 0.7388 - precision: 0.5946 - recall: 0.4783\n",
      "Epoch 14: ReduceLROnPlateau reducing learning rate to 1.249999968422344e-05.\n",
      "7/7 [==============================] - 42s 6s/step - loss: 0.5925 - accuracy: 0.6471 - auc: 0.7388 - precision: 0.5946 - recall: 0.4783 - val_loss: 0.6371 - val_accuracy: 0.6364 - val_auc: 0.5774 - val_precision: 0.3636 - val_recall: 0.2353 - lr: 2.5000e-05\n",
      "Epoch 15/100\n",
      "7/7 [==============================] - ETA: 0s - loss: 0.5721 - accuracy: 0.7240 - auc: 0.7788 - precision: 0.7385 - recall: 0.5217Restoring model weights from the end of the best epoch: 5.\n",
      "7/7 [==============================] - 41s 6s/step - loss: 0.5721 - accuracy: 0.7240 - auc: 0.7788 - precision: 0.7385 - recall: 0.5217 - val_loss: 0.6376 - val_accuracy: 0.6364 - val_auc: 0.5720 - val_precision: 0.3636 - val_recall: 0.2353 - lr: 1.2500e-05\n",
      "Epoch 15: early stopping\n"
     ]
    },
    {
     "name": "stderr",
     "output_type": "stream",
     "text": [
      "\u001b[34m\u001b[1mwandb\u001b[0m: Waiting for artifact run-fqev8k09-DenseNet_V1-CBIS-DDSM-10.keras to be committed...\n"
     ]
    },
    {
     "data": {
      "application/vnd.jupyter.widget-view+json": {
       "model_id": "f73419adfab3489c995303748e8a6cfe",
       "version_major": 2,
       "version_minor": 0
      },
      "text/plain": [
       "VBox(children=(Label(value='1.925 MB of 224.665 MB uploaded\\r'), FloatProgress(value=0.008569711166830692, max…"
      ]
     },
     "metadata": {},
     "output_type": "display_data"
    },
    {
     "name": "stderr",
     "output_type": "stream",
     "text": [
      "\n",
      "\u001b[34m\u001b[1mwandb\u001b[0m: Committed artifact aistudio/BCD_V1_CBIS-DDSM-10/run-fqev8k09-DenseNet_V1-CBIS-DDSM-10.keras:v0\n",
      "wandb: WARNING Source type is set to 'repo' but some required information is missing from the environment. A job will not be created from this run. See https://docs.wandb.ai/guides/launch/create-job\n"
     ]
    },
    {
     "data": {
      "text/html": [
       "<style>\n",
       "    table.wandb td:nth-child(1) { padding: 0 10px; text-align: left ; width: auto;} td:nth-child(2) {text-align: left ; width: 100%}\n",
       "    .wandb-row { display: flex; flex-direction: row; flex-wrap: wrap; justify-content: flex-start; width: 100% }\n",
       "    .wandb-col { display: flex; flex-direction: column; flex-basis: 100%; flex: 1; padding: 10px; }\n",
       "    </style>\n",
       "<div class=\"wandb-row\"><div class=\"wandb-col\"><h3>Run history:</h3><br/><table class=\"wandb\"><tr><td>epoch/accuracy</td><td>▁▃▄▁▂▄▅▄▅▆▆▅▆▅█</td></tr><tr><td>epoch/auc</td><td>▂▁▄▃▄▆▆▅▇▆▇▇▇▇█</td></tr><tr><td>epoch/epoch</td><td>▁▁▂▃▃▃▄▅▅▅▆▇▇▇█</td></tr><tr><td>epoch/learning_rate</td><td>███████▄▄▄▂▂▂▁▁</td></tr><tr><td>epoch/loss</td><td>██▆▇▆▅▅▅▃▃▂▃▃▂▁</td></tr><tr><td>epoch/lr</td><td>████████▄▄▄▂▂▂▁</td></tr><tr><td>epoch/precision</td><td>▁▃▇▁▂▇▅▄██▇▅▆▅█</td></tr><tr><td>epoch/recall</td><td>▃▁▁▆▂▁▇▇▄▅▆▆█▇█</td></tr><tr><td>epoch/val_accuracy</td><td>██▇▁█▄▃▄▆▆▂▃▃▄▄</td></tr><tr><td>epoch/val_auc</td><td>▃▁▅▆██▇▇█▇▇▆▆▆▆</td></tr><tr><td>epoch/val_loss</td><td>▃▃▄█▁▅█▂▂▄▃▄▄▄▄</td></tr><tr><td>epoch/val_precision</td><td>▁▁▁▆▁▇█▄▇█▅▇▇▇▇</td></tr><tr><td>epoch/val_recall</td><td>▁▁▁▅▁▄█▂▃▅▃▅▅▅▅</td></tr></table><br/></div><div class=\"wandb-col\"><h3>Run summary:</h3><br/><table class=\"wandb\"><tr><td>epoch/accuracy</td><td>0.72398</td></tr><tr><td>epoch/auc</td><td>0.77882</td></tr><tr><td>epoch/epoch</td><td>14</td></tr><tr><td>epoch/learning_rate</td><td>1e-05</td></tr><tr><td>epoch/loss</td><td>0.57205</td></tr><tr><td>epoch/lr</td><td>1e-05</td></tr><tr><td>epoch/precision</td><td>0.73846</td></tr><tr><td>epoch/recall</td><td>0.52174</td></tr><tr><td>epoch/val_accuracy</td><td>0.63636</td></tr><tr><td>epoch/val_auc</td><td>0.57198</td></tr><tr><td>epoch/val_loss</td><td>0.63758</td></tr><tr><td>epoch/val_precision</td><td>0.36364</td></tr><tr><td>epoch/val_recall</td><td>0.23529</td></tr></table><br/></div></div>"
      ],
      "text/plain": [
       "<IPython.core.display.HTML object>"
      ]
     },
     "metadata": {},
     "output_type": "display_data"
    },
    {
     "data": {
      "text/html": [
       " View run <strong style=\"color:#cdcd00\">DenseNet</strong> at: <a href='https://wandb.ai/aistudio/BCD_V1_CBIS-DDSM-10/runs/fqev8k09' target=\"_blank\">https://wandb.ai/aistudio/BCD_V1_CBIS-DDSM-10/runs/fqev8k09</a><br/>Synced 6 W&B file(s), 0 media file(s), 2 artifact file(s) and 0 other file(s)"
      ],
      "text/plain": [
       "<IPython.core.display.HTML object>"
      ]
     },
     "metadata": {},
     "output_type": "display_data"
    },
    {
     "data": {
      "text/html": [
       "Find logs at: <code>./wandb/run-20240208_083113-fqev8k09/logs</code>"
      ],
      "text/plain": [
       "<IPython.core.display.HTML object>"
      ]
     },
     "metadata": {},
     "output_type": "display_data"
    },
    {
     "name": "stderr",
     "output_type": "stream",
     "text": [
      "/home/john/anaconda3/envs/bcd/lib/python3.10/site-packages/sklearn/metrics/_classification.py:1469: UndefinedMetricWarning: Precision and F-score are ill-defined and being set to 0.0 in labels with no predicted samples. Use `zero_division` parameter to control this behavior.\n",
      "  _warn_prf(average, modifier, msg_start, len(result))\n",
      "/home/john/anaconda3/envs/bcd/lib/python3.10/site-packages/sklearn/metrics/_classification.py:1469: UndefinedMetricWarning: Precision and F-score are ill-defined and being set to 0.0 in labels with no predicted samples. Use `zero_division` parameter to control this behavior.\n",
      "  _warn_prf(average, modifier, msg_start, len(result))\n",
      "/home/john/anaconda3/envs/bcd/lib/python3.10/site-packages/sklearn/metrics/_classification.py:1469: UndefinedMetricWarning: Precision and F-score are ill-defined and being set to 0.0 in labels with no predicted samples. Use `zero_division` parameter to control this behavior.\n",
      "  _warn_prf(average, modifier, msg_start, len(result))\n"
     ]
    },
    {
     "name": "stdout",
     "output_type": "stream",
     "text": [
      "              precision    recall  f1-score   support\n",
      "\n",
      "      benign       0.69      1.00      0.82        38\n",
      "   malignant       0.00      0.00      0.00        17\n",
      "\n",
      "    accuracy                           0.69        55\n",
      "   macro avg       0.35      0.50      0.41        55\n",
      "weighted avg       0.48      0.69      0.56        55\n",
      "\n"
     ]
    },
    {
     "data": {
      "image/png": "[encoded data removed]",
      "text/plain": [
       "<Figure size 400x400 with 1 Axes>"
      ]
     },
     "metadata": {},
     "output_type": "display_data"
    },
    {
     "name": "stdout",
     "output_type": "stream",
     "text": [
      "21/21 [==============================] - 91s 4s/step - loss: 0.6788 - accuracy: 0.5978 - auc: 0.5463 - precision: 1.0000 - recall: 0.0114\n"
     ]
    }
   ],
   "source": [
    "# Obtain the DenseNet model\n",
    "densenet = factory.create_densenet()\n",
    "densenet.summary()\n",
    "\n",
    "# Create and run the experiment.\n",
    "config[\"run_name\"] = densenet.alias\n",
    "densenet_experiment = Experiment(model=densenet, config=config, repo=repo, optimizer=optimizer, callbacks=callbacks, metrics=metrics, force=force)\n",
    "densenet_experiment.run(train_ds=train_ds, val_ds=val_ds)\n",
    "densenet_experiment.classification_report(data=val_ds)\n",
    "densenet_experiment.plot_confusion_matrix(data=val_ds)"
   ]
  },
  {
   "cell_type": "markdown",
   "metadata": {},
   "source": [
    "## ResNet Experiment"
   ]
  },
  {
   "cell_type": "code",
   "execution_count": 8,
   "metadata": {},
   "outputs": [
    {
     "name": "stdout",
     "output_type": "stream",
     "text": [
      "Model: \"model\"\n",
      "_________________________________________________________________\n",
      " Layer (type)                Output Shape              Param #   \n",
      "=================================================================\n",
      " input_layer (InputLayer)    [(None, 224, 224, 3)]     0         \n",
      "                                                                 \n",
      " tf.math.truediv (TFOpLambda  (None, 224, 224, 3)      0         \n",
      " )                                                               \n",
      "                                                                 \n",
      " tf.math.subtract (TFOpLambd  (None, 224, 224, 3)      0         \n",
      " a)                                                              \n",
      "                                                                 \n",
      " data_augmentation (Sequenti  (None, 224, 224, 3)      0         \n",
      " al)                                                             \n",
      "                                                                 \n",
      " resnet152v2 (Functional)    (None, None, None, 2048)  58331648  \n",
      "                                                                 \n",
      " resnet_global_average_pooli  (None, 2048)             0         \n",
      " ng (GlobalAveragePooling2D)                                     \n",
      "                                                                 \n",
      " resnet_dense_1 (Dense)      (None, 1024)              2098176   \n",
      "                                                                 \n",
      " resnet_dropout_1 (Dropout)  (None, 1024)              0         \n",
      "                                                                 \n",
      " resnet_dense_2 (Dense)      (None, 1024)              1049600   \n",
      "                                                                 \n",
      " resnet_dropout_2 (Dropout)  (None, 1024)              0         \n",
      "                                                                 \n",
      " resnet_dense_3 (Dense)      (None, 512)               524800    \n",
      "                                                                 \n",
      " resnet_dense_4 (Dense)      (None, 128)               65664     \n",
      "                                                                 \n",
      " resnet_output_layer (Dense)  (None, 1)                129       \n",
      "                                                                 \n",
      "=================================================================\n",
      "Total params: 62,070,017\n",
      "Trainable params: 3,738,369\n",
      "Non-trainable params: 58,331,648\n",
      "_________________________________________________________________\n"
     ]
    },
    {
     "data": {
      "text/html": [
       "wandb version 0.16.3 is available!  To upgrade, please run:\n",
       " $ pip install wandb --upgrade"
      ],
      "text/plain": [
       "<IPython.core.display.HTML object>"
      ]
     },
     "metadata": {},
     "output_type": "display_data"
    },
    {
     "data": {
      "text/html": [
       "Tracking run with wandb version 0.16.2"
      ],
      "text/plain": [
       "<IPython.core.display.HTML object>"
      ]
     },
     "metadata": {},
     "output_type": "display_data"
    },
    {
     "data": {
      "text/html": [
       "Run data is saved locally in <code>/home/john/projects/bcd/wandb/run-20240208_084657-r0ri3e2x</code>"
      ],
      "text/plain": [
       "<IPython.core.display.HTML object>"
      ]
     },
     "metadata": {},
     "output_type": "display_data"
    },
    {
     "data": {
      "text/html": [
       "Syncing run <strong><a href='https://wandb.ai/aistudio/BCD_V1_CBIS-DDSM-10/runs/r0ri3e2x' target=\"_blank\">ResNet</a></strong> to <a href='https://wandb.ai/aistudio/BCD_V1_CBIS-DDSM-10' target=\"_blank\">Weights & Biases</a> (<a href='https://wandb.me/run' target=\"_blank\">docs</a>)<br/>"
      ],
      "text/plain": [
       "<IPython.core.display.HTML object>"
      ]
     },
     "metadata": {},
     "output_type": "display_data"
    },
    {
     "data": {
      "text/html": [
       " View project at <a href='https://wandb.ai/aistudio/BCD_V1_CBIS-DDSM-10' target=\"_blank\">https://wandb.ai/aistudio/BCD_V1_CBIS-DDSM-10</a>"
      ],
      "text/plain": [
       "<IPython.core.display.HTML object>"
      ]
     },
     "metadata": {},
     "output_type": "display_data"
    },
    {
     "data": {
      "text/html": [
       " View run at <a href='https://wandb.ai/aistudio/BCD_V1_CBIS-DDSM-10/runs/r0ri3e2x' target=\"_blank\">https://wandb.ai/aistudio/BCD_V1_CBIS-DDSM-10/runs/r0ri3e2x</a>"
      ],
      "text/plain": [
       "<IPython.core.display.HTML object>"
      ]
     },
     "metadata": {},
     "output_type": "display_data"
    },
    {
     "name": "stdout",
     "output_type": "stream",
     "text": [
      "Epoch 1/100\n",
      "7/7 [==============================] - 74s 9s/step - loss: 0.7072 - accuracy: 0.5068 - auc: 0.5362 - precision: 0.4314 - recall: 0.1236 - val_loss: 0.6422 - val_accuracy: 0.7091 - val_auc: 0.5658 - val_precision: 0.6667 - val_recall: 0.1176 - lr: 1.2500e-05\n",
      "Epoch 2/100\n",
      "7/7 [==============================] - 60s 8s/step - loss: 0.6759 - accuracy: 0.5882 - auc: 0.5709 - precision: 0.5094 - recall: 0.2935 - val_loss: 0.6266 - val_accuracy: 0.6909 - val_auc: 0.5464 - val_precision: 0.0000e+00 - val_recall: 0.0000e+00 - lr: 1.2500e-05\n",
      "Epoch 3/100\n",
      "7/7 [==============================] - 59s 8s/step - loss: 0.6963 - accuracy: 0.5611 - auc: 0.5025 - precision: 0.4242 - recall: 0.1522 - val_loss: 0.6274 - val_accuracy: 0.6909 - val_auc: 0.5789 - val_precision: 0.0000e+00 - val_recall: 0.0000e+00 - lr: 1.2500e-05\n",
      "Epoch 4/100\n",
      "7/7 [==============================] - 57s 8s/step - loss: 0.6920 - accuracy: 0.5792 - auc: 0.5305 - precision: 0.4918 - recall: 0.3261 - val_loss: 0.6385 - val_accuracy: 0.6909 - val_auc: 0.5859 - val_precision: 0.5000 - val_recall: 0.0588 - lr: 1.2500e-05\n",
      "Epoch 5/100\n",
      "7/7 [==============================] - ETA: 0s - loss: 0.6741 - accuracy: 0.5837 - auc: 0.5780 - precision: 0.5000 - recall: 0.3478\n",
      "Epoch 5: ReduceLROnPlateau reducing learning rate to 6.24999984211172e-06.\n",
      "7/7 [==============================] - 56s 8s/step - loss: 0.6741 - accuracy: 0.5837 - auc: 0.5780 - precision: 0.5000 - recall: 0.3478 - val_loss: 0.6308 - val_accuracy: 0.7091 - val_auc: 0.5898 - val_precision: 1.0000 - val_recall: 0.0588 - lr: 1.2500e-05\n",
      "Epoch 6/100\n",
      "7/7 [==============================] - 57s 8s/step - loss: 0.6769 - accuracy: 0.6018 - auc: 0.5655 - precision: 0.5400 - recall: 0.2935 - val_loss: 0.6282 - val_accuracy: 0.7091 - val_auc: 0.5921 - val_precision: 1.0000 - val_recall: 0.0588 - lr: 6.2500e-06\n",
      "Epoch 7/100\n",
      "7/7 [==============================] - 58s 8s/step - loss: 0.6836 - accuracy: 0.5837 - auc: 0.5234 - precision: 0.5000 - recall: 0.2391 - val_loss: 0.6292 - val_accuracy: 0.7091 - val_auc: 0.5960 - val_precision: 1.0000 - val_recall: 0.0588 - lr: 6.2500e-06\n",
      "Epoch 8/100\n",
      "7/7 [==============================] - ETA: 0s - loss: 0.6782 - accuracy: 0.5792 - auc: 0.5821 - precision: 0.4918 - recall: 0.3261\n",
      "Epoch 8: ReduceLROnPlateau reducing learning rate to 3.12499992105586e-06.\n",
      "7/7 [==============================] - 58s 8s/step - loss: 0.6782 - accuracy: 0.5792 - auc: 0.5821 - precision: 0.4918 - recall: 0.3261 - val_loss: 0.6288 - val_accuracy: 0.7091 - val_auc: 0.5998 - val_precision: 1.0000 - val_recall: 0.0588 - lr: 6.2500e-06\n",
      "Epoch 9/100\n",
      "7/7 [==============================] - 56s 8s/step - loss: 0.6596 - accuracy: 0.6018 - auc: 0.6207 - precision: 0.5312 - recall: 0.3696 - val_loss: 0.6282 - val_accuracy: 0.7091 - val_auc: 0.5975 - val_precision: 1.0000 - val_recall: 0.0588 - lr: 3.1250e-06\n",
      "Epoch 10/100\n",
      "7/7 [==============================] - 56s 8s/step - loss: 0.6795 - accuracy: 0.6109 - auc: 0.5751 - precision: 0.5652 - recall: 0.2826 - val_loss: 0.6273 - val_accuracy: 0.7091 - val_auc: 0.5991 - val_precision: 1.0000 - val_recall: 0.0588 - lr: 3.1250e-06\n",
      "Epoch 11/100\n",
      "7/7 [==============================] - ETA: 0s - loss: 0.6765 - accuracy: 0.5611 - auc: 0.5401 - precision: 0.4468 - recall: 0.2283\n",
      "Epoch 11: ReduceLROnPlateau reducing learning rate to 1.56249996052793e-06.\n",
      "7/7 [==============================] - 56s 8s/step - loss: 0.6765 - accuracy: 0.5611 - auc: 0.5401 - precision: 0.4468 - recall: 0.2283 - val_loss: 0.6277 - val_accuracy: 0.7091 - val_auc: 0.5991 - val_precision: 1.0000 - val_recall: 0.0588 - lr: 3.1250e-06\n",
      "Epoch 12/100\n",
      "7/7 [==============================] - ETA: 0s - loss: 0.6467 - accuracy: 0.6109 - auc: 0.6570 - precision: 0.5682 - recall: 0.2717Restoring model weights from the end of the best epoch: 2.\n",
      "7/7 [==============================] - 56s 8s/step - loss: 0.6467 - accuracy: 0.6109 - auc: 0.6570 - precision: 0.5682 - recall: 0.2717 - val_loss: 0.6271 - val_accuracy: 0.7091 - val_auc: 0.5991 - val_precision: 1.0000 - val_recall: 0.0588 - lr: 1.5625e-06\n",
      "Epoch 12: early stopping\n"
     ]
    },
    {
     "name": "stderr",
     "output_type": "stream",
     "text": [
      "\u001b[34m\u001b[1mwandb\u001b[0m: Waiting for artifact run-r0ri3e2x-ResNet_V1-CBIS-DDSM-10.keras to be committed...\n"
     ]
    },
    {
     "data": {
      "application/vnd.jupyter.widget-view+json": {
       "model_id": "c1fe7d40d2da447aa7d0a99c1124a374",
       "version_major": 2,
       "version_minor": 0
      },
      "text/plain": [
       "VBox(children=(Label(value='3.035 MB of 587.547 MB uploaded\\r'), FloatProgress(value=0.005165010610197109, max…"
      ]
     },
     "metadata": {},
     "output_type": "display_data"
    },
    {
     "name": "stderr",
     "output_type": "stream",
     "text": [
      "\n",
      "\u001b[34m\u001b[1mwandb\u001b[0m: Committed artifact aistudio/BCD_V1_CBIS-DDSM-10/run-r0ri3e2x-ResNet_V1-CBIS-DDSM-10.keras:v0\n",
      "wandb: WARNING Source type is set to 'repo' but some required information is missing from the environment. A job will not be created from this run. See https://docs.wandb.ai/guides/launch/create-job\n"
     ]
    },
    {
     "data": {
      "text/html": [
       "<style>\n",
       "    table.wandb td:nth-child(1) { padding: 0 10px; text-align: left ; width: auto;} td:nth-child(2) {text-align: left ; width: 100%}\n",
       "    .wandb-row { display: flex; flex-direction: row; flex-wrap: wrap; justify-content: flex-start; width: 100% }\n",
       "    .wandb-col { display: flex; flex-direction: column; flex-basis: 100%; flex: 1; padding: 10px; }\n",
       "    </style>\n",
       "<div class=\"wandb-row\"><div class=\"wandb-col\"><h3>Run history:</h3><br/><table class=\"wandb\"><tr><td>epoch/accuracy</td><td>▁▁▆▆▅▅▆▆▆▆▇▇▆▆▆▆▇▇██▅▅██</td></tr><tr><td>epoch/auc</td><td>▃▃▄▄▁▁▂▂▄▄▄▄▂▂▅▅▆▆▄▄▃▃██</td></tr><tr><td>epoch/epoch</td><td>▁▁▂▂▂▂▃▃▄▄▄▄▅▅▅▅▆▆▇▇▇▇██</td></tr><tr><td>epoch/learning_rate</td><td>████████▄▄▄▄▄▄▂▂▂▂▂▂▁▁▁▁</td></tr><tr><td>epoch/loss</td><td>██▄▄▇▇▆▆▄▄▄▄▅▅▅▅▂▂▅▅▄▄▁▁</td></tr><tr><td>epoch/lr</td><td>██████████▄▄▄▄▄▄▂▂▂▂▂▂▁▁</td></tr><tr><td>epoch/precision</td><td>▁▁▅▅▁▁▄▄▅▅▇▇▅▅▄▄▆▆██▂▂██</td></tr><tr><td>epoch/recall</td><td>▁▁▆▆▂▂▇▇▇▇▆▆▄▄▇▇██▆▆▄▄▅▅</td></tr><tr><td>epoch/val_accuracy</td><td>██▁▁▁▁▁▁████████████████</td></tr><tr><td>epoch/val_auc</td><td>▄▄▁▁▅▅▆▆▇▇▇▇▇▇██████████</td></tr><tr><td>epoch/val_loss</td><td>██▁▁▁▁▆▆▃▃▂▂▂▂▂▂▂▂▁▁▁▁▁▁</td></tr><tr><td>epoch/val_precision</td><td>▆▆▁▁▁▁▅▅████████████████</td></tr><tr><td>epoch/val_recall</td><td>██▁▁▁▁▅▅▅▅▅▅▅▅▅▅▅▅▅▅▅▅▅▅</td></tr></table><br/></div><div class=\"wandb-col\"><h3>Run summary:</h3><br/><table class=\"wandb\"><tr><td>epoch/accuracy</td><td>0.61086</td></tr><tr><td>epoch/auc</td><td>0.65698</td></tr><tr><td>epoch/epoch</td><td>11</td></tr><tr><td>epoch/learning_rate</td><td>0.0</td></tr><tr><td>epoch/loss</td><td>0.64667</td></tr><tr><td>epoch/lr</td><td>0.0</td></tr><tr><td>epoch/precision</td><td>0.56818</td></tr><tr><td>epoch/recall</td><td>0.27174</td></tr><tr><td>epoch/val_accuracy</td><td>0.70909</td></tr><tr><td>epoch/val_auc</td><td>0.59907</td></tr><tr><td>epoch/val_loss</td><td>0.62709</td></tr><tr><td>epoch/val_precision</td><td>1.0</td></tr><tr><td>epoch/val_recall</td><td>0.05882</td></tr></table><br/></div></div>"
      ],
      "text/plain": [
       "<IPython.core.display.HTML object>"
      ]
     },
     "metadata": {},
     "output_type": "display_data"
    },
    {
     "data": {
      "text/html": [
       " View run <strong style=\"color:#cdcd00\">ResNet</strong> at: <a href='https://wandb.ai/aistudio/BCD_V1_CBIS-DDSM-10/runs/r0ri3e2x' target=\"_blank\">https://wandb.ai/aistudio/BCD_V1_CBIS-DDSM-10/runs/r0ri3e2x</a><br/>Synced 6 W&B file(s), 0 media file(s), 2 artifact file(s) and 0 other file(s)"
      ],
      "text/plain": [
       "<IPython.core.display.HTML object>"
      ]
     },
     "metadata": {},
     "output_type": "display_data"
    },
    {
     "data": {
      "text/html": [
       "Find logs at: <code>./wandb/run-20240208_084657-r0ri3e2x/logs</code>"
      ],
      "text/plain": [
       "<IPython.core.display.HTML object>"
      ]
     },
     "metadata": {},
     "output_type": "display_data"
    },
    {
     "name": "stderr",
     "output_type": "stream",
     "text": [
      "/home/john/anaconda3/envs/bcd/lib/python3.10/site-packages/sklearn/metrics/_classification.py:1469: UndefinedMetricWarning: Precision and F-score are ill-defined and being set to 0.0 in labels with no predicted samples. Use `zero_division` parameter to control this behavior.\n",
      "  _warn_prf(average, modifier, msg_start, len(result))\n",
      "/home/john/anaconda3/envs/bcd/lib/python3.10/site-packages/sklearn/metrics/_classification.py:1469: UndefinedMetricWarning: Precision and F-score are ill-defined and being set to 0.0 in labels with no predicted samples. Use `zero_division` parameter to control this behavior.\n",
      "  _warn_prf(average, modifier, msg_start, len(result))\n",
      "/home/john/anaconda3/envs/bcd/lib/python3.10/site-packages/sklearn/metrics/_classification.py:1469: UndefinedMetricWarning: Precision and F-score are ill-defined and being set to 0.0 in labels with no predicted samples. Use `zero_division` parameter to control this behavior.\n",
      "  _warn_prf(average, modifier, msg_start, len(result))\n"
     ]
    },
    {
     "name": "stdout",
     "output_type": "stream",
     "text": [
      "              precision    recall  f1-score   support\n",
      "\n",
      "      benign       0.69      1.00      0.82        38\n",
      "   malignant       0.00      0.00      0.00        17\n",
      "\n",
      "    accuracy                           0.69        55\n",
      "   macro avg       0.35      0.50      0.41        55\n",
      "weighted avg       0.48      0.69      0.56        55\n",
      "\n"
     ]
    },
    {
     "data": {
      "image/png": "[encoded data removed]",
      "text/plain": [
       "<Figure size 400x400 with 1 Axes>"
      ]
     },
     "metadata": {},
     "output_type": "display_data"
    },
    {
     "name": "stdout",
     "output_type": "stream",
     "text": [
      "21/21 [==============================] - 129s 6s/step - loss: 0.6839 - accuracy: 0.5917 - auc: 0.5100 - precision: 0.4000 - recall: 0.0076\n"
     ]
    }
   ],
   "source": [
    "# Obtain the ResNet model\n",
    "resnet = factory.create_resnet()\n",
    "resnet.summary()\n",
    "\n",
    "# Create and run the experiment.\n",
    "config[\"run_name\"] = resnet.alias\n",
    "resnet_experiment = Experiment(model=resnet, config=config, repo=repo, optimizer=optimizer, callbacks=callbacks, metrics=metrics, force=force)\n",
    "resnet_experiment.run(train_ds=train_ds, val_ds=val_ds)\n",
    "resnet_experiment.classification_report(data=val_ds)\n",
    "resnet_experiment.plot_confusion_matrix(data=val_ds)"
   ]
  },
  {
   "cell_type": "markdown",
   "metadata": {},
   "source": [
    "## Inception Experiment"
   ]
  },
  {
   "cell_type": "code",
   "execution_count": 9,
   "metadata": {},
   "outputs": [
    {
     "name": "stdout",
     "output_type": "stream",
     "text": [
      "Model: \"model\"\n",
      "_________________________________________________________________\n",
      " Layer (type)                Output Shape              Param #   \n",
      "=================================================================\n",
      " input_layer (InputLayer)    [(None, 224, 224, 3)]     0         \n",
      "                                                                 \n",
      " tf.math.truediv (TFOpLambda  (None, 224, 224, 3)      0         \n",
      " )                                                               \n",
      "                                                                 \n",
      " tf.math.subtract (TFOpLambd  (None, 224, 224, 3)      0         \n",
      " a)                                                              \n",
      "                                                                 \n",
      " data_augmentation (Sequenti  (None, 224, 224, 3)      0         \n",
      " al)                                                             \n",
      "                                                                 \n",
      " inception_v3 (Functional)   (None, None, None, 2048)  21802784  \n",
      "                                                                 \n",
      " inception_global_average_po  (None, 2048)             0         \n",
      " oling (GlobalAveragePooling                                     \n",
      " 2D)                                                             \n",
      "                                                                 \n",
      " inception_dense_1 (Dense)   (None, 1024)              2098176   \n",
      "                                                                 \n",
      " inception_dropout_1 (Dropou  (None, 1024)             0         \n",
      " t)                                                              \n",
      "                                                                 \n",
      " inception_dense_2 (Dense)   (None, 1024)              1049600   \n",
      "                                                                 \n",
      " inception_dropout_2 (Dropou  (None, 1024)             0         \n",
      " t)                                                              \n",
      "                                                                 \n",
      " inception_dense_3 (Dense)   (None, 512)               524800    \n",
      "                                                                 \n",
      " inception_dense_4 (Dense)   (None, 128)               65664     \n",
      "                                                                 \n",
      " inception_output_layer (Den  (None, 1)                129       \n",
      " se)                                                             \n",
      "                                                                 \n",
      "=================================================================\n",
      "Total params: 25,541,153\n",
      "Trainable params: 3,738,369\n",
      "Non-trainable params: 21,802,784\n",
      "_________________________________________________________________\n"
     ]
    },
    {
     "data": {
      "text/html": [
       "wandb version 0.16.3 is available!  To upgrade, please run:\n",
       " $ pip install wandb --upgrade"
      ],
      "text/plain": [
       "<IPython.core.display.HTML object>"
      ]
     },
     "metadata": {},
     "output_type": "display_data"
    },
    {
     "data": {
      "text/html": [
       "Tracking run with wandb version 0.16.2"
      ],
      "text/plain": [
       "<IPython.core.display.HTML object>"
      ]
     },
     "metadata": {},
     "output_type": "display_data"
    },
    {
     "data": {
      "text/html": [
       "Run data is saved locally in <code>/home/john/projects/bcd/wandb/run-20240208_090858-87lez9p0</code>"
      ],
      "text/plain": [
       "<IPython.core.display.HTML object>"
      ]
     },
     "metadata": {},
     "output_type": "display_data"
    },
    {
     "data": {
      "text/html": [
       "Syncing run <strong><a href='https://wandb.ai/aistudio/BCD_V1_CBIS-DDSM-10/runs/87lez9p0' target=\"_blank\">Inception</a></strong> to <a href='https://wandb.ai/aistudio/BCD_V1_CBIS-DDSM-10' target=\"_blank\">Weights & Biases</a> (<a href='https://wandb.me/run' target=\"_blank\">docs</a>)<br/>"
      ],
      "text/plain": [
       "<IPython.core.display.HTML object>"
      ]
     },
     "metadata": {},
     "output_type": "display_data"
    },
    {
     "data": {
      "text/html": [
       " View project at <a href='https://wandb.ai/aistudio/BCD_V1_CBIS-DDSM-10' target=\"_blank\">https://wandb.ai/aistudio/BCD_V1_CBIS-DDSM-10</a>"
      ],
      "text/plain": [
       "<IPython.core.display.HTML object>"
      ]
     },
     "metadata": {},
     "output_type": "display_data"
    },
    {
     "data": {
      "text/html": [
       " View run at <a href='https://wandb.ai/aistudio/BCD_V1_CBIS-DDSM-10/runs/87lez9p0' target=\"_blank\">https://wandb.ai/aistudio/BCD_V1_CBIS-DDSM-10/runs/87lez9p0</a>"
      ],
      "text/plain": [
       "<IPython.core.display.HTML object>"
      ]
     },
     "metadata": {},
     "output_type": "display_data"
    },
    {
     "name": "stdout",
     "output_type": "stream",
     "text": [
      "Epoch 1/100\n",
      "7/7 [==============================] - 25s 2s/step - loss: 0.8369 - accuracy: 0.4072 - auc: 0.5116 - precision: 0.4091 - recall: 0.2528 - val_loss: 0.8178 - val_accuracy: 0.3273 - val_auc: 0.3971 - val_precision: 0.3148 - val_recall: 1.0000 - lr: 1.5625e-06\n",
      "Epoch 2/100\n",
      "7/7 [==============================] - 19s 2s/step - loss: 0.8034 - accuracy: 0.4344 - auc: 0.5101 - precision: 0.4154 - recall: 0.8804 - val_loss: 0.7606 - val_accuracy: 0.3455 - val_auc: 0.3746 - val_precision: 0.3208 - val_recall: 1.0000 - lr: 1.5625e-06\n",
      "Epoch 3/100\n",
      "7/7 [==============================] - 21s 3s/step - loss: 0.7512 - accuracy: 0.4615 - auc: 0.5359 - precision: 0.4237 - recall: 0.8152 - val_loss: 0.7225 - val_accuracy: 0.3091 - val_auc: 0.3622 - val_precision: 0.2439 - val_recall: 0.5882 - lr: 1.5625e-06\n",
      "Epoch 4/100\n",
      "7/7 [==============================] - 19s 2s/step - loss: 0.7425 - accuracy: 0.4977 - auc: 0.5233 - precision: 0.4395 - recall: 0.7500 - val_loss: 0.6936 - val_accuracy: 0.4727 - val_auc: 0.3591 - val_precision: 0.2000 - val_recall: 0.2353 - lr: 1.5625e-06\n",
      "Epoch 5/100\n",
      "7/7 [==============================] - 19s 2s/step - loss: 0.7229 - accuracy: 0.4977 - auc: 0.4953 - precision: 0.4240 - recall: 0.5761 - val_loss: 0.6746 - val_accuracy: 0.6545 - val_auc: 0.3692 - val_precision: 0.2500 - val_recall: 0.0588 - lr: 1.5625e-06\n",
      "Epoch 6/100\n",
      "7/7 [==============================] - 18s 2s/step - loss: 0.6930 - accuracy: 0.5023 - auc: 0.5362 - precision: 0.4182 - recall: 0.5000 - val_loss: 0.6626 - val_accuracy: 0.7091 - val_auc: 0.3800 - val_precision: 1.0000 - val_recall: 0.0588 - lr: 1.5625e-06\n",
      "Epoch 7/100\n",
      "7/7 [==============================] - 17s 2s/step - loss: 0.7171 - accuracy: 0.4977 - auc: 0.4762 - precision: 0.4059 - recall: 0.4457 - val_loss: 0.6534 - val_accuracy: 0.7091 - val_auc: 0.3909 - val_precision: 1.0000 - val_recall: 0.0588 - lr: 1.5625e-06\n",
      "Epoch 8/100\n",
      "7/7 [==============================] - 19s 2s/step - loss: 0.6955 - accuracy: 0.5566 - auc: 0.5364 - precision: 0.4625 - recall: 0.4022 - val_loss: 0.6480 - val_accuracy: 0.6909 - val_auc: 0.3916 - val_precision: 0.0000e+00 - val_recall: 0.0000e+00 - lr: 1.5625e-06\n",
      "Epoch 9/100\n",
      "7/7 [==============================] - 18s 2s/step - loss: 0.7130 - accuracy: 0.5249 - auc: 0.4897 - precision: 0.4110 - recall: 0.3261 - val_loss: 0.6442 - val_accuracy: 0.6909 - val_auc: 0.3955 - val_precision: 0.0000e+00 - val_recall: 0.0000e+00 - lr: 1.5625e-06\n",
      "Epoch 10/100\n",
      "7/7 [==============================] - 17s 2s/step - loss: 0.6894 - accuracy: 0.5430 - auc: 0.5161 - precision: 0.4348 - recall: 0.3261 - val_loss: 0.6412 - val_accuracy: 0.6909 - val_auc: 0.4110 - val_precision: 0.0000e+00 - val_recall: 0.0000e+00 - lr: 1.5625e-06\n",
      "Epoch 11/100\n",
      "7/7 [==============================] - 17s 2s/step - loss: 0.7088 - accuracy: 0.5204 - auc: 0.5138 - precision: 0.4000 - recall: 0.3043 - val_loss: 0.6389 - val_accuracy: 0.6909 - val_auc: 0.4218 - val_precision: 0.0000e+00 - val_recall: 0.0000e+00 - lr: 1.5625e-06\n",
      "Epoch 12/100\n",
      "7/7 [==============================] - 18s 2s/step - loss: 0.7212 - accuracy: 0.4977 - auc: 0.4328 - precision: 0.3492 - recall: 0.2391 - val_loss: 0.6369 - val_accuracy: 0.6909 - val_auc: 0.4234 - val_precision: 0.0000e+00 - val_recall: 0.0000e+00 - lr: 1.5625e-06\n",
      "Epoch 13/100\n",
      "7/7 [==============================] - 18s 2s/step - loss: 0.6967 - accuracy: 0.5566 - auc: 0.5300 - precision: 0.4444 - recall: 0.2609 - val_loss: 0.6359 - val_accuracy: 0.6909 - val_auc: 0.4280 - val_precision: 0.0000e+00 - val_recall: 0.0000e+00 - lr: 1.5625e-06\n",
      "Epoch 14/100\n",
      "7/7 [==============================] - 17s 2s/step - loss: 0.6664 - accuracy: 0.5520 - auc: 0.5822 - precision: 0.4222 - recall: 0.2065 - val_loss: 0.6346 - val_accuracy: 0.6909 - val_auc: 0.4288 - val_precision: 0.0000e+00 - val_recall: 0.0000e+00 - lr: 1.5625e-06\n",
      "Epoch 15/100\n",
      "7/7 [==============================] - 17s 2s/step - loss: 0.6924 - accuracy: 0.5385 - auc: 0.5058 - precision: 0.4000 - recall: 0.2174 - val_loss: 0.6342 - val_accuracy: 0.6909 - val_auc: 0.4443 - val_precision: 0.0000e+00 - val_recall: 0.0000e+00 - lr: 1.5625e-06\n",
      "Epoch 16/100\n",
      "7/7 [==============================] - 18s 2s/step - loss: 0.7053 - accuracy: 0.5294 - auc: 0.4961 - precision: 0.4091 - recall: 0.2935 - val_loss: 0.6338 - val_accuracy: 0.6909 - val_auc: 0.4412 - val_precision: 0.0000e+00 - val_recall: 0.0000e+00 - lr: 1.5625e-06\n",
      "Epoch 17/100\n",
      "7/7 [==============================] - 18s 2s/step - loss: 0.7052 - accuracy: 0.5566 - auc: 0.4937 - precision: 0.4444 - recall: 0.2609 - val_loss: 0.6332 - val_accuracy: 0.6909 - val_auc: 0.4420 - val_precision: 0.0000e+00 - val_recall: 0.0000e+00 - lr: 1.5625e-06\n",
      "Epoch 18/100\n",
      "7/7 [==============================] - 18s 2s/step - loss: 0.6939 - accuracy: 0.5475 - auc: 0.4908 - precision: 0.4130 - recall: 0.2065 - val_loss: 0.6327 - val_accuracy: 0.6909 - val_auc: 0.4427 - val_precision: 0.0000e+00 - val_recall: 0.0000e+00 - lr: 1.5625e-06\n",
      "Epoch 19/100\n",
      "7/7 [==============================] - 18s 2s/step - loss: 0.6713 - accuracy: 0.5792 - auc: 0.5776 - precision: 0.4921 - recall: 0.3370 - val_loss: 0.6324 - val_accuracy: 0.6909 - val_auc: 0.4481 - val_precision: 0.0000e+00 - val_recall: 0.0000e+00 - lr: 1.5625e-06\n",
      "Epoch 20/100\n",
      "7/7 [==============================] - 17s 2s/step - loss: 0.6922 - accuracy: 0.5520 - auc: 0.5143 - precision: 0.4255 - recall: 0.2174 - val_loss: 0.6320 - val_accuracy: 0.6909 - val_auc: 0.4396 - val_precision: 0.0000e+00 - val_recall: 0.0000e+00 - lr: 1.5625e-06\n",
      "Epoch 21/100\n",
      "7/7 [==============================] - 18s 2s/step - loss: 0.6976 - accuracy: 0.5656 - auc: 0.5086 - precision: 0.4565 - recall: 0.2283 - val_loss: 0.6314 - val_accuracy: 0.6909 - val_auc: 0.4427 - val_precision: 0.0000e+00 - val_recall: 0.0000e+00 - lr: 1.5625e-06\n",
      "Epoch 22/100\n",
      "7/7 [==============================] - 18s 2s/step - loss: 0.6880 - accuracy: 0.5430 - auc: 0.5158 - precision: 0.4000 - recall: 0.1957 - val_loss: 0.6307 - val_accuracy: 0.6909 - val_auc: 0.4520 - val_precision: 0.0000e+00 - val_recall: 0.0000e+00 - lr: 1.5625e-06\n",
      "Epoch 23/100\n",
      "7/7 [==============================] - 18s 2s/step - loss: 0.7072 - accuracy: 0.5566 - auc: 0.4904 - precision: 0.4211 - recall: 0.1739 - val_loss: 0.6308 - val_accuracy: 0.6909 - val_auc: 0.4474 - val_precision: 0.0000e+00 - val_recall: 0.0000e+00 - lr: 1.5625e-06\n",
      "Epoch 24/100\n",
      "7/7 [==============================] - 18s 2s/step - loss: 0.7025 - accuracy: 0.5611 - auc: 0.4781 - precision: 0.4444 - recall: 0.2174 - val_loss: 0.6308 - val_accuracy: 0.6909 - val_auc: 0.4567 - val_precision: 0.0000e+00 - val_recall: 0.0000e+00 - lr: 1.5625e-06\n",
      "Epoch 25/100\n",
      "7/7 [==============================] - 18s 2s/step - loss: 0.6716 - accuracy: 0.5747 - auc: 0.5830 - precision: 0.4800 - recall: 0.2609 - val_loss: 0.6304 - val_accuracy: 0.6909 - val_auc: 0.4512 - val_precision: 0.0000e+00 - val_recall: 0.0000e+00 - lr: 1.5625e-06\n",
      "Epoch 26/100\n",
      "7/7 [==============================] - 18s 2s/step - loss: 0.7065 - accuracy: 0.5294 - auc: 0.5150 - precision: 0.3571 - recall: 0.1630 - val_loss: 0.6300 - val_accuracy: 0.6909 - val_auc: 0.4590 - val_precision: 0.0000e+00 - val_recall: 0.0000e+00 - lr: 1.5625e-06\n",
      "Epoch 27/100\n",
      "7/7 [==============================] - 18s 2s/step - loss: 0.6825 - accuracy: 0.5566 - auc: 0.5465 - precision: 0.4348 - recall: 0.2174 - val_loss: 0.6297 - val_accuracy: 0.6909 - val_auc: 0.4613 - val_precision: 0.0000e+00 - val_recall: 0.0000e+00 - lr: 1.5625e-06\n",
      "Epoch 28/100\n",
      "7/7 [==============================] - 18s 2s/step - loss: 0.7023 - accuracy: 0.5566 - auc: 0.5083 - precision: 0.4464 - recall: 0.2717 - val_loss: 0.6294 - val_accuracy: 0.6909 - val_auc: 0.4659 - val_precision: 0.0000e+00 - val_recall: 0.0000e+00 - lr: 1.5625e-06\n",
      "Epoch 29/100\n",
      "7/7 [==============================] - 18s 2s/step - loss: 0.6700 - accuracy: 0.6018 - auc: 0.5854 - precision: 0.5455 - recall: 0.2609 - val_loss: 0.6292 - val_accuracy: 0.6909 - val_auc: 0.4683 - val_precision: 0.0000e+00 - val_recall: 0.0000e+00 - lr: 1.5625e-06\n",
      "Epoch 30/100\n",
      "7/7 [==============================] - 17s 2s/step - loss: 0.7014 - accuracy: 0.5294 - auc: 0.4871 - precision: 0.3235 - recall: 0.1196 - val_loss: 0.6290 - val_accuracy: 0.6909 - val_auc: 0.4729 - val_precision: 0.0000e+00 - val_recall: 0.0000e+00 - lr: 1.5625e-06\n",
      "Epoch 31/100\n",
      "7/7 [==============================] - 19s 2s/step - loss: 0.6738 - accuracy: 0.6244 - auc: 0.5606 - precision: 0.6216 - recall: 0.2500 - val_loss: 0.6292 - val_accuracy: 0.6909 - val_auc: 0.4721 - val_precision: 0.0000e+00 - val_recall: 0.0000e+00 - lr: 1.5625e-06\n",
      "Epoch 32/100\n",
      "7/7 [==============================] - 18s 2s/step - loss: 0.6818 - accuracy: 0.6154 - auc: 0.5487 - precision: 0.6000 - recall: 0.2283 - val_loss: 0.6294 - val_accuracy: 0.6909 - val_auc: 0.4737 - val_precision: 0.0000e+00 - val_recall: 0.0000e+00 - lr: 1.5625e-06\n",
      "Epoch 33/100\n",
      "7/7 [==============================] - ETA: 0s - loss: 0.6876 - accuracy: 0.5792 - auc: 0.5198 - precision: 0.4878 - recall: 0.2174\n",
      "Epoch 33: ReduceLROnPlateau reducing learning rate to 7.81249980263965e-07.\n",
      "7/7 [==============================] - 17s 2s/step - loss: 0.6876 - accuracy: 0.5792 - auc: 0.5198 - precision: 0.4878 - recall: 0.2174 - val_loss: 0.6291 - val_accuracy: 0.6909 - val_auc: 0.4760 - val_precision: 0.0000e+00 - val_recall: 0.0000e+00 - lr: 1.5625e-06\n",
      "Epoch 34/100\n",
      "7/7 [==============================] - 16s 2s/step - loss: 0.6703 - accuracy: 0.5747 - auc: 0.5699 - precision: 0.4722 - recall: 0.1848 - val_loss: 0.6292 - val_accuracy: 0.6909 - val_auc: 0.4752 - val_precision: 0.0000e+00 - val_recall: 0.0000e+00 - lr: 7.8125e-07\n",
      "Epoch 35/100\n",
      "7/7 [==============================] - 16s 2s/step - loss: 0.6720 - accuracy: 0.5882 - auc: 0.5654 - precision: 0.5122 - recall: 0.2283 - val_loss: 0.6292 - val_accuracy: 0.6909 - val_auc: 0.4752 - val_precision: 0.0000e+00 - val_recall: 0.0000e+00 - lr: 7.8125e-07\n",
      "Epoch 36/100\n",
      "7/7 [==============================] - ETA: 0s - loss: 0.7058 - accuracy: 0.5339 - auc: 0.4936 - precision: 0.3922 - recall: 0.2174\n",
      "Epoch 36: ReduceLROnPlateau reducing learning rate to 3.906249901319825e-07.\n",
      "7/7 [==============================] - 16s 2s/step - loss: 0.7058 - accuracy: 0.5339 - auc: 0.4936 - precision: 0.3922 - recall: 0.2174 - val_loss: 0.6293 - val_accuracy: 0.6909 - val_auc: 0.4783 - val_precision: 0.0000e+00 - val_recall: 0.0000e+00 - lr: 7.8125e-07\n",
      "Epoch 37/100\n",
      "7/7 [==============================] - 17s 2s/step - loss: 0.6955 - accuracy: 0.5656 - auc: 0.5338 - precision: 0.4583 - recall: 0.2391 - val_loss: 0.6292 - val_accuracy: 0.6909 - val_auc: 0.4783 - val_precision: 0.0000e+00 - val_recall: 0.0000e+00 - lr: 3.9062e-07\n",
      "Epoch 38/100\n",
      "7/7 [==============================] - 16s 2s/step - loss: 0.6910 - accuracy: 0.5339 - auc: 0.5401 - precision: 0.3721 - recall: 0.1739 - val_loss: 0.6292 - val_accuracy: 0.6909 - val_auc: 0.4783 - val_precision: 0.0000e+00 - val_recall: 0.0000e+00 - lr: 3.9062e-07\n",
      "Epoch 39/100\n",
      "7/7 [==============================] - ETA: 0s - loss: 0.6875 - accuracy: 0.5656 - auc: 0.5232 - precision: 0.4524 - recall: 0.2065\n",
      "Epoch 39: ReduceLROnPlateau reducing learning rate to 1.9531249506599124e-07.\n",
      "7/7 [==============================] - 16s 2s/step - loss: 0.6875 - accuracy: 0.5656 - auc: 0.5232 - precision: 0.4524 - recall: 0.2065 - val_loss: 0.6292 - val_accuracy: 0.6909 - val_auc: 0.4783 - val_precision: 0.0000e+00 - val_recall: 0.0000e+00 - lr: 3.9062e-07\n",
      "Epoch 40/100\n",
      "7/7 [==============================] - ETA: 0s - loss: 0.6707 - accuracy: 0.5611 - auc: 0.5853 - precision: 0.4510 - recall: 0.2500Restoring model weights from the end of the best epoch: 30.\n",
      "7/7 [==============================] - 18s 2s/step - loss: 0.6707 - accuracy: 0.5611 - auc: 0.5853 - precision: 0.4510 - recall: 0.2500 - val_loss: 0.6292 - val_accuracy: 0.6909 - val_auc: 0.4783 - val_precision: 0.0000e+00 - val_recall: 0.0000e+00 - lr: 1.9531e-07\n",
      "Epoch 40: early stopping\n"
     ]
    },
    {
     "name": "stderr",
     "output_type": "stream",
     "text": [
      "\u001b[34m\u001b[1mwandb\u001b[0m: Waiting for artifact run-87lez9p0-Inception_V1-CBIS-DDSM-10.keras to be committed...\n"
     ]
    },
    {
     "data": {
      "application/vnd.jupyter.widget-view+json": {
       "model_id": "e8e5fec15ce94c51927ea0ce70a6570d",
       "version_major": 2,
       "version_minor": 0
      },
      "text/plain": [
       "VBox(children=(Label(value='2.566 MB of 365.153 MB uploaded\\r'), FloatProgress(value=0.007027029377570066, max…"
      ]
     },
     "metadata": {},
     "output_type": "display_data"
    },
    {
     "name": "stderr",
     "output_type": "stream",
     "text": [
      "\n",
      "\u001b[34m\u001b[1mwandb\u001b[0m: Committed artifact aistudio/BCD_V1_CBIS-DDSM-10/run-87lez9p0-Inception_V1-CBIS-DDSM-10.keras:v0\n",
      "wandb: WARNING Source type is set to 'repo' but some required information is missing from the environment. A job will not be created from this run. See https://docs.wandb.ai/guides/launch/create-job\n"
     ]
    },
    {
     "data": {
      "text/html": [
       "<style>\n",
       "    table.wandb td:nth-child(1) { padding: 0 10px; text-align: left ; width: auto;} td:nth-child(2) {text-align: left ; width: 100%}\n",
       "    .wandb-row { display: flex; flex-direction: row; flex-wrap: wrap; justify-content: flex-start; width: 100% }\n",
       "    .wandb-col { display: flex; flex-direction: column; flex-basis: 100%; flex: 1; padding: 10px; }\n",
       "    </style>\n",
       "<div class=\"wandb-row\"><div class=\"wandb-col\"><h3>Run history:</h3><br/><table class=\"wandb\"><tr><td>epoch/accuracy</td><td>▁▂▃▄▄▄▄▆▅▅▅▄▆▆▅▅▆▆▇▆▆▅▆▆▆▅▆▆▇▅██▇▆▇▅▆▅▆▆</td></tr><tr><td>epoch/auc</td><td>▅▅▆▅▄▆▃▆▄▅▅▁▅█▄▄▄▄█▅▄▅▄▃█▅▆▄█▃▇▆▅▇▇▄▆▆▅█</td></tr><tr><td>epoch/epoch</td><td>▁▁▁▂▂▂▂▂▂▃▃▃▃▃▄▄▄▄▄▄▅▅▅▅▅▅▆▆▆▆▆▇▇▇▇▇▇███</td></tr><tr><td>epoch/learning_rate</td><td>████████████████████████████████▄▄▄▂▂▂▁▁</td></tr><tr><td>epoch/loss</td><td>█▇▄▄▃▂▃▂▃▂▃▃▂▁▂▃▃▂▁▂▂▂▃▂▁▃▂▂▁▂▁▂▂▁▁▃▂▂▂▁</td></tr><tr><td>epoch/lr</td><td>█████████████████████████████████▄▄▄▂▂▂▁</td></tr><tr><td>epoch/precision</td><td>▃▃▃▄▃▃▃▄▃▄▃▂▄▃▃▃▄▃▅▃▄▃▃▄▅▂▄▄▆▁█▇▅▄▅▃▄▂▄▄</td></tr><tr><td>epoch/recall</td><td>▂█▇▇▅▄▄▄▃▃▃▂▂▂▂▃▂▂▃▂▂▂▁▂▂▁▂▂▂▁▂▂▂▂▂▂▂▁▂▂</td></tr><tr><td>epoch/val_accuracy</td><td>▁▂▁▄▇███████████████████████████████████</td></tr><tr><td>epoch/val_auc</td><td>▃▂▁▁▂▂▃▃▃▄▅▅▅▅▆▆▆▆▆▆▆▆▆▇▆▇▇▇▇███████████</td></tr><tr><td>epoch/val_loss</td><td>█▆▄▃▃▂▂▂▂▁▁▁▁▁▁▁▁▁▁▁▁▁▁▁▁▁▁▁▁▁▁▁▁▁▁▁▁▁▁▁</td></tr><tr><td>epoch/val_precision</td><td>▃▃▃▂▃██▁▁▁▁▁▁▁▁▁▁▁▁▁▁▁▁▁▁▁▁▁▁▁▁▁▁▁▁▁▁▁▁▁</td></tr><tr><td>epoch/val_recall</td><td>██▅▃▁▁▁▁▁▁▁▁▁▁▁▁▁▁▁▁▁▁▁▁▁▁▁▁▁▁▁▁▁▁▁▁▁▁▁▁</td></tr></table><br/></div><div class=\"wandb-col\"><h3>Run summary:</h3><br/><table class=\"wandb\"><tr><td>epoch/accuracy</td><td>0.56109</td></tr><tr><td>epoch/auc</td><td>0.58531</td></tr><tr><td>epoch/epoch</td><td>39</td></tr><tr><td>epoch/learning_rate</td><td>0.0</td></tr><tr><td>epoch/loss</td><td>0.67075</td></tr><tr><td>epoch/lr</td><td>0.0</td></tr><tr><td>epoch/precision</td><td>0.45098</td></tr><tr><td>epoch/recall</td><td>0.25</td></tr><tr><td>epoch/val_accuracy</td><td>0.69091</td></tr><tr><td>epoch/val_auc</td><td>0.47833</td></tr><tr><td>epoch/val_loss</td><td>0.62921</td></tr><tr><td>epoch/val_precision</td><td>0.0</td></tr><tr><td>epoch/val_recall</td><td>0.0</td></tr></table><br/></div></div>"
      ],
      "text/plain": [
       "<IPython.core.display.HTML object>"
      ]
     },
     "metadata": {},
     "output_type": "display_data"
    },
    {
     "data": {
      "text/html": [
       " View run <strong style=\"color:#cdcd00\">Inception</strong> at: <a href='https://wandb.ai/aistudio/BCD_V1_CBIS-DDSM-10/runs/87lez9p0' target=\"_blank\">https://wandb.ai/aistudio/BCD_V1_CBIS-DDSM-10/runs/87lez9p0</a><br/>Synced 6 W&B file(s), 0 media file(s), 2 artifact file(s) and 0 other file(s)"
      ],
      "text/plain": [
       "<IPython.core.display.HTML object>"
      ]
     },
     "metadata": {},
     "output_type": "display_data"
    },
    {
     "data": {
      "text/html": [
       "Find logs at: <code>./wandb/run-20240208_090858-87lez9p0/logs</code>"
      ],
      "text/plain": [
       "<IPython.core.display.HTML object>"
      ]
     },
     "metadata": {},
     "output_type": "display_data"
    },
    {
     "name": "stderr",
     "output_type": "stream",
     "text": [
      "/home/john/anaconda3/envs/bcd/lib/python3.10/site-packages/sklearn/metrics/_classification.py:1469: UndefinedMetricWarning: Precision and F-score are ill-defined and being set to 0.0 in labels with no predicted samples. Use `zero_division` parameter to control this behavior.\n",
      "  _warn_prf(average, modifier, msg_start, len(result))\n",
      "/home/john/anaconda3/envs/bcd/lib/python3.10/site-packages/sklearn/metrics/_classification.py:1469: UndefinedMetricWarning: Precision and F-score are ill-defined and being set to 0.0 in labels with no predicted samples. Use `zero_division` parameter to control this behavior.\n",
      "  _warn_prf(average, modifier, msg_start, len(result))\n",
      "/home/john/anaconda3/envs/bcd/lib/python3.10/site-packages/sklearn/metrics/_classification.py:1469: UndefinedMetricWarning: Precision and F-score are ill-defined and being set to 0.0 in labels with no predicted samples. Use `zero_division` parameter to control this behavior.\n",
      "  _warn_prf(average, modifier, msg_start, len(result))\n"
     ]
    },
    {
     "name": "stdout",
     "output_type": "stream",
     "text": [
      "              precision    recall  f1-score   support\n",
      "\n",
      "      benign       0.69      1.00      0.82        38\n",
      "   malignant       0.00      0.00      0.00        17\n",
      "\n",
      "    accuracy                           0.69        55\n",
      "   macro avg       0.35      0.50      0.41        55\n",
      "weighted avg       0.48      0.69      0.56        55\n",
      "\n"
     ]
    },
    {
     "data": {
      "image/png": "[encoded data removed]",
      "text/plain": [
       "<Figure size 400x400 with 1 Axes>"
      ]
     },
     "metadata": {},
     "output_type": "display_data"
    }
   ],
   "source": [
    "# Obtain the ResNet model\n",
    "inception = factory.create_inception()\n",
    "inception.summary()\n",
    "\n",
    "# Create and run the experiment.\n",
    "config[\"run_name\"] = inception.alias\n",
    "inception_experiment = Experiment(model=inception, config=config, repo=repo, optimizer=optimizer, callbacks=callbacks, metrics=metrics, force=force)\n",
    "inception_experiment.run(train_ds=train_ds, val_ds=val_ds)\n",
    "inception_experiment.classification_report(data=val_ds)\n",
    "inception_experiment.plot_confusion_matrix(data=val_ds)\n"
   ]
  },
  {
   "cell_type": "markdown",
   "metadata": {},
   "source": [
    "## EfficientNet Experiment"
   ]
  },
  {
   "cell_type": "code",
   "execution_count": 10,
   "metadata": {},
   "outputs": [
    {
     "name": "stdout",
     "output_type": "stream",
     "text": [
      "Model: \"model\"\n",
      "_________________________________________________________________\n",
      " Layer (type)                Output Shape              Param #   \n",
      "=================================================================\n",
      " input_layer (InputLayer)    [(None, 224, 224, 3)]     0         \n",
      "                                                                 \n",
      " data_augmentation (Sequenti  (None, 224, 224, 3)      0         \n",
      " al)                                                             \n",
      "                                                                 \n",
      " efficientnetv2-s (Functiona  (None, None, None, 1280)  20331360 \n",
      " l)                                                              \n",
      "                                                                 \n",
      " efficientnet_global_average  (None, 1280)             0         \n",
      " _pooling (GlobalAveragePool                                     \n",
      " ing2D)                                                          \n",
      "                                                                 \n",
      " efficientnet_dense_1 (Dense  (None, 1024)             1311744   \n",
      " )                                                               \n",
      "                                                                 \n",
      " efficientnet_dropout_1 (Dro  (None, 1024)             0         \n",
      " pout)                                                           \n",
      "                                                                 \n",
      " efficientnet_dense_2 (Dense  (None, 1024)             1049600   \n",
      " )                                                               \n",
      "                                                                 \n",
      " efficientnet_dropout_2 (Dro  (None, 1024)             0         \n",
      " pout)                                                           \n",
      "                                                                 \n",
      " efficientnet_dense_3 (Dense  (None, 512)              524800    \n",
      " )                                                               \n",
      "                                                                 \n",
      " efficientnet_dense_4 (Dense  (None, 128)              65664     \n",
      " )                                                               \n",
      "                                                                 \n",
      " efficientnet_output_layer (  (None, 1)                129       \n",
      " Dense)                                                          \n",
      "                                                                 \n",
      "=================================================================\n",
      "Total params: 23,283,297\n",
      "Trainable params: 2,951,937\n",
      "Non-trainable params: 20,331,360\n",
      "_________________________________________________________________\n"
     ]
    },
    {
     "data": {
      "text/html": [
       "wandb version 0.16.3 is available!  To upgrade, please run:\n",
       " $ pip install wandb --upgrade"
      ],
      "text/plain": [
       "<IPython.core.display.HTML object>"
      ]
     },
     "metadata": {},
     "output_type": "display_data"
    },
    {
     "data": {
      "text/html": [
       "Tracking run with wandb version 0.16.2"
      ],
      "text/plain": [
       "<IPython.core.display.HTML object>"
      ]
     },
     "metadata": {},
     "output_type": "display_data"
    },
    {
     "data": {
      "text/html": [
       "Run data is saved locally in <code>/home/john/projects/bcd/wandb/run-20240208_092603-dez4la93</code>"
      ],
      "text/plain": [
       "<IPython.core.display.HTML object>"
      ]
     },
     "metadata": {},
     "output_type": "display_data"
    },
    {
     "data": {
      "text/html": [
       "Syncing run <strong><a href='https://wandb.ai/aistudio/BCD_V1_CBIS-DDSM-10/runs/dez4la93' target=\"_blank\">EfficientNet</a></strong> to <a href='https://wandb.ai/aistudio/BCD_V1_CBIS-DDSM-10' target=\"_blank\">Weights & Biases</a> (<a href='https://wandb.me/run' target=\"_blank\">docs</a>)<br/>"
      ],
      "text/plain": [
       "<IPython.core.display.HTML object>"
      ]
     },
     "metadata": {},
     "output_type": "display_data"
    },
    {
     "data": {
      "text/html": [
       " View project at <a href='https://wandb.ai/aistudio/BCD_V1_CBIS-DDSM-10' target=\"_blank\">https://wandb.ai/aistudio/BCD_V1_CBIS-DDSM-10</a>"
      ],
      "text/plain": [
       "<IPython.core.display.HTML object>"
      ]
     },
     "metadata": {},
     "output_type": "display_data"
    },
    {
     "data": {
      "text/html": [
       " View run at <a href='https://wandb.ai/aistudio/BCD_V1_CBIS-DDSM-10/runs/dez4la93' target=\"_blank\">https://wandb.ai/aistudio/BCD_V1_CBIS-DDSM-10/runs/dez4la93</a>"
      ],
      "text/plain": [
       "<IPython.core.display.HTML object>"
      ]
     },
     "metadata": {},
     "output_type": "display_data"
    },
    {
     "name": "stdout",
     "output_type": "stream",
     "text": [
      "Epoch 1/100\n",
      "7/7 [==============================] - 45s 4s/step - loss: 0.6884 - accuracy: 0.5611 - auc: 0.5043 - precision: 0.3333 - recall: 0.0459 - val_loss: 0.6635 - val_accuracy: 0.6909 - val_auc: 0.5163 - val_precision: 0.0000e+00 - val_recall: 0.0000e+00 - lr: 1.9531e-07\n",
      "Epoch 2/100\n",
      "7/7 [==============================] - 25s 3s/step - loss: 0.6815 - accuracy: 0.5792 - auc: 0.5176 - precision: 0.4615 - recall: 0.0652 - val_loss: 0.6636 - val_accuracy: 0.6909 - val_auc: 0.5155 - val_precision: 0.0000e+00 - val_recall: 0.0000e+00 - lr: 1.9531e-07\n",
      "Epoch 3/100\n",
      "7/7 [==============================] - 26s 3s/step - loss: 0.6838 - accuracy: 0.5385 - auc: 0.5098 - precision: 0.2727 - recall: 0.0652 - val_loss: 0.6633 - val_accuracy: 0.6909 - val_auc: 0.5178 - val_precision: 0.0000e+00 - val_recall: 0.0000e+00 - lr: 1.9531e-07\n",
      "Epoch 4/100\n",
      "7/7 [==============================] - 26s 3s/step - loss: 0.6759 - accuracy: 0.5973 - auc: 0.5597 - precision: 0.6667 - recall: 0.0652 - val_loss: 0.6634 - val_accuracy: 0.6909 - val_auc: 0.5170 - val_precision: 0.0000e+00 - val_recall: 0.0000e+00 - lr: 1.9531e-07\n",
      "Epoch 5/100\n",
      "7/7 [==============================] - 26s 3s/step - loss: 0.6784 - accuracy: 0.5747 - auc: 0.5218 - precision: 0.4375 - recall: 0.0761 - val_loss: 0.6632 - val_accuracy: 0.6909 - val_auc: 0.5101 - val_precision: 0.0000e+00 - val_recall: 0.0000e+00 - lr: 1.9531e-07\n",
      "Epoch 6/100\n",
      "7/7 [==============================] - 27s 4s/step - loss: 0.6842 - accuracy: 0.5928 - auc: 0.4954 - precision: 0.5556 - recall: 0.1087 - val_loss: 0.6631 - val_accuracy: 0.6909 - val_auc: 0.5093 - val_precision: 0.0000e+00 - val_recall: 0.0000e+00 - lr: 1.9531e-07\n",
      "Epoch 7/100\n",
      "7/7 [==============================] - 28s 4s/step - loss: 0.6881 - accuracy: 0.5747 - auc: 0.4623 - precision: 0.4286 - recall: 0.0652 - val_loss: 0.6630 - val_accuracy: 0.6909 - val_auc: 0.5139 - val_precision: 0.0000e+00 - val_recall: 0.0000e+00 - lr: 1.9531e-07\n",
      "Epoch 8/100\n",
      "7/7 [==============================] - 27s 4s/step - loss: 0.6899 - accuracy: 0.5566 - auc: 0.4673 - precision: 0.2500 - recall: 0.0326 - val_loss: 0.6629 - val_accuracy: 0.6909 - val_auc: 0.5147 - val_precision: 0.0000e+00 - val_recall: 0.0000e+00 - lr: 1.9531e-07\n",
      "Epoch 9/100\n",
      "7/7 [==============================] - 27s 3s/step - loss: 0.6868 - accuracy: 0.5928 - auc: 0.4753 - precision: 0.5714 - recall: 0.0870 - val_loss: 0.6628 - val_accuracy: 0.6909 - val_auc: 0.5178 - val_precision: 0.0000e+00 - val_recall: 0.0000e+00 - lr: 1.9531e-07\n",
      "Epoch 10/100\n",
      "7/7 [==============================] - 26s 3s/step - loss: 0.6716 - accuracy: 0.5701 - auc: 0.5727 - precision: 0.4118 - recall: 0.0761 - val_loss: 0.6627 - val_accuracy: 0.6909 - val_auc: 0.5178 - val_precision: 0.0000e+00 - val_recall: 0.0000e+00 - lr: 1.9531e-07\n",
      "Epoch 11/100\n",
      "7/7 [==============================] - 27s 4s/step - loss: 0.6795 - accuracy: 0.5385 - auc: 0.5511 - precision: 0.1429 - recall: 0.0217 - val_loss: 0.6626 - val_accuracy: 0.6909 - val_auc: 0.5209 - val_precision: 0.0000e+00 - val_recall: 0.0000e+00 - lr: 1.9531e-07\n",
      "Epoch 12/100\n",
      "7/7 [==============================] - 27s 4s/step - loss: 0.6773 - accuracy: 0.5837 - auc: 0.5360 - precision: 0.5000 - recall: 0.0870 - val_loss: 0.6626 - val_accuracy: 0.6909 - val_auc: 0.5209 - val_precision: 0.0000e+00 - val_recall: 0.0000e+00 - lr: 1.9531e-07\n",
      "Epoch 13/100\n",
      "7/7 [==============================] - 27s 3s/step - loss: 0.6831 - accuracy: 0.5747 - auc: 0.5002 - precision: 0.4375 - recall: 0.0761 - val_loss: 0.6625 - val_accuracy: 0.6909 - val_auc: 0.5248 - val_precision: 0.0000e+00 - val_recall: 0.0000e+00 - lr: 1.9531e-07\n",
      "Epoch 14/100\n",
      "7/7 [==============================] - 26s 3s/step - loss: 0.6780 - accuracy: 0.5611 - auc: 0.5322 - precision: 0.2222 - recall: 0.0217 - val_loss: 0.6624 - val_accuracy: 0.6909 - val_auc: 0.5271 - val_precision: 0.0000e+00 - val_recall: 0.0000e+00 - lr: 1.9531e-07\n",
      "Epoch 15/100\n",
      "7/7 [==============================] - 27s 3s/step - loss: 0.6812 - accuracy: 0.5611 - auc: 0.5141 - precision: 0.3077 - recall: 0.0435 - val_loss: 0.6624 - val_accuracy: 0.6909 - val_auc: 0.5279 - val_precision: 0.0000e+00 - val_recall: 0.0000e+00 - lr: 1.9531e-07\n",
      "Epoch 16/100\n",
      "7/7 [==============================] - 27s 4s/step - loss: 0.6870 - accuracy: 0.5566 - auc: 0.4830 - precision: 0.2000 - recall: 0.0217 - val_loss: 0.6623 - val_accuracy: 0.6909 - val_auc: 0.5279 - val_precision: 0.0000e+00 - val_recall: 0.0000e+00 - lr: 1.9531e-07\n",
      "Epoch 17/100\n",
      "7/7 [==============================] - 27s 3s/step - loss: 0.6801 - accuracy: 0.5747 - auc: 0.5278 - precision: 0.4000 - recall: 0.0435 - val_loss: 0.6622 - val_accuracy: 0.6909 - val_auc: 0.5279 - val_precision: 0.0000e+00 - val_recall: 0.0000e+00 - lr: 1.9531e-07\n",
      "Epoch 18/100\n",
      "7/7 [==============================] - 25s 3s/step - loss: 0.6885 - accuracy: 0.5430 - auc: 0.4848 - precision: 0.1538 - recall: 0.0217 - val_loss: 0.6621 - val_accuracy: 0.6909 - val_auc: 0.5302 - val_precision: 0.0000e+00 - val_recall: 0.0000e+00 - lr: 1.9531e-07\n",
      "Epoch 19/100\n",
      "7/7 [==============================] - 26s 3s/step - loss: 0.6801 - accuracy: 0.5792 - auc: 0.5062 - precision: 0.4615 - recall: 0.0652 - val_loss: 0.6621 - val_accuracy: 0.6909 - val_auc: 0.5302 - val_precision: 0.0000e+00 - val_recall: 0.0000e+00 - lr: 1.9531e-07\n",
      "Epoch 20/100\n",
      "7/7 [==============================] - 26s 3s/step - loss: 0.6943 - accuracy: 0.5566 - auc: 0.4508 - precision: 0.2500 - recall: 0.0326 - val_loss: 0.6620 - val_accuracy: 0.6909 - val_auc: 0.5263 - val_precision: 0.0000e+00 - val_recall: 0.0000e+00 - lr: 1.9531e-07\n",
      "Epoch 21/100\n",
      "7/7 [==============================] - 26s 3s/step - loss: 0.6886 - accuracy: 0.5792 - auc: 0.4528 - precision: 0.4444 - recall: 0.0435 - val_loss: 0.6620 - val_accuracy: 0.6909 - val_auc: 0.5209 - val_precision: 0.0000e+00 - val_recall: 0.0000e+00 - lr: 1.9531e-07\n",
      "Epoch 22/100\n",
      "7/7 [==============================] - 26s 3s/step - loss: 0.6808 - accuracy: 0.5928 - auc: 0.5099 - precision: 0.5556 - recall: 0.1087 - val_loss: 0.6619 - val_accuracy: 0.6909 - val_auc: 0.5209 - val_precision: 0.0000e+00 - val_recall: 0.0000e+00 - lr: 1.9531e-07\n",
      "Epoch 23/100\n",
      "7/7 [==============================] - 26s 3s/step - loss: 0.6832 - accuracy: 0.5837 - auc: 0.5213 - precision: 0.5000 - recall: 0.0652 - val_loss: 0.6618 - val_accuracy: 0.6909 - val_auc: 0.5108 - val_precision: 0.0000e+00 - val_recall: 0.0000e+00 - lr: 1.9531e-07\n",
      "Epoch 24/100\n",
      "7/7 [==============================] - 25s 3s/step - loss: 0.6738 - accuracy: 0.5792 - auc: 0.5619 - precision: 0.4615 - recall: 0.0652 - val_loss: 0.6618 - val_accuracy: 0.6909 - val_auc: 0.5108 - val_precision: 0.0000e+00 - val_recall: 0.0000e+00 - lr: 1.9531e-07\n",
      "Epoch 25/100\n",
      "7/7 [==============================] - 25s 3s/step - loss: 0.6836 - accuracy: 0.5928 - auc: 0.4886 - precision: 0.6667 - recall: 0.0435 - val_loss: 0.6617 - val_accuracy: 0.6909 - val_auc: 0.5108 - val_precision: 0.0000e+00 - val_recall: 0.0000e+00 - lr: 1.9531e-07\n",
      "Epoch 26/100\n",
      "7/7 [==============================] - 26s 3s/step - loss: 0.6767 - accuracy: 0.5837 - auc: 0.5314 - precision: 0.5000 - recall: 0.0761 - val_loss: 0.6616 - val_accuracy: 0.6909 - val_auc: 0.5147 - val_precision: 0.0000e+00 - val_recall: 0.0000e+00 - lr: 1.9531e-07\n",
      "Epoch 27/100\n",
      "7/7 [==============================] - 25s 3s/step - loss: 0.6779 - accuracy: 0.5928 - auc: 0.5337 - precision: 0.5833 - recall: 0.0761 - val_loss: 0.6615 - val_accuracy: 0.6909 - val_auc: 0.5186 - val_precision: 0.0000e+00 - val_recall: 0.0000e+00 - lr: 1.9531e-07\n",
      "Epoch 28/100\n",
      "7/7 [==============================] - 25s 3s/step - loss: 0.6776 - accuracy: 0.6109 - auc: 0.5217 - precision: 0.8000 - recall: 0.0870 - val_loss: 0.6615 - val_accuracy: 0.6909 - val_auc: 0.5186 - val_precision: 0.0000e+00 - val_recall: 0.0000e+00 - lr: 1.9531e-07\n",
      "Epoch 29/100\n",
      "7/7 [==============================] - 25s 3s/step - loss: 0.6806 - accuracy: 0.5882 - auc: 0.5255 - precision: 0.5385 - recall: 0.0761 - val_loss: 0.6614 - val_accuracy: 0.6909 - val_auc: 0.5186 - val_precision: 0.0000e+00 - val_recall: 0.0000e+00 - lr: 1.9531e-07\n",
      "Epoch 30/100\n",
      "7/7 [==============================] - 25s 3s/step - loss: 0.6838 - accuracy: 0.5792 - auc: 0.4949 - precision: 0.4545 - recall: 0.0543 - val_loss: 0.6614 - val_accuracy: 0.6909 - val_auc: 0.5224 - val_precision: 0.0000e+00 - val_recall: 0.0000e+00 - lr: 1.9531e-07\n",
      "Epoch 31/100\n",
      "7/7 [==============================] - 26s 3s/step - loss: 0.6770 - accuracy: 0.5837 - auc: 0.5564 - precision: 0.5000 - recall: 0.0543 - val_loss: 0.6613 - val_accuracy: 0.6909 - val_auc: 0.5170 - val_precision: 0.0000e+00 - val_recall: 0.0000e+00 - lr: 1.9531e-07\n",
      "Epoch 32/100\n",
      "7/7 [==============================] - 27s 4s/step - loss: 0.6762 - accuracy: 0.5928 - auc: 0.5349 - precision: 0.5833 - recall: 0.0761 - val_loss: 0.6613 - val_accuracy: 0.6909 - val_auc: 0.5116 - val_precision: 0.0000e+00 - val_recall: 0.0000e+00 - lr: 1.9531e-07\n",
      "Epoch 33/100\n",
      "7/7 [==============================] - 28s 4s/step - loss: 0.6753 - accuracy: 0.5837 - auc: 0.5541 - precision: 0.5000 - recall: 0.0543 - val_loss: 0.6612 - val_accuracy: 0.6909 - val_auc: 0.5116 - val_precision: 0.0000e+00 - val_recall: 0.0000e+00 - lr: 1.9531e-07\n",
      "Epoch 34/100\n",
      "7/7 [==============================] - 26s 3s/step - loss: 0.6847 - accuracy: 0.5928 - auc: 0.4793 - precision: 0.6000 - recall: 0.0652 - val_loss: 0.6611 - val_accuracy: 0.6909 - val_auc: 0.5163 - val_precision: 0.0000e+00 - val_recall: 0.0000e+00 - lr: 1.9531e-07\n",
      "Epoch 35/100\n",
      "7/7 [==============================] - 25s 3s/step - loss: 0.6917 - accuracy: 0.5701 - auc: 0.4582 - precision: 0.3846 - recall: 0.0543 - val_loss: 0.6611 - val_accuracy: 0.6909 - val_auc: 0.5163 - val_precision: 0.0000e+00 - val_recall: 0.0000e+00 - lr: 1.9531e-07\n",
      "Epoch 36/100\n",
      "7/7 [==============================] - 25s 3s/step - loss: 0.6796 - accuracy: 0.5747 - auc: 0.5273 - precision: 0.4286 - recall: 0.0652 - val_loss: 0.6611 - val_accuracy: 0.6909 - val_auc: 0.5163 - val_precision: 0.0000e+00 - val_recall: 0.0000e+00 - lr: 1.9531e-07\n",
      "Epoch 37/100\n",
      "7/7 [==============================] - ETA: 0s - loss: 0.6704 - accuracy: 0.5747 - auc: 0.5863 - precision: 0.4167 - recall: 0.0543   \n",
      "Epoch 37: ReduceLROnPlateau reducing learning rate to 9.765624753299562e-08.\n",
      "7/7 [==============================] - 25s 3s/step - loss: 0.6704 - accuracy: 0.5747 - auc: 0.5863 - precision: 0.4167 - recall: 0.0543 - val_loss: 0.6611 - val_accuracy: 0.6909 - val_auc: 0.5163 - val_precision: 0.0000e+00 - val_recall: 0.0000e+00 - lr: 1.9531e-07\n",
      "Epoch 38/100\n",
      "7/7 [==============================] - 25s 3s/step - loss: 0.6819 - accuracy: 0.5566 - auc: 0.5195 - precision: 0.2500 - recall: 0.0326 - val_loss: 0.6611 - val_accuracy: 0.6909 - val_auc: 0.5163 - val_precision: 0.0000e+00 - val_recall: 0.0000e+00 - lr: 9.7656e-08\n",
      "Epoch 39/100\n",
      "7/7 [==============================] - 26s 3s/step - loss: 0.6752 - accuracy: 0.5928 - auc: 0.5565 - precision: 0.6667 - recall: 0.0435 - val_loss: 0.6610 - val_accuracy: 0.6909 - val_auc: 0.5163 - val_precision: 0.0000e+00 - val_recall: 0.0000e+00 - lr: 9.7656e-08\n",
      "Epoch 40/100\n",
      "7/7 [==============================] - 25s 3s/step - loss: 0.6844 - accuracy: 0.5656 - auc: 0.5070 - precision: 0.3000 - recall: 0.0326 - val_loss: 0.6610 - val_accuracy: 0.6909 - val_auc: 0.5163 - val_precision: 0.0000e+00 - val_recall: 0.0000e+00 - lr: 9.7656e-08\n",
      "Epoch 41/100\n",
      "7/7 [==============================] - 27s 4s/step - loss: 0.6872 - accuracy: 0.5566 - auc: 0.4860 - precision: 0.1250 - recall: 0.0109 - val_loss: 0.6610 - val_accuracy: 0.6909 - val_auc: 0.5163 - val_precision: 0.0000e+00 - val_recall: 0.0000e+00 - lr: 9.7656e-08\n",
      "Epoch 42/100\n",
      "7/7 [==============================] - ETA: 0s - loss: 0.6811 - accuracy: 0.5747 - auc: 0.5203 - precision: 0.4375 - recall: 0.0761\n",
      "Epoch 42: ReduceLROnPlateau reducing learning rate to 4.882812376649781e-08.\n",
      "7/7 [==============================] - 26s 3s/step - loss: 0.6811 - accuracy: 0.5747 - auc: 0.5203 - precision: 0.4375 - recall: 0.0761 - val_loss: 0.6610 - val_accuracy: 0.6909 - val_auc: 0.5163 - val_precision: 0.0000e+00 - val_recall: 0.0000e+00 - lr: 9.7656e-08\n",
      "Epoch 43/100\n",
      "7/7 [==============================] - 27s 4s/step - loss: 0.6746 - accuracy: 0.5792 - auc: 0.5532 - precision: 0.4545 - recall: 0.0543 - val_loss: 0.6609 - val_accuracy: 0.6909 - val_auc: 0.5163 - val_precision: 0.0000e+00 - val_recall: 0.0000e+00 - lr: 4.8828e-08\n",
      "Epoch 44/100\n",
      "7/7 [==============================] - 27s 3s/step - loss: 0.6855 - accuracy: 0.5566 - auc: 0.4839 - precision: 0.2000 - recall: 0.0217 - val_loss: 0.6609 - val_accuracy: 0.6909 - val_auc: 0.5163 - val_precision: 0.0000e+00 - val_recall: 0.0000e+00 - lr: 4.8828e-08\n",
      "Epoch 45/100\n",
      "7/7 [==============================] - ETA: 0s - loss: 0.6785 - accuracy: 0.5973 - auc: 0.5313 - precision: 0.6000 - recall: 0.0978\n",
      "Epoch 45: ReduceLROnPlateau reducing learning rate to 2.4414061883248905e-08.\n",
      "7/7 [==============================] - 27s 3s/step - loss: 0.6785 - accuracy: 0.5973 - auc: 0.5313 - precision: 0.6000 - recall: 0.0978 - val_loss: 0.6609 - val_accuracy: 0.6909 - val_auc: 0.5163 - val_precision: 0.0000e+00 - val_recall: 0.0000e+00 - lr: 4.8828e-08\n",
      "Epoch 46/100\n",
      "7/7 [==============================] - 27s 3s/step - loss: 0.6814 - accuracy: 0.5747 - auc: 0.5133 - precision: 0.3750 - recall: 0.0326 - val_loss: 0.6609 - val_accuracy: 0.6909 - val_auc: 0.5163 - val_precision: 0.0000e+00 - val_recall: 0.0000e+00 - lr: 2.4414e-08\n",
      "Epoch 47/100\n",
      "7/7 [==============================] - 27s 4s/step - loss: 0.6924 - accuracy: 0.5656 - auc: 0.4692 - precision: 0.3333 - recall: 0.0435 - val_loss: 0.6609 - val_accuracy: 0.6909 - val_auc: 0.5163 - val_precision: 0.0000e+00 - val_recall: 0.0000e+00 - lr: 2.4414e-08\n",
      "Epoch 48/100\n",
      "7/7 [==============================] - ETA: 0s - loss: 0.6777 - accuracy: 0.6018 - auc: 0.5410 - precision: 0.6667 - recall: 0.0870\n",
      "Epoch 48: ReduceLROnPlateau reducing learning rate to 1.2207030941624453e-08.\n",
      "7/7 [==============================] - 27s 4s/step - loss: 0.6777 - accuracy: 0.6018 - auc: 0.5410 - precision: 0.6667 - recall: 0.0870 - val_loss: 0.6609 - val_accuracy: 0.6909 - val_auc: 0.5163 - val_precision: 0.0000e+00 - val_recall: 0.0000e+00 - lr: 2.4414e-08\n",
      "Epoch 49/100\n",
      "7/7 [==============================] - 27s 3s/step - loss: 0.6838 - accuracy: 0.5747 - auc: 0.4983 - precision: 0.4167 - recall: 0.0543 - val_loss: 0.6609 - val_accuracy: 0.6909 - val_auc: 0.5163 - val_precision: 0.0000e+00 - val_recall: 0.0000e+00 - lr: 1.2207e-08\n",
      "Epoch 50/100\n",
      "7/7 [==============================] - 26s 3s/step - loss: 0.6767 - accuracy: 0.5837 - auc: 0.5372 - precision: 0.5000 - recall: 0.0652 - val_loss: 0.6609 - val_accuracy: 0.6909 - val_auc: 0.5163 - val_precision: 0.0000e+00 - val_recall: 0.0000e+00 - lr: 1.2207e-08\n",
      "Epoch 51/100\n",
      "7/7 [==============================] - 27s 3s/step - loss: 0.6904 - accuracy: 0.6018 - auc: 0.4620 - precision: 0.7000 - recall: 0.0761 - val_loss: 0.6609 - val_accuracy: 0.6909 - val_auc: 0.5163 - val_precision: 0.0000e+00 - val_recall: 0.0000e+00 - lr: 1.2207e-08\n",
      "Epoch 52/100\n",
      "7/7 [==============================] - ETA: 0s - loss: 0.6930 - accuracy: 0.5837 - auc: 0.4450 - precision: 0.5000 - recall: 0.0652\n",
      "Epoch 52: ReduceLROnPlateau reducing learning rate to 6.103515470812226e-09.\n",
      "7/7 [==============================] - 27s 3s/step - loss: 0.6930 - accuracy: 0.5837 - auc: 0.4450 - precision: 0.5000 - recall: 0.0652 - val_loss: 0.6609 - val_accuracy: 0.6909 - val_auc: 0.5163 - val_precision: 0.0000e+00 - val_recall: 0.0000e+00 - lr: 1.2207e-08\n",
      "Epoch 53/100\n",
      "7/7 [==============================] - 27s 3s/step - loss: 0.6846 - accuracy: 0.5747 - auc: 0.4783 - precision: 0.3750 - recall: 0.0326 - val_loss: 0.6609 - val_accuracy: 0.6909 - val_auc: 0.5163 - val_precision: 0.0000e+00 - val_recall: 0.0000e+00 - lr: 6.1035e-09\n",
      "Epoch 54/100\n",
      "7/7 [==============================] - 26s 3s/step - loss: 0.6781 - accuracy: 0.5837 - auc: 0.5309 - precision: 0.5000 - recall: 0.0543 - val_loss: 0.6609 - val_accuracy: 0.6909 - val_auc: 0.5163 - val_precision: 0.0000e+00 - val_recall: 0.0000e+00 - lr: 6.1035e-09\n",
      "Epoch 55/100\n",
      "7/7 [==============================] - ETA: 0s - loss: 0.6777 - accuracy: 0.6109 - auc: 0.5266 - precision: 0.7500 - recall: 0.0978\n",
      "Epoch 55: ReduceLROnPlateau reducing learning rate to 3.051757735406113e-09.\n",
      "7/7 [==============================] - 26s 3s/step - loss: 0.6777 - accuracy: 0.6109 - auc: 0.5266 - precision: 0.7500 - recall: 0.0978 - val_loss: 0.6609 - val_accuracy: 0.6909 - val_auc: 0.5163 - val_precision: 0.0000e+00 - val_recall: 0.0000e+00 - lr: 6.1035e-09\n",
      "Epoch 56/100\n",
      "7/7 [==============================] - 28s 4s/step - loss: 0.6820 - accuracy: 0.5882 - auc: 0.5073 - precision: 0.5294 - recall: 0.0978 - val_loss: 0.6609 - val_accuracy: 0.6909 - val_auc: 0.5163 - val_precision: 0.0000e+00 - val_recall: 0.0000e+00 - lr: 3.0518e-09\n",
      "Epoch 57/100\n",
      "7/7 [==============================] - 27s 3s/step - loss: 0.6981 - accuracy: 0.5611 - auc: 0.4315 - precision: 0.2727 - recall: 0.0326 - val_loss: 0.6609 - val_accuracy: 0.6909 - val_auc: 0.5163 - val_precision: 0.0000e+00 - val_recall: 0.0000e+00 - lr: 3.0518e-09\n",
      "Epoch 58/100\n",
      "7/7 [==============================] - ETA: 0s - loss: 0.6712 - accuracy: 0.5882 - auc: 0.5707 - precision: 0.5455 - recall: 0.0652\n",
      "Epoch 58: ReduceLROnPlateau reducing learning rate to 1.5258788677030566e-09.\n",
      "7/7 [==============================] - 27s 4s/step - loss: 0.6712 - accuracy: 0.5882 - auc: 0.5707 - precision: 0.5455 - recall: 0.0652 - val_loss: 0.6609 - val_accuracy: 0.6909 - val_auc: 0.5163 - val_precision: 0.0000e+00 - val_recall: 0.0000e+00 - lr: 3.0518e-09\n",
      "Epoch 59/100\n",
      "7/7 [==============================] - ETA: 0s - loss: 0.6814 - accuracy: 0.5973 - auc: 0.4908 - precision: 0.6667 - recall: 0.0652Restoring model weights from the end of the best epoch: 49.\n",
      "7/7 [==============================] - 27s 3s/step - loss: 0.6814 - accuracy: 0.5973 - auc: 0.4908 - precision: 0.6667 - recall: 0.0652 - val_loss: 0.6609 - val_accuracy: 0.6909 - val_auc: 0.5163 - val_precision: 0.0000e+00 - val_recall: 0.0000e+00 - lr: 1.5259e-09\n",
      "Epoch 59: early stopping\n"
     ]
    },
    {
     "name": "stderr",
     "output_type": "stream",
     "text": [
      "\u001b[34m\u001b[1mwandb\u001b[0m: Waiting for artifact run-dez4la93-EfficientNet_V1-CBIS-DDSM-10.keras to be committed...\n"
     ]
    },
    {
     "data": {
      "application/vnd.jupyter.widget-view+json": {
       "model_id": "40907bd585294eacbbb7ba7ca8f74452",
       "version_major": 2,
       "version_minor": 0
      },
      "text/plain": [
       "VBox(children=(Label(value='2.160 MB of 393.570 MB uploaded\\r'), FloatProgress(value=0.005487431046791135, max…"
      ]
     },
     "metadata": {},
     "output_type": "display_data"
    },
    {
     "name": "stderr",
     "output_type": "stream",
     "text": [
      "\n",
      "\u001b[34m\u001b[1mwandb\u001b[0m: Committed artifact aistudio/BCD_V1_CBIS-DDSM-10/run-dez4la93-EfficientNet_V1-CBIS-DDSM-10.keras:v0\n",
      "wandb: WARNING Source type is set to 'repo' but some required information is missing from the environment. A job will not be created from this run. See https://docs.wandb.ai/guides/launch/create-job\n"
     ]
    },
    {
     "data": {
      "text/html": [
       "<style>\n",
       "    table.wandb td:nth-child(1) { padding: 0 10px; text-align: left ; width: auto;} td:nth-child(2) {text-align: left ; width: 100%}\n",
       "    .wandb-row { display: flex; flex-direction: row; flex-wrap: wrap; justify-content: flex-start; width: 100% }\n",
       "    .wandb-col { display: flex; flex-direction: column; flex-basis: 100%; flex: 1; padding: 10px; }\n",
       "    </style>\n",
       "<div class=\"wandb-row\"><div class=\"wandb-col\"><h3>Run history:</h3><br/><table class=\"wandb\"><tr><td>epoch/accuracy</td><td>▃▅▇▅▅▃▄▁▅▃▃▅▅▃▆▅▆▅█▆▅▆▆▄▅▃▄▃▅▃▅▄▅▅▅▅█▆▆▇</td></tr><tr><td>epoch/auc</td><td>▄▅▇▅▂▂▇▆▄▅▃▅▄▁▄▅▃▅▅▅▇▅▃▂█▅▄▃▆▃▄▂▄▆▁▃▅▄▇▃</td></tr><tr><td>epoch/epoch</td><td>▁▁▁▁▂▂▂▂▂▃▃▃▃▃▄▄▄▄▄▄▅▅▅▅▅▅▆▆▆▆▆▇▇▇▇▇████</td></tr><tr><td>epoch/learning_rate</td><td>████████████████████████▄▄▄▄▃▃▂▂▁▁▁▁▁▁▁▁</td></tr><tr><td>epoch/loss</td><td>▆▄▃▃▆▇▁▄▅▃▆▄▄█▄▅▅▃▃▄▃▃▅▇▁▄▅▆▂▅▄▇▅▃█▅▃▄▁▄</td></tr><tr><td>epoch/lr</td><td>█████████████████████████▄▄▄▃▃▂▂▁▁▁▁▁▁▁▁</td></tr><tr><td>epoch/precision</td><td>▃▄▇▄▄▂▄▁▄▂▂▄▄▂▅▅▇▅█▅▅▆▆▄▄▂▃▁▄▂▄▃▄▅▅▄▇▅▅▇</td></tr><tr><td>epoch/recall</td><td>▄▅▅▆▅▃▆▂▆▂▂▃▅▃█▅▃▆▆▆▄▆▅▄▄▃▃▁▄▂▃▃▄▅▅▃▇▇▅▅</td></tr><tr><td>epoch/val_accuracy</td><td>▁▁▁▁▁▁▁▁▁▁▁▁▁▁▁▁▁▁▁▁▁▁▁▁▁▁▁▁▁▁▁▁▁▁▁▁▁▁▁▁</td></tr><tr><td>epoch/val_auc</td><td>▃▃▃▁▂▃▄▅▆▇▇▇█▇▅▁▁▃▄▄▃▂▃▃▃▃▃▃▃▃▃▃▃▃▃▃▃▃▃▃</td></tr><tr><td>epoch/val_loss</td><td>███▇▆▆▆▆▅▅▅▄▄▄▄▃▃▃▂▂▂▂▂▂▁▁▁▁▁▁▁▁▁▁▁▁▁▁▁▁</td></tr><tr><td>epoch/val_precision</td><td>▁▁▁▁▁▁▁▁▁▁▁▁▁▁▁▁▁▁▁▁▁▁▁▁▁▁▁▁▁▁▁▁▁▁▁▁▁▁▁▁</td></tr><tr><td>epoch/val_recall</td><td>▁▁▁▁▁▁▁▁▁▁▁▁▁▁▁▁▁▁▁▁▁▁▁▁▁▁▁▁▁▁▁▁▁▁▁▁▁▁▁▁</td></tr></table><br/></div><div class=\"wandb-col\"><h3>Run summary:</h3><br/><table class=\"wandb\"><tr><td>epoch/accuracy</td><td>0.59729</td></tr><tr><td>epoch/auc</td><td>0.49082</td></tr><tr><td>epoch/epoch</td><td>58</td></tr><tr><td>epoch/learning_rate</td><td>0.0</td></tr><tr><td>epoch/loss</td><td>0.68142</td></tr><tr><td>epoch/lr</td><td>0.0</td></tr><tr><td>epoch/precision</td><td>0.66667</td></tr><tr><td>epoch/recall</td><td>0.06522</td></tr><tr><td>epoch/val_accuracy</td><td>0.69091</td></tr><tr><td>epoch/val_auc</td><td>0.51625</td></tr><tr><td>epoch/val_loss</td><td>0.66091</td></tr><tr><td>epoch/val_precision</td><td>0.0</td></tr><tr><td>epoch/val_recall</td><td>0.0</td></tr></table><br/></div></div>"
      ],
      "text/plain": [
       "<IPython.core.display.HTML object>"
      ]
     },
     "metadata": {},
     "output_type": "display_data"
    },
    {
     "data": {
      "text/html": [
       " View run <strong style=\"color:#cdcd00\">EfficientNet</strong> at: <a href='https://wandb.ai/aistudio/BCD_V1_CBIS-DDSM-10/runs/dez4la93' target=\"_blank\">https://wandb.ai/aistudio/BCD_V1_CBIS-DDSM-10/runs/dez4la93</a><br/>Synced 6 W&B file(s), 0 media file(s), 2 artifact file(s) and 0 other file(s)"
      ],
      "text/plain": [
       "<IPython.core.display.HTML object>"
      ]
     },
     "metadata": {},
     "output_type": "display_data"
    },
    {
     "data": {
      "text/html": [
       "Find logs at: <code>./wandb/run-20240208_092603-dez4la93/logs</code>"
      ],
      "text/plain": [
       "<IPython.core.display.HTML object>"
      ]
     },
     "metadata": {},
     "output_type": "display_data"
    },
    {
     "name": "stderr",
     "output_type": "stream",
     "text": [
      "/home/john/anaconda3/envs/bcd/lib/python3.10/site-packages/sklearn/metrics/_classification.py:1469: UndefinedMetricWarning: Precision and F-score are ill-defined and being set to 0.0 in labels with no predicted samples. Use `zero_division` parameter to control this behavior.\n",
      "  _warn_prf(average, modifier, msg_start, len(result))\n",
      "/home/john/anaconda3/envs/bcd/lib/python3.10/site-packages/sklearn/metrics/_classification.py:1469: UndefinedMetricWarning: Precision and F-score are ill-defined and being set to 0.0 in labels with no predicted samples. Use `zero_division` parameter to control this behavior.\n",
      "  _warn_prf(average, modifier, msg_start, len(result))\n",
      "/home/john/anaconda3/envs/bcd/lib/python3.10/site-packages/sklearn/metrics/_classification.py:1469: UndefinedMetricWarning: Precision and F-score are ill-defined and being set to 0.0 in labels with no predicted samples. Use `zero_division` parameter to control this behavior.\n",
      "  _warn_prf(average, modifier, msg_start, len(result))\n"
     ]
    },
    {
     "name": "stdout",
     "output_type": "stream",
     "text": [
      "              precision    recall  f1-score   support\n",
      "\n",
      "      benign       0.69      1.00      0.82        38\n",
      "   malignant       0.00      0.00      0.00        17\n",
      "\n",
      "    accuracy                           0.69        55\n",
      "   macro avg       0.35      0.50      0.41        55\n",
      "weighted avg       0.48      0.69      0.56        55\n",
      "\n"
     ]
    },
    {
     "data": {
      "image/png": "[encoded data removed]",
      "text/plain": [
       "<Figure size 400x400 with 1 Axes>"
      ]
     },
     "metadata": {},
     "output_type": "display_data"
    }
   ],
   "source": [
    "# Obtain the Efficientnet model\n",
    "efficientnet = factory.create_efficientnet()\n",
    "efficientnet.summary()\n",
    "\n",
    "# Create and run the experiment.\n",
    "config[\"run_name\"] = efficientnet.alias\n",
    "efficientnet_experiment = Experiment(model=efficientnet, config=config, repo=repo, optimizer=optimizer, callbacks=callbacks, metrics=metrics, force=force)\n",
    "efficientnet_experiment.run(train_ds=train_ds, val_ds=val_ds)\n",
    "efficientnet_experiment.classification_report(data=val_ds)\n",
    "efficientnet_experiment.plot_confusion_matrix(data=val_ds)\n"
   ]
  },
  {
   "cell_type": "markdown",
   "metadata": {},
   "source": [
    "## Inception/Resnet Experiment"
   ]
  },
  {
   "cell_type": "code",
   "execution_count": 11,
   "metadata": {},
   "outputs": [
    {
     "name": "stdout",
     "output_type": "stream",
     "text": [
      "Model: \"model\"\n",
      "_________________________________________________________________\n",
      " Layer (type)                Output Shape              Param #   \n",
      "=================================================================\n",
      " input_layer (InputLayer)    [(None, 224, 224, 3)]     0         \n",
      "                                                                 \n",
      " tf.math.truediv (TFOpLambda  (None, 224, 224, 3)      0         \n",
      " )                                                               \n",
      "                                                                 \n",
      " tf.math.subtract (TFOpLambd  (None, 224, 224, 3)      0         \n",
      " a)                                                              \n",
      "                                                                 \n",
      " data_augmentation (Sequenti  (None, 224, 224, 3)      0         \n",
      " al)                                                             \n",
      "                                                                 \n",
      " inception_resnet_v2 (Functi  (None, None, None, 1536)  54336736 \n",
      " onal)                                                           \n",
      "                                                                 \n",
      " inceptionresnet_global_aver  (None, 1536)             0         \n",
      " age_pooling (GlobalAverageP                                     \n",
      " ooling2D)                                                       \n",
      "                                                                 \n",
      " inceptionresnet_dense_1 (De  (None, 1024)             1573888   \n",
      " nse)                                                            \n",
      "                                                                 \n",
      " inceptionresnet_dropout_1 (  (None, 1024)             0         \n",
      " Dropout)                                                        \n",
      "                                                                 \n",
      " inceptionresnet_dense_2 (De  (None, 1024)             1049600   \n",
      " nse)                                                            \n",
      "                                                                 \n",
      " inceptionresnet_dropout_2 (  (None, 1024)             0         \n",
      " Dropout)                                                        \n",
      "                                                                 \n",
      " inceptionresnet_dense_3 (De  (None, 512)              524800    \n",
      " nse)                                                            \n",
      "                                                                 \n",
      " inceptionresnet_dense_4 (De  (None, 128)              65664     \n",
      " nse)                                                            \n",
      "                                                                 \n",
      " inceptionresnet_output_laye  (None, 1)                129       \n",
      " r (Dense)                                                       \n",
      "                                                                 \n",
      "=================================================================\n",
      "Total params: 57,550,817\n",
      "Trainable params: 3,214,081\n",
      "Non-trainable params: 54,336,736\n",
      "_________________________________________________________________\n"
     ]
    },
    {
     "data": {
      "text/html": [
       "wandb version 0.16.3 is available!  To upgrade, please run:\n",
       " $ pip install wandb --upgrade"
      ],
      "text/plain": [
       "<IPython.core.display.HTML object>"
      ]
     },
     "metadata": {},
     "output_type": "display_data"
    },
    {
     "data": {
      "text/html": [
       "Tracking run with wandb version 0.16.2"
      ],
      "text/plain": [
       "<IPython.core.display.HTML object>"
      ]
     },
     "metadata": {},
     "output_type": "display_data"
    },
    {
     "data": {
      "text/html": [
       "Run data is saved locally in <code>/home/john/projects/bcd/wandb/run-20240208_095807-165g0vun</code>"
      ],
      "text/plain": [
       "<IPython.core.display.HTML object>"
      ]
     },
     "metadata": {},
     "output_type": "display_data"
    },
    {
     "data": {
      "text/html": [
       "Syncing run <strong><a href='https://wandb.ai/aistudio/BCD_V1_CBIS-DDSM-10/runs/165g0vun' target=\"_blank\">InceptionResNet</a></strong> to <a href='https://wandb.ai/aistudio/BCD_V1_CBIS-DDSM-10' target=\"_blank\">Weights & Biases</a> (<a href='https://wandb.me/run' target=\"_blank\">docs</a>)<br/>"
      ],
      "text/plain": [
       "<IPython.core.display.HTML object>"
      ]
     },
     "metadata": {},
     "output_type": "display_data"
    },
    {
     "data": {
      "text/html": [
       " View project at <a href='https://wandb.ai/aistudio/BCD_V1_CBIS-DDSM-10' target=\"_blank\">https://wandb.ai/aistudio/BCD_V1_CBIS-DDSM-10</a>"
      ],
      "text/plain": [
       "<IPython.core.display.HTML object>"
      ]
     },
     "metadata": {},
     "output_type": "display_data"
    },
    {
     "data": {
      "text/html": [
       " View run at <a href='https://wandb.ai/aistudio/BCD_V1_CBIS-DDSM-10/runs/165g0vun' target=\"_blank\">https://wandb.ai/aistudio/BCD_V1_CBIS-DDSM-10/runs/165g0vun</a>"
      ],
      "text/plain": [
       "<IPython.core.display.HTML object>"
      ]
     },
     "metadata": {},
     "output_type": "display_data"
    },
    {
     "name": "stdout",
     "output_type": "stream",
     "text": [
      "Epoch 1/100\n",
      "7/7 [==============================] - 52s 5s/step - loss: 0.8780 - accuracy: 0.4072 - auc: 0.5018 - precision: 0.4067 - recall: 0.7798 - val_loss: 0.7756 - val_accuracy: 0.3455 - val_auc: 0.4938 - val_precision: 0.3208 - val_recall: 1.0000 - lr: 1.5259e-09\n",
      "Epoch 2/100\n",
      "7/7 [==============================] - 33s 4s/step - loss: 0.8814 - accuracy: 0.4163 - auc: 0.4818 - precision: 0.4106 - recall: 0.9239 - val_loss: 0.7755 - val_accuracy: 0.3455 - val_auc: 0.4938 - val_precision: 0.3208 - val_recall: 1.0000 - lr: 1.5259e-09\n",
      "Epoch 3/100\n",
      "7/7 [==============================] - 36s 5s/step - loss: 0.8368 - accuracy: 0.4480 - auc: 0.5374 - precision: 0.4250 - recall: 0.9239 - val_loss: 0.7754 - val_accuracy: 0.3455 - val_auc: 0.4954 - val_precision: 0.3208 - val_recall: 1.0000 - lr: 1.5259e-09\n",
      "Epoch 4/100\n",
      "7/7 [==============================] - 34s 5s/step - loss: 0.8379 - accuracy: 0.4525 - auc: 0.5288 - precision: 0.4264 - recall: 0.9130 - val_loss: 0.7753 - val_accuracy: 0.3455 - val_auc: 0.4969 - val_precision: 0.3208 - val_recall: 1.0000 - lr: 1.5259e-09\n",
      "Epoch 5/100\n",
      "7/7 [==============================] - 33s 4s/step - loss: 0.8518 - accuracy: 0.4118 - auc: 0.4994 - precision: 0.4078 - recall: 0.9130 - val_loss: 0.7752 - val_accuracy: 0.3455 - val_auc: 0.4969 - val_precision: 0.3208 - val_recall: 1.0000 - lr: 1.5259e-09\n",
      "Epoch 6/100\n",
      "7/7 [==============================] - 33s 4s/step - loss: 0.8757 - accuracy: 0.4344 - auc: 0.4601 - precision: 0.4218 - recall: 0.9674 - val_loss: 0.7751 - val_accuracy: 0.3455 - val_auc: 0.4992 - val_precision: 0.3208 - val_recall: 1.0000 - lr: 1.5259e-09\n",
      "Epoch 7/100\n",
      "7/7 [==============================] - 33s 4s/step - loss: 0.8638 - accuracy: 0.4570 - auc: 0.5024 - precision: 0.4293 - recall: 0.9239 - val_loss: 0.7750 - val_accuracy: 0.3455 - val_auc: 0.4992 - val_precision: 0.3208 - val_recall: 1.0000 - lr: 1.5259e-09\n",
      "Epoch 8/100\n",
      "7/7 [==============================] - 33s 4s/step - loss: 0.8731 - accuracy: 0.4027 - auc: 0.4709 - precision: 0.4010 - recall: 0.8804 - val_loss: 0.7749 - val_accuracy: 0.3455 - val_auc: 0.4977 - val_precision: 0.3208 - val_recall: 1.0000 - lr: 1.5259e-09\n",
      "Epoch 9/100\n",
      "7/7 [==============================] - 33s 4s/step - loss: 0.8774 - accuracy: 0.4480 - auc: 0.4593 - precision: 0.4265 - recall: 0.9457 - val_loss: 0.7749 - val_accuracy: 0.3455 - val_auc: 0.4954 - val_precision: 0.3208 - val_recall: 1.0000 - lr: 1.5259e-09\n",
      "Epoch 10/100\n",
      "7/7 [==============================] - 34s 5s/step - loss: 0.8845 - accuracy: 0.4208 - auc: 0.4463 - precision: 0.4151 - recall: 0.9565 - val_loss: 0.7748 - val_accuracy: 0.3455 - val_auc: 0.4954 - val_precision: 0.3208 - val_recall: 1.0000 - lr: 1.5259e-09\n",
      "Epoch 11/100\n",
      "7/7 [==============================] - 33s 4s/step - loss: 0.8798 - accuracy: 0.3846 - auc: 0.4477 - precision: 0.3932 - recall: 0.8804 - val_loss: 0.7747 - val_accuracy: 0.3455 - val_auc: 0.4954 - val_precision: 0.3208 - val_recall: 1.0000 - lr: 1.5259e-09\n",
      "Epoch 12/100\n",
      "7/7 [==============================] - 34s 4s/step - loss: 0.8842 - accuracy: 0.3982 - auc: 0.4162 - precision: 0.4019 - recall: 0.9130 - val_loss: 0.7747 - val_accuracy: 0.3455 - val_auc: 0.4977 - val_precision: 0.3208 - val_recall: 1.0000 - lr: 1.5259e-09\n",
      "Epoch 13/100\n",
      "7/7 [==============================] - 33s 4s/step - loss: 0.8614 - accuracy: 0.4027 - auc: 0.5220 - precision: 0.4038 - recall: 0.9130 - val_loss: 0.7746 - val_accuracy: 0.3455 - val_auc: 0.4977 - val_precision: 0.3208 - val_recall: 1.0000 - lr: 1.5259e-09\n",
      "Epoch 14/100\n",
      "7/7 [==============================] - 33s 4s/step - loss: 0.8464 - accuracy: 0.4208 - auc: 0.5155 - precision: 0.4143 - recall: 0.9457 - val_loss: 0.7745 - val_accuracy: 0.3455 - val_auc: 0.4977 - val_precision: 0.3208 - val_recall: 1.0000 - lr: 1.5259e-09\n",
      "Epoch 15/100\n",
      "7/7 [==============================] - 33s 4s/step - loss: 0.8895 - accuracy: 0.4344 - auc: 0.4762 - precision: 0.4203 - recall: 0.9457 - val_loss: 0.7745 - val_accuracy: 0.3455 - val_auc: 0.4977 - val_precision: 0.3208 - val_recall: 1.0000 - lr: 1.5259e-09\n",
      "Epoch 16/100\n",
      "7/7 [==============================] - 34s 5s/step - loss: 0.8479 - accuracy: 0.4344 - auc: 0.5339 - precision: 0.4211 - recall: 0.9565 - val_loss: 0.7744 - val_accuracy: 0.3455 - val_auc: 0.4985 - val_precision: 0.3208 - val_recall: 1.0000 - lr: 1.5259e-09\n",
      "Epoch 17/100\n",
      "7/7 [==============================] - 33s 4s/step - loss: 0.8511 - accuracy: 0.4480 - auc: 0.5249 - precision: 0.4272 - recall: 0.9565 - val_loss: 0.7743 - val_accuracy: 0.3455 - val_auc: 0.4985 - val_precision: 0.3208 - val_recall: 1.0000 - lr: 1.5259e-09\n",
      "Epoch 18/100\n",
      "7/7 [==============================] - 33s 4s/step - loss: 0.8614 - accuracy: 0.4163 - auc: 0.4983 - precision: 0.4070 - recall: 0.8804 - val_loss: 0.7743 - val_accuracy: 0.3455 - val_auc: 0.4985 - val_precision: 0.3208 - val_recall: 1.0000 - lr: 1.5259e-09\n",
      "Epoch 19/100\n",
      "7/7 [==============================] - 33s 4s/step - loss: 0.8758 - accuracy: 0.4163 - auc: 0.4592 - precision: 0.4098 - recall: 0.9130 - val_loss: 0.7742 - val_accuracy: 0.3455 - val_auc: 0.4985 - val_precision: 0.3208 - val_recall: 1.0000 - lr: 1.5259e-09\n",
      "Epoch 20/100\n",
      "7/7 [==============================] - 37s 5s/step - loss: 0.8631 - accuracy: 0.4208 - auc: 0.4705 - precision: 0.4143 - recall: 0.9457 - val_loss: 0.7742 - val_accuracy: 0.3455 - val_auc: 0.4969 - val_precision: 0.3208 - val_recall: 1.0000 - lr: 1.5259e-09\n",
      "Epoch 21/100\n",
      "7/7 [==============================] - 35s 5s/step - loss: 0.8736 - accuracy: 0.4027 - auc: 0.4552 - precision: 0.4010 - recall: 0.8804 - val_loss: 0.7741 - val_accuracy: 0.3455 - val_auc: 0.4946 - val_precision: 0.3208 - val_recall: 1.0000 - lr: 1.5259e-09\n",
      "Epoch 22/100\n",
      "7/7 [==============================] - 34s 4s/step - loss: 0.8613 - accuracy: 0.4434 - auc: 0.4619 - precision: 0.4244 - recall: 0.9457 - val_loss: 0.7741 - val_accuracy: 0.3455 - val_auc: 0.4961 - val_precision: 0.3208 - val_recall: 1.0000 - lr: 1.5259e-09\n",
      "Epoch 23/100\n",
      "7/7 [==============================] - 33s 4s/step - loss: 0.8954 - accuracy: 0.3982 - auc: 0.4488 - precision: 0.4019 - recall: 0.9130 - val_loss: 0.7740 - val_accuracy: 0.3455 - val_auc: 0.4961 - val_precision: 0.3208 - val_recall: 1.0000 - lr: 1.5259e-09\n",
      "Epoch 24/100\n",
      "7/7 [==============================] - 33s 4s/step - loss: 0.8821 - accuracy: 0.4344 - auc: 0.4374 - precision: 0.4171 - recall: 0.9022 - val_loss: 0.7740 - val_accuracy: 0.3455 - val_auc: 0.4985 - val_precision: 0.3208 - val_recall: 1.0000 - lr: 1.5259e-09\n",
      "Epoch 25/100\n",
      "7/7 [==============================] - 33s 4s/step - loss: 0.8455 - accuracy: 0.4480 - auc: 0.5164 - precision: 0.4265 - recall: 0.9457 - val_loss: 0.7739 - val_accuracy: 0.3455 - val_auc: 0.4985 - val_precision: 0.3208 - val_recall: 1.0000 - lr: 1.5259e-09\n",
      "Epoch 26/100\n",
      "7/7 [==============================] - 33s 4s/step - loss: 0.8599 - accuracy: 0.4208 - auc: 0.5003 - precision: 0.4118 - recall: 0.9130 - val_loss: 0.7739 - val_accuracy: 0.3455 - val_auc: 0.4954 - val_precision: 0.3208 - val_recall: 1.0000 - lr: 1.5259e-09\n",
      "Epoch 27/100\n",
      "7/7 [==============================] - 33s 4s/step - loss: 0.8390 - accuracy: 0.4344 - auc: 0.5637 - precision: 0.4218 - recall: 0.9674 - val_loss: 0.7738 - val_accuracy: 0.3455 - val_auc: 0.4954 - val_precision: 0.3208 - val_recall: 1.0000 - lr: 1.5259e-09\n",
      "Epoch 28/100\n",
      "7/7 [==============================] - 36s 5s/step - loss: 0.8998 - accuracy: 0.4163 - auc: 0.4281 - precision: 0.4061 - recall: 0.8696 - val_loss: 0.7738 - val_accuracy: 0.3455 - val_auc: 0.4969 - val_precision: 0.3208 - val_recall: 1.0000 - lr: 1.5259e-09\n",
      "Epoch 29/100\n",
      "7/7 [==============================] - 36s 5s/step - loss: 0.8530 - accuracy: 0.4344 - auc: 0.4962 - precision: 0.4171 - recall: 0.9022 - val_loss: 0.7738 - val_accuracy: 0.3455 - val_auc: 0.4969 - val_precision: 0.3208 - val_recall: 1.0000 - lr: 1.5259e-09\n",
      "Epoch 30/100\n",
      "7/7 [==============================] - 36s 5s/step - loss: 0.8385 - accuracy: 0.4299 - auc: 0.5321 - precision: 0.4190 - recall: 0.9565 - val_loss: 0.7737 - val_accuracy: 0.3455 - val_auc: 0.4969 - val_precision: 0.3208 - val_recall: 1.0000 - lr: 1.5259e-09\n",
      "Epoch 31/100\n",
      "7/7 [==============================] - 36s 5s/step - loss: 0.8734 - accuracy: 0.4163 - auc: 0.4463 - precision: 0.4098 - recall: 0.9130 - val_loss: 0.7737 - val_accuracy: 0.3455 - val_auc: 0.4969 - val_precision: 0.3208 - val_recall: 1.0000 - lr: 1.5259e-09\n",
      "Epoch 32/100\n",
      "7/7 [==============================] - 34s 4s/step - loss: 0.8517 - accuracy: 0.4027 - auc: 0.5301 - precision: 0.4065 - recall: 0.9457 - val_loss: 0.7736 - val_accuracy: 0.3455 - val_auc: 0.4969 - val_precision: 0.3208 - val_recall: 1.0000 - lr: 1.5259e-09\n",
      "Epoch 33/100\n",
      "7/7 [==============================] - 33s 4s/step - loss: 0.8559 - accuracy: 0.4163 - auc: 0.5223 - precision: 0.4106 - recall: 0.9239 - val_loss: 0.7736 - val_accuracy: 0.3455 - val_auc: 0.4969 - val_precision: 0.3208 - val_recall: 1.0000 - lr: 1.5259e-09\n",
      "Epoch 34/100\n",
      "7/7 [==============================] - 33s 4s/step - loss: 0.8622 - accuracy: 0.4253 - auc: 0.4911 - precision: 0.4138 - recall: 0.9130 - val_loss: 0.7736 - val_accuracy: 0.3455 - val_auc: 0.5008 - val_precision: 0.3208 - val_recall: 1.0000 - lr: 1.5259e-09\n",
      "Epoch 35/100\n",
      "7/7 [==============================] - 33s 4s/step - loss: 0.8590 - accuracy: 0.4253 - auc: 0.5127 - precision: 0.4146 - recall: 0.9239 - val_loss: 0.7735 - val_accuracy: 0.3455 - val_auc: 0.5054 - val_precision: 0.3208 - val_recall: 1.0000 - lr: 1.5259e-09\n",
      "Epoch 36/100\n",
      "7/7 [==============================] - 33s 4s/step - loss: 0.8837 - accuracy: 0.3891 - auc: 0.4233 - precision: 0.3951 - recall: 0.8804 - val_loss: 0.7735 - val_accuracy: 0.3455 - val_auc: 0.5054 - val_precision: 0.3208 - val_recall: 1.0000 - lr: 1.5259e-09\n",
      "Epoch 37/100\n",
      "7/7 [==============================] - 33s 4s/step - loss: 0.8669 - accuracy: 0.4163 - auc: 0.4866 - precision: 0.4106 - recall: 0.9239 - val_loss: 0.7734 - val_accuracy: 0.3455 - val_auc: 0.5054 - val_precision: 0.3208 - val_recall: 1.0000 - lr: 1.5259e-09\n",
      "Epoch 38/100\n",
      "7/7 [==============================] - 37s 5s/step - loss: 0.9046 - accuracy: 0.4027 - auc: 0.4038 - precision: 0.4057 - recall: 0.9348 - val_loss: 0.7734 - val_accuracy: 0.3455 - val_auc: 0.5054 - val_precision: 0.3208 - val_recall: 1.0000 - lr: 1.5259e-09\n",
      "Epoch 39/100\n",
      "7/7 [==============================] - 33s 4s/step - loss: 0.8652 - accuracy: 0.4525 - auc: 0.4930 - precision: 0.4293 - recall: 0.9565 - val_loss: 0.7734 - val_accuracy: 0.3455 - val_auc: 0.5070 - val_precision: 0.3208 - val_recall: 1.0000 - lr: 1.5259e-09\n",
      "Epoch 40/100\n",
      "7/7 [==============================] - 33s 4s/step - loss: 0.8728 - accuracy: 0.4163 - auc: 0.4990 - precision: 0.4098 - recall: 0.9130 - val_loss: 0.7733 - val_accuracy: 0.3455 - val_auc: 0.5077 - val_precision: 0.3208 - val_recall: 1.0000 - lr: 1.5259e-09\n",
      "Epoch 41/100\n",
      "7/7 [==============================] - 33s 4s/step - loss: 0.8799 - accuracy: 0.4344 - auc: 0.4578 - precision: 0.4203 - recall: 0.9457 - val_loss: 0.7733 - val_accuracy: 0.3455 - val_auc: 0.5077 - val_precision: 0.3208 - val_recall: 1.0000 - lr: 1.5259e-09\n",
      "Epoch 42/100\n",
      "7/7 [==============================] - 33s 4s/step - loss: 0.8840 - accuracy: 0.4208 - auc: 0.4953 - precision: 0.4143 - recall: 0.9457 - val_loss: 0.7733 - val_accuracy: 0.3455 - val_auc: 0.5077 - val_precision: 0.3208 - val_recall: 1.0000 - lr: 1.5259e-09\n",
      "Epoch 43/100\n",
      "7/7 [==============================] - 34s 5s/step - loss: 0.9109 - accuracy: 0.4027 - auc: 0.3737 - precision: 0.4029 - recall: 0.9022 - val_loss: 0.7732 - val_accuracy: 0.3455 - val_auc: 0.5077 - val_precision: 0.3208 - val_recall: 1.0000 - lr: 1.5259e-09\n",
      "Epoch 44/100\n",
      "7/7 [==============================] - 36s 5s/step - loss: 0.8541 - accuracy: 0.4027 - auc: 0.5015 - precision: 0.4048 - recall: 0.9239 - val_loss: 0.7732 - val_accuracy: 0.3455 - val_auc: 0.5077 - val_precision: 0.3208 - val_recall: 1.0000 - lr: 1.5259e-09\n",
      "Epoch 45/100\n",
      "7/7 [==============================] - 36s 5s/step - loss: 0.8706 - accuracy: 0.4344 - auc: 0.4801 - precision: 0.4203 - recall: 0.9457 - val_loss: 0.7732 - val_accuracy: 0.3455 - val_auc: 0.5077 - val_precision: 0.3208 - val_recall: 1.0000 - lr: 1.5259e-09\n",
      "Epoch 46/100\n",
      "7/7 [==============================] - ETA: 0s - loss: 0.8495 - accuracy: 0.4344 - auc: 0.4894 - precision: 0.4195 - recall: 0.9348\n",
      "Epoch 46: ReduceLROnPlateau reducing learning rate to 7.629394338515283e-10.\n",
      "7/7 [==============================] - 36s 5s/step - loss: 0.8495 - accuracy: 0.4344 - auc: 0.4894 - precision: 0.4195 - recall: 0.9348 - val_loss: 0.7731 - val_accuracy: 0.3455 - val_auc: 0.5077 - val_precision: 0.3208 - val_recall: 1.0000 - lr: 1.5259e-09\n",
      "Epoch 47/100\n",
      "7/7 [==============================] - 37s 5s/step - loss: 0.8885 - accuracy: 0.4072 - auc: 0.4762 - precision: 0.4058 - recall: 0.9130 - val_loss: 0.7731 - val_accuracy: 0.3455 - val_auc: 0.5077 - val_precision: 0.3208 - val_recall: 1.0000 - lr: 7.6294e-10\n",
      "Epoch 48/100\n",
      "7/7 [==============================] - 36s 5s/step - loss: 0.8421 - accuracy: 0.4299 - auc: 0.5324 - precision: 0.4198 - recall: 0.9674 - val_loss: 0.7731 - val_accuracy: 0.3455 - val_auc: 0.5077 - val_precision: 0.3208 - val_recall: 1.0000 - lr: 7.6294e-10\n",
      "Epoch 49/100\n",
      "7/7 [==============================] - 34s 4s/step - loss: 0.8786 - accuracy: 0.4118 - auc: 0.4577 - precision: 0.4059 - recall: 0.8913 - val_loss: 0.7731 - val_accuracy: 0.3455 - val_auc: 0.5077 - val_precision: 0.3208 - val_recall: 1.0000 - lr: 7.6294e-10\n",
      "Epoch 50/100\n",
      "7/7 [==============================] - ETA: 0s - loss: 0.8842 - accuracy: 0.4118 - auc: 0.4304 - precision: 0.4087 - recall: 0.9239\n",
      "Epoch 50: ReduceLROnPlateau reducing learning rate to 3.8146971692576415e-10.\n",
      "7/7 [==============================] - 34s 4s/step - loss: 0.8842 - accuracy: 0.4118 - auc: 0.4304 - precision: 0.4087 - recall: 0.9239 - val_loss: 0.7731 - val_accuracy: 0.3455 - val_auc: 0.5077 - val_precision: 0.3208 - val_recall: 1.0000 - lr: 7.6294e-10\n",
      "Epoch 51/100\n",
      "7/7 [==============================] - 35s 5s/step - loss: 0.8654 - accuracy: 0.4253 - auc: 0.4774 - precision: 0.4171 - recall: 0.9565 - val_loss: 0.7731 - val_accuracy: 0.3455 - val_auc: 0.5077 - val_precision: 0.3208 - val_recall: 1.0000 - lr: 3.8147e-10\n",
      "Epoch 52/100\n",
      "7/7 [==============================] - 37s 5s/step - loss: 0.8552 - accuracy: 0.4163 - auc: 0.4742 - precision: 0.4051 - recall: 0.8587 - val_loss: 0.7731 - val_accuracy: 0.3455 - val_auc: 0.5077 - val_precision: 0.3208 - val_recall: 1.0000 - lr: 3.8147e-10\n",
      "Epoch 53/100\n",
      "7/7 [==============================] - ETA: 0s - loss: 0.8831 - accuracy: 0.4163 - auc: 0.4673 - precision: 0.4123 - recall: 0.9457\n",
      "Epoch 53: ReduceLROnPlateau reducing learning rate to 1.9073485846288207e-10.\n",
      "7/7 [==============================] - 38s 5s/step - loss: 0.8831 - accuracy: 0.4163 - auc: 0.4673 - precision: 0.4123 - recall: 0.9457 - val_loss: 0.7731 - val_accuracy: 0.3455 - val_auc: 0.5077 - val_precision: 0.3208 - val_recall: 1.0000 - lr: 3.8147e-10\n",
      "Epoch 54/100\n",
      "7/7 [==============================] - 38s 5s/step - loss: 0.8370 - accuracy: 0.4570 - auc: 0.5565 - precision: 0.4327 - recall: 0.9783 - val_loss: 0.7731 - val_accuracy: 0.3455 - val_auc: 0.5077 - val_precision: 0.3208 - val_recall: 1.0000 - lr: 1.9073e-10\n",
      "Epoch 55/100\n",
      "7/7 [==============================] - 37s 5s/step - loss: 0.8536 - accuracy: 0.4299 - auc: 0.5136 - precision: 0.4167 - recall: 0.9239 - val_loss: 0.7731 - val_accuracy: 0.3455 - val_auc: 0.5077 - val_precision: 0.3208 - val_recall: 1.0000 - lr: 1.9073e-10\n",
      "Epoch 56/100\n",
      "7/7 [==============================] - ETA: 0s - loss: 0.8912 - accuracy: 0.4208 - auc: 0.4154 - precision: 0.4091 - recall: 0.8804\n",
      "Epoch 56: ReduceLROnPlateau reducing learning rate to 1e-10.\n",
      "7/7 [==============================] - 36s 5s/step - loss: 0.8912 - accuracy: 0.4208 - auc: 0.4154 - precision: 0.4091 - recall: 0.8804 - val_loss: 0.7731 - val_accuracy: 0.3455 - val_auc: 0.5077 - val_precision: 0.3208 - val_recall: 1.0000 - lr: 1.9073e-10\n",
      "Epoch 57/100\n",
      "7/7 [==============================] - ETA: 0s - loss: 0.8849 - accuracy: 0.4253 - auc: 0.4652 - precision: 0.4171 - recall: 0.9565Restoring model weights from the end of the best epoch: 47.\n",
      "7/7 [==============================] - 34s 5s/step - loss: 0.8849 - accuracy: 0.4253 - auc: 0.4652 - precision: 0.4171 - recall: 0.9565 - val_loss: 0.7731 - val_accuracy: 0.3455 - val_auc: 0.5077 - val_precision: 0.3208 - val_recall: 1.0000 - lr: 1.0000e-10\n",
      "Epoch 57: early stopping\n"
     ]
    },
    {
     "name": "stderr",
     "output_type": "stream",
     "text": [
      "\u001b[34m\u001b[1mwandb\u001b[0m: Waiting for artifact run-165g0vun-InceptionResNet_V1-CBIS-DDSM-10.keras to be committed...\n"
     ]
    },
    {
     "data": {
      "application/vnd.jupyter.widget-view+json": {
       "model_id": "e1dc625a7f5d428c9c9efb9440bf4bcd",
       "version_major": 2,
       "version_minor": 0
      },
      "text/plain": [
       "VBox(children=(Label(value='2.925 MB of 704.908 MB uploaded\\r'), FloatProgress(value=0.004149924324947568, max…"
      ]
     },
     "metadata": {},
     "output_type": "display_data"
    },
    {
     "name": "stderr",
     "output_type": "stream",
     "text": [
      "\n",
      "\u001b[34m\u001b[1mwandb\u001b[0m: Committed artifact aistudio/BCD_V1_CBIS-DDSM-10/run-165g0vun-InceptionResNet_V1-CBIS-DDSM-10.keras:v0\n",
      "wandb: WARNING Source type is set to 'repo' but some required information is missing from the environment. A job will not be created from this run. See https://docs.wandb.ai/guides/launch/create-job\n"
     ]
    },
    {
     "data": {
      "text/html": [
       "<style>\n",
       "    table.wandb td:nth-child(1) { padding: 0 10px; text-align: left ; width: auto;} td:nth-child(2) {text-align: left ; width: 100%}\n",
       "    .wandb-row { display: flex; flex-direction: row; flex-wrap: wrap; justify-content: flex-start; width: 100% }\n",
       "    .wandb-col { display: flex; flex-direction: column; flex-basis: 100%; flex: 1; padding: 10px; }\n",
       "    </style>\n",
       "<div class=\"wandb-row\"><div class=\"wandb-col\"><h3>Run history:</h3><br/><table class=\"wandb\"><tr><td>epoch/accuracy</td><td>▃▄█▄█▃▇▁▂▅▆▆▄▅▃▇▆▇▆▄▆▄▃▅▁▁▃▄▆▃▃▆▃▅▄▅▄█▅▅</td></tr><tr><td>epoch/auc</td><td>▆▅▇▆▆▅▄▄▃▆▅▇▆▅▄▄▃▆█▃▆▄▇▅▃▃▂▆▄▁▆▅▅▇▃▅▅█▃▄</td></tr><tr><td>epoch/epoch</td><td>▁▁▁▁▂▂▂▂▂▃▃▃▃▃▃▄▄▄▄▄▅▅▅▅▅▅▆▆▆▆▆▇▇▇▇▇▇███</td></tr><tr><td>epoch/learning_rate</td><td>████████████████████████████████▄▄▂▂▂▁▁▁</td></tr><tr><td>epoch/loss</td><td>▅▅▁▂▄▄▅▅▅▂▆▂▃▃▄▃▅▂▁▇▃▄▂▃▅▅▇▄▅█▃▄▆▁▅▄▃▁▆▆</td></tr><tr><td>epoch/lr</td><td>████████████████████████████████▄▄▄▂▂▁▁▁</td></tr><tr><td>epoch/precision</td><td>▃▄▇▄▇▂▇▁▃▅▆▆▃▅▂▇▅▇▆▃▅▄▃▅▁▁▃▄▆▃▃▆▃▆▄▅▃█▄▅</td></tr><tr><td>epoch/recall</td><td>▁▆▆▆▆▅▇▅▆▇▇▇▅▇▅▇▅▇█▄▅▆▇▆▅▅▆▆▇▅▆▇▆█▆▇▄█▅▇</td></tr><tr><td>epoch/val_accuracy</td><td>▁▁▁▁▁▁▁▁▁▁▁▁▁▁▁▁▁▁▁▁▁▁▁▁▁▁▁▁▁▁▁▁▁▁▁▁▁▁▁▁</td></tr><tr><td>epoch/val_auc</td><td>▁▁▃▃▄▃▂▂▃▃▃▃▃▃▁▂▃▃▂▃▃▃▃▄▇▇▇█████████████</td></tr><tr><td>epoch/val_loss</td><td>██▇▇▆▆▆▅▅▅▅▅▄▄▄▄▃▃▃▃▃▃▂▂▂▂▂▂▂▁▁▁▁▁▁▁▁▁▁▁</td></tr><tr><td>epoch/val_precision</td><td>▁▁▁▁▁▁▁▁▁▁▁▁▁▁▁▁▁▁▁▁▁▁▁▁▁▁▁▁▁▁▁▁▁▁▁▁▁▁▁▁</td></tr><tr><td>epoch/val_recall</td><td>▁▁▁▁▁▁▁▁▁▁▁▁▁▁▁▁▁▁▁▁▁▁▁▁▁▁▁▁▁▁▁▁▁▁▁▁▁▁▁▁</td></tr></table><br/></div><div class=\"wandb-col\"><h3>Run summary:</h3><br/><table class=\"wandb\"><tr><td>epoch/accuracy</td><td>0.42534</td></tr><tr><td>epoch/auc</td><td>0.46524</td></tr><tr><td>epoch/epoch</td><td>56</td></tr><tr><td>epoch/learning_rate</td><td>0.0</td></tr><tr><td>epoch/loss</td><td>0.88493</td></tr><tr><td>epoch/lr</td><td>0.0</td></tr><tr><td>epoch/precision</td><td>0.41706</td></tr><tr><td>epoch/recall</td><td>0.95652</td></tr><tr><td>epoch/val_accuracy</td><td>0.34545</td></tr><tr><td>epoch/val_auc</td><td>0.50774</td></tr><tr><td>epoch/val_loss</td><td>0.7731</td></tr><tr><td>epoch/val_precision</td><td>0.32075</td></tr><tr><td>epoch/val_recall</td><td>1.0</td></tr></table><br/></div></div>"
      ],
      "text/plain": [
       "<IPython.core.display.HTML object>"
      ]
     },
     "metadata": {},
     "output_type": "display_data"
    },
    {
     "data": {
      "text/html": [
       " View run <strong style=\"color:#cdcd00\">InceptionResNet</strong> at: <a href='https://wandb.ai/aistudio/BCD_V1_CBIS-DDSM-10/runs/165g0vun' target=\"_blank\">https://wandb.ai/aistudio/BCD_V1_CBIS-DDSM-10/runs/165g0vun</a><br/>Synced 6 W&B file(s), 0 media file(s), 2 artifact file(s) and 0 other file(s)"
      ],
      "text/plain": [
       "<IPython.core.display.HTML object>"
      ]
     },
     "metadata": {},
     "output_type": "display_data"
    },
    {
     "data": {
      "text/html": [
       "Find logs at: <code>./wandb/run-20240208_095807-165g0vun/logs</code>"
      ],
      "text/plain": [
       "<IPython.core.display.HTML object>"
      ]
     },
     "metadata": {},
     "output_type": "display_data"
    },
    {
     "name": "stdout",
     "output_type": "stream",
     "text": [
      "              precision    recall  f1-score   support\n",
      "\n",
      "      benign       1.00      0.05      0.10        38\n",
      "   malignant       0.32      1.00      0.49        17\n",
      "\n",
      "    accuracy                           0.35        55\n",
      "   macro avg       0.66      0.53      0.29        55\n",
      "weighted avg       0.79      0.35      0.22        55\n",
      "\n"
     ]
    },
    {
     "data": {
      "image/png": "[encoded data removed]",
      "text/plain": [
       "<Figure size 400x400 with 1 Axes>"
      ]
     },
     "metadata": {},
     "output_type": "display_data"
    }
   ],
   "source": [
    "# Obtain the Inception_resnet model\n",
    "inception_resnet = factory.create_inception_resnet()\n",
    "inception_resnet.summary()\n",
    "\n",
    "# Create and run the experiment.\n",
    "config[\"run_name\"] = inception_resnet.alias\n",
    "inception_resnet_experiment = Experiment(model=inception_resnet, config=config, repo=repo, optimizer=optimizer, callbacks=callbacks, metrics=metrics, force=force)\n",
    "inception_resnet_experiment.run(train_ds=train_ds, val_ds=val_ds)\n",
    "inception_resnet_experiment.classification_report(data=val_ds)\n",
    "inception_resnet_experiment.plot_confusion_matrix(data=val_ds)\n"
   ]
  },
  {
   "cell_type": "markdown",
   "metadata": {},
   "source": [
    "## MobileNet Experiment"
   ]
  },
  {
   "cell_type": "code",
   "execution_count": 12,
   "metadata": {},
   "outputs": [
    {
     "name": "stdout",
     "output_type": "stream",
     "text": [
      "WARNING:tensorflow:`input_shape` is undefined or non-square, or `rows` is not in [96, 128, 160, 192, 224]. Weights for input shape (224, 224) will be loaded as the default.\n",
      "Model: \"model\"\n",
      "_________________________________________________________________\n",
      " Layer (type)                Output Shape              Param #   \n",
      "=================================================================\n",
      " input_layer (InputLayer)    [(None, 224, 224, 3)]     0         \n",
      "                                                                 \n",
      " tf.math.truediv (TFOpLambda  (None, 224, 224, 3)      0         \n",
      " )                                                               \n",
      "                                                                 \n",
      " tf.math.subtract (TFOpLambd  (None, 224, 224, 3)      0         \n",
      " a)                                                              \n",
      "                                                                 \n",
      " data_augmentation (Sequenti  (None, 224, 224, 3)      0         \n",
      " al)                                                             \n",
      "                                                                 \n",
      " mobilenetv2_1.00_224 (Funct  (None, None, None, 1280)  2257984  \n",
      " ional)                                                          \n",
      "                                                                 \n",
      " mobilenet_global_average_po  (None, 1280)             0         \n",
      " oling (GlobalAveragePooling                                     \n",
      " 2D)                                                             \n",
      "                                                                 \n",
      " mobilenet_dense_1 (Dense)   (None, 1024)              1311744   \n",
      "                                                                 \n",
      " mobilenet_dropout_1 (Dropou  (None, 1024)             0         \n",
      " t)                                                              \n",
      "                                                                 \n",
      " mobilenet_dense_2 (Dense)   (None, 1024)              1049600   \n",
      "                                                                 \n",
      " mobilenet_dropout_2 (Dropou  (None, 1024)             0         \n",
      " t)                                                              \n",
      "                                                                 \n",
      " mobilenet_dense_3 (Dense)   (None, 512)               524800    \n",
      "                                                                 \n",
      " mobilenet_dense_4 (Dense)   (None, 128)               65664     \n",
      "                                                                 \n",
      " mobilenet_output_layer (Den  (None, 1)                129       \n",
      " se)                                                             \n",
      "                                                                 \n",
      "=================================================================\n",
      "Total params: 5,209,921\n",
      "Trainable params: 2,951,937\n",
      "Non-trainable params: 2,257,984\n",
      "_________________________________________________________________\n"
     ]
    },
    {
     "data": {
      "text/html": [
       "wandb version 0.16.3 is available!  To upgrade, please run:\n",
       " $ pip install wandb --upgrade"
      ],
      "text/plain": [
       "<IPython.core.display.HTML object>"
      ]
     },
     "metadata": {},
     "output_type": "display_data"
    },
    {
     "data": {
      "text/html": [
       "Tracking run with wandb version 0.16.2"
      ],
      "text/plain": [
       "<IPython.core.display.HTML object>"
      ]
     },
     "metadata": {},
     "output_type": "display_data"
    },
    {
     "data": {
      "text/html": [
       "Run data is saved locally in <code>/home/john/projects/bcd/wandb/run-20240208_104037-668us3vn</code>"
      ],
      "text/plain": [
       "<IPython.core.display.HTML object>"
      ]
     },
     "metadata": {},
     "output_type": "display_data"
    },
    {
     "data": {
      "text/html": [
       "Syncing run <strong><a href='https://wandb.ai/aistudio/BCD_V1_CBIS-DDSM-10/runs/668us3vn' target=\"_blank\">MobileNet</a></strong> to <a href='https://wandb.ai/aistudio/BCD_V1_CBIS-DDSM-10' target=\"_blank\">Weights & Biases</a> (<a href='https://wandb.me/run' target=\"_blank\">docs</a>)<br/>"
      ],
      "text/plain": [
       "<IPython.core.display.HTML object>"
      ]
     },
     "metadata": {},
     "output_type": "display_data"
    },
    {
     "data": {
      "text/html": [
       " View project at <a href='https://wandb.ai/aistudio/BCD_V1_CBIS-DDSM-10' target=\"_blank\">https://wandb.ai/aistudio/BCD_V1_CBIS-DDSM-10</a>"
      ],
      "text/plain": [
       "<IPython.core.display.HTML object>"
      ]
     },
     "metadata": {},
     "output_type": "display_data"
    },
    {
     "data": {
      "text/html": [
       " View run at <a href='https://wandb.ai/aistudio/BCD_V1_CBIS-DDSM-10/runs/668us3vn' target=\"_blank\">https://wandb.ai/aistudio/BCD_V1_CBIS-DDSM-10/runs/668us3vn</a>"
      ],
      "text/plain": [
       "<IPython.core.display.HTML object>"
      ]
     },
     "metadata": {},
     "output_type": "display_data"
    },
    {
     "name": "stdout",
     "output_type": "stream",
     "text": [
      "Epoch 1/100\n",
      "7/7 [==============================] - 16s 1s/step - loss: 0.7811 - accuracy: 0.4434 - auc: 0.4558 - precision: 0.3958 - recall: 0.8716 - val_loss: 0.7854 - val_accuracy: 0.3091 - val_auc: 0.5248 - val_precision: 0.3091 - val_recall: 1.0000 - lr: 1.0000e-10\n",
      "Epoch 2/100\n",
      "7/7 [==============================] - 10s 984ms/step - loss: 0.7691 - accuracy: 0.4299 - auc: 0.4630 - precision: 0.4056 - recall: 0.7935 - val_loss: 0.7854 - val_accuracy: 0.3091 - val_auc: 0.5248 - val_precision: 0.3091 - val_recall: 1.0000 - lr: 1.0000e-10\n",
      "Epoch 3/100\n",
      "7/7 [==============================] - 10s 943ms/step - loss: 0.7693 - accuracy: 0.4389 - auc: 0.4836 - precision: 0.4111 - recall: 0.8043 - val_loss: 0.7854 - val_accuracy: 0.3091 - val_auc: 0.5248 - val_precision: 0.3091 - val_recall: 1.0000 - lr: 1.0000e-10\n",
      "Epoch 4/100\n",
      "7/7 [==============================] - 9s 929ms/step - loss: 0.7620 - accuracy: 0.4389 - auc: 0.5135 - precision: 0.4101 - recall: 0.7935 - val_loss: 0.7854 - val_accuracy: 0.3091 - val_auc: 0.5248 - val_precision: 0.3091 - val_recall: 1.0000 - lr: 1.0000e-10\n",
      "Epoch 5/100\n",
      "7/7 [==============================] - 9s 920ms/step - loss: 0.7724 - accuracy: 0.4118 - auc: 0.4851 - precision: 0.4000 - recall: 0.8261 - val_loss: 0.7854 - val_accuracy: 0.3091 - val_auc: 0.5248 - val_precision: 0.3091 - val_recall: 1.0000 - lr: 1.0000e-10\n",
      "Epoch 6/100\n",
      "7/7 [==============================] - 10s 981ms/step - loss: 0.7722 - accuracy: 0.4480 - auc: 0.4723 - precision: 0.4235 - recall: 0.9022 - val_loss: 0.7854 - val_accuracy: 0.3091 - val_auc: 0.5248 - val_precision: 0.3091 - val_recall: 1.0000 - lr: 1.0000e-10\n",
      "Epoch 7/100\n",
      "7/7 [==============================] - 10s 939ms/step - loss: 0.7800 - accuracy: 0.4344 - auc: 0.4689 - precision: 0.4118 - recall: 0.8370 - val_loss: 0.7854 - val_accuracy: 0.3091 - val_auc: 0.5248 - val_precision: 0.3091 - val_recall: 1.0000 - lr: 1.0000e-10\n",
      "Epoch 8/100\n",
      "7/7 [==============================] - 10s 932ms/step - loss: 0.7797 - accuracy: 0.4570 - auc: 0.4853 - precision: 0.4263 - recall: 0.8804 - val_loss: 0.7854 - val_accuracy: 0.3091 - val_auc: 0.5248 - val_precision: 0.3091 - val_recall: 1.0000 - lr: 1.0000e-10\n",
      "Epoch 9/100\n",
      "7/7 [==============================] - 10s 1s/step - loss: 0.7730 - accuracy: 0.4389 - auc: 0.4841 - precision: 0.4121 - recall: 0.8152 - val_loss: 0.7854 - val_accuracy: 0.3091 - val_auc: 0.5248 - val_precision: 0.3091 - val_recall: 1.0000 - lr: 1.0000e-10\n",
      "Epoch 10/100\n",
      "7/7 [==============================] - 9s 939ms/step - loss: 0.7757 - accuracy: 0.4027 - auc: 0.4541 - precision: 0.3947 - recall: 0.8152 - val_loss: 0.7854 - val_accuracy: 0.3091 - val_auc: 0.5248 - val_precision: 0.3091 - val_recall: 1.0000 - lr: 1.0000e-10\n",
      "Epoch 11/100\n",
      "7/7 [==============================] - ETA: 0s - loss: 0.7749 - accuracy: 0.4434 - auc: 0.4686 - precision: 0.4144 - recall: 0.8152Restoring model weights from the end of the best epoch: 1.\n",
      "7/7 [==============================] - 9s 940ms/step - loss: 0.7749 - accuracy: 0.4434 - auc: 0.4686 - precision: 0.4144 - recall: 0.8152 - val_loss: 0.7854 - val_accuracy: 0.3091 - val_auc: 0.5248 - val_precision: 0.3091 - val_recall: 1.0000 - lr: 1.0000e-10\n",
      "Epoch 11: early stopping\n"
     ]
    },
    {
     "name": "stderr",
     "output_type": "stream",
     "text": [
      "\u001b[34m\u001b[1mwandb\u001b[0m: Waiting for artifact run-668us3vn-MobileNet_V1-CBIS-DDSM-10.keras to be committed...\n"
     ]
    },
    {
     "data": {
      "application/vnd.jupyter.widget-view+json": {
       "model_id": "25e708b78f16478ab211ab4d80e9bbf9",
       "version_major": 2,
       "version_minor": 0
      },
      "text/plain": [
       "VBox(children=(Label(value='1.863 MB of 348.893 MB uploaded\\r'), FloatProgress(value=0.00533920160900926, max=…"
      ]
     },
     "metadata": {},
     "output_type": "display_data"
    },
    {
     "name": "stderr",
     "output_type": "stream",
     "text": [
      "\n",
      "\u001b[34m\u001b[1mwandb\u001b[0m: Committed artifact aistudio/BCD_V1_CBIS-DDSM-10/run-668us3vn-MobileNet_V1-CBIS-DDSM-10.keras:v0\n",
      "wandb: WARNING Source type is set to 'repo' but some required information is missing from the environment. A job will not be created from this run. See https://docs.wandb.ai/guides/launch/create-job\n"
     ]
    },
    {
     "data": {
      "text/html": [
       "<style>\n",
       "    table.wandb td:nth-child(1) { padding: 0 10px; text-align: left ; width: auto;} td:nth-child(2) {text-align: left ; width: 100%}\n",
       "    .wandb-row { display: flex; flex-direction: row; flex-wrap: wrap; justify-content: flex-start; width: 100% }\n",
       "    .wandb-col { display: flex; flex-direction: column; flex-basis: 100%; flex: 1; padding: 10px; }\n",
       "    </style>\n",
       "<div class=\"wandb-row\"><div class=\"wandb-col\"><h3>Run history:</h3><br/><table class=\"wandb\"><tr><td>epoch/accuracy</td><td>▆▆▆▆▅▅▅▅▆▆▆▆▆▆▆▂▂▂▇▇▇▇▅▅▅▅███▆▆▆▆▁▁▁▆▆▆▆</td></tr><tr><td>epoch/auc</td><td>▁▁▁▁▂▂▂▂▄▄▄████▅▅▅▃▃▃▃▃▃▃▃▅▅▅▅▅▅▅▁▁▁▃▃▃▃</td></tr><tr><td>epoch/epoch</td><td>▁▁▁▁▂▂▂▂▂▂▂▃▃▃▃▄▄▄▅▅▅▅▅▅▅▅▆▆▆▇▇▇▇▇▇▇████</td></tr><tr><td>epoch/learning_rate</td><td>▁▁▁▁▁▁▁▁▁▁▁▁▁▁▁▁▁▁▁▁▁▁▁▁▁▁▁▁▁▁▁▁▁▁▁▁▁▁▁▁</td></tr><tr><td>epoch/loss</td><td>████▄▄▄▄▄▄▄▁▁▁▁▅▅▅▅▅▅▅████▇▇▇▅▅▅▅▆▆▆▆▆▆▆</td></tr><tr><td>epoch/lr</td><td>▁▁▁▁▁▁▁▁▁▁▁▁▁▁▁▁▁▁▁▁▁▁▁▁▁▁▁▁▁▁▁▁▁▁▁▁▁▁▁▁</td></tr><tr><td>epoch/precision</td><td>▁▁▁▁▃▃▃▃▅▅▅▄▄▄▄▂▂▂▇▇▇▇▅▅▅▅███▅▅▅▅▁▁▁▅▅▅▅</td></tr><tr><td>epoch/recall</td><td>▆▆▆▆▁▁▁▁▂▂▂▁▁▁▁▃▃▃████▄▄▄▄▇▇▇▂▂▂▂▂▂▂▂▂▂▂</td></tr><tr><td>epoch/val_accuracy</td><td>▁▁▁▁▁▁▁▁▁▁▁▁▁▁▁▁▁▁▁▁▁▁▁▁▁▁▁▁▁▁▁▁▁▁▁▁▁▁▁▁</td></tr><tr><td>epoch/val_auc</td><td>▁▁▁▁▁▁▁▁▁▁▁▁▁▁▁▁▁▁▁▁▁▁▁▁▁▁▁▁▁▁▁▁▁▁▁▁▁▁▁▁</td></tr><tr><td>epoch/val_loss</td><td>████▇▇▇▇▆▆▆▅▅▅▅▄▄▄▄▄▄▄▃▃▃▃▂▂▂▂▂▂▂▁▁▁▁▁▁▁</td></tr><tr><td>epoch/val_precision</td><td>▁▁▁▁▁▁▁▁▁▁▁▁▁▁▁▁▁▁▁▁▁▁▁▁▁▁▁▁▁▁▁▁▁▁▁▁▁▁▁▁</td></tr><tr><td>epoch/val_recall</td><td>▁▁▁▁▁▁▁▁▁▁▁▁▁▁▁▁▁▁▁▁▁▁▁▁▁▁▁▁▁▁▁▁▁▁▁▁▁▁▁▁</td></tr></table><br/></div><div class=\"wandb-col\"><h3>Run summary:</h3><br/><table class=\"wandb\"><tr><td>epoch/accuracy</td><td>0.44344</td></tr><tr><td>epoch/auc</td><td>0.46861</td></tr><tr><td>epoch/epoch</td><td>10</td></tr><tr><td>epoch/learning_rate</td><td>0.0</td></tr><tr><td>epoch/loss</td><td>0.7749</td></tr><tr><td>epoch/lr</td><td>0.0</td></tr><tr><td>epoch/precision</td><td>0.41436</td></tr><tr><td>epoch/recall</td><td>0.81522</td></tr><tr><td>epoch/val_accuracy</td><td>0.30909</td></tr><tr><td>epoch/val_auc</td><td>0.52477</td></tr><tr><td>epoch/val_loss</td><td>0.7854</td></tr><tr><td>epoch/val_precision</td><td>0.30909</td></tr><tr><td>epoch/val_recall</td><td>1.0</td></tr></table><br/></div></div>"
      ],
      "text/plain": [
       "<IPython.core.display.HTML object>"
      ]
     },
     "metadata": {},
     "output_type": "display_data"
    },
    {
     "data": {
      "text/html": [
       " View run <strong style=\"color:#cdcd00\">MobileNet</strong> at: <a href='https://wandb.ai/aistudio/BCD_V1_CBIS-DDSM-10/runs/668us3vn' target=\"_blank\">https://wandb.ai/aistudio/BCD_V1_CBIS-DDSM-10/runs/668us3vn</a><br/>Synced 6 W&B file(s), 0 media file(s), 2 artifact file(s) and 0 other file(s)"
      ],
      "text/plain": [
       "<IPython.core.display.HTML object>"
      ]
     },
     "metadata": {},
     "output_type": "display_data"
    },
    {
     "data": {
      "text/html": [
       "Find logs at: <code>./wandb/run-20240208_104037-668us3vn/logs</code>"
      ],
      "text/plain": [
       "<IPython.core.display.HTML object>"
      ]
     },
     "metadata": {},
     "output_type": "display_data"
    },
    {
     "name": "stderr",
     "output_type": "stream",
     "text": [
      "/home/john/anaconda3/envs/bcd/lib/python3.10/site-packages/sklearn/metrics/_classification.py:1469: UndefinedMetricWarning: Precision and F-score are ill-defined and being set to 0.0 in labels with no predicted samples. Use `zero_division` parameter to control this behavior.\n",
      "  _warn_prf(average, modifier, msg_start, len(result))\n",
      "/home/john/anaconda3/envs/bcd/lib/python3.10/site-packages/sklearn/metrics/_classification.py:1469: UndefinedMetricWarning: Precision and F-score are ill-defined and being set to 0.0 in labels with no predicted samples. Use `zero_division` parameter to control this behavior.\n",
      "  _warn_prf(average, modifier, msg_start, len(result))\n",
      "/home/john/anaconda3/envs/bcd/lib/python3.10/site-packages/sklearn/metrics/_classification.py:1469: UndefinedMetricWarning: Precision and F-score are ill-defined and being set to 0.0 in labels with no predicted samples. Use `zero_division` parameter to control this behavior.\n",
      "  _warn_prf(average, modifier, msg_start, len(result))\n"
     ]
    },
    {
     "name": "stdout",
     "output_type": "stream",
     "text": [
      "              precision    recall  f1-score   support\n",
      "\n",
      "      benign       0.00      0.00      0.00        38\n",
      "   malignant       0.31      1.00      0.47        17\n",
      "\n",
      "    accuracy                           0.31        55\n",
      "   macro avg       0.15      0.50      0.24        55\n",
      "weighted avg       0.10      0.31      0.15        55\n",
      "\n"
     ]
    },
    {
     "data": {
      "image/png": "[encoded data removed]",
      "text/plain": [
       "<Figure size 400x400 with 1 Axes>"
      ]
     },
     "metadata": {},
     "output_type": "display_data"
    }
   ],
   "source": [
    "# Obtain the Mobilenet model\n",
    "mobilenet = factory.create_mobilenet()\n",
    "mobilenet.summary()\n",
    "\n",
    "# Create and run the experiment.\n",
    "config[\"run_name\"] = mobilenet.alias\n",
    "mobilenet_experiment = Experiment(model=mobilenet, config=config, repo=repo, optimizer=optimizer, callbacks=callbacks, metrics=metrics, force=force)\n",
    "mobilenet_experiment.run(train_ds=train_ds, val_ds=val_ds)\n",
    "mobilenet_experiment.classification_report(data=val_ds)\n",
    "mobilenet_experiment.plot_confusion_matrix(data=val_ds)\n"
   ]
  },
  {
   "cell_type": "markdown",
   "metadata": {},
   "source": [
    "## VGG Experiment"
   ]
  },
  {
   "cell_type": "code",
   "execution_count": 7,
   "metadata": {},
   "outputs": [
    {
     "ename": "NameError",
     "evalue": "name 'factory' is not defined",
     "output_type": "error",
     "traceback": [
      "\u001b[0;31m---------------------------------------------------------------------------\u001b[0m",
      "\u001b[0;31mNameError\u001b[0m                                 Traceback (most recent call last)",
      "Cell \u001b[0;32mIn[7], line 2\u001b[0m\n\u001b[1;32m      1\u001b[0m \u001b[38;5;66;03m# Obtain the Vgg model\u001b[39;00m\n\u001b[0;32m----> 2\u001b[0m vgg \u001b[38;5;241m=\u001b[39m \u001b[43mfactory\u001b[49m\u001b[38;5;241m.\u001b[39mcreate_vgg()\n\u001b[1;32m      3\u001b[0m vgg\u001b[38;5;241m.\u001b[39msummary()\n\u001b[1;32m      5\u001b[0m \u001b[38;5;66;03m# Create and run the experiment.\u001b[39;00m\n",
      "\u001b[0;31mNameError\u001b[0m: name 'factory' is not defined"
     ]
    }
   ],
   "source": [
    "# Obtain the Vgg model\n",
    "vgg = factory.create_vgg()\n",
    "vgg.summary()\n",
    "\n",
    "# Create and run the experiment.\n",
    "config[\"run_name\"] = vgg.alias\n",
    "vgg_experiment = Experiment(model=vgg, config=config, repo=repo, optimizer=optimizer, callbacks=callbacks, metrics=metrics, force=force)\n",
    "vgg_experiment.run(train_ds=train_ds, val_ds=val_ds)\n",
    "vgg_experiment.classification_report(data=val_ds)\n",
    "vgg_experiment.plot_confusion_matrix(data=val_ds)\n"
   ]
  },
  {
   "cell_type": "markdown",
   "metadata": {},
   "source": [
    "## Xception Experiment"
   ]
  },
  {
   "cell_type": "code",
   "execution_count": null,
   "metadata": {},
   "outputs": [],
   "source": [
    "# Obtain the Xception model\n",
    "xception = factory.create_xception()\n",
    "xception.summary()\n",
    "\n",
    "# Create and run the experiment.\n",
    "config[\"run_name\"] = xception.alias\n",
    "xception_experiment = Experiment(model=xception, config=config, repo=repo, optimizer=optimizer, callbacks=callbacks, metrics=metrics, force=force)\n",
    "xception_experiment.run(train_ds=train_ds, val_ds=val_ds)\n",
    "xception_experiment.classification_report(data=val_ds)\n",
    "xception_experiment.plot_confusion_matrix(data=val_ds)"
   ]
  }
 ],
 "metadata": {
  "kernelspec": {
   "display_name": "bcd",
   "language": "python",
   "name": "python3"
  },
  "language_info": {
   "codemirror_mode": {
    "name": "ipython",
    "version": 3
   },
   "file_extension": ".py",
   "mimetype": "text/x-python",
   "name": "python",
   "nbconvert_exporter": "python",
   "pygments_lexer": "ipython3",
   "version": "3.10.12"
  }
 },
 "nbformat": 4,
 "nbformat_minor": 2
}
