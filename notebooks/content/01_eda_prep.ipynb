{
  "cells": [
    {
      "cell_type": "markdown",
      "metadata": {},
      "source": [
        "# EDA Preparation\n",
        "Metadata including study/series information, SOP class, and number of files are stored at the case level in a file 'metadata.csv'. The purpose of this script is to add image level metadata, such as image height, width, aspect ratio, resolution, and maximum pixel data from the DICOM layover file to this metadata. \n"
      ]
    },
    {
      "cell_type": "code",
      "execution_count": null,
      "metadata": {},
      "outputs": [],
      "source": [
        "import pandas as pd\n",
        "from bcd.data_prep.meta import MetaPrep\n"
      ]
    },
    {
      "cell_type": "code",
      "execution_count": null,
      "metadata": {},
      "outputs": [],
      "source": [
        "\n",
        "fpin =  \"/home/john/projects/bcd/data/processed/input/meta/metadata.csv\"\n",
        "fpout = \"/home/john/projects/bcd/data/processed/input/meta/image_metadata.csv\""
      ]
    },
    {
      "cell_type": "markdown",
      "metadata": {},
      "source": [
        "## Metadata\n",
        "Metadata are summarized below."
      ]
    },
    {
      "cell_type": "markdown",
      "metadata": {},
      "source": [
        "df = pd.read_csv(fpin)\n",
        "df.info()\n",
        "df.head()"
      ]
    },
    {
      "cell_type": "markdown",
      "metadata": {},
      "source": [
        "For each series, image metadata will be added increasing the number of records from 6775 to 10,239. Additional metadata from the DICOM overlay file will include:\n",
        "```{table} Image Level Metadata\n",
        ":name: image_level_metadata_ref\n",
        "| variable     | from      | DICOM variable                |\n",
        "|--------------|-----------|-------------------------------|\n",
        "| width        | DICOM     | Columns                       |\n",
        "| height       | DICOM     | Rows                          |\n",
        "| aspect ratio | DICOM     | width / height                |\n",
        "| bits         | DICOM     | Bits Stored                   |\n",
        "| sip value    | DICOM     | SmallestImagePixelValue       |\n",
        "| lip value    | DICOM     | LargestImagePixelValue        |\n",
        "| pixel range  | DICOM     | lip value - sip value         |\n",
        "```\n",
        "These data will be added for the full image, the cropped image, and the ROI mask image."
      ]
    },
    {
      "cell_type": "markdown",
      "metadata": {},
      "source": [
        "## Create Metadata"
      ]
    },
    {
      "cell_type": "code",
      "execution_count": 3,
      "metadata": {},
      "outputs": [],
      "source": [
        "mp = MetaPrep(infilepath=fpin, outfilepath=fpout)\n",
        "mp.prep_images()"
      ]
    }
  ],
  "metadata": {
    "kernelspec": {
      "display_name": "Python 3",
      "language": "python",
      "name": "python3"
    },
    "language_info": {
      "codemirror_mode": {
        "name": "ipython",
        "version": 3
      },
      "file_extension": ".py",
      "mimetype": "text/x-python",
      "name": "python",
      "nbconvert_exporter": "python",
      "pygments_lexer": "ipython3",
      "version": "3.10.12"
    }
  },
  "nbformat": 4,
  "nbformat_minor": 0
}
