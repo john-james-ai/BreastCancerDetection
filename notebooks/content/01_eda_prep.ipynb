{
  "cells": [
    {
      "cell_type": "markdown",
      "metadata": {},
      "source": [
        "# EDA Preparation\n",
        "Metadata including study/series information, SOP class, and number of files are stored at the case level in a file 'metadata.csv'. The purpose of this script is to add image level metadata, such as image height, width, aspect ratio, resolution, and maximum pixel data from the DICOM layover file to this metadata. \n"
      ]
    },
    {
      "cell_type": "code",
      "execution_count": 1,
      "metadata": {},
      "outputs": [],
      "source": [
        "import pandas as pd\n",
        "from bcd.data_prep.meta import MetaPrep"
      ]
    },
    {
      "cell_type": "code",
      "execution_count": 2,
      "metadata": {},
      "outputs": [],
      "source": [
        "fpin =  \"/home/john/projects/bcd/data/interim/input/meta/metadata.csv\"\n",
        "fpout = \"/home/john/projects/bcd/data/interim/input/meta/image_metadata.csv\"\n",
        "suspect = \"data/raw/CBIS-DDSM/Mass-Training_P_01382_LEFT_MLO/07-20-2016-DDSM-93921/1.000000-full mammogram images-05891/1-1.dcm\""
      ]
    },
    {
      "cell_type": "markdown",
      "metadata": {},
      "source": [
        "## Metadata\n",
        "Metadata are summarized below."
      ]
    },
    {
      "cell_type": "markdown",
      "metadata": {},
      "source": [
        "df = pd.read_csv(fpin)\n",
        "df.info()\n",
        "df.head()"
      ]
    },
    {
      "cell_type": "markdown",
      "metadata": {},
      "source": [
        "For each series, image metadata will be added increasing the number of records from 6775 to 10,239. Additional metadata from the DICOM overlay file will include:\n",
        "```{table} Image Level Metadata\n",
        ":name: image_level_metadata_ref\n",
        "| variable     | from      | DICOM variable                |\n",
        "|--------------|-----------|-------------------------------|\n",
        "| width        | DICOM     | Columns                       |\n",
        "| height       | DICOM     | Rows                          |\n",
        "| aspect ratio | DICOM     | width / height                |\n",
        "| bits         | DICOM     | Bits Stored                   |\n",
        "| sip value    | DICOM     | SmallestImagePixelValue       |\n",
        "| lip value    | DICOM     | LargestImagePixelValue        |\n",
        "| pixel range  | DICOM     | lip value - sip value         |\n",
        "```\n",
        "These data will be added for the full image, the cropped image, and the ROI mask image."
      ]
    },
    {
      "cell_type": "markdown",
      "metadata": {},
      "source": [
        "## Create Metadata"
      ]
    },
    {
      "cell_type": "code",
      "execution_count": 3,
      "metadata": {},
      "outputs": [
        {
          "name": "stdout",
          "output_type": "stream",
          "text": [
            "DEBUG:bcd.data_prep.meta:Processed 100 rows and 153 images in 6.22 seconds at 16.07 rows per second / 24.58 images per second.\n",
            "DEBUG:bcd.data_prep.meta:Processed 200 rows and 299 images in 14.73 seconds at 13.58 rows per second / 20.3 images per second.\n",
            "DEBUG:bcd.data_prep.meta:Processed 300 rows and 462 images in 20.53 seconds at 14.61 rows per second / 22.51 images per second.\n",
            "DEBUG:bcd.data_prep.meta:Processed 400 rows and 615 images in 26.62 seconds at 15.03 rows per second / 23.1 images per second.\n",
            "DEBUG:bcd.data_prep.meta:Processed 500 rows and 760 images in 33.07 seconds at 15.12 rows per second / 22.98 images per second.\n",
            "DEBUG:bcd.data_prep.meta:Processed 600 rows and 904 images in 39.78 seconds at 15.08 rows per second / 22.73 images per second.\n",
            "DEBUG:bcd.data_prep.meta:Processed 700 rows and 1047 images in 46.36 seconds at 15.1 rows per second / 22.58 images per second.\n",
            "DEBUG:bcd.data_prep.meta:Processed 800 rows and 1193 images in 53.16 seconds at 15.05 rows per second / 22.44 images per second.\n",
            "DEBUG:bcd.data_prep.meta:Processed 900 rows and 1334 images in 60.14 seconds at 14.96 rows per second / 22.18 images per second.\n",
            "DEBUG:bcd.data_prep.meta:Processed 1000 rows and 1492 images in 66.33 seconds at 15.08 rows per second / 22.49 images per second.\n",
            "DEBUG:bcd.data_prep.meta:Processed 1100 rows and 1640 images in 72.7 seconds at 15.13 rows per second / 22.56 images per second.\n",
            "DEBUG:bcd.data_prep.meta:Processed 1200 rows and 1787 images in 79.04 seconds at 15.18 rows per second / 22.61 images per second.\n",
            "DEBUG:bcd.data_prep.meta:Processed 1300 rows and 1932 images in 85.77 seconds at 15.16 rows per second / 22.52 images per second.\n",
            "DEBUG:bcd.data_prep.meta:Processed 1400 rows and 2079 images in 92.21 seconds at 15.18 rows per second / 22.55 images per second.\n",
            "DEBUG:bcd.data_prep.meta:Processed 1500 rows and 2228 images in 98.56 seconds at 15.22 rows per second / 22.61 images per second.\n",
            "DEBUG:bcd.data_prep.meta:Processed 1600 rows and 2379 images in 105.01 seconds at 15.24 rows per second / 22.66 images per second.\n",
            "DEBUG:bcd.data_prep.meta:Processed 1700 rows and 2534 images in 110.95 seconds at 15.32 rows per second / 22.84 images per second.\n",
            "DEBUG:bcd.data_prep.meta:Processed 1800 rows and 2691 images in 116.96 seconds at 15.39 rows per second / 23.01 images per second.\n",
            "DEBUG:bcd.data_prep.meta:Processed 1900 rows and 2838 images in 123.47 seconds at 15.39 rows per second / 22.98 images per second.\n",
            "DEBUG:bcd.data_prep.meta:Processed 2000 rows and 2987 images in 129.85 seconds at 15.4 rows per second / 23.0 images per second.\n",
            "DEBUG:bcd.data_prep.meta:Processed 2100 rows and 3130 images in 136.39 seconds at 15.4 rows per second / 22.95 images per second.\n",
            "DEBUG:bcd.data_prep.meta:Processed 2200 rows and 3284 images in 142.58 seconds at 15.43 rows per second / 23.03 images per second.\n",
            "DEBUG:bcd.data_prep.meta:Processed 2300 rows and 3438 images in 148.64 seconds at 15.47 rows per second / 23.13 images per second.\n",
            "DEBUG:bcd.data_prep.meta:Processed 2400 rows and 3600 images in 154.65 seconds at 15.52 rows per second / 23.28 images per second.\n",
            "DEBUG:bcd.data_prep.meta:Processed 2500 rows and 3752 images in 161.75 seconds at 15.46 rows per second / 23.2 images per second.\n",
            "DEBUG:bcd.data_prep.meta:Processed 2600 rows and 3902 images in 168.73 seconds at 15.41 rows per second / 23.13 images per second.\n",
            "DEBUG:bcd.data_prep.meta:Processed 2700 rows and 4048 images in 175.66 seconds at 15.37 rows per second / 23.04 images per second.\n",
            "DEBUG:bcd.data_prep.meta:Processed 2800 rows and 4193 images in 181.98 seconds at 15.39 rows per second / 23.04 images per second.\n",
            "DEBUG:bcd.data_prep.meta:Processed 2900 rows and 4343 images in 188.33 seconds at 15.4 rows per second / 23.06 images per second.\n",
            "DEBUG:bcd.data_prep.meta:Processed 3000 rows and 4491 images in 194.62 seconds at 15.42 rows per second / 23.08 images per second.\n",
            "DEBUG:bcd.data_prep.meta:Processed 3100 rows and 4642 images in 200.88 seconds at 15.43 rows per second / 23.11 images per second.\n",
            "DEBUG:bcd.data_prep.meta:Processed 3200 rows and 4800 images in 206.94 seconds at 15.46 rows per second / 23.2 images per second.\n",
            "DEBUG:bcd.data_prep.meta:Processed 3300 rows and 4953 images in 213.1 seconds at 15.49 rows per second / 23.24 images per second.\n",
            "DEBUG:bcd.data_prep.meta:Processed 3400 rows and 5098 images in 219.9 seconds at 15.46 rows per second / 23.18 images per second.\n",
            "DEBUG:bcd.data_prep.meta:Processed 3500 rows and 5245 images in 226.51 seconds at 15.45 rows per second / 23.16 images per second.\n",
            "DEBUG:bcd.data_prep.meta:Processed 3600 rows and 5396 images in 232.73 seconds at 15.47 rows per second / 23.19 images per second.\n",
            "DEBUG:bcd.data_prep.meta:Processed 3700 rows and 5544 images in 239.28 seconds at 15.46 rows per second / 23.17 images per second.\n",
            "DEBUG:bcd.data_prep.meta:Processed 3800 rows and 5698 images in 245.48 seconds at 15.48 rows per second / 23.21 images per second.\n",
            "DEBUG:bcd.data_prep.meta:Processed 3900 rows and 5848 images in 251.44 seconds at 15.51 rows per second / 23.26 images per second.\n",
            "DEBUG:bcd.data_prep.meta:Processed 4000 rows and 5995 images in 257.64 seconds at 15.53 rows per second / 23.27 images per second.\n",
            "DEBUG:bcd.data_prep.meta:Processed 4100 rows and 6149 images in 263.83 seconds at 15.54 rows per second / 23.31 images per second.\n",
            "DEBUG:bcd.data_prep.meta:Processed 4200 rows and 6302 images in 269.76 seconds at 15.57 rows per second / 23.36 images per second.\n",
            "DEBUG:bcd.data_prep.meta:Processed 4300 rows and 6451 images in 276.21 seconds at 15.57 rows per second / 23.36 images per second.\n",
            "DEBUG:bcd.data_prep.meta:Processed 4400 rows and 6608 images in 282.33 seconds at 15.58 rows per second / 23.4 images per second.\n",
            "DEBUG:bcd.data_prep.meta:Processed 4500 rows and 6758 images in 288.7 seconds at 15.59 rows per second / 23.41 images per second.\n",
            "DEBUG:bcd.data_prep.meta:Processed 4600 rows and 6912 images in 294.94 seconds at 15.6 rows per second / 23.44 images per second.\n",
            "DEBUG:bcd.data_prep.meta:Processed 4700 rows and 7062 images in 301.36 seconds at 15.6 rows per second / 23.43 images per second.\n",
            "DEBUG:bcd.data_prep.meta:Processed 4800 rows and 7218 images in 307.46 seconds at 15.61 rows per second / 23.48 images per second.\n",
            "DEBUG:bcd.data_prep.meta:Processed 4900 rows and 7370 images in 313.68 seconds at 15.62 rows per second / 23.5 images per second.\n",
            "DEBUG:bcd.data_prep.meta:Processed 5000 rows and 7525 images in 319.78 seconds at 15.64 rows per second / 23.53 images per second.\n",
            "DEBUG:bcd.data_prep.meta:Processed 5100 rows and 7685 images in 325.94 seconds at 15.65 rows per second / 23.58 images per second.\n",
            "DEBUG:bcd.data_prep.meta:Processed 5200 rows and 7846 images in 331.76 seconds at 15.67 rows per second / 23.65 images per second.\n",
            "DEBUG:bcd.data_prep.meta:Processed 5300 rows and 8001 images in 337.95 seconds at 15.68 rows per second / 23.67 images per second.\n",
            "DEBUG:bcd.data_prep.meta:Processed 5400 rows and 8153 images in 344.13 seconds at 15.69 rows per second / 23.69 images per second.\n",
            "DEBUG:bcd.data_prep.meta:Processed 5500 rows and 8306 images in 350.11 seconds at 15.71 rows per second / 23.72 images per second.\n",
            "DEBUG:bcd.data_prep.meta:Processed 5600 rows and 8461 images in 356.13 seconds at 15.72 rows per second / 23.76 images per second.\n",
            "DEBUG:bcd.data_prep.meta:Processed 5700 rows and 8608 images in 362.77 seconds at 15.71 rows per second / 23.73 images per second.\n",
            "DEBUG:bcd.data_prep.meta:Processed 5800 rows and 8763 images in 368.99 seconds at 15.72 rows per second / 23.75 images per second.\n",
            "DEBUG:bcd.data_prep.meta:Processed 5900 rows and 8915 images in 375.21 seconds at 15.72 rows per second / 23.76 images per second.\n",
            "DEBUG:bcd.data_prep.meta:Processed 6000 rows and 9074 images in 381.47 seconds at 15.73 rows per second / 23.79 images per second.\n",
            "DEBUG:bcd.data_prep.meta:Processed 6100 rows and 9224 images in 387.8 seconds at 15.73 rows per second / 23.79 images per second.\n",
            "DEBUG:bcd.data_prep.meta:Processed 6200 rows and 9373 images in 393.74 seconds at 15.75 rows per second / 23.8 images per second.\n",
            "DEBUG:bcd.data_prep.meta:Processed 6300 rows and 9528 images in 399.91 seconds at 15.75 rows per second / 23.83 images per second.\n",
            "DEBUG:bcd.data_prep.meta:Processed 6400 rows and 9674 images in 406.54 seconds at 15.74 rows per second / 23.8 images per second.\n",
            "DEBUG:bcd.data_prep.meta:Processed 6500 rows and 9827 images in 412.78 seconds at 15.75 rows per second / 23.81 images per second.\n",
            "DEBUG:bcd.data_prep.meta:Processed 6600 rows and 9978 images in 419.11 seconds at 15.75 rows per second / 23.81 images per second.\n",
            "DEBUG:bcd.data_prep.meta:Processed 6700 rows and 10130 images in 425.2 seconds at 15.76 rows per second / 23.82 images per second.\n",
            "DEBUG:bcd.data_prep.meta:Prepared dataframe of shape (108, 16)\n"
          ]
        }
      ],
      "source": [
        "mp = MetaPrep(infilepath=fpin, outfilepath=fpout)\n",
        "mp.prep_images()"
      ]
    }
  ],
  "metadata": {
    "kernelspec": {
      "display_name": "Python 3",
      "language": "python",
      "name": "python3"
    },
    "language_info": {
      "codemirror_mode": {
        "name": "ipython",
        "version": 3
      },
      "file_extension": ".py",
      "mimetype": "text/x-python",
      "name": "python",
      "nbconvert_exporter": "python",
      "pygments_lexer": "ipython3",
      "version": "3.10.12"
    }
  },
  "nbformat": 4,
  "nbformat_minor": 0
}
