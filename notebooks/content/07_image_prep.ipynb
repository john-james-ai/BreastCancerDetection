{
 "cells": [
  {
   "cell_type": "markdown",
   "metadata": {},
   "source": [
    "# CBIS-DDSM Image Preprocessing"
   ]
  },
  {
   "cell_type": "code",
   "execution_count": 1,
   "metadata": {},
   "outputs": [],
   "source": [
    "from bcd.container import BCDContainer\n",
    "from bcd.preprocess.image.convert import ImageConverter, ImageConverterParams\n",
    "from bcd.core.orchestration.task import Task\n"
   ]
  },
  {
   "cell_type": "code",
   "execution_count": 2,
   "metadata": {},
   "outputs": [],
   "source": [
    "container = BCDContainer()\n",
    "container.init_resources()\n",
    "container.wire(\n",
    "    packages=[\n",
    "        \"bcd.preprocess.image\",\n",
    "    ]\n",
    ")"
   ]
  },
  {
   "cell_type": "markdown",
   "metadata": {},
   "source": [
    "## Convert to 8-Bit PNG"
   ]
  },
  {
   "cell_type": "code",
   "execution_count": 3,
   "metadata": {},
   "outputs": [
    {
     "name": "stderr",
     "output_type": "stream",
     "text": [
      "[10/30/2023 07:10:39 AM] [INFO] [MySQLDatabase] [connect] : Database is not started. Starting database...\n",
      "[sudo] password for john: "
     ]
    },
    {
     "name": "stdout",
     "output_type": "stream",
     "text": [
      "\\nStarting MySQL...\n",
      " * Starting MySQL database server mysqld\n"
     ]
    },
    {
     "name": "stderr",
     "output_type": "stream",
     "text": [
      "su: warning: cannot change directory to /nonexistent: No such file or directory\n"
     ]
    },
    {
     "name": "stdout",
     "output_type": "stream",
     "text": [
      "   ...done.\n"
     ]
    },
    {
     "name": "stderr",
     "output_type": "stream",
     "text": [
      "100%|██████████| 15/15 [00:11<00:00,  1.29it/s]\n"
     ]
    }
   ],
   "source": [
    "params = ImageConverterParams(frac=0.005)\n",
    "task = Task.create(method=ImageConverter, params=params)\n",
    "task.run()"
   ]
  }
 ],
 "metadata": {
  "kernelspec": {
   "display_name": "bcd",
   "language": "python",
   "name": "python3"
  },
  "language_info": {
   "codemirror_mode": {
    "name": "ipython",
    "version": 3
   },
   "file_extension": ".py",
   "mimetype": "text/x-python",
   "name": "python",
   "nbconvert_exporter": "python",
   "pygments_lexer": "ipython3",
   "version": "3.10.12"
  }
 },
 "nbformat": 4,
 "nbformat_minor": 2
}
