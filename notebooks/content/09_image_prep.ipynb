{
 "cells": [
  {
   "cell_type": "markdown",
   "metadata": {},
   "source": [
    "# Image Preprocessing Experiments\n",
    "Optimizing mammography for deep learning will comprise a series of image preprocessing steps. Denoising, artifact removal, pectoral muscle removal, and image enhancement are among the most essential steps in medical image preprocessing, and determining the optimal methods for these steps will be to a degree, an exercise in experimentation.  In this section, we conduct experiments that will determine the image preprocessing methods that will ultimately be applied to each image before model training.\n",
    "\n",
    "This section will be organized as follows:\n",
    "| # | Phase            | Step                   | Description                                                                               |\n",
    "|---|------------------|------------------------|-------------------------------------------------------------------------------------------|\n",
    "| 0 | Setup            | Initialize Repositories | Reset the repositories and extract test bed images.                                       |\n",
    "| 1 | Setup            | Load Experiment Data | Extract stratfied sampling of images for experimentation.                                 |\n",
    "| 2 | Artifact Removal | Denoise                | Explore basic denoising techniques such as MeanFilter, MedianFilter and   Gaussian Filter |\n",
    "| 3 | Artifact Removal | Thresholding           | Select thresholding technique for artifact removal                                        |\n",
    "\n"
   ]
  },
  {
   "cell_type": "markdown",
   "metadata": {},
   "source": [
    "Import modules"
   ]
  },
  {
   "cell_type": "code",
   "execution_count": 1,
   "metadata": {},
   "outputs": [],
   "source": [
    "from bcd.config import Config\n",
    "from bcd.container import BCDContainer\n",
    "from bcd.etl.load import Loader\n",
    "from bcd.preprocess.image.experiment.denoise import DenoiseExperiment\n",
    "from bcd.preprocess.image.method.denoise import (\n",
    "    BilateralFilter,\n",
    "    GaussianFilter,\n",
    "    MeanFilter,\n",
    "    MedianFilter,\n",
    ")"
   ]
  },
  {
   "cell_type": "code",
   "execution_count": 2,
   "metadata": {
    "tags": [
     "remove-cell"
    ]
   },
   "outputs": [],
   "source": [
    "Config.set_log_level('INFO')\n",
    "Config.set_mode('exp')"
   ]
  },
  {
   "cell_type": "markdown",
   "metadata": {},
   "source": [
    "Wire our dependencies."
   ]
  },
  {
   "cell_type": "code",
   "execution_count": 3,
   "metadata": {},
   "outputs": [],
   "source": [
    "container = BCDContainer()\n",
    "container.init_resources()\n",
    "container.wire(\n",
    "    packages=[\n",
    "        \"bcd.dal.repo\", \"bcd.preprocess.image.experiment\", \"bcd.dal.io\", \"bcd.etl\"\n",
    "    ]\n",
    ")"
   ]
  },
  {
   "cell_type": "code",
   "execution_count": null,
   "metadata": {
    "tags": [
     "parameters"
    ]
   },
   "outputs": [],
   "source": [
    "# Section parameters\n",
    "SETUP_COMPLETE = False\n",
    "DENOISE_COMPLETE = False\n",
    "BATCHSIZE = 16"
   ]
  },
  {
   "cell_type": "markdown",
   "metadata": {},
   "source": [
    "## Setup\n",
    "### Initialize Repositories\n",
    "Experiment repositories are reset."
   ]
  },
  {
   "cell_type": "code",
   "execution_count": 4,
   "metadata": {},
   "outputs": [
    {
     "name": "stderr",
     "output_type": "stream",
     "text": [
      "[11/13/2023 03:14:28 PM] [WARNING] [ImageRepo] [delete_by_mode] : No images exist in exp mode.\n"
     ]
    }
   ],
   "source": [
    "if not SETUP_COMPLETE:\n",
    "    uow = container.dal.uow()\n",
    "    uow.reset()"
   ]
  },
  {
   "cell_type": "markdown",
   "metadata": {},
   "source": [
    "### Load Data\n",
    "We will load 5% of the data, stratified by abnormality type, image view, BI-RADS assessment and cancer diagnosis."
   ]
  },
  {
   "cell_type": "code",
   "execution_count": 5,
   "metadata": {},
   "outputs": [
    {
     "name": "stderr",
     "output_type": "stream",
     "text": [
      "[11/13/2023 03:14:45 PM] [WARNING] [ImageRepo] [delete_by_stage] : No images exist for stage 0 in exp mode.\n",
      "100%|██████████| 354/354 [05:08<00:00,  1.15it/s]\n"
     ]
    }
   ],
   "source": [
    "if not SETUP_COMPLETE:\n",
    "    loader = Loader(frac=0.05, groupby=['abnormality_type', 'image_view', 'assessment', 'cancer'])\n",
    "    loader.run()"
   ]
  },
  {
   "cell_type": "markdown",
   "metadata": {},
   "source": [
    "## Denoise\n",
    "Noise in mammography is random variations in image brightness, color, or contrast that may have been produced during the image capture process. These fluctuations are largely categorized as salt and pepper noise, speckle noise, Gaussian noise, and Poisson noise. Salt and pepper noise, also known as spike noise, impulsive noise or flat-tail distributed noise will appear as black and white dots on the image.  Speckle noise is mainly found in radar images whereby the return signal from an object causes random fluctuations within the image. Gaussian noise is additive in nature and follows a Gaussian distribution. Finally, Poisson noise or shot noise appears when there is statistical variation in image brightness, primarily due to characteristics of the capturing device, such as the number of photons used in low-dose X-ray mammography.\n",
    "\n",
    "### Denoising Methods\n",
    "These experiments will focus on linear (MeanFilter, GaussianFilter) and non-linear (MedianFilter) spatial domain filters for noise reduction.  \n",
    "\n",
    "#### MeanFilter\n",
    "The MeanFilter simply replaces each pixel value in an image with the mean value of its neighbors, including itself. A kernel specifies the shape and size of the neighborhood to be sampled when computing the mean and must be a positive and odd integer. Typical kernel sizes of 3,5, or 7 are used and represent square kernels of 3,5, or 7 pixels in the horizontal and vertical directions. The larger the kernel, the greater the blurring or smoothing effect in the image.\n",
    "MeanFilter is simple, intuitive, and easy to implement; however, it has two drawbacks, namely:\n",
    "-\tA single outlier pixel value can significantly affect the mean value of all the pixels in its neighborhood, and\n",
    "-\tEdges are blurred, which can be problematic if sharp edges are required in the output.\n",
    "\n",
    "#### GaussianFilter\n",
    "Like the MeanFilter, the GaussianFilter is a 2-D convolution operator that is used to remove noise. By contrast, the GaussianFilter uses a different kernel that represents the shape of an isotropic (i.e. circularly symmetric) Gaussian distribution with the following form:\n",
    "$$\n",
    "G(x,y) = \\frac{1}{2\\pi\\sigma^2}e^{-{\\frac{x^2+y^2}{2\\sigma^2}}}\n",
    "$$\n",
    "\n"
   ]
  },
  {
   "cell_type": "markdown",
   "metadata": {},
   "source": [
    "```{figure} /home/john/projects/bcd/jbook/figures/gaussian.png\n",
    "---\n",
    "name: gaussian\n",
    "---\n",
    "2D Gaussian Distribution\n",
    "```\n",
    "\n",
    "The distribution is shown in {numref}`gaussian`"
   ]
  },
  {
   "cell_type": "markdown",
   "metadata": {},
   "source": [
    "### Mean Filter"
   ]
  },
  {
   "cell_type": "code",
   "execution_count": null,
   "metadata": {},
   "outputs": [],
   "source": [
    "params = {\"kernel\": [3, 5, 7]}\n",
    "task = DenoiseExperiment(method=MeanFilter, params=params, batchsize=BATCHSIZE)\n",
    "task.run()"
   ]
  },
  {
   "cell_type": "markdown",
   "metadata": {},
   "source": [
    "## Median Filter"
   ]
  },
  {
   "cell_type": "code",
   "execution_count": null,
   "metadata": {},
   "outputs": [],
   "source": [
    "params = {\"kernel\": [3, 5, 7]}\n",
    "task = DenoiseExperiment(method=MedianFilter, params=params, batchsize=BATCHSIZE)\n",
    "task.run()"
   ]
  },
  {
   "cell_type": "markdown",
   "metadata": {},
   "source": [
    "## Gaussian Filter"
   ]
  },
  {
   "cell_type": "code",
   "execution_count": null,
   "metadata": {},
   "outputs": [],
   "source": [
    "params = {\"kernel\": [3, 5, 7]}\n",
    "task = DenoiseExperiment(method=GaussianFilter, params=params, batchsize=BATCHSIZE)\n",
    "task.run()"
   ]
  },
  {
   "cell_type": "markdown",
   "metadata": {},
   "source": [
    "## Bilateral Filter"
   ]
  },
  {
   "cell_type": "raw",
   "metadata": {},
   "source": [
    "params = {\"sigma_color_factor\": [1], \"sigma_space_factor\": [1]}\n",
    "task = DenoiseExperiment(method=BilateralFilter, params=params, batchsize=BATCHSIZE)\n",
    "task.run()"
   ]
  }
 ],
 "metadata": {
  "kernelspec": {
   "display_name": "bcd",
   "language": "python",
   "name": "python3"
  },
  "language_info": {
   "codemirror_mode": {
    "name": "ipython",
    "version": 3
   },
   "file_extension": ".py",
   "mimetype": "text/x-python",
   "name": "python",
   "nbconvert_exporter": "python",
   "pygments_lexer": "ipython3",
   "version": "3.10.12"
  }
 },
 "nbformat": 4,
 "nbformat_minor": 2
}
