{
 "cells": [
  {
   "cell_type": "markdown",
   "metadata": {},
   "source": [
    "# CBIS-DDSM Data Quality Analysis (DQA)\n",
    "In the previous section, we began the process of transforming the raw CBIS-DDSM case and DICOM data into a structure and format more suitable for analysis. The purpose of this effort is to identify potential data quality issues, errors, and anomalies requiring further data preprocessing, prior to the analysis stage. \n",
    "\n",
    "## Datasets\n",
    "The scope of this analysis includes the following datasets:\n",
    "\n",
    "| Dataset             | Description                                        |\n",
    "|---------------------|----------------------------------------------------|\n",
    "| Master Case Dataset | Calcification and mass case training and test sets |\n",
    "| DICOM Dataset       | DICOM Image Metadata                               |\n",
    "\n",
    "### Approach\n",
    "Our approach will touch on four dimensions of data quality.\n",
    "\n",
    "| # | Dimension | Definition | Metric | Metric Definition |\n",
    "|---|----------------|-------------------------------------|----------------|-------------------------------------|\n",
    "| 1 | Completeness | Are the data complete? | Completeness Ratio | Ratio of non-null data values / rows over the total number of data values / rows |\n",
    "| 2 | Uniqueness | Are their duplicate records | Uniqueness Ratio | Ratio of unique data values / rows over total number of data values / rows |\n",
    "| 3 | Validity   | Are the values consistent with defined rules? | Validity Ratio | Ratio of valid cells / rows over total number of data cells / rows |\n",
    "\n",
    "Note, accuracy and relevance, two additional dimensions of data quality, are missing from this analysis. An accuracy evaluation requires an external source-of-truth against which, the CBIS-DDSM data are compared. As we lack such a data source, we have no basis for evaluating the accuracy of the CBIS-DDSM data collection. With respect to relevance, duplicate and irrelevant data were removed from the data collection during the previous data preparation exercise."
   ]
  },
  {
   "cell_type": "code",
   "execution_count": 1,
   "metadata": {},
   "outputs": [],
   "source": [
    "import os\n",
    "if 'jbook' in os.getcwd():\n",
    "    os.chdir(os.path.abspath(os.path.join(\"../..\")))\n",
    "\n",
    "import pandas as pd\n",
    "from IPython.display import HTML, display_html\n",
    "import numpy as np\n",
    "\n",
    "from bcd.analyze.quality.case import CaseDQA\n",
    "from bcd.analyze.quality.dicom import DicomDQA\n",
    "\n",
    "pd.set_option('display.max_colwidth', 200)"
   ]
  },
  {
   "cell_type": "code",
   "execution_count": 2,
   "metadata": {
    "tags": [
     "remove-input"
    ]
   },
   "outputs": [],
   "source": [
    "# Filepaths\n",
    "fpc = \"data/meta/1_staged/cases.csv\"\n",
    "fpd = \"data/meta/1_staged/dicom.csv\""
   ]
  },
  {
   "cell_type": "markdown",
   "metadata": {},
   "source": [
    "## Completeness Analysis"
   ]
  },
  {
   "cell_type": "code",
   "execution_count": 3,
   "metadata": {},
   "outputs": [
    {
     "name": "stdout",
     "output_type": "stream",
     "text": [
      "\n",
      "\n",
      "                          Completeness                          \n",
      "                         Dataset | Cases\n",
      "                        Filename | cases.csv\n",
      "                         Records | 3568\n",
      "                Complete Records | 3043\n",
      "             Record Completeness | 0.853\n",
      "                     Data Values | 57088\n",
      "            Complete Data Values | 56561\n",
      "         Data Value Completeness | 0.991\n",
      "\n",
      " "
     ]
    }
   ],
   "source": [
    "dq = CaseDQA(filepath=fpc)\n",
    "dqc = dq.analyze_completeness()\n",
    "print(dqc.summary, end=\" \")\n"
   ]
  },
  {
   "cell_type": "markdown",
   "metadata": {},
   "source": [
    "Record and data value completeness are 0.85 and 0.99 respectively. Let's take a closer look."
   ]
  },
  {
   "cell_type": "code",
   "execution_count": 4,
   "metadata": {},
   "outputs": [
    {
     "data": {
      "text/html": [
       "<div>\n",
       "<style scoped>\n",
       "    .dataframe tbody tr th:only-of-type {\n",
       "        vertical-align: middle;\n",
       "    }\n",
       "\n",
       "    .dataframe tbody tr th {\n",
       "        vertical-align: top;\n",
       "    }\n",
       "\n",
       "    .dataframe thead th {\n",
       "        text-align: right;\n",
       "    }\n",
       "</style>\n",
       "<table border=\"1\" class=\"dataframe\">\n",
       "  <thead>\n",
       "    <tr style=\"text-align: right;\">\n",
       "      <th></th>\n",
       "      <th>N</th>\n",
       "      <th>Complete</th>\n",
       "      <th>Missing</th>\n",
       "      <th>Completeness</th>\n",
       "    </tr>\n",
       "  </thead>\n",
       "  <tbody>\n",
       "    <tr>\n",
       "      <th>patient_id</th>\n",
       "      <td>3568</td>\n",
       "      <td>3568</td>\n",
       "      <td>0</td>\n",
       "      <td>1.00</td>\n",
       "    </tr>\n",
       "    <tr>\n",
       "      <th>breast_density</th>\n",
       "      <td>3568</td>\n",
       "      <td>3568</td>\n",
       "      <td>0</td>\n",
       "      <td>1.00</td>\n",
       "    </tr>\n",
       "    <tr>\n",
       "      <th>left_or_right_breast</th>\n",
       "      <td>3568</td>\n",
       "      <td>3568</td>\n",
       "      <td>0</td>\n",
       "      <td>1.00</td>\n",
       "    </tr>\n",
       "    <tr>\n",
       "      <th>image_view</th>\n",
       "      <td>3568</td>\n",
       "      <td>3568</td>\n",
       "      <td>0</td>\n",
       "      <td>1.00</td>\n",
       "    </tr>\n",
       "    <tr>\n",
       "      <th>abnormality_id</th>\n",
       "      <td>3568</td>\n",
       "      <td>3568</td>\n",
       "      <td>0</td>\n",
       "      <td>1.00</td>\n",
       "    </tr>\n",
       "    <tr>\n",
       "      <th>abnormality_type</th>\n",
       "      <td>3568</td>\n",
       "      <td>3568</td>\n",
       "      <td>0</td>\n",
       "      <td>1.00</td>\n",
       "    </tr>\n",
       "    <tr>\n",
       "      <th>calc_type</th>\n",
       "      <td>3568</td>\n",
       "      <td>3544</td>\n",
       "      <td>24</td>\n",
       "      <td>0.99</td>\n",
       "    </tr>\n",
       "    <tr>\n",
       "      <th>calc_distribution</th>\n",
       "      <td>3568</td>\n",
       "      <td>3129</td>\n",
       "      <td>439</td>\n",
       "      <td>0.88</td>\n",
       "    </tr>\n",
       "    <tr>\n",
       "      <th>assessment</th>\n",
       "      <td>3568</td>\n",
       "      <td>3568</td>\n",
       "      <td>0</td>\n",
       "      <td>1.00</td>\n",
       "    </tr>\n",
       "    <tr>\n",
       "      <th>pathology</th>\n",
       "      <td>3568</td>\n",
       "      <td>3568</td>\n",
       "      <td>0</td>\n",
       "      <td>1.00</td>\n",
       "    </tr>\n",
       "    <tr>\n",
       "      <th>subtlety</th>\n",
       "      <td>3568</td>\n",
       "      <td>3568</td>\n",
       "      <td>0</td>\n",
       "      <td>1.00</td>\n",
       "    </tr>\n",
       "    <tr>\n",
       "      <th>fileset</th>\n",
       "      <td>3568</td>\n",
       "      <td>3568</td>\n",
       "      <td>0</td>\n",
       "      <td>1.00</td>\n",
       "    </tr>\n",
       "    <tr>\n",
       "      <th>mass_shape</th>\n",
       "      <td>3568</td>\n",
       "      <td>3564</td>\n",
       "      <td>4</td>\n",
       "      <td>1.00</td>\n",
       "    </tr>\n",
       "    <tr>\n",
       "      <th>mass_margins</th>\n",
       "      <td>3568</td>\n",
       "      <td>3508</td>\n",
       "      <td>60</td>\n",
       "      <td>0.98</td>\n",
       "    </tr>\n",
       "    <tr>\n",
       "      <th>case_id</th>\n",
       "      <td>3568</td>\n",
       "      <td>3568</td>\n",
       "      <td>0</td>\n",
       "      <td>1.00</td>\n",
       "    </tr>\n",
       "    <tr>\n",
       "      <th>cancer</th>\n",
       "      <td>3568</td>\n",
       "      <td>3568</td>\n",
       "      <td>0</td>\n",
       "      <td>1.00</td>\n",
       "    </tr>\n",
       "  </tbody>\n",
       "</table>\n",
       "</div>"
      ],
      "text/plain": [
       "                         N  Complete  Missing  Completeness\n",
       "patient_id            3568      3568        0          1.00\n",
       "breast_density        3568      3568        0          1.00\n",
       "left_or_right_breast  3568      3568        0          1.00\n",
       "image_view            3568      3568        0          1.00\n",
       "abnormality_id        3568      3568        0          1.00\n",
       "abnormality_type      3568      3568        0          1.00\n",
       "calc_type             3568      3544       24          0.99\n",
       "calc_distribution     3568      3129      439          0.88\n",
       "assessment            3568      3568        0          1.00\n",
       "pathology             3568      3568        0          1.00\n",
       "subtlety              3568      3568        0          1.00\n",
       "fileset               3568      3568        0          1.00\n",
       "mass_shape            3568      3564        4          1.00\n",
       "mass_margins          3568      3508       60          0.98\n",
       "case_id               3568      3568        0          1.00\n",
       "cancer                3568      3568        0          1.00"
      ]
     },
     "execution_count": 4,
     "metadata": {},
     "output_type": "execute_result"
    }
   ],
   "source": [
    "dqc.detail"
   ]
  },
  {
   "cell_type": "markdown",
   "metadata": {},
   "source": [
    "Missingness for calc_type, mass_shape, and mass_margins is 1%, < 1%, and 2% respectively. Strictly speaking, we could drop those observations without a considerable loss of data. On the other hand, calc_distribution missingness deserves a closer look. Let's examine missingness vis-a-vis the pathology target. "
   ]
  },
  {
   "cell_type": "code",
   "execution_count": 5,
   "metadata": {},
   "outputs": [
    {
     "data": {
      "text/html": [
       "<div>\n",
       "<style scoped>\n",
       "    .dataframe tbody tr th:only-of-type {\n",
       "        vertical-align: middle;\n",
       "    }\n",
       "\n",
       "    .dataframe tbody tr th {\n",
       "        vertical-align: top;\n",
       "    }\n",
       "\n",
       "    .dataframe thead th {\n",
       "        text-align: right;\n",
       "    }\n",
       "</style>\n",
       "<table border=\"1\" class=\"dataframe\">\n",
       "  <thead>\n",
       "    <tr style=\"text-align: right;\">\n",
       "      <th></th>\n",
       "      <th>count</th>\n",
       "    </tr>\n",
       "    <tr>\n",
       "      <th>pathology</th>\n",
       "      <th></th>\n",
       "    </tr>\n",
       "  </thead>\n",
       "  <tbody>\n",
       "    <tr>\n",
       "      <th>BENIGN_WITHOUT_CALLBACK</th>\n",
       "      <td>434</td>\n",
       "    </tr>\n",
       "    <tr>\n",
       "      <th>BENIGN</th>\n",
       "      <td>5</td>\n",
       "    </tr>\n",
       "  </tbody>\n",
       "</table>\n",
       "</div>"
      ],
      "text/plain": [
       "                         count\n",
       "pathology                     \n",
       "BENIGN_WITHOUT_CALLBACK    434\n",
       "BENIGN                       5"
      ]
     },
     "execution_count": 5,
     "metadata": {},
     "output_type": "execute_result"
    }
   ],
   "source": [
    "dq.get_incomplete_data(subset='calc_distribution')['pathology'].value_counts().to_frame()"
   ]
  },
  {
   "cell_type": "markdown",
   "metadata": {},
   "source": [
    "This is interesting. Over 98% of the records with missing calcification distribution have a pathology of BENIGN_WITHOUT_CALLBACK. This suggests that the calcification distribution data are Missing at Random (MAR). That is, the probability of encountering missing calcification distribution may be systematically related to a benign pathology. As the missingness seems to be related to *observed* data, the multiple imputation by chained equations (MICE) {cite}`schaferMultipleImputationPrimer1999` is a principled method for dealing with such missing data while mitigating data loss and bias in the dataset.\n",
    "\n",
    "Let's move on to the uniqueness analysis."
   ]
  },
  {
   "cell_type": "markdown",
   "metadata": {},
   "source": [
    "### Uniqueness Analysis"
   ]
  },
  {
   "cell_type": "code",
   "execution_count": 6,
   "metadata": {},
   "outputs": [
    {
     "name": "stdout",
     "output_type": "stream",
     "text": [
      "\n",
      "\n",
      "                           Uniqueness                           \n",
      "                         Dataset | Cases\n",
      "                        Filename | cases.csv\n",
      "                         Records | 3568\n",
      "                  Unique Records | 3568\n",
      "               Record Uniqueness | 1.0\n",
      "                     Data Values | 57088\n",
      "              Unique Data Values | 5270\n",
      "           Data Value Uniqueness | 0.092\n",
      "\n",
      "\n"
     ]
    }
   ],
   "source": [
    "dqu = dq.analyze_uniqueness()\n",
    "print(dqu.summary)"
   ]
  },
  {
   "cell_type": "markdown",
   "metadata": {},
   "source": [
    "No duplicate records exist in the data."
   ]
  },
  {
   "cell_type": "markdown",
   "metadata": {},
   "source": [
    "### Validity Analysis\n",
    "Here, we assess the degree to which the datasets contain valid values. "
   ]
  },
  {
   "cell_type": "code",
   "execution_count": 7,
   "metadata": {},
   "outputs": [
    {
     "name": "stdout",
     "output_type": "stream",
     "text": [
      "\n",
      "\n",
      "                            Validity                            \n",
      "                         Dataset | Cases\n",
      "                        Filename | cases.csv\n",
      "                         Records | 3568\n",
      "                   Valid Records | 3009\n",
      "                 Record Validity | 0.843\n",
      "                     Data Values | 57088\n",
      "               Valid Data Values | 56360\n",
      "             Data Value Validity | 0.987\n",
      "\n",
      "\n"
     ]
    }
   ],
   "source": [
    "dqv = dq.analyze_validity()\n",
    "print(dqv.summary)"
   ]
  },
  {
   "cell_type": "markdown",
   "metadata": {},
   "source": [
    "Record and data value validity are 0.84 and 0.99, respectively. Note, missing data will have an impact on record validity. Still, let's take a closer look at the invalid data. "
   ]
  },
  {
   "cell_type": "code",
   "execution_count": 8,
   "metadata": {},
   "outputs": [
    {
     "data": {
      "text/html": [
       "<div>\n",
       "<style scoped>\n",
       "    .dataframe tbody tr th:only-of-type {\n",
       "        vertical-align: middle;\n",
       "    }\n",
       "\n",
       "    .dataframe tbody tr th {\n",
       "        vertical-align: top;\n",
       "    }\n",
       "\n",
       "    .dataframe thead th {\n",
       "        text-align: right;\n",
       "    }\n",
       "</style>\n",
       "<table border=\"1\" class=\"dataframe\">\n",
       "  <thead>\n",
       "    <tr style=\"text-align: right;\">\n",
       "      <th></th>\n",
       "      <th>N</th>\n",
       "      <th>Valid</th>\n",
       "      <th>Invalid</th>\n",
       "      <th>Validity</th>\n",
       "    </tr>\n",
       "  </thead>\n",
       "  <tbody>\n",
       "    <tr>\n",
       "      <th>case_id</th>\n",
       "      <td>3568</td>\n",
       "      <td>3568</td>\n",
       "      <td>0</td>\n",
       "      <td>1.00</td>\n",
       "    </tr>\n",
       "    <tr>\n",
       "      <th>patient_id</th>\n",
       "      <td>3568</td>\n",
       "      <td>3568</td>\n",
       "      <td>0</td>\n",
       "      <td>1.00</td>\n",
       "    </tr>\n",
       "    <tr>\n",
       "      <th>breast_density</th>\n",
       "      <td>3568</td>\n",
       "      <td>3566</td>\n",
       "      <td>2</td>\n",
       "      <td>1.00</td>\n",
       "    </tr>\n",
       "    <tr>\n",
       "      <th>left_or_right_breast</th>\n",
       "      <td>3568</td>\n",
       "      <td>3568</td>\n",
       "      <td>0</td>\n",
       "      <td>1.00</td>\n",
       "    </tr>\n",
       "    <tr>\n",
       "      <th>image_view</th>\n",
       "      <td>3568</td>\n",
       "      <td>3568</td>\n",
       "      <td>0</td>\n",
       "      <td>1.00</td>\n",
       "    </tr>\n",
       "    <tr>\n",
       "      <th>abnormality_id</th>\n",
       "      <td>3568</td>\n",
       "      <td>3568</td>\n",
       "      <td>0</td>\n",
       "      <td>1.00</td>\n",
       "    </tr>\n",
       "    <tr>\n",
       "      <th>abnormality_type</th>\n",
       "      <td>3568</td>\n",
       "      <td>3568</td>\n",
       "      <td>0</td>\n",
       "      <td>1.00</td>\n",
       "    </tr>\n",
       "    <tr>\n",
       "      <th>calc_type</th>\n",
       "      <td>3568</td>\n",
       "      <td>3347</td>\n",
       "      <td>221</td>\n",
       "      <td>0.94</td>\n",
       "    </tr>\n",
       "    <tr>\n",
       "      <th>calc_distribution</th>\n",
       "      <td>3568</td>\n",
       "      <td>3129</td>\n",
       "      <td>439</td>\n",
       "      <td>0.88</td>\n",
       "    </tr>\n",
       "    <tr>\n",
       "      <th>mass_shape</th>\n",
       "      <td>3568</td>\n",
       "      <td>3564</td>\n",
       "      <td>4</td>\n",
       "      <td>1.00</td>\n",
       "    </tr>\n",
       "    <tr>\n",
       "      <th>mass_margins</th>\n",
       "      <td>3568</td>\n",
       "      <td>3508</td>\n",
       "      <td>60</td>\n",
       "      <td>0.98</td>\n",
       "    </tr>\n",
       "    <tr>\n",
       "      <th>assessment</th>\n",
       "      <td>3568</td>\n",
       "      <td>3568</td>\n",
       "      <td>0</td>\n",
       "      <td>1.00</td>\n",
       "    </tr>\n",
       "    <tr>\n",
       "      <th>pathology</th>\n",
       "      <td>3568</td>\n",
       "      <td>3568</td>\n",
       "      <td>0</td>\n",
       "      <td>1.00</td>\n",
       "    </tr>\n",
       "    <tr>\n",
       "      <th>subtlety</th>\n",
       "      <td>3568</td>\n",
       "      <td>3566</td>\n",
       "      <td>2</td>\n",
       "      <td>1.00</td>\n",
       "    </tr>\n",
       "    <tr>\n",
       "      <th>fileset</th>\n",
       "      <td>3568</td>\n",
       "      <td>3568</td>\n",
       "      <td>0</td>\n",
       "      <td>1.00</td>\n",
       "    </tr>\n",
       "    <tr>\n",
       "      <th>cancer</th>\n",
       "      <td>3568</td>\n",
       "      <td>3568</td>\n",
       "      <td>0</td>\n",
       "      <td>1.00</td>\n",
       "    </tr>\n",
       "  </tbody>\n",
       "</table>\n",
       "</div>"
      ],
      "text/plain": [
       "                         N  Valid  Invalid  Validity\n",
       "case_id               3568   3568        0      1.00\n",
       "patient_id            3568   3568        0      1.00\n",
       "breast_density        3568   3566        2      1.00\n",
       "left_or_right_breast  3568   3568        0      1.00\n",
       "image_view            3568   3568        0      1.00\n",
       "abnormality_id        3568   3568        0      1.00\n",
       "abnormality_type      3568   3568        0      1.00\n",
       "calc_type             3568   3347      221      0.94\n",
       "calc_distribution     3568   3129      439      0.88\n",
       "mass_shape            3568   3564        4      1.00\n",
       "mass_margins          3568   3508       60      0.98\n",
       "assessment            3568   3568        0      1.00\n",
       "pathology             3568   3568        0      1.00\n",
       "subtlety              3568   3566        2      1.00\n",
       "fileset               3568   3568        0      1.00\n",
       "cancer                3568   3568        0      1.00"
      ]
     },
     "execution_count": 8,
     "metadata": {},
     "output_type": "execute_result"
    }
   ],
   "source": [
    "dqv.detail"
   ]
  },
  {
   "cell_type": "markdown",
   "metadata": {},
   "source": [
    "The invalidity of calc_distribution and mass_margins is explained by the presence of missing data. Approximately 6% of the observations have invalid calcification types. Let's take a look."
   ]
  },
  {
   "cell_type": "code",
   "execution_count": 9,
   "metadata": {},
   "outputs": [
    {
     "data": {
      "text/plain": [
       "array([nan, 'ROUND_AND_REGULAR-LUCENT_CENTER-DYSTROPHIC',\n",
       "       'PUNCTATE-LUCENT_CENTER',\n",
       "       'VASCULAR-COARSE-LUCENT_CENTER-ROUND_AND_REGULAR-PUNCTATE',\n",
       "       'LUCENT_CENTER', 'ROUND_AND_REGULAR-LUCENT_CENTER',\n",
       "       'LUCENT_CENTER-PUNCTATE', 'PLEOMORPHIC-PLEOMORPHIC',\n",
       "       'COARSE-ROUND_AND_REGULAR-LUCENT_CENTER',\n",
       "       'ROUND_AND_REGULAR-LUCENT_CENTER-PUNCTATE', 'COARSE-LUCENT_CENTER'],\n",
       "      dtype=object)"
      ]
     },
     "execution_count": 9,
     "metadata": {},
     "output_type": "execute_result"
    }
   ],
   "source": [
    "dq.get_invalid_data(subset='calc_type')['calc_type'].unique()"
   ]
  },
  {
   "cell_type": "markdown",
   "metadata": {},
   "source": [
    "A common thread among these invalid values is the type, 'LUCENT_CENTER', which should be 'LUCENT_CENTERED'. 'PLEOMORPHIC-PLEOMORPHIC', should be 'PLEOMORPHIC' and there are some NaN values extant. We'll make those changes in the next section. Now, the invalid breast density records."
   ]
  },
  {
   "cell_type": "code",
   "execution_count": 10,
   "metadata": {},
   "outputs": [
    {
     "data": {
      "text/html": [
       "<div>\n",
       "<style scoped>\n",
       "    .dataframe tbody tr th:only-of-type {\n",
       "        vertical-align: middle;\n",
       "    }\n",
       "\n",
       "    .dataframe tbody tr th {\n",
       "        vertical-align: top;\n",
       "    }\n",
       "\n",
       "    .dataframe thead th {\n",
       "        text-align: right;\n",
       "    }\n",
       "</style>\n",
       "<table border=\"1\" class=\"dataframe\">\n",
       "  <thead>\n",
       "    <tr style=\"text-align: right;\">\n",
       "      <th></th>\n",
       "      <th>patient_id</th>\n",
       "      <th>breast_density</th>\n",
       "      <th>left_or_right_breast</th>\n",
       "      <th>image_view</th>\n",
       "      <th>abnormality_id</th>\n",
       "      <th>abnormality_type</th>\n",
       "      <th>calc_type</th>\n",
       "      <th>calc_distribution</th>\n",
       "      <th>assessment</th>\n",
       "      <th>pathology</th>\n",
       "      <th>subtlety</th>\n",
       "      <th>fileset</th>\n",
       "      <th>mass_shape</th>\n",
       "      <th>mass_margins</th>\n",
       "      <th>case_id</th>\n",
       "      <th>cancer</th>\n",
       "    </tr>\n",
       "  </thead>\n",
       "  <tbody>\n",
       "    <tr>\n",
       "      <th>1817</th>\n",
       "      <td>P_01743</td>\n",
       "      <td>0</td>\n",
       "      <td>RIGHT</td>\n",
       "      <td>CC</td>\n",
       "      <td>1</td>\n",
       "      <td>calcification</td>\n",
       "      <td>PLEOMORPHIC</td>\n",
       "      <td>DIFFUSELY_SCATTERED</td>\n",
       "      <td>5</td>\n",
       "      <td>MALIGNANT</td>\n",
       "      <td>5</td>\n",
       "      <td>test</td>\n",
       "      <td>NOT APPLICABLE</td>\n",
       "      <td>NOT APPLICABLE</td>\n",
       "      <td>Calcification-Test_P_01743_RIGHT_CC_1</td>\n",
       "      <td>True</td>\n",
       "    </tr>\n",
       "    <tr>\n",
       "      <th>1818</th>\n",
       "      <td>P_01743</td>\n",
       "      <td>0</td>\n",
       "      <td>RIGHT</td>\n",
       "      <td>MLO</td>\n",
       "      <td>1</td>\n",
       "      <td>calcification</td>\n",
       "      <td>PLEOMORPHIC</td>\n",
       "      <td>DIFFUSELY_SCATTERED</td>\n",
       "      <td>5</td>\n",
       "      <td>MALIGNANT</td>\n",
       "      <td>5</td>\n",
       "      <td>test</td>\n",
       "      <td>NOT APPLICABLE</td>\n",
       "      <td>NOT APPLICABLE</td>\n",
       "      <td>Calcification-Test_P_01743_RIGHT_MLO_1</td>\n",
       "      <td>True</td>\n",
       "    </tr>\n",
       "  </tbody>\n",
       "</table>\n",
       "</div>"
      ],
      "text/plain": [
       "     patient_id  breast_density left_or_right_breast image_view  \\\n",
       "1817    P_01743               0                RIGHT         CC   \n",
       "1818    P_01743               0                RIGHT        MLO   \n",
       "\n",
       "      abnormality_id abnormality_type    calc_type    calc_distribution  \\\n",
       "1817               1    calcification  PLEOMORPHIC  DIFFUSELY_SCATTERED   \n",
       "1818               1    calcification  PLEOMORPHIC  DIFFUSELY_SCATTERED   \n",
       "\n",
       "      assessment  pathology  subtlety fileset      mass_shape    mass_margins  \\\n",
       "1817           5  MALIGNANT         5    test  NOT APPLICABLE  NOT APPLICABLE   \n",
       "1818           5  MALIGNANT         5    test  NOT APPLICABLE  NOT APPLICABLE   \n",
       "\n",
       "                                     case_id  cancer  \n",
       "1817   Calcification-Test_P_01743_RIGHT_CC_1    True  \n",
       "1818  Calcification-Test_P_01743_RIGHT_MLO_1    True  "
      ]
     },
     "execution_count": 10,
     "metadata": {},
     "output_type": "execute_result"
    }
   ],
   "source": [
    "dq.get_invalid_data(subset='breast_density')"
   ]
  },
  {
   "cell_type": "markdown",
   "metadata": {},
   "source": [
    "Both observations with breast density values of zero, are for the same patient. Let's see what densities we have for similar malignant calcification cases."
   ]
  },
  {
   "cell_type": "code",
   "execution_count": 11,
   "metadata": {},
   "outputs": [],
   "source": [
    "df = dq.get_complete_data()\n",
    "df_similar_type = df.loc[(df['calc_type'] == 'PLEOMORPHIC') & (df['cancer'] == True)]\n",
    "df_similar_dist = df.loc[(df['calc_distribution'] == 'DIFFUSELY_SCATTERED') & (df['cancer'] == True)]\n"
   ]
  },
  {
   "cell_type": "markdown",
   "metadata": {},
   "source": [
    "The breast density counts below are for PLEOMORPHIC calcification cases."
   ]
  },
  {
   "cell_type": "code",
   "execution_count": 12,
   "metadata": {},
   "outputs": [
    {
     "data": {
      "text/html": [
       "<div>\n",
       "<style scoped>\n",
       "    .dataframe tbody tr th:only-of-type {\n",
       "        vertical-align: middle;\n",
       "    }\n",
       "\n",
       "    .dataframe tbody tr th {\n",
       "        vertical-align: top;\n",
       "    }\n",
       "\n",
       "    .dataframe thead th {\n",
       "        text-align: right;\n",
       "    }\n",
       "</style>\n",
       "<table border=\"1\" class=\"dataframe\">\n",
       "  <thead>\n",
       "    <tr style=\"text-align: right;\">\n",
       "      <th></th>\n",
       "      <th>count</th>\n",
       "    </tr>\n",
       "    <tr>\n",
       "      <th>breast_density</th>\n",
       "      <th></th>\n",
       "    </tr>\n",
       "  </thead>\n",
       "  <tbody>\n",
       "    <tr>\n",
       "      <th>3</th>\n",
       "      <td>158</td>\n",
       "    </tr>\n",
       "    <tr>\n",
       "      <th>2</th>\n",
       "      <td>123</td>\n",
       "    </tr>\n",
       "    <tr>\n",
       "      <th>4</th>\n",
       "      <td>121</td>\n",
       "    </tr>\n",
       "    <tr>\n",
       "      <th>1</th>\n",
       "      <td>23</td>\n",
       "    </tr>\n",
       "    <tr>\n",
       "      <th>0</th>\n",
       "      <td>2</td>\n",
       "    </tr>\n",
       "  </tbody>\n",
       "</table>\n",
       "</div>"
      ],
      "text/plain": [
       "                count\n",
       "breast_density       \n",
       "3                 158\n",
       "2                 123\n",
       "4                 121\n",
       "1                  23\n",
       "0                   2"
      ]
     },
     "execution_count": 12,
     "metadata": {},
     "output_type": "execute_result"
    }
   ],
   "source": [
    "df_similar_type['breast_density'].value_counts().to_frame()"
   ]
  },
  {
   "cell_type": "markdown",
   "metadata": {},
   "source": [
    "Statistically, breast densities of 2,3 and 4 are equally probable for malignant PLEOMORPHIC cases. Let's see if calcification distribution is more discriminative."
   ]
  },
  {
   "cell_type": "code",
   "execution_count": 13,
   "metadata": {},
   "outputs": [
    {
     "data": {
      "text/html": [
       "<div>\n",
       "<style scoped>\n",
       "    .dataframe tbody tr th:only-of-type {\n",
       "        vertical-align: middle;\n",
       "    }\n",
       "\n",
       "    .dataframe tbody tr th {\n",
       "        vertical-align: top;\n",
       "    }\n",
       "\n",
       "    .dataframe thead th {\n",
       "        text-align: right;\n",
       "    }\n",
       "</style>\n",
       "<table border=\"1\" class=\"dataframe\">\n",
       "  <thead>\n",
       "    <tr style=\"text-align: right;\">\n",
       "      <th></th>\n",
       "      <th>count</th>\n",
       "    </tr>\n",
       "    <tr>\n",
       "      <th>breast_density</th>\n",
       "      <th></th>\n",
       "    </tr>\n",
       "  </thead>\n",
       "  <tbody>\n",
       "    <tr>\n",
       "      <th>2</th>\n",
       "      <td>2</td>\n",
       "    </tr>\n",
       "    <tr>\n",
       "      <th>0</th>\n",
       "      <td>2</td>\n",
       "    </tr>\n",
       "    <tr>\n",
       "      <th>3</th>\n",
       "      <td>1</td>\n",
       "    </tr>\n",
       "  </tbody>\n",
       "</table>\n",
       "</div>"
      ],
      "text/plain": [
       "                count\n",
       "breast_density       \n",
       "2                   2\n",
       "0                   2\n",
       "3                   1"
      ]
     },
     "execution_count": 13,
     "metadata": {},
     "output_type": "execute_result"
    }
   ],
   "source": [
    "df_similar_dist['breast_density'].value_counts().to_frame()"
   ]
  },
  {
   "cell_type": "markdown",
   "metadata": {},
   "source": [
    "We only have five DIFFUSELY_SCATTERED calcification cases, two of which are our invalid cases. Two cases have breast densities of 2, and another with a value of 3. Not a statistically significant difference in breast densities for DIFFUSELY_SCATTERED calcification cases. Though these invalid observations are relatively, they represent 40% of the DIFFUSELY_SCATTERED calcification cases. We'll attempt to impute these values rather than delete them. "
   ]
  },
  {
   "cell_type": "markdown",
   "metadata": {},
   "source": [
    "#### Invalid Mass Case Analysis\n",
    "The invalid mass cases have subtlety values of zero. Let's take a look at the data."
   ]
  },
  {
   "cell_type": "code",
   "execution_count": 14,
   "metadata": {},
   "outputs": [
    {
     "data": {
      "text/html": [
       "<div>\n",
       "<style scoped>\n",
       "    .dataframe tbody tr th:only-of-type {\n",
       "        vertical-align: middle;\n",
       "    }\n",
       "\n",
       "    .dataframe tbody tr th {\n",
       "        vertical-align: top;\n",
       "    }\n",
       "\n",
       "    .dataframe thead th {\n",
       "        text-align: right;\n",
       "    }\n",
       "</style>\n",
       "<table border=\"1\" class=\"dataframe\">\n",
       "  <thead>\n",
       "    <tr style=\"text-align: right;\">\n",
       "      <th></th>\n",
       "      <th>patient_id</th>\n",
       "      <th>breast_density</th>\n",
       "      <th>left_or_right_breast</th>\n",
       "      <th>image_view</th>\n",
       "      <th>abnormality_id</th>\n",
       "      <th>abnormality_type</th>\n",
       "      <th>calc_type</th>\n",
       "      <th>calc_distribution</th>\n",
       "      <th>assessment</th>\n",
       "      <th>pathology</th>\n",
       "      <th>subtlety</th>\n",
       "      <th>fileset</th>\n",
       "      <th>mass_shape</th>\n",
       "      <th>mass_margins</th>\n",
       "      <th>case_id</th>\n",
       "      <th>cancer</th>\n",
       "    </tr>\n",
       "  </thead>\n",
       "  <tbody>\n",
       "    <tr>\n",
       "      <th>2364</th>\n",
       "      <td>P_00710</td>\n",
       "      <td>2</td>\n",
       "      <td>RIGHT</td>\n",
       "      <td>CC</td>\n",
       "      <td>1</td>\n",
       "      <td>mass</td>\n",
       "      <td>NOT APPLICABLE</td>\n",
       "      <td>NOT APPLICABLE</td>\n",
       "      <td>0</td>\n",
       "      <td>BENIGN</td>\n",
       "      <td>0</td>\n",
       "      <td>train</td>\n",
       "      <td>NaN</td>\n",
       "      <td>NaN</td>\n",
       "      <td>Mass-Train_P_00710_RIGHT_CC_1</td>\n",
       "      <td>False</td>\n",
       "    </tr>\n",
       "    <tr>\n",
       "      <th>2365</th>\n",
       "      <td>P_00710</td>\n",
       "      <td>2</td>\n",
       "      <td>RIGHT</td>\n",
       "      <td>MLO</td>\n",
       "      <td>1</td>\n",
       "      <td>mass</td>\n",
       "      <td>NOT APPLICABLE</td>\n",
       "      <td>NOT APPLICABLE</td>\n",
       "      <td>0</td>\n",
       "      <td>BENIGN</td>\n",
       "      <td>0</td>\n",
       "      <td>train</td>\n",
       "      <td>NaN</td>\n",
       "      <td>NaN</td>\n",
       "      <td>Mass-Train_P_00710_RIGHT_MLO_1</td>\n",
       "      <td>False</td>\n",
       "    </tr>\n",
       "  </tbody>\n",
       "</table>\n",
       "</div>"
      ],
      "text/plain": [
       "     patient_id  breast_density left_or_right_breast image_view  \\\n",
       "2364    P_00710               2                RIGHT         CC   \n",
       "2365    P_00710               2                RIGHT        MLO   \n",
       "\n",
       "      abnormality_id abnormality_type       calc_type calc_distribution  \\\n",
       "2364               1             mass  NOT APPLICABLE    NOT APPLICABLE   \n",
       "2365               1             mass  NOT APPLICABLE    NOT APPLICABLE   \n",
       "\n",
       "      assessment pathology  subtlety fileset mass_shape mass_margins  \\\n",
       "2364           0    BENIGN         0   train        NaN          NaN   \n",
       "2365           0    BENIGN         0   train        NaN          NaN   \n",
       "\n",
       "                             case_id  cancer  \n",
       "2364   Mass-Train_P_00710_RIGHT_CC_1   False  \n",
       "2365  Mass-Train_P_00710_RIGHT_MLO_1   False  "
      ]
     },
     "execution_count": 14,
     "metadata": {},
     "output_type": "execute_result"
    }
   ],
   "source": [
    "dq.get_invalid_data(subset='subtlety')"
   ]
  },
  {
   "cell_type": "markdown",
   "metadata": {},
   "source": [
    "Similarly, these cases are for the same patient. Notably, these cases convey little information: missing mass shape and margins data. In this case deletion would be the best option."
   ]
  },
  {
   "cell_type": "markdown",
   "metadata": {},
   "source": [
    "## DICOM Dataset\n",
    "### Completeness Analysis"
   ]
  },
  {
   "cell_type": "code",
   "execution_count": 15,
   "metadata": {},
   "outputs": [
    {
     "name": "stdout",
     "output_type": "stream",
     "text": [
      "\n",
      "\n",
      "                          Completeness                          \n",
      "                         Dataset | Dicom\n",
      "                        Filename | dicom.csv\n",
      "                         Records | 10238\n",
      "                Complete Records | 10238\n",
      "             Record Completeness | 1.0\n",
      "                     Data Values | 174046\n",
      "            Complete Data Values | 174046\n",
      "         Data Value Completeness | 1.0\n",
      "\n",
      "\n"
     ]
    }
   ],
   "source": [
    "dqd = DicomDQA(filepath=fpd)\n",
    "dqdc = dqd.analyze_completeness()\n",
    "print(dqdc.summary)"
   ]
  },
  {
   "cell_type": "markdown",
   "metadata": {},
   "source": [
    "According to The Cancer Imaging Archive (TCIA), there are 10,230 images in the CBIS-DDSM. Yet, our DICOM Dataset contains 10,703 observations, 464 more than expected at a completeness of 100%. In addition, a corrupt DICOM image file was encountered during data preparation and was skipped. This brings the overage to 465. Could there be some duplication? "
   ]
  },
  {
   "cell_type": "markdown",
   "metadata": {},
   "source": [
    "### Uniqueness Analysis"
   ]
  },
  {
   "cell_type": "code",
   "execution_count": 16,
   "metadata": {},
   "outputs": [
    {
     "name": "stdout",
     "output_type": "stream",
     "text": [
      "\n",
      "\n",
      "                           Uniqueness                           \n",
      "                         Dataset | Dicom\n",
      "                        Filename | dicom.csv\n",
      "                         Records | 10238\n",
      "                  Unique Records | 10238\n",
      "               Record Uniqueness | 1.0\n",
      "                     Data Values | 174046\n",
      "              Unique Data Values | 48750\n",
      "           Data Value Uniqueness | 0.28\n",
      "\n",
      "\n"
     ]
    }
   ],
   "source": [
    "dqdu = dqd.analyze_uniqueness()\n",
    "print(dqdu.summary)"
   ]
  },
  {
   "cell_type": "markdown",
   "metadata": {},
   "source": [
    "As indicated above, we have no duplicate records in the dataset."
   ]
  },
  {
   "cell_type": "markdown",
   "metadata": {},
   "source": [
    "### Validity Analysis"
   ]
  },
  {
   "cell_type": "code",
   "execution_count": 17,
   "metadata": {},
   "outputs": [
    {
     "name": "stdout",
     "output_type": "stream",
     "text": [
      "\n",
      "\n",
      "                            Validity                            \n",
      "                         Dataset | Dicom\n",
      "                        Filename | dicom.csv\n",
      "                         Records | 10238\n",
      "                   Valid Records | 10238\n",
      "                 Record Validity | 1.0\n",
      "                     Data Values | 174046\n",
      "               Valid Data Values | 174046\n",
      "             Data Value Validity | 1.0\n",
      "\n",
      "\n"
     ]
    }
   ],
   "source": [
    "dqdv = dqd.analyze_validity()\n",
    "print(dqdv.summary)"
   ]
  },
  {
   "cell_type": "markdown",
   "metadata": {},
   "source": [
    "The DICOM Dataset has 100% validity. "
   ]
  },
  {
   "cell_type": "markdown",
   "metadata": {},
   "source": [
    "### Summary\n",
    "A brief data quality analysis of the CBIS-DDSM case and DICOM data examined completeness, uniqueness, validity and consistency."
   ]
  },
  {
   "cell_type": "markdown",
   "metadata": {},
   "source": [
    "**Data Preparation Tasks**\n",
    "1. The following observations have zero for breast density, values that will be considered missing:\n",
    "   1. P_01743_RIGHT_calcification_CC_1\n",
    "   2. P_01743_RIGHT_calcification_MLO_1\n",
    "2. For calcification type, we'll perform the following replacements:\n",
    "   1. 'LUCENT_CENTERED' for 'LUCENT_CENTER'\n",
    "   2. 'PLEOMORHIC' for 'PLEOMORHIC-PLEOMORHIC'\n",
    "3. We will use Multivariate Imputation by Chained Equations (MICE) to predict missing and invalid values for the following variables:\n",
    "   1. calc_distribution\n",
    "   2. mass_margins\n",
    "   3. mass shape\n",
    "   4. calc_type\n",
    "   5. breast_density\n",
    "4. The following cases will be deleted from the dataset.\n",
    "   1. P_00710_RIGHT_mass_MLO_1\n",
    "   2. P_00710_RIGHT_mass_CC_1"
   ]
  }
 ],
 "metadata": {
  "kernelspec": {
   "display_name": "bcd",
   "language": "python",
   "name": "python3"
  },
  "language_info": {
   "codemirror_mode": {
    "name": "ipython",
    "version": 3
   },
   "file_extension": ".py",
   "mimetype": "text/x-python",
   "name": "python",
   "nbconvert_exporter": "python",
   "pygments_lexer": "ipython3",
   "version": "3.10.12"
  },
  "orig_nbformat": 4
 },
 "nbformat": 4,
 "nbformat_minor": 2
}
