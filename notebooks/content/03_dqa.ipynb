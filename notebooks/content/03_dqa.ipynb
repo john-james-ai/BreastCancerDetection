{
 "cells": [
  {
   "cell_type": "markdown",
   "metadata": {},
   "source": [
    "# CBIS-DDSM Data Quality Analysis (DQA)\n",
    "In the previous section, we began the process of transforming the raw CBIS-DDSM case and DICOM data into a structure and format more suitable for analysis. The purpose of this effort is to identify potential data quality issues, errors, and anomalies requiring further data preprocessing, prior to the analysis stage. \n",
    "\n",
    "## Datasets\n",
    "The scope of this analysis includes the following datasets:\n",
    "\n",
    "| Dataset             | Description                                        |\n",
    "|---------------------|----------------------------------------------------|\n",
    "| Master Case Dataset | Calcification and mass case training and test sets |\n",
    "| DICOM Dataset       | DICOM Image Metadata                               |\n",
    "\n",
    "### Approach\n",
    "Our approach will touch on four dimensions of data quality.\n",
    "\n",
    "| # | Dimension | Definition | Metric | Metric Definition |\n",
    "|---|----------------|-------------------------------------|----------------|-------------------------------------|\n",
    "| 1 | Completeness | Are the data complete? | Completeness Ratio | Ratio of non-null data values / rows over the total number of data values / rows |\n",
    "| 2 | Uniqueness | Are their duplicate records | Uniqueness Ratio | Ratio of unique data values / rows over total number of data values / rows |\n",
    "| 3 | Validity   | Are the values consistent with defined rules? | Validity Ratio | Ratio of valid cells / rows over total number of data cells / rows |\n",
    "| 4 | Consistency   | Are the data consistent across datasets? | Consistency Ratio | Ratio of consistent data pairs over total data pairs evaluated |\n",
    "\n",
    "Note, accuracy and relevance, two additional dimensions of data quality, are missing from this analysis. An accuracy evaluation requires an external source-of-truth against which, the CBIS-DDSM data are compared. As we lack such a data source, we have no basis for evaluating the accuracy of the CBIS-DDSM data collection. With respect to relevance, duplicate and irrelevant data were removed from the data collection during the previous data preparation exercise."
   ]
  },
  {
   "cell_type": "code",
   "execution_count": 1,
   "metadata": {},
   "outputs": [],
   "source": [
    "import os\n",
    "if 'jbook' in os.getcwd():\n",
    "    os.chdir(os.path.abspath(os.path.join(\"../..\")))\n",
    "\n",
    "import pandas as pd\n",
    "from IPython.display import HTML, display_html\n",
    "import numpy as np\n",
    "\n",
    "from bcd.data.quality.case import CaseDQA\n",
    "from bcd.data.quality.dicom import DicomDQA\n",
    "\n",
    "pd.set_option('display.max_colwidth', 200)"
   ]
  },
  {
   "cell_type": "code",
   "execution_count": 2,
   "metadata": {
    "tags": [
     "remove-input"
    ]
   },
   "outputs": [],
   "source": [
    "# Filepaths\n",
    "fpc = \"data/staged/cases.csv\"\n",
    "fpd = \"data/staged/dicom.csv\""
   ]
  },
  {
   "cell_type": "markdown",
   "metadata": {},
   "source": [
    "## Completeness Analysis"
   ]
  },
  {
   "cell_type": "code",
   "execution_count": 3,
   "metadata": {},
   "outputs": [
    {
     "name": "stdout",
     "output_type": "stream",
     "text": [
      "\n",
      "\n",
      "                          Completeness                          \n",
      "                         Dataset | Cases\n",
      "                        Filename | cases.csv\n",
      "                         Records | 3568\n",
      "                Complete Records | 3043\n",
      "             Record Completeness | 0.853\n",
      "                     Data Values | 57088\n",
      "            Complete Data Values | 56561\n",
      "         Data Value Completeness | 0.991\n",
      "\n",
      " "
     ]
    }
   ],
   "source": [
    "dq = CaseDQA(filepath=fpc)\n",
    "dqc = dq.analyze_completeness()\n",
    "print(dqc.summary, end=\" \")\n"
   ]
  },
  {
   "cell_type": "markdown",
   "metadata": {},
   "source": [
    "Record and data value completeness are 0.85 and 0.99 respectively. Let's take a closer look."
   ]
  },
  {
   "cell_type": "code",
   "execution_count": 5,
   "metadata": {},
   "outputs": [
    {
     "data": {
      "text/html": [
       "<div>\n",
       "<style scoped>\n",
       "    .dataframe tbody tr th:only-of-type {\n",
       "        vertical-align: middle;\n",
       "    }\n",
       "\n",
       "    .dataframe tbody tr th {\n",
       "        vertical-align: top;\n",
       "    }\n",
       "\n",
       "    .dataframe thead th {\n",
       "        text-align: right;\n",
       "    }\n",
       "</style>\n",
       "<table border=\"1\" class=\"dataframe\">\n",
       "  <thead>\n",
       "    <tr style=\"text-align: right;\">\n",
       "      <th></th>\n",
       "      <th>N</th>\n",
       "      <th>Complete</th>\n",
       "      <th>Missing</th>\n",
       "      <th>Completeness</th>\n",
       "    </tr>\n",
       "  </thead>\n",
       "  <tbody>\n",
       "    <tr>\n",
       "      <th>patient_id</th>\n",
       "      <td>3568</td>\n",
       "      <td>3568</td>\n",
       "      <td>0</td>\n",
       "      <td>1.00</td>\n",
       "    </tr>\n",
       "    <tr>\n",
       "      <th>breast_density</th>\n",
       "      <td>3568</td>\n",
       "      <td>3568</td>\n",
       "      <td>0</td>\n",
       "      <td>1.00</td>\n",
       "    </tr>\n",
       "    <tr>\n",
       "      <th>left_or_right_breast</th>\n",
       "      <td>3568</td>\n",
       "      <td>3568</td>\n",
       "      <td>0</td>\n",
       "      <td>1.00</td>\n",
       "    </tr>\n",
       "    <tr>\n",
       "      <th>image_view</th>\n",
       "      <td>3568</td>\n",
       "      <td>3568</td>\n",
       "      <td>0</td>\n",
       "      <td>1.00</td>\n",
       "    </tr>\n",
       "    <tr>\n",
       "      <th>abnormality_id</th>\n",
       "      <td>3568</td>\n",
       "      <td>3568</td>\n",
       "      <td>0</td>\n",
       "      <td>1.00</td>\n",
       "    </tr>\n",
       "    <tr>\n",
       "      <th>abnormality_type</th>\n",
       "      <td>3568</td>\n",
       "      <td>3568</td>\n",
       "      <td>0</td>\n",
       "      <td>1.00</td>\n",
       "    </tr>\n",
       "    <tr>\n",
       "      <th>calc_type</th>\n",
       "      <td>3568</td>\n",
       "      <td>3544</td>\n",
       "      <td>24</td>\n",
       "      <td>0.99</td>\n",
       "    </tr>\n",
       "    <tr>\n",
       "      <th>calc_distribution</th>\n",
       "      <td>3568</td>\n",
       "      <td>3129</td>\n",
       "      <td>439</td>\n",
       "      <td>0.88</td>\n",
       "    </tr>\n",
       "    <tr>\n",
       "      <th>assessment</th>\n",
       "      <td>3568</td>\n",
       "      <td>3568</td>\n",
       "      <td>0</td>\n",
       "      <td>1.00</td>\n",
       "    </tr>\n",
       "    <tr>\n",
       "      <th>pathology</th>\n",
       "      <td>3568</td>\n",
       "      <td>3568</td>\n",
       "      <td>0</td>\n",
       "      <td>1.00</td>\n",
       "    </tr>\n",
       "    <tr>\n",
       "      <th>subtlety</th>\n",
       "      <td>3568</td>\n",
       "      <td>3568</td>\n",
       "      <td>0</td>\n",
       "      <td>1.00</td>\n",
       "    </tr>\n",
       "    <tr>\n",
       "      <th>fileset</th>\n",
       "      <td>3568</td>\n",
       "      <td>3568</td>\n",
       "      <td>0</td>\n",
       "      <td>1.00</td>\n",
       "    </tr>\n",
       "    <tr>\n",
       "      <th>mass_shape</th>\n",
       "      <td>3568</td>\n",
       "      <td>3564</td>\n",
       "      <td>4</td>\n",
       "      <td>1.00</td>\n",
       "    </tr>\n",
       "    <tr>\n",
       "      <th>mass_margins</th>\n",
       "      <td>3568</td>\n",
       "      <td>3508</td>\n",
       "      <td>60</td>\n",
       "      <td>0.98</td>\n",
       "    </tr>\n",
       "    <tr>\n",
       "      <th>case_id</th>\n",
       "      <td>3568</td>\n",
       "      <td>3568</td>\n",
       "      <td>0</td>\n",
       "      <td>1.00</td>\n",
       "    </tr>\n",
       "    <tr>\n",
       "      <th>cancer</th>\n",
       "      <td>3568</td>\n",
       "      <td>3568</td>\n",
       "      <td>0</td>\n",
       "      <td>1.00</td>\n",
       "    </tr>\n",
       "  </tbody>\n",
       "</table>\n",
       "</div>"
      ],
      "text/plain": [
       "                         N  Complete  Missing  Completeness\n",
       "patient_id            3568      3568        0          1.00\n",
       "breast_density        3568      3568        0          1.00\n",
       "left_or_right_breast  3568      3568        0          1.00\n",
       "image_view            3568      3568        0          1.00\n",
       "abnormality_id        3568      3568        0          1.00\n",
       "abnormality_type      3568      3568        0          1.00\n",
       "calc_type             3568      3544       24          0.99\n",
       "calc_distribution     3568      3129      439          0.88\n",
       "assessment            3568      3568        0          1.00\n",
       "pathology             3568      3568        0          1.00\n",
       "subtlety              3568      3568        0          1.00\n",
       "fileset               3568      3568        0          1.00\n",
       "mass_shape            3568      3564        4          1.00\n",
       "mass_margins          3568      3508       60          0.98\n",
       "case_id               3568      3568        0          1.00\n",
       "cancer                3568      3568        0          1.00"
      ]
     },
     "execution_count": 5,
     "metadata": {},
     "output_type": "execute_result"
    }
   ],
   "source": [
    "dqc.detail"
   ]
  },
  {
   "cell_type": "markdown",
   "metadata": {},
   "source": [
    "Missingness for calc_type, mass_shape, and mass_margins is 1%, < 1%, and 2% respectively. Strictly speaking, we could drop those observations without a considerable loss of data. On the other hand, calc_distribution missingness deserves a closer look. Let's examine missingness vis-a-vis the pathology target. "
   ]
  },
  {
   "cell_type": "code",
   "execution_count": 7,
   "metadata": {},
   "outputs": [
    {
     "data": {
      "text/html": [
       "<div>\n",
       "<style scoped>\n",
       "    .dataframe tbody tr th:only-of-type {\n",
       "        vertical-align: middle;\n",
       "    }\n",
       "\n",
       "    .dataframe tbody tr th {\n",
       "        vertical-align: top;\n",
       "    }\n",
       "\n",
       "    .dataframe thead th {\n",
       "        text-align: right;\n",
       "    }\n",
       "</style>\n",
       "<table border=\"1\" class=\"dataframe\">\n",
       "  <thead>\n",
       "    <tr style=\"text-align: right;\">\n",
       "      <th></th>\n",
       "      <th>count</th>\n",
       "    </tr>\n",
       "    <tr>\n",
       "      <th>pathology</th>\n",
       "      <th></th>\n",
       "    </tr>\n",
       "  </thead>\n",
       "  <tbody>\n",
       "    <tr>\n",
       "      <th>BENIGN_WITHOUT_CALLBACK</th>\n",
       "      <td>434</td>\n",
       "    </tr>\n",
       "    <tr>\n",
       "      <th>BENIGN</th>\n",
       "      <td>5</td>\n",
       "    </tr>\n",
       "  </tbody>\n",
       "</table>\n",
       "</div>"
      ],
      "text/plain": [
       "                         count\n",
       "pathology                     \n",
       "BENIGN_WITHOUT_CALLBACK    434\n",
       "BENIGN                       5"
      ]
     },
     "execution_count": 7,
     "metadata": {},
     "output_type": "execute_result"
    }
   ],
   "source": [
    "dq.get_incomplete_data(subset='calc_distribution')['pathology'].value_counts().to_frame()"
   ]
  },
  {
   "cell_type": "markdown",
   "metadata": {},
   "source": [
    "This is interesting. Over 98% of the records with missing calcification distribution have a pathology of BENIGN_WITHOUT_CALLBACK. This suggests that the calcification distribution data are Missing at Random (MAR). That is, the probability of encountering missing calcification distribution may be systematically related to a benign pathology. As the missingness seems to be related to *observed* data, the multiple imputation by chained equations (MICE) {cite}`schaferMultipleImputationPrimer1999` is a principled method for dealing with such missing data while mitigating data loss and bias in the dataset.\n",
    "\n",
    "Let's move on to the uniqueness analysis."
   ]
  },
  {
   "cell_type": "markdown",
   "metadata": {},
   "source": [
    "### Uniqueness Analysis"
   ]
  },
  {
   "cell_type": "code",
   "execution_count": 8,
   "metadata": {},
   "outputs": [
    {
     "name": "stdout",
     "output_type": "stream",
     "text": [
      "\n",
      "\n",
      "                           Uniqueness                           \n",
      "                         Dataset | Cases\n",
      "                        Filename | cases.csv\n",
      "                         Records | 3568\n",
      "                  Unique Records | 3568\n",
      "               Record Uniqueness | 1.0\n",
      "                     Data Values | 57088\n",
      "              Unique Data Values | 5270\n",
      "           Data Value Uniqueness | 0.092\n",
      "\n",
      "\n"
     ]
    }
   ],
   "source": [
    "dqu = dq.analyze_uniqueness()\n",
    "print(dqu.summary)"
   ]
  },
  {
   "cell_type": "markdown",
   "metadata": {},
   "source": [
    "No duplicate records exist in the data."
   ]
  },
  {
   "cell_type": "markdown",
   "metadata": {},
   "source": [
    "### Validity Analysis\n",
    "Here, we assess the degree to which the datasets contain valid values. "
   ]
  },
  {
   "cell_type": "code",
   "execution_count": 9,
   "metadata": {},
   "outputs": [
    {
     "name": "stdout",
     "output_type": "stream",
     "text": [
      "\n",
      "\n",
      "                            Validity                            \n",
      "                         Dataset | Cases\n",
      "                        Filename | cases.csv\n",
      "                         Records | 3568\n",
      "                   Valid Records | 3009\n",
      "                 Record Validity | 0.843\n",
      "                     Data Values | 57088\n",
      "               Valid Data Values | 56360\n",
      "             Data Value Validity | 0.987\n",
      "\n",
      "\n"
     ]
    }
   ],
   "source": [
    "dqv = dq.analyze_validity()\n",
    "print(dqv.summary)"
   ]
  },
  {
   "cell_type": "markdown",
   "metadata": {},
   "source": [
    "Record and data value validity are 0.84 and 0.99, respectively. Note, missing data will have an impact on record validity. Still, let's take a closer look at the invalid data. "
   ]
  },
  {
   "cell_type": "code",
   "execution_count": null,
   "metadata": {},
   "outputs": [],
   "source": [
    "dqv.detail"
   ]
  },
  {
   "cell_type": "markdown",
   "metadata": {},
   "source": [
    "Calcification cases have 439 invalid distributions, 221 invalid types, and 2 invalid values for breast density. The invalid distribution cases are the missing values identified above. For calcification_type, we have only 24 missing values. This means that 197 values for calcification_type  are invalid. For the mass cases, the invalid mass_margins match the missing values from above. Let's take a closer look at the calcification type and breast density values in the calcification dataset, and the subtlety in the mass dataset."
   ]
  },
  {
   "cell_type": "markdown",
   "metadata": {},
   "source": [
    "#### Invalid Calcification Case Analysis"
   ]
  },
  {
   "cell_type": "markdown",
   "metadata": {},
   "source": [
    "##### Invalid Calcification Types\n",
    "Let's look at the invalid values for calcification type."
   ]
  },
  {
   "cell_type": "code",
   "execution_count": null,
   "metadata": {},
   "outputs": [],
   "source": [
    "dqc.get_invalid_data(subset='calc_type')['calc_type'].unique()"
   ]
  },
  {
   "cell_type": "markdown",
   "metadata": {},
   "source": [
    "A common thread among these invalid values is the type, 'LUCENT_CENTER', which should be 'LUCENT_CENTERED'. The other exception is the value 'PLEOMORPHIC-PLEOMORPHIC', which should be 'PLEOMORPHIC'. We'll make those changes in the next section. Now, the invalid breast density records."
   ]
  },
  {
   "cell_type": "code",
   "execution_count": null,
   "metadata": {},
   "outputs": [],
   "source": [
    "dqc.get_invalid_data(subset='breast_density')"
   ]
  },
  {
   "cell_type": "markdown",
   "metadata": {},
   "source": [
    "Both observations with breast density values of zero, are for the same patient. Let's see what densities we have for similar malignant calcification cases."
   ]
  },
  {
   "cell_type": "code",
   "execution_count": null,
   "metadata": {},
   "outputs": [],
   "source": [
    "df = dqc.get_complete_data()\n",
    "df_similar_type = df.loc[(df['calc_type'] == 'PLEOMORPHIC') & (df['cancer'] == True)]\n",
    "df_similar_dist = df.loc[(df['calc_distribution'] == 'DIFFUSELY_SCATTERED') & (df['cancer'] == True)]\n"
   ]
  },
  {
   "cell_type": "markdown",
   "metadata": {},
   "source": [
    "The breast density counts below are for PLEOMORPHIC calcification cases."
   ]
  },
  {
   "cell_type": "code",
   "execution_count": null,
   "metadata": {},
   "outputs": [],
   "source": [
    "df_similar_type['breast_density'].value_counts().to_frame()"
   ]
  },
  {
   "cell_type": "markdown",
   "metadata": {},
   "source": [
    "Statistically, breast densities of 2,3 and 4 are equally probable for malignant PLEOMORPHIC cases. Let's see if calcification distribution is more discriminative."
   ]
  },
  {
   "cell_type": "code",
   "execution_count": null,
   "metadata": {},
   "outputs": [],
   "source": [
    "df_similar_dist['breast_density'].value_counts().to_frame()"
   ]
  },
  {
   "cell_type": "markdown",
   "metadata": {},
   "source": [
    "We only have five DIFFUSELY_SCATTERED calcification cases, two of which have invalid values, two have a breast densities of 2, and another with a value of 3. Not a statistically significant difference in breast densities for DIFFUSELY_SCATTERED calcification cases. Though these invalid observations are relatively, they represent 40% of the DIFFUSELY_SCATTERED calcification cases. We'll attempt to impute these values rather than delete them. "
   ]
  },
  {
   "cell_type": "markdown",
   "metadata": {},
   "source": [
    "#### Invalid Mass Case Analysis\n",
    "The invalid mass cases have subtlety values of zero. Let's take a look at the data."
   ]
  },
  {
   "cell_type": "code",
   "execution_count": null,
   "metadata": {},
   "outputs": [],
   "source": [
    "dqm.get_invalid_data(subset='subtlety')"
   ]
  },
  {
   "cell_type": "markdown",
   "metadata": {},
   "source": [
    "Similarly, these cases are for the same patient. Notably, these cases convey little information: missing mass shape and margins data. In this case deletion would be the best option."
   ]
  },
  {
   "cell_type": "markdown",
   "metadata": {},
   "source": [
    "## DICOM Dataset\n",
    "### Completeness Analysis"
   ]
  },
  {
   "cell_type": "code",
   "execution_count": null,
   "metadata": {},
   "outputs": [],
   "source": [
    "dqd = DicomDQA(filepath=fpd)\n",
    "dqdc = dqd.analyze_completeness()\n",
    "print(dqdc.summary)"
   ]
  },
  {
   "cell_type": "markdown",
   "metadata": {},
   "source": [
    "According to The Cancer Imaging Archive (TCIA), there are 10,230 images in the CBIS-DDSM. Yet, our DICOM Dataset contains 10,703 observations, 464 more than expected at a completeness of 100%. In addition, a corrupt DICOM image file was encountered during data preparation and was skipped. This brings the overage to 465. Could there be some duplication? "
   ]
  },
  {
   "cell_type": "markdown",
   "metadata": {},
   "source": [
    "### Uniqueness Analysis"
   ]
  },
  {
   "cell_type": "code",
   "execution_count": null,
   "metadata": {},
   "outputs": [],
   "source": [
    "dqdu = dqd.analyze_uniqueness()\n",
    "print(dqdu.summary)"
   ]
  },
  {
   "cell_type": "markdown",
   "metadata": {},
   "source": [
    "As indicated above, we have no duplicate records in the dataset."
   ]
  },
  {
   "cell_type": "markdown",
   "metadata": {},
   "source": [
    "### Validity Analysis"
   ]
  },
  {
   "cell_type": "code",
   "execution_count": null,
   "metadata": {},
   "outputs": [],
   "source": [
    "dqdv = dqd.analyze_validity()\n",
    "print(dqdv.summary)"
   ]
  },
  {
   "cell_type": "markdown",
   "metadata": {},
   "source": [
    "The DICOM Dataset has 100% validity. "
   ]
  },
  {
   "cell_type": "markdown",
   "metadata": {},
   "source": [
    "### Consistency Analysis\n",
    "Both the case datasets and the DICOM image dataset contain patient_id, side, and image_view. Next, we confirm that these variables are consistent between the case and the DICOM datasets. "
   ]
  },
  {
   "cell_type": "code",
   "execution_count": null,
   "metadata": {},
   "outputs": [],
   "source": [
    "dqdcy = dqd.analyze_consistency()\n",
    "print(dqdcy.summary)"
   ]
  },
  {
   "cell_type": "markdown",
   "metadata": {},
   "source": [
    "These data show that the case information are consistent between the case and DICOM Datasets. \n",
    "\n",
    "### Summary\n",
    "A brief data quality analysis of the CBIS-DDSM case and DICOM data examined completeness, uniqueness, validity and consistency. The results are summarized below."
   ]
  },
  {
   "cell_type": "code",
   "execution_count": null,
   "metadata": {
    "tags": [
     "remove-input"
    ]
   },
   "outputs": [],
   "source": [
    "data = [0.753, 0.963, 1,1, 1, 1, 0.752, 0.963, 1, 1]\n",
    "datasets = ['MASS Cases', 'Calc Cases', 'DICOM Dataset','MASS Cases', 'Calc Cases', 'DICOM Dataset','MASS Cases', 'Calc Cases', 'DICOM Dataset','DICOM Dataset']\n",
    "dimension = [\"Completeness\",\"Completeness\",\"Completeness\",\"Uniqueness\",\"Uniqueness\",\"Uniqueness\",\"Validity\",\"Validity\",\"Validity\",\"Consistency\"]\n",
    "d = {'Dimension': dimension, 'Dataset': datasets, 'Value': data, }\n",
    "df = pd.DataFrame(d)\n",
    "df.set_index(['Dimension', 'Dataset'])"
   ]
  },
  {
   "cell_type": "markdown",
   "metadata": {},
   "source": [
    "**Data Preparation Tasks**\n",
    "1. The following observations have zero for breast density, values that will be considered missing:\n",
    "   1. P_01743_RIGHT_calcification_CC_1\n",
    "   2. P_01743_RIGHT_calcification_MLO_1\n",
    "2. For calcification type, we'll perform the following replacements:\n",
    "   1. 'LUCENT_CENTERED' for 'LUCENT_CENTER'\n",
    "   2. 'PLEOMORHIC' for 'PLEOMORHIC-PLEOMORHIC'\n",
    "3. We will use Multivariate Imputation by Chained Equations (MICE) to predict missing and invalid values for the following variables:\n",
    "   1. calc_distribution\n",
    "   2. mass_margins\n",
    "   3. mass shape\n",
    "   4. calc_type\n",
    "   5. breast_density\n",
    "4. The following cases will be deleted from the dataset.\n",
    "   1. P_00710_RIGHT_mass_MLO_1\n",
    "   2. P_00710_RIGHT_mass_CC_1"
   ]
  }
 ],
 "metadata": {
  "kernelspec": {
   "display_name": "bcd",
   "language": "python",
   "name": "python3"
  },
  "language_info": {
   "codemirror_mode": {
    "name": "ipython",
    "version": 3
   },
   "file_extension": ".py",
   "mimetype": "text/x-python",
   "name": "python",
   "nbconvert_exporter": "python",
   "pygments_lexer": "ipython3",
   "version": "3.10.12"
  },
  "orig_nbformat": 4
 },
 "nbformat": 4,
 "nbformat_minor": 2
}
