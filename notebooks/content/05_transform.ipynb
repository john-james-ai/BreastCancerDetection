{
 "cells": [
  {
   "cell_type": "markdown",
   "metadata": {},
   "source": [
    "# CBIS-DDSM Data Transformation\n",
    "Our aim here is to prepare the meta datasets for modeling to be conducted as part of the multivariate exploratory data analysis.\n",
    "\n",
    "The CBIS-DDSM has 45 calcification types, 9 calcification distributions, 20 mass shapes, and 19 mass margins, many of which are compound categories, in that two or more categories are combined. For instance, calcification type 'ROUND_AND_REGULAR-PUNCTATE-AMORPHOUS' indicates three different types: 'ROUND_AND_REGULAR', 'PUNCTATE', and 'AMORPHOUS'. Segregating these compound categories into separate categories will drastically reduce the number of categories to analyze. More importantly, it aligns our data and the analyses with the common morphological taxonomy. So, task one is to extract the unary morphological categories from the compound classifications.  \n",
    "\n",
    "Once the unary categories are extracted, all nominal variables will be dummy encoded to values in [0,1]. Then, all model variables will be standardized to zero mean and unit variance. \n"
   ]
  },
  {
   "cell_type": "code",
   "execution_count": 1,
   "metadata": {},
   "outputs": [],
   "source": [
    "import os\n",
    "if 'jbook' in os.getcwd():\n",
    "    os.chdir(os.path.abspath(os.path.join(\"../..\")))\n",
    "\n",
    "import pandas as pd\n",
    "import numpy as np\n",
    "\n",
    "from bcd.prep.case import CaseTransformer\n",
    "pd.options.display.max_columns = 99"
   ]
  },
  {
   "cell_type": "code",
   "execution_count": 2,
   "metadata": {},
   "outputs": [],
   "source": [
    "FP_CASES_CLEAN = \"data/meta/2_clean/cases.csv\"\n",
    "FP_CASES_COOKED = \"data/meta/3_cooked/cases.csv\""
   ]
  },
  {
   "cell_type": "code",
   "execution_count": 4,
   "metadata": {},
   "outputs": [
    {
     "name": "stdout",
     "output_type": "stream",
     "text": [
      "<class 'pandas.core.frame.DataFrame'>\n",
      "RangeIndex: 3566 entries, 0 to 3565\n",
      "Data columns (total 53 columns):\n",
      " #   Column                       Non-Null Count  Dtype \n",
      "---  ------                       --------------  ----- \n",
      " 0   patient_id                   3566 non-null   object\n",
      " 1   breast_density               3566 non-null   int64 \n",
      " 2   left_or_right_breast         3566 non-null   object\n",
      " 3   image_view                   3566 non-null   object\n",
      " 4   abnormality_id               3566 non-null   int64 \n",
      " 5   abnormality_type             3566 non-null   object\n",
      " 6   calc_type                    3566 non-null   object\n",
      " 7   calc_distribution            3566 non-null   object\n",
      " 8   assessment                   3566 non-null   int64 \n",
      " 9   pathology                    3566 non-null   object\n",
      " 10  subtlety                     3566 non-null   int64 \n",
      " 11  fileset                      3566 non-null   object\n",
      " 12  mass_shape                   3566 non-null   object\n",
      " 13  mass_margins                 3566 non-null   object\n",
      " 14  case_id                      3566 non-null   object\n",
      " 15  cancer                       3566 non-null   int64 \n",
      " 16  AT_calcification             3566 non-null   int64 \n",
      " 17  AT_mass                      3566 non-null   int64 \n",
      " 18  LR_LEFT                      3566 non-null   int64 \n",
      " 19  LR_RIGHT                     3566 non-null   int64 \n",
      " 20  IV_CC                        3566 non-null   int64 \n",
      " 21  IV_MLO                       3566 non-null   int64 \n",
      " 22  CT_AMORPHOUS                 3566 non-null   int64 \n",
      " 23  CT_COARSE                    3566 non-null   int64 \n",
      " 24  CT_DYSTROPHIC                3566 non-null   int64 \n",
      " 25  CT_EGGSHELL                  3566 non-null   int64 \n",
      " 26  CT_FINE_LINEAR_BRANCHING     3566 non-null   int64 \n",
      " 27  CT_LARGE_RODLIKE             3566 non-null   int64 \n",
      " 28  CT_LUCENT_CENTERED           3566 non-null   int64 \n",
      " 29  CT_MILK_OF_CALCIUM           3566 non-null   int64 \n",
      " 30  CT_PLEOMORPHIC               3566 non-null   int64 \n",
      " 31  CT_PUNCTATE                  3566 non-null   int64 \n",
      " 32  CT_ROUND_AND_REGULAR         3566 non-null   int64 \n",
      " 33  CT_SKIN                      3566 non-null   int64 \n",
      " 34  CT_VASCULAR                  3566 non-null   int64 \n",
      " 35  CD_CLUSTERED                 3566 non-null   int64 \n",
      " 36  CD_LINEAR                    3566 non-null   int64 \n",
      " 37  CD_REGIONAL                  3566 non-null   int64 \n",
      " 38  CD_DIFFUSELY_SCATTERED       3566 non-null   int64 \n",
      " 39  CD_SEGMENTAL                 3566 non-null   int64 \n",
      " 40  MS_IRREGULAR                 3566 non-null   int64 \n",
      " 41  MS_ARCHITECTURAL_DISTORTION  3566 non-null   int64 \n",
      " 42  MS_OVAL                      3566 non-null   int64 \n",
      " 43  MS_LYMPH_NODE                3566 non-null   int64 \n",
      " 44  MS_LOBULATED                 3566 non-null   int64 \n",
      " 45  MS_FOCAL_ASYMMETRIC_DENSITY  3566 non-null   int64 \n",
      " 46  MS_ROUND                     3566 non-null   int64 \n",
      " 47  MS_ASYMMETRIC_BREAST_TISSUE  3566 non-null   int64 \n",
      " 48  MM_SPICULATED                3566 non-null   int64 \n",
      " 49  MM_ILL_DEFINED               3566 non-null   int64 \n",
      " 50  MM_CIRCUMSCRIBED             3566 non-null   int64 \n",
      " 51  MM_OBSCURED                  3566 non-null   int64 \n",
      " 52  MM_MICROLOBULATED            3566 non-null   int64 \n",
      "dtypes: int64(42), object(11)\n",
      "memory usage: 1.4+ MB\n"
     ]
    }
   ],
   "source": [
    "x4mr = CaseTransformer(source_fp=FP_CASES_CLEAN, destination_fp=FP_CASES_COOKED)\n",
    "df = x4mr.transform()\n",
    "df.info()\n"
   ]
  }
 ],
 "metadata": {
  "kernelspec": {
   "display_name": "bcd",
   "language": "python",
   "name": "python3"
  },
  "language_info": {
   "codemirror_mode": {
    "name": "ipython",
    "version": 3
   },
   "file_extension": ".py",
   "mimetype": "text/x-python",
   "name": "python",
   "nbconvert_exporter": "python",
   "pygments_lexer": "ipython3",
   "version": "3.10.12"
  },
  "orig_nbformat": 4
 },
 "nbformat": 4,
 "nbformat_minor": 2
}
