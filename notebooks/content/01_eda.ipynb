{
 "cells": [
  {
   "cell_type": "markdown",
   "id": "2ea35d24",
   "metadata": {},
   "source": [
    "# Exploratory Data Analysis of the **CBIS-DDSM** Dataset\n",
    "## CBIS-DDSM Dataset\n",
    "\n",
    "Developed in 1997 through a grant from the DOD Breast Cancer Research Program and the US Army Research and Material Command, the *original* Digital Database for Screening Mammography (DDSM) {cite}`USFDigitalMammography` is a collection of 2620 cases obtained by patient consent from Massachusetts General Hospital, Wake Forest University School of Medicine, Sacred Heart Hospital, and Washington University of St. Louis School of Medicine. Its cases are annotated with ROIs for calcifications and masses, they include Breast Imaging Reporting and Data System (BI-RADS) descriptors for mass shape, mass margin, calcification type, calcification distribution, and breast density. They also include overall BI-RADS assessments from 0 to 5 and ratings of the subtlety of the abnormalities from 1 to 5.\n",
    "\n",
    "The DDSM, a powerful and extensively used resource for imaging research, presented certain challenges that limited its accessibility and utility.  For instance, the original DDSM was saved in lossless JPEG files (LJPEG); a non-standard, and obsolete compression format. Regions of interest marked the general area of legions; but, lacked the specificity of precise image segmentation, requiring researchers to implement segmentation algorithms for accurate feature extraction. Some annotations marked legions that could not be seen. Further, the metadata processing and image correction routines distributed with the dataset were a set of bash and C routines that were difficult to refactor.\n",
    "This Curated Breast Imaging Subset of DDSM (CBIS-DDSM) {cite}`leeCuratedMammographyData2017` is an updated and standardized version of the original DDSM, developed to address some of the challenges. In particular, the questionable annotations were reviewed by a trained mammographer, and 254 images were removed from the dataset. The images were converted from PVRG-JPEG to 8-bit raw binary bitmaps. Python tools were developed to convert the 8-bit images to 16-bit grayscale TIFF files, which were later converted to DICOM. The bash and C preprocessing tools were re-implemented in Python to be cross-platform. Convenience images were cropped around the region of interest for researchers analyzing only the abnormalities. Precise segmentation was applied to the calcification images providing much more accurate regions of interest, and the data were split into training and test sets, based on the BIRADS category to support method evaluation and reproducibility.\n",
    "\n",
    "### Dataset Statistics\n",
    "CBIS-DDSM was obtained from the Cancer Imaging Archive {cite}`sawyer-leeCuratedBreastImaging2016` and is summarized below:\n",
    "```{table} CBIS-DDSM Statistics\n",
    "\n",
    "| Collection Statistics  |        |\n",
    "| ---------------------- | ------ |\n",
    "| Image Size (GB)        | 163.6  |\n",
    "| Modalities             | MG     |\n",
    "| Number of Images       | 10239  |\n",
    "| Number of Participants | 1,566  |\n",
    "| Number of Series       | 6775   |\n",
    "| Number of Studies      | 6775   |\n",
    "```\n",
    "\n",
    "The CBIS-DDSM data were split into training and test (20%), sets based on BI-RADS category. Splitting by abnormality type, 20% of the cases were allocated to the test sets and the remaining were designated for training.\n",
    "\n",
    "```{table} Number of Cases and Abnormalities in the Training and Test Sets.\n",
    "\n",
    "| Dataset                    | Benign Cases                  | Malignant Cases               |\n",
    "|----------------------------|-------------------------------|-------------------------------|\n",
    "| Calcification Training Set | 329 Cases (552 Abnormalities) | 273 Cases (304 Abnormalities) |\n",
    "| Calcification Test Set     | 85 Cases (112 Abnormalities)  | 66 Cases (77 Abnormalities)   |\n",
    "| Mass Training Set          | 355 Cases (387 Abnormalities) | 336 Cases (361 Abnormalities) |\n",
    "| Mass Test Set              | 117 Cases (135 Abnormalities) | 83 Cases (87 Abnormalities)   |\n",
    "```\n",
    "### Dataset Organization\n",
    "The following files contain the mammography and ROIs for the cases with calcifications.\n",
    "\n",
    "```{table} Files Containing Mammography and ROIs for Calcification Cases\n",
    "\n",
    "| Type   | Filename                             | Format |\n",
    "| ------ | ------------------------------------ | ------ |\n",
    "| Images | Calc-Test Full Mammogram Images      | DICOM  |\n",
    "| Images | Calc-Test ROI and Cropped Images     | DICOM  |\n",
    "| Images | Calc-Training Full Mammogram Images  | DICOM  |\n",
    "| Images | Calc-Training ROI and Cropped Images | DICOM  |\n",
    "```\n",
    "\n",
    "The following files contain the mammography and ROIs for the mass cases.\n",
    "\n",
    "```{table} Files Containing Mammography and ROIs for Mass Cases\n",
    "\n",
    "\n",
    "| Type   | Filename                             | Format |\n",
    "| ------ | ------------------------------------ | ------ |\n",
    "| Images | Mass-Test Full Mammogram Images      | DICOM  |\n",
    "| Images | Mass-Test ROI and Cropped Images     | DICOM  |\n",
    "| Images | Mass-Training Full Mammogram Images  | DICOM  |\n",
    "| Images | Mass-Training ROI and Cropped Images | DICOM  |\n",
    "```\n",
    "\n",
    "There are separate metadata files for the train and test calcification and mass cases.\n",
    "```{table} Metadata Files\n",
    "\n",
    "\n",
    "| Type     | Filename                  | Format |\n",
    "| -------- | ------------------------- | ------ |\n",
    "| Metadata | Calc-Test-Description     | csv    |\n",
    "| Metadata | Calc-Training-Description | csv    |\n",
    "| Metadata | Mass-Test-Description     | csv    |\n",
    "| Metadata | Mass-Training-Description | csv    |\n",
    "```\n",
    "\n",
    "Metadata for each abnormality above contains:\n",
    "\n",
    "- Patient ID: the first 7 characters of images in the case file*\n",
    "- Density category\n",
    "- Breast: Left or Right\n",
    "- View: CC or MLO\n",
    "- Number of abnormality for the image (This is necessary as there are some cases containing multiple abnormalities.)\n",
    "- Mass shape (when applicable)\n",
    "- Mass margin (when applicable)\n",
    "- Calcification type (when applicable)\n",
    "- Calcification distribution (when applicable)\n",
    "- BI-RADS assessment\n",
    "- Pathology: Benign, Benign without call-back, or Malignant\n",
    "- Subtlety rating: Radiologists’ rating of difficulty in viewing the abnormality in the image\n",
    "- Path to image files\n",
    "\n",
    "Note, the data are structured such that a single participant has multiple patient IDs in the DICOM Metadata."
   ]
  },
  {
   "cell_type": "code",
   "execution_count": 1,
   "id": "ca899b2b",
   "metadata": {
    "tags": [
     "hide-cell"
    ]
   },
   "outputs": [],
   "source": [
    "import sys\n",
    "import os\n",
    "os.chdir(os.path.abspath(os.path.join(\"../..\")))\n",
    "import warnings\n",
    "warnings.filterwarnings(\"ignore\")\n",
    "from tqdm import tqdm\n",
    "import pandas as pd\n",
    "import numpy as np\n",
    "import matplotlib.pyplot as plt\n",
    "import seaborn as sns\n",
    "import pydicom\n",
    "from PIL import Image\n",
    "from bcd.data.dataset import CBISMeta\n",
    "sns.set_style('whitegrid')\n",
    "sns.set_palette(\"Blues_r\")"
   ]
  },
  {
   "cell_type": "markdown",
   "id": "fd1c88a6",
   "metadata": {},
   "source": [
    "## Exploratory Data Analysis Plan\n",
    "Here, we'll put forward a set of questions and an approach to guide the analysis and discovery.\n",
    "### Exploratory and Guiding Questions\n",
    "> “Far better an approximate answer to the right question, which is often vague, than an exact answer to the wrong question,\n",
    "which can always be made precise.” — John Tukey\n",
    "\n",
    "We'll begin our exploration with questions to guide the process.\n",
    "\n",
    "1. Density is considered a potential signal of pathology. How does density relate to pathology in the CBIS-DDSM dataset?\n",
    "2. Does density and abnormality type relate?\n",
    "3. What does density and abnormality type indicate w.r.t pathology?\n",
    "4. Which abnormality type is most malignant in the dataset?\n",
    "5. Which abnormality type is more subtle? \n",
    "\n",
    "Regarding Calcifications: \n",
    "1. What does density, calcification type and distribution imply about subtlety, and pathology?\n",
    "2. How does calcification type relate to subtlety? pathology?\n",
    "3. What does calcification distribution relate to subtlety, pathology?\n",
    "\n",
    "For masses:\n",
    "1. What does density, mass shape and margin imply about subtlety, and pathology?\n",
    "2.  What does density and calcification type and distribution imply about subtlety, and pathology?\n",
    "3.   How does mass shape relate to subtlety? pathology?\n",
    "4.   How does mass margin relate to subtlety? pathology?\n",
    "\n",
    "### Exploratory Approach\n",
    "Our approach will include metadata and images for both train/test splits. To avoid bias during modeling, all feature engineering and data processing will be performed *after* data splitting, with one exception. There are three pathologies for our binary classification task ['MALIGNANT','BENIGN', 'BENIGN_WITHOUT_CALLBACK']. For this analysis we will add a new binary variable, 'cancer' in which a value of 0 means benign and a value of 1 indicates malignancy. We'll decide what to do about these variables for modeling during the feature engineering stage.\n",
    "\n",
    "Hence, we shall proceed as follows:\n",
    "1.  Whole Dataset Analysis using the combined metadata datasets. Features analyzed will be the intersection of calcification and mass dataset features. \n",
    "2.  Calcification Case Analysis using the combined calcifiation set.\n",
    "3.  Mass Case Analysis using the combined mass set.\n",
    "\n",
    "## EDA Stage 1: Cross-Dataset Analysis\n",
    "This initial stage focuses on the variables in common between the training sets."
   ]
  },
  {
   "cell_type": "code",
   "execution_count": 2,
   "id": "e8376c27",
   "metadata": {
    "tags": [
     "hide-cell"
    ]
   },
   "outputs": [],
   "source": [
    "# Filepaths\n",
    "fpc1 = \"/home/john/projects/bcd/data/raw/meta/calc_case_description_train_set.csv\"\n",
    "fpc2 = \"/home/john/projects/bcd/data/raw/meta/calc_case_description_test_set.csv\"\n",
    "fpm1 = \"/home/john/projects/bcd/data/raw/meta/mass_case_description_train_set.csv\"\n",
    "fpm2 = \"/home/john/projects/bcd/data/raw/meta/mass_case_description_test_set.csv\""
   ]
  },
  {
   "cell_type": "code",
   "execution_count": 3,
   "id": "7f8015e8",
   "metadata": {},
   "outputs": [],
   "source": [
    "## Dataframes\n",
    "dfc1 = pd.read_csv(fpc1)\n",
    "dfc2 = pd.read_csv(fpc2)\n",
    "dfm1 = pd.read_csv(fpm1)\n",
    "dfm2 = pd.read_csv(fpm2)\n",
    "# Rename breast density column\n",
    "dfm1.rename(columns={'breast_density': 'breast density'}, inplace=True)\n",
    "dfm2.rename(columns={'breast_density': 'breast density'}, inplace=True)\n",
    "# Add 'cancer' variable\n",
    "dfc1['cancer'] = np.where(dfc1['pathology'] == 'MALIGNANT', 1, 0)\n",
    "dfc2['cancer'] = np.where(dfc2['pathology'] == 'MALIGNANT', 1, 0)\n",
    "dfm1['cancer'] = np.where(dfm1['pathology'] == 'MALIGNANT', 1, 0)\n",
    "dfm2['cancer'] = np.where(dfm2['pathology'] == 'MALIGNANT', 1, 0)\n",
    "## DataFrames by Abnormality Type\n",
    "dfc = pd.concat([dfc1,dfc2], axis=0)\n",
    "dfm = pd.concat([dfm1,dfm2], axis=0)\n",
    "# Whole DataFrames\n",
    "df1 = dfc.drop(columns=['calc type', 'calc distribution'])\n",
    "df2 = dfm.drop(columns=['mass shape', 'mass margins'])\n",
    "df = pd.concat([df1,df2], axis=0)\n",
    "# CBIS Datasets\n",
    "ds = CBISMeta(df=df)  # Whole dataset\n",
    "dsc = CBISMeta(df=dfc)  # Calcification Dataset\n",
    "dsm = CBISMeta(df=dfm)  # Mass Dataset"
   ]
  },
  {
   "cell_type": "code",
   "execution_count": 4,
   "id": "1b265322",
   "metadata": {},
   "outputs": [
    {
     "data": {
      "text/html": [
       "<div>\n",
       "<style scoped>\n",
       "    .dataframe tbody tr th:only-of-type {\n",
       "        vertical-align: middle;\n",
       "    }\n",
       "\n",
       "    .dataframe tbody tr th {\n",
       "        vertical-align: top;\n",
       "    }\n",
       "\n",
       "    .dataframe thead th {\n",
       "        text-align: right;\n",
       "    }\n",
       "</style>\n",
       "<table border=\"1\" class=\"dataframe\">\n",
       "  <thead>\n",
       "    <tr style=\"text-align: right;\">\n",
       "      <th></th>\n",
       "      <th>patient_id</th>\n",
       "      <th>breast density</th>\n",
       "      <th>left or right breast</th>\n",
       "      <th>image view</th>\n",
       "      <th>abnormality id</th>\n",
       "      <th>abnormality type</th>\n",
       "      <th>assessment</th>\n",
       "      <th>pathology</th>\n",
       "      <th>subtlety</th>\n",
       "      <th>image file path</th>\n",
       "      <th>cropped image file path</th>\n",
       "      <th>ROI mask file path</th>\n",
       "      <th>cancer</th>\n",
       "    </tr>\n",
       "  </thead>\n",
       "  <tbody>\n",
       "    <tr>\n",
       "      <th>0</th>\n",
       "      <td>P_00005</td>\n",
       "      <td>3</td>\n",
       "      <td>RIGHT</td>\n",
       "      <td>CC</td>\n",
       "      <td>1</td>\n",
       "      <td>calcification</td>\n",
       "      <td>3</td>\n",
       "      <td>MALIGNANT</td>\n",
       "      <td>3</td>\n",
       "      <td>Calc-Training_P_00005_RIGHT_CC/1.3.6.1.4.1.959...</td>\n",
       "      <td>Calc-Training_P_00005_RIGHT_CC_1/1.3.6.1.4.1.9...</td>\n",
       "      <td>Calc-Training_P_00005_RIGHT_CC_1/1.3.6.1.4.1.9...</td>\n",
       "      <td>1</td>\n",
       "    </tr>\n",
       "    <tr>\n",
       "      <th>1</th>\n",
       "      <td>P_00005</td>\n",
       "      <td>3</td>\n",
       "      <td>RIGHT</td>\n",
       "      <td>MLO</td>\n",
       "      <td>1</td>\n",
       "      <td>calcification</td>\n",
       "      <td>3</td>\n",
       "      <td>MALIGNANT</td>\n",
       "      <td>3</td>\n",
       "      <td>Calc-Training_P_00005_RIGHT_MLO/1.3.6.1.4.1.95...</td>\n",
       "      <td>Calc-Training_P_00005_RIGHT_MLO_1/1.3.6.1.4.1....</td>\n",
       "      <td>Calc-Training_P_00005_RIGHT_MLO_1/1.3.6.1.4.1....</td>\n",
       "      <td>1</td>\n",
       "    </tr>\n",
       "    <tr>\n",
       "      <th>2</th>\n",
       "      <td>P_00007</td>\n",
       "      <td>4</td>\n",
       "      <td>LEFT</td>\n",
       "      <td>CC</td>\n",
       "      <td>1</td>\n",
       "      <td>calcification</td>\n",
       "      <td>4</td>\n",
       "      <td>BENIGN</td>\n",
       "      <td>4</td>\n",
       "      <td>Calc-Training_P_00007_LEFT_CC/1.3.6.1.4.1.9590...</td>\n",
       "      <td>Calc-Training_P_00007_LEFT_CC_1/1.3.6.1.4.1.95...</td>\n",
       "      <td>Calc-Training_P_00007_LEFT_CC_1/1.3.6.1.4.1.95...</td>\n",
       "      <td>0</td>\n",
       "    </tr>\n",
       "    <tr>\n",
       "      <th>3</th>\n",
       "      <td>P_00007</td>\n",
       "      <td>4</td>\n",
       "      <td>LEFT</td>\n",
       "      <td>MLO</td>\n",
       "      <td>1</td>\n",
       "      <td>calcification</td>\n",
       "      <td>4</td>\n",
       "      <td>BENIGN</td>\n",
       "      <td>4</td>\n",
       "      <td>Calc-Training_P_00007_LEFT_MLO/1.3.6.1.4.1.959...</td>\n",
       "      <td>Calc-Training_P_00007_LEFT_MLO_1/1.3.6.1.4.1.9...</td>\n",
       "      <td>Calc-Training_P_00007_LEFT_MLO_1/1.3.6.1.4.1.9...</td>\n",
       "      <td>0</td>\n",
       "    </tr>\n",
       "    <tr>\n",
       "      <th>4</th>\n",
       "      <td>P_00008</td>\n",
       "      <td>1</td>\n",
       "      <td>LEFT</td>\n",
       "      <td>CC</td>\n",
       "      <td>1</td>\n",
       "      <td>calcification</td>\n",
       "      <td>2</td>\n",
       "      <td>BENIGN_WITHOUT_CALLBACK</td>\n",
       "      <td>3</td>\n",
       "      <td>Calc-Training_P_00008_LEFT_CC/1.3.6.1.4.1.9590...</td>\n",
       "      <td>Calc-Training_P_00008_LEFT_CC_1/1.3.6.1.4.1.95...</td>\n",
       "      <td>Calc-Training_P_00008_LEFT_CC_1/1.3.6.1.4.1.95...</td>\n",
       "      <td>0</td>\n",
       "    </tr>\n",
       "  </tbody>\n",
       "</table>\n",
       "</div>"
      ],
      "text/plain": [
       "  patient_id  breast density left or right breast image view  abnormality id  \\\n",
       "0    P_00005               3                RIGHT         CC               1   \n",
       "1    P_00005               3                RIGHT        MLO               1   \n",
       "2    P_00007               4                 LEFT         CC               1   \n",
       "3    P_00007               4                 LEFT        MLO               1   \n",
       "4    P_00008               1                 LEFT         CC               1   \n",
       "\n",
       "  abnormality type  assessment                pathology  subtlety  \\\n",
       "0    calcification           3                MALIGNANT         3   \n",
       "1    calcification           3                MALIGNANT         3   \n",
       "2    calcification           4                   BENIGN         4   \n",
       "3    calcification           4                   BENIGN         4   \n",
       "4    calcification           2  BENIGN_WITHOUT_CALLBACK         3   \n",
       "\n",
       "                                     image file path  \\\n",
       "0  Calc-Training_P_00005_RIGHT_CC/1.3.6.1.4.1.959...   \n",
       "1  Calc-Training_P_00005_RIGHT_MLO/1.3.6.1.4.1.95...   \n",
       "2  Calc-Training_P_00007_LEFT_CC/1.3.6.1.4.1.9590...   \n",
       "3  Calc-Training_P_00007_LEFT_MLO/1.3.6.1.4.1.959...   \n",
       "4  Calc-Training_P_00008_LEFT_CC/1.3.6.1.4.1.9590...   \n",
       "\n",
       "                             cropped image file path  \\\n",
       "0  Calc-Training_P_00005_RIGHT_CC_1/1.3.6.1.4.1.9...   \n",
       "1  Calc-Training_P_00005_RIGHT_MLO_1/1.3.6.1.4.1....   \n",
       "2  Calc-Training_P_00007_LEFT_CC_1/1.3.6.1.4.1.95...   \n",
       "3  Calc-Training_P_00007_LEFT_MLO_1/1.3.6.1.4.1.9...   \n",
       "4  Calc-Training_P_00008_LEFT_CC_1/1.3.6.1.4.1.95...   \n",
       "\n",
       "                                  ROI mask file path  cancer  \n",
       "0  Calc-Training_P_00005_RIGHT_CC_1/1.3.6.1.4.1.9...       1  \n",
       "1  Calc-Training_P_00005_RIGHT_MLO_1/1.3.6.1.4.1....       1  \n",
       "2  Calc-Training_P_00007_LEFT_CC_1/1.3.6.1.4.1.95...       0  \n",
       "3  Calc-Training_P_00007_LEFT_MLO_1/1.3.6.1.4.1.9...       0  \n",
       "4  Calc-Training_P_00008_LEFT_CC_1/1.3.6.1.4.1.95...       0  "
      ]
     },
     "execution_count": 4,
     "metadata": {},
     "output_type": "execute_result"
    }
   ],
   "source": [
    "ds.head()"
   ]
  },
  {
   "cell_type": "code",
   "execution_count": 5,
   "id": "e62fb00e",
   "metadata": {},
   "outputs": [
    {
     "data": {
      "text/html": [
       "<div>\n",
       "<style scoped>\n",
       "    .dataframe tbody tr th:only-of-type {\n",
       "        vertical-align: middle;\n",
       "    }\n",
       "\n",
       "    .dataframe tbody tr th {\n",
       "        vertical-align: top;\n",
       "    }\n",
       "\n",
       "    .dataframe thead th {\n",
       "        text-align: right;\n",
       "    }\n",
       "</style>\n",
       "<table border=\"1\" class=\"dataframe\">\n",
       "  <thead>\n",
       "    <tr style=\"text-align: right;\">\n",
       "      <th></th>\n",
       "      <th>Column</th>\n",
       "      <th>DataType</th>\n",
       "      <th>Valid</th>\n",
       "      <th>Null</th>\n",
       "      <th>Validity</th>\n",
       "      <th>Cardinality</th>\n",
       "      <th>Percent Unique</th>\n",
       "      <th>Size</th>\n",
       "    </tr>\n",
       "  </thead>\n",
       "  <tbody>\n",
       "    <tr>\n",
       "      <th>0</th>\n",
       "      <td>patient_id</td>\n",
       "      <td>object</td>\n",
       "      <td>3568</td>\n",
       "      <td>0</td>\n",
       "      <td>1.00</td>\n",
       "      <td>1566</td>\n",
       "      <td>0.44</td>\n",
       "      <td>228352</td>\n",
       "    </tr>\n",
       "    <tr>\n",
       "      <th>1</th>\n",
       "      <td>breast density</td>\n",
       "      <td>int64</td>\n",
       "      <td>3568</td>\n",
       "      <td>0</td>\n",
       "      <td>1.00</td>\n",
       "      <td>5</td>\n",
       "      <td>0.00</td>\n",
       "      <td>28544</td>\n",
       "    </tr>\n",
       "    <tr>\n",
       "      <th>2</th>\n",
       "      <td>left or right breast</td>\n",
       "      <td>object</td>\n",
       "      <td>3568</td>\n",
       "      <td>0</td>\n",
       "      <td>1.00</td>\n",
       "      <td>2</td>\n",
       "      <td>0.00</td>\n",
       "      <td>219397</td>\n",
       "    </tr>\n",
       "    <tr>\n",
       "      <th>3</th>\n",
       "      <td>image view</td>\n",
       "      <td>object</td>\n",
       "      <td>3568</td>\n",
       "      <td>0</td>\n",
       "      <td>1.00</td>\n",
       "      <td>2</td>\n",
       "      <td>0.00</td>\n",
       "      <td>212408</td>\n",
       "    </tr>\n",
       "    <tr>\n",
       "      <th>4</th>\n",
       "      <td>abnormality id</td>\n",
       "      <td>int64</td>\n",
       "      <td>3568</td>\n",
       "      <td>0</td>\n",
       "      <td>1.00</td>\n",
       "      <td>7</td>\n",
       "      <td>0.00</td>\n",
       "      <td>28544</td>\n",
       "    </tr>\n",
       "    <tr>\n",
       "      <th>5</th>\n",
       "      <td>abnormality type</td>\n",
       "      <td>object</td>\n",
       "      <td>3568</td>\n",
       "      <td>0</td>\n",
       "      <td>1.00</td>\n",
       "      <td>2</td>\n",
       "      <td>0.00</td>\n",
       "      <td>234496</td>\n",
       "    </tr>\n",
       "    <tr>\n",
       "      <th>6</th>\n",
       "      <td>assessment</td>\n",
       "      <td>int64</td>\n",
       "      <td>3568</td>\n",
       "      <td>0</td>\n",
       "      <td>1.00</td>\n",
       "      <td>6</td>\n",
       "      <td>0.00</td>\n",
       "      <td>28544</td>\n",
       "    </tr>\n",
       "    <tr>\n",
       "      <th>7</th>\n",
       "      <td>pathology</td>\n",
       "      <td>object</td>\n",
       "      <td>3568</td>\n",
       "      <td>0</td>\n",
       "      <td>1.00</td>\n",
       "      <td>3</td>\n",
       "      <td>0.00</td>\n",
       "      <td>240749</td>\n",
       "    </tr>\n",
       "    <tr>\n",
       "      <th>8</th>\n",
       "      <td>subtlety</td>\n",
       "      <td>int64</td>\n",
       "      <td>3568</td>\n",
       "      <td>0</td>\n",
       "      <td>1.00</td>\n",
       "      <td>6</td>\n",
       "      <td>0.00</td>\n",
       "      <td>28544</td>\n",
       "    </tr>\n",
       "    <tr>\n",
       "      <th>9</th>\n",
       "      <td>image file path</td>\n",
       "      <td>object</td>\n",
       "      <td>3568</td>\n",
       "      <td>0</td>\n",
       "      <td>1.00</td>\n",
       "      <td>3103</td>\n",
       "      <td>0.87</td>\n",
       "      <td>809040</td>\n",
       "    </tr>\n",
       "    <tr>\n",
       "      <th>10</th>\n",
       "      <td>cropped image file path</td>\n",
       "      <td>object</td>\n",
       "      <td>3568</td>\n",
       "      <td>0</td>\n",
       "      <td>1.00</td>\n",
       "      <td>3568</td>\n",
       "      <td>1.00</td>\n",
       "      <td>817935</td>\n",
       "    </tr>\n",
       "    <tr>\n",
       "      <th>11</th>\n",
       "      <td>ROI mask file path</td>\n",
       "      <td>object</td>\n",
       "      <td>3568</td>\n",
       "      <td>0</td>\n",
       "      <td>1.00</td>\n",
       "      <td>3568</td>\n",
       "      <td>1.00</td>\n",
       "      <td>817762</td>\n",
       "    </tr>\n",
       "    <tr>\n",
       "      <th>12</th>\n",
       "      <td>cancer</td>\n",
       "      <td>int64</td>\n",
       "      <td>3568</td>\n",
       "      <td>0</td>\n",
       "      <td>1.00</td>\n",
       "      <td>2</td>\n",
       "      <td>0.00</td>\n",
       "      <td>28544</td>\n",
       "    </tr>\n",
       "  </tbody>\n",
       "</table>\n",
       "</div>"
      ],
      "text/plain": [
       "                     Column DataType  Valid  Null  Validity  Cardinality  \\\n",
       "0                patient_id   object   3568     0      1.00         1566   \n",
       "1            breast density    int64   3568     0      1.00            5   \n",
       "2      left or right breast   object   3568     0      1.00            2   \n",
       "3                image view   object   3568     0      1.00            2   \n",
       "4            abnormality id    int64   3568     0      1.00            7   \n",
       "5          abnormality type   object   3568     0      1.00            2   \n",
       "6                assessment    int64   3568     0      1.00            6   \n",
       "7                 pathology   object   3568     0      1.00            3   \n",
       "8                  subtlety    int64   3568     0      1.00            6   \n",
       "9           image file path   object   3568     0      1.00         3103   \n",
       "10  cropped image file path   object   3568     0      1.00         3568   \n",
       "11       ROI mask file path   object   3568     0      1.00         3568   \n",
       "12                   cancer    int64   3568     0      1.00            2   \n",
       "\n",
       "    Percent Unique    Size  \n",
       "0             0.44  228352  \n",
       "1             0.00   28544  \n",
       "2             0.00  219397  \n",
       "3             0.00  212408  \n",
       "4             0.00   28544  \n",
       "5             0.00  234496  \n",
       "6             0.00   28544  \n",
       "7             0.00  240749  \n",
       "8             0.00   28544  \n",
       "9             0.87  809040  \n",
       "10            1.00  817935  \n",
       "11            1.00  817762  \n",
       "12            0.00   28544  "
      ]
     },
     "execution_count": 5,
     "metadata": {},
     "output_type": "execute_result"
    }
   ],
   "source": [
    "ds.info"
   ]
  },
  {
   "cell_type": "markdown",
   "id": "7207f8b4",
   "metadata": {},
   "source": [
    "**Initial observations:**\n",
    "1. There are 3568 cases of abnormality seen on the craniocaudal (CC) and/or mediolateral oblique (MLO) views.\n",
    "2. We have 1566 patient_ids corresponding to each of the 1566 subjects in the studies.\n",
    "3. Breast density should have a cardinality of 4, not 5.\n",
    "4. There are 7 BIRADS assessment categories, yet 6 are indicated in the CBIS-DDSM. One would suspect values of [0,5] as a 6 would mean cancer was previously diagnosed using a biopsy.\n",
    "5. As indicated our binary classification actually has three pathologies ['MALIGNANT', 'BENIGN', and 'BENIGN_WITHOUT_CALLBACK']. We've added the cancer variable to capture the presence of malignancy in the assessment.\n",
    "6. There are 465 duplicate image filepaths, indicating several cases on an image.\n",
    "\n",
    "### Univariate Analysis"
   ]
  },
  {
   "cell_type": "markdown",
   "id": "6f7cc71a",
   "metadata": {},
   "source": [
    "#### Patient Id"
   ]
  },
  {
   "cell_type": "code",
   "execution_count": 6,
   "id": "bca0cc6e",
   "metadata": {},
   "outputs": [
    {
     "name": "stdout",
     "output_type": "stream",
     "text": [
      "The total number of patient unique ids 1566, corresponding to the number of subjects in the studies.\n",
      "The median number of images per patient id is 2.0\n",
      "The average number of images per patient id is 2.28\n",
      "The range of images to patient_ids is 1 to 24 \n"
     ]
    }
   ],
   "source": [
    "print(f\"The total number of patient unique ids {df['patient_id'].nunique()}, corresponding to the number of subjects in the studies.\")\n",
    "print(f\"The median number of images per patient id is {df['patient_id'].value_counts().median()}\")\n",
    "print(f\"The average number of images per patient id is {round(df['patient_id'].value_counts().mean(),2)}\")\n",
    "print(f\"The range of images to patient_ids is {df['patient_id'].value_counts().min()} to {df['patient_id'].value_counts().max()} \")"
   ]
  },
  {
   "cell_type": "markdown",
   "id": "37bc61c1",
   "metadata": {},
   "source": [
    "#### Breast Density\n",
    "Radiologists classify breast density using a 4-level density scale {cite}`BreastImagingReporting`:\n",
    "1.\tAlmost entirely fatty\n",
    "2.\tScattered areas of fibroglandular density\n",
    "3.\tHeterogeneously dense\n",
    "4.\tExtremely dense"
   ]
  },
  {
   "cell_type": "code",
   "execution_count": 31,
   "id": "c6f6fd5f",
   "metadata": {
    "tags": [
     "hide-cell"
    ]
   },
   "outputs": [],
   "source": [
    "d1 = np.repeat([1], 357)\n",
    "d2 = np.repeat([2], 1427)\n",
    "d3 = np.repeat([3], 1427)\n",
    "d4 = np.repeat([4], 357)\n",
    "d = np.append(arr=d1,values=d2)\n",
    "d = np.append(arr=d,values=d3)\n",
    "d = np.append(arr=d,values=d4)\n",
    "d = {\"Breast Density\": d, \"Sample\": \"U.S.\"}\n",
    "usd = pd.DataFrame(data=d)\n",
    "density = df['breast density'].to_frame()\n",
    "density.rename(columns={'breast density': 'Breast Density'}, inplace=True)\n",
    "density['Sample'] = 'CBIS-DDSM'\n",
    "density = pd.concat([density, usd], axis=0).reset_index()"
   ]
  },
  {
   "cell_type": "markdown",
   "id": "f174fd90",
   "metadata": {},
   "source": [
    "There are two cases with an invalid value for breast density. We will obtain these values from other records for the same patient, or these observations will be considered for removal prior to the modeling stage.\n",
    "\n",
    "The following exhibits the counts by density in the CBIS-DDSM dataset vis-a-vis a sample from the US of the same size."
   ]
  },
  {
   "cell_type": "code",
   "execution_count": 32,
   "id": "1aea4db9",
   "metadata": {},
   "outputs": [
    {
     "data": {
      "image/png": "[encoded data removed]",
      "text/plain": [
       "<Figure size 1200x400 with 1 Axes>"
      ]
     },
     "metadata": {},
     "output_type": "display_data"
    }
   ],
   "source": [
    "fig, ax = plt.subplots(figsize=(12,4))\n",
    "ds.plot.countplot(data=density,x='Breast Density', hue=\"Sample\", ax=ax, title =\"Distribution of Breast Density in CBIS-DDSM vis-a-vis US Population of Same Size\")"
   ]
  },
  {
   "cell_type": "markdown",
   "id": "b9bb3f76",
   "metadata": {},
   "source": [
    "If we were to perform a goodness of fit test on the two samples, the null hypothesis of breast density in CBIS-DDSM and breast density in the US Population originating from the same distribution, would likely be rejected. The CBIS-DDSM has fatter tails on both ends of the distribution. Some right skew is extant as well."
   ]
  },
  {
   "cell_type": "markdown",
   "id": "18be0609",
   "metadata": {},
   "source": [
    "#### Left Right"
   ]
  },
  {
   "cell_type": "code",
   "execution_count": 9,
   "id": "a8b46da8",
   "metadata": {},
   "outputs": [
    {
     "data": {
      "image/png": "[encoded data removed]",
      "text/plain": [
       "<Figure size 1200x400 with 1 Axes>"
      ]
     },
     "metadata": {},
     "output_type": "display_data"
    }
   ],
   "source": [
    "fig, ax = plt.subplots(figsize=(12,4))\n",
    "ds.plot.countplot(x='left or right breast', ax=ax, title =\"Distribution of View\")"
   ]
  },
  {
   "cell_type": "markdown",
   "id": "dc586090",
   "metadata": {},
   "source": [
    "There are slightly more left views than right; still, the dataset is fairly balanced in this regard for what that's worth."
   ]
  },
  {
   "cell_type": "markdown",
   "id": "6d147361",
   "metadata": {},
   "source": [
    "#### Image View"
   ]
  },
  {
   "cell_type": "code",
   "execution_count": 10,
   "id": "95705fef",
   "metadata": {},
   "outputs": [
    {
     "data": {
      "image/png": "[encoded data removed]",
      "text/plain": [
       "<Figure size 1200x400 with 1 Axes>"
      ]
     },
     "metadata": {},
     "output_type": "display_data"
    }
   ],
   "source": [
    "fig, ax = plt.subplots(figsize=(12,4))\n",
    "ds.plot.countplot(x='image view', ax=ax, title =\"Distribution of Image View\")"
   ]
  },
  {
   "cell_type": "markdown",
   "id": "c256fae9",
   "metadata": {},
   "source": [
    "Mediolateral oblique views slightly outnumber craniocaudal views."
   ]
  },
  {
   "cell_type": "markdown",
   "id": "6f3088b1",
   "metadata": {},
   "source": [
    "#### Abnormality Id"
   ]
  },
  {
   "cell_type": "code",
   "execution_count": 11,
   "id": "c8229173",
   "metadata": {},
   "outputs": [
    {
     "data": {
      "image/png": "[encoded data removed]",
      "text/plain": [
       "<Figure size 1200x400 with 1 Axes>"
      ]
     },
     "metadata": {},
     "output_type": "display_data"
    }
   ],
   "source": [
    "fig, ax = plt.subplots(figsize=(12,4))\n",
    "ds.plot.countplot(x='abnormality id', ax=ax, title =\"Distribution of Abnormaility ID\")"
   ]
  },
  {
   "cell_type": "markdown",
   "id": "6801c4a4",
   "metadata": {},
   "source": [
    "A plurality of patients present only one abnormality.\n",
    "\n",
    "#### Calcification Type"
   ]
  },
  {
   "cell_type": "code",
   "execution_count": 12,
   "id": "78832810",
   "metadata": {},
   "outputs": [
    {
     "ename": "ValueError",
     "evalue": "Could not interpret input 'calc type'",
     "output_type": "error",
     "traceback": [
      "\u001b[0;31m---------------------------------------------------------------------------\u001b[0m",
      "\u001b[0;31mValueError\u001b[0m                                Traceback (most recent call last)",
      "Cell \u001b[0;32mIn[12], line 2\u001b[0m\n\u001b[1;32m      1\u001b[0m fig, ax \u001b[39m=\u001b[39m plt\u001b[39m.\u001b[39msubplots(figsize\u001b[39m=\u001b[39m(\u001b[39m8\u001b[39m,\u001b[39m8\u001b[39m))\n\u001b[0;32m----> 2\u001b[0m ds\u001b[39m.\u001b[39;49mplot\u001b[39m.\u001b[39;49mcountplot(y\u001b[39m=\u001b[39;49m\u001b[39m'\u001b[39;49m\u001b[39mcalc type\u001b[39;49m\u001b[39m'\u001b[39;49m, ax\u001b[39m=\u001b[39;49max, title \u001b[39m=\u001b[39;49m\u001b[39m\"\u001b[39;49m\u001b[39mDistribution of Calcification Type\u001b[39;49m\u001b[39m\"\u001b[39;49m)\n",
      "File \u001b[0;32m~/anaconda3/envs/bcd/lib/python3.10/site-packages/studioai/visual/seaborn.py:378\u001b[0m, in \u001b[0;36mVisualizer.countplot\u001b[0;34m(self, data, x, y, hue, orient, title, ax, *args, **kwargs)\u001b[0m\n\u001b[1;32m    375\u001b[0m \u001b[39mif\u001b[39;00m ax \u001b[39mis\u001b[39;00m \u001b[39mNone\u001b[39;00m:\n\u001b[1;32m    376\u001b[0m     fig, ax \u001b[39m=\u001b[39m \u001b[39mself\u001b[39m\u001b[39m.\u001b[39m_canvas\u001b[39m.\u001b[39mget_figaxes()\n\u001b[0;32m--> 378\u001b[0m sns\u001b[39m.\u001b[39;49mcountplot(\n\u001b[1;32m    379\u001b[0m     data\u001b[39m=\u001b[39;49mdata,\n\u001b[1;32m    380\u001b[0m     x\u001b[39m=\u001b[39;49mx,\n\u001b[1;32m    381\u001b[0m     y\u001b[39m=\u001b[39;49my,\n\u001b[1;32m    382\u001b[0m     hue\u001b[39m=\u001b[39;49mhue,\n\u001b[1;32m    383\u001b[0m     ax\u001b[39m=\u001b[39;49max,\n\u001b[1;32m    384\u001b[0m     palette\u001b[39m=\u001b[39;49mpalette,\n\u001b[1;32m    385\u001b[0m     \u001b[39m*\u001b[39;49margs,\n\u001b[1;32m    386\u001b[0m     \u001b[39m*\u001b[39;49m\u001b[39m*\u001b[39;49mkwargs,\n\u001b[1;32m    387\u001b[0m )\n\u001b[1;32m    388\u001b[0m \u001b[39mif\u001b[39;00m orient \u001b[39m==\u001b[39m \u001b[39m\"\u001b[39m\u001b[39mv\u001b[39m\u001b[39m\"\u001b[39m:\n\u001b[1;32m    389\u001b[0m     \u001b[39mfor\u001b[39;00m p \u001b[39min\u001b[39;00m ax\u001b[39m.\u001b[39mpatches:\n",
      "File \u001b[0;32m~/anaconda3/envs/bcd/lib/python3.10/site-packages/seaborn/categorical.py:2943\u001b[0m, in \u001b[0;36mcountplot\u001b[0;34m(data, x, y, hue, order, hue_order, orient, color, palette, saturation, width, dodge, ax, **kwargs)\u001b[0m\n\u001b[1;32m   2940\u001b[0m \u001b[39melif\u001b[39;00m x \u001b[39mis\u001b[39;00m \u001b[39mnot\u001b[39;00m \u001b[39mNone\u001b[39;00m \u001b[39mand\u001b[39;00m y \u001b[39mis\u001b[39;00m \u001b[39mnot\u001b[39;00m \u001b[39mNone\u001b[39;00m:\n\u001b[1;32m   2941\u001b[0m     \u001b[39mraise\u001b[39;00m \u001b[39mValueError\u001b[39;00m(\u001b[39m\"\u001b[39m\u001b[39mCannot pass values for both `x` and `y`\u001b[39m\u001b[39m\"\u001b[39m)\n\u001b[0;32m-> 2943\u001b[0m plotter \u001b[39m=\u001b[39m _CountPlotter(\n\u001b[1;32m   2944\u001b[0m     x, y, hue, data, order, hue_order,\n\u001b[1;32m   2945\u001b[0m     estimator, errorbar, n_boot, units, seed,\n\u001b[1;32m   2946\u001b[0m     orient, color, palette, saturation,\n\u001b[1;32m   2947\u001b[0m     width, errcolor, errwidth, capsize, dodge\n\u001b[1;32m   2948\u001b[0m )\n\u001b[1;32m   2950\u001b[0m plotter\u001b[39m.\u001b[39mvalue_label \u001b[39m=\u001b[39m \u001b[39m\"\u001b[39m\u001b[39mcount\u001b[39m\u001b[39m\"\u001b[39m\n\u001b[1;32m   2952\u001b[0m \u001b[39mif\u001b[39;00m ax \u001b[39mis\u001b[39;00m \u001b[39mNone\u001b[39;00m:\n",
      "File \u001b[0;32m~/anaconda3/envs/bcd/lib/python3.10/site-packages/seaborn/categorical.py:1530\u001b[0m, in \u001b[0;36m_BarPlotter.__init__\u001b[0;34m(self, x, y, hue, data, order, hue_order, estimator, errorbar, n_boot, units, seed, orient, color, palette, saturation, width, errcolor, errwidth, capsize, dodge)\u001b[0m\n\u001b[1;32m   1525\u001b[0m \u001b[39mdef\u001b[39;00m \u001b[39m__init__\u001b[39m(\u001b[39mself\u001b[39m, x, y, hue, data, order, hue_order,\n\u001b[1;32m   1526\u001b[0m              estimator, errorbar, n_boot, units, seed,\n\u001b[1;32m   1527\u001b[0m              orient, color, palette, saturation, width,\n\u001b[1;32m   1528\u001b[0m              errcolor, errwidth, capsize, dodge):\n\u001b[1;32m   1529\u001b[0m \u001b[39m    \u001b[39m\u001b[39m\"\"\"Initialize the plotter.\"\"\"\u001b[39;00m\n\u001b[0;32m-> 1530\u001b[0m     \u001b[39mself\u001b[39;49m\u001b[39m.\u001b[39;49mestablish_variables(x, y, hue, data, orient,\n\u001b[1;32m   1531\u001b[0m                              order, hue_order, units)\n\u001b[1;32m   1532\u001b[0m     \u001b[39mself\u001b[39m\u001b[39m.\u001b[39mestablish_colors(color, palette, saturation)\n\u001b[1;32m   1533\u001b[0m     \u001b[39mself\u001b[39m\u001b[39m.\u001b[39mestimate_statistic(estimator, errorbar, n_boot, seed)\n",
      "File \u001b[0;32m~/anaconda3/envs/bcd/lib/python3.10/site-packages/seaborn/categorical.py:541\u001b[0m, in \u001b[0;36m_CategoricalPlotter.establish_variables\u001b[0;34m(self, x, y, hue, data, orient, order, hue_order, units)\u001b[0m\n\u001b[1;32m    539\u001b[0m     \u001b[39mif\u001b[39;00m \u001b[39misinstance\u001b[39m(var, \u001b[39mstr\u001b[39m):\n\u001b[1;32m    540\u001b[0m         err \u001b[39m=\u001b[39m \u001b[39mf\u001b[39m\u001b[39m\"\u001b[39m\u001b[39mCould not interpret input \u001b[39m\u001b[39m'\u001b[39m\u001b[39m{\u001b[39;00mvar\u001b[39m}\u001b[39;00m\u001b[39m'\u001b[39m\u001b[39m\"\u001b[39m\n\u001b[0;32m--> 541\u001b[0m         \u001b[39mraise\u001b[39;00m \u001b[39mValueError\u001b[39;00m(err)\n\u001b[1;32m    543\u001b[0m \u001b[39m# Figure out the plotting orientation\u001b[39;00m\n\u001b[1;32m    544\u001b[0m orient \u001b[39m=\u001b[39m infer_orient(\n\u001b[1;32m    545\u001b[0m     x, y, orient, require_numeric\u001b[39m=\u001b[39m\u001b[39mself\u001b[39m\u001b[39m.\u001b[39mrequire_numeric\n\u001b[1;32m    546\u001b[0m )\n",
      "\u001b[0;31mValueError\u001b[0m: Could not interpret input 'calc type'"
     ]
    },
    {
     "data": {
      "image/png": "[encoded data removed]",
      "text/plain": [
       "<Figure size 800x800 with 1 Axes>"
      ]
     },
     "metadata": {},
     "output_type": "display_data"
    }
   ],
   "source": [
    "fig, ax = plt.subplots(figsize=(8,8))\n",
    "ds.plot.countplot(y='calc type', ax=ax, title =\"Distribution of Calcification Type\")"
   ]
  },
  {
   "cell_type": "markdown",
   "id": "2a60a47a",
   "metadata": {},
   "source": [
    "#### Calcification Distribution"
   ]
  },
  {
   "cell_type": "code",
   "execution_count": null,
   "id": "468f4833",
   "metadata": {},
   "outputs": [],
   "source": [
    "fig, ax = plt.subplots(figsize=(12,4))\n",
    "ds.plot.countplot(y='calc distribution', ax=ax, title =\"Calcification Distribution\")"
   ]
  },
  {
   "cell_type": "markdown",
   "id": "21040fe7",
   "metadata": {},
   "source": [
    "#### BIRADS Assessment"
   ]
  },
  {
   "cell_type": "code",
   "execution_count": null,
   "id": "fd01d3e9",
   "metadata": {},
   "outputs": [],
   "source": [
    "fig, ax = plt.subplots(figsize=(12,4))\n",
    "ds.plot.countplot(x='assessment', ax=ax, title =\"Distribution of BIRADS Assessment\")"
   ]
  },
  {
   "cell_type": "markdown",
   "id": "edaf82a9",
   "metadata": {},
   "source": [
    "#### Pathology"
   ]
  },
  {
   "cell_type": "code",
   "execution_count": null,
   "id": "d22341a2",
   "metadata": {},
   "outputs": [],
   "source": [
    "fig, ax = plt.subplots(figsize=(12,4))\n",
    "ds.plot.countplot(x='pathology', ax=ax, title =\"Distribution of Pathology\")"
   ]
  },
  {
   "cell_type": "markdown",
   "id": "d0662182",
   "metadata": {},
   "source": [
    "#### Sublety"
   ]
  },
  {
   "cell_type": "code",
   "execution_count": null,
   "id": "0290d13b",
   "metadata": {},
   "outputs": [],
   "source": [
    "fig, ax = plt.subplots(figsize=(12,4))\n",
    "ds.plot.countplot(x='subtlety', ax=ax, title =\"Distribution of Subtlety\")"
   ]
  },
  {
   "cell_type": "markdown",
   "id": "a7471257",
   "metadata": {},
   "source": [
    "### Bivariate Analysis\n",
    "At this stage, we are examining bivariate relationships between the variables and between the variables and the target, pathology. \n",
    "\n",
    "#### Density Analysis\n",
    "Here, we'll explore how breast density relates to pathology, calcification type and distribution, assessment, and subtlety.\n"
   ]
  },
  {
   "cell_type": "code",
   "execution_count": null,
   "id": "622aea73",
   "metadata": {},
   "outputs": [],
   "source": [
    "fig, ax = plt.subplots(figsize=(12,4))\n",
    "ds.plot.countplot(x='breast density', hue='pathology'   , ax=ax, title =\"Breast Density and Pathology\")"
   ]
  },
  {
   "cell_type": "code",
   "execution_count": null,
   "id": "888bd4ca",
   "metadata": {},
   "outputs": [],
   "source": [
    "ds.describe(x=['breast density', 'pathology'], groupby='breast density').categorical"
   ]
  },
  {
   "cell_type": "markdown",
   "id": "4742856d",
   "metadata": {},
   "source": [
    "**Key Observations**\n",
    "1. Lower density abnormalities were associated with a greater number of benign, without callback. This is not unexpected as greater density is typically associated with greater scrutiny.\n",
    "2. Level 2 density typically indicates scattered areas of fibroglandular density, but the majority of tissue is non-dense. In this level 2 (or B), the vast majority of cases were benign, but the proportion of malignant cases appears to be increasing.\n",
    "3. Level 3 density typically indicates some areas of nondense tissue, but most areas are dense. Here too, the majority of cases were benign; however, the proportion of malignant cases increased from level 2.\n",
    "4. In contrast to level 1 density, there are fewer benign without callback cases. This indicates a greater degree of suspicion with these patients.\n"
   ]
  }
 ],
 "metadata": {
  "jupytext": {
   "formats": "md:myst"
  },
  "kernelspec": {
   "display_name": "Python 3",
   "language": "python",
   "name": "python3"
  },
  "language_info": {
   "codemirror_mode": {
    "name": "ipython",
    "version": 3
   },
   "file_extension": ".py",
   "mimetype": "text/x-python",
   "name": "python",
   "nbconvert_exporter": "python",
   "pygments_lexer": "ipython3",
   "version": "3.10.12"
  }
 },
 "nbformat": 4,
 "nbformat_minor": 5
}
