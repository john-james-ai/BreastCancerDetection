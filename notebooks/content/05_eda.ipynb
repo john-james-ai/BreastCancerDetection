{
 "cells": [
  {
   "cell_type": "markdown",
   "id": "ed96f990",
   "metadata": {},
   "source": [
    "# Exploratory Data Analysis (EDA) of the **CBIS-DDSM** Dataset\n",
    "\n",
    "## CBIS-DDSM Dataset\n",
    "\n",
    "Developed in 1997 through a grant from the DOD Breast Cancer Research Program and the US Army Research and Material Command, the *original* Digital Database for Screening Mammography (DDSM) {cite}`USFDigitalMammography` is a collection of 2620 cases obtained by patient consent from Massachusetts General Hospital, Wake Forest University School of Medicine, Sacred Heart Hospital, and Washington University of St. Louis School of Medicine. Its cases are annotated with ROIs for calcifications and masses, they include Breast Imaging Reporting and Data System (BI-RADS) descriptors for mass shape, mass margin, calcification type, calcification distribution, and breast density. They also include overall BI-RADS assessments from 0 to 5 and ratings of the subtlety of the abnormalities from 1 to 5.\n",
    "\n",
    "The DDSM, a powerful and extensively used resource for imaging research, presented certain challenges that limited its accessibility and utility.  For instance, the original DDSM was saved in lossless JPEG files (LJPEG); a non-standard, and obsolete compression format. Regions of interest marked the general area of legions; but, lacked the specificity of precise image segmentation, requiring researchers to implement segmentation algorithms for accurate feature extraction. Some annotations marked legions that could not be seen. Further, the metadata processing and image correction routines distributed with the dataset were a set of bash and C routines that were difficult to refactor.\n",
    "This Curated Breast Imaging Subset of DDSM (CBIS-DDSM) {cite}`leeCuratedMammographyData2017` is an updated and standardized version of the original DDSM, developed to address some of the challenges. In particular, the questionable annotations were reviewed by a trained mammographer, and 254 images were removed from the dataset. The images were converted from PVRG-JPEG to 8-bit raw binary bitmaps. Python tools were developed to convert the 8-bit images to 16-bit grayscale TIFF files, which were later converted to DICOM. The bash and C preprocessing tools were re-implemented in Python to be cross-platform. Convenience images were cropped around the region of interest for researchers analyzing only the abnormalities. Precise segmentation was applied to the calcification images providing much more accurate regions of interest, and the data were split into training and test sets, based on the BI-RADS category to support method evaluation and reproducibility.\n",
    "\n",
    "### Dataset Statistics\n",
    "\n",
    "CBIS-DDSM were obtained from the Cancer Imaging Archive {cite}`clarkCancerImagingArchive2013` and are summarized below:\n",
    "\n",
    "```{table} CBIS-DDSM Statistics\n",
    "\n",
    "| Collection Statistics  |        |\n",
    "| ---------------------- | ------ |\n",
    "| Image Size (GB)        | 163.6  |\n",
    "| Modalities             | MG     |\n",
    "| Number of Images       | 10239  |\n",
    "| Number of Participants | 1,566  |\n",
    "| Number of Series       | 6775   |\n",
    "| Number of Studies      | 6775   |\n",
    "```\n",
    "\n",
    "The CBIS-DDSM data were split into training and test (20%), sets based on BI-RADS category. Splitting by abnormality type, 20% of the cases were allocated to the test sets and the remaining were designated for training {cite}`sawyer-leeCuratedBreastImaging2016`.\n",
    "\n",
    "```{table} CBIS-DDSM Training and Test Sets\n",
    "\n",
    "| Dataset                    | Benign Cases                  | Malignant Cases               |\n",
    "|----------------------------|-------------------------------|-------------------------------|\n",
    "| Calcification Training Set | 329 Cases (552 Abnormalities) | 273 Cases (304 Abnormalities) |\n",
    "| Calcification Test Set     | 85 Cases (112 Abnormalities)  | 66 Cases (77 Abnormalities)   |\n",
    "| Mass Training Set          | 355 Cases (387 Abnormalities) | 336 Cases (361 Abnormalities) |\n",
    "| Mass Test Set              | 117 Cases (135 Abnormalities) | 83 Cases (87 Abnormalities)   |\n",
    "```\n",
    "\n",
    "### Dataset Organization\n",
    "\n",
    "The following files contain the mammography and ROIs for the cases with calcifications.\n",
    "\n",
    "```{table} CBIS-DDSM Mammography Files for Calcification Cases\n",
    "\n",
    "| Type   | Filename                             | Format |\n",
    "| ------ | ------------------------------------ | ------ |\n",
    "| Images | Calc-Test Full Mammogram Images      | DICOM  |\n",
    "| Images | Calc-Test ROI and Cropped Images     | DICOM  |\n",
    "| Images | Calc-Training Full Mammogram Images  | DICOM  |\n",
    "| Images | Calc-Training ROI and Cropped Images | DICOM  |\n",
    "```\n",
    "\n",
    "The following files contain the mammography and ROIs for the mass cases.\n",
    "\n",
    "```{table} CBIS-DDSM Mammography Files for Mass Cases\n",
    "\n",
    "\n",
    "| Type   | Filename                             | Format |\n",
    "| ------ | ------------------------------------ | ------ |\n",
    "| Images | Mass-Test Full Mammogram Images      | DICOM  |\n",
    "| Images | Mass-Test ROI and Cropped Images     | DICOM  |\n",
    "| Images | Mass-Training Full Mammogram Images  | DICOM  |\n",
    "| Images | Mass-Training ROI and Cropped Images | DICOM  |\n",
    "```\n",
    "\n",
    "There are separate metadata files for the train and test calcification and mass cases.\n",
    "\n",
    "```{table} CBIS-DDSM Metadata\n",
    "\n",
    "| Type     | Filename                  | Format |\n",
    "| -------- | ------------------------- | ------ |\n",
    "| Metadata | Calc-Test-Description     | csv    |\n",
    "| Metadata | Calc-Training-Description | csv    |\n",
    "| Metadata | Mass-Test-Description     | csv    |\n",
    "| Metadata | Mass-Training-Description | csv    |\n",
    "```\n",
    "\n",
    "Metadata for each abnormality above contains:\n",
    "\n",
    "- Patient ID: the first 7 characters of images in the case file*\n",
    "- Density category\n",
    "- Breast: Left or Right\n",
    "- View: CC or MLO\n",
    "- Number of abnormality for the image (This is necessary as there are some cases containing multiple abnormalities.)\n",
    "- Mass shape (when applicable)\n",
    "- Mass margin (when applicable)\n",
    "- Calcification type (when applicable)\n",
    "- Calcification distribution (when applicable)\n",
    "- BI-RADS assessment\n",
    "- Pathology: Benign, Benign without call-back, or Malignant\n",
    "- Subtlety rating: Radiologists’ rating of difficulty in viewing the abnormality in the image\n",
    "- Path to image files\n",
    "\n",
    "Note, pathology contains three values, two of which indicate benign. A 'diagnosis' variable has been added to indicate whether the abnormality was diagnosed as benign or malignant."
   ]
  },
  {
   "cell_type": "code",
   "execution_count": 1,
   "id": "48993264",
   "metadata": {
    "tags": [
     "hide-cell"
    ]
   },
   "outputs": [],
   "source": [
    "import sys\n",
    "import os\n",
    "os.chdir(os.path.abspath(os.path.join(\"../..\")))\n",
    "import warnings\n",
    "warnings.filterwarnings(\"ignore\")\n",
    "\n",
    "from tqdm import tqdm\n",
    "import pandas as pd\n",
    "from scipy import stats\n",
    "from IPython.display import display_html\n",
    "import numpy as np\n",
    "import matplotlib.pyplot as plt\n",
    "import seaborn as sns\n",
    "import pydicom\n",
    "from PIL import Image\n",
    "from studioai.stats.inferential.cramersv import CramersVAnalysis\n",
    "from studioai.stats.inferential.kendallstau import KendallsTauAnalysis\n",
    "from bcd.data.dataset import CBISMeta\n",
    "from bcd.data.prep import ImageMetaPrep\n",
    "sns.set_style('whitegrid')\n",
    "sns.set_palette(\"Blues_r\")"
   ]
  },
  {
   "cell_type": "markdown",
   "id": "a9aa1704",
   "metadata": {},
   "source": [
    "## Exploratory Data Analysis Plan\n",
    "### Exploratory Data Analysis Guiding Questions\n",
    "\n",
    "> “Far better an approximate answer to the right question, which is often vague, than an exact answer to the wrong question,\n",
    "> which can always be made precise.” — John Tukey\n",
    "\n",
    "Here, we'll put forward a set of questions and an approach to guide the analysis and discovery.\n",
    "\n",
    "1. Density is considered a potential signal of pathology. How does density relate to diagnosis in the CBIS-DDSM dataset?\n",
    "2. Does density and abnormality type relate?\n",
    "3. What does density and abnormality type indicate w.r.t diagnosis?\n",
    "4. Which abnormality type is most malignant in the dataset?\n",
    "5. Which abnormality type is more subtle?\n",
    "\n",
    "Regarding Calcifications:\n",
    "1. What do density, calcification type, and distribution imply about subtlety and pathology?\n",
    "2. How does calcification type relate to subtlety? pathology?\n",
    "3. What does calcification distribution relate to subtlety, pathology?\n",
    "\n",
    "For masses:\n",
    "1. What do density, mass shape, and margin imply about subtlety and pathology?\n",
    "2. What do density and calcification type and distribution imply about subtlety and pathology?\n",
    "3. How does mass shape relate to subtlety? pathology?\n",
    "4. How does mass margin relate to subtlety? pathology?\n",
    "\n",
    "\n",
    "### Exploratory Data Analysis: Data Preparation\n",
    "Several issues must be addressed before engaging in the EDA. First, the data are split into training and test sets for each abnormality type. The objective of the EDA is to evaluate the *entire* dataset before making any assumptions. Hence, data currently split into training and test sets must be combined. In addition, the data are split by abnormality type. Variables such as breast density, subtlety, BI-RADS assessment, and diagnosis are common to mass and calcification cases and should be analyzed together. A cross-dataset containing the intersection of variables in the mass and calcification datasets must be created to explore these common variables across abnormality types. The target variable, pathology, currently contains three distinct values: 'MALIGNANT', 'BENIGH', and 'BENIGN WITHOUT CALLBACK'. Our classification task requires two outcomes, 'MALIGNANT', and 'BENIGN'. A new variable must be created that combines 'BENIGN' and 'BENIGN WITHOUT CALLBACK' for analysis and modeling. Image size, dimension, aspect ratio, and pixel values are properties that must be understood before feature engineering and modeling. These properties must be extracted from the DICOM files for analysis.  Finally, the file path variables have no clinical significance and should be removed. Hence, we will be performing the following data preparation tasks.\n",
    "\n",
    "1. Add Diagnosis Variable: There are three pathologies for our binary classification task ['MALIGNANT', 'BENIGN', 'BENIGN_WITHOUT_CALLBACK']. For this analysis, we will add a new binary variable, 'diagnosis' having two values, 'MALIGNANT', and 'BENIGN'. \n",
    "2. Drop Pathology Variable: For this effort, the diagnosis variable will replace the pathology variable.\n",
    "3. Drop the file path variables from the datasets as they have no clinical value.\n",
    "4. Merge the training and test datasets for calcification and mass cases.\n",
    "5. Create a cross-dataset containing the intersection of variables in the calcification and mass cases.\n",
    "6. Create an image metadata dataset containing image properties.\n",
    "\n",
    "In terms of structure, we'll be encoding low-cardinality nominal variables as categorical variables.\n",
    "\n",
    "Once data preparation is complete, we'll have four datasets:\n",
    "1. Cross-Dataset: Dataset containing training and test data comprised of the intersection of variables in mass and calcification datasets.\n",
    "2. Calcification Dataset: Training and test data for all calcification cases.\n",
    "3. Mass Dataset: Training and test data for all mass cases. \n",
    "4. Image Dataset: Metadata for each image in the CBIS-DDSM.\n",
    "\n",
    "   \n",
    "### Exploratory Data Analysis Approach\n",
    "Once the data are prepared, our EDA will proceed in five stages:\n",
    "\n",
    "| Stage | Analysis              | Focus                                                                                                                  |\n",
    "|-------|-----------------------|------------------------------------------------------------------------------------------------------------------------|\n",
    "| 0     | Quality Analysis      | Analyze quality of dataset, identify potential issues, and errors.                                                     |\n",
    "| 1     | Univariate Analysis   | Explore descriptive statistics for each variable in the datasets separately.                                           |\n",
    "| 2     | Bivariate Analysis    | Analyze pairwise relationships between variables.                                                                      |\n",
    "| 3     | Multivariate Analysis | Evaluate the relationships among multiple variables (more than two) and patterns.                                      |\n",
    "| 4     | Image Analysis        | Evaluate size, aspect ratio, width, heigth and other image properties to identify any issues for the modeling phase.   |\n",
    "\n",
    "Each stage will be performed on each of the three datasets described above.\n",
    "\n",
    "Let's start by preparing the datasets we'll need for the analyses.\n",
    "\n",
    "## Exploratory Data Preparation\n"
   ]
  },
  {
   "cell_type": "code",
   "execution_count": 2,
   "id": "50d824d0",
   "metadata": {
    "tags": [
     "remove-input"
    ]
   },
   "outputs": [],
   "source": [
    "# Filepaths\n",
    "fpimagein =  \"/home/john/projects/bcd/data/staging/meta/metadata.csv\"\n",
    "fpimageout = \"/home/john/projects/bcd/data/staging/meta/image_metadata.csv\"\n",
    "fpc1 = \"/home/john/projects/bcd/data/raw/meta/calc_case_description_train_set.csv\"\n",
    "fpc2 = \"/home/john/projects/bcd/data/raw/meta/calc_case_description_test_set.csv\"\n",
    "fpm1 = \"/home/john/projects/bcd/data/raw/meta/mass_case_description_train_set.csv\"\n",
    "fpm2 = \"/home/john/projects/bcd/data/raw/meta/mass_case_description_test_set.csv\"\n",
    "fp =   \"/home/john/projects/bcd/data/processed/meta/case_metadata.csv\""
   ]
  },
  {
   "cell_type": "code",
   "execution_count": 5,
   "id": "ed185b96",
   "metadata": {
    "tags": [
     "remove-input"
    ]
   },
   "outputs": [],
   "source": [
    "## Dataframes\n",
    "dfc1 = pd.read_csv(fpc1)\n",
    "dfc2 = pd.read_csv(fpc2)\n",
    "dfm1 = pd.read_csv(fpm1)\n",
    "dfm2 = pd.read_csv(fpm2)\n",
    "# Remove the file path columns.\n",
    "dfc1 = dfc1.drop(columns=['image file path','cropped image file path','ROI mask file path'])\n",
    "dfc2 = dfc2.drop(columns=['image file path','cropped image file path','ROI mask file path'])\n",
    "dfm1 = dfm1.drop(columns=['image file path','cropped image file path','ROI mask file path'])\n",
    "dfm2 = dfm2.drop(columns=['image file path','cropped image file path','ROI mask file path'])\n",
    "\n",
    "# Rename breast density column\n",
    "dfm1.rename(columns={'breast_density': 'breast density'}, inplace=True)\n",
    "dfm2.rename(columns={'breast_density': 'breast density'}, inplace=True)\n",
    "# Add 'diagnosis' variable\n",
    "dfc1['diagnosis'] = np.where(dfc1['pathology'] == 'MALIGNANT', 'MALIGNANT', 'BENIGN')\n",
    "dfc2['diagnosis'] = np.where(dfc2['pathology'] == 'MALIGNANT', 'MALIGNANT', 'BENIGN')\n",
    "dfm1['diagnosis'] = np.where(dfm1['pathology'] == 'MALIGNANT', 'MALIGNANT', 'BENIGN')\n",
    "dfm2['diagnosis'] = np.where(dfm2['pathology'] == 'MALIGNANT', 'MALIGNANT', 'BENIGN')\n",
    "# Drop pathology \n",
    "dfc1 = dfc1.drop(columns=['pathology'])\n",
    "dfc2 = dfc2.drop(columns=['pathology'])\n",
    "dfm1 = dfm1.drop(columns=['pathology'])\n",
    "dfm2 = dfm2.drop(columns=['pathology'])\n",
    "## DataFrames by Abnormality Type\n",
    "dfc = pd.concat([dfc1,dfc2], axis=0)\n",
    "dfm = pd.concat([dfm1,dfm2], axis=0)\n",
    "# Convert nominal variables to category\n",
    "dfc = dfc.astype({'left or right breast':'category', 'image view': 'category', 'abnormality type': 'category','calc type': 'category', 'calc distribution': 'category', 'diagnosis': 'category'})\n",
    "dfm = dfm.astype({'left or right breast':'category', 'image view': 'category', 'abnormality type': 'category','mass shape': 'category', 'mass margins': 'category', 'diagnosis': 'category'})\n",
    "# Whole DataFrames\n",
    "df1 = dfc.drop(columns=['calc type', 'calc distribution'])\n",
    "df2 = dfm.drop(columns=['mass shape', 'mass margins'])\n",
    "df = pd.concat([df1,df2], axis=0)\n",
    "df = df.astype({'left or right breast':'category', 'image view': 'category', 'abnormality type': 'category', 'diagnosis': 'category'})\n",
    "df.to_csv(path_or_buf=fp, index=False)\n",
    "# Image MetaData\n",
    "mp = ImageMetaPrep(infilepath=fpimagein, outfilepath=fpimageout)\n",
    "mp.prep_images()\n",
    "dfi = pd.read_csv(fpimageout)\n",
    "# CBIS Datasets\n",
    "ds = CBISMeta(df=df)  # Cross dataset\n",
    "dsc = CBISMeta(df=dfc)  # Calcification Dataset\n",
    "dsm = CBISMeta(df=dfm)  # Mass Dataset\n",
    "dsi = CBISMeta(df=dfi) # Image Dataset\n"
   ]
  },
  {
   "cell_type": "markdown",
   "id": "590a8da4",
   "metadata": {},
   "source": [
    "## Exploratory Data Analysis - Stage 0: Quality Analysis\n",
    "This initial stage will examine data quality of each dataset across the following dimensions:\n",
    "1. Accuracy: Are the data correct? Are the values valid?\n",
    "2. Completeness: Are the data complete?\n",
    "3. Consistency: Are the image and metadata consistent?\n",
    "4. Relevance: Are the data relevant for the classification task? Removing non-clinical data, e.g. filepaths, has given us a jump-start on the relevance dimension.\n",
    "5. Uniqueness: Are there duplicate records? \n",
    "\n",
    "\n",
    "### Cross-Dataset EDA"
   ]
  },
  {
   "cell_type": "code",
   "execution_count": 8,
   "id": "28f799e9",
   "metadata": {},
   "outputs": [
    {
     "data": {
      "text/html": [
       "<div>\n",
       "<style scoped>\n",
       "    .dataframe tbody tr th:only-of-type {\n",
       "        vertical-align: middle;\n",
       "    }\n",
       "\n",
       "    .dataframe tbody tr th {\n",
       "        vertical-align: top;\n",
       "    }\n",
       "\n",
       "    .dataframe thead th {\n",
       "        text-align: right;\n",
       "    }\n",
       "</style>\n",
       "<table border=\"1\" class=\"dataframe\">\n",
       "  <thead>\n",
       "    <tr style=\"text-align: right;\">\n",
       "      <th></th>\n",
       "      <th>patient_id</th>\n",
       "      <th>breast density</th>\n",
       "      <th>left or right breast</th>\n",
       "      <th>image view</th>\n",
       "      <th>abnormality id</th>\n",
       "      <th>abnormality type</th>\n",
       "      <th>assessment</th>\n",
       "      <th>subtlety</th>\n",
       "      <th>diagnosis</th>\n",
       "    </tr>\n",
       "  </thead>\n",
       "  <tbody>\n",
       "    <tr>\n",
       "      <th>0</th>\n",
       "      <td>P_00005</td>\n",
       "      <td>3</td>\n",
       "      <td>RIGHT</td>\n",
       "      <td>CC</td>\n",
       "      <td>1</td>\n",
       "      <td>calcification</td>\n",
       "      <td>3</td>\n",
       "      <td>3</td>\n",
       "      <td>MALIGNANT</td>\n",
       "    </tr>\n",
       "    <tr>\n",
       "      <th>1</th>\n",
       "      <td>P_00005</td>\n",
       "      <td>3</td>\n",
       "      <td>RIGHT</td>\n",
       "      <td>MLO</td>\n",
       "      <td>1</td>\n",
       "      <td>calcification</td>\n",
       "      <td>3</td>\n",
       "      <td>3</td>\n",
       "      <td>MALIGNANT</td>\n",
       "    </tr>\n",
       "    <tr>\n",
       "      <th>2</th>\n",
       "      <td>P_00007</td>\n",
       "      <td>4</td>\n",
       "      <td>LEFT</td>\n",
       "      <td>CC</td>\n",
       "      <td>1</td>\n",
       "      <td>calcification</td>\n",
       "      <td>4</td>\n",
       "      <td>4</td>\n",
       "      <td>BENIGN</td>\n",
       "    </tr>\n",
       "    <tr>\n",
       "      <th>3</th>\n",
       "      <td>P_00007</td>\n",
       "      <td>4</td>\n",
       "      <td>LEFT</td>\n",
       "      <td>MLO</td>\n",
       "      <td>1</td>\n",
       "      <td>calcification</td>\n",
       "      <td>4</td>\n",
       "      <td>4</td>\n",
       "      <td>BENIGN</td>\n",
       "    </tr>\n",
       "    <tr>\n",
       "      <th>4</th>\n",
       "      <td>P_00008</td>\n",
       "      <td>1</td>\n",
       "      <td>LEFT</td>\n",
       "      <td>CC</td>\n",
       "      <td>1</td>\n",
       "      <td>calcification</td>\n",
       "      <td>2</td>\n",
       "      <td>3</td>\n",
       "      <td>BENIGN</td>\n",
       "    </tr>\n",
       "  </tbody>\n",
       "</table>\n",
       "</div>"
      ],
      "text/plain": [
       "  patient_id  breast density left or right breast image view  abnormality id  \\\n",
       "0    P_00005               3                RIGHT         CC               1   \n",
       "1    P_00005               3                RIGHT        MLO               1   \n",
       "2    P_00007               4                 LEFT         CC               1   \n",
       "3    P_00007               4                 LEFT        MLO               1   \n",
       "4    P_00008               1                 LEFT         CC               1   \n",
       "\n",
       "  abnormality type  assessment  subtlety  diagnosis  \n",
       "0    calcification           3         3  MALIGNANT  \n",
       "1    calcification           3         3  MALIGNANT  \n",
       "2    calcification           4         4     BENIGN  \n",
       "3    calcification           4         4     BENIGN  \n",
       "4    calcification           2         3     BENIGN  "
      ]
     },
     "execution_count": 8,
     "metadata": {},
     "output_type": "execute_result"
    }
   ],
   "source": [
    "ds.head()"
   ]
  },
  {
   "cell_type": "code",
   "execution_count": 6,
   "id": "6815bdee",
   "metadata": {},
   "outputs": [
    {
     "data": {
      "text/html": [
       "<div>\n",
       "<style scoped>\n",
       "    .dataframe tbody tr th:only-of-type {\n",
       "        vertical-align: middle;\n",
       "    }\n",
       "\n",
       "    .dataframe tbody tr th {\n",
       "        vertical-align: top;\n",
       "    }\n",
       "\n",
       "    .dataframe thead th {\n",
       "        text-align: right;\n",
       "    }\n",
       "</style>\n",
       "<table border=\"1\" class=\"dataframe\">\n",
       "  <thead>\n",
       "    <tr style=\"text-align: right;\">\n",
       "      <th></th>\n",
       "      <th>Column</th>\n",
       "      <th>DataType</th>\n",
       "      <th>Valid</th>\n",
       "      <th>Null</th>\n",
       "      <th>Validity</th>\n",
       "      <th>Cardinality</th>\n",
       "      <th>Percent Unique</th>\n",
       "      <th>Size</th>\n",
       "    </tr>\n",
       "  </thead>\n",
       "  <tbody>\n",
       "    <tr>\n",
       "      <th>0</th>\n",
       "      <td>patient_id</td>\n",
       "      <td>object</td>\n",
       "      <td>3568</td>\n",
       "      <td>0</td>\n",
       "      <td>1.00</td>\n",
       "      <td>1566</td>\n",
       "      <td>0.44</td>\n",
       "      <td>228352</td>\n",
       "    </tr>\n",
       "    <tr>\n",
       "      <th>1</th>\n",
       "      <td>breast density</td>\n",
       "      <td>int64</td>\n",
       "      <td>3568</td>\n",
       "      <td>0</td>\n",
       "      <td>1.00</td>\n",
       "      <td>5</td>\n",
       "      <td>0.00</td>\n",
       "      <td>28544</td>\n",
       "    </tr>\n",
       "    <tr>\n",
       "      <th>2</th>\n",
       "      <td>left or right breast</td>\n",
       "      <td>category</td>\n",
       "      <td>3568</td>\n",
       "      <td>0</td>\n",
       "      <td>1.00</td>\n",
       "      <td>2</td>\n",
       "      <td>0.00</td>\n",
       "      <td>3799</td>\n",
       "    </tr>\n",
       "    <tr>\n",
       "      <th>3</th>\n",
       "      <td>image view</td>\n",
       "      <td>category</td>\n",
       "      <td>3568</td>\n",
       "      <td>0</td>\n",
       "      <td>1.00</td>\n",
       "      <td>2</td>\n",
       "      <td>0.00</td>\n",
       "      <td>3795</td>\n",
       "    </tr>\n",
       "    <tr>\n",
       "      <th>4</th>\n",
       "      <td>abnormality id</td>\n",
       "      <td>int64</td>\n",
       "      <td>3568</td>\n",
       "      <td>0</td>\n",
       "      <td>1.00</td>\n",
       "      <td>7</td>\n",
       "      <td>0.00</td>\n",
       "      <td>28544</td>\n",
       "    </tr>\n",
       "    <tr>\n",
       "      <th>5</th>\n",
       "      <td>abnormality type</td>\n",
       "      <td>category</td>\n",
       "      <td>3568</td>\n",
       "      <td>0</td>\n",
       "      <td>1.00</td>\n",
       "      <td>2</td>\n",
       "      <td>0.00</td>\n",
       "      <td>3807</td>\n",
       "    </tr>\n",
       "    <tr>\n",
       "      <th>6</th>\n",
       "      <td>assessment</td>\n",
       "      <td>int64</td>\n",
       "      <td>3568</td>\n",
       "      <td>0</td>\n",
       "      <td>1.00</td>\n",
       "      <td>6</td>\n",
       "      <td>0.00</td>\n",
       "      <td>28544</td>\n",
       "    </tr>\n",
       "    <tr>\n",
       "      <th>7</th>\n",
       "      <td>subtlety</td>\n",
       "      <td>int64</td>\n",
       "      <td>3568</td>\n",
       "      <td>0</td>\n",
       "      <td>1.00</td>\n",
       "      <td>6</td>\n",
       "      <td>0.00</td>\n",
       "      <td>28544</td>\n",
       "    </tr>\n",
       "    <tr>\n",
       "      <th>8</th>\n",
       "      <td>diagnosis</td>\n",
       "      <td>category</td>\n",
       "      <td>3568</td>\n",
       "      <td>0</td>\n",
       "      <td>1.00</td>\n",
       "      <td>2</td>\n",
       "      <td>0.00</td>\n",
       "      <td>3805</td>\n",
       "    </tr>\n",
       "  </tbody>\n",
       "</table>\n",
       "</div>"
      ],
      "text/plain": [
       "                 Column  DataType  Valid  Null  Validity  Cardinality  \\\n",
       "0            patient_id    object   3568     0      1.00         1566   \n",
       "1        breast density     int64   3568     0      1.00            5   \n",
       "2  left or right breast  category   3568     0      1.00            2   \n",
       "3            image view  category   3568     0      1.00            2   \n",
       "4        abnormality id     int64   3568     0      1.00            7   \n",
       "5      abnormality type  category   3568     0      1.00            2   \n",
       "6            assessment     int64   3568     0      1.00            6   \n",
       "7              subtlety     int64   3568     0      1.00            6   \n",
       "8             diagnosis  category   3568     0      1.00            2   \n",
       "\n",
       "   Percent Unique    Size  \n",
       "0            0.44  228352  \n",
       "1            0.00   28544  \n",
       "2            0.00    3799  \n",
       "3            0.00    3795  \n",
       "4            0.00   28544  \n",
       "5            0.00    3807  \n",
       "6            0.00   28544  \n",
       "7            0.00   28544  \n",
       "8            0.00    3805  "
      ]
     },
     "execution_count": 6,
     "metadata": {},
     "output_type": "execute_result"
    },
    {
     "data": {
      "text/html": [
       "<div>\n",
       "<style scoped>\n",
       "    .dataframe tbody tr th:only-of-type {\n",
       "        vertical-align: middle;\n",
       "    }\n",
       "\n",
       "    .dataframe tbody tr th {\n",
       "        vertical-align: top;\n",
       "    }\n",
       "\n",
       "    .dataframe thead th {\n",
       "        text-align: right;\n",
       "    }\n",
       "</style>\n",
       "<table border=\"1\" class=\"dataframe\">\n",
       "  <thead>\n",
       "    <tr style=\"text-align: right;\">\n",
       "      <th></th>\n",
       "      <th>Column</th>\n",
       "      <th>DataType</th>\n",
       "      <th>Valid</th>\n",
       "      <th>Null</th>\n",
       "      <th>Validity</th>\n",
       "      <th>Cardinality</th>\n",
       "      <th>Percent Unique</th>\n",
       "      <th>Size</th>\n",
       "    </tr>\n",
       "  </thead>\n",
       "  <tbody>\n",
       "    <tr>\n",
       "      <th>0</th>\n",
       "      <td>patient_id</td>\n",
       "      <td>object</td>\n",
       "      <td>1872</td>\n",
       "      <td>0</td>\n",
       "      <td>1.00</td>\n",
       "      <td>753</td>\n",
       "      <td>0.40</td>\n",
       "      <td>119808</td>\n",
       "    </tr>\n",
       "    <tr>\n",
       "      <th>1</th>\n",
       "      <td>breast density</td>\n",
       "      <td>int64</td>\n",
       "      <td>1872</td>\n",
       "      <td>0</td>\n",
       "      <td>1.00</td>\n",
       "      <td>5</td>\n",
       "      <td>0.00</td>\n",
       "      <td>14976</td>\n",
       "    </tr>\n",
       "    <tr>\n",
       "      <th>2</th>\n",
       "      <td>left or right breast</td>\n",
       "      <td>category</td>\n",
       "      <td>1872</td>\n",
       "      <td>0</td>\n",
       "      <td>1.00</td>\n",
       "      <td>2</td>\n",
       "      <td>0.00</td>\n",
       "      <td>2103</td>\n",
       "    </tr>\n",
       "    <tr>\n",
       "      <th>3</th>\n",
       "      <td>image view</td>\n",
       "      <td>category</td>\n",
       "      <td>1872</td>\n",
       "      <td>0</td>\n",
       "      <td>1.00</td>\n",
       "      <td>2</td>\n",
       "      <td>0.00</td>\n",
       "      <td>2099</td>\n",
       "    </tr>\n",
       "    <tr>\n",
       "      <th>4</th>\n",
       "      <td>abnormality id</td>\n",
       "      <td>int64</td>\n",
       "      <td>1872</td>\n",
       "      <td>0</td>\n",
       "      <td>1.00</td>\n",
       "      <td>7</td>\n",
       "      <td>0.00</td>\n",
       "      <td>14976</td>\n",
       "    </tr>\n",
       "    <tr>\n",
       "      <th>5</th>\n",
       "      <td>abnormality type</td>\n",
       "      <td>category</td>\n",
       "      <td>1872</td>\n",
       "      <td>0</td>\n",
       "      <td>1.00</td>\n",
       "      <td>1</td>\n",
       "      <td>0.00</td>\n",
       "      <td>2050</td>\n",
       "    </tr>\n",
       "    <tr>\n",
       "      <th>6</th>\n",
       "      <td>calc type</td>\n",
       "      <td>category</td>\n",
       "      <td>1848</td>\n",
       "      <td>24</td>\n",
       "      <td>0.99</td>\n",
       "      <td>47</td>\n",
       "      <td>0.03</td>\n",
       "      <td>6710</td>\n",
       "    </tr>\n",
       "    <tr>\n",
       "      <th>7</th>\n",
       "      <td>calc distribution</td>\n",
       "      <td>category</td>\n",
       "      <td>1433</td>\n",
       "      <td>439</td>\n",
       "      <td>0.77</td>\n",
       "      <td>9</td>\n",
       "      <td>0.00</td>\n",
       "      <td>2804</td>\n",
       "    </tr>\n",
       "    <tr>\n",
       "      <th>8</th>\n",
       "      <td>assessment</td>\n",
       "      <td>int64</td>\n",
       "      <td>1872</td>\n",
       "      <td>0</td>\n",
       "      <td>1.00</td>\n",
       "      <td>5</td>\n",
       "      <td>0.00</td>\n",
       "      <td>14976</td>\n",
       "    </tr>\n",
       "    <tr>\n",
       "      <th>9</th>\n",
       "      <td>subtlety</td>\n",
       "      <td>int64</td>\n",
       "      <td>1872</td>\n",
       "      <td>0</td>\n",
       "      <td>1.00</td>\n",
       "      <td>5</td>\n",
       "      <td>0.00</td>\n",
       "      <td>14976</td>\n",
       "    </tr>\n",
       "    <tr>\n",
       "      <th>10</th>\n",
       "      <td>diagnosis</td>\n",
       "      <td>category</td>\n",
       "      <td>1872</td>\n",
       "      <td>0</td>\n",
       "      <td>1.00</td>\n",
       "      <td>2</td>\n",
       "      <td>0.00</td>\n",
       "      <td>2109</td>\n",
       "    </tr>\n",
       "  </tbody>\n",
       "</table>\n",
       "</div>"
      ],
      "text/plain": [
       "                  Column  DataType  Valid  Null  Validity  Cardinality  \\\n",
       "0             patient_id    object   1872     0      1.00          753   \n",
       "1         breast density     int64   1872     0      1.00            5   \n",
       "2   left or right breast  category   1872     0      1.00            2   \n",
       "3             image view  category   1872     0      1.00            2   \n",
       "4         abnormality id     int64   1872     0      1.00            7   \n",
       "5       abnormality type  category   1872     0      1.00            1   \n",
       "6              calc type  category   1848    24      0.99           47   \n",
       "7      calc distribution  category   1433   439      0.77            9   \n",
       "8             assessment     int64   1872     0      1.00            5   \n",
       "9               subtlety     int64   1872     0      1.00            5   \n",
       "10             diagnosis  category   1872     0      1.00            2   \n",
       "\n",
       "    Percent Unique    Size  \n",
       "0             0.40  119808  \n",
       "1             0.00   14976  \n",
       "2             0.00    2103  \n",
       "3             0.00    2099  \n",
       "4             0.00   14976  \n",
       "5             0.00    2050  \n",
       "6             0.03    6710  \n",
       "7             0.00    2804  \n",
       "8             0.00   14976  \n",
       "9             0.00   14976  \n",
       "10            0.00    2109  "
      ]
     },
     "execution_count": 6,
     "metadata": {},
     "output_type": "execute_result"
    },
    {
     "data": {
      "text/html": [
       "<div>\n",
       "<style scoped>\n",
       "    .dataframe tbody tr th:only-of-type {\n",
       "        vertical-align: middle;\n",
       "    }\n",
       "\n",
       "    .dataframe tbody tr th {\n",
       "        vertical-align: top;\n",
       "    }\n",
       "\n",
       "    .dataframe thead th {\n",
       "        text-align: right;\n",
       "    }\n",
       "</style>\n",
       "<table border=\"1\" class=\"dataframe\">\n",
       "  <thead>\n",
       "    <tr style=\"text-align: right;\">\n",
       "      <th></th>\n",
       "      <th>Column</th>\n",
       "      <th>DataType</th>\n",
       "      <th>Valid</th>\n",
       "      <th>Null</th>\n",
       "      <th>Validity</th>\n",
       "      <th>Cardinality</th>\n",
       "      <th>Percent Unique</th>\n",
       "      <th>Size</th>\n",
       "    </tr>\n",
       "  </thead>\n",
       "  <tbody>\n",
       "    <tr>\n",
       "      <th>0</th>\n",
       "      <td>patient_id</td>\n",
       "      <td>object</td>\n",
       "      <td>1696</td>\n",
       "      <td>0</td>\n",
       "      <td>1.00</td>\n",
       "      <td>892</td>\n",
       "      <td>0.53</td>\n",
       "      <td>108544</td>\n",
       "    </tr>\n",
       "    <tr>\n",
       "      <th>1</th>\n",
       "      <td>breast density</td>\n",
       "      <td>int64</td>\n",
       "      <td>1696</td>\n",
       "      <td>0</td>\n",
       "      <td>1.00</td>\n",
       "      <td>4</td>\n",
       "      <td>0.00</td>\n",
       "      <td>13568</td>\n",
       "    </tr>\n",
       "    <tr>\n",
       "      <th>2</th>\n",
       "      <td>left or right breast</td>\n",
       "      <td>category</td>\n",
       "      <td>1696</td>\n",
       "      <td>0</td>\n",
       "      <td>1.00</td>\n",
       "      <td>2</td>\n",
       "      <td>0.00</td>\n",
       "      <td>1927</td>\n",
       "    </tr>\n",
       "    <tr>\n",
       "      <th>3</th>\n",
       "      <td>image view</td>\n",
       "      <td>category</td>\n",
       "      <td>1696</td>\n",
       "      <td>0</td>\n",
       "      <td>1.00</td>\n",
       "      <td>2</td>\n",
       "      <td>0.00</td>\n",
       "      <td>1923</td>\n",
       "    </tr>\n",
       "    <tr>\n",
       "      <th>4</th>\n",
       "      <td>abnormality id</td>\n",
       "      <td>int64</td>\n",
       "      <td>1696</td>\n",
       "      <td>0</td>\n",
       "      <td>1.00</td>\n",
       "      <td>6</td>\n",
       "      <td>0.00</td>\n",
       "      <td>13568</td>\n",
       "    </tr>\n",
       "    <tr>\n",
       "      <th>5</th>\n",
       "      <td>abnormality type</td>\n",
       "      <td>category</td>\n",
       "      <td>1696</td>\n",
       "      <td>0</td>\n",
       "      <td>1.00</td>\n",
       "      <td>1</td>\n",
       "      <td>0.00</td>\n",
       "      <td>1865</td>\n",
       "    </tr>\n",
       "    <tr>\n",
       "      <th>6</th>\n",
       "      <td>mass shape</td>\n",
       "      <td>category</td>\n",
       "      <td>1692</td>\n",
       "      <td>4</td>\n",
       "      <td>1.00</td>\n",
       "      <td>20</td>\n",
       "      <td>0.01</td>\n",
       "      <td>3784</td>\n",
       "    </tr>\n",
       "    <tr>\n",
       "      <th>7</th>\n",
       "      <td>mass margins</td>\n",
       "      <td>category</td>\n",
       "      <td>1636</td>\n",
       "      <td>60</td>\n",
       "      <td>0.96</td>\n",
       "      <td>19</td>\n",
       "      <td>0.01</td>\n",
       "      <td>3766</td>\n",
       "    </tr>\n",
       "    <tr>\n",
       "      <th>8</th>\n",
       "      <td>assessment</td>\n",
       "      <td>int64</td>\n",
       "      <td>1696</td>\n",
       "      <td>0</td>\n",
       "      <td>1.00</td>\n",
       "      <td>6</td>\n",
       "      <td>0.00</td>\n",
       "      <td>13568</td>\n",
       "    </tr>\n",
       "    <tr>\n",
       "      <th>9</th>\n",
       "      <td>subtlety</td>\n",
       "      <td>int64</td>\n",
       "      <td>1696</td>\n",
       "      <td>0</td>\n",
       "      <td>1.00</td>\n",
       "      <td>6</td>\n",
       "      <td>0.00</td>\n",
       "      <td>13568</td>\n",
       "    </tr>\n",
       "    <tr>\n",
       "      <th>10</th>\n",
       "      <td>diagnosis</td>\n",
       "      <td>category</td>\n",
       "      <td>1696</td>\n",
       "      <td>0</td>\n",
       "      <td>1.00</td>\n",
       "      <td>2</td>\n",
       "      <td>0.00</td>\n",
       "      <td>1933</td>\n",
       "    </tr>\n",
       "  </tbody>\n",
       "</table>\n",
       "</div>"
      ],
      "text/plain": [
       "                  Column  DataType  Valid  Null  Validity  Cardinality  \\\n",
       "0             patient_id    object   1696     0      1.00          892   \n",
       "1         breast density     int64   1696     0      1.00            4   \n",
       "2   left or right breast  category   1696     0      1.00            2   \n",
       "3             image view  category   1696     0      1.00            2   \n",
       "4         abnormality id     int64   1696     0      1.00            6   \n",
       "5       abnormality type  category   1696     0      1.00            1   \n",
       "6             mass shape  category   1692     4      1.00           20   \n",
       "7           mass margins  category   1636    60      0.96           19   \n",
       "8             assessment     int64   1696     0      1.00            6   \n",
       "9               subtlety     int64   1696     0      1.00            6   \n",
       "10             diagnosis  category   1696     0      1.00            2   \n",
       "\n",
       "    Percent Unique    Size  \n",
       "0             0.53  108544  \n",
       "1             0.00   13568  \n",
       "2             0.00    1927  \n",
       "3             0.00    1923  \n",
       "4             0.00   13568  \n",
       "5             0.00    1865  \n",
       "6             0.01    3784  \n",
       "7             0.01    3766  \n",
       "8             0.00   13568  \n",
       "9             0.00   13568  \n",
       "10            0.00    1933  "
      ]
     },
     "execution_count": 6,
     "metadata": {},
     "output_type": "execute_result"
    }
   ],
   "source": [
    "ds.info\n",
    "dsc.info\n",
    "dsm.info"
   ]
  },
  {
   "cell_type": "markdown",
   "id": "f920656a",
   "metadata": {},
   "source": [
    "**Initial observations:**\n",
    "1. There are 3568 cases of abnormality seen in the craniocaudal (CC) and/or mediolateral oblique (MLO) views.\n",
    "2. We have 1566 patient_ids corresponding to each of the 1566 subjects in the studies.\n",
    "3. Breast density should have a cardinality of 4, not 5.\n",
    "4. There are 7 BI-RADS assessment categories, yet 6 are indicated in the CBIS-DDSM. One would suspect values of [0,5] as a 6 would mean cancer was previously diagnosed using a biopsy.\n",
    "5. As indicated our binary classification has three pathologies ['MALIGNANT', 'BENIGN', and 'BENIGN_WITHOUT_CALLBACK']. We've added the cancer variable to capture the presence of malignancy in the assessment.\n",
    "6. There are 465 duplicate image file paths, indicating several cases on an image."
   ]
  },
  {
   "cell_type": "markdown",
   "id": "10cf04ce",
   "metadata": {},
   "source": [
    "#### Patient Id"
   ]
  },
  {
   "cell_type": "code",
   "execution_count": null,
   "id": "bd833881",
   "metadata": {
    "tags": [
     "remove-input"
    ]
   },
   "outputs": [],
   "source": [
    "print(f\"The total number of patient unique ids {df['patient_id'].nunique()}, corresponding to the number of subjects in the studies.\")\n",
    "print(f\"The median number of images per patient id is {df['patient_id'].value_counts().median()}\")\n",
    "print(f\"The average number of images per patient id is {round(df['patient_id'].value_counts().mean(),2)}\")\n",
    "print(f\"The range of images to patient_ids is {df['patient_id'].value_counts().min()} to {df['patient_id'].value_counts().max()} \")"
   ]
  },
  {
   "cell_type": "markdown",
   "id": "35b085d2",
   "metadata": {},
   "source": [
    "#### Breast Density\n",
    "\n",
    "Radiologists classify breast density using a 4-level density scale {cite}`BreastImagingReporting`:\n",
    "\n",
    "1. Almost entirely fatty\n",
    "2. Scattered areas of fibroglandular density\n",
    "3. Heterogeneously dense\n",
    "4. Extremely dense\n",
    "\n",
    "According to the American College of Radiology™️, breast density in the U.S.:\n",
    "\n",
    "- 10% of women have almost entirely fatty breasts,\n",
    "- 10% have extremely dense breasts,\n",
    "- 40% of women have scattered areas of fibroglandular density\n",
    "- 40% have heterogeneously dense breasts\n",
    "\n",
    "```{figure} ../figures/density.jpg\n",
    ":name: density_ref\n",
    "Breast Density Categories {cite}`WHATAREDENSE`\n",
    "```"
   ]
  },
  {
   "cell_type": "code",
   "execution_count": null,
   "id": "5293b72e",
   "metadata": {
    "tags": [
     "remove-input"
    ]
   },
   "outputs": [],
   "source": [
    "d1 = np.repeat([1], 357)\n",
    "d2 = np.repeat([2], 1427)\n",
    "d3 = np.repeat([3], 1427)\n",
    "d4 = np.repeat([4], 357)\n",
    "d = np.append(arr=d1,values=d2)\n",
    "d = np.append(arr=d,values=d3)\n",
    "d = np.append(arr=d,values=d4)\n",
    "d = {\"Breast Density\": d, \"Sample\": \"U.S.\"}\n",
    "usd = pd.DataFrame(data=d)\n",
    "density = df['breast density'].to_frame()\n",
    "density.rename(columns={'breast density': 'Breast Density'}, inplace=True)\n",
    "density['Sample'] = 'CBIS-DDSM'\n",
    "density = pd.concat([density, usd], axis=0).reset_index()"
   ]
  },
  {
   "cell_type": "markdown",
   "id": "dd8fe64a",
   "metadata": {},
   "source": [
    "The following exhibits the counts by breast density category in the CBIS-DDSM dataset vis-a-vis a sample from the US of the same size."
   ]
  },
  {
   "cell_type": "code",
   "execution_count": null,
   "id": "26423568",
   "metadata": {},
   "outputs": [],
   "source": [
    "fig, ax = plt.subplots(figsize=(12,4))\n",
    "ds.plot.countplot(data=density,x='Breast Density', hue=\"Sample\", ax=ax, title =\"Distribution of Breast Density in CBIS-DDSM vis-a-vis US Population of Same Size\")"
   ]
  },
  {
   "cell_type": "markdown",
   "id": "6f5295cf",
   "metadata": {},
   "source": [
    "If we were to perform a goodness of fit test on the two samples, the null hypothesis of breast density in CBIS-DDSM and breast density in the US Population originating from the same distribution, would likely be rejected. The CBIS-DDSM has fatter tails on both ends of the distribution. Some right skew is extant as well."
   ]
  },
  {
   "cell_type": "markdown",
   "id": "407805af",
   "metadata": {},
   "source": [
    "#### Left or Right Side"
   ]
  },
  {
   "cell_type": "code",
   "execution_count": null,
   "id": "d2a905ab",
   "metadata": {},
   "outputs": [],
   "source": [
    "fig, ax = plt.subplots(figsize=(12,4))\n",
    "ds.plot.countplot(x='left or right breast', ax=ax, title =\"Distribution of Left or Right Side\")"
   ]
  },
  {
   "cell_type": "markdown",
   "id": "f57121da",
   "metadata": {},
   "source": [
    "There are slightly more left views than right; still, the dataset is fairly balanced in this regard for what that's worth."
   ]
  },
  {
   "cell_type": "markdown",
   "id": "29357681",
   "metadata": {},
   "source": [
    "#### Image View\n",
    "In mammography, each breast is typically imaged with two different views: the mediolateral oblique (MLO) view and cranial caudal (CC) view. The MLO view is taken from the center of the chest outward, while the CC view is taken from above the breast downward.\n",
    "```{figure} ../figures/standard_image_views.jpg\n",
    ":name: image_views_ref\n",
    "Standard Radiological Views in Mammography\n",
    "```\n",
    "The CBIS-DDSM distribution of the two views {ref}`image_views_ref` are as follows."
   ]
  },
  {
   "cell_type": "code",
   "execution_count": null,
   "id": "dc778e04",
   "metadata": {},
   "outputs": [],
   "source": [
    "fig, ax = plt.subplots(figsize=(12,4))\n",
    "ds.plot.countplot(x='image view', ax=ax, title =\"Distribution of Image View\")"
   ]
  },
  {
   "cell_type": "markdown",
   "id": "34e841a2",
   "metadata": {},
   "source": [
    "Mediolateral oblique views slightly outnumber craniocaudal views."
   ]
  },
  {
   "cell_type": "markdown",
   "id": "35c6dea8",
   "metadata": {},
   "source": [
    "#### Abnormality Id"
   ]
  },
  {
   "cell_type": "code",
   "execution_count": null,
   "id": "522ee295",
   "metadata": {},
   "outputs": [],
   "source": [
    "fig, ax = plt.subplots(figsize=(12,4))\n",
    "ds.plot.countplot(x='abnormality id', ax=ax, title =\"Distribution of Abnormaility ID\")"
   ]
  },
  {
   "cell_type": "markdown",
   "id": "4d9d5beb",
   "metadata": {},
   "source": [
    "A plurality of patients present only one abnormality.\n",
    "\n",
    "#### Abnormality Type\n",
    "**Breast calcifications**, one of the two types of abnormalities in the CBIS-DDSM, are calcium deposits within breast tissue that appear as white flecks or spots on a mammogram. Common on mammograms, and especially prevalent after age 50, breast calcifications are usually benign; yet, certain patterns, shapes and appearance, may indicate breast cancer or precancerous changes to tissue {cite}`BreastCalcificationsMayo`. \n",
    "\n",
    "**Breast mass** is a lump or growth of breast tissue that differs in its density relative to that of the tissue surrounding it. Masses have a range of causes, including breast cysts, fibrocycstic breast changes, fibroadenomas, injury, infection, intraductal papilloma, lipoma and breast cancer; however, most cases (80% according to Cleveland Clinic) are non-cancerous {cite}`BreastLumpsCauses`.\n",
    "\n"
   ]
  },
  {
   "cell_type": "code",
   "execution_count": null,
   "id": "b2461b39",
   "metadata": {},
   "outputs": [],
   "source": [
    "fig, ax = plt.subplots(figsize=(12,4))\n",
    "ds.plot.countplot(x='abnormality type', ax=ax, title =\"Distribution of Abnormality Type\")"
   ]
  },
  {
   "cell_type": "markdown",
   "id": "94e7b6be",
   "metadata": {},
   "source": [
    "Calcifications make up about 53% of the cases."
   ]
  },
  {
   "cell_type": "markdown",
   "id": "a7fbdf97",
   "metadata": {},
   "source": [
    "#### BI-RADS Assessment\n",
    "Mammographers have assigned each case a BI-RADS score, from 0 to 6, each having a specific clinical meaning and suggested follow-up care {cite}`MammogramResultsBIRADS2022`.\n",
    "- Category 0 means the findings are unclear. The radiologist will need more images to determine a score.\n",
    "- Category 1 means the findings are negative and the breast tissue appears normal. No masses, calcifications, asymmetry or other abnormalities have been found. \n",
    "- Category 2 means the findings are benign, which is also negative for cancer. While a mass, calcification or other abnormality may have been detected, it’s not cancerous.\n",
    "- Category 3 means the findings are probably benign. While a mass, calcification or other abnormality may have been found, it’s most likely not cancerous.\n",
    "- Category 4 means the findings suspect cancer. Category 4 has three subcategories based on the chance of cancer:\n",
    "  - 4A means a low chance of cancer (2 to 10 percent).\n",
    "  - 4B means a moderate chance of cancer (10 to 50 percent).\n",
    "  - 4C means a high chance of cancer (50 to 95 percent).\n",
    "- Category 5 means the findings highly suggest cancer. According to the American Cancer Society {cite}`MammogramResultsUnderstanding`, category 5 findings have a 95 percent chance or higher of being cancerous.\n",
    "- Category 6 means cancer was previously diagnosed using a biopsy."
   ]
  },
  {
   "cell_type": "code",
   "execution_count": null,
   "id": "0f4c666b",
   "metadata": {},
   "outputs": [],
   "source": [
    "fig, ax = plt.subplots(figsize=(12,4))\n",
    "ds.plot.countplot(x='assessment', ax=ax, title =\"Distribution of BI-RADS Assessment\")"
   ]
  },
  {
   "cell_type": "markdown",
   "id": "40f00cc3",
   "metadata": {},
   "source": [
    "#### Sublety\n",
    "Each case contains a mammagrapher-assigned \"subtlety rating\" on a scale of 1 (subtle) to 5 (obvious)."
   ]
  },
  {
   "cell_type": "code",
   "execution_count": null,
   "id": "198b652e",
   "metadata": {},
   "outputs": [],
   "source": [
    "fig, ax = plt.subplots(figsize=(12,4))\n",
    "ds.plot.countplot(x='subtlety', ax=ax, title =\"Distribution of Subtlety\")"
   ]
  },
  {
   "cell_type": "markdown",
   "id": "62ec302b",
   "metadata": {},
   "source": [
    "Two observations have a subtlety of zero, outside of the rating scale of 1 to 5. If were were to include subtlety in a classification model, we mignt consider excluding the 'out of subtlety rating scale' observations from modeling. An alternative would be to assign zero values to the average subtlety, or average subtlety by view. "
   ]
  },
  {
   "cell_type": "markdown",
   "id": "f77dd45b",
   "metadata": {},
   "source": [
    "#### Pathology\n",
    "CBIS-DDSM has categorized the cases in terms of three pathologies.\n",
    "1. **Malignant**: refers to the presence of cancerous cells that have the ability to spread to other sites in the body (metastasize) or to invade nearby  destroy tissues. Malignant cells tend to have fast, uncontrolled growth and do not die normally due to changes in their genetic makeup. Malignant cells that are resistant to treatment may return after all detectable traces of them have been removed or destroyed {cite}`MalignancyMedlinePlusMedical`.\n",
    "2. **Benign**: refers to a non-cancerous calcification or mass that tends to grow only in one place. They cannot spread or invalid other parts of the body. Even so, they can be dangerous if they press on vital organs, such as the brain {cite}`BenignTumors`.\n",
    "3. **Benign without Callback**: refers to an examination determined not to contain a cancer using only the screening exam films. No additional films or biopsy was done. These cases, however, contained something interesting enough for the radiologist to mark {cite}`DDSMOverviewVolume`.\n",
    "\n",
    "The stratification of pathology in CBIS-DDSM follows."
   ]
  },
  {
   "cell_type": "code",
   "execution_count": null,
   "id": "498df056",
   "metadata": {},
   "outputs": [],
   "source": [
    "fig, ax = plt.subplots(figsize=(12,4))\n",
    "ds.plot.countplot(x='pathology', ax=ax, title =\"Distribution of Pathology\")"
   ]
  },
  {
   "cell_type": "markdown",
   "id": "2fec2520",
   "metadata": {},
   "source": [
    "#### Diagnosis\n",
    "Finally, we've created a variable to capture whether the pathology was malignant or benign."
   ]
  },
  {
   "cell_type": "code",
   "execution_count": null,
   "id": "5066d91d",
   "metadata": {},
   "outputs": [],
   "source": [
    "fig, ax = plt.subplots(figsize=(12,4))\n",
    "ds.plot.countplot(x='diagnosis', ax=ax, title =\"Distribution of Diagnoses\")"
   ]
  },
  {
   "cell_type": "markdown",
   "id": "6b6837c8",
   "metadata": {},
   "source": [
    "Nearly 60% (59.2%) of the cases were benign and 40.8% were malignant."
   ]
  },
  {
   "cell_type": "markdown",
   "id": "d32fd2f8",
   "metadata": {},
   "source": [
    "### Bivariate Analysis\n",
    "At this stage, we are examining bivariate relationships between the variables. Four variables were selected as potentially dependent variables:\n",
    "- Abnormality Type\n",
    "- Subtlety\n",
    "- BI-RADS Assessment\n",
    "- Diagnosis\n",
    "\n",
    "Pathology, a nominal variable containing three values, 'MALIGNANT', 'BENIGN', and 'BENIGN WITHOUT CALLBACK', has been replaced by the variable 'Diagnosis', having the two values: 'MALIGNANT', and 'BENIGN'.\n",
    "\n",
    "The following were selected as potentially independent variables:\n",
    "- Breast Density\n",
    "- Image View\n",
    "- Left or Right Side\n",
    "- Subtlety\n",
    "- Abnormality Type\n",
    "- BI-RADS Assessment\n",
    "\n",
    "The following variables having no clinical significance were ommitted from the bivariate analysis:\n",
    "- patient id\n",
    "- image file path\n",
    "- cropped image file path\n",
    "- roi mask file path\n",
    "\n",
    "Hence, the bivariate analysis will be conducted in order of dependent variable as follows:\n",
    "\n",
    "| #  | X (independent)  | Y (dependent)    | measure    | significance  |\n",
    "|----|------------------|------------------|------------|---------------|\n",
    "| 1  | breast density   | abnormality type | Cramer's v | Chi-Square    |\n",
    "| 2  | image view       | abnormality type | Cramer's v | Chi-Square    |\n",
    "| 3  | side             | abnormality type | Cramer's v | Chi-Square    |\n",
    "| 4  | subtlety         | abnormality type | Cramer's v | Chi-Square    |\n",
    "| 5  | abnormality type | subtlety         | Cramer's v | Chi-Square    |\n",
    "| 6  | breast density   | subtlety         | Tau        | Kendall's Tau |\n",
    "| 7  | image view       | subtlety         | Cramer's v | Chi-Square    |\n",
    "| 8  | side             | subtlety         | Tau        | Kendall's Tau |\n",
    "| 9  | abnormality type | assessment       | Cramer's v | Chi-Square    |\n",
    "| 10 | breast density   | assessment       | Tau        | Kendall's Tau |\n",
    "| 11 | image view       | assessment       | Cramer's v | Chi-Square    |\n",
    "| 12 | side             | assessment       | Tau        | Kendall's Tau |\n",
    "| 13 | subtlety         | assessment       | Tau        | Kendall's Tau |\n",
    "| 14 | abnormality type | diagnosis        | Cramer's v | Chi-Square    |\n",
    "| 15 | assessment       | diagnosis        | Cramer's v | Chi-Square    |\n",
    "| 16 | breast density   | diagnosis        | Cramer's v | Chi-Square    |\n",
    "| 17 | image view       | diagnosis        | Cramer's v | Chi-Square    |\n",
    "| 18 | side             | diagnosis        | Cramer's v | Chi-Square    |\n",
    "| 19 | subtlety         | diagnosis        | Cramer's v | Chi-Square    |\n",
    "\n",
    "The measures and significances of association are based upon the variable type as follows:\n",
    "\n",
    "| Variable Types    | Measure    | Significance Test |\n",
    "|-------------------|------------|-------------------|\n",
    "| ordinal / nominal | Cramer's V | Chi-Square        |\n",
    "| ordinal / ordinal | Tau        | Kendall's Tau     |\n",
    "| nominal / nominal | Cramer's V | Chi-Square        |\n",
    "\n",
    "Let's start with a bivariate analysis of abnormality type.\n",
    "\n",
    "#### Abnormality Type Bivarite Analysis\n",
    "As stated above, we will be examing the strength and significance of association between abnormality type and \n",
    "- breast density\n",
    "- image view\n",
    "- side\n",
    "- subtlety"
   ]
  },
  {
   "cell_type": "markdown",
   "id": "27407702",
   "metadata": {},
   "source": [
    "##### Abnormality Type by Breast Density\n",
    "Recall from the univariate analysis that we have calcification and mass abnormality types.  Breast density categories are summarized as:\n",
    "1. almost entirely fatty,\n",
    "2. scattered areas of fibroglandular density, \n",
    "3. heterogeneously dense, \n",
    "4. extremely dense.\n",
    "\n",
    "##### Abnormality Type by Breast Density Plot\n"
   ]
  },
  {
   "cell_type": "code",
   "execution_count": null,
   "id": "fa2c97f5",
   "metadata": {},
   "outputs": [],
   "source": [
    "fig, ax = plt.subplots(figsize=(12,4))\n",
    "ds.plot.countplot(x='breast density', hue='abnormality type', ax=ax, title =\"Abnormality Type by Breast Density\")"
   ]
  },
  {
   "cell_type": "markdown",
   "id": "095d5b46",
   "metadata": {},
   "source": [
    "##### Abnormality Type by Breast Density Crosstabs"
   ]
  },
  {
   "cell_type": "code",
   "execution_count": null,
   "id": "18dd9ed1",
   "metadata": {},
   "outputs": [],
   "source": [
    "df = ds.as_df()\n",
    "# Compute the contingency table or crosstab\n",
    "xtab1 = pd.crosstab(df['breast density'], df['abnormality type'], margins=True, normalize=False)\n",
    "xtab2 = pd.crosstab(df['breast density'], df['abnormality type'], margins=True, normalize=True)\n",
    "\n",
    "xtab1_style = xtab1.style.set_table_attributes(\"style='display:inline; margin-right:220px;'\").set_caption(\"Abnormality Type by Breast Density (Count)\")\n",
    "xtab2_style = xtab2.style.set_table_attributes(\"style='display:inline; margin-right:120px;'\").set_caption(\"Abnormality Type by Breast Density (Proportion)\")\n",
    "\n",
    "display_html(xtab1_style._repr_html_() + xtab2_style._repr_html_(), raw=True)\n"
   ]
  },
  {
   "cell_type": "markdown",
   "id": "bd35eb44",
   "metadata": {},
   "source": [
    "\n",
    "##### Abnormality Type by Breast Density Association\n"
   ]
  },
  {
   "cell_type": "code",
   "execution_count": null,
   "id": "17c63197",
   "metadata": {},
   "outputs": [],
   "source": [
    "analysis = CramersVAnalysis(data=df,x='breast density', y='abnormality type')\n",
    "analysis.run()\n",
    "analysis.measure.plot()"
   ]
  },
  {
   "cell_type": "markdown",
   "id": "94c8c85e",
   "metadata": {},
   "source": [
    "Recall from the univariate analysis, we have a larger number of mediolateral oblique (MLO) views (~53%) in CBIS-DDSM. Does this figure suggest a difference in density assessments by image view? Would this difference, if any, be attributable to the randomization of our sample? Let's conduct a chi-square test under the null hypothesis of independence between image view and breast density."
   ]
  },
  {
   "cell_type": "code",
   "execution_count": null,
   "id": "1845409d",
   "metadata": {},
   "outputs": [],
   "source": [
    "df = ds.as_df()\n",
    "# Compute the contingency table or crosstab\n",
    "crosstab = pd.crosstab(df['breast density'], df['image view'])\n",
    "# Execute the ChiSquare Test of Independence and prepare the result.\n",
    "statistic, pvalue, dof, _ = stats.chi2_contingency(crosstab)\n",
    "result = f\"X² Test of Independence\\nBreast Density and Image View\\nX²({dof}, N={len(df)})={round(statistic,2)}, p={round(pvalue,2)}.\"\n",
    "# Plot the statistic and critical region.\n",
    "ds.plot.x2testplot(statistic=statistic, dof=dof, result=result, alpha=0.05)"
   ]
  },
  {
   "cell_type": "markdown",
   "id": "5104556c",
   "metadata": {},
   "source": [
    "Our $X^2$ Test of Independence indicates the probability of encountering a $X^2$ statistic at least as extreme as 1.52, under the null hypothesis is 0.82, with alpha significance of 0.05, 4 degrees of freedom, and a sample size of 3568. Hence, the null hypothesis of independence is *not* rejected. The evidence is not in favor of dependence between image view and breast density.\n",
    "\n",
    "**Key Observations**\n",
    "- Data support the inference of independence between breast density and image view. IOW, image view doesn't seem to affect assessments of breast density. \n",
    "- The counts reflect the fact that there are more MLO view samples in the dataset."
   ]
  },
  {
   "cell_type": "markdown",
   "id": "4a49b415",
   "metadata": {},
   "source": [
    "##### Breast Density and Abnormality Type\n",
    "What, if any, is the relationship between breast density and abnormality type."
   ]
  },
  {
   "cell_type": "code",
   "execution_count": null,
   "id": "02e83d96",
   "metadata": {},
   "outputs": [],
   "source": [
    "fig, ax = plt.subplots(figsize=(12,4))\n",
    "ds.plot.countplot(x='breast density', hue='abnormality type', ax=ax, title =\"Breast Density and Abnormality Type\")"
   ]
  },
  {
   "cell_type": "markdown",
   "id": "6072407c",
   "metadata": {},
   "source": [
    "Once again, we see the two zero density observations from the univariate analysis. We'll ignore those for now. \n",
    "\n",
    "**Key Observations**\n",
    "- Breast density and abnormality type do not appear to be independent.\n",
    "- The proportion of calcification abnormalities increases with breast density. Masses appear to be more prevalent at the lower density levels (1 and 2). "
   ]
  },
  {
   "cell_type": "markdown",
   "id": "68bd547c",
   "metadata": {},
   "source": [
    "##### Breast Density BI-RADS Assessment\n",
    "Recall from the univariate analysis that BI-RADS Assessment categories are in [0,6], where: \n",
    "- Category 0 means the findings are unclear. More images needed.\n",
    "- Category 1 means the findings are negative and the breast tissue appears normal.\n",
    "- Category 2 means the findings are benign, which is also negative for cancer. \n",
    "- Category 3 means the findings are probably benign. \n",
    "- Category 4 means the findings suspect cancer. \n",
    "- Category 5 means the findings highly suggest cancer. \n",
    "\n",
    "Note that category 6, meaning cancer was previously diagnosed using a biopsy, is not included in the dataset.\n",
    "\n",
    "Let's take a look at breast density by BI-RADS assessment."
   ]
  },
  {
   "cell_type": "code",
   "execution_count": null,
   "id": "5b904a69",
   "metadata": {},
   "outputs": [],
   "source": [
    "fig, ax = plt.subplots(figsize=(16,4))\n",
    "ds.plot.countplot(x='breast density', hue='assessment', ax=ax, title =\"Breast Density and BI-RADS Assessment\")"
   ]
  },
  {
   "cell_type": "markdown",
   "id": "28b6de2e",
   "metadata": {},
   "source": [
    "Now, BI-RADS assessment by breast density."
   ]
  },
  {
   "cell_type": "code",
   "execution_count": null,
   "id": "d5c4189a",
   "metadata": {},
   "outputs": [],
   "source": [
    "fig, ax = plt.subplots(figsize=(16,4))\n",
    "ds.plot.countplot(hue='breast density', x='assessment', ax=ax, title =\"BI-RADS Assessment and Breast Density\")"
   ]
  },
  {
   "cell_type": "markdown",
   "id": "8453f174",
   "metadata": {},
   "source": [
    "**Key Observations**\n",
    "- BI-RADS assessment and breast density do not appear to be independent.\n",
    "- Breast density category 2 and above have signficantly higher assessments of suspected cancer, but not highly suggested cancer.  \n",
    "- Assessments of *suspected* cancer tend to increase with breast density."
   ]
  },
  {
   "cell_type": "markdown",
   "id": "dce10f80",
   "metadata": {},
   "source": [
    "##### Breast Density and Subtlety\n",
    "Recall, subtlety ranges from 0 (very subtle) to 5 (obvious). Let's examine breast density by subtlety."
   ]
  },
  {
   "cell_type": "code",
   "execution_count": null,
   "id": "529cf2e6",
   "metadata": {},
   "outputs": [],
   "source": [
    "fig, ax = plt.subplots(figsize=(16,4))\n",
    "ds.plot.countplot(x='breast density', hue='subtlety', ax=ax, title =\"Breast Density and Subtlety\")"
   ]
  },
  {
   "cell_type": "markdown",
   "id": "cf313458",
   "metadata": {},
   "source": [
    "Now, let's plot subtlety by breast density."
   ]
  },
  {
   "cell_type": "code",
   "execution_count": null,
   "id": "7bb0bfb5",
   "metadata": {},
   "outputs": [],
   "source": [
    "fig, ax = plt.subplots(figsize=(16,4))\n",
    "ds.plot.countplot(x='subtlety', hue='breast density', ax=ax, title =\"Subtlety and Breast Density\")"
   ]
  },
  {
   "cell_type": "markdown",
   "id": "e82a4718",
   "metadata": {},
   "source": [
    "**Key Observations**\n",
    "- Subtlety and breast density appear to have a dependent relationship.\n",
    "- Subtlety appears to increase with breast density."
   ]
  },
  {
   "cell_type": "markdown",
   "id": "5719ffaa",
   "metadata": {},
   "source": [
    "##### Breast Density and Diagnosis\n",
    "To what degree does breast density relate to a diagnosis of breast cancer."
   ]
  },
  {
   "cell_type": "code",
   "execution_count": null,
   "id": "cf5c94e0",
   "metadata": {},
   "outputs": [],
   "source": [
    "fig, ax = plt.subplots(figsize=(16,4))\n",
    "ds.plot.countplot(x='breast density', hue='diagnosis', ax=ax, title =\"Breast Density and Diagnosis\")"
   ]
  },
  {
   "cell_type": "markdown",
   "id": "14e58c14",
   "metadata": {},
   "source": [
    "The proportions of cancer and non-cancer cases don't appear to change by breast density category. Is this supported by an independence test?"
   ]
  },
  {
   "cell_type": "code",
   "execution_count": null,
   "id": "2d10d797",
   "metadata": {},
   "outputs": [],
   "source": [
    "crosstab = pd.crosstab(df['breast density'], df['diagnosis'])\n",
    "statistic, pvalue, dof, _ = stats.chi2_contingency(crosstab)\n",
    "result = f\"X² Test of Independence\\nBreast Density and Diagnosis\\nX²({dof}, N={len(df)})={round(statistic,2)}, p={round(pvalue,2)}.\"\n",
    "ds.plot.x2testplot(statistic=statistic, dof=dof, result=result, alpha=0.05)"
   ]
  },
  {
   "cell_type": "markdown",
   "id": "6f07f81c",
   "metadata": {},
   "source": [
    "Yes. These results are in favor of the null hypothesis of independence between breast density and diagnosis.\n",
    "**Key Observations**\n",
    "- Breast density and diagnosis appear to be independent."
   ]
  },
  {
   "cell_type": "markdown",
   "id": "76063cb4",
   "metadata": {},
   "source": [
    "##### Breast Density Bivariate Analysis Summary\n",
    "Several observations deserve highlighting.\n",
    "-\tAbnormality Type: Breast density and abnormality type appear to be related.  The proportion of calcification abnormalities increases with breast density. Masses appear to be more prevalent at the lower density levels (1 and 2).\n",
    "-\tBI-RADS Assessment: Breast density and BI-RADS assessment appear to be associated. Assessments of *suspected* cancer tend to increase with breast density.\n",
    "-\tSubtlety: A relationship between breast density and subtlety appears to be extant. Subtlety appears to increase with breast density.\n",
    "-\tDiagnosis: Breast density and diagnosis do not appear to be related.  This was validated by our $X^2$ Test of Independence $X^2(4,N=3568)=5.17, p=0.27.\n"
   ]
  },
  {
   "cell_type": "markdown",
   "id": "4f2cc34c",
   "metadata": {},
   "source": [
    "#### Image View Bivariate Analysis\n",
    "Next, we examine the relationships between image view and:\n",
    "- Abnormality Type\n",
    "- BI-RADS Assessment\n",
    "- Subtlety, and\n",
    "- Diagnosis"
   ]
  },
  {
   "cell_type": "markdown",
   "id": "82ab229d",
   "metadata": {},
   "source": [
    "##### Image View and Abnormality Type"
   ]
  },
  {
   "cell_type": "code",
   "execution_count": null,
   "id": "5b3700b2",
   "metadata": {},
   "outputs": [],
   "source": [
    "fig, ax = plt.subplots(figsize=(16,4))\n",
    "ds.plot.countplot(x='image view', hue='abnormality type', ax=ax, title =\"Image View and Abnormality Type\")"
   ]
  },
  {
   "cell_type": "markdown",
   "id": "d31bb47d",
   "metadata": {},
   "source": [
    "We have more calcification cases in both the mediolateral oblique (MLO)  and cranial caudal (CC) view. Does this imply dependence between these two variables?"
   ]
  },
  {
   "cell_type": "code",
   "execution_count": null,
   "id": "a2b0e6bf",
   "metadata": {},
   "outputs": [],
   "source": [
    "crosstab = pd.crosstab(df['image view'], df['abnormality type'])\n",
    "statistic, pvalue, dof, _ = stats.chi2_contingency(crosstab)\n",
    "result = f\"X² Test of Independence\\nImage View and Abnormality Type\\nX²({dof}, N={len(df)})={round(statistic,2)}, p={round(pvalue,2)}.\"\n",
    "ds.plot.x2testplot(statistic=statistic, dof=dof, result=result, alpha=0.05)"
   ]
  },
  {
   "cell_type": "markdown",
   "id": "acbdb142",
   "metadata": {},
   "source": [
    "**Key Observations**\n",
    "- The data support the independence of image view and abnormality type $X^2$(1,N=3568)=0.48, p=0.49. Under the null hypothesis of independence, the probability of a statistic as extreme or greater than that which is observed in this case is 0.48. Therefore, the null hypothesis of independence is not rejected.\n",
    "- This would imply that the difference in the number of cases by image view can be attributed to the difference in the number of cases.\n"
   ]
  },
  {
   "cell_type": "markdown",
   "id": "b523679e",
   "metadata": {},
   "source": [
    "#### Image View and BI-RADS Assessment"
   ]
  },
  {
   "cell_type": "code",
   "execution_count": null,
   "id": "5fb026ca",
   "metadata": {},
   "outputs": [],
   "source": [
    "fig, ax = plt.subplots(figsize=(16,4))\n",
    "ds.plot.countplot(x='image view', hue='assessment', ax=ax, title =\"Image View and BI-RADS Assessment\")"
   ]
  },
  {
   "cell_type": "markdown",
   "id": "12efec27",
   "metadata": {},
   "source": [
    "The distributions of BI-RADS assessments by image view appear to share a common shape. Let's test for independence."
   ]
  },
  {
   "cell_type": "code",
   "execution_count": null,
   "id": "b7483835",
   "metadata": {},
   "outputs": [],
   "source": [
    "crosstab = pd.crosstab(df['image view'], df['assessment'])\n",
    "statistic, pvalue, dof, _ = stats.chi2_contingency(crosstab)\n",
    "result = f\"X² Test of Independence\\nImage View and BI-RADS Assessment\\nX²({dof}, N={len(df)})={round(statistic,2)}, p={round(pvalue,2)}.\"\n",
    "ds.plot.x2testplot(statistic=statistic, dof=dof, result=result, alpha=0.05)"
   ]
  },
  {
   "cell_type": "markdown",
   "id": "980329ff",
   "metadata": {},
   "source": [
    "**Key Observations**\n",
    "- Again, the data support the independence of image view and BI-RADS assessment $X^2$(5,N=3568)=2.2, p=0.82. Under the null hypothesis of independence, the probability of a statistic as extreme or greater than that which is observed in this case is 0.82. Therefore, the null hypothesis of independence is not rejected.\n",
    "- This would imply that the difference in the number of BI-RADS assessments by image view can be attributed to the difference in the numbers of the various BI-RADS assessments."
   ]
  },
  {
   "cell_type": "markdown",
   "id": "c6abc1ff",
   "metadata": {},
   "source": [
    "#### Image View and Subtlety"
   ]
  },
  {
   "cell_type": "code",
   "execution_count": null,
   "id": "e20d33b3",
   "metadata": {},
   "outputs": [],
   "source": [
    "fig, ax = plt.subplots(figsize=(16,4))\n",
    "ds.plot.countplot(x='image view', hue='subtlety', ax=ax, title =\"Image View and Subtlety\")"
   ]
  },
  {
   "cell_type": "markdown",
   "id": "9c9439a7",
   "metadata": {},
   "source": [
    "Similarly, the distribution of subtlety assessments seem to be the same for both MLO and CC views.  "
   ]
  },
  {
   "cell_type": "code",
   "execution_count": null,
   "id": "b780952e",
   "metadata": {},
   "outputs": [],
   "source": [
    "crosstab = pd.crosstab(df['image view'], df['subtlety'])\n",
    "statistic, pvalue, dof, _ = stats.chi2_contingency(crosstab)\n",
    "result = f\"X² Test of Independence\\nImage View and Subtlety\\nX²({dof}, N={len(df)})={round(statistic,2)}, p={round(pvalue,2)}.\"\n",
    "ds.plot.x2testplot(statistic=statistic, dof=dof, result=result, alpha=0.05)"
   ]
  },
  {
   "cell_type": "markdown",
   "id": "2b95623d",
   "metadata": {},
   "source": [
    "**Key Observations**\n",
    "- Once again, the data support the independence of image view and subtlety $X^2$(5,N=3568)=0.96, p=0.97. Under the null hypothesis of independence, the probability of a statistic as extreme or greater than that which is observed in this case is 0.97. Therefore, the null hypothesis of independence is not rejected.\n",
    "- This would imply that the difference subtlety by image view can be attributed to the difference in subtlety."
   ]
  },
  {
   "cell_type": "markdown",
   "id": "a610d2b0",
   "metadata": {},
   "source": [
    "#### Image View and Diagnosis"
   ]
  },
  {
   "cell_type": "code",
   "execution_count": null,
   "id": "c50b1c12",
   "metadata": {},
   "outputs": [],
   "source": [
    "fig, ax = plt.subplots(figsize=(16,4))\n",
    "ds.plot.countplot(x='image view', hue='diagnosis', ax=ax, title =\"Image View and Diagnosis\")"
   ]
  },
  {
   "cell_type": "code",
   "execution_count": null,
   "id": "925b2523",
   "metadata": {},
   "outputs": [],
   "source": [
    "crosstab = pd.crosstab(df['image view'], df['diagnosis'])\n",
    "statistic, pvalue, dof, _ = stats.chi2_contingency(crosstab)\n",
    "result = f\"X² Test of Independence\\nImage View and Diagnosis\\nX²({dof}, N={len(df)})={round(statistic,2)}, p={round(pvalue,2)}.\"\n",
    "ds.plot.x2testplot(statistic=statistic, dof=dof, result=result, alpha=0.05)"
   ]
  },
  {
   "cell_type": "markdown",
   "id": "afbc1100",
   "metadata": {},
   "source": [
    "##### Image View Bivariate Analysis Summary\n",
    "We've examined image view by abnormality type, BI-RADS Assessment, "
   ]
  }
 ],
 "metadata": {
  "jupytext": {
   "formats": "md:myst"
  },
  "kernelspec": {
   "display_name": "Python 3",
   "language": "python",
   "name": "python3"
  },
  "language_info": {
   "codemirror_mode": {
    "name": "ipython",
    "version": 3
   },
   "file_extension": ".py",
   "mimetype": "text/x-python",
   "name": "python",
   "nbconvert_exporter": "python",
   "pygments_lexer": "ipython3",
   "version": "3.10.12"
  }
 },
 "nbformat": 4,
 "nbformat_minor": 5
}
