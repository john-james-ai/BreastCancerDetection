{
 "cells": [
  {
   "cell_type": "markdown",
   "id": "1664cf1d",
   "metadata": {},
   "source": [
    "# Exploratory Data Analysis of the **CBIS-DDSM** Dataset\n",
    "\n",
    "## CBIS-DDSM Dataset\n",
    "\n",
    "Developed in 1997 through a grant from the DOD Breast Cancer Research Program and the US Army Research and Material Command, the *original* Digital Database for Screening Mammography (DDSM) {cite}`USFDigitalMammography` is a collection of 2620 cases obtained by patient consent from Massachusetts General Hospital, Wake Forest University School of Medicine, Sacred Heart Hospital, and Washington University of St. Louis School of Medicine. Its cases are annotated with ROIs for calcifications and masses, they include Breast Imaging Reporting and Data System (BI-RADS) descriptors for mass shape, mass margin, calcification type, calcification distribution, and breast density. They also include overall BI-RADS assessments from 0 to 5 and ratings of the subtlety of the abnormalities from 1 to 5.\n",
    "\n",
    "The DDSM, a powerful and extensively used resource for imaging research, presented certain challenges that limited its accessibility and utility.  For instance, the original DDSM was saved in lossless JPEG files (LJPEG); a non-standard, and obsolete compression format. Regions of interest marked the general area of legions; but, lacked the specificity of precise image segmentation, requiring researchers to implement segmentation algorithms for accurate feature extraction. Some annotations marked legions that could not be seen. Further, the metadata processing and image correction routines distributed with the dataset were a set of bash and C routines that were difficult to refactor.\n",
    "This Curated Breast Imaging Subset of DDSM (CBIS-DDSM) {cite}`leeCuratedMammographyData2017` is an updated and standardized version of the original DDSM, developed to address some of the challenges. In particular, the questionable annotations were reviewed by a trained mammographer, and 254 images were removed from the dataset. The images were converted from PVRG-JPEG to 8-bit raw binary bitmaps. Python tools were developed to convert the 8-bit images to 16-bit grayscale TIFF files, which were later converted to DICOM. The bash and C preprocessing tools were re-implemented in Python to be cross-platform. Convenience images were cropped around the region of interest for researchers analyzing only the abnormalities. Precise segmentation was applied to the calcification images providing much more accurate regions of interest, and the data were split into training and test sets, based on the BIRADS category to support method evaluation and reproducibility.\n",
    "\n",
    "### Dataset Statistics\n",
    "\n",
    "CBIS-DDSM was obtained from the Cancer Imaging Archive {cite}`sawyer-leeCuratedBreastImaging2016` and is summarized below:\n",
    "\n",
    "```{table} CBIS-DDSM Statistics\n",
    "\n",
    "| Collection Statistics  |        |\n",
    "| ---------------------- | ------ |\n",
    "| Image Size (GB)        | 163.6  |\n",
    "| Modalities             | MG     |\n",
    "| Number of Images       | 10239  |\n",
    "| Number of Participants | 1,566  |\n",
    "| Number of Series       | 6775   |\n",
    "| Number of Studies      | 6775   |\n",
    "```\n",
    "\n",
    "The CBIS-DDSM data were split into training and test (20%), sets based on BI-RADS category. Splitting by abnormality type, 20% of the cases were allocated to the test sets and the remaining were designated for training.\n",
    "\n",
    "```{table} CBIS-DDSM Training and Test Sets\n",
    "\n",
    "| Dataset                    | Benign Cases                  | Malignant Cases               |\n",
    "|----------------------------|-------------------------------|-------------------------------|\n",
    "| Calcification Training Set | 329 Cases (552 Abnormalities) | 273 Cases (304 Abnormalities) |\n",
    "| Calcification Test Set     | 85 Cases (112 Abnormalities)  | 66 Cases (77 Abnormalities)   |\n",
    "| Mass Training Set          | 355 Cases (387 Abnormalities) | 336 Cases (361 Abnormalities) |\n",
    "| Mass Test Set              | 117 Cases (135 Abnormalities) | 83 Cases (87 Abnormalities)   |\n",
    "```\n",
    "\n",
    "### Dataset Organization\n",
    "\n",
    "The following files contain the mammography and ROIs for the cases with calcifications.\n",
    "\n",
    "```{table} CBIS-DDSM Mammography Files for Calcification Cases\n",
    "\n",
    "| Type   | Filename                             | Format |\n",
    "| ------ | ------------------------------------ | ------ |\n",
    "| Images | Calc-Test Full Mammogram Images      | DICOM  |\n",
    "| Images | Calc-Test ROI and Cropped Images     | DICOM  |\n",
    "| Images | Calc-Training Full Mammogram Images  | DICOM  |\n",
    "| Images | Calc-Training ROI and Cropped Images | DICOM  |\n",
    "```\n",
    "\n",
    "The following files contain the mammography and ROIs for the mass cases.\n",
    "\n",
    "```{table} CBIS-DDSM Mammography Files for Mass Cases\n",
    "\n",
    "\n",
    "| Type   | Filename                             | Format |\n",
    "| ------ | ------------------------------------ | ------ |\n",
    "| Images | Mass-Test Full Mammogram Images      | DICOM  |\n",
    "| Images | Mass-Test ROI and Cropped Images     | DICOM  |\n",
    "| Images | Mass-Training Full Mammogram Images  | DICOM  |\n",
    "| Images | Mass-Training ROI and Cropped Images | DICOM  |\n",
    "```\n",
    "\n",
    "There are separate metadata files for the train and test calcification and mass cases.\n",
    "\n",
    "```{table} CBIS-DDSM Metadata\n",
    "\n",
    "| Type     | Filename                  | Format |\n",
    "| -------- | ------------------------- | ------ |\n",
    "| Metadata | Calc-Test-Description     | csv    |\n",
    "| Metadata | Calc-Training-Description | csv    |\n",
    "| Metadata | Mass-Test-Description     | csv    |\n",
    "| Metadata | Mass-Training-Description | csv    |\n",
    "```\n",
    "\n",
    "Metadata for each abnormality above contains:\n",
    "\n",
    "- Patient ID: the first 7 characters of images in the case file*\n",
    "- Density category\n",
    "- Breast: Left or Right\n",
    "- View: CC or MLO\n",
    "- Number of abnormality for the image (This is necessary as there are some cases containing multiple abnormalities.)\n",
    "- Mass shape (when applicable)\n",
    "- Mass margin (when applicable)\n",
    "- Calcification type (when applicable)\n",
    "- Calcification distribution (when applicable)\n",
    "- BI-RADS assessment\n",
    "- Pathology: Benign, Benign without call-back, or Malignant\n",
    "- Subtlety rating: Radiologists’ rating of difficulty in viewing the abnormality in the image\n",
    "- Path to image files\n",
    "\n",
    "Note, the data are structured such that a single participant has multiple patient IDs in the DICOM Metadata."
   ]
  },
  {
   "cell_type": "code",
   "execution_count": null,
   "id": "a12a84f6",
   "metadata": {
    "tags": [
     "hide-cell"
    ]
   },
   "outputs": [],
   "source": [
    "import sys\n",
    "import os\n",
    "os.chdir(os.path.abspath(os.path.join(\"../..\")))\n",
    "import warnings\n",
    "warnings.filterwarnings(\"ignore\")\n",
    "from tqdm import tqdm\n",
    "import pandas as pd\n",
    "import numpy as np\n",
    "import matplotlib.pyplot as plt\n",
    "import seaborn as sns\n",
    "import pydicom\n",
    "from PIL import Image\n",
    "from bcd.data.dataset import CBISMeta\n",
    "sns.set_style('whitegrid')\n",
    "sns.set_palette(\"Blues_r\")"
   ]
  },
  {
   "cell_type": "markdown",
   "id": "ed478552",
   "metadata": {},
   "source": [
    "## Exploratory Data Analysis Plan\n",
    "\n",
    "Here, we'll put forward a set of questions and an approach to guide the analysis and discovery.\n",
    "\n",
    "### Exploratory and Guiding Questions\n",
    "\n",
    "> “Far better an approximate answer to the right question, which is often vague, than an exact answer to the wrong question,\n",
    "> which can always be made precise.” — John Tukey\n",
    "\n",
    "We'll begin our exploration with questions to guide the process.\n",
    "\n",
    "1. Density is considered a potential signal of pathology. How does density relate to pathology in the CBIS-DDSM dataset?\n",
    "2. Does density and abnormality type relate?\n",
    "3. What does density and abnormality type indicate w.r.t pathology?\n",
    "4. Which abnormality type is most malignant in the dataset?\n",
    "5. Which abnormality type is more subtle?\n",
    "\n",
    "Regarding Calcifications:\n",
    "\n",
    "1. What does density, calcification type and distribution imply about subtlety, and pathology?\n",
    "2. How does calcification type relate to subtlety? pathology?\n",
    "3. What does calcification distribution relate to subtlety, pathology?\n",
    "\n",
    "For masses:\n",
    "\n",
    "1. What does density, mass shape and margin imply about subtlety, and pathology?\n",
    "2. What does density and calcification type and distribution imply about subtlety, and pathology?\n",
    "3. How does mass shape relate to subtlety? pathology?\n",
    "4. How does mass margin relate to subtlety? pathology?\n",
    "\n",
    "### Exploratory Approach\n",
    "\n",
    "Our approach will include metadata and images for both train/test splits. To avoid bias during modeling, all feature engineering and data processing will be performed *after* data splitting, with one exception. There are three pathologies for our binary classification task ['MALIGNANT','BENIGN', 'BENIGN_WITHOUT_CALLBACK']. For this analysis we will add a new binary variable, 'cancer' in which a value of 0 means benign and a value of 1 indicates malignancy. We'll decide what to do about these variables for modeling during the feature engineering stage.\n",
    "\n",
    "Hence, we shall proceed as follows:\n",
    "\n",
    "1. Whole Dataset Analysis using the combined metadata datasets. Features analyzed will be the intersection of calcification and mass dataset features.\n",
    "2. Calcification Case Analysis using the combined calcifiation set.\n",
    "3. Mass Case Analysis using the combined mass set.\n",
    "\n",
    "## EDA Stage 1: Cross-Dataset Analysis\n",
    "\n",
    "This initial stage focuses on the variables in common between the training sets."
   ]
  },
  {
   "cell_type": "code",
   "execution_count": null,
   "id": "76e3afd7",
   "metadata": {
    "tags": [
     "remove-input"
    ]
   },
   "outputs": [],
   "source": [
    "# Filepaths\n",
    "fpc1 = \"/home/john/projects/bcd/data/meta/0_raw/calc_case_description_train_set.csv\"\n",
    "fpc2 = \"/home/john/projects/bcd/data/meta/0_raw/calc_case_description_test_set.csv\"\n",
    "fpm1 = \"/home/john/projects/bcd/data/meta/0_raw/mass_case_description_train_set.csv\"\n",
    "fpm2 = \"/home/john/projects/bcd/data/meta/0_raw/mass_case_description_test_set.csv\""
   ]
  },
  {
   "cell_type": "code",
   "execution_count": null,
   "id": "2f3e6e18",
   "metadata": {
    "tags": [
     "remove-input"
    ]
   },
   "outputs": [],
   "source": [
    "## Dataframes\n",
    "dfc1 = pd.read_csv(fpc1)\n",
    "dfc2 = pd.read_csv(fpc2)\n",
    "dfm1 = pd.read_csv(fpm1)\n",
    "dfm2 = pd.read_csv(fpm2)\n",
    "# Rename breast density column\n",
    "dfm1.rename(columns={'breast_density': 'breast density'}, inplace=True)\n",
    "dfm2.rename(columns={'breast_density': 'breast density'}, inplace=True)\n",
    "# Add 'cancer' variable\n",
    "dfc1['cancer'] = np.where(dfc1['pathology'] == 'MALIGNANT', 1, 0)\n",
    "dfc2['cancer'] = np.where(dfc2['pathology'] == 'MALIGNANT', 1, 0)\n",
    "dfm1['cancer'] = np.where(dfm1['pathology'] == 'MALIGNANT', 1, 0)\n",
    "dfm2['cancer'] = np.where(dfm2['pathology'] == 'MALIGNANT', 1, 0)\n",
    "## DataFrames by Abnormality Type\n",
    "dfc = pd.concat([dfc1,dfc2], axis=0)\n",
    "dfm = pd.concat([dfm1,dfm2], axis=0)\n",
    "# Whole DataFrames\n",
    "df1 = dfc.drop(columns=['calc type', 'calc distribution'])\n",
    "df2 = dfm.drop(columns=['mass shape', 'mass margins'])\n",
    "df = pd.concat([df1,df2], axis=0)\n",
    "# CBIS Datasets\n",
    "ds = CBISMeta(df=df)  # Whole dataset\n",
    "dsc = CBISMeta(df=dfc)  # Calcification Dataset\n",
    "dsm = CBISMeta(df=dfm)  # Mass Dataset"
   ]
  },
  {
   "cell_type": "code",
   "execution_count": null,
   "id": "a486047f",
   "metadata": {},
   "outputs": [],
   "source": [
    "ds.head()"
   ]
  },
  {
   "cell_type": "code",
   "execution_count": null,
   "id": "178e25fd",
   "metadata": {},
   "outputs": [],
   "source": [
    "ds.info"
   ]
  },
  {
   "cell_type": "markdown",
   "id": "ca296756",
   "metadata": {},
   "source": [
    "**Initial observations:**\n",
    "\n",
    "1. There are 3568 cases of abnormality seen on the cranial caudal (CC) and/or mediolateral oblique (MLO) views.\n",
    "2. We have 1566 patient_ids corresponding to each of the 1566 subjects in the studies.\n",
    "3. Breast density should have a cardinality of 4, not 5.\n",
    "4. There are 7 BIRADS assessment categories, yet 6 are indicated in the CBIS-DDSM. One would suspect values of [0,5] as a 6 would mean cancer was previously diagnosed using a biopsy.\n",
    "5. As indicated our binary classification actually has three pathologies ['MALIGNANT', 'BENIGN', and 'BENIGN_WITHOUT_CALLBACK']. We've added the cancer variable to capture the presence of malignancy in the assessment.\n",
    "6. There are 465 duplicate image filepaths, indicating several cases on an image.\n",
    "\n",
    "### Univariate Analysis"
   ]
  },
  {
   "cell_type": "markdown",
   "id": "8a82bf98",
   "metadata": {},
   "source": [
    "#### Patient Id"
   ]
  },
  {
   "cell_type": "code",
   "execution_count": null,
   "id": "3230749f",
   "metadata": {
    "tags": [
     "remove-input"
    ]
   },
   "outputs": [],
   "source": [
    "print(f\"The total number of patient unique ids {df['patient_id'].nunique()}, corresponding to the number of subjects in the studies.\")\n",
    "print(f\"The median number of images per patient id is {df['patient_id'].value_counts().median()}\")\n",
    "print(f\"The average number of images per patient id is {round(df['patient_id'].value_counts().mean(),2)}\")\n",
    "print(f\"The range of images to patient_ids is {df['patient_id'].value_counts().min()} to {df['patient_id'].value_counts().max()} \")"
   ]
  },
  {
   "cell_type": "markdown",
   "id": "170c90ef",
   "metadata": {},
   "source": [
    "#### Breast Density\n",
    "\n",
    "Radiologists classify breast density using a 4-level density scale {cite}`BreastImagingReporting`:\n",
    "\n",
    "1. Almost entirely fatty\n",
    "2. Scattered areas of fibroglandular density\n",
    "3. Heterogeneously dense\n",
    "4. Extremely dense\n",
    "\n",
    "According to the American College of Radiology™️, breast density in the U.S.:\n",
    "\n",
    "- 10% of women have almost entirely fatty breasts,\n",
    "- 10% have extremely dense breasts,\n",
    "- 40% of women have scattered areas of fibroglandular density\n",
    "- 40% have heterogeneously dense breasts"
   ]
  },
  {
   "cell_type": "code",
   "execution_count": null,
   "id": "7618a491",
   "metadata": {
    "tags": [
     "remove-input"
    ]
   },
   "outputs": [],
   "source": [
    "d1 = np.repeat([1], 357)\n",
    "d2 = np.repeat([2], 1427)\n",
    "d3 = np.repeat([3], 1427)\n",
    "d4 = np.repeat([4], 357)\n",
    "d = np.append(arr=d1,values=d2)\n",
    "d = np.append(arr=d,values=d3)\n",
    "d = np.append(arr=d,values=d4)\n",
    "d = {\"Breast Density\": d, \"Sample\": \"U.S.\"}\n",
    "usd = pd.DataFrame(data=d)\n",
    "density = df['breast density'].to_frame()\n",
    "density.rename(columns={'breast density': 'Breast Density'}, inplace=True)\n",
    "density['Sample'] = 'CBIS-DDSM'\n",
    "density = pd.concat([density, usd], axis=0).reset_index()"
   ]
  },
  {
   "cell_type": "markdown",
   "id": "b4af1bce",
   "metadata": {},
   "source": [
    "The following exhibits the counts by density in the CBIS-DDSM dataset vis-a-vis a sample from the US of the same size."
   ]
  },
  {
   "cell_type": "code",
   "execution_count": null,
   "id": "444b068c",
   "metadata": {},
   "outputs": [],
   "source": [
    "fig, ax = plt.subplots(figsize=(12,4))\n",
    "ds.plot.countplot(data=density,x='Breast Density', hue=\"Sample\", ax=ax, title =\"Distribution of Breast Density in CBIS-DDSM vis-a-vis US Population of Same Size\")"
   ]
  },
  {
   "cell_type": "markdown",
   "id": "902b2ee3",
   "metadata": {},
   "source": [
    "If we were to perform a goodness of fit test on the two samples, the null hypothesis of breast density in CBIS-DDSM and breast density in the US Population originating from the same distribution, would likely be rejected. The CBIS-DDSM has fatter tails on both ends of the distribution. Some right skew is extant as well."
   ]
  },
  {
   "cell_type": "markdown",
   "id": "5da37431",
   "metadata": {},
   "source": [
    "#### Left Right"
   ]
  },
  {
   "cell_type": "code",
   "execution_count": null,
   "id": "c7d1e1df",
   "metadata": {},
   "outputs": [],
   "source": [
    "fig, ax = plt.subplots(figsize=(12,4))\n",
    "ds.plot.countplot(x='left or right breast', ax=ax, title =\"Distribution of View\")"
   ]
  },
  {
   "cell_type": "markdown",
   "id": "9f1b6f44",
   "metadata": {},
   "source": [
    "There are slightly more left views than right; still, the dataset is fairly balanced in this regard for what that's worth."
   ]
  },
  {
   "cell_type": "markdown",
   "id": "3c739bc9",
   "metadata": {},
   "source": [
    "#### Image View\n",
    "In mammography, each breast is typically imaged with two different views: the mediolateral oblique (MLO) view and cranial caudal (CC) view. The MLO view is taken from the center of the chest outward, while the CC view is taken from above the breast downward.\n",
    "```{figure} ../figures/standard_image_views.jpg\n",
    ":name: image_views_ref\n",
    "Standard Radiological Views in Mammography\n",
    "```\n",
    "The CBIS-DDSM distribution of the two views {ref}`image_views_ref` are roughly balanced."
   ]
  },
  {
   "cell_type": "code",
   "execution_count": null,
   "id": "ad8a086a",
   "metadata": {},
   "outputs": [],
   "source": [
    "fig, ax = plt.subplots(figsize=(12,4))\n",
    "ds.plot.countplot(x='image view', ax=ax, title =\"Distribution of Image View\")"
   ]
  },
  {
   "cell_type": "markdown",
   "id": "a36026e0",
   "metadata": {},
   "source": [
    "Mediolateral oblique views slightly outnumber cranial caudal views."
   ]
  },
  {
   "cell_type": "markdown",
   "id": "207d784f",
   "metadata": {},
   "source": [
    "#### Abnormality Id"
   ]
  },
  {
   "cell_type": "code",
   "execution_count": null,
   "id": "46104e29",
   "metadata": {},
   "outputs": [],
   "source": [
    "fig, ax = plt.subplots(figsize=(12,4))\n",
    "ds.plot.countplot(x='abnormality id', ax=ax, title =\"Distribution of Abnormaility ID\")"
   ]
  },
  {
   "cell_type": "markdown",
   "id": "7e45d0ee",
   "metadata": {},
   "source": [
    "A plurality of patients present only one abnormality.\n",
    "\n",
    "#### Abnormality Type"
   ]
  },
  {
   "cell_type": "code",
   "execution_count": null,
   "id": "eaca93b4",
   "metadata": {},
   "outputs": [],
   "source": [
    "fig, ax = plt.subplots(figsize=(12,4))\n",
    "ds.plot.countplot(x='abnormality type', ax=ax, title =\"Distribution of Abnormality Type\")"
   ]
  },
  {
   "cell_type": "markdown",
   "id": "907a5549",
   "metadata": {},
   "source": [
    "#### Pathology"
   ]
  },
  {
   "cell_type": "code",
   "execution_count": null,
   "id": "43685d85",
   "metadata": {},
   "outputs": [],
   "source": [
    "fig, ax = plt.subplots(figsize=(12,4))\n",
    "ds.plot.countplot(x='pathology', ax=ax, title =\"Distribution of Pathology\")"
   ]
  },
  {
   "cell_type": "markdown",
   "id": "7700ea93",
   "metadata": {},
   "source": [
    "#### Sublety"
   ]
  },
  {
   "cell_type": "code",
   "execution_count": null,
   "id": "d70257fb",
   "metadata": {},
   "outputs": [],
   "source": [
    "fig, ax = plt.subplots(figsize=(12,4))\n",
    "ds.plot.countplot(x='subtlety', ax=ax, title =\"Distribution of Subtlety\")"
   ]
  },
  {
   "cell_type": "markdown",
   "id": "a891668b",
   "metadata": {},
   "source": [
    "### Bivariate Analysis\n",
    "\n",
    "At this stage, we are examining bivariate relationships between the variables and between the variables and the target, pathology.\n",
    "\n",
    "#### Density Analysis\n",
    "\n",
    "Here, we'll explore how breast density relates to pathology, calcification type and distribution, assessment, and subtlety."
   ]
  },
  {
   "cell_type": "code",
   "execution_count": null,
   "id": "706bf50a",
   "metadata": {},
   "outputs": [],
   "source": [
    "fig, ax = plt.subplots(figsize=(12,4))\n",
    "ds.plot.countplot(x='breast density', hue='pathology'   , ax=ax, title =\"Breast Density and Pathology\")"
   ]
  },
  {
   "cell_type": "code",
   "execution_count": null,
   "id": "e23f9c1d",
   "metadata": {},
   "outputs": [],
   "source": [
    "ds.describe(x=['breast density', 'pathology'], groupby='breast density').categorical"
   ]
  },
  {
   "cell_type": "markdown",
   "id": "aa3a6453",
   "metadata": {},
   "source": [
    "**Key Observations**\n",
    "\n",
    "1. Lower density abnormalities were associated with a greater number of benign, without callback. This is not unexpected as greater density is typically associated with greater scrutiny.\n",
    "2. Level 2 density typically indicates scattered areas of fibroglandular density, but the majority of tissue is non-dense. In this level 2 (or B), the vast majority of cases were benign, but the proportion of malignant cases appears to be increasing.\n",
    "3. Level 3 density typically indicates some areas of nondense tissue, but most areas are dense. Here too, the majority of cases were benign; however, the proportion of malignant cases increased from level 2.\n",
    "4. In contrast to level 1 density, there are fewer benign without callback cases. This indicates a greater degree of suspicion with these patients."
   ]
  }
 ],
 "metadata": {
  "jupytext": {
   "formats": "md:myst"
  },
  "kernelspec": {
   "display_name": "Python 3",
   "language": "python",
   "name": "python3"
  }
 },
 "nbformat": 4,
 "nbformat_minor": 5
}
