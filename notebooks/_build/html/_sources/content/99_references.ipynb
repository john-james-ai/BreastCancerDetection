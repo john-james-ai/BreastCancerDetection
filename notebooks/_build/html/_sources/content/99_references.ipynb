{
 "cells": [
  {
   "cell_type": "markdown",
   "uid": "d74166f0",
   "metadata": {},
   "source": [
    "\n",
    "# References\n",
    "\n",
    "```{bibliography}\n",
    "\n",
    "```"
   ]
  }
 ],
 "metadata": {
  "jupytext": {
   "cell_metadata_filter": "-all",
   "main_language": "python",
   "notebook_metadata_filter": "-all"
  }
 },
 "nbformat": 4,
 "nbformat_minor": 5
}
