{
 "cells": [
  {
   "cell_type": "markdown",
   "metadata": {},
   "source": [
    "# TMNet"
   ]
  },
  {
   "cell_type": "code",
   "execution_count": 1,
   "metadata": {},
   "outputs": [],
   "source": [
    "import os\n",
    "import pathlib\n",
    "import tensorflow as tf\n",
    "import pandas as pd\n",
    "import wandb\n",
    "\n",
    "from bcd.model.network.base import NetworkConfig\n",
    "from bcd.model.network.tmnet import TMNetConfig, TMNetFactory\n",
    "from bcd.model.repo import ExperimentRepo\n",
    "from bcd.model.base import *\n",
    "from bcd.model.experiment import FeatureExtractionExperiment\n",
    "from bcd.model.config import *\n",
    "\n",
    "pd.set_option('display.max_rows',999)"
   ]
  },
  {
   "cell_type": "markdown",
   "metadata": {},
   "source": [
    "## Configuration"
   ]
  },
  {
   "cell_type": "code",
   "execution_count": 2,
   "metadata": {},
   "outputs": [
    {
     "name": "stdout",
     "output_type": "stream",
     "text": [
      "env: \"WANDB_NOTEBOOK_NAME\"=\"tmnet.ipynb\"\n"
     ]
    }
   ],
   "source": [
    "# Experiment Parameters\n",
    "%env \"WANDB_NOTEBOOK_NAME\" \"tmnet.ipynb\"\n",
    "mode = \"Production\"\n",
    "force = False  # Whether to retrain if the model and config already exists.\n",
    "base_models = [DenseNet(), EfficientNet(), Inception(), InceptionResNet(), MobileNet(), ResNet(), Xception()]"
   ]
  },
  {
   "cell_type": "code",
   "execution_count": 3,
   "metadata": {},
   "outputs": [],
   "source": [
    "def create_config(network_config: NetworkConfig):\n",
    "    project_config = ProjectConfig(mode=mode)\n",
    "\n",
    "    train_config = TrainConfig(epochs=50, learning_rate=1e-4)    \n",
    "\n",
    "    dataset_config = DatasetConfig(mode=mode)\n",
    "\n",
    "    checkpoint_config = CheckPointConfig(monitor=\"val_accuracy\", verbose=1, save_best_only=True, save_weights_only=False, mode=\"auto\")\n",
    "\n",
    "    early_stop_config = EarlyStopConfig(min_delta=1e-4, monitor=\"val_loss\", patience=10, restore_best_weights=True, verbose=1)\n",
    "\n",
    "    learning_rate_schedule_config = LearningRateScheduleConfig(min_delta=1e-4, monitor=\"val_loss\", factor=0.5, patience=3, restore_best_weights=True, verbose=1, mode=\"auto\")\n",
    "\n",
    "    config = Config(project=project_config, \n",
    "                    dataset=dataset_config, \n",
    "                    train=train_config, \n",
    "                    network=network_config, \n",
    "                    checkpoint=checkpoint_config, \n",
    "                    early_stop=early_stop_config, \n",
    "                    learning_rate_schedule=learning_rate_schedule_config)\n",
    "    return config\n",
    "\n",
    "network_config = TMNetConfig(activation=\"sigmoid\", input_shape=(224,224,3), output_shape=1, dense1=1024, dense2=1024)\n",
    "config = create_config(network_config=network_config)"
   ]
  },
  {
   "cell_type": "markdown",
   "metadata": {},
   "source": [
    "## Load Data"
   ]
  },
  {
   "cell_type": "code",
   "execution_count": 4,
   "metadata": {},
   "outputs": [
    {
     "name": "stdout",
     "output_type": "stream",
     "text": [
      "Found 2471 files belonging to 2 classes.\n",
      "Using 1977 files for training.\n",
      "Found 2471 files belonging to 2 classes.\n",
      "Using 494 files for validation.\n"
     ]
    }
   ],
   "source": [
    "train_dir = pathlib.Path(config.dataset.train_dir).with_suffix('') \n",
    "train_ds = tf.keras.utils.image_dataset_from_directory(\n",
    "    train_dir,\n",
    "    labels=\"inferred\",\n",
    "    color_mode=\"rgb\",\n",
    "    image_size=(224,224),\n",
    "    shuffle=True,\n",
    "    validation_split=0.2,\n",
    "    subset='training',\n",
    "    interpolation=\"bilinear\",\n",
    "    seed=123,\n",
    "    batch_size=config.dataset.batch_size)\n",
    "\n",
    "# Validation DataSet (10%)\n",
    "val_ds = tf.keras.utils.image_dataset_from_directory(\n",
    "    train_dir,\n",
    "    labels=\"inferred\",\n",
    "    color_mode=\"rgb\",\n",
    "    image_size=(224,224),\n",
    "    shuffle=True,\n",
    "    validation_split=0.2,\n",
    "    subset='validation',\n",
    "    interpolation=\"bilinear\",\n",
    "    seed=123,\n",
    "    batch_size=config.dataset.batch_size)"
   ]
  },
  {
   "cell_type": "markdown",
   "metadata": {},
   "source": [
    "## Callbacks"
   ]
  },
  {
   "cell_type": "code",
   "execution_count": 5,
   "metadata": {},
   "outputs": [],
   "source": [
    "early_stop_callback = tf.keras.callbacks.EarlyStopping(monitor=config.early_stop.monitor, \n",
    "                                                       min_delta=config.early_stop.min_delta,\n",
    "                                                       patience=config.early_stop.patience, \n",
    "                                                       restore_best_weights=config.early_stop.restore_best_weights,\n",
    "                                                       verbose=config.early_stop.verbose)\n",
    "\n",
    "reduce_lr_callback = tf.keras.callbacks.ReduceLROnPlateau(monitor=config.learning_rate_schedule.monitor,\n",
    "                                                          factor=config.learning_rate_schedule.factor,\n",
    "                                                          patience=config.learning_rate_schedule.patience,\n",
    "                                                          verbose=config.learning_rate_schedule.verbose,\n",
    "                                                          mode=config.learning_rate_schedule.mode,\n",
    "                                                          min_delta=config.learning_rate_schedule.min_delta,\n",
    "                                                          min_lr=config.learning_rate_schedule.min_lr)\n",
    "callbacks = [early_stop_callback, reduce_lr_callback]"
   ]
  },
  {
   "cell_type": "markdown",
   "metadata": {},
   "source": [
    "## Dependencies"
   ]
  },
  {
   "cell_type": "code",
   "execution_count": 6,
   "metadata": {},
   "outputs": [],
   "source": [
    "repo = ExperimentRepo(mode = mode, project=config.project.name)\n",
    "optimizer=tf.keras.optimizers.Adam\n",
    "metrics = ['accuracy', tf.keras.metrics.AUC(), tf.keras.metrics.Precision(), tf.keras.metrics.Recall()]"
   ]
  },
  {
   "cell_type": "markdown",
   "metadata": {},
   "source": [
    "## Build Factory"
   ]
  },
  {
   "cell_type": "code",
   "execution_count": 7,
   "metadata": {},
   "outputs": [],
   "source": [
    "factory = TMNetFactory(config=config.network)"
   ]
  },
  {
   "cell_type": "markdown",
   "metadata": {},
   "source": [
    "## Run Experiments"
   ]
  },
  {
   "cell_type": "code",
   "execution_count": 8,
   "metadata": {},
   "outputs": [
    {
     "name": "stdout",
     "output_type": "stream",
     "text": [
      "# ================================================================================================ #\n",
      "                                           TMNet_DenseNet                                           \n",
      "# ------------------------------------------------------------------------------------------------ #\n",
      "Model: \"model\"\n",
      "_________________________________________________________________\n",
      " Layer (type)                Output Shape              Param #   \n",
      "=================================================================\n",
      " TMNet_DenseNet_input_layer   [(None, 224, 224, 3)]    0         \n",
      " (InputLayer)                                                    \n",
      "                                                                 \n",
      " tf.math.truediv (TFOpLambda  (None, 224, 224, 3)      0         \n",
      " )                                                               \n",
      "                                                                 \n",
      " tf.nn.bias_add (TFOpLambda)  (None, 224, 224, 3)      0         \n",
      "                                                                 \n",
      " tf.math.truediv_1 (TFOpLamb  (None, 224, 224, 3)      0         \n",
      " da)                                                             \n",
      "                                                                 \n",
      " data_augmentation (Sequenti  (None, 224, 224, 3)      0         \n",
      " al)                                                             \n",
      "                                                                 \n",
      " densenet201 (Functional)    (None, None, None, 1920)  18321984  \n",
      "                                                                 \n",
      " TMNet_DenseNet_global_avera  (None, 1920)             0         \n",
      " ge_pooling (GlobalAveragePo                                     \n",
      " oling2D)                                                        \n",
      "                                                                 \n",
      " TMNet_DenseNet_batch_normal  (None, 1920)             7680      \n",
      " ization (BatchNormalization                                     \n",
      " )                                                               \n",
      "                                                                 \n",
      " TMNet_DenseNet_dense_1 (Den  (None, 1024)             1967104   \n",
      " se)                                                             \n",
      "                                                                 \n",
      " TMNet_DenseNet_dense_2 (Den  (None, 1024)             1049600   \n",
      " se)                                                             \n",
      "                                                                 \n",
      " TMNet_DenseNet_output_layer  (None, 1)                1025      \n",
      "  (Dense)                                                        \n",
      "                                                                 \n",
      "=================================================================\n",
      "Total params: 21,347,393\n",
      "Trainable params: 3,021,569\n",
      "Non-trainable params: 18,325,824\n",
      "_________________________________________________________________\n",
      "# ------------------------------------------------------------------------------------------------ #\n",
      "\n",
      "\n",
      "                                            TMNetConfig                                             \n",
      "                                        Activation | sigmoid\n",
      "                                      Output Shape | 1\n",
      "                                            Dense1 | 1024\n",
      "                                            Dense2 | 1024\n",
      "\n",
      "\n",
      "# ================================================================================================ #\n",
      "ERROR:wandb.jupyter:Failed to detect the name of this notebook, you can set it manually with the WANDB_NOTEBOOK_NAME environment variable to enable code saving.\n"
     ]
    },
    {
     "name": "stderr",
     "output_type": "stream",
     "text": [
      "\u001b[34m\u001b[1mwandb\u001b[0m: Currently logged in as: \u001b[33maistudio\u001b[0m. Use \u001b[1m`wandb login --relogin`\u001b[0m to force relogin\n"
     ]
    },
    {
     "data": {
      "application/vnd.jupyter.widget-view+json": {
       "model_id": "e410023f5fa94c5ebd8414f305831ddc",
       "version_major": 2,
       "version_minor": 0
      },
      "text/plain": [
       "VBox(children=(Label(value='Waiting for wandb.init()...\\r'), FloatProgress(value=0.011112889011080066, max=1.0…"
      ]
     },
     "metadata": {},
     "output_type": "display_data"
    },
    {
     "data": {
      "text/html": [
       "Tracking run with wandb version 0.16.2"
      ],
      "text/plain": [
       "<IPython.core.display.HTML object>"
      ]
     },
     "metadata": {},
     "output_type": "display_data"
    },
    {
     "data": {
      "text/html": [
       "Run data is saved locally in <code>/home/john/projects/bcd/wandb/run-20240214_012712-8wuoxn2a</code>"
      ],
      "text/plain": [
       "<IPython.core.display.HTML object>"
      ]
     },
     "metadata": {},
     "output_type": "display_data"
    },
    {
     "data": {
      "text/html": [
       "Syncing run <strong><a href='https://wandb.ai/aistudio/Breast-Cancer-Detection-Production/runs/8wuoxn2a' target=\"_blank\">TMNet_DenseNet</a></strong> to <a href='https://wandb.ai/aistudio/Breast-Cancer-Detection-Production' target=\"_blank\">Weights & Biases</a> (<a href='https://wandb.me/run' target=\"_blank\">docs</a>)<br/>"
      ],
      "text/plain": [
       "<IPython.core.display.HTML object>"
      ]
     },
     "metadata": {},
     "output_type": "display_data"
    },
    {
     "data": {
      "text/html": [
       " View project at <a href='https://wandb.ai/aistudio/Breast-Cancer-Detection-Production' target=\"_blank\">https://wandb.ai/aistudio/Breast-Cancer-Detection-Production</a>"
      ],
      "text/plain": [
       "<IPython.core.display.HTML object>"
      ]
     },
     "metadata": {},
     "output_type": "display_data"
    },
    {
     "data": {
      "text/html": [
       " View run at <a href='https://wandb.ai/aistudio/Breast-Cancer-Detection-Production/runs/8wuoxn2a' target=\"_blank\">https://wandb.ai/aistudio/Breast-Cancer-Detection-Production/runs/8wuoxn2a</a>"
      ],
      "text/plain": [
       "<IPython.core.display.HTML object>"
      ]
     },
     "metadata": {},
     "output_type": "display_data"
    },
    {
     "name": "stdout",
     "output_type": "stream",
     "text": [
      "Epoch 1/50\n",
      "31/31 [==============================] - ETA: 0s - loss: 0.6675 - accuracy: 0.5943 - auc: 0.6247 - precision: 0.5585 - recall: 0.4719\n",
      "Epoch 1: val_accuracy improved from -inf to 0.61943, saving model to models/production/TMNet_DenseNet-8wuoxn2a.keras\n",
      "31/31 [==============================] - 419s 13s/step - loss: 0.6675 - accuracy: 0.5943 - auc: 0.6247 - precision: 0.5585 - recall: 0.4719 - val_loss: 0.6702 - val_accuracy: 0.6194 - val_auc: 0.6738 - val_precision: 0.5493 - val_recall: 0.8326 - lr: 1.0000e-04\n",
      "Epoch 2/50\n",
      "31/31 [==============================] - ETA: 0s - loss: 0.5573 - accuracy: 0.7172 - auc: 0.7900 - precision: 0.7051 - recall: 0.6393\n",
      "Epoch 2: val_accuracy improved from 0.61943 to 0.62753, saving model to models/production/TMNet_DenseNet-8wuoxn2a.keras\n",
      "31/31 [==============================] - 389s 12s/step - loss: 0.5573 - accuracy: 0.7172 - auc: 0.7900 - precision: 0.7051 - recall: 0.6393 - val_loss: 0.6562 - val_accuracy: 0.6275 - val_auc: 0.6715 - val_precision: 0.5698 - val_recall: 0.6833 - lr: 1.0000e-04\n",
      "Epoch 3/50\n",
      "31/31 [==============================] - ETA: 0s - loss: 0.4806 - accuracy: 0.7865 - auc: 0.8740 - precision: 0.7889 - recall: 0.7180\n",
      "Epoch 3: val_accuracy did not improve from 0.62753\n",
      "31/31 [==============================] - 387s 12s/step - loss: 0.4806 - accuracy: 0.7865 - auc: 0.8740 - precision: 0.7889 - recall: 0.7180 - val_loss: 0.6621 - val_accuracy: 0.5992 - val_auc: 0.6818 - val_precision: 0.5363 - val_recall: 0.7692 - lr: 1.0000e-04\n",
      "Epoch 4/50\n",
      "31/31 [==============================] - ETA: 0s - loss: 0.4265 - accuracy: 0.8371 - auc: 0.9106 - precision: 0.8365 - recall: 0.7933\n",
      "Epoch 4: val_accuracy improved from 0.62753 to 0.64170, saving model to models/production/TMNet_DenseNet-8wuoxn2a.keras\n",
      "31/31 [==============================] - 391s 12s/step - loss: 0.4265 - accuracy: 0.8371 - auc: 0.9106 - precision: 0.8365 - recall: 0.7933 - val_loss: 0.6437 - val_accuracy: 0.6417 - val_auc: 0.6737 - val_precision: 0.5982 - val_recall: 0.6063 - lr: 1.0000e-04\n",
      "Epoch 5/50\n",
      "31/31 [==============================] - ETA: 0s - loss: 0.3758 - accuracy: 0.8660 - auc: 0.9404 - precision: 0.8707 - recall: 0.8247\n",
      "Epoch 5: val_accuracy did not improve from 0.64170\n",
      "31/31 [==============================] - 383s 12s/step - loss: 0.3758 - accuracy: 0.8660 - auc: 0.9404 - precision: 0.8707 - recall: 0.8247 - val_loss: 0.6457 - val_accuracy: 0.6417 - val_auc: 0.6692 - val_precision: 0.6122 - val_recall: 0.5430 - lr: 1.0000e-04\n",
      "Epoch 6/50\n",
      "31/31 [==============================] - ETA: 0s - loss: 0.3319 - accuracy: 0.8923 - auc: 0.9565 - precision: 0.9015 - recall: 0.8539\n",
      "Epoch 6: val_accuracy did not improve from 0.64170\n",
      "31/31 [==============================] - 376s 12s/step - loss: 0.3319 - accuracy: 0.8923 - auc: 0.9565 - precision: 0.9015 - recall: 0.8539 - val_loss: 0.6526 - val_accuracy: 0.6417 - val_auc: 0.6701 - val_precision: 0.6019 - val_recall: 0.5882 - lr: 1.0000e-04\n",
      "Epoch 7/50\n",
      "31/31 [==============================] - ETA: 0s - loss: 0.2791 - accuracy: 0.9246 - auc: 0.9766 - precision: 0.9303 - recall: 0.9000\n",
      "Epoch 7: ReduceLROnPlateau reducing learning rate to 4.999999873689376e-05.\n",
      "\n",
      "Epoch 7: val_accuracy did not improve from 0.64170\n",
      "31/31 [==============================] - 361s 11s/step - loss: 0.2791 - accuracy: 0.9246 - auc: 0.9766 - precision: 0.9303 - recall: 0.9000 - val_loss: 0.6521 - val_accuracy: 0.6275 - val_auc: 0.6796 - val_precision: 0.5911 - val_recall: 0.5430 - lr: 1.0000e-04\n",
      "Epoch 8/50\n",
      "31/31 [==============================] - ETA: 0s - loss: 0.2356 - accuracy: 0.9469 - auc: 0.9869 - precision: 0.9475 - recall: 0.9337\n",
      "Epoch 8: val_accuracy did not improve from 0.64170\n",
      "31/31 [==============================] - 350s 11s/step - loss: 0.2356 - accuracy: 0.9469 - auc: 0.9869 - precision: 0.9475 - recall: 0.9337 - val_loss: 0.6700 - val_accuracy: 0.6336 - val_auc: 0.6727 - val_precision: 0.5935 - val_recall: 0.5747 - lr: 5.0000e-05\n",
      "Epoch 9/50\n",
      "31/31 [==============================] - ETA: 0s - loss: 0.2221 - accuracy: 0.9459 - auc: 0.9880 - precision: 0.9516 - recall: 0.9270\n",
      "Epoch 9: val_accuracy did not improve from 0.64170\n",
      "31/31 [==============================] - 351s 11s/step - loss: 0.2221 - accuracy: 0.9459 - auc: 0.9880 - precision: 0.9516 - recall: 0.9270 - val_loss: 0.6830 - val_accuracy: 0.6296 - val_auc: 0.6779 - val_precision: 0.5812 - val_recall: 0.6154 - lr: 5.0000e-05\n",
      "Epoch 10/50\n",
      "31/31 [==============================] - ETA: 0s - loss: 0.2028 - accuracy: 0.9550 - auc: 0.9913 - precision: 0.9577 - recall: 0.9416\n",
      "Epoch 10: ReduceLROnPlateau reducing learning rate to 2.499999936844688e-05.\n",
      "\n",
      "Epoch 10: val_accuracy did not improve from 0.64170\n",
      "31/31 [==============================] - 348s 11s/step - loss: 0.2028 - accuracy: 0.9550 - auc: 0.9913 - precision: 0.9577 - recall: 0.9416 - val_loss: 0.6980 - val_accuracy: 0.6275 - val_auc: 0.6696 - val_precision: 0.6057 - val_recall: 0.4796 - lr: 5.0000e-05\n",
      "Epoch 11/50\n",
      "31/31 [==============================] - ETA: 0s - loss: 0.1837 - accuracy: 0.9651 - auc: 0.9945 - precision: 0.9702 - recall: 0.9517\n",
      "Epoch 11: val_accuracy did not improve from 0.64170\n",
      "31/31 [==============================] - 345s 11s/step - loss: 0.1837 - accuracy: 0.9651 - auc: 0.9945 - precision: 0.9702 - recall: 0.9517 - val_loss: 0.7024 - val_accuracy: 0.6154 - val_auc: 0.6735 - val_precision: 0.5803 - val_recall: 0.5068 - lr: 2.5000e-05\n",
      "Epoch 12/50\n",
      "31/31 [==============================] - ETA: 0s - loss: 0.1724 - accuracy: 0.9686 - auc: 0.9958 - precision: 0.9683 - recall: 0.9618\n",
      "Epoch 12: val_accuracy did not improve from 0.64170\n",
      "31/31 [==============================] - 346s 11s/step - loss: 0.1724 - accuracy: 0.9686 - auc: 0.9958 - precision: 0.9683 - recall: 0.9618 - val_loss: 0.7136 - val_accuracy: 0.6235 - val_auc: 0.6744 - val_precision: 0.5907 - val_recall: 0.5158 - lr: 2.5000e-05\n",
      "Epoch 13/50\n",
      "31/31 [==============================] - ETA: 0s - loss: 0.1667 - accuracy: 0.9702 - auc: 0.9953 - precision: 0.9695 - recall: 0.9640\n",
      "Epoch 13: ReduceLROnPlateau reducing learning rate to 1.249999968422344e-05.\n",
      "\n",
      "Epoch 13: val_accuracy did not improve from 0.64170\n",
      "31/31 [==============================] - 349s 11s/step - loss: 0.1667 - accuracy: 0.9702 - auc: 0.9953 - precision: 0.9695 - recall: 0.9640 - val_loss: 0.7251 - val_accuracy: 0.6174 - val_auc: 0.6751 - val_precision: 0.5808 - val_recall: 0.5204 - lr: 2.5000e-05\n",
      "Epoch 14/50\n",
      "31/31 [==============================] - ETA: 0s - loss: 0.1605 - accuracy: 0.9737 - auc: 0.9967 - precision: 0.9718 - recall: 0.9697Restoring model weights from the end of the best epoch: 4.\n",
      "\n",
      "Epoch 14: val_accuracy did not improve from 0.64170\n",
      "31/31 [==============================] - 351s 11s/step - loss: 0.1605 - accuracy: 0.9737 - auc: 0.9967 - precision: 0.9718 - recall: 0.9697 - val_loss: 0.7347 - val_accuracy: 0.6194 - val_auc: 0.6753 - val_precision: 0.5829 - val_recall: 0.5249 - lr: 1.2500e-05\n",
      "Epoch 14: early stopping\n"
     ]
    },
    {
     "name": "stderr",
     "output_type": "stream",
     "text": [
      "\u001b[34m\u001b[1mwandb\u001b[0m: Waiting for artifact run-8wuoxn2a-TMNet_DenseNet-8wuoxn2a.keras to be committed...\n"
     ]
    },
    {
     "data": {
      "application/vnd.jupyter.widget-view+json": {
       "model_id": "366d7c8848874b6ca39bf6b11c4b4726",
       "version_major": 2,
       "version_minor": 0
      },
      "text/plain": [
       "VBox(children=(Label(value='1.285 MB of 211.268 MB uploaded\\r'), FloatProgress(value=0.0060808347699235306, ma…"
      ]
     },
     "metadata": {},
     "output_type": "display_data"
    },
    {
     "name": "stderr",
     "output_type": "stream",
     "text": [
      "\n",
      "\u001b[34m\u001b[1mwandb\u001b[0m: Committed artifact aistudio/Breast-Cancer-Detection-Production/run-8wuoxn2a-TMNet_DenseNet-8wuoxn2a.keras:v0\n",
      "\u001b[34m\u001b[1mwandb\u001b[0m: \u001b[33mWARNING\u001b[0m wandb.plots.* functions are deprecated and will be removed in a future release. Please use wandb.plot.* instead.\n",
      "wandb: WARNING Source type is set to 'repo' but some required information is missing from the environment. A job will not be created from this run. See https://docs.wandb.ai/guides/launch/create-job\n"
     ]
    },
    {
     "data": {
      "text/html": [
       "<style>\n",
       "    table.wandb td:nth-child(1) { padding: 0 10px; text-align: left ; width: auto;} td:nth-child(2) {text-align: left ; width: 100%}\n",
       "    .wandb-row { display: flex; flex-direction: row; flex-wrap: wrap; justify-content: flex-start; width: 100% }\n",
       "    .wandb-col { display: flex; flex-direction: column; flex-basis: 100%; flex: 1; padding: 10px; }\n",
       "    </style>\n",
       "<div class=\"wandb-row\"><div class=\"wandb-col\"><h3>Run history:</h3><br/><table class=\"wandb\"><tr><td>epoch/accuracy</td><td>▁▃▅▅▆▆▇█▇█████</td></tr><tr><td>epoch/auc</td><td>▁▄▆▆▇▇████████</td></tr><tr><td>epoch/epoch</td><td>▁▂▂▃▃▄▄▅▅▆▆▇▇█</td></tr><tr><td>epoch/learning_rate</td><td>██████▄▄▄▂▂▂▁▁</td></tr><tr><td>epoch/loss</td><td>█▆▅▅▄▃▃▂▂▂▁▁▁▁</td></tr><tr><td>epoch/lr</td><td>███████▄▄▄▂▂▂▁</td></tr><tr><td>epoch/precision</td><td>▁▃▅▆▆▇▇███████</td></tr><tr><td>epoch/recall</td><td>▁▃▄▆▆▆▇▇▇█████</td></tr><tr><td>epoch/val_accuracy</td><td>▄▆▁███▆▇▆▆▄▅▄▄</td></tr><tr><td>epoch/val_auc</td><td>▄▂█▃▁▂▇▃▆▁▃▄▄▄</td></tr><tr><td>epoch/val_loss</td><td>▃▂▂▁▁▂▂▃▄▅▆▆▇█</td></tr><tr><td>epoch/val_precision</td><td>▂▄▁▇█▇▆▆▅▇▅▆▅▅</td></tr><tr><td>epoch/val_recall</td><td>█▅▇▄▂▃▂▃▄▁▂▂▂▂</td></tr></table><br/></div><div class=\"wandb-col\"><h3>Run summary:</h3><br/><table class=\"wandb\"><tr><td>epoch/accuracy</td><td>0.9737</td></tr><tr><td>epoch/auc</td><td>0.99669</td></tr><tr><td>epoch/epoch</td><td>13</td></tr><tr><td>epoch/learning_rate</td><td>1e-05</td></tr><tr><td>epoch/loss</td><td>0.16052</td></tr><tr><td>epoch/lr</td><td>1e-05</td></tr><tr><td>epoch/precision</td><td>0.97185</td></tr><tr><td>epoch/recall</td><td>0.96966</td></tr><tr><td>epoch/val_accuracy</td><td>0.61943</td></tr><tr><td>epoch/val_auc</td><td>0.67528</td></tr><tr><td>epoch/val_loss</td><td>0.7347</td></tr><tr><td>epoch/val_precision</td><td>0.58291</td></tr><tr><td>epoch/val_recall</td><td>0.52489</td></tr></table><br/></div></div>"
      ],
      "text/plain": [
       "<IPython.core.display.HTML object>"
      ]
     },
     "metadata": {},
     "output_type": "display_data"
    },
    {
     "data": {
      "text/html": [
       " View run <strong style=\"color:#cdcd00\">TMNet_DenseNet</strong> at: <a href='https://wandb.ai/aistudio/Breast-Cancer-Detection-Production/runs/8wuoxn2a' target=\"_blank\">https://wandb.ai/aistudio/Breast-Cancer-Detection-Production/runs/8wuoxn2a</a><br/>Synced 6 W&B file(s), 3 media file(s), 5 artifact file(s) and 0 other file(s)"
      ],
      "text/plain": [
       "<IPython.core.display.HTML object>"
      ]
     },
     "metadata": {},
     "output_type": "display_data"
    },
    {
     "data": {
      "text/html": [
       "Find logs at: <code>./wandb/run-20240214_012712-8wuoxn2a/logs</code>"
      ],
      "text/plain": [
       "<IPython.core.display.HTML object>"
      ]
     },
     "metadata": {},
     "output_type": "display_data"
    },
    {
     "name": "stdout",
     "output_type": "stream",
     "text": [
      "# ================================================================================================ #\n",
      "                                         TMNet_EfficientNet                                         \n",
      "# ------------------------------------------------------------------------------------------------ #\n",
      "Model: \"model\"\n",
      "_________________________________________________________________\n",
      " Layer (type)                Output Shape              Param #   \n",
      "=================================================================\n",
      " TMNet_EfficientNet_input_la  [(None, 224, 224, 3)]    0         \n",
      " yer (InputLayer)                                                \n",
      "                                                                 \n",
      " data_augmentation (Sequenti  (None, 224, 224, 3)      0         \n",
      " al)                                                             \n",
      "                                                                 \n",
      " efficientnetv2-s (Functiona  (None, None, None, 1280)  20331360 \n",
      " l)                                                              \n",
      "                                                                 \n",
      " TMNet_EfficientNet_global_a  (None, 1280)             0         \n",
      " verage_pooling (GlobalAvera                                     \n",
      " gePooling2D)                                                    \n",
      "                                                                 \n",
      " TMNet_EfficientNet_batch_no  (None, 1280)             5120      \n",
      " rmalization (BatchNormaliza                                     \n",
      " tion)                                                           \n",
      "                                                                 \n",
      " TMNet_EfficientNet_dense_1   (None, 1024)             1311744   \n",
      " (Dense)                                                         \n",
      "                                                                 \n",
      " TMNet_EfficientNet_dense_2   (None, 1024)             1049600   \n",
      " (Dense)                                                         \n",
      "                                                                 \n",
      " TMNet_EfficientNet_output_l  (None, 1)                1025      \n",
      " ayer (Dense)                                                    \n",
      "                                                                 \n",
      "=================================================================\n",
      "Total params: 22,698,849\n",
      "Trainable params: 2,364,929\n",
      "Non-trainable params: 20,333,920\n",
      "_________________________________________________________________\n",
      "# ------------------------------------------------------------------------------------------------ #\n",
      "\n",
      "\n",
      "                                            TMNetConfig                                             \n",
      "                                        Activation | sigmoid\n",
      "                                      Output Shape | 1\n",
      "                                            Dense1 | 1024\n",
      "                                            Dense2 | 1024\n",
      "\n",
      "\n",
      "# ================================================================================================ #\n"
     ]
    },
    {
     "data": {
      "application/vnd.jupyter.widget-view+json": {
       "model_id": "4932892e67c44b4ab0256cd03d77e438",
       "version_major": 2,
       "version_minor": 0
      },
      "text/plain": [
       "VBox(children=(Label(value='Waiting for wandb.init()...\\r'), FloatProgress(value=0.011114429666647791, max=1.0…"
      ]
     },
     "metadata": {},
     "output_type": "display_data"
    },
    {
     "data": {
      "text/html": [
       "wandb version 0.16.3 is available!  To upgrade, please run:\n",
       " $ pip install wandb --upgrade"
      ],
      "text/plain": [
       "<IPython.core.display.HTML object>"
      ]
     },
     "metadata": {},
     "output_type": "display_data"
    },
    {
     "data": {
      "text/html": [
       "Tracking run with wandb version 0.16.2"
      ],
      "text/plain": [
       "<IPython.core.display.HTML object>"
      ]
     },
     "metadata": {},
     "output_type": "display_data"
    },
    {
     "data": {
      "text/html": [
       "Run data is saved locally in <code>/home/john/projects/bcd/wandb/run-20240214_025859-n5zc87ri</code>"
      ],
      "text/plain": [
       "<IPython.core.display.HTML object>"
      ]
     },
     "metadata": {},
     "output_type": "display_data"
    },
    {
     "data": {
      "text/html": [
       "Syncing run <strong><a href='https://wandb.ai/aistudio/Breast-Cancer-Detection-Production/runs/n5zc87ri' target=\"_blank\">TMNet_EfficientNet</a></strong> to <a href='https://wandb.ai/aistudio/Breast-Cancer-Detection-Production' target=\"_blank\">Weights & Biases</a> (<a href='https://wandb.me/run' target=\"_blank\">docs</a>)<br/>"
      ],
      "text/plain": [
       "<IPython.core.display.HTML object>"
      ]
     },
     "metadata": {},
     "output_type": "display_data"
    },
    {
     "data": {
      "text/html": [
       " View project at <a href='https://wandb.ai/aistudio/Breast-Cancer-Detection-Production' target=\"_blank\">https://wandb.ai/aistudio/Breast-Cancer-Detection-Production</a>"
      ],
      "text/plain": [
       "<IPython.core.display.HTML object>"
      ]
     },
     "metadata": {},
     "output_type": "display_data"
    },
    {
     "data": {
      "text/html": [
       " View run at <a href='https://wandb.ai/aistudio/Breast-Cancer-Detection-Production/runs/n5zc87ri' target=\"_blank\">https://wandb.ai/aistudio/Breast-Cancer-Detection-Production/runs/n5zc87ri</a>"
      ],
      "text/plain": [
       "<IPython.core.display.HTML object>"
      ]
     },
     "metadata": {},
     "output_type": "display_data"
    },
    {
     "name": "stdout",
     "output_type": "stream",
     "text": [
      "Epoch 1/50\n",
      "31/31 [==============================] - ETA: 0s - loss: 0.7248 - accuracy: 0.5650 - auc: 0.5919 - precision: 0.5334 - recall: 0.4527\n",
      "Epoch 1: val_accuracy did not improve from 0.64170\n",
      "\n",
      "Epoch 1: val_accuracy improved from -inf to 0.57085, saving model to models/production/TMNet_EfficientNet-n5zc87ri.keras\n",
      "31/31 [==============================] - 252s 7s/step - loss: 0.7248 - accuracy: 0.5650 - auc: 0.5919 - precision: 0.5334 - recall: 0.4527 - val_loss: 0.6798 - val_accuracy: 0.5709 - val_auc: 0.5711 - val_precision: 0.5584 - val_recall: 0.1946 - lr: 1.0000e-04\n",
      "Epoch 2/50\n",
      "31/31 [==============================] - ETA: 0s - loss: 0.5749 - accuracy: 0.7056 - auc: 0.7732 - precision: 0.6990 - recall: 0.6079\n",
      "Epoch 2: val_accuracy did not improve from 0.64170\n",
      "\n",
      "Epoch 2: val_accuracy improved from 0.57085 to 0.57692, saving model to models/production/TMNet_EfficientNet-n5zc87ri.keras\n",
      "31/31 [==============================] - 230s 7s/step - loss: 0.5749 - accuracy: 0.7056 - auc: 0.7732 - precision: 0.6990 - recall: 0.6079 - val_loss: 0.6719 - val_accuracy: 0.5769 - val_auc: 0.6092 - val_precision: 0.6500 - val_recall: 0.1176 - lr: 1.0000e-04\n",
      "Epoch 3/50\n",
      "31/31 [==============================] - ETA: 0s - loss: 0.5112 - accuracy: 0.7744 - auc: 0.8506 - precision: 0.7606 - recall: 0.7281\n",
      "Epoch 3: val_accuracy did not improve from 0.64170\n",
      "\n",
      "Epoch 3: val_accuracy improved from 0.57692 to 0.58502, saving model to models/production/TMNet_EfficientNet-n5zc87ri.keras\n",
      "31/31 [==============================] - 230s 7s/step - loss: 0.5112 - accuracy: 0.7744 - auc: 0.8506 - precision: 0.7606 - recall: 0.7281 - val_loss: 0.6689 - val_accuracy: 0.5850 - val_auc: 0.6236 - val_precision: 0.6818 - val_recall: 0.1357 - lr: 1.0000e-04\n",
      "Epoch 4/50\n",
      "31/31 [==============================] - ETA: 0s - loss: 0.4665 - accuracy: 0.7926 - auc: 0.8831 - precision: 0.8008 - recall: 0.7180\n",
      "Epoch 4: val_accuracy did not improve from 0.64170\n",
      "\n",
      "Epoch 4: val_accuracy did not improve from 0.58502\n",
      "31/31 [==============================] - 231s 7s/step - loss: 0.4665 - accuracy: 0.7926 - auc: 0.8831 - precision: 0.8008 - recall: 0.7180 - val_loss: 0.6610 - val_accuracy: 0.5830 - val_auc: 0.6288 - val_precision: 0.5843 - val_recall: 0.2353 - lr: 1.0000e-04\n",
      "Epoch 5/50\n",
      "31/31 [==============================] - ETA: 0s - loss: 0.4118 - accuracy: 0.8432 - auc: 0.9239 - precision: 0.8563 - recall: 0.7831\n",
      "Epoch 5: val_accuracy did not improve from 0.64170\n",
      "\n",
      "Epoch 5: val_accuracy improved from 0.58502 to 0.59919, saving model to models/production/TMNet_EfficientNet-n5zc87ri.keras\n",
      "31/31 [==============================] - 232s 7s/step - loss: 0.4118 - accuracy: 0.8432 - auc: 0.9239 - precision: 0.8563 - recall: 0.7831 - val_loss: 0.6584 - val_accuracy: 0.5992 - val_auc: 0.6269 - val_precision: 0.5752 - val_recall: 0.3982 - lr: 1.0000e-04\n",
      "Epoch 6/50\n",
      "31/31 [==============================] - ETA: 0s - loss: 0.3675 - accuracy: 0.8882 - auc: 0.9502 - precision: 0.8987 - recall: 0.8472\n",
      "Epoch 6: val_accuracy did not improve from 0.64170\n",
      "\n",
      "Epoch 6: val_accuracy did not improve from 0.59919\n",
      "31/31 [==============================] - 232s 7s/step - loss: 0.3675 - accuracy: 0.8882 - auc: 0.9502 - precision: 0.8987 - recall: 0.8472 - val_loss: 0.6569 - val_accuracy: 0.5992 - val_auc: 0.6334 - val_precision: 0.5752 - val_recall: 0.3982 - lr: 1.0000e-04\n",
      "Epoch 7/50\n",
      "31/31 [==============================] - ETA: 0s - loss: 0.3250 - accuracy: 0.9105 - auc: 0.9675 - precision: 0.9199 - recall: 0.8775\n",
      "Epoch 7: val_accuracy did not improve from 0.64170\n",
      "\n",
      "Epoch 7: val_accuracy did not improve from 0.59919\n",
      "31/31 [==============================] - 230s 7s/step - loss: 0.3250 - accuracy: 0.9105 - auc: 0.9675 - precision: 0.9199 - recall: 0.8775 - val_loss: 0.6608 - val_accuracy: 0.5850 - val_auc: 0.6314 - val_precision: 0.5449 - val_recall: 0.4389 - lr: 1.0000e-04\n",
      "Epoch 8/50\n",
      "31/31 [==============================] - ETA: 0s - loss: 0.2854 - accuracy: 0.9267 - auc: 0.9783 - precision: 0.9200 - recall: 0.9169\n",
      "Epoch 8: val_accuracy did not improve from 0.64170\n",
      "\n",
      "Epoch 8: val_accuracy did not improve from 0.59919\n",
      "31/31 [==============================] - 228s 7s/step - loss: 0.2854 - accuracy: 0.9267 - auc: 0.9783 - precision: 0.9200 - recall: 0.9169 - val_loss: 0.6718 - val_accuracy: 0.5789 - val_auc: 0.6277 - val_precision: 0.5311 - val_recall: 0.5023 - lr: 1.0000e-04\n",
      "Epoch 9/50\n",
      "31/31 [==============================] - ETA: 0s - loss: 0.2529 - accuracy: 0.9342 - auc: 0.9854 - precision: 0.9378 - recall: 0.9146\n",
      "Epoch 9: ReduceLROnPlateau reducing learning rate to 4.999999873689376e-05.\n",
      "\n",
      "Epoch 9: val_accuracy did not improve from 0.64170\n",
      "\n",
      "Epoch 9: val_accuracy did not improve from 0.59919\n",
      "31/31 [==============================] - 222s 7s/step - loss: 0.2529 - accuracy: 0.9342 - auc: 0.9854 - precision: 0.9378 - recall: 0.9146 - val_loss: 0.6873 - val_accuracy: 0.5891 - val_auc: 0.6296 - val_precision: 0.5441 - val_recall: 0.5023 - lr: 1.0000e-04\n",
      "Epoch 10/50\n",
      "31/31 [==============================] - ETA: 0s - loss: 0.2197 - accuracy: 0.9575 - auc: 0.9919 - precision: 0.9549 - recall: 0.9506\n",
      "Epoch 10: val_accuracy did not improve from 0.64170\n",
      "\n",
      "Epoch 10: val_accuracy did not improve from 0.59919\n",
      "31/31 [==============================] - 225s 7s/step - loss: 0.2197 - accuracy: 0.9575 - auc: 0.9919 - precision: 0.9549 - recall: 0.9506 - val_loss: 0.6967 - val_accuracy: 0.5830 - val_auc: 0.6331 - val_precision: 0.5397 - val_recall: 0.4615 - lr: 5.0000e-05\n",
      "Epoch 11/50\n",
      "31/31 [==============================] - ETA: 0s - loss: 0.2127 - accuracy: 0.9535 - auc: 0.9902 - precision: 0.9607 - recall: 0.9348\n",
      "Epoch 11: val_accuracy did not improve from 0.64170\n",
      "\n",
      "Epoch 11: val_accuracy did not improve from 0.59919\n",
      "31/31 [==============================] - 236s 7s/step - loss: 0.2127 - accuracy: 0.9535 - auc: 0.9902 - precision: 0.9607 - recall: 0.9348 - val_loss: 0.7090 - val_accuracy: 0.5891 - val_auc: 0.6332 - val_precision: 0.5437 - val_recall: 0.5068 - lr: 5.0000e-05\n",
      "Epoch 12/50\n",
      "31/31 [==============================] - ETA: 0s - loss: 0.1904 - accuracy: 0.9712 - auc: 0.9940 - precision: 0.9717 - recall: 0.9640\n",
      "Epoch 12: ReduceLROnPlateau reducing learning rate to 2.499999936844688e-05.\n",
      "\n",
      "Epoch 12: val_accuracy did not improve from 0.64170\n",
      "\n",
      "Epoch 12: val_accuracy did not improve from 0.59919\n",
      "31/31 [==============================] - 225s 7s/step - loss: 0.1904 - accuracy: 0.9712 - auc: 0.9940 - precision: 0.9717 - recall: 0.9640 - val_loss: 0.7175 - val_accuracy: 0.5972 - val_auc: 0.6349 - val_precision: 0.5573 - val_recall: 0.4842 - lr: 5.0000e-05\n",
      "Epoch 13/50\n",
      "31/31 [==============================] - ETA: 0s - loss: 0.1781 - accuracy: 0.9707 - auc: 0.9958 - precision: 0.9749 - recall: 0.9596\n",
      "Epoch 13: val_accuracy did not improve from 0.64170\n",
      "\n",
      "Epoch 13: val_accuracy improved from 0.59919 to 0.60121, saving model to models/production/TMNet_EfficientNet-n5zc87ri.keras\n",
      "31/31 [==============================] - 221s 7s/step - loss: 0.1781 - accuracy: 0.9707 - auc: 0.9958 - precision: 0.9749 - recall: 0.9596 - val_loss: 0.7285 - val_accuracy: 0.6012 - val_auc: 0.6356 - val_precision: 0.5619 - val_recall: 0.4932 - lr: 2.5000e-05\n",
      "Epoch 14/50\n",
      "31/31 [==============================] - ETA: 0s - loss: 0.1676 - accuracy: 0.9767 - auc: 0.9969 - precision: 0.9817 - recall: 0.9663\n",
      "Epoch 14: val_accuracy did not improve from 0.64170\n",
      "\n",
      "Epoch 14: val_accuracy did not improve from 0.60121\n",
      "31/31 [==============================] - 221s 7s/step - loss: 0.1676 - accuracy: 0.9767 - auc: 0.9969 - precision: 0.9817 - recall: 0.9663 - val_loss: 0.7425 - val_accuracy: 0.5911 - val_auc: 0.6365 - val_precision: 0.5411 - val_recall: 0.5656 - lr: 2.5000e-05\n",
      "Epoch 15/50\n",
      "31/31 [==============================] - ETA: 0s - loss: 0.1599 - accuracy: 0.9772 - auc: 0.9980 - precision: 0.9796 - recall: 0.9697\n",
      "Epoch 15: ReduceLROnPlateau reducing learning rate to 1.249999968422344e-05.\n",
      "\n",
      "Epoch 15: val_accuracy did not improve from 0.64170\n",
      "\n",
      "Epoch 15: val_accuracy improved from 0.60121 to 0.61134, saving model to models/production/TMNet_EfficientNet-n5zc87ri.keras\n",
      "31/31 [==============================] - 224s 7s/step - loss: 0.1599 - accuracy: 0.9772 - auc: 0.9980 - precision: 0.9796 - recall: 0.9697 - val_loss: 0.7491 - val_accuracy: 0.6113 - val_auc: 0.6414 - val_precision: 0.5714 - val_recall: 0.5249 - lr: 2.5000e-05\n",
      "Epoch 16/50\n",
      "31/31 [==============================] - ETA: 0s - loss: 0.1576 - accuracy: 0.9793 - auc: 0.9971 - precision: 0.9775 - recall: 0.9764Restoring model weights from the end of the best epoch: 6.\n",
      "\n",
      "Epoch 16: val_accuracy did not improve from 0.64170\n",
      "\n",
      "Epoch 16: val_accuracy did not improve from 0.61134\n",
      "31/31 [==============================] - 221s 7s/step - loss: 0.1576 - accuracy: 0.9793 - auc: 0.9971 - precision: 0.9775 - recall: 0.9764 - val_loss: 0.7588 - val_accuracy: 0.5911 - val_auc: 0.6402 - val_precision: 0.5459 - val_recall: 0.5113 - lr: 1.2500e-05\n",
      "Epoch 16: early stopping\n"
     ]
    },
    {
     "name": "stderr",
     "output_type": "stream",
     "text": [
      "\u001b[34m\u001b[1mwandb\u001b[0m: Waiting for artifact run-n5zc87ri-TMNet_EfficientNet-n5zc87ri.keras to be committed...\n"
     ]
    },
    {
     "data": {
      "application/vnd.jupyter.widget-view+json": {
       "model_id": "7f51d42d3464427caaa9015643c47c08",
       "version_major": 2,
       "version_minor": 0
      },
      "text/plain": [
       "VBox(children=(Label(value='2.457 MB of 210.875 MB uploaded\\r'), FloatProgress(value=0.011649375466913, max=1.…"
      ]
     },
     "metadata": {},
     "output_type": "display_data"
    },
    {
     "name": "stderr",
     "output_type": "stream",
     "text": [
      "\n",
      "\u001b[34m\u001b[1mwandb\u001b[0m: Committed artifact aistudio/Breast-Cancer-Detection-Production/run-n5zc87ri-TMNet_EfficientNet-n5zc87ri.keras:v0\n",
      "wandb: WARNING Source type is set to 'repo' but some required information is missing from the environment. A job will not be created from this run. See https://docs.wandb.ai/guides/launch/create-job\n"
     ]
    },
    {
     "data": {
      "text/html": [
       "<style>\n",
       "    table.wandb td:nth-child(1) { padding: 0 10px; text-align: left ; width: auto;} td:nth-child(2) {text-align: left ; width: 100%}\n",
       "    .wandb-row { display: flex; flex-direction: row; flex-wrap: wrap; justify-content: flex-start; width: 100% }\n",
       "    .wandb-col { display: flex; flex-direction: column; flex-basis: 100%; flex: 1; padding: 10px; }\n",
       "    </style>\n",
       "<div class=\"wandb-row\"><div class=\"wandb-col\"><h3>Run history:</h3><br/><table class=\"wandb\"><tr><td>epoch/accuracy</td><td>▁▁▃▃▅▅▅▅▆▆▆▆▇▇▇▇▇▇██████████████</td></tr><tr><td>epoch/auc</td><td>▁▁▄▄▅▅▆▆▇▇▇▇▇▇██████████████████</td></tr><tr><td>epoch/epoch</td><td>▁▁▁▁▂▂▂▂▃▃▃▃▄▄▄▄▅▅▅▅▆▆▆▆▇▇▇▇████</td></tr><tr><td>epoch/learning_rate</td><td>████████████████▄▄▄▄▄▄▂▂▂▂▂▂▁▁▁▁</td></tr><tr><td>epoch/loss</td><td>██▆▆▅▅▅▅▄▄▄▄▃▃▃▃▂▂▂▂▂▂▁▁▁▁▁▁▁▁▁▁</td></tr><tr><td>epoch/lr</td><td>██████████████████▄▄▄▄▄▄▂▂▂▂▂▂▁▁</td></tr><tr><td>epoch/precision</td><td>▁▁▄▄▅▅▅▅▆▆▇▇▇▇▇▇▇▇██████████████</td></tr><tr><td>epoch/recall</td><td>▁▁▃▃▅▅▅▅▅▅▆▆▇▇▇▇▇▇██▇▇██████████</td></tr><tr><td>epoch/val_accuracy</td><td>▁▁▂▂▃▃▃▃▆▆▆▆▃▃▂▂▄▄▃▃▄▄▆▆▆▆▄▄██▄▄</td></tr><tr><td>epoch/val_auc</td><td>▁▁▅▅▆▆▇▇▇▇▇▇▇▇▇▇▇▇▇▇▇▇▇▇▇▇██████</td></tr><tr><td>epoch/val_loss</td><td>▃▃▂▂▂▂▁▁▁▁▁▁▁▁▂▂▃▃▄▄▅▅▅▅▆▆▇▇▇▇██</td></tr><tr><td>epoch/val_precision</td><td>▂▂▇▇██▃▃▃▃▃▃▂▂▁▁▂▂▁▁▂▂▂▂▂▂▁▁▃▃▂▂</td></tr><tr><td>epoch/val_recall</td><td>▂▂▁▁▁▁▃▃▅▅▅▅▆▆▇▇▇▇▆▆▇▇▇▇▇▇██▇▇▇▇</td></tr></table><br/></div><div class=\"wandb-col\"><h3>Run summary:</h3><br/><table class=\"wandb\"><tr><td>epoch/accuracy</td><td>0.97926</td></tr><tr><td>epoch/auc</td><td>0.99709</td></tr><tr><td>epoch/epoch</td><td>15</td></tr><tr><td>epoch/learning_rate</td><td>1e-05</td></tr><tr><td>epoch/loss</td><td>0.15762</td></tr><tr><td>epoch/lr</td><td>1e-05</td></tr><tr><td>epoch/precision</td><td>0.9775</td></tr><tr><td>epoch/recall</td><td>0.9764</td></tr><tr><td>epoch/val_accuracy</td><td>0.59109</td></tr><tr><td>epoch/val_auc</td><td>0.64019</td></tr><tr><td>epoch/val_loss</td><td>0.75884</td></tr><tr><td>epoch/val_precision</td><td>0.54589</td></tr><tr><td>epoch/val_recall</td><td>0.51131</td></tr></table><br/></div></div>"
      ],
      "text/plain": [
       "<IPython.core.display.HTML object>"
      ]
     },
     "metadata": {},
     "output_type": "display_data"
    },
    {
     "data": {
      "text/html": [
       " View run <strong style=\"color:#cdcd00\">TMNet_EfficientNet</strong> at: <a href='https://wandb.ai/aistudio/Breast-Cancer-Detection-Production/runs/n5zc87ri' target=\"_blank\">https://wandb.ai/aistudio/Breast-Cancer-Detection-Production/runs/n5zc87ri</a><br/>Synced 6 W&B file(s), 3 media file(s), 5 artifact file(s) and 0 other file(s)"
      ],
      "text/plain": [
       "<IPython.core.display.HTML object>"
      ]
     },
     "metadata": {},
     "output_type": "display_data"
    },
    {
     "data": {
      "text/html": [
       "Find logs at: <code>./wandb/run-20240214_025859-n5zc87ri/logs</code>"
      ],
      "text/plain": [
       "<IPython.core.display.HTML object>"
      ]
     },
     "metadata": {},
     "output_type": "display_data"
    },
    {
     "name": "stdout",
     "output_type": "stream",
     "text": [
      "# ================================================================================================ #\n",
      "                                          TMNet_Inception                                           \n",
      "# ------------------------------------------------------------------------------------------------ #\n",
      "Model: \"model\"\n",
      "_________________________________________________________________\n",
      " Layer (type)                Output Shape              Param #   \n",
      "=================================================================\n",
      " TMNet_Inception_input_layer  [(None, 224, 224, 3)]    0         \n",
      "  (InputLayer)                                                   \n",
      "                                                                 \n",
      " tf.math.truediv (TFOpLambda  (None, 224, 224, 3)      0         \n",
      " )                                                               \n",
      "                                                                 \n",
      " tf.math.subtract (TFOpLambd  (None, 224, 224, 3)      0         \n",
      " a)                                                              \n",
      "                                                                 \n",
      " data_augmentation (Sequenti  (None, 224, 224, 3)      0         \n",
      " al)                                                             \n",
      "                                                                 \n",
      " inception_v3 (Functional)   (None, None, None, 2048)  21802784  \n",
      "                                                                 \n",
      " TMNet_Inception_global_aver  (None, 2048)             0         \n",
      " age_pooling (GlobalAverageP                                     \n",
      " ooling2D)                                                       \n",
      "                                                                 \n",
      " TMNet_Inception_batch_norma  (None, 2048)             8192      \n",
      " lization (BatchNormalizatio                                     \n",
      " n)                                                              \n",
      "                                                                 \n",
      " TMNet_Inception_dense_1 (De  (None, 1024)             2098176   \n",
      " nse)                                                            \n",
      "                                                                 \n",
      " TMNet_Inception_dense_2 (De  (None, 1024)             1049600   \n",
      " nse)                                                            \n",
      "                                                                 \n",
      " TMNet_Inception_output_laye  (None, 1)                1025      \n",
      " r (Dense)                                                       \n",
      "                                                                 \n",
      "=================================================================\n",
      "Total params: 24,959,777\n",
      "Trainable params: 3,152,897\n",
      "Non-trainable params: 21,806,880\n",
      "_________________________________________________________________\n",
      "# ------------------------------------------------------------------------------------------------ #\n",
      "\n",
      "\n",
      "                                            TMNetConfig                                             \n",
      "                                        Activation | sigmoid\n",
      "                                      Output Shape | 1\n",
      "                                            Dense1 | 1024\n",
      "                                            Dense2 | 1024\n",
      "\n",
      "\n",
      "# ================================================================================================ #\n"
     ]
    },
    {
     "data": {
      "text/html": [
       "wandb version 0.16.3 is available!  To upgrade, please run:\n",
       " $ pip install wandb --upgrade"
      ],
      "text/plain": [
       "<IPython.core.display.HTML object>"
      ]
     },
     "metadata": {},
     "output_type": "display_data"
    },
    {
     "data": {
      "text/html": [
       "Tracking run with wandb version 0.16.2"
      ],
      "text/plain": [
       "<IPython.core.display.HTML object>"
      ]
     },
     "metadata": {},
     "output_type": "display_data"
    },
    {
     "data": {
      "text/html": [
       "Run data is saved locally in <code>/home/john/projects/bcd/wandb/run-20240214_040426-2w1uc1gb</code>"
      ],
      "text/plain": [
       "<IPython.core.display.HTML object>"
      ]
     },
     "metadata": {},
     "output_type": "display_data"
    },
    {
     "data": {
      "text/html": [
       "Syncing run <strong><a href='https://wandb.ai/aistudio/Breast-Cancer-Detection-Production/runs/2w1uc1gb' target=\"_blank\">TMNet_Inception</a></strong> to <a href='https://wandb.ai/aistudio/Breast-Cancer-Detection-Production' target=\"_blank\">Weights & Biases</a> (<a href='https://wandb.me/run' target=\"_blank\">docs</a>)<br/>"
      ],
      "text/plain": [
       "<IPython.core.display.HTML object>"
      ]
     },
     "metadata": {},
     "output_type": "display_data"
    },
    {
     "data": {
      "text/html": [
       " View project at <a href='https://wandb.ai/aistudio/Breast-Cancer-Detection-Production' target=\"_blank\">https://wandb.ai/aistudio/Breast-Cancer-Detection-Production</a>"
      ],
      "text/plain": [
       "<IPython.core.display.HTML object>"
      ]
     },
     "metadata": {},
     "output_type": "display_data"
    },
    {
     "data": {
      "text/html": [
       " View run at <a href='https://wandb.ai/aistudio/Breast-Cancer-Detection-Production/runs/2w1uc1gb' target=\"_blank\">https://wandb.ai/aistudio/Breast-Cancer-Detection-Production/runs/2w1uc1gb</a>"
      ],
      "text/plain": [
       "<IPython.core.display.HTML object>"
      ]
     },
     "metadata": {},
     "output_type": "display_data"
    },
    {
     "name": "stdout",
     "output_type": "stream",
     "text": [
      "Epoch 1/50\n",
      "31/31 [==============================] - ETA: 0s - loss: 0.7329 - accuracy: 0.5478 - auc: 0.5631 - precision: 0.5075 - recall: 0.4572\n",
      "Epoch 1: val_accuracy did not improve from 0.64170\n",
      "\n",
      "Epoch 1: val_accuracy did not improve from 0.61134\n",
      "\n",
      "Epoch 1: val_accuracy improved from -inf to 0.54656, saving model to models/production/TMNet_Inception-2w1uc1gb.keras\n",
      "31/31 [==============================] - 152s 4s/step - loss: 0.7329 - accuracy: 0.5478 - auc: 0.5631 - precision: 0.5075 - recall: 0.4572 - val_loss: 0.6868 - val_accuracy: 0.5466 - val_auc: 0.5492 - val_precision: 0.4634 - val_recall: 0.0860 - lr: 1.0000e-04\n",
      "Epoch 2/50\n",
      "31/31 [==============================] - ETA: 0s - loss: 0.5792 - accuracy: 0.7036 - auc: 0.7675 - precision: 0.6979 - recall: 0.6022\n",
      "Epoch 2: val_accuracy did not improve from 0.64170\n",
      "\n",
      "Epoch 2: val_accuracy did not improve from 0.61134\n",
      "\n",
      "Epoch 2: val_accuracy improved from 0.54656 to 0.54858, saving model to models/production/TMNet_Inception-2w1uc1gb.keras\n",
      "31/31 [==============================] - 143s 4s/step - loss: 0.5792 - accuracy: 0.7036 - auc: 0.7675 - precision: 0.6979 - recall: 0.6022 - val_loss: 0.6774 - val_accuracy: 0.5486 - val_auc: 0.5839 - val_precision: 0.4954 - val_recall: 0.4887 - lr: 1.0000e-04\n",
      "Epoch 3/50\n",
      "31/31 [==============================] - ETA: 0s - loss: 0.4940 - accuracy: 0.7906 - auc: 0.8722 - precision: 0.7968 - recall: 0.7180\n",
      "Epoch 3: val_accuracy did not improve from 0.64170\n",
      "\n",
      "Epoch 3: val_accuracy did not improve from 0.61134\n",
      "\n",
      "Epoch 3: val_accuracy improved from 0.54858 to 0.56478, saving model to models/production/TMNet_Inception-2w1uc1gb.keras\n",
      "31/31 [==============================] - 144s 4s/step - loss: 0.4940 - accuracy: 0.7906 - auc: 0.8722 - precision: 0.7968 - recall: 0.7180 - val_loss: 0.6855 - val_accuracy: 0.5648 - val_auc: 0.5821 - val_precision: 0.5278 - val_recall: 0.2579 - lr: 1.0000e-04\n",
      "Epoch 4/50\n",
      "31/31 [==============================] - ETA: 0s - loss: 0.4464 - accuracy: 0.8220 - auc: 0.8994 - precision: 0.8150 - recall: 0.7820\n",
      "Epoch 4: val_accuracy did not improve from 0.64170\n",
      "\n",
      "Epoch 4: val_accuracy did not improve from 0.61134\n",
      "\n",
      "Epoch 4: val_accuracy improved from 0.56478 to 0.58502, saving model to models/production/TMNet_Inception-2w1uc1gb.keras\n",
      "31/31 [==============================] - 146s 4s/step - loss: 0.4464 - accuracy: 0.8220 - auc: 0.8994 - precision: 0.8150 - recall: 0.7820 - val_loss: 0.6921 - val_accuracy: 0.5850 - val_auc: 0.5967 - val_precision: 0.5833 - val_recall: 0.2534 - lr: 1.0000e-04\n",
      "Epoch 5/50\n",
      "31/31 [==============================] - ETA: 0s - loss: 0.3947 - accuracy: 0.8503 - auc: 0.9280 - precision: 0.8553 - recall: 0.8034\n",
      "Epoch 5: val_accuracy did not improve from 0.64170\n",
      "\n",
      "Epoch 5: val_accuracy did not improve from 0.61134\n",
      "\n",
      "Epoch 5: val_accuracy did not improve from 0.58502\n",
      "31/31 [==============================] - 151s 5s/step - loss: 0.3947 - accuracy: 0.8503 - auc: 0.9280 - precision: 0.8553 - recall: 0.8034 - val_loss: 0.6685 - val_accuracy: 0.5789 - val_auc: 0.6220 - val_precision: 0.5436 - val_recall: 0.3665 - lr: 1.0000e-04\n",
      "Epoch 6/50\n",
      "31/31 [==============================] - ETA: 0s - loss: 0.3467 - accuracy: 0.8821 - auc: 0.9537 - precision: 0.8878 - recall: 0.8449\n",
      "Epoch 6: val_accuracy did not improve from 0.64170\n",
      "\n",
      "Epoch 6: val_accuracy did not improve from 0.61134\n",
      "\n",
      "Epoch 6: val_accuracy improved from 0.58502 to 0.60931, saving model to models/production/TMNet_Inception-2w1uc1gb.keras\n",
      "31/31 [==============================] - 144s 4s/step - loss: 0.3467 - accuracy: 0.8821 - auc: 0.9537 - precision: 0.8878 - recall: 0.8449 - val_loss: 0.6714 - val_accuracy: 0.6093 - val_auc: 0.6301 - val_precision: 0.5660 - val_recall: 0.5430 - lr: 1.0000e-04\n",
      "Epoch 7/50\n",
      "31/31 [==============================] - ETA: 0s - loss: 0.3025 - accuracy: 0.9044 - auc: 0.9685 - precision: 0.9061 - recall: 0.8787\n",
      "Epoch 7: val_accuracy did not improve from 0.64170\n",
      "\n",
      "Epoch 7: val_accuracy did not improve from 0.61134\n",
      "\n",
      "Epoch 7: val_accuracy did not improve from 0.60931\n",
      "31/31 [==============================] - 147s 5s/step - loss: 0.3025 - accuracy: 0.9044 - auc: 0.9685 - precision: 0.9061 - recall: 0.8787 - val_loss: 0.6888 - val_accuracy: 0.5789 - val_auc: 0.6316 - val_precision: 0.5537 - val_recall: 0.3032 - lr: 1.0000e-04\n",
      "Epoch 8/50\n",
      "31/31 [==============================] - ETA: 0s - loss: 0.2701 - accuracy: 0.9256 - auc: 0.9763 - precision: 0.9188 - recall: 0.9157\n",
      "Epoch 8: ReduceLROnPlateau reducing learning rate to 4.999999873689376e-05.\n",
      "\n",
      "Epoch 8: val_accuracy did not improve from 0.64170\n",
      "\n",
      "Epoch 8: val_accuracy did not improve from 0.61134\n",
      "\n",
      "Epoch 8: val_accuracy did not improve from 0.60931\n",
      "31/31 [==============================] - 142s 4s/step - loss: 0.2701 - accuracy: 0.9256 - auc: 0.9763 - precision: 0.9188 - recall: 0.9157 - val_loss: 0.6935 - val_accuracy: 0.5668 - val_auc: 0.6250 - val_precision: 0.5187 - val_recall: 0.4389 - lr: 1.0000e-04\n",
      "Epoch 9/50\n",
      "31/31 [==============================] - ETA: 0s - loss: 0.2352 - accuracy: 0.9454 - auc: 0.9859 - precision: 0.9515 - recall: 0.9258\n",
      "Epoch 9: val_accuracy did not improve from 0.64170\n",
      "\n",
      "Epoch 9: val_accuracy did not improve from 0.61134\n",
      "\n",
      "Epoch 9: val_accuracy did not improve from 0.60931\n",
      "31/31 [==============================] - 149s 5s/step - loss: 0.2352 - accuracy: 0.9454 - auc: 0.9859 - precision: 0.9515 - recall: 0.9258 - val_loss: 0.7038 - val_accuracy: 0.5870 - val_auc: 0.6257 - val_precision: 0.5464 - val_recall: 0.4525 - lr: 5.0000e-05\n",
      "Epoch 10/50\n",
      "31/31 [==============================] - ETA: 0s - loss: 0.2132 - accuracy: 0.9585 - auc: 0.9904 - precision: 0.9570 - recall: 0.9506\n",
      "Epoch 10: val_accuracy did not improve from 0.64170\n",
      "\n",
      "Epoch 10: val_accuracy did not improve from 0.61134\n",
      "\n",
      "Epoch 10: val_accuracy did not improve from 0.60931\n",
      "31/31 [==============================] - 145s 4s/step - loss: 0.2132 - accuracy: 0.9585 - auc: 0.9904 - precision: 0.9570 - recall: 0.9506 - val_loss: 0.7168 - val_accuracy: 0.5891 - val_auc: 0.6323 - val_precision: 0.5562 - val_recall: 0.4027 - lr: 5.0000e-05\n",
      "Epoch 11/50\n",
      "31/31 [==============================] - ETA: 0s - loss: 0.1874 - accuracy: 0.9691 - auc: 0.9956 - precision: 0.9825 - recall: 0.9483\n",
      "Epoch 11: ReduceLROnPlateau reducing learning rate to 2.499999936844688e-05.\n",
      "\n",
      "Epoch 11: val_accuracy did not improve from 0.64170\n",
      "\n",
      "Epoch 11: val_accuracy did not improve from 0.61134\n",
      "\n",
      "Epoch 11: val_accuracy did not improve from 0.60931\n",
      "31/31 [==============================] - 139s 4s/step - loss: 0.1874 - accuracy: 0.9691 - auc: 0.9956 - precision: 0.9825 - recall: 0.9483 - val_loss: 0.7166 - val_accuracy: 0.5972 - val_auc: 0.6375 - val_precision: 0.5573 - val_recall: 0.4842 - lr: 5.0000e-05\n",
      "Epoch 12/50\n",
      "31/31 [==============================] - ETA: 0s - loss: 0.1764 - accuracy: 0.9686 - auc: 0.9952 - precision: 0.9683 - recall: 0.9618\n",
      "Epoch 12: val_accuracy did not improve from 0.64170\n",
      "\n",
      "Epoch 12: val_accuracy did not improve from 0.61134\n",
      "\n",
      "Epoch 12: val_accuracy did not improve from 0.60931\n",
      "31/31 [==============================] - 144s 4s/step - loss: 0.1764 - accuracy: 0.9686 - auc: 0.9952 - precision: 0.9683 - recall: 0.9618 - val_loss: 0.7182 - val_accuracy: 0.5992 - val_auc: 0.6431 - val_precision: 0.5590 - val_recall: 0.4932 - lr: 2.5000e-05\n",
      "Epoch 13/50\n",
      "31/31 [==============================] - ETA: 0s - loss: 0.1639 - accuracy: 0.9732 - auc: 0.9962 - precision: 0.9783 - recall: 0.9618\n",
      "Epoch 13: val_accuracy did not improve from 0.64170\n",
      "\n",
      "Epoch 13: val_accuracy did not improve from 0.61134\n",
      "\n",
      "Epoch 13: val_accuracy did not improve from 0.60931\n",
      "31/31 [==============================] - 147s 5s/step - loss: 0.1639 - accuracy: 0.9732 - auc: 0.9962 - precision: 0.9783 - recall: 0.9618 - val_loss: 0.7301 - val_accuracy: 0.6053 - val_auc: 0.6420 - val_precision: 0.5677 - val_recall: 0.4932 - lr: 2.5000e-05\n",
      "Epoch 14/50\n",
      "31/31 [==============================] - ETA: 0s - loss: 0.1594 - accuracy: 0.9767 - auc: 0.9973 - precision: 0.9795 - recall: 0.9685\n",
      "Epoch 14: ReduceLROnPlateau reducing learning rate to 1.249999968422344e-05.\n",
      "\n",
      "Epoch 14: val_accuracy did not improve from 0.64170\n",
      "\n",
      "Epoch 14: val_accuracy did not improve from 0.61134\n",
      "\n",
      "Epoch 14: val_accuracy did not improve from 0.60931\n",
      "31/31 [==============================] - 145s 4s/step - loss: 0.1594 - accuracy: 0.9767 - auc: 0.9973 - precision: 0.9795 - recall: 0.9685 - val_loss: 0.7477 - val_accuracy: 0.6053 - val_auc: 0.6384 - val_precision: 0.5684 - val_recall: 0.4887 - lr: 2.5000e-05\n",
      "Epoch 15/50\n",
      "31/31 [==============================] - ETA: 0s - loss: 0.1475 - accuracy: 0.9782 - auc: 0.9981 - precision: 0.9764 - recall: 0.9753Restoring model weights from the end of the best epoch: 5.\n",
      "\n",
      "Epoch 15: val_accuracy did not improve from 0.64170\n",
      "\n",
      "Epoch 15: val_accuracy did not improve from 0.61134\n",
      "\n",
      "Epoch 15: val_accuracy did not improve from 0.60931\n",
      "31/31 [==============================] - 141s 4s/step - loss: 0.1475 - accuracy: 0.9782 - auc: 0.9981 - precision: 0.9764 - recall: 0.9753 - val_loss: 0.7390 - val_accuracy: 0.6073 - val_auc: 0.6476 - val_precision: 0.5678 - val_recall: 0.5113 - lr: 1.2500e-05\n",
      "Epoch 15: early stopping\n"
     ]
    },
    {
     "name": "stderr",
     "output_type": "stream",
     "text": [
      "\u001b[34m\u001b[1mwandb\u001b[0m: Waiting for artifact run-2w1uc1gb-TMNet_Inception-2w1uc1gb.keras to be committed...\n"
     ]
    },
    {
     "data": {
      "application/vnd.jupyter.widget-view+json": {
       "model_id": "68a3fbf3ce1743fa834eb908729c806a",
       "version_major": 2,
       "version_minor": 0
      },
      "text/plain": [
       "VBox(children=(Label(value='0.003 MB of 239.605 MB uploaded\\r'), FloatProgress(value=1.434462550425697e-05, ma…"
      ]
     },
     "metadata": {},
     "output_type": "display_data"
    },
    {
     "name": "stderr",
     "output_type": "stream",
     "text": [
      "\n",
      "\u001b[34m\u001b[1mwandb\u001b[0m: Committed artifact aistudio/Breast-Cancer-Detection-Production/run-2w1uc1gb-TMNet_Inception-2w1uc1gb.keras:v0\n",
      "wandb: WARNING Source type is set to 'repo' but some required information is missing from the environment. A job will not be created from this run. See https://docs.wandb.ai/guides/launch/create-job\n"
     ]
    },
    {
     "data": {
      "text/html": [
       "<style>\n",
       "    table.wandb td:nth-child(1) { padding: 0 10px; text-align: left ; width: auto;} td:nth-child(2) {text-align: left ; width: 100%}\n",
       "    .wandb-row { display: flex; flex-direction: row; flex-wrap: wrap; justify-content: flex-start; width: 100% }\n",
       "    .wandb-col { display: flex; flex-direction: column; flex-basis: 100%; flex: 1; padding: 10px; }\n",
       "    </style>\n",
       "<div class=\"wandb-row\"><div class=\"wandb-col\"><h3>Run history:</h3><br/><table class=\"wandb\"><tr><td>epoch/accuracy</td><td>▁▁▁▄▄▄▅▅▅▅▅▆▆▆▆▆▇▇▇▇▇▇▇▇████████████████</td></tr><tr><td>epoch/auc</td><td>▁▁▁▄▄▄▆▆▆▆▆▇▇▇▇▇████████████████████████</td></tr><tr><td>epoch/epoch</td><td>▁▁▁▁▁▁▂▂▃▃▃▃▃▃▃▃▄▄▄▅▅▅▅▅▅▅▅▆▆▆▇▇▇▇▇▇▇▇██</td></tr><tr><td>epoch/learning_rate</td><td>███████████████████▄▄▄▄▄▄▄▄▂▂▂▂▂▂▂▂▁▁▁▁▁</td></tr><tr><td>epoch/loss</td><td>███▆▆▆▅▅▅▅▅▄▄▄▃▃▃▃▃▂▂▂▂▂▂▂▂▁▁▁▁▁▁▁▁▁▁▁▁▁</td></tr><tr><td>epoch/lr</td><td>██████████████████████▄▄▄▄▄▄▄▄▂▂▂▂▂▂▂▂▁▁</td></tr><tr><td>epoch/precision</td><td>▁▁▁▄▄▄▅▅▆▆▆▆▆▆▇▇▇▇▇▇▇▇██████████████████</td></tr><tr><td>epoch/recall</td><td>▁▁▁▃▃▃▅▅▅▅▅▆▆▆▆▆▇▇▇▇▇▇▇▇████████████████</td></tr><tr><td>epoch/val_accuracy</td><td>▁▁▁▁▁▁▃▃▅▅▅▅▅▅██▅▅▅▃▃▃▆▆▆▆▆▇▇▇▇▇████████</td></tr><tr><td>epoch/val_auc</td><td>▁▁▁▃▃▃▃▃▄▄▄▆▆▆▇▇▇▇▇▆▆▆▆▆▇▇▇▇▇▇█████▇▇▇██</td></tr><tr><td>epoch/val_loss</td><td>▃▃▃▂▂▂▂▂▃▃▃▁▁▁▁▁▃▃▃▃▃▃▄▄▅▅▅▅▅▅▅▅▆▆▆███▇▇</td></tr><tr><td>epoch/val_precision</td><td>▁▁▁▃▃▃▅▅███▆▆▆▇▇▆▆▆▄▄▄▆▆▆▆▆▆▆▆▇▇▇▇▇▇▇▇▇▇</td></tr><tr><td>epoch/val_recall</td><td>▁▁▁▇▇▇▄▄▄▄▄▅▅▅██▄▄▄▆▆▆▇▇▆▆▆▇▇▇▇▇▇▇▇▇▇▇██</td></tr></table><br/></div><div class=\"wandb-col\"><h3>Run summary:</h3><br/><table class=\"wandb\"><tr><td>epoch/accuracy</td><td>0.97825</td></tr><tr><td>epoch/auc</td><td>0.99809</td></tr><tr><td>epoch/epoch</td><td>14</td></tr><tr><td>epoch/learning_rate</td><td>1e-05</td></tr><tr><td>epoch/loss</td><td>0.14753</td></tr><tr><td>epoch/lr</td><td>1e-05</td></tr><tr><td>epoch/precision</td><td>0.97638</td></tr><tr><td>epoch/recall</td><td>0.97528</td></tr><tr><td>epoch/val_accuracy</td><td>0.60729</td></tr><tr><td>epoch/val_auc</td><td>0.64756</td></tr><tr><td>epoch/val_loss</td><td>0.73904</td></tr><tr><td>epoch/val_precision</td><td>0.56784</td></tr><tr><td>epoch/val_recall</td><td>0.51131</td></tr></table><br/></div></div>"
      ],
      "text/plain": [
       "<IPython.core.display.HTML object>"
      ]
     },
     "metadata": {},
     "output_type": "display_data"
    },
    {
     "data": {
      "text/html": [
       " View run <strong style=\"color:#cdcd00\">TMNet_Inception</strong> at: <a href='https://wandb.ai/aistudio/Breast-Cancer-Detection-Production/runs/2w1uc1gb' target=\"_blank\">https://wandb.ai/aistudio/Breast-Cancer-Detection-Production/runs/2w1uc1gb</a><br/>Synced 6 W&B file(s), 3 media file(s), 5 artifact file(s) and 0 other file(s)"
      ],
      "text/plain": [
       "<IPython.core.display.HTML object>"
      ]
     },
     "metadata": {},
     "output_type": "display_data"
    },
    {
     "data": {
      "text/html": [
       "Find logs at: <code>./wandb/run-20240214_040426-2w1uc1gb/logs</code>"
      ],
      "text/plain": [
       "<IPython.core.display.HTML object>"
      ]
     },
     "metadata": {},
     "output_type": "display_data"
    },
    {
     "name": "stdout",
     "output_type": "stream",
     "text": [
      "# ================================================================================================ #\n",
      "                                       TMNet_InceptionResNet                                        \n",
      "# ------------------------------------------------------------------------------------------------ #\n",
      "Model: \"model\"\n",
      "_________________________________________________________________\n",
      " Layer (type)                Output Shape              Param #   \n",
      "=================================================================\n",
      " TMNet_InceptionResNet_input  [(None, 224, 224, 3)]    0         \n",
      " _layer (InputLayer)                                             \n",
      "                                                                 \n",
      " tf.math.truediv (TFOpLambda  (None, 224, 224, 3)      0         \n",
      " )                                                               \n",
      "                                                                 \n",
      " tf.math.subtract (TFOpLambd  (None, 224, 224, 3)      0         \n",
      " a)                                                              \n",
      "                                                                 \n",
      " data_augmentation (Sequenti  (None, 224, 224, 3)      0         \n",
      " al)                                                             \n",
      "                                                                 \n",
      " inception_resnet_v2 (Functi  (None, None, None, 1536)  54336736 \n",
      " onal)                                                           \n",
      "                                                                 \n",
      " TMNet_InceptionResNet_globa  (None, 1536)             0         \n",
      " l_average_pooling (GlobalAv                                     \n",
      " eragePooling2D)                                                 \n",
      "                                                                 \n",
      " TMNet_InceptionResNet_batch  (None, 1536)             6144      \n",
      " _normalization (BatchNormal                                     \n",
      " ization)                                                        \n",
      "                                                                 \n",
      " TMNet_InceptionResNet_dense  (None, 1024)             1573888   \n",
      " _1 (Dense)                                                      \n",
      "                                                                 \n",
      " TMNet_InceptionResNet_dense  (None, 1024)             1049600   \n",
      " _2 (Dense)                                                      \n",
      "                                                                 \n",
      " TMNet_InceptionResNet_outpu  (None, 1)                1025      \n",
      " t_layer (Dense)                                                 \n",
      "                                                                 \n",
      "=================================================================\n",
      "Total params: 56,967,393\n",
      "Trainable params: 2,627,585\n",
      "Non-trainable params: 54,339,808\n",
      "_________________________________________________________________\n",
      "# ------------------------------------------------------------------------------------------------ #\n",
      "\n",
      "\n",
      "                                            TMNetConfig                                             \n",
      "                                        Activation | sigmoid\n",
      "                                      Output Shape | 1\n",
      "                                            Dense1 | 1024\n",
      "                                            Dense2 | 1024\n",
      "\n",
      "\n",
      "# ================================================================================================ #\n"
     ]
    },
    {
     "data": {
      "text/html": [
       "wandb version 0.16.3 is available!  To upgrade, please run:\n",
       " $ pip install wandb --upgrade"
      ],
      "text/plain": [
       "<IPython.core.display.HTML object>"
      ]
     },
     "metadata": {},
     "output_type": "display_data"
    },
    {
     "data": {
      "text/html": [
       "Tracking run with wandb version 0.16.2"
      ],
      "text/plain": [
       "<IPython.core.display.HTML object>"
      ]
     },
     "metadata": {},
     "output_type": "display_data"
    },
    {
     "data": {
      "text/html": [
       "Run data is saved locally in <code>/home/john/projects/bcd/wandb/run-20240214_044451-gj2nejiv</code>"
      ],
      "text/plain": [
       "<IPython.core.display.HTML object>"
      ]
     },
     "metadata": {},
     "output_type": "display_data"
    },
    {
     "data": {
      "text/html": [
       "Syncing run <strong><a href='https://wandb.ai/aistudio/Breast-Cancer-Detection-Production/runs/gj2nejiv' target=\"_blank\">TMNet_InceptionResNet</a></strong> to <a href='https://wandb.ai/aistudio/Breast-Cancer-Detection-Production' target=\"_blank\">Weights & Biases</a> (<a href='https://wandb.me/run' target=\"_blank\">docs</a>)<br/>"
      ],
      "text/plain": [
       "<IPython.core.display.HTML object>"
      ]
     },
     "metadata": {},
     "output_type": "display_data"
    },
    {
     "data": {
      "text/html": [
       " View project at <a href='https://wandb.ai/aistudio/Breast-Cancer-Detection-Production' target=\"_blank\">https://wandb.ai/aistudio/Breast-Cancer-Detection-Production</a>"
      ],
      "text/plain": [
       "<IPython.core.display.HTML object>"
      ]
     },
     "metadata": {},
     "output_type": "display_data"
    },
    {
     "data": {
      "text/html": [
       " View run at <a href='https://wandb.ai/aistudio/Breast-Cancer-Detection-Production/runs/gj2nejiv' target=\"_blank\">https://wandb.ai/aistudio/Breast-Cancer-Detection-Production/runs/gj2nejiv</a>"
      ],
      "text/plain": [
       "<IPython.core.display.HTML object>"
      ]
     },
     "metadata": {},
     "output_type": "display_data"
    },
    {
     "name": "stdout",
     "output_type": "stream",
     "text": [
      "Epoch 1/50\n",
      "31/31 [==============================] - ETA: 0s - loss: 0.7350 - accuracy: 0.5554 - auc: 0.5744 - precision: 0.5195 - recall: 0.4545\n",
      "Epoch 1: val_accuracy did not improve from 0.64170\n",
      "\n",
      "Epoch 1: val_accuracy did not improve from 0.61134\n",
      "\n",
      "Epoch 1: val_accuracy did not improve from 0.60931\n",
      "\n",
      "Epoch 1: val_accuracy improved from -inf to 0.56275, saving model to models/production/TMNet_InceptionResNet-gj2nejiv.keras\n",
      "31/31 [==============================] - 328s 10s/step - loss: 0.7350 - accuracy: 0.5554 - auc: 0.5744 - precision: 0.5195 - recall: 0.4545 - val_loss: 0.6809 - val_accuracy: 0.5628 - val_auc: 0.5781 - val_precision: 0.5135 - val_recall: 0.4299 - lr: 1.0000e-04\n",
      "Epoch 2/50\n",
      "31/31 [==============================] - ETA: 0s - loss: 0.6063 - accuracy: 0.6571 - auc: 0.7239 - precision: 0.6370 - recall: 0.5539\n",
      "Epoch 2: val_accuracy did not improve from 0.64170\n",
      "\n",
      "Epoch 2: val_accuracy did not improve from 0.61134\n",
      "\n",
      "Epoch 2: val_accuracy did not improve from 0.60931\n",
      "\n",
      "Epoch 2: val_accuracy did not improve from 0.56275\n",
      "31/31 [==============================] - 310s 10s/step - loss: 0.6063 - accuracy: 0.6571 - auc: 0.7239 - precision: 0.6370 - recall: 0.5539 - val_loss: 0.6851 - val_accuracy: 0.5364 - val_auc: 0.5766 - val_precision: 0.4630 - val_recall: 0.2262 - lr: 1.0000e-04\n",
      "Epoch 3/50\n",
      "31/31 [==============================] - ETA: 0s - loss: 0.5511 - accuracy: 0.7223 - auc: 0.8008 - precision: 0.7240 - recall: 0.6191\n",
      "Epoch 3: val_accuracy did not improve from 0.64170\n",
      "\n",
      "Epoch 3: val_accuracy did not improve from 0.61134\n",
      "\n",
      "Epoch 3: val_accuracy did not improve from 0.60931\n",
      "\n",
      "Epoch 3: val_accuracy improved from 0.56275 to 0.56478, saving model to models/production/TMNet_InceptionResNet-gj2nejiv.keras\n",
      "31/31 [==============================] - 322s 10s/step - loss: 0.5511 - accuracy: 0.7223 - auc: 0.8008 - precision: 0.7240 - recall: 0.6191 - val_loss: 0.6754 - val_accuracy: 0.5648 - val_auc: 0.6108 - val_precision: 0.5288 - val_recall: 0.2489 - lr: 1.0000e-04\n",
      "Epoch 4/50\n",
      "31/31 [==============================] - ETA: 0s - loss: 0.5074 - accuracy: 0.7714 - auc: 0.8460 - precision: 0.7704 - recall: 0.7011\n",
      "Epoch 4: val_accuracy did not improve from 0.64170\n",
      "\n",
      "Epoch 4: val_accuracy did not improve from 0.61134\n",
      "\n",
      "Epoch 4: val_accuracy did not improve from 0.60931\n",
      "\n",
      "Epoch 4: val_accuracy did not improve from 0.56478\n",
      "31/31 [==============================] - 298s 9s/step - loss: 0.5074 - accuracy: 0.7714 - auc: 0.8460 - precision: 0.7704 - recall: 0.7011 - val_loss: 0.6816 - val_accuracy: 0.5648 - val_auc: 0.6023 - val_precision: 0.5181 - val_recall: 0.3891 - lr: 1.0000e-04\n",
      "Epoch 5/50\n",
      "31/31 [==============================] - ETA: 0s - loss: 0.4728 - accuracy: 0.7860 - auc: 0.8746 - precision: 0.7817 - recall: 0.7281\n",
      "Epoch 5: val_accuracy did not improve from 0.64170\n",
      "\n",
      "Epoch 5: val_accuracy did not improve from 0.61134\n",
      "\n",
      "Epoch 5: val_accuracy did not improve from 0.60931\n",
      "\n",
      "Epoch 5: val_accuracy improved from 0.56478 to 0.57692, saving model to models/production/TMNet_InceptionResNet-gj2nejiv.keras\n",
      "31/31 [==============================] - 307s 10s/step - loss: 0.4728 - accuracy: 0.7860 - auc: 0.8746 - precision: 0.7817 - recall: 0.7281 - val_loss: 0.6774 - val_accuracy: 0.5769 - val_auc: 0.6152 - val_precision: 0.5345 - val_recall: 0.4208 - lr: 1.0000e-04\n",
      "Epoch 6/50\n",
      "31/31 [==============================] - ETA: 0s - loss: 0.4357 - accuracy: 0.8260 - auc: 0.9038 - precision: 0.8204 - recall: 0.7854\n",
      "Epoch 6: ReduceLROnPlateau reducing learning rate to 4.999999873689376e-05.\n",
      "\n",
      "Epoch 6: val_accuracy did not improve from 0.64170\n",
      "\n",
      "Epoch 6: val_accuracy did not improve from 0.61134\n",
      "\n",
      "Epoch 6: val_accuracy did not improve from 0.60931\n",
      "\n",
      "Epoch 6: val_accuracy improved from 0.57692 to 0.58704, saving model to models/production/TMNet_InceptionResNet-gj2nejiv.keras\n",
      "31/31 [==============================] - 312s 10s/step - loss: 0.4357 - accuracy: 0.8260 - auc: 0.9038 - precision: 0.8204 - recall: 0.7854 - val_loss: 0.6831 - val_accuracy: 0.5870 - val_auc: 0.6120 - val_precision: 0.5586 - val_recall: 0.3665 - lr: 1.0000e-04\n",
      "Epoch 7/50\n",
      "31/31 [==============================] - ETA: 0s - loss: 0.3965 - accuracy: 0.8538 - auc: 0.9340 - precision: 0.8565 - recall: 0.8112\n",
      "Epoch 7: val_accuracy did not improve from 0.64170\n",
      "\n",
      "Epoch 7: val_accuracy did not improve from 0.61134\n",
      "\n",
      "Epoch 7: val_accuracy did not improve from 0.60931\n",
      "\n",
      "Epoch 7: val_accuracy improved from 0.58704 to 0.58907, saving model to models/production/TMNet_InceptionResNet-gj2nejiv.keras\n",
      "31/31 [==============================] - 303s 10s/step - loss: 0.3965 - accuracy: 0.8538 - auc: 0.9340 - precision: 0.8565 - recall: 0.8112 - val_loss: 0.6880 - val_accuracy: 0.5891 - val_auc: 0.6136 - val_precision: 0.5511 - val_recall: 0.4389 - lr: 5.0000e-05\n",
      "Epoch 8/50\n",
      "31/31 [==============================] - ETA: 0s - loss: 0.3759 - accuracy: 0.8700 - auc: 0.9469 - precision: 0.8719 - recall: 0.8337\n",
      "Epoch 8: val_accuracy did not improve from 0.64170\n",
      "\n",
      "Epoch 8: val_accuracy did not improve from 0.61134\n",
      "\n",
      "Epoch 8: val_accuracy did not improve from 0.60931\n",
      "\n",
      "Epoch 8: val_accuracy improved from 0.58907 to 0.59109, saving model to models/production/TMNet_InceptionResNet-gj2nejiv.keras\n",
      "31/31 [==============================] - 301s 10s/step - loss: 0.3759 - accuracy: 0.8700 - auc: 0.9469 - precision: 0.8719 - recall: 0.8337 - val_loss: 0.6901 - val_accuracy: 0.5911 - val_auc: 0.6188 - val_precision: 0.5455 - val_recall: 0.5158 - lr: 5.0000e-05\n",
      "Epoch 9/50\n",
      "31/31 [==============================] - ETA: 0s - loss: 0.3565 - accuracy: 0.8872 - auc: 0.9548 - precision: 0.8901 - recall: 0.8551\n",
      "Epoch 9: ReduceLROnPlateau reducing learning rate to 2.499999936844688e-05.\n",
      "\n",
      "Epoch 9: val_accuracy did not improve from 0.64170\n",
      "\n",
      "Epoch 9: val_accuracy did not improve from 0.61134\n",
      "\n",
      "Epoch 9: val_accuracy did not improve from 0.60931\n",
      "\n",
      "Epoch 9: val_accuracy improved from 0.59109 to 0.59514, saving model to models/production/TMNet_InceptionResNet-gj2nejiv.keras\n",
      "31/31 [==============================] - 287s 9s/step - loss: 0.3565 - accuracy: 0.8872 - auc: 0.9548 - precision: 0.8901 - recall: 0.8551 - val_loss: 0.7011 - val_accuracy: 0.5951 - val_auc: 0.6219 - val_precision: 0.5475 - val_recall: 0.5475 - lr: 5.0000e-05\n",
      "Epoch 10/50\n",
      "31/31 [==============================] - ETA: 0s - loss: 0.3478 - accuracy: 0.8923 - auc: 0.9595 - precision: 0.8959 - recall: 0.8607\n",
      "Epoch 10: val_accuracy did not improve from 0.64170\n",
      "\n",
      "Epoch 10: val_accuracy did not improve from 0.61134\n",
      "\n",
      "Epoch 10: val_accuracy did not improve from 0.60931\n",
      "\n",
      "Epoch 10: val_accuracy improved from 0.59514 to 0.59717, saving model to models/production/TMNet_InceptionResNet-gj2nejiv.keras\n",
      "31/31 [==============================] - 289s 9s/step - loss: 0.3478 - accuracy: 0.8923 - auc: 0.9595 - precision: 0.8959 - recall: 0.8607 - val_loss: 0.7028 - val_accuracy: 0.5972 - val_auc: 0.6204 - val_precision: 0.5514 - val_recall: 0.5339 - lr: 2.5000e-05\n",
      "Epoch 11/50\n",
      "31/31 [==============================] - ETA: 0s - loss: 0.3292 - accuracy: 0.9120 - auc: 0.9703 - precision: 0.9262 - recall: 0.8742\n",
      "Epoch 11: val_accuracy did not improve from 0.64170\n",
      "\n",
      "Epoch 11: val_accuracy did not improve from 0.61134\n",
      "\n",
      "Epoch 11: val_accuracy did not improve from 0.60931\n",
      "\n",
      "Epoch 11: val_accuracy did not improve from 0.59717\n",
      "31/31 [==============================] - 290s 9s/step - loss: 0.3292 - accuracy: 0.9120 - auc: 0.9703 - precision: 0.9262 - recall: 0.8742 - val_loss: 0.7099 - val_accuracy: 0.5931 - val_auc: 0.6218 - val_precision: 0.5459 - val_recall: 0.5385 - lr: 2.5000e-05\n",
      "Epoch 12/50\n",
      "31/31 [==============================] - ETA: 0s - loss: 0.3179 - accuracy: 0.9135 - auc: 0.9707 - precision: 0.9195 - recall: 0.8854\n",
      "Epoch 12: ReduceLROnPlateau reducing learning rate to 1.249999968422344e-05.\n",
      "\n",
      "Epoch 12: val_accuracy did not improve from 0.64170\n",
      "\n",
      "Epoch 12: val_accuracy did not improve from 0.61134\n",
      "\n",
      "Epoch 12: val_accuracy did not improve from 0.60931\n",
      "\n",
      "Epoch 12: val_accuracy improved from 0.59717 to 0.59919, saving model to models/production/TMNet_InceptionResNet-gj2nejiv.keras\n",
      "31/31 [==============================] - 296s 9s/step - loss: 0.3179 - accuracy: 0.9135 - auc: 0.9707 - precision: 0.9195 - recall: 0.8854 - val_loss: 0.7156 - val_accuracy: 0.5992 - val_auc: 0.6208 - val_precision: 0.5567 - val_recall: 0.5113 - lr: 2.5000e-05\n",
      "Epoch 13/50\n",
      "31/31 [==============================] - ETA: 0s - loss: 0.3079 - accuracy: 0.9120 - auc: 0.9765 - precision: 0.9096 - recall: 0.8933Restoring model weights from the end of the best epoch: 3.\n",
      "\n",
      "Epoch 13: val_accuracy did not improve from 0.64170\n",
      "\n",
      "Epoch 13: val_accuracy did not improve from 0.61134\n",
      "\n",
      "Epoch 13: val_accuracy did not improve from 0.60931\n",
      "\n",
      "Epoch 13: val_accuracy did not improve from 0.59919\n",
      "31/31 [==============================] - 291s 9s/step - loss: 0.3079 - accuracy: 0.9120 - auc: 0.9765 - precision: 0.9096 - recall: 0.8933 - val_loss: 0.7217 - val_accuracy: 0.5931 - val_auc: 0.6172 - val_precision: 0.5515 - val_recall: 0.4842 - lr: 1.2500e-05\n",
      "Epoch 13: early stopping\n"
     ]
    },
    {
     "name": "stderr",
     "output_type": "stream",
     "text": [
      "\u001b[34m\u001b[1mwandb\u001b[0m: Waiting for artifact run-gj2nejiv-TMNet_InceptionResNet-gj2nejiv.keras to be committed...\n"
     ]
    },
    {
     "data": {
      "application/vnd.jupyter.widget-view+json": {
       "model_id": "d13726651772438cadd6a6397580b60c",
       "version_major": 2,
       "version_minor": 0
      },
      "text/plain": [
       "VBox(children=(Label(value='3.628 MB of 477.156 MB uploaded\\r'), FloatProgress(value=0.007604302804865789, max…"
      ]
     },
     "metadata": {},
     "output_type": "display_data"
    },
    {
     "name": "stderr",
     "output_type": "stream",
     "text": [
      "\n",
      "\u001b[34m\u001b[1mwandb\u001b[0m: Committed artifact aistudio/Breast-Cancer-Detection-Production/run-gj2nejiv-TMNet_InceptionResNet-gj2nejiv.keras:v0\n",
      "wandb: WARNING Source type is set to 'repo' but some required information is missing from the environment. A job will not be created from this run. See https://docs.wandb.ai/guides/launch/create-job\n"
     ]
    },
    {
     "data": {
      "text/html": [
       "<style>\n",
       "    table.wandb td:nth-child(1) { padding: 0 10px; text-align: left ; width: auto;} td:nth-child(2) {text-align: left ; width: 100%}\n",
       "    .wandb-row { display: flex; flex-direction: row; flex-wrap: wrap; justify-content: flex-start; width: 100% }\n",
       "    .wandb-col { display: flex; flex-direction: column; flex-basis: 100%; flex: 1; padding: 10px; }\n",
       "    </style>\n",
       "<div class=\"wandb-row\"><div class=\"wandb-col\"><h3>Run history:</h3><br/><table class=\"wandb\"><tr><td>epoch/accuracy</td><td>▁▁▁▁▃▃▃▄▄▄▅▅▅▆▆▆▆▆▆▇▇▇▇▇▇▇▇▇████████████</td></tr><tr><td>epoch/auc</td><td>▁▁▁▁▄▄▄▅▅▅▆▆▆▆▆▆▇▇▇▇▇▇▇▇▇███████████████</td></tr><tr><td>epoch/epoch</td><td>▁▁▁▁▂▂▂▂▂▂▃▃▃▃▃▃▄▄▄▅▅▅▅▅▅▆▆▆▆▆▆▇▇▇▇▇▇███</td></tr><tr><td>epoch/learning_rate</td><td>████████████████▄▄▄▄▄▄▄▄▄▂▂▂▂▂▂▂▂▂▁▁▁▁▁▁</td></tr><tr><td>epoch/loss</td><td>████▆▆▆▅▅▅▄▄▄▄▄▄▃▃▃▂▂▂▂▂▂▂▂▂▂▂▂▁▁▁▁▁▁▁▁▁</td></tr><tr><td>epoch/lr</td><td>███████████████████▄▄▄▄▄▄▄▄▄▂▂▂▂▂▂▂▂▂▁▁▁</td></tr><tr><td>epoch/precision</td><td>▁▁▁▁▃▃▃▅▅▅▅▅▅▆▆▆▆▆▆▇▇▇▇▇▇▇▇▇▇▇▇█████████</td></tr><tr><td>epoch/recall</td><td>▁▁▁▁▃▃▃▄▄▄▅▅▅▅▅▅▆▆▆▇▇▇▇▇▇▇▇▇▇▇▇█████████</td></tr><tr><td>epoch/val_accuracy</td><td>▄▄▄▄▁▁▁▄▄▄▄▄▄▆▆▆▇▇▇▇▇▇▇▇▇██████▇▇▇███▇▇▇</td></tr><tr><td>epoch/val_auc</td><td>▁▁▁▁▁▁▁▆▆▆▅▅▅▇▇▇▆▆▆▇▇▇███████████████▇▇▇</td></tr><tr><td>epoch/val_loss</td><td>▂▂▂▂▂▂▂▁▁▁▂▂▂▁▁▁▂▂▂▃▃▃▃▃▃▅▅▅▅▅▅▆▆▆▇▇▇███</td></tr><tr><td>epoch/val_precision</td><td>▅▅▅▅▁▁▁▆▆▆▅▅▅▆▆▆███▇▇▇▇▇▇▇▇▇▇▇▇▇▇▇███▇▇▇</td></tr><tr><td>epoch/val_recall</td><td>▅▅▅▅▁▁▁▁▁▁▅▅▅▅▅▅▄▄▄▆▆▆▇▇▇█████████▇▇▇▇▇▇</td></tr></table><br/></div><div class=\"wandb-col\"><h3>Run summary:</h3><br/><table class=\"wandb\"><tr><td>epoch/accuracy</td><td>0.91199</td></tr><tr><td>epoch/auc</td><td>0.97654</td></tr><tr><td>epoch/epoch</td><td>12</td></tr><tr><td>epoch/learning_rate</td><td>1e-05</td></tr><tr><td>epoch/loss</td><td>0.30788</td></tr><tr><td>epoch/lr</td><td>1e-05</td></tr><tr><td>epoch/precision</td><td>0.90961</td></tr><tr><td>epoch/recall</td><td>0.89326</td></tr><tr><td>epoch/val_accuracy</td><td>0.59312</td></tr><tr><td>epoch/val_auc</td><td>0.61721</td></tr><tr><td>epoch/val_loss</td><td>0.72171</td></tr><tr><td>epoch/val_precision</td><td>0.55155</td></tr><tr><td>epoch/val_recall</td><td>0.48416</td></tr></table><br/></div></div>"
      ],
      "text/plain": [
       "<IPython.core.display.HTML object>"
      ]
     },
     "metadata": {},
     "output_type": "display_data"
    },
    {
     "data": {
      "text/html": [
       " View run <strong style=\"color:#cdcd00\">TMNet_InceptionResNet</strong> at: <a href='https://wandb.ai/aistudio/Breast-Cancer-Detection-Production/runs/gj2nejiv' target=\"_blank\">https://wandb.ai/aistudio/Breast-Cancer-Detection-Production/runs/gj2nejiv</a><br/>Synced 6 W&B file(s), 3 media file(s), 5 artifact file(s) and 0 other file(s)"
      ],
      "text/plain": [
       "<IPython.core.display.HTML object>"
      ]
     },
     "metadata": {},
     "output_type": "display_data"
    },
    {
     "data": {
      "text/html": [
       "Find logs at: <code>./wandb/run-20240214_044451-gj2nejiv/logs</code>"
      ],
      "text/plain": [
       "<IPython.core.display.HTML object>"
      ]
     },
     "metadata": {},
     "output_type": "display_data"
    },
    {
     "name": "stdout",
     "output_type": "stream",
     "text": [
      "WARNING:tensorflow:`input_shape` is undefined or non-square, or `rows` is not in [96, 128, 160, 192, 224]. Weights for input shape (224, 224) will be loaded as the default.\n",
      "WARNING:tensorflow:`input_shape` is undefined or non-square, or `rows` is not in [96, 128, 160, 192, 224]. Weights for input shape (224, 224) will be loaded as the default.\n",
      "WARNING:tensorflow:`input_shape` is undefined or non-square, or `rows` is not in [96, 128, 160, 192, 224]. Weights for input shape (224, 224) will be loaded as the default.\n",
      "WARNING:tensorflow:`input_shape` is undefined or non-square, or `rows` is not in [96, 128, 160, 192, 224]. Weights for input shape (224, 224) will be loaded as the default.\n",
      "# ================================================================================================ #\n",
      "                                          TMNet_MobileNet                                           \n",
      "# ------------------------------------------------------------------------------------------------ #\n",
      "Model: \"model\"\n",
      "_________________________________________________________________\n",
      " Layer (type)                Output Shape              Param #   \n",
      "=================================================================\n",
      " TMNet_MobileNet_input_layer  [(None, 224, 224, 3)]    0         \n",
      "  (InputLayer)                                                   \n",
      "                                                                 \n",
      " tf.math.truediv (TFOpLambda  (None, 224, 224, 3)      0         \n",
      " )                                                               \n",
      "                                                                 \n",
      " tf.math.subtract (TFOpLambd  (None, 224, 224, 3)      0         \n",
      " a)                                                              \n",
      "                                                                 \n",
      " data_augmentation (Sequenti  (None, 224, 224, 3)      0         \n",
      " al)                                                             \n",
      "                                                                 \n",
      " mobilenetv2_1.00_224 (Funct  (None, None, None, 1280)  2257984  \n",
      " ional)                                                          \n",
      "                                                                 \n",
      " TMNet_MobileNet_global_aver  (None, 1280)             0         \n",
      " age_pooling (GlobalAverageP                                     \n",
      " ooling2D)                                                       \n",
      "                                                                 \n",
      " TMNet_MobileNet_batch_norma  (None, 1280)             5120      \n",
      " lization (BatchNormalizatio                                     \n",
      " n)                                                              \n",
      "                                                                 \n",
      " TMNet_MobileNet_dense_1 (De  (None, 1024)             1311744   \n",
      " nse)                                                            \n",
      "                                                                 \n",
      " TMNet_MobileNet_dense_2 (De  (None, 1024)             1049600   \n",
      " nse)                                                            \n",
      "                                                                 \n",
      " TMNet_MobileNet_output_laye  (None, 1)                1025      \n",
      " r (Dense)                                                       \n",
      "                                                                 \n",
      "=================================================================\n",
      "Total params: 4,625,473\n",
      "Trainable params: 2,364,929\n",
      "Non-trainable params: 2,260,544\n",
      "_________________________________________________________________\n",
      "# ------------------------------------------------------------------------------------------------ #\n",
      "\n",
      "\n",
      "                                            TMNetConfig                                             \n",
      "                                        Activation | sigmoid\n",
      "                                      Output Shape | 1\n",
      "                                            Dense1 | 1024\n",
      "                                            Dense2 | 1024\n",
      "\n",
      "\n",
      "# ================================================================================================ #\n"
     ]
    },
    {
     "data": {
      "text/html": [
       "wandb version 0.16.3 is available!  To upgrade, please run:\n",
       " $ pip install wandb --upgrade"
      ],
      "text/plain": [
       "<IPython.core.display.HTML object>"
      ]
     },
     "metadata": {},
     "output_type": "display_data"
    },
    {
     "data": {
      "text/html": [
       "Tracking run with wandb version 0.16.2"
      ],
      "text/plain": [
       "<IPython.core.display.HTML object>"
      ]
     },
     "metadata": {},
     "output_type": "display_data"
    },
    {
     "data": {
      "text/html": [
       "Run data is saved locally in <code>/home/john/projects/bcd/wandb/run-20240214_055731-1tqipxli</code>"
      ],
      "text/plain": [
       "<IPython.core.display.HTML object>"
      ]
     },
     "metadata": {},
     "output_type": "display_data"
    },
    {
     "data": {
      "text/html": [
       "Syncing run <strong><a href='https://wandb.ai/aistudio/Breast-Cancer-Detection-Production/runs/1tqipxli' target=\"_blank\">TMNet_MobileNet</a></strong> to <a href='https://wandb.ai/aistudio/Breast-Cancer-Detection-Production' target=\"_blank\">Weights & Biases</a> (<a href='https://wandb.me/run' target=\"_blank\">docs</a>)<br/>"
      ],
      "text/plain": [
       "<IPython.core.display.HTML object>"
      ]
     },
     "metadata": {},
     "output_type": "display_data"
    },
    {
     "data": {
      "text/html": [
       " View project at <a href='https://wandb.ai/aistudio/Breast-Cancer-Detection-Production' target=\"_blank\">https://wandb.ai/aistudio/Breast-Cancer-Detection-Production</a>"
      ],
      "text/plain": [
       "<IPython.core.display.HTML object>"
      ]
     },
     "metadata": {},
     "output_type": "display_data"
    },
    {
     "data": {
      "text/html": [
       " View run at <a href='https://wandb.ai/aistudio/Breast-Cancer-Detection-Production/runs/1tqipxli' target=\"_blank\">https://wandb.ai/aistudio/Breast-Cancer-Detection-Production/runs/1tqipxli</a>"
      ],
      "text/plain": [
       "<IPython.core.display.HTML object>"
      ]
     },
     "metadata": {},
     "output_type": "display_data"
    },
    {
     "name": "stdout",
     "output_type": "stream",
     "text": [
      "Epoch 1/50\n",
      "31/31 [==============================] - ETA: 0s - loss: 0.6959 - accuracy: 0.5852 - auc: 0.5991 - precision: 0.5478 - recall: 0.4644\n",
      "Epoch 1: val_accuracy did not improve from 0.64170\n",
      "\n",
      "Epoch 1: val_accuracy did not improve from 0.61134\n",
      "\n",
      "Epoch 1: val_accuracy did not improve from 0.60931\n",
      "\n",
      "Epoch 1: val_accuracy did not improve from 0.59919\n",
      "\n",
      "Epoch 1: val_accuracy improved from -inf to 0.55870, saving model to models/production/TMNet_MobileNet-1tqipxli.keras\n",
      "31/31 [==============================] - 71s 2s/step - loss: 0.6959 - accuracy: 0.5852 - auc: 0.5991 - precision: 0.5478 - recall: 0.4644 - val_loss: 0.6851 - val_accuracy: 0.5587 - val_auc: 0.6741 - val_precision: 0.5039 - val_recall: 0.8824 - lr: 1.0000e-04\n",
      "Epoch 2/50\n",
      "31/31 [==============================] - ETA: 0s - loss: 0.5605 - accuracy: 0.7056 - auc: 0.7800 - precision: 0.6959 - recall: 0.6146\n",
      "Epoch 2: val_accuracy did not improve from 0.64170\n",
      "\n",
      "Epoch 2: val_accuracy did not improve from 0.61134\n",
      "\n",
      "Epoch 2: val_accuracy did not improve from 0.60931\n",
      "\n",
      "Epoch 2: val_accuracy did not improve from 0.59919\n",
      "\n",
      "Epoch 2: val_accuracy improved from 0.55870 to 0.56680, saving model to models/production/TMNet_MobileNet-1tqipxli.keras\n",
      "31/31 [==============================] - 67s 2s/step - loss: 0.5605 - accuracy: 0.7056 - auc: 0.7800 - precision: 0.6959 - recall: 0.6146 - val_loss: 0.6943 - val_accuracy: 0.5668 - val_auc: 0.6819 - val_precision: 0.5088 - val_recall: 0.9186 - lr: 1.0000e-04\n",
      "Epoch 3/50\n",
      "31/31 [==============================] - ETA: 0s - loss: 0.4858 - accuracy: 0.7860 - auc: 0.8705 - precision: 0.7872 - recall: 0.7191\n",
      "Epoch 3: val_accuracy did not improve from 0.64170\n",
      "\n",
      "Epoch 3: val_accuracy improved from 0.61134 to 0.63158, saving model to models/production/TMNet_EfficientNet-n5zc87ri.keras\n",
      "\n",
      "Epoch 3: val_accuracy improved from 0.60931 to 0.63158, saving model to models/production/TMNet_Inception-2w1uc1gb.keras\n",
      "\n",
      "Epoch 3: val_accuracy improved from 0.59919 to 0.63158, saving model to models/production/TMNet_InceptionResNet-gj2nejiv.keras\n",
      "\n",
      "Epoch 3: val_accuracy improved from 0.56680 to 0.63158, saving model to models/production/TMNet_MobileNet-1tqipxli.keras\n",
      "31/31 [==============================] - 68s 2s/step - loss: 0.4858 - accuracy: 0.7860 - auc: 0.8705 - precision: 0.7872 - recall: 0.7191 - val_loss: 0.6526 - val_accuracy: 0.6316 - val_auc: 0.6881 - val_precision: 0.5652 - val_recall: 0.7647 - lr: 1.0000e-04\n",
      "Epoch 4/50\n",
      "31/31 [==============================] - ETA: 0s - loss: 0.4355 - accuracy: 0.8290 - auc: 0.9056 - precision: 0.8325 - recall: 0.7764\n",
      "Epoch 4: val_accuracy improved from 0.64170 to 0.64372, saving model to models/production/TMNet_DenseNet-8wuoxn2a.keras\n",
      "\n",
      "Epoch 4: val_accuracy improved from 0.63158 to 0.64372, saving model to models/production/TMNet_EfficientNet-n5zc87ri.keras\n",
      "\n",
      "Epoch 4: val_accuracy improved from 0.63158 to 0.64372, saving model to models/production/TMNet_Inception-2w1uc1gb.keras\n",
      "\n",
      "Epoch 4: val_accuracy improved from 0.63158 to 0.64372, saving model to models/production/TMNet_InceptionResNet-gj2nejiv.keras\n",
      "\n",
      "Epoch 4: val_accuracy improved from 0.63158 to 0.64372, saving model to models/production/TMNet_MobileNet-1tqipxli.keras\n",
      "31/31 [==============================] - 73s 2s/step - loss: 0.4355 - accuracy: 0.8290 - auc: 0.9056 - precision: 0.8325 - recall: 0.7764 - val_loss: 0.6431 - val_accuracy: 0.6437 - val_auc: 0.6926 - val_precision: 0.5824 - val_recall: 0.7195 - lr: 1.0000e-04\n",
      "Epoch 5/50\n",
      "31/31 [==============================] - ETA: 0s - loss: 0.3740 - accuracy: 0.8710 - auc: 0.9418 - precision: 0.8688 - recall: 0.8404\n",
      "Epoch 5: val_accuracy did not improve from 0.64372\n",
      "\n",
      "Epoch 5: val_accuracy did not improve from 0.64372\n",
      "\n",
      "Epoch 5: val_accuracy did not improve from 0.64372\n",
      "\n",
      "Epoch 5: val_accuracy did not improve from 0.64372\n",
      "\n",
      "Epoch 5: val_accuracy did not improve from 0.64372\n",
      "31/31 [==============================] - 71s 2s/step - loss: 0.3740 - accuracy: 0.8710 - auc: 0.9418 - precision: 0.8688 - recall: 0.8404 - val_loss: 0.6410 - val_accuracy: 0.6316 - val_auc: 0.6931 - val_precision: 0.5765 - val_recall: 0.6652 - lr: 1.0000e-04\n",
      "Epoch 6/50\n",
      "31/31 [==============================] - ETA: 0s - loss: 0.3315 - accuracy: 0.8882 - auc: 0.9581 - precision: 0.8903 - recall: 0.8573\n",
      "Epoch 6: val_accuracy improved from 0.64372 to 0.66194, saving model to models/production/TMNet_DenseNet-8wuoxn2a.keras\n",
      "\n",
      "Epoch 6: val_accuracy improved from 0.64372 to 0.66194, saving model to models/production/TMNet_EfficientNet-n5zc87ri.keras\n",
      "\n",
      "Epoch 6: val_accuracy improved from 0.64372 to 0.66194, saving model to models/production/TMNet_Inception-2w1uc1gb.keras\n",
      "\n",
      "Epoch 6: val_accuracy improved from 0.64372 to 0.66194, saving model to models/production/TMNet_InceptionResNet-gj2nejiv.keras\n",
      "\n",
      "Epoch 6: val_accuracy improved from 0.64372 to 0.66194, saving model to models/production/TMNet_MobileNet-1tqipxli.keras\n",
      "31/31 [==============================] - 75s 2s/step - loss: 0.3315 - accuracy: 0.8882 - auc: 0.9581 - precision: 0.8903 - recall: 0.8573 - val_loss: 0.6294 - val_accuracy: 0.6619 - val_auc: 0.7078 - val_precision: 0.6205 - val_recall: 0.6290 - lr: 1.0000e-04\n",
      "Epoch 7/50\n",
      "31/31 [==============================] - ETA: 0s - loss: 0.3022 - accuracy: 0.8983 - auc: 0.9629 - precision: 0.8919 - recall: 0.8809\n",
      "Epoch 7: val_accuracy did not improve from 0.66194\n",
      "\n",
      "Epoch 7: val_accuracy did not improve from 0.66194\n",
      "\n",
      "Epoch 7: val_accuracy did not improve from 0.66194\n",
      "\n",
      "Epoch 7: val_accuracy did not improve from 0.66194\n",
      "\n",
      "Epoch 7: val_accuracy did not improve from 0.66194\n",
      "31/31 [==============================] - 72s 2s/step - loss: 0.3022 - accuracy: 0.8983 - auc: 0.9629 - precision: 0.8919 - recall: 0.8809 - val_loss: 0.6370 - val_accuracy: 0.6619 - val_auc: 0.7079 - val_precision: 0.6195 - val_recall: 0.6335 - lr: 1.0000e-04\n",
      "Epoch 8/50\n",
      "31/31 [==============================] - ETA: 0s - loss: 0.2527 - accuracy: 0.9347 - auc: 0.9811 - precision: 0.9492 - recall: 0.9034\n",
      "Epoch 8: val_accuracy did not improve from 0.66194\n",
      "\n",
      "Epoch 8: val_accuracy did not improve from 0.66194\n",
      "\n",
      "Epoch 8: val_accuracy did not improve from 0.66194\n",
      "\n",
      "Epoch 8: val_accuracy did not improve from 0.66194\n",
      "\n",
      "Epoch 8: val_accuracy did not improve from 0.66194\n",
      "31/31 [==============================] - 73s 2s/step - loss: 0.2527 - accuracy: 0.9347 - auc: 0.9811 - precision: 0.9492 - recall: 0.9034 - val_loss: 0.6721 - val_accuracy: 0.6336 - val_auc: 0.7158 - val_precision: 0.5685 - val_recall: 0.7511 - lr: 1.0000e-04\n",
      "Epoch 9/50\n",
      "31/31 [==============================] - ETA: 0s - loss: 0.2201 - accuracy: 0.9444 - auc: 0.9865 - precision: 0.9483 - recall: 0.9270\n",
      "Epoch 9: ReduceLROnPlateau reducing learning rate to 4.999999873689376e-05.\n",
      "\n",
      "Epoch 9: val_accuracy improved from 0.66194 to 0.66397, saving model to models/production/TMNet_DenseNet-8wuoxn2a.keras\n",
      "\n",
      "Epoch 9: val_accuracy improved from 0.66194 to 0.66397, saving model to models/production/TMNet_EfficientNet-n5zc87ri.keras\n",
      "\n",
      "Epoch 9: val_accuracy improved from 0.66194 to 0.66397, saving model to models/production/TMNet_Inception-2w1uc1gb.keras\n",
      "\n",
      "Epoch 9: val_accuracy improved from 0.66194 to 0.66397, saving model to models/production/TMNet_InceptionResNet-gj2nejiv.keras\n",
      "\n",
      "Epoch 9: val_accuracy improved from 0.66194 to 0.66397, saving model to models/production/TMNet_MobileNet-1tqipxli.keras\n",
      "31/31 [==============================] - 75s 2s/step - loss: 0.2201 - accuracy: 0.9444 - auc: 0.9865 - precision: 0.9483 - recall: 0.9270 - val_loss: 0.6619 - val_accuracy: 0.6640 - val_auc: 0.7121 - val_precision: 0.6355 - val_recall: 0.5837 - lr: 1.0000e-04\n",
      "Epoch 10/50\n",
      "31/31 [==============================] - ETA: 0s - loss: 0.1876 - accuracy: 0.9595 - auc: 0.9921 - precision: 0.9623 - recall: 0.9472\n",
      "Epoch 10: val_accuracy did not improve from 0.66397\n",
      "\n",
      "Epoch 10: val_accuracy did not improve from 0.66397\n",
      "\n",
      "Epoch 10: val_accuracy did not improve from 0.66397\n",
      "\n",
      "Epoch 10: val_accuracy did not improve from 0.66397\n",
      "\n",
      "Epoch 10: val_accuracy did not improve from 0.66397\n",
      "31/31 [==============================] - 73s 2s/step - loss: 0.1876 - accuracy: 0.9595 - auc: 0.9921 - precision: 0.9623 - recall: 0.9472 - val_loss: 0.6802 - val_accuracy: 0.6478 - val_auc: 0.7129 - val_precision: 0.5951 - val_recall: 0.6652 - lr: 5.0000e-05\n",
      "Epoch 11/50\n",
      "31/31 [==============================] - ETA: 0s - loss: 0.1676 - accuracy: 0.9742 - auc: 0.9950 - precision: 0.9751 - recall: 0.9674\n",
      "Epoch 11: val_accuracy improved from 0.66397 to 0.66802, saving model to models/production/TMNet_DenseNet-8wuoxn2a.keras\n",
      "\n",
      "Epoch 11: val_accuracy improved from 0.66397 to 0.66802, saving model to models/production/TMNet_EfficientNet-n5zc87ri.keras\n",
      "\n",
      "Epoch 11: val_accuracy improved from 0.66397 to 0.66802, saving model to models/production/TMNet_Inception-2w1uc1gb.keras\n",
      "\n",
      "Epoch 11: val_accuracy improved from 0.66397 to 0.66802, saving model to models/production/TMNet_InceptionResNet-gj2nejiv.keras\n",
      "\n",
      "Epoch 11: val_accuracy improved from 0.66397 to 0.66802, saving model to models/production/TMNet_MobileNet-1tqipxli.keras\n",
      "31/31 [==============================] - 76s 2s/step - loss: 0.1676 - accuracy: 0.9742 - auc: 0.9950 - precision: 0.9751 - recall: 0.9674 - val_loss: 0.6929 - val_accuracy: 0.6680 - val_auc: 0.7095 - val_precision: 0.6326 - val_recall: 0.6154 - lr: 5.0000e-05\n",
      "Epoch 12/50\n",
      "31/31 [==============================] - ETA: 0s - loss: 0.1580 - accuracy: 0.9727 - auc: 0.9956 - precision: 0.9718 - recall: 0.9674\n",
      "Epoch 12: ReduceLROnPlateau reducing learning rate to 2.499999936844688e-05.\n",
      "\n",
      "Epoch 12: val_accuracy did not improve from 0.66802\n",
      "\n",
      "Epoch 12: val_accuracy did not improve from 0.66802\n",
      "\n",
      "Epoch 12: val_accuracy did not improve from 0.66802\n",
      "\n",
      "Epoch 12: val_accuracy did not improve from 0.66802\n",
      "\n",
      "Epoch 12: val_accuracy did not improve from 0.66802\n",
      "31/31 [==============================] - 73s 2s/step - loss: 0.1580 - accuracy: 0.9727 - auc: 0.9956 - precision: 0.9718 - recall: 0.9674 - val_loss: 0.6999 - val_accuracy: 0.6660 - val_auc: 0.7140 - val_precision: 0.6443 - val_recall: 0.5656 - lr: 5.0000e-05\n",
      "Epoch 13/50\n",
      "31/31 [==============================] - ETA: 0s - loss: 0.1472 - accuracy: 0.9732 - auc: 0.9964 - precision: 0.9761 - recall: 0.9640\n",
      "Epoch 13: val_accuracy did not improve from 0.66802\n",
      "\n",
      "Epoch 13: val_accuracy did not improve from 0.66802\n",
      "\n",
      "Epoch 13: val_accuracy did not improve from 0.66802\n",
      "\n",
      "Epoch 13: val_accuracy did not improve from 0.66802\n",
      "\n",
      "Epoch 13: val_accuracy did not improve from 0.66802\n",
      "31/31 [==============================] - 73s 2s/step - loss: 0.1472 - accuracy: 0.9732 - auc: 0.9964 - precision: 0.9761 - recall: 0.9640 - val_loss: 0.7157 - val_accuracy: 0.6538 - val_auc: 0.7114 - val_precision: 0.6116 - val_recall: 0.6199 - lr: 2.5000e-05\n",
      "Epoch 14/50\n",
      "31/31 [==============================] - ETA: 0s - loss: 0.1366 - accuracy: 0.9793 - auc: 0.9982 - precision: 0.9807 - recall: 0.9730\n",
      "Epoch 14: val_accuracy did not improve from 0.66802\n",
      "\n",
      "Epoch 14: val_accuracy did not improve from 0.66802\n",
      "\n",
      "Epoch 14: val_accuracy did not improve from 0.66802\n",
      "\n",
      "Epoch 14: val_accuracy did not improve from 0.66802\n",
      "\n",
      "Epoch 14: val_accuracy did not improve from 0.66802\n",
      "31/31 [==============================] - 73s 2s/step - loss: 0.1366 - accuracy: 0.9793 - auc: 0.9982 - precision: 0.9807 - recall: 0.9730 - val_loss: 0.7166 - val_accuracy: 0.6599 - val_auc: 0.7148 - val_precision: 0.6233 - val_recall: 0.6063 - lr: 2.5000e-05\n",
      "Epoch 15/50\n",
      "31/31 [==============================] - ETA: 0s - loss: 0.1281 - accuracy: 0.9828 - auc: 0.9979 - precision: 0.9820 - recall: 0.9798\n",
      "Epoch 15: ReduceLROnPlateau reducing learning rate to 1.249999968422344e-05.\n",
      "\n",
      "Epoch 15: val_accuracy did not improve from 0.66802\n",
      "\n",
      "Epoch 15: val_accuracy did not improve from 0.66802\n",
      "\n",
      "Epoch 15: val_accuracy did not improve from 0.66802\n",
      "\n",
      "Epoch 15: val_accuracy did not improve from 0.66802\n",
      "\n",
      "Epoch 15: val_accuracy did not improve from 0.66802\n",
      "31/31 [==============================] - 73s 2s/step - loss: 0.1281 - accuracy: 0.9828 - auc: 0.9979 - precision: 0.9820 - recall: 0.9798 - val_loss: 0.7254 - val_accuracy: 0.6498 - val_auc: 0.7165 - val_precision: 0.6212 - val_recall: 0.5566 - lr: 2.5000e-05\n",
      "Epoch 16/50\n",
      "31/31 [==============================] - ETA: 0s - loss: 0.1261 - accuracy: 0.9823 - auc: 0.9980 - precision: 0.9831 - recall: 0.9775Restoring model weights from the end of the best epoch: 6.\n",
      "\n",
      "Epoch 16: val_accuracy did not improve from 0.66802\n",
      "\n",
      "Epoch 16: val_accuracy did not improve from 0.66802\n",
      "\n",
      "Epoch 16: val_accuracy did not improve from 0.66802\n",
      "\n",
      "Epoch 16: val_accuracy did not improve from 0.66802\n",
      "\n",
      "Epoch 16: val_accuracy did not improve from 0.66802\n",
      "31/31 [==============================] - 73s 2s/step - loss: 0.1261 - accuracy: 0.9823 - auc: 0.9980 - precision: 0.9831 - recall: 0.9775 - val_loss: 0.7307 - val_accuracy: 0.6417 - val_auc: 0.7158 - val_precision: 0.5982 - val_recall: 0.6063 - lr: 1.2500e-05\n",
      "Epoch 16: early stopping\n"
     ]
    },
    {
     "name": "stderr",
     "output_type": "stream",
     "text": [
      "\u001b[34m\u001b[1mwandb\u001b[0m: Waiting for artifact run-1tqipxli-TMNet_MobileNet-1tqipxli.keras to be committed...\n"
     ]
    },
    {
     "data": {
      "application/vnd.jupyter.widget-view+json": {
       "model_id": "c0f314a5c6d94ce78bfdce4bface41e5",
       "version_major": 2,
       "version_minor": 0
      },
      "text/plain": [
       "VBox(children=(Label(value='5.144 MB of 72.029 MB uploaded\\r'), FloatProgress(value=0.07141623072019661, max=1…"
      ]
     },
     "metadata": {},
     "output_type": "display_data"
    },
    {
     "name": "stderr",
     "output_type": "stream",
     "text": [
      "\n",
      "\u001b[34m\u001b[1mwandb\u001b[0m: Committed artifact aistudio/Breast-Cancer-Detection-Production/run-1tqipxli-TMNet_MobileNet-1tqipxli.keras:v0\n",
      "wandb: WARNING Source type is set to 'repo' but some required information is missing from the environment. A job will not be created from this run. See https://docs.wandb.ai/guides/launch/create-job\n"
     ]
    },
    {
     "data": {
      "text/html": [
       "<style>\n",
       "    table.wandb td:nth-child(1) { padding: 0 10px; text-align: left ; width: auto;} td:nth-child(2) {text-align: left ; width: 100%}\n",
       "    .wandb-row { display: flex; flex-direction: row; flex-wrap: wrap; justify-content: flex-start; width: 100% }\n",
       "    .wandb-col { display: flex; flex-direction: column; flex-basis: 100%; flex: 1; padding: 10px; }\n",
       "    </style>\n",
       "<div class=\"wandb-row\"><div class=\"wandb-col\"><h3>Run history:</h3><br/><table class=\"wandb\"><tr><td>epoch/accuracy</td><td>▁▁▁▃▃▅▅▅▅▅▆▆▆▆▆▇▇▇▇▇▇▇▇█████████████████</td></tr><tr><td>epoch/auc</td><td>▁▁▁▄▄▆▆▆▆▆▇▇▇▇▇▇▇▇██████████████████████</td></tr><tr><td>epoch/epoch</td><td>▁▁▁▁▁▂▂▂▂▂▃▃▃▃▃▄▄▄▄▄▅▅▅▅▅▆▆▆▆▆▇▇▇▇▇█████</td></tr><tr><td>epoch/learning_rate</td><td>████████████████████▄▄▄▄▄▄▄▄▂▂▂▂▂▂▂▁▁▁▁▁</td></tr><tr><td>epoch/loss</td><td>███▆▆▅▅▅▅▅▄▄▄▄▄▃▃▃▃▃▂▂▂▂▂▂▂▂▁▁▁▁▁▁▁▁▁▁▁▁</td></tr><tr><td>epoch/lr</td><td>███████████████████████▄▄▄▄▄▄▄▂▂▂▂▂▂▂▂▁▁</td></tr><tr><td>epoch/precision</td><td>▁▁▁▃▃▅▅▅▆▆▆▆▆▇▇▇▇▇▇▇▇▇▇█████████████████</td></tr><tr><td>epoch/recall</td><td>▁▁▁▃▃▄▄▄▅▅▆▆▆▆▆▇▇▇▇▇▇▇▇█████████████████</td></tr><tr><td>epoch/val_accuracy</td><td>▁▁▁▂▂▆▆▆▆▆▆▆▆█████▆▆███▇▇█████▇▇▇▇▇▇▇▇▆▆</td></tr><tr><td>epoch/val_auc</td><td>▁▁▁▂▂▃▃▃▄▄▄▄▄▇▇▇▇▇██▇▇▇▇▇▇▇▇██▇▇▇███████</td></tr><tr><td>epoch/val_loss</td><td>▅▅▅▅▅▃▃▃▂▂▂▂▂▁▁▂▂▂▄▄▃▃▃▅▅▅▅▅▆▆▇▇▇▇▇█████</td></tr><tr><td>epoch/val_precision</td><td>▁▁▁▁▁▄▄▄▅▅▅▅▅▇▇▇▇▇▄▄███▆▆▇▇▇██▆▆▆▇▇▇▇▇▆▆</td></tr><tr><td>epoch/val_recall</td><td>▇▇▇██▅▅▅▄▄▃▃▃▂▂▂▂▂▅▅▂▂▂▃▃▂▂▂▁▁▂▂▂▂▂▁▁▁▂▂</td></tr></table><br/></div><div class=\"wandb-col\"><h3>Run summary:</h3><br/><table class=\"wandb\"><tr><td>epoch/accuracy</td><td>0.9823</td></tr><tr><td>epoch/auc</td><td>0.99797</td></tr><tr><td>epoch/epoch</td><td>15</td></tr><tr><td>epoch/learning_rate</td><td>1e-05</td></tr><tr><td>epoch/loss</td><td>0.12612</td></tr><tr><td>epoch/lr</td><td>1e-05</td></tr><tr><td>epoch/precision</td><td>0.98305</td></tr><tr><td>epoch/recall</td><td>0.97753</td></tr><tr><td>epoch/val_accuracy</td><td>0.6417</td></tr><tr><td>epoch/val_auc</td><td>0.71578</td></tr><tr><td>epoch/val_loss</td><td>0.73074</td></tr><tr><td>epoch/val_precision</td><td>0.59821</td></tr><tr><td>epoch/val_recall</td><td>0.60633</td></tr></table><br/></div></div>"
      ],
      "text/plain": [
       "<IPython.core.display.HTML object>"
      ]
     },
     "metadata": {},
     "output_type": "display_data"
    },
    {
     "data": {
      "text/html": [
       " View run <strong style=\"color:#cdcd00\">TMNet_MobileNet</strong> at: <a href='https://wandb.ai/aistudio/Breast-Cancer-Detection-Production/runs/1tqipxli' target=\"_blank\">https://wandb.ai/aistudio/Breast-Cancer-Detection-Production/runs/1tqipxli</a><br/>Synced 6 W&B file(s), 3 media file(s), 5 artifact file(s) and 0 other file(s)"
      ],
      "text/plain": [
       "<IPython.core.display.HTML object>"
      ]
     },
     "metadata": {},
     "output_type": "display_data"
    },
    {
     "data": {
      "text/html": [
       "Find logs at: <code>./wandb/run-20240214_055731-1tqipxli/logs</code>"
      ],
      "text/plain": [
       "<IPython.core.display.HTML object>"
      ]
     },
     "metadata": {},
     "output_type": "display_data"
    },
    {
     "name": "stdout",
     "output_type": "stream",
     "text": [
      "# ================================================================================================ #\n",
      "                                            TMNet_ResNet                                            \n",
      "# ------------------------------------------------------------------------------------------------ #\n",
      "Model: \"model\"\n",
      "_________________________________________________________________\n",
      " Layer (type)                Output Shape              Param #   \n",
      "=================================================================\n",
      " TMNet_ResNet_input_layer (I  [(None, 224, 224, 3)]    0         \n",
      " nputLayer)                                                      \n",
      "                                                                 \n",
      " tf.math.truediv (TFOpLambda  (None, 224, 224, 3)      0         \n",
      " )                                                               \n",
      "                                                                 \n",
      " tf.math.subtract (TFOpLambd  (None, 224, 224, 3)      0         \n",
      " a)                                                              \n",
      "                                                                 \n",
      " data_augmentation (Sequenti  (None, 224, 224, 3)      0         \n",
      " al)                                                             \n",
      "                                                                 \n",
      " resnet152v2 (Functional)    (None, None, None, 2048)  58331648  \n",
      "                                                                 \n",
      " TMNet_ResNet_global_average  (None, 2048)             0         \n",
      " _pooling (GlobalAveragePool                                     \n",
      " ing2D)                                                          \n",
      "                                                                 \n",
      " TMNet_ResNet_batch_normaliz  (None, 2048)             8192      \n",
      " ation (BatchNormalization)                                      \n",
      "                                                                 \n",
      " TMNet_ResNet_dense_1 (Dense  (None, 1024)             2098176   \n",
      " )                                                               \n",
      "                                                                 \n",
      " TMNet_ResNet_dense_2 (Dense  (None, 1024)             1049600   \n",
      " )                                                               \n",
      "                                                                 \n",
      " TMNet_ResNet_output_layer (  (None, 1)                1025      \n",
      " Dense)                                                          \n",
      "                                                                 \n",
      "=================================================================\n",
      "Total params: 61,488,641\n",
      "Trainable params: 3,152,897\n",
      "Non-trainable params: 58,335,744\n",
      "_________________________________________________________________\n",
      "# ------------------------------------------------------------------------------------------------ #\n",
      "\n",
      "\n",
      "                                            TMNetConfig                                             \n",
      "                                        Activation | sigmoid\n",
      "                                      Output Shape | 1\n",
      "                                            Dense1 | 1024\n",
      "                                            Dense2 | 1024\n",
      "\n",
      "\n",
      "# ================================================================================================ #\n"
     ]
    },
    {
     "data": {
      "text/html": [
       "wandb version 0.16.3 is available!  To upgrade, please run:\n",
       " $ pip install wandb --upgrade"
      ],
      "text/plain": [
       "<IPython.core.display.HTML object>"
      ]
     },
     "metadata": {},
     "output_type": "display_data"
    },
    {
     "data": {
      "text/html": [
       "Tracking run with wandb version 0.16.2"
      ],
      "text/plain": [
       "<IPython.core.display.HTML object>"
      ]
     },
     "metadata": {},
     "output_type": "display_data"
    },
    {
     "data": {
      "text/html": [
       "Run data is saved locally in <code>/home/john/projects/bcd/wandb/run-20240214_061835-avk3g5il</code>"
      ],
      "text/plain": [
       "<IPython.core.display.HTML object>"
      ]
     },
     "metadata": {},
     "output_type": "display_data"
    },
    {
     "data": {
      "text/html": [
       "Syncing run <strong><a href='https://wandb.ai/aistudio/Breast-Cancer-Detection-Production/runs/avk3g5il' target=\"_blank\">TMNet_ResNet</a></strong> to <a href='https://wandb.ai/aistudio/Breast-Cancer-Detection-Production' target=\"_blank\">Weights & Biases</a> (<a href='https://wandb.me/run' target=\"_blank\">docs</a>)<br/>"
      ],
      "text/plain": [
       "<IPython.core.display.HTML object>"
      ]
     },
     "metadata": {},
     "output_type": "display_data"
    },
    {
     "data": {
      "text/html": [
       " View project at <a href='https://wandb.ai/aistudio/Breast-Cancer-Detection-Production' target=\"_blank\">https://wandb.ai/aistudio/Breast-Cancer-Detection-Production</a>"
      ],
      "text/plain": [
       "<IPython.core.display.HTML object>"
      ]
     },
     "metadata": {},
     "output_type": "display_data"
    },
    {
     "data": {
      "text/html": [
       " View run at <a href='https://wandb.ai/aistudio/Breast-Cancer-Detection-Production/runs/avk3g5il' target=\"_blank\">https://wandb.ai/aistudio/Breast-Cancer-Detection-Production/runs/avk3g5il</a>"
      ],
      "text/plain": [
       "<IPython.core.display.HTML object>"
      ]
     },
     "metadata": {},
     "output_type": "display_data"
    },
    {
     "name": "stdout",
     "output_type": "stream",
     "text": [
      "Epoch 1/50\n",
      "31/31 [==============================] - ETA: 0s - loss: 0.6988 - accuracy: 0.5630 - auc: 0.6107 - precision: 0.5360 - recall: 0.4689 \n",
      "Epoch 1: val_accuracy did not improve from 0.66802\n",
      "\n",
      "Epoch 1: val_accuracy did not improve from 0.66802\n",
      "\n",
      "Epoch 1: val_accuracy did not improve from 0.66802\n",
      "\n",
      "Epoch 1: val_accuracy did not improve from 0.66802\n",
      "\n",
      "Epoch 1: val_accuracy did not improve from 0.66802\n",
      "\n",
      "Epoch 1: val_accuracy improved from -inf to 0.58907, saving model to models/production/TMNet_ResNet-avk3g5il.keras\n",
      "31/31 [==============================] - 497s 15s/step - loss: 0.6988 - accuracy: 0.5630 - auc: 0.6107 - precision: 0.5360 - recall: 0.4689 - val_loss: 0.6776 - val_accuracy: 0.5891 - val_auc: 0.6066 - val_precision: 0.6607 - val_recall: 0.1674 - lr: 1.0000e-04\n",
      "Epoch 2/50\n",
      "31/31 [==============================] - ETA: 0s - loss: 0.6000 - accuracy: 0.6798 - auc: 0.7349 - precision: 0.6702 - recall: 0.5685 \n",
      "Epoch 2: val_accuracy did not improve from 0.66802\n",
      "\n",
      "Epoch 2: val_accuracy did not improve from 0.66802\n",
      "\n",
      "Epoch 2: val_accuracy did not improve from 0.66802\n",
      "\n",
      "Epoch 2: val_accuracy did not improve from 0.66802\n",
      "\n",
      "Epoch 2: val_accuracy did not improve from 0.66802\n",
      "\n",
      "Epoch 2: val_accuracy improved from 0.58907 to 0.60729, saving model to models/production/TMNet_ResNet-avk3g5il.keras\n",
      "31/31 [==============================] - 479s 15s/step - loss: 0.6000 - accuracy: 0.6798 - auc: 0.7349 - precision: 0.6702 - recall: 0.5685 - val_loss: 0.6650 - val_accuracy: 0.6073 - val_auc: 0.6295 - val_precision: 0.6174 - val_recall: 0.3213 - lr: 1.0000e-04\n",
      "Epoch 3/50\n",
      "31/31 [==============================] - ETA: 0s - loss: 0.5140 - accuracy: 0.7562 - auc: 0.8438 - precision: 0.7589 - recall: 0.6719 \n",
      "Epoch 3: val_accuracy did not improve from 0.66802\n",
      "\n",
      "Epoch 3: val_accuracy did not improve from 0.66802\n",
      "\n",
      "Epoch 3: val_accuracy did not improve from 0.66802\n",
      "\n",
      "Epoch 3: val_accuracy did not improve from 0.66802\n",
      "\n",
      "Epoch 3: val_accuracy did not improve from 0.66802\n",
      "\n",
      "Epoch 3: val_accuracy did not improve from 0.60729\n",
      "31/31 [==============================] - 478s 15s/step - loss: 0.5140 - accuracy: 0.7562 - auc: 0.8438 - precision: 0.7589 - recall: 0.6719 - val_loss: 0.6640 - val_accuracy: 0.5951 - val_auc: 0.6291 - val_precision: 0.5556 - val_recall: 0.4751 - lr: 1.0000e-04\n",
      "Epoch 4/50\n",
      "31/31 [==============================] - ETA: 0s - loss: 0.4637 - accuracy: 0.7977 - auc: 0.8825 - precision: 0.7910 - recall: 0.7483 \n",
      "Epoch 4: val_accuracy did not improve from 0.66802\n",
      "\n",
      "Epoch 4: val_accuracy did not improve from 0.66802\n",
      "\n",
      "Epoch 4: val_accuracy did not improve from 0.66802\n",
      "\n",
      "Epoch 4: val_accuracy did not improve from 0.66802\n",
      "\n",
      "Epoch 4: val_accuracy did not improve from 0.66802\n",
      "\n",
      "Epoch 4: val_accuracy did not improve from 0.60729\n",
      "31/31 [==============================] - 477s 15s/step - loss: 0.4637 - accuracy: 0.7977 - auc: 0.8825 - precision: 0.7910 - recall: 0.7483 - val_loss: 0.6638 - val_accuracy: 0.5931 - val_auc: 0.6299 - val_precision: 0.5446 - val_recall: 0.5520 - lr: 1.0000e-04\n",
      "Epoch 5/50\n",
      "31/31 [==============================] - ETA: 0s - loss: 0.4094 - accuracy: 0.8442 - auc: 0.9238 - precision: 0.8498 - recall: 0.7944 \n",
      "Epoch 5: val_accuracy did not improve from 0.66802\n",
      "\n",
      "Epoch 5: val_accuracy did not improve from 0.66802\n",
      "\n",
      "Epoch 5: val_accuracy did not improve from 0.66802\n",
      "\n",
      "Epoch 5: val_accuracy did not improve from 0.66802\n",
      "\n",
      "Epoch 5: val_accuracy did not improve from 0.66802\n",
      "\n",
      "Epoch 5: val_accuracy did not improve from 0.60729\n",
      "31/31 [==============================] - 477s 15s/step - loss: 0.4094 - accuracy: 0.8442 - auc: 0.9238 - precision: 0.8498 - recall: 0.7944 - val_loss: 0.6672 - val_accuracy: 0.6032 - val_auc: 0.6370 - val_precision: 0.5604 - val_recall: 0.5249 - lr: 1.0000e-04\n",
      "Epoch 6/50\n",
      "31/31 [==============================] - ETA: 0s - loss: 0.3536 - accuracy: 0.8756 - auc: 0.9493 - precision: 0.8779 - recall: 0.8404 \n",
      "Epoch 6: val_accuracy did not improve from 0.66802\n",
      "\n",
      "Epoch 6: val_accuracy did not improve from 0.66802\n",
      "\n",
      "Epoch 6: val_accuracy did not improve from 0.66802\n",
      "\n",
      "Epoch 6: val_accuracy did not improve from 0.66802\n",
      "\n",
      "Epoch 6: val_accuracy did not improve from 0.66802\n",
      "\n",
      "Epoch 6: val_accuracy did not improve from 0.60729\n",
      "31/31 [==============================] - 479s 15s/step - loss: 0.3536 - accuracy: 0.8756 - auc: 0.9493 - precision: 0.8779 - recall: 0.8404 - val_loss: 0.6732 - val_accuracy: 0.6032 - val_auc: 0.6421 - val_precision: 0.5527 - val_recall: 0.5928 - lr: 1.0000e-04\n",
      "Epoch 7/50\n",
      "31/31 [==============================] - ETA: 0s - loss: 0.3252 - accuracy: 0.8902 - auc: 0.9569 - precision: 0.9001 - recall: 0.8506 \n",
      "Epoch 7: ReduceLROnPlateau reducing learning rate to 4.999999873689376e-05.\n",
      "\n",
      "Epoch 7: val_accuracy did not improve from 0.66802\n",
      "\n",
      "Epoch 7: val_accuracy did not improve from 0.66802\n",
      "\n",
      "Epoch 7: val_accuracy did not improve from 0.66802\n",
      "\n",
      "Epoch 7: val_accuracy did not improve from 0.66802\n",
      "\n",
      "Epoch 7: val_accuracy did not improve from 0.66802\n",
      "\n",
      "Epoch 7: val_accuracy improved from 0.60729 to 0.60931, saving model to models/production/TMNet_ResNet-avk3g5il.keras\n",
      "31/31 [==============================] - 478s 15s/step - loss: 0.3252 - accuracy: 0.8902 - auc: 0.9569 - precision: 0.9001 - recall: 0.8506 - val_loss: 0.6789 - val_accuracy: 0.6093 - val_auc: 0.6431 - val_precision: 0.5660 - val_recall: 0.5430 - lr: 1.0000e-04\n",
      "Epoch 8/50\n",
      "31/31 [==============================] - ETA: 0s - loss: 0.2800 - accuracy: 0.9181 - auc: 0.9730 - precision: 0.9213 - recall: 0.8944 \n",
      "Epoch 8: val_accuracy did not improve from 0.66802\n",
      "\n",
      "Epoch 8: val_accuracy did not improve from 0.66802\n",
      "\n",
      "Epoch 8: val_accuracy did not improve from 0.66802\n",
      "\n",
      "Epoch 8: val_accuracy did not improve from 0.66802\n",
      "\n",
      "Epoch 8: val_accuracy did not improve from 0.66802\n",
      "\n",
      "Epoch 8: val_accuracy improved from 0.60931 to 0.62146, saving model to models/production/TMNet_ResNet-avk3g5il.keras\n",
      "31/31 [==============================] - 478s 15s/step - loss: 0.2800 - accuracy: 0.9181 - auc: 0.9730 - precision: 0.9213 - recall: 0.8944 - val_loss: 0.6938 - val_accuracy: 0.6215 - val_auc: 0.6415 - val_precision: 0.5842 - val_recall: 0.5339 - lr: 5.0000e-05\n",
      "Epoch 9/50\n",
      "31/31 [==============================] - ETA: 0s - loss: 0.2601 - accuracy: 0.9267 - auc: 0.9773 - precision: 0.9277 - recall: 0.9079 \n",
      "Epoch 9: val_accuracy did not improve from 0.66802\n",
      "\n",
      "Epoch 9: val_accuracy did not improve from 0.66802\n",
      "\n",
      "Epoch 9: val_accuracy did not improve from 0.66802\n",
      "\n",
      "Epoch 9: val_accuracy did not improve from 0.66802\n",
      "\n",
      "Epoch 9: val_accuracy did not improve from 0.66802\n",
      "\n",
      "Epoch 9: val_accuracy improved from 0.62146 to 0.63968, saving model to models/production/TMNet_ResNet-avk3g5il.keras\n",
      "31/31 [==============================] - 478s 15s/step - loss: 0.2601 - accuracy: 0.9267 - auc: 0.9773 - precision: 0.9277 - recall: 0.9079 - val_loss: 0.7054 - val_accuracy: 0.6397 - val_auc: 0.6451 - val_precision: 0.5907 - val_recall: 0.6335 - lr: 5.0000e-05\n",
      "Epoch 10/50\n",
      "31/31 [==============================] - ETA: 0s - loss: 0.2331 - accuracy: 0.9474 - auc: 0.9865 - precision: 0.9580 - recall: 0.9236 \n",
      "Epoch 10: ReduceLROnPlateau reducing learning rate to 2.499999936844688e-05.\n",
      "\n",
      "Epoch 10: val_accuracy did not improve from 0.66802\n",
      "\n",
      "Epoch 10: val_accuracy did not improve from 0.66802\n",
      "\n",
      "Epoch 10: val_accuracy did not improve from 0.66802\n",
      "\n",
      "Epoch 10: val_accuracy did not improve from 0.66802\n",
      "\n",
      "Epoch 10: val_accuracy did not improve from 0.66802\n",
      "\n",
      "Epoch 10: val_accuracy did not improve from 0.63968\n",
      "31/31 [==============================] - 478s 15s/step - loss: 0.2331 - accuracy: 0.9474 - auc: 0.9865 - precision: 0.9580 - recall: 0.9236 - val_loss: 0.7257 - val_accuracy: 0.6296 - val_auc: 0.6371 - val_precision: 0.5880 - val_recall: 0.5747 - lr: 5.0000e-05\n",
      "Epoch 11/50\n",
      "31/31 [==============================] - ETA: 0s - loss: 0.2217 - accuracy: 0.9403 - auc: 0.9867 - precision: 0.9437 - recall: 0.9225 \n",
      "Epoch 11: val_accuracy did not improve from 0.66802\n",
      "\n",
      "Epoch 11: val_accuracy did not improve from 0.66802\n",
      "\n",
      "Epoch 11: val_accuracy did not improve from 0.66802\n",
      "\n",
      "Epoch 11: val_accuracy did not improve from 0.66802\n",
      "\n",
      "Epoch 11: val_accuracy did not improve from 0.66802\n",
      "\n",
      "Epoch 11: val_accuracy did not improve from 0.63968\n",
      "31/31 [==============================] - 477s 15s/step - loss: 0.2217 - accuracy: 0.9403 - auc: 0.9867 - precision: 0.9437 - recall: 0.9225 - val_loss: 0.7341 - val_accuracy: 0.6215 - val_auc: 0.6399 - val_precision: 0.5833 - val_recall: 0.5385 - lr: 2.5000e-05\n",
      "Epoch 12/50\n",
      "31/31 [==============================] - ETA: 0s - loss: 0.2108 - accuracy: 0.9519 - auc: 0.9903 - precision: 0.9512 - recall: 0.9416 \n",
      "Epoch 12: val_accuracy did not improve from 0.66802\n",
      "\n",
      "Epoch 12: val_accuracy did not improve from 0.66802\n",
      "\n",
      "Epoch 12: val_accuracy did not improve from 0.66802\n",
      "\n",
      "Epoch 12: val_accuracy did not improve from 0.66802\n",
      "\n",
      "Epoch 12: val_accuracy did not improve from 0.66802\n",
      "\n",
      "Epoch 12: val_accuracy did not improve from 0.63968\n",
      "31/31 [==============================] - 477s 15s/step - loss: 0.2108 - accuracy: 0.9519 - auc: 0.9903 - precision: 0.9512 - recall: 0.9416 - val_loss: 0.7476 - val_accuracy: 0.6235 - val_auc: 0.6398 - val_precision: 0.5907 - val_recall: 0.5158 - lr: 2.5000e-05\n",
      "Epoch 13/50\n",
      "31/31 [==============================] - ETA: 0s - loss: 0.2010 - accuracy: 0.9540 - auc: 0.9904 - precision: 0.9566 - recall: 0.9404 \n",
      "Epoch 13: ReduceLROnPlateau reducing learning rate to 1.249999968422344e-05.\n",
      "\n",
      "Epoch 13: val_accuracy did not improve from 0.66802\n",
      "\n",
      "Epoch 13: val_accuracy did not improve from 0.66802\n",
      "\n",
      "Epoch 13: val_accuracy did not improve from 0.66802\n",
      "\n",
      "Epoch 13: val_accuracy did not improve from 0.66802\n",
      "\n",
      "Epoch 13: val_accuracy did not improve from 0.66802\n",
      "\n",
      "Epoch 13: val_accuracy did not improve from 0.63968\n",
      "31/31 [==============================] - 478s 15s/step - loss: 0.2010 - accuracy: 0.9540 - auc: 0.9904 - precision: 0.9566 - recall: 0.9404 - val_loss: 0.7549 - val_accuracy: 0.6134 - val_auc: 0.6406 - val_precision: 0.5728 - val_recall: 0.5339 - lr: 2.5000e-05\n",
      "Epoch 14/50\n",
      "31/31 [==============================] - ETA: 0s - loss: 0.2028 - accuracy: 0.9519 - auc: 0.9889 - precision: 0.9512 - recall: 0.9416 Restoring model weights from the end of the best epoch: 4.\n",
      "\n",
      "Epoch 14: val_accuracy did not improve from 0.66802\n",
      "\n",
      "Epoch 14: val_accuracy did not improve from 0.66802\n",
      "\n",
      "Epoch 14: val_accuracy did not improve from 0.66802\n",
      "\n",
      "Epoch 14: val_accuracy did not improve from 0.66802\n",
      "\n",
      "Epoch 14: val_accuracy did not improve from 0.66802\n",
      "\n",
      "Epoch 14: val_accuracy did not improve from 0.63968\n",
      "31/31 [==============================] - 478s 15s/step - loss: 0.2028 - accuracy: 0.9519 - auc: 0.9889 - precision: 0.9512 - recall: 0.9416 - val_loss: 0.7659 - val_accuracy: 0.6194 - val_auc: 0.6384 - val_precision: 0.5805 - val_recall: 0.5385 - lr: 1.2500e-05\n",
      "Epoch 14: early stopping\n"
     ]
    },
    {
     "name": "stderr",
     "output_type": "stream",
     "text": [
      "\u001b[34m\u001b[1mwandb\u001b[0m: Waiting for artifact run-avk3g5il-TMNet_ResNet-avk3g5il.keras to be committed...\n"
     ]
    },
    {
     "data": {
      "application/vnd.jupyter.widget-view+json": {
       "model_id": "7ee1fdfcf749450ca563d1c1ffb16a78",
       "version_major": 2,
       "version_minor": 0
      },
      "text/plain": [
       "VBox(children=(Label(value='3.347 MB of 519.077 MB uploaded\\r'), FloatProgress(value=0.0064483416280440645, ma…"
      ]
     },
     "metadata": {},
     "output_type": "display_data"
    },
    {
     "name": "stderr",
     "output_type": "stream",
     "text": [
      "\n",
      "\u001b[34m\u001b[1mwandb\u001b[0m: Committed artifact aistudio/Breast-Cancer-Detection-Production/run-avk3g5il-TMNet_ResNet-avk3g5il.keras:v0\n",
      "wandb: WARNING Source type is set to 'repo' but some required information is missing from the environment. A job will not be created from this run. See https://docs.wandb.ai/guides/launch/create-job\n"
     ]
    },
    {
     "data": {
      "text/html": [
       "<style>\n",
       "    table.wandb td:nth-child(1) { padding: 0 10px; text-align: left ; width: auto;} td:nth-child(2) {text-align: left ; width: 100%}\n",
       "    .wandb-row { display: flex; flex-direction: row; flex-wrap: wrap; justify-content: flex-start; width: 100% }\n",
       "    .wandb-col { display: flex; flex-direction: column; flex-basis: 100%; flex: 1; padding: 10px; }\n",
       "    </style>\n",
       "<div class=\"wandb-row\"><div class=\"wandb-col\"><h3>Run history:</h3><br/><table class=\"wandb\"><tr><td>epoch/accuracy</td><td>▁▁▁▃▃▃▄▄▄▅▅▅▆▆▆▇▇▇▇▇▇▇▇█████████████████</td></tr><tr><td>epoch/auc</td><td>▁▁▁▃▃▃▅▅▅▆▆▆▇▇▇▇▇▇▇▇████████████████████</td></tr><tr><td>epoch/epoch</td><td>▁▁▁▂▂▂▂▂▂▃▃▃▃▃▃▄▄▄▄▄▅▅▅▅▅▅▆▆▆▆▆▆▇▇▇▇▇███</td></tr><tr><td>epoch/learning_rate</td><td>█████████████████▄▄▄▄▄▄▄▄▄▂▂▂▂▂▂▂▂▁▁▁▁▁▁</td></tr><tr><td>epoch/loss</td><td>███▇▇▇▅▅▅▅▅▅▄▄▄▃▃▃▃▃▂▂▂▂▂▂▁▁▁▁▁▁▁▁▁▁▁▁▁▁</td></tr><tr><td>epoch/lr</td><td>████████████████████▄▄▄▄▄▄▄▄▄▂▂▂▂▂▂▂▂▁▁▁</td></tr><tr><td>epoch/precision</td><td>▁▁▁▃▃▃▅▅▅▅▅▅▆▆▆▇▇▇▇▇▇▇▇▇▇▇██████████████</td></tr><tr><td>epoch/recall</td><td>▁▁▁▂▂▂▄▄▄▅▅▅▆▆▆▇▇▇▇▇▇▇▇█████████████████</td></tr><tr><td>epoch/val_accuracy</td><td>▁▁▁▄▄▄▂▂▂▂▂▂▃▃▃▃▃▄▄▄▅▅▅███▇▇▇▅▅▅▆▆▄▄▄▅▅▅</td></tr><tr><td>epoch/val_auc</td><td>▁▁▁▅▅▅▅▅▅▅▅▅▇▇▇▇▇███▇▇▇███▇▇▇▇▇▇▇▇▇▇▇▇▇▇</td></tr><tr><td>epoch/val_loss</td><td>▂▂▂▁▁▁▁▁▁▁▁▁▁▁▁▂▂▂▂▂▃▃▃▄▄▄▅▅▅▆▆▆▇▇▇▇▇███</td></tr><tr><td>epoch/val_precision</td><td>███▅▅▅▂▂▂▁▁▁▂▂▂▁▁▂▂▂▃▃▃▄▄▄▄▄▄▃▃▃▄▄▃▃▃▃▃▃</td></tr><tr><td>epoch/val_recall</td><td>▁▁▁▃▃▃▆▆▆▇▇▇▆▆▆▇▇▇▇▇▇▇▇███▇▇▇▇▇▇▆▆▇▇▇▇▇▇</td></tr></table><br/></div><div class=\"wandb-col\"><h3>Run summary:</h3><br/><table class=\"wandb\"><tr><td>epoch/accuracy</td><td>0.95195</td></tr><tr><td>epoch/auc</td><td>0.98891</td></tr><tr><td>epoch/epoch</td><td>13</td></tr><tr><td>epoch/learning_rate</td><td>1e-05</td></tr><tr><td>epoch/loss</td><td>0.20276</td></tr><tr><td>epoch/lr</td><td>1e-05</td></tr><tr><td>epoch/precision</td><td>0.95119</td></tr><tr><td>epoch/recall</td><td>0.94157</td></tr><tr><td>epoch/val_accuracy</td><td>0.61943</td></tr><tr><td>epoch/val_auc</td><td>0.63838</td></tr><tr><td>epoch/val_loss</td><td>0.7659</td></tr><tr><td>epoch/val_precision</td><td>0.58049</td></tr><tr><td>epoch/val_recall</td><td>0.53846</td></tr></table><br/></div></div>"
      ],
      "text/plain": [
       "<IPython.core.display.HTML object>"
      ]
     },
     "metadata": {},
     "output_type": "display_data"
    },
    {
     "data": {
      "text/html": [
       " View run <strong style=\"color:#cdcd00\">TMNet_ResNet</strong> at: <a href='https://wandb.ai/aistudio/Breast-Cancer-Detection-Production/runs/avk3g5il' target=\"_blank\">https://wandb.ai/aistudio/Breast-Cancer-Detection-Production/runs/avk3g5il</a><br/>Synced 6 W&B file(s), 3 media file(s), 5 artifact file(s) and 0 other file(s)"
      ],
      "text/plain": [
       "<IPython.core.display.HTML object>"
      ]
     },
     "metadata": {},
     "output_type": "display_data"
    },
    {
     "data": {
      "text/html": [
       "Find logs at: <code>./wandb/run-20240214_061835-avk3g5il/logs</code>"
      ],
      "text/plain": [
       "<IPython.core.display.HTML object>"
      ]
     },
     "metadata": {},
     "output_type": "display_data"
    },
    {
     "name": "stdout",
     "output_type": "stream",
     "text": [
      "# ================================================================================================ #\n",
      "                                           TMNet_Xception                                           \n",
      "# ------------------------------------------------------------------------------------------------ #\n",
      "Model: \"model\"\n",
      "_________________________________________________________________\n",
      " Layer (type)                Output Shape              Param #   \n",
      "=================================================================\n",
      " TMNet_Xception_input_layer   [(None, 224, 224, 3)]    0         \n",
      " (InputLayer)                                                    \n",
      "                                                                 \n",
      " tf.math.truediv (TFOpLambda  (None, 224, 224, 3)      0         \n",
      " )                                                               \n",
      "                                                                 \n",
      " tf.math.subtract (TFOpLambd  (None, 224, 224, 3)      0         \n",
      " a)                                                              \n",
      "                                                                 \n",
      " data_augmentation (Sequenti  (None, 224, 224, 3)      0         \n",
      " al)                                                             \n",
      "                                                                 \n",
      " xception (Functional)       (None, None, None, 2048)  20861480  \n",
      "                                                                 \n",
      " TMNet_Xception_global_avera  (None, 2048)             0         \n",
      " ge_pooling (GlobalAveragePo                                     \n",
      " oling2D)                                                        \n",
      "                                                                 \n",
      " TMNet_Xception_batch_normal  (None, 2048)             8192      \n",
      " ization (BatchNormalization                                     \n",
      " )                                                               \n",
      "                                                                 \n",
      " TMNet_Xception_dense_1 (Den  (None, 1024)             2098176   \n",
      " se)                                                             \n",
      "                                                                 \n",
      " TMNet_Xception_dense_2 (Den  (None, 1024)             1049600   \n",
      " se)                                                             \n",
      "                                                                 \n",
      " TMNet_Xception_output_layer  (None, 1)                1025      \n",
      "  (Dense)                                                        \n",
      "                                                                 \n",
      "=================================================================\n",
      "Total params: 24,018,473\n",
      "Trainable params: 3,152,897\n",
      "Non-trainable params: 20,865,576\n",
      "_________________________________________________________________\n",
      "# ------------------------------------------------------------------------------------------------ #\n",
      "\n",
      "\n",
      "                                            TMNetConfig                                             \n",
      "                                        Activation | sigmoid\n",
      "                                      Output Shape | 1\n",
      "                                            Dense1 | 1024\n",
      "                                            Dense2 | 1024\n",
      "\n",
      "\n",
      "# ================================================================================================ #\n"
     ]
    },
    {
     "data": {
      "application/vnd.jupyter.widget-view+json": {
       "model_id": "c27eebde23064a3d927dc3fd078fff2d",
       "version_major": 2,
       "version_minor": 0
      },
      "text/plain": [
       "VBox(children=(Label(value='Waiting for wandb.init()...\\r'), FloatProgress(value=0.011114414333294714, max=1.0…"
      ]
     },
     "metadata": {},
     "output_type": "display_data"
    },
    {
     "data": {
      "text/html": [
       "wandb version 0.16.3 is available!  To upgrade, please run:\n",
       " $ pip install wandb --upgrade"
      ],
      "text/plain": [
       "<IPython.core.display.HTML object>"
      ]
     },
     "metadata": {},
     "output_type": "display_data"
    },
    {
     "data": {
      "text/html": [
       "Tracking run with wandb version 0.16.2"
      ],
      "text/plain": [
       "<IPython.core.display.HTML object>"
      ]
     },
     "metadata": {},
     "output_type": "display_data"
    },
    {
     "data": {
      "text/html": [
       "Run data is saved locally in <code>/home/john/projects/bcd/wandb/run-20240214_081831-70fsj1k8</code>"
      ],
      "text/plain": [
       "<IPython.core.display.HTML object>"
      ]
     },
     "metadata": {},
     "output_type": "display_data"
    },
    {
     "data": {
      "text/html": [
       "Syncing run <strong><a href='https://wandb.ai/aistudio/Breast-Cancer-Detection-Production/runs/70fsj1k8' target=\"_blank\">TMNet_Xception</a></strong> to <a href='https://wandb.ai/aistudio/Breast-Cancer-Detection-Production' target=\"_blank\">Weights & Biases</a> (<a href='https://wandb.me/run' target=\"_blank\">docs</a>)<br/>"
      ],
      "text/plain": [
       "<IPython.core.display.HTML object>"
      ]
     },
     "metadata": {},
     "output_type": "display_data"
    },
    {
     "data": {
      "text/html": [
       " View project at <a href='https://wandb.ai/aistudio/Breast-Cancer-Detection-Production' target=\"_blank\">https://wandb.ai/aistudio/Breast-Cancer-Detection-Production</a>"
      ],
      "text/plain": [
       "<IPython.core.display.HTML object>"
      ]
     },
     "metadata": {},
     "output_type": "display_data"
    },
    {
     "data": {
      "text/html": [
       " View run at <a href='https://wandb.ai/aistudio/Breast-Cancer-Detection-Production/runs/70fsj1k8' target=\"_blank\">https://wandb.ai/aistudio/Breast-Cancer-Detection-Production/runs/70fsj1k8</a>"
      ],
      "text/plain": [
       "<IPython.core.display.HTML object>"
      ]
     },
     "metadata": {},
     "output_type": "display_data"
    },
    {
     "name": "stdout",
     "output_type": "stream",
     "text": [
      "Epoch 1/50\n",
      "31/31 [==============================] - ETA: 0s - loss: 0.7116 - accuracy: 0.5579 - auc: 0.5860 - precision: 0.5245 - recall: 0.4725\n",
      "Epoch 1: val_accuracy did not improve from 0.66802\n",
      "\n",
      "Epoch 1: val_accuracy did not improve from 0.66802\n",
      "\n",
      "Epoch 1: val_accuracy did not improve from 0.66802\n",
      "\n",
      "Epoch 1: val_accuracy did not improve from 0.66802\n",
      "\n",
      "Epoch 1: val_accuracy did not improve from 0.66802\n",
      "\n",
      "Epoch 1: val_accuracy did not improve from 0.63968\n",
      "\n",
      "Epoch 1: val_accuracy improved from -inf to 0.56275, saving model to models/production/TMNet_Xception-70fsj1k8.keras\n",
      "31/31 [==============================] - 218s 7s/step - loss: 0.7116 - accuracy: 0.5579 - auc: 0.5860 - precision: 0.5245 - recall: 0.4725 - val_loss: 0.6840 - val_accuracy: 0.5628 - val_auc: 0.5646 - val_precision: 0.5155 - val_recall: 0.3756 - lr: 1.0000e-04\n",
      "Epoch 2/50\n",
      "31/31 [==============================] - ETA: 0s - loss: 0.5897 - accuracy: 0.6758 - auc: 0.7486 - precision: 0.6761 - recall: 0.5371\n",
      "Epoch 2: val_accuracy did not improve from 0.66802\n",
      "\n",
      "Epoch 2: val_accuracy did not improve from 0.66802\n",
      "\n",
      "Epoch 2: val_accuracy did not improve from 0.66802\n",
      "\n",
      "Epoch 2: val_accuracy did not improve from 0.66802\n",
      "\n",
      "Epoch 2: val_accuracy did not improve from 0.66802\n",
      "\n",
      "Epoch 2: val_accuracy did not improve from 0.63968\n",
      "\n",
      "Epoch 2: val_accuracy improved from 0.56275 to 0.56883, saving model to models/production/TMNet_Xception-70fsj1k8.keras\n",
      "31/31 [==============================] - 212s 7s/step - loss: 0.5897 - accuracy: 0.6758 - auc: 0.7486 - precision: 0.6761 - recall: 0.5371 - val_loss: 0.6841 - val_accuracy: 0.5688 - val_auc: 0.6004 - val_precision: 0.5136 - val_recall: 0.6833 - lr: 1.0000e-04\n",
      "Epoch 3/50\n",
      "31/31 [==============================] - ETA: 0s - loss: 0.5099 - accuracy: 0.7638 - auc: 0.8468 - precision: 0.7595 - recall: 0.6955\n",
      "Epoch 3: val_accuracy did not improve from 0.66802\n",
      "\n",
      "Epoch 3: val_accuracy did not improve from 0.66802\n",
      "\n",
      "Epoch 3: val_accuracy did not improve from 0.66802\n",
      "\n",
      "Epoch 3: val_accuracy did not improve from 0.66802\n",
      "\n",
      "Epoch 3: val_accuracy did not improve from 0.66802\n",
      "\n",
      "Epoch 3: val_accuracy did not improve from 0.63968\n",
      "\n",
      "Epoch 3: val_accuracy improved from 0.56883 to 0.58907, saving model to models/production/TMNet_Xception-70fsj1k8.keras\n",
      "31/31 [==============================] - 213s 7s/step - loss: 0.5099 - accuracy: 0.7638 - auc: 0.8468 - precision: 0.7595 - recall: 0.6955 - val_loss: 0.6744 - val_accuracy: 0.5891 - val_auc: 0.6069 - val_precision: 0.5409 - val_recall: 0.5385 - lr: 1.0000e-04\n",
      "Epoch 4/50\n",
      "31/31 [==============================] - ETA: 0s - loss: 0.4690 - accuracy: 0.7977 - auc: 0.8751 - precision: 0.7931 - recall: 0.7449\n",
      "Epoch 4: val_accuracy did not improve from 0.66802\n",
      "\n",
      "Epoch 4: val_accuracy did not improve from 0.66802\n",
      "\n",
      "Epoch 4: val_accuracy did not improve from 0.66802\n",
      "\n",
      "Epoch 4: val_accuracy did not improve from 0.66802\n",
      "\n",
      "Epoch 4: val_accuracy did not improve from 0.66802\n",
      "\n",
      "Epoch 4: val_accuracy did not improve from 0.63968\n",
      "\n",
      "Epoch 4: val_accuracy did not improve from 0.58907\n",
      "31/31 [==============================] - 214s 7s/step - loss: 0.4690 - accuracy: 0.7977 - auc: 0.8751 - precision: 0.7931 - recall: 0.7449 - val_loss: 0.6716 - val_accuracy: 0.5749 - val_auc: 0.6081 - val_precision: 0.5276 - val_recall: 0.4751 - lr: 1.0000e-04\n",
      "Epoch 5/50\n",
      "31/31 [==============================] - ETA: 0s - loss: 0.4155 - accuracy: 0.8392 - auc: 0.9133 - precision: 0.8365 - recall: 0.7989\n",
      "Epoch 5: val_accuracy did not improve from 0.66802\n",
      "\n",
      "Epoch 5: val_accuracy did not improve from 0.66802\n",
      "\n",
      "Epoch 5: val_accuracy did not improve from 0.66802\n",
      "\n",
      "Epoch 5: val_accuracy did not improve from 0.66802\n",
      "\n",
      "Epoch 5: val_accuracy did not improve from 0.66802\n",
      "\n",
      "Epoch 5: val_accuracy did not improve from 0.63968\n",
      "\n",
      "Epoch 5: val_accuracy did not improve from 0.58907\n",
      "31/31 [==============================] - 212s 7s/step - loss: 0.4155 - accuracy: 0.8392 - auc: 0.9133 - precision: 0.8365 - recall: 0.7989 - val_loss: 0.6701 - val_accuracy: 0.5688 - val_auc: 0.6085 - val_precision: 0.5189 - val_recall: 0.4977 - lr: 1.0000e-04\n",
      "Epoch 6/50\n",
      "31/31 [==============================] - ETA: 0s - loss: 0.3804 - accuracy: 0.8513 - auc: 0.9330 - precision: 0.8565 - recall: 0.8045\n",
      "Epoch 6: val_accuracy did not improve from 0.66802\n",
      "\n",
      "Epoch 6: val_accuracy did not improve from 0.66802\n",
      "\n",
      "Epoch 6: val_accuracy did not improve from 0.66802\n",
      "\n",
      "Epoch 6: val_accuracy did not improve from 0.66802\n",
      "\n",
      "Epoch 6: val_accuracy did not improve from 0.66802\n",
      "\n",
      "Epoch 6: val_accuracy did not improve from 0.63968\n",
      "\n",
      "Epoch 6: val_accuracy improved from 0.58907 to 0.59514, saving model to models/production/TMNet_Xception-70fsj1k8.keras\n",
      "31/31 [==============================] - 213s 7s/step - loss: 0.3804 - accuracy: 0.8513 - auc: 0.9330 - precision: 0.8565 - recall: 0.8045 - val_loss: 0.6672 - val_accuracy: 0.5951 - val_auc: 0.6240 - val_precision: 0.5447 - val_recall: 0.5792 - lr: 1.0000e-04\n",
      "Epoch 7/50\n",
      "31/31 [==============================] - ETA: 0s - loss: 0.3368 - accuracy: 0.8877 - auc: 0.9527 - precision: 0.8866 - recall: 0.8607\n",
      "Epoch 7: val_accuracy did not improve from 0.66802\n",
      "\n",
      "Epoch 7: val_accuracy did not improve from 0.66802\n",
      "\n",
      "Epoch 7: val_accuracy did not improve from 0.66802\n",
      "\n",
      "Epoch 7: val_accuracy did not improve from 0.66802\n",
      "\n",
      "Epoch 7: val_accuracy did not improve from 0.66802\n",
      "\n",
      "Epoch 7: val_accuracy did not improve from 0.63968\n",
      "\n",
      "Epoch 7: val_accuracy improved from 0.59514 to 0.60121, saving model to models/production/TMNet_Xception-70fsj1k8.keras\n",
      "31/31 [==============================] - 215s 7s/step - loss: 0.3368 - accuracy: 0.8877 - auc: 0.9527 - precision: 0.8866 - recall: 0.8607 - val_loss: 0.6719 - val_accuracy: 0.6012 - val_auc: 0.6319 - val_precision: 0.5984 - val_recall: 0.3303 - lr: 1.0000e-04\n",
      "Epoch 8/50\n",
      "31/31 [==============================] - ETA: 0s - loss: 0.3159 - accuracy: 0.8852 - auc: 0.9565 - precision: 0.8815 - recall: 0.8607\n",
      "Epoch 8: val_accuracy did not improve from 0.66802\n",
      "\n",
      "Epoch 8: val_accuracy did not improve from 0.66802\n",
      "\n",
      "Epoch 8: val_accuracy did not improve from 0.66802\n",
      "\n",
      "Epoch 8: val_accuracy did not improve from 0.66802\n",
      "\n",
      "Epoch 8: val_accuracy did not improve from 0.66802\n",
      "\n",
      "Epoch 8: val_accuracy did not improve from 0.63968\n",
      "\n",
      "Epoch 8: val_accuracy did not improve from 0.60121\n",
      "31/31 [==============================] - 213s 7s/step - loss: 0.3159 - accuracy: 0.8852 - auc: 0.9565 - precision: 0.8815 - recall: 0.8607 - val_loss: 0.6644 - val_accuracy: 0.6012 - val_auc: 0.6327 - val_precision: 0.5741 - val_recall: 0.4208 - lr: 1.0000e-04\n",
      "Epoch 9/50\n",
      "31/31 [==============================] - ETA: 0s - loss: 0.2795 - accuracy: 0.9120 - auc: 0.9691 - precision: 0.9087 - recall: 0.8944\n",
      "Epoch 9: val_accuracy did not improve from 0.66802\n",
      "\n",
      "Epoch 9: val_accuracy did not improve from 0.66802\n",
      "\n",
      "Epoch 9: val_accuracy did not improve from 0.66802\n",
      "\n",
      "Epoch 9: val_accuracy did not improve from 0.66802\n",
      "\n",
      "Epoch 9: val_accuracy did not improve from 0.66802\n",
      "\n",
      "Epoch 9: val_accuracy did not improve from 0.63968\n",
      "\n",
      "Epoch 9: val_accuracy improved from 0.60121 to 0.60526, saving model to models/production/TMNet_Xception-70fsj1k8.keras\n",
      "31/31 [==============================] - 214s 7s/step - loss: 0.2795 - accuracy: 0.9120 - auc: 0.9691 - precision: 0.9087 - recall: 0.8944 - val_loss: 0.6724 - val_accuracy: 0.6053 - val_auc: 0.6353 - val_precision: 0.5756 - val_recall: 0.4480 - lr: 1.0000e-04\n",
      "Epoch 10/50\n",
      "31/31 [==============================] - ETA: 0s - loss: 0.2477 - accuracy: 0.9307 - auc: 0.9797 - precision: 0.9274 - recall: 0.9180\n",
      "Epoch 10: val_accuracy did not improve from 0.66802\n",
      "\n",
      "Epoch 10: val_accuracy did not improve from 0.66802\n",
      "\n",
      "Epoch 10: val_accuracy did not improve from 0.66802\n",
      "\n",
      "Epoch 10: val_accuracy did not improve from 0.66802\n",
      "\n",
      "Epoch 10: val_accuracy did not improve from 0.66802\n",
      "\n",
      "Epoch 10: val_accuracy did not improve from 0.63968\n",
      "\n",
      "Epoch 10: val_accuracy did not improve from 0.60526\n",
      "31/31 [==============================] - 215s 7s/step - loss: 0.2477 - accuracy: 0.9307 - auc: 0.9797 - precision: 0.9274 - recall: 0.9180 - val_loss: 0.6954 - val_accuracy: 0.5870 - val_auc: 0.6253 - val_precision: 0.5480 - val_recall: 0.4389 - lr: 1.0000e-04\n",
      "Epoch 11/50\n",
      "31/31 [==============================] - ETA: 0s - loss: 0.2299 - accuracy: 0.9312 - auc: 0.9806 - precision: 0.9226 - recall: 0.9247\n",
      "Epoch 11: ReduceLROnPlateau reducing learning rate to 4.999999873689376e-05.\n",
      "\n",
      "Epoch 11: val_accuracy did not improve from 0.66802\n",
      "\n",
      "Epoch 11: val_accuracy did not improve from 0.66802\n",
      "\n",
      "Epoch 11: val_accuracy did not improve from 0.66802\n",
      "\n",
      "Epoch 11: val_accuracy did not improve from 0.66802\n",
      "\n",
      "Epoch 11: val_accuracy did not improve from 0.66802\n",
      "\n",
      "Epoch 11: val_accuracy did not improve from 0.63968\n",
      "\n",
      "Epoch 11: val_accuracy did not improve from 0.60526\n",
      "31/31 [==============================] - 213s 7s/step - loss: 0.2299 - accuracy: 0.9312 - auc: 0.9806 - precision: 0.9226 - recall: 0.9247 - val_loss: 0.7309 - val_accuracy: 0.5972 - val_auc: 0.6355 - val_precision: 0.5821 - val_recall: 0.3529 - lr: 1.0000e-04\n",
      "Epoch 12/50\n",
      "31/31 [==============================] - ETA: 0s - loss: 0.1991 - accuracy: 0.9489 - auc: 0.9885 - precision: 0.9614 - recall: 0.9236\n",
      "Epoch 12: val_accuracy did not improve from 0.66802\n",
      "\n",
      "Epoch 12: val_accuracy did not improve from 0.66802\n",
      "\n",
      "Epoch 12: val_accuracy did not improve from 0.66802\n",
      "\n",
      "Epoch 12: val_accuracy did not improve from 0.66802\n",
      "\n",
      "Epoch 12: val_accuracy did not improve from 0.66802\n",
      "\n",
      "Epoch 12: val_accuracy did not improve from 0.63968\n",
      "\n",
      "Epoch 12: val_accuracy did not improve from 0.60526\n",
      "31/31 [==============================] - 214s 7s/step - loss: 0.1991 - accuracy: 0.9489 - auc: 0.9885 - precision: 0.9614 - recall: 0.9236 - val_loss: 0.7102 - val_accuracy: 0.6012 - val_auc: 0.6398 - val_precision: 0.5526 - val_recall: 0.5701 - lr: 5.0000e-05\n",
      "Epoch 13/50\n",
      "31/31 [==============================] - ETA: 0s - loss: 0.1732 - accuracy: 0.9600 - auc: 0.9922 - precision: 0.9541 - recall: 0.9573\n",
      "Epoch 13: val_accuracy did not improve from 0.66802\n",
      "\n",
      "Epoch 13: val_accuracy did not improve from 0.66802\n",
      "\n",
      "Epoch 13: val_accuracy did not improve from 0.66802\n",
      "\n",
      "Epoch 13: val_accuracy did not improve from 0.66802\n",
      "\n",
      "Epoch 13: val_accuracy did not improve from 0.66802\n",
      "\n",
      "Epoch 13: val_accuracy did not improve from 0.63968\n",
      "\n",
      "Epoch 13: val_accuracy improved from 0.60526 to 0.60729, saving model to models/production/TMNet_Xception-70fsj1k8.keras\n",
      "31/31 [==============================] - 215s 7s/step - loss: 0.1732 - accuracy: 0.9600 - auc: 0.9922 - precision: 0.9541 - recall: 0.9573 - val_loss: 0.7208 - val_accuracy: 0.6073 - val_auc: 0.6471 - val_precision: 0.5616 - val_recall: 0.5566 - lr: 5.0000e-05\n",
      "Epoch 14/50\n",
      "31/31 [==============================] - ETA: 0s - loss: 0.1563 - accuracy: 0.9691 - auc: 0.9958 - precision: 0.9663 - recall: 0.9652\n",
      "Epoch 14: ReduceLROnPlateau reducing learning rate to 2.499999936844688e-05.\n",
      "\n",
      "Epoch 14: val_accuracy did not improve from 0.66802\n",
      "\n",
      "Epoch 14: val_accuracy did not improve from 0.66802\n",
      "\n",
      "Epoch 14: val_accuracy did not improve from 0.66802\n",
      "\n",
      "Epoch 14: val_accuracy did not improve from 0.66802\n",
      "\n",
      "Epoch 14: val_accuracy did not improve from 0.66802\n",
      "\n",
      "Epoch 14: val_accuracy did not improve from 0.63968\n",
      "\n",
      "Epoch 14: val_accuracy did not improve from 0.60729\n",
      "31/31 [==============================] - 215s 7s/step - loss: 0.1563 - accuracy: 0.9691 - auc: 0.9958 - precision: 0.9663 - recall: 0.9652 - val_loss: 0.7528 - val_accuracy: 0.5911 - val_auc: 0.6366 - val_precision: 0.5459 - val_recall: 0.5113 - lr: 5.0000e-05\n",
      "Epoch 15/50\n",
      "31/31 [==============================] - ETA: 0s - loss: 0.1494 - accuracy: 0.9727 - auc: 0.9959 - precision: 0.9729 - recall: 0.9663\n",
      "Epoch 15: val_accuracy did not improve from 0.66802\n",
      "\n",
      "Epoch 15: val_accuracy did not improve from 0.66802\n",
      "\n",
      "Epoch 15: val_accuracy did not improve from 0.66802\n",
      "\n",
      "Epoch 15: val_accuracy did not improve from 0.66802\n",
      "\n",
      "Epoch 15: val_accuracy did not improve from 0.66802\n",
      "\n",
      "Epoch 15: val_accuracy did not improve from 0.63968\n",
      "\n",
      "Epoch 15: val_accuracy did not improve from 0.60729\n",
      "31/31 [==============================] - 214s 7s/step - loss: 0.1494 - accuracy: 0.9727 - auc: 0.9959 - precision: 0.9729 - recall: 0.9663 - val_loss: 0.7567 - val_accuracy: 0.5931 - val_auc: 0.6418 - val_precision: 0.5446 - val_recall: 0.5520 - lr: 2.5000e-05\n",
      "Epoch 16/50\n",
      "31/31 [==============================] - ETA: 0s - loss: 0.1429 - accuracy: 0.9732 - auc: 0.9961 - precision: 0.9740 - recall: 0.9663\n",
      "Epoch 16: val_accuracy did not improve from 0.66802\n",
      "\n",
      "Epoch 16: val_accuracy did not improve from 0.66802\n",
      "\n",
      "Epoch 16: val_accuracy did not improve from 0.66802\n",
      "\n",
      "Epoch 16: val_accuracy did not improve from 0.66802\n",
      "\n",
      "Epoch 16: val_accuracy did not improve from 0.66802\n",
      "\n",
      "Epoch 16: val_accuracy did not improve from 0.63968\n",
      "\n",
      "Epoch 16: val_accuracy improved from 0.60729 to 0.61336, saving model to models/production/TMNet_Xception-70fsj1k8.keras\n",
      "31/31 [==============================] - 216s 7s/step - loss: 0.1429 - accuracy: 0.9732 - auc: 0.9961 - precision: 0.9740 - recall: 0.9663 - val_loss: 0.7765 - val_accuracy: 0.6134 - val_auc: 0.6416 - val_precision: 0.5664 - val_recall: 0.5792 - lr: 2.5000e-05\n",
      "Epoch 17/50\n",
      "31/31 [==============================] - ETA: 0s - loss: 0.1380 - accuracy: 0.9782 - auc: 0.9965 - precision: 0.9796 - recall: 0.9719\n",
      "Epoch 17: ReduceLROnPlateau reducing learning rate to 1.249999968422344e-05.\n",
      "\n",
      "Epoch 17: val_accuracy did not improve from 0.66802\n",
      "\n",
      "Epoch 17: val_accuracy did not improve from 0.66802\n",
      "\n",
      "Epoch 17: val_accuracy did not improve from 0.66802\n",
      "\n",
      "Epoch 17: val_accuracy did not improve from 0.66802\n",
      "\n",
      "Epoch 17: val_accuracy did not improve from 0.66802\n",
      "\n",
      "Epoch 17: val_accuracy did not improve from 0.63968\n",
      "\n",
      "Epoch 17: val_accuracy did not improve from 0.61336\n",
      "31/31 [==============================] - 213s 7s/step - loss: 0.1380 - accuracy: 0.9782 - auc: 0.9965 - precision: 0.9796 - recall: 0.9719 - val_loss: 0.8011 - val_accuracy: 0.5992 - val_auc: 0.6436 - val_precision: 0.5481 - val_recall: 0.5928 - lr: 2.5000e-05\n",
      "Epoch 18/50\n",
      "31/31 [==============================] - ETA: 0s - loss: 0.1309 - accuracy: 0.9808 - auc: 0.9977 - precision: 0.9830 - recall: 0.9742Restoring model weights from the end of the best epoch: 8.\n",
      "\n",
      "Epoch 18: val_accuracy did not improve from 0.66802\n",
      "\n",
      "Epoch 18: val_accuracy did not improve from 0.66802\n",
      "\n",
      "Epoch 18: val_accuracy did not improve from 0.66802\n",
      "\n",
      "Epoch 18: val_accuracy did not improve from 0.66802\n",
      "\n",
      "Epoch 18: val_accuracy did not improve from 0.66802\n",
      "\n",
      "Epoch 18: val_accuracy did not improve from 0.63968\n",
      "\n",
      "Epoch 18: val_accuracy improved from 0.61336 to 0.61538, saving model to models/production/TMNet_Xception-70fsj1k8.keras\n",
      "31/31 [==============================] - 214s 7s/step - loss: 0.1309 - accuracy: 0.9808 - auc: 0.9977 - precision: 0.9830 - recall: 0.9742 - val_loss: 0.8014 - val_accuracy: 0.6154 - val_auc: 0.6453 - val_precision: 0.5683 - val_recall: 0.5837 - lr: 1.2500e-05\n",
      "Epoch 18: early stopping\n"
     ]
    },
    {
     "name": "stderr",
     "output_type": "stream",
     "text": [
      "\u001b[34m\u001b[1mwandb\u001b[0m: Waiting for artifact run-70fsj1k8-TMNet_Xception-70fsj1k8.keras to be committed...\n"
     ]
    },
    {
     "data": {
      "application/vnd.jupyter.widget-view+json": {
       "model_id": "5e52fc663e374d34a9d43dba101fca68",
       "version_major": 2,
       "version_minor": 0
      },
      "text/plain": [
       "VBox(children=(Label(value='2.457 MB of 231.934 MB uploaded\\r'), FloatProgress(value=0.010591655435450174, max…"
      ]
     },
     "metadata": {},
     "output_type": "display_data"
    },
    {
     "name": "stderr",
     "output_type": "stream",
     "text": [
      "\n",
      "\u001b[34m\u001b[1mwandb\u001b[0m: Committed artifact aistudio/Breast-Cancer-Detection-Production/run-70fsj1k8-TMNet_Xception-70fsj1k8.keras:v0\n",
      "wandb: WARNING Source type is set to 'repo' but some required information is missing from the environment. A job will not be created from this run. See https://docs.wandb.ai/guides/launch/create-job\n"
     ]
    },
    {
     "data": {
      "text/html": [
       "<style>\n",
       "    table.wandb td:nth-child(1) { padding: 0 10px; text-align: left ; width: auto;} td:nth-child(2) {text-align: left ; width: 100%}\n",
       "    .wandb-row { display: flex; flex-direction: row; flex-wrap: wrap; justify-content: flex-start; width: 100% }\n",
       "    .wandb-col { display: flex; flex-direction: column; flex-basis: 100%; flex: 1; padding: 10px; }\n",
       "    </style>\n",
       "<div class=\"wandb-row\"><div class=\"wandb-col\"><h3>Run history:</h3><br/><table class=\"wandb\"><tr><td>epoch/accuracy</td><td>▁▁▁▃▃▄▄▅▅▆▆▆▆▆▆▆▆▆▇▇▇▇▇▇▇▇▇█████████████</td></tr><tr><td>epoch/auc</td><td>▁▁▁▄▄▅▅▆▆▇▇▇▇▇▇▇▇▇██████████████████████</td></tr><tr><td>epoch/epoch</td><td>▁▁▁▁▁▂▂▂▂▃▃▃▃▃▃▃▄▄▄▄▅▅▅▅▅▆▆▆▆▆▆▇▇▇▇█████</td></tr><tr><td>epoch/learning_rate</td><td>██████████████████████▄▄▄▄▄▄▄▂▂▂▂▂▂▁▁▁▁▁</td></tr><tr><td>epoch/loss</td><td>███▇▇▆▆▅▅▄▄▄▄▄▃▃▃▃▃▃▂▂▂▂▂▂▂▂▂▁▁▁▁▁▁▁▁▁▁▁</td></tr><tr><td>epoch/lr</td><td>█████████████████████████▄▄▄▄▄▄▂▂▂▂▂▂▂▁▁</td></tr><tr><td>epoch/precision</td><td>▁▁▁▃▃▅▅▅▅▆▆▆▆▆▇▇▆▆▇▇▇▇▇▇▇███████████████</td></tr><tr><td>epoch/recall</td><td>▁▁▁▂▂▄▄▅▅▆▆▆▆▆▆▆▆▆▇▇▇▇▇▇▇▇▇█████████████</td></tr><tr><td>epoch/val_accuracy</td><td>▁▁▁▂▂▅▅▃▃▂▂▅▅▅▆▆▆▆▇▇▄▄▆▆▆▆▆▇▇▅▅▅▅██▆▆▆██</td></tr><tr><td>epoch/val_auc</td><td>▁▁▁▄▄▅▅▅▅▅▅▆▆▆▇▇▇▇▇▇▆▆▇▇▇▇▇██▇▇█████████</td></tr><tr><td>epoch/val_loss</td><td>▂▂▂▂▂▂▂▁▁▁▁▁▁▁▁▁▁▁▁▁▃▃▄▄▄▃▃▄▄▆▆▆▆▇▇█████</td></tr><tr><td>epoch/val_precision</td><td>▁▁▁▁▁▃▃▂▂▁▁▄▄▄██▆▆▆▆▄▄▇▇▇▄▄▅▅▄▄▄▄▅▅▄▄▄▆▆</td></tr><tr><td>epoch/val_recall</td><td>▂▂▂██▅▅▄▄▄▄▆▆▆▁▁▃▃▃▃▃▃▁▁▁▆▆▅▅▅▅▅▅▆▆▆▆▆▆▆</td></tr></table><br/></div><div class=\"wandb-col\"><h3>Run summary:</h3><br/><table class=\"wandb\"><tr><td>epoch/accuracy</td><td>0.98078</td></tr><tr><td>epoch/auc</td><td>0.99769</td></tr><tr><td>epoch/epoch</td><td>17</td></tr><tr><td>epoch/learning_rate</td><td>1e-05</td></tr><tr><td>epoch/loss</td><td>0.13093</td></tr><tr><td>epoch/lr</td><td>1e-05</td></tr><tr><td>epoch/precision</td><td>0.98299</td></tr><tr><td>epoch/recall</td><td>0.97416</td></tr><tr><td>epoch/val_accuracy</td><td>0.61538</td></tr><tr><td>epoch/val_auc</td><td>0.6453</td></tr><tr><td>epoch/val_loss</td><td>0.80141</td></tr><tr><td>epoch/val_precision</td><td>0.56828</td></tr><tr><td>epoch/val_recall</td><td>0.58371</td></tr></table><br/></div></div>"
      ],
      "text/plain": [
       "<IPython.core.display.HTML object>"
      ]
     },
     "metadata": {},
     "output_type": "display_data"
    },
    {
     "data": {
      "text/html": [
       " View run <strong style=\"color:#cdcd00\">TMNet_Xception</strong> at: <a href='https://wandb.ai/aistudio/Breast-Cancer-Detection-Production/runs/70fsj1k8' target=\"_blank\">https://wandb.ai/aistudio/Breast-Cancer-Detection-Production/runs/70fsj1k8</a><br/>Synced 6 W&B file(s), 3 media file(s), 5 artifact file(s) and 0 other file(s)"
      ],
      "text/plain": [
       "<IPython.core.display.HTML object>"
      ]
     },
     "metadata": {},
     "output_type": "display_data"
    },
    {
     "data": {
      "text/html": [
       "Find logs at: <code>./wandb/run-20240214_081831-70fsj1k8/logs</code>"
      ],
      "text/plain": [
       "<IPython.core.display.HTML object>"
      ]
     },
     "metadata": {},
     "output_type": "display_data"
    }
   ],
   "source": [
    "for base_model in base_models:\n",
    "    network = factory.create(base_model=base_model)\n",
    "    experiment = FeatureExtractionExperiment(network=network, config=config, optimizer=optimizer, repo=repo, callbacks=callbacks, metrics=metrics, tags=[network.architecture, base_model.name], force=False)\n",
    "    experiment.run(train_ds=train_ds, val_ds=val_ds)\n"
   ]
  }
 ],
 "metadata": {
  "kernelspec": {
   "display_name": "bcd",
   "language": "python",
   "name": "python3"
  },
  "language_info": {
   "codemirror_mode": {
    "name": "ipython",
    "version": 3
   },
   "file_extension": ".py",
   "mimetype": "text/x-python",
   "name": "python",
   "nbconvert_exporter": "python",
   "pygments_lexer": "ipython3",
   "version": "3.10.12"
  }
 },
 "nbformat": 4,
 "nbformat_minor": 2
}
