{
 "cells": [
  {
   "cell_type": "markdown",
   "metadata": {},
   "source": [
    "# Feature Extraction Experiments"
   ]
  },
  {
   "cell_type": "code",
   "execution_count": 1,
   "metadata": {},
   "outputs": [],
   "source": [
    "import os\n",
    "import pathlib\n",
    "from dataclasses import dataclass\n",
    "import tensorflow as tf\n",
    "import pandas as pd\n",
    "import wandb\n",
    "\n",
    "from bcd.model.network.shainnet import ShainNetConfig, ShainNetFactory\n",
    "from bcd.model.repo import ModelRepo\n",
    "from bcd.model.base import DenseNet\n",
    "from bcd.model.experiment import Experiment\n",
    "\n",
    "pd.set_option('display.max_rows',999)"
   ]
  },
  {
   "cell_type": "markdown",
   "metadata": {},
   "source": [
    "## Configuration"
   ]
  },
  {
   "cell_type": "code",
   "execution_count": 2,
   "metadata": {},
   "outputs": [
    {
     "name": "stdout",
     "output_type": "stream",
     "text": [
      "env: \"WANDB_NOTEBOOK_NAME\"=\"experiments.ipynb\"\n"
     ]
    }
   ],
   "source": [
    "# Project Parameters\n",
    "%env \"WANDB_NOTEBOOK_NAME\" \"experiments.ipynb\"\n",
    "datasets = {\"Development\":{\"name\": \"CBIS-DDSM_10\",\"directory\": \"data/image/1_final/training_10/training/\"},\n",
    "            \"Stage\": {\"name\": \"CBIS-DDSM_30\",\"directory\": \"data/image/1_final/training_30/training/\"},\n",
    "            \"Production\": {\"name\": \"CBIS-DDSM\",\"directory\": \"data/image/1_final/training/training/\"},\n",
    "            }\n",
    "mode = \"Development\"\n",
    "project = f\"Breast-Cancer-Detection-{mode}\" \n",
    "\n",
    "# Experiment Parameters\n",
    "force = False  # Whether to retrain if the model and config already exists.\n",
    "\n",
    "# Training Config\n",
    "metrics = ['accuracy', tf.keras.metrics.AUC(), tf.keras.metrics.Precision(), tf.keras.metrics.Recall()]\n",
    "loss = \"binary_crossentropy\"\n",
    "epochs = 100 # Maximum number of epochs to train, subject to any early stopping callback.\n",
    "learning_rate = [1e-3, 1e-4, 1e-5]\n",
    "training_config = {\"loss\": loss, \"epochs\": epochs, \"learning_rate\": learning_rate}\n",
    "\n",
    "# Network Config\n",
    "activation = \"sigmoid\" # Network configuration common to all networks.\n",
    "    \n",
    "# Fine Tuning Config\n",
    "ft_fine_tune = False\n",
    "ft_iceblocks = 10 # Number of blocks of layers to potentially thaw.\n",
    "ft_sessions= 5  # Number of iceblocks to actually unthaw\n",
    "ft_learning_rate_init = 1e-5 # Learning rate at the beginning of fine tuning.\n",
    "ft_learning_rate_end = 1e-8 # The lowest learning rate subject to learning rate decay during fine tuning.\n",
    "ft_epochs_init: int = 5  # Number of epochs to train first session\n",
    "ft_epochs_end: int = 50  # Number of epochs to train last session.\n",
    "fine_tune_config = {\"fine_tune\": ft_fine_tune, \"iceblocks\": ft_iceblocks, \"sessions\": ft_sessions, \n",
    "                    \"learning_rate_init\": ft_learning_rate_init, \n",
    "                    \"learning_rate_end\": ft_learning_rate_end,\n",
    "                    \"epochs_init\": ft_epochs_init,\n",
    "                    \"epochs_end\": ft_epochs_end,\n",
    "                    }\n",
    "\n",
    "# Dataset params\n",
    "dataset = datasets[mode][\"name\"]\n",
    "batch_size = 64 if mode == \"Production\" else 32\n",
    "input_shape = (224,224,3)\n",
    "output_shape = 1\n",
    "train_dir = pathlib.Path(datasets[mode][\"directory\"]).with_suffix('') \n",
    "dataset_config = {\"dataset\": dataset, \"batch_size\": batch_size, \"input_shape\": input_shape, \"output_shape\": output_shape}\n",
    "\n",
    "# Checkpoint Config\n",
    "ckpt_monitor = \"val_accuracy\"\n",
    "ckpt_verbose = 1\n",
    "ckpt_save_best_only = True\n",
    "ckpt_save_weights_only = False\n",
    "ckpt_mode = \"auto\"\n",
    "checkpoint_config = {\"monitor\": ckpt_monitor, \"verbose\": ckpt_verbose, \"save_best_only\": ckpt_save_best_only, \"mode\": ckpt_mode}\n",
    "\n",
    "# Early stop parameters \n",
    "es_min_delta = 0.0001\n",
    "es_monitor = \"val_loss\"  # Monitor validation loss for early stopping\n",
    "es_patience = 10  # The number of epochs for which lack of improvement is tolerated \n",
    "es_restore_best_weights = True  # Returns the best weights rather than the weights at the last epoch.\n",
    "es_verbose = 1\n",
    "early_stop_config = {\"min_delta\": es_min_delta, \"monitor\": es_monitor, \"patience\": es_patience, \n",
    "                     \"restore_best_weights\": es_restore_best_weights, \"verbose\": es_verbose}\n",
    "\n",
    "# Reduce LR on Plateau Parameters\n",
    "rlr_monitor = \"val_loss\"\n",
    "rlr_factor = 0.5\n",
    "rlr_patience = 3\n",
    "rlr_verbose = 1\n",
    "rlr_mode = \"auto\"\n",
    "rlr_min_delta = 1e-4\n",
    "rlr_min_lr=1e-10\n",
    "learning_rate_config = {\"monitor\": rlr_monitor, \"factor\": rlr_factor, \"patience\": rlr_patience, \"verbose\": \n",
    "                        rlr_verbose, \"mode\": rlr_mode, \"min_delta\": rlr_min_delta, \"min_lr\": rlr_min_lr}\n",
    "\n"
   ]
  },
  {
   "cell_type": "markdown",
   "metadata": {},
   "source": [
    "## Experiment Config"
   ]
  },
  {
   "cell_type": "code",
   "execution_count": 3,
   "metadata": {},
   "outputs": [],
   "source": [
    "config = {\n",
    "    \"project\": project,       \n",
    "    \"mode\": mode,\n",
    "    \"dataset_config\": dataset_config,\n",
    "    \"fine_tune_config\": fine_tune_config,\n",
    "    \"training_config\": training_config,\n",
    "    \"checkpoint_config\": checkpoint_config,\n",
    "    \"early_stop_config\": early_stop_config,\n",
    "    \"learning_rate_config\": learning_rate_config,\n",
    "    \n",
    "}"
   ]
  },
  {
   "cell_type": "markdown",
   "metadata": {},
   "source": [
    "## Load Data"
   ]
  },
  {
   "cell_type": "code",
   "execution_count": 4,
   "metadata": {},
   "outputs": [
    {
     "name": "stdout",
     "output_type": "stream",
     "text": [
      "Found 276 files belonging to 2 classes.\n",
      "Using 221 files for training.\n",
      "Found 276 files belonging to 2 classes.\n",
      "Using 55 files for validation.\n"
     ]
    }
   ],
   "source": [
    "# Training DataSet (10%)\n",
    "train_ds = tf.keras.utils.image_dataset_from_directory(\n",
    "    train_dir,\n",
    "    labels=\"inferred\",\n",
    "    color_mode=\"rgb\",\n",
    "    image_size=(224,224),\n",
    "    shuffle=True,\n",
    "    validation_split=0.2,\n",
    "    subset='training',\n",
    "    interpolation=\"bilinear\",\n",
    "    seed=123,\n",
    "    batch_size=batch_size)\n",
    "\n",
    "# Validation DataSet (10%)\n",
    "val_ds = tf.keras.utils.image_dataset_from_directory(\n",
    "    train_dir,\n",
    "    labels=\"inferred\",\n",
    "    color_mode=\"rgb\",\n",
    "    image_size=(224,224),\n",
    "    shuffle=True,\n",
    "    validation_split=0.2,\n",
    "    subset='validation',\n",
    "    interpolation=\"bilinear\",\n",
    "    seed=123,\n",
    "    batch_size=batch_size)"
   ]
  },
  {
   "cell_type": "code",
   "execution_count": 5,
   "metadata": {},
   "outputs": [
    {
     "data": {
      "text/plain": [
       "['benign', 'malignant']"
      ]
     },
     "execution_count": 5,
     "metadata": {},
     "output_type": "execute_result"
    }
   ],
   "source": [
    "val_ds.class_names"
   ]
  },
  {
   "cell_type": "markdown",
   "metadata": {},
   "source": [
    "## Callbacks"
   ]
  },
  {
   "cell_type": "code",
   "execution_count": 6,
   "metadata": {},
   "outputs": [],
   "source": [
    "early_stop_callback = tf.keras.callbacks.EarlyStopping(monitor=es_monitor, \n",
    "                                                       min_delta=es_min_delta,\n",
    "                                                       patience=es_patience, \n",
    "                                                       restore_best_weights=es_restore_best_weights,\n",
    "                                                       verbose=es_verbose)\n",
    "\n",
    "reduce_lr_callback = tf.keras.callbacks.ReduceLROnPlateau(monitor=rlr_monitor,\n",
    "                                                          factor=rlr_factor,\n",
    "                                                          patience=rlr_patience,\n",
    "                                                          verbose=rlr_verbose,\n",
    "                                                          mode=rlr_mode,\n",
    "                                                          min_delta=rlr_min_delta,\n",
    "                                                          min_lr=rlr_min_lr)\n",
    "callbacks = [early_stop_callback, reduce_lr_callback]"
   ]
  },
  {
   "cell_type": "markdown",
   "metadata": {},
   "source": [
    "## Dependencies"
   ]
  },
  {
   "cell_type": "code",
   "execution_count": 9,
   "metadata": {},
   "outputs": [],
   "source": [
    "repo = ModelRepo(mode = mode, project=project)\n",
    "optimizer=tf.keras.optimizers.Adam"
   ]
  },
  {
   "cell_type": "markdown",
   "metadata": {},
   "source": [
    "## ShainNet "
   ]
  },
  {
   "cell_type": "code",
   "execution_count": 10,
   "metadata": {},
   "outputs": [],
   "source": [
    "network_config = ShainNetConfig(activation=activation)\n",
    "factory = ShainNetFactory(config=network_config, input_shape=input_shape, output_shape=output_shape, activation=activation)\n",
    "densenet = factory.create(base_model=DenseNet())\n"
   ]
  },
  {
   "cell_type": "markdown",
   "metadata": {},
   "source": [
    "## ShainNet\n",
    "Instantiate and run the project."
   ]
  },
  {
   "cell_type": "code",
   "execution_count": 11,
   "metadata": {},
   "outputs": [
    {
     "name": "stderr",
     "output_type": "stream",
     "text": [
      "Failed to detect the name of this notebook, you can set it manually with the WANDB_NOTEBOOK_NAME environment variable to enable code saving.\n",
      "\u001b[34m\u001b[1mwandb\u001b[0m: Currently logged in as: \u001b[33maistudio\u001b[0m. Use \u001b[1m`wandb login --relogin`\u001b[0m to force relogin\n"
     ]
    },
    {
     "data": {
      "text/plain": [
       "True"
      ]
     },
     "execution_count": 11,
     "metadata": {},
     "output_type": "execute_result"
    }
   ],
   "source": [
    "wandb.login()"
   ]
  },
  {
   "cell_type": "code",
   "execution_count": 12,
   "metadata": {},
   "outputs": [],
   "source": [
    "def sweep(config):\n",
    "    experiment = Experiment(network=densenet, config=config, repo=repo, \n",
    "                        callbacks=callbacks, metrics=metrics, \n",
    "                        optimizer=optimizer, force=force)\n",
    "    return experiment.run(train_ds=train_ds, val_ds=val_ds)"
   ]
  },
  {
   "cell_type": "code",
   "execution_count": 13,
   "metadata": {},
   "outputs": [],
   "source": [
    "sweep_config = {\"method\": \"random\"}\n",
    "metric = {\"name\": \"val_accuracy\", \"goal\": \"maximize\"}\n",
    "sweep_config[\"metric\"] = metric"
   ]
  },
  {
   "cell_type": "code",
   "execution_count": 14,
   "metadata": {},
   "outputs": [],
   "source": [
    "parameters = {\"learning_rate\": {\"values\": [1e-3, 1e-4, 1e-5]}}\n",
    "sweep_config[\"parameters\"] = parameters"
   ]
  },
  {
   "cell_type": "code",
   "execution_count": 15,
   "metadata": {},
   "outputs": [],
   "source": [
    "def main():\n",
    "    wandb.init(project=\"Breast-Cancer-Detection-Development\")\n",
    "    score = sweep(wandb.config)\n",
    "    wandb.log({\"score\": score})"
   ]
  },
  {
   "cell_type": "code",
   "execution_count": 16,
   "metadata": {},
   "outputs": [
    {
     "name": "stdout",
     "output_type": "stream",
     "text": [
      "{'method': 'random',\n",
      " 'metric': {'goal': 'maximize', 'name': 'val_accuracy'},\n",
      " 'parameters': {'learning_rate': {'values': [0.001, 0.0001, 1e-05]}}}\n"
     ]
    }
   ],
   "source": [
    "import pprint\n",
    "pprint.pprint(sweep_config)"
   ]
  },
  {
   "cell_type": "code",
   "execution_count": 17,
   "metadata": {},
   "outputs": [
    {
     "name": "stdout",
     "output_type": "stream",
     "text": [
      "Create sweep with ID: 9pctusqn\n",
      "Sweep URL: https://wandb.ai/aistudio/Breast-Cancer-Detection-Development/sweeps/9pctusqn\n"
     ]
    },
    {
     "name": "stderr",
     "output_type": "stream",
     "text": [
      "\u001b[34m\u001b[1mwandb\u001b[0m: Agent Starting Run: 42ogv9fq with config:\n",
      "\u001b[34m\u001b[1mwandb\u001b[0m: \tlearning_rate: 1e-05\n",
      "Failed to detect the name of this notebook, you can set it manually with the WANDB_NOTEBOOK_NAME environment variable to enable code saving.\n",
      "\u001b[34m\u001b[1mwandb\u001b[0m: \u001b[33mWARNING\u001b[0m Ignored wandb.init() arg project when running a sweep.\n"
     ]
    },
    {
     "data": {
      "text/html": [
       "wandb version 0.16.3 is available!  To upgrade, please run:\n",
       " $ pip install wandb --upgrade"
      ],
      "text/plain": [
       "<IPython.core.display.HTML object>"
      ]
     },
     "metadata": {},
     "output_type": "display_data"
    },
    {
     "data": {
      "text/html": [
       "Tracking run with wandb version 0.16.2"
      ],
      "text/plain": [
       "<IPython.core.display.HTML object>"
      ]
     },
     "metadata": {},
     "output_type": "display_data"
    },
    {
     "data": {
      "text/html": [
       "Run data is saved locally in <code>/home/john/projects/bcd/wandb/run-20240212_060922-42ogv9fq</code>"
      ],
      "text/plain": [
       "<IPython.core.display.HTML object>"
      ]
     },
     "metadata": {},
     "output_type": "display_data"
    },
    {
     "data": {
      "text/html": [
       "Syncing run <strong><a href='https://wandb.ai/aistudio/Breast-Cancer-Detection-Development/runs/42ogv9fq' target=\"_blank\">crisp-sweep-1</a></strong> to <a href='https://wandb.ai/aistudio/Breast-Cancer-Detection-Development' target=\"_blank\">Weights & Biases</a> (<a href='https://wandb.me/run' target=\"_blank\">docs</a>)<br/>Sweep page: <a href='https://wandb.ai/aistudio/Breast-Cancer-Detection-Development/sweeps/9pctusqn' target=\"_blank\">https://wandb.ai/aistudio/Breast-Cancer-Detection-Development/sweeps/9pctusqn</a>"
      ],
      "text/plain": [
       "<IPython.core.display.HTML object>"
      ]
     },
     "metadata": {},
     "output_type": "display_data"
    },
    {
     "data": {
      "text/html": [
       " View project at <a href='https://wandb.ai/aistudio/Breast-Cancer-Detection-Development' target=\"_blank\">https://wandb.ai/aistudio/Breast-Cancer-Detection-Development</a>"
      ],
      "text/plain": [
       "<IPython.core.display.HTML object>"
      ]
     },
     "metadata": {},
     "output_type": "display_data"
    },
    {
     "data": {
      "text/html": [
       " View sweep at <a href='https://wandb.ai/aistudio/Breast-Cancer-Detection-Development/sweeps/9pctusqn' target=\"_blank\">https://wandb.ai/aistudio/Breast-Cancer-Detection-Development/sweeps/9pctusqn</a>"
      ],
      "text/plain": [
       "<IPython.core.display.HTML object>"
      ]
     },
     "metadata": {},
     "output_type": "display_data"
    },
    {
     "data": {
      "text/html": [
       " View run at <a href='https://wandb.ai/aistudio/Breast-Cancer-Detection-Development/runs/42ogv9fq' target=\"_blank\">https://wandb.ai/aistudio/Breast-Cancer-Detection-Development/runs/42ogv9fq</a>"
      ],
      "text/plain": [
       "<IPython.core.display.HTML object>"
      ]
     },
     "metadata": {},
     "output_type": "display_data"
    },
    {
     "data": {
      "application/vnd.jupyter.widget-view+json": {
       "model_id": "704cdf427769434ca642d230b21ecd3b",
       "version_major": 2,
       "version_minor": 0
      },
      "text/plain": [
       "VBox(children=(Label(value='0.021 MB of 0.021 MB uploaded\\r'), FloatProgress(value=1.0, max=1.0)))"
      ]
     },
     "metadata": {},
     "output_type": "display_data"
    },
    {
     "data": {
      "text/html": [
       " View run <strong style=\"color:#cdcd00\">crisp-sweep-1</strong> at: <a href='https://wandb.ai/aistudio/Breast-Cancer-Detection-Development/runs/42ogv9fq' target=\"_blank\">https://wandb.ai/aistudio/Breast-Cancer-Detection-Development/runs/42ogv9fq</a><br/>Synced 5 W&B file(s), 0 media file(s), 0 artifact file(s) and 0 other file(s)"
      ],
      "text/plain": [
       "<IPython.core.display.HTML object>"
      ]
     },
     "metadata": {},
     "output_type": "display_data"
    },
    {
     "data": {
      "text/html": [
       "Find logs at: <code>./wandb/run-20240212_060922-42ogv9fq/logs</code>"
      ],
      "text/plain": [
       "<IPython.core.display.HTML object>"
      ]
     },
     "metadata": {},
     "output_type": "display_data"
    },
    {
     "name": "stderr",
     "output_type": "stream",
     "text": [
      "Run 42ogv9fq errored: KeyError('project')\n",
      "\u001b[34m\u001b[1mwandb\u001b[0m: \u001b[32m\u001b[41mERROR\u001b[0m Run 42ogv9fq errored: KeyError('project')\n",
      "\u001b[34m\u001b[1mwandb\u001b[0m: Agent Starting Run: spq330cr with config:\n",
      "\u001b[34m\u001b[1mwandb\u001b[0m: \tlearning_rate: 0.0001\n",
      "Failed to detect the name of this notebook, you can set it manually with the WANDB_NOTEBOOK_NAME environment variable to enable code saving.\n",
      "\u001b[34m\u001b[1mwandb\u001b[0m: \u001b[33mWARNING\u001b[0m Ignored wandb.init() arg project when running a sweep.\n"
     ]
    },
    {
     "data": {
      "text/html": [
       "wandb version 0.16.3 is available!  To upgrade, please run:\n",
       " $ pip install wandb --upgrade"
      ],
      "text/plain": [
       "<IPython.core.display.HTML object>"
      ]
     },
     "metadata": {},
     "output_type": "display_data"
    },
    {
     "data": {
      "text/html": [
       "Tracking run with wandb version 0.16.2"
      ],
      "text/plain": [
       "<IPython.core.display.HTML object>"
      ]
     },
     "metadata": {},
     "output_type": "display_data"
    },
    {
     "data": {
      "text/html": [
       "Run data is saved locally in <code>/home/john/projects/bcd/wandb/run-20240212_060943-spq330cr</code>"
      ],
      "text/plain": [
       "<IPython.core.display.HTML object>"
      ]
     },
     "metadata": {},
     "output_type": "display_data"
    },
    {
     "data": {
      "text/html": [
       "Syncing run <strong><a href='https://wandb.ai/aistudio/Breast-Cancer-Detection-Development/runs/spq330cr' target=\"_blank\">elated-sweep-2</a></strong> to <a href='https://wandb.ai/aistudio/Breast-Cancer-Detection-Development' target=\"_blank\">Weights & Biases</a> (<a href='https://wandb.me/run' target=\"_blank\">docs</a>)<br/>Sweep page: <a href='https://wandb.ai/aistudio/Breast-Cancer-Detection-Development/sweeps/9pctusqn' target=\"_blank\">https://wandb.ai/aistudio/Breast-Cancer-Detection-Development/sweeps/9pctusqn</a>"
      ],
      "text/plain": [
       "<IPython.core.display.HTML object>"
      ]
     },
     "metadata": {},
     "output_type": "display_data"
    },
    {
     "data": {
      "text/html": [
       " View project at <a href='https://wandb.ai/aistudio/Breast-Cancer-Detection-Development' target=\"_blank\">https://wandb.ai/aistudio/Breast-Cancer-Detection-Development</a>"
      ],
      "text/plain": [
       "<IPython.core.display.HTML object>"
      ]
     },
     "metadata": {},
     "output_type": "display_data"
    },
    {
     "data": {
      "text/html": [
       " View sweep at <a href='https://wandb.ai/aistudio/Breast-Cancer-Detection-Development/sweeps/9pctusqn' target=\"_blank\">https://wandb.ai/aistudio/Breast-Cancer-Detection-Development/sweeps/9pctusqn</a>"
      ],
      "text/plain": [
       "<IPython.core.display.HTML object>"
      ]
     },
     "metadata": {},
     "output_type": "display_data"
    },
    {
     "data": {
      "text/html": [
       " View run at <a href='https://wandb.ai/aistudio/Breast-Cancer-Detection-Development/runs/spq330cr' target=\"_blank\">https://wandb.ai/aistudio/Breast-Cancer-Detection-Development/runs/spq330cr</a>"
      ],
      "text/plain": [
       "<IPython.core.display.HTML object>"
      ]
     },
     "metadata": {},
     "output_type": "display_data"
    },
    {
     "data": {
      "application/vnd.jupyter.widget-view+json": {
       "model_id": "be7851fedaa1405fa67842f64bd37887",
       "version_major": 2,
       "version_minor": 0
      },
      "text/plain": [
       "VBox(children=(Label(value='0.021 MB of 0.021 MB uploaded\\r'), FloatProgress(value=1.0, max=1.0)))"
      ]
     },
     "metadata": {},
     "output_type": "display_data"
    },
    {
     "data": {
      "text/html": [
       " View run <strong style=\"color:#cdcd00\">elated-sweep-2</strong> at: <a href='https://wandb.ai/aistudio/Breast-Cancer-Detection-Development/runs/spq330cr' target=\"_blank\">https://wandb.ai/aistudio/Breast-Cancer-Detection-Development/runs/spq330cr</a><br/>Synced 5 W&B file(s), 0 media file(s), 0 artifact file(s) and 0 other file(s)"
      ],
      "text/plain": [
       "<IPython.core.display.HTML object>"
      ]
     },
     "metadata": {},
     "output_type": "display_data"
    },
    {
     "data": {
      "text/html": [
       "Find logs at: <code>./wandb/run-20240212_060943-spq330cr/logs</code>"
      ],
      "text/plain": [
       "<IPython.core.display.HTML object>"
      ]
     },
     "metadata": {},
     "output_type": "display_data"
    },
    {
     "name": "stderr",
     "output_type": "stream",
     "text": [
      "Run spq330cr errored: KeyError('project')\n",
      "\u001b[34m\u001b[1mwandb\u001b[0m: \u001b[32m\u001b[41mERROR\u001b[0m Run spq330cr errored: KeyError('project')\n",
      "\u001b[34m\u001b[1mwandb\u001b[0m: Agent Starting Run: hy33naky with config:\n",
      "\u001b[34m\u001b[1mwandb\u001b[0m: \tlearning_rate: 1e-05\n",
      "Failed to detect the name of this notebook, you can set it manually with the WANDB_NOTEBOOK_NAME environment variable to enable code saving.\n",
      "\u001b[34m\u001b[1mwandb\u001b[0m: \u001b[33mWARNING\u001b[0m Ignored wandb.init() arg project when running a sweep.\n"
     ]
    },
    {
     "data": {
      "text/html": [
       "wandb version 0.16.3 is available!  To upgrade, please run:\n",
       " $ pip install wandb --upgrade"
      ],
      "text/plain": [
       "<IPython.core.display.HTML object>"
      ]
     },
     "metadata": {},
     "output_type": "display_data"
    },
    {
     "data": {
      "text/html": [
       "Tracking run with wandb version 0.16.2"
      ],
      "text/plain": [
       "<IPython.core.display.HTML object>"
      ]
     },
     "metadata": {},
     "output_type": "display_data"
    },
    {
     "data": {
      "text/html": [
       "Run data is saved locally in <code>/home/john/projects/bcd/wandb/run-20240212_061003-hy33naky</code>"
      ],
      "text/plain": [
       "<IPython.core.display.HTML object>"
      ]
     },
     "metadata": {},
     "output_type": "display_data"
    },
    {
     "data": {
      "text/html": [
       "Syncing run <strong><a href='https://wandb.ai/aistudio/Breast-Cancer-Detection-Development/runs/hy33naky' target=\"_blank\">earthy-sweep-3</a></strong> to <a href='https://wandb.ai/aistudio/Breast-Cancer-Detection-Development' target=\"_blank\">Weights & Biases</a> (<a href='https://wandb.me/run' target=\"_blank\">docs</a>)<br/>Sweep page: <a href='https://wandb.ai/aistudio/Breast-Cancer-Detection-Development/sweeps/9pctusqn' target=\"_blank\">https://wandb.ai/aistudio/Breast-Cancer-Detection-Development/sweeps/9pctusqn</a>"
      ],
      "text/plain": [
       "<IPython.core.display.HTML object>"
      ]
     },
     "metadata": {},
     "output_type": "display_data"
    },
    {
     "data": {
      "text/html": [
       " View project at <a href='https://wandb.ai/aistudio/Breast-Cancer-Detection-Development' target=\"_blank\">https://wandb.ai/aistudio/Breast-Cancer-Detection-Development</a>"
      ],
      "text/plain": [
       "<IPython.core.display.HTML object>"
      ]
     },
     "metadata": {},
     "output_type": "display_data"
    },
    {
     "data": {
      "text/html": [
       " View sweep at <a href='https://wandb.ai/aistudio/Breast-Cancer-Detection-Development/sweeps/9pctusqn' target=\"_blank\">https://wandb.ai/aistudio/Breast-Cancer-Detection-Development/sweeps/9pctusqn</a>"
      ],
      "text/plain": [
       "<IPython.core.display.HTML object>"
      ]
     },
     "metadata": {},
     "output_type": "display_data"
    },
    {
     "data": {
      "text/html": [
       " View run at <a href='https://wandb.ai/aistudio/Breast-Cancer-Detection-Development/runs/hy33naky' target=\"_blank\">https://wandb.ai/aistudio/Breast-Cancer-Detection-Development/runs/hy33naky</a>"
      ],
      "text/plain": [
       "<IPython.core.display.HTML object>"
      ]
     },
     "metadata": {},
     "output_type": "display_data"
    },
    {
     "data": {
      "application/vnd.jupyter.widget-view+json": {
       "model_id": "126b847b9bf0404185e25b1042771c60",
       "version_major": 2,
       "version_minor": 0
      },
      "text/plain": [
       "VBox(children=(Label(value='0.021 MB of 0.021 MB uploaded\\r'), FloatProgress(value=1.0, max=1.0)))"
      ]
     },
     "metadata": {},
     "output_type": "display_data"
    },
    {
     "data": {
      "text/html": [
       " View run <strong style=\"color:#cdcd00\">earthy-sweep-3</strong> at: <a href='https://wandb.ai/aistudio/Breast-Cancer-Detection-Development/runs/hy33naky' target=\"_blank\">https://wandb.ai/aistudio/Breast-Cancer-Detection-Development/runs/hy33naky</a><br/>Synced 5 W&B file(s), 0 media file(s), 0 artifact file(s) and 0 other file(s)"
      ],
      "text/plain": [
       "<IPython.core.display.HTML object>"
      ]
     },
     "metadata": {},
     "output_type": "display_data"
    },
    {
     "data": {
      "text/html": [
       "Find logs at: <code>./wandb/run-20240212_061003-hy33naky/logs</code>"
      ],
      "text/plain": [
       "<IPython.core.display.HTML object>"
      ]
     },
     "metadata": {},
     "output_type": "display_data"
    },
    {
     "name": "stderr",
     "output_type": "stream",
     "text": [
      "Run hy33naky errored: KeyError('project')\n",
      "\u001b[34m\u001b[1mwandb\u001b[0m: \u001b[32m\u001b[41mERROR\u001b[0m Run hy33naky errored: KeyError('project')\n",
      "Detected 3 failed runs in the first 60 seconds, killing sweep.\n",
      "\u001b[34m\u001b[1mwandb\u001b[0m: \u001b[32m\u001b[41mERROR\u001b[0m Detected 3 failed runs in the first 60 seconds, killing sweep.\n",
      "\u001b[34m\u001b[1mwandb\u001b[0m: To disable this check set WANDB_AGENT_DISABLE_FLAPPING=true\n"
     ]
    }
   ],
   "source": [
    "sweep_id = wandb.sweep(sweep=sweep_config, project=\"Breast-Cancer-Detection-Development\")\n",
    "wandb.agent(sweep_id, function=main, count=10)"
   ]
  }
 ],
 "metadata": {
  "kernelspec": {
   "display_name": "bcd",
   "language": "python",
   "name": "python3"
  },
  "language_info": {
   "codemirror_mode": {
    "name": "ipython",
    "version": 3
   },
   "file_extension": ".py",
   "mimetype": "text/x-python",
   "name": "python",
   "nbconvert_exporter": "python",
   "pygments_lexer": "ipython3",
   "version": "3.10.12"
  }
 },
 "nbformat": 4,
 "nbformat_minor": 2
}
