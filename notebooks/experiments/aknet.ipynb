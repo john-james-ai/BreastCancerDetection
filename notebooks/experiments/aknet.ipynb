{
 "cells": [
  {
   "cell_type": "markdown",
   "metadata": {},
   "source": [
    "# AKNet"
   ]
  },
  {
   "cell_type": "code",
   "execution_count": 1,
   "metadata": {},
   "outputs": [],
   "source": [
    "import os\n",
    "import pathlib\n",
    "import tensorflow as tf\n",
    "import pandas as pd\n",
    "import wandb\n",
    "\n",
    "from bcd.model.network.base import NetworkConfig\n",
    "from bcd.model.network.aknet import AKNetConfig, AKNetFactory\n",
    "from bcd.model.repo import ExperimentRepo\n",
    "from bcd.model.pretrained import *\n",
    "from bcd.model.experiment import FeatureExtractionExperiment\n",
    "from bcd.model.config import *\n",
    "\n",
    "pd.set_option('display.max_rows',999)"
   ]
  },
  {
   "cell_type": "markdown",
   "metadata": {},
   "source": [
    "## Configuration"
   ]
  },
  {
   "cell_type": "code",
   "execution_count": 2,
   "metadata": {},
   "outputs": [
    {
     "name": "stdout",
     "output_type": "stream",
     "text": [
      "env: \"WANDB_NOTEBOOK_NAME\"=\"aknet.ipynb\"\n"
     ]
    }
   ],
   "source": [
    "# Experiment Parameters\n",
    "%env \"WANDB_NOTEBOOK_NAME\" \"aknet.ipynb\"\n",
    "mode = \"Stage\"\n",
    "force = False  # Whether to retrain if the model and config already exists.\n",
    "base_models = [DenseNet(), EfficientNet(), Inception(), InceptionResNet(), MobileNet(), ResNet(), Xception()]"
   ]
  },
  {
   "cell_type": "code",
   "execution_count": 3,
   "metadata": {},
   "outputs": [],
   "source": [
    "def create_config(network_config: NetworkConfig):\n",
    "    project_config = ProjectConfig(mode=mode)\n",
    "\n",
    "    train_config = TrainConfig(epochs=50, learning_rate=1e-4)    \n",
    "\n",
    "    dataset_config = DatasetConfig(mode=mode)\n",
    "\n",
    "    checkpoint_config = CheckPointConfig(monitor=\"val_accuracy\", verbose=1, save_best_only=True, save_weights_only=False, mode=\"auto\")\n",
    "\n",
    "    early_stop_config = EarlyStopConfig(min_delta=1e-4, monitor=\"val_loss\", patience=10, restore_best_weights=True, verbose=1)\n",
    "\n",
    "    learning_rate_schedule_config = LearningRateScheduleConfig(min_delta=1e-4, monitor=\"val_loss\", factor=0.5, patience=3, restore_best_weights=True, verbose=1, mode=\"auto\")\n",
    "\n",
    "    config = Config(project=project_config, \n",
    "                    dataset=dataset_config, \n",
    "                    train=train_config, \n",
    "                    network=network_config, \n",
    "                    checkpoint=checkpoint_config, \n",
    "                    early_stop=early_stop_config, \n",
    "                    learning_rate_schedule=learning_rate_schedule_config)\n",
    "    return config\n",
    "\n",
    "network_config = AKNetConfig(activation=\"sigmoid\", input_shape=(224,224,3), output_shape=1, dense1=2048, dropout1=0.5, dense2=1024, dropout2=0.5)\n",
    "config = create_config(network_config=network_config)"
   ]
  },
  {
   "cell_type": "markdown",
   "metadata": {},
   "source": [
    "## Load Data"
   ]
  },
  {
   "cell_type": "code",
   "execution_count": 4,
   "metadata": {},
   "outputs": [
    {
     "name": "stdout",
     "output_type": "stream",
     "text": [
      "Found 816 files belonging to 2 classes.\n",
      "Using 653 files for training.\n",
      "Found 816 files belonging to 2 classes.\n",
      "Using 163 files for validation.\n"
     ]
    }
   ],
   "source": [
    "train_dir = pathlib.Path(config.dataset.train_dir).with_suffix('') \n",
    "train_ds = tf.keras.utils.image_dataset_from_directory(\n",
    "    train_dir,\n",
    "    labels=\"inferred\",\n",
    "    color_mode=\"rgb\",\n",
    "    image_size=(224,224),\n",
    "    shuffle=True,\n",
    "    validation_split=0.2,\n",
    "    subset='training',\n",
    "    interpolation=\"bilinear\",\n",
    "    seed=123,\n",
    "    batch_size=config.dataset.batch_size)\n",
    "\n",
    "# Validation DataSet (10%)\n",
    "val_ds = tf.keras.utils.image_dataset_from_directory(\n",
    "    train_dir,\n",
    "    labels=\"inferred\",\n",
    "    color_mode=\"rgb\",\n",
    "    image_size=(224,224),\n",
    "    shuffle=True,\n",
    "    validation_split=0.2,\n",
    "    subset='validation',\n",
    "    interpolation=\"bilinear\",\n",
    "    seed=123,\n",
    "    batch_size=config.dataset.batch_size)"
   ]
  },
  {
   "cell_type": "markdown",
   "metadata": {},
   "source": [
    "## Callbacks"
   ]
  },
  {
   "cell_type": "code",
   "execution_count": 5,
   "metadata": {},
   "outputs": [],
   "source": [
    "early_stop_callback = tf.keras.callbacks.EarlyStopping(monitor=config.early_stop.monitor, \n",
    "                                                       min_delta=config.early_stop.min_delta,\n",
    "                                                       patience=config.early_stop.patience, \n",
    "                                                       restore_best_weights=config.early_stop.restore_best_weights,\n",
    "                                                       verbose=config.early_stop.verbose)\n",
    "\n",
    "reduce_lr_callback = tf.keras.callbacks.ReduceLROnPlateau(monitor=config.learning_rate_schedule.monitor,\n",
    "                                                          factor=config.learning_rate_schedule.factor,\n",
    "                                                          patience=config.learning_rate_schedule.patience,\n",
    "                                                          verbose=config.learning_rate_schedule.verbose,\n",
    "                                                          mode=config.learning_rate_schedule.mode,\n",
    "                                                          min_delta=config.learning_rate_schedule.min_delta,\n",
    "                                                          min_lr=config.learning_rate_schedule.min_lr)\n",
    "callbacks = [early_stop_callback, reduce_lr_callback]"
   ]
  },
  {
   "cell_type": "markdown",
   "metadata": {},
   "source": [
    "## Dependencies"
   ]
  },
  {
   "cell_type": "code",
   "execution_count": 6,
   "metadata": {},
   "outputs": [],
   "source": [
    "repo = ExperimentRepo(mode = mode, project=config.project.name)\n",
    "optimizer=tf.keras.optimizers.Adam\n",
    "metrics = ['accuracy', tf.keras.metrics.AUC(), tf.keras.metrics.Precision(), tf.keras.metrics.Recall()]"
   ]
  },
  {
   "cell_type": "markdown",
   "metadata": {},
   "source": [
    "## Build Factory"
   ]
  },
  {
   "cell_type": "code",
   "execution_count": 7,
   "metadata": {},
   "outputs": [],
   "source": [
    "factory = AKNetFactory(config=config.network)"
   ]
  },
  {
   "cell_type": "markdown",
   "metadata": {},
   "source": [
    "## Run Experiments"
   ]
  },
  {
   "cell_type": "code",
   "execution_count": 8,
   "metadata": {},
   "outputs": [
    {
     "name": "stdout",
     "output_type": "stream",
     "text": [
      "# ================================================================================================ #\n",
      "                                           AKNet_DenseNet                                           \n",
      "# ------------------------------------------------------------------------------------------------ #\n",
      "Model: \"model\"\n",
      "_________________________________________________________________\n",
      " Layer (type)                Output Shape              Param #   \n",
      "=================================================================\n",
      " AKNet_DenseNet_input_layer   [(None, 224, 224, 3)]    0         \n",
      " (InputLayer)                                                    \n",
      "                                                                 \n",
      " tf.math.truediv (TFOpLambda  (None, 224, 224, 3)      0         \n",
      " )                                                               \n",
      "                                                                 \n",
      " tf.nn.bias_add (TFOpLambda)  (None, 224, 224, 3)      0         \n",
      "                                                                 \n",
      " tf.math.truediv_1 (TFOpLamb  (None, 224, 224, 3)      0         \n",
      " da)                                                             \n",
      "                                                                 \n",
      " data_augmentation (Sequenti  (None, 224, 224, 3)      0         \n",
      " al)                                                             \n",
      "                                                                 \n",
      " densenet201 (Functional)    (None, None, None, 1920)  18321984  \n",
      "                                                                 \n",
      " AKNet_DenseNet_flatten (Fla  (None, 94080)            0         \n",
      " tten)                                                           \n",
      "                                                                 \n",
      " AKNet_DenseNet_dense_1 (Den  (None, 2048)             192677888 \n",
      " se)                                                             \n",
      "                                                                 \n",
      " AKNet_DenseNet_dropout_1 (D  (None, 2048)             0         \n",
      " ropout)                                                         \n",
      "                                                                 \n",
      " AKNet_DenseNet_dense_2 (Den  (None, 1024)             2098176   \n",
      " se)                                                             \n",
      "                                                                 \n",
      " AKNet_DenseNet_dropout_2 (D  (None, 1024)             0         \n",
      " ropout)                                                         \n",
      "                                                                 \n",
      " AKNet_DenseNet_output_layer  (None, 1)                1025      \n",
      "  (Dense)                                                        \n",
      "                                                                 \n",
      "=================================================================\n",
      "Total params: 213,099,073\n",
      "Trainable params: 194,777,089\n",
      "Non-trainable params: 18,321,984\n",
      "_________________________________________________________________\n",
      "# ------------------------------------------------------------------------------------------------ #\n",
      "\n",
      "\n",
      "                                            AKNetConfig                                             \n",
      "                                        Activation | sigmoid\n",
      "                                      Output Shape | 1\n",
      "                                            Dense1 | 2048\n",
      "                                          Dropout1 | 0.5\n",
      "                                            Dense2 | 1024\n",
      "                                          Dropout2 | 0.5\n",
      "\n",
      "\n",
      "# ================================================================================================ #\n",
      "WARNING:FeatureExtractionExperiment:Experiment AKNet_DenseNet already exists. Experiment aborted.\n",
      "# ================================================================================================ #\n",
      "                                         AKNet_EfficientNet                                         \n",
      "# ------------------------------------------------------------------------------------------------ #\n",
      "Model: \"model_1\"\n",
      "_________________________________________________________________\n",
      " Layer (type)                Output Shape              Param #   \n",
      "=================================================================\n",
      " AKNet_EfficientNet_input_la  [(None, 224, 224, 3)]    0         \n",
      " yer (InputLayer)                                                \n",
      "                                                                 \n",
      " data_augmentation (Sequenti  (None, 224, 224, 3)      0         \n",
      " al)                                                             \n",
      "                                                                 \n",
      " efficientnetv2-s (Functiona  (None, None, None, 1280)  20331360 \n",
      " l)                                                              \n",
      "                                                                 \n",
      " AKNet_EfficientNet_flatten   (None, 62720)            0         \n",
      " (Flatten)                                                       \n",
      "                                                                 \n",
      " AKNet_EfficientNet_dense_1   (None, 2048)             128452608 \n",
      " (Dense)                                                         \n",
      "                                                                 \n",
      " AKNet_EfficientNet_dropout_  (None, 2048)             0         \n",
      " 1 (Dropout)                                                     \n",
      "                                                                 \n",
      " AKNet_EfficientNet_dense_2   (None, 1024)             2098176   \n",
      " (Dense)                                                         \n",
      "                                                                 \n",
      " AKNet_EfficientNet_dropout_  (None, 1024)             0         \n",
      " 2 (Dropout)                                                     \n",
      "                                                                 \n",
      " AKNet_EfficientNet_output_l  (None, 1)                1025      \n",
      " ayer (Dense)                                                    \n",
      "                                                                 \n",
      "=================================================================\n",
      "Total params: 150,883,169\n",
      "Trainable params: 130,551,809\n",
      "Non-trainable params: 20,331,360\n",
      "_________________________________________________________________\n",
      "# ------------------------------------------------------------------------------------------------ #\n",
      "\n",
      "\n",
      "                                            AKNetConfig                                             \n",
      "                                        Activation | sigmoid\n",
      "                                      Output Shape | 1\n",
      "                                            Dense1 | 2048\n",
      "                                          Dropout1 | 0.5\n",
      "                                            Dense2 | 1024\n",
      "                                          Dropout2 | 0.5\n",
      "\n",
      "\n",
      "# ================================================================================================ #\n",
      "ERROR:wandb.jupyter:Failed to detect the name of this notebook, you can set it manually with the WANDB_NOTEBOOK_NAME environment variable to enable code saving.\n"
     ]
    },
    {
     "name": "stderr",
     "output_type": "stream",
     "text": [
      "\u001b[34m\u001b[1mwandb\u001b[0m: Currently logged in as: \u001b[33maistudio\u001b[0m. Use \u001b[1m`wandb login --relogin`\u001b[0m to force relogin\n"
     ]
    },
    {
     "data": {
      "application/vnd.jupyter.widget-view+json": {
       "model_id": "7f32bcd7a96448e39a7a33f7a665034c",
       "version_major": 2,
       "version_minor": 0
      },
      "text/plain": [
       "VBox(children=(Label(value='Waiting for wandb.init()...\\r'), FloatProgress(value=0.011113855433278433, max=1.0…"
      ]
     },
     "metadata": {},
     "output_type": "display_data"
    },
    {
     "data": {
      "text/html": [
       "wandb version 0.16.3 is available!  To upgrade, please run:\n",
       " $ pip install wandb --upgrade"
      ],
      "text/plain": [
       "<IPython.core.display.HTML object>"
      ]
     },
     "metadata": {},
     "output_type": "display_data"
    },
    {
     "data": {
      "text/html": [
       "Tracking run with wandb version 0.16.2"
      ],
      "text/plain": [
       "<IPython.core.display.HTML object>"
      ]
     },
     "metadata": {},
     "output_type": "display_data"
    },
    {
     "data": {
      "text/html": [
       "Run data is saved locally in <code>/home/john/projects/bcd/wandb/run-20240215_072832-vij64dxe</code>"
      ],
      "text/plain": [
       "<IPython.core.display.HTML object>"
      ]
     },
     "metadata": {},
     "output_type": "display_data"
    },
    {
     "data": {
      "text/html": [
       "Syncing run <strong><a href='https://wandb.ai/aistudio/Breast-Cancer-Detection-Stage/runs/vij64dxe' target=\"_blank\">AKNet_EfficientNet</a></strong> to <a href='https://wandb.ai/aistudio/Breast-Cancer-Detection-Stage' target=\"_blank\">Weights & Biases</a> (<a href='https://wandb.me/run' target=\"_blank\">docs</a>)<br/>"
      ],
      "text/plain": [
       "<IPython.core.display.HTML object>"
      ]
     },
     "metadata": {},
     "output_type": "display_data"
    },
    {
     "data": {
      "text/html": [
       " View project at <a href='https://wandb.ai/aistudio/Breast-Cancer-Detection-Stage' target=\"_blank\">https://wandb.ai/aistudio/Breast-Cancer-Detection-Stage</a>"
      ],
      "text/plain": [
       "<IPython.core.display.HTML object>"
      ]
     },
     "metadata": {},
     "output_type": "display_data"
    },
    {
     "data": {
      "text/html": [
       " View run at <a href='https://wandb.ai/aistudio/Breast-Cancer-Detection-Stage/runs/vij64dxe' target=\"_blank\">https://wandb.ai/aistudio/Breast-Cancer-Detection-Stage/runs/vij64dxe</a>"
      ],
      "text/plain": [
       "<IPython.core.display.HTML object>"
      ]
     },
     "metadata": {},
     "output_type": "display_data"
    },
    {
     "name": "stdout",
     "output_type": "stream",
     "text": [
      "Epoch 1/50\n",
      "21/21 [==============================] - ETA: 0s - loss: 1.7916 - accuracy: 0.5008 - auc: 0.5063 - precision: 0.4306 - recall: 0.4336\n",
      "Epoch 1: val_accuracy improved from -inf to 0.60736, saving model to models/stage/AKNet_EfficientNet-vij64dxe.keras\n",
      "21/21 [==============================] - 112s 4s/step - loss: 1.7916 - accuracy: 0.5008 - auc: 0.5063 - precision: 0.4306 - recall: 0.4336 - val_loss: 1.6488 - val_accuracy: 0.6074 - val_auc: 0.6120 - val_precision: 0.3750 - val_recall: 0.0484 - lr: 1.0000e-04\n",
      "Epoch 2/50\n",
      "21/21 [==============================] - ETA: 0s - loss: 1.8183 - accuracy: 0.5942 - auc: 0.6048 - precision: 0.5385 - recall: 0.5140\n",
      "Epoch 2: val_accuracy did not improve from 0.60736\n",
      "21/21 [==============================] - 89s 4s/step - loss: 1.8183 - accuracy: 0.5942 - auc: 0.6048 - precision: 0.5385 - recall: 0.5140 - val_loss: 1.1523 - val_accuracy: 0.5890 - val_auc: 0.5880 - val_precision: 0.4684 - val_recall: 0.5968 - lr: 1.0000e-04\n",
      "Epoch 3/50\n",
      "21/21 [==============================] - ETA: 0s - loss: 1.6432 - accuracy: 0.5835 - auc: 0.6250 - precision: 0.5235 - recall: 0.5455\n",
      "Epoch 3: val_accuracy did not improve from 0.60736\n",
      "21/21 [==============================] - 90s 4s/step - loss: 1.6432 - accuracy: 0.5835 - auc: 0.6250 - precision: 0.5235 - recall: 0.5455 - val_loss: 0.9379 - val_accuracy: 0.5153 - val_auc: 0.6113 - val_precision: 0.4158 - val_recall: 0.6774 - lr: 1.0000e-04\n",
      "Epoch 4/50\n",
      "21/21 [==============================] - ETA: 0s - loss: 1.7208 - accuracy: 0.6064 - auc: 0.6192 - precision: 0.5560 - recall: 0.5035\n",
      "Epoch 4: val_accuracy did not improve from 0.60736\n",
      "21/21 [==============================] - 87s 4s/step - loss: 1.7208 - accuracy: 0.6064 - auc: 0.6192 - precision: 0.5560 - recall: 0.5035 - val_loss: 0.7917 - val_accuracy: 0.5890 - val_auc: 0.6353 - val_precision: 0.4658 - val_recall: 0.5484 - lr: 1.0000e-04\n",
      "Epoch 5/50\n",
      "21/21 [==============================] - ETA: 0s - loss: 1.2975 - accuracy: 0.6386 - auc: 0.6791 - precision: 0.5839 - recall: 0.6084\n",
      "Epoch 5: val_accuracy improved from 0.60736 to 0.62577, saving model to models/stage/AKNet_EfficientNet-vij64dxe.keras\n",
      "21/21 [==============================] - 90s 4s/step - loss: 1.2975 - accuracy: 0.6386 - auc: 0.6791 - precision: 0.5839 - recall: 0.6084 - val_loss: 0.8266 - val_accuracy: 0.6258 - val_auc: 0.6477 - val_precision: 0.5063 - val_recall: 0.6452 - lr: 1.0000e-04\n",
      "Epoch 6/50\n",
      "21/21 [==============================] - ETA: 0s - loss: 1.1535 - accuracy: 0.6554 - auc: 0.7090 - precision: 0.6134 - recall: 0.5769\n",
      "Epoch 6: val_accuracy did not improve from 0.62577\n",
      "21/21 [==============================] - 87s 4s/step - loss: 1.1535 - accuracy: 0.6554 - auc: 0.7090 - precision: 0.6134 - recall: 0.5769 - val_loss: 0.6954 - val_accuracy: 0.6135 - val_auc: 0.6742 - val_precision: 0.4930 - val_recall: 0.5645 - lr: 1.0000e-04\n",
      "Epoch 7/50\n",
      "21/21 [==============================] - ETA: 0s - loss: 1.1666 - accuracy: 0.6493 - auc: 0.6853 - precision: 0.6044 - recall: 0.5769\n",
      "Epoch 7: val_accuracy did not improve from 0.62577\n",
      "21/21 [==============================] - 87s 4s/step - loss: 1.1666 - accuracy: 0.6493 - auc: 0.6853 - precision: 0.6044 - recall: 0.5769 - val_loss: 0.7690 - val_accuracy: 0.6135 - val_auc: 0.6357 - val_precision: 0.4921 - val_recall: 0.5000 - lr: 1.0000e-04\n",
      "Epoch 8/50\n",
      "21/21 [==============================] - ETA: 0s - loss: 1.1938 - accuracy: 0.6417 - auc: 0.6824 - precision: 0.5929 - recall: 0.5804\n",
      "Epoch 8: val_accuracy did not improve from 0.62577\n",
      "21/21 [==============================] - 86s 4s/step - loss: 1.1938 - accuracy: 0.6417 - auc: 0.6824 - precision: 0.5929 - recall: 0.5804 - val_loss: 1.1061 - val_accuracy: 0.5215 - val_auc: 0.5849 - val_precision: 0.4149 - val_recall: 0.6290 - lr: 1.0000e-04\n",
      "Epoch 9/50\n",
      "21/21 [==============================] - ETA: 0s - loss: 1.0812 - accuracy: 0.6570 - auc: 0.7096 - precision: 0.6020 - recall: 0.6399\n",
      "Epoch 9: ReduceLROnPlateau reducing learning rate to 4.999999873689376e-05.\n",
      "\n",
      "Epoch 9: val_accuracy did not improve from 0.62577\n",
      "21/21 [==============================] - 87s 4s/step - loss: 1.0812 - accuracy: 0.6570 - auc: 0.7096 - precision: 0.6020 - recall: 0.6399 - val_loss: 1.0127 - val_accuracy: 0.5644 - val_auc: 0.6206 - val_precision: 0.4526 - val_recall: 0.6935 - lr: 1.0000e-04\n",
      "Epoch 10/50\n",
      "21/21 [==============================] - ETA: 0s - loss: 0.8109 - accuracy: 0.7213 - auc: 0.7779 - precision: 0.6818 - recall: 0.6818\n",
      "Epoch 10: val_accuracy did not improve from 0.62577\n",
      "21/21 [==============================] - 89s 4s/step - loss: 0.8109 - accuracy: 0.7213 - auc: 0.7779 - precision: 0.6818 - recall: 0.6818 - val_loss: 0.9366 - val_accuracy: 0.6074 - val_auc: 0.6123 - val_precision: 0.4865 - val_recall: 0.5806 - lr: 5.0000e-05\n",
      "Epoch 11/50\n",
      "21/21 [==============================] - ETA: 0s - loss: 0.7918 - accuracy: 0.7259 - auc: 0.7802 - precision: 0.6960 - recall: 0.6643\n",
      "Epoch 11: val_accuracy did not improve from 0.62577\n",
      "21/21 [==============================] - 87s 4s/step - loss: 0.7918 - accuracy: 0.7259 - auc: 0.7802 - precision: 0.6960 - recall: 0.6643 - val_loss: 0.7940 - val_accuracy: 0.5828 - val_auc: 0.6326 - val_precision: 0.4595 - val_recall: 0.5484 - lr: 5.0000e-05\n",
      "Epoch 12/50\n",
      "21/21 [==============================] - ETA: 0s - loss: 0.6649 - accuracy: 0.7182 - auc: 0.7977 - precision: 0.6848 - recall: 0.6608\n",
      "Epoch 12: ReduceLROnPlateau reducing learning rate to 2.499999936844688e-05.\n",
      "\n",
      "Epoch 12: val_accuracy did not improve from 0.62577\n",
      "21/21 [==============================] - 87s 4s/step - loss: 0.6649 - accuracy: 0.7182 - auc: 0.7977 - precision: 0.6848 - recall: 0.6608 - val_loss: 0.8768 - val_accuracy: 0.5828 - val_auc: 0.6357 - val_precision: 0.4625 - val_recall: 0.5968 - lr: 5.0000e-05\n",
      "Epoch 13/50\n",
      "21/21 [==============================] - ETA: 0s - loss: 0.6193 - accuracy: 0.7381 - auc: 0.8253 - precision: 0.6990 - recall: 0.7063\n",
      "Epoch 13: val_accuracy did not improve from 0.62577\n",
      "21/21 [==============================] - 87s 4s/step - loss: 0.6193 - accuracy: 0.7381 - auc: 0.8253 - precision: 0.6990 - recall: 0.7063 - val_loss: 0.8159 - val_accuracy: 0.6074 - val_auc: 0.6218 - val_precision: 0.4848 - val_recall: 0.5161 - lr: 2.5000e-05\n",
      "Epoch 14/50\n",
      "21/21 [==============================] - ETA: 0s - loss: 0.5540 - accuracy: 0.7672 - auc: 0.8558 - precision: 0.7393 - recall: 0.7238\n",
      "Epoch 14: val_accuracy did not improve from 0.62577\n",
      "21/21 [==============================] - 87s 4s/step - loss: 0.5540 - accuracy: 0.7672 - auc: 0.8558 - precision: 0.7393 - recall: 0.7238 - val_loss: 0.7804 - val_accuracy: 0.6258 - val_auc: 0.6406 - val_precision: 0.5077 - val_recall: 0.5323 - lr: 2.5000e-05\n",
      "Epoch 15/50\n",
      "21/21 [==============================] - ETA: 0s - loss: 0.5614 - accuracy: 0.7856 - auc: 0.8479 - precision: 0.7607 - recall: 0.7448\n",
      "Epoch 15: ReduceLROnPlateau reducing learning rate to 1.249999968422344e-05.\n",
      "\n",
      "Epoch 15: val_accuracy did not improve from 0.62577\n",
      "21/21 [==============================] - 86s 4s/step - loss: 0.5614 - accuracy: 0.7856 - auc: 0.8479 - precision: 0.7607 - recall: 0.7448 - val_loss: 0.8020 - val_accuracy: 0.5890 - val_auc: 0.6350 - val_precision: 0.4638 - val_recall: 0.5161 - lr: 2.5000e-05\n",
      "Epoch 16/50\n",
      "21/21 [==============================] - ETA: 0s - loss: 0.5156 - accuracy: 0.7718 - auc: 0.8543 - precision: 0.7491 - recall: 0.7203Restoring model weights from the end of the best epoch: 6.\n",
      "\n",
      "Epoch 16: val_accuracy did not improve from 0.62577\n",
      "21/21 [==============================] - 87s 4s/step - loss: 0.5156 - accuracy: 0.7718 - auc: 0.8543 - precision: 0.7491 - recall: 0.7203 - val_loss: 0.7888 - val_accuracy: 0.5951 - val_auc: 0.6437 - val_precision: 0.4706 - val_recall: 0.5161 - lr: 1.2500e-05\n",
      "Epoch 16: early stopping\n"
     ]
    },
    {
     "name": "stderr",
     "output_type": "stream",
     "text": [
      "\u001b[34m\u001b[1mwandb\u001b[0m: \u001b[33mWARNING\u001b[0m wandb.plots.* functions are deprecated and will be removed in a future release. Please use wandb.plot.* instead.\n",
      "wandb: WARNING Source type is set to 'repo' but some required information is missing from the environment. A job will not be created from this run. See https://docs.wandb.ai/guides/launch/create-job\n"
     ]
    },
    {
     "data": {
      "application/vnd.jupyter.widget-view+json": {
       "model_id": "7526a75d1f7b40a186ad3da3da1178dc",
       "version_major": 2,
       "version_minor": 0
      },
      "text/plain": [
       "VBox(children=(Label(value='0.016 MB of 0.016 MB uploaded\\r'), FloatProgress(value=1.0, max=1.0)))"
      ]
     },
     "metadata": {},
     "output_type": "display_data"
    },
    {
     "data": {
      "text/html": [
       "<style>\n",
       "    table.wandb td:nth-child(1) { padding: 0 10px; text-align: left ; width: auto;} td:nth-child(2) {text-align: left ; width: 100%}\n",
       "    .wandb-row { display: flex; flex-direction: row; flex-wrap: wrap; justify-content: flex-start; width: 100% }\n",
       "    .wandb-col { display: flex; flex-direction: column; flex-basis: 100%; flex: 1; padding: 10px; }\n",
       "    </style>\n",
       "<div class=\"wandb-row\"><div class=\"wandb-col\"><h3>Run history:</h3><br/><table class=\"wandb\"><tr><td>epoch/accuracy</td><td>▁▃▃▄▄▅▅▄▅▆▇▆▇███</td></tr><tr><td>epoch/auc</td><td>▁▃▃▃▄▅▅▅▅▆▆▇▇███</td></tr><tr><td>epoch/epoch</td><td>▁▁▂▂▃▃▄▄▅▅▆▆▇▇██</td></tr><tr><td>epoch/learning_rate</td><td>████████▄▄▄▂▂▂▁▁</td></tr><tr><td>epoch/loss</td><td>██▇▇▅▄▄▅▄▃▂▂▂▁▁▁</td></tr><tr><td>epoch/lr</td><td>█████████▄▄▄▂▂▂▁</td></tr><tr><td>epoch/precision</td><td>▁▃▃▄▄▅▅▄▅▆▇▆▇███</td></tr><tr><td>epoch/recall</td><td>▁▃▄▃▅▄▄▄▆▇▆▆▇██▇</td></tr><tr><td>epoch/val_accuracy</td><td>▇▆▁▆█▇▇▁▄▇▅▅▇█▆▆</td></tr><tr><td>epoch/val_auc</td><td>▃▁▃▅▆█▅▁▄▃▅▅▄▅▅▆</td></tr><tr><td>epoch/val_loss</td><td>█▄▃▂▂▁▂▄▃▃▂▂▂▂▂▂</td></tr><tr><td>epoch/val_precision</td><td>▁▆▃▆█▇▇▃▅▇▅▆▇█▆▆</td></tr><tr><td>epoch/val_recall</td><td>▁▇█▆▇▇▆▇█▇▆▇▆▆▆▆</td></tr></table><br/></div><div class=\"wandb-col\"><h3>Run summary:</h3><br/><table class=\"wandb\"><tr><td>epoch/accuracy</td><td>0.77182</td></tr><tr><td>epoch/auc</td><td>0.85434</td></tr><tr><td>epoch/epoch</td><td>15</td></tr><tr><td>epoch/learning_rate</td><td>1e-05</td></tr><tr><td>epoch/loss</td><td>0.51556</td></tr><tr><td>epoch/lr</td><td>1e-05</td></tr><tr><td>epoch/precision</td><td>0.74909</td></tr><tr><td>epoch/recall</td><td>0.72028</td></tr><tr><td>epoch/val_accuracy</td><td>0.59509</td></tr><tr><td>epoch/val_auc</td><td>0.64372</td></tr><tr><td>epoch/val_loss</td><td>0.78881</td></tr><tr><td>epoch/val_precision</td><td>0.47059</td></tr><tr><td>epoch/val_recall</td><td>0.51613</td></tr></table><br/></div></div>"
      ],
      "text/plain": [
       "<IPython.core.display.HTML object>"
      ]
     },
     "metadata": {},
     "output_type": "display_data"
    },
    {
     "data": {
      "text/html": [
       " View run <strong style=\"color:#cdcd00\">AKNet_EfficientNet</strong> at: <a href='https://wandb.ai/aistudio/Breast-Cancer-Detection-Stage/runs/vij64dxe' target=\"_blank\">https://wandb.ai/aistudio/Breast-Cancer-Detection-Stage/runs/vij64dxe</a><br/>Synced 6 W&B file(s), 3 media file(s), 3 artifact file(s) and 0 other file(s)"
      ],
      "text/plain": [
       "<IPython.core.display.HTML object>"
      ]
     },
     "metadata": {},
     "output_type": "display_data"
    },
    {
     "data": {
      "text/html": [
       "Find logs at: <code>./wandb/run-20240215_072832-vij64dxe/logs</code>"
      ],
      "text/plain": [
       "<IPython.core.display.HTML object>"
      ]
     },
     "metadata": {},
     "output_type": "display_data"
    },
    {
     "name": "stdout",
     "output_type": "stream",
     "text": [
      "# ================================================================================================ #\n",
      "                                          AKNet_Inception                                           \n",
      "# ------------------------------------------------------------------------------------------------ #\n",
      "Model: \"model\"\n",
      "_________________________________________________________________\n",
      " Layer (type)                Output Shape              Param #   \n",
      "=================================================================\n",
      " AKNet_Inception_input_layer  [(None, 224, 224, 3)]    0         \n",
      "  (InputLayer)                                                   \n",
      "                                                                 \n",
      " tf.math.truediv (TFOpLambda  (None, 224, 224, 3)      0         \n",
      " )                                                               \n",
      "                                                                 \n",
      " tf.math.subtract (TFOpLambd  (None, 224, 224, 3)      0         \n",
      " a)                                                              \n",
      "                                                                 \n",
      " data_augmentation (Sequenti  (None, 224, 224, 3)      0         \n",
      " al)                                                             \n",
      "                                                                 \n",
      " inception_v3 (Functional)   (None, None, None, 2048)  21802784  \n",
      "                                                                 \n",
      " AKNet_Inception_flatten (Fl  (None, 51200)            0         \n",
      " atten)                                                          \n",
      "                                                                 \n",
      " AKNet_Inception_dense_1 (De  (None, 2048)             104859648 \n",
      " nse)                                                            \n",
      "                                                                 \n",
      " AKNet_Inception_dropout_1 (  (None, 2048)             0         \n",
      " Dropout)                                                        \n",
      "                                                                 \n",
      " AKNet_Inception_dense_2 (De  (None, 1024)             2098176   \n",
      " nse)                                                            \n",
      "                                                                 \n",
      " AKNet_Inception_dropout_2 (  (None, 1024)             0         \n",
      " Dropout)                                                        \n",
      "                                                                 \n",
      " AKNet_Inception_output_laye  (None, 1)                1025      \n",
      " r (Dense)                                                       \n",
      "                                                                 \n",
      "=================================================================\n",
      "Total params: 128,761,633\n",
      "Trainable params: 106,958,849\n",
      "Non-trainable params: 21,802,784\n",
      "_________________________________________________________________\n",
      "# ------------------------------------------------------------------------------------------------ #\n",
      "\n",
      "\n",
      "                                            AKNetConfig                                             \n",
      "                                        Activation | sigmoid\n",
      "                                      Output Shape | 1\n",
      "                                            Dense1 | 2048\n",
      "                                          Dropout1 | 0.5\n",
      "                                            Dense2 | 1024\n",
      "                                          Dropout2 | 0.5\n",
      "\n",
      "\n",
      "# ================================================================================================ #\n"
     ]
    },
    {
     "data": {
      "text/html": [
       "wandb version 0.16.3 is available!  To upgrade, please run:\n",
       " $ pip install wandb --upgrade"
      ],
      "text/plain": [
       "<IPython.core.display.HTML object>"
      ]
     },
     "metadata": {},
     "output_type": "display_data"
    },
    {
     "data": {
      "text/html": [
       "Tracking run with wandb version 0.16.2"
      ],
      "text/plain": [
       "<IPython.core.display.HTML object>"
      ]
     },
     "metadata": {},
     "output_type": "display_data"
    },
    {
     "data": {
      "text/html": [
       "Run data is saved locally in <code>/home/john/projects/bcd/wandb/run-20240215_075307-57waajbg</code>"
      ],
      "text/plain": [
       "<IPython.core.display.HTML object>"
      ]
     },
     "metadata": {},
     "output_type": "display_data"
    },
    {
     "data": {
      "text/html": [
       "Syncing run <strong><a href='https://wandb.ai/aistudio/Breast-Cancer-Detection-Stage/runs/57waajbg' target=\"_blank\">AKNet_Inception</a></strong> to <a href='https://wandb.ai/aistudio/Breast-Cancer-Detection-Stage' target=\"_blank\">Weights & Biases</a> (<a href='https://wandb.me/run' target=\"_blank\">docs</a>)<br/>"
      ],
      "text/plain": [
       "<IPython.core.display.HTML object>"
      ]
     },
     "metadata": {},
     "output_type": "display_data"
    },
    {
     "data": {
      "text/html": [
       " View project at <a href='https://wandb.ai/aistudio/Breast-Cancer-Detection-Stage' target=\"_blank\">https://wandb.ai/aistudio/Breast-Cancer-Detection-Stage</a>"
      ],
      "text/plain": [
       "<IPython.core.display.HTML object>"
      ]
     },
     "metadata": {},
     "output_type": "display_data"
    },
    {
     "data": {
      "text/html": [
       " View run at <a href='https://wandb.ai/aistudio/Breast-Cancer-Detection-Stage/runs/57waajbg' target=\"_blank\">https://wandb.ai/aistudio/Breast-Cancer-Detection-Stage/runs/57waajbg</a>"
      ],
      "text/plain": [
       "<IPython.core.display.HTML object>"
      ]
     },
     "metadata": {},
     "output_type": "display_data"
    },
    {
     "name": "stdout",
     "output_type": "stream",
     "text": [
      "Epoch 1/50\n",
      "21/21 [==============================] - ETA: 0s - loss: 2.3908 - accuracy: 0.5100 - auc: 0.5167 - precision: 0.4451 - recall: 0.4425\n",
      "Epoch 1: val_accuracy did not improve from 0.62577\n",
      "\n",
      "Epoch 1: val_accuracy improved from -inf to 0.39877, saving model to models/stage/AKNet_Inception-57waajbg.keras\n",
      "21/21 [==============================] - 72s 3s/step - loss: 2.3908 - accuracy: 0.5100 - auc: 0.5167 - precision: 0.4451 - recall: 0.4425 - val_loss: 2.2550 - val_accuracy: 0.3988 - val_auc: 0.5705 - val_precision: 0.3831 - val_recall: 0.9516 - lr: 1.0000e-04\n",
      "Epoch 2/50\n",
      "21/21 [==============================] - ETA: 0s - loss: 2.8354 - accuracy: 0.5666 - auc: 0.5691 - precision: 0.5056 - recall: 0.4755\n",
      "Epoch 2: val_accuracy did not improve from 0.62577\n",
      "\n",
      "Epoch 2: val_accuracy improved from 0.39877 to 0.44785, saving model to models/stage/AKNet_Inception-57waajbg.keras\n",
      "21/21 [==============================] - 62s 3s/step - loss: 2.8354 - accuracy: 0.5666 - auc: 0.5691 - precision: 0.5056 - recall: 0.4755 - val_loss: 1.5586 - val_accuracy: 0.4479 - val_auc: 0.5759 - val_precision: 0.4041 - val_recall: 0.9516 - lr: 1.0000e-04\n",
      "Epoch 3/50\n",
      "21/21 [==============================] - ETA: 0s - loss: 2.2423 - accuracy: 0.5544 - auc: 0.5627 - precision: 0.4907 - recall: 0.4615\n",
      "Epoch 3: val_accuracy did not improve from 0.62577\n",
      "\n",
      "Epoch 3: val_accuracy did not improve from 0.44785\n",
      "21/21 [==============================] - 57s 3s/step - loss: 2.2423 - accuracy: 0.5544 - auc: 0.5627 - precision: 0.4907 - recall: 0.4615 - val_loss: 1.3813 - val_accuracy: 0.4417 - val_auc: 0.5874 - val_precision: 0.4000 - val_recall: 0.9355 - lr: 1.0000e-04\n",
      "Epoch 4/50\n",
      "21/21 [==============================] - ETA: 0s - loss: 1.8095 - accuracy: 0.5636 - auc: 0.5815 - precision: 0.5017 - recall: 0.5245\n",
      "Epoch 4: val_accuracy improved from 0.62577 to 0.66258, saving model to models/stage/AKNet_EfficientNet-vij64dxe.keras\n",
      "\n",
      "Epoch 4: val_accuracy improved from 0.44785 to 0.66258, saving model to models/stage/AKNet_Inception-57waajbg.keras\n",
      "21/21 [==============================] - 63s 3s/step - loss: 1.8095 - accuracy: 0.5636 - auc: 0.5815 - precision: 0.5017 - recall: 0.5245 - val_loss: 0.8191 - val_accuracy: 0.6626 - val_auc: 0.6283 - val_precision: 0.6522 - val_recall: 0.2419 - lr: 1.0000e-04\n",
      "Epoch 5/50\n",
      "21/21 [==============================] - ETA: 0s - loss: 1.4698 - accuracy: 0.6095 - auc: 0.6319 - precision: 0.5581 - recall: 0.5210\n",
      "Epoch 5: val_accuracy did not improve from 0.66258\n",
      "\n",
      "Epoch 5: val_accuracy did not improve from 0.66258\n",
      "21/21 [==============================] - 57s 3s/step - loss: 1.4698 - accuracy: 0.6095 - auc: 0.6319 - precision: 0.5581 - recall: 0.5210 - val_loss: 1.2804 - val_accuracy: 0.4540 - val_auc: 0.6021 - val_precision: 0.4082 - val_recall: 0.9677 - lr: 1.0000e-04\n",
      "Epoch 6/50\n",
      "21/21 [==============================] - ETA: 0s - loss: 1.4440 - accuracy: 0.5926 - auc: 0.6293 - precision: 0.5379 - recall: 0.4965\n",
      "Epoch 6: val_accuracy did not improve from 0.66258\n",
      "\n",
      "Epoch 6: val_accuracy did not improve from 0.66258\n",
      "21/21 [==============================] - 57s 3s/step - loss: 1.4440 - accuracy: 0.5926 - auc: 0.6293 - precision: 0.5379 - recall: 0.4965 - val_loss: 0.8052 - val_accuracy: 0.5583 - val_auc: 0.6429 - val_precision: 0.4500 - val_recall: 0.7258 - lr: 1.0000e-04\n",
      "Epoch 7/50\n",
      "21/21 [==============================] - ETA: 0s - loss: 1.1868 - accuracy: 0.5850 - auc: 0.6269 - precision: 0.5254 - recall: 0.5420\n",
      "Epoch 7: val_accuracy did not improve from 0.66258\n",
      "\n",
      "Epoch 7: val_accuracy did not improve from 0.66258\n",
      "21/21 [==============================] - 57s 3s/step - loss: 1.1868 - accuracy: 0.5850 - auc: 0.6269 - precision: 0.5254 - recall: 0.5420 - val_loss: 0.6898 - val_accuracy: 0.6380 - val_auc: 0.6824 - val_precision: 0.5517 - val_recall: 0.2581 - lr: 1.0000e-04\n",
      "Epoch 8/50\n",
      "21/21 [==============================] - ETA: 0s - loss: 0.9233 - accuracy: 0.6508 - auc: 0.7173 - precision: 0.6051 - recall: 0.5839\n",
      "Epoch 8: val_accuracy did not improve from 0.66258\n",
      "\n",
      "Epoch 8: val_accuracy did not improve from 0.66258\n",
      "21/21 [==============================] - 57s 3s/step - loss: 0.9233 - accuracy: 0.6508 - auc: 0.7173 - precision: 0.6051 - recall: 0.5839 - val_loss: 0.7097 - val_accuracy: 0.6258 - val_auc: 0.6668 - val_precision: 0.5060 - val_recall: 0.6774 - lr: 1.0000e-04\n",
      "Epoch 9/50\n",
      "21/21 [==============================] - ETA: 0s - loss: 1.0460 - accuracy: 0.6294 - auc: 0.6695 - precision: 0.5728 - recall: 0.6049\n",
      "Epoch 9: val_accuracy did not improve from 0.66258\n",
      "\n",
      "Epoch 9: val_accuracy did not improve from 0.66258\n",
      "21/21 [==============================] - 56s 3s/step - loss: 1.0460 - accuracy: 0.6294 - auc: 0.6695 - precision: 0.5728 - recall: 0.6049 - val_loss: 0.7384 - val_accuracy: 0.6135 - val_auc: 0.6207 - val_precision: 0.4878 - val_recall: 0.3226 - lr: 1.0000e-04\n",
      "Epoch 10/50\n",
      "21/21 [==============================] - ETA: 0s - loss: 0.8347 - accuracy: 0.6723 - auc: 0.7219 - precision: 0.6374 - recall: 0.5839\n",
      "Epoch 10: ReduceLROnPlateau reducing learning rate to 4.999999873689376e-05.\n",
      "\n",
      "Epoch 10: val_accuracy did not improve from 0.66258\n",
      "\n",
      "Epoch 10: val_accuracy did not improve from 0.66258\n",
      "21/21 [==============================] - 56s 3s/step - loss: 0.8347 - accuracy: 0.6723 - auc: 0.7219 - precision: 0.6374 - recall: 0.5839 - val_loss: 0.7568 - val_accuracy: 0.6196 - val_auc: 0.6406 - val_precision: 0.5000 - val_recall: 0.3226 - lr: 1.0000e-04\n",
      "Epoch 11/50\n",
      "21/21 [==============================] - ETA: 0s - loss: 0.8038 - accuracy: 0.6830 - auc: 0.7248 - precision: 0.6468 - recall: 0.6084\n",
      "Epoch 11: val_accuracy did not improve from 0.66258\n",
      "\n",
      "Epoch 11: val_accuracy did not improve from 0.66258\n",
      "21/21 [==============================] - 57s 3s/step - loss: 0.8038 - accuracy: 0.6830 - auc: 0.7248 - precision: 0.6468 - recall: 0.6084 - val_loss: 0.7381 - val_accuracy: 0.5644 - val_auc: 0.6591 - val_precision: 0.4483 - val_recall: 0.6290 - lr: 5.0000e-05\n",
      "Epoch 12/50\n",
      "21/21 [==============================] - ETA: 0s - loss: 0.7221 - accuracy: 0.6968 - auc: 0.7462 - precision: 0.6528 - recall: 0.6573\n",
      "Epoch 12: val_accuracy did not improve from 0.66258\n",
      "\n",
      "Epoch 12: val_accuracy did not improve from 0.66258\n",
      "21/21 [==============================] - 59s 3s/step - loss: 0.7221 - accuracy: 0.6968 - auc: 0.7462 - precision: 0.6528 - recall: 0.6573 - val_loss: 0.7016 - val_accuracy: 0.5828 - val_auc: 0.6644 - val_precision: 0.4605 - val_recall: 0.5645 - lr: 5.0000e-05\n",
      "Epoch 13/50\n",
      "21/21 [==============================] - ETA: 0s - loss: 0.6150 - accuracy: 0.7060 - auc: 0.7765 - precision: 0.6715 - recall: 0.6434\n",
      "Epoch 13: ReduceLROnPlateau reducing learning rate to 2.499999936844688e-05.\n",
      "\n",
      "Epoch 13: val_accuracy did not improve from 0.66258\n",
      "\n",
      "Epoch 13: val_accuracy did not improve from 0.66258\n",
      "21/21 [==============================] - 57s 3s/step - loss: 0.6150 - accuracy: 0.7060 - auc: 0.7765 - precision: 0.6715 - recall: 0.6434 - val_loss: 0.7106 - val_accuracy: 0.6012 - val_auc: 0.6497 - val_precision: 0.4810 - val_recall: 0.6129 - lr: 5.0000e-05\n",
      "Epoch 14/50\n",
      "21/21 [==============================] - ETA: 0s - loss: 0.5171 - accuracy: 0.7504 - auc: 0.8277 - precision: 0.7412 - recall: 0.6608\n",
      "Epoch 14: val_accuracy did not improve from 0.66258\n",
      "\n",
      "Epoch 14: val_accuracy did not improve from 0.66258\n",
      "21/21 [==============================] - 56s 3s/step - loss: 0.5171 - accuracy: 0.7504 - auc: 0.8277 - precision: 0.7412 - recall: 0.6608 - val_loss: 0.7128 - val_accuracy: 0.5951 - val_auc: 0.6557 - val_precision: 0.4767 - val_recall: 0.6613 - lr: 2.5000e-05\n",
      "Epoch 15/50\n",
      "21/21 [==============================] - ETA: 0s - loss: 0.5191 - accuracy: 0.7443 - auc: 0.8300 - precision: 0.7003 - recall: 0.7273\n",
      "Epoch 15: val_accuracy did not improve from 0.66258\n",
      "\n",
      "Epoch 15: val_accuracy did not improve from 0.66258\n",
      "21/21 [==============================] - 56s 3s/step - loss: 0.5191 - accuracy: 0.7443 - auc: 0.8300 - precision: 0.7003 - recall: 0.7273 - val_loss: 0.6998 - val_accuracy: 0.6074 - val_auc: 0.6555 - val_precision: 0.4872 - val_recall: 0.6129 - lr: 2.5000e-05\n",
      "Epoch 16/50\n",
      "21/21 [==============================] - ETA: 0s - loss: 0.4344 - accuracy: 0.8055 - auc: 0.8758 - precision: 0.8069 - recall: 0.7308\n",
      "Epoch 16: ReduceLROnPlateau reducing learning rate to 1.249999968422344e-05.\n",
      "\n",
      "Epoch 16: val_accuracy did not improve from 0.66258\n",
      "\n",
      "Epoch 16: val_accuracy did not improve from 0.66258\n",
      "21/21 [==============================] - 57s 3s/step - loss: 0.4344 - accuracy: 0.8055 - auc: 0.8758 - precision: 0.8069 - recall: 0.7308 - val_loss: 0.7431 - val_accuracy: 0.5951 - val_auc: 0.6407 - val_precision: 0.4750 - val_recall: 0.6129 - lr: 2.5000e-05\n",
      "Epoch 17/50\n",
      "21/21 [==============================] - ETA: 0s - loss: 0.4389 - accuracy: 0.7979 - auc: 0.8768 - precision: 0.7567 - recall: 0.7937Restoring model weights from the end of the best epoch: 7.\n",
      "\n",
      "Epoch 17: val_accuracy did not improve from 0.66258\n",
      "\n",
      "Epoch 17: val_accuracy did not improve from 0.66258\n",
      "21/21 [==============================] - 57s 3s/step - loss: 0.4389 - accuracy: 0.7979 - auc: 0.8768 - precision: 0.7567 - recall: 0.7937 - val_loss: 0.7399 - val_accuracy: 0.5890 - val_auc: 0.6372 - val_precision: 0.4658 - val_recall: 0.5484 - lr: 1.2500e-05\n",
      "Epoch 17: early stopping\n"
     ]
    },
    {
     "name": "stderr",
     "output_type": "stream",
     "text": [
      "wandb: WARNING Source type is set to 'repo' but some required information is missing from the environment. A job will not be created from this run. See https://docs.wandb.ai/guides/launch/create-job\n"
     ]
    },
    {
     "data": {
      "application/vnd.jupyter.widget-view+json": {
       "model_id": "89ae72ba80fc4a86868f616661f1ac4a",
       "version_major": 2,
       "version_minor": 0
      },
      "text/plain": [
       "VBox(children=(Label(value='0.015 MB of 0.015 MB uploaded\\r'), FloatProgress(value=1.0, max=1.0)))"
      ]
     },
     "metadata": {},
     "output_type": "display_data"
    },
    {
     "data": {
      "text/html": [
       "<style>\n",
       "    table.wandb td:nth-child(1) { padding: 0 10px; text-align: left ; width: auto;} td:nth-child(2) {text-align: left ; width: 100%}\n",
       "    .wandb-row { display: flex; flex-direction: row; flex-wrap: wrap; justify-content: flex-start; width: 100% }\n",
       "    .wandb-col { display: flex; flex-direction: column; flex-basis: 100%; flex: 1; padding: 10px; }\n",
       "    </style>\n",
       "<div class=\"wandb-row\"><div class=\"wandb-col\"><h3>Run history:</h3><br/><table class=\"wandb\"><tr><td>epoch/accuracy</td><td>▁▁▂▂▂▂▂▂▃▃▃▃▃▃▄▄▄▄▅▅▅▅▅▅▆▆▇▇▇▇████</td></tr><tr><td>epoch/auc</td><td>▁▁▂▂▂▂▂▂▃▃▃▃▃▃▅▅▄▄▅▅▅▅▅▅▆▆▇▇▇▇████</td></tr><tr><td>epoch/epoch</td><td>▁▁▁▁▂▂▂▂▃▃▃▃▄▄▄▄▅▅▅▅▅▅▆▆▆▆▇▇▇▇████</td></tr><tr><td>epoch/learning_rate</td><td>██████████████████▄▄▄▄▄▄▂▂▂▂▂▂▁▁▁▁</td></tr><tr><td>epoch/loss</td><td>▇▇██▆▆▅▅▄▄▄▄▃▃▂▂▃▃▂▂▂▂▂▂▂▂▁▁▁▁▁▁▁▁</td></tr><tr><td>epoch/lr</td><td>████████████████████▄▄▄▄▄▄▂▂▂▂▂▂▁▁</td></tr><tr><td>epoch/precision</td><td>▁▁▂▂▂▂▂▂▃▃▃▃▃▃▄▄▃▃▅▅▅▅▅▅▅▅▇▇▆▆██▇▇</td></tr><tr><td>epoch/recall</td><td>▁▁▂▂▁▁▃▃▃▃▂▂▃▃▄▄▄▄▄▄▄▄▅▅▅▅▅▅▇▇▇▇██</td></tr><tr><td>epoch/val_accuracy</td><td>▁▁▂▂▂▂██▂▂▅▅▇▇▇▇▇▇▇▇▅▅▆▆▆▆▆▆▇▇▆▆▆▆</td></tr><tr><td>epoch/val_auc</td><td>▁▁▁▁▂▂▅▅▃▃▆▆██▇▇▄▄▅▅▇▇▇▇▆▆▆▆▆▆▅▅▅▅</td></tr><tr><td>epoch/val_loss</td><td>██▅▅▄▄▂▂▄▄▂▂▁▁▁▁▁▁▁▁▁▁▁▁▁▁▁▁▁▁▁▁▁▁</td></tr><tr><td>epoch/val_precision</td><td>▁▁▂▂▁▁██▂▂▃▃▅▅▄▄▄▄▄▄▃▃▃▃▄▄▃▃▄▄▃▃▃▃</td></tr><tr><td>epoch/val_recall</td><td>██████▁▁██▆▆▁▁▅▅▂▂▂▂▅▅▄▄▅▅▅▅▅▅▅▅▄▄</td></tr></table><br/></div><div class=\"wandb-col\"><h3>Run summary:</h3><br/><table class=\"wandb\"><tr><td>epoch/accuracy</td><td>0.79786</td></tr><tr><td>epoch/auc</td><td>0.87683</td></tr><tr><td>epoch/epoch</td><td>16</td></tr><tr><td>epoch/learning_rate</td><td>1e-05</td></tr><tr><td>epoch/loss</td><td>0.43895</td></tr><tr><td>epoch/lr</td><td>1e-05</td></tr><tr><td>epoch/precision</td><td>0.75667</td></tr><tr><td>epoch/recall</td><td>0.79371</td></tr><tr><td>epoch/val_accuracy</td><td>0.58896</td></tr><tr><td>epoch/val_auc</td><td>0.63718</td></tr><tr><td>epoch/val_loss</td><td>0.73986</td></tr><tr><td>epoch/val_precision</td><td>0.46575</td></tr><tr><td>epoch/val_recall</td><td>0.54839</td></tr></table><br/></div></div>"
      ],
      "text/plain": [
       "<IPython.core.display.HTML object>"
      ]
     },
     "metadata": {},
     "output_type": "display_data"
    },
    {
     "data": {
      "text/html": [
       " View run <strong style=\"color:#cdcd00\">AKNet_Inception</strong> at: <a href='https://wandb.ai/aistudio/Breast-Cancer-Detection-Stage/runs/57waajbg' target=\"_blank\">https://wandb.ai/aistudio/Breast-Cancer-Detection-Stage/runs/57waajbg</a><br/>Synced 6 W&B file(s), 3 media file(s), 3 artifact file(s) and 0 other file(s)"
      ],
      "text/plain": [
       "<IPython.core.display.HTML object>"
      ]
     },
     "metadata": {},
     "output_type": "display_data"
    },
    {
     "data": {
      "text/html": [
       "Find logs at: <code>./wandb/run-20240215_075307-57waajbg/logs</code>"
      ],
      "text/plain": [
       "<IPython.core.display.HTML object>"
      ]
     },
     "metadata": {},
     "output_type": "display_data"
    },
    {
     "name": "stdout",
     "output_type": "stream",
     "text": [
      "# ================================================================================================ #\n",
      "                                       AKNet_InceptionResNet                                        \n",
      "# ------------------------------------------------------------------------------------------------ #\n",
      "Model: \"model\"\n",
      "_________________________________________________________________\n",
      " Layer (type)                Output Shape              Param #   \n",
      "=================================================================\n",
      " AKNet_InceptionResNet_input  [(None, 224, 224, 3)]    0         \n",
      " _layer (InputLayer)                                             \n",
      "                                                                 \n",
      " tf.math.truediv (TFOpLambda  (None, 224, 224, 3)      0         \n",
      " )                                                               \n",
      "                                                                 \n",
      " tf.math.subtract (TFOpLambd  (None, 224, 224, 3)      0         \n",
      " a)                                                              \n",
      "                                                                 \n",
      " data_augmentation (Sequenti  (None, 224, 224, 3)      0         \n",
      " al)                                                             \n",
      "                                                                 \n",
      " inception_resnet_v2 (Functi  (None, None, None, 1536)  54336736 \n",
      " onal)                                                           \n",
      "                                                                 \n",
      " AKNet_InceptionResNet_flatt  (None, 38400)            0         \n",
      " en (Flatten)                                                    \n",
      "                                                                 \n",
      " AKNet_InceptionResNet_dense  (None, 2048)             78645248  \n",
      " _1 (Dense)                                                      \n",
      "                                                                 \n",
      " AKNet_InceptionResNet_dropo  (None, 2048)             0         \n",
      " ut_1 (Dropout)                                                  \n",
      "                                                                 \n",
      " AKNet_InceptionResNet_dense  (None, 1024)             2098176   \n",
      " _2 (Dense)                                                      \n",
      "                                                                 \n",
      " AKNet_InceptionResNet_dropo  (None, 1024)             0         \n",
      " ut_2 (Dropout)                                                  \n",
      "                                                                 \n",
      " AKNet_InceptionResNet_outpu  (None, 1)                1025      \n",
      " t_layer (Dense)                                                 \n",
      "                                                                 \n",
      "=================================================================\n",
      "Total params: 135,081,185\n",
      "Trainable params: 80,744,449\n",
      "Non-trainable params: 54,336,736\n",
      "_________________________________________________________________\n",
      "# ------------------------------------------------------------------------------------------------ #\n",
      "\n",
      "\n",
      "                                            AKNetConfig                                             \n",
      "                                        Activation | sigmoid\n",
      "                                      Output Shape | 1\n",
      "                                            Dense1 | 2048\n",
      "                                          Dropout1 | 0.5\n",
      "                                            Dense2 | 1024\n",
      "                                          Dropout2 | 0.5\n",
      "\n",
      "\n",
      "# ================================================================================================ #\n"
     ]
    },
    {
     "data": {
      "text/html": [
       "wandb version 0.16.3 is available!  To upgrade, please run:\n",
       " $ pip install wandb --upgrade"
      ],
      "text/plain": [
       "<IPython.core.display.HTML object>"
      ]
     },
     "metadata": {},
     "output_type": "display_data"
    },
    {
     "data": {
      "text/html": [
       "Tracking run with wandb version 0.16.2"
      ],
      "text/plain": [
       "<IPython.core.display.HTML object>"
      ]
     },
     "metadata": {},
     "output_type": "display_data"
    },
    {
     "data": {
      "text/html": [
       "Run data is saved locally in <code>/home/john/projects/bcd/wandb/run-20240215_081027-5smc685p</code>"
      ],
      "text/plain": [
       "<IPython.core.display.HTML object>"
      ]
     },
     "metadata": {},
     "output_type": "display_data"
    },
    {
     "data": {
      "text/html": [
       "Syncing run <strong><a href='https://wandb.ai/aistudio/Breast-Cancer-Detection-Stage/runs/5smc685p' target=\"_blank\">AKNet_InceptionResNet</a></strong> to <a href='https://wandb.ai/aistudio/Breast-Cancer-Detection-Stage' target=\"_blank\">Weights & Biases</a> (<a href='https://wandb.me/run' target=\"_blank\">docs</a>)<br/>"
      ],
      "text/plain": [
       "<IPython.core.display.HTML object>"
      ]
     },
     "metadata": {},
     "output_type": "display_data"
    },
    {
     "data": {
      "text/html": [
       " View project at <a href='https://wandb.ai/aistudio/Breast-Cancer-Detection-Stage' target=\"_blank\">https://wandb.ai/aistudio/Breast-Cancer-Detection-Stage</a>"
      ],
      "text/plain": [
       "<IPython.core.display.HTML object>"
      ]
     },
     "metadata": {},
     "output_type": "display_data"
    },
    {
     "data": {
      "text/html": [
       " View run at <a href='https://wandb.ai/aistudio/Breast-Cancer-Detection-Stage/runs/5smc685p' target=\"_blank\">https://wandb.ai/aistudio/Breast-Cancer-Detection-Stage/runs/5smc685p</a>"
      ],
      "text/plain": [
       "<IPython.core.display.HTML object>"
      ]
     },
     "metadata": {},
     "output_type": "display_data"
    },
    {
     "name": "stdout",
     "output_type": "stream",
     "text": [
      "Epoch 1/50\n",
      "21/21 [==============================] - ETA: 0s - loss: 2.8372 - accuracy: 0.4900 - auc: 0.5039 - precision: 0.4270 - recall: 0.4368\n",
      "Epoch 1: val_accuracy improved from 0.66258 to 0.68098, saving model to models/stage/AKNet_EfficientNet-vij64dxe.keras\n",
      "\n",
      "Epoch 1: val_accuracy improved from 0.66258 to 0.68098, saving model to models/stage/AKNet_Inception-57waajbg.keras\n",
      "\n",
      "Epoch 1: val_accuracy improved from -inf to 0.68098, saving model to models/stage/AKNet_InceptionResNet-5smc685p.keras\n",
      "21/21 [==============================] - 132s 5s/step - loss: 2.8372 - accuracy: 0.4900 - auc: 0.5039 - precision: 0.4270 - recall: 0.4368 - val_loss: 0.7039 - val_accuracy: 0.6810 - val_auc: 0.6482 - val_precision: 0.6786 - val_recall: 0.3065 - lr: 1.0000e-04\n",
      "Epoch 2/50\n",
      "21/21 [==============================] - ETA: 0s - loss: 2.0924 - accuracy: 0.5299 - auc: 0.5480 - precision: 0.4646 - recall: 0.4825\n",
      "Epoch 2: val_accuracy did not improve from 0.68098\n",
      "\n",
      "Epoch 2: val_accuracy did not improve from 0.68098\n",
      "\n",
      "Epoch 2: val_accuracy did not improve from 0.68098\n",
      "21/21 [==============================] - 102s 5s/step - loss: 2.0924 - accuracy: 0.5299 - auc: 0.5480 - precision: 0.4646 - recall: 0.4825 - val_loss: 1.8313 - val_accuracy: 0.6196 - val_auc: 0.5803 - val_precision: 0.0000e+00 - val_recall: 0.0000e+00 - lr: 1.0000e-04\n",
      "Epoch 3/50\n",
      "21/21 [==============================] - ETA: 0s - loss: 1.8993 - accuracy: 0.5605 - auc: 0.5664 - precision: 0.4981 - recall: 0.4510\n",
      "Epoch 3: val_accuracy did not improve from 0.68098\n",
      "\n",
      "Epoch 3: val_accuracy did not improve from 0.68098\n",
      "\n",
      "Epoch 3: val_accuracy did not improve from 0.68098\n",
      "21/21 [==============================] - 105s 5s/step - loss: 1.8993 - accuracy: 0.5605 - auc: 0.5664 - precision: 0.4981 - recall: 0.4510 - val_loss: 0.7656 - val_accuracy: 0.6012 - val_auc: 0.6085 - val_precision: 0.4762 - val_recall: 0.4839 - lr: 1.0000e-04\n",
      "Epoch 4/50\n",
      "21/21 [==============================] - ETA: 0s - loss: 1.5672 - accuracy: 0.5605 - auc: 0.5899 - precision: 0.4982 - recall: 0.4790\n",
      "Epoch 4: ReduceLROnPlateau reducing learning rate to 4.999999873689376e-05.\n",
      "\n",
      "Epoch 4: val_accuracy did not improve from 0.68098\n",
      "\n",
      "Epoch 4: val_accuracy did not improve from 0.68098\n",
      "\n",
      "Epoch 4: val_accuracy did not improve from 0.68098\n",
      "21/21 [==============================] - 102s 5s/step - loss: 1.5672 - accuracy: 0.5605 - auc: 0.5899 - precision: 0.4982 - recall: 0.4790 - val_loss: 1.2524 - val_accuracy: 0.4417 - val_auc: 0.6183 - val_precision: 0.3972 - val_recall: 0.9032 - lr: 1.0000e-04\n",
      "Epoch 5/50\n",
      "21/21 [==============================] - ETA: 0s - loss: 1.5020 - accuracy: 0.5727 - auc: 0.5765 - precision: 0.5122 - recall: 0.5140\n",
      "Epoch 5: val_accuracy did not improve from 0.68098\n",
      "\n",
      "Epoch 5: val_accuracy did not improve from 0.68098\n",
      "\n",
      "Epoch 5: val_accuracy did not improve from 0.68098\n",
      "21/21 [==============================] - 103s 5s/step - loss: 1.5020 - accuracy: 0.5727 - auc: 0.5765 - precision: 0.5122 - recall: 0.5140 - val_loss: 0.6475 - val_accuracy: 0.6196 - val_auc: 0.6848 - val_precision: 0.5000 - val_recall: 0.4839 - lr: 5.0000e-05\n",
      "Epoch 6/50\n",
      "21/21 [==============================] - ETA: 0s - loss: 1.3777 - accuracy: 0.5743 - auc: 0.5880 - precision: 0.5143 - recall: 0.5035\n",
      "Epoch 6: val_accuracy did not improve from 0.68098\n",
      "\n",
      "Epoch 6: val_accuracy did not improve from 0.68098\n",
      "\n",
      "Epoch 6: val_accuracy did not improve from 0.68098\n",
      "21/21 [==============================] - 103s 5s/step - loss: 1.3777 - accuracy: 0.5743 - auc: 0.5880 - precision: 0.5143 - recall: 0.5035 - val_loss: 0.6612 - val_accuracy: 0.6319 - val_auc: 0.6757 - val_precision: 0.5147 - val_recall: 0.5645 - lr: 5.0000e-05\n",
      "Epoch 7/50\n",
      "21/21 [==============================] - ETA: 0s - loss: 1.0613 - accuracy: 0.6003 - auc: 0.6400 - precision: 0.5433 - recall: 0.5490\n",
      "Epoch 7: val_accuracy did not improve from 0.68098\n",
      "\n",
      "Epoch 7: val_accuracy did not improve from 0.68098\n",
      "\n",
      "Epoch 7: val_accuracy did not improve from 0.68098\n",
      "21/21 [==============================] - 103s 5s/step - loss: 1.0613 - accuracy: 0.6003 - auc: 0.6400 - precision: 0.5433 - recall: 0.5490 - val_loss: 0.6195 - val_accuracy: 0.6503 - val_auc: 0.7011 - val_precision: 0.5758 - val_recall: 0.3065 - lr: 5.0000e-05\n",
      "Epoch 8/50\n",
      "21/21 [==============================] - ETA: 0s - loss: 0.9372 - accuracy: 0.6263 - auc: 0.6665 - precision: 0.5755 - recall: 0.5594\n",
      "Epoch 8: val_accuracy did not improve from 0.68098\n",
      "\n",
      "Epoch 8: val_accuracy did not improve from 0.68098\n",
      "\n",
      "Epoch 8: val_accuracy did not improve from 0.68098\n",
      "21/21 [==============================] - 103s 5s/step - loss: 0.9372 - accuracy: 0.6263 - auc: 0.6665 - precision: 0.5755 - recall: 0.5594 - val_loss: 0.6450 - val_accuracy: 0.6503 - val_auc: 0.6756 - val_precision: 0.5455 - val_recall: 0.4839 - lr: 5.0000e-05\n",
      "Epoch 9/50\n",
      "21/21 [==============================] - ETA: 0s - loss: 0.9710 - accuracy: 0.5957 - auc: 0.6497 - precision: 0.5444 - recall: 0.4720\n",
      "Epoch 9: val_accuracy did not improve from 0.68098\n",
      "\n",
      "Epoch 9: val_accuracy did not improve from 0.68098\n",
      "\n",
      "Epoch 9: val_accuracy did not improve from 0.68098\n",
      "21/21 [==============================] - 104s 5s/step - loss: 0.9710 - accuracy: 0.5957 - auc: 0.6497 - precision: 0.5444 - recall: 0.4720 - val_loss: 0.6744 - val_accuracy: 0.5828 - val_auc: 0.6723 - val_precision: 0.4625 - val_recall: 0.5968 - lr: 5.0000e-05\n",
      "Epoch 10/50\n",
      "21/21 [==============================] - ETA: 0s - loss: 0.8842 - accuracy: 0.6202 - auc: 0.6554 - precision: 0.5646 - recall: 0.5804\n",
      "Epoch 10: ReduceLROnPlateau reducing learning rate to 2.499999936844688e-05.\n",
      "\n",
      "Epoch 10: val_accuracy did not improve from 0.68098\n",
      "\n",
      "Epoch 10: val_accuracy did not improve from 0.68098\n",
      "\n",
      "Epoch 10: val_accuracy did not improve from 0.68098\n",
      "21/21 [==============================] - 103s 5s/step - loss: 0.8842 - accuracy: 0.6202 - auc: 0.6554 - precision: 0.5646 - recall: 0.5804 - val_loss: 0.6595 - val_accuracy: 0.6074 - val_auc: 0.6649 - val_precision: 0.4861 - val_recall: 0.5645 - lr: 5.0000e-05\n",
      "Epoch 11/50\n",
      "21/21 [==============================] - ETA: 0s - loss: 0.7759 - accuracy: 0.6401 - auc: 0.6943 - precision: 0.5895 - recall: 0.5874\n",
      "Epoch 11: val_accuracy did not improve from 0.68098\n",
      "\n",
      "Epoch 11: val_accuracy did not improve from 0.68098\n",
      "\n",
      "Epoch 11: val_accuracy did not improve from 0.68098\n",
      "21/21 [==============================] - 102s 5s/step - loss: 0.7759 - accuracy: 0.6401 - auc: 0.6943 - precision: 0.5895 - recall: 0.5874 - val_loss: 0.6384 - val_accuracy: 0.6748 - val_auc: 0.6844 - val_precision: 0.6552 - val_recall: 0.3065 - lr: 2.5000e-05\n",
      "Epoch 12/50\n",
      "21/21 [==============================] - ETA: 0s - loss: 0.7772 - accuracy: 0.6202 - auc: 0.6743 - precision: 0.5785 - recall: 0.4895\n",
      "Epoch 12: val_accuracy did not improve from 0.68098\n",
      "\n",
      "Epoch 12: val_accuracy did not improve from 0.68098\n",
      "\n",
      "Epoch 12: val_accuracy did not improve from 0.68098\n",
      "21/21 [==============================] - 103s 5s/step - loss: 0.7772 - accuracy: 0.6202 - auc: 0.6743 - precision: 0.5785 - recall: 0.4895 - val_loss: 0.6252 - val_accuracy: 0.6564 - val_auc: 0.7081 - val_precision: 0.5395 - val_recall: 0.6613 - lr: 2.5000e-05\n",
      "Epoch 13/50\n",
      "21/21 [==============================] - ETA: 0s - loss: 0.7995 - accuracy: 0.6386 - auc: 0.6835 - precision: 0.5776 - recall: 0.6503\n",
      "Epoch 13: ReduceLROnPlateau reducing learning rate to 1.249999968422344e-05.\n",
      "\n",
      "Epoch 13: val_accuracy improved from 0.68098 to 0.68712, saving model to models/stage/AKNet_EfficientNet-vij64dxe.keras\n",
      "\n",
      "Epoch 13: val_accuracy improved from 0.68098 to 0.68712, saving model to models/stage/AKNet_Inception-57waajbg.keras\n",
      "\n",
      "Epoch 13: val_accuracy improved from 0.68098 to 0.68712, saving model to models/stage/AKNet_InceptionResNet-5smc685p.keras\n",
      "21/21 [==============================] - 113s 5s/step - loss: 0.7995 - accuracy: 0.6386 - auc: 0.6835 - precision: 0.5776 - recall: 0.6503 - val_loss: 0.6287 - val_accuracy: 0.6871 - val_auc: 0.6888 - val_precision: 0.7619 - val_recall: 0.2581 - lr: 2.5000e-05\n",
      "Epoch 14/50\n",
      "21/21 [==============================] - ETA: 0s - loss: 0.7544 - accuracy: 0.6417 - auc: 0.6783 - precision: 0.6040 - recall: 0.5280\n",
      "Epoch 14: val_accuracy improved from 0.68712 to 0.69325, saving model to models/stage/AKNet_EfficientNet-vij64dxe.keras\n",
      "\n",
      "Epoch 14: val_accuracy improved from 0.68712 to 0.69325, saving model to models/stage/AKNet_Inception-57waajbg.keras\n",
      "\n",
      "Epoch 14: val_accuracy improved from 0.68712 to 0.69325, saving model to models/stage/AKNet_InceptionResNet-5smc685p.keras\n",
      "21/21 [==============================] - 112s 5s/step - loss: 0.7544 - accuracy: 0.6417 - auc: 0.6783 - precision: 0.6040 - recall: 0.5280 - val_loss: 0.5975 - val_accuracy: 0.6933 - val_auc: 0.7144 - val_precision: 0.6667 - val_recall: 0.3871 - lr: 1.2500e-05\n",
      "Epoch 15/50\n",
      "21/21 [==============================] - ETA: 0s - loss: 0.6681 - accuracy: 0.6723 - auc: 0.7260 - precision: 0.6304 - recall: 0.6084\n",
      "Epoch 15: val_accuracy did not improve from 0.69325\n",
      "\n",
      "Epoch 15: val_accuracy did not improve from 0.69325\n",
      "\n",
      "Epoch 15: val_accuracy did not improve from 0.69325\n",
      "21/21 [==============================] - 105s 5s/step - loss: 0.6681 - accuracy: 0.6723 - auc: 0.7260 - precision: 0.6304 - recall: 0.6084 - val_loss: 0.5999 - val_accuracy: 0.6626 - val_auc: 0.7103 - val_precision: 0.5660 - val_recall: 0.4839 - lr: 1.2500e-05\n",
      "Epoch 16/50\n",
      "21/21 [==============================] - ETA: 0s - loss: 0.6455 - accuracy: 0.6738 - auc: 0.7417 - precision: 0.6347 - recall: 0.6014\n",
      "Epoch 16: val_accuracy did not improve from 0.69325\n",
      "\n",
      "Epoch 16: val_accuracy did not improve from 0.69325\n",
      "\n",
      "Epoch 16: val_accuracy did not improve from 0.69325\n",
      "21/21 [==============================] - 102s 5s/step - loss: 0.6455 - accuracy: 0.6738 - auc: 0.7417 - precision: 0.6347 - recall: 0.6014 - val_loss: 0.6002 - val_accuracy: 0.6503 - val_auc: 0.7130 - val_precision: 0.5397 - val_recall: 0.5484 - lr: 1.2500e-05\n",
      "Epoch 17/50\n",
      "21/21 [==============================] - ETA: 0s - loss: 0.6270 - accuracy: 0.6845 - auc: 0.7425 - precision: 0.6361 - recall: 0.6538\n",
      "Epoch 17: ReduceLROnPlateau reducing learning rate to 6.24999984211172e-06.\n",
      "\n",
      "Epoch 17: val_accuracy did not improve from 0.69325\n",
      "\n",
      "Epoch 17: val_accuracy did not improve from 0.69325\n",
      "\n",
      "Epoch 17: val_accuracy did not improve from 0.69325\n",
      "21/21 [==============================] - 102s 5s/step - loss: 0.6270 - accuracy: 0.6845 - auc: 0.7425 - precision: 0.6361 - recall: 0.6538 - val_loss: 0.6015 - val_accuracy: 0.6626 - val_auc: 0.7201 - val_precision: 0.5556 - val_recall: 0.5645 - lr: 1.2500e-05\n",
      "Epoch 18/50\n",
      "21/21 [==============================] - ETA: 0s - loss: 0.6382 - accuracy: 0.6922 - auc: 0.7435 - precision: 0.6557 - recall: 0.6259\n",
      "Epoch 18: val_accuracy did not improve from 0.69325\n",
      "\n",
      "Epoch 18: val_accuracy did not improve from 0.69325\n",
      "\n",
      "Epoch 18: val_accuracy did not improve from 0.69325\n",
      "21/21 [==============================] - 103s 5s/step - loss: 0.6382 - accuracy: 0.6922 - auc: 0.7435 - precision: 0.6557 - recall: 0.6259 - val_loss: 0.5962 - val_accuracy: 0.6810 - val_auc: 0.7169 - val_precision: 0.6042 - val_recall: 0.4677 - lr: 6.2500e-06\n",
      "Epoch 19/50\n",
      "21/21 [==============================] - ETA: 0s - loss: 0.5627 - accuracy: 0.7213 - auc: 0.7832 - precision: 0.6884 - recall: 0.6643\n",
      "Epoch 19: val_accuracy did not improve from 0.69325\n",
      "\n",
      "Epoch 19: val_accuracy did not improve from 0.69325\n",
      "\n",
      "Epoch 19: val_accuracy did not improve from 0.69325\n",
      "21/21 [==============================] - 103s 5s/step - loss: 0.5627 - accuracy: 0.7213 - auc: 0.7832 - precision: 0.6884 - recall: 0.6643 - val_loss: 0.5969 - val_accuracy: 0.6748 - val_auc: 0.7156 - val_precision: 0.5849 - val_recall: 0.5000 - lr: 6.2500e-06\n",
      "Epoch 20/50\n",
      "21/21 [==============================] - ETA: 0s - loss: 0.5947 - accuracy: 0.6891 - auc: 0.7626 - precision: 0.6426 - recall: 0.6538\n",
      "Epoch 20: val_accuracy did not improve from 0.69325\n",
      "\n",
      "Epoch 20: val_accuracy did not improve from 0.69325\n",
      "\n",
      "Epoch 20: val_accuracy did not improve from 0.69325\n",
      "21/21 [==============================] - 103s 5s/step - loss: 0.5947 - accuracy: 0.6891 - auc: 0.7626 - precision: 0.6426 - recall: 0.6538 - val_loss: 0.5983 - val_accuracy: 0.6626 - val_auc: 0.7150 - val_precision: 0.5593 - val_recall: 0.5323 - lr: 6.2500e-06\n",
      "Epoch 21/50\n",
      "21/21 [==============================] - ETA: 0s - loss: 0.5883 - accuracy: 0.6953 - auc: 0.7675 - precision: 0.6570 - recall: 0.6364\n",
      "Epoch 21: ReduceLROnPlateau reducing learning rate to 3.12499992105586e-06.\n",
      "\n",
      "Epoch 21: val_accuracy did not improve from 0.69325\n",
      "\n",
      "Epoch 21: val_accuracy did not improve from 0.69325\n",
      "\n",
      "Epoch 21: val_accuracy did not improve from 0.69325\n",
      "21/21 [==============================] - 103s 5s/step - loss: 0.5883 - accuracy: 0.6953 - auc: 0.7675 - precision: 0.6570 - recall: 0.6364 - val_loss: 0.5974 - val_accuracy: 0.6687 - val_auc: 0.7168 - val_precision: 0.5870 - val_recall: 0.4355 - lr: 6.2500e-06\n",
      "Epoch 22/50\n",
      "21/21 [==============================] - ETA: 0s - loss: 0.5578 - accuracy: 0.7152 - auc: 0.7895 - precision: 0.6812 - recall: 0.6573\n",
      "Epoch 22: val_accuracy did not improve from 0.69325\n",
      "\n",
      "Epoch 22: val_accuracy did not improve from 0.69325\n",
      "\n",
      "Epoch 22: val_accuracy did not improve from 0.69325\n",
      "21/21 [==============================] - 103s 5s/step - loss: 0.5578 - accuracy: 0.7152 - auc: 0.7895 - precision: 0.6812 - recall: 0.6573 - val_loss: 0.5960 - val_accuracy: 0.6626 - val_auc: 0.7193 - val_precision: 0.5745 - val_recall: 0.4355 - lr: 3.1250e-06\n",
      "Epoch 23/50\n",
      "21/21 [==============================] - ETA: 0s - loss: 0.5886 - accuracy: 0.7075 - auc: 0.7666 - precision: 0.6792 - recall: 0.6294\n",
      "Epoch 23: val_accuracy did not improve from 0.69325\n",
      "\n",
      "Epoch 23: val_accuracy did not improve from 0.69325\n",
      "\n",
      "Epoch 23: val_accuracy did not improve from 0.69325\n",
      "21/21 [==============================] - 103s 5s/step - loss: 0.5886 - accuracy: 0.7075 - auc: 0.7666 - precision: 0.6792 - recall: 0.6294 - val_loss: 0.5954 - val_accuracy: 0.6626 - val_auc: 0.7203 - val_precision: 0.5714 - val_recall: 0.4516 - lr: 3.1250e-06\n",
      "Epoch 24/50\n",
      "21/21 [==============================] - ETA: 0s - loss: 0.5488 - accuracy: 0.7213 - auc: 0.7926 - precision: 0.7000 - recall: 0.6364\n",
      "Epoch 24: val_accuracy did not improve from 0.69325\n",
      "\n",
      "Epoch 24: val_accuracy did not improve from 0.69325\n",
      "\n",
      "Epoch 24: val_accuracy did not improve from 0.69325\n",
      "21/21 [==============================] - 102s 5s/step - loss: 0.5488 - accuracy: 0.7213 - auc: 0.7926 - precision: 0.7000 - recall: 0.6364 - val_loss: 0.5957 - val_accuracy: 0.6442 - val_auc: 0.7214 - val_precision: 0.5357 - val_recall: 0.4839 - lr: 3.1250e-06\n",
      "Epoch 25/50\n",
      "21/21 [==============================] - ETA: 0s - loss: 0.5791 - accuracy: 0.7029 - auc: 0.7694 - precision: 0.6756 - recall: 0.6189\n",
      "Epoch 25: val_accuracy did not improve from 0.69325\n",
      "\n",
      "Epoch 25: val_accuracy did not improve from 0.69325\n",
      "\n",
      "Epoch 25: val_accuracy did not improve from 0.69325\n",
      "21/21 [==============================] - 102s 5s/step - loss: 0.5791 - accuracy: 0.7029 - auc: 0.7694 - precision: 0.6756 - recall: 0.6189 - val_loss: 0.5963 - val_accuracy: 0.6687 - val_auc: 0.7226 - val_precision: 0.5625 - val_recall: 0.5806 - lr: 3.1250e-06\n",
      "Epoch 26/50\n",
      "21/21 [==============================] - ETA: 0s - loss: 0.5725 - accuracy: 0.7243 - auc: 0.7857 - precision: 0.6815 - recall: 0.6958\n",
      "Epoch 26: val_accuracy did not improve from 0.69325\n",
      "\n",
      "Epoch 26: val_accuracy did not improve from 0.69325\n",
      "\n",
      "Epoch 26: val_accuracy did not improve from 0.69325\n",
      "21/21 [==============================] - 103s 5s/step - loss: 0.5725 - accuracy: 0.7243 - auc: 0.7857 - precision: 0.6815 - recall: 0.6958 - val_loss: 0.5939 - val_accuracy: 0.6687 - val_auc: 0.7221 - val_precision: 0.5741 - val_recall: 0.5000 - lr: 3.1250e-06\n",
      "Epoch 27/50\n",
      "21/21 [==============================] - ETA: 0s - loss: 0.5227 - accuracy: 0.7381 - auc: 0.8122 - precision: 0.7122 - recall: 0.6748\n",
      "Epoch 27: val_accuracy did not improve from 0.69325\n",
      "\n",
      "Epoch 27: val_accuracy did not improve from 0.69325\n",
      "\n",
      "Epoch 27: val_accuracy did not improve from 0.69325\n",
      "21/21 [==============================] - 105s 5s/step - loss: 0.5227 - accuracy: 0.7381 - auc: 0.8122 - precision: 0.7122 - recall: 0.6748 - val_loss: 0.5933 - val_accuracy: 0.6626 - val_auc: 0.7238 - val_precision: 0.5660 - val_recall: 0.4839 - lr: 3.1250e-06\n",
      "Epoch 28/50\n",
      "21/21 [==============================] - ETA: 0s - loss: 0.5468 - accuracy: 0.7550 - auc: 0.8039 - precision: 0.7218 - recall: 0.7168\n",
      "Epoch 28: val_accuracy did not improve from 0.69325\n",
      "\n",
      "Epoch 28: val_accuracy did not improve from 0.69325\n",
      "\n",
      "Epoch 28: val_accuracy did not improve from 0.69325\n",
      "21/21 [==============================] - 102s 5s/step - loss: 0.5468 - accuracy: 0.7550 - auc: 0.8039 - precision: 0.7218 - recall: 0.7168 - val_loss: 0.5945 - val_accuracy: 0.6687 - val_auc: 0.7245 - val_precision: 0.5690 - val_recall: 0.5323 - lr: 3.1250e-06\n",
      "Epoch 29/50\n",
      "21/21 [==============================] - ETA: 0s - loss: 0.5337 - accuracy: 0.7320 - auc: 0.8080 - precision: 0.7018 - recall: 0.6748\n",
      "Epoch 29: val_accuracy did not improve from 0.69325\n",
      "\n",
      "Epoch 29: val_accuracy did not improve from 0.69325\n",
      "\n",
      "Epoch 29: val_accuracy did not improve from 0.69325\n",
      "21/21 [==============================] - 106s 5s/step - loss: 0.5337 - accuracy: 0.7320 - auc: 0.8080 - precision: 0.7018 - recall: 0.6748 - val_loss: 0.5935 - val_accuracy: 0.6442 - val_auc: 0.7237 - val_precision: 0.5333 - val_recall: 0.5161 - lr: 3.1250e-06\n",
      "Epoch 30/50\n",
      "21/21 [==============================] - ETA: 0s - loss: 0.5149 - accuracy: 0.7642 - auc: 0.8241 - precision: 0.7391 - recall: 0.7133\n",
      "Epoch 30: ReduceLROnPlateau reducing learning rate to 1.56249996052793e-06.\n",
      "\n",
      "Epoch 30: val_accuracy did not improve from 0.69325\n",
      "\n",
      "Epoch 30: val_accuracy did not improve from 0.69325\n",
      "\n",
      "Epoch 30: val_accuracy did not improve from 0.69325\n",
      "21/21 [==============================] - 103s 5s/step - loss: 0.5149 - accuracy: 0.7642 - auc: 0.8241 - precision: 0.7391 - recall: 0.7133 - val_loss: 0.5947 - val_accuracy: 0.6626 - val_auc: 0.7272 - val_precision: 0.5574 - val_recall: 0.5484 - lr: 3.1250e-06\n",
      "Epoch 31/50\n",
      "21/21 [==============================] - ETA: 0s - loss: 0.5502 - accuracy: 0.7198 - auc: 0.7977 - precision: 0.6711 - recall: 0.7063\n",
      "Epoch 31: val_accuracy did not improve from 0.69325\n",
      "\n",
      "Epoch 31: val_accuracy did not improve from 0.69325\n",
      "\n",
      "Epoch 31: val_accuracy did not improve from 0.69325\n",
      "21/21 [==============================] - 102s 5s/step - loss: 0.5502 - accuracy: 0.7198 - auc: 0.7977 - precision: 0.6711 - recall: 0.7063 - val_loss: 0.5935 - val_accuracy: 0.6626 - val_auc: 0.7290 - val_precision: 0.5574 - val_recall: 0.5484 - lr: 1.5625e-06\n",
      "Epoch 32/50\n",
      "21/21 [==============================] - ETA: 0s - loss: 0.5375 - accuracy: 0.7121 - auc: 0.8013 - precision: 0.6775 - recall: 0.6538\n",
      "Epoch 32: val_accuracy did not improve from 0.69325\n",
      "\n",
      "Epoch 32: val_accuracy did not improve from 0.69325\n",
      "\n",
      "Epoch 32: val_accuracy did not improve from 0.69325\n",
      "21/21 [==============================] - 103s 5s/step - loss: 0.5375 - accuracy: 0.7121 - auc: 0.8013 - precision: 0.6775 - recall: 0.6538 - val_loss: 0.5914 - val_accuracy: 0.6687 - val_auc: 0.7301 - val_precision: 0.5667 - val_recall: 0.5484 - lr: 1.5625e-06\n",
      "Epoch 33/50\n",
      "21/21 [==============================] - ETA: 0s - loss: 0.5228 - accuracy: 0.7534 - auc: 0.8130 - precision: 0.7323 - recall: 0.6888\n",
      "Epoch 33: val_accuracy did not improve from 0.69325\n",
      "\n",
      "Epoch 33: val_accuracy did not improve from 0.69325\n",
      "\n",
      "Epoch 33: val_accuracy did not improve from 0.69325\n",
      "21/21 [==============================] - 104s 5s/step - loss: 0.5228 - accuracy: 0.7534 - auc: 0.8130 - precision: 0.7323 - recall: 0.6888 - val_loss: 0.5909 - val_accuracy: 0.6687 - val_auc: 0.7299 - val_precision: 0.5667 - val_recall: 0.5484 - lr: 1.5625e-06\n",
      "Epoch 34/50\n",
      "21/21 [==============================] - ETA: 0s - loss: 0.5323 - accuracy: 0.7427 - auc: 0.8102 - precision: 0.7153 - recall: 0.6853\n",
      "Epoch 34: val_accuracy did not improve from 0.69325\n",
      "\n",
      "Epoch 34: val_accuracy did not improve from 0.69325\n",
      "\n",
      "Epoch 34: val_accuracy did not improve from 0.69325\n",
      "21/21 [==============================] - 102s 5s/step - loss: 0.5323 - accuracy: 0.7427 - auc: 0.8102 - precision: 0.7153 - recall: 0.6853 - val_loss: 0.5897 - val_accuracy: 0.6626 - val_auc: 0.7279 - val_precision: 0.5593 - val_recall: 0.5323 - lr: 1.5625e-06\n",
      "Epoch 35/50\n",
      "21/21 [==============================] - ETA: 0s - loss: 0.5301 - accuracy: 0.7259 - auc: 0.8030 - precision: 0.6904 - recall: 0.6783\n",
      "Epoch 35: val_accuracy did not improve from 0.69325\n",
      "\n",
      "Epoch 35: val_accuracy did not improve from 0.69325\n",
      "\n",
      "Epoch 35: val_accuracy did not improve from 0.69325\n",
      "21/21 [==============================] - 103s 5s/step - loss: 0.5301 - accuracy: 0.7259 - auc: 0.8030 - precision: 0.6904 - recall: 0.6783 - val_loss: 0.5885 - val_accuracy: 0.6687 - val_auc: 0.7291 - val_precision: 0.5667 - val_recall: 0.5484 - lr: 1.5625e-06\n",
      "Epoch 36/50\n",
      "21/21 [==============================] - ETA: 0s - loss: 0.5043 - accuracy: 0.7519 - auc: 0.8249 - precision: 0.7279 - recall: 0.6923\n",
      "Epoch 36: val_accuracy did not improve from 0.69325\n",
      "\n",
      "Epoch 36: val_accuracy did not improve from 0.69325\n",
      "\n",
      "Epoch 36: val_accuracy did not improve from 0.69325\n",
      "21/21 [==============================] - 102s 5s/step - loss: 0.5043 - accuracy: 0.7519 - auc: 0.8249 - precision: 0.7279 - recall: 0.6923 - val_loss: 0.5884 - val_accuracy: 0.6748 - val_auc: 0.7304 - val_precision: 0.5763 - val_recall: 0.5484 - lr: 1.5625e-06\n",
      "Epoch 37/50\n",
      "21/21 [==============================] - ETA: 0s - loss: 0.5528 - accuracy: 0.7228 - auc: 0.7932 - precision: 0.6923 - recall: 0.6608\n",
      "Epoch 37: val_accuracy did not improve from 0.69325\n",
      "\n",
      "Epoch 37: val_accuracy did not improve from 0.69325\n",
      "\n",
      "Epoch 37: val_accuracy did not improve from 0.69325\n",
      "21/21 [==============================] - 102s 5s/step - loss: 0.5528 - accuracy: 0.7228 - auc: 0.7932 - precision: 0.6923 - recall: 0.6608 - val_loss: 0.5897 - val_accuracy: 0.6748 - val_auc: 0.7308 - val_precision: 0.5738 - val_recall: 0.5645 - lr: 1.5625e-06\n",
      "Epoch 38/50\n",
      "21/21 [==============================] - ETA: 0s - loss: 0.5218 - accuracy: 0.7259 - auc: 0.8134 - precision: 0.6904 - recall: 0.6783\n",
      "Epoch 38: ReduceLROnPlateau reducing learning rate to 7.81249980263965e-07.\n",
      "\n",
      "Epoch 38: val_accuracy did not improve from 0.69325\n",
      "\n",
      "Epoch 38: val_accuracy did not improve from 0.69325\n",
      "\n",
      "Epoch 38: val_accuracy did not improve from 0.69325\n",
      "21/21 [==============================] - 102s 5s/step - loss: 0.5218 - accuracy: 0.7259 - auc: 0.8134 - precision: 0.6904 - recall: 0.6783 - val_loss: 0.5900 - val_accuracy: 0.6748 - val_auc: 0.7284 - val_precision: 0.5738 - val_recall: 0.5645 - lr: 1.5625e-06\n",
      "Epoch 39/50\n",
      "21/21 [==============================] - ETA: 0s - loss: 0.5334 - accuracy: 0.7305 - auc: 0.8039 - precision: 0.6993 - recall: 0.6748\n",
      "Epoch 39: val_accuracy did not improve from 0.69325\n",
      "\n",
      "Epoch 39: val_accuracy did not improve from 0.69325\n",
      "\n",
      "Epoch 39: val_accuracy did not improve from 0.69325\n",
      "21/21 [==============================] - 104s 5s/step - loss: 0.5334 - accuracy: 0.7305 - auc: 0.8039 - precision: 0.6993 - recall: 0.6748 - val_loss: 0.5891 - val_accuracy: 0.6748 - val_auc: 0.7295 - val_precision: 0.5738 - val_recall: 0.5645 - lr: 7.8125e-07\n",
      "Epoch 40/50\n",
      "21/21 [==============================] - ETA: 0s - loss: 0.5272 - accuracy: 0.7458 - auc: 0.8151 - precision: 0.7190 - recall: 0.6888\n",
      "Epoch 40: val_accuracy did not improve from 0.69325\n",
      "\n",
      "Epoch 40: val_accuracy did not improve from 0.69325\n",
      "\n",
      "Epoch 40: val_accuracy did not improve from 0.69325\n",
      "21/21 [==============================] - 102s 5s/step - loss: 0.5272 - accuracy: 0.7458 - auc: 0.8151 - precision: 0.7190 - recall: 0.6888 - val_loss: 0.5899 - val_accuracy: 0.6748 - val_auc: 0.7285 - val_precision: 0.5738 - val_recall: 0.5645 - lr: 7.8125e-07\n",
      "Epoch 41/50\n",
      "21/21 [==============================] - ETA: 0s - loss: 0.5164 - accuracy: 0.7443 - auc: 0.8210 - precision: 0.7164 - recall: 0.6888\n",
      "Epoch 41: ReduceLROnPlateau reducing learning rate to 3.906249901319825e-07.\n",
      "\n",
      "Epoch 41: val_accuracy did not improve from 0.69325\n",
      "\n",
      "Epoch 41: val_accuracy did not improve from 0.69325\n",
      "\n",
      "Epoch 41: val_accuracy did not improve from 0.69325\n",
      "21/21 [==============================] - 102s 5s/step - loss: 0.5164 - accuracy: 0.7443 - auc: 0.8210 - precision: 0.7164 - recall: 0.6888 - val_loss: 0.5898 - val_accuracy: 0.6626 - val_auc: 0.7280 - val_precision: 0.5593 - val_recall: 0.5323 - lr: 7.8125e-07\n",
      "Epoch 42/50\n",
      "21/21 [==============================] - ETA: 0s - loss: 0.5559 - accuracy: 0.7320 - auc: 0.7929 - precision: 0.6975 - recall: 0.6853\n",
      "Epoch 42: val_accuracy did not improve from 0.69325\n",
      "\n",
      "Epoch 42: val_accuracy did not improve from 0.69325\n",
      "\n",
      "Epoch 42: val_accuracy did not improve from 0.69325\n",
      "21/21 [==============================] - 102s 5s/step - loss: 0.5559 - accuracy: 0.7320 - auc: 0.7929 - precision: 0.6975 - recall: 0.6853 - val_loss: 0.5895 - val_accuracy: 0.6687 - val_auc: 0.7289 - val_precision: 0.5667 - val_recall: 0.5484 - lr: 3.9062e-07\n",
      "Epoch 43/50\n",
      "21/21 [==============================] - ETA: 0s - loss: 0.5381 - accuracy: 0.7320 - auc: 0.8017 - precision: 0.6961 - recall: 0.6888\n",
      "Epoch 43: val_accuracy did not improve from 0.69325\n",
      "\n",
      "Epoch 43: val_accuracy did not improve from 0.69325\n",
      "\n",
      "Epoch 43: val_accuracy did not improve from 0.69325\n",
      "21/21 [==============================] - 102s 5s/step - loss: 0.5381 - accuracy: 0.7320 - auc: 0.8017 - precision: 0.6961 - recall: 0.6888 - val_loss: 0.5893 - val_accuracy: 0.6687 - val_auc: 0.7285 - val_precision: 0.5667 - val_recall: 0.5484 - lr: 3.9062e-07\n",
      "Epoch 44/50\n",
      "21/21 [==============================] - ETA: 0s - loss: 0.5218 - accuracy: 0.7504 - auc: 0.8167 - precision: 0.7189 - recall: 0.7063\n",
      "Epoch 44: ReduceLROnPlateau reducing learning rate to 1.9531249506599124e-07.\n",
      "\n",
      "Epoch 44: val_accuracy did not improve from 0.69325\n",
      "\n",
      "Epoch 44: val_accuracy did not improve from 0.69325\n",
      "\n",
      "Epoch 44: val_accuracy did not improve from 0.69325\n",
      "21/21 [==============================] - 102s 5s/step - loss: 0.5218 - accuracy: 0.7504 - auc: 0.8167 - precision: 0.7189 - recall: 0.7063 - val_loss: 0.5891 - val_accuracy: 0.6748 - val_auc: 0.7286 - val_precision: 0.5738 - val_recall: 0.5645 - lr: 3.9062e-07\n",
      "Epoch 45/50\n",
      "21/21 [==============================] - ETA: 0s - loss: 0.5288 - accuracy: 0.7473 - auc: 0.8077 - precision: 0.7249 - recall: 0.6818Restoring model weights from the end of the best epoch: 35.\n",
      "\n",
      "Epoch 45: val_accuracy did not improve from 0.69325\n",
      "\n",
      "Epoch 45: val_accuracy did not improve from 0.69325\n",
      "\n",
      "Epoch 45: val_accuracy did not improve from 0.69325\n",
      "21/21 [==============================] - 104s 5s/step - loss: 0.5288 - accuracy: 0.7473 - auc: 0.8077 - precision: 0.7249 - recall: 0.6818 - val_loss: 0.5891 - val_accuracy: 0.6748 - val_auc: 0.7290 - val_precision: 0.5738 - val_recall: 0.5645 - lr: 1.9531e-07\n",
      "Epoch 45: early stopping\n"
     ]
    },
    {
     "name": "stderr",
     "output_type": "stream",
     "text": [
      "wandb: WARNING Source type is set to 'repo' but some required information is missing from the environment. A job will not be created from this run. See https://docs.wandb.ai/guides/launch/create-job\n"
     ]
    },
    {
     "data": {
      "application/vnd.jupyter.widget-view+json": {
       "model_id": "468b0a6225df4eba92f998da916daaaf",
       "version_major": 2,
       "version_minor": 0
      },
      "text/plain": [
       "VBox(children=(Label(value='0.015 MB of 0.015 MB uploaded\\r'), FloatProgress(value=1.0, max=1.0)))"
      ]
     },
     "metadata": {},
     "output_type": "display_data"
    },
    {
     "data": {
      "text/html": [
       "<style>\n",
       "    table.wandb td:nth-child(1) { padding: 0 10px; text-align: left ; width: auto;} td:nth-child(2) {text-align: left ; width: 100%}\n",
       "    .wandb-row { display: flex; flex-direction: row; flex-wrap: wrap; justify-content: flex-start; width: 100% }\n",
       "    .wandb-col { display: flex; flex-direction: column; flex-basis: 100%; flex: 1; padding: 10px; }\n",
       "    </style>\n",
       "<div class=\"wandb-row\"><div class=\"wandb-col\"><h3>Run history:</h3><br/><table class=\"wandb\"><tr><td>epoch/accuracy</td><td>▁▂▃▃▃▃▄▄▄▅▄▅▅▆▆▆▇▆▆▇▇▇▇▇█▇█▇▇▇▇█▇▇▇█▇▇██</td></tr><tr><td>epoch/auc</td><td>▁▂▂▃▃▃▅▅▄▅▅▅▅▆▆▆▇▇▇▇▇▇▇▇███▇▇███▇████▇██</td></tr><tr><td>epoch/epoch</td><td>▁▁▁▁▂▂▂▂▂▃▃▃▃▃▃▄▄▄▄▄▅▅▅▅▅▅▆▆▆▆▆▇▇▇▇▇▇███</td></tr><tr><td>epoch/learning_rate</td><td>███▄▄▄▄▄▃▃▃▂▂▂▂▁▁▁▁▁▁▁▁▁▁▁▁▁▁▁▁▁▁▁▁▁▁▁▁▁</td></tr><tr><td>epoch/loss</td><td>█▆▅▄▄▄▂▂▂▂▂▂▂▁▁▁▁▁▁▁▁▁▁▁▁▁▁▁▁▁▁▁▁▁▁▁▁▁▁▁</td></tr><tr><td>epoch/lr</td><td>████▄▄▄▄▄▃▃▃▂▂▂▁▁▁▁▁▁▁▁▁▁▁▁▁▁▁▁▁▁▁▁▁▁▁▁▁</td></tr><tr><td>epoch/precision</td><td>▁▂▃▃▃▃▄▄▄▅▄▄▅▆▆▆▇▆▆▇▇▇▇▇█▇█▆▇▇▇█▇▇▇█▇▇██</td></tr><tr><td>epoch/recall</td><td>▁▂▁▂▃▃▄▄▅▅▂▆▃▅▅▆▇▆▆▇▆▆▇▇█▇██▆▇▇▇▇▇▇▇▇▇█▇</td></tr><tr><td>epoch/val_accuracy</td><td>█▆▅▁▆▆▇▇▆▇▇██▇▇█▇▇▇▇▇▇▇▇▇▇▇▇▇▇▇▇▇▇▇▇▇▇▇▇</td></tr><tr><td>epoch/val_auc</td><td>▄▁▂▃▆▅▅▅▅▆▇▆▇▇▇▇▇▇▇▇████████████████████</td></tr><tr><td>epoch/val_loss</td><td>▂█▂▅▁▁▁▁▁▁▁▁▁▁▁▁▁▁▁▁▁▁▁▁▁▁▁▁▁▁▁▁▁▁▁▁▁▁▁▁</td></tr><tr><td>epoch/val_precision</td><td>▇▁▅▅▆▆▆▆▅▇▆█▇▆▆▇▆▆▆▆▆▆▆▆▆▆▆▆▆▆▆▆▆▆▆▆▆▆▆▆</td></tr><tr><td>epoch/val_recall</td><td>▃▁▅█▅▅▅▅▅▃▆▃▄▅▅▅▅▅▄▄▅▅▅▅▅▅▅▅▅▅▅▅▅▅▅▅▅▅▅▅</td></tr></table><br/></div><div class=\"wandb-col\"><h3>Run summary:</h3><br/><table class=\"wandb\"><tr><td>epoch/accuracy</td><td>0.74732</td></tr><tr><td>epoch/auc</td><td>0.80767</td></tr><tr><td>epoch/epoch</td><td>44</td></tr><tr><td>epoch/learning_rate</td><td>0.0</td></tr><tr><td>epoch/loss</td><td>0.52877</td></tr><tr><td>epoch/lr</td><td>0.0</td></tr><tr><td>epoch/precision</td><td>0.72491</td></tr><tr><td>epoch/recall</td><td>0.68182</td></tr><tr><td>epoch/val_accuracy</td><td>0.67485</td></tr><tr><td>epoch/val_auc</td><td>0.729</td></tr><tr><td>epoch/val_loss</td><td>0.58911</td></tr><tr><td>epoch/val_precision</td><td>0.57377</td></tr><tr><td>epoch/val_recall</td><td>0.56452</td></tr></table><br/></div></div>"
      ],
      "text/plain": [
       "<IPython.core.display.HTML object>"
      ]
     },
     "metadata": {},
     "output_type": "display_data"
    },
    {
     "data": {
      "text/html": [
       " View run <strong style=\"color:#cdcd00\">AKNet_InceptionResNet</strong> at: <a href='https://wandb.ai/aistudio/Breast-Cancer-Detection-Stage/runs/5smc685p' target=\"_blank\">https://wandb.ai/aistudio/Breast-Cancer-Detection-Stage/runs/5smc685p</a><br/>Synced 6 W&B file(s), 3 media file(s), 3 artifact file(s) and 0 other file(s)"
      ],
      "text/plain": [
       "<IPython.core.display.HTML object>"
      ]
     },
     "metadata": {},
     "output_type": "display_data"
    },
    {
     "data": {
      "text/html": [
       "Find logs at: <code>./wandb/run-20240215_081027-5smc685p/logs</code>"
      ],
      "text/plain": [
       "<IPython.core.display.HTML object>"
      ]
     },
     "metadata": {},
     "output_type": "display_data"
    },
    {
     "name": "stdout",
     "output_type": "stream",
     "text": [
      "WARNING:tensorflow:`input_shape` is undefined or non-square, or `rows` is not in [96, 128, 160, 192, 224]. Weights for input shape (224, 224) will be loaded as the default.\n",
      "WARNING:tensorflow:`input_shape` is undefined or non-square, or `rows` is not in [96, 128, 160, 192, 224]. Weights for input shape (224, 224) will be loaded as the default.\n",
      "WARNING:tensorflow:`input_shape` is undefined or non-square, or `rows` is not in [96, 128, 160, 192, 224]. Weights for input shape (224, 224) will be loaded as the default.\n",
      "WARNING:tensorflow:`input_shape` is undefined or non-square, or `rows` is not in [96, 128, 160, 192, 224]. Weights for input shape (224, 224) will be loaded as the default.\n",
      "# ================================================================================================ #\n",
      "                                          AKNet_MobileNet                                           \n",
      "# ------------------------------------------------------------------------------------------------ #\n",
      "Model: \"model\"\n",
      "_________________________________________________________________\n",
      " Layer (type)                Output Shape              Param #   \n",
      "=================================================================\n",
      " AKNet_MobileNet_input_layer  [(None, 224, 224, 3)]    0         \n",
      "  (InputLayer)                                                   \n",
      "                                                                 \n",
      " tf.math.truediv (TFOpLambda  (None, 224, 224, 3)      0         \n",
      " )                                                               \n",
      "                                                                 \n",
      " tf.math.subtract (TFOpLambd  (None, 224, 224, 3)      0         \n",
      " a)                                                              \n",
      "                                                                 \n",
      " data_augmentation (Sequenti  (None, 224, 224, 3)      0         \n",
      " al)                                                             \n",
      "                                                                 \n",
      " mobilenetv2_1.00_224 (Funct  (None, None, None, 1280)  2257984  \n",
      " ional)                                                          \n",
      "                                                                 \n",
      " AKNet_MobileNet_flatten (Fl  (None, 62720)            0         \n",
      " atten)                                                          \n",
      "                                                                 \n",
      " AKNet_MobileNet_dense_1 (De  (None, 2048)             128452608 \n",
      " nse)                                                            \n",
      "                                                                 \n",
      " AKNet_MobileNet_dropout_1 (  (None, 2048)             0         \n",
      " Dropout)                                                        \n",
      "                                                                 \n",
      " AKNet_MobileNet_dense_2 (De  (None, 1024)             2098176   \n",
      " nse)                                                            \n",
      "                                                                 \n",
      " AKNet_MobileNet_dropout_2 (  (None, 1024)             0         \n",
      " Dropout)                                                        \n",
      "                                                                 \n",
      " AKNet_MobileNet_output_laye  (None, 1)                1025      \n",
      " r (Dense)                                                       \n",
      "                                                                 \n",
      "=================================================================\n",
      "Total params: 132,809,793\n",
      "Trainable params: 130,551,809\n",
      "Non-trainable params: 2,257,984\n",
      "_________________________________________________________________\n",
      "# ------------------------------------------------------------------------------------------------ #\n",
      "\n",
      "\n",
      "                                            AKNetConfig                                             \n",
      "                                        Activation | sigmoid\n",
      "                                      Output Shape | 1\n",
      "                                            Dense1 | 2048\n",
      "                                          Dropout1 | 0.5\n",
      "                                            Dense2 | 1024\n",
      "                                          Dropout2 | 0.5\n",
      "\n",
      "\n",
      "# ================================================================================================ #\n"
     ]
    },
    {
     "data": {
      "text/html": [
       "wandb version 0.16.3 is available!  To upgrade, please run:\n",
       " $ pip install wandb --upgrade"
      ],
      "text/plain": [
       "<IPython.core.display.HTML object>"
      ]
     },
     "metadata": {},
     "output_type": "display_data"
    },
    {
     "data": {
      "text/html": [
       "Tracking run with wandb version 0.16.2"
      ],
      "text/plain": [
       "<IPython.core.display.HTML object>"
      ]
     },
     "metadata": {},
     "output_type": "display_data"
    },
    {
     "data": {
      "text/html": [
       "Run data is saved locally in <code>/home/john/projects/bcd/wandb/run-20240215_092914-y77qlqej</code>"
      ],
      "text/plain": [
       "<IPython.core.display.HTML object>"
      ]
     },
     "metadata": {},
     "output_type": "display_data"
    },
    {
     "data": {
      "text/html": [
       "Syncing run <strong><a href='https://wandb.ai/aistudio/Breast-Cancer-Detection-Stage/runs/y77qlqej' target=\"_blank\">AKNet_MobileNet</a></strong> to <a href='https://wandb.ai/aistudio/Breast-Cancer-Detection-Stage' target=\"_blank\">Weights & Biases</a> (<a href='https://wandb.me/run' target=\"_blank\">docs</a>)<br/>"
      ],
      "text/plain": [
       "<IPython.core.display.HTML object>"
      ]
     },
     "metadata": {},
     "output_type": "display_data"
    },
    {
     "data": {
      "text/html": [
       " View project at <a href='https://wandb.ai/aistudio/Breast-Cancer-Detection-Stage' target=\"_blank\">https://wandb.ai/aistudio/Breast-Cancer-Detection-Stage</a>"
      ],
      "text/plain": [
       "<IPython.core.display.HTML object>"
      ]
     },
     "metadata": {},
     "output_type": "display_data"
    },
    {
     "data": {
      "text/html": [
       " View run at <a href='https://wandb.ai/aistudio/Breast-Cancer-Detection-Stage/runs/y77qlqej' target=\"_blank\">https://wandb.ai/aistudio/Breast-Cancer-Detection-Stage/runs/y77qlqej</a>"
      ],
      "text/plain": [
       "<IPython.core.display.HTML object>"
      ]
     },
     "metadata": {},
     "output_type": "display_data"
    },
    {
     "name": "stdout",
     "output_type": "stream",
     "text": [
      "Epoch 1/50\n",
      "21/21 [==============================] - ETA: 0s - loss: 2.4852 - accuracy: 0.5253 - auc: 0.5454 - precision: 0.4775 - recall: 0.4569\n",
      "Epoch 1: val_accuracy did not improve from 0.69325\n",
      "\n",
      "Epoch 1: val_accuracy did not improve from 0.69325\n",
      "\n",
      "Epoch 1: val_accuracy did not improve from 0.69325\n",
      "\n",
      "Epoch 1: val_accuracy improved from -inf to 0.61350, saving model to models/stage/AKNet_MobileNet-y77qlqej.keras\n",
      "21/21 [==============================] - 49s 2s/step - loss: 2.4852 - accuracy: 0.5253 - auc: 0.5454 - precision: 0.4775 - recall: 0.4569 - val_loss: 1.0067 - val_accuracy: 0.6135 - val_auc: 0.5968 - val_precision: 0.4912 - val_recall: 0.4516 - lr: 1.0000e-04\n",
      "Epoch 2/50\n",
      "21/21 [==============================] - ETA: 0s - loss: 2.3290 - accuracy: 0.5988 - auc: 0.6058 - precision: 0.5405 - recall: 0.5594\n",
      "Epoch 2: val_accuracy did not improve from 0.69325\n",
      "\n",
      "Epoch 2: val_accuracy did not improve from 0.69325\n",
      "\n",
      "Epoch 2: val_accuracy did not improve from 0.69325\n",
      "\n",
      "Epoch 2: val_accuracy did not improve from 0.61350\n",
      "21/21 [==============================] - 41s 2s/step - loss: 2.3290 - accuracy: 0.5988 - auc: 0.6058 - precision: 0.5405 - recall: 0.5594 - val_loss: 2.0796 - val_accuracy: 0.4233 - val_auc: 0.6711 - val_precision: 0.3947 - val_recall: 0.9677 - lr: 1.0000e-04\n",
      "Epoch 3/50\n",
      "21/21 [==============================] - ETA: 0s - loss: 1.9706 - accuracy: 0.5911 - auc: 0.6202 - precision: 0.5331 - recall: 0.5350\n",
      "Epoch 3: val_accuracy did not improve from 0.69325\n",
      "\n",
      "Epoch 3: val_accuracy did not improve from 0.69325\n",
      "\n",
      "Epoch 3: val_accuracy did not improve from 0.69325\n",
      "\n",
      "Epoch 3: val_accuracy did not improve from 0.61350\n",
      "21/21 [==============================] - 40s 2s/step - loss: 1.9706 - accuracy: 0.5911 - auc: 0.6202 - precision: 0.5331 - recall: 0.5350 - val_loss: 1.7880 - val_accuracy: 0.5215 - val_auc: 0.6091 - val_precision: 0.4365 - val_recall: 0.8871 - lr: 1.0000e-04\n",
      "Epoch 4/50\n",
      "21/21 [==============================] - ETA: 0s - loss: 1.9907 - accuracy: 0.6064 - auc: 0.6411 - precision: 0.5509 - recall: 0.5490\n",
      "Epoch 4: ReduceLROnPlateau reducing learning rate to 4.999999873689376e-05.\n",
      "\n",
      "Epoch 4: val_accuracy did not improve from 0.69325\n",
      "\n",
      "Epoch 4: val_accuracy did not improve from 0.69325\n",
      "\n",
      "Epoch 4: val_accuracy did not improve from 0.69325\n",
      "\n",
      "Epoch 4: val_accuracy did not improve from 0.61350\n",
      "21/21 [==============================] - 40s 2s/step - loss: 1.9907 - accuracy: 0.6064 - auc: 0.6411 - precision: 0.5509 - recall: 0.5490 - val_loss: 1.0180 - val_accuracy: 0.5951 - val_auc: 0.6788 - val_precision: 0.4796 - val_recall: 0.7581 - lr: 1.0000e-04\n",
      "Epoch 5/50\n",
      "21/21 [==============================] - ETA: 0s - loss: 1.3801 - accuracy: 0.6708 - auc: 0.7146 - precision: 0.6263 - recall: 0.6154\n",
      "Epoch 5: val_accuracy did not improve from 0.69325\n",
      "\n",
      "Epoch 5: val_accuracy did not improve from 0.69325\n",
      "\n",
      "Epoch 5: val_accuracy did not improve from 0.69325\n",
      "\n",
      "Epoch 5: val_accuracy did not improve from 0.61350\n",
      "21/21 [==============================] - 41s 2s/step - loss: 1.3801 - accuracy: 0.6708 - auc: 0.7146 - precision: 0.6263 - recall: 0.6154 - val_loss: 0.9323 - val_accuracy: 0.6074 - val_auc: 0.6615 - val_precision: 0.4886 - val_recall: 0.6935 - lr: 5.0000e-05\n",
      "Epoch 6/50\n",
      "21/21 [==============================] - ETA: 0s - loss: 1.1973 - accuracy: 0.6753 - auc: 0.7364 - precision: 0.6312 - recall: 0.6224\n",
      "Epoch 6: val_accuracy did not improve from 0.69325\n",
      "\n",
      "Epoch 6: val_accuracy did not improve from 0.69325\n",
      "\n",
      "Epoch 6: val_accuracy did not improve from 0.69325\n",
      "\n",
      "Epoch 6: val_accuracy improved from 0.61350 to 0.68098, saving model to models/stage/AKNet_MobileNet-y77qlqej.keras\n",
      "21/21 [==============================] - 43s 2s/step - loss: 1.1973 - accuracy: 0.6753 - auc: 0.7364 - precision: 0.6312 - recall: 0.6224 - val_loss: 0.8156 - val_accuracy: 0.6810 - val_auc: 0.6904 - val_precision: 0.5806 - val_recall: 0.5806 - lr: 5.0000e-05\n",
      "Epoch 7/50\n",
      "21/21 [==============================] - ETA: 0s - loss: 0.9492 - accuracy: 0.6998 - auc: 0.7709 - precision: 0.6692 - recall: 0.6224\n",
      "Epoch 7: val_accuracy did not improve from 0.69325\n",
      "\n",
      "Epoch 7: val_accuracy did not improve from 0.69325\n",
      "\n",
      "Epoch 7: val_accuracy did not improve from 0.69325\n",
      "\n",
      "Epoch 7: val_accuracy did not improve from 0.68098\n",
      "21/21 [==============================] - 40s 2s/step - loss: 0.9492 - accuracy: 0.6998 - auc: 0.7709 - precision: 0.6692 - recall: 0.6224 - val_loss: 1.2497 - val_accuracy: 0.5521 - val_auc: 0.6841 - val_precision: 0.4530 - val_recall: 0.8548 - lr: 5.0000e-05\n",
      "Epoch 8/50\n",
      "21/21 [==============================] - ETA: 0s - loss: 1.0802 - accuracy: 0.6845 - auc: 0.7515 - precision: 0.6408 - recall: 0.6364\n",
      "Epoch 8: val_accuracy did not improve from 0.69325\n",
      "\n",
      "Epoch 8: val_accuracy did not improve from 0.69325\n",
      "\n",
      "Epoch 8: val_accuracy did not improve from 0.69325\n",
      "\n",
      "Epoch 8: val_accuracy did not improve from 0.68098\n",
      "21/21 [==============================] - 40s 2s/step - loss: 1.0802 - accuracy: 0.6845 - auc: 0.7515 - precision: 0.6408 - recall: 0.6364 - val_loss: 1.5383 - val_accuracy: 0.5583 - val_auc: 0.6630 - val_precision: 0.4590 - val_recall: 0.9032 - lr: 5.0000e-05\n",
      "Epoch 9/50\n",
      "21/21 [==============================] - ETA: 0s - loss: 0.9264 - accuracy: 0.6937 - auc: 0.7805 - precision: 0.6414 - recall: 0.6818\n",
      "Epoch 9: ReduceLROnPlateau reducing learning rate to 2.499999936844688e-05.\n",
      "\n",
      "Epoch 9: val_accuracy did not improve from 0.69325\n",
      "\n",
      "Epoch 9: val_accuracy did not improve from 0.69325\n",
      "\n",
      "Epoch 9: val_accuracy did not improve from 0.69325\n",
      "\n",
      "Epoch 9: val_accuracy did not improve from 0.68098\n",
      "21/21 [==============================] - 40s 2s/step - loss: 0.9264 - accuracy: 0.6937 - auc: 0.7805 - precision: 0.6414 - recall: 0.6818 - val_loss: 0.8932 - val_accuracy: 0.6319 - val_auc: 0.6543 - val_precision: 0.5200 - val_recall: 0.4194 - lr: 5.0000e-05\n",
      "Epoch 10/50\n",
      "21/21 [==============================] - ETA: 0s - loss: 0.7954 - accuracy: 0.7412 - auc: 0.8095 - precision: 0.7191 - recall: 0.6713\n",
      "Epoch 10: val_accuracy did not improve from 0.69325\n",
      "\n",
      "Epoch 10: val_accuracy did not improve from 0.69325\n",
      "\n",
      "Epoch 10: val_accuracy did not improve from 0.69325\n",
      "\n",
      "Epoch 10: val_accuracy did not improve from 0.68098\n",
      "21/21 [==============================] - 40s 2s/step - loss: 0.7954 - accuracy: 0.7412 - auc: 0.8095 - precision: 0.7191 - recall: 0.6713 - val_loss: 0.8822 - val_accuracy: 0.6074 - val_auc: 0.6695 - val_precision: 0.4878 - val_recall: 0.6452 - lr: 2.5000e-05\n",
      "Epoch 11/50\n",
      "21/21 [==============================] - ETA: 0s - loss: 0.6745 - accuracy: 0.7504 - auc: 0.8287 - precision: 0.7173 - recall: 0.7098\n",
      "Epoch 11: val_accuracy did not improve from 0.69325\n",
      "\n",
      "Epoch 11: val_accuracy did not improve from 0.69325\n",
      "\n",
      "Epoch 11: val_accuracy did not improve from 0.69325\n",
      "\n",
      "Epoch 11: val_accuracy did not improve from 0.68098\n",
      "21/21 [==============================] - 40s 2s/step - loss: 0.6745 - accuracy: 0.7504 - auc: 0.8287 - precision: 0.7173 - recall: 0.7098 - val_loss: 0.9558 - val_accuracy: 0.5706 - val_auc: 0.6587 - val_precision: 0.4545 - val_recall: 0.6452 - lr: 2.5000e-05\n",
      "Epoch 12/50\n",
      "21/21 [==============================] - ETA: 0s - loss: 0.5898 - accuracy: 0.7795 - auc: 0.8603 - precision: 0.7610 - recall: 0.7238\n",
      "Epoch 12: ReduceLROnPlateau reducing learning rate to 1.249999968422344e-05.\n",
      "\n",
      "Epoch 12: val_accuracy did not improve from 0.69325\n",
      "\n",
      "Epoch 12: val_accuracy did not improve from 0.69325\n",
      "\n",
      "Epoch 12: val_accuracy did not improve from 0.69325\n",
      "\n",
      "Epoch 12: val_accuracy did not improve from 0.68098\n",
      "21/21 [==============================] - 40s 2s/step - loss: 0.5898 - accuracy: 0.7795 - auc: 0.8603 - precision: 0.7610 - recall: 0.7238 - val_loss: 1.0026 - val_accuracy: 0.5767 - val_auc: 0.6764 - val_precision: 0.4653 - val_recall: 0.7581 - lr: 2.5000e-05\n",
      "Epoch 13/50\n",
      "21/21 [==============================] - ETA: 0s - loss: 0.5098 - accuracy: 0.7948 - auc: 0.8811 - precision: 0.7405 - recall: 0.8182\n",
      "Epoch 13: val_accuracy did not improve from 0.69325\n",
      "\n",
      "Epoch 13: val_accuracy did not improve from 0.69325\n",
      "\n",
      "Epoch 13: val_accuracy did not improve from 0.69325\n",
      "\n",
      "Epoch 13: val_accuracy did not improve from 0.68098\n",
      "21/21 [==============================] - 40s 2s/step - loss: 0.5098 - accuracy: 0.7948 - auc: 0.8811 - precision: 0.7405 - recall: 0.8182 - val_loss: 0.8135 - val_accuracy: 0.6442 - val_auc: 0.6773 - val_precision: 0.5294 - val_recall: 0.5806 - lr: 1.2500e-05\n",
      "Epoch 14/50\n",
      "21/21 [==============================] - ETA: 0s - loss: 0.5297 - accuracy: 0.7841 - auc: 0.8736 - precision: 0.7562 - recall: 0.7483\n",
      "Epoch 14: val_accuracy did not improve from 0.69325\n",
      "\n",
      "Epoch 14: val_accuracy did not improve from 0.69325\n",
      "\n",
      "Epoch 14: val_accuracy did not improve from 0.69325\n",
      "\n",
      "Epoch 14: val_accuracy did not improve from 0.68098\n",
      "21/21 [==============================] - 41s 2s/step - loss: 0.5297 - accuracy: 0.7841 - auc: 0.8736 - precision: 0.7562 - recall: 0.7483 - val_loss: 0.8299 - val_accuracy: 0.6380 - val_auc: 0.6763 - val_precision: 0.5195 - val_recall: 0.6452 - lr: 1.2500e-05\n",
      "Epoch 15/50\n",
      "21/21 [==============================] - ETA: 0s - loss: 0.5442 - accuracy: 0.7810 - auc: 0.8682 - precision: 0.7544 - recall: 0.7413\n",
      "Epoch 15: val_accuracy did not improve from 0.69325\n",
      "\n",
      "Epoch 15: val_accuracy did not improve from 0.69325\n",
      "\n",
      "Epoch 15: val_accuracy did not improve from 0.69325\n",
      "\n",
      "Epoch 15: val_accuracy did not improve from 0.68098\n",
      "21/21 [==============================] - 40s 2s/step - loss: 0.5442 - accuracy: 0.7810 - auc: 0.8682 - precision: 0.7544 - recall: 0.7413 - val_loss: 0.8260 - val_accuracy: 0.6074 - val_auc: 0.6726 - val_precision: 0.4865 - val_recall: 0.5806 - lr: 1.2500e-05\n",
      "Epoch 16/50\n",
      "21/21 [==============================] - ETA: 0s - loss: 0.5132 - accuracy: 0.8178 - auc: 0.8811 - precision: 0.8127 - recall: 0.7587\n",
      "Epoch 16: ReduceLROnPlateau reducing learning rate to 6.24999984211172e-06.\n",
      "\n",
      "Epoch 16: val_accuracy did not improve from 0.69325\n",
      "\n",
      "Epoch 16: val_accuracy did not improve from 0.69325\n",
      "\n",
      "Epoch 16: val_accuracy did not improve from 0.69325\n",
      "\n",
      "Epoch 16: val_accuracy did not improve from 0.68098\n",
      "21/21 [==============================] - 41s 2s/step - loss: 0.5132 - accuracy: 0.8178 - auc: 0.8811 - precision: 0.8127 - recall: 0.7587 - val_loss: 0.8370 - val_accuracy: 0.6135 - val_auc: 0.6740 - val_precision: 0.4937 - val_recall: 0.6290 - lr: 1.2500e-05\n",
      "Epoch 17/50\n",
      "21/21 [==============================] - ETA: 0s - loss: 0.4339 - accuracy: 0.8270 - auc: 0.9055 - precision: 0.8035 - recall: 0.8007\n",
      "Epoch 17: val_accuracy did not improve from 0.69325\n",
      "\n",
      "Epoch 17: val_accuracy did not improve from 0.69325\n",
      "\n",
      "Epoch 17: val_accuracy did not improve from 0.69325\n",
      "\n",
      "Epoch 17: val_accuracy did not improve from 0.68098\n",
      "21/21 [==============================] - 40s 2s/step - loss: 0.4339 - accuracy: 0.8270 - auc: 0.9055 - precision: 0.8035 - recall: 0.8007 - val_loss: 0.8507 - val_accuracy: 0.6074 - val_auc: 0.6726 - val_precision: 0.4875 - val_recall: 0.6290 - lr: 6.2500e-06\n",
      "Epoch 18/50\n",
      "21/21 [==============================] - ETA: 0s - loss: 0.4896 - accuracy: 0.8055 - auc: 0.8916 - precision: 0.7770 - recall: 0.7797\n",
      "Epoch 18: val_accuracy did not improve from 0.69325\n",
      "\n",
      "Epoch 18: val_accuracy did not improve from 0.69325\n",
      "\n",
      "Epoch 18: val_accuracy did not improve from 0.69325\n",
      "\n",
      "Epoch 18: val_accuracy did not improve from 0.68098\n",
      "21/21 [==============================] - 40s 2s/step - loss: 0.4896 - accuracy: 0.8055 - auc: 0.8916 - precision: 0.7770 - recall: 0.7797 - val_loss: 0.8259 - val_accuracy: 0.6135 - val_auc: 0.6715 - val_precision: 0.4932 - val_recall: 0.5806 - lr: 6.2500e-06\n",
      "Epoch 19/50\n",
      "21/21 [==============================] - ETA: 0s - loss: 0.4344 - accuracy: 0.8315 - auc: 0.9039 - precision: 0.8188 - recall: 0.7902\n",
      "Epoch 19: ReduceLROnPlateau reducing learning rate to 3.12499992105586e-06.\n",
      "\n",
      "Epoch 19: val_accuracy did not improve from 0.69325\n",
      "\n",
      "Epoch 19: val_accuracy did not improve from 0.69325\n",
      "\n",
      "Epoch 19: val_accuracy did not improve from 0.69325\n",
      "\n",
      "Epoch 19: val_accuracy did not improve from 0.68098\n",
      "21/21 [==============================] - 40s 2s/step - loss: 0.4344 - accuracy: 0.8315 - auc: 0.9039 - precision: 0.8188 - recall: 0.7902 - val_loss: 0.8260 - val_accuracy: 0.6319 - val_auc: 0.6732 - val_precision: 0.5135 - val_recall: 0.6129 - lr: 6.2500e-06\n",
      "Epoch 20/50\n",
      "21/21 [==============================] - ETA: 0s - loss: 0.3880 - accuracy: 0.8484 - auc: 0.9168 - precision: 0.8235 - recall: 0.8322\n",
      "Epoch 20: val_accuracy did not improve from 0.69325\n",
      "\n",
      "Epoch 20: val_accuracy did not improve from 0.69325\n",
      "\n",
      "Epoch 20: val_accuracy did not improve from 0.69325\n",
      "\n",
      "Epoch 20: val_accuracy did not improve from 0.68098\n",
      "21/21 [==============================] - 40s 2s/step - loss: 0.3880 - accuracy: 0.8484 - auc: 0.9168 - precision: 0.8235 - recall: 0.8322 - val_loss: 0.8231 - val_accuracy: 0.6258 - val_auc: 0.6746 - val_precision: 0.5068 - val_recall: 0.5968 - lr: 3.1250e-06\n",
      "Epoch 21/50\n",
      "21/21 [==============================] - ETA: 0s - loss: 0.3784 - accuracy: 0.8453 - auc: 0.9227 - precision: 0.8571 - recall: 0.7762\n",
      "Epoch 21: val_accuracy did not improve from 0.69325\n",
      "\n",
      "Epoch 21: val_accuracy did not improve from 0.69325\n",
      "\n",
      "Epoch 21: val_accuracy did not improve from 0.69325\n",
      "\n",
      "Epoch 21: val_accuracy did not improve from 0.68098\n",
      "21/21 [==============================] - 40s 2s/step - loss: 0.3784 - accuracy: 0.8453 - auc: 0.9227 - precision: 0.8571 - recall: 0.7762 - val_loss: 0.8274 - val_accuracy: 0.6196 - val_auc: 0.6745 - val_precision: 0.5000 - val_recall: 0.6129 - lr: 3.1250e-06\n",
      "Epoch 22/50\n",
      "21/21 [==============================] - ETA: 0s - loss: 0.3382 - accuracy: 0.8530 - auc: 0.9310 - precision: 0.8322 - recall: 0.8322\n",
      "Epoch 22: ReduceLROnPlateau reducing learning rate to 1.56249996052793e-06.\n",
      "\n",
      "Epoch 22: val_accuracy did not improve from 0.69325\n",
      "\n",
      "Epoch 22: val_accuracy did not improve from 0.69325\n",
      "\n",
      "Epoch 22: val_accuracy did not improve from 0.69325\n",
      "\n",
      "Epoch 22: val_accuracy did not improve from 0.68098\n",
      "21/21 [==============================] - 40s 2s/step - loss: 0.3382 - accuracy: 0.8530 - auc: 0.9310 - precision: 0.8322 - recall: 0.8322 - val_loss: 0.8441 - val_accuracy: 0.6196 - val_auc: 0.6717 - val_precision: 0.5000 - val_recall: 0.6452 - lr: 3.1250e-06\n",
      "Epoch 23/50\n",
      "21/21 [==============================] - ETA: 0s - loss: 0.4374 - accuracy: 0.8315 - auc: 0.9024 - precision: 0.8099 - recall: 0.8042Restoring model weights from the end of the best epoch: 13.\n",
      "\n",
      "Epoch 23: val_accuracy did not improve from 0.69325\n",
      "\n",
      "Epoch 23: val_accuracy did not improve from 0.69325\n",
      "\n",
      "Epoch 23: val_accuracy did not improve from 0.69325\n",
      "\n",
      "Epoch 23: val_accuracy did not improve from 0.68098\n",
      "21/21 [==============================] - 40s 2s/step - loss: 0.4374 - accuracy: 0.8315 - auc: 0.9024 - precision: 0.8099 - recall: 0.8042 - val_loss: 0.8381 - val_accuracy: 0.6074 - val_auc: 0.6732 - val_precision: 0.4872 - val_recall: 0.6129 - lr: 1.5625e-06\n",
      "Epoch 23: early stopping\n"
     ]
    },
    {
     "name": "stderr",
     "output_type": "stream",
     "text": [
      "wandb: WARNING Source type is set to 'repo' but some required information is missing from the environment. A job will not be created from this run. See https://docs.wandb.ai/guides/launch/create-job\n"
     ]
    },
    {
     "data": {
      "application/vnd.jupyter.widget-view+json": {
       "model_id": "3e7e4a21487e40308e0d8d9e28c18b74",
       "version_major": 2,
       "version_minor": 0
      },
      "text/plain": [
       "VBox(children=(Label(value='0.015 MB of 0.017 MB uploaded\\r'), FloatProgress(value=0.9111666477337271, max=1.0…"
      ]
     },
     "metadata": {},
     "output_type": "display_data"
    },
    {
     "data": {
      "text/html": [
       "<style>\n",
       "    table.wandb td:nth-child(1) { padding: 0 10px; text-align: left ; width: auto;} td:nth-child(2) {text-align: left ; width: 100%}\n",
       "    .wandb-row { display: flex; flex-direction: row; flex-wrap: wrap; justify-content: flex-start; width: 100% }\n",
       "    .wandb-col { display: flex; flex-direction: column; flex-basis: 100%; flex: 1; padding: 10px; }\n",
       "    </style>\n",
       "<div class=\"wandb-row\"><div class=\"wandb-col\"><h3>Run history:</h3><br/><table class=\"wandb\"><tr><td>epoch/accuracy</td><td>▁▁▃▃▂▂▃▄▄▄▄▅▄▄▅▅▆▆▆▆▆▇▇▇▆▆▇▇▇▇▇█████████</td></tr><tr><td>epoch/auc</td><td>▁▁▂▂▂▂▃▄▄▄▄▅▅▅▅▅▆▆▆▇▇▇▇▇▇▇▇▇██▇███████▇▇</td></tr><tr><td>epoch/epoch</td><td>▁▁▁▁▂▂▂▂▂▃▃▃▃▃▄▄▄▄▄▅▅▅▅▅▅▅▆▆▆▆▆▇▇▇▇▇████</td></tr><tr><td>epoch/learning_rate</td><td>██████▄▄▄▄▄▄▄▄▃▃▃▃▃▂▂▂▂▂▂▂▁▁▁▁▁▁▁▁▁▁▁▁▁▁</td></tr><tr><td>epoch/loss</td><td>██▇▇▆▆▆▄▄▄▄▃▃▃▃▃▂▂▂▂▂▂▂▂▂▂▂▂▁▁▁▁▁▁▁▁▁▁▁▁</td></tr><tr><td>epoch/lr</td><td>███████▄▄▄▄▄▄▄▄▄▃▃▃▃▃▂▂▂▂▂▂▂▁▁▁▁▁▁▁▁▁▁▁▁</td></tr><tr><td>epoch/precision</td><td>▁▁▂▂▂▂▂▄▄▄▄▅▄▄▄▄▅▅▅▆▆▆▆▆▆▆▇▇▇▇▇▇▇▇▇███▇▇</td></tr><tr><td>epoch/recall</td><td>▁▁▃▃▂▂▃▄▄▄▄▄▄▄▅▅▅▅▆▆▆██▆▆▆▇▇▇▇▇▇▇██▇██▇▇</td></tr><tr><td>epoch/val_accuracy</td><td>▆▆▁▁▄▄▆▆▆██▄▅▅▇▇▆▆▅▅▅▇▇▇▆▆▆▆▆▆▆▇▇▇▇▆▆▆▆▆</td></tr><tr><td>epoch/val_auc</td><td>▁▁▇▇▂▂▇▆▆███▆▆▅▅▆▆▆▇▇▇▇▇▇▇▇▇▇▇▇▇▇▇▇▇▇▇▇▇</td></tr><tr><td>epoch/val_loss</td><td>▂▂██▆▆▂▂▂▁▁▃▅▅▁▁▁▁▂▂▂▁▁▁▁▁▁▁▁▁▁▁▁▁▁▁▁▁▁▁</td></tr><tr><td>epoch/val_precision</td><td>▅▅▁▁▃▃▄▅▅██▃▃▃▆▆▅▅▃▄▄▆▆▆▄▄▅▅▄▄▅▅▅▅▅▅▅▅▄▄</td></tr><tr><td>epoch/val_recall</td><td>▁▁██▇▇▅▅▅▃▃▇▇▇▁▁▄▄▄▅▅▃▃▄▃▃▄▄▄▄▃▃▃▃▃▃▄▄▃▃</td></tr></table><br/></div><div class=\"wandb-col\"><h3>Run summary:</h3><br/><table class=\"wandb\"><tr><td>epoch/accuracy</td><td>0.83155</td></tr><tr><td>epoch/auc</td><td>0.90243</td></tr><tr><td>epoch/epoch</td><td>22</td></tr><tr><td>epoch/learning_rate</td><td>0.0</td></tr><tr><td>epoch/loss</td><td>0.43739</td></tr><tr><td>epoch/lr</td><td>0.0</td></tr><tr><td>epoch/precision</td><td>0.80986</td></tr><tr><td>epoch/recall</td><td>0.8042</td></tr><tr><td>epoch/val_accuracy</td><td>0.60736</td></tr><tr><td>epoch/val_auc</td><td>0.67319</td></tr><tr><td>epoch/val_loss</td><td>0.83812</td></tr><tr><td>epoch/val_precision</td><td>0.48718</td></tr><tr><td>epoch/val_recall</td><td>0.6129</td></tr></table><br/></div></div>"
      ],
      "text/plain": [
       "<IPython.core.display.HTML object>"
      ]
     },
     "metadata": {},
     "output_type": "display_data"
    },
    {
     "data": {
      "text/html": [
       " View run <strong style=\"color:#cdcd00\">AKNet_MobileNet</strong> at: <a href='https://wandb.ai/aistudio/Breast-Cancer-Detection-Stage/runs/y77qlqej' target=\"_blank\">https://wandb.ai/aistudio/Breast-Cancer-Detection-Stage/runs/y77qlqej</a><br/>Synced 6 W&B file(s), 3 media file(s), 3 artifact file(s) and 0 other file(s)"
      ],
      "text/plain": [
       "<IPython.core.display.HTML object>"
      ]
     },
     "metadata": {},
     "output_type": "display_data"
    },
    {
     "data": {
      "text/html": [
       "Find logs at: <code>./wandb/run-20240215_092914-y77qlqej/logs</code>"
      ],
      "text/plain": [
       "<IPython.core.display.HTML object>"
      ]
     },
     "metadata": {},
     "output_type": "display_data"
    },
    {
     "name": "stdout",
     "output_type": "stream",
     "text": [
      "# ================================================================================================ #\n",
      "                                            AKNet_ResNet                                            \n",
      "# ------------------------------------------------------------------------------------------------ #\n",
      "Model: \"model\"\n",
      "_________________________________________________________________\n",
      " Layer (type)                Output Shape              Param #   \n",
      "=================================================================\n",
      " AKNet_ResNet_input_layer (I  [(None, 224, 224, 3)]    0         \n",
      " nputLayer)                                                      \n",
      "                                                                 \n",
      " tf.math.truediv (TFOpLambda  (None, 224, 224, 3)      0         \n",
      " )                                                               \n",
      "                                                                 \n",
      " tf.math.subtract (TFOpLambd  (None, 224, 224, 3)      0         \n",
      " a)                                                              \n",
      "                                                                 \n",
      " data_augmentation (Sequenti  (None, 224, 224, 3)      0         \n",
      " al)                                                             \n",
      "                                                                 \n",
      " resnet152v2 (Functional)    (None, None, None, 2048)  58331648  \n",
      "                                                                 \n",
      " AKNet_ResNet_flatten (Flatt  (None, 100352)           0         \n",
      " en)                                                             \n",
      "                                                                 \n",
      " AKNet_ResNet_dense_1 (Dense  (None, 2048)             205522944 \n",
      " )                                                               \n",
      "                                                                 \n",
      " AKNet_ResNet_dropout_1 (Dro  (None, 2048)             0         \n",
      " pout)                                                           \n",
      "                                                                 \n",
      " AKNet_ResNet_dense_2 (Dense  (None, 1024)             2098176   \n",
      " )                                                               \n",
      "                                                                 \n",
      " AKNet_ResNet_dropout_2 (Dro  (None, 1024)             0         \n",
      " pout)                                                           \n",
      "                                                                 \n",
      " AKNet_ResNet_output_layer (  (None, 1)                1025      \n",
      " Dense)                                                          \n",
      "                                                                 \n",
      "=================================================================\n",
      "Total params: 265,953,793\n",
      "Trainable params: 207,622,145\n",
      "Non-trainable params: 58,331,648\n",
      "_________________________________________________________________\n",
      "# ------------------------------------------------------------------------------------------------ #\n",
      "\n",
      "\n",
      "                                            AKNetConfig                                             \n",
      "                                        Activation | sigmoid\n",
      "                                      Output Shape | 1\n",
      "                                            Dense1 | 2048\n",
      "                                          Dropout1 | 0.5\n",
      "                                            Dense2 | 1024\n",
      "                                          Dropout2 | 0.5\n",
      "\n",
      "\n",
      "# ================================================================================================ #\n"
     ]
    },
    {
     "data": {
      "text/html": [
       "wandb version 0.16.3 is available!  To upgrade, please run:\n",
       " $ pip install wandb --upgrade"
      ],
      "text/plain": [
       "<IPython.core.display.HTML object>"
      ]
     },
     "metadata": {},
     "output_type": "display_data"
    },
    {
     "data": {
      "text/html": [
       "Tracking run with wandb version 0.16.2"
      ],
      "text/plain": [
       "<IPython.core.display.HTML object>"
      ]
     },
     "metadata": {},
     "output_type": "display_data"
    },
    {
     "data": {
      "text/html": [
       "Run data is saved locally in <code>/home/john/projects/bcd/wandb/run-20240215_094535-vmk9w1vl</code>"
      ],
      "text/plain": [
       "<IPython.core.display.HTML object>"
      ]
     },
     "metadata": {},
     "output_type": "display_data"
    },
    {
     "data": {
      "text/html": [
       "Syncing run <strong><a href='https://wandb.ai/aistudio/Breast-Cancer-Detection-Stage/runs/vmk9w1vl' target=\"_blank\">AKNet_ResNet</a></strong> to <a href='https://wandb.ai/aistudio/Breast-Cancer-Detection-Stage' target=\"_blank\">Weights & Biases</a> (<a href='https://wandb.me/run' target=\"_blank\">docs</a>)<br/>"
      ],
      "text/plain": [
       "<IPython.core.display.HTML object>"
      ]
     },
     "metadata": {},
     "output_type": "display_data"
    },
    {
     "data": {
      "text/html": [
       " View project at <a href='https://wandb.ai/aistudio/Breast-Cancer-Detection-Stage' target=\"_blank\">https://wandb.ai/aistudio/Breast-Cancer-Detection-Stage</a>"
      ],
      "text/plain": [
       "<IPython.core.display.HTML object>"
      ]
     },
     "metadata": {},
     "output_type": "display_data"
    },
    {
     "data": {
      "text/html": [
       " View run at <a href='https://wandb.ai/aistudio/Breast-Cancer-Detection-Stage/runs/vmk9w1vl' target=\"_blank\">https://wandb.ai/aistudio/Breast-Cancer-Detection-Stage/runs/vmk9w1vl</a>"
      ],
      "text/plain": [
       "<IPython.core.display.HTML object>"
      ]
     },
     "metadata": {},
     "output_type": "display_data"
    },
    {
     "name": "stdout",
     "output_type": "stream",
     "text": [
      "Epoch 1/50\n",
      "21/21 [==============================] - ETA: 0s - loss: 2.5483 - accuracy: 0.5069 - auc: 0.5295 - precision: 0.4469 - recall: 0.4598\n",
      "Epoch 1: val_accuracy did not improve from 0.69325\n",
      "\n",
      "Epoch 1: val_accuracy did not improve from 0.69325\n",
      "\n",
      "Epoch 1: val_accuracy did not improve from 0.69325\n",
      "\n",
      "Epoch 1: val_accuracy did not improve from 0.68098\n",
      "\n",
      "Epoch 1: val_accuracy improved from -inf to 0.47853, saving model to models/stage/AKNet_ResNet-vmk9w1vl.keras\n",
      "21/21 [==============================] - 203s 9s/step - loss: 2.5483 - accuracy: 0.5069 - auc: 0.5295 - precision: 0.4469 - recall: 0.4598 - val_loss: 1.9604 - val_accuracy: 0.4785 - val_auc: 0.5702 - val_precision: 0.4065 - val_recall: 0.8065 - lr: 1.0000e-04\n",
      "Epoch 2/50\n",
      "21/21 [==============================] - ETA: 0s - loss: 2.0141 - accuracy: 0.6355 - auc: 0.6726 - precision: 0.5816 - recall: 0.5979\n",
      "Epoch 2: val_accuracy did not improve from 0.69325\n",
      "\n",
      "Epoch 2: val_accuracy did not improve from 0.69325\n",
      "\n",
      "Epoch 2: val_accuracy did not improve from 0.69325\n",
      "\n",
      "Epoch 2: val_accuracy did not improve from 0.68098\n",
      "\n",
      "Epoch 2: val_accuracy improved from 0.47853 to 0.63190, saving model to models/stage/AKNet_ResNet-vmk9w1vl.keras\n",
      "21/21 [==============================] - 190s 9s/step - loss: 2.0141 - accuracy: 0.6355 - auc: 0.6726 - precision: 0.5816 - recall: 0.5979 - val_loss: 1.4790 - val_accuracy: 0.6319 - val_auc: 0.6199 - val_precision: 0.5250 - val_recall: 0.3387 - lr: 1.0000e-04\n",
      "Epoch 3/50\n",
      "21/21 [==============================] - ETA: 0s - loss: 1.7720 - accuracy: 0.6570 - auc: 0.7093 - precision: 0.6115 - recall: 0.5944\n",
      "Epoch 3: val_accuracy did not improve from 0.69325\n",
      "\n",
      "Epoch 3: val_accuracy did not improve from 0.69325\n",
      "\n",
      "Epoch 3: val_accuracy did not improve from 0.69325\n",
      "\n",
      "Epoch 3: val_accuracy did not improve from 0.68098\n",
      "\n",
      "Epoch 3: val_accuracy did not improve from 0.63190\n",
      "21/21 [==============================] - 183s 9s/step - loss: 1.7720 - accuracy: 0.6570 - auc: 0.7093 - precision: 0.6115 - recall: 0.5944 - val_loss: 1.6501 - val_accuracy: 0.5521 - val_auc: 0.6290 - val_precision: 0.4522 - val_recall: 0.8387 - lr: 1.0000e-04\n",
      "Epoch 4/50\n",
      "21/21 [==============================] - ETA: 0s - loss: 1.8127 - accuracy: 0.6600 - auc: 0.7126 - precision: 0.6096 - recall: 0.6224\n",
      "Epoch 4: val_accuracy did not improve from 0.69325\n",
      "\n",
      "Epoch 4: val_accuracy did not improve from 0.69325\n",
      "\n",
      "Epoch 4: val_accuracy did not improve from 0.69325\n",
      "\n",
      "Epoch 4: val_accuracy did not improve from 0.68098\n",
      "\n",
      "Epoch 4: val_accuracy did not improve from 0.63190\n",
      "21/21 [==============================] - 182s 9s/step - loss: 1.8127 - accuracy: 0.6600 - auc: 0.7126 - precision: 0.6096 - recall: 0.6224 - val_loss: 1.8880 - val_accuracy: 0.5644 - val_auc: 0.6383 - val_precision: 0.4579 - val_recall: 0.7903 - lr: 1.0000e-04\n",
      "Epoch 5/50\n",
      "21/21 [==============================] - ETA: 0s - loss: 1.7201 - accuracy: 0.6784 - auc: 0.7335 - precision: 0.6387 - recall: 0.6119\n",
      "Epoch 5: val_accuracy did not improve from 0.69325\n",
      "\n",
      "Epoch 5: val_accuracy did not improve from 0.69325\n",
      "\n",
      "Epoch 5: val_accuracy did not improve from 0.69325\n",
      "\n",
      "Epoch 5: val_accuracy did not improve from 0.68098\n",
      "\n",
      "Epoch 5: val_accuracy did not improve from 0.63190\n",
      "21/21 [==============================] - 185s 9s/step - loss: 1.7201 - accuracy: 0.6784 - auc: 0.7335 - precision: 0.6387 - recall: 0.6119 - val_loss: 1.3999 - val_accuracy: 0.5399 - val_auc: 0.6493 - val_precision: 0.4369 - val_recall: 0.7258 - lr: 1.0000e-04\n",
      "Epoch 6/50\n",
      "21/21 [==============================] - ETA: 0s - loss: 1.6499 - accuracy: 0.6937 - auc: 0.7623 - precision: 0.6387 - recall: 0.6923\n",
      "Epoch 6: val_accuracy did not improve from 0.69325\n",
      "\n",
      "Epoch 6: val_accuracy did not improve from 0.69325\n",
      "\n",
      "Epoch 6: val_accuracy did not improve from 0.69325\n",
      "\n",
      "Epoch 6: val_accuracy did not improve from 0.68098\n",
      "\n",
      "Epoch 6: val_accuracy did not improve from 0.63190\n",
      "21/21 [==============================] - 181s 9s/step - loss: 1.6499 - accuracy: 0.6937 - auc: 0.7623 - precision: 0.6387 - recall: 0.6923 - val_loss: 1.8181 - val_accuracy: 0.5644 - val_auc: 0.6555 - val_precision: 0.4615 - val_recall: 0.8710 - lr: 1.0000e-04\n",
      "Epoch 7/50\n",
      "21/21 [==============================] - ETA: 0s - loss: 1.2402 - accuracy: 0.7443 - auc: 0.8017 - precision: 0.7088 - recall: 0.7063\n",
      "Epoch 7: val_accuracy did not improve from 0.69325\n",
      "\n",
      "Epoch 7: val_accuracy did not improve from 0.69325\n",
      "\n",
      "Epoch 7: val_accuracy did not improve from 0.69325\n",
      "\n",
      "Epoch 7: val_accuracy did not improve from 0.68098\n",
      "\n",
      "Epoch 7: val_accuracy did not improve from 0.63190\n",
      "21/21 [==============================] - 183s 9s/step - loss: 1.2402 - accuracy: 0.7443 - auc: 0.8017 - precision: 0.7088 - recall: 0.7063 - val_loss: 1.2288 - val_accuracy: 0.6319 - val_auc: 0.6635 - val_precision: 0.5143 - val_recall: 0.5806 - lr: 1.0000e-04\n",
      "Epoch 8/50\n",
      "21/21 [==============================] - ETA: 0s - loss: 0.8921 - accuracy: 0.7734 - auc: 0.8506 - precision: 0.7518 - recall: 0.7203\n",
      "Epoch 8: val_accuracy did not improve from 0.69325\n",
      "\n",
      "Epoch 8: val_accuracy did not improve from 0.69325\n",
      "\n",
      "Epoch 8: val_accuracy did not improve from 0.69325\n",
      "\n",
      "Epoch 8: val_accuracy did not improve from 0.68098\n",
      "\n",
      "Epoch 8: val_accuracy did not improve from 0.63190\n",
      "21/21 [==============================] - 184s 9s/step - loss: 0.8921 - accuracy: 0.7734 - auc: 0.8506 - precision: 0.7518 - recall: 0.7203 - val_loss: 1.1912 - val_accuracy: 0.5951 - val_auc: 0.6756 - val_precision: 0.4773 - val_recall: 0.6774 - lr: 1.0000e-04\n",
      "Epoch 9/50\n",
      "21/21 [==============================] - ETA: 0s - loss: 0.9107 - accuracy: 0.7734 - auc: 0.8564 - precision: 0.7413 - recall: 0.7413\n",
      "Epoch 9: val_accuracy did not improve from 0.69325\n",
      "\n",
      "Epoch 9: val_accuracy did not improve from 0.69325\n",
      "\n",
      "Epoch 9: val_accuracy did not improve from 0.69325\n",
      "\n",
      "Epoch 9: val_accuracy did not improve from 0.68098\n",
      "\n",
      "Epoch 9: val_accuracy did not improve from 0.63190\n",
      "21/21 [==============================] - 182s 9s/step - loss: 0.9107 - accuracy: 0.7734 - auc: 0.8564 - precision: 0.7413 - recall: 0.7413 - val_loss: 2.0938 - val_accuracy: 0.4969 - val_auc: 0.6832 - val_precision: 0.4265 - val_recall: 0.9355 - lr: 1.0000e-04\n",
      "Epoch 10/50\n",
      "21/21 [==============================] - ETA: 0s - loss: 0.7938 - accuracy: 0.7994 - auc: 0.8773 - precision: 0.7592 - recall: 0.7937\n",
      "Epoch 10: val_accuracy did not improve from 0.69325\n",
      "\n",
      "Epoch 10: val_accuracy did not improve from 0.69325\n",
      "\n",
      "Epoch 10: val_accuracy did not improve from 0.69325\n",
      "\n",
      "Epoch 10: val_accuracy did not improve from 0.68098\n",
      "\n",
      "Epoch 10: val_accuracy improved from 0.63190 to 0.66871, saving model to models/stage/AKNet_ResNet-vmk9w1vl.keras\n",
      "21/21 [==============================] - 188s 9s/step - loss: 0.7938 - accuracy: 0.7994 - auc: 0.8773 - precision: 0.7592 - recall: 0.7937 - val_loss: 1.2973 - val_accuracy: 0.6687 - val_auc: 0.6611 - val_precision: 0.5714 - val_recall: 0.5161 - lr: 1.0000e-04\n",
      "Epoch 11/50\n",
      "21/21 [==============================] - ETA: 0s - loss: 0.6409 - accuracy: 0.8315 - auc: 0.9100 - precision: 0.8212 - recall: 0.7867\n",
      "Epoch 11: ReduceLROnPlateau reducing learning rate to 4.999999873689376e-05.\n",
      "\n",
      "Epoch 11: val_accuracy did not improve from 0.69325\n",
      "\n",
      "Epoch 11: val_accuracy did not improve from 0.69325\n",
      "\n",
      "Epoch 11: val_accuracy did not improve from 0.69325\n",
      "\n",
      "Epoch 11: val_accuracy did not improve from 0.68098\n",
      "\n",
      "Epoch 11: val_accuracy did not improve from 0.66871\n",
      "21/21 [==============================] - 181s 9s/step - loss: 0.6409 - accuracy: 0.8315 - auc: 0.9100 - precision: 0.8212 - recall: 0.7867 - val_loss: 1.2337 - val_accuracy: 0.5951 - val_auc: 0.6587 - val_precision: 0.4762 - val_recall: 0.6452 - lr: 1.0000e-04\n",
      "Epoch 12/50\n",
      "21/21 [==============================] - ETA: 0s - loss: 0.5596 - accuracy: 0.8515 - auc: 0.9234 - precision: 0.8203 - recall: 0.8462\n",
      "Epoch 12: val_accuracy did not improve from 0.69325\n",
      "\n",
      "Epoch 12: val_accuracy did not improve from 0.69325\n",
      "\n",
      "Epoch 12: val_accuracy did not improve from 0.69325\n",
      "\n",
      "Epoch 12: val_accuracy did not improve from 0.68098\n",
      "\n",
      "Epoch 12: val_accuracy did not improve from 0.66871\n",
      "21/21 [==============================] - 183s 9s/step - loss: 0.5596 - accuracy: 0.8515 - auc: 0.9234 - precision: 0.8203 - recall: 0.8462 - val_loss: 1.1660 - val_accuracy: 0.6319 - val_auc: 0.6721 - val_precision: 0.5128 - val_recall: 0.6452 - lr: 5.0000e-05\n",
      "Epoch 13/50\n",
      "21/21 [==============================] - ETA: 0s - loss: 0.5756 - accuracy: 0.8652 - auc: 0.9329 - precision: 0.8587 - recall: 0.8287\n",
      "Epoch 13: val_accuracy did not improve from 0.69325\n",
      "\n",
      "Epoch 13: val_accuracy did not improve from 0.69325\n",
      "\n",
      "Epoch 13: val_accuracy did not improve from 0.69325\n",
      "\n",
      "Epoch 13: val_accuracy did not improve from 0.68098\n",
      "\n",
      "Epoch 13: val_accuracy did not improve from 0.66871\n",
      "21/21 [==============================] - 182s 9s/step - loss: 0.5756 - accuracy: 0.8652 - auc: 0.9329 - precision: 0.8587 - recall: 0.8287 - val_loss: 1.4333 - val_accuracy: 0.5951 - val_auc: 0.6670 - val_precision: 0.4778 - val_recall: 0.6935 - lr: 5.0000e-05\n",
      "Epoch 14/50\n",
      "21/21 [==============================] - ETA: 0s - loss: 0.4170 - accuracy: 0.8959 - auc: 0.9438 - precision: 0.8785 - recall: 0.8846\n",
      "Epoch 14: val_accuracy did not improve from 0.69325\n",
      "\n",
      "Epoch 14: val_accuracy did not improve from 0.69325\n",
      "\n",
      "Epoch 14: val_accuracy did not improve from 0.69325\n",
      "\n",
      "Epoch 14: val_accuracy did not improve from 0.68098\n",
      "\n",
      "Epoch 14: val_accuracy did not improve from 0.66871\n",
      "21/21 [==============================] - 183s 9s/step - loss: 0.4170 - accuracy: 0.8959 - auc: 0.9438 - precision: 0.8785 - recall: 0.8846 - val_loss: 1.3212 - val_accuracy: 0.6196 - val_auc: 0.6638 - val_precision: 0.5000 - val_recall: 0.6452 - lr: 5.0000e-05\n",
      "Epoch 15/50\n",
      "21/21 [==============================] - ETA: 0s - loss: 0.2311 - accuracy: 0.9234 - auc: 0.9720 - precision: 0.9214 - recall: 0.9021\n",
      "Epoch 15: ReduceLROnPlateau reducing learning rate to 2.499999936844688e-05.\n",
      "\n",
      "Epoch 15: val_accuracy did not improve from 0.69325\n",
      "\n",
      "Epoch 15: val_accuracy did not improve from 0.69325\n",
      "\n",
      "Epoch 15: val_accuracy did not improve from 0.69325\n",
      "\n",
      "Epoch 15: val_accuracy did not improve from 0.68098\n",
      "\n",
      "Epoch 15: val_accuracy did not improve from 0.66871\n",
      "21/21 [==============================] - 184s 9s/step - loss: 0.2311 - accuracy: 0.9234 - auc: 0.9720 - precision: 0.9214 - recall: 0.9021 - val_loss: 1.3646 - val_accuracy: 0.5951 - val_auc: 0.6802 - val_precision: 0.4783 - val_recall: 0.7097 - lr: 5.0000e-05\n",
      "Epoch 16/50\n",
      "21/21 [==============================] - ETA: 0s - loss: 0.2544 - accuracy: 0.9296 - auc: 0.9741 - precision: 0.9225 - recall: 0.9161\n",
      "Epoch 16: val_accuracy did not improve from 0.69325\n",
      "\n",
      "Epoch 16: val_accuracy did not improve from 0.69325\n",
      "\n",
      "Epoch 16: val_accuracy did not improve from 0.69325\n",
      "\n",
      "Epoch 16: val_accuracy did not improve from 0.68098\n",
      "\n",
      "Epoch 16: val_accuracy did not improve from 0.66871\n",
      "21/21 [==============================] - 182s 9s/step - loss: 0.2544 - accuracy: 0.9296 - auc: 0.9741 - precision: 0.9225 - recall: 0.9161 - val_loss: 1.2349 - val_accuracy: 0.6626 - val_auc: 0.6666 - val_precision: 0.5556 - val_recall: 0.5645 - lr: 2.5000e-05\n",
      "Epoch 17/50\n",
      "21/21 [==============================] - ETA: 0s - loss: 0.2122 - accuracy: 0.9326 - auc: 0.9775 - precision: 0.9116 - recall: 0.9371\n",
      "Epoch 17: val_accuracy did not improve from 0.69325\n",
      "\n",
      "Epoch 17: val_accuracy did not improve from 0.69325\n",
      "\n",
      "Epoch 17: val_accuracy did not improve from 0.69325\n",
      "\n",
      "Epoch 17: val_accuracy did not improve from 0.68098\n",
      "\n",
      "Epoch 17: val_accuracy did not improve from 0.66871\n",
      "21/21 [==============================] - 182s 9s/step - loss: 0.2122 - accuracy: 0.9326 - auc: 0.9775 - precision: 0.9116 - recall: 0.9371 - val_loss: 1.2361 - val_accuracy: 0.6503 - val_auc: 0.6740 - val_precision: 0.5373 - val_recall: 0.5806 - lr: 2.5000e-05\n",
      "Epoch 18/50\n",
      "21/21 [==============================] - ETA: 0s - loss: 0.2216 - accuracy: 0.9326 - auc: 0.9744 - precision: 0.9416 - recall: 0.9021\n",
      "Epoch 18: ReduceLROnPlateau reducing learning rate to 1.249999968422344e-05.\n",
      "\n",
      "Epoch 18: val_accuracy did not improve from 0.69325\n",
      "\n",
      "Epoch 18: val_accuracy did not improve from 0.69325\n",
      "\n",
      "Epoch 18: val_accuracy did not improve from 0.69325\n",
      "\n",
      "Epoch 18: val_accuracy did not improve from 0.68098\n",
      "\n",
      "Epoch 18: val_accuracy did not improve from 0.66871\n",
      "21/21 [==============================] - 182s 9s/step - loss: 0.2216 - accuracy: 0.9326 - auc: 0.9744 - precision: 0.9416 - recall: 0.9021 - val_loss: 1.3151 - val_accuracy: 0.6074 - val_auc: 0.6749 - val_precision: 0.4878 - val_recall: 0.6452 - lr: 2.5000e-05\n",
      "Epoch 19/50\n",
      "21/21 [==============================] - ETA: 0s - loss: 0.2160 - accuracy: 0.9219 - auc: 0.9782 - precision: 0.8930 - recall: 0.9336\n",
      "Epoch 19: val_accuracy did not improve from 0.69325\n",
      "\n",
      "Epoch 19: val_accuracy did not improve from 0.69325\n",
      "\n",
      "Epoch 19: val_accuracy did not improve from 0.69325\n",
      "\n",
      "Epoch 19: val_accuracy did not improve from 0.68098\n",
      "\n",
      "Epoch 19: val_accuracy did not improve from 0.66871\n",
      "21/21 [==============================] - 183s 9s/step - loss: 0.2160 - accuracy: 0.9219 - auc: 0.9782 - precision: 0.8930 - recall: 0.9336 - val_loss: 1.2763 - val_accuracy: 0.6503 - val_auc: 0.6735 - val_precision: 0.5362 - val_recall: 0.5968 - lr: 1.2500e-05\n",
      "Epoch 20/50\n",
      "21/21 [==============================] - ETA: 0s - loss: 0.2123 - accuracy: 0.9250 - auc: 0.9772 - precision: 0.9247 - recall: 0.9021\n",
      "Epoch 20: val_accuracy did not improve from 0.69325\n",
      "\n",
      "Epoch 20: val_accuracy did not improve from 0.69325\n",
      "\n",
      "Epoch 20: val_accuracy did not improve from 0.69325\n",
      "\n",
      "Epoch 20: val_accuracy did not improve from 0.68098\n",
      "\n",
      "Epoch 20: val_accuracy did not improve from 0.66871\n",
      "21/21 [==============================] - 181s 9s/step - loss: 0.2123 - accuracy: 0.9250 - auc: 0.9772 - precision: 0.9247 - recall: 0.9021 - val_loss: 1.3055 - val_accuracy: 0.6503 - val_auc: 0.6686 - val_precision: 0.5352 - val_recall: 0.6129 - lr: 1.2500e-05\n",
      "Epoch 21/50\n",
      "21/21 [==============================] - ETA: 0s - loss: 0.2070 - accuracy: 0.9280 - auc: 0.9809 - precision: 0.9107 - recall: 0.9266\n",
      "Epoch 21: ReduceLROnPlateau reducing learning rate to 6.24999984211172e-06.\n",
      "\n",
      "Epoch 21: val_accuracy did not improve from 0.69325\n",
      "\n",
      "Epoch 21: val_accuracy did not improve from 0.69325\n",
      "\n",
      "Epoch 21: val_accuracy did not improve from 0.69325\n",
      "\n",
      "Epoch 21: val_accuracy did not improve from 0.68098\n",
      "\n",
      "Epoch 21: val_accuracy did not improve from 0.66871\n",
      "21/21 [==============================] - 181s 9s/step - loss: 0.2070 - accuracy: 0.9280 - auc: 0.9809 - precision: 0.9107 - recall: 0.9266 - val_loss: 1.2935 - val_accuracy: 0.6626 - val_auc: 0.6681 - val_precision: 0.5556 - val_recall: 0.5645 - lr: 1.2500e-05\n",
      "Epoch 22/50\n",
      "21/21 [==============================] - ETA: 0s - loss: 0.1597 - accuracy: 0.9495 - auc: 0.9854 - precision: 0.9534 - recall: 0.9301Restoring model weights from the end of the best epoch: 12.\n",
      "\n",
      "Epoch 22: val_accuracy did not improve from 0.69325\n",
      "\n",
      "Epoch 22: val_accuracy did not improve from 0.69325\n",
      "\n",
      "Epoch 22: val_accuracy did not improve from 0.69325\n",
      "\n",
      "Epoch 22: val_accuracy did not improve from 0.68098\n",
      "\n",
      "Epoch 22: val_accuracy did not improve from 0.66871\n",
      "21/21 [==============================] - 184s 9s/step - loss: 0.1597 - accuracy: 0.9495 - auc: 0.9854 - precision: 0.9534 - recall: 0.9301 - val_loss: 1.2958 - val_accuracy: 0.6442 - val_auc: 0.6621 - val_precision: 0.5294 - val_recall: 0.5806 - lr: 6.2500e-06\n",
      "Epoch 22: early stopping\n"
     ]
    },
    {
     "name": "stderr",
     "output_type": "stream",
     "text": [
      "wandb: WARNING Source type is set to 'repo' but some required information is missing from the environment. A job will not be created from this run. See https://docs.wandb.ai/guides/launch/create-job\n"
     ]
    },
    {
     "data": {
      "application/vnd.jupyter.widget-view+json": {
       "model_id": "66c815bd2fc14482914619acf2919b7f",
       "version_major": 2,
       "version_minor": 0
      },
      "text/plain": [
       "VBox(children=(Label(value='0.016 MB of 0.016 MB uploaded\\r'), FloatProgress(value=1.0, max=1.0)))"
      ]
     },
     "metadata": {},
     "output_type": "display_data"
    },
    {
     "data": {
      "text/html": [
       "<style>\n",
       "    table.wandb td:nth-child(1) { padding: 0 10px; text-align: left ; width: auto;} td:nth-child(2) {text-align: left ; width: 100%}\n",
       "    .wandb-row { display: flex; flex-direction: row; flex-wrap: wrap; justify-content: flex-start; width: 100% }\n",
       "    .wandb-col { display: flex; flex-direction: column; flex-basis: 100%; flex: 1; padding: 10px; }\n",
       "    </style>\n",
       "<div class=\"wandb-row\"><div class=\"wandb-col\"><h3>Run history:</h3><br/><table class=\"wandb\"><tr><td>epoch/accuracy</td><td>▁▁▃▃▃▃▃▃▄▄▄▅▅▅▅▅▅▆▆▆▆▆▇▇▇▇██████████████</td></tr><tr><td>epoch/auc</td><td>▁▁▃▃▄▄▄▄▄▅▅▅▅▆▆▆▆▆▇▇▇▇▇▇▇▇██████████████</td></tr><tr><td>epoch/epoch</td><td>▁▁▁▁▂▂▂▂▂▃▃▃▃▃▃▄▄▄▄▄▅▅▅▅▅▅▆▆▆▆▆▇▇▇▇▇████</td></tr><tr><td>epoch/learning_rate</td><td>██████████████████▄▄▄▄▄▄▄▄▂▂▂▂▂▁▁▁▁▁▁▁▁▁</td></tr><tr><td>epoch/loss</td><td>██▆▆▆▆▆▆▆▅▅▄▄▃▃▃▃▃▂▂▂▂▂▂▂▂▁▁▁▁▁▁▁▁▁▁▁▁▁▁</td></tr><tr><td>epoch/lr</td><td>████████████████████▄▄▄▄▄▄▄▂▂▂▂▂▂▁▁▁▁▁▁▁</td></tr><tr><td>epoch/precision</td><td>▁▁▃▃▃▃▃▃▄▄▄▅▅▅▅▅▅▅▆▆▆▆▇▇▇▇███▇▇██▇██▇▇██</td></tr><tr><td>epoch/recall</td><td>▁▁▃▃▃▃▃▃▃▄▄▅▅▅▅▅▅▆▆▆▇▇▆▆▇▇▇████▇▇█▇▇████</td></tr><tr><td>epoch/val_accuracy</td><td>▁▁▇▇▄▄▄▄▃▄▄▇▇▅▅▂▂█▅▅▇▇▅▅▆▆▅██▇▇▆▆▇▇▇██▇▇</td></tr><tr><td>epoch/val_auc</td><td>▁▁▄▄▅▅▅▅▆▆▆▇▇████▇▆▆▇▇▇▇▇▇█▇▇▇▇▇▇▇▇▇▇▇▇▇</td></tr><tr><td>epoch/val_loss</td><td>▇▇▃▃▅▅▆▆▃▆▆▁▁▁▁██▂▂▂▁▁▃▃▂▂▂▂▂▂▂▂▂▂▂▂▂▂▂▂</td></tr><tr><td>epoch/val_precision</td><td>▁▁▆▆▃▃▃▃▂▃▃▆▆▄▄▂▂█▄▄▆▆▄▄▅▅▄▇▇▇▇▄▄▇▆▆▇▇▆▆</td></tr><tr><td>epoch/val_recall</td><td>▆▆▁▁▇▇▆▆▆▇▇▄▄▅▅██▃▅▅▅▅▅▅▅▅▅▄▄▄▄▅▅▄▄▄▄▄▄▄</td></tr></table><br/></div><div class=\"wandb-col\"><h3>Run summary:</h3><br/><table class=\"wandb\"><tr><td>epoch/accuracy</td><td>0.94946</td></tr><tr><td>epoch/auc</td><td>0.98541</td></tr><tr><td>epoch/epoch</td><td>21</td></tr><tr><td>epoch/learning_rate</td><td>1e-05</td></tr><tr><td>epoch/loss</td><td>0.1597</td></tr><tr><td>epoch/lr</td><td>1e-05</td></tr><tr><td>epoch/precision</td><td>0.95341</td></tr><tr><td>epoch/recall</td><td>0.93007</td></tr><tr><td>epoch/val_accuracy</td><td>0.64417</td></tr><tr><td>epoch/val_auc</td><td>0.66209</td></tr><tr><td>epoch/val_loss</td><td>1.2958</td></tr><tr><td>epoch/val_precision</td><td>0.52941</td></tr><tr><td>epoch/val_recall</td><td>0.58065</td></tr></table><br/></div></div>"
      ],
      "text/plain": [
       "<IPython.core.display.HTML object>"
      ]
     },
     "metadata": {},
     "output_type": "display_data"
    },
    {
     "data": {
      "text/html": [
       " View run <strong style=\"color:#cdcd00\">AKNet_ResNet</strong> at: <a href='https://wandb.ai/aistudio/Breast-Cancer-Detection-Stage/runs/vmk9w1vl' target=\"_blank\">https://wandb.ai/aistudio/Breast-Cancer-Detection-Stage/runs/vmk9w1vl</a><br/>Synced 6 W&B file(s), 3 media file(s), 3 artifact file(s) and 0 other file(s)"
      ],
      "text/plain": [
       "<IPython.core.display.HTML object>"
      ]
     },
     "metadata": {},
     "output_type": "display_data"
    },
    {
     "data": {
      "text/html": [
       "Find logs at: <code>./wandb/run-20240215_094535-vmk9w1vl/logs</code>"
      ],
      "text/plain": [
       "<IPython.core.display.HTML object>"
      ]
     },
     "metadata": {},
     "output_type": "display_data"
    },
    {
     "name": "stdout",
     "output_type": "stream",
     "text": [
      "# ================================================================================================ #\n",
      "                                           AKNet_Xception                                           \n",
      "# ------------------------------------------------------------------------------------------------ #\n",
      "Model: \"model\"\n",
      "_________________________________________________________________\n",
      " Layer (type)                Output Shape              Param #   \n",
      "=================================================================\n",
      " AKNet_Xception_input_layer   [(None, 224, 224, 3)]    0         \n",
      " (InputLayer)                                                    \n",
      "                                                                 \n",
      " tf.math.truediv (TFOpLambda  (None, 224, 224, 3)      0         \n",
      " )                                                               \n",
      "                                                                 \n",
      " tf.math.subtract (TFOpLambd  (None, 224, 224, 3)      0         \n",
      " a)                                                              \n",
      "                                                                 \n",
      " data_augmentation (Sequenti  (None, 224, 224, 3)      0         \n",
      " al)                                                             \n",
      "                                                                 \n",
      " xception (Functional)       (None, None, None, 2048)  20861480  \n",
      "                                                                 \n",
      " AKNet_Xception_flatten (Fla  (None, 100352)           0         \n",
      " tten)                                                           \n",
      "                                                                 \n",
      " AKNet_Xception_dense_1 (Den  (None, 2048)             205522944 \n",
      " se)                                                             \n",
      "                                                                 \n",
      " AKNet_Xception_dropout_1 (D  (None, 2048)             0         \n",
      " ropout)                                                         \n",
      "                                                                 \n",
      " AKNet_Xception_dense_2 (Den  (None, 1024)             2098176   \n",
      " se)                                                             \n",
      "                                                                 \n",
      " AKNet_Xception_dropout_2 (D  (None, 1024)             0         \n",
      " ropout)                                                         \n",
      "                                                                 \n",
      " AKNet_Xception_output_layer  (None, 1)                1025      \n",
      "  (Dense)                                                        \n",
      "                                                                 \n",
      "=================================================================\n",
      "Total params: 228,483,625\n",
      "Trainable params: 207,622,145\n",
      "Non-trainable params: 20,861,480\n",
      "_________________________________________________________________\n",
      "# ------------------------------------------------------------------------------------------------ #\n",
      "\n",
      "\n",
      "                                            AKNetConfig                                             \n",
      "                                        Activation | sigmoid\n",
      "                                      Output Shape | 1\n",
      "                                            Dense1 | 2048\n",
      "                                          Dropout1 | 0.5\n",
      "                                            Dense2 | 1024\n",
      "                                          Dropout2 | 0.5\n",
      "\n",
      "\n",
      "# ================================================================================================ #\n"
     ]
    },
    {
     "data": {
      "text/html": [
       "wandb version 0.16.3 is available!  To upgrade, please run:\n",
       " $ pip install wandb --upgrade"
      ],
      "text/plain": [
       "<IPython.core.display.HTML object>"
      ]
     },
     "metadata": {},
     "output_type": "display_data"
    },
    {
     "data": {
      "text/html": [
       "Tracking run with wandb version 0.16.2"
      ],
      "text/plain": [
       "<IPython.core.display.HTML object>"
      ]
     },
     "metadata": {},
     "output_type": "display_data"
    },
    {
     "data": {
      "text/html": [
       "Run data is saved locally in <code>/home/john/projects/bcd/wandb/run-20240215_105405-vaxm0d04</code>"
      ],
      "text/plain": [
       "<IPython.core.display.HTML object>"
      ]
     },
     "metadata": {},
     "output_type": "display_data"
    },
    {
     "data": {
      "text/html": [
       "Syncing run <strong><a href='https://wandb.ai/aistudio/Breast-Cancer-Detection-Stage/runs/vaxm0d04' target=\"_blank\">AKNet_Xception</a></strong> to <a href='https://wandb.ai/aistudio/Breast-Cancer-Detection-Stage' target=\"_blank\">Weights & Biases</a> (<a href='https://wandb.me/run' target=\"_blank\">docs</a>)<br/>"
      ],
      "text/plain": [
       "<IPython.core.display.HTML object>"
      ]
     },
     "metadata": {},
     "output_type": "display_data"
    },
    {
     "data": {
      "text/html": [
       " View project at <a href='https://wandb.ai/aistudio/Breast-Cancer-Detection-Stage' target=\"_blank\">https://wandb.ai/aistudio/Breast-Cancer-Detection-Stage</a>"
      ],
      "text/plain": [
       "<IPython.core.display.HTML object>"
      ]
     },
     "metadata": {},
     "output_type": "display_data"
    },
    {
     "data": {
      "text/html": [
       " View run at <a href='https://wandb.ai/aistudio/Breast-Cancer-Detection-Stage/runs/vaxm0d04' target=\"_blank\">https://wandb.ai/aistudio/Breast-Cancer-Detection-Stage/runs/vaxm0d04</a>"
      ],
      "text/plain": [
       "<IPython.core.display.HTML object>"
      ]
     },
     "metadata": {},
     "output_type": "display_data"
    },
    {
     "name": "stdout",
     "output_type": "stream",
     "text": [
      "Epoch 1/50\n",
      "21/21 [==============================] - ETA: 0s - loss: 1.7251 - accuracy: 0.4977 - auc: 0.5349 - precision: 0.4466 - recall: 0.4569\n",
      "Epoch 1: val_accuracy did not improve from 0.69325\n",
      "\n",
      "Epoch 1: val_accuracy did not improve from 0.69325\n",
      "\n",
      "Epoch 1: val_accuracy did not improve from 0.69325\n",
      "\n",
      "Epoch 1: val_accuracy did not improve from 0.68098\n",
      "\n",
      "Epoch 1: val_accuracy did not improve from 0.66871\n",
      "\n",
      "Epoch 1: val_accuracy improved from -inf to 0.59509, saving model to models/stage/AKNet_Xception-vaxm0d04.keras\n",
      "21/21 [==============================] - 109s 5s/step - loss: 1.7251 - accuracy: 0.4977 - auc: 0.5349 - precision: 0.4466 - recall: 0.4569 - val_loss: 0.7543 - val_accuracy: 0.5951 - val_auc: 0.6098 - val_precision: 0.4714 - val_recall: 0.5323 - lr: 1.0000e-04\n",
      "Epoch 2/50\n",
      "21/21 [==============================] - ETA: 0s - loss: 1.6365 - accuracy: 0.5620 - auc: 0.5591 - precision: 0.5000 - recall: 0.4965\n",
      "Epoch 2: val_accuracy did not improve from 0.69325\n",
      "\n",
      "Epoch 2: val_accuracy did not improve from 0.69325\n",
      "\n",
      "Epoch 2: val_accuracy did not improve from 0.69325\n",
      "\n",
      "Epoch 2: val_accuracy did not improve from 0.68098\n",
      "\n",
      "Epoch 2: val_accuracy did not improve from 0.66871\n",
      "\n",
      "Epoch 2: val_accuracy improved from 0.59509 to 0.63804, saving model to models/stage/AKNet_Xception-vaxm0d04.keras\n",
      "21/21 [==============================] - 103s 5s/step - loss: 1.6365 - accuracy: 0.5620 - auc: 0.5591 - precision: 0.5000 - recall: 0.4965 - val_loss: 0.8895 - val_accuracy: 0.6380 - val_auc: 0.5759 - val_precision: 0.5882 - val_recall: 0.1613 - lr: 1.0000e-04\n",
      "Epoch 3/50\n",
      "21/21 [==============================] - ETA: 0s - loss: 1.3783 - accuracy: 0.5804 - auc: 0.6029 - precision: 0.5207 - recall: 0.5280\n",
      "Epoch 3: val_accuracy did not improve from 0.69325\n",
      "\n",
      "Epoch 3: val_accuracy did not improve from 0.69325\n",
      "\n",
      "Epoch 3: val_accuracy did not improve from 0.69325\n",
      "\n",
      "Epoch 3: val_accuracy did not improve from 0.68098\n",
      "\n",
      "Epoch 3: val_accuracy did not improve from 0.66871\n",
      "\n",
      "Epoch 3: val_accuracy did not improve from 0.63804\n",
      "21/21 [==============================] - 98s 5s/step - loss: 1.3783 - accuracy: 0.5804 - auc: 0.6029 - precision: 0.5207 - recall: 0.5280 - val_loss: 0.7792 - val_accuracy: 0.5399 - val_auc: 0.5612 - val_precision: 0.4177 - val_recall: 0.5323 - lr: 1.0000e-04\n",
      "Epoch 4/50\n",
      "21/21 [==============================] - ETA: 0s - loss: 1.1719 - accuracy: 0.6095 - auc: 0.6378 - precision: 0.5556 - recall: 0.5420\n",
      "Epoch 4: ReduceLROnPlateau reducing learning rate to 4.999999873689376e-05.\n",
      "\n",
      "Epoch 4: val_accuracy did not improve from 0.69325\n",
      "\n",
      "Epoch 4: val_accuracy did not improve from 0.69325\n",
      "\n",
      "Epoch 4: val_accuracy did not improve from 0.69325\n",
      "\n",
      "Epoch 4: val_accuracy did not improve from 0.68098\n",
      "\n",
      "Epoch 4: val_accuracy did not improve from 0.66871\n",
      "\n",
      "Epoch 4: val_accuracy did not improve from 0.63804\n",
      "21/21 [==============================] - 98s 4s/step - loss: 1.1719 - accuracy: 0.6095 - auc: 0.6378 - precision: 0.5556 - recall: 0.5420 - val_loss: 0.9149 - val_accuracy: 0.6319 - val_auc: 0.5623 - val_precision: 0.7500 - val_recall: 0.0484 - lr: 1.0000e-04\n",
      "Epoch 5/50\n",
      "21/21 [==============================] - ETA: 0s - loss: 1.0662 - accuracy: 0.6172 - auc: 0.6411 - precision: 0.5677 - recall: 0.5280\n",
      "Epoch 5: val_accuracy did not improve from 0.69325\n",
      "\n",
      "Epoch 5: val_accuracy did not improve from 0.69325\n",
      "\n",
      "Epoch 5: val_accuracy did not improve from 0.69325\n",
      "\n",
      "Epoch 5: val_accuracy did not improve from 0.68098\n",
      "\n",
      "Epoch 5: val_accuracy did not improve from 0.66871\n",
      "\n",
      "Epoch 5: val_accuracy did not improve from 0.63804\n",
      "21/21 [==============================] - 100s 5s/step - loss: 1.0662 - accuracy: 0.6172 - auc: 0.6411 - precision: 0.5677 - recall: 0.5280 - val_loss: 0.7584 - val_accuracy: 0.5583 - val_auc: 0.6020 - val_precision: 0.4432 - val_recall: 0.6290 - lr: 5.0000e-05\n",
      "Epoch 6/50\n",
      "21/21 [==============================] - ETA: 0s - loss: 0.9838 - accuracy: 0.6263 - auc: 0.6740 - precision: 0.5789 - recall: 0.5385\n",
      "Epoch 6: val_accuracy did not improve from 0.69325\n",
      "\n",
      "Epoch 6: val_accuracy did not improve from 0.69325\n",
      "\n",
      "Epoch 6: val_accuracy did not improve from 0.69325\n",
      "\n",
      "Epoch 6: val_accuracy did not improve from 0.68098\n",
      "\n",
      "Epoch 6: val_accuracy did not improve from 0.66871\n",
      "\n",
      "Epoch 6: val_accuracy did not improve from 0.63804\n",
      "21/21 [==============================] - 97s 4s/step - loss: 0.9838 - accuracy: 0.6263 - auc: 0.6740 - precision: 0.5789 - recall: 0.5385 - val_loss: 0.8196 - val_accuracy: 0.5031 - val_auc: 0.6080 - val_precision: 0.4188 - val_recall: 0.7903 - lr: 5.0000e-05\n",
      "Epoch 7/50\n",
      "21/21 [==============================] - ETA: 0s - loss: 0.9879 - accuracy: 0.6202 - auc: 0.6300 - precision: 0.5669 - recall: 0.5629\n",
      "Epoch 7: val_accuracy did not improve from 0.69325\n",
      "\n",
      "Epoch 7: val_accuracy did not improve from 0.69325\n",
      "\n",
      "Epoch 7: val_accuracy did not improve from 0.69325\n",
      "\n",
      "Epoch 7: val_accuracy did not improve from 0.68098\n",
      "\n",
      "Epoch 7: val_accuracy did not improve from 0.66871\n",
      "\n",
      "Epoch 7: val_accuracy did not improve from 0.63804\n",
      "21/21 [==============================] - 99s 5s/step - loss: 0.9879 - accuracy: 0.6202 - auc: 0.6300 - precision: 0.5669 - recall: 0.5629 - val_loss: 0.6784 - val_accuracy: 0.6074 - val_auc: 0.6099 - val_precision: 0.4821 - val_recall: 0.4355 - lr: 5.0000e-05\n",
      "Epoch 8/50\n",
      "21/21 [==============================] - ETA: 0s - loss: 0.9396 - accuracy: 0.6003 - auc: 0.6259 - precision: 0.5430 - recall: 0.5524\n",
      "Epoch 8: val_accuracy did not improve from 0.69325\n",
      "\n",
      "Epoch 8: val_accuracy did not improve from 0.69325\n",
      "\n",
      "Epoch 8: val_accuracy did not improve from 0.69325\n",
      "\n",
      "Epoch 8: val_accuracy did not improve from 0.68098\n",
      "\n",
      "Epoch 8: val_accuracy did not improve from 0.66871\n",
      "\n",
      "Epoch 8: val_accuracy did not improve from 0.63804\n",
      "21/21 [==============================] - 98s 5s/step - loss: 0.9396 - accuracy: 0.6003 - auc: 0.6259 - precision: 0.5430 - recall: 0.5524 - val_loss: 0.6863 - val_accuracy: 0.6074 - val_auc: 0.6208 - val_precision: 0.4545 - val_recall: 0.1613 - lr: 5.0000e-05\n",
      "Epoch 9/50\n",
      "21/21 [==============================] - ETA: 0s - loss: 0.7825 - accuracy: 0.6478 - auc: 0.6931 - precision: 0.6014 - recall: 0.5804\n",
      "Epoch 9: val_accuracy did not improve from 0.69325\n",
      "\n",
      "Epoch 9: val_accuracy did not improve from 0.69325\n",
      "\n",
      "Epoch 9: val_accuracy did not improve from 0.69325\n",
      "\n",
      "Epoch 9: val_accuracy did not improve from 0.68098\n",
      "\n",
      "Epoch 9: val_accuracy did not improve from 0.66871\n",
      "\n",
      "Epoch 9: val_accuracy did not improve from 0.63804\n",
      "21/21 [==============================] - 98s 5s/step - loss: 0.7825 - accuracy: 0.6478 - auc: 0.6931 - precision: 0.6014 - recall: 0.5804 - val_loss: 0.6862 - val_accuracy: 0.5828 - val_auc: 0.6099 - val_precision: 0.4583 - val_recall: 0.5323 - lr: 5.0000e-05\n",
      "Epoch 10/50\n",
      "21/21 [==============================] - ETA: 0s - loss: 0.7137 - accuracy: 0.6876 - auc: 0.7272 - precision: 0.6519 - recall: 0.6154\n",
      "Epoch 10: ReduceLROnPlateau reducing learning rate to 2.499999936844688e-05.\n",
      "\n",
      "Epoch 10: val_accuracy did not improve from 0.69325\n",
      "\n",
      "Epoch 10: val_accuracy did not improve from 0.69325\n",
      "\n",
      "Epoch 10: val_accuracy did not improve from 0.69325\n",
      "\n",
      "Epoch 10: val_accuracy did not improve from 0.68098\n",
      "\n",
      "Epoch 10: val_accuracy did not improve from 0.66871\n",
      "\n",
      "Epoch 10: val_accuracy did not improve from 0.63804\n",
      "21/21 [==============================] - 97s 4s/step - loss: 0.7137 - accuracy: 0.6876 - auc: 0.7272 - precision: 0.6519 - recall: 0.6154 - val_loss: 0.7010 - val_accuracy: 0.5644 - val_auc: 0.5960 - val_precision: 0.4308 - val_recall: 0.4516 - lr: 5.0000e-05\n",
      "Epoch 11/50\n",
      "21/21 [==============================] - ETA: 0s - loss: 0.6506 - accuracy: 0.6753 - auc: 0.7454 - precision: 0.6370 - recall: 0.6014\n",
      "Epoch 11: val_accuracy did not improve from 0.69325\n",
      "\n",
      "Epoch 11: val_accuracy did not improve from 0.69325\n",
      "\n",
      "Epoch 11: val_accuracy did not improve from 0.69325\n",
      "\n",
      "Epoch 11: val_accuracy did not improve from 0.68098\n",
      "\n",
      "Epoch 11: val_accuracy did not improve from 0.66871\n",
      "\n",
      "Epoch 11: val_accuracy did not improve from 0.63804\n",
      "21/21 [==============================] - 99s 5s/step - loss: 0.6506 - accuracy: 0.6753 - auc: 0.7454 - precision: 0.6370 - recall: 0.6014 - val_loss: 0.6950 - val_accuracy: 0.6135 - val_auc: 0.6032 - val_precision: 0.4848 - val_recall: 0.2581 - lr: 2.5000e-05\n",
      "Epoch 12/50\n",
      "21/21 [==============================] - ETA: 0s - loss: 0.5927 - accuracy: 0.7259 - auc: 0.7858 - precision: 0.6989 - recall: 0.6573\n",
      "Epoch 12: val_accuracy did not improve from 0.69325\n",
      "\n",
      "Epoch 12: val_accuracy did not improve from 0.69325\n",
      "\n",
      "Epoch 12: val_accuracy did not improve from 0.69325\n",
      "\n",
      "Epoch 12: val_accuracy did not improve from 0.68098\n",
      "\n",
      "Epoch 12: val_accuracy did not improve from 0.66871\n",
      "\n",
      "Epoch 12: val_accuracy did not improve from 0.63804\n",
      "21/21 [==============================] - 103s 5s/step - loss: 0.5927 - accuracy: 0.7259 - auc: 0.7858 - precision: 0.6989 - recall: 0.6573 - val_loss: 0.7026 - val_accuracy: 0.5706 - val_auc: 0.6062 - val_precision: 0.4375 - val_recall: 0.4516 - lr: 2.5000e-05\n",
      "Epoch 13/50\n",
      "21/21 [==============================] - ETA: 0s - loss: 0.6339 - accuracy: 0.6600 - auc: 0.7452 - precision: 0.6143 - recall: 0.6014\n",
      "Epoch 13: ReduceLROnPlateau reducing learning rate to 1.249999968422344e-05.\n",
      "\n",
      "Epoch 13: val_accuracy did not improve from 0.69325\n",
      "\n",
      "Epoch 13: val_accuracy did not improve from 0.69325\n",
      "\n",
      "Epoch 13: val_accuracy did not improve from 0.69325\n",
      "\n",
      "Epoch 13: val_accuracy did not improve from 0.68098\n",
      "\n",
      "Epoch 13: val_accuracy did not improve from 0.66871\n",
      "\n",
      "Epoch 13: val_accuracy did not improve from 0.63804\n",
      "21/21 [==============================] - 97s 4s/step - loss: 0.6339 - accuracy: 0.6600 - auc: 0.7452 - precision: 0.6143 - recall: 0.6014 - val_loss: 0.6879 - val_accuracy: 0.6012 - val_auc: 0.6237 - val_precision: 0.4694 - val_recall: 0.3710 - lr: 2.5000e-05\n",
      "Epoch 14/50\n",
      "21/21 [==============================] - ETA: 0s - loss: 0.5887 - accuracy: 0.7182 - auc: 0.7825 - precision: 0.6861 - recall: 0.6573\n",
      "Epoch 14: val_accuracy did not improve from 0.69325\n",
      "\n",
      "Epoch 14: val_accuracy did not improve from 0.69325\n",
      "\n",
      "Epoch 14: val_accuracy did not improve from 0.69325\n",
      "\n",
      "Epoch 14: val_accuracy did not improve from 0.68098\n",
      "\n",
      "Epoch 14: val_accuracy did not improve from 0.66871\n",
      "\n",
      "Epoch 14: val_accuracy did not improve from 0.63804\n",
      "21/21 [==============================] - 97s 4s/step - loss: 0.5887 - accuracy: 0.7182 - auc: 0.7825 - precision: 0.6861 - recall: 0.6573 - val_loss: 0.6936 - val_accuracy: 0.5828 - val_auc: 0.6224 - val_precision: 0.4483 - val_recall: 0.4194 - lr: 1.2500e-05\n",
      "Epoch 15/50\n",
      "21/21 [==============================] - ETA: 0s - loss: 0.5930 - accuracy: 0.7167 - auc: 0.7824 - precision: 0.6810 - recall: 0.6643\n",
      "Epoch 15: val_accuracy did not improve from 0.69325\n",
      "\n",
      "Epoch 15: val_accuracy did not improve from 0.69325\n",
      "\n",
      "Epoch 15: val_accuracy did not improve from 0.69325\n",
      "\n",
      "Epoch 15: val_accuracy did not improve from 0.68098\n",
      "\n",
      "Epoch 15: val_accuracy did not improve from 0.66871\n",
      "\n",
      "Epoch 15: val_accuracy did not improve from 0.63804\n",
      "21/21 [==============================] - 99s 5s/step - loss: 0.5930 - accuracy: 0.7167 - auc: 0.7824 - precision: 0.6810 - recall: 0.6643 - val_loss: 0.6841 - val_accuracy: 0.5951 - val_auc: 0.6334 - val_precision: 0.4643 - val_recall: 0.4194 - lr: 1.2500e-05\n",
      "Epoch 16/50\n",
      "21/21 [==============================] - ETA: 0s - loss: 0.5004 - accuracy: 0.7596 - auc: 0.8358 - precision: 0.7398 - recall: 0.6958\n",
      "Epoch 16: ReduceLROnPlateau reducing learning rate to 6.24999984211172e-06.\n",
      "\n",
      "Epoch 16: val_accuracy did not improve from 0.69325\n",
      "\n",
      "Epoch 16: val_accuracy did not improve from 0.69325\n",
      "\n",
      "Epoch 16: val_accuracy did not improve from 0.69325\n",
      "\n",
      "Epoch 16: val_accuracy did not improve from 0.68098\n",
      "\n",
      "Epoch 16: val_accuracy did not improve from 0.66871\n",
      "\n",
      "Epoch 16: val_accuracy did not improve from 0.63804\n",
      "21/21 [==============================] - 97s 4s/step - loss: 0.5004 - accuracy: 0.7596 - auc: 0.8358 - precision: 0.7398 - recall: 0.6958 - val_loss: 0.6859 - val_accuracy: 0.6196 - val_auc: 0.6349 - val_precision: 0.5000 - val_recall: 0.5161 - lr: 1.2500e-05\n",
      "Epoch 17/50\n",
      "21/21 [==============================] - ETA: 0s - loss: 0.5350 - accuracy: 0.7351 - auc: 0.8104 - precision: 0.6982 - recall: 0.6958Restoring model weights from the end of the best epoch: 7.\n",
      "\n",
      "Epoch 17: val_accuracy did not improve from 0.69325\n",
      "\n",
      "Epoch 17: val_accuracy did not improve from 0.69325\n",
      "\n",
      "Epoch 17: val_accuracy did not improve from 0.69325\n",
      "\n",
      "Epoch 17: val_accuracy did not improve from 0.68098\n",
      "\n",
      "Epoch 17: val_accuracy did not improve from 0.66871\n",
      "\n",
      "Epoch 17: val_accuracy did not improve from 0.63804\n",
      "21/21 [==============================] - 98s 5s/step - loss: 0.5350 - accuracy: 0.7351 - auc: 0.8104 - precision: 0.6982 - recall: 0.6958 - val_loss: 0.6787 - val_accuracy: 0.5767 - val_auc: 0.6382 - val_precision: 0.4340 - val_recall: 0.3710 - lr: 6.2500e-06\n",
      "Epoch 17: early stopping\n"
     ]
    },
    {
     "name": "stderr",
     "output_type": "stream",
     "text": [
      "wandb: WARNING Source type is set to 'repo' but some required information is missing from the environment. A job will not be created from this run. See https://docs.wandb.ai/guides/launch/create-job\n"
     ]
    },
    {
     "data": {
      "application/vnd.jupyter.widget-view+json": {
       "model_id": "807541e699df499e9e7db0f626b2aace",
       "version_major": 2,
       "version_minor": 0
      },
      "text/plain": [
       "VBox(children=(Label(value='0.016 MB of 0.016 MB uploaded\\r'), FloatProgress(value=1.0, max=1.0)))"
      ]
     },
     "metadata": {},
     "output_type": "display_data"
    },
    {
     "data": {
      "text/html": [
       "<style>\n",
       "    table.wandb td:nth-child(1) { padding: 0 10px; text-align: left ; width: auto;} td:nth-child(2) {text-align: left ; width: 100%}\n",
       "    .wandb-row { display: flex; flex-direction: row; flex-wrap: wrap; justify-content: flex-start; width: 100% }\n",
       "    .wandb-col { display: flex; flex-direction: column; flex-basis: 100%; flex: 1; padding: 10px; }\n",
       "    </style>\n",
       "<div class=\"wandb-row\"><div class=\"wandb-col\"><h3>Run history:</h3><br/><table class=\"wandb\"><tr><td>epoch/accuracy</td><td>▁▁▁▃▃▃▃▄▄▄▄▄▄▄▄▄▄▄▄▅▅▆▆▆▆▆▇▇▅▅▅▇▇▇▇███▇▇</td></tr><tr><td>epoch/auc</td><td>▁▁▁▂▂▃▃▃▃▃▃▃▄▄▃▃▃▃▃▅▅▅▅▅▆▆▇▇▆▆▆▇▇▇▇███▇▇</td></tr><tr><td>epoch/epoch</td><td>▁▁▁▁▁▂▂▂▂▂▃▃▃▃▄▄▄▄▄▅▅▅▅▅▅▅▆▆▆▆▆▇▇▇▇█████</td></tr><tr><td>epoch/learning_rate</td><td>███████▄▄▄▄▄▄▄▄▄▄▄▄▄▄▂▂▂▂▂▂▂▁▁▁▁▁▁▁▁▁▁▁▁</td></tr><tr><td>epoch/loss</td><td>███▇▇▆▆▅▅▅▄▄▄▄▄▄▄▄▄▃▃▂▂▂▂▂▂▂▂▂▂▂▂▂▂▁▁▁▁▁</td></tr><tr><td>epoch/lr</td><td>██████████▄▄▄▄▄▄▄▄▄▄▄▄▄▄▂▂▂▂▂▂▂▁▁▁▁▁▁▁▁▁</td></tr><tr><td>epoch/precision</td><td>▁▁▁▂▂▃▃▄▄▄▄▄▄▄▄▄▄▃▃▅▅▆▆▆▆▆▇▇▅▅▅▇▇▇▇███▇▇</td></tr><tr><td>epoch/recall</td><td>▁▁▁▂▂▃▃▃▃▃▃▃▃▃▄▄▄▄▄▅▅▆▆▆▅▅▇▇▅▅▅▇▇▇▇█████</td></tr><tr><td>epoch/val_accuracy</td><td>▆▆▆██▃▃███▄▄▁▁▆▆▆▆▆▅▅▄▄▄▇▇▅▅▆▆▆▅▅▆▆▇▇▇▅▅</td></tr><tr><td>epoch/val_auc</td><td>▅▅▅▂▂▁▁▁▁▁▅▅▅▅▅▅▅▆▆▅▅▄▄▄▅▅▅▅▇▇▇▇▇███████</td></tr><tr><td>epoch/val_loss</td><td>▃▃▃▇▇▄▄███▃▃▅▅▁▁▁▁▁▁▁▂▂▂▁▁▂▂▁▁▁▁▁▁▁▁▁▁▁▁</td></tr><tr><td>epoch/val_precision</td><td>▂▂▂▅▅▁▁███▂▂▁▁▂▂▂▂▂▂▂▁▁▁▂▂▁▁▂▂▂▂▂▂▂▃▃▃▁▁</td></tr><tr><td>epoch/val_recall</td><td>▆▆▆▂▂▆▆▁▁▁▆▆██▅▅▅▂▂▆▆▅▅▅▃▃▅▅▄▄▄▄▄▄▄▅▅▅▄▄</td></tr></table><br/></div><div class=\"wandb-col\"><h3>Run summary:</h3><br/><table class=\"wandb\"><tr><td>epoch/accuracy</td><td>0.73507</td></tr><tr><td>epoch/auc</td><td>0.81038</td></tr><tr><td>epoch/epoch</td><td>16</td></tr><tr><td>epoch/learning_rate</td><td>1e-05</td></tr><tr><td>epoch/loss</td><td>0.53499</td></tr><tr><td>epoch/lr</td><td>1e-05</td></tr><tr><td>epoch/precision</td><td>0.69825</td></tr><tr><td>epoch/recall</td><td>0.6958</td></tr><tr><td>epoch/val_accuracy</td><td>0.57669</td></tr><tr><td>epoch/val_auc</td><td>0.63821</td></tr><tr><td>epoch/val_loss</td><td>0.67871</td></tr><tr><td>epoch/val_precision</td><td>0.43396</td></tr><tr><td>epoch/val_recall</td><td>0.37097</td></tr></table><br/></div></div>"
      ],
      "text/plain": [
       "<IPython.core.display.HTML object>"
      ]
     },
     "metadata": {},
     "output_type": "display_data"
    },
    {
     "data": {
      "text/html": [
       " View run <strong style=\"color:#cdcd00\">AKNet_Xception</strong> at: <a href='https://wandb.ai/aistudio/Breast-Cancer-Detection-Stage/runs/vaxm0d04' target=\"_blank\">https://wandb.ai/aistudio/Breast-Cancer-Detection-Stage/runs/vaxm0d04</a><br/>Synced 6 W&B file(s), 3 media file(s), 3 artifact file(s) and 0 other file(s)"
      ],
      "text/plain": [
       "<IPython.core.display.HTML object>"
      ]
     },
     "metadata": {},
     "output_type": "display_data"
    },
    {
     "data": {
      "text/html": [
       "Find logs at: <code>./wandb/run-20240215_105405-vaxm0d04/logs</code>"
      ],
      "text/plain": [
       "<IPython.core.display.HTML object>"
      ]
     },
     "metadata": {},
     "output_type": "display_data"
    }
   ],
   "source": [
    "for base_model in base_models:\n",
    "    network = factory.create(base_model=base_model)\n",
    "    experiment = FeatureExtractionExperiment(network=network, config=config, optimizer=optimizer, repo=repo, callbacks=callbacks, metrics=metrics, tags=[network.architecture, base_model.name], force=False)\n",
    "    experiment.run(train_ds=train_ds, val_ds=val_ds)\n"
   ]
  }
 ],
 "metadata": {
  "kernelspec": {
   "display_name": "bcd",
   "language": "python",
   "name": "python3"
  },
  "language_info": {
   "codemirror_mode": {
    "name": "ipython",
    "version": 3
   },
   "file_extension": ".py",
   "mimetype": "text/x-python",
   "name": "python",
   "nbconvert_exporter": "python",
   "pygments_lexer": "ipython3",
   "version": "3.10.12"
  }
 },
 "nbformat": 4,
 "nbformat_minor": 2
}
