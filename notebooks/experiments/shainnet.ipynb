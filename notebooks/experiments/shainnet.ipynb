{
 "cells": [
  {
   "cell_type": "markdown",
   "metadata": {},
   "source": [
    "# ShainNet "
   ]
  },
  {
   "cell_type": "code",
   "execution_count": 1,
   "metadata": {},
   "outputs": [],
   "source": [
    "import os\n",
    "import pathlib\n",
    "import tensorflow as tf\n",
    "import pandas as pd\n",
    "import wandb\n",
    "\n",
    "from bcd.model.network.base import NetworkConfig\n",
    "from bcd.model.network.shainnet import ShainNetConfig, ShainNetFactory\n",
    "from bcd.model.repo import ExperimentRepo\n",
    "from bcd.model.base import *\n",
    "from bcd.model.experiment import FeatureExtractionExperiment\n",
    "from bcd.model.config import *\n",
    "\n",
    "pd.set_option('display.max_rows',999)"
   ]
  },
  {
   "cell_type": "markdown",
   "metadata": {},
   "source": [
    "## Configuration"
   ]
  },
  {
   "cell_type": "code",
   "execution_count": 2,
   "metadata": {},
   "outputs": [
    {
     "name": "stdout",
     "output_type": "stream",
     "text": [
      "env: \"WANDB_NOTEBOOK_NAME\"=\"shainnet.ipynb\"\n"
     ]
    }
   ],
   "source": [
    "# Experiment Parameters\n",
    "%env \"WANDB_NOTEBOOK_NAME\" \"shainnet.ipynb\"\n",
    "mode = \"Stage\"\n",
    "force = False  # Whether to retrain if the model and config already exists.\n",
    "base_models = [DenseNet(), EfficientNet(), Inception(), InceptionResNet(), MobileNet(), ResNet(), Xception()]"
   ]
  },
  {
   "cell_type": "code",
   "execution_count": 3,
   "metadata": {},
   "outputs": [],
   "source": [
    "def create_config(network_config: NetworkConfig):\n",
    "    project_config = ProjectConfig(mode=mode)\n",
    "\n",
    "    train_config = TrainConfig(epochs=50, learning_rate=1e-4)    \n",
    "\n",
    "    dataset_config = DatasetConfig(mode=mode)\n",
    "\n",
    "    checkpoint_config = CheckPointConfig(monitor=\"val_accuracy\", verbose=1, save_best_only=True, save_weights_only=False, mode=\"auto\")\n",
    "\n",
    "    early_stop_config = EarlyStopConfig(min_delta=1e-4, monitor=\"val_loss\", patience=10, restore_best_weights=True, verbose=1)\n",
    "\n",
    "    learning_rate_schedule_config = LearningRateScheduleConfig(min_delta=1e-4, monitor=\"val_loss\", factor=0.5, patience=3, restore_best_weights=True, verbose=1, mode=\"auto\")\n",
    "\n",
    "    config = Config(project=project_config, \n",
    "                    dataset=dataset_config, \n",
    "                    train=train_config, \n",
    "                    network=network_config, \n",
    "                    checkpoint=checkpoint_config, \n",
    "                    early_stop=early_stop_config, \n",
    "                    learning_rate_schedule=learning_rate_schedule_config)\n",
    "    return config\n",
    "\n",
    "network_config = ShainNetConfig(activation=\"sigmoid\",input_shape=(224,224,3), output_shape=1, dense1=1024, dropout1=0.5, dense2=1024, dropout2=0.3, dense3=512, dense4=128)\n",
    "config = create_config(network_config=network_config)"
   ]
  },
  {
   "cell_type": "markdown",
   "metadata": {},
   "source": [
    "## Load Data"
   ]
  },
  {
   "cell_type": "code",
   "execution_count": 4,
   "metadata": {},
   "outputs": [
    {
     "name": "stdout",
     "output_type": "stream",
     "text": [
      "Found 816 files belonging to 2 classes.\n",
      "Using 653 files for training.\n",
      "Found 816 files belonging to 2 classes.\n",
      "Using 163 files for validation.\n"
     ]
    }
   ],
   "source": [
    "train_dir = pathlib.Path(config.dataset.train_dir).with_suffix('') \n",
    "train_ds = tf.keras.utils.image_dataset_from_directory(\n",
    "    train_dir,\n",
    "    labels=\"inferred\",\n",
    "    color_mode=\"rgb\",\n",
    "    image_size=(224,224),\n",
    "    shuffle=True,\n",
    "    validation_split=0.2,\n",
    "    subset='training',\n",
    "    interpolation=\"bilinear\",\n",
    "    seed=123,\n",
    "    batch_size=config.dataset.batch_size)\n",
    "\n",
    "# Validation DataSet (10%)\n",
    "val_ds = tf.keras.utils.image_dataset_from_directory(\n",
    "    train_dir,\n",
    "    labels=\"inferred\",\n",
    "    color_mode=\"rgb\",\n",
    "    image_size=(224,224),\n",
    "    shuffle=True,\n",
    "    validation_split=0.2,\n",
    "    subset='validation',\n",
    "    interpolation=\"bilinear\",\n",
    "    seed=123,\n",
    "    batch_size=config.dataset.batch_size)"
   ]
  },
  {
   "cell_type": "markdown",
   "metadata": {},
   "source": [
    "## Callbacks"
   ]
  },
  {
   "cell_type": "code",
   "execution_count": 5,
   "metadata": {},
   "outputs": [],
   "source": [
    "early_stop_callback = tf.keras.callbacks.EarlyStopping(monitor=config.early_stop.monitor, \n",
    "                                                       min_delta=config.early_stop.min_delta,\n",
    "                                                       patience=config.early_stop.patience, \n",
    "                                                       restore_best_weights=config.early_stop.restore_best_weights,\n",
    "                                                       verbose=config.early_stop.verbose)\n",
    "\n",
    "reduce_lr_callback = tf.keras.callbacks.ReduceLROnPlateau(monitor=config.learning_rate_schedule.monitor,\n",
    "                                                          factor=config.learning_rate_schedule.factor,\n",
    "                                                          patience=config.learning_rate_schedule.patience,\n",
    "                                                          verbose=config.learning_rate_schedule.verbose,\n",
    "                                                          mode=config.learning_rate_schedule.mode,\n",
    "                                                          min_delta=config.learning_rate_schedule.min_delta,\n",
    "                                                          min_lr=config.learning_rate_schedule.min_lr)\n",
    "callbacks = [early_stop_callback, reduce_lr_callback]"
   ]
  },
  {
   "cell_type": "markdown",
   "metadata": {},
   "source": [
    "## Dependencies"
   ]
  },
  {
   "cell_type": "code",
   "execution_count": 6,
   "metadata": {},
   "outputs": [],
   "source": [
    "repo = ExperimentRepo(mode = mode, project=config.project.name)\n",
    "optimizer=tf.keras.optimizers.Adam\n",
    "metrics = ['accuracy', tf.keras.metrics.AUC(), tf.keras.metrics.Precision(), tf.keras.metrics.Recall()]"
   ]
  },
  {
   "cell_type": "markdown",
   "metadata": {},
   "source": [
    "## Build Factory"
   ]
  },
  {
   "cell_type": "code",
   "execution_count": 7,
   "metadata": {},
   "outputs": [],
   "source": [
    "factory = ShainNetFactory(config=config.network)"
   ]
  },
  {
   "cell_type": "markdown",
   "metadata": {},
   "source": [
    "## Run Experiments"
   ]
  },
  {
   "cell_type": "code",
   "execution_count": null,
   "metadata": {},
   "outputs": [],
   "source": [
    "for base_model in base_models:\n",
    "    network = factory.create(base_model=base_model)\n",
    "    experiment = FeatureExtractionExperiment(network=network, config=config, optimizer=optimizer, repo=repo, callbacks=callbacks, metrics=metrics, tags=[network.architecture, base_model.name], force=False)\n",
    "    experiment.run(train_ds=train_ds, val_ds=val_ds)\n"
   ]
  }
 ],
 "metadata": {
  "kernelspec": {
   "display_name": "bcd",
   "language": "python",
   "name": "python3"
  },
  "language_info": {
   "codemirror_mode": {
    "name": "ipython",
    "version": 3
   },
   "file_extension": ".py",
   "mimetype": "text/x-python",
   "name": "python",
   "nbconvert_exporter": "python",
   "pygments_lexer": "ipython3",
   "version": "3.10.12"
  }
 },
 "nbformat": 4,
 "nbformat_minor": 2
}
