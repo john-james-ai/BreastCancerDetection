{
 "cells": [
  {
   "cell_type": "markdown",
   "metadata": {},
   "source": [
    "# TMNetV2"
   ]
  },
  {
   "cell_type": "code",
   "execution_count": 1,
   "metadata": {},
   "outputs": [],
   "source": [
    "import os\n",
    "import pathlib\n",
    "import tensorflow as tf\n",
    "import pandas as pd\n",
    "import wandb\n",
    "\n",
    "from bcd.model.network.base import NetworkConfig\n",
    "from bcd.model.network.tmnetv2 import TMNetV2Config, TMNetV2Factory\n",
    "from bcd.model.repo import ExperimentRepo\n",
    "from bcd.model.base import *\n",
    "from bcd.model.experiment import FeatureExtractionExperiment\n",
    "from bcd.model.config import *\n",
    "\n",
    "pd.set_option('display.max_rows',999)"
   ]
  },
  {
   "cell_type": "markdown",
   "metadata": {},
   "source": [
    "## Configuration"
   ]
  },
  {
   "cell_type": "code",
   "execution_count": 2,
   "metadata": {},
   "outputs": [
    {
     "name": "stdout",
     "output_type": "stream",
     "text": [
      "env: \"WANDB_NOTEBOOK_NAME\"=\"tmnetv2.ipynb\"\n"
     ]
    }
   ],
   "source": [
    "# Experiment Parameters\n",
    "%env \"WANDB_NOTEBOOK_NAME\" \"tmnetv2.ipynb\"\n",
    "mode = \"Stage\"\n",
    "force = False  # Whether to retrain if the model and config already exists.\n",
    "base_models = [DenseNet(), EfficientNet(), Inception(), InceptionResNet(), MobileNet(), ResNet(), Xception()]"
   ]
  },
  {
   "cell_type": "code",
   "execution_count": 3,
   "metadata": {},
   "outputs": [],
   "source": [
    "def create_config(network_config: NetworkConfig):\n",
    "    project_config = ProjectConfig(mode=mode)\n",
    "\n",
    "    train_config = TrainConfig(epochs=50, learning_rate=1e-4)    \n",
    "\n",
    "    dataset_config = DatasetConfig(mode=mode)\n",
    "\n",
    "    checkpoint_config = CheckPointConfig(monitor=\"val_accuracy\", verbose=1, save_best_only=True, save_weights_only=False, mode=\"auto\")\n",
    "\n",
    "    early_stop_config = EarlyStopConfig(min_delta=1e-4, monitor=\"val_loss\", patience=10, restore_best_weights=True, verbose=1)\n",
    "\n",
    "    learning_rate_schedule_config = LearningRateScheduleConfig(min_delta=1e-4, monitor=\"val_loss\", factor=0.5, patience=3, restore_best_weights=True, verbose=1, mode=\"auto\")\n",
    "\n",
    "    config = Config(project=project_config, \n",
    "                    dataset=dataset_config, \n",
    "                    train=train_config, \n",
    "                    network=network_config, \n",
    "                    checkpoint=checkpoint_config, \n",
    "                    early_stop=early_stop_config, \n",
    "                    learning_rate_schedule=learning_rate_schedule_config)\n",
    "    return config\n",
    "\n",
    "network_config = TMNetV2Config(activation=\"sigmoid\", input_shape=(224,224,3), output_shape=1, dense1=1024, dropout1=0.5, dense2=1024, dropout2=0.5)\n",
    "config = create_config(network_config=network_config)"
   ]
  },
  {
   "cell_type": "markdown",
   "metadata": {},
   "source": [
    "## Load Data"
   ]
  },
  {
   "cell_type": "code",
   "execution_count": 4,
   "metadata": {},
   "outputs": [
    {
     "name": "stdout",
     "output_type": "stream",
     "text": [
      "Found 816 files belonging to 2 classes.\n",
      "Using 653 files for training.\n",
      "Found 816 files belonging to 2 classes.\n",
      "Using 163 files for validation.\n"
     ]
    }
   ],
   "source": [
    "train_dir = pathlib.Path(config.dataset.train_dir).with_suffix('') \n",
    "train_ds = tf.keras.utils.image_dataset_from_directory(\n",
    "    train_dir,\n",
    "    labels=\"inferred\",\n",
    "    color_mode=\"rgb\",\n",
    "    image_size=(224,224),\n",
    "    shuffle=True,\n",
    "    validation_split=0.2,\n",
    "    subset='training',\n",
    "    interpolation=\"bilinear\",\n",
    "    seed=123,\n",
    "    batch_size=config.dataset.batch_size)\n",
    "\n",
    "# Validation DataSet (10%)\n",
    "val_ds = tf.keras.utils.image_dataset_from_directory(\n",
    "    train_dir,\n",
    "    labels=\"inferred\",\n",
    "    color_mode=\"rgb\",\n",
    "    image_size=(224,224),\n",
    "    shuffle=True,\n",
    "    validation_split=0.2,\n",
    "    subset='validation',\n",
    "    interpolation=\"bilinear\",\n",
    "    seed=123,\n",
    "    batch_size=config.dataset.batch_size)"
   ]
  },
  {
   "cell_type": "markdown",
   "metadata": {},
   "source": [
    "## Callbacks"
   ]
  },
  {
   "cell_type": "code",
   "execution_count": 5,
   "metadata": {},
   "outputs": [],
   "source": [
    "early_stop_callback = tf.keras.callbacks.EarlyStopping(monitor=config.early_stop.monitor, \n",
    "                                                       min_delta=config.early_stop.min_delta,\n",
    "                                                       patience=config.early_stop.patience, \n",
    "                                                       restore_best_weights=config.early_stop.restore_best_weights,\n",
    "                                                       verbose=config.early_stop.verbose)\n",
    "\n",
    "reduce_lr_callback = tf.keras.callbacks.ReduceLROnPlateau(monitor=config.learning_rate_schedule.monitor,\n",
    "                                                          factor=config.learning_rate_schedule.factor,\n",
    "                                                          patience=config.learning_rate_schedule.patience,\n",
    "                                                          verbose=config.learning_rate_schedule.verbose,\n",
    "                                                          mode=config.learning_rate_schedule.mode,\n",
    "                                                          min_delta=config.learning_rate_schedule.min_delta,\n",
    "                                                          min_lr=config.learning_rate_schedule.min_lr)\n",
    "callbacks = [early_stop_callback, reduce_lr_callback]"
   ]
  },
  {
   "cell_type": "markdown",
   "metadata": {},
   "source": [
    "## Dependencies"
   ]
  },
  {
   "cell_type": "code",
   "execution_count": 6,
   "metadata": {},
   "outputs": [],
   "source": [
    "repo = ExperimentRepo(mode = mode, project=config.project.name)\n",
    "optimizer=tf.keras.optimizers.Adam\n",
    "metrics = ['accuracy', tf.keras.metrics.AUC(), tf.keras.metrics.Precision(), tf.keras.metrics.Recall()]"
   ]
  },
  {
   "cell_type": "markdown",
   "metadata": {},
   "source": [
    "## Build Factory"
   ]
  },
  {
   "cell_type": "code",
   "execution_count": 7,
   "metadata": {},
   "outputs": [],
   "source": [
    "factory = TMNetV2Factory(config=config.network)"
   ]
  },
  {
   "cell_type": "markdown",
   "metadata": {},
   "source": [
    "## Run Experiments"
   ]
  },
  {
   "cell_type": "code",
   "execution_count": 8,
   "metadata": {},
   "outputs": [
    {
     "name": "stdout",
     "output_type": "stream",
     "text": [
      "# ================================================================================================ #\n",
      "                                          TMNetV2_DenseNet                                          \n",
      "# ------------------------------------------------------------------------------------------------ #\n",
      "Model: \"model\"\n",
      "_________________________________________________________________\n",
      " Layer (type)                Output Shape              Param #   \n",
      "=================================================================\n",
      " TMNetV2_DenseNet_input_laye  [(None, 224, 224, 3)]    0         \n",
      " r (InputLayer)                                                  \n",
      "                                                                 \n",
      " tf.math.truediv (TFOpLambda  (None, 224, 224, 3)      0         \n",
      " )                                                               \n",
      "                                                                 \n",
      " tf.nn.bias_add (TFOpLambda)  (None, 224, 224, 3)      0         \n",
      "                                                                 \n",
      " tf.math.truediv_1 (TFOpLamb  (None, 224, 224, 3)      0         \n",
      " da)                                                             \n",
      "                                                                 \n",
      " data_augmentation (Sequenti  (None, 224, 224, 3)      0         \n",
      " al)                                                             \n",
      "                                                                 \n",
      " densenet201 (Functional)    (None, None, None, 1920)  18321984  \n",
      "                                                                 \n",
      " TMNetV2_DenseNet_global_ave  (None, 1920)             0         \n",
      " rage_pooling (GlobalAverage                                     \n",
      " Pooling2D)                                                      \n",
      "                                                                 \n",
      " TMNetV2_DenseNet_batch_norm  (None, 1920)             7680      \n",
      " alization (BatchNormalizati                                     \n",
      " on)                                                             \n",
      "                                                                 \n",
      " TMNetV2_DenseNet_dense_1 (D  (None, 1024)             1967104   \n",
      " ense)                                                           \n",
      "                                                                 \n",
      " TMNetV2_DenseNet_dropout_1   (None, 1024)             0         \n",
      " (Dropout)                                                       \n",
      "                                                                 \n",
      " TMNetV2_DenseNet_dense_2 (D  (None, 1024)             1049600   \n",
      " ense)                                                           \n",
      "                                                                 \n",
      " TMNetV2_DenseNet_dropout_2   (None, 1024)             0         \n",
      " (Dropout)                                                       \n",
      "                                                                 \n",
      " TMNetV2_DenseNet_output_lay  (None, 1)                1025      \n",
      " er (Dense)                                                      \n",
      "                                                                 \n",
      "=================================================================\n",
      "Total params: 21,347,393\n",
      "Trainable params: 3,021,569\n",
      "Non-trainable params: 18,325,824\n",
      "_________________________________________________________________\n",
      "# ------------------------------------------------------------------------------------------------ #\n",
      "\n",
      "\n",
      "                                           TMNetV2Config                                            \n",
      "                                        Activation | sigmoid\n",
      "                                      Output Shape | 1\n",
      "                                            Dense1 | 1024\n",
      "                                          Dropout1 | 0.5\n",
      "                                            Dense2 | 1024\n",
      "                                          Dropout2 | 0.5\n",
      "\n",
      "\n",
      "# ================================================================================================ #\n",
      "ERROR:wandb.jupyter:Failed to detect the name of this notebook, you can set it manually with the WANDB_NOTEBOOK_NAME environment variable to enable code saving.\n"
     ]
    },
    {
     "name": "stderr",
     "output_type": "stream",
     "text": [
      "\u001b[34m\u001b[1mwandb\u001b[0m: Currently logged in as: \u001b[33maistudio\u001b[0m. Use \u001b[1m`wandb login --relogin`\u001b[0m to force relogin\n"
     ]
    },
    {
     "data": {
      "text/html": [
       "wandb version 0.16.3 is available!  To upgrade, please run:\n",
       " $ pip install wandb --upgrade"
      ],
      "text/plain": [
       "<IPython.core.display.HTML object>"
      ]
     },
     "metadata": {},
     "output_type": "display_data"
    },
    {
     "data": {
      "text/html": [
       "Tracking run with wandb version 0.16.2"
      ],
      "text/plain": [
       "<IPython.core.display.HTML object>"
      ]
     },
     "metadata": {},
     "output_type": "display_data"
    },
    {
     "data": {
      "text/html": [
       "Run data is saved locally in <code>/home/john/projects/bcd/wandb/run-20240213_185227-knjvzvub</code>"
      ],
      "text/plain": [
       "<IPython.core.display.HTML object>"
      ]
     },
     "metadata": {},
     "output_type": "display_data"
    },
    {
     "data": {
      "text/html": [
       "Syncing run <strong><a href='https://wandb.ai/aistudio/Breast-Cancer-Detection-Stage/runs/knjvzvub' target=\"_blank\">TMNetV2_DenseNet</a></strong> to <a href='https://wandb.ai/aistudio/Breast-Cancer-Detection-Stage' target=\"_blank\">Weights & Biases</a> (<a href='https://wandb.me/run' target=\"_blank\">docs</a>)<br/>"
      ],
      "text/plain": [
       "<IPython.core.display.HTML object>"
      ]
     },
     "metadata": {},
     "output_type": "display_data"
    },
    {
     "data": {
      "text/html": [
       " View project at <a href='https://wandb.ai/aistudio/Breast-Cancer-Detection-Stage' target=\"_blank\">https://wandb.ai/aistudio/Breast-Cancer-Detection-Stage</a>"
      ],
      "text/plain": [
       "<IPython.core.display.HTML object>"
      ]
     },
     "metadata": {},
     "output_type": "display_data"
    },
    {
     "data": {
      "text/html": [
       " View run at <a href='https://wandb.ai/aistudio/Breast-Cancer-Detection-Stage/runs/knjvzvub' target=\"_blank\">https://wandb.ai/aistudio/Breast-Cancer-Detection-Stage/runs/knjvzvub</a>"
      ],
      "text/plain": [
       "<IPython.core.display.HTML object>"
      ]
     },
     "metadata": {},
     "output_type": "display_data"
    },
    {
     "name": "stdout",
     "output_type": "stream",
     "text": [
      "Epoch 1/50\n",
      "21/21 [==============================] - ETA: 0s - loss: 0.7541 - accuracy: 0.5391 - auc: 0.5466 - precision: 0.4684 - recall: 0.3881\n",
      "Epoch 1: val_accuracy improved from -inf to 0.63804, saving model to models/stage/TMNetV2_DenseNet-knjvzvub.keras\n",
      "21/21 [==============================] - 131s 5s/step - loss: 0.7541 - accuracy: 0.5391 - auc: 0.5466 - precision: 0.4684 - recall: 0.3881 - val_loss: 0.6681 - val_accuracy: 0.6380 - val_auc: 0.5718 - val_precision: 0.5366 - val_recall: 0.3548 - lr: 1.0000e-04\n",
      "Epoch 2/50\n",
      "21/21 [==============================] - ETA: 0s - loss: 0.6737 - accuracy: 0.5972 - auc: 0.6512 - precision: 0.5481 - recall: 0.4580\n",
      "Epoch 2: val_accuracy did not improve from 0.63804\n",
      "21/21 [==============================] - 108s 5s/step - loss: 0.6737 - accuracy: 0.5972 - auc: 0.6512 - precision: 0.5481 - recall: 0.4580 - val_loss: 0.6576 - val_accuracy: 0.6196 - val_auc: 0.6160 - val_precision: 0.5000 - val_recall: 0.3387 - lr: 1.0000e-04\n",
      "Epoch 3/50\n",
      "21/21 [==============================] - ETA: 0s - loss: 0.6630 - accuracy: 0.6156 - auc: 0.6718 - precision: 0.5703 - recall: 0.4965\n",
      "Epoch 3: val_accuracy did not improve from 0.63804\n",
      "21/21 [==============================] - 102s 5s/step - loss: 0.6630 - accuracy: 0.6156 - auc: 0.6718 - precision: 0.5703 - recall: 0.4965 - val_loss: 0.6521 - val_accuracy: 0.6380 - val_auc: 0.6268 - val_precision: 0.5333 - val_recall: 0.3871 - lr: 1.0000e-04\n",
      "Epoch 4/50\n",
      "21/21 [==============================] - ETA: 0s - loss: 0.5997 - accuracy: 0.6631 - auc: 0.7292 - precision: 0.6299 - recall: 0.5594\n",
      "Epoch 4: val_accuracy did not improve from 0.63804\n",
      "21/21 [==============================] - 102s 5s/step - loss: 0.5997 - accuracy: 0.6631 - auc: 0.7292 - precision: 0.6299 - recall: 0.5594 - val_loss: 0.6503 - val_accuracy: 0.6012 - val_auc: 0.6262 - val_precision: 0.4706 - val_recall: 0.3871 - lr: 1.0000e-04\n",
      "Epoch 5/50\n",
      "21/21 [==============================] - ETA: 0s - loss: 0.5876 - accuracy: 0.6845 - auc: 0.7527 - precision: 0.6449 - recall: 0.6224\n",
      "Epoch 5: val_accuracy improved from 0.63804 to 0.64417, saving model to models/stage/TMNetV2_DenseNet-knjvzvub.keras\n",
      "21/21 [==============================] - 114s 5s/step - loss: 0.5876 - accuracy: 0.6845 - auc: 0.7527 - precision: 0.6449 - recall: 0.6224 - val_loss: 0.6447 - val_accuracy: 0.6442 - val_auc: 0.6253 - val_precision: 0.5588 - val_recall: 0.3065 - lr: 1.0000e-04\n",
      "Epoch 6/50\n",
      "21/21 [==============================] - ETA: 0s - loss: 0.5278 - accuracy: 0.7381 - auc: 0.8070 - precision: 0.7447 - recall: 0.6119\n",
      "Epoch 6: val_accuracy did not improve from 0.64417\n",
      "21/21 [==============================] - 118s 6s/step - loss: 0.5278 - accuracy: 0.7381 - auc: 0.8070 - precision: 0.7447 - recall: 0.6119 - val_loss: 0.6433 - val_accuracy: 0.6074 - val_auc: 0.6433 - val_precision: 0.4821 - val_recall: 0.4355 - lr: 1.0000e-04\n",
      "Epoch 7/50\n",
      "21/21 [==============================] - ETA: 0s - loss: 0.4720 - accuracy: 0.7580 - auc: 0.8587 - precision: 0.7270 - recall: 0.7168\n",
      "Epoch 7: val_accuracy did not improve from 0.64417\n",
      "21/21 [==============================] - 115s 5s/step - loss: 0.4720 - accuracy: 0.7580 - auc: 0.8587 - precision: 0.7270 - recall: 0.7168 - val_loss: 0.6397 - val_accuracy: 0.6196 - val_auc: 0.6543 - val_precision: 0.5000 - val_recall: 0.4677 - lr: 1.0000e-04\n",
      "Epoch 8/50\n",
      "21/21 [==============================] - ETA: 0s - loss: 0.4676 - accuracy: 0.7779 - auc: 0.8581 - precision: 0.7640 - recall: 0.7133\n",
      "Epoch 8: val_accuracy improved from 0.64417 to 0.65644, saving model to models/stage/TMNetV2_DenseNet-knjvzvub.keras\n",
      "21/21 [==============================] - 115s 5s/step - loss: 0.4676 - accuracy: 0.7779 - auc: 0.8581 - precision: 0.7640 - recall: 0.7133 - val_loss: 0.6340 - val_accuracy: 0.6564 - val_auc: 0.6601 - val_precision: 0.5625 - val_recall: 0.4355 - lr: 1.0000e-04\n",
      "Epoch 9/50\n",
      "21/21 [==============================] - ETA: 0s - loss: 0.4549 - accuracy: 0.7779 - auc: 0.8662 - precision: 0.7621 - recall: 0.7168\n",
      "Epoch 9: val_accuracy did not improve from 0.65644\n",
      "21/21 [==============================] - 110s 5s/step - loss: 0.4549 - accuracy: 0.7779 - auc: 0.8662 - precision: 0.7621 - recall: 0.7168 - val_loss: 0.6332 - val_accuracy: 0.6503 - val_auc: 0.6660 - val_precision: 0.5490 - val_recall: 0.4516 - lr: 1.0000e-04\n",
      "Epoch 10/50\n",
      "21/21 [==============================] - ETA: 0s - loss: 0.4389 - accuracy: 0.7887 - auc: 0.8742 - precision: 0.7624 - recall: 0.7517\n",
      "Epoch 10: val_accuracy improved from 0.65644 to 0.66871, saving model to models/stage/TMNetV2_DenseNet-knjvzvub.keras\n",
      "21/21 [==============================] - 117s 5s/step - loss: 0.4389 - accuracy: 0.7887 - auc: 0.8742 - precision: 0.7624 - recall: 0.7517 - val_loss: 0.6380 - val_accuracy: 0.6687 - val_auc: 0.6624 - val_precision: 0.5800 - val_recall: 0.4677 - lr: 1.0000e-04\n",
      "Epoch 11/50\n",
      "21/21 [==============================] - ETA: 0s - loss: 0.4131 - accuracy: 0.8101 - auc: 0.8930 - precision: 0.8164 - recall: 0.7308\n",
      "Epoch 11: val_accuracy did not improve from 0.66871\n",
      "21/21 [==============================] - 111s 5s/step - loss: 0.4131 - accuracy: 0.8101 - auc: 0.8930 - precision: 0.8164 - recall: 0.7308 - val_loss: 0.6506 - val_accuracy: 0.6442 - val_auc: 0.6607 - val_precision: 0.5345 - val_recall: 0.5000 - lr: 1.0000e-04\n",
      "Epoch 12/50\n",
      "21/21 [==============================] - ETA: 0s - loss: 0.3698 - accuracy: 0.8392 - auc: 0.9226 - precision: 0.8047 - recall: 0.8357\n",
      "Epoch 12: ReduceLROnPlateau reducing learning rate to 4.999999873689376e-05.\n",
      "\n",
      "Epoch 12: val_accuracy did not improve from 0.66871\n",
      "21/21 [==============================] - 115s 5s/step - loss: 0.3698 - accuracy: 0.8392 - auc: 0.9226 - precision: 0.8047 - recall: 0.8357 - val_loss: 0.6496 - val_accuracy: 0.6319 - val_auc: 0.6619 - val_precision: 0.5208 - val_recall: 0.4032 - lr: 1.0000e-04\n",
      "Epoch 13/50\n",
      "21/21 [==============================] - ETA: 0s - loss: 0.3723 - accuracy: 0.8469 - auc: 0.9171 - precision: 0.8185 - recall: 0.8357\n",
      "Epoch 13: val_accuracy did not improve from 0.66871\n",
      "21/21 [==============================] - 116s 5s/step - loss: 0.3723 - accuracy: 0.8469 - auc: 0.9171 - precision: 0.8185 - recall: 0.8357 - val_loss: 0.6563 - val_accuracy: 0.6135 - val_auc: 0.6609 - val_precision: 0.4915 - val_recall: 0.4677 - lr: 5.0000e-05\n",
      "Epoch 14/50\n",
      "21/21 [==============================] - ETA: 0s - loss: 0.3568 - accuracy: 0.8576 - auc: 0.9267 - precision: 0.8459 - recall: 0.8252\n",
      "Epoch 14: val_accuracy did not improve from 0.66871\n",
      "21/21 [==============================] - 111s 5s/step - loss: 0.3568 - accuracy: 0.8576 - auc: 0.9267 - precision: 0.8459 - recall: 0.8252 - val_loss: 0.6577 - val_accuracy: 0.6319 - val_auc: 0.6658 - val_precision: 0.5179 - val_recall: 0.4677 - lr: 5.0000e-05\n",
      "Epoch 15/50\n",
      "21/21 [==============================] - ETA: 0s - loss: 0.3438 - accuracy: 0.8606 - auc: 0.9331 - precision: 0.8495 - recall: 0.8287\n",
      "Epoch 15: ReduceLROnPlateau reducing learning rate to 2.499999936844688e-05.\n",
      "\n",
      "Epoch 15: val_accuracy did not improve from 0.66871\n",
      "21/21 [==============================] - 117s 5s/step - loss: 0.3438 - accuracy: 0.8606 - auc: 0.9331 - precision: 0.8495 - recall: 0.8287 - val_loss: 0.6603 - val_accuracy: 0.6319 - val_auc: 0.6702 - val_precision: 0.5156 - val_recall: 0.5323 - lr: 5.0000e-05\n",
      "Epoch 16/50\n",
      "21/21 [==============================] - ETA: 0s - loss: 0.3338 - accuracy: 0.8392 - auc: 0.9354 - precision: 0.8153 - recall: 0.8182\n",
      "Epoch 16: val_accuracy did not improve from 0.66871\n",
      "21/21 [==============================] - 117s 5s/step - loss: 0.3338 - accuracy: 0.8392 - auc: 0.9354 - precision: 0.8153 - recall: 0.8182 - val_loss: 0.6604 - val_accuracy: 0.6319 - val_auc: 0.6715 - val_precision: 0.5172 - val_recall: 0.4839 - lr: 2.5000e-05\n",
      "Epoch 17/50\n",
      "21/21 [==============================] - ETA: 0s - loss: 0.3350 - accuracy: 0.8576 - auc: 0.9363 - precision: 0.8434 - recall: 0.8287\n",
      "Epoch 17: val_accuracy did not improve from 0.66871\n",
      "21/21 [==============================] - 116s 5s/step - loss: 0.3350 - accuracy: 0.8576 - auc: 0.9363 - precision: 0.8434 - recall: 0.8287 - val_loss: 0.6674 - val_accuracy: 0.6442 - val_auc: 0.6750 - val_precision: 0.5303 - val_recall: 0.5645 - lr: 2.5000e-05\n",
      "Epoch 18/50\n",
      "21/21 [==============================] - ETA: 0s - loss: 0.2915 - accuracy: 0.8821 - auc: 0.9578 - precision: 0.8591 - recall: 0.8741\n",
      "Epoch 18: ReduceLROnPlateau reducing learning rate to 1.249999968422344e-05.\n",
      "\n",
      "Epoch 18: val_accuracy did not improve from 0.66871\n",
      "21/21 [==============================] - 113s 5s/step - loss: 0.2915 - accuracy: 0.8821 - auc: 0.9578 - precision: 0.8591 - recall: 0.8741 - val_loss: 0.6691 - val_accuracy: 0.6503 - val_auc: 0.6733 - val_precision: 0.5397 - val_recall: 0.5484 - lr: 2.5000e-05\n",
      "Epoch 19/50\n",
      "21/21 [==============================] - ETA: 0s - loss: 0.3110 - accuracy: 0.8606 - auc: 0.9469 - precision: 0.8598 - recall: 0.8147Restoring model weights from the end of the best epoch: 9.\n",
      "\n",
      "Epoch 19: val_accuracy did not improve from 0.66871\n",
      "21/21 [==============================] - 119s 6s/step - loss: 0.3110 - accuracy: 0.8606 - auc: 0.9469 - precision: 0.8598 - recall: 0.8147 - val_loss: 0.6721 - val_accuracy: 0.6503 - val_auc: 0.6754 - val_precision: 0.5385 - val_recall: 0.5645 - lr: 1.2500e-05\n",
      "Epoch 19: early stopping\n"
     ]
    },
    {
     "name": "stderr",
     "output_type": "stream",
     "text": [
      "\u001b[34m\u001b[1mwandb\u001b[0m: Waiting for artifact run-knjvzvub-TMNetV2_DenseNet-knjvzvub.keras to be committed...\n"
     ]
    },
    {
     "data": {
      "application/vnd.jupyter.widget-view+json": {
       "model_id": "72545b10bf9c4dd98f800630e7b18cfe",
       "version_major": 2,
       "version_minor": 0
      },
      "text/plain": [
       "VBox(children=(Label(value='1.988 MB of 211.274 MB uploaded\\r'), FloatProgress(value=0.009408696724525241, max…"
      ]
     },
     "metadata": {},
     "output_type": "display_data"
    },
    {
     "name": "stderr",
     "output_type": "stream",
     "text": [
      "\n",
      "\u001b[34m\u001b[1mwandb\u001b[0m: Committed artifact aistudio/Breast-Cancer-Detection-Stage/run-knjvzvub-TMNetV2_DenseNet-knjvzvub.keras:v0\n",
      "\u001b[34m\u001b[1mwandb\u001b[0m: \u001b[33mWARNING\u001b[0m wandb.plots.* functions are deprecated and will be removed in a future release. Please use wandb.plot.* instead.\n",
      "wandb: WARNING Source type is set to 'repo' but some required information is missing from the environment. A job will not be created from this run. See https://docs.wandb.ai/guides/launch/create-job\n"
     ]
    },
    {
     "data": {
      "text/html": [
       "<style>\n",
       "    table.wandb td:nth-child(1) { padding: 0 10px; text-align: left ; width: auto;} td:nth-child(2) {text-align: left ; width: 100%}\n",
       "    .wandb-row { display: flex; flex-direction: row; flex-wrap: wrap; justify-content: flex-start; width: 100% }\n",
       "    .wandb-col { display: flex; flex-direction: column; flex-basis: 100%; flex: 1; padding: 10px; }\n",
       "    </style>\n",
       "<div class=\"wandb-row\"><div class=\"wandb-col\"><h3>Run history:</h3><br/><table class=\"wandb\"><tr><td>epoch/accuracy</td><td>▁▂▃▄▄▅▅▆▆▆▇▇▇██▇███</td></tr><tr><td>epoch/auc</td><td>▁▃▃▄▅▅▆▆▆▇▇▇▇▇█████</td></tr><tr><td>epoch/epoch</td><td>▁▁▂▂▃▃▃▄▄▅▅▅▆▆▆▇▇██</td></tr><tr><td>epoch/learning_rate</td><td>███████████▄▄▄▂▂▂▁▁</td></tr><tr><td>epoch/loss</td><td>█▇▇▆▅▅▄▄▃▃▃▂▂▂▂▂▂▁▁</td></tr><tr><td>epoch/lr</td><td>████████████▄▄▄▂▂▂▁</td></tr><tr><td>epoch/precision</td><td>▁▂▃▄▄▆▆▆▆▆▇▇▇██▇███</td></tr><tr><td>epoch/recall</td><td>▁▂▃▃▄▄▆▆▆▆▆▇▇▇▇▇▇█▇</td></tr><tr><td>epoch/val_accuracy</td><td>▅▃▅▁▅▂▃▇▆█▅▄▂▄▄▄▅▆▆</td></tr><tr><td>epoch/val_auc</td><td>▁▄▅▅▅▆▇▇▇▇▇▇▇▇█████</td></tr><tr><td>epoch/val_loss</td><td>▇▅▄▄▃▃▂▁▁▂▄▄▅▅▆▆▇▇█</td></tr><tr><td>epoch/val_precision</td><td>▅▃▅▁▇▂▃▇▆█▅▄▂▄▄▄▅▅▅</td></tr><tr><td>epoch/val_recall</td><td>▂▂▃▃▁▅▅▅▅▅▆▄▅▅▇▆███</td></tr></table><br/></div><div class=\"wandb-col\"><h3>Run summary:</h3><br/><table class=\"wandb\"><tr><td>epoch/accuracy</td><td>0.86064</td></tr><tr><td>epoch/auc</td><td>0.94686</td></tr><tr><td>epoch/epoch</td><td>18</td></tr><tr><td>epoch/learning_rate</td><td>1e-05</td></tr><tr><td>epoch/loss</td><td>0.31102</td></tr><tr><td>epoch/lr</td><td>1e-05</td></tr><tr><td>epoch/precision</td><td>0.85978</td></tr><tr><td>epoch/recall</td><td>0.81469</td></tr><tr><td>epoch/val_accuracy</td><td>0.65031</td></tr><tr><td>epoch/val_auc</td><td>0.67542</td></tr><tr><td>epoch/val_loss</td><td>0.67212</td></tr><tr><td>epoch/val_precision</td><td>0.53846</td></tr><tr><td>epoch/val_recall</td><td>0.56452</td></tr></table><br/></div></div>"
      ],
      "text/plain": [
       "<IPython.core.display.HTML object>"
      ]
     },
     "metadata": {},
     "output_type": "display_data"
    },
    {
     "data": {
      "text/html": [
       " View run <strong style=\"color:#cdcd00\">TMNetV2_DenseNet</strong> at: <a href='https://wandb.ai/aistudio/Breast-Cancer-Detection-Stage/runs/knjvzvub' target=\"_blank\">https://wandb.ai/aistudio/Breast-Cancer-Detection-Stage/runs/knjvzvub</a><br/>Synced 6 W&B file(s), 3 media file(s), 5 artifact file(s) and 0 other file(s)"
      ],
      "text/plain": [
       "<IPython.core.display.HTML object>"
      ]
     },
     "metadata": {},
     "output_type": "display_data"
    },
    {
     "data": {
      "text/html": [
       "Find logs at: <code>./wandb/run-20240213_185227-knjvzvub/logs</code>"
      ],
      "text/plain": [
       "<IPython.core.display.HTML object>"
      ]
     },
     "metadata": {},
     "output_type": "display_data"
    },
    {
     "name": "stdout",
     "output_type": "stream",
     "text": [
      "# ================================================================================================ #\n",
      "                                        TMNetV2_EfficientNet                                        \n",
      "# ------------------------------------------------------------------------------------------------ #\n",
      "Model: \"model\"\n",
      "_________________________________________________________________\n",
      " Layer (type)                Output Shape              Param #   \n",
      "=================================================================\n",
      " TMNetV2_EfficientNet_input_  [(None, 224, 224, 3)]    0         \n",
      " layer (InputLayer)                                              \n",
      "                                                                 \n",
      " data_augmentation (Sequenti  (None, 224, 224, 3)      0         \n",
      " al)                                                             \n",
      "                                                                 \n",
      " efficientnetv2-s (Functiona  (None, None, None, 1280)  20331360 \n",
      " l)                                                              \n",
      "                                                                 \n",
      " TMNetV2_EfficientNet_global  (None, 1280)             0         \n",
      " _average_pooling (GlobalAve                                     \n",
      " ragePooling2D)                                                  \n",
      "                                                                 \n",
      " TMNetV2_EfficientNet_batch_  (None, 1280)             5120      \n",
      " normalization (BatchNormali                                     \n",
      " zation)                                                         \n",
      "                                                                 \n",
      " TMNetV2_EfficientNet_dense_  (None, 1024)             1311744   \n",
      " 1 (Dense)                                                       \n",
      "                                                                 \n",
      " TMNetV2_EfficientNet_dropou  (None, 1024)             0         \n",
      " t_1 (Dropout)                                                   \n",
      "                                                                 \n",
      " TMNetV2_EfficientNet_dense_  (None, 1024)             1049600   \n",
      " 2 (Dense)                                                       \n",
      "                                                                 \n",
      " TMNetV2_EfficientNet_dropou  (None, 1024)             0         \n",
      " t_2 (Dropout)                                                   \n",
      "                                                                 \n",
      " TMNetV2_EfficientNet_output  (None, 1)                1025      \n",
      " _layer (Dense)                                                  \n",
      "                                                                 \n",
      "=================================================================\n",
      "Total params: 22,698,849\n",
      "Trainable params: 2,364,929\n",
      "Non-trainable params: 20,333,920\n",
      "_________________________________________________________________\n",
      "# ------------------------------------------------------------------------------------------------ #\n",
      "\n",
      "\n",
      "                                           TMNetV2Config                                            \n",
      "                                        Activation | sigmoid\n",
      "                                      Output Shape | 1\n",
      "                                            Dense1 | 1024\n",
      "                                          Dropout1 | 0.5\n",
      "                                            Dense2 | 1024\n",
      "                                          Dropout2 | 0.5\n",
      "\n",
      "\n",
      "# ================================================================================================ #\n"
     ]
    },
    {
     "data": {
      "text/html": [
       "wandb version 0.16.3 is available!  To upgrade, please run:\n",
       " $ pip install wandb --upgrade"
      ],
      "text/plain": [
       "<IPython.core.display.HTML object>"
      ]
     },
     "metadata": {},
     "output_type": "display_data"
    },
    {
     "data": {
      "text/html": [
       "Tracking run with wandb version 0.16.2"
      ],
      "text/plain": [
       "<IPython.core.display.HTML object>"
      ]
     },
     "metadata": {},
     "output_type": "display_data"
    },
    {
     "data": {
      "text/html": [
       "Run data is saved locally in <code>/home/john/projects/bcd/wandb/run-20240213_193237-o4jhk32o</code>"
      ],
      "text/plain": [
       "<IPython.core.display.HTML object>"
      ]
     },
     "metadata": {},
     "output_type": "display_data"
    },
    {
     "data": {
      "text/html": [
       "Syncing run <strong><a href='https://wandb.ai/aistudio/Breast-Cancer-Detection-Stage/runs/o4jhk32o' target=\"_blank\">TMNetV2_EfficientNet</a></strong> to <a href='https://wandb.ai/aistudio/Breast-Cancer-Detection-Stage' target=\"_blank\">Weights & Biases</a> (<a href='https://wandb.me/run' target=\"_blank\">docs</a>)<br/>"
      ],
      "text/plain": [
       "<IPython.core.display.HTML object>"
      ]
     },
     "metadata": {},
     "output_type": "display_data"
    },
    {
     "data": {
      "text/html": [
       " View project at <a href='https://wandb.ai/aistudio/Breast-Cancer-Detection-Stage' target=\"_blank\">https://wandb.ai/aistudio/Breast-Cancer-Detection-Stage</a>"
      ],
      "text/plain": [
       "<IPython.core.display.HTML object>"
      ]
     },
     "metadata": {},
     "output_type": "display_data"
    },
    {
     "data": {
      "text/html": [
       " View run at <a href='https://wandb.ai/aistudio/Breast-Cancer-Detection-Stage/runs/o4jhk32o' target=\"_blank\">https://wandb.ai/aistudio/Breast-Cancer-Detection-Stage/runs/o4jhk32o</a>"
      ],
      "text/plain": [
       "<IPython.core.display.HTML object>"
      ]
     },
     "metadata": {},
     "output_type": "display_data"
    },
    {
     "name": "stdout",
     "output_type": "stream",
     "text": [
      "Epoch 1/50\n",
      "21/21 [==============================] - ETA: 0s - loss: 0.9261 - accuracy: 0.5176 - auc: 0.5229 - precision: 0.4625 - recall: 0.4253\n",
      "Epoch 1: val_accuracy did not improve from 0.66871\n",
      "\n",
      "Epoch 1: val_accuracy improved from -inf to 0.60736, saving model to models/stage/TMNetV2_EfficientNet-o4jhk32o.keras\n",
      "21/21 [==============================] - 94s 3s/step - loss: 0.9261 - accuracy: 0.5176 - auc: 0.5229 - precision: 0.4625 - recall: 0.4253 - val_loss: 0.6732 - val_accuracy: 0.6074 - val_auc: 0.5963 - val_precision: 0.4762 - val_recall: 0.3226 - lr: 1.0000e-04\n",
      "Epoch 2/50\n",
      "21/21 [==============================] - ETA: 0s - loss: 0.7806 - accuracy: 0.5911 - auc: 0.6088 - precision: 0.5326 - recall: 0.5420\n",
      "Epoch 2: val_accuracy did not improve from 0.66871\n",
      "\n",
      "Epoch 2: val_accuracy improved from 0.60736 to 0.61350, saving model to models/stage/TMNetV2_EfficientNet-o4jhk32o.keras\n",
      "21/21 [==============================] - 72s 3s/step - loss: 0.7806 - accuracy: 0.5911 - auc: 0.6088 - precision: 0.5326 - recall: 0.5420 - val_loss: 0.6572 - val_accuracy: 0.6135 - val_auc: 0.6084 - val_precision: 0.4737 - val_recall: 0.1452 - lr: 1.0000e-04\n",
      "Epoch 3/50\n",
      "21/21 [==============================] - ETA: 0s - loss: 0.7131 - accuracy: 0.6110 - auc: 0.6406 - precision: 0.5615 - recall: 0.5105\n",
      "Epoch 3: val_accuracy did not improve from 0.66871\n",
      "\n",
      "Epoch 3: val_accuracy did not improve from 0.61350\n",
      "21/21 [==============================] - 74s 3s/step - loss: 0.7131 - accuracy: 0.6110 - auc: 0.6406 - precision: 0.5615 - recall: 0.5105 - val_loss: 0.6549 - val_accuracy: 0.5951 - val_auc: 0.6132 - val_precision: 0.4167 - val_recall: 0.1613 - lr: 1.0000e-04\n",
      "Epoch 4/50\n",
      "21/21 [==============================] - ETA: 0s - loss: 0.6522 - accuracy: 0.6616 - auc: 0.7082 - precision: 0.6245 - recall: 0.5699\n",
      "Epoch 4: val_accuracy did not improve from 0.66871\n",
      "\n",
      "Epoch 4: val_accuracy improved from 0.61350 to 0.61963, saving model to models/stage/TMNetV2_EfficientNet-o4jhk32o.keras\n",
      "21/21 [==============================] - 79s 4s/step - loss: 0.6522 - accuracy: 0.6616 - auc: 0.7082 - precision: 0.6245 - recall: 0.5699 - val_loss: 0.6495 - val_accuracy: 0.6196 - val_auc: 0.6161 - val_precision: 0.5000 - val_recall: 0.1129 - lr: 1.0000e-04\n",
      "Epoch 5/50\n",
      "21/21 [==============================] - ETA: 0s - loss: 0.6931 - accuracy: 0.6432 - auc: 0.6809 - precision: 0.6091 - recall: 0.5175\n",
      "Epoch 5: val_accuracy did not improve from 0.66871\n",
      "\n",
      "Epoch 5: val_accuracy did not improve from 0.61963\n",
      "21/21 [==============================] - 71s 3s/step - loss: 0.6931 - accuracy: 0.6432 - auc: 0.6809 - precision: 0.6091 - recall: 0.5175 - val_loss: 0.6585 - val_accuracy: 0.6135 - val_auc: 0.5999 - val_precision: 0.4857 - val_recall: 0.2742 - lr: 1.0000e-04\n",
      "Epoch 6/50\n",
      "21/21 [==============================] - ETA: 0s - loss: 0.6128 - accuracy: 0.6738 - auc: 0.7314 - precision: 0.6388 - recall: 0.5874\n",
      "Epoch 6: val_accuracy did not improve from 0.66871\n",
      "\n",
      "Epoch 6: val_accuracy improved from 0.61963 to 0.63190, saving model to models/stage/TMNetV2_EfficientNet-o4jhk32o.keras\n",
      "21/21 [==============================] - 74s 3s/step - loss: 0.6128 - accuracy: 0.6738 - auc: 0.7314 - precision: 0.6388 - recall: 0.5874 - val_loss: 0.6588 - val_accuracy: 0.6319 - val_auc: 0.6082 - val_precision: 0.5333 - val_recall: 0.2581 - lr: 1.0000e-04\n",
      "Epoch 7/50\n",
      "21/21 [==============================] - ETA: 0s - loss: 0.5698 - accuracy: 0.7121 - auc: 0.7777 - precision: 0.6763 - recall: 0.6573\n",
      "Epoch 7: ReduceLROnPlateau reducing learning rate to 4.999999873689376e-05.\n",
      "\n",
      "Epoch 7: val_accuracy did not improve from 0.66871\n",
      "\n",
      "Epoch 7: val_accuracy did not improve from 0.63190\n",
      "21/21 [==============================] - 76s 3s/step - loss: 0.5698 - accuracy: 0.7121 - auc: 0.7777 - precision: 0.6763 - recall: 0.6573 - val_loss: 0.6526 - val_accuracy: 0.6012 - val_auc: 0.6155 - val_precision: 0.4615 - val_recall: 0.2903 - lr: 1.0000e-04\n",
      "Epoch 8/50\n",
      "21/21 [==============================] - ETA: 0s - loss: 0.6010 - accuracy: 0.6708 - auc: 0.7487 - precision: 0.6340 - recall: 0.5874\n",
      "Epoch 8: val_accuracy did not improve from 0.66871\n",
      "\n",
      "Epoch 8: val_accuracy did not improve from 0.63190\n",
      "21/21 [==============================] - 76s 3s/step - loss: 0.6010 - accuracy: 0.6708 - auc: 0.7487 - precision: 0.6340 - recall: 0.5874 - val_loss: 0.6490 - val_accuracy: 0.6196 - val_auc: 0.6103 - val_precision: 0.5000 - val_recall: 0.2419 - lr: 5.0000e-05\n",
      "Epoch 9/50\n",
      "21/21 [==============================] - ETA: 0s - loss: 0.5547 - accuracy: 0.7167 - auc: 0.7896 - precision: 0.6810 - recall: 0.6643\n",
      "Epoch 9: val_accuracy did not improve from 0.66871\n",
      "\n",
      "Epoch 9: val_accuracy improved from 0.63190 to 0.64417, saving model to models/stage/TMNetV2_EfficientNet-o4jhk32o.keras\n",
      "21/21 [==============================] - 78s 4s/step - loss: 0.5547 - accuracy: 0.7167 - auc: 0.7896 - precision: 0.6810 - recall: 0.6643 - val_loss: 0.6478 - val_accuracy: 0.6442 - val_auc: 0.6184 - val_precision: 0.5556 - val_recall: 0.3226 - lr: 5.0000e-05\n",
      "Epoch 10/50\n",
      "21/21 [==============================] - ETA: 0s - loss: 0.5690 - accuracy: 0.7198 - auc: 0.7756 - precision: 0.6943 - recall: 0.6434\n",
      "Epoch 10: val_accuracy did not improve from 0.66871\n",
      "\n",
      "Epoch 10: val_accuracy did not improve from 0.64417\n",
      "21/21 [==============================] - 74s 3s/step - loss: 0.5690 - accuracy: 0.7198 - auc: 0.7756 - precision: 0.6943 - recall: 0.6434 - val_loss: 0.6468 - val_accuracy: 0.6380 - val_auc: 0.6230 - val_precision: 0.5366 - val_recall: 0.3548 - lr: 5.0000e-05\n",
      "Epoch 11/50\n",
      "21/21 [==============================] - ETA: 0s - loss: 0.5271 - accuracy: 0.7412 - auc: 0.8034 - precision: 0.7191 - recall: 0.6713\n",
      "Epoch 11: val_accuracy did not improve from 0.66871\n",
      "\n",
      "Epoch 11: val_accuracy did not improve from 0.64417\n",
      "21/21 [==============================] - 70s 3s/step - loss: 0.5271 - accuracy: 0.7412 - auc: 0.8034 - precision: 0.7191 - recall: 0.6713 - val_loss: 0.6494 - val_accuracy: 0.6074 - val_auc: 0.6175 - val_precision: 0.4783 - val_recall: 0.3548 - lr: 5.0000e-05\n",
      "Epoch 12/50\n",
      "21/21 [==============================] - ETA: 0s - loss: 0.5193 - accuracy: 0.7381 - auc: 0.8160 - precision: 0.7091 - recall: 0.6818\n",
      "Epoch 12: val_accuracy did not improve from 0.66871\n",
      "\n",
      "Epoch 12: val_accuracy did not improve from 0.64417\n",
      "21/21 [==============================] - 71s 3s/step - loss: 0.5193 - accuracy: 0.7381 - auc: 0.8160 - precision: 0.7091 - recall: 0.6818 - val_loss: 0.6561 - val_accuracy: 0.6196 - val_auc: 0.6054 - val_precision: 0.5000 - val_recall: 0.3710 - lr: 5.0000e-05\n",
      "Epoch 13/50\n",
      "21/21 [==============================] - ETA: 0s - loss: 0.5117 - accuracy: 0.7443 - auc: 0.8223 - precision: 0.7196 - recall: 0.6818\n",
      "Epoch 13: ReduceLROnPlateau reducing learning rate to 2.499999936844688e-05.\n",
      "\n",
      "Epoch 13: val_accuracy did not improve from 0.66871\n",
      "\n",
      "Epoch 13: val_accuracy did not improve from 0.64417\n",
      "21/21 [==============================] - 72s 3s/step - loss: 0.5117 - accuracy: 0.7443 - auc: 0.8223 - precision: 0.7196 - recall: 0.6818 - val_loss: 0.6528 - val_accuracy: 0.6074 - val_auc: 0.6088 - val_precision: 0.4773 - val_recall: 0.3387 - lr: 5.0000e-05\n",
      "Epoch 14/50\n",
      "21/21 [==============================] - ETA: 0s - loss: 0.4895 - accuracy: 0.7642 - auc: 0.8415 - precision: 0.7245 - recall: 0.7448\n",
      "Epoch 14: val_accuracy did not improve from 0.66871\n",
      "\n",
      "Epoch 14: val_accuracy did not improve from 0.64417\n",
      "21/21 [==============================] - 72s 3s/step - loss: 0.4895 - accuracy: 0.7642 - auc: 0.8415 - precision: 0.7245 - recall: 0.7448 - val_loss: 0.6512 - val_accuracy: 0.6012 - val_auc: 0.6175 - val_precision: 0.4667 - val_recall: 0.3387 - lr: 2.5000e-05\n",
      "Epoch 15/50\n",
      "21/21 [==============================] - ETA: 0s - loss: 0.5110 - accuracy: 0.7519 - auc: 0.8245 - precision: 0.7296 - recall: 0.6888\n",
      "Epoch 15: val_accuracy did not improve from 0.66871\n",
      "\n",
      "Epoch 15: val_accuracy did not improve from 0.64417\n",
      "21/21 [==============================] - 76s 3s/step - loss: 0.5110 - accuracy: 0.7519 - auc: 0.8245 - precision: 0.7296 - recall: 0.6888 - val_loss: 0.6490 - val_accuracy: 0.6258 - val_auc: 0.6204 - val_precision: 0.5128 - val_recall: 0.3226 - lr: 2.5000e-05\n",
      "Epoch 16/50\n",
      "21/21 [==============================] - ETA: 0s - loss: 0.4653 - accuracy: 0.7749 - auc: 0.8550 - precision: 0.7860 - recall: 0.6678\n",
      "Epoch 16: ReduceLROnPlateau reducing learning rate to 1.249999968422344e-05.\n",
      "\n",
      "Epoch 16: val_accuracy did not improve from 0.66871\n",
      "\n",
      "Epoch 16: val_accuracy did not improve from 0.64417\n",
      "21/21 [==============================] - 75s 3s/step - loss: 0.4653 - accuracy: 0.7749 - auc: 0.8550 - precision: 0.7860 - recall: 0.6678 - val_loss: 0.6507 - val_accuracy: 0.5951 - val_auc: 0.6246 - val_precision: 0.4583 - val_recall: 0.3548 - lr: 2.5000e-05\n",
      "Epoch 17/50\n",
      "21/21 [==============================] - ETA: 0s - loss: 0.4951 - accuracy: 0.7718 - auc: 0.8358 - precision: 0.7528 - recall: 0.7133\n",
      "Epoch 17: val_accuracy did not improve from 0.66871\n",
      "\n",
      "Epoch 17: val_accuracy did not improve from 0.64417\n",
      "21/21 [==============================] - 75s 3s/step - loss: 0.4951 - accuracy: 0.7718 - auc: 0.8358 - precision: 0.7528 - recall: 0.7133 - val_loss: 0.6548 - val_accuracy: 0.6258 - val_auc: 0.6296 - val_precision: 0.5091 - val_recall: 0.4516 - lr: 1.2500e-05\n",
      "Epoch 18/50\n",
      "21/21 [==============================] - ETA: 0s - loss: 0.5132 - accuracy: 0.7228 - auc: 0.8181 - precision: 0.6855 - recall: 0.6783\n",
      "Epoch 18: val_accuracy did not improve from 0.66871\n",
      "\n",
      "Epoch 18: val_accuracy did not improve from 0.64417\n",
      "21/21 [==============================] - 77s 4s/step - loss: 0.5132 - accuracy: 0.7228 - auc: 0.8181 - precision: 0.6855 - recall: 0.6783 - val_loss: 0.6538 - val_accuracy: 0.6135 - val_auc: 0.6287 - val_precision: 0.4894 - val_recall: 0.3710 - lr: 1.2500e-05\n",
      "Epoch 19/50\n",
      "21/21 [==============================] - ETA: 0s - loss: 0.4848 - accuracy: 0.7611 - auc: 0.8420 - precision: 0.7355 - recall: 0.7098\n",
      "Epoch 19: ReduceLROnPlateau reducing learning rate to 6.24999984211172e-06.\n",
      "\n",
      "Epoch 19: val_accuracy did not improve from 0.66871\n",
      "\n",
      "Epoch 19: val_accuracy did not improve from 0.64417\n",
      "21/21 [==============================] - 76s 3s/step - loss: 0.4848 - accuracy: 0.7611 - auc: 0.8420 - precision: 0.7355 - recall: 0.7098 - val_loss: 0.6578 - val_accuracy: 0.6258 - val_auc: 0.6246 - val_precision: 0.5106 - val_recall: 0.3871 - lr: 1.2500e-05\n",
      "Epoch 20/50\n",
      "21/21 [==============================] - ETA: 0s - loss: 0.4463 - accuracy: 0.7841 - auc: 0.8678 - precision: 0.7736 - recall: 0.7168Restoring model weights from the end of the best epoch: 10.\n",
      "\n",
      "Epoch 20: val_accuracy did not improve from 0.66871\n",
      "\n",
      "Epoch 20: val_accuracy did not improve from 0.64417\n",
      "21/21 [==============================] - 75s 3s/step - loss: 0.4463 - accuracy: 0.7841 - auc: 0.8678 - precision: 0.7736 - recall: 0.7168 - val_loss: 0.6595 - val_accuracy: 0.6074 - val_auc: 0.6258 - val_precision: 0.4800 - val_recall: 0.3871 - lr: 6.2500e-06\n",
      "Epoch 20: early stopping\n"
     ]
    },
    {
     "name": "stderr",
     "output_type": "stream",
     "text": [
      "\u001b[34m\u001b[1mwandb\u001b[0m: Waiting for artifact run-o4jhk32o-TMNetV2_EfficientNet-o4jhk32o.keras to be committed...\n"
     ]
    },
    {
     "data": {
      "application/vnd.jupyter.widget-view+json": {
       "model_id": "56e35ff8fcbe4616a8bb980f7810d317",
       "version_major": 2,
       "version_minor": 0
      },
      "text/plain": [
       "VBox(children=(Label(value='2.332 MB of 210.880 MB uploaded\\r'), FloatProgress(value=0.011056344584947189, max…"
      ]
     },
     "metadata": {},
     "output_type": "display_data"
    },
    {
     "name": "stderr",
     "output_type": "stream",
     "text": [
      "\n",
      "\u001b[34m\u001b[1mwandb\u001b[0m: Committed artifact aistudio/Breast-Cancer-Detection-Stage/run-o4jhk32o-TMNetV2_EfficientNet-o4jhk32o.keras:v0\n",
      "wandb: WARNING Source type is set to 'repo' but some required information is missing from the environment. A job will not be created from this run. See https://docs.wandb.ai/guides/launch/create-job\n"
     ]
    },
    {
     "data": {
      "text/html": [
       "<style>\n",
       "    table.wandb td:nth-child(1) { padding: 0 10px; text-align: left ; width: auto;} td:nth-child(2) {text-align: left ; width: 100%}\n",
       "    .wandb-row { display: flex; flex-direction: row; flex-wrap: wrap; justify-content: flex-start; width: 100% }\n",
       "    .wandb-col { display: flex; flex-direction: column; flex-basis: 100%; flex: 1; padding: 10px; }\n",
       "    </style>\n",
       "<div class=\"wandb-row\"><div class=\"wandb-col\"><h3>Run history:</h3><br/><table class=\"wandb\"><tr><td>epoch/accuracy</td><td>▁▁▃▃▃▃▅▅▄▄▅▅▆▆▅▅▆▆▆▆▇▇▇▇▇▇▇▇▇▇████▆▆▇▇██</td></tr><tr><td>epoch/auc</td><td>▁▁▃▃▃▃▅▅▄▄▅▅▆▆▆▆▆▆▆▆▇▇▇▇▇▇▇▇▇▇██▇▇▇▇▇▇██</td></tr><tr><td>epoch/epoch</td><td>▁▁▁▁▂▂▂▂▂▂▃▃▃▃▄▄▄▄▄▄▅▅▅▅▅▅▆▆▆▆▇▇▇▇▇▇████</td></tr><tr><td>epoch/learning_rate</td><td>████████████▄▄▄▄▄▄▄▄▄▄▄▄▂▂▂▂▂▂▁▁▁▁▁▁▁▁▁▁</td></tr><tr><td>epoch/loss</td><td>██▆▆▅▅▄▄▅▅▃▃▃▃▃▃▃▃▃▃▂▂▂▂▂▂▂▂▂▂▁▁▂▂▂▂▂▂▁▁</td></tr><tr><td>epoch/lr</td><td>██████████████▄▄▄▄▄▄▄▄▄▄▄▄▂▂▂▂▂▂▁▁▁▁▁▁▁▁</td></tr><tr><td>epoch/precision</td><td>▁▁▃▃▃▃▅▅▄▄▅▅▆▆▅▅▆▆▆▆▇▇▆▆▇▇▇▇▇▇██▇▇▆▆▇▇██</td></tr><tr><td>epoch/recall</td><td>▁▁▄▄▃▃▄▄▃▃▅▅▆▆▅▅▆▆▆▆▆▆▇▇▇▇██▇▇▆▆▇▇▇▇▇▇▇▇</td></tr><tr><td>epoch/val_accuracy</td><td>▃▃▄▄▁▁▅▅▄▄▆▆▂▂▅▅██▇▇▃▃▅▅▃▃▂▂▅▅▁▁▅▅▄▄▅▅▃▃</td></tr><tr><td>epoch/val_auc</td><td>▁▁▄▄▅▅▅▅▂▂▄▄▅▅▄▄▆▆▇▇▅▅▃▃▄▄▅▅▆▆▇▇████▇▇▇▇</td></tr><tr><td>epoch/val_loss</td><td>██▄▄▃▃▂▂▄▄▄▄▃▃▂▂▁▁▁▁▂▂▃▃▃▃▂▂▂▂▂▂▃▃▃▃▄▄▄▄</td></tr><tr><td>epoch/val_precision</td><td>▄▄▄▄▁▁▅▅▄▄▇▇▃▃▅▅██▇▇▄▄▅▅▄▄▄▄▆▆▃▃▆▆▅▅▆▆▄▄</td></tr><tr><td>epoch/val_recall</td><td>▅▅▂▂▂▂▁▁▄▄▄▄▅▅▄▄▅▅▆▆▆▆▆▆▆▆▆▆▅▅▆▆██▆▆▇▇▇▇</td></tr></table><br/></div><div class=\"wandb-col\"><h3>Run summary:</h3><br/><table class=\"wandb\"><tr><td>epoch/accuracy</td><td>0.78407</td></tr><tr><td>epoch/auc</td><td>0.86777</td></tr><tr><td>epoch/epoch</td><td>19</td></tr><tr><td>epoch/learning_rate</td><td>1e-05</td></tr><tr><td>epoch/loss</td><td>0.44628</td></tr><tr><td>epoch/lr</td><td>1e-05</td></tr><tr><td>epoch/precision</td><td>0.77358</td></tr><tr><td>epoch/recall</td><td>0.71678</td></tr><tr><td>epoch/val_accuracy</td><td>0.60736</td></tr><tr><td>epoch/val_auc</td><td>0.62584</td></tr><tr><td>epoch/val_loss</td><td>0.65947</td></tr><tr><td>epoch/val_precision</td><td>0.48</td></tr><tr><td>epoch/val_recall</td><td>0.3871</td></tr></table><br/></div></div>"
      ],
      "text/plain": [
       "<IPython.core.display.HTML object>"
      ]
     },
     "metadata": {},
     "output_type": "display_data"
    },
    {
     "data": {
      "text/html": [
       " View run <strong style=\"color:#cdcd00\">TMNetV2_EfficientNet</strong> at: <a href='https://wandb.ai/aistudio/Breast-Cancer-Detection-Stage/runs/o4jhk32o' target=\"_blank\">https://wandb.ai/aistudio/Breast-Cancer-Detection-Stage/runs/o4jhk32o</a><br/>Synced 6 W&B file(s), 3 media file(s), 5 artifact file(s) and 0 other file(s)"
      ],
      "text/plain": [
       "<IPython.core.display.HTML object>"
      ]
     },
     "metadata": {},
     "output_type": "display_data"
    },
    {
     "data": {
      "text/html": [
       "Find logs at: <code>./wandb/run-20240213_193237-o4jhk32o/logs</code>"
      ],
      "text/plain": [
       "<IPython.core.display.HTML object>"
      ]
     },
     "metadata": {},
     "output_type": "display_data"
    },
    {
     "name": "stdout",
     "output_type": "stream",
     "text": [
      "# ================================================================================================ #\n",
      "                                         TMNetV2_Inception                                          \n",
      "# ------------------------------------------------------------------------------------------------ #\n",
      "Model: \"model\"\n",
      "_________________________________________________________________\n",
      " Layer (type)                Output Shape              Param #   \n",
      "=================================================================\n",
      " TMNetV2_Inception_input_lay  [(None, 224, 224, 3)]    0         \n",
      " er (InputLayer)                                                 \n",
      "                                                                 \n",
      " tf.math.truediv (TFOpLambda  (None, 224, 224, 3)      0         \n",
      " )                                                               \n",
      "                                                                 \n",
      " tf.math.subtract (TFOpLambd  (None, 224, 224, 3)      0         \n",
      " a)                                                              \n",
      "                                                                 \n",
      " data_augmentation (Sequenti  (None, 224, 224, 3)      0         \n",
      " al)                                                             \n",
      "                                                                 \n",
      " inception_v3 (Functional)   (None, None, None, 2048)  21802784  \n",
      "                                                                 \n",
      " TMNetV2_Inception_global_av  (None, 2048)             0         \n",
      " erage_pooling (GlobalAverag                                     \n",
      " ePooling2D)                                                     \n",
      "                                                                 \n",
      " TMNetV2_Inception_batch_nor  (None, 2048)             8192      \n",
      " malization (BatchNormalizat                                     \n",
      " ion)                                                            \n",
      "                                                                 \n",
      " TMNetV2_Inception_dense_1 (  (None, 1024)             2098176   \n",
      " Dense)                                                          \n",
      "                                                                 \n",
      " TMNetV2_Inception_dropout_1  (None, 1024)             0         \n",
      "  (Dropout)                                                      \n",
      "                                                                 \n",
      " TMNetV2_Inception_dense_2 (  (None, 1024)             1049600   \n",
      " Dense)                                                          \n",
      "                                                                 \n",
      " TMNetV2_Inception_dropout_2  (None, 1024)             0         \n",
      "  (Dropout)                                                      \n",
      "                                                                 \n",
      " TMNetV2_Inception_output_la  (None, 1)                1025      \n",
      " yer (Dense)                                                     \n",
      "                                                                 \n",
      "=================================================================\n",
      "Total params: 24,959,777\n",
      "Trainable params: 3,152,897\n",
      "Non-trainable params: 21,806,880\n",
      "_________________________________________________________________\n",
      "# ------------------------------------------------------------------------------------------------ #\n",
      "\n",
      "\n",
      "                                           TMNetV2Config                                            \n",
      "                                        Activation | sigmoid\n",
      "                                      Output Shape | 1\n",
      "                                            Dense1 | 1024\n",
      "                                          Dropout1 | 0.5\n",
      "                                            Dense2 | 1024\n",
      "                                          Dropout2 | 0.5\n",
      "\n",
      "\n",
      "# ================================================================================================ #\n"
     ]
    },
    {
     "data": {
      "text/html": [
       "wandb version 0.16.3 is available!  To upgrade, please run:\n",
       " $ pip install wandb --upgrade"
      ],
      "text/plain": [
       "<IPython.core.display.HTML object>"
      ]
     },
     "metadata": {},
     "output_type": "display_data"
    },
    {
     "data": {
      "text/html": [
       "Tracking run with wandb version 0.16.2"
      ],
      "text/plain": [
       "<IPython.core.display.HTML object>"
      ]
     },
     "metadata": {},
     "output_type": "display_data"
    },
    {
     "data": {
      "text/html": [
       "Run data is saved locally in <code>/home/john/projects/bcd/wandb/run-20240213_200121-eeckzras</code>"
      ],
      "text/plain": [
       "<IPython.core.display.HTML object>"
      ]
     },
     "metadata": {},
     "output_type": "display_data"
    },
    {
     "data": {
      "text/html": [
       "Syncing run <strong><a href='https://wandb.ai/aistudio/Breast-Cancer-Detection-Stage/runs/eeckzras' target=\"_blank\">TMNetV2_Inception</a></strong> to <a href='https://wandb.ai/aistudio/Breast-Cancer-Detection-Stage' target=\"_blank\">Weights & Biases</a> (<a href='https://wandb.me/run' target=\"_blank\">docs</a>)<br/>"
      ],
      "text/plain": [
       "<IPython.core.display.HTML object>"
      ]
     },
     "metadata": {},
     "output_type": "display_data"
    },
    {
     "data": {
      "text/html": [
       " View project at <a href='https://wandb.ai/aistudio/Breast-Cancer-Detection-Stage' target=\"_blank\">https://wandb.ai/aistudio/Breast-Cancer-Detection-Stage</a>"
      ],
      "text/plain": [
       "<IPython.core.display.HTML object>"
      ]
     },
     "metadata": {},
     "output_type": "display_data"
    },
    {
     "data": {
      "text/html": [
       " View run at <a href='https://wandb.ai/aistudio/Breast-Cancer-Detection-Stage/runs/eeckzras' target=\"_blank\">https://wandb.ai/aistudio/Breast-Cancer-Detection-Stage/runs/eeckzras</a>"
      ],
      "text/plain": [
       "<IPython.core.display.HTML object>"
      ]
     },
     "metadata": {},
     "output_type": "display_data"
    },
    {
     "name": "stdout",
     "output_type": "stream",
     "text": [
      "Epoch 1/50\n",
      "21/21 [==============================] - ETA: 0s - loss: 0.9445 - accuracy: 0.5008 - auc: 0.4984 - precision: 0.4314 - recall: 0.3793\n",
      "Epoch 1: val_accuracy did not improve from 0.66871\n",
      "\n",
      "Epoch 1: val_accuracy did not improve from 0.64417\n",
      "\n",
      "Epoch 1: val_accuracy improved from -inf to 0.60736, saving model to models/stage/TMNetV2_Inception-eeckzras.keras\n",
      "21/21 [==============================] - 62s 2s/step - loss: 0.9445 - accuracy: 0.5008 - auc: 0.4984 - precision: 0.4314 - recall: 0.3793 - val_loss: 0.6421 - val_accuracy: 0.6074 - val_auc: 0.6303 - val_precision: 0.3333 - val_recall: 0.0323 - lr: 1.0000e-04\n",
      "Epoch 2/50\n",
      "21/21 [==============================] - ETA: 0s - loss: 0.8146 - accuracy: 0.5773 - auc: 0.5976 - precision: 0.5195 - recall: 0.4650\n",
      "Epoch 2: val_accuracy did not improve from 0.66871\n",
      "\n",
      "Epoch 2: val_accuracy did not improve from 0.64417\n",
      "\n",
      "Epoch 2: val_accuracy did not improve from 0.60736\n",
      "21/21 [==============================] - 50s 2s/step - loss: 0.8146 - accuracy: 0.5773 - auc: 0.5976 - precision: 0.5195 - recall: 0.4650 - val_loss: 0.6317 - val_accuracy: 0.5890 - val_auc: 0.6542 - val_precision: 0.3077 - val_recall: 0.0645 - lr: 1.0000e-04\n",
      "Epoch 3/50\n",
      "21/21 [==============================] - ETA: 0s - loss: 0.7037 - accuracy: 0.6248 - auc: 0.6599 - precision: 0.5768 - recall: 0.5385\n",
      "Epoch 3: val_accuracy did not improve from 0.66871\n",
      "\n",
      "Epoch 3: val_accuracy did not improve from 0.64417\n",
      "\n",
      "Epoch 3: val_accuracy improved from 0.60736 to 0.61963, saving model to models/stage/TMNetV2_Inception-eeckzras.keras\n",
      "21/21 [==============================] - 49s 2s/step - loss: 0.7037 - accuracy: 0.6248 - auc: 0.6599 - precision: 0.5768 - recall: 0.5385 - val_loss: 0.6294 - val_accuracy: 0.6196 - val_auc: 0.6623 - val_precision: 0.5000 - val_recall: 0.1290 - lr: 1.0000e-04\n",
      "Epoch 4/50\n",
      "21/21 [==============================] - ETA: 0s - loss: 0.6939 - accuracy: 0.6386 - auc: 0.6801 - precision: 0.5962 - recall: 0.5420\n",
      "Epoch 4: val_accuracy did not improve from 0.66871\n",
      "\n",
      "Epoch 4: val_accuracy did not improve from 0.64417\n",
      "\n",
      "Epoch 4: val_accuracy did not improve from 0.61963\n",
      "21/21 [==============================] - 48s 2s/step - loss: 0.6939 - accuracy: 0.6386 - auc: 0.6801 - precision: 0.5962 - recall: 0.5420 - val_loss: 0.6360 - val_accuracy: 0.6135 - val_auc: 0.6408 - val_precision: 0.4865 - val_recall: 0.2903 - lr: 1.0000e-04\n",
      "Epoch 5/50\n",
      "21/21 [==============================] - ETA: 0s - loss: 0.6842 - accuracy: 0.6447 - auc: 0.6901 - precision: 0.5900 - recall: 0.6189\n",
      "Epoch 5: val_accuracy did not improve from 0.66871\n",
      "\n",
      "Epoch 5: val_accuracy did not improve from 0.64417\n",
      "\n",
      "Epoch 5: val_accuracy did not improve from 0.61963\n",
      "21/21 [==============================] - 51s 2s/step - loss: 0.6842 - accuracy: 0.6447 - auc: 0.6901 - precision: 0.5900 - recall: 0.6189 - val_loss: 0.6431 - val_accuracy: 0.6012 - val_auc: 0.6390 - val_precision: 0.4348 - val_recall: 0.1613 - lr: 1.0000e-04\n",
      "Epoch 6/50\n",
      "21/21 [==============================] - ETA: 0s - loss: 0.6341 - accuracy: 0.6769 - auc: 0.7329 - precision: 0.6728 - recall: 0.5105\n",
      "Epoch 6: ReduceLROnPlateau reducing learning rate to 4.999999873689376e-05.\n",
      "\n",
      "Epoch 6: val_accuracy did not improve from 0.66871\n",
      "\n",
      "Epoch 6: val_accuracy did not improve from 0.64417\n",
      "\n",
      "Epoch 6: val_accuracy improved from 0.61963 to 0.62577, saving model to models/stage/TMNetV2_Inception-eeckzras.keras\n",
      "21/21 [==============================] - 52s 2s/step - loss: 0.6341 - accuracy: 0.6769 - auc: 0.7329 - precision: 0.6728 - recall: 0.5105 - val_loss: 0.6513 - val_accuracy: 0.6258 - val_auc: 0.6278 - val_precision: 0.5088 - val_recall: 0.4677 - lr: 1.0000e-04\n",
      "Epoch 7/50\n",
      "21/21 [==============================] - ETA: 0s - loss: 0.5531 - accuracy: 0.6968 - auc: 0.7974 - precision: 0.6310 - recall: 0.7413\n",
      "Epoch 7: val_accuracy did not improve from 0.66871\n",
      "\n",
      "Epoch 7: val_accuracy did not improve from 0.64417\n",
      "\n",
      "Epoch 7: val_accuracy did not improve from 0.62577\n",
      "21/21 [==============================] - 48s 2s/step - loss: 0.5531 - accuracy: 0.6968 - auc: 0.7974 - precision: 0.6310 - recall: 0.7413 - val_loss: 0.6488 - val_accuracy: 0.6135 - val_auc: 0.6241 - val_precision: 0.4889 - val_recall: 0.3548 - lr: 5.0000e-05\n",
      "Epoch 8/50\n",
      "21/21 [==============================] - ETA: 0s - loss: 0.5657 - accuracy: 0.7044 - auc: 0.7830 - precision: 0.6809 - recall: 0.6119\n",
      "Epoch 8: val_accuracy did not improve from 0.66871\n",
      "\n",
      "Epoch 8: val_accuracy did not improve from 0.64417\n",
      "\n",
      "Epoch 8: val_accuracy did not improve from 0.62577\n",
      "21/21 [==============================] - 52s 2s/step - loss: 0.5657 - accuracy: 0.7044 - auc: 0.7830 - precision: 0.6809 - recall: 0.6119 - val_loss: 0.6509 - val_accuracy: 0.5828 - val_auc: 0.6274 - val_precision: 0.4118 - val_recall: 0.2258 - lr: 5.0000e-05\n",
      "Epoch 9/50\n",
      "21/21 [==============================] - ETA: 0s - loss: 0.5545 - accuracy: 0.7259 - auc: 0.7927 - precision: 0.7082 - recall: 0.6364\n",
      "Epoch 9: ReduceLROnPlateau reducing learning rate to 2.499999936844688e-05.\n",
      "\n",
      "Epoch 9: val_accuracy did not improve from 0.66871\n",
      "\n",
      "Epoch 9: val_accuracy did not improve from 0.64417\n",
      "\n",
      "Epoch 9: val_accuracy did not improve from 0.62577\n",
      "21/21 [==============================] - 55s 2s/step - loss: 0.5545 - accuracy: 0.7259 - auc: 0.7927 - precision: 0.7082 - recall: 0.6364 - val_loss: 0.6563 - val_accuracy: 0.6135 - val_auc: 0.6214 - val_precision: 0.4902 - val_recall: 0.4032 - lr: 5.0000e-05\n",
      "Epoch 10/50\n",
      "21/21 [==============================] - ETA: 0s - loss: 0.5725 - accuracy: 0.7213 - auc: 0.7772 - precision: 0.6745 - recall: 0.7028\n",
      "Epoch 10: val_accuracy did not improve from 0.66871\n",
      "\n",
      "Epoch 10: val_accuracy did not improve from 0.64417\n",
      "\n",
      "Epoch 10: val_accuracy did not improve from 0.62577\n",
      "21/21 [==============================] - 52s 2s/step - loss: 0.5725 - accuracy: 0.7213 - auc: 0.7772 - precision: 0.6745 - recall: 0.7028 - val_loss: 0.6553 - val_accuracy: 0.6074 - val_auc: 0.6250 - val_precision: 0.4783 - val_recall: 0.3548 - lr: 2.5000e-05\n",
      "Epoch 11/50\n",
      "21/21 [==============================] - ETA: 0s - loss: 0.5112 - accuracy: 0.7427 - auc: 0.8234 - precision: 0.7287 - recall: 0.6573\n",
      "Epoch 11: val_accuracy did not improve from 0.66871\n",
      "\n",
      "Epoch 11: val_accuracy did not improve from 0.64417\n",
      "\n",
      "Epoch 11: val_accuracy did not improve from 0.62577\n",
      "21/21 [==============================] - 52s 2s/step - loss: 0.5112 - accuracy: 0.7427 - auc: 0.8234 - precision: 0.7287 - recall: 0.6573 - val_loss: 0.6572 - val_accuracy: 0.6074 - val_auc: 0.6280 - val_precision: 0.4783 - val_recall: 0.3548 - lr: 2.5000e-05\n",
      "Epoch 12/50\n",
      "21/21 [==============================] - ETA: 0s - loss: 0.5239 - accuracy: 0.7489 - auc: 0.8169 - precision: 0.7293 - recall: 0.6783\n",
      "Epoch 12: ReduceLROnPlateau reducing learning rate to 1.249999968422344e-05.\n",
      "\n",
      "Epoch 12: val_accuracy did not improve from 0.66871\n",
      "\n",
      "Epoch 12: val_accuracy did not improve from 0.64417\n",
      "\n",
      "Epoch 12: val_accuracy did not improve from 0.62577\n",
      "21/21 [==============================] - 51s 2s/step - loss: 0.5239 - accuracy: 0.7489 - auc: 0.8169 - precision: 0.7293 - recall: 0.6783 - val_loss: 0.6645 - val_accuracy: 0.5951 - val_auc: 0.6252 - val_precision: 0.4600 - val_recall: 0.3710 - lr: 2.5000e-05\n",
      "Epoch 13/50\n",
      "21/21 [==============================] - ETA: 0s - loss: 0.5196 - accuracy: 0.7473 - auc: 0.8193 - precision: 0.7168 - recall: 0.6993Restoring model weights from the end of the best epoch: 3.\n",
      "\n",
      "Epoch 13: val_accuracy did not improve from 0.66871\n",
      "\n",
      "Epoch 13: val_accuracy did not improve from 0.64417\n",
      "\n",
      "Epoch 13: val_accuracy did not improve from 0.62577\n",
      "21/21 [==============================] - 50s 2s/step - loss: 0.5196 - accuracy: 0.7473 - auc: 0.8193 - precision: 0.7168 - recall: 0.6993 - val_loss: 0.6667 - val_accuracy: 0.5890 - val_auc: 0.6274 - val_precision: 0.4545 - val_recall: 0.4032 - lr: 1.2500e-05\n",
      "Epoch 13: early stopping\n"
     ]
    },
    {
     "name": "stderr",
     "output_type": "stream",
     "text": [
      "\u001b[34m\u001b[1mwandb\u001b[0m: Waiting for artifact run-eeckzras-TMNetV2_Inception-eeckzras.keras to be committed...\n"
     ]
    },
    {
     "data": {
      "application/vnd.jupyter.widget-view+json": {
       "model_id": "28ecdfa9cbbe40409bb4b6ff7655385c",
       "version_major": 2,
       "version_minor": 0
      },
      "text/plain": [
       "VBox(children=(Label(value='1.988 MB of 239.610 MB uploaded\\r'), FloatProgress(value=0.00829602234128174, max=…"
      ]
     },
     "metadata": {},
     "output_type": "display_data"
    },
    {
     "name": "stderr",
     "output_type": "stream",
     "text": [
      "\n",
      "\u001b[34m\u001b[1mwandb\u001b[0m: Committed artifact aistudio/Breast-Cancer-Detection-Stage/run-eeckzras-TMNetV2_Inception-eeckzras.keras:v0\n",
      "wandb: WARNING Source type is set to 'repo' but some required information is missing from the environment. A job will not be created from this run. See https://docs.wandb.ai/guides/launch/create-job\n"
     ]
    },
    {
     "data": {
      "text/html": [
       "<style>\n",
       "    table.wandb td:nth-child(1) { padding: 0 10px; text-align: left ; width: auto;} td:nth-child(2) {text-align: left ; width: 100%}\n",
       "    .wandb-row { display: flex; flex-direction: row; flex-wrap: wrap; justify-content: flex-start; width: 100% }\n",
       "    .wandb-col { display: flex; flex-direction: column; flex-basis: 100%; flex: 1; padding: 10px; }\n",
       "    </style>\n",
       "<div class=\"wandb-row\"><div class=\"wandb-col\"><h3>Run history:</h3><br/><table class=\"wandb\"><tr><td>epoch/accuracy</td><td>▁▁▁▃▃▃▄▄▄▅▅▅▅▅▅▆▆▆▇▇▇▇▇▇▇▇▇▇▇▇█████████</td></tr><tr><td>epoch/auc</td><td>▁▁▁▃▃▃▄▄▄▅▅▅▅▅▅▆▆▆▇▇▇▇▇▇▇▇▇▇▇▇█████████</td></tr><tr><td>epoch/epoch</td><td>▁▁▁▂▂▂▂▂▂▃▃▃▃▃▃▄▄▄▅▅▅▅▅▅▆▆▆▆▆▆▇▇▇▇▇▇███</td></tr><tr><td>epoch/learning_rate</td><td>███████████████▄▄▄▄▄▄▄▄▄▂▂▂▂▂▂▂▂▂▁▁▁▁▁▁</td></tr><tr><td>epoch/loss</td><td>███▆▆▆▄▄▄▄▄▄▄▄▄▃▃▃▂▂▂▂▂▂▂▂▂▂▂▂▁▁▁▁▁▁▁▁▁</td></tr><tr><td>epoch/lr</td><td>██████████████████▄▄▄▄▄▄▄▄▄▂▂▂▂▂▂▂▂▂▁▁▁</td></tr><tr><td>epoch/precision</td><td>▁▁▁▃▃▃▄▄▄▅▅▅▅▅▅▇▇▇▆▆▆▇▇▇███▇▇▇█████████</td></tr><tr><td>epoch/recall</td><td>▁▁▁▃▃▃▄▄▄▄▄▄▆▆▆▄▄▄███▅▅▅▆▆▆▇▇▇▆▆▆▇▇▇▇▇▇</td></tr><tr><td>epoch/val_accuracy</td><td>▅▅▅▂▂▂▇▇▇▆▆▆▄▄▄███▆▆▆▁▁▁▆▆▆▅▅▅▅▅▅▃▃▃▂▂▂</td></tr><tr><td>epoch/val_auc</td><td>▃▃▃▇▇▇███▄▄▄▄▄▄▂▂▂▁▁▁▂▂▂▁▁▁▂▂▂▂▂▂▂▂▂▂▂▂</td></tr><tr><td>epoch/val_loss</td><td>▃▃▃▁▁▁▁▁▁▂▂▂▄▄▄▅▅▅▅▅▅▅▅▅▆▆▆▆▆▆▆▆▆██████</td></tr><tr><td>epoch/val_precision</td><td>▂▂▂▁▁▁███▇▇▇▅▅▅███▇▇▇▅▅▅▇▇▇▇▇▇▇▇▇▆▆▆▆▆▆</td></tr><tr><td>epoch/val_recall</td><td>▁▁▁▂▂▂▃▃▃▅▅▅▃▃▃███▆▆▆▄▄▄▇▇▇▆▆▆▆▆▆▆▆▆▇▇▇</td></tr></table><br/></div><div class=\"wandb-col\"><h3>Run summary:</h3><br/><table class=\"wandb\"><tr><td>epoch/accuracy</td><td>0.74732</td></tr><tr><td>epoch/auc</td><td>0.81933</td></tr><tr><td>epoch/epoch</td><td>12</td></tr><tr><td>epoch/learning_rate</td><td>1e-05</td></tr><tr><td>epoch/loss</td><td>0.51962</td></tr><tr><td>epoch/lr</td><td>1e-05</td></tr><tr><td>epoch/precision</td><td>0.71685</td></tr><tr><td>epoch/recall</td><td>0.6993</td></tr><tr><td>epoch/val_accuracy</td><td>0.58896</td></tr><tr><td>epoch/val_auc</td><td>0.62736</td></tr><tr><td>epoch/val_loss</td><td>0.66667</td></tr><tr><td>epoch/val_precision</td><td>0.45455</td></tr><tr><td>epoch/val_recall</td><td>0.40323</td></tr></table><br/></div></div>"
      ],
      "text/plain": [
       "<IPython.core.display.HTML object>"
      ]
     },
     "metadata": {},
     "output_type": "display_data"
    },
    {
     "data": {
      "text/html": [
       " View run <strong style=\"color:#cdcd00\">TMNetV2_Inception</strong> at: <a href='https://wandb.ai/aistudio/Breast-Cancer-Detection-Stage/runs/eeckzras' target=\"_blank\">https://wandb.ai/aistudio/Breast-Cancer-Detection-Stage/runs/eeckzras</a><br/>Synced 6 W&B file(s), 3 media file(s), 5 artifact file(s) and 0 other file(s)"
      ],
      "text/plain": [
       "<IPython.core.display.HTML object>"
      ]
     },
     "metadata": {},
     "output_type": "display_data"
    },
    {
     "data": {
      "text/html": [
       "Find logs at: <code>./wandb/run-20240213_200121-eeckzras/logs</code>"
      ],
      "text/plain": [
       "<IPython.core.display.HTML object>"
      ]
     },
     "metadata": {},
     "output_type": "display_data"
    },
    {
     "name": "stdout",
     "output_type": "stream",
     "text": [
      "# ================================================================================================ #\n",
      "                                      TMNetV2_InceptionResNet                                       \n",
      "# ------------------------------------------------------------------------------------------------ #\n",
      "Model: \"model\"\n",
      "_________________________________________________________________\n",
      " Layer (type)                Output Shape              Param #   \n",
      "=================================================================\n",
      " TMNetV2_InceptionResNet_inp  [(None, 224, 224, 3)]    0         \n",
      " ut_layer (InputLayer)                                           \n",
      "                                                                 \n",
      " tf.math.truediv (TFOpLambda  (None, 224, 224, 3)      0         \n",
      " )                                                               \n",
      "                                                                 \n",
      " tf.math.subtract (TFOpLambd  (None, 224, 224, 3)      0         \n",
      " a)                                                              \n",
      "                                                                 \n",
      " data_augmentation (Sequenti  (None, 224, 224, 3)      0         \n",
      " al)                                                             \n",
      "                                                                 \n",
      " inception_resnet_v2 (Functi  (None, None, None, 1536)  54336736 \n",
      " onal)                                                           \n",
      "                                                                 \n",
      " TMNetV2_InceptionResNet_glo  (None, 1536)             0         \n",
      " bal_average_pooling (Global                                     \n",
      " AveragePooling2D)                                               \n",
      "                                                                 \n",
      " TMNetV2_InceptionResNet_bat  (None, 1536)             6144      \n",
      " ch_normalization (BatchNorm                                     \n",
      " alization)                                                      \n",
      "                                                                 \n",
      " TMNetV2_InceptionResNet_den  (None, 1024)             1573888   \n",
      " se_1 (Dense)                                                    \n",
      "                                                                 \n",
      " TMNetV2_InceptionResNet_dro  (None, 1024)             0         \n",
      " pout_1 (Dropout)                                                \n",
      "                                                                 \n",
      " TMNetV2_InceptionResNet_den  (None, 1024)             1049600   \n",
      " se_2 (Dense)                                                    \n",
      "                                                                 \n",
      " TMNetV2_InceptionResNet_dro  (None, 1024)             0         \n",
      " pout_2 (Dropout)                                                \n",
      "                                                                 \n",
      " TMNetV2_InceptionResNet_out  (None, 1)                1025      \n",
      " put_layer (Dense)                                               \n",
      "                                                                 \n",
      "=================================================================\n",
      "Total params: 56,967,393\n",
      "Trainable params: 2,627,585\n",
      "Non-trainable params: 54,339,808\n",
      "_________________________________________________________________\n",
      "# ------------------------------------------------------------------------------------------------ #\n",
      "\n",
      "\n",
      "                                           TMNetV2Config                                            \n",
      "                                        Activation | sigmoid\n",
      "                                      Output Shape | 1\n",
      "                                            Dense1 | 1024\n",
      "                                          Dropout1 | 0.5\n",
      "                                            Dense2 | 1024\n",
      "                                          Dropout2 | 0.5\n",
      "\n",
      "\n",
      "# ================================================================================================ #\n"
     ]
    },
    {
     "data": {
      "text/html": [
       "wandb version 0.16.3 is available!  To upgrade, please run:\n",
       " $ pip install wandb --upgrade"
      ],
      "text/plain": [
       "<IPython.core.display.HTML object>"
      ]
     },
     "metadata": {},
     "output_type": "display_data"
    },
    {
     "data": {
      "text/html": [
       "Tracking run with wandb version 0.16.2"
      ],
      "text/plain": [
       "<IPython.core.display.HTML object>"
      ]
     },
     "metadata": {},
     "output_type": "display_data"
    },
    {
     "data": {
      "text/html": [
       "Run data is saved locally in <code>/home/john/projects/bcd/wandb/run-20240213_201621-enyui5fe</code>"
      ],
      "text/plain": [
       "<IPython.core.display.HTML object>"
      ]
     },
     "metadata": {},
     "output_type": "display_data"
    },
    {
     "data": {
      "text/html": [
       "Syncing run <strong><a href='https://wandb.ai/aistudio/Breast-Cancer-Detection-Stage/runs/enyui5fe' target=\"_blank\">TMNetV2_InceptionResNet</a></strong> to <a href='https://wandb.ai/aistudio/Breast-Cancer-Detection-Stage' target=\"_blank\">Weights & Biases</a> (<a href='https://wandb.me/run' target=\"_blank\">docs</a>)<br/>"
      ],
      "text/plain": [
       "<IPython.core.display.HTML object>"
      ]
     },
     "metadata": {},
     "output_type": "display_data"
    },
    {
     "data": {
      "text/html": [
       " View project at <a href='https://wandb.ai/aistudio/Breast-Cancer-Detection-Stage' target=\"_blank\">https://wandb.ai/aistudio/Breast-Cancer-Detection-Stage</a>"
      ],
      "text/plain": [
       "<IPython.core.display.HTML object>"
      ]
     },
     "metadata": {},
     "output_type": "display_data"
    },
    {
     "data": {
      "text/html": [
       " View run at <a href='https://wandb.ai/aistudio/Breast-Cancer-Detection-Stage/runs/enyui5fe' target=\"_blank\">https://wandb.ai/aistudio/Breast-Cancer-Detection-Stage/runs/enyui5fe</a>"
      ],
      "text/plain": [
       "<IPython.core.display.HTML object>"
      ]
     },
     "metadata": {},
     "output_type": "display_data"
    },
    {
     "name": "stdout",
     "output_type": "stream",
     "text": [
      "Epoch 1/50\n",
      "21/21 [==============================] - ETA: 0s - loss: 0.8953 - accuracy: 0.5100 - auc: 0.5194 - precision: 0.4365 - recall: 0.3851\n",
      "Epoch 1: val_accuracy did not improve from 0.66871\n",
      "\n",
      "Epoch 1: val_accuracy improved from 0.64417 to 0.65031, saving model to models/stage/TMNetV2_EfficientNet-o4jhk32o.keras\n",
      "\n",
      "Epoch 1: val_accuracy improved from 0.62577 to 0.65031, saving model to models/stage/TMNetV2_Inception-eeckzras.keras\n",
      "\n",
      "Epoch 1: val_accuracy improved from -inf to 0.65031, saving model to models/stage/TMNetV2_InceptionResNet-enyui5fe.keras\n",
      "21/21 [==============================] - 122s 5s/step - loss: 0.8953 - accuracy: 0.5100 - auc: 0.5194 - precision: 0.4365 - recall: 0.3851 - val_loss: 0.6477 - val_accuracy: 0.6503 - val_auc: 0.6116 - val_precision: 0.5862 - val_recall: 0.2742 - lr: 1.0000e-04\n",
      "Epoch 2/50\n",
      "21/21 [==============================] - ETA: 0s - loss: 0.7769 - accuracy: 0.5666 - auc: 0.5950 - precision: 0.5057 - recall: 0.4650\n",
      "Epoch 2: val_accuracy did not improve from 0.66871\n",
      "\n",
      "Epoch 2: val_accuracy improved from 0.65031 to 0.66258, saving model to models/stage/TMNetV2_EfficientNet-o4jhk32o.keras\n",
      "\n",
      "Epoch 2: val_accuracy improved from 0.65031 to 0.66258, saving model to models/stage/TMNetV2_Inception-eeckzras.keras\n",
      "\n",
      "Epoch 2: val_accuracy improved from 0.65031 to 0.66258, saving model to models/stage/TMNetV2_InceptionResNet-enyui5fe.keras\n",
      "21/21 [==============================] - 107s 5s/step - loss: 0.7769 - accuracy: 0.5666 - auc: 0.5950 - precision: 0.5057 - recall: 0.4650 - val_loss: 0.6285 - val_accuracy: 0.6626 - val_auc: 0.6611 - val_precision: 0.7692 - val_recall: 0.1613 - lr: 1.0000e-04\n",
      "Epoch 3/50\n",
      "21/21 [==============================] - ETA: 0s - loss: 0.7544 - accuracy: 0.6110 - auc: 0.6306 - precision: 0.5588 - recall: 0.5315\n",
      "Epoch 3: val_accuracy did not improve from 0.66871\n",
      "\n",
      "Epoch 3: val_accuracy did not improve from 0.66258\n",
      "\n",
      "Epoch 3: val_accuracy did not improve from 0.66258\n",
      "\n",
      "Epoch 3: val_accuracy did not improve from 0.66258\n",
      "21/21 [==============================] - 103s 5s/step - loss: 0.7544 - accuracy: 0.6110 - auc: 0.6306 - precision: 0.5588 - recall: 0.5315 - val_loss: 0.6192 - val_accuracy: 0.6380 - val_auc: 0.6819 - val_precision: 0.6667 - val_recall: 0.0968 - lr: 1.0000e-04\n",
      "Epoch 4/50\n",
      "21/21 [==============================] - ETA: 0s - loss: 0.6982 - accuracy: 0.6202 - auc: 0.6649 - precision: 0.5720 - recall: 0.5280\n",
      "Epoch 4: val_accuracy did not improve from 0.66871\n",
      "\n",
      "Epoch 4: val_accuracy did not improve from 0.66258\n",
      "\n",
      "Epoch 4: val_accuracy did not improve from 0.66258\n",
      "\n",
      "Epoch 4: val_accuracy did not improve from 0.66258\n",
      "21/21 [==============================] - 106s 5s/step - loss: 0.6982 - accuracy: 0.6202 - auc: 0.6649 - precision: 0.5720 - recall: 0.5280 - val_loss: 0.6139 - val_accuracy: 0.6503 - val_auc: 0.6927 - val_precision: 0.6471 - val_recall: 0.1774 - lr: 1.0000e-04\n",
      "Epoch 5/50\n",
      "21/21 [==============================] - ETA: 0s - loss: 0.7081 - accuracy: 0.6248 - auc: 0.6511 - precision: 0.5817 - recall: 0.5105\n",
      "Epoch 5: val_accuracy improved from 0.66871 to 0.68098, saving model to models/stage/TMNetV2_DenseNet-knjvzvub.keras\n",
      "\n",
      "Epoch 5: val_accuracy improved from 0.66258 to 0.68098, saving model to models/stage/TMNetV2_EfficientNet-o4jhk32o.keras\n",
      "\n",
      "Epoch 5: val_accuracy improved from 0.66258 to 0.68098, saving model to models/stage/TMNetV2_Inception-eeckzras.keras\n",
      "\n",
      "Epoch 5: val_accuracy improved from 0.66258 to 0.68098, saving model to models/stage/TMNetV2_InceptionResNet-enyui5fe.keras\n",
      "21/21 [==============================] - 114s 5s/step - loss: 0.7081 - accuracy: 0.6248 - auc: 0.6511 - precision: 0.5817 - recall: 0.5105 - val_loss: 0.6158 - val_accuracy: 0.6810 - val_auc: 0.6981 - val_precision: 0.6471 - val_recall: 0.3548 - lr: 1.0000e-04\n",
      "Epoch 6/50\n",
      "21/21 [==============================] - ETA: 0s - loss: 0.7168 - accuracy: 0.6095 - auc: 0.6577 - precision: 0.5529 - recall: 0.5664\n",
      "Epoch 6: val_accuracy improved from 0.68098 to 0.69325, saving model to models/stage/TMNetV2_DenseNet-knjvzvub.keras\n",
      "\n",
      "Epoch 6: val_accuracy improved from 0.68098 to 0.69325, saving model to models/stage/TMNetV2_EfficientNet-o4jhk32o.keras\n",
      "\n",
      "Epoch 6: val_accuracy improved from 0.68098 to 0.69325, saving model to models/stage/TMNetV2_Inception-eeckzras.keras\n",
      "\n",
      "Epoch 6: val_accuracy improved from 0.68098 to 0.69325, saving model to models/stage/TMNetV2_InceptionResNet-enyui5fe.keras\n",
      "21/21 [==============================] - 117s 5s/step - loss: 0.7168 - accuracy: 0.6095 - auc: 0.6577 - precision: 0.5529 - recall: 0.5664 - val_loss: 0.6271 - val_accuracy: 0.6933 - val_auc: 0.6592 - val_precision: 0.8750 - val_recall: 0.2258 - lr: 1.0000e-04\n",
      "Epoch 7/50\n",
      "21/21 [==============================] - ETA: 0s - loss: 0.6558 - accuracy: 0.6646 - auc: 0.7065 - precision: 0.6274 - recall: 0.5769\n",
      "Epoch 7: val_accuracy improved from 0.69325 to 0.71779, saving model to models/stage/TMNetV2_DenseNet-knjvzvub.keras\n",
      "\n",
      "Epoch 7: val_accuracy improved from 0.69325 to 0.71779, saving model to models/stage/TMNetV2_EfficientNet-o4jhk32o.keras\n",
      "\n",
      "Epoch 7: val_accuracy improved from 0.69325 to 0.71779, saving model to models/stage/TMNetV2_Inception-eeckzras.keras\n",
      "\n",
      "Epoch 7: val_accuracy improved from 0.69325 to 0.71779, saving model to models/stage/TMNetV2_InceptionResNet-enyui5fe.keras\n",
      "21/21 [==============================] - 112s 5s/step - loss: 0.6558 - accuracy: 0.6646 - auc: 0.7065 - precision: 0.6274 - recall: 0.5769 - val_loss: 0.6099 - val_accuracy: 0.7178 - val_auc: 0.6908 - val_precision: 0.7857 - val_recall: 0.3548 - lr: 1.0000e-04\n",
      "Epoch 8/50\n",
      "21/21 [==============================] - ETA: 0s - loss: 0.6373 - accuracy: 0.6646 - auc: 0.7215 - precision: 0.6345 - recall: 0.5524\n",
      "Epoch 8: val_accuracy did not improve from 0.71779\n",
      "\n",
      "Epoch 8: val_accuracy did not improve from 0.71779\n",
      "\n",
      "Epoch 8: val_accuracy did not improve from 0.71779\n",
      "\n",
      "Epoch 8: val_accuracy did not improve from 0.71779\n",
      "21/21 [==============================] - 106s 5s/step - loss: 0.6373 - accuracy: 0.6646 - auc: 0.7215 - precision: 0.6345 - recall: 0.5524 - val_loss: 0.6211 - val_accuracy: 0.6380 - val_auc: 0.6864 - val_precision: 0.5283 - val_recall: 0.4516 - lr: 1.0000e-04\n",
      "Epoch 9/50\n",
      "21/21 [==============================] - ETA: 0s - loss: 0.5617 - accuracy: 0.7167 - auc: 0.7829 - precision: 0.6712 - recall: 0.6923\n",
      "Epoch 9: val_accuracy did not improve from 0.71779\n",
      "\n",
      "Epoch 9: val_accuracy did not improve from 0.71779\n",
      "\n",
      "Epoch 9: val_accuracy did not improve from 0.71779\n",
      "\n",
      "Epoch 9: val_accuracy did not improve from 0.71779\n",
      "21/21 [==============================] - 111s 5s/step - loss: 0.5617 - accuracy: 0.7167 - auc: 0.7829 - precision: 0.6712 - recall: 0.6923 - val_loss: 0.6184 - val_accuracy: 0.6380 - val_auc: 0.6719 - val_precision: 0.5319 - val_recall: 0.4032 - lr: 1.0000e-04\n",
      "Epoch 10/50\n",
      "21/21 [==============================] - ETA: 0s - loss: 0.5828 - accuracy: 0.6998 - auc: 0.7649 - precision: 0.6772 - recall: 0.6014\n",
      "Epoch 10: ReduceLROnPlateau reducing learning rate to 4.999999873689376e-05.\n",
      "\n",
      "Epoch 10: val_accuracy did not improve from 0.71779\n",
      "\n",
      "Epoch 10: val_accuracy did not improve from 0.71779\n",
      "\n",
      "Epoch 10: val_accuracy did not improve from 0.71779\n",
      "\n",
      "Epoch 10: val_accuracy did not improve from 0.71779\n",
      "21/21 [==============================] - 108s 5s/step - loss: 0.5828 - accuracy: 0.6998 - auc: 0.7649 - precision: 0.6772 - recall: 0.6014 - val_loss: 0.6285 - val_accuracy: 0.6012 - val_auc: 0.6807 - val_precision: 0.4783 - val_recall: 0.5323 - lr: 1.0000e-04\n",
      "Epoch 11/50\n",
      "21/21 [==============================] - ETA: 0s - loss: 0.5935 - accuracy: 0.6784 - auc: 0.7620 - precision: 0.6226 - recall: 0.6748\n",
      "Epoch 11: val_accuracy did not improve from 0.71779\n",
      "\n",
      "Epoch 11: val_accuracy did not improve from 0.71779\n",
      "\n",
      "Epoch 11: val_accuracy did not improve from 0.71779\n",
      "\n",
      "Epoch 11: val_accuracy did not improve from 0.71779\n",
      "21/21 [==============================] - 105s 5s/step - loss: 0.5935 - accuracy: 0.6784 - auc: 0.7620 - precision: 0.6226 - recall: 0.6748 - val_loss: 0.6096 - val_accuracy: 0.6564 - val_auc: 0.6862 - val_precision: 0.5750 - val_recall: 0.3710 - lr: 5.0000e-05\n",
      "Epoch 12/50\n",
      "21/21 [==============================] - ETA: 0s - loss: 0.5379 - accuracy: 0.7198 - auc: 0.8045 - precision: 0.6973 - recall: 0.6364\n",
      "Epoch 12: val_accuracy did not improve from 0.71779\n",
      "\n",
      "Epoch 12: val_accuracy did not improve from 0.71779\n",
      "\n",
      "Epoch 12: val_accuracy did not improve from 0.71779\n",
      "\n",
      "Epoch 12: val_accuracy did not improve from 0.71779\n",
      "21/21 [==============================] - 105s 5s/step - loss: 0.5379 - accuracy: 0.7198 - auc: 0.8045 - precision: 0.6973 - recall: 0.6364 - val_loss: 0.6060 - val_accuracy: 0.6564 - val_auc: 0.7054 - val_precision: 0.5556 - val_recall: 0.4839 - lr: 5.0000e-05\n",
      "Epoch 13/50\n",
      "21/21 [==============================] - ETA: 0s - loss: 0.4938 - accuracy: 0.7718 - auc: 0.8390 - precision: 0.7585 - recall: 0.7028\n",
      "Epoch 13: val_accuracy did not improve from 0.71779\n",
      "\n",
      "Epoch 13: val_accuracy did not improve from 0.71779\n",
      "\n",
      "Epoch 13: val_accuracy did not improve from 0.71779\n",
      "\n",
      "Epoch 13: val_accuracy did not improve from 0.71779\n",
      "21/21 [==============================] - 101s 5s/step - loss: 0.4938 - accuracy: 0.7718 - auc: 0.8390 - precision: 0.7585 - recall: 0.7028 - val_loss: 0.6042 - val_accuracy: 0.6503 - val_auc: 0.7000 - val_precision: 0.5472 - val_recall: 0.4677 - lr: 5.0000e-05\n",
      "Epoch 14/50\n",
      "21/21 [==============================] - ETA: 0s - loss: 0.5217 - accuracy: 0.7397 - auc: 0.8133 - precision: 0.7231 - recall: 0.6573\n",
      "Epoch 14: val_accuracy did not improve from 0.71779\n",
      "\n",
      "Epoch 14: val_accuracy did not improve from 0.71779\n",
      "\n",
      "Epoch 14: val_accuracy did not improve from 0.71779\n",
      "\n",
      "Epoch 14: val_accuracy did not improve from 0.71779\n",
      "21/21 [==============================] - 99s 5s/step - loss: 0.5217 - accuracy: 0.7397 - auc: 0.8133 - precision: 0.7231 - recall: 0.6573 - val_loss: 0.6144 - val_accuracy: 0.6258 - val_auc: 0.6824 - val_precision: 0.5094 - val_recall: 0.4355 - lr: 5.0000e-05\n",
      "Epoch 15/50\n",
      "21/21 [==============================] - ETA: 0s - loss: 0.5018 - accuracy: 0.7458 - auc: 0.8250 - precision: 0.7256 - recall: 0.6748\n",
      "Epoch 15: val_accuracy did not improve from 0.71779\n",
      "\n",
      "Epoch 15: val_accuracy did not improve from 0.71779\n",
      "\n",
      "Epoch 15: val_accuracy did not improve from 0.71779\n",
      "\n",
      "Epoch 15: val_accuracy did not improve from 0.71779\n",
      "21/21 [==============================] - 107s 5s/step - loss: 0.5018 - accuracy: 0.7458 - auc: 0.8250 - precision: 0.7256 - recall: 0.6748 - val_loss: 0.6236 - val_accuracy: 0.6319 - val_auc: 0.6892 - val_precision: 0.5161 - val_recall: 0.5161 - lr: 5.0000e-05\n",
      "Epoch 16/50\n",
      "21/21 [==============================] - ETA: 0s - loss: 0.5302 - accuracy: 0.7550 - auc: 0.8173 - precision: 0.7351 - recall: 0.6888\n",
      "Epoch 16: ReduceLROnPlateau reducing learning rate to 2.499999936844688e-05.\n",
      "\n",
      "Epoch 16: val_accuracy did not improve from 0.71779\n",
      "\n",
      "Epoch 16: val_accuracy did not improve from 0.71779\n",
      "\n",
      "Epoch 16: val_accuracy did not improve from 0.71779\n",
      "\n",
      "Epoch 16: val_accuracy did not improve from 0.71779\n",
      "21/21 [==============================] - 106s 5s/step - loss: 0.5302 - accuracy: 0.7550 - auc: 0.8173 - precision: 0.7351 - recall: 0.6888 - val_loss: 0.6238 - val_accuracy: 0.6319 - val_auc: 0.6810 - val_precision: 0.5179 - val_recall: 0.4677 - lr: 5.0000e-05\n",
      "Epoch 17/50\n",
      "21/21 [==============================] - ETA: 0s - loss: 0.5226 - accuracy: 0.7351 - auc: 0.8172 - precision: 0.7011 - recall: 0.6888\n",
      "Epoch 17: val_accuracy did not improve from 0.71779\n",
      "\n",
      "Epoch 17: val_accuracy did not improve from 0.71779\n",
      "\n",
      "Epoch 17: val_accuracy did not improve from 0.71779\n",
      "\n",
      "Epoch 17: val_accuracy did not improve from 0.71779\n",
      "21/21 [==============================] - 105s 5s/step - loss: 0.5226 - accuracy: 0.7351 - auc: 0.8172 - precision: 0.7011 - recall: 0.6888 - val_loss: 0.6228 - val_accuracy: 0.6258 - val_auc: 0.6845 - val_precision: 0.5088 - val_recall: 0.4677 - lr: 2.5000e-05\n",
      "Epoch 18/50\n",
      "21/21 [==============================] - ETA: 0s - loss: 0.4729 - accuracy: 0.7626 - auc: 0.8538 - precision: 0.7472 - recall: 0.6923\n",
      "Epoch 18: val_accuracy did not improve from 0.71779\n",
      "\n",
      "Epoch 18: val_accuracy did not improve from 0.71779\n",
      "\n",
      "Epoch 18: val_accuracy did not improve from 0.71779\n",
      "\n",
      "Epoch 18: val_accuracy did not improve from 0.71779\n",
      "21/21 [==============================] - 105s 5s/step - loss: 0.4729 - accuracy: 0.7626 - auc: 0.8538 - precision: 0.7472 - recall: 0.6923 - val_loss: 0.6253 - val_accuracy: 0.6319 - val_auc: 0.6823 - val_precision: 0.5172 - val_recall: 0.4839 - lr: 2.5000e-05\n",
      "Epoch 19/50\n",
      "21/21 [==============================] - ETA: 0s - loss: 0.4850 - accuracy: 0.7871 - auc: 0.8428 - precision: 0.7692 - recall: 0.7343\n",
      "Epoch 19: ReduceLROnPlateau reducing learning rate to 1.249999968422344e-05.\n",
      "\n",
      "Epoch 19: val_accuracy did not improve from 0.71779\n",
      "\n",
      "Epoch 19: val_accuracy did not improve from 0.71779\n",
      "\n",
      "Epoch 19: val_accuracy did not improve from 0.71779\n",
      "\n",
      "Epoch 19: val_accuracy did not improve from 0.71779\n",
      "21/21 [==============================] - 108s 5s/step - loss: 0.4850 - accuracy: 0.7871 - auc: 0.8428 - precision: 0.7692 - recall: 0.7343 - val_loss: 0.6216 - val_accuracy: 0.6380 - val_auc: 0.6854 - val_precision: 0.5273 - val_recall: 0.4677 - lr: 2.5000e-05\n",
      "Epoch 20/50\n",
      "21/21 [==============================] - ETA: 0s - loss: 0.4850 - accuracy: 0.7626 - auc: 0.8448 - precision: 0.7435 - recall: 0.6993\n",
      "Epoch 20: val_accuracy did not improve from 0.71779\n",
      "\n",
      "Epoch 20: val_accuracy did not improve from 0.71779\n",
      "\n",
      "Epoch 20: val_accuracy did not improve from 0.71779\n",
      "\n",
      "Epoch 20: val_accuracy did not improve from 0.71779\n",
      "21/21 [==============================] - 108s 5s/step - loss: 0.4850 - accuracy: 0.7626 - auc: 0.8448 - precision: 0.7435 - recall: 0.6993 - val_loss: 0.6228 - val_accuracy: 0.6380 - val_auc: 0.6876 - val_precision: 0.5263 - val_recall: 0.4839 - lr: 1.2500e-05\n",
      "Epoch 21/50\n",
      "21/21 [==============================] - ETA: 0s - loss: 0.4397 - accuracy: 0.7825 - auc: 0.8746 - precision: 0.7769 - recall: 0.7063\n",
      "Epoch 21: val_accuracy did not improve from 0.71779\n",
      "\n",
      "Epoch 21: val_accuracy did not improve from 0.71779\n",
      "\n",
      "Epoch 21: val_accuracy did not improve from 0.71779\n",
      "\n",
      "Epoch 21: val_accuracy did not improve from 0.71779\n",
      "21/21 [==============================] - 109s 5s/step - loss: 0.4397 - accuracy: 0.7825 - auc: 0.8746 - precision: 0.7769 - recall: 0.7063 - val_loss: 0.6255 - val_accuracy: 0.6319 - val_auc: 0.6873 - val_precision: 0.5161 - val_recall: 0.5161 - lr: 1.2500e-05\n",
      "Epoch 22/50\n",
      "21/21 [==============================] - ETA: 0s - loss: 0.4751 - accuracy: 0.7657 - auc: 0.8463 - precision: 0.7333 - recall: 0.7308\n",
      "Epoch 22: ReduceLROnPlateau reducing learning rate to 6.24999984211172e-06.\n",
      "\n",
      "Epoch 22: val_accuracy did not improve from 0.71779\n",
      "\n",
      "Epoch 22: val_accuracy did not improve from 0.71779\n",
      "\n",
      "Epoch 22: val_accuracy did not improve from 0.71779\n",
      "\n",
      "Epoch 22: val_accuracy did not improve from 0.71779\n",
      "21/21 [==============================] - 109s 5s/step - loss: 0.4751 - accuracy: 0.7657 - auc: 0.8463 - precision: 0.7333 - recall: 0.7308 - val_loss: 0.6251 - val_accuracy: 0.6196 - val_auc: 0.6860 - val_precision: 0.5000 - val_recall: 0.4839 - lr: 1.2500e-05\n",
      "Epoch 23/50\n",
      "21/21 [==============================] - ETA: 0s - loss: 0.4682 - accuracy: 0.7688 - auc: 0.8535 - precision: 0.7528 - recall: 0.7028Restoring model weights from the end of the best epoch: 13.\n",
      "\n",
      "Epoch 23: val_accuracy did not improve from 0.71779\n",
      "\n",
      "Epoch 23: val_accuracy did not improve from 0.71779\n",
      "\n",
      "Epoch 23: val_accuracy did not improve from 0.71779\n",
      "\n",
      "Epoch 23: val_accuracy did not improve from 0.71779\n",
      "21/21 [==============================] - 106s 5s/step - loss: 0.4682 - accuracy: 0.7688 - auc: 0.8535 - precision: 0.7528 - recall: 0.7028 - val_loss: 0.6274 - val_accuracy: 0.6380 - val_auc: 0.6866 - val_precision: 0.5238 - val_recall: 0.5323 - lr: 6.2500e-06\n",
      "Epoch 23: early stopping\n"
     ]
    },
    {
     "name": "stderr",
     "output_type": "stream",
     "text": [
      "\u001b[34m\u001b[1mwandb\u001b[0m: Waiting for artifact run-enyui5fe-TMNetV2_InceptionResNet-enyui5fe.keras to be committed...\n"
     ]
    },
    {
     "data": {
      "application/vnd.jupyter.widget-view+json": {
       "model_id": "a6c273fd8cfc4b9db2b5e9c5989e57e7",
       "version_major": 2,
       "version_minor": 0
      },
      "text/plain": [
       "VBox(children=(Label(value='2.160 MB of 477.161 MB uploaded\\r'), FloatProgress(value=0.004526123287864335, max…"
      ]
     },
     "metadata": {},
     "output_type": "display_data"
    },
    {
     "name": "stderr",
     "output_type": "stream",
     "text": [
      "\n",
      "\u001b[34m\u001b[1mwandb\u001b[0m: Committed artifact aistudio/Breast-Cancer-Detection-Stage/run-enyui5fe-TMNetV2_InceptionResNet-enyui5fe.keras:v0\n",
      "wandb: WARNING Source type is set to 'repo' but some required information is missing from the environment. A job will not be created from this run. See https://docs.wandb.ai/guides/launch/create-job\n"
     ]
    },
    {
     "data": {
      "text/html": [
       "<style>\n",
       "    table.wandb td:nth-child(1) { padding: 0 10px; text-align: left ; width: auto;} td:nth-child(2) {text-align: left ; width: 100%}\n",
       "    .wandb-row { display: flex; flex-direction: row; flex-wrap: wrap; justify-content: flex-start; width: 100% }\n",
       "    .wandb-col { display: flex; flex-direction: column; flex-basis: 100%; flex: 1; padding: 10px; }\n",
       "    </style>\n",
       "<div class=\"wandb-row\"><div class=\"wandb-col\"><h3>Run history:</h3><br/><table class=\"wandb\"><tr><td>epoch/accuracy</td><td>▁▁▂▂▄▄▄▄▄▄▄▅▅▅▆▆▆▆▅▆▆██▇▇▇▇▇▇▇▇██▇▇█▇▇██</td></tr><tr><td>epoch/auc</td><td>▁▁▂▂▃▃▄▄▄▄▄▅▅▅▆▆▆▆▆▇▇▇▇▇▇▇▇▇▇▇█▇▇▇▇█▇▇██</td></tr><tr><td>epoch/epoch</td><td>▁▁▁▁▂▂▂▂▂▃▃▃▃▃▄▄▄▄▄▅▅▅▅▅▅▅▆▆▆▆▆▇▇▇▇▇████</td></tr><tr><td>epoch/learning_rate</td><td>████████████████▄▄▄▄▄▄▄▄▄▄▂▂▂▂▂▁▁▁▁▁▁▁▁▁</td></tr><tr><td>epoch/loss</td><td>██▆▆▆▆▅▅▅▅▅▄▄▄▃▃▃▃▃▃▃▂▂▂▂▂▂▂▂▂▂▂▂▂▂▁▂▂▁▁</td></tr><tr><td>epoch/lr</td><td>██████████████████▄▄▄▄▄▄▄▄▄▄▂▂▂▂▂▁▁▁▁▁▁▁</td></tr><tr><td>epoch/precision</td><td>▁▁▂▂▄▄▄▄▄▃▃▅▅▅▆▆▆▆▅▆▆██▇▇▇▇▇▆▆▇██▇▇█▇▇██</td></tr><tr><td>epoch/recall</td><td>▁▁▃▃▄▄▄▄▄▅▅▅▄▄▇▇▅▅▇▆▆▇▇▆▇▇▇▇▇▇▇██▇▇▇██▇▇</td></tr><tr><td>epoch/val_accuracy</td><td>▄▄▅▅▃▃▄▆▆▇▇█▃▃▃▃▁▁▄▄▄▄▄▂▃▃▃▃▂▂▃▃▃▃▃▃▂▂▃▃</td></tr><tr><td>epoch/val_auc</td><td>▁▁▅▅▆▆▇▇▇▅▅▇▇▇▆▆▆▆▇████▆▇▇▆▆▆▆▆▇▇▇▇▇▇▇▇▇</td></tr><tr><td>epoch/val_loss</td><td>██▅▅▃▃▃▃▃▅▅▂▄▄▃▃▅▅▂▁▁▁▁▃▄▄▄▄▄▄▄▄▄▄▄▄▄▄▅▅</td></tr><tr><td>epoch/val_precision</td><td>▃▃▆▆▄▄▄▄▄██▆▂▂▂▂▁▁▃▂▂▂▂▂▂▂▂▂▂▂▂▂▂▂▂▂▁▁▂▂</td></tr><tr><td>epoch/val_recall</td><td>▄▄▂▂▁▁▂▅▅▃▃▅▇▇▆▆██▅▇▇▇▇▆██▇▇▇▇▇▇▇▇▇█▇▇██</td></tr></table><br/></div><div class=\"wandb-col\"><h3>Run summary:</h3><br/><table class=\"wandb\"><tr><td>epoch/accuracy</td><td>0.76876</td></tr><tr><td>epoch/auc</td><td>0.85346</td></tr><tr><td>epoch/epoch</td><td>22</td></tr><tr><td>epoch/learning_rate</td><td>1e-05</td></tr><tr><td>epoch/loss</td><td>0.46824</td></tr><tr><td>epoch/lr</td><td>1e-05</td></tr><tr><td>epoch/precision</td><td>0.75281</td></tr><tr><td>epoch/recall</td><td>0.7028</td></tr><tr><td>epoch/val_accuracy</td><td>0.63804</td></tr><tr><td>epoch/val_auc</td><td>0.6866</td></tr><tr><td>epoch/val_loss</td><td>0.62743</td></tr><tr><td>epoch/val_precision</td><td>0.52381</td></tr><tr><td>epoch/val_recall</td><td>0.53226</td></tr></table><br/></div></div>"
      ],
      "text/plain": [
       "<IPython.core.display.HTML object>"
      ]
     },
     "metadata": {},
     "output_type": "display_data"
    },
    {
     "data": {
      "text/html": [
       " View run <strong style=\"color:#cdcd00\">TMNetV2_InceptionResNet</strong> at: <a href='https://wandb.ai/aistudio/Breast-Cancer-Detection-Stage/runs/enyui5fe' target=\"_blank\">https://wandb.ai/aistudio/Breast-Cancer-Detection-Stage/runs/enyui5fe</a><br/>Synced 6 W&B file(s), 3 media file(s), 5 artifact file(s) and 0 other file(s)"
      ],
      "text/plain": [
       "<IPython.core.display.HTML object>"
      ]
     },
     "metadata": {},
     "output_type": "display_data"
    },
    {
     "data": {
      "text/html": [
       "Find logs at: <code>./wandb/run-20240213_201621-enyui5fe/logs</code>"
      ],
      "text/plain": [
       "<IPython.core.display.HTML object>"
      ]
     },
     "metadata": {},
     "output_type": "display_data"
    },
    {
     "name": "stdout",
     "output_type": "stream",
     "text": [
      "WARNING:tensorflow:`input_shape` is undefined or non-square, or `rows` is not in [96, 128, 160, 192, 224]. Weights for input shape (224, 224) will be loaded as the default.\n",
      "WARNING:tensorflow:`input_shape` is undefined or non-square, or `rows` is not in [96, 128, 160, 192, 224]. Weights for input shape (224, 224) will be loaded as the default.\n",
      "WARNING:tensorflow:`input_shape` is undefined or non-square, or `rows` is not in [96, 128, 160, 192, 224]. Weights for input shape (224, 224) will be loaded as the default.\n",
      "WARNING:tensorflow:`input_shape` is undefined or non-square, or `rows` is not in [96, 128, 160, 192, 224]. Weights for input shape (224, 224) will be loaded as the default.\n",
      "# ================================================================================================ #\n",
      "                                         TMNetV2_MobileNet                                          \n",
      "# ------------------------------------------------------------------------------------------------ #\n",
      "Model: \"model\"\n",
      "_________________________________________________________________\n",
      " Layer (type)                Output Shape              Param #   \n",
      "=================================================================\n",
      " TMNetV2_MobileNet_input_lay  [(None, 224, 224, 3)]    0         \n",
      " er (InputLayer)                                                 \n",
      "                                                                 \n",
      " tf.math.truediv (TFOpLambda  (None, 224, 224, 3)      0         \n",
      " )                                                               \n",
      "                                                                 \n",
      " tf.math.subtract (TFOpLambd  (None, 224, 224, 3)      0         \n",
      " a)                                                              \n",
      "                                                                 \n",
      " data_augmentation (Sequenti  (None, 224, 224, 3)      0         \n",
      " al)                                                             \n",
      "                                                                 \n",
      " mobilenetv2_1.00_224 (Funct  (None, None, None, 1280)  2257984  \n",
      " ional)                                                          \n",
      "                                                                 \n",
      " TMNetV2_MobileNet_global_av  (None, 1280)             0         \n",
      " erage_pooling (GlobalAverag                                     \n",
      " ePooling2D)                                                     \n",
      "                                                                 \n",
      " TMNetV2_MobileNet_batch_nor  (None, 1280)             5120      \n",
      " malization (BatchNormalizat                                     \n",
      " ion)                                                            \n",
      "                                                                 \n",
      " TMNetV2_MobileNet_dense_1 (  (None, 1024)             1311744   \n",
      " Dense)                                                          \n",
      "                                                                 \n",
      " TMNetV2_MobileNet_dropout_1  (None, 1024)             0         \n",
      "  (Dropout)                                                      \n",
      "                                                                 \n",
      " TMNetV2_MobileNet_dense_2 (  (None, 1024)             1049600   \n",
      " Dense)                                                          \n",
      "                                                                 \n",
      " TMNetV2_MobileNet_dropout_2  (None, 1024)             0         \n",
      "  (Dropout)                                                      \n",
      "                                                                 \n",
      " TMNetV2_MobileNet_output_la  (None, 1)                1025      \n",
      " yer (Dense)                                                     \n",
      "                                                                 \n",
      "=================================================================\n",
      "Total params: 4,625,473\n",
      "Trainable params: 2,364,929\n",
      "Non-trainable params: 2,260,544\n",
      "_________________________________________________________________\n",
      "# ------------------------------------------------------------------------------------------------ #\n",
      "\n",
      "\n",
      "                                           TMNetV2Config                                            \n",
      "                                        Activation | sigmoid\n",
      "                                      Output Shape | 1\n",
      "                                            Dense1 | 1024\n",
      "                                          Dropout1 | 0.5\n",
      "                                            Dense2 | 1024\n",
      "                                          Dropout2 | 0.5\n",
      "\n",
      "\n",
      "# ================================================================================================ #\n"
     ]
    },
    {
     "data": {
      "application/vnd.jupyter.widget-view+json": {
       "model_id": "1f88aa522e0c4fbb97dc606ffb66c941",
       "version_major": 2,
       "version_minor": 0
      },
      "text/plain": [
       "VBox(children=(Label(value='Waiting for wandb.init()...\\r'), FloatProgress(value=0.011114310755510814, max=1.0…"
      ]
     },
     "metadata": {},
     "output_type": "display_data"
    },
    {
     "data": {
      "text/html": [
       "wandb version 0.16.3 is available!  To upgrade, please run:\n",
       " $ pip install wandb --upgrade"
      ],
      "text/plain": [
       "<IPython.core.display.HTML object>"
      ]
     },
     "metadata": {},
     "output_type": "display_data"
    },
    {
     "data": {
      "text/html": [
       "Tracking run with wandb version 0.16.2"
      ],
      "text/plain": [
       "<IPython.core.display.HTML object>"
      ]
     },
     "metadata": {},
     "output_type": "display_data"
    },
    {
     "data": {
      "text/html": [
       "Run data is saved locally in <code>/home/john/projects/bcd/wandb/run-20240213_210420-7tc6org2</code>"
      ],
      "text/plain": [
       "<IPython.core.display.HTML object>"
      ]
     },
     "metadata": {},
     "output_type": "display_data"
    },
    {
     "data": {
      "text/html": [
       "Syncing run <strong><a href='https://wandb.ai/aistudio/Breast-Cancer-Detection-Stage/runs/7tc6org2' target=\"_blank\">TMNetV2_MobileNet</a></strong> to <a href='https://wandb.ai/aistudio/Breast-Cancer-Detection-Stage' target=\"_blank\">Weights & Biases</a> (<a href='https://wandb.me/run' target=\"_blank\">docs</a>)<br/>"
      ],
      "text/plain": [
       "<IPython.core.display.HTML object>"
      ]
     },
     "metadata": {},
     "output_type": "display_data"
    },
    {
     "data": {
      "text/html": [
       " View project at <a href='https://wandb.ai/aistudio/Breast-Cancer-Detection-Stage' target=\"_blank\">https://wandb.ai/aistudio/Breast-Cancer-Detection-Stage</a>"
      ],
      "text/plain": [
       "<IPython.core.display.HTML object>"
      ]
     },
     "metadata": {},
     "output_type": "display_data"
    },
    {
     "data": {
      "text/html": [
       " View run at <a href='https://wandb.ai/aistudio/Breast-Cancer-Detection-Stage/runs/7tc6org2' target=\"_blank\">https://wandb.ai/aistudio/Breast-Cancer-Detection-Stage/runs/7tc6org2</a>"
      ],
      "text/plain": [
       "<IPython.core.display.HTML object>"
      ]
     },
     "metadata": {},
     "output_type": "display_data"
    },
    {
     "name": "stdout",
     "output_type": "stream",
     "text": [
      "Epoch 1/50\n",
      "21/21 [==============================] - ETA: 0s - loss: 0.9145 - accuracy: 0.4778 - auc: 0.5121 - precision: 0.4182 - recall: 0.3822\n",
      "Epoch 1: val_accuracy did not improve from 0.71779\n",
      "\n",
      "Epoch 1: val_accuracy did not improve from 0.71779\n",
      "\n",
      "Epoch 1: val_accuracy did not improve from 0.71779\n",
      "\n",
      "Epoch 1: val_accuracy did not improve from 0.71779\n",
      "\n",
      "Epoch 1: val_accuracy improved from -inf to 0.43558, saving model to models/stage/TMNetV2_MobileNet-7tc6org2.keras\n",
      "21/21 [==============================] - 35s 1s/step - loss: 0.9145 - accuracy: 0.4778 - auc: 0.5121 - precision: 0.4182 - recall: 0.3822 - val_loss: 0.7504 - val_accuracy: 0.4356 - val_auc: 0.5685 - val_precision: 0.4000 - val_recall: 0.9677 - lr: 1.0000e-04\n",
      "Epoch 2/50\n",
      "21/21 [==============================] - ETA: 0s - loss: 0.7806 - accuracy: 0.5636 - auc: 0.5745 - precision: 0.5019 - recall: 0.4720\n",
      "Epoch 2: val_accuracy did not improve from 0.71779\n",
      "\n",
      "Epoch 2: val_accuracy did not improve from 0.71779\n",
      "\n",
      "Epoch 2: val_accuracy did not improve from 0.71779\n",
      "\n",
      "Epoch 2: val_accuracy did not improve from 0.71779\n",
      "\n",
      "Epoch 2: val_accuracy improved from 0.43558 to 0.56442, saving model to models/stage/TMNetV2_MobileNet-7tc6org2.keras\n",
      "21/21 [==============================] - 26s 1s/step - loss: 0.7806 - accuracy: 0.5636 - auc: 0.5745 - precision: 0.5019 - recall: 0.4720 - val_loss: 0.6767 - val_accuracy: 0.5644 - val_auc: 0.5834 - val_precision: 0.4328 - val_recall: 0.4677 - lr: 1.0000e-04\n",
      "Epoch 3/50\n",
      "21/21 [==============================] - ETA: 0s - loss: 0.6876 - accuracy: 0.6279 - auc: 0.6662 - precision: 0.5811 - recall: 0.5385\n",
      "Epoch 3: val_accuracy did not improve from 0.71779\n",
      "\n",
      "Epoch 3: val_accuracy did not improve from 0.71779\n",
      "\n",
      "Epoch 3: val_accuracy did not improve from 0.71779\n",
      "\n",
      "Epoch 3: val_accuracy did not improve from 0.71779\n",
      "\n",
      "Epoch 3: val_accuracy did not improve from 0.56442\n",
      "21/21 [==============================] - 25s 1s/step - loss: 0.6876 - accuracy: 0.6279 - auc: 0.6662 - precision: 0.5811 - recall: 0.5385 - val_loss: 0.6903 - val_accuracy: 0.5460 - val_auc: 0.6091 - val_precision: 0.4412 - val_recall: 0.7258 - lr: 1.0000e-04\n",
      "Epoch 4/50\n",
      "21/21 [==============================] - ETA: 0s - loss: 0.6800 - accuracy: 0.6600 - auc: 0.6870 - precision: 0.6250 - recall: 0.5594\n",
      "Epoch 4: val_accuracy did not improve from 0.71779\n",
      "\n",
      "Epoch 4: val_accuracy did not improve from 0.71779\n",
      "\n",
      "Epoch 4: val_accuracy did not improve from 0.71779\n",
      "\n",
      "Epoch 4: val_accuracy did not improve from 0.71779\n",
      "\n",
      "Epoch 4: val_accuracy improved from 0.56442 to 0.58896, saving model to models/stage/TMNetV2_MobileNet-7tc6org2.keras\n",
      "21/21 [==============================] - 27s 1s/step - loss: 0.6800 - accuracy: 0.6600 - auc: 0.6870 - precision: 0.6250 - recall: 0.5594 - val_loss: 0.6759 - val_accuracy: 0.5890 - val_auc: 0.6249 - val_precision: 0.4675 - val_recall: 0.5806 - lr: 1.0000e-04\n",
      "Epoch 5/50\n",
      "21/21 [==============================] - ETA: 0s - loss: 0.6425 - accuracy: 0.6662 - auc: 0.7116 - precision: 0.6288 - recall: 0.5804\n",
      "Epoch 5: val_accuracy did not improve from 0.71779\n",
      "\n",
      "Epoch 5: val_accuracy did not improve from 0.71779\n",
      "\n",
      "Epoch 5: val_accuracy did not improve from 0.71779\n",
      "\n",
      "Epoch 5: val_accuracy did not improve from 0.71779\n",
      "\n",
      "Epoch 5: val_accuracy improved from 0.58896 to 0.60736, saving model to models/stage/TMNetV2_MobileNet-7tc6org2.keras\n",
      "21/21 [==============================] - 27s 1s/step - loss: 0.6425 - accuracy: 0.6662 - auc: 0.7116 - precision: 0.6288 - recall: 0.5804 - val_loss: 0.6609 - val_accuracy: 0.6074 - val_auc: 0.6200 - val_precision: 0.4833 - val_recall: 0.4677 - lr: 1.0000e-04\n",
      "Epoch 6/50\n",
      "21/21 [==============================] - ETA: 0s - loss: 0.5886 - accuracy: 0.7121 - auc: 0.7675 - precision: 0.6644 - recall: 0.6923\n",
      "Epoch 6: val_accuracy did not improve from 0.71779\n",
      "\n",
      "Epoch 6: val_accuracy did not improve from 0.71779\n",
      "\n",
      "Epoch 6: val_accuracy did not improve from 0.71779\n",
      "\n",
      "Epoch 6: val_accuracy did not improve from 0.71779\n",
      "\n",
      "Epoch 6: val_accuracy did not improve from 0.60736\n",
      "21/21 [==============================] - 26s 1s/step - loss: 0.5886 - accuracy: 0.7121 - auc: 0.7675 - precision: 0.6644 - recall: 0.6923 - val_loss: 0.6581 - val_accuracy: 0.6074 - val_auc: 0.6220 - val_precision: 0.4844 - val_recall: 0.5000 - lr: 1.0000e-04\n",
      "Epoch 7/50\n",
      "21/21 [==============================] - ETA: 0s - loss: 0.5624 - accuracy: 0.7167 - auc: 0.7812 - precision: 0.7149 - recall: 0.5874\n",
      "Epoch 7: val_accuracy did not improve from 0.71779\n",
      "\n",
      "Epoch 7: val_accuracy did not improve from 0.71779\n",
      "\n",
      "Epoch 7: val_accuracy did not improve from 0.71779\n",
      "\n",
      "Epoch 7: val_accuracy did not improve from 0.71779\n",
      "\n",
      "Epoch 7: val_accuracy did not improve from 0.60736\n",
      "21/21 [==============================] - 25s 1s/step - loss: 0.5624 - accuracy: 0.7167 - auc: 0.7812 - precision: 0.7149 - recall: 0.5874 - val_loss: 0.6540 - val_accuracy: 0.6012 - val_auc: 0.6345 - val_precision: 0.4769 - val_recall: 0.5000 - lr: 1.0000e-04\n",
      "Epoch 8/50\n",
      "21/21 [==============================] - ETA: 0s - loss: 0.5575 - accuracy: 0.7243 - auc: 0.7841 - precision: 0.6978 - recall: 0.6538\n",
      "Epoch 8: val_accuracy did not improve from 0.71779\n",
      "\n",
      "Epoch 8: val_accuracy did not improve from 0.71779\n",
      "\n",
      "Epoch 8: val_accuracy did not improve from 0.71779\n",
      "\n",
      "Epoch 8: val_accuracy did not improve from 0.71779\n",
      "\n",
      "Epoch 8: val_accuracy improved from 0.60736 to 0.63190, saving model to models/stage/TMNetV2_MobileNet-7tc6org2.keras\n",
      "21/21 [==============================] - 25s 996ms/step - loss: 0.5575 - accuracy: 0.7243 - auc: 0.7841 - precision: 0.6978 - recall: 0.6538 - val_loss: 0.6416 - val_accuracy: 0.6319 - val_auc: 0.6428 - val_precision: 0.5238 - val_recall: 0.3548 - lr: 1.0000e-04\n",
      "Epoch 9/50\n",
      "21/21 [==============================] - ETA: 0s - loss: 0.4975 - accuracy: 0.7626 - auc: 0.8382 - precision: 0.7673 - recall: 0.6573\n",
      "Epoch 9: val_accuracy did not improve from 0.71779\n",
      "\n",
      "Epoch 9: val_accuracy did not improve from 0.71779\n",
      "\n",
      "Epoch 9: val_accuracy did not improve from 0.71779\n",
      "\n",
      "Epoch 9: val_accuracy did not improve from 0.71779\n",
      "\n",
      "Epoch 9: val_accuracy did not improve from 0.63190\n",
      "21/21 [==============================] - 26s 1s/step - loss: 0.4975 - accuracy: 0.7626 - auc: 0.8382 - precision: 0.7673 - recall: 0.6573 - val_loss: 0.6581 - val_accuracy: 0.6196 - val_auc: 0.6565 - val_precision: 0.5000 - val_recall: 0.5806 - lr: 1.0000e-04\n",
      "Epoch 10/50\n",
      "21/21 [==============================] - ETA: 0s - loss: 0.4647 - accuracy: 0.7963 - auc: 0.8592 - precision: 0.7666 - recall: 0.7692\n",
      "Epoch 10: val_accuracy did not improve from 0.71779\n",
      "\n",
      "Epoch 10: val_accuracy did not improve from 0.71779\n",
      "\n",
      "Epoch 10: val_accuracy did not improve from 0.71779\n",
      "\n",
      "Epoch 10: val_accuracy did not improve from 0.71779\n",
      "\n",
      "Epoch 10: val_accuracy did not improve from 0.63190\n",
      "21/21 [==============================] - 26s 1s/step - loss: 0.4647 - accuracy: 0.7963 - auc: 0.8592 - precision: 0.7666 - recall: 0.7692 - val_loss: 0.6468 - val_accuracy: 0.6135 - val_auc: 0.6539 - val_precision: 0.4915 - val_recall: 0.4677 - lr: 1.0000e-04\n",
      "Epoch 11/50\n",
      "21/21 [==============================] - ETA: 0s - loss: 0.4345 - accuracy: 0.8086 - auc: 0.8788 - precision: 0.7729 - recall: 0.7972\n",
      "Epoch 11: ReduceLROnPlateau reducing learning rate to 4.999999873689376e-05.\n",
      "\n",
      "Epoch 11: val_accuracy did not improve from 0.71779\n",
      "\n",
      "Epoch 11: val_accuracy did not improve from 0.71779\n",
      "\n",
      "Epoch 11: val_accuracy did not improve from 0.71779\n",
      "\n",
      "Epoch 11: val_accuracy did not improve from 0.71779\n",
      "\n",
      "Epoch 11: val_accuracy did not improve from 0.63190\n",
      "21/21 [==============================] - 26s 1s/step - loss: 0.4345 - accuracy: 0.8086 - auc: 0.8788 - precision: 0.7729 - recall: 0.7972 - val_loss: 0.6521 - val_accuracy: 0.6135 - val_auc: 0.6470 - val_precision: 0.4894 - val_recall: 0.3710 - lr: 1.0000e-04\n",
      "Epoch 12/50\n",
      "21/21 [==============================] - ETA: 0s - loss: 0.4121 - accuracy: 0.8147 - auc: 0.8928 - precision: 0.8235 - recall: 0.7343\n",
      "Epoch 12: val_accuracy did not improve from 0.71779\n",
      "\n",
      "Epoch 12: val_accuracy did not improve from 0.71779\n",
      "\n",
      "Epoch 12: val_accuracy did not improve from 0.71779\n",
      "\n",
      "Epoch 12: val_accuracy did not improve from 0.71779\n",
      "\n",
      "Epoch 12: val_accuracy did not improve from 0.63190\n",
      "21/21 [==============================] - 26s 1s/step - loss: 0.4121 - accuracy: 0.8147 - auc: 0.8928 - precision: 0.8235 - recall: 0.7343 - val_loss: 0.6556 - val_accuracy: 0.6135 - val_auc: 0.6528 - val_precision: 0.4906 - val_recall: 0.4194 - lr: 5.0000e-05\n",
      "Epoch 13/50\n",
      "21/21 [==============================] - ETA: 0s - loss: 0.4383 - accuracy: 0.8009 - auc: 0.8780 - precision: 0.7746 - recall: 0.7692\n",
      "Epoch 13: val_accuracy did not improve from 0.71779\n",
      "\n",
      "Epoch 13: val_accuracy did not improve from 0.71779\n",
      "\n",
      "Epoch 13: val_accuracy did not improve from 0.71779\n",
      "\n",
      "Epoch 13: val_accuracy did not improve from 0.71779\n",
      "\n",
      "Epoch 13: val_accuracy did not improve from 0.63190\n",
      "21/21 [==============================] - 26s 1s/step - loss: 0.4383 - accuracy: 0.8009 - auc: 0.8780 - precision: 0.7746 - recall: 0.7692 - val_loss: 0.6618 - val_accuracy: 0.6258 - val_auc: 0.6504 - val_precision: 0.5085 - val_recall: 0.4839 - lr: 5.0000e-05\n",
      "Epoch 14/50\n",
      "21/21 [==============================] - ETA: 0s - loss: 0.4152 - accuracy: 0.8132 - auc: 0.8884 - precision: 0.8060 - recall: 0.7552\n",
      "Epoch 14: ReduceLROnPlateau reducing learning rate to 2.499999936844688e-05.\n",
      "\n",
      "Epoch 14: val_accuracy did not improve from 0.71779\n",
      "\n",
      "Epoch 14: val_accuracy did not improve from 0.71779\n",
      "\n",
      "Epoch 14: val_accuracy did not improve from 0.71779\n",
      "\n",
      "Epoch 14: val_accuracy did not improve from 0.71779\n",
      "\n",
      "Epoch 14: val_accuracy did not improve from 0.63190\n",
      "21/21 [==============================] - 26s 1s/step - loss: 0.4152 - accuracy: 0.8132 - auc: 0.8884 - precision: 0.8060 - recall: 0.7552 - val_loss: 0.6608 - val_accuracy: 0.6135 - val_auc: 0.6561 - val_precision: 0.4909 - val_recall: 0.4355 - lr: 5.0000e-05\n",
      "Epoch 15/50\n",
      "21/21 [==============================] - ETA: 0s - loss: 0.4086 - accuracy: 0.8070 - auc: 0.8944 - precision: 0.7963 - recall: 0.7517\n",
      "Epoch 15: val_accuracy did not improve from 0.71779\n",
      "\n",
      "Epoch 15: val_accuracy did not improve from 0.71779\n",
      "\n",
      "Epoch 15: val_accuracy did not improve from 0.71779\n",
      "\n",
      "Epoch 15: val_accuracy did not improve from 0.71779\n",
      "\n",
      "Epoch 15: val_accuracy did not improve from 0.63190\n",
      "21/21 [==============================] - 25s 975ms/step - loss: 0.4086 - accuracy: 0.8070 - auc: 0.8944 - precision: 0.7963 - recall: 0.7517 - val_loss: 0.6664 - val_accuracy: 0.6074 - val_auc: 0.6539 - val_precision: 0.4821 - val_recall: 0.4355 - lr: 2.5000e-05\n",
      "Epoch 16/50\n",
      "21/21 [==============================] - ETA: 0s - loss: 0.4142 - accuracy: 0.8086 - auc: 0.8905 - precision: 0.7865 - recall: 0.7727\n",
      "Epoch 16: val_accuracy did not improve from 0.71779\n",
      "\n",
      "Epoch 16: val_accuracy did not improve from 0.71779\n",
      "\n",
      "Epoch 16: val_accuracy did not improve from 0.71779\n",
      "\n",
      "Epoch 16: val_accuracy did not improve from 0.71779\n",
      "\n",
      "Epoch 16: val_accuracy did not improve from 0.63190\n",
      "21/21 [==============================] - 24s 974ms/step - loss: 0.4142 - accuracy: 0.8086 - auc: 0.8905 - precision: 0.7865 - recall: 0.7727 - val_loss: 0.6695 - val_accuracy: 0.6135 - val_auc: 0.6569 - val_precision: 0.4912 - val_recall: 0.4516 - lr: 2.5000e-05\n",
      "Epoch 17/50\n",
      "21/21 [==============================] - ETA: 0s - loss: 0.3946 - accuracy: 0.8392 - auc: 0.9009 - precision: 0.8339 - recall: 0.7902\n",
      "Epoch 17: ReduceLROnPlateau reducing learning rate to 1.249999968422344e-05.\n",
      "\n",
      "Epoch 17: val_accuracy did not improve from 0.71779\n",
      "\n",
      "Epoch 17: val_accuracy did not improve from 0.71779\n",
      "\n",
      "Epoch 17: val_accuracy did not improve from 0.71779\n",
      "\n",
      "Epoch 17: val_accuracy did not improve from 0.71779\n",
      "\n",
      "Epoch 17: val_accuracy did not improve from 0.63190\n",
      "21/21 [==============================] - 25s 1s/step - loss: 0.3946 - accuracy: 0.8392 - auc: 0.9009 - precision: 0.8339 - recall: 0.7902 - val_loss: 0.6716 - val_accuracy: 0.6074 - val_auc: 0.6562 - val_precision: 0.4821 - val_recall: 0.4355 - lr: 2.5000e-05\n",
      "Epoch 18/50\n",
      "21/21 [==============================] - ETA: 0s - loss: 0.3880 - accuracy: 0.8208 - auc: 0.9079 - precision: 0.8189 - recall: 0.7587Restoring model weights from the end of the best epoch: 8.\n",
      "\n",
      "Epoch 18: val_accuracy did not improve from 0.71779\n",
      "\n",
      "Epoch 18: val_accuracy did not improve from 0.71779\n",
      "\n",
      "Epoch 18: val_accuracy did not improve from 0.71779\n",
      "\n",
      "Epoch 18: val_accuracy did not improve from 0.71779\n",
      "\n",
      "Epoch 18: val_accuracy did not improve from 0.63190\n",
      "21/21 [==============================] - 25s 1s/step - loss: 0.3880 - accuracy: 0.8208 - auc: 0.9079 - precision: 0.8189 - recall: 0.7587 - val_loss: 0.6755 - val_accuracy: 0.6135 - val_auc: 0.6548 - val_precision: 0.4912 - val_recall: 0.4516 - lr: 1.2500e-05\n",
      "Epoch 18: early stopping\n"
     ]
    },
    {
     "name": "stderr",
     "output_type": "stream",
     "text": [
      "\u001b[34m\u001b[1mwandb\u001b[0m: Waiting for artifact run-7tc6org2-TMNetV2_MobileNet-7tc6org2.keras to be committed...\n"
     ]
    },
    {
     "data": {
      "application/vnd.jupyter.widget-view+json": {
       "model_id": "fbca4b5a62984aeb8dd0b8aec3ebadab",
       "version_major": 2,
       "version_minor": 0
      },
      "text/plain": [
       "VBox(children=(Label(value='0.378 MB of 72.035 MB uploaded\\r'), FloatProgress(value=0.005253546667937619, max=…"
      ]
     },
     "metadata": {},
     "output_type": "display_data"
    },
    {
     "name": "stderr",
     "output_type": "stream",
     "text": [
      "\n",
      "\u001b[34m\u001b[1mwandb\u001b[0m: Committed artifact aistudio/Breast-Cancer-Detection-Stage/run-7tc6org2-TMNetV2_MobileNet-7tc6org2.keras:v0\n",
      "wandb: WARNING Source type is set to 'repo' but some required information is missing from the environment. A job will not be created from this run. See https://docs.wandb.ai/guides/launch/create-job\n"
     ]
    },
    {
     "data": {
      "text/html": [
       "<style>\n",
       "    table.wandb td:nth-child(1) { padding: 0 10px; text-align: left ; width: auto;} td:nth-child(2) {text-align: left ; width: 100%}\n",
       "    .wandb-row { display: flex; flex-direction: row; flex-wrap: wrap; justify-content: flex-start; width: 100% }\n",
       "    .wandb-col { display: flex; flex-direction: column; flex-basis: 100%; flex: 1; padding: 10px; }\n",
       "    </style>\n",
       "<div class=\"wandb-row\"><div class=\"wandb-col\"><h3>Run history:</h3><br/><table class=\"wandb\"><tr><td>epoch/accuracy</td><td>▁▁▁▃▃▄▄▅▅▅▅▆▆▆▆▆▆▆▇▇▇▇▇▇▇██▇▇▇▇▇▇▇▇▇████</td></tr><tr><td>epoch/auc</td><td>▁▁▁▂▂▄▄▄▄▅▅▆▆▆▆▆▆▆▇▇▇▇▇▇▇██▇▇███████████</td></tr><tr><td>epoch/epoch</td><td>▁▁▁▁▁▂▂▂▂▃▃▃▃▃▃▃▄▄▄▄▅▅▅▅▅▆▆▆▆▆▆▇▇▇▇▇████</td></tr><tr><td>epoch/learning_rate</td><td>██████████████████████▄▄▄▄▄▄▄▂▂▂▂▂▂▂▁▁▁▁</td></tr><tr><td>epoch/loss</td><td>███▆▆▅▅▅▅▄▄▄▄▄▃▃▃▃▂▂▂▂▂▂▂▁▁▂▂▁▁▁▁▁▁▁▁▁▁▁</td></tr><tr><td>epoch/lr</td><td>█████████████████████████▄▄▄▄▄▄▂▂▂▂▂▂▂▁▁</td></tr><tr><td>epoch/precision</td><td>▁▁▁▂▂▄▄▄▄▅▅▅▅▅▆▆▆▆▇▇▇▇▇▇▇██▇▇██▇▇▇▇▇████</td></tr><tr><td>epoch/recall</td><td>▁▁▁▃▃▄▄▄▄▄▄▆▆▆▄▄▆▆▆▆█████▇▇██▇▇▇▇█████▇▇</td></tr><tr><td>epoch/val_accuracy</td><td>▁▁▁▆▆▅▅▆▆▇▇▇▇▇▇▇████▇▇▇▇▇▇▇██▇▇▇▇▇▇▇▇▇▇▇</td></tr><tr><td>epoch/val_auc</td><td>▁▁▁▂▂▄▄▅▅▅▅▅▅▅▆▆▇▇████▇▇▇██▇▇███████████</td></tr><tr><td>epoch/val_loss</td><td>███▃▃▄▄▃▃▂▂▂▂▂▂▂▁▁▂▂▁▁▂▂▂▂▂▂▂▂▂▃▃▃▃▃▃▃▃▃</td></tr><tr><td>epoch/val_precision</td><td>▁▁▁▃▃▃▃▅▅▆▆▆▆▆▅▅██▇▇▆▆▆▆▆▆▆▇▇▆▆▆▆▆▆▆▆▆▆▆</td></tr><tr><td>epoch/val_recall</td><td>███▂▂▅▅▄▄▂▂▃▃▃▃▃▁▁▄▄▂▂▁▁▁▂▂▂▂▂▂▂▂▂▂▂▂▂▂▂</td></tr></table><br/></div><div class=\"wandb-col\"><h3>Run summary:</h3><br/><table class=\"wandb\"><tr><td>epoch/accuracy</td><td>0.82083</td></tr><tr><td>epoch/auc</td><td>0.90785</td></tr><tr><td>epoch/epoch</td><td>17</td></tr><tr><td>epoch/learning_rate</td><td>1e-05</td></tr><tr><td>epoch/loss</td><td>0.38805</td></tr><tr><td>epoch/lr</td><td>1e-05</td></tr><tr><td>epoch/precision</td><td>0.81887</td></tr><tr><td>epoch/recall</td><td>0.75874</td></tr><tr><td>epoch/val_accuracy</td><td>0.6135</td></tr><tr><td>epoch/val_auc</td><td>0.65482</td></tr><tr><td>epoch/val_loss</td><td>0.67551</td></tr><tr><td>epoch/val_precision</td><td>0.49123</td></tr><tr><td>epoch/val_recall</td><td>0.45161</td></tr></table><br/></div></div>"
      ],
      "text/plain": [
       "<IPython.core.display.HTML object>"
      ]
     },
     "metadata": {},
     "output_type": "display_data"
    },
    {
     "data": {
      "text/html": [
       " View run <strong style=\"color:#cdcd00\">TMNetV2_MobileNet</strong> at: <a href='https://wandb.ai/aistudio/Breast-Cancer-Detection-Stage/runs/7tc6org2' target=\"_blank\">https://wandb.ai/aistudio/Breast-Cancer-Detection-Stage/runs/7tc6org2</a><br/>Synced 6 W&B file(s), 3 media file(s), 5 artifact file(s) and 0 other file(s)"
      ],
      "text/plain": [
       "<IPython.core.display.HTML object>"
      ]
     },
     "metadata": {},
     "output_type": "display_data"
    },
    {
     "data": {
      "text/html": [
       "Find logs at: <code>./wandb/run-20240213_210420-7tc6org2/logs</code>"
      ],
      "text/plain": [
       "<IPython.core.display.HTML object>"
      ]
     },
     "metadata": {},
     "output_type": "display_data"
    },
    {
     "name": "stdout",
     "output_type": "stream",
     "text": [
      "# ================================================================================================ #\n",
      "                                           TMNetV2_ResNet                                           \n",
      "# ------------------------------------------------------------------------------------------------ #\n",
      "Model: \"model\"\n",
      "_________________________________________________________________\n",
      " Layer (type)                Output Shape              Param #   \n",
      "=================================================================\n",
      " TMNetV2_ResNet_input_layer   [(None, 224, 224, 3)]    0         \n",
      " (InputLayer)                                                    \n",
      "                                                                 \n",
      " tf.math.truediv (TFOpLambda  (None, 224, 224, 3)      0         \n",
      " )                                                               \n",
      "                                                                 \n",
      " tf.math.subtract (TFOpLambd  (None, 224, 224, 3)      0         \n",
      " a)                                                              \n",
      "                                                                 \n",
      " data_augmentation (Sequenti  (None, 224, 224, 3)      0         \n",
      " al)                                                             \n",
      "                                                                 \n",
      " resnet152v2 (Functional)    (None, None, None, 2048)  58331648  \n",
      "                                                                 \n",
      " TMNetV2_ResNet_global_avera  (None, 2048)             0         \n",
      " ge_pooling (GlobalAveragePo                                     \n",
      " oling2D)                                                        \n",
      "                                                                 \n",
      " TMNetV2_ResNet_batch_normal  (None, 2048)             8192      \n",
      " ization (BatchNormalization                                     \n",
      " )                                                               \n",
      "                                                                 \n",
      " TMNetV2_ResNet_dense_1 (Den  (None, 1024)             2098176   \n",
      " se)                                                             \n",
      "                                                                 \n",
      " TMNetV2_ResNet_dropout_1 (D  (None, 1024)             0         \n",
      " ropout)                                                         \n",
      "                                                                 \n",
      " TMNetV2_ResNet_dense_2 (Den  (None, 1024)             1049600   \n",
      " se)                                                             \n",
      "                                                                 \n",
      " TMNetV2_ResNet_dropout_2 (D  (None, 1024)             0         \n",
      " ropout)                                                         \n",
      "                                                                 \n",
      " TMNetV2_ResNet_output_layer  (None, 1)                1025      \n",
      "  (Dense)                                                        \n",
      "                                                                 \n",
      "=================================================================\n",
      "Total params: 61,488,641\n",
      "Trainable params: 3,152,897\n",
      "Non-trainable params: 58,335,744\n",
      "_________________________________________________________________\n",
      "# ------------------------------------------------------------------------------------------------ #\n",
      "\n",
      "\n",
      "                                           TMNetV2Config                                            \n",
      "                                        Activation | sigmoid\n",
      "                                      Output Shape | 1\n",
      "                                            Dense1 | 1024\n",
      "                                          Dropout1 | 0.5\n",
      "                                            Dense2 | 1024\n",
      "                                          Dropout2 | 0.5\n",
      "\n",
      "\n",
      "# ================================================================================================ #\n"
     ]
    },
    {
     "data": {
      "text/html": [
       "wandb version 0.16.3 is available!  To upgrade, please run:\n",
       " $ pip install wandb --upgrade"
      ],
      "text/plain": [
       "<IPython.core.display.HTML object>"
      ]
     },
     "metadata": {},
     "output_type": "display_data"
    },
    {
     "data": {
      "text/html": [
       "Tracking run with wandb version 0.16.2"
      ],
      "text/plain": [
       "<IPython.core.display.HTML object>"
      ]
     },
     "metadata": {},
     "output_type": "display_data"
    },
    {
     "data": {
      "text/html": [
       "Run data is saved locally in <code>/home/john/projects/bcd/wandb/run-20240213_211351-49vm6t1g</code>"
      ],
      "text/plain": [
       "<IPython.core.display.HTML object>"
      ]
     },
     "metadata": {},
     "output_type": "display_data"
    },
    {
     "data": {
      "text/html": [
       "Syncing run <strong><a href='https://wandb.ai/aistudio/Breast-Cancer-Detection-Stage/runs/49vm6t1g' target=\"_blank\">TMNetV2_ResNet</a></strong> to <a href='https://wandb.ai/aistudio/Breast-Cancer-Detection-Stage' target=\"_blank\">Weights & Biases</a> (<a href='https://wandb.me/run' target=\"_blank\">docs</a>)<br/>"
      ],
      "text/plain": [
       "<IPython.core.display.HTML object>"
      ]
     },
     "metadata": {},
     "output_type": "display_data"
    },
    {
     "data": {
      "text/html": [
       " View project at <a href='https://wandb.ai/aistudio/Breast-Cancer-Detection-Stage' target=\"_blank\">https://wandb.ai/aistudio/Breast-Cancer-Detection-Stage</a>"
      ],
      "text/plain": [
       "<IPython.core.display.HTML object>"
      ]
     },
     "metadata": {},
     "output_type": "display_data"
    },
    {
     "data": {
      "text/html": [
       " View run at <a href='https://wandb.ai/aistudio/Breast-Cancer-Detection-Stage/runs/49vm6t1g' target=\"_blank\">https://wandb.ai/aistudio/Breast-Cancer-Detection-Stage/runs/49vm6t1g</a>"
      ],
      "text/plain": [
       "<IPython.core.display.HTML object>"
      ]
     },
     "metadata": {},
     "output_type": "display_data"
    },
    {
     "name": "stdout",
     "output_type": "stream",
     "text": [
      "Epoch 1/50\n",
      "21/21 [==============================] - ETA: 0s - loss: 0.8442 - accuracy: 0.5283 - auc: 0.5529 - precision: 0.4620 - recall: 0.4023\n",
      "Epoch 1: val_accuracy did not improve from 0.71779\n",
      "\n",
      "Epoch 1: val_accuracy did not improve from 0.71779\n",
      "\n",
      "Epoch 1: val_accuracy did not improve from 0.71779\n",
      "\n",
      "Epoch 1: val_accuracy did not improve from 0.71779\n",
      "\n",
      "Epoch 1: val_accuracy did not improve from 0.63190\n",
      "\n",
      "Epoch 1: val_accuracy improved from -inf to 0.58896, saving model to models/stage/TMNetV2_ResNet-49vm6t1g.keras\n",
      "21/21 [==============================] - 194s 9s/step - loss: 0.8442 - accuracy: 0.5283 - auc: 0.5529 - precision: 0.4620 - recall: 0.4023 - val_loss: 0.6721 - val_accuracy: 0.5890 - val_auc: 0.5581 - val_precision: 0.4510 - val_recall: 0.3710 - lr: 1.0000e-04\n",
      "Epoch 2/50\n",
      "21/21 [==============================] - ETA: 0s - loss: 0.7883 - accuracy: 0.5559 - auc: 0.5785 - precision: 0.4930 - recall: 0.4930\n",
      "Epoch 2: val_accuracy did not improve from 0.71779\n",
      "\n",
      "Epoch 2: val_accuracy did not improve from 0.71779\n",
      "\n",
      "Epoch 2: val_accuracy did not improve from 0.71779\n",
      "\n",
      "Epoch 2: val_accuracy did not improve from 0.71779\n",
      "\n",
      "Epoch 2: val_accuracy did not improve from 0.63190\n",
      "\n",
      "Epoch 2: val_accuracy did not improve from 0.58896\n",
      "21/21 [==============================] - 179s 8s/step - loss: 0.7883 - accuracy: 0.5559 - auc: 0.5785 - precision: 0.4930 - recall: 0.4930 - val_loss: 0.6725 - val_accuracy: 0.5583 - val_auc: 0.6004 - val_precision: 0.4324 - val_recall: 0.5161 - lr: 1.0000e-04\n",
      "Epoch 3/50\n",
      "21/21 [==============================] - ETA: 0s - loss: 0.6629 - accuracy: 0.6570 - auc: 0.6880 - precision: 0.6230 - recall: 0.5490\n",
      "Epoch 3: val_accuracy did not improve from 0.71779\n",
      "\n",
      "Epoch 3: val_accuracy did not improve from 0.71779\n",
      "\n",
      "Epoch 3: val_accuracy did not improve from 0.71779\n",
      "\n",
      "Epoch 3: val_accuracy did not improve from 0.71779\n",
      "\n",
      "Epoch 3: val_accuracy did not improve from 0.63190\n",
      "\n",
      "Epoch 3: val_accuracy improved from 0.58896 to 0.60123, saving model to models/stage/TMNetV2_ResNet-49vm6t1g.keras\n",
      "21/21 [==============================] - 185s 9s/step - loss: 0.6629 - accuracy: 0.6570 - auc: 0.6880 - precision: 0.6230 - recall: 0.5490 - val_loss: 0.6551 - val_accuracy: 0.6012 - val_auc: 0.6206 - val_precision: 0.4746 - val_recall: 0.4516 - lr: 1.0000e-04\n",
      "Epoch 4/50\n",
      "21/21 [==============================] - ETA: 0s - loss: 0.6959 - accuracy: 0.6355 - auc: 0.6706 - precision: 0.5923 - recall: 0.5385\n",
      "Epoch 4: val_accuracy did not improve from 0.71779\n",
      "\n",
      "Epoch 4: val_accuracy did not improve from 0.71779\n",
      "\n",
      "Epoch 4: val_accuracy did not improve from 0.71779\n",
      "\n",
      "Epoch 4: val_accuracy did not improve from 0.71779\n",
      "\n",
      "Epoch 4: val_accuracy did not improve from 0.63190\n",
      "\n",
      "Epoch 4: val_accuracy improved from 0.60123 to 0.62577, saving model to models/stage/TMNetV2_ResNet-49vm6t1g.keras\n",
      "21/21 [==============================] - 186s 9s/step - loss: 0.6959 - accuracy: 0.6355 - auc: 0.6706 - precision: 0.5923 - recall: 0.5385 - val_loss: 0.6609 - val_accuracy: 0.6258 - val_auc: 0.6148 - val_precision: 0.5079 - val_recall: 0.5161 - lr: 1.0000e-04\n",
      "Epoch 5/50\n",
      "21/21 [==============================] - ETA: 0s - loss: 0.6302 - accuracy: 0.6646 - auc: 0.7225 - precision: 0.6175 - recall: 0.6154\n",
      "Epoch 5: val_accuracy did not improve from 0.71779\n",
      "\n",
      "Epoch 5: val_accuracy did not improve from 0.71779\n",
      "\n",
      "Epoch 5: val_accuracy did not improve from 0.71779\n",
      "\n",
      "Epoch 5: val_accuracy did not improve from 0.71779\n",
      "\n",
      "Epoch 5: val_accuracy did not improve from 0.63190\n",
      "\n",
      "Epoch 5: val_accuracy did not improve from 0.62577\n",
      "21/21 [==============================] - 177s 8s/step - loss: 0.6302 - accuracy: 0.6646 - auc: 0.7225 - precision: 0.6175 - recall: 0.6154 - val_loss: 0.6561 - val_accuracy: 0.6074 - val_auc: 0.6226 - val_precision: 0.4844 - val_recall: 0.5000 - lr: 1.0000e-04\n",
      "Epoch 6/50\n",
      "21/21 [==============================] - ETA: 0s - loss: 0.5958 - accuracy: 0.7121 - auc: 0.7577 - precision: 0.7168 - recall: 0.5664\n",
      "Epoch 6: ReduceLROnPlateau reducing learning rate to 4.999999873689376e-05.\n",
      "\n",
      "Epoch 6: val_accuracy did not improve from 0.71779\n",
      "\n",
      "Epoch 6: val_accuracy did not improve from 0.71779\n",
      "\n",
      "Epoch 6: val_accuracy did not improve from 0.71779\n",
      "\n",
      "Epoch 6: val_accuracy did not improve from 0.71779\n",
      "\n",
      "Epoch 6: val_accuracy did not improve from 0.63190\n",
      "\n",
      "Epoch 6: val_accuracy did not improve from 0.62577\n",
      "21/21 [==============================] - 175s 8s/step - loss: 0.5958 - accuracy: 0.7121 - auc: 0.7577 - precision: 0.7168 - recall: 0.5664 - val_loss: 0.6656 - val_accuracy: 0.6012 - val_auc: 0.6243 - val_precision: 0.4800 - val_recall: 0.5806 - lr: 1.0000e-04\n",
      "Epoch 7/50\n",
      "21/21 [==============================] - ETA: 0s - loss: 0.6000 - accuracy: 0.6953 - auc: 0.7563 - precision: 0.6465 - recall: 0.6713\n",
      "Epoch 7: val_accuracy did not improve from 0.71779\n",
      "\n",
      "Epoch 7: val_accuracy did not improve from 0.71779\n",
      "\n",
      "Epoch 7: val_accuracy did not improve from 0.71779\n",
      "\n",
      "Epoch 7: val_accuracy did not improve from 0.71779\n",
      "\n",
      "Epoch 7: val_accuracy improved from 0.63190 to 0.64417, saving model to models/stage/TMNetV2_MobileNet-7tc6org2.keras\n",
      "\n",
      "Epoch 7: val_accuracy improved from 0.62577 to 0.64417, saving model to models/stage/TMNetV2_ResNet-49vm6t1g.keras\n",
      "21/21 [==============================] - 176s 8s/step - loss: 0.6000 - accuracy: 0.6953 - auc: 0.7563 - precision: 0.6465 - recall: 0.6713 - val_loss: 0.6447 - val_accuracy: 0.6442 - val_auc: 0.6268 - val_precision: 0.5400 - val_recall: 0.4355 - lr: 5.0000e-05\n",
      "Epoch 8/50\n",
      "21/21 [==============================] - ETA: 0s - loss: 0.5664 - accuracy: 0.7121 - auc: 0.7730 - precision: 0.6828 - recall: 0.6399\n",
      "Epoch 8: val_accuracy did not improve from 0.71779\n",
      "\n",
      "Epoch 8: val_accuracy did not improve from 0.71779\n",
      "\n",
      "Epoch 8: val_accuracy did not improve from 0.71779\n",
      "\n",
      "Epoch 8: val_accuracy did not improve from 0.71779\n",
      "\n",
      "Epoch 8: val_accuracy improved from 0.64417 to 0.65644, saving model to models/stage/TMNetV2_MobileNet-7tc6org2.keras\n",
      "\n",
      "Epoch 8: val_accuracy improved from 0.64417 to 0.65644, saving model to models/stage/TMNetV2_ResNet-49vm6t1g.keras\n",
      "21/21 [==============================] - 176s 8s/step - loss: 0.5664 - accuracy: 0.7121 - auc: 0.7730 - precision: 0.6828 - recall: 0.6399 - val_loss: 0.6478 - val_accuracy: 0.6564 - val_auc: 0.6309 - val_precision: 0.5536 - val_recall: 0.5000 - lr: 5.0000e-05\n",
      "Epoch 9/50\n",
      "21/21 [==============================] - ETA: 0s - loss: 0.5612 - accuracy: 0.7152 - auc: 0.7829 - precision: 0.6866 - recall: 0.6434\n",
      "Epoch 9: val_accuracy did not improve from 0.71779\n",
      "\n",
      "Epoch 9: val_accuracy did not improve from 0.71779\n",
      "\n",
      "Epoch 9: val_accuracy did not improve from 0.71779\n",
      "\n",
      "Epoch 9: val_accuracy did not improve from 0.71779\n",
      "\n",
      "Epoch 9: val_accuracy did not improve from 0.65644\n",
      "\n",
      "Epoch 9: val_accuracy did not improve from 0.65644\n",
      "21/21 [==============================] - 183s 9s/step - loss: 0.5612 - accuracy: 0.7152 - auc: 0.7829 - precision: 0.6866 - recall: 0.6434 - val_loss: 0.6550 - val_accuracy: 0.6196 - val_auc: 0.6285 - val_precision: 0.5000 - val_recall: 0.5323 - lr: 5.0000e-05\n",
      "Epoch 10/50\n",
      "21/21 [==============================] - ETA: 0s - loss: 0.5394 - accuracy: 0.7289 - auc: 0.7976 - precision: 0.7026 - recall: 0.6608\n",
      "Epoch 10: ReduceLROnPlateau reducing learning rate to 2.499999936844688e-05.\n",
      "\n",
      "Epoch 10: val_accuracy did not improve from 0.71779\n",
      "\n",
      "Epoch 10: val_accuracy did not improve from 0.71779\n",
      "\n",
      "Epoch 10: val_accuracy did not improve from 0.71779\n",
      "\n",
      "Epoch 10: val_accuracy did not improve from 0.71779\n",
      "\n",
      "Epoch 10: val_accuracy did not improve from 0.65644\n",
      "\n",
      "Epoch 10: val_accuracy did not improve from 0.65644\n",
      "21/21 [==============================] - 174s 8s/step - loss: 0.5394 - accuracy: 0.7289 - auc: 0.7976 - precision: 0.7026 - recall: 0.6608 - val_loss: 0.6492 - val_accuracy: 0.6564 - val_auc: 0.6244 - val_precision: 0.5517 - val_recall: 0.5161 - lr: 5.0000e-05\n",
      "Epoch 11/50\n",
      "21/21 [==============================] - ETA: 0s - loss: 0.5529 - accuracy: 0.7289 - auc: 0.7935 - precision: 0.7057 - recall: 0.6538\n",
      "Epoch 11: val_accuracy did not improve from 0.71779\n",
      "\n",
      "Epoch 11: val_accuracy did not improve from 0.71779\n",
      "\n",
      "Epoch 11: val_accuracy did not improve from 0.71779\n",
      "\n",
      "Epoch 11: val_accuracy did not improve from 0.71779\n",
      "\n",
      "Epoch 11: val_accuracy improved from 0.65644 to 0.66258, saving model to models/stage/TMNetV2_MobileNet-7tc6org2.keras\n",
      "\n",
      "Epoch 11: val_accuracy improved from 0.65644 to 0.66258, saving model to models/stage/TMNetV2_ResNet-49vm6t1g.keras\n",
      "21/21 [==============================] - 172s 8s/step - loss: 0.5529 - accuracy: 0.7289 - auc: 0.7935 - precision: 0.7057 - recall: 0.6538 - val_loss: 0.6454 - val_accuracy: 0.6626 - val_auc: 0.6317 - val_precision: 0.5614 - val_recall: 0.5161 - lr: 2.5000e-05\n",
      "Epoch 12/50\n",
      "21/21 [==============================] - ETA: 0s - loss: 0.5287 - accuracy: 0.7259 - auc: 0.8102 - precision: 0.7019 - recall: 0.6503\n",
      "Epoch 12: val_accuracy did not improve from 0.71779\n",
      "\n",
      "Epoch 12: val_accuracy did not improve from 0.71779\n",
      "\n",
      "Epoch 12: val_accuracy did not improve from 0.71779\n",
      "\n",
      "Epoch 12: val_accuracy did not improve from 0.71779\n",
      "\n",
      "Epoch 12: val_accuracy improved from 0.66258 to 0.67485, saving model to models/stage/TMNetV2_MobileNet-7tc6org2.keras\n",
      "\n",
      "Epoch 12: val_accuracy improved from 0.66258 to 0.67485, saving model to models/stage/TMNetV2_ResNet-49vm6t1g.keras\n",
      "21/21 [==============================] - 170s 8s/step - loss: 0.5287 - accuracy: 0.7259 - auc: 0.8102 - precision: 0.7019 - recall: 0.6503 - val_loss: 0.6426 - val_accuracy: 0.6748 - val_auc: 0.6313 - val_precision: 0.5818 - val_recall: 0.5161 - lr: 2.5000e-05\n",
      "Epoch 13/50\n",
      "21/21 [==============================] - ETA: 0s - loss: 0.5211 - accuracy: 0.7473 - auc: 0.8152 - precision: 0.7123 - recall: 0.7098\n",
      "Epoch 13: val_accuracy did not improve from 0.71779\n",
      "\n",
      "Epoch 13: val_accuracy did not improve from 0.71779\n",
      "\n",
      "Epoch 13: val_accuracy did not improve from 0.71779\n",
      "\n",
      "Epoch 13: val_accuracy did not improve from 0.71779\n",
      "\n",
      "Epoch 13: val_accuracy did not improve from 0.67485\n",
      "\n",
      "Epoch 13: val_accuracy did not improve from 0.67485\n",
      "21/21 [==============================] - 164s 8s/step - loss: 0.5211 - accuracy: 0.7473 - auc: 0.8152 - precision: 0.7123 - recall: 0.7098 - val_loss: 0.6418 - val_accuracy: 0.6687 - val_auc: 0.6326 - val_precision: 0.5714 - val_recall: 0.5161 - lr: 2.5000e-05\n",
      "Epoch 14/50\n",
      "21/21 [==============================] - ETA: 0s - loss: 0.5123 - accuracy: 0.7626 - auc: 0.8213 - precision: 0.7453 - recall: 0.6958\n",
      "Epoch 14: val_accuracy did not improve from 0.71779\n",
      "\n",
      "Epoch 14: val_accuracy did not improve from 0.71779\n",
      "\n",
      "Epoch 14: val_accuracy did not improve from 0.71779\n",
      "\n",
      "Epoch 14: val_accuracy did not improve from 0.71779\n",
      "\n",
      "Epoch 14: val_accuracy did not improve from 0.67485\n",
      "\n",
      "Epoch 14: val_accuracy did not improve from 0.67485\n",
      "21/21 [==============================] - 165s 8s/step - loss: 0.5123 - accuracy: 0.7626 - auc: 0.8213 - precision: 0.7453 - recall: 0.6958 - val_loss: 0.6429 - val_accuracy: 0.6564 - val_auc: 0.6351 - val_precision: 0.5517 - val_recall: 0.5161 - lr: 2.5000e-05\n",
      "Epoch 15/50\n",
      "21/21 [==============================] - ETA: 0s - loss: 0.5066 - accuracy: 0.7443 - auc: 0.8244 - precision: 0.7297 - recall: 0.6608\n",
      "Epoch 15: val_accuracy did not improve from 0.71779\n",
      "\n",
      "Epoch 15: val_accuracy did not improve from 0.71779\n",
      "\n",
      "Epoch 15: val_accuracy did not improve from 0.71779\n",
      "\n",
      "Epoch 15: val_accuracy did not improve from 0.71779\n",
      "\n",
      "Epoch 15: val_accuracy did not improve from 0.67485\n",
      "\n",
      "Epoch 15: val_accuracy did not improve from 0.67485\n",
      "21/21 [==============================] - 169s 8s/step - loss: 0.5066 - accuracy: 0.7443 - auc: 0.8244 - precision: 0.7297 - recall: 0.6608 - val_loss: 0.6428 - val_accuracy: 0.6564 - val_auc: 0.6413 - val_precision: 0.5517 - val_recall: 0.5161 - lr: 2.5000e-05\n",
      "Epoch 16/50\n",
      "21/21 [==============================] - ETA: 0s - loss: 0.4879 - accuracy: 0.7489 - auc: 0.8412 - precision: 0.7163 - recall: 0.7063\n",
      "Epoch 16: val_accuracy did not improve from 0.71779\n",
      "\n",
      "Epoch 16: val_accuracy did not improve from 0.71779\n",
      "\n",
      "Epoch 16: val_accuracy did not improve from 0.71779\n",
      "\n",
      "Epoch 16: val_accuracy did not improve from 0.71779\n",
      "\n",
      "Epoch 16: val_accuracy did not improve from 0.67485\n",
      "\n",
      "Epoch 16: val_accuracy did not improve from 0.67485\n",
      "21/21 [==============================] - 175s 8s/step - loss: 0.4879 - accuracy: 0.7489 - auc: 0.8412 - precision: 0.7163 - recall: 0.7063 - val_loss: 0.6384 - val_accuracy: 0.6626 - val_auc: 0.6451 - val_precision: 0.5614 - val_recall: 0.5161 - lr: 2.5000e-05\n",
      "Epoch 17/50\n",
      "21/21 [==============================] - ETA: 0s - loss: 0.5253 - accuracy: 0.7412 - auc: 0.8107 - precision: 0.7331 - recall: 0.6434\n",
      "Epoch 17: val_accuracy did not improve from 0.71779\n",
      "\n",
      "Epoch 17: val_accuracy did not improve from 0.71779\n",
      "\n",
      "Epoch 17: val_accuracy did not improve from 0.71779\n",
      "\n",
      "Epoch 17: val_accuracy did not improve from 0.71779\n",
      "\n",
      "Epoch 17: val_accuracy did not improve from 0.67485\n",
      "\n",
      "Epoch 17: val_accuracy did not improve from 0.67485\n",
      "21/21 [==============================] - 177s 8s/step - loss: 0.5253 - accuracy: 0.7412 - auc: 0.8107 - precision: 0.7331 - recall: 0.6434 - val_loss: 0.6425 - val_accuracy: 0.6564 - val_auc: 0.6480 - val_precision: 0.5517 - val_recall: 0.5161 - lr: 2.5000e-05\n",
      "Epoch 18/50\n",
      "21/21 [==============================] - ETA: 0s - loss: 0.4772 - accuracy: 0.7703 - auc: 0.8492 - precision: 0.7378 - recall: 0.7378\n",
      "Epoch 18: val_accuracy did not improve from 0.71779\n",
      "\n",
      "Epoch 18: val_accuracy did not improve from 0.71779\n",
      "\n",
      "Epoch 18: val_accuracy did not improve from 0.71779\n",
      "\n",
      "Epoch 18: val_accuracy did not improve from 0.71779\n",
      "\n",
      "Epoch 18: val_accuracy did not improve from 0.67485\n",
      "\n",
      "Epoch 18: val_accuracy did not improve from 0.67485\n",
      "21/21 [==============================] - 175s 8s/step - loss: 0.4772 - accuracy: 0.7703 - auc: 0.8492 - precision: 0.7378 - recall: 0.7378 - val_loss: 0.6423 - val_accuracy: 0.6564 - val_auc: 0.6517 - val_precision: 0.5536 - val_recall: 0.5000 - lr: 2.5000e-05\n",
      "Epoch 19/50\n",
      "21/21 [==============================] - ETA: 0s - loss: 0.4747 - accuracy: 0.7795 - auc: 0.8506 - precision: 0.7863 - recall: 0.6818\n",
      "Epoch 19: ReduceLROnPlateau reducing learning rate to 1.249999968422344e-05.\n",
      "\n",
      "Epoch 19: val_accuracy did not improve from 0.71779\n",
      "\n",
      "Epoch 19: val_accuracy did not improve from 0.71779\n",
      "\n",
      "Epoch 19: val_accuracy did not improve from 0.71779\n",
      "\n",
      "Epoch 19: val_accuracy did not improve from 0.71779\n",
      "\n",
      "Epoch 19: val_accuracy did not improve from 0.67485\n",
      "\n",
      "Epoch 19: val_accuracy did not improve from 0.67485\n",
      "21/21 [==============================] - 178s 8s/step - loss: 0.4747 - accuracy: 0.7795 - auc: 0.8506 - precision: 0.7863 - recall: 0.6818 - val_loss: 0.6470 - val_accuracy: 0.6564 - val_auc: 0.6496 - val_precision: 0.5484 - val_recall: 0.5484 - lr: 2.5000e-05\n",
      "Epoch 20/50\n",
      "21/21 [==============================] - ETA: 0s - loss: 0.4675 - accuracy: 0.7902 - auc: 0.8602 - precision: 0.7543 - recall: 0.7727\n",
      "Epoch 20: val_accuracy did not improve from 0.71779\n",
      "\n",
      "Epoch 20: val_accuracy did not improve from 0.71779\n",
      "\n",
      "Epoch 20: val_accuracy did not improve from 0.71779\n",
      "\n",
      "Epoch 20: val_accuracy did not improve from 0.71779\n",
      "\n",
      "Epoch 20: val_accuracy did not improve from 0.67485\n",
      "\n",
      "Epoch 20: val_accuracy did not improve from 0.67485\n",
      "21/21 [==============================] - 171s 8s/step - loss: 0.4675 - accuracy: 0.7902 - auc: 0.8602 - precision: 0.7543 - recall: 0.7727 - val_loss: 0.6461 - val_accuracy: 0.6442 - val_auc: 0.6510 - val_precision: 0.5333 - val_recall: 0.5161 - lr: 1.2500e-05\n",
      "Epoch 21/50\n",
      "21/21 [==============================] - ETA: 0s - loss: 0.4652 - accuracy: 0.7825 - auc: 0.8625 - precision: 0.7609 - recall: 0.7343\n",
      "Epoch 21: val_accuracy did not improve from 0.71779\n",
      "\n",
      "Epoch 21: val_accuracy did not improve from 0.71779\n",
      "\n",
      "Epoch 21: val_accuracy did not improve from 0.71779\n",
      "\n",
      "Epoch 21: val_accuracy did not improve from 0.71779\n",
      "\n",
      "Epoch 21: val_accuracy did not improve from 0.67485\n",
      "\n",
      "Epoch 21: val_accuracy did not improve from 0.67485\n",
      "21/21 [==============================] - 167s 8s/step - loss: 0.4652 - accuracy: 0.7825 - auc: 0.8625 - precision: 0.7609 - recall: 0.7343 - val_loss: 0.6461 - val_accuracy: 0.6564 - val_auc: 0.6518 - val_precision: 0.5517 - val_recall: 0.5161 - lr: 1.2500e-05\n",
      "Epoch 22/50\n",
      "21/21 [==============================] - ETA: 0s - loss: 0.4456 - accuracy: 0.7948 - auc: 0.8721 - precision: 0.7714 - recall: 0.7552\n",
      "Epoch 22: ReduceLROnPlateau reducing learning rate to 6.24999984211172e-06.\n",
      "\n",
      "Epoch 22: val_accuracy did not improve from 0.71779\n",
      "\n",
      "Epoch 22: val_accuracy did not improve from 0.71779\n",
      "\n",
      "Epoch 22: val_accuracy did not improve from 0.71779\n",
      "\n",
      "Epoch 22: val_accuracy did not improve from 0.71779\n",
      "\n",
      "Epoch 22: val_accuracy did not improve from 0.67485\n",
      "\n",
      "Epoch 22: val_accuracy did not improve from 0.67485\n",
      "21/21 [==============================] - 169s 8s/step - loss: 0.4456 - accuracy: 0.7948 - auc: 0.8721 - precision: 0.7714 - recall: 0.7552 - val_loss: 0.6457 - val_accuracy: 0.6564 - val_auc: 0.6549 - val_precision: 0.5517 - val_recall: 0.5161 - lr: 1.2500e-05\n",
      "Epoch 23/50\n",
      "21/21 [==============================] - ETA: 0s - loss: 0.4768 - accuracy: 0.7672 - auc: 0.8479 - precision: 0.7538 - recall: 0.6958\n",
      "Epoch 23: val_accuracy did not improve from 0.71779\n",
      "\n",
      "Epoch 23: val_accuracy did not improve from 0.71779\n",
      "\n",
      "Epoch 23: val_accuracy did not improve from 0.71779\n",
      "\n",
      "Epoch 23: val_accuracy did not improve from 0.71779\n",
      "\n",
      "Epoch 23: val_accuracy did not improve from 0.67485\n",
      "\n",
      "Epoch 23: val_accuracy did not improve from 0.67485\n",
      "21/21 [==============================] - 169s 8s/step - loss: 0.4768 - accuracy: 0.7672 - auc: 0.8479 - precision: 0.7538 - recall: 0.6958 - val_loss: 0.6457 - val_accuracy: 0.6564 - val_auc: 0.6536 - val_precision: 0.5517 - val_recall: 0.5161 - lr: 6.2500e-06\n",
      "Epoch 24/50\n",
      "21/21 [==============================] - ETA: 0s - loss: 0.4789 - accuracy: 0.7795 - auc: 0.8494 - precision: 0.7710 - recall: 0.7063\n",
      "Epoch 24: val_accuracy did not improve from 0.71779\n",
      "\n",
      "Epoch 24: val_accuracy did not improve from 0.71779\n",
      "\n",
      "Epoch 24: val_accuracy did not improve from 0.71779\n",
      "\n",
      "Epoch 24: val_accuracy did not improve from 0.71779\n",
      "\n",
      "Epoch 24: val_accuracy did not improve from 0.67485\n",
      "\n",
      "Epoch 24: val_accuracy did not improve from 0.67485\n",
      "21/21 [==============================] - 164s 8s/step - loss: 0.4789 - accuracy: 0.7795 - auc: 0.8494 - precision: 0.7710 - recall: 0.7063 - val_loss: 0.6459 - val_accuracy: 0.6626 - val_auc: 0.6550 - val_precision: 0.5614 - val_recall: 0.5161 - lr: 6.2500e-06\n",
      "Epoch 25/50\n",
      "21/21 [==============================] - ETA: 0s - loss: 0.4561 - accuracy: 0.7979 - auc: 0.8644 - precision: 0.7939 - recall: 0.7273\n",
      "Epoch 25: ReduceLROnPlateau reducing learning rate to 3.12499992105586e-06.\n",
      "\n",
      "Epoch 25: val_accuracy did not improve from 0.71779\n",
      "\n",
      "Epoch 25: val_accuracy did not improve from 0.71779\n",
      "\n",
      "Epoch 25: val_accuracy did not improve from 0.71779\n",
      "\n",
      "Epoch 25: val_accuracy did not improve from 0.71779\n",
      "\n",
      "Epoch 25: val_accuracy did not improve from 0.67485\n",
      "\n",
      "Epoch 25: val_accuracy did not improve from 0.67485\n",
      "21/21 [==============================] - 174s 8s/step - loss: 0.4561 - accuracy: 0.7979 - auc: 0.8644 - precision: 0.7939 - recall: 0.7273 - val_loss: 0.6456 - val_accuracy: 0.6626 - val_auc: 0.6555 - val_precision: 0.5614 - val_recall: 0.5161 - lr: 6.2500e-06\n",
      "Epoch 26/50\n",
      "21/21 [==============================] - ETA: 0s - loss: 0.4476 - accuracy: 0.8009 - auc: 0.8742 - precision: 0.7847 - recall: 0.7517Restoring model weights from the end of the best epoch: 16.\n",
      "\n",
      "Epoch 26: val_accuracy did not improve from 0.71779\n",
      "\n",
      "Epoch 26: val_accuracy did not improve from 0.71779\n",
      "\n",
      "Epoch 26: val_accuracy did not improve from 0.71779\n",
      "\n",
      "Epoch 26: val_accuracy did not improve from 0.71779\n",
      "\n",
      "Epoch 26: val_accuracy did not improve from 0.67485\n",
      "\n",
      "Epoch 26: val_accuracy did not improve from 0.67485\n",
      "21/21 [==============================] - 172s 8s/step - loss: 0.4476 - accuracy: 0.8009 - auc: 0.8742 - precision: 0.7847 - recall: 0.7517 - val_loss: 0.6459 - val_accuracy: 0.6626 - val_auc: 0.6568 - val_precision: 0.5614 - val_recall: 0.5161 - lr: 3.1250e-06\n",
      "Epoch 26: early stopping\n"
     ]
    },
    {
     "name": "stderr",
     "output_type": "stream",
     "text": [
      "\u001b[34m\u001b[1mwandb\u001b[0m: Waiting for artifact run-49vm6t1g-TMNetV2_ResNet-49vm6t1g.keras to be committed...\n"
     ]
    },
    {
     "data": {
      "application/vnd.jupyter.widget-view+json": {
       "model_id": "556c4e5c19244ed79f5c683b8fbeabd5",
       "version_major": 2,
       "version_minor": 0
      },
      "text/plain": [
       "VBox(children=(Label(value='3.753 MB of 519.083 MB uploaded\\r'), FloatProgress(value=0.007230901747589608, max…"
      ]
     },
     "metadata": {},
     "output_type": "display_data"
    },
    {
     "name": "stderr",
     "output_type": "stream",
     "text": [
      "\n",
      "\u001b[34m\u001b[1mwandb\u001b[0m: Committed artifact aistudio/Breast-Cancer-Detection-Stage/run-49vm6t1g-TMNetV2_ResNet-49vm6t1g.keras:v0\n",
      "wandb: WARNING Source type is set to 'repo' but some required information is missing from the environment. A job will not be created from this run. See https://docs.wandb.ai/guides/launch/create-job\n"
     ]
    },
    {
     "data": {
      "text/html": [
       "<style>\n",
       "    table.wandb td:nth-child(1) { padding: 0 10px; text-align: left ; width: auto;} td:nth-child(2) {text-align: left ; width: 100%}\n",
       "    .wandb-row { display: flex; flex-direction: row; flex-wrap: wrap; justify-content: flex-start; width: 100% }\n",
       "    .wandb-col { display: flex; flex-direction: column; flex-basis: 100%; flex: 1; padding: 10px; }\n",
       "    </style>\n",
       "<div class=\"wandb-row\"><div class=\"wandb-col\"><h3>Run history:</h3><br/><table class=\"wandb\"><tr><td>epoch/accuracy</td><td>▁▁▂▂▄▄▄▅▆▆▅▆▆▆▆▆▆▆▆▇▇▇▇▇▇▆▇▇▇█████▇▇▇███</td></tr><tr><td>epoch/auc</td><td>▁▁▂▂▄▄▄▅▅▅▅▆▆▆▆▆▆▇▇▇▇▇▇▇▇▇▇▇▇█████▇▇▇███</td></tr><tr><td>epoch/epoch</td><td>▁▁▁▁▂▂▂▂▂▂▃▃▃▃▄▄▄▄▄▄▅▅▅▅▅▅▆▆▆▆▆▇▇▇▇▇▇███</td></tr><tr><td>epoch/learning_rate</td><td>████████▄▄▄▄▄▄▃▃▃▃▃▃▃▃▃▃▃▃▃▃▂▂▂▂▁▁▁▁▁▁▁▁</td></tr><tr><td>epoch/loss</td><td>██▇▇▅▅▅▄▄▄▄▃▃▃▃▃▃▂▂▂▂▂▂▂▂▂▂▂▂▁▁▁▁▁▂▂▂▁▁▁</td></tr><tr><td>epoch/lr</td><td>██████████▄▄▄▄▄▄▃▃▃▃▃▃▃▃▃▃▃▃▃▂▂▂▂▂▁▁▁▁▁▁</td></tr><tr><td>epoch/precision</td><td>▁▁▂▂▄▄▄▄▆▆▅▆▆▆▆▆▆▆▆▆▇▇▇▆▆▇▇▇█▇▇▇██▇█████</td></tr><tr><td>epoch/recall</td><td>▁▁▃▃▄▄▄▅▄▄▆▅▅▆▆▆▆▆▆▇▇▇▆▇▇▆▇▇▆██▇██▇▇▇▇██</td></tr><tr><td>epoch/val_accuracy</td><td>▃▃▁▁▄▅▅▄▄▄▆▇▇▅▇▇▇███▇▇▇▇▇▇▇▇▇▆▆▇▇▇▇▇▇▇▇▇</td></tr><tr><td>epoch/val_auc</td><td>▁▁▄▄▅▅▅▆▆▆▆▆▆▆▆▆▆▆▆▆▆▆▇▇▇▇██▇███████████</td></tr><tr><td>epoch/val_loss</td><td>████▄▆▆▅▇▇▂▃▃▄▃▃▂▂▂▂▂▂▂▁▁▂▂▂▃▃▃▃▃▃▃▃▃▂▃▃</td></tr><tr><td>epoch/val_precision</td><td>▂▂▁▁▃▅▅▃▃▃▆▇▇▄▇▇▇███▇▇▇▇▇▇▇▇▆▆▆▇▇▇▇▇▇▇▇▇</td></tr><tr><td>epoch/val_recall</td><td>▁▁▆▆▄▆▆▅██▃▅▅▆▆▆▆▆▆▆▆▆▆▆▆▆▅▅▇▆▆▆▆▆▆▆▆▆▆▆</td></tr></table><br/></div><div class=\"wandb-col\"><h3>Run summary:</h3><br/><table class=\"wandb\"><tr><td>epoch/accuracy</td><td>0.80092</td></tr><tr><td>epoch/auc</td><td>0.87421</td></tr><tr><td>epoch/epoch</td><td>25</td></tr><tr><td>epoch/learning_rate</td><td>0.0</td></tr><tr><td>epoch/loss</td><td>0.4476</td></tr><tr><td>epoch/lr</td><td>0.0</td></tr><tr><td>epoch/precision</td><td>0.78467</td></tr><tr><td>epoch/recall</td><td>0.75175</td></tr><tr><td>epoch/val_accuracy</td><td>0.66258</td></tr><tr><td>epoch/val_auc</td><td>0.65682</td></tr><tr><td>epoch/val_loss</td><td>0.64592</td></tr><tr><td>epoch/val_precision</td><td>0.5614</td></tr><tr><td>epoch/val_recall</td><td>0.51613</td></tr></table><br/></div></div>"
      ],
      "text/plain": [
       "<IPython.core.display.HTML object>"
      ]
     },
     "metadata": {},
     "output_type": "display_data"
    },
    {
     "data": {
      "text/html": [
       " View run <strong style=\"color:#cdcd00\">TMNetV2_ResNet</strong> at: <a href='https://wandb.ai/aistudio/Breast-Cancer-Detection-Stage/runs/49vm6t1g' target=\"_blank\">https://wandb.ai/aistudio/Breast-Cancer-Detection-Stage/runs/49vm6t1g</a><br/>Synced 6 W&B file(s), 3 media file(s), 5 artifact file(s) and 0 other file(s)"
      ],
      "text/plain": [
       "<IPython.core.display.HTML object>"
      ]
     },
     "metadata": {},
     "output_type": "display_data"
    },
    {
     "data": {
      "text/html": [
       "Find logs at: <code>./wandb/run-20240213_211351-49vm6t1g/logs</code>"
      ],
      "text/plain": [
       "<IPython.core.display.HTML object>"
      ]
     },
     "metadata": {},
     "output_type": "display_data"
    },
    {
     "name": "stdout",
     "output_type": "stream",
     "text": [
      "# ================================================================================================ #\n",
      "                                          TMNetV2_Xception                                          \n",
      "# ------------------------------------------------------------------------------------------------ #\n",
      "Model: \"model\"\n",
      "_________________________________________________________________\n",
      " Layer (type)                Output Shape              Param #   \n",
      "=================================================================\n",
      " TMNetV2_Xception_input_laye  [(None, 224, 224, 3)]    0         \n",
      " r (InputLayer)                                                  \n",
      "                                                                 \n",
      " tf.math.truediv (TFOpLambda  (None, 224, 224, 3)      0         \n",
      " )                                                               \n",
      "                                                                 \n",
      " tf.math.subtract (TFOpLambd  (None, 224, 224, 3)      0         \n",
      " a)                                                              \n",
      "                                                                 \n",
      " data_augmentation (Sequenti  (None, 224, 224, 3)      0         \n",
      " al)                                                             \n",
      "                                                                 \n",
      " xception (Functional)       (None, None, None, 2048)  20861480  \n",
      "                                                                 \n",
      " TMNetV2_Xception_global_ave  (None, 2048)             0         \n",
      " rage_pooling (GlobalAverage                                     \n",
      " Pooling2D)                                                      \n",
      "                                                                 \n",
      " TMNetV2_Xception_batch_norm  (None, 2048)             8192      \n",
      " alization (BatchNormalizati                                     \n",
      " on)                                                             \n",
      "                                                                 \n",
      " TMNetV2_Xception_dense_1 (D  (None, 1024)             2098176   \n",
      " ense)                                                           \n",
      "                                                                 \n",
      " TMNetV2_Xception_dropout_1   (None, 1024)             0         \n",
      " (Dropout)                                                       \n",
      "                                                                 \n",
      " TMNetV2_Xception_dense_2 (D  (None, 1024)             1049600   \n",
      " ense)                                                           \n",
      "                                                                 \n",
      " TMNetV2_Xception_dropout_2   (None, 1024)             0         \n",
      " (Dropout)                                                       \n",
      "                                                                 \n",
      " TMNetV2_Xception_output_lay  (None, 1)                1025      \n",
      " er (Dense)                                                      \n",
      "                                                                 \n",
      "=================================================================\n",
      "Total params: 24,018,473\n",
      "Trainable params: 3,152,897\n",
      "Non-trainable params: 20,865,576\n",
      "_________________________________________________________________\n",
      "# ------------------------------------------------------------------------------------------------ #\n",
      "\n",
      "\n",
      "                                           TMNetV2Config                                            \n",
      "                                        Activation | sigmoid\n",
      "                                      Output Shape | 1\n",
      "                                            Dense1 | 1024\n",
      "                                          Dropout1 | 0.5\n",
      "                                            Dense2 | 1024\n",
      "                                          Dropout2 | 0.5\n",
      "\n",
      "\n",
      "# ================================================================================================ #\n"
     ]
    },
    {
     "data": {
      "text/html": [
       "wandb version 0.16.3 is available!  To upgrade, please run:\n",
       " $ pip install wandb --upgrade"
      ],
      "text/plain": [
       "<IPython.core.display.HTML object>"
      ]
     },
     "metadata": {},
     "output_type": "display_data"
    },
    {
     "data": {
      "text/html": [
       "Tracking run with wandb version 0.16.2"
      ],
      "text/plain": [
       "<IPython.core.display.HTML object>"
      ]
     },
     "metadata": {},
     "output_type": "display_data"
    },
    {
     "data": {
      "text/html": [
       "Run data is saved locally in <code>/home/john/projects/bcd/wandb/run-20240213_223653-n2ihi5t8</code>"
      ],
      "text/plain": [
       "<IPython.core.display.HTML object>"
      ]
     },
     "metadata": {},
     "output_type": "display_data"
    },
    {
     "data": {
      "text/html": [
       "Syncing run <strong><a href='https://wandb.ai/aistudio/Breast-Cancer-Detection-Stage/runs/n2ihi5t8' target=\"_blank\">TMNetV2_Xception</a></strong> to <a href='https://wandb.ai/aistudio/Breast-Cancer-Detection-Stage' target=\"_blank\">Weights & Biases</a> (<a href='https://wandb.me/run' target=\"_blank\">docs</a>)<br/>"
      ],
      "text/plain": [
       "<IPython.core.display.HTML object>"
      ]
     },
     "metadata": {},
     "output_type": "display_data"
    },
    {
     "data": {
      "text/html": [
       " View project at <a href='https://wandb.ai/aistudio/Breast-Cancer-Detection-Stage' target=\"_blank\">https://wandb.ai/aistudio/Breast-Cancer-Detection-Stage</a>"
      ],
      "text/plain": [
       "<IPython.core.display.HTML object>"
      ]
     },
     "metadata": {},
     "output_type": "display_data"
    },
    {
     "data": {
      "text/html": [
       " View run at <a href='https://wandb.ai/aistudio/Breast-Cancer-Detection-Stage/runs/n2ihi5t8' target=\"_blank\">https://wandb.ai/aistudio/Breast-Cancer-Detection-Stage/runs/n2ihi5t8</a>"
      ],
      "text/plain": [
       "<IPython.core.display.HTML object>"
      ]
     },
     "metadata": {},
     "output_type": "display_data"
    },
    {
     "name": "stdout",
     "output_type": "stream",
     "text": [
      "Epoch 1/50\n",
      "21/21 [==============================] - ETA: 0s - loss: 0.8583 - accuracy: 0.5253 - auc: 0.5448 - precision: 0.4714 - recall: 0.4023\n",
      "Epoch 1: val_accuracy did not improve from 0.71779\n",
      "\n",
      "Epoch 1: val_accuracy did not improve from 0.71779\n",
      "\n",
      "Epoch 1: val_accuracy did not improve from 0.71779\n",
      "\n",
      "Epoch 1: val_accuracy did not improve from 0.71779\n",
      "\n",
      "Epoch 1: val_accuracy did not improve from 0.67485\n",
      "\n",
      "Epoch 1: val_accuracy did not improve from 0.67485\n",
      "\n",
      "Epoch 1: val_accuracy improved from -inf to 0.39877, saving model to models/stage/TMNetV2_Xception-n2ihi5t8.keras\n",
      "21/21 [==============================] - 85s 4s/step - loss: 0.8583 - accuracy: 0.5253 - auc: 0.5448 - precision: 0.4714 - recall: 0.4023 - val_loss: 0.7162 - val_accuracy: 0.3988 - val_auc: 0.5473 - val_precision: 0.3784 - val_recall: 0.9032 - lr: 1.0000e-04\n",
      "Epoch 2/50\n",
      "21/21 [==============================] - ETA: 0s - loss: 0.7728 - accuracy: 0.5804 - auc: 0.5925 - precision: 0.5242 - recall: 0.4545\n",
      "Epoch 2: val_accuracy did not improve from 0.71779\n",
      "\n",
      "Epoch 2: val_accuracy did not improve from 0.71779\n",
      "\n",
      "Epoch 2: val_accuracy did not improve from 0.71779\n",
      "\n",
      "Epoch 2: val_accuracy did not improve from 0.71779\n",
      "\n",
      "Epoch 2: val_accuracy did not improve from 0.67485\n",
      "\n",
      "Epoch 2: val_accuracy did not improve from 0.67485\n",
      "\n",
      "Epoch 2: val_accuracy improved from 0.39877 to 0.53374, saving model to models/stage/TMNetV2_Xception-n2ihi5t8.keras\n",
      "21/21 [==============================] - 79s 4s/step - loss: 0.7728 - accuracy: 0.5804 - auc: 0.5925 - precision: 0.5242 - recall: 0.4545 - val_loss: 0.6864 - val_accuracy: 0.5337 - val_auc: 0.5428 - val_precision: 0.4054 - val_recall: 0.4839 - lr: 1.0000e-04\n",
      "Epoch 3/50\n",
      "21/21 [==============================] - ETA: 0s - loss: 0.7146 - accuracy: 0.6279 - auc: 0.6608 - precision: 0.5754 - recall: 0.5734\n",
      "Epoch 3: val_accuracy did not improve from 0.71779\n",
      "\n",
      "Epoch 3: val_accuracy did not improve from 0.71779\n",
      "\n",
      "Epoch 3: val_accuracy did not improve from 0.71779\n",
      "\n",
      "Epoch 3: val_accuracy did not improve from 0.71779\n",
      "\n",
      "Epoch 3: val_accuracy did not improve from 0.67485\n",
      "\n",
      "Epoch 3: val_accuracy did not improve from 0.67485\n",
      "\n",
      "Epoch 3: val_accuracy did not improve from 0.53374\n",
      "21/21 [==============================] - 74s 3s/step - loss: 0.7146 - accuracy: 0.6279 - auc: 0.6608 - precision: 0.5754 - recall: 0.5734 - val_loss: 0.6914 - val_accuracy: 0.5215 - val_auc: 0.5323 - val_precision: 0.4024 - val_recall: 0.5323 - lr: 1.0000e-04\n",
      "Epoch 4/50\n",
      "21/21 [==============================] - ETA: 0s - loss: 0.6912 - accuracy: 0.6325 - auc: 0.6756 - precision: 0.5846 - recall: 0.5559\n",
      "Epoch 4: val_accuracy did not improve from 0.71779\n",
      "\n",
      "Epoch 4: val_accuracy did not improve from 0.71779\n",
      "\n",
      "Epoch 4: val_accuracy did not improve from 0.71779\n",
      "\n",
      "Epoch 4: val_accuracy did not improve from 0.71779\n",
      "\n",
      "Epoch 4: val_accuracy did not improve from 0.67485\n",
      "\n",
      "Epoch 4: val_accuracy did not improve from 0.67485\n",
      "\n",
      "Epoch 4: val_accuracy did not improve from 0.53374\n",
      "21/21 [==============================] - 75s 3s/step - loss: 0.6912 - accuracy: 0.6325 - auc: 0.6756 - precision: 0.5846 - recall: 0.5559 - val_loss: 0.6830 - val_accuracy: 0.5276 - val_auc: 0.5521 - val_precision: 0.3944 - val_recall: 0.4516 - lr: 1.0000e-04\n",
      "Epoch 5/50\n",
      "21/21 [==============================] - ETA: 0s - loss: 0.6672 - accuracy: 0.6524 - auc: 0.6940 - precision: 0.6139 - recall: 0.5559\n",
      "Epoch 5: val_accuracy did not improve from 0.71779\n",
      "\n",
      "Epoch 5: val_accuracy did not improve from 0.71779\n",
      "\n",
      "Epoch 5: val_accuracy did not improve from 0.71779\n",
      "\n",
      "Epoch 5: val_accuracy did not improve from 0.71779\n",
      "\n",
      "Epoch 5: val_accuracy did not improve from 0.67485\n",
      "\n",
      "Epoch 5: val_accuracy did not improve from 0.67485\n",
      "\n",
      "Epoch 5: val_accuracy did not improve from 0.53374\n",
      "21/21 [==============================] - 74s 3s/step - loss: 0.6672 - accuracy: 0.6524 - auc: 0.6940 - precision: 0.6139 - recall: 0.5559 - val_loss: 0.6842 - val_accuracy: 0.5337 - val_auc: 0.5473 - val_precision: 0.4054 - val_recall: 0.4839 - lr: 1.0000e-04\n",
      "Epoch 6/50\n",
      "21/21 [==============================] - ETA: 0s - loss: 0.5907 - accuracy: 0.6907 - auc: 0.7557 - precision: 0.6567 - recall: 0.6154\n",
      "Epoch 6: val_accuracy did not improve from 0.71779\n",
      "\n",
      "Epoch 6: val_accuracy did not improve from 0.71779\n",
      "\n",
      "Epoch 6: val_accuracy did not improve from 0.71779\n",
      "\n",
      "Epoch 6: val_accuracy did not improve from 0.71779\n",
      "\n",
      "Epoch 6: val_accuracy did not improve from 0.67485\n",
      "\n",
      "Epoch 6: val_accuracy did not improve from 0.67485\n",
      "\n",
      "Epoch 6: val_accuracy improved from 0.53374 to 0.55828, saving model to models/stage/TMNetV2_Xception-n2ihi5t8.keras\n",
      "21/21 [==============================] - 75s 3s/step - loss: 0.5907 - accuracy: 0.6907 - auc: 0.7557 - precision: 0.6567 - recall: 0.6154 - val_loss: 0.6816 - val_accuracy: 0.5583 - val_auc: 0.5470 - val_precision: 0.4194 - val_recall: 0.4194 - lr: 1.0000e-04\n",
      "Epoch 7/50\n",
      "21/21 [==============================] - ETA: 0s - loss: 0.6166 - accuracy: 0.6677 - auc: 0.7372 - precision: 0.6292 - recall: 0.5874\n",
      "Epoch 7: val_accuracy did not improve from 0.71779\n",
      "\n",
      "Epoch 7: val_accuracy did not improve from 0.71779\n",
      "\n",
      "Epoch 7: val_accuracy did not improve from 0.71779\n",
      "\n",
      "Epoch 7: val_accuracy did not improve from 0.71779\n",
      "\n",
      "Epoch 7: val_accuracy did not improve from 0.67485\n",
      "\n",
      "Epoch 7: val_accuracy did not improve from 0.67485\n",
      "\n",
      "Epoch 7: val_accuracy did not improve from 0.55828\n",
      "21/21 [==============================] - 75s 3s/step - loss: 0.6166 - accuracy: 0.6677 - auc: 0.7372 - precision: 0.6292 - recall: 0.5874 - val_loss: 0.6820 - val_accuracy: 0.5337 - val_auc: 0.5588 - val_precision: 0.3939 - val_recall: 0.4194 - lr: 1.0000e-04\n",
      "Epoch 8/50\n",
      "21/21 [==============================] - ETA: 0s - loss: 0.6064 - accuracy: 0.6692 - auc: 0.7448 - precision: 0.6434 - recall: 0.5490\n",
      "Epoch 8: val_accuracy did not improve from 0.71779\n",
      "\n",
      "Epoch 8: val_accuracy did not improve from 0.71779\n",
      "\n",
      "Epoch 8: val_accuracy did not improve from 0.71779\n",
      "\n",
      "Epoch 8: val_accuracy did not improve from 0.71779\n",
      "\n",
      "Epoch 8: val_accuracy did not improve from 0.67485\n",
      "\n",
      "Epoch 8: val_accuracy did not improve from 0.67485\n",
      "\n",
      "Epoch 8: val_accuracy did not improve from 0.55828\n",
      "21/21 [==============================] - 80s 4s/step - loss: 0.6064 - accuracy: 0.6692 - auc: 0.7448 - precision: 0.6434 - recall: 0.5490 - val_loss: 0.6832 - val_accuracy: 0.5276 - val_auc: 0.5544 - val_precision: 0.3944 - val_recall: 0.4516 - lr: 1.0000e-04\n",
      "Epoch 9/50\n",
      "21/21 [==============================] - ETA: 0s - loss: 0.5389 - accuracy: 0.7381 - auc: 0.8104 - precision: 0.7220 - recall: 0.6538\n",
      "Epoch 9: val_accuracy did not improve from 0.71779\n",
      "\n",
      "Epoch 9: val_accuracy did not improve from 0.71779\n",
      "\n",
      "Epoch 9: val_accuracy did not improve from 0.71779\n",
      "\n",
      "Epoch 9: val_accuracy did not improve from 0.71779\n",
      "\n",
      "Epoch 9: val_accuracy did not improve from 0.67485\n",
      "\n",
      "Epoch 9: val_accuracy did not improve from 0.67485\n",
      "\n",
      "Epoch 9: val_accuracy improved from 0.55828 to 0.57669, saving model to models/stage/TMNetV2_Xception-n2ihi5t8.keras\n",
      "21/21 [==============================] - 87s 4s/step - loss: 0.5389 - accuracy: 0.7381 - auc: 0.8104 - precision: 0.7220 - recall: 0.6538 - val_loss: 0.6751 - val_accuracy: 0.5767 - val_auc: 0.5813 - val_precision: 0.4478 - val_recall: 0.4839 - lr: 1.0000e-04\n",
      "Epoch 10/50\n",
      "21/21 [==============================] - ETA: 0s - loss: 0.5071 - accuracy: 0.7596 - auc: 0.8404 - precision: 0.7115 - recall: 0.7587\n",
      "Epoch 10: val_accuracy did not improve from 0.71779\n",
      "\n",
      "Epoch 10: val_accuracy did not improve from 0.71779\n",
      "\n",
      "Epoch 10: val_accuracy did not improve from 0.71779\n",
      "\n",
      "Epoch 10: val_accuracy did not improve from 0.71779\n",
      "\n",
      "Epoch 10: val_accuracy did not improve from 0.67485\n",
      "\n",
      "Epoch 10: val_accuracy did not improve from 0.67485\n",
      "\n",
      "Epoch 10: val_accuracy improved from 0.57669 to 0.58896, saving model to models/stage/TMNetV2_Xception-n2ihi5t8.keras\n",
      "21/21 [==============================] - 87s 4s/step - loss: 0.5071 - accuracy: 0.7596 - auc: 0.8404 - precision: 0.7115 - recall: 0.7587 - val_loss: 0.6699 - val_accuracy: 0.5890 - val_auc: 0.5761 - val_precision: 0.4490 - val_recall: 0.3548 - lr: 1.0000e-04\n",
      "Epoch 11/50\n",
      "21/21 [==============================] - ETA: 0s - loss: 0.4889 - accuracy: 0.7519 - auc: 0.8402 - precision: 0.7422 - recall: 0.6643\n",
      "Epoch 11: val_accuracy did not improve from 0.71779\n",
      "\n",
      "Epoch 11: val_accuracy did not improve from 0.71779\n",
      "\n",
      "Epoch 11: val_accuracy did not improve from 0.71779\n",
      "\n",
      "Epoch 11: val_accuracy did not improve from 0.71779\n",
      "\n",
      "Epoch 11: val_accuracy did not improve from 0.67485\n",
      "\n",
      "Epoch 11: val_accuracy did not improve from 0.67485\n",
      "\n",
      "Epoch 11: val_accuracy did not improve from 0.58896\n",
      "21/21 [==============================] - 83s 4s/step - loss: 0.4889 - accuracy: 0.7519 - auc: 0.8402 - precision: 0.7422 - recall: 0.6643 - val_loss: 0.6894 - val_accuracy: 0.5583 - val_auc: 0.5779 - val_precision: 0.4342 - val_recall: 0.5323 - lr: 1.0000e-04\n",
      "Epoch 12/50\n",
      "21/21 [==============================] - ETA: 0s - loss: 0.5068 - accuracy: 0.7626 - auc: 0.8276 - precision: 0.7399 - recall: 0.7063\n",
      "Epoch 12: val_accuracy did not improve from 0.71779\n",
      "\n",
      "Epoch 12: val_accuracy did not improve from 0.71779\n",
      "\n",
      "Epoch 12: val_accuracy did not improve from 0.71779\n",
      "\n",
      "Epoch 12: val_accuracy did not improve from 0.71779\n",
      "\n",
      "Epoch 12: val_accuracy did not improve from 0.67485\n",
      "\n",
      "Epoch 12: val_accuracy did not improve from 0.67485\n",
      "\n",
      "Epoch 12: val_accuracy did not improve from 0.58896\n",
      "21/21 [==============================] - 85s 4s/step - loss: 0.5068 - accuracy: 0.7626 - auc: 0.8276 - precision: 0.7399 - recall: 0.7063 - val_loss: 0.6823 - val_accuracy: 0.5583 - val_auc: 0.5698 - val_precision: 0.4167 - val_recall: 0.4032 - lr: 1.0000e-04\n",
      "Epoch 13/50\n",
      "21/21 [==============================] - ETA: 0s - loss: 0.4368 - accuracy: 0.7810 - auc: 0.8780 - precision: 0.7509 - recall: 0.7483\n",
      "Epoch 13: ReduceLROnPlateau reducing learning rate to 4.999999873689376e-05.\n",
      "\n",
      "Epoch 13: val_accuracy did not improve from 0.71779\n",
      "\n",
      "Epoch 13: val_accuracy did not improve from 0.71779\n",
      "\n",
      "Epoch 13: val_accuracy did not improve from 0.71779\n",
      "\n",
      "Epoch 13: val_accuracy did not improve from 0.71779\n",
      "\n",
      "Epoch 13: val_accuracy did not improve from 0.67485\n",
      "\n",
      "Epoch 13: val_accuracy did not improve from 0.67485\n",
      "\n",
      "Epoch 13: val_accuracy improved from 0.58896 to 0.59509, saving model to models/stage/TMNetV2_Xception-n2ihi5t8.keras\n",
      "21/21 [==============================] - 82s 4s/step - loss: 0.4368 - accuracy: 0.7810 - auc: 0.8780 - precision: 0.7509 - recall: 0.7483 - val_loss: 0.6827 - val_accuracy: 0.5951 - val_auc: 0.5753 - val_precision: 0.4667 - val_recall: 0.4516 - lr: 1.0000e-04\n",
      "Epoch 14/50\n",
      "21/21 [==============================] - ETA: 0s - loss: 0.4168 - accuracy: 0.7963 - auc: 0.8877 - precision: 0.7931 - recall: 0.7238\n",
      "Epoch 14: val_accuracy did not improve from 0.71779\n",
      "\n",
      "Epoch 14: val_accuracy did not improve from 0.71779\n",
      "\n",
      "Epoch 14: val_accuracy did not improve from 0.71779\n",
      "\n",
      "Epoch 14: val_accuracy did not improve from 0.71779\n",
      "\n",
      "Epoch 14: val_accuracy did not improve from 0.67485\n",
      "\n",
      "Epoch 14: val_accuracy did not improve from 0.67485\n",
      "\n",
      "Epoch 14: val_accuracy did not improve from 0.59509\n",
      "21/21 [==============================] - 80s 4s/step - loss: 0.4168 - accuracy: 0.7963 - auc: 0.8877 - precision: 0.7931 - recall: 0.7238 - val_loss: 0.6823 - val_accuracy: 0.5828 - val_auc: 0.5846 - val_precision: 0.4516 - val_recall: 0.4516 - lr: 5.0000e-05\n",
      "Epoch 15/50\n",
      "21/21 [==============================] - ETA: 0s - loss: 0.4497 - accuracy: 0.7779 - auc: 0.8650 - precision: 0.7621 - recall: 0.7168\n",
      "Epoch 15: val_accuracy did not improve from 0.71779\n",
      "\n",
      "Epoch 15: val_accuracy did not improve from 0.71779\n",
      "\n",
      "Epoch 15: val_accuracy did not improve from 0.71779\n",
      "\n",
      "Epoch 15: val_accuracy did not improve from 0.71779\n",
      "\n",
      "Epoch 15: val_accuracy did not improve from 0.67485\n",
      "\n",
      "Epoch 15: val_accuracy did not improve from 0.67485\n",
      "\n",
      "Epoch 15: val_accuracy did not improve from 0.59509\n",
      "21/21 [==============================] - 80s 4s/step - loss: 0.4497 - accuracy: 0.7779 - auc: 0.8650 - precision: 0.7621 - recall: 0.7168 - val_loss: 0.6890 - val_accuracy: 0.5828 - val_auc: 0.5868 - val_precision: 0.4516 - val_recall: 0.4516 - lr: 5.0000e-05\n",
      "Epoch 16/50\n",
      "21/21 [==============================] - ETA: 0s - loss: 0.4386 - accuracy: 0.7856 - auc: 0.8752 - precision: 0.7589 - recall: 0.7483\n",
      "Epoch 16: ReduceLROnPlateau reducing learning rate to 2.499999936844688e-05.\n",
      "\n",
      "Epoch 16: val_accuracy did not improve from 0.71779\n",
      "\n",
      "Epoch 16: val_accuracy did not improve from 0.71779\n",
      "\n",
      "Epoch 16: val_accuracy did not improve from 0.71779\n",
      "\n",
      "Epoch 16: val_accuracy did not improve from 0.71779\n",
      "\n",
      "Epoch 16: val_accuracy did not improve from 0.67485\n",
      "\n",
      "Epoch 16: val_accuracy did not improve from 0.67485\n",
      "\n",
      "Epoch 16: val_accuracy did not improve from 0.59509\n",
      "21/21 [==============================] - 78s 4s/step - loss: 0.4386 - accuracy: 0.7856 - auc: 0.8752 - precision: 0.7589 - recall: 0.7483 - val_loss: 0.6942 - val_accuracy: 0.5521 - val_auc: 0.5824 - val_precision: 0.4127 - val_recall: 0.4194 - lr: 5.0000e-05\n",
      "Epoch 17/50\n",
      "21/21 [==============================] - ETA: 0s - loss: 0.4058 - accuracy: 0.8178 - auc: 0.8946 - precision: 0.8059 - recall: 0.7692\n",
      "Epoch 17: val_accuracy did not improve from 0.71779\n",
      "\n",
      "Epoch 17: val_accuracy did not improve from 0.71779\n",
      "\n",
      "Epoch 17: val_accuracy did not improve from 0.71779\n",
      "\n",
      "Epoch 17: val_accuracy did not improve from 0.71779\n",
      "\n",
      "Epoch 17: val_accuracy did not improve from 0.67485\n",
      "\n",
      "Epoch 17: val_accuracy did not improve from 0.67485\n",
      "\n",
      "Epoch 17: val_accuracy did not improve from 0.59509\n",
      "21/21 [==============================] - 78s 4s/step - loss: 0.4058 - accuracy: 0.8178 - auc: 0.8946 - precision: 0.8059 - recall: 0.7692 - val_loss: 0.6967 - val_accuracy: 0.5583 - val_auc: 0.5874 - val_precision: 0.4194 - val_recall: 0.4194 - lr: 2.5000e-05\n",
      "Epoch 18/50\n",
      "21/21 [==============================] - ETA: 0s - loss: 0.4052 - accuracy: 0.8025 - auc: 0.8971 - precision: 0.7774 - recall: 0.7692\n",
      "Epoch 18: val_accuracy did not improve from 0.71779\n",
      "\n",
      "Epoch 18: val_accuracy did not improve from 0.71779\n",
      "\n",
      "Epoch 18: val_accuracy did not improve from 0.71779\n",
      "\n",
      "Epoch 18: val_accuracy did not improve from 0.71779\n",
      "\n",
      "Epoch 18: val_accuracy did not improve from 0.67485\n",
      "\n",
      "Epoch 18: val_accuracy did not improve from 0.67485\n",
      "\n",
      "Epoch 18: val_accuracy did not improve from 0.59509\n",
      "21/21 [==============================] - 76s 3s/step - loss: 0.4052 - accuracy: 0.8025 - auc: 0.8971 - precision: 0.7774 - recall: 0.7692 - val_loss: 0.6956 - val_accuracy: 0.5767 - val_auc: 0.5922 - val_precision: 0.4364 - val_recall: 0.3871 - lr: 2.5000e-05\n",
      "Epoch 19/50\n",
      "21/21 [==============================] - ETA: 0s - loss: 0.3878 - accuracy: 0.8315 - auc: 0.9052 - precision: 0.8235 - recall: 0.7832\n",
      "Epoch 19: ReduceLROnPlateau reducing learning rate to 1.249999968422344e-05.\n",
      "\n",
      "Epoch 19: val_accuracy did not improve from 0.71779\n",
      "\n",
      "Epoch 19: val_accuracy did not improve from 0.71779\n",
      "\n",
      "Epoch 19: val_accuracy did not improve from 0.71779\n",
      "\n",
      "Epoch 19: val_accuracy did not improve from 0.71779\n",
      "\n",
      "Epoch 19: val_accuracy did not improve from 0.67485\n",
      "\n",
      "Epoch 19: val_accuracy did not improve from 0.67485\n",
      "\n",
      "Epoch 19: val_accuracy did not improve from 0.59509\n",
      "21/21 [==============================] - 76s 3s/step - loss: 0.3878 - accuracy: 0.8315 - auc: 0.9052 - precision: 0.8235 - recall: 0.7832 - val_loss: 0.7018 - val_accuracy: 0.5767 - val_auc: 0.5973 - val_precision: 0.4407 - val_recall: 0.4194 - lr: 2.5000e-05\n",
      "Epoch 20/50\n",
      "21/21 [==============================] - ETA: 0s - loss: 0.4281 - accuracy: 0.8086 - auc: 0.8831 - precision: 0.7766 - recall: 0.7902Restoring model weights from the end of the best epoch: 10.\n",
      "\n",
      "Epoch 20: val_accuracy did not improve from 0.71779\n",
      "\n",
      "Epoch 20: val_accuracy did not improve from 0.71779\n",
      "\n",
      "Epoch 20: val_accuracy did not improve from 0.71779\n",
      "\n",
      "Epoch 20: val_accuracy did not improve from 0.71779\n",
      "\n",
      "Epoch 20: val_accuracy did not improve from 0.67485\n",
      "\n",
      "Epoch 20: val_accuracy did not improve from 0.67485\n",
      "\n",
      "Epoch 20: val_accuracy did not improve from 0.59509\n",
      "21/21 [==============================] - 78s 4s/step - loss: 0.4281 - accuracy: 0.8086 - auc: 0.8831 - precision: 0.7766 - recall: 0.7902 - val_loss: 0.7029 - val_accuracy: 0.5767 - val_auc: 0.5993 - val_precision: 0.4407 - val_recall: 0.4194 - lr: 1.2500e-05\n",
      "Epoch 20: early stopping\n"
     ]
    },
    {
     "name": "stderr",
     "output_type": "stream",
     "text": [
      "\u001b[34m\u001b[1mwandb\u001b[0m: Waiting for artifact run-n2ihi5t8-TMNetV2_Xception-n2ihi5t8.keras to be committed...\n"
     ]
    },
    {
     "data": {
      "application/vnd.jupyter.widget-view+json": {
       "model_id": "2eddbfd4b29a40e584a49c5435a2ac67",
       "version_major": 2,
       "version_minor": 0
      },
      "text/plain": [
       "VBox(children=(Label(value='0.410 MB of 231.939 MB uploaded\\r'), FloatProgress(value=0.0017663544194410595, ma…"
      ]
     },
     "metadata": {},
     "output_type": "display_data"
    },
    {
     "name": "stderr",
     "output_type": "stream",
     "text": [
      "\n",
      "\u001b[34m\u001b[1mwandb\u001b[0m: Committed artifact aistudio/Breast-Cancer-Detection-Stage/run-n2ihi5t8-TMNetV2_Xception-n2ihi5t8.keras:v0\n",
      "wandb: WARNING Source type is set to 'repo' but some required information is missing from the environment. A job will not be created from this run. See https://docs.wandb.ai/guides/launch/create-job\n"
     ]
    },
    {
     "data": {
      "text/html": [
       "<style>\n",
       "    table.wandb td:nth-child(1) { padding: 0 10px; text-align: left ; width: auto;} td:nth-child(2) {text-align: left ; width: 100%}\n",
       "    .wandb-row { display: flex; flex-direction: row; flex-wrap: wrap; justify-content: flex-start; width: 100% }\n",
       "    .wandb-col { display: flex; flex-direction: column; flex-basis: 100%; flex: 1; padding: 10px; }\n",
       "    </style>\n",
       "<div class=\"wandb-row\"><div class=\"wandb-col\"><h3>Run history:</h3><br/><table class=\"wandb\"><tr><td>epoch/accuracy</td><td>▁▁▂▂▃▃▃▃▄▄▅▅▄▄▄▄▆▆▆▆▆▆▆▆▇▇▇▇▇▇▇▇██▇▇██▇▇</td></tr><tr><td>epoch/auc</td><td>▁▁▂▂▃▃▄▄▄▄▅▅▅▅▅▅▆▆▇▇▇▇▆▆▇▇██▇▇▇▇████████</td></tr><tr><td>epoch/epoch</td><td>▁▁▁▁▂▂▂▂▂▂▃▃▃▃▄▄▄▄▄▄▅▅▅▅▅▅▆▆▆▆▇▇▇▇▇▇████</td></tr><tr><td>epoch/learning_rate</td><td>████████████████████████▄▄▄▄▄▄▂▂▂▂▂▂▁▁▁▁</td></tr><tr><td>epoch/loss</td><td>██▇▇▆▆▆▆▅▅▄▄▄▄▄▄▃▃▃▃▃▃▃▃▂▂▁▁▂▂▂▂▁▁▁▁▁▁▂▂</td></tr><tr><td>epoch/lr</td><td>██████████████████████████▄▄▄▄▄▄▂▂▂▂▂▂▁▁</td></tr><tr><td>epoch/precision</td><td>▁▁▂▂▃▃▃▃▄▄▅▅▄▄▄▄▆▆▆▆▆▆▆▆▇▇▇▇▇▇▇▇██▇▇██▇▇</td></tr><tr><td>epoch/recall</td><td>▁▁▂▂▄▄▄▄▄▄▅▅▄▄▄▄▆▆▇▇▆▆▆▆▇▇▇▇▇▇▇▇████████</td></tr><tr><td>epoch/val_accuracy</td><td>▁▁▆▆▅▅▆▆▆▆▇▇▆▆▆▆▇▇██▇▇▇▇██████▆▆▇▇▇▇▇▇▇▇</td></tr><tr><td>epoch/val_auc</td><td>▃▃▂▂▁▁▃▃▃▃▃▃▄▄▃▃▆▆▆▆▆▆▅▅▅▅▆▆▇▇▆▆▇▇▇▇████</td></tr><tr><td>epoch/val_loss</td><td>██▃▃▄▄▃▃▃▃▃▃▃▃▃▃▂▂▁▁▄▄▃▃▃▃▃▃▄▄▅▅▅▅▅▅▆▆▆▆</td></tr><tr><td>epoch/val_precision</td><td>▁▁▃▃▃▃▂▂▃▃▄▄▂▂▂▂▇▇▇▇▅▅▄▄██▇▇▇▇▄▄▄▄▆▆▆▆▆▆</td></tr><tr><td>epoch/val_recall</td><td>██▃▃▃▃▂▂▃▃▂▂▂▂▂▂▃▃▁▁▃▃▂▂▂▂▂▂▂▂▂▂▂▂▁▁▂▂▂▂</td></tr></table><br/></div><div class=\"wandb-col\"><h3>Run summary:</h3><br/><table class=\"wandb\"><tr><td>epoch/accuracy</td><td>0.80858</td></tr><tr><td>epoch/auc</td><td>0.88314</td></tr><tr><td>epoch/epoch</td><td>19</td></tr><tr><td>epoch/learning_rate</td><td>1e-05</td></tr><tr><td>epoch/loss</td><td>0.42806</td></tr><tr><td>epoch/lr</td><td>1e-05</td></tr><tr><td>epoch/precision</td><td>0.77663</td></tr><tr><td>epoch/recall</td><td>0.79021</td></tr><tr><td>epoch/val_accuracy</td><td>0.57669</td></tr><tr><td>epoch/val_auc</td><td>0.59933</td></tr><tr><td>epoch/val_loss</td><td>0.70285</td></tr><tr><td>epoch/val_precision</td><td>0.44068</td></tr><tr><td>epoch/val_recall</td><td>0.41935</td></tr></table><br/></div></div>"
      ],
      "text/plain": [
       "<IPython.core.display.HTML object>"
      ]
     },
     "metadata": {},
     "output_type": "display_data"
    },
    {
     "data": {
      "text/html": [
       " View run <strong style=\"color:#cdcd00\">TMNetV2_Xception</strong> at: <a href='https://wandb.ai/aistudio/Breast-Cancer-Detection-Stage/runs/n2ihi5t8' target=\"_blank\">https://wandb.ai/aistudio/Breast-Cancer-Detection-Stage/runs/n2ihi5t8</a><br/>Synced 6 W&B file(s), 3 media file(s), 5 artifact file(s) and 0 other file(s)"
      ],
      "text/plain": [
       "<IPython.core.display.HTML object>"
      ]
     },
     "metadata": {},
     "output_type": "display_data"
    },
    {
     "data": {
      "text/html": [
       "Find logs at: <code>./wandb/run-20240213_223653-n2ihi5t8/logs</code>"
      ],
      "text/plain": [
       "<IPython.core.display.HTML object>"
      ]
     },
     "metadata": {},
     "output_type": "display_data"
    }
   ],
   "source": [
    "for base_model in base_models:\n",
    "    network = factory.create(base_model=base_model)\n",
    "    experiment = FeatureExtractionExperiment(network=network, config=config, optimizer=optimizer, repo=repo, callbacks=callbacks, metrics=metrics, tags=[network.architecture, base_model.name], force=False)\n",
    "    experiment.run(train_ds=train_ds, val_ds=val_ds)\n"
   ]
  }
 ],
 "metadata": {
  "kernelspec": {
   "display_name": "bcd",
   "language": "python",
   "name": "python3"
  },
  "language_info": {
   "codemirror_mode": {
    "name": "ipython",
    "version": 3
   },
   "file_extension": ".py",
   "mimetype": "text/x-python",
   "name": "python",
   "nbconvert_exporter": "python",
   "pygments_lexer": "ipython3",
   "version": "3.10.12"
  }
 },
 "nbformat": 4,
 "nbformat_minor": 2
}
