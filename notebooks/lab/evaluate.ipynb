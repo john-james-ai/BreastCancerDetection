{
 "cells": [
  {
   "cell_type": "markdown",
   "metadata": {},
   "source": [
    "# Evaluation Lab"
   ]
  },
  {
   "cell_type": "code",
   "execution_count": 1,
   "metadata": {},
   "outputs": [],
   "source": [
    "from bcd.config import Config\n",
    "from bcd.container import BCDContainer\n",
    "from bcd.explore.methods.flow.evaluate import Evaluator"
   ]
  },
  {
   "cell_type": "code",
   "execution_count": 2,
   "metadata": {
    "tags": [
     "remove-cell"
    ]
   },
   "outputs": [],
   "source": [
    "Config.set_log_level('INFO')\n",
    "Config.set_mode('exp')"
   ]
  },
  {
   "cell_type": "code",
   "execution_count": 3,
   "metadata": {},
   "outputs": [],
   "source": [
    "container = BCDContainer()\n",
    "container.init_resources()\n",
    "container.wire(\n",
    "    packages=[\n",
    "        \"bcd.dal.repo\", \"bcd.explore.methods.experiment\", \"bcd.dal.io\"\n",
    "    ]\n",
    ")\n",
    "uow = container.dal.uow()"
   ]
  },
  {
   "cell_type": "code",
   "execution_count": 4,
   "metadata": {},
   "outputs": [
    {
     "name": "stderr",
     "output_type": "stream",
     "text": [
      "tests: 100%|██████████| 9/9 [00:30<00:00,  3.36s/it]\n",
      "tests: 100%|██████████| 9/9 [00:32<00:00,  3.59s/it]\n",
      "tests: 100%|██████████| 9/9 [00:32<00:00,  3.66s/it]\n",
      "tests: 100%|██████████| 9/9 [00:28<00:00,  3.17s/it]\n",
      "tests: 100%|██████████| 9/9 [00:32<00:00,  3.66s/it]\n",
      "tests: 100%|██████████| 9/9 [00:33<00:00,  3.67s/it]\n",
      "tests: 100%|██████████| 9/9 [00:29<00:00,  3.27s/it]\n",
      "tests: 100%|██████████| 9/9 [00:56<00:00,  6.28s/it]\n",
      "tests: 100%|██████████| 9/9 [00:38<00:00,  4.26s/it]\n",
      "tests: 100%|██████████| 9/9 [00:44<00:00,  4.99s/it]\n",
      "tests: 100%|██████████| 9/9 [01:01<00:00,  6.79s/it]]\n",
      "tests: 100%|██████████| 9/9 [00:52<00:00,  5.79s/it]]\n",
      "tests: 100%|██████████| 9/9 [00:35<00:00,  3.97s/it]]\n",
      "tests: 100%|██████████| 9/9 [00:31<00:00,  3.54s/it]]\n",
      "tests: 100%|██████████| 9/9 [00:33<00:00,  3.67s/it]]\n",
      "tests: 100%|██████████| 9/9 [00:32<00:00,  3.59s/it]]\n",
      "tests: 100%|██████████| 9/9 [00:55<00:00,  6.13s/it]]\n",
      "tests: 100%|██████████| 9/9 [00:27<00:00,  3.03s/it]]\n",
      "tests: 100%|██████████| 9/9 [00:54<00:00,  6.09s/it]]\n",
      "tests: 100%|██████████| 9/9 [00:33<00:00,  3.72s/it]]\n",
      "tests: 100%|██████████| 9/9 [00:29<00:00,  3.31s/it]]\n",
      "tests: 100%|██████████| 9/9 [00:54<00:00,  6.07s/it]]\n",
      "tests: 100%|██████████| 9/9 [00:50<00:00,  5.59s/it]]\n",
      "tests: 100%|██████████| 9/9 [00:42<00:00,  4.72s/it]]\n",
      "tests: 100%|██████████| 9/9 [00:52<00:00,  5.81s/it]]\n",
      "tests: 100%|██████████| 9/9 [00:35<00:00,  3.97s/it]]\n",
      "tests: 100%|██████████| 9/9 [00:47<00:00,  5.31s/it]]\n",
      "tests: 100%|██████████| 9/9 [00:29<00:00,  3.23s/it]]\n",
      "tests: 100%|██████████| 9/9 [01:21<00:00,  9.03s/it]]\n",
      "tests: 100%|██████████| 9/9 [00:48<00:00,  5.44s/it]]\n",
      "tests: 100%|██████████| 9/9 [00:46<00:00,  5.15s/it]]\n",
      "tests: 100%|██████████| 9/9 [00:36<00:00,  4.10s/it]]\n",
      "tests: 100%|██████████| 9/9 [00:30<00:00,  3.35s/it]]\n",
      "tests: 100%|██████████| 9/9 [00:51<00:00,  5.71s/it]]\n",
      "tests: 100%|██████████| 9/9 [00:38<00:00,  4.33s/it]]\n",
      "tests: 100%|██████████| 9/9 [00:50<00:00,  5.64s/it]]\n",
      "case: 100%|██████████| 36/36 [25:08<00:00, 41.90s/it]\n"
     ]
    }
   ],
   "source": [
    "ev = Evaluator(stage_id=1, uow=uow)\n",
    "ev.run()"
   ]
  }
 ],
 "metadata": {
  "kernelspec": {
   "display_name": "bcd",
   "language": "python",
   "name": "python3"
  },
  "language_info": {
   "codemirror_mode": {
    "name": "ipython",
    "version": 3
   },
   "file_extension": ".py",
   "mimetype": "text/x-python",
   "name": "python",
   "nbconvert_exporter": "python",
   "pygments_lexer": "ipython3",
   "version": "3.10.12"
  }
 },
 "nbformat": 4,
 "nbformat_minor": 2
}
