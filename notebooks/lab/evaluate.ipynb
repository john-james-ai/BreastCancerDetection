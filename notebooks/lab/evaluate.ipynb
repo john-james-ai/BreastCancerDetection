{
 "cells": [
  {
   "cell_type": "markdown",
   "metadata": {},
   "source": [
    "# Evaluation Lab"
   ]
  },
  {
   "cell_type": "code",
   "execution_count": null,
   "metadata": {},
   "outputs": [],
   "source": [
    "from bcd.config import Config\n",
    "from bcd.container import BCDContainer\n",
    "from bcd.preprocess.image.flow.evaluate import Evaluator"
   ]
  },
  {
   "cell_type": "code",
   "execution_count": null,
   "metadata": {
    "tags": [
     "remove-cell"
    ]
   },
   "outputs": [],
   "source": [
    "Config.set_log_level('INFO')\n",
    "Config.set_mode('exp')"
   ]
  },
  {
   "cell_type": "code",
   "execution_count": null,
   "metadata": {},
   "outputs": [],
   "source": [
    "container = BCDContainer()\n",
    "container.init_resources()\n",
    "container.wire(\n",
    "    packages=[\n",
    "        \"bcd.dal.repo\", \"bcd.preprocess.image.experiment\", \"bcd.dal.io\"\n",
    "    ]\n",
    ")\n",
    "uow = container.dal.uow()"
   ]
  },
  {
   "cell_type": "code",
   "execution_count": null,
   "metadata": {},
   "outputs": [],
   "source": [
    "ev = Evaluator(stage_id=1, uow=uow)\n",
    "ev.run()"
   ]
  }
 ],
 "metadata": {
  "language_info": {
   "name": "python"
  }
 },
 "nbformat": 4,
 "nbformat_minor": 2
}
