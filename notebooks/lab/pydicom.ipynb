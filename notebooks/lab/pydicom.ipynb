{
 "cells": [
  {
   "cell_type": "code",
   "execution_count": 4,
   "metadata": {},
   "outputs": [],
   "source": [
    "import pydicom\n"
   ]
  },
  {
   "cell_type": "code",
   "execution_count": 5,
   "metadata": {},
   "outputs": [],
   "source": [
    "rawcc = \"data/raw/CBIS-DDSM/Calc-Test_P_00100_RIGHT_CC/08-29-2017-DDSM-99985/1.000000-full mammogram images-10348/1-1.dcm\"\n",
    "rawcc2 = \"data/raw/CBIS-DDSM/Calc-Test_P_00100_RIGHT_CC_1/08-29-2017-DDSM-29651/1.000000-ROI mask images-97035/1-2.dcm\"\n",
    "suspect = \"data/raw/CBIS-DDSM/Mass-Training_P_01382_LEFT_MLO/07-20-2016-DDSM-93921/1.000000-full mammogram images-05891/1-1.dcm\""
   ]
  },
  {
   "cell_type": "code",
   "execution_count": 6,
   "metadata": {},
   "outputs": [
    {
     "data": {
      "text/plain": [
       "Dataset.file_meta -------------------------------\n",
       "(0002, 0000) File Meta Information Group Length  UL: 194\n",
       "(0002, 0001) File Meta Information Version       OB: b'\\x00\\x01'\n",
       "(0002, 0002) Media Storage SOP Class UID         UI: Secondary Capture Image Storage\n",
       "(0002, 0003) Media Storage SOP Instance UID      UI: 1.3.6.1.4.1.9590.100.1.2.159387980611269648422926227214073504386\n",
       "(0002, 0010) Transfer Syntax UID                 UI: Implicit VR Little Endian\n",
       "(0002, 0012) Implementation Class UID            UI: 1.2.40.0.13.1.1.1\n",
       "(0002, 0013) Implementation Version Name         SH: 'dcm4che-1.4.35'\n",
       "-------------------------------------------------\n",
       "(0008, 0005) Specific Character Set              CS: 'ISO_IR 100'\n",
       "(0008, 0016) SOP Class UID                       UI: Secondary Capture Image Storage\n",
       "(0008, 0018) SOP Instance UID                    UI: 1.3.6.1.4.1.9590.100.1.2.159387980611269648422926227214073504386\n",
       "(0008, 0020) Study Date                          DA: ''\n",
       "(0008, 0023) Content Date                        DA: '20160503'\n",
       "(0008, 0030) Study Time                          TM: ''\n",
       "(0008, 0033) Content Time                        TM: '110547.033000'\n",
       "(0008, 0050) Accession Number                    SH: ''\n",
       "(0008, 0060) Modality                            CS: 'MG'\n",
       "(0008, 0064) Conversion Type                     CS: 'WSD'\n",
       "(0008, 0090) Referring Physician's Name          PN: ''\n",
       "(0010, 0010) Patient's Name                      PN: 'P_00100^P_00100'\n",
       "(0010, 0020) Patient ID                          LO: 'P_00100_RIGHT_CC_1.dcm'\n",
       "(0010, 0030) Patient's Birth Date                DA: ''\n",
       "(0010, 0040) Patient's Sex                       CS: ''\n",
       "(0018, 0015) Body Part Examined                  CS: 'Right Breast'\n",
       "(0018, 1016) Secondary Capture Device Manufactur LO: 'MathWorks'\n",
       "(0018, 1018) Secondary Capture Device Manufactur LO: 'MATLAB'\n",
       "(0020, 000d) Study Instance UID                  UI: 1.3.6.1.4.1.9590.100.1.2.207198724713893842216305292043033029651\n",
       "(0020, 000e) Series Instance UID                 UI: 1.3.6.1.4.1.9590.100.1.2.416175242512972515029128682820201897035\n",
       "(0020, 0010) Study ID                            SH: 'DDSM'\n",
       "(0020, 0011) Series Number                       IS: '1'\n",
       "(0020, 0013) Instance Number                     IS: '1'\n",
       "(0020, 0020) Patient Orientation                 CS: 'CC'\n",
       "(0028, 0002) Samples per Pixel                   US: 1\n",
       "(0028, 0004) Photometric Interpretation          CS: 'MONOCHROME2'\n",
       "(0028, 0010) Rows                                US: 4831\n",
       "(0028, 0011) Columns                             US: 2731\n",
       "(0028, 0100) Bits Allocated                      US: 8\n",
       "(0028, 0101) Bits Stored                         US: 8\n",
       "(0028, 0102) High Bit                            US: 7\n",
       "(0028, 0103) Pixel Representation                US: 0\n",
       "(0028, 0106) Smallest Image Pixel Value          US: 0\n",
       "(0028, 0107) Largest Image Pixel Value           US: 255\n",
       "(7fe0, 0010) Pixel Data                          OW: Array of 13193462 elements"
      ]
     },
     "execution_count": 6,
     "metadata": {},
     "output_type": "execute_result"
    }
   ],
   "source": [
    "ds = pydicom.dcmread(rawcc2)\n",
    "ds"
   ]
  },
  {
   "cell_type": "code",
   "execution_count": 7,
   "metadata": {},
   "outputs": [
    {
     "data": {
      "text/plain": [
       "Dataset.file_meta -------------------------------\n",
       "(0002, 0000) File Meta Information Group Length  UL: 192\n",
       "(0002, 0001) File Meta Information Version       OB: b'\\x00\\x01'\n",
       "(0002, 0002) Media Storage SOP Class UID         UI: Secondary Capture Image Storage\n",
       "(0002, 0003) Media Storage SOP Instance UID      UI: 1.3.6.1.4.1.9590.100.1.2.994853711178750420292760930232102965\n",
       "(0002, 0010) Transfer Syntax UID                 UI: Implicit VR Little Endian\n",
       "(0002, 0012) Implementation Class UID            UI: 1.2.40.0.13.1.1.1\n",
       "(0002, 0013) Implementation Version Name         SH: 'dcm4che-1.4.35'\n",
       "-------------------------------------------------\n",
       "(0008, 0005) Specific Character Set              CS: 'ISO_IR 100'\n",
       "(0008, 0016) SOP Class UID                       UI: Secondary Capture Image Storage\n",
       "(0008, 0018) SOP Instance UID                    UI: 1.3.6.1.4.1.9590.100.1.2.994853711178750420292760930232102965\n",
       "(0008, 0020) Study Date                          DA: ''\n",
       "(0008, 0023) Content Date                        DA: '20160503'\n",
       "(0008, 0030) Study Time                          TM: ''\n",
       "(0008, 0033) Content Time                        TM: '110543.476000'\n",
       "(0008, 0050) Accession Number                    SH: ''\n",
       "(0008, 0060) Modality                            CS: 'MG'\n",
       "(0008, 0064) Conversion Type                     CS: 'WSD'\n",
       "(0008, 0090) Referring Physician's Name          PN: ''\n",
       "(0010, 0010) Patient's Name                      PN: 'P_00100^P_00100'\n",
       "(0010, 0020) Patient ID                          LO: 'P_00100_RIGHT_CC.dcm'\n",
       "(0010, 0030) Patient's Birth Date                DA: ''\n",
       "(0010, 0040) Patient's Sex                       CS: ''\n",
       "(0018, 0015) Body Part Examined                  CS: 'Right Breast'\n",
       "(0018, 1016) Secondary Capture Device Manufactur LO: 'MathWorks'\n",
       "(0018, 1018) Secondary Capture Device Manufactur LO: 'MATLAB'\n",
       "(0020, 000d) Study Instance UID                  UI: 1.3.6.1.4.1.9590.100.1.2.230778565512681440620732773312948799985\n",
       "(0020, 000e) Series Instance UID                 UI: 1.3.6.1.4.1.9590.100.1.2.153667468610757963111534821171489110348\n",
       "(0020, 0010) Study ID                            SH: 'DDSM'\n",
       "(0020, 0011) Series Number                       IS: '1'\n",
       "(0020, 0013) Instance Number                     IS: '1'\n",
       "(0020, 0020) Patient Orientation                 CS: 'CC'\n",
       "(0028, 0002) Samples per Pixel                   US: 1\n",
       "(0028, 0004) Photometric Interpretation          CS: 'MONOCHROME2'\n",
       "(0028, 0010) Rows                                US: 4831\n",
       "(0028, 0011) Columns                             US: 2731\n",
       "(0028, 0100) Bits Allocated                      US: 16\n",
       "(0028, 0101) Bits Stored                         US: 16\n",
       "(0028, 0102) High Bit                            US: 15\n",
       "(0028, 0103) Pixel Representation                US: 0\n",
       "(0028, 0106) Smallest Image Pixel Value          US: 0\n",
       "(0028, 0107) Largest Image Pixel Value           US: 65535\n",
       "(7fe0, 0010) Pixel Data                          OW: Array of 26386922 elements"
      ]
     },
     "execution_count": 7,
     "metadata": {},
     "output_type": "execute_result"
    }
   ],
   "source": [
    "pydicom.dcmread(rawcc)"
   ]
  }
 ],
 "metadata": {
  "kernelspec": {
   "display_name": "bcd",
   "language": "python",
   "name": "python3"
  },
  "language_info": {
   "codemirror_mode": {
    "name": "ipython",
    "version": 3
   },
   "file_extension": ".py",
   "mimetype": "text/x-python",
   "name": "python",
   "nbconvert_exporter": "python",
   "pygments_lexer": "ipython3",
   "version": "3.10.12"
  },
  "orig_nbformat": 4
 },
 "nbformat": 4,
 "nbformat_minor": 2
}
