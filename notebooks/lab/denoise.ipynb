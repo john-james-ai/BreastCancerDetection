{
 "cells": [
  {
   "cell_type": "markdown",
   "metadata": {},
   "source": [
    "# Denoise Experiment"
   ]
  },
  {
   "cell_type": "code",
   "execution_count": null,
   "metadata": {},
   "outputs": [],
   "source": [
    "from bcd.explore.methods.operation.denoise import *\n",
    "from bcd.explore.methods.experiment.denoise import DenoiseExperiment, RandomNoise\n",
    "from bcd.container import BCDContainer\n",
    "from bcd.config import Config\n",
    "import seaborn as sns\n",
    "sns.set_style('whitegrid')"
   ]
  },
  {
   "cell_type": "code",
   "execution_count": null,
   "metadata": {},
   "outputs": [],
   "source": [
    "Config.set_log_level('INFO')\n",
    "Config.set_mode('exp')"
   ]
  },
  {
   "cell_type": "code",
   "execution_count": null,
   "metadata": {},
   "outputs": [],
   "source": [
    "container = BCDContainer()\n",
    "container.init_resources()\n",
    "container.wire(\n",
    "    packages=[\n",
    "        \"bcd.dal.repo\",  \n",
    "        \"bcd.dal.io\",\n",
    "        \"bcd.explore.methods.experiment\"\n",
    "    ]\n",
    ")"
   ]
  },
  {
   "cell_type": "markdown",
   "metadata": {},
   "source": [
    "## Setup Experiment"
   ]
  },
  {
   "cell_type": "code",
   "execution_count": null,
   "metadata": {},
   "outputs": [],
   "source": [
    "gn = RandomNoise(mode='gaussian') \n",
    "snp = RandomNoise(mode='s&p')\n",
    "spk = RandomNoise(mode='speckle')\n",
    "\n",
    "exp = DenoiseExperiment(stage_in=0, stage_out=1)\n",
    "exp.add_random_noise_gen(random_noise_gen=gn)\n",
    "exp.add_random_noise_gen(random_noise_gen=snp)\n",
    "exp.add_random_noise_gen(random_noise_gen=spk)\n"
   ]
  },
  {
   "cell_type": "markdown",
   "metadata": {},
   "source": [
    "## Spatial Domain Filters\n",
    "### Linear Filters"
   ]
  },
  {
   "cell_type": "markdown",
   "metadata": {},
   "source": [
    "#### Mean Filter"
   ]
  },
  {
   "cell_type": "raw",
   "metadata": {},
   "source": [
    "exp.run(method=MeanFilter, params={'kernel': [3,5,7]})"
   ]
  },
  {
   "cell_type": "markdown",
   "metadata": {},
   "source": [
    "#### Gaussian filter"
   ]
  },
  {
   "cell_type": "raw",
   "metadata": {},
   "source": [
    "exp.run(method=GaussianFilter, params={'kernel': [3,5,7]})"
   ]
  },
  {
   "cell_type": "markdown",
   "metadata": {},
   "source": [
    "### Non-Linear Filters\n",
    "#### Median Filter"
   ]
  },
  {
   "cell_type": "raw",
   "metadata": {},
   "source": [
    "exp.run(method=MedianFilter, params={'kernel': [3,5,7]})"
   ]
  },
  {
   "cell_type": "markdown",
   "metadata": {},
   "source": [
    "#### Bilateral Filter"
   ]
  },
  {
   "cell_type": "code",
   "execution_count": 5,
   "metadata": {},
   "outputs": [],
   "source": [
    "exp.run(method=BilateralFilter, params={'sigma_color_factor': [0.5,1,0, 1.5], 'sigma_space_factor': [1]})"
   ]
  },
  {
   "cell_type": "markdown",
   "metadata": {},
   "source": [
    "#### Non-Local Means"
   ]
  },
  {
   "cell_type": "code",
   "execution_count": null,
   "metadata": {},
   "outputs": [],
   "source": [
    "exp.run(method=NLMeansFilter, params={'h': [3, 5, 10]})"
   ]
  },
  {
   "cell_type": "markdown",
   "metadata": {},
   "source": [
    "## Frequency Domain Filters\n",
    "### Butterworth Filter"
   ]
  },
  {
   "cell_type": "code",
   "execution_count": null,
   "metadata": {},
   "outputs": [],
   "source": [
    "exp.run(method=ButterworthFilter, params={'order': [10], 'cutoff': [0.25, 0.5, 0.75]})"
   ]
  },
  {
   "cell_type": "markdown",
   "metadata": {},
   "source": [
    "### Wavelet Filter"
   ]
  },
  {
   "cell_type": "code",
   "execution_count": null,
   "metadata": {},
   "outputs": [],
   "source": [
    "exp.run(method=WaveletFilter, params={'wavelet': ['haar']})"
   ]
  }
 ],
 "metadata": {
  "kernelspec": {
   "display_name": "bcd",
   "language": "python",
   "name": "python3"
  },
  "language_info": {
   "codemirror_mode": {
    "name": "ipython",
    "version": 3
   },
   "file_extension": ".py",
   "mimetype": "text/x-python",
   "name": "python",
   "nbconvert_exporter": "python",
   "pygments_lexer": "ipython3",
   "version": "3.10.12"
  }
 },
 "nbformat": 4,
 "nbformat_minor": 2
}
