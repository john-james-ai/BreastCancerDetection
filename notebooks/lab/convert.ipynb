{
 "cells": [
  {
   "cell_type": "markdown",
   "metadata": {},
   "source": [
    "# Convert Images"
   ]
  },
  {
   "cell_type": "code",
   "execution_count": 1,
   "metadata": {},
   "outputs": [],
   "source": [
    "import os\n",
    "from uuid import uuid4\n",
    "\n",
    "from bcd.container import BCDContainer\n",
    "from bcd.dal.repo.task import TaskRepo\n",
    "from bcd.config import Config\n",
    "from bcd.preprocess.image.flow.builder import TaskBuilder\n",
    "from bcd.preprocess.image.flow.convert import ConverterTask, ConverterTaskParams\n",
    "from bcd.preprocess.image.method.convert import Converter\n"
   ]
  },
  {
   "cell_type": "code",
   "execution_count": 2,
   "metadata": {},
   "outputs": [],
   "source": [
    "Config.set_log_level('INFO')\n",
    "Config.set_mode('exp')"
   ]
  },
  {
   "cell_type": "code",
   "execution_count": 3,
   "metadata": {},
   "outputs": [],
   "source": [
    "IMAGE_FILEPATH = Config.get_data_dir()"
   ]
  },
  {
   "cell_type": "code",
   "execution_count": 4,
   "metadata": {},
   "outputs": [],
   "source": [
    "container = BCDContainer()\n",
    "container.init_resources()\n",
    "container.wire(\n",
    "    packages=[\n",
    "        \"bcd.preprocess.image.flow.convert\",\n",
    "    ]\n",
    ")\n",
    "task_repo = container.dal.task_repo()\n",
    "image_repo = container.dal.image_repo()"
   ]
  },
  {
   "cell_type": "code",
   "execution_count": 5,
   "metadata": {},
   "outputs": [
    {
     "data": {
      "text/plain": [
       "15"
      ]
     },
     "execution_count": 5,
     "metadata": {},
     "output_type": "execute_result"
    }
   ],
   "source": [
    "image_repo.count()"
   ]
  },
  {
   "cell_type": "markdown",
   "metadata": {},
   "source": [
    "## Convert Images"
   ]
  },
  {
   "cell_type": "code",
   "execution_count": 6,
   "metadata": {},
   "outputs": [
    {
     "name": "stderr",
     "output_type": "stream",
     "text": [
      "100%|██████████| 36/36 [00:31<00:00,  1.15it/s]\n"
     ]
    }
   ],
   "source": [
    "def convert_images(frac: float, mode: str):    \n",
    "    uow = container.dal.uow()\n",
    "    if mode == 'w':\n",
    "        uow.image_repo.delete_by_mode()\n",
    "    task_params = ConverterTaskParams(frac=frac, n_jobs=6)\n",
    "    builder = TaskBuilder(uow=uow)\n",
    "    builder.set_task(task=ConverterTask)\n",
    "    builder.add_task_params(params=task_params)\n",
    "    builder.add_method(method=Converter())\n",
    "    task = builder.task\n",
    "    task.run()\n",
    "\n",
    "\n",
    "convert_images(frac=0.01, mode='w')"
   ]
  }
 ],
 "metadata": {
  "kernelspec": {
   "display_name": "bcd",
   "language": "python",
   "name": "python3"
  },
  "language_info": {
   "codemirror_mode": {
    "name": "ipython",
    "version": 3
   },
   "file_extension": ".py",
   "mimetype": "text/x-python",
   "name": "python",
   "nbconvert_exporter": "python",
   "pygments_lexer": "ipython3",
   "version": "3.10.12"
  }
 },
 "nbformat": 4,
 "nbformat_minor": 2
}
