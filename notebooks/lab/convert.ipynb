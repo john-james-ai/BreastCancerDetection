{
 "cells": [
  {
   "cell_type": "markdown",
   "metadata": {},
   "source": [
    "# Convert Images\n",
    "TensorFlow, our modeling framework, provides convenient dataset loading and creation facilities that have requirements with respect to image file structure, format and organization. This brief notebook extracts the full mammogram DICOM images, converts them png format while retaining the original color and dimensions. Folders are organized by class label. "
   ]
  },
  {
   "cell_type": "code",
   "execution_count": 1,
   "metadata": {},
   "outputs": [],
   "source": [
    "from bcd.preprocess.convert import DICOMImageConverter"
   ]
  },
  {
   "cell_type": "code",
   "execution_count": 2,
   "metadata": {},
   "outputs": [],
   "source": [
    "metafilepath = \"data/meta/3_clean/cbis.csv\"\n",
    "destination = \"data/image/1_converted/CBIS-DDSM/\"\n",
    "registry_filepath  = \"data/image/1_converted/registry.csv\"\n",
    "fmt = \"png\"\n",
    "bits = 16"
   ]
  },
  {
   "cell_type": "markdown",
   "metadata": {},
   "source": [
    "## Convert All Images"
   ]
  },
  {
   "cell_type": "code",
   "execution_count": 3,
   "metadata": {},
   "outputs": [
    {
     "name": "stderr",
     "output_type": "stream",
     "text": [
      "100%|██████████| 3138/3138 [10:13<00:00,  5.12it/s]\n"
     ]
    }
   ],
   "source": [
    "loader = DICOMImageConverter(metafilepath=metafilepath, destination=destination, registry_filepath=registry_filepath,fmt=fmt, bits=bits, force=True)\n",
    "loader.run()"
   ]
  },
  {
   "cell_type": "markdown",
   "metadata": {},
   "source": [
    "## Convert Experimental Images"
   ]
  },
  {
   "cell_type": "code",
   "execution_count": 4,
   "metadata": {},
   "outputs": [],
   "source": [
    "metafilepath = \"data/meta/3_clean/cbis.csv\"\n",
    "destination = \"data/image/2_experimental/CBIS-DDSM/\"\n",
    "registry_filepath  = \"data/image/2_experimental/registry.csv\"\n",
    "groupby = ['abnormality_type', 'image_view', 'cancer']\n",
    "condition = lambda x: x['fileset'] == 'training'\n",
    "frac = 0.05"
   ]
  },
  {
   "cell_type": "code",
   "execution_count": 5,
   "metadata": {},
   "outputs": [
    {
     "name": "stderr",
     "output_type": "stream",
     "text": [
      "100%|██████████| 124/124 [00:18<00:00,  6.76it/s]\n"
     ]
    }
   ],
   "source": [
    "loader = DICOMImageConverter(metafilepath=metafilepath, destination=destination, registry_filepath=registry_filepath, groupby=groupby, condition=condition, frac=frac, fmt=fmt, bits=bits, force=True)\n",
    "loader.run()"
   ]
  }
 ],
 "metadata": {
  "kernelspec": {
   "display_name": "bcd",
   "language": "python",
   "name": "python3"
  },
  "language_info": {
   "codemirror_mode": {
    "name": "ipython",
    "version": 3
   },
   "file_extension": ".py",
   "mimetype": "text/x-python",
   "name": "python",
   "nbconvert_exporter": "python",
   "pygments_lexer": "ipython3",
   "version": "3.10.12"
  }
 },
 "nbformat": 4,
 "nbformat_minor": 2
}
