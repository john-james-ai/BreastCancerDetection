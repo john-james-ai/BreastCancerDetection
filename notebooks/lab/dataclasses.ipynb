{
 "cells": [
  {
   "cell_type": "code",
   "execution_count": 5,
   "metadata": {},
   "outputs": [],
   "source": [
    "from dataclasses import dataclass\n",
    "from abc import ABC\n",
    "from bcd.manage_data import STAGES\n",
    "import logging"
   ]
  },
  {
   "cell_type": "code",
   "execution_count": 6,
   "metadata": {},
   "outputs": [],
   "source": [
    "@dataclass\n",
    "class Stage(ABC):\n",
    "    id: int\n",
    "    name: str = None\n",
    "    def __post_init__(self) -> None:\n",
    "        self._logger = logging.getLogger(f\"{self.__class__.__name__}\")\n",
    "        try:\n",
    "            self.name = STAGES[self.id]\n",
    "        except KeyError:\n",
    "            msg = f\"{self.id} is an invalid stage id.\"\n",
    "            self._logger.exception(msg)\n",
    "            raise\n"
   ]
  },
  {
   "cell_type": "code",
   "execution_count": 7,
   "metadata": {},
   "outputs": [
    {
     "data": {
      "text/plain": [
       "Stage0(id=0, name='converted')"
      ]
     },
     "execution_count": 7,
     "metadata": {},
     "output_type": "execute_result"
    }
   ],
   "source": [
    "@dataclass\n",
    "class Stage0(Stage):\n",
    "    id: int = 0\n",
    "\n",
    "\n",
    "Stage0()"
   ]
  }
 ],
 "metadata": {
  "kernelspec": {
   "display_name": "bcd",
   "language": "python",
   "name": "python3"
  },
  "language_info": {
   "codemirror_mode": {
    "name": "ipython",
    "version": 3
   },
   "file_extension": ".py",
   "mimetype": "text/x-python",
   "name": "python",
   "nbconvert_exporter": "python",
   "pygments_lexer": "ipython3",
   "version": "3.10.12"
  }
 },
 "nbformat": 4,
 "nbformat_minor": 2
}
