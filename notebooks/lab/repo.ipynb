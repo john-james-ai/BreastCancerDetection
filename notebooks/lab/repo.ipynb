{
 "cells": [
  {
   "cell_type": "markdown",
   "metadata": {},
   "source": [
    "# Repository Lab"
   ]
  },
  {
   "cell_type": "code",
   "execution_count": 1,
   "metadata": {},
   "outputs": [],
   "source": [
    "from bcd.container import BCDContainer\n",
    "from bcd.config import Config"
   ]
  },
  {
   "cell_type": "code",
   "execution_count": 2,
   "metadata": {},
   "outputs": [],
   "source": [
    "Config.set_log_level('INFO')\n",
    "Config.set_mode('exp')"
   ]
  },
  {
   "cell_type": "code",
   "execution_count": 3,
   "metadata": {},
   "outputs": [],
   "source": [
    "container = BCDContainer()\n",
    "container.init_resources()\n",
    "container.wire(\n",
    "    packages=[\n",
    "        \"bcd.dal.repo\",  \n",
    "    ]\n",
    ")"
   ]
  },
  {
   "cell_type": "markdown",
   "metadata": {},
   "source": [
    "## Task Repository"
   ]
  },
  {
   "cell_type": "code",
   "execution_count": 7,
   "metadata": {},
   "outputs": [
    {
     "data": {
      "text/html": [
       "<div>\n",
       "<style scoped>\n",
       "    .dataframe tbody tr th:only-of-type {\n",
       "        vertical-align: middle;\n",
       "    }\n",
       "\n",
       "    .dataframe tbody tr th {\n",
       "        vertical-align: top;\n",
       "    }\n",
       "\n",
       "    .dataframe thead th {\n",
       "        text-align: right;\n",
       "    }\n",
       "</style>\n",
       "<table border=\"1\" class=\"dataframe\">\n",
       "  <thead>\n",
       "    <tr style=\"text-align: right;\">\n",
       "      <th></th>\n",
       "      <th>uid</th>\n",
       "      <th>mode</th>\n",
       "      <th>stage_id</th>\n",
       "      <th>stage</th>\n",
       "      <th>method</th>\n",
       "      <th>params</th>\n",
       "      <th>images_processed</th>\n",
       "      <th>created</th>\n",
       "    </tr>\n",
       "  </thead>\n",
       "  <tbody>\n",
       "    <tr>\n",
       "      <th>0</th>\n",
       "      <td>bc98d41a-9e54-427a-affa-d29a93352cff</td>\n",
       "      <td>exp</td>\n",
       "      <td>1</td>\n",
       "      <td>Denoise</td>\n",
       "      <td>MeanFilter</td>\n",
       "      <td>{\"kernel\": 3}</td>\n",
       "      <td>36</td>\n",
       "      <td>2023-11-08 17:40:18</td>\n",
       "    </tr>\n",
       "    <tr>\n",
       "      <th>1</th>\n",
       "      <td>59751f9f-f60c-4761-8ffc-52fc3afd463b</td>\n",
       "      <td>exp</td>\n",
       "      <td>1</td>\n",
       "      <td>Denoise</td>\n",
       "      <td>MeanFilter</td>\n",
       "      <td>{\"kernel\": 5}</td>\n",
       "      <td>36</td>\n",
       "      <td>2023-11-08 17:40:18</td>\n",
       "    </tr>\n",
       "    <tr>\n",
       "      <th>2</th>\n",
       "      <td>6b869669-d1e5-4417-ba4f-a949522e33d3</td>\n",
       "      <td>exp</td>\n",
       "      <td>1</td>\n",
       "      <td>Denoise</td>\n",
       "      <td>MeanFilter</td>\n",
       "      <td>{\"kernel\": 7}</td>\n",
       "      <td>36</td>\n",
       "      <td>2023-11-08 17:40:18</td>\n",
       "    </tr>\n",
       "    <tr>\n",
       "      <th>3</th>\n",
       "      <td>61549067-9d7f-4376-b374-119b3ad286d6</td>\n",
       "      <td>exp</td>\n",
       "      <td>1</td>\n",
       "      <td>Denoise</td>\n",
       "      <td>MedianFilter</td>\n",
       "      <td>{\"kernel\": 3}</td>\n",
       "      <td>36</td>\n",
       "      <td>2023-11-08 17:41:21</td>\n",
       "    </tr>\n",
       "    <tr>\n",
       "      <th>4</th>\n",
       "      <td>1654c21b-b7e1-475d-a0c0-7a3728ac38c0</td>\n",
       "      <td>exp</td>\n",
       "      <td>1</td>\n",
       "      <td>Denoise</td>\n",
       "      <td>MedianFilter</td>\n",
       "      <td>{\"kernel\": 5}</td>\n",
       "      <td>36</td>\n",
       "      <td>2023-11-08 17:41:21</td>\n",
       "    </tr>\n",
       "    <tr>\n",
       "      <th>5</th>\n",
       "      <td>8ca4154e-1ed3-40dd-a892-22a749027705</td>\n",
       "      <td>exp</td>\n",
       "      <td>1</td>\n",
       "      <td>Denoise</td>\n",
       "      <td>MedianFilter</td>\n",
       "      <td>{\"kernel\": 7}</td>\n",
       "      <td>36</td>\n",
       "      <td>2023-11-08 17:41:21</td>\n",
       "    </tr>\n",
       "    <tr>\n",
       "      <th>6</th>\n",
       "      <td>d830d68e-2611-4608-8bcf-beb516559c89</td>\n",
       "      <td>exp</td>\n",
       "      <td>1</td>\n",
       "      <td>Denoise</td>\n",
       "      <td>GaussianFilter</td>\n",
       "      <td>{\"kernel\": 3}</td>\n",
       "      <td>36</td>\n",
       "      <td>2023-11-08 17:42:42</td>\n",
       "    </tr>\n",
       "    <tr>\n",
       "      <th>7</th>\n",
       "      <td>10bcf768-5766-41dc-b6c1-8e05a83bec04</td>\n",
       "      <td>exp</td>\n",
       "      <td>1</td>\n",
       "      <td>Denoise</td>\n",
       "      <td>GaussianFilter</td>\n",
       "      <td>{\"kernel\": 5}</td>\n",
       "      <td>36</td>\n",
       "      <td>2023-11-08 17:42:42</td>\n",
       "    </tr>\n",
       "    <tr>\n",
       "      <th>8</th>\n",
       "      <td>ae93551d-9c23-4072-a1bc-ed8dae9aa7fe</td>\n",
       "      <td>exp</td>\n",
       "      <td>1</td>\n",
       "      <td>Denoise</td>\n",
       "      <td>GaussianFilter</td>\n",
       "      <td>{\"kernel\": 7}</td>\n",
       "      <td>36</td>\n",
       "      <td>2023-11-08 17:42:42</td>\n",
       "    </tr>\n",
       "  </tbody>\n",
       "</table>\n",
       "</div>"
      ],
      "text/plain": [
       "                                    uid mode  stage_id    stage  \\\n",
       "0  bc98d41a-9e54-427a-affa-d29a93352cff  exp         1  Denoise   \n",
       "1  59751f9f-f60c-4761-8ffc-52fc3afd463b  exp         1  Denoise   \n",
       "2  6b869669-d1e5-4417-ba4f-a949522e33d3  exp         1  Denoise   \n",
       "3  61549067-9d7f-4376-b374-119b3ad286d6  exp         1  Denoise   \n",
       "4  1654c21b-b7e1-475d-a0c0-7a3728ac38c0  exp         1  Denoise   \n",
       "5  8ca4154e-1ed3-40dd-a892-22a749027705  exp         1  Denoise   \n",
       "6  d830d68e-2611-4608-8bcf-beb516559c89  exp         1  Denoise   \n",
       "7  10bcf768-5766-41dc-b6c1-8e05a83bec04  exp         1  Denoise   \n",
       "8  ae93551d-9c23-4072-a1bc-ed8dae9aa7fe  exp         1  Denoise   \n",
       "\n",
       "           method         params  images_processed             created  \n",
       "0      MeanFilter  {\"kernel\": 3}                36 2023-11-08 17:40:18  \n",
       "1      MeanFilter  {\"kernel\": 5}                36 2023-11-08 17:40:18  \n",
       "2      MeanFilter  {\"kernel\": 7}                36 2023-11-08 17:40:18  \n",
       "3    MedianFilter  {\"kernel\": 3}                36 2023-11-08 17:41:21  \n",
       "4    MedianFilter  {\"kernel\": 5}                36 2023-11-08 17:41:21  \n",
       "5    MedianFilter  {\"kernel\": 7}                36 2023-11-08 17:41:21  \n",
       "6  GaussianFilter  {\"kernel\": 3}                36 2023-11-08 17:42:42  \n",
       "7  GaussianFilter  {\"kernel\": 5}                36 2023-11-08 17:42:42  \n",
       "8  GaussianFilter  {\"kernel\": 7}                36 2023-11-08 17:42:42  "
      ]
     },
     "execution_count": 7,
     "metadata": {},
     "output_type": "execute_result"
    }
   ],
   "source": [
    "repo = container.dal.task_repo()\n",
    "meta, tasks = repo.get_by_stage(stage_id=1)\n",
    "meta"
   ]
  },
  {
   "cell_type": "markdown",
   "metadata": {},
   "source": [
    "## Evaluation Repository"
   ]
  },
  {
   "cell_type": "code",
   "execution_count": 8,
   "metadata": {},
   "outputs": [
    {
     "ename": "AttributeError",
     "evalue": "'EvalRepo' object has no attribute 'get_by_stage'",
     "output_type": "error",
     "traceback": [
      "\u001b[0;31m---------------------------------------------------------------------------\u001b[0m",
      "\u001b[0;31mAttributeError\u001b[0m                            Traceback (most recent call last)",
      "\u001b[1;32m/home/john/projects/bcd/notebooks/lab/repo.ipynb Cell 8\u001b[0m line \u001b[0;36m2\n\u001b[1;32m      <a href='vscode-notebook-cell://wsl%2Bubuntu/home/john/projects/bcd/notebooks/lab/repo.ipynb#X10sdnNjb2RlLXJlbW90ZQ%3D%3D?line=0'>1</a>\u001b[0m repo \u001b[39m=\u001b[39m container\u001b[39m.\u001b[39mdal\u001b[39m.\u001b[39meval_repo()\n\u001b[0;32m----> <a href='vscode-notebook-cell://wsl%2Bubuntu/home/john/projects/bcd/notebooks/lab/repo.ipynb#X10sdnNjb2RlLXJlbW90ZQ%3D%3D?line=1'>2</a>\u001b[0m emeta, evals \u001b[39m=\u001b[39m repo\u001b[39m.\u001b[39;49mget_by_stage(stage_id\u001b[39m=\u001b[39m\u001b[39m1\u001b[39m)\n\u001b[1;32m      <a href='vscode-notebook-cell://wsl%2Bubuntu/home/john/projects/bcd/notebooks/lab/repo.ipynb#X10sdnNjb2RlLXJlbW90ZQ%3D%3D?line=2'>3</a>\u001b[0m emeta\n",
      "\u001b[0;31mAttributeError\u001b[0m: 'EvalRepo' object has no attribute 'get_by_stage'"
     ]
    }
   ],
   "source": [
    "repo = container.dal.eval_repo()\n",
    "emeta, evals = repo.get()\n",
    "emeta"
   ]
  }
 ],
 "metadata": {
  "kernelspec": {
   "display_name": "bcd",
   "language": "python",
   "name": "python3"
  },
  "language_info": {
   "codemirror_mode": {
    "name": "ipython",
    "version": 3
   },
   "file_extension": ".py",
   "mimetype": "text/x-python",
   "name": "python",
   "nbconvert_exporter": "python",
   "pygments_lexer": "ipython3",
   "version": "3.10.12"
  }
 },
 "nbformat": 4,
 "nbformat_minor": 2
}
