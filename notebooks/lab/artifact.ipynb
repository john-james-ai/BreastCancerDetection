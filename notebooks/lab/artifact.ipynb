{
 "cells": [
  {
   "cell_type": "markdown",
   "metadata": {},
   "source": [
    "# Artifact Removal \n",
    "Various types of artifacts were found on breast mammogram images, as shown below."
   ]
  },
  {
   "cell_type": "code",
   "execution_count": 1,
   "metadata": {},
   "outputs": [],
   "source": [
    "import os\n",
    "import numpy as np\n",
    "import cv2\n",
    "import matplotlib.pyplot as plt\n",
    "from bcd.utils.image import convert_uint8\n",
    "from skimage.filters import threshold_mean\n",
    "from bcd.preprocess.image.threshold.analyze import ThresholdMean, ThresholdLi, ThresholdYen, ThresholdMinimum, ThresholdISOData, ThresholdTriangle, ThresholdOTSU, ThresholdAdaptiveMean, TryAllThresholds"
   ]
  },
  {
   "cell_type": "code",
   "execution_count": 2,
   "metadata": {},
   "outputs": [],
   "source": [
    "img1 = \"data/image/2_exp/train/benign/2a44122c-f831-4220-95a8-408bcafcf2ce.png\"\n",
    "img2 = \"data/image/2_exp/train/benign/3f72309d-7cd9-4e30-ae81-073adb541bcd.png\"\n",
    "img3 = \"data/image/2_exp/train/benign/97556037-b959-4395-830b-380dcac2d58e.png\"\n",
    "img4 = \"data/image/2_exp/train/malignant/6cdf46d8-596b-47ab-a428-c8769733c93c.png\"\n"
   ]
  },
  {
   "cell_type": "code",
   "execution_count": 3,
   "metadata": {},
   "outputs": [],
   "source": [
    "img1 = cv2.imread(img1, cv2.IMREAD_GRAYSCALE)\n",
    "img2 = cv2.imread(img2, cv2.IMREAD_GRAYSCALE)\n",
    "img3 = cv2.imread(img3, cv2.IMREAD_GRAYSCALE)\n",
    "img4 = cv2.imread(img4, cv2.IMREAD_GRAYSCALE)"
   ]
  },
  {
   "cell_type": "code",
   "execution_count": 4,
   "metadata": {},
   "outputs": [],
   "source": [
    "img1 = convert_uint8(img1)\n",
    "img2 = convert_uint8(img2)\n",
    "img3 = convert_uint8(img3)\n",
    "img4 = convert_uint8(img4)"
   ]
  },
  {
   "cell_type": "code",
   "execution_count": 5,
   "metadata": {},
   "outputs": [],
   "source": [
    "images = (img1,img2,img3,img4)"
   ]
  },
  {
   "cell_type": "raw",
   "metadata": {},
   "source": [
    "analysis = ThresholdMean()\n",
    "analysis.analyze(images=images)"
   ]
  },
  {
   "cell_type": "raw",
   "metadata": {},
   "source": [
    "analysis = ThresholdLi()\n",
    "analysis.analyze(images=images)"
   ]
  },
  {
   "cell_type": "raw",
   "metadata": {},
   "source": [
    "analysis = ThresholdYen()\n",
    "analysis.analyze(images=images)"
   ]
  },
  {
   "cell_type": "raw",
   "metadata": {},
   "source": [
    "analysis = ThresholdTriangle()\n",
    "analysis.analyze(images=images)"
   ]
  },
  {
   "cell_type": "raw",
   "metadata": {},
   "source": [
    "analysis = ThresholdOTSU()\n",
    "analysis.analyze(images=images)"
   ]
  },
  {
   "cell_type": "raw",
   "metadata": {},
   "source": [
    "analysis = ThresholdAdaptiveMean()\n",
    "analysis.analyze(images=images, blockSize=11, C=2)"
   ]
  },
  {
   "cell_type": "raw",
   "metadata": {},
   "source": [
    "analysis = ThresholdAdaptiveMean()\n",
    "analysis.analyze(images=images, blockSize=21, C=2)"
   ]
  },
  {
   "cell_type": "raw",
   "metadata": {},
   "source": [
    "analysis = ThresholdISOData()\n",
    "analysis.analyze(images=images)"
   ]
  },
  {
   "cell_type": "raw",
   "metadata": {},
   "source": [
    "analysis = ThresholdMinimum()\n",
    "analysis.analyze(images=images)"
   ]
  },
  {
   "cell_type": "code",
   "execution_count": 6,
   "metadata": {},
   "outputs": [
    {
     "ename": "TypeError",
     "evalue": "Can't instantiate abstract class ThresholdAnalyzer with abstract method apply_threshold",
     "output_type": "error",
     "traceback": [
      "\u001b[0;31m---------------------------------------------------------------------------\u001b[0m",
      "\u001b[0;31mTypeError\u001b[0m                                 Traceback (most recent call last)",
      "\u001b[1;32m/home/john/projects/bcd/notebooks/lab/artifact.ipynb Cell 16\u001b[0m line \u001b[0;36m1\n\u001b[0;32m----> <a href='vscode-notebook-cell://wsl%2Bubuntu/home/john/projects/bcd/notebooks/lab/artifact.ipynb#X33sdnNjb2RlLXJlbW90ZQ%3D%3D?line=0'>1</a>\u001b[0m analysis \u001b[39m=\u001b[39m ThresholdAnalyzer()\n\u001b[1;32m      <a href='vscode-notebook-cell://wsl%2Bubuntu/home/john/projects/bcd/notebooks/lab/artifact.ipynb#X33sdnNjb2RlLXJlbW90ZQ%3D%3D?line=1'>2</a>\u001b[0m analysis\u001b[39m.\u001b[39mtry_all_global(image\u001b[39m=\u001b[39mimg4)\n",
      "\u001b[0;31mTypeError\u001b[0m: Can't instantiate abstract class ThresholdAnalyzer with abstract method apply_threshold"
     ]
    }
   ],
   "source": [
    "analysis = TryAllThresholds()\n",
    "analysis.try_all_global(image=img4)"
   ]
  }
 ],
 "metadata": {
  "kernelspec": {
   "display_name": "bcd",
   "language": "python",
   "name": "python3"
  },
  "language_info": {
   "codemirror_mode": {
    "name": "ipython",
    "version": 3
   },
   "file_extension": ".py",
   "mimetype": "text/x-python",
   "name": "python",
   "nbconvert_exporter": "python",
   "pygments_lexer": "ipython3",
   "version": "3.10.12"
  }
 },
 "nbformat": 4,
 "nbformat_minor": 2
}
