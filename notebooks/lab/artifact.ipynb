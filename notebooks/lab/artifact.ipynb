{
 "cells": [
  {
   "cell_type": "markdown",
   "metadata": {},
   "source": [
    "# Artifact Removal \n",
    "Various types of artifacts were found on breast mammogram images, as shown below."
   ]
  },
  {
   "cell_type": "code",
   "execution_count": 1,
   "metadata": {},
   "outputs": [
    {
     "ename": "ImportError",
     "evalue": "cannot import name 'ThresholdAdaptiveMedian' from 'bcd.preprocess.image.threshold.analyze' (/home/john/projects/bcd/bcd/preprocess/image/threshold/analyze.py)",
     "output_type": "error",
     "traceback": [
      "\u001b[0;31m---------------------------------------------------------------------------\u001b[0m",
      "\u001b[0;31mImportError\u001b[0m                               Traceback (most recent call last)",
      "\u001b[1;32m/home/john/projects/bcd/notebooks/lab/artifact.ipynb Cell 2\u001b[0m line \u001b[0;36m7\n\u001b[1;32m      <a href='vscode-notebook-cell://wsl%2Bubuntu/home/john/projects/bcd/notebooks/lab/artifact.ipynb#W1sdnNjb2RlLXJlbW90ZQ%3D%3D?line=4'>5</a>\u001b[0m \u001b[39mfrom\u001b[39;00m \u001b[39mbcd\u001b[39;00m\u001b[39m.\u001b[39;00m\u001b[39mutils\u001b[39;00m\u001b[39m.\u001b[39;00m\u001b[39mimage\u001b[39;00m \u001b[39mimport\u001b[39;00m convert_uint8\n\u001b[1;32m      <a href='vscode-notebook-cell://wsl%2Bubuntu/home/john/projects/bcd/notebooks/lab/artifact.ipynb#W1sdnNjb2RlLXJlbW90ZQ%3D%3D?line=5'>6</a>\u001b[0m \u001b[39mfrom\u001b[39;00m \u001b[39mskimage\u001b[39;00m\u001b[39m.\u001b[39;00m\u001b[39mfilters\u001b[39;00m \u001b[39mimport\u001b[39;00m threshold_mean\n\u001b[0;32m----> <a href='vscode-notebook-cell://wsl%2Bubuntu/home/john/projects/bcd/notebooks/lab/artifact.ipynb#W1sdnNjb2RlLXJlbW90ZQ%3D%3D?line=6'>7</a>\u001b[0m \u001b[39mfrom\u001b[39;00m \u001b[39mbcd\u001b[39;00m\u001b[39m.\u001b[39;00m\u001b[39mpreprocess\u001b[39;00m\u001b[39m.\u001b[39;00m\u001b[39mimage\u001b[39;00m\u001b[39m.\u001b[39;00m\u001b[39mthreshold\u001b[39;00m\u001b[39m.\u001b[39;00m\u001b[39manalyze\u001b[39;00m \u001b[39mimport\u001b[39;00m ThresholdAdaptiveMedian\n",
      "\u001b[0;31mImportError\u001b[0m: cannot import name 'ThresholdAdaptiveMedian' from 'bcd.preprocess.image.threshold.analyze' (/home/john/projects/bcd/bcd/preprocess/image/threshold/analyze.py)"
     ]
    }
   ],
   "source": [
    "import os\n",
    "import numpy as np\n",
    "import cv2\n",
    "import matplotlib.pyplot as plt\n",
    "from bcd.utils.image import convert_uint8\n",
    "from skimage.filters import threshold_mean\n",
    "from bcd.preprocess.image.threshold.analyze import ThresholdAdaptiveMean"
   ]
  },
  {
   "cell_type": "code",
   "execution_count": null,
   "metadata": {},
   "outputs": [],
   "source": [
    "img1 = \"data/image/2_exp/train/benign/2a44122c-f831-4220-95a8-408bcafcf2ce.png\"\n",
    "img2 = \"data/image/2_exp/train/benign/3f72309d-7cd9-4e30-ae81-073adb541bcd.png\"\n",
    "img3 = \"data/image/2_exp/train/benign/97556037-b959-4395-830b-380dcac2d58e.png\"\n",
    "img4 = \"data/image/2_exp/train/malignant/6cdf46d8-596b-47ab-a428-c8769733c93c.png\"\n"
   ]
  },
  {
   "cell_type": "code",
   "execution_count": null,
   "metadata": {},
   "outputs": [],
   "source": [
    "img1 = cv2.imread(img1, cv2.IMREAD_GRAYSCALE)\n",
    "img2 = cv2.imread(img2, cv2.IMREAD_GRAYSCALE)\n",
    "img3 = cv2.imread(img3, cv2.IMREAD_GRAYSCALE)\n",
    "img4 = cv2.imread(img4, cv2.IMREAD_GRAYSCALE)"
   ]
  },
  {
   "cell_type": "code",
   "execution_count": null,
   "metadata": {},
   "outputs": [],
   "source": [
    "img1 = convert_uint8(img1)\n",
    "img2 = convert_uint8(img2)\n",
    "img3 = convert_uint8(img3)\n",
    "img4 = convert_uint8(img4)"
   ]
  },
  {
   "cell_type": "code",
   "execution_count": null,
   "metadata": {},
   "outputs": [],
   "source": [
    "images = (img1,img2,img3,img4)"
   ]
  },
  {
   "cell_type": "code",
   "execution_count": null,
   "metadata": {},
   "outputs": [],
   "source": [
    "analysis = ThresholdAdaptiveMean()\n",
    "analysis.analyze(images=images, blockSize=15, C=2)"
   ]
  }
 ],
 "metadata": {
  "kernelspec": {
   "display_name": "bcd",
   "language": "python",
   "name": "python3"
  },
  "language_info": {
   "codemirror_mode": {
    "name": "ipython",
    "version": 3
   },
   "file_extension": ".py",
   "mimetype": "text/x-python",
   "name": "python",
   "nbconvert_exporter": "python",
   "pygments_lexer": "ipython3",
   "version": "3.10.12"
  }
 },
 "nbformat": 4,
 "nbformat_minor": 2
}
