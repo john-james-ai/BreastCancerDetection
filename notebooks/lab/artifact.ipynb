{
 "cells": [
  {
   "cell_type": "markdown",
   "id": "246a0ed9",
   "metadata": {},
   "source": [
    "# Artifact Removal\n",
    "Various types of artifacts were found on breast mammogram images, as shown below."
   ]
  },
  {
   "cell_type": "code",
   "execution_count": null,
   "id": "4eb2ec2d",
   "metadata": {},
   "outputs": [],
   "source": [
    "import os\n",
    "import numpy as np\n",
    "import cv2\n",
    "import matplotlib.pyplot as plt\n",
    "from bcd.utils.image import grayscale"
   ]
  },
  {
   "cell_type": "code",
   "execution_count": null,
   "id": "855b03fb",
   "metadata": {},
   "outputs": [],
   "source": [
    "img1 = \"data/image/2_exp/train/benign/2a44122c-f831-4220-95a8-408bcafcf2ce.png\"\n",
    "img2 = \"data/image/2_exp/train/benign/3f72309d-7cd9-4e30-ae81-073adb541bcd.png\"\n",
    "img3 = \"data/image/2_exp/train/benign/97556037-b959-4395-830b-380dcac2d58e.png\"\n",
    "img4 = \"data/image/2_exp/train/malignant/6cdf46d8-596b-47ab-a428-c8769733c93c.png\""
   ]
  },
  {
   "cell_type": "code",
   "execution_count": null,
   "id": "a5edfeac",
   "metadata": {},
   "outputs": [],
   "source": [
    "img1 = cv2.imread(img1, cv2.IMREAD_GRAYSCALE)\n",
    "img2 = cv2.imread(img2, cv2.IMREAD_GRAYSCALE)\n",
    "img3 = cv2.imread(img3, cv2.IMREAD_GRAYSCALE)\n",
    "img4 = cv2.imread(img4, cv2.IMREAD_GRAYSCALE)"
   ]
  },
  {
   "cell_type": "code",
   "execution_count": null,
   "id": "f3536487",
   "metadata": {},
   "outputs": [],
   "source": [
    "img1 = grayscale(img1)\n",
    "img2 = grayscale(img2)\n",
    "img3 = grayscale(img3)\n",
    "img4 = grayscale(img4)"
   ]
  },
  {
   "cell_type": "code",
   "execution_count": null,
   "id": "79be4399",
   "metadata": {},
   "outputs": [],
   "source": [
    "fig, axes = plt.subplots(nrows=1, ncols=4, figsize=(12,6))\n",
    "_ = axes[0].imshow(img1, cmap='gray', aspect='auto')\n",
    "_ = axes[1].imshow(img2, cmap='gray',aspect='auto')\n",
    "_ = axes[2].imshow(img3, cmap='gray',aspect='auto')\n",
    "_ = axes[3].imshow(img4, cmap='gray',aspect='auto')\n",
    "plt.tight_layout()\n",
    "plt.show()"
   ]
  },
  {
   "cell_type": "markdown",
   "id": "70fe4094",
   "metadata": {},
   "source": [
    "## Binary Masking"
   ]
  },
  {
   "cell_type": "code",
   "execution_count": null,
   "id": "aa0c04d2",
   "metadata": {},
   "outputs": [],
   "source": [
    "r, bm1 = cv2.threshold(img1, 127, 255, cv2.THRESH_BINARY)\n",
    "r, bm2 = cv2.threshold(img2, 127, 255, cv2.THRESH_BINARY)\n",
    "r, bm3 = cv2.threshold(img3, 127, 255, cv2.THRESH_BINARY)\n",
    "r, bm4 = cv2.threshold(img4, 127, 255, cv2.THRESH_BINARY)"
   ]
  },
  {
   "cell_type": "code",
   "execution_count": null,
   "id": "b7fab536",
   "metadata": {},
   "outputs": [],
   "source": [
    "fig, axes = plt.subplots(nrows=1, ncols=4, figsize=(12,6))\n",
    "_ = axes[0].imshow(bm1, cmap='gray', aspect='auto')\n",
    "_ = axes[1].imshow(bm2, cmap='gray',aspect='auto')\n",
    "_ = axes[2].imshow(bm3, cmap='gray',aspect='auto')\n",
    "_ = axes[3].imshow(bm4, cmap='gray',aspect='auto')\n",
    "plt.tight_layout()\n"
   ]
  }
 ],
 "metadata": {
  "kernelspec": {
   "display_name": "bcd",
   "language": "python",
   "name": "python3"
  }
 },
 "nbformat": 4,
 "nbformat_minor": 5
}
