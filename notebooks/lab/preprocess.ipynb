{
 "cells": [
  {
   "cell_type": "markdown",
   "metadata": {},
   "source": [
    "# Preprocess"
   ]
  },
  {
   "cell_type": "code",
   "execution_count": 1,
   "metadata": {},
   "outputs": [],
   "source": [
    "from bcd.container import BCDContainer\n",
    "from bcd.preprocess.convert import ImageConverter, ImageConverterParams\n",
    "from bcd.preprocess.filter import MeanFilter, MedianFilter, GaussianFilter, FilterParams\n"
   ]
  },
  {
   "cell_type": "code",
   "execution_count": 2,
   "metadata": {},
   "outputs": [],
   "source": [
    "container = BCDContainer()\n",
    "container.init_resources()\n",
    "container.wire(\n",
    "    packages=[\n",
    "        \"bcd.manage_data\",\n",
    "        \"bcd.preprocess.convert\",        \n",
    "    ]\n",
    ")"
   ]
  },
  {
   "cell_type": "code",
   "execution_count": 3,
   "metadata": {},
   "outputs": [
    {
     "name": "stderr",
     "output_type": "stream",
     "text": [
      "[10/24/2023 04:01:30 PM] [INFO] [MySQLDatabase] [connect] : Database is not started. Starting database...\n",
      "[sudo] password for john: "
     ]
    },
    {
     "name": "stdout",
     "output_type": "stream",
     "text": [
      "\\nStarting MySQL...\n",
      " * Starting MySQL database server mysqld\n"
     ]
    },
    {
     "name": "stderr",
     "output_type": "stream",
     "text": [
      "su: warning: cannot change directory to /nonexistent: No such file or directory\n"
     ]
    },
    {
     "name": "stdout",
     "output_type": "stream",
     "text": [
      "   ...done.\n"
     ]
    }
   ],
   "source": [
    "image_repo = container.repo.image()\n"
   ]
  },
  {
   "cell_type": "code",
   "execution_count": 4,
   "metadata": {},
   "outputs": [],
   "source": [
    "def visualize(processor: str, n: int) -> None:\n",
    "    condition = lambda df: df['processor'] == processor\n",
    "    images = image_repo.get(condition=condition, n=n)\n",
    "    for image in images:\n",
    "        image.visualize()\n"
   ]
  },
  {
   "cell_type": "markdown",
   "metadata": {},
   "source": [
    "## Stage 0: Convert Images"
   ]
  },
  {
   "cell_type": "code",
   "execution_count": 5,
   "metadata": {},
   "outputs": [
    {
     "name": "stderr",
     "output_type": "stream",
     "text": [
      "  0%|          | 0/36 [00:00<?, ?it/s]\n"
     ]
    },
    {
     "ename": "AttributeError",
     "evalue": "'ImageFactory' object has no attribute '_get_stage'",
     "output_type": "error",
     "traceback": [
      "\u001b[0;31m---------------------------------------------------------------------------\u001b[0m",
      "\u001b[0;31mAttributeError\u001b[0m                            Traceback (most recent call last)",
      "\u001b[1;32m/home/john/projects/bcd/notebooks/lab/preprocess.ipynb Cell 7\u001b[0m line \u001b[0;36m3\n\u001b[1;32m      <a href='vscode-notebook-cell://wsl%2Bubuntu/home/john/projects/bcd/notebooks/lab/preprocess.ipynb#W6sdnNjb2RlLXJlbW90ZQ%3D%3D?line=0'>1</a>\u001b[0m params \u001b[39m=\u001b[39m ImageConverterParams()\n\u001b[1;32m      <a href='vscode-notebook-cell://wsl%2Bubuntu/home/john/projects/bcd/notebooks/lab/preprocess.ipynb#W6sdnNjb2RlLXJlbW90ZQ%3D%3D?line=1'>2</a>\u001b[0m conv \u001b[39m=\u001b[39m ImageConverter(params\u001b[39m=\u001b[39mparams, task_id\u001b[39m=\u001b[39m\u001b[39m\"\u001b[39m\u001b[39msome task id\u001b[39m\u001b[39m\"\u001b[39m)\n\u001b[0;32m----> <a href='vscode-notebook-cell://wsl%2Bubuntu/home/john/projects/bcd/notebooks/lab/preprocess.ipynb#W6sdnNjb2RlLXJlbW90ZQ%3D%3D?line=2'>3</a>\u001b[0m conv\u001b[39m.\u001b[39;49mexecute()\n\u001b[1;32m      <a href='vscode-notebook-cell://wsl%2Bubuntu/home/john/projects/bcd/notebooks/lab/preprocess.ipynb#W6sdnNjb2RlLXJlbW90ZQ%3D%3D?line=3'>4</a>\u001b[0m df \u001b[39m=\u001b[39m image_repo\u001b[39m.\u001b[39mget_meta()\n\u001b[1;32m      <a href='vscode-notebook-cell://wsl%2Bubuntu/home/john/projects/bcd/notebooks/lab/preprocess.ipynb#W6sdnNjb2RlLXJlbW90ZQ%3D%3D?line=4'>5</a>\u001b[0m \u001b[39m# visualize(task='ImageConverter', n=4)\u001b[39;00m\n",
      "File \u001b[0;32m~/projects/bcd/bcd/preprocess/base.py:143\u001b[0m, in \u001b[0;36mPreprocessor.execute\u001b[0;34m(self)\u001b[0m\n\u001b[1;32m    139\u001b[0m \u001b[39m\u001b[39m\u001b[39m\"\"\"Executes the task\"\"\"\u001b[39;00m\n\u001b[1;32m    141\u001b[0m image_metadata \u001b[39m=\u001b[39m \u001b[39mself\u001b[39m\u001b[39m.\u001b[39mget_source_image_metadata()\n\u001b[0;32m--> 143\u001b[0m \u001b[39mself\u001b[39;49m\u001b[39m.\u001b[39;49mprocess_images(image_metadata\u001b[39m=\u001b[39;49mimage_metadata)\n",
      "File \u001b[0;32m~/projects/bcd/bcd/preprocess/convert.py:103\u001b[0m, in \u001b[0;36mImageConverter.process_images\u001b[0;34m(self, image_metadata)\u001b[0m\n\u001b[1;32m     97\u001b[0m \u001b[39m\u001b[39m\u001b[39m\"\"\"Convert the images to PNG format and store in the repository.\u001b[39;00m\n\u001b[1;32m     98\u001b[0m \n\u001b[1;32m     99\u001b[0m \u001b[39mArgs:\u001b[39;00m\n\u001b[1;32m    100\u001b[0m \u001b[39m    image_metadata (pd.DataFrame): DataFrame containing image metadata.\u001b[39;00m\n\u001b[1;32m    101\u001b[0m \u001b[39m\"\"\"\u001b[39;00m\n\u001b[1;32m    102\u001b[0m \u001b[39mfor\u001b[39;00m _, metadata \u001b[39min\u001b[39;00m tqdm(image_metadata\u001b[39m.\u001b[39miterrows(), total\u001b[39m=\u001b[39mimage_metadata\u001b[39m.\u001b[39mshape[\u001b[39m0\u001b[39m]):\n\u001b[0;32m--> 103\u001b[0m     \u001b[39mself\u001b[39;49m\u001b[39m.\u001b[39;49m_process_image(image_metadata\u001b[39m=\u001b[39;49mmetadata)\n",
      "File \u001b[0;32m~/projects/bcd/bcd/preprocess/convert.py:113\u001b[0m, in \u001b[0;36mImageConverter._process_image\u001b[0;34m(self, image_metadata)\u001b[0m\n\u001b[1;32m    106\u001b[0m \u001b[39m\u001b[39m\u001b[39m\"\"\"Reads image pixel data, creates a new image and persists it to the repository\u001b[39;00m\n\u001b[1;32m    107\u001b[0m \n\u001b[1;32m    108\u001b[0m \u001b[39mArgs:\u001b[39;00m\n\u001b[1;32m    109\u001b[0m \u001b[39m    image_metadata (pd.Series): Series containing image metadata\u001b[39;00m\n\u001b[1;32m    110\u001b[0m \u001b[39m\"\"\"\u001b[39;00m\n\u001b[1;32m    112\u001b[0m pixel_data \u001b[39m=\u001b[39m \u001b[39mself\u001b[39m\u001b[39m.\u001b[39mread_pixel_data(filepath\u001b[39m=\u001b[39mimage_metadata[\u001b[39m\"\u001b[39m\u001b[39mfilepath\u001b[39m\u001b[39m\"\u001b[39m])\n\u001b[0;32m--> 113\u001b[0m image \u001b[39m=\u001b[39m \u001b[39mself\u001b[39;49m\u001b[39m.\u001b[39;49mcreate_image(case_id\u001b[39m=\u001b[39;49mimage_metadata[\u001b[39m\"\u001b[39;49m\u001b[39mcase_id\u001b[39;49m\u001b[39m\"\u001b[39;49m], pixel_data\u001b[39m=\u001b[39;49mpixel_data)\n\u001b[1;32m    115\u001b[0m \u001b[39mself\u001b[39m\u001b[39m.\u001b[39msave_image(image\u001b[39m=\u001b[39mimage)\n\u001b[1;32m    116\u001b[0m \u001b[39mself\u001b[39m\u001b[39m.\u001b[39m_images_processed \u001b[39m+\u001b[39m\u001b[39m=\u001b[39m \u001b[39m1\u001b[39m\n",
      "File \u001b[0;32m~/projects/bcd/bcd/preprocess/base.py:155\u001b[0m, in \u001b[0;36mPreprocessor.create_image\u001b[0;34m(self, case_id, pixel_data)\u001b[0m\n\u001b[1;32m    145\u001b[0m \u001b[39mdef\u001b[39;00m \u001b[39mcreate_image\u001b[39m(\u001b[39mself\u001b[39m, case_id: \u001b[39mstr\u001b[39m, pixel_data: np\u001b[39m.\u001b[39mndarray) \u001b[39m-\u001b[39m\u001b[39m>\u001b[39m Image:\n\u001b[1;32m    146\u001b[0m \u001b[39m    \u001b[39m\u001b[39m\"\"\"Creates an image for a given case\u001b[39;00m\n\u001b[1;32m    147\u001b[0m \n\u001b[1;32m    148\u001b[0m \u001b[39m    Args:\u001b[39;00m\n\u001b[0;32m   (...)\u001b[0m\n\u001b[1;32m    153\u001b[0m \u001b[39m        Image object\u001b[39;00m\n\u001b[1;32m    154\u001b[0m \u001b[39m    \"\"\"\u001b[39;00m\n\u001b[0;32m--> 155\u001b[0m     \u001b[39mreturn\u001b[39;00m \u001b[39mself\u001b[39;49m\u001b[39m.\u001b[39;49m_image_factory\u001b[39m.\u001b[39;49mcreate(\n\u001b[1;32m    156\u001b[0m         case_id\u001b[39m=\u001b[39;49mcase_id,\n\u001b[1;32m    157\u001b[0m         stage_id\u001b[39m=\u001b[39;49m\u001b[39mself\u001b[39;49m\u001b[39m.\u001b[39;49mstage_id,\n\u001b[1;32m    158\u001b[0m         pixel_data\u001b[39m=\u001b[39;49mpixel_data,\n\u001b[1;32m    159\u001b[0m         preprocessor\u001b[39m=\u001b[39;49m\u001b[39mself\u001b[39;49m\u001b[39m.\u001b[39;49mname,\n\u001b[1;32m    160\u001b[0m         task_id\u001b[39m=\u001b[39;49m\u001b[39mself\u001b[39;49m\u001b[39m.\u001b[39;49mtask_id,\n\u001b[1;32m    161\u001b[0m     )\n",
      "File \u001b[0;32m~/projects/bcd/bcd/manage_data/entity/image.py:201\u001b[0m, in \u001b[0;36mImageFactory.create\u001b[0;34m(self, case_id, stage_id, pixel_data, preprocessor, task_id)\u001b[0m\n\u001b[1;32m    180\u001b[0m \u001b[39mdef\u001b[39;00m \u001b[39mcreate\u001b[39m(\n\u001b[1;32m    181\u001b[0m     \u001b[39mself\u001b[39m,\n\u001b[1;32m    182\u001b[0m     case_id: \u001b[39mstr\u001b[39m,\n\u001b[0;32m   (...)\u001b[0m\n\u001b[1;32m    186\u001b[0m     task_id: \u001b[39mstr\u001b[39m,\n\u001b[1;32m    187\u001b[0m ) \u001b[39m-\u001b[39m\u001b[39m>\u001b[39m Image:\n\u001b[1;32m    188\u001b[0m \u001b[39m    \u001b[39m\u001b[39m\"\"\"Creates an image from pizel data.\u001b[39;00m\n\u001b[1;32m    189\u001b[0m \n\u001b[1;32m    190\u001b[0m \u001b[39m    Args:\u001b[39;00m\n\u001b[0;32m   (...)\u001b[0m\n\u001b[1;32m    199\u001b[0m \n\u001b[1;32m    200\u001b[0m \u001b[39m    \"\"\"\u001b[39;00m\n\u001b[0;32m--> 201\u001b[0m     stage \u001b[39m=\u001b[39m \u001b[39mself\u001b[39;49m\u001b[39m.\u001b[39;49m_get_stage(stage_id\u001b[39m=\u001b[39mstage_id)\n\u001b[1;32m    203\u001b[0m     \u001b[39mid\u001b[39m \u001b[39m=\u001b[39m \u001b[39mstr\u001b[39m(uuid4())\n\u001b[1;32m    204\u001b[0m     mode \u001b[39m=\u001b[39m os\u001b[39m.\u001b[39mgetenv(\u001b[39m\"\u001b[39m\u001b[39mMODE\u001b[39m\u001b[39m\"\u001b[39m)\n",
      "\u001b[0;31mAttributeError\u001b[0m: 'ImageFactory' object has no attribute '_get_stage'"
     ]
    }
   ],
   "source": [
    "params = ImageConverterParams()\n",
    "conv = ImageConverter(params=params, task_id=\"some task id\")\n",
    "conv.execute()\n",
    "df = image_repo.get_meta()\n",
    "# visualize(task='ImageConverter', n=4)\n",
    "df.head()"
   ]
  },
  {
   "cell_type": "markdown",
   "metadata": {},
   "source": [
    "## Stage 1: Filter"
   ]
  },
  {
   "cell_type": "markdown",
   "metadata": {},
   "source": [
    "### Stage 1.0: Mean Filter"
   ]
  },
  {
   "cell_type": "code",
   "execution_count": null,
   "metadata": {},
   "outputs": [],
   "source": [
    "params = FilterParams()\n",
    "filter = MeanFilter(params)\n",
    "filter.execute()\n",
    "visualize(task='MeanFilter', n=4)"
   ]
  },
  {
   "cell_type": "markdown",
   "metadata": {},
   "source": [
    "### Stage 1.1: Median Filter"
   ]
  },
  {
   "cell_type": "code",
   "execution_count": null,
   "metadata": {},
   "outputs": [],
   "source": [
    "params = FilterParams()\n",
    "filter = MedianFilter(params)\n",
    "filter.execute()\n",
    "visualize(task='MedianFilter', n=4)"
   ]
  },
  {
   "cell_type": "markdown",
   "metadata": {},
   "source": [
    "### Stage 1.1: Gaussian Filter"
   ]
  },
  {
   "cell_type": "code",
   "execution_count": null,
   "metadata": {},
   "outputs": [],
   "source": [
    "params = FilterParams()\n",
    "filter = GaussianFilter(params)\n",
    "filter.execute()\n",
    "visualize(task='GaussianFilter', n=4)"
   ]
  },
  {
   "cell_type": "code",
   "execution_count": 7,
   "metadata": {},
   "outputs": [
    {
     "data": {
      "text/plain": [
       "'1fc60da3-2bcd-44dd-97b5-0cc6caa33f3e'"
      ]
     },
     "execution_count": 7,
     "metadata": {},
     "output_type": "execute_result"
    }
   ],
   "source": [
    "import uuid\n",
    "str(uuid.uuid4())"
   ]
  }
 ],
 "metadata": {
  "kernelspec": {
   "display_name": "bcd",
   "language": "python",
   "name": "python3"
  },
  "language_info": {
   "codemirror_mode": {
    "name": "ipython",
    "version": 3
   },
   "file_extension": ".py",
   "mimetype": "text/x-python",
   "name": "python",
   "nbconvert_exporter": "python",
   "pygments_lexer": "ipython3",
   "version": "3.10.12"
  }
 },
 "nbformat": 4,
 "nbformat_minor": 2
}
