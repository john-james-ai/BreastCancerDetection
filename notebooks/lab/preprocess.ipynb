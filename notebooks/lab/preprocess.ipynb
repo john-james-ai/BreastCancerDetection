{
 "cells": [
  {
   "cell_type": "markdown",
   "metadata": {},
   "source": [
    "# Preprocess"
   ]
  },
  {
   "cell_type": "code",
   "execution_count": 1,
   "metadata": {},
   "outputs": [],
   "source": [
    "import os\n",
    "from uuid import uuid4\n",
    "\n",
    "from prefect import flow, task\n",
    "import numpy as np\n",
    "from skimage.filters import try_all_threshold\n",
    "import matplotlib.pyplot as plt\n",
    "\n",
    "from bcd.container import BCDContainer\n",
    "from bcd.preprocess.image.convert import ImageConverter, ImageConverterParams\n",
    "from bcd.core.orchestration.task import Task\n",
    "from bcd.dal.repo.task import TaskRepo\n",
    "from bcd.config import Config\n"
   ]
  },
  {
   "cell_type": "code",
   "execution_count": 2,
   "metadata": {},
   "outputs": [],
   "source": [
    "Config.set_log_level('INFO')\n",
    "Config.set_mode('dev')"
   ]
  },
  {
   "cell_type": "code",
   "execution_count": 3,
   "metadata": {},
   "outputs": [],
   "source": [
    "IMAGE_FILEPATH = \"data/image/1_dev\""
   ]
  },
  {
   "cell_type": "code",
   "execution_count": 4,
   "metadata": {},
   "outputs": [],
   "source": [
    "container = BCDContainer()\n",
    "container.init_resources()\n",
    "container.wire(\n",
    "    packages=[\n",
    "        \"bcd.preprocess.image\",\n",
    "    ]\n",
    ")\n",
    "task_repo = container.dal.task_repo()\n",
    "image_repo = container.dal.image_repo()"
   ]
  },
  {
   "cell_type": "markdown",
   "metadata": {},
   "source": [
    "## Stage 0: Convert Images"
   ]
  },
  {
   "cell_type": "code",
   "execution_count": 5,
   "metadata": {},
   "outputs": [
    {
     "name": "stderr",
     "output_type": "stream",
     "text": [
      "[10/30/2023 05:39:21 PM] [WARNING] [ImageRepo] [delete_by_mode] : No images exist in dev mode.\n",
      "100%|██████████| 354/354 [04:46<00:00,  1.23it/s]\n"
     ]
    }
   ],
   "source": [
    "def images_converted() -> bool:\n",
    "    return len(os.listdir(IMAGE_FILEPATH)) > 0\n",
    "\n",
    "#@task\n",
    "def convert_images(frac: float):    \n",
    "    params = ImageConverterParams(frac=frac)\n",
    "    task = Task.create(method=ImageConverter, params=params)\n",
    "    task.job_id = str(uuid4())\n",
    "    task.run()\n",
    "    task_repo.add(task=task)\n",
    "    \n",
    "\n",
    "#@flow(name=\"Create Images\", log_prints=True)\n",
    "def create_images(frac: float = 0.1, force: bool = False):\n",
    "    \"\"\"Creates png images in the current environment.\"\"\"\n",
    "    if force or not images_converted():\n",
    "        image_repo.delete_by_mode()\n",
    "        convert_images(frac=frac)\n",
    "\n",
    "create_images(force=True)"
   ]
  },
  {
   "cell_type": "markdown",
   "metadata": {},
   "source": [
    "## Stage 1: Artifact Removal"
   ]
  },
  {
   "cell_type": "markdown",
   "metadata": {},
   "source": [
    "### Stage 1.0 Binary Thresholding"
   ]
  },
  {
   "cell_type": "code",
   "execution_count": null,
   "metadata": {},
   "outputs": [],
   "source": [
    "def plot_image_thresholds(image: np.ndarray):\n",
    "    fig, ax = try_all_threshold(image, figsize=(10,8), verbose=False)\n",
    "    plt.show()\n"
   ]
  },
  {
   "cell_type": "code",
   "execution_count": null,
   "metadata": {},
   "outputs": [],
   "source": [
    "def plot_thresholds():\n",
    "    STRATUM = ['abnormality_type', 'cancer', 'image_view']\n",
    "    _, images = image_repo.sample(n=2, groupby=STRATUM)\n",
    "    for _, image in images.items():\n",
    "        plot_image_thresholds(image.pixel_data.astype('float'))  \n",
    "\n",
    "plot_thresholds()"
   ]
  }
 ],
 "metadata": {
  "kernelspec": {
   "display_name": "bcd",
   "language": "python",
   "name": "python3"
  },
  "language_info": {
   "codemirror_mode": {
    "name": "ipython",
    "version": 3
   },
   "file_extension": ".py",
   "mimetype": "text/x-python",
   "name": "python",
   "nbconvert_exporter": "python",
   "pygments_lexer": "ipython3",
   "version": "3.10.12"
  }
 },
 "nbformat": 4,
 "nbformat_minor": 2
}
