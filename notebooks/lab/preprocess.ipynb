{
 "cells": [
  {
   "cell_type": "markdown",
   "metadata": {},
   "source": [
    "# Image Preprocessing"
   ]
  },
  {
   "cell_type": "markdown",
   "metadata": {},
   "source": [
    "## Inports"
   ]
  },
  {
   "cell_type": "code",
   "execution_count": 1,
   "metadata": {},
   "outputs": [],
   "source": [
    "from bcd.dal.image import ImageRepo\n",
    "from bcd.preprocess.builder import ImageProcessingJobBuilder\n",
    "from bcd.preprocess.noise import MedianFilter\n",
    "from bcd.preprocess.threshold import ThresholdTriangle\n",
    "from bcd.preprocess.artifact import ArtifactRemoverContour\n",
    "from bcd.preprocess.enhance import Enhance"
   ]
  },
  {
   "cell_type": "markdown",
   "metadata": {},
   "source": [
    "## Contants and Parameters"
   ]
  },
  {
   "cell_type": "code",
   "execution_count": 2,
   "metadata": {},
   "outputs": [],
   "source": [
    "destination = \"data/image/1_final/training_30/\"\n",
    "condition = lambda x: x['fileset'] == 'training'\n",
    "frac = 0.3\n",
    "force=True"
   ]
  },
  {
   "cell_type": "markdown",
   "metadata": {},
   "source": [
    "## Tasks"
   ]
  },
  {
   "cell_type": "code",
   "execution_count": 3,
   "metadata": {},
   "outputs": [],
   "source": [
    "noise = MedianFilter()\n",
    "thresh = ThresholdTriangle()\n",
    "artifact = ArtifactRemoverContour(binarizer=thresh)\n",
    "enhance = Enhance()"
   ]
  },
  {
   "cell_type": "code",
   "execution_count": 4,
   "metadata": {},
   "outputs": [
    {
     "name": "stderr",
     "output_type": "stream",
     "text": [
      "100%|██████████| 816/816 [04:26<00:00,  3.07it/s]\n"
     ]
    }
   ],
   "source": [
    "builder = ImageProcessingJobBuilder(repo=ImageRepo)\n",
    "builder.set_resources()\n",
    "builder.set_inputs(condition=condition, frac=frac)\n",
    "builder.set_outputs(destination=destination,force=force)\n",
    "builder.add_task(task=noise)\n",
    "builder.add_task(task=artifact)\n",
    "builder.add_task(task=enhance)\n",
    "job = builder.job\n",
    "job.run()"
   ]
  }
 ],
 "metadata": {
  "kernelspec": {
   "display_name": "bcd",
   "language": "python",
   "name": "python3"
  },
  "language_info": {
   "codemirror_mode": {
    "name": "ipython",
    "version": 3
   },
   "file_extension": ".py",
   "mimetype": "text/x-python",
   "name": "python",
   "nbconvert_exporter": "python",
   "pygments_lexer": "ipython3",
   "version": "3.10.12"
  }
 },
 "nbformat": 4,
 "nbformat_minor": 2
}
