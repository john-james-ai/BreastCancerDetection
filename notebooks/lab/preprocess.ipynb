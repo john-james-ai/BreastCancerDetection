{
 "cells": [
  {
   "cell_type": "markdown",
   "metadata": {},
   "source": [
    "# Image Preprocessing"
   ]
  },
  {
   "cell_type": "markdown",
   "metadata": {},
   "source": [
    "## Inports"
   ]
  },
  {
   "cell_type": "code",
   "execution_count": 1,
   "metadata": {},
   "outputs": [],
   "source": [
    "from bcd.dal.image import ImageRepo\n",
    "from bcd.preprocess.builder import ImageProcessingJobBuilder\n",
    "from bcd.preprocess.noise import MedianFilter\n",
    "from bcd.preprocess.threshold import ThresholdTriangle\n",
    "from bcd.preprocess.artifact import ArtifactRemoverContour\n",
    "from bcd.preprocess.enhance import Enhance"
   ]
  },
  {
   "cell_type": "markdown",
   "metadata": {},
   "source": [
    "## Contants and Parameters"
   ]
  },
  {
   "cell_type": "code",
   "execution_count": 2,
   "metadata": {},
   "outputs": [],
   "source": [
    "destination = \"data/image/1_final/training/\"\n",
    "condition = lambda x: x['fileset'] == 'training'\n",
    "force=False"
   ]
  },
  {
   "cell_type": "markdown",
   "metadata": {},
   "source": [
    "## Tasks"
   ]
  },
  {
   "cell_type": "code",
   "execution_count": 3,
   "metadata": {},
   "outputs": [],
   "source": [
    "noise = MedianFilter()\n",
    "thresh = ThresholdTriangle()\n",
    "artifact = ArtifactRemoverContour(binarizer=thresh)\n",
    "enhance = Enhance()"
   ]
  },
  {
   "cell_type": "code",
   "execution_count": 4,
   "metadata": {},
   "outputs": [
    {
     "name": "stderr",
     "output_type": "stream",
     "text": [
      "100%|██████████| 2471/2471 [08:51<00:00,  4.65it/s]\n"
     ]
    }
   ],
   "source": [
    "builder = ImageProcessingJobBuilder(repo=ImageRepo)\n",
    "builder.set_resources()\n",
    "builder.set_inputs(condition=condition)\n",
    "builder.set_outputs(destination=destination,force=force)\n",
    "builder.add_task(task=noise)\n",
    "builder.add_task(task=artifact)\n",
    "builder.add_task(task=enhance)\n",
    "job = builder.job\n",
    "job.run()"
   ]
  }
 ],
 "metadata": {
  "kernelspec": {
   "display_name": "bcd",
   "language": "python",
   "name": "python3"
  },
  "language_info": {
   "codemirror_mode": {
    "name": "ipython",
    "version": 3
   },
   "file_extension": ".py",
   "mimetype": "text/x-python",
   "name": "python",
   "nbconvert_exporter": "python",
   "pygments_lexer": "ipython3",
   "version": "3.10.12"
  }
 },
 "nbformat": 4,
 "nbformat_minor": 2
}
