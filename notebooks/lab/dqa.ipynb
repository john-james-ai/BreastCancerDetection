{
 "cells": [
  {
   "cell_type": "markdown",
   "metadata": {},
   "source": [
    "# DQA Lab"
   ]
  },
  {
   "cell_type": "code",
   "execution_count": 1,
   "metadata": {},
   "outputs": [],
   "source": [
    "import pandas as pd"
   ]
  },
  {
   "cell_type": "code",
   "execution_count": 6,
   "metadata": {},
   "outputs": [
    {
     "name": "stdout",
     "output_type": "stream",
     "text": [
      "<class 'pandas.core.frame.DataFrame'>\n",
      "RangeIndex: 1872 entries, 0 to 1871\n",
      "Data columns (total 15 columns):\n",
      " #   Column                    Non-Null Count  Dtype \n",
      "---  ------                    --------------  ----- \n",
      " 0   patient_id                1872 non-null   object\n",
      " 1   breast_density            1872 non-null   int64 \n",
      " 2   left_or_right_breast      1872 non-null   object\n",
      " 3   image_view                1872 non-null   object\n",
      " 4   abnormality_id            1872 non-null   int64 \n",
      " 5   abnormality_type          1872 non-null   object\n",
      " 6   calc_type                 1848 non-null   object\n",
      " 7   calc_distribution         1433 non-null   object\n",
      " 8   assessment                1872 non-null   int64 \n",
      " 9   pathology                 1872 non-null   object\n",
      " 10  subtlety                  1872 non-null   int64 \n",
      " 11  dataset                   1872 non-null   object\n",
      " 12  image_series_uid          1872 non-null   object\n",
      " 13  roi_mask_series_uid       1872 non-null   object\n",
      " 14  cropped_image_series_uid  1872 non-null   object\n",
      "dtypes: int64(4), object(11)\n",
      "memory usage: 219.5+ KB\n"
     ]
    }
   ],
   "source": [
    "fp = \"data/staged/calc_cases.csv\"\n",
    "df = pd.read_csv(fp)\n",
    "df.info()"
   ]
  },
  {
   "cell_type": "markdown",
   "metadata": {},
   "source": [
    "## Completeness"
   ]
  },
  {
   "cell_type": "code",
   "execution_count": 36,
   "metadata": {},
   "outputs": [
    {
     "data": {
      "text/html": [
       "<div>\n",
       "<style scoped>\n",
       "    .dataframe tbody tr th:only-of-type {\n",
       "        vertical-align: middle;\n",
       "    }\n",
       "\n",
       "    .dataframe tbody tr th {\n",
       "        vertical-align: top;\n",
       "    }\n",
       "\n",
       "    .dataframe thead th {\n",
       "        text-align: right;\n",
       "    }\n",
       "</style>\n",
       "<table border=\"1\" class=\"dataframe\">\n",
       "  <thead>\n",
       "    <tr style=\"text-align: right;\">\n",
       "      <th></th>\n",
       "      <th>N</th>\n",
       "      <th>Complete</th>\n",
       "      <th>Completeness</th>\n",
       "    </tr>\n",
       "  </thead>\n",
       "  <tbody>\n",
       "    <tr>\n",
       "      <th>patient_id</th>\n",
       "      <td>1872</td>\n",
       "      <td>1872</td>\n",
       "      <td>1.00</td>\n",
       "    </tr>\n",
       "    <tr>\n",
       "      <th>breast_density</th>\n",
       "      <td>1872</td>\n",
       "      <td>1872</td>\n",
       "      <td>1.00</td>\n",
       "    </tr>\n",
       "    <tr>\n",
       "      <th>left_or_right_breast</th>\n",
       "      <td>1872</td>\n",
       "      <td>1872</td>\n",
       "      <td>1.00</td>\n",
       "    </tr>\n",
       "    <tr>\n",
       "      <th>image_view</th>\n",
       "      <td>1872</td>\n",
       "      <td>1872</td>\n",
       "      <td>1.00</td>\n",
       "    </tr>\n",
       "    <tr>\n",
       "      <th>abnormality_id</th>\n",
       "      <td>1872</td>\n",
       "      <td>1872</td>\n",
       "      <td>1.00</td>\n",
       "    </tr>\n",
       "    <tr>\n",
       "      <th>abnormality_type</th>\n",
       "      <td>1872</td>\n",
       "      <td>1872</td>\n",
       "      <td>1.00</td>\n",
       "    </tr>\n",
       "    <tr>\n",
       "      <th>calc_type</th>\n",
       "      <td>1872</td>\n",
       "      <td>1848</td>\n",
       "      <td>0.99</td>\n",
       "    </tr>\n",
       "    <tr>\n",
       "      <th>calc_distribution</th>\n",
       "      <td>1872</td>\n",
       "      <td>1433</td>\n",
       "      <td>0.77</td>\n",
       "    </tr>\n",
       "    <tr>\n",
       "      <th>assessment</th>\n",
       "      <td>1872</td>\n",
       "      <td>1872</td>\n",
       "      <td>1.00</td>\n",
       "    </tr>\n",
       "    <tr>\n",
       "      <th>pathology</th>\n",
       "      <td>1872</td>\n",
       "      <td>1872</td>\n",
       "      <td>1.00</td>\n",
       "    </tr>\n",
       "    <tr>\n",
       "      <th>subtlety</th>\n",
       "      <td>1872</td>\n",
       "      <td>1872</td>\n",
       "      <td>1.00</td>\n",
       "    </tr>\n",
       "    <tr>\n",
       "      <th>dataset</th>\n",
       "      <td>1872</td>\n",
       "      <td>1872</td>\n",
       "      <td>1.00</td>\n",
       "    </tr>\n",
       "    <tr>\n",
       "      <th>image_series_uid</th>\n",
       "      <td>1872</td>\n",
       "      <td>1872</td>\n",
       "      <td>1.00</td>\n",
       "    </tr>\n",
       "    <tr>\n",
       "      <th>roi_mask_series_uid</th>\n",
       "      <td>1872</td>\n",
       "      <td>1872</td>\n",
       "      <td>1.00</td>\n",
       "    </tr>\n",
       "    <tr>\n",
       "      <th>cropped_image_series_uid</th>\n",
       "      <td>1872</td>\n",
       "      <td>1872</td>\n",
       "      <td>1.00</td>\n",
       "    </tr>\n",
       "  </tbody>\n",
       "</table>\n",
       "</div>"
      ],
      "text/plain": [
       "                             N  Complete  Completeness\n",
       "patient_id                1872      1872          1.00\n",
       "breast_density            1872      1872          1.00\n",
       "left_or_right_breast      1872      1872          1.00\n",
       "image_view                1872      1872          1.00\n",
       "abnormality_id            1872      1872          1.00\n",
       "abnormality_type          1872      1872          1.00\n",
       "calc_type                 1872      1848          0.99\n",
       "calc_distribution         1872      1433          0.77\n",
       "assessment                1872      1872          1.00\n",
       "pathology                 1872      1872          1.00\n",
       "subtlety                  1872      1872          1.00\n",
       "dataset                   1872      1872          1.00\n",
       "image_series_uid          1872      1872          1.00\n",
       "roi_mask_series_uid       1872      1872          1.00\n",
       "cropped_image_series_uid  1872      1872          1.00"
      ]
     },
     "execution_count": 36,
     "metadata": {},
     "output_type": "execute_result"
    },
    {
     "data": {
      "text/html": [
       "<div>\n",
       "<style scoped>\n",
       "    .dataframe tbody tr th:only-of-type {\n",
       "        vertical-align: middle;\n",
       "    }\n",
       "\n",
       "    .dataframe tbody tr th {\n",
       "        vertical-align: top;\n",
       "    }\n",
       "\n",
       "    .dataframe thead th {\n",
       "        text-align: right;\n",
       "    }\n",
       "</style>\n",
       "<table border=\"1\" class=\"dataframe\">\n",
       "  <thead>\n",
       "    <tr style=\"text-align: right;\">\n",
       "      <th></th>\n",
       "      <th>N</th>\n",
       "      <th>Complete</th>\n",
       "    </tr>\n",
       "  </thead>\n",
       "  <tbody>\n",
       "    <tr>\n",
       "      <th>0</th>\n",
       "      <td>28080</td>\n",
       "      <td>27617</td>\n",
       "    </tr>\n",
       "  </tbody>\n",
       "</table>\n",
       "</div>"
      ],
      "text/plain": [
       "       N  Complete\n",
       "0  28080     27617"
      ]
     },
     "execution_count": 36,
     "metadata": {},
     "output_type": "execute_result"
    },
    {
     "data": {
      "text/html": [
       "<div>\n",
       "<style scoped>\n",
       "    .dataframe tbody tr th:only-of-type {\n",
       "        vertical-align: middle;\n",
       "    }\n",
       "\n",
       "    .dataframe tbody tr th {\n",
       "        vertical-align: top;\n",
       "    }\n",
       "\n",
       "    .dataframe thead th {\n",
       "        text-align: right;\n",
       "    }\n",
       "</style>\n",
       "<table border=\"1\" class=\"dataframe\">\n",
       "  <thead>\n",
       "    <tr style=\"text-align: right;\">\n",
       "      <th></th>\n",
       "      <th>N</th>\n",
       "      <th>Complete</th>\n",
       "      <th>Completeness</th>\n",
       "    </tr>\n",
       "  </thead>\n",
       "  <tbody>\n",
       "    <tr>\n",
       "      <th>0</th>\n",
       "      <td>28080</td>\n",
       "      <td>27617</td>\n",
       "      <td>0.98</td>\n",
       "    </tr>\n",
       "  </tbody>\n",
       "</table>\n",
       "</div>"
      ],
      "text/plain": [
       "       N  Complete  Completeness\n",
       "0  28080     27617          0.98"
      ]
     },
     "execution_count": 36,
     "metadata": {},
     "output_type": "execute_result"
    }
   ],
   "source": [
    "complete = df.count().to_frame()\n",
    "null = df.isnull().sum()\n",
    "c = pd.concat([complete, null], axis=1)\n",
    "c.columns = ['Complete', 'Null']\n",
    "c['N'] = c['Complete'] + c['Null']\n",
    "c['Completeness'] = c['Complete'] / c['N']\n",
    "c.drop(columns='Null', inplace=True)\n",
    "c = c[['N', 'Complete', 'Completeness']]\n",
    "c\n",
    "sc = c[['N', 'Complete']].sum().to_frame().T\n",
    "sc\n",
    "sc['Completeness'] = sc['Complete'] / sc['N']\n",
    "sc\n"
   ]
  },
  {
   "cell_type": "code",
   "execution_count": 43,
   "metadata": {},
   "outputs": [
    {
     "data": {
      "text/plain": [
       "patient_id                  1872\n",
       "breast_density              1872\n",
       "left_or_right_breast        1872\n",
       "image_view                  1872\n",
       "abnormality_id              1872\n",
       "abnormality_type            1872\n",
       "calc_type                   1872\n",
       "calc_distribution           1872\n",
       "assessment                  1872\n",
       "pathology                   1872\n",
       "subtlety                    1872\n",
       "dataset                     1872\n",
       "image_series_uid            1872\n",
       "roi_mask_series_uid         1872\n",
       "cropped_image_series_uid    1872\n",
       "dtype: int64"
      ]
     },
     "execution_count": 43,
     "metadata": {},
     "output_type": "execute_result"
    }
   ],
   "source": [
    "n = df.count() + df.isnull().sum()\n",
    "n"
   ]
  },
  {
   "cell_type": "code",
   "execution_count": null,
   "metadata": {},
   "outputs": [],
   "source": []
  },
  {
   "cell_type": "code",
   "execution_count": 44,
   "metadata": {},
   "outputs": [
    {
     "data": {
      "text/plain": [
       "patient_id                  1872\n",
       "breast_density              1872\n",
       "left_or_right_breast        1872\n",
       "image_view                  1872\n",
       "abnormality_id              1872\n",
       "abnormality_type            1872\n",
       "calc_type                   1848\n",
       "calc_distribution           1433\n",
       "assessment                  1872\n",
       "pathology                   1872\n",
       "subtlety                    1872\n",
       "dataset                     1872\n",
       "image_series_uid            1872\n",
       "roi_mask_series_uid         1872\n",
       "cropped_image_series_uid    1872\n",
       "dtype: int64"
      ]
     },
     "execution_count": 44,
     "metadata": {},
     "output_type": "execute_result"
    }
   ],
   "source": [
    "c = df.notnull().sum()\n",
    "c"
   ]
  },
  {
   "cell_type": "code",
   "execution_count": 46,
   "metadata": {},
   "outputs": [
    {
     "data": {
      "text/plain": [
       "patient_id                 1.00\n",
       "breast_density             1.00\n",
       "left_or_right_breast       1.00\n",
       "image_view                 1.00\n",
       "abnormality_id             1.00\n",
       "abnormality_type           1.00\n",
       "calc_type                  0.99\n",
       "calc_distribution          0.77\n",
       "assessment                 1.00\n",
       "pathology                  1.00\n",
       "subtlety                   1.00\n",
       "dataset                    1.00\n",
       "image_series_uid           1.00\n",
       "roi_mask_series_uid        1.00\n",
       "cropped_image_series_uid   1.00\n",
       "dtype: float64"
      ]
     },
     "execution_count": 46,
     "metadata": {},
     "output_type": "execute_result"
    }
   ],
   "source": [
    "cn = c/n\n",
    "cn"
   ]
  },
  {
   "cell_type": "code",
   "execution_count": 48,
   "metadata": {},
   "outputs": [
    {
     "data": {
      "text/plain": [
       "0.983511396011396"
      ]
     },
     "execution_count": 48,
     "metadata": {},
     "output_type": "execute_result"
    }
   ],
   "source": [
    "c.sum() / n.sum()"
   ]
  },
  {
   "cell_type": "code",
   "execution_count": 49,
   "metadata": {},
   "outputs": [
    {
     "data": {
      "text/plain": [
       "patient_id                   753\n",
       "breast_density                 5\n",
       "left_or_right_breast           2\n",
       "image_view                     2\n",
       "abnormality_id                 7\n",
       "abnormality_type               1\n",
       "calc_type                     47\n",
       "calc_distribution              9\n",
       "assessment                     5\n",
       "pathology                      2\n",
       "subtlety                       5\n",
       "dataset                        2\n",
       "image_series_uid            1511\n",
       "roi_mask_series_uid         1872\n",
       "cropped_image_series_uid    1872\n",
       "dtype: int64"
      ]
     },
     "execution_count": 49,
     "metadata": {},
     "output_type": "execute_result"
    }
   ],
   "source": [
    "u = df.nunique()\n",
    "u"
   ]
  },
  {
   "cell_type": "code",
   "execution_count": 55,
   "metadata": {},
   "outputs": [
    {
     "data": {
      "text/plain": [
       "6095"
      ]
     },
     "execution_count": 55,
     "metadata": {},
     "output_type": "execute_result"
    }
   ],
   "source": [
    "df.nunique().sum()"
   ]
  },
  {
   "cell_type": "code",
   "execution_count": 50,
   "metadata": {},
   "outputs": [
    {
     "data": {
      "text/plain": [
       "patient_id                 0.40\n",
       "breast_density             0.00\n",
       "left_or_right_breast       0.00\n",
       "image_view                 0.00\n",
       "abnormality_id             0.00\n",
       "abnormality_type           0.00\n",
       "calc_type                  0.03\n",
       "calc_distribution          0.00\n",
       "assessment                 0.00\n",
       "pathology                  0.00\n",
       "subtlety                   0.00\n",
       "dataset                    0.00\n",
       "image_series_uid           0.81\n",
       "roi_mask_series_uid        1.00\n",
       "cropped_image_series_uid   1.00\n",
       "dtype: float64"
      ]
     },
     "execution_count": 50,
     "metadata": {},
     "output_type": "execute_result"
    }
   ],
   "source": [
    "u / n"
   ]
  },
  {
   "cell_type": "code",
   "execution_count": 56,
   "metadata": {},
   "outputs": [
    {
     "data": {
      "text/plain": [
       "1872"
      ]
     },
     "execution_count": 56,
     "metadata": {},
     "output_type": "execute_result"
    }
   ],
   "source": [
    "d = len(df) + (len(df)) - len(df.drop_duplicates())\n",
    "d"
   ]
  },
  {
   "cell_type": "code",
   "execution_count": 57,
   "metadata": {},
   "outputs": [
    {
     "data": {
      "text/plain": [
       "1872"
      ]
     },
     "execution_count": 57,
     "metadata": {},
     "output_type": "execute_result"
    }
   ],
   "source": [
    "len(df[df.isnull()].any(axis=1))"
   ]
  },
  {
   "cell_type": "code",
   "execution_count": 64,
   "metadata": {},
   "outputs": [
    {
     "data": {
      "text/plain": [
       "0    3\n",
       "1    3\n",
       "2    4\n",
       "3    4\n",
       "4    1\n",
       "5    1\n",
       "6    1\n",
       "7    1\n",
       "8    1\n",
       "9    1\n",
       "Name: breast_density, dtype: int64"
      ]
     },
     "execution_count": 64,
     "metadata": {},
     "output_type": "execute_result"
    },
    {
     "data": {
      "text/plain": [
       "0.10737179487179487"
      ]
     },
     "execution_count": 64,
     "metadata": {},
     "output_type": "execute_result"
    }
   ],
   "source": [
    "values [1,2]\n",
    "df['breast_density'].isin(values).sum() "
   ]
  }
 ],
 "metadata": {
  "kernelspec": {
   "display_name": "bcd",
   "language": "python",
   "name": "python3"
  },
  "language_info": {
   "codemirror_mode": {
    "name": "ipython",
    "version": 3
   },
   "file_extension": ".py",
   "mimetype": "text/x-python",
   "name": "python",
   "nbconvert_exporter": "python",
   "pygments_lexer": "ipython3",
   "version": "3.10.12"
  },
  "orig_nbformat": 4
 },
 "nbformat": 4,
 "nbformat_minor": 2
}
