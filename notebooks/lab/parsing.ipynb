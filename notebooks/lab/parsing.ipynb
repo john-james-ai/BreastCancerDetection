{
 "cells": [
  {
   "cell_type": "code",
   "execution_count": 2,
   "metadata": {},
   "outputs": [],
   "source": [
    "import os\n",
    "import pandas as pd \n",
    "from glob import glob\n",
    "import os\n"
   ]
  },
  {
   "cell_type": "code",
   "execution_count": 10,
   "metadata": {},
   "outputs": [],
   "source": [
    "fp = \"data/meta/1_staged/dicom.csv\"\n",
    "PATH = \"data/raw/CBIS-DDSM/Calc-Test_P_00041_LEFT_CC/08-29-2017-DDSM-52275/1.000000-full mammogram images-92812/1-1.dcm\"\n",
    "path = PATH.replace('data/raw/', 'data/meta/1_staged/')"
   ]
  },
  {
   "cell_type": "code",
   "execution_count": 15,
   "metadata": {},
   "outputs": [
    {
     "data": {
      "text/plain": [
       "'Calc-Test_P_00041_LEFT_CC'"
      ]
     },
     "execution_count": 15,
     "metadata": {},
     "output_type": "execute_result"
    }
   ],
   "source": [
    "path.split('/')[:-1][3]"
   ]
  },
  {
   "cell_type": "code",
   "execution_count": 17,
   "metadata": {},
   "outputs": [
    {
     "data": {
      "text/plain": [
       "['data/meta/1_staged/CBIS-DDSM/Calc-Training_P_00735_LEFT_MLO/08-07-2016-DDSM-00169/1.000000-full mammogram images-75993/1-1.png',\n",
       " 'data/meta/1_staged/CBIS-DDSM/Mass-Training_P_01635_LEFT_MLO/07-20-2016-DDSM-74110/1.000000-full mammogram images-95128/1-1.png',\n",
       " 'data/meta/1_staged/CBIS-DDSM/Calc-Training_P_00480_RIGHT_CC/08-07-2016-DDSM-10891/1.000000-full mammogram images-70112/1-1.png',\n",
       " 'data/meta/1_staged/CBIS-DDSM/Calc-Training_P_02105_LEFT_CC/08-07-2016-DDSM-23146/1.000000-full mammogram images-44812/1-1.png',\n",
       " 'data/meta/1_staged/CBIS-DDSM/Calc-Training_P_01099_RIGHT_CC/08-07-2016-DDSM-08360/1.000000-full mammogram images-95571/1-1.png',\n",
       " 'data/meta/1_staged/CBIS-DDSM/Mass-Training_P_00577_RIGHT_MLO/07-20-2016-DDSM-39658/1.000000-full mammogram images-36804/1-1.png',\n",
       " 'data/meta/1_staged/CBIS-DDSM/Mass-Training_P_00351_LEFT_MLO/07-20-2016-DDSM-18898/1.000000-full mammogram images-24084/1-1.png',\n",
       " 'data/meta/1_staged/CBIS-DDSM/Calc-Training_P_00787_LEFT_CC/08-07-2016-DDSM-40969/1.000000-full mammogram images-90043/1-1.png',\n",
       " 'data/meta/1_staged/CBIS-DDSM/Mass-Training_P_01543_RIGHT_CC/07-20-2016-DDSM-01932/1.000000-full mammogram images-56900/1-1.png',\n",
       " 'data/meta/1_staged/CBIS-DDSM/Mass-Training_P_01175_LEFT_MLO/07-20-2016-DDSM-99871/1.000000-full mammogram images-26339/1-1.png',\n",
       " 'data/meta/1_staged/CBIS-DDSM/Mass-Training_P_00106_RIGHT_CC/07-20-2016-DDSM-41536/1.000000-full mammogram images-92446/1-1.png',\n",
       " 'data/meta/1_staged/CBIS-DDSM/Calc-Training_P_00432_RIGHT_CC/08-07-2016-DDSM-26696/1.000000-full mammogram images-94630/1-1.png',\n",
       " 'data/meta/1_staged/CBIS-DDSM/Mass-Training_P_01474_RIGHT_MLO/07-20-2016-DDSM-71924/1.000000-full mammogram images-98262/1-1.png',\n",
       " 'data/meta/1_staged/CBIS-DDSM/Calc-Training_P_00448_LEFT_CC/08-07-2016-DDSM-89424/1.000000-full mammogram images-38835/1-1.png',\n",
       " 'data/meta/1_staged/CBIS-DDSM/Mass-Training_P_00224_LEFT_MLO/07-20-2016-DDSM-44250/1.000000-full mammogram images-27010/1-1.png',\n",
       " 'data/meta/1_staged/CBIS-DDSM/Calc-Training_P_00682_RIGHT_MLO/08-07-2016-DDSM-67591/1.000000-full mammogram images-32040/1-1.png',\n",
       " 'data/meta/1_staged/CBIS-DDSM/Mass-Training_P_00545_LEFT_MLO/07-20-2016-DDSM-52111/1.000000-full mammogram images-44043/1-1.png',\n",
       " 'data/meta/1_staged/CBIS-DDSM/Mass-Training_P_01780_LEFT_CC/07-20-2016-DDSM-01733/1.000000-full mammogram images-32117/1-1.png',\n",
       " 'data/meta/1_staged/CBIS-DDSM/Calc-Training_P_01362_RIGHT_MLO/08-07-2016-DDSM-41709/1.000000-full mammogram images-69818/1-1.png',\n",
       " 'data/meta/1_staged/CBIS-DDSM/Mass-Training_P_01725_RIGHT_MLO/07-20-2016-DDSM-71342/1.000000-full mammogram images-97997/1-1.png',\n",
       " 'data/meta/1_staged/CBIS-DDSM/Calc-Training_P_02154_LEFT_MLO/08-07-2016-DDSM-13054/1.000000-full mammogram images-48375/1-1.png',\n",
       " 'data/meta/1_staged/CBIS-DDSM/Calc-Training_P_01884_RIGHT_CC/08-07-2016-DDSM-66890/1.000000-full mammogram images-83879/1-1.png',\n",
       " 'data/meta/1_staged/CBIS-DDSM/Mass-Training_P_01612_LEFT_CC/07-20-2016-DDSM-01526/1.000000-full mammogram images-58556/1-1.png',\n",
       " 'data/meta/1_staged/CBIS-DDSM/Calc-Training_P_01291_RIGHT_CC/08-07-2016-DDSM-67116/1.000000-full mammogram images-60024/1-1.png',\n",
       " 'data/meta/1_staged/CBIS-DDSM/Mass-Training_P_01753_RIGHT_MLO/07-20-2016-DDSM-58042/1.000000-full mammogram images-10201/1-1.png',\n",
       " 'data/meta/1_staged/CBIS-DDSM/Calc-Training_P_01121_RIGHT_CC/08-07-2016-DDSM-63025/1.000000-full mammogram images-73270/1-1.png',\n",
       " 'data/meta/1_staged/CBIS-DDSM/Mass-Training_P_00354_LEFT_CC/07-20-2016-DDSM-35595/1.000000-full mammogram images-42349/1-1.png',\n",
       " 'data/meta/1_staged/CBIS-DDSM/Calc-Training_P_00955_RIGHT_CC/08-07-2016-DDSM-88749/1.000000-full mammogram images-66852/1-1.png',\n",
       " 'data/meta/1_staged/CBIS-DDSM/Calc-Training_P_00321_LEFT_CC/08-07-2016-DDSM-86163/1.000000-full mammogram images-49800/1-1.png',\n",
       " 'data/meta/1_staged/CBIS-DDSM/Calc-Training_P_00704_LEFT_MLO/08-07-2016-DDSM-63209/1.000000-full mammogram images-26561/1-1.png',\n",
       " 'data/meta/1_staged/CBIS-DDSM/Mass-Training_P_00553_LEFT_MLO/07-20-2016-DDSM-18070/1.000000-full mammogram images-07183/1-1.png',\n",
       " 'data/meta/1_staged/CBIS-DDSM/Mass-Training_P_00742_LEFT_CC/07-20-2016-DDSM-19966/1.000000-full mammogram images-40442/1-1.png',\n",
       " 'data/meta/1_staged/CBIS-DDSM/Mass-Training_P_00205_RIGHT_CC/07-20-2016-DDSM-06911/1.000000-full mammogram images-79622/1-1.png',\n",
       " 'data/meta/1_staged/CBIS-DDSM/Mass-Training_P_01155_RIGHT_MLO/07-20-2016-DDSM-49003/1.000000-full mammogram images-52210/1-1.png',\n",
       " 'data/meta/1_staged/CBIS-DDSM/Calc-Training_P_01137_LEFT_CC/08-07-2016-DDSM-34941/1.000000-full mammogram images-28970/1-1.png',\n",
       " 'data/meta/1_staged/CBIS-DDSM/Calc-Training_P_00538_RIGHT_CC/08-07-2016-DDSM-30700/1.000000-full mammogram images-44535/1-1.png',\n",
       " 'data/meta/1_staged/CBIS-DDSM/Mass-Training_P_00894_RIGHT_MLO/07-20-2016-DDSM-79585/1.000000-full mammogram images-44353/1-1.png',\n",
       " 'data/meta/1_staged/CBIS-DDSM/Calc-Training_P_00008_RIGHT_CC/08-07-2016-DDSM-64555/1.000000-full mammogram images-28729/1-1.png',\n",
       " 'data/meta/1_staged/CBIS-DDSM/Calc-Training_P_01286_LEFT_MLO/08-07-2016-DDSM-09531/1.000000-full mammogram images-07689/1-1.png',\n",
       " 'data/meta/1_staged/CBIS-DDSM/Calc-Training_P_00992_RIGHT_MLO/08-07-2016-DDSM-76756/1.000000-full mammogram images-98164/1-1.png']"
      ]
     },
     "execution_count": 17,
     "metadata": {},
     "output_type": "execute_result"
    }
   ],
   "source": [
    "glob('data/meta/1_staged/**/*.png', recursive=True)"
   ]
  },
  {
   "cell_type": "code",
   "execution_count": 11,
   "metadata": {},
   "outputs": [
    {
     "data": {
      "text/plain": [
       "0    P_01378\n",
       "1    P_00335\n",
       "2    P_00820\n",
       "3    P_01632\n",
       "4    P_01632\n",
       "Name: case_id, dtype: object"
      ]
     },
     "execution_count": 11,
     "metadata": {},
     "output_type": "execute_result"
    },
    {
     "data": {
      "text/plain": [
       "0    RIGHT\n",
       "1     LEFT\n",
       "2     LEFT\n",
       "3    RIGHT\n",
       "4    RIGHT\n",
       "Name: 2, dtype: object"
      ]
     },
     "execution_count": 11,
     "metadata": {},
     "output_type": "execute_result"
    },
    {
     "data": {
      "text/plain": [
       "0    mass\n",
       "1    mass\n",
       "2    mass\n",
       "3    mass\n",
       "4    mass\n",
       "Name: 3, dtype: object"
      ]
     },
     "execution_count": 11,
     "metadata": {},
     "output_type": "execute_result"
    },
    {
     "data": {
      "text/plain": [
       "0     CC\n",
       "1    MLO\n",
       "2    MLO\n",
       "3     CC\n",
       "4     CC\n",
       "Name: 4, dtype: object"
      ]
     },
     "execution_count": 11,
     "metadata": {},
     "output_type": "execute_result"
    }
   ],
   "source": [
    "df = pd.read_csv(fp)\n",
    "pid = df[\"case_id\"].str[:7]\n",
    "cidsplit = df[\"case_id\"].str.split(\"_\", expand=True)\n",
    "side = cidsplit[2]\n",
    "atype = cidsplit[3]\n",
    "image_view = cidsplit[4]\n",
    "\n",
    "\n",
    "pid.head()\n",
    "side.head()\n",
    "atype.head()\n",
    "image_view.head()\n",
    "\n"
   ]
  },
  {
   "cell_type": "code",
   "execution_count": 22,
   "metadata": {},
   "outputs": [
    {
     "data": {
      "text/plain": [
       "'P_01004'"
      ]
     },
     "execution_count": 22,
     "metadata": {},
     "output_type": "execute_result"
    }
   ],
   "source": [
    "sid = df['subject_id']\n",
    "sids = sid[0].split(\"_\")\n",
    "sids = sids[1] + \"_\" + sids[2]\n",
    "sids"
   ]
  },
  {
   "cell_type": "code",
   "execution_count": 27,
   "metadata": {},
   "outputs": [
    {
     "name": "stdout",
     "output_type": "stream",
     "text": [
      "1.3.6.1.4.1.9590.100.1.2.265198230512455509519670552392409889570\n"
     ]
    }
   ],
   "source": [
    "for _, row in df.iterrows():\n",
    "    print(row['study_uid'])\n",
    "    break"
   ]
  },
  {
   "cell_type": "code",
   "execution_count": 3,
   "metadata": {},
   "outputs": [
    {
     "data": {
      "text/plain": [
       "14"
      ]
     },
     "execution_count": 3,
     "metadata": {},
     "output_type": "execute_result"
    }
   ],
   "source": [
    "fp = \"data/meta/0_raw/mass_case_description_test_set.csv\"\n",
    "df = pd.read_csv(fp)\n",
    "def replace_spaces(colname: str) -> str:\n",
    "    return colname.replace(\" \", \"_\")\n",
    "df.columns = df.columns.to_series().apply(replace_spaces)\n",
    "len(df.columns)"
   ]
  },
  {
   "cell_type": "code",
   "execution_count": 26,
   "metadata": {},
   "outputs": [
    {
     "data": {
      "text/plain": [
       "'RIGHT'"
      ]
     },
     "execution_count": 26,
     "metadata": {},
     "output_type": "execute_result"
    }
   ],
   "source": [
    "s1 = \"Calc-Training_P_01128_RIGHT_CC_1\"\n",
    "d = \"P_\"\n",
    "pid = s1[s1.index(d)+len(d) :].split(\"_\")[1]\n",
    "pid"
   ]
  },
  {
   "cell_type": "code",
   "execution_count": 12,
   "metadata": {},
   "outputs": [
    {
     "ename": "ModuleNotFoundError",
     "evalue": "No module named 'skimage'",
     "output_type": "error",
     "traceback": [
      "\u001b[0;31m---------------------------------------------------------------------------\u001b[0m",
      "\u001b[0;31mModuleNotFoundError\u001b[0m                       Traceback (most recent call last)",
      "\u001b[1;32m/home/john/projects/bcd/notebooks/lab/parsing.ipynb Cell 8\u001b[0m line \u001b[0;36m1\n\u001b[0;32m----> <a href='vscode-notebook-cell://wsl%2Bubuntu/home/john/projects/bcd/notebooks/lab/parsing.ipynb#X10sdnNjb2RlLXJlbW90ZQ%3D%3D?line=0'>1</a>\u001b[0m \u001b[39mimport\u001b[39;00m \u001b[39mskimage\u001b[39;00m \u001b[39mas\u001b[39;00m \u001b[39msk\u001b[39;00m\n\u001b[1;32m      <a href='vscode-notebook-cell://wsl%2Bubuntu/home/john/projects/bcd/notebooks/lab/parsing.ipynb#X10sdnNjb2RlLXJlbW90ZQ%3D%3D?line=1'>2</a>\u001b[0m sk\u001b[39m.\u001b[39m__version__\n",
      "\u001b[0;31mModuleNotFoundError\u001b[0m: No module named 'skimage'"
     ]
    }
   ],
   "source": [
    "import skimage as sk\n",
    "sk.__version__"
   ]
  }
 ],
 "metadata": {
  "kernelspec": {
   "display_name": "bcd",
   "language": "python",
   "name": "python3"
  },
  "language_info": {
   "codemirror_mode": {
    "name": "ipython",
    "version": 3
   },
   "file_extension": ".py",
   "mimetype": "text/x-python",
   "name": "python",
   "nbconvert_exporter": "python",
   "pygments_lexer": "ipython3",
   "version": "3.10.12"
  },
  "orig_nbformat": 4
 },
 "nbformat": 4,
 "nbformat_minor": 2
}
