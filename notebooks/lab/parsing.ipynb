{
 "cells": [
  {
   "cell_type": "code",
   "execution_count": 1,
   "metadata": {},
   "outputs": [],
   "source": [
    "import pandas as pd \n",
    "from glob import glob\n",
    "import os\n",
    "\n",
    "from bcd.data_prep.meta import MetaPrep"
   ]
  },
  {
   "cell_type": "code",
   "execution_count": 16,
   "metadata": {},
   "outputs": [],
   "source": [
    "base = \"data/raw/\"\n",
    "fpi = \"data/processed/input/meta/metadata.csv\"\n",
    "fpo = \"data/processed/input/meta/image_metadata.csv\"\n",
    "dpo = \"/home/john/projects/bcd/data/raw/CBIS-DDSM\""
   ]
  },
  {
   "cell_type": "code",
   "execution_count": 18,
   "metadata": {},
   "outputs": [
    {
     "data": {
      "text/html": [
       "<div>\n",
       "<style scoped>\n",
       "    .dataframe tbody tr th:only-of-type {\n",
       "        vertical-align: middle;\n",
       "    }\n",
       "\n",
       "    .dataframe tbody tr th {\n",
       "        vertical-align: top;\n",
       "    }\n",
       "\n",
       "    .dataframe thead th {\n",
       "        text-align: right;\n",
       "    }\n",
       "</style>\n",
       "<table border=\"1\" class=\"dataframe\">\n",
       "  <thead>\n",
       "    <tr style=\"text-align: right;\">\n",
       "      <th></th>\n",
       "      <th>series_uid</th>\n",
       "      <th>collection</th>\n",
       "      <th>data_description_uri</th>\n",
       "      <th>subject_id</th>\n",
       "      <th>study_uid</th>\n",
       "      <th>study_date</th>\n",
       "      <th>series_description</th>\n",
       "      <th>modality</th>\n",
       "      <th>sop_class_name</th>\n",
       "      <th>sop_class_uid</th>\n",
       "      <th>number_of_images</th>\n",
       "      <th>file_size</th>\n",
       "      <th>file_location</th>\n",
       "      <th>download_timestamp</th>\n",
       "      <th>casetype</th>\n",
       "      <th>fileset</th>\n",
       "    </tr>\n",
       "  </thead>\n",
       "  <tbody>\n",
       "    <tr>\n",
       "      <th>0</th>\n",
       "      <td>1.3.6.1.4.1.9590.100.1.2.294445047912407030012...</td>\n",
       "      <td>CBIS-DDSM</td>\n",
       "      <td>https://doi.org/10.7937/K9/TCIA.2016.7O02S9CY</td>\n",
       "      <td>Calc-Test_P_01004_LEFT_MLO_1</td>\n",
       "      <td>1.3.6.1.4.1.9590.100.1.2.265198230512455509519...</td>\n",
       "      <td>08-29-2017</td>\n",
       "      <td>ROI mask images</td>\n",
       "      <td>MG</td>\n",
       "      <td>Secondary Capture Image Storage</td>\n",
       "      <td>1.2.840.10008.5.1.4.1.1.7</td>\n",
       "      <td>2</td>\n",
       "      <td>23.65 MB</td>\n",
       "      <td>./CBIS-DDSM/Calc-Test_P_01004_LEFT_MLO_1/08-29...</td>\n",
       "      <td>2023-05-24T02:45:44.375</td>\n",
       "      <td>calc</td>\n",
       "      <td>test</td>\n",
       "    </tr>\n",
       "    <tr>\n",
       "      <th>1</th>\n",
       "      <td>1.3.6.1.4.1.9590.100.1.2.188613955710170417803...</td>\n",
       "      <td>CBIS-DDSM</td>\n",
       "      <td>https://doi.org/10.7937/K9/TCIA.2016.7O02S9CY</td>\n",
       "      <td>Calc-Test_P_00038_LEFT_MLO_1</td>\n",
       "      <td>1.3.6.1.4.1.9590.100.1.2.291121996131431385353...</td>\n",
       "      <td>08-29-2017</td>\n",
       "      <td>ROI mask images</td>\n",
       "      <td>MG</td>\n",
       "      <td>Secondary Capture Image Storage</td>\n",
       "      <td>1.2.840.10008.5.1.4.1.1.7</td>\n",
       "      <td>2</td>\n",
       "      <td>14.62 MB</td>\n",
       "      <td>./CBIS-DDSM/Calc-Test_P_00038_LEFT_MLO_1/08-29...</td>\n",
       "      <td>2023-05-24T02:45:45.621</td>\n",
       "      <td>calc</td>\n",
       "      <td>test</td>\n",
       "    </tr>\n",
       "    <tr>\n",
       "      <th>2</th>\n",
       "      <td>1.3.6.1.4.1.9590.100.1.2.399466258212646932018...</td>\n",
       "      <td>CBIS-DDSM</td>\n",
       "      <td>https://doi.org/10.7937/K9/TCIA.2016.7O02S9CY</td>\n",
       "      <td>Calc-Test_P_00041_LEFT_MLO_2</td>\n",
       "      <td>1.3.6.1.4.1.9590.100.1.2.372962290011068589008...</td>\n",
       "      <td>08-29-2017</td>\n",
       "      <td>ROI mask images</td>\n",
       "      <td>MG</td>\n",
       "      <td>Secondary Capture Image Storage</td>\n",
       "      <td>1.2.840.10008.5.1.4.1.1.7</td>\n",
       "      <td>2</td>\n",
       "      <td>22.93 MB</td>\n",
       "      <td>./CBIS-DDSM/Calc-Test_P_00041_LEFT_MLO_2/08-29...</td>\n",
       "      <td>2023-05-24T02:45:46.7</td>\n",
       "      <td>calc</td>\n",
       "      <td>test</td>\n",
       "    </tr>\n",
       "    <tr>\n",
       "      <th>3</th>\n",
       "      <td>1.3.6.1.4.1.9590.100.1.2.419081637812053404913...</td>\n",
       "      <td>CBIS-DDSM</td>\n",
       "      <td>https://doi.org/10.7937/K9/TCIA.2016.7O02S9CY</td>\n",
       "      <td>Calc-Test_P_00038_LEFT_CC_1</td>\n",
       "      <td>1.3.6.1.4.1.9590.100.1.2.161465562211359959230...</td>\n",
       "      <td>08-29-2017</td>\n",
       "      <td>ROI mask images</td>\n",
       "      <td>MG</td>\n",
       "      <td>Secondary Capture Image Storage</td>\n",
       "      <td>1.2.840.10008.5.1.4.1.1.7</td>\n",
       "      <td>2</td>\n",
       "      <td>14.06 MB</td>\n",
       "      <td>./CBIS-DDSM/Calc-Test_P_00038_LEFT_CC_1/08-29-...</td>\n",
       "      <td>2023-05-24T02:45:47.806</td>\n",
       "      <td>calc</td>\n",
       "      <td>test</td>\n",
       "    </tr>\n",
       "    <tr>\n",
       "      <th>4</th>\n",
       "      <td>1.3.6.1.4.1.9590.100.1.2.284547955212024760928...</td>\n",
       "      <td>CBIS-DDSM</td>\n",
       "      <td>https://doi.org/10.7937/K9/TCIA.2016.7O02S9CY</td>\n",
       "      <td>Calc-Test_P_00485_LEFT_CC_3</td>\n",
       "      <td>1.3.6.1.4.1.9590.100.1.2.188175119112669404616...</td>\n",
       "      <td>08-29-2017</td>\n",
       "      <td>ROI mask images</td>\n",
       "      <td>MG</td>\n",
       "      <td>Secondary Capture Image Storage</td>\n",
       "      <td>1.2.840.10008.5.1.4.1.1.7</td>\n",
       "      <td>2</td>\n",
       "      <td>24.81 MB</td>\n",
       "      <td>./CBIS-DDSM/Calc-Test_P_00485_LEFT_CC_3/08-29-...</td>\n",
       "      <td>2023-05-24T02:45:49.07</td>\n",
       "      <td>calc</td>\n",
       "      <td>test</td>\n",
       "    </tr>\n",
       "  </tbody>\n",
       "</table>\n",
       "</div>"
      ],
      "text/plain": [
       "                                          series_uid collection  \\\n",
       "0  1.3.6.1.4.1.9590.100.1.2.294445047912407030012...  CBIS-DDSM   \n",
       "1  1.3.6.1.4.1.9590.100.1.2.188613955710170417803...  CBIS-DDSM   \n",
       "2  1.3.6.1.4.1.9590.100.1.2.399466258212646932018...  CBIS-DDSM   \n",
       "3  1.3.6.1.4.1.9590.100.1.2.419081637812053404913...  CBIS-DDSM   \n",
       "4  1.3.6.1.4.1.9590.100.1.2.284547955212024760928...  CBIS-DDSM   \n",
       "\n",
       "                            data_description_uri  \\\n",
       "0  https://doi.org/10.7937/K9/TCIA.2016.7O02S9CY   \n",
       "1  https://doi.org/10.7937/K9/TCIA.2016.7O02S9CY   \n",
       "2  https://doi.org/10.7937/K9/TCIA.2016.7O02S9CY   \n",
       "3  https://doi.org/10.7937/K9/TCIA.2016.7O02S9CY   \n",
       "4  https://doi.org/10.7937/K9/TCIA.2016.7O02S9CY   \n",
       "\n",
       "                     subject_id  \\\n",
       "0  Calc-Test_P_01004_LEFT_MLO_1   \n",
       "1  Calc-Test_P_00038_LEFT_MLO_1   \n",
       "2  Calc-Test_P_00041_LEFT_MLO_2   \n",
       "3   Calc-Test_P_00038_LEFT_CC_1   \n",
       "4   Calc-Test_P_00485_LEFT_CC_3   \n",
       "\n",
       "                                           study_uid  study_date  \\\n",
       "0  1.3.6.1.4.1.9590.100.1.2.265198230512455509519...  08-29-2017   \n",
       "1  1.3.6.1.4.1.9590.100.1.2.291121996131431385353...  08-29-2017   \n",
       "2  1.3.6.1.4.1.9590.100.1.2.372962290011068589008...  08-29-2017   \n",
       "3  1.3.6.1.4.1.9590.100.1.2.161465562211359959230...  08-29-2017   \n",
       "4  1.3.6.1.4.1.9590.100.1.2.188175119112669404616...  08-29-2017   \n",
       "\n",
       "  series_description modality                   sop_class_name  \\\n",
       "0    ROI mask images       MG  Secondary Capture Image Storage   \n",
       "1    ROI mask images       MG  Secondary Capture Image Storage   \n",
       "2    ROI mask images       MG  Secondary Capture Image Storage   \n",
       "3    ROI mask images       MG  Secondary Capture Image Storage   \n",
       "4    ROI mask images       MG  Secondary Capture Image Storage   \n",
       "\n",
       "               sop_class_uid  number_of_images file_size  \\\n",
       "0  1.2.840.10008.5.1.4.1.1.7                 2  23.65 MB   \n",
       "1  1.2.840.10008.5.1.4.1.1.7                 2  14.62 MB   \n",
       "2  1.2.840.10008.5.1.4.1.1.7                 2  22.93 MB   \n",
       "3  1.2.840.10008.5.1.4.1.1.7                 2  14.06 MB   \n",
       "4  1.2.840.10008.5.1.4.1.1.7                 2  24.81 MB   \n",
       "\n",
       "                                       file_location       download_timestamp  \\\n",
       "0  ./CBIS-DDSM/Calc-Test_P_01004_LEFT_MLO_1/08-29...  2023-05-24T02:45:44.375   \n",
       "1  ./CBIS-DDSM/Calc-Test_P_00038_LEFT_MLO_1/08-29...  2023-05-24T02:45:45.621   \n",
       "2  ./CBIS-DDSM/Calc-Test_P_00041_LEFT_MLO_2/08-29...    2023-05-24T02:45:46.7   \n",
       "3  ./CBIS-DDSM/Calc-Test_P_00038_LEFT_CC_1/08-29-...  2023-05-24T02:45:47.806   \n",
       "4  ./CBIS-DDSM/Calc-Test_P_00485_LEFT_CC_3/08-29-...   2023-05-24T02:45:49.07   \n",
       "\n",
       "  casetype fileset  \n",
       "0     calc    test  \n",
       "1     calc    test  \n",
       "2     calc    test  \n",
       "3     calc    test  \n",
       "4     calc    test  "
      ]
     },
     "execution_count": 18,
     "metadata": {},
     "output_type": "execute_result"
    },
    {
     "data": {
      "text/plain": [
       "'data/raw/CBIS-DDSM/Calc-Test_P_01004_LEFT_MLO_1/08-29-2017-DDSM-89570/1.000000-ROI mask images-17726**/*.dcm'"
      ]
     },
     "execution_count": 18,
     "metadata": {},
     "output_type": "execute_result"
    },
    {
     "data": {
      "text/plain": [
       "['data/raw/CBIS-DDSM/Calc-Test_P_01004_LEFT_MLO_1/08-29-2017-DDSM-89570/1.000000-ROI mask images-17726/1-2.dcm',\n",
       " 'data/raw/CBIS-DDSM/Calc-Test_P_01004_LEFT_MLO_1/08-29-2017-DDSM-89570/1.000000-ROI mask images-17726/1-1.dcm']"
      ]
     },
     "execution_count": 18,
     "metadata": {},
     "output_type": "execute_result"
    }
   ],
   "source": [
    "df = pd.read_csv(fpi)\n",
    "df.head()\n",
    "floc = df['file_location'][0]\n",
    "floc = floc.replace(\"./CBIS\", \"CBIS\")\n",
    "floc = os.path.join(base,floc)\n",
    "floc = floc + \"**/*.dcm\"\n",
    "floc\n",
    "glob(floc, recursive=True)\n",
    "\n"
   ]
  },
  {
   "cell_type": "code",
   "execution_count": 22,
   "metadata": {},
   "outputs": [
    {
     "data": {
      "text/plain": [
       "'P_01004'"
      ]
     },
     "execution_count": 22,
     "metadata": {},
     "output_type": "execute_result"
    }
   ],
   "source": [
    "sid = df['subject_id']\n",
    "sids = sid[0].split(\"_\")\n",
    "sids = sids[1] + \"_\" + sids[2]\n",
    "sids"
   ]
  },
  {
   "cell_type": "code",
   "execution_count": 27,
   "metadata": {},
   "outputs": [
    {
     "name": "stdout",
     "output_type": "stream",
     "text": [
      "1.3.6.1.4.1.9590.100.1.2.265198230512455509519670552392409889570\n"
     ]
    }
   ],
   "source": [
    "for _, row in df.iterrows():\n",
    "    print(row['study_uid'])\n",
    "    break"
   ]
  }
 ],
 "metadata": {
  "kernelspec": {
   "display_name": "bcd",
   "language": "python",
   "name": "python3"
  },
  "language_info": {
   "codemirror_mode": {
    "name": "ipython",
    "version": 3
   },
   "file_extension": ".py",
   "mimetype": "text/x-python",
   "name": "python",
   "nbconvert_exporter": "python",
   "pygments_lexer": "ipython3",
   "version": "3.10.12"
  },
  "orig_nbformat": 4
 },
 "nbformat": 4,
 "nbformat_minor": 2
}
