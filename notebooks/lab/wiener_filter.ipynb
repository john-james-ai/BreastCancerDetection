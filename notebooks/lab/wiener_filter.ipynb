{
 "cells": [
  {
   "cell_type": "markdown",
   "metadata": {},
   "source": [
    "# Wiener Filter"
   ]
  },
  {
   "cell_type": "code",
   "execution_count": 1,
   "metadata": {},
   "outputs": [],
   "source": [
    "import cv2\n",
    "import numpy as np\n",
    "import matplotlib.pyplot as plt\n",
    "from skimage.util import random_noise\n",
    "from skimage.filters import wiener\n",
    "\n",
    "from bcd.utils.image import convert_uint8\n"
   ]
  },
  {
   "cell_type": "code",
   "execution_count": 2,
   "metadata": {},
   "outputs": [],
   "source": [
    "FP_ORIG = \"jbook/figures/mammogram.png\"\n",
    "CMAP = 'gray'"
   ]
  },
  {
   "cell_type": "code",
   "execution_count": 3,
   "metadata": {},
   "outputs": [
    {
     "ename": "TypeError",
     "evalue": "wiener() missing 2 required positional arguments: 'psf' and 'balance'",
     "output_type": "error",
     "traceback": [
      "\u001b[0;31m---------------------------------------------------------------------------\u001b[0m",
      "\u001b[0;31mTypeError\u001b[0m                                 Traceback (most recent call last)",
      "\u001b[1;32m/home/john/projects/bcd/notebooks/lab/wiener_filter.ipynb Cell 4\u001b[0m line \u001b[0;36m9\n\u001b[1;32m      <a href='vscode-notebook-cell://wsl%2Bubuntu/home/john/projects/bcd/notebooks/lab/wiener_filter.ipynb#W3sdnNjb2RlLXJlbW90ZQ%3D%3D?line=5'>6</a>\u001b[0m gx \u001b[39m=\u001b[39m convert_uint8(gx)\n\u001b[1;32m      <a href='vscode-notebook-cell://wsl%2Bubuntu/home/john/projects/bcd/notebooks/lab/wiener_filter.ipynb#W3sdnNjb2RlLXJlbW90ZQ%3D%3D?line=7'>8</a>\u001b[0m \u001b[39m# Apply the 3x3 mean filter kernel \u001b[39;00m\n\u001b[0;32m----> <a href='vscode-notebook-cell://wsl%2Bubuntu/home/john/projects/bcd/notebooks/lab/wiener_filter.ipynb#W3sdnNjb2RlLXJlbW90ZQ%3D%3D?line=8'>9</a>\u001b[0m fx2 \u001b[39m=\u001b[39m wiener(gx)\n\u001b[1;32m     <a href='vscode-notebook-cell://wsl%2Bubuntu/home/john/projects/bcd/notebooks/lab/wiener_filter.ipynb#W3sdnNjb2RlLXJlbW90ZQ%3D%3D?line=10'>11</a>\u001b[0m \u001b[39m# Subtract the filtered \u001b[39;00m\n\u001b[1;32m     <a href='vscode-notebook-cell://wsl%2Bubuntu/home/john/projects/bcd/notebooks/lab/wiener_filter.ipynb#W3sdnNjb2RlLXJlbW90ZQ%3D%3D?line=11'>12</a>\u001b[0m nx \u001b[39m=\u001b[39m gx \u001b[39m-\u001b[39m fx2\n",
      "\u001b[0;31mTypeError\u001b[0m: wiener() missing 2 required positional arguments: 'psf' and 'balance'"
     ]
    }
   ],
   "source": [
    "# Obtain the source image\n",
    "fx = cv2.imread(FP_ORIG)\n",
    "\n",
    "# Add random Gaussian noise with zero mean and variance of 0.1\n",
    "gx = random_noise(fx, mode='gaussian', mean=0,var=0.1)\n",
    "gx = convert_uint8(gx)\n",
    "\n",
    "# Apply the 3x3 mean filter kernel \n",
    "fx2 = wiener(gx)\n",
    "\n",
    "# Subtract the filtered \n",
    "nx = gx - fx2\n",
    "\n",
    "# Compute histograms\n",
    "fx_hist = cv2.calcHist([fx], [0], None, [256], [0,256])\n",
    "gx_hist = cv2.calcHist([gx], [0], None, [256], [0,256])\n",
    "fx2_hist = cv2.calcHist([fx2], [0], None, [256], [0,256])\n",
    "nx_hist = cv2.calcHist([nx], [0], None, [256], [0,256])\n",
    "\n",
    "# Create Figure object\n",
    "fig, ax = plt.subplots(nrows=2, ncols=4, figsize=(12,6), dpi=200)\n",
    "\n",
    "# Show images\n",
    "_ = ax[0,0].imshow(fx, cmap=CMAP)\n",
    "_ = ax[0,0].set_xlabel('(a) Original Image F', fontsize=10)\n",
    "\n",
    "_ = ax[0,1].imshow(gx, cmap=CMAP)\n",
    "_ = ax[0,1].set_xlabel('(b) Corrupted Image G', fontsize=10)\n",
    "\n",
    "_ = ax[0,2].imshow(fx2, cmap=CMAP)\n",
    "_ = ax[0,2].set_xlabel('(c) Wiener Filtered Image F (Est)', fontsize=10)\n",
    "\n",
    "_ = ax[0,3].imshow(nx, cmap=CMAP)\n",
    "_ = ax[0,3].set_xlabel('(d) Noise Filtered', fontsize=10)\n",
    "\n",
    "# Show histograms\n",
    "_ = ax[1,0].plot(fx_hist)\n",
    "_ = ax[1,0].set_xlabel(\"(e) Original Image Histogram\", fontsize=10)\n",
    "\n",
    "_ = ax[1,1].plot(gx_hist)\n",
    "_ = ax[1,1].set_xlabel(\"(f) Corrupted Image Histogram\", fontsize=10)\n",
    "\n",
    "_ = ax[1,2].plot(fx2_hist)\n",
    "_ = ax[1,2].set_xlabel(\"(g) Wiener Filtered Histogram \", fontsize=10)\n",
    "\n",
    "_ = ax[1,3].plot(nx_hist)\n",
    "_ = ax[1,3].set_xlabel(\"(g) Noise Histogram \", fontsize=10)\n",
    "\n",
    "plt.tight_layout()\n",
    "plt.show()"
   ]
  },
  {
   "cell_type": "code",
   "execution_count": null,
   "metadata": {},
   "outputs": [],
   "source": [
    "# Obtain the source image\n",
    "orig = cv2.imread(FP_ORIG)\n",
    "\n",
    "# Add random Gaussian noise with zero mean and variance of 0.1\n",
    "img_gaussian = random_noise(orig, mode='gaussian', mean=0,var=0.1)\n",
    "img_gaussian = convert_uint8(img_gaussian)\n",
    "\n",
    "# Create images with varying kernel sizes.\n",
    "img_1 = cv2.blur(img_gaussian, (3,3))\n",
    "img_2 = cv2.blur(img_gaussian, (9,9))\n",
    "img_3 = cv2.blur(img_gaussian, (15,15))\n",
    "\n",
    "# Create Figure object\n",
    "fig, ax = plt.subplots(nrows=2, ncols=2, figsize=(8,6), dpi=200)\n",
    "\n",
    "# Show images\n",
    "_ = ax[0,0].imshow(img_gaussian, cmap=CMAP)\n",
    "_ = ax[0,0].set_xlabel('(a) Original Image', fontsize=10)\n",
    "_ = ax[0,0].set_xticks([])\n",
    "_ = ax[0,0].set_yticks([])\n",
    "\n",
    "_ = ax[0,1].imshow(img_1, cmap=CMAP)\n",
    "_ = ax[0,1].set_xlabel('(b) Mean Filtered Image with 3x3 kernel', fontsize=10)\n",
    "_ = ax[0,1].set_xticks([])\n",
    "_ = ax[0,1].set_yticks([])\n",
    "\n",
    "_ = ax[1,0].imshow(img_2, cmap=CMAP)\n",
    "_ = ax[1,0].set_xlabel('(c) Mean Filtered Image with 9x9 kernel', fontsize=10)\n",
    "_ = ax[1,0].set_xticks([])\n",
    "_ = ax[1,0].set_yticks([])\n",
    "\n",
    "_ = ax[1,1].imshow(img_3, cmap=CMAP)\n",
    "_ = ax[1,1].set_xlabel('(d) Mean Filtered Image with 15x15 kernel', fontsize=10)\n",
    "_ = ax[1,1].set_xticks([])\n",
    "_ = ax[1,1].set_yticks([])\n",
    "\n",
    "plt.tight_layout()\n",
    "plt.show()"
   ]
  }
 ],
 "metadata": {
  "kernelspec": {
   "display_name": "bcd",
   "language": "python",
   "name": "python3"
  },
  "language_info": {
   "codemirror_mode": {
    "name": "ipython",
    "version": 3
   },
   "file_extension": ".py",
   "mimetype": "text/x-python",
   "name": "python",
   "nbconvert_exporter": "python",
   "pygments_lexer": "ipython3",
   "version": "3.10.12"
  }
 },
 "nbformat": 4,
 "nbformat_minor": 2
}
