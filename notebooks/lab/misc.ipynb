{
 "cells": [
  {
   "cell_type": "code",
   "execution_count": 1,
   "metadata": {},
   "outputs": [],
   "source": [
    "import os\n",
    "import pandas as pd\n",
    "import time\n",
    "from bcd.utils.file import IOService, getsize"
   ]
  },
  {
   "cell_type": "code",
   "execution_count": 2,
   "metadata": {},
   "outputs": [],
   "source": [
    "fp = \"config.yml\""
   ]
  },
  {
   "cell_type": "code",
   "execution_count": 3,
   "metadata": {},
   "outputs": [
    {
     "data": {
      "text/html": [
       "<div>\n",
       "<style scoped>\n",
       "    .dataframe tbody tr th:only-of-type {\n",
       "        vertical-align: middle;\n",
       "    }\n",
       "\n",
       "    .dataframe tbody tr th {\n",
       "        vertical-align: top;\n",
       "    }\n",
       "\n",
       "    .dataframe thead th {\n",
       "        text-align: right;\n",
       "    }\n",
       "</style>\n",
       "<table border=\"1\" class=\"dataframe\">\n",
       "  <thead>\n",
       "    <tr style=\"text-align: right;\">\n",
       "      <th></th>\n",
       "      <th>name</th>\n",
       "      <th>stage</th>\n",
       "      <th>description</th>\n",
       "      <th>filepath</th>\n",
       "      <th>size</th>\n",
       "    </tr>\n",
       "  </thead>\n",
       "  <tbody>\n",
       "    <tr>\n",
       "      <th>0</th>\n",
       "      <td>calc_train</td>\n",
       "      <td>raw</td>\n",
       "      <td>Calcification Training Set Description</td>\n",
       "      <td>data/meta/0_raw/calc_case_description_train_se...</td>\n",
       "      <td>925.31 KB</td>\n",
       "    </tr>\n",
       "    <tr>\n",
       "      <th>1</th>\n",
       "      <td>calc_test</td>\n",
       "      <td>raw</td>\n",
       "      <td>Calciication Test Set Description</td>\n",
       "      <td>data/meta/0_raw/calc_case_description_test_set...</td>\n",
       "      <td>190.39 KB</td>\n",
       "    </tr>\n",
       "    <tr>\n",
       "      <th>2</th>\n",
       "      <td>mass_train</td>\n",
       "      <td>raw</td>\n",
       "      <td>Mass Training Set Description</td>\n",
       "      <td>data/meta/0_raw/mass_case_description_train_se...</td>\n",
       "      <td>772.73 KB</td>\n",
       "    </tr>\n",
       "    <tr>\n",
       "      <th>3</th>\n",
       "      <td>mass_test</td>\n",
       "      <td>raw</td>\n",
       "      <td>Mass Test Set Description</td>\n",
       "      <td>data/meta/0_raw/mass_case_description_test_set...</td>\n",
       "      <td>217.04 KB</td>\n",
       "    </tr>\n",
       "    <tr>\n",
       "      <th>4</th>\n",
       "      <td>series</td>\n",
       "      <td>raw</td>\n",
       "      <td>Series Description</td>\n",
       "      <td>data/meta/0_raw/metadata.csv</td>\n",
       "      <td>2.99 MB</td>\n",
       "    </tr>\n",
       "  </tbody>\n",
       "</table>\n",
       "</div>"
      ],
      "text/plain": [
       "         name stage                             description  \\\n",
       "0  calc_train   raw  Calcification Training Set Description   \n",
       "1   calc_test   raw       Calciication Test Set Description   \n",
       "2  mass_train   raw           Mass Training Set Description   \n",
       "3   mass_test   raw               Mass Test Set Description   \n",
       "4      series   raw                      Series Description   \n",
       "\n",
       "                                            filepath       size  \n",
       "0  data/meta/0_raw/calc_case_description_train_se...  925.31 KB  \n",
       "1  data/meta/0_raw/calc_case_description_test_set...  190.39 KB  \n",
       "2  data/meta/0_raw/mass_case_description_train_se...  772.73 KB  \n",
       "3  data/meta/0_raw/mass_case_description_test_set...  217.04 KB  \n",
       "4                       data/meta/0_raw/metadata.csv    2.99 MB  "
      ]
     },
     "execution_count": 3,
     "metadata": {},
     "output_type": "execute_result"
    }
   ],
   "source": [
    "config = IOService.read(fp)\n",
    "meta = config['data']['meta']['files']\n",
    "df = pd.DataFrame.from_dict(meta, orient='index').reset_index(names=['name'])\n",
    "sizes = []\n",
    "for idx, row in df.iterrows():\n",
    "    sizes.append(getsize(row['filepath']))\n",
    "df['size'] = sizes\n",
    "df"
   ]
  },
  {
   "cell_type": "code",
   "execution_count": 4,
   "metadata": {},
   "outputs": [
    {
     "data": {
      "text/plain": [
       "'size is 2.85 MB'"
      ]
     },
     "execution_count": 4,
     "metadata": {},
     "output_type": "execute_result"
    }
   ],
   "source": [
    "kbfile = \"data/meta/0_raw/calc_case_description_train_set.csv\"\n",
    "mbfile = \"data/meta/0_raw/metadata.csv\"\n",
    "units = [\"B\", \"KB\", \"MB\", \"GB\"]\n",
    "size = os.stat(mbfile).st_size\n",
    "idx = 0\n",
    "while size > 1000:\n",
    "    idx += 1\n",
    "    size /= 1024\n",
    "f\"size is {round(size,2)} {units[idx]}\"\n"
   ]
  }
 ],
 "metadata": {
  "kernelspec": {
   "display_name": "bcd",
   "language": "python",
   "name": "python3"
  },
  "language_info": {
   "codemirror_mode": {
    "name": "ipython",
    "version": 3
   },
   "file_extension": ".py",
   "mimetype": "text/x-python",
   "name": "python",
   "nbconvert_exporter": "python",
   "pygments_lexer": "ipython3",
   "version": "3.10.12"
  }
 },
 "nbformat": 4,
 "nbformat_minor": 2
}
