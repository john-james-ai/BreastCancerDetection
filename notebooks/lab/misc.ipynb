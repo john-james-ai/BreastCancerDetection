{
 "cells": [
  {
   "cell_type": "code",
   "execution_count": 1,
   "metadata": {},
   "outputs": [],
   "source": [
    "import pandas as pd"
   ]
  },
  {
   "cell_type": "code",
   "execution_count": 2,
   "metadata": {},
   "outputs": [],
   "source": [
    "fp = \"data/meta/2_clean/dicom.csv\""
   ]
  },
  {
   "cell_type": "code",
   "execution_count": 17,
   "metadata": {},
   "outputs": [
    {
     "data": {
      "text/plain": [
       "{'uid': '7989a130-a8f7-4d36-812e-51e6e95af41c',\n",
       " 'series_uid': '1.3.6.1.4.1.9590.100.1.2.401153662911342587122031292242810957327',\n",
       " 'filepath': 'data/image/0_raw/Mass-Test_P_01331_LEFT_MLO/10-04-2016-DDSM-88038/1.000000-full mammogram images-57327/1-1.dcm',\n",
       " 'photometric_interpretation': 'MONOCHROME2',\n",
       " 'samples_per_pixel': 1,\n",
       " 'height': 4552,\n",
       " 'width': 2976,\n",
       " 'size': 13546752,\n",
       " 'aspect_ratio': 0.6537785588752196,\n",
       " 'bit_depth': 16,\n",
       " 'min_pixel_value': 0,\n",
       " 'max_pixel_value': 60569,\n",
       " 'range_pixel_values': 60569,\n",
       " 'mean_pixel_value': 12623.462900332124,\n",
       " 'median_pixel_value': 0.0,\n",
       " 'std_pixel_value': 17128.950099234666,\n",
       " 'series_description': 'full mammogram images',\n",
       " 'patient_id': 'P_01331',\n",
       " 'breast_density': 2,\n",
       " 'left_or_right_breast': 'LEFT',\n",
       " 'image_view': 'MLO',\n",
       " 'abnormality_id': 1,\n",
       " 'abnormality_type': 'mass',\n",
       " 'calc_type': 'NOT APPLICABLE',\n",
       " 'calc_distribution': 'NOT APPLICABLE',\n",
       " 'assessment': 3,\n",
       " 'pathology': 'BENIGN_WITHOUT_CALLBACK',\n",
       " 'subtlety': 3,\n",
       " 'fileset': 'test',\n",
       " 'mass_shape': 'IRREGULAR',\n",
       " 'mass_margins': 'SPICULATED',\n",
       " 'case_id': 'Mass-Test_P_01331_LEFT_MLO_1',\n",
       " 'cancer': False}"
      ]
     },
     "execution_count": 17,
     "metadata": {},
     "output_type": "execute_result"
    },
    {
     "data": {
      "text/plain": [
       "'7989a130-a8f7-4d36-812e-51e6e95af41c'"
      ]
     },
     "execution_count": 17,
     "metadata": {},
     "output_type": "execute_result"
    }
   ],
   "source": [
    "df = pd.read_csv(fp)\n",
    "s = df.sample(n=1)\n",
    "s = s.squeeze()\n",
    "s.to_dict()\n",
    "s['uid']"
   ]
  }
 ],
 "metadata": {
  "kernelspec": {
   "display_name": "bcd",
   "language": "python",
   "name": "python3"
  },
  "language_info": {
   "codemirror_mode": {
    "name": "ipython",
    "version": 3
   },
   "file_extension": ".py",
   "mimetype": "text/x-python",
   "name": "python",
   "nbconvert_exporter": "python",
   "pygments_lexer": "ipython3",
   "version": "3.10.12"
  }
 },
 "nbformat": 4,
 "nbformat_minor": 2
}
