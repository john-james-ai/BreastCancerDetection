{
 "cells": [
  {
   "cell_type": "code",
   "execution_count": 1,
   "metadata": {},
   "outputs": [],
   "source": [
    "import pandas as pd"
   ]
  },
  {
   "cell_type": "code",
   "execution_count": 2,
   "metadata": {},
   "outputs": [],
   "source": [
    "fp = \"data/meta/2_clean/dicom.csv\""
   ]
  },
  {
   "cell_type": "code",
   "execution_count": 36,
   "metadata": {},
   "outputs": [
    {
     "data": {
      "text/html": [
       "<div>\n",
       "<style scoped>\n",
       "    .dataframe tbody tr th:only-of-type {\n",
       "        vertical-align: middle;\n",
       "    }\n",
       "\n",
       "    .dataframe tbody tr th {\n",
       "        vertical-align: top;\n",
       "    }\n",
       "\n",
       "    .dataframe thead th {\n",
       "        text-align: right;\n",
       "    }\n",
       "</style>\n",
       "<table border=\"1\" class=\"dataframe\">\n",
       "  <thead>\n",
       "    <tr style=\"text-align: right;\">\n",
       "      <th></th>\n",
       "      <th>Benign</th>\n",
       "      <th>% Benign</th>\n",
       "      <th>Malignant</th>\n",
       "      <th>% Malignant</th>\n",
       "      <th>Total</th>\n",
       "      <th>Split</th>\n",
       "    </tr>\n",
       "    <tr>\n",
       "      <th>Dataset</th>\n",
       "      <th></th>\n",
       "      <th></th>\n",
       "      <th></th>\n",
       "      <th></th>\n",
       "      <th></th>\n",
       "      <th></th>\n",
       "    </tr>\n",
       "  </thead>\n",
       "  <tbody>\n",
       "    <tr>\n",
       "      <th>train</th>\n",
       "      <td>1680</td>\n",
       "      <td>59</td>\n",
       "      <td>1181</td>\n",
       "      <td>41</td>\n",
       "      <td>2861</td>\n",
       "      <td>0.80</td>\n",
       "    </tr>\n",
       "    <tr>\n",
       "      <th>test</th>\n",
       "      <td>428</td>\n",
       "      <td>61</td>\n",
       "      <td>276</td>\n",
       "      <td>39</td>\n",
       "      <td>704</td>\n",
       "      <td>0.20</td>\n",
       "    </tr>\n",
       "  </tbody>\n",
       "</table>\n",
       "</div>"
      ],
      "text/plain": [
       "         Benign  % Benign  Malignant  % Malignant  Total  Split\n",
       "Dataset                                                        \n",
       "train      1680        59       1181           41   2861   0.80\n",
       "test        428        61        276           39    704   0.20"
      ]
     },
     "execution_count": 36,
     "metadata": {},
     "output_type": "execute_result"
    }
   ],
   "source": [
    "df = pd.read_csv(fp)\n",
    "features = [\"fileset\", \"cancer\"]\n",
    "labels = [\"Dataset\", \"Cancer\", \"Count\"]\n",
    "data = (\n",
    "            df.groupby(by=features)[\"uid\"]\n",
    "            .count()\n",
    "            .sort_index(level=0, ascending=False)\n",
    "            .reset_index()\n",
    "        )\n",
    "data.columns = labels\n",
    "\n",
    "data = data.pivot(index=\"Dataset\", columns=\"Cancer\", values='Count').sort_index(ascending=False)\n",
    "data.columns = [\"Benign\", \"Malignant\"]\n",
    "data['Total'] = data.sum(axis=1, numeric_only=True)\n",
    "data[\"Split\"] = data['Total'] / data['Total'].sum()\n",
    "data['% Benign'] = round(data['Benign'] / data['Total'] * 100,0).astype('int')\n",
    "data['% Malignant'] = round(data['Malignant'] / data['Total'] * 100,0).astype('int')\n",
    "data = data[[\"Benign\", \"% Benign\", \"Malignant\", \"% Malignant\", \"Total\", \"Split\"]]\n",
    "data\n",
    "\n"
   ]
  }
 ],
 "metadata": {
  "kernelspec": {
   "display_name": "bcd",
   "language": "python",
   "name": "python3"
  },
  "language_info": {
   "codemirror_mode": {
    "name": "ipython",
    "version": 3
   },
   "file_extension": ".py",
   "mimetype": "text/x-python",
   "name": "python",
   "nbconvert_exporter": "python",
   "pygments_lexer": "ipython3",
   "version": "3.10.12"
  }
 },
 "nbformat": 4,
 "nbformat_minor": 2
}
