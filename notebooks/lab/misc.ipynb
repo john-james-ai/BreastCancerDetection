{
 "cells": [
  {
   "cell_type": "code",
   "execution_count": 1,
   "metadata": {},
   "outputs": [],
   "source": [
    "from bcd.preprocess.image.transformer.convert import ImageConverter"
   ]
  },
  {
   "cell_type": "code",
   "execution_count": 4,
   "metadata": {},
   "outputs": [
    {
     "ename": "AttributeError",
     "evalue": "'ImageConverter' object has no attribute 'MODULE'",
     "output_type": "error",
     "traceback": [
      "\u001b[0;31m---------------------------------------------------------------------------\u001b[0m",
      "\u001b[0;31mAttributeError\u001b[0m                            Traceback (most recent call last)",
      "\u001b[1;32m/home/john/projects/bcd/notebooks/lab/misc.ipynb Cell 2\u001b[0m line \u001b[0;36m1\n\u001b[0;32m----> <a href='vscode-notebook-cell://wsl%2Bubuntu/home/john/projects/bcd/notebooks/lab/misc.ipynb#W2sdnNjb2RlLXJlbW90ZQ%3D%3D?line=0'>1</a>\u001b[0m ImageConverter(params\u001b[39m=\u001b[39;49m[], task_id\u001b[39m=\u001b[39;49m\u001b[39m'\u001b[39;49m\u001b[39mdss\u001b[39;49m\u001b[39m'\u001b[39;49m)\u001b[39m.\u001b[39mname\n\u001b[1;32m      <a href='vscode-notebook-cell://wsl%2Bubuntu/home/john/projects/bcd/notebooks/lab/misc.ipynb#W2sdnNjb2RlLXJlbW90ZQ%3D%3D?line=1'>2</a>\u001b[0m ImageConverter(params\u001b[39m=\u001b[39m[], task_id\u001b[39m=\u001b[39m\u001b[39m'\u001b[39m\u001b[39mdss\u001b[39m\u001b[39m'\u001b[39m)\u001b[39m.\u001b[39mmodule\n",
      "File \u001b[0;32msrc/dependency_injector/_cwiring.pyx:28\u001b[0m, in \u001b[0;36mdependency_injector._cwiring._get_sync_patched._patched\u001b[0;34m()\u001b[0m\n",
      "File \u001b[0;32m~/projects/bcd/bcd/preprocess/image/transformer/convert.py:64\u001b[0m, in \u001b[0;36mImageConverter.__init__\u001b[0;34m(self, params, task_id, image_repo, image_factory)\u001b[0m\n\u001b[1;32m     54\u001b[0m \u001b[39m@inject\u001b[39m\n\u001b[1;32m     55\u001b[0m \u001b[39mdef\u001b[39;00m \u001b[39m__init__\u001b[39m(\n\u001b[1;32m     56\u001b[0m     \u001b[39mself\u001b[39m,\n\u001b[0;32m   (...)\u001b[0m\n\u001b[1;32m     60\u001b[0m     image_factory: ImageFactory \u001b[39m=\u001b[39m Provide[BCDContainer\u001b[39m.\u001b[39mrepo\u001b[39m.\u001b[39mfactory],\n\u001b[1;32m     61\u001b[0m ) \u001b[39m-\u001b[39m\u001b[39m>\u001b[39m \u001b[39mNone\u001b[39;00m:\n\u001b[1;32m     62\u001b[0m     \u001b[39msuper\u001b[39m()\u001b[39m.\u001b[39m\u001b[39m__init__\u001b[39m(\n\u001b[1;32m     63\u001b[0m         task_id\u001b[39m=\u001b[39mtask_id,\n\u001b[0;32m---> 64\u001b[0m         module\u001b[39m=\u001b[39m\u001b[39mself\u001b[39;49m\u001b[39m.\u001b[39;49mMODULE,\n\u001b[1;32m     65\u001b[0m         stage\u001b[39m=\u001b[39m\u001b[39mself\u001b[39m\u001b[39m.\u001b[39mSTAGE,\n\u001b[1;32m     66\u001b[0m         params\u001b[39m=\u001b[39mparams,\n\u001b[1;32m     67\u001b[0m         image_repo\u001b[39m=\u001b[39mimage_repo,\n\u001b[1;32m     68\u001b[0m         image_factory\u001b[39m=\u001b[39mimage_factory,\n\u001b[1;32m     69\u001b[0m     )\n\u001b[1;32m     70\u001b[0m     \u001b[39mself\u001b[39m\u001b[39m.\u001b[39m_frac \u001b[39m=\u001b[39m params\u001b[39m.\u001b[39mfrac\n\u001b[1;32m     71\u001b[0m     \u001b[39mself\u001b[39m\u001b[39m.\u001b[39m_n_jobs \u001b[39m=\u001b[39m params\u001b[39m.\u001b[39mn_jobs\n",
      "\u001b[0;31mAttributeError\u001b[0m: 'ImageConverter' object has no attribute 'MODULE'"
     ]
    }
   ],
   "source": [
    "ImageConverter(params=[], task_id='dss').name\n",
    "ImageConverter(params=[], task_id='dss').module"
   ]
  }
 ],
 "metadata": {
  "kernelspec": {
   "display_name": "bcd",
   "language": "python",
   "name": "python3"
  },
  "language_info": {
   "codemirror_mode": {
    "name": "ipython",
    "version": 3
   },
   "file_extension": ".py",
   "mimetype": "text/x-python",
   "name": "python",
   "nbconvert_exporter": "python",
   "pygments_lexer": "ipython3",
   "version": "3.10.12"
  }
 },
 "nbformat": 4,
 "nbformat_minor": 2
}
