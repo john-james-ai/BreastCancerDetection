{
 "cells": [
  {
   "cell_type": "code",
   "execution_count": 3,
   "metadata": {},
   "outputs": [],
   "source": [
    "import pandas as pd"
   ]
  },
  {
   "cell_type": "code",
   "execution_count": 4,
   "metadata": {},
   "outputs": [],
   "source": [
    "fp = \"data/meta/2_clean/dicom.csv\""
   ]
  },
  {
   "cell_type": "code",
   "execution_count": 8,
   "metadata": {},
   "outputs": [
    {
     "data": {
      "text/plain": [
       "uid                           0\n",
       "series_uid                    0\n",
       "filepath                      0\n",
       "photometric_interpretation    0\n",
       "samples_per_pixel             0\n",
       "height                        0\n",
       "width                         0\n",
       "size                          0\n",
       "aspect_ratio                  0\n",
       "bit_depth                     0\n",
       "min_pixel_value               0\n",
       "max_pixel_value               0\n",
       "range_pixel_values            0\n",
       "mean_pixel_value              0\n",
       "median_pixel_value            0\n",
       "std_pixel_value               0\n",
       "series_description            0\n",
       "patient_id                    0\n",
       "breast_density                0\n",
       "left_or_right_breast          0\n",
       "image_view                    0\n",
       "abnormality_id                0\n",
       "abnormality_type              0\n",
       "calc_type                     0\n",
       "calc_distribution             0\n",
       "assessment                    0\n",
       "pathology                     0\n",
       "subtlety                      0\n",
       "fileset                       0\n",
       "mass_shape                    0\n",
       "mass_margins                  0\n",
       "case_id                       0\n",
       "cancer                        0\n",
       "dtype: int64"
      ]
     },
     "execution_count": 8,
     "metadata": {},
     "output_type": "execute_result"
    },
    {
     "data": {
      "text/plain": [
       "uid                           3100\n",
       "series_uid                    3100\n",
       "filepath                      3100\n",
       "photometric_interpretation       1\n",
       "samples_per_pixel                1\n",
       "height                         349\n",
       "width                          425\n",
       "size                          2591\n",
       "aspect_ratio                  2595\n",
       "bit_depth                        1\n",
       "min_pixel_value                  1\n",
       "max_pixel_value                233\n",
       "range_pixel_values             233\n",
       "mean_pixel_value              3031\n",
       "median_pixel_value            1086\n",
       "std_pixel_value               3031\n",
       "series_description               1\n",
       "patient_id                    1566\n",
       "breast_density                   4\n",
       "left_or_right_breast             2\n",
       "image_view                       2\n",
       "abnormality_id                   7\n",
       "abnormality_type                 2\n",
       "calc_type                       44\n",
       "calc_distribution               10\n",
       "assessment                       6\n",
       "pathology                        3\n",
       "subtlety                         5\n",
       "fileset                          2\n",
       "mass_shape                      21\n",
       "mass_margins                    20\n",
       "case_id                       3565\n",
       "cancer                           2\n",
       "dtype: int64"
      ]
     },
     "execution_count": 8,
     "metadata": {},
     "output_type": "execute_result"
    }
   ],
   "source": [
    "df = pd.read_csv(fp)\n",
    "cols = df.columns\n",
    "nonna = df.count()\n",
    "na = df.isna().sum(axis=0)\n",
    "nonna / df.shape[0]\n",
    "unique = df.nunique(axis=0)\n",
    "uniqueness = unique / nonna"
   ]
  }
 ],
 "metadata": {
  "kernelspec": {
   "display_name": "bcd",
   "language": "python",
   "name": "python3"
  },
  "language_info": {
   "codemirror_mode": {
    "name": "ipython",
    "version": 3
   },
   "file_extension": ".py",
   "mimetype": "text/x-python",
   "name": "python",
   "nbconvert_exporter": "python",
   "pygments_lexer": "ipython3",
   "version": "3.10.12"
  }
 },
 "nbformat": 4,
 "nbformat_minor": 2
}
