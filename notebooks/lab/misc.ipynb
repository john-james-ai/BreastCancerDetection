{
 "cells": [
  {
   "cell_type": "code",
   "execution_count": 4,
   "metadata": {},
   "outputs": [
    {
     "data": {
      "text/plain": [
       "['A', 'B', 'C']"
      ]
     },
     "execution_count": 4,
     "metadata": {},
     "output_type": "execute_result"
    },
    {
     "name": "stdout",
     "output_type": "stream",
     "text": [
      "[('D', 'F', 'I'), ('D', 'F', 'J'), ('D', 'G', 'I'), ('D', 'G', 'J'), ('D', 'H', 'I'), ('D', 'H', 'J'), ('E', 'F', 'I'), ('E', 'F', 'J'), ('E', 'G', 'I'), ('E', 'G', 'J'), ('E', 'H', 'I'), ('E', 'H', 'J')]\n"
     ]
    }
   ],
   "source": [
    "\n",
    "import itertools as it\n",
    "\n",
    "my_dict={'A':['D','E'],'B':['F','G','H'],'C':['I','J']}\n",
    "allNames = sorted(my_dict)\n",
    "allNames\n",
    "combinations = it.product(*(my_dict[Name] for Name in allNames))\n",
    "param_sets = print(list(combinations))\n",
    "param_sets"
   ]
  },
  {
   "cell_type": "code",
   "execution_count": 2,
   "metadata": {},
   "outputs": [
    {
     "data": {
      "text/plain": [
       "<sklearn.model_selection._search.ParameterGrid at 0x7f7ea570f3d0>"
      ]
     },
     "execution_count": 2,
     "metadata": {},
     "output_type": "execute_result"
    },
    {
     "name": "stdout",
     "output_type": "stream",
     "text": [
      "{'A': 'D', 'B': 'F', 'C': 'I'}\n",
      "{'A': 'D', 'B': 'F', 'C': 'J'}\n",
      "{'A': 'D', 'B': 'G', 'C': 'I'}\n",
      "{'A': 'D', 'B': 'G', 'C': 'J'}\n",
      "{'A': 'D', 'B': 'H', 'C': 'I'}\n",
      "{'A': 'D', 'B': 'H', 'C': 'J'}\n",
      "{'A': 'E', 'B': 'F', 'C': 'I'}\n",
      "{'A': 'E', 'B': 'F', 'C': 'J'}\n",
      "{'A': 'E', 'B': 'G', 'C': 'I'}\n",
      "{'A': 'E', 'B': 'G', 'C': 'J'}\n",
      "{'A': 'E', 'B': 'H', 'C': 'I'}\n",
      "{'A': 'E', 'B': 'H', 'C': 'J'}\n"
     ]
    }
   ],
   "source": [
    "from sklearn.model_selection import ParameterGrid\n",
    "\n",
    "params = {'A':['D','E'],'B':['F','G','H'],'C':['I','J']}\n",
    "param_grid = ParameterGrid(params)\n",
    "param_grid\n",
    "for dict_ in param_grid:\n",
    "    print(dict_)\n",
    "\n"
   ]
  }
 ],
 "metadata": {
  "kernelspec": {
   "display_name": "bcd",
   "language": "python",
   "name": "python3"
  },
  "language_info": {
   "codemirror_mode": {
    "name": "ipython",
    "version": 3
   },
   "file_extension": ".py",
   "mimetype": "text/x-python",
   "name": "python",
   "nbconvert_exporter": "python",
   "pygments_lexer": "ipython3",
   "version": "3.10.12"
  }
 },
 "nbformat": 4,
 "nbformat_minor": 2
}
