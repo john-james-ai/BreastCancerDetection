{
 "cells": [
  {
   "cell_type": "markdown",
   "metadata": {},
   "source": [
    "# DenseNet Architecture"
   ]
  },
  {
   "cell_type": "code",
   "execution_count": 1,
   "metadata": {},
   "outputs": [],
   "source": [
    "import pathlib\n",
    "\n",
    "import tensorflow as tf\n",
    "from bcd.model.factory import DenseNetFactory\n",
    "from bcd.model.visual import learning_curve\n",
    "from bcd.utils.model import thaw"
   ]
  },
  {
   "cell_type": "code",
   "execution_count": 2,
   "metadata": {},
   "outputs": [],
   "source": [
    "batch_size = 32\n",
    "input_shape = (224,224,3)\n",
    "output_shape = 1\n",
    "\n",
    "initial_epochs = 100  # Number of epochs to train for feature extraction\n",
    "\n",
    "fine_tune_epochs = 10  # Number of epochs for each fine tune round\n",
    "fine_tune_thaw_rate = 0.05  # Additional proportion of layers to unthaw each fine tune round. \n",
    "\n",
    "early_stop_monitor = \"val_loss\"  # Monitor validation loss for early stopping\n",
    "early_stop_patience = 3  # The number of consecutive epochs for which lack of improvement is tolerated \n",
    "early_stop_restore_best_weights = True  # Returns the best weights rather than the weights at the last epoch.\n",
    "\n",
    "learning_rate_base = 0.0001  # Base learning rate for the Adam optimizer \n",
    "learning_rate_decay = 10 # The factor by which learning rate decays for each fine tune round.\n",
    "\n",
    "loss = \"binary_crossentropy\"\n",
    "activation = \"sigmoid\"\n",
    "metric = \"accuracy\"\n",
    "\n",
    "train_dir_10 = pathlib.Path(\"data/image/1_final/training_10/training/\").with_suffix('')\n",
    "test_dir = pathlib.Path(\"data/image/1_final/test/test/\").with_suffix('')\n",
    "checkpoint_path = \"models/checkpoints/densenet.ckpt\""
   ]
  },
  {
   "cell_type": "markdown",
   "metadata": {},
   "source": [
    "## Preliminaries - Callbacks\n",
    "Create a callback checkpoint that will automatically save model weights at each epoch."
   ]
  },
  {
   "cell_type": "code",
   "execution_count": 3,
   "metadata": {},
   "outputs": [],
   "source": [
    "# Create a ModelCheckpoint callback that saves the model's weights only\n",
    "checkpoint_callback = tf.keras.callbacks.ModelCheckpoint(filepath=checkpoint_path,\n",
    "                                                         save_weights_only=True, # set to False to save the entire model\n",
    "                                                         save_best_only=True, # save only the best model weights instead of a model every epoch\n",
    "                                                         save_freq=\"epoch\", # save every epoch\n",
    "                                                         verbose=1)"
   ]
  },
  {
   "cell_type": "code",
   "execution_count": 4,
   "metadata": {},
   "outputs": [],
   "source": [
    "# Create an early stopping callback that will stop training if validation loss doesn't improve in n epochs\n",
    "early_stop_callback = tf.keras.callbacks.EarlyStopping(monitor=early_stop_monitor, patience=early_stop_patience, restore_best_weights=early_stop_restore_best_weights)"
   ]
  },
  {
   "cell_type": "markdown",
   "metadata": {},
   "source": [
    "## Load Data"
   ]
  },
  {
   "cell_type": "code",
   "execution_count": 5,
   "metadata": {},
   "outputs": [
    {
     "name": "stdout",
     "output_type": "stream",
     "text": [
      "Found 276 files belonging to 2 classes.\n",
      "Using 221 files for training.\n",
      "Found 276 files belonging to 2 classes.\n",
      "Using 55 files for validation.\n",
      "Found 649 files belonging to 2 classes.\n"
     ]
    }
   ],
   "source": [
    "# Training DataSet (10%)\n",
    "train_ds_10 = tf.keras.utils.image_dataset_from_directory(\n",
    "    train_dir_10,\n",
    "    labels=\"inferred\",\n",
    "    color_mode=\"rgb\",\n",
    "    image_size=(224,224),\n",
    "    shuffle=True,\n",
    "    validation_split=0.2,\n",
    "    subset='training',\n",
    "    interpolation=\"bilinear\",\n",
    "    seed=123,\n",
    "    batch_size=batch_size)\n",
    "\n",
    "# Validation DataSet (10%)\n",
    "val_ds_10 = tf.keras.utils.image_dataset_from_directory(\n",
    "    train_dir_10,\n",
    "    labels=\"inferred\",\n",
    "    color_mode=\"rgb\",\n",
    "    image_size=(224,224),\n",
    "    shuffle=True,\n",
    "    validation_split=0.2,\n",
    "    subset='validation',\n",
    "    interpolation=\"bilinear\",\n",
    "    seed=123,\n",
    "    batch_size=batch_size)\n",
    "\n",
    "# Test Set\n",
    "test_ds = tf.keras.utils.image_dataset_from_directory(\n",
    "    test_dir,\n",
    "    labels=\"inferred\",\n",
    "    color_mode=\"rgb\",\n",
    "    image_size=(224,224),\n",
    "    shuffle=True)"
   ]
  },
  {
   "cell_type": "markdown",
   "metadata": {},
   "source": [
    "## Feature Extraction"
   ]
  },
  {
   "cell_type": "code",
   "execution_count": 6,
   "metadata": {},
   "outputs": [
    {
     "name": "stdout",
     "output_type": "stream",
     "text": [
      "Epoch 1/100\n",
      "7/7 [==============================] - ETA: 0s - loss: 0.6983 - accuracy: 0.5520\n",
      "Epoch 1: val_loss improved from inf to 0.70129, saving model to models/checkpoints/densenet.ckpt\n",
      "7/7 [==============================] - 59s 6s/step - loss: 0.6983 - accuracy: 0.5520 - val_loss: 0.7013 - val_accuracy: 0.5818\n",
      "Epoch 2/100\n",
      "7/7 [==============================] - ETA: 0s - loss: 0.7162 - accuracy: 0.5430\n",
      "Epoch 2: val_loss improved from 0.70129 to 0.69118, saving model to models/checkpoints/densenet.ckpt\n",
      "7/7 [==============================] - 43s 6s/step - loss: 0.7162 - accuracy: 0.5430 - val_loss: 0.6912 - val_accuracy: 0.5818\n",
      "Epoch 3/100\n",
      "7/7 [==============================] - ETA: 0s - loss: 0.6729 - accuracy: 0.5339\n",
      "Epoch 3: val_loss improved from 0.69118 to 0.67899, saving model to models/checkpoints/densenet.ckpt\n",
      "7/7 [==============================] - 44s 6s/step - loss: 0.6729 - accuracy: 0.5339 - val_loss: 0.6790 - val_accuracy: 0.6364\n",
      "Epoch 4/100\n",
      "7/7 [==============================] - ETA: 0s - loss: 0.6858 - accuracy: 0.5792\n",
      "Epoch 4: val_loss improved from 0.67899 to 0.67844, saving model to models/checkpoints/densenet.ckpt\n",
      "7/7 [==============================] - 44s 6s/step - loss: 0.6858 - accuracy: 0.5792 - val_loss: 0.6784 - val_accuracy: 0.6364\n",
      "Epoch 5/100\n",
      "7/7 [==============================] - ETA: 0s - loss: 0.6867 - accuracy: 0.5792\n",
      "Epoch 5: val_loss improved from 0.67844 to 0.67696, saving model to models/checkpoints/densenet.ckpt\n",
      "7/7 [==============================] - 41s 6s/step - loss: 0.6867 - accuracy: 0.5792 - val_loss: 0.6770 - val_accuracy: 0.6364\n",
      "Epoch 6/100\n",
      "7/7 [==============================] - ETA: 0s - loss: 0.6901 - accuracy: 0.5475\n",
      "Epoch 6: val_loss improved from 0.67696 to 0.67483, saving model to models/checkpoints/densenet.ckpt\n",
      "7/7 [==============================] - 44s 6s/step - loss: 0.6901 - accuracy: 0.5475 - val_loss: 0.6748 - val_accuracy: 0.6182\n",
      "Epoch 7/100\n",
      "7/7 [==============================] - ETA: 0s - loss: 0.7035 - accuracy: 0.5475\n",
      "Epoch 7: val_loss improved from 0.67483 to 0.67297, saving model to models/checkpoints/densenet.ckpt\n",
      "7/7 [==============================] - 42s 6s/step - loss: 0.7035 - accuracy: 0.5475 - val_loss: 0.6730 - val_accuracy: 0.6364\n",
      "Epoch 8/100\n",
      "7/7 [==============================] - ETA: 0s - loss: 0.6940 - accuracy: 0.5430\n",
      "Epoch 8: val_loss did not improve from 0.67297\n",
      "7/7 [==============================] - 39s 5s/step - loss: 0.6940 - accuracy: 0.5430 - val_loss: 0.6748 - val_accuracy: 0.6182\n",
      "Epoch 9/100\n",
      "7/7 [==============================] - ETA: 0s - loss: 0.6875 - accuracy: 0.5747\n",
      "Epoch 9: val_loss did not improve from 0.67297\n",
      "7/7 [==============================] - 39s 5s/step - loss: 0.6875 - accuracy: 0.5747 - val_loss: 0.6781 - val_accuracy: 0.6364\n",
      "Epoch 10/100\n",
      "7/7 [==============================] - ETA: 0s - loss: 0.6576 - accuracy: 0.5882\n",
      "Epoch 10: val_loss did not improve from 0.67297\n",
      "7/7 [==============================] - 38s 5s/step - loss: 0.6576 - accuracy: 0.5882 - val_loss: 0.6787 - val_accuracy: 0.6364\n"
     ]
    }
   ],
   "source": [
    "factory = DenseNetFactory()\n",
    "densenet_1 = factory.create(input_shape=input_shape, output_shape=output_shape, learning_rate=learning_rate_base, trainable=False, loss=loss, activation=activation, metric=metric)\n",
    "densenet_1_history = densenet_1.fit(train_ds_10, epochs=initial_epochs, validation_data=val_ds_10, callbacks=[checkpoint_callback, early_stop_callback])"
   ]
  },
  {
   "cell_type": "code",
   "execution_count": 7,
   "metadata": {},
   "outputs": [
    {
     "data": {
      "image/png": "[encoded data removed]",
      "text/plain": [
       "<Figure size 1200x400 with 2 Axes>"
      ]
     },
     "metadata": {},
     "output_type": "display_data"
    }
   ],
   "source": [
    "learning_curve(model_name='DenseNet 1.0', history=densenet_1_history)"
   ]
  },
  {
   "cell_type": "markdown",
   "metadata": {},
   "source": [
    "We have an training accuracy of 60% and validation accuracy of 70% on 10% of the data in just 5 epochs. "
   ]
  },
  {
   "cell_type": "code",
   "execution_count": 8,
   "metadata": {},
   "outputs": [
    {
     "name": "stdout",
     "output_type": "stream",
     "text": [
      "Model: \"model\"\n",
      "_________________________________________________________________\n",
      " Layer (type)                Output Shape              Param #   \n",
      "=================================================================\n",
      " input_layer (InputLayer)    [(None, 224, 224, 3)]     0         \n",
      "                                                                 \n",
      " tf.math.truediv (TFOpLambda  (None, 224, 224, 3)      0         \n",
      " )                                                               \n",
      "                                                                 \n",
      " tf.nn.bias_add (TFOpLambda)  (None, 224, 224, 3)      0         \n",
      "                                                                 \n",
      " tf.math.truediv_1 (TFOpLamb  (None, 224, 224, 3)      0         \n",
      " da)                                                             \n",
      "                                                                 \n",
      " data_augmentation (Sequenti  (None, None, None, 3)    0         \n",
      " al)                                                             \n",
      "                                                                 \n",
      " densenet201 (Functional)    (None, None, None, 1920)  18321984  \n",
      "                                                                 \n",
      " global_average_pooling_laye  (None, 1920)             0         \n",
      " r (GlobalAveragePooling2D)                                      \n",
      "                                                                 \n",
      " output_layer (Dense)        (None, 1)                 1921      \n",
      "                                                                 \n",
      "=================================================================\n",
      "Total params: 18,323,905\n",
      "Trainable params: 1,921\n",
      "Non-trainable params: 18,321,984\n",
      "_________________________________________________________________\n"
     ]
    }
   ],
   "source": [
    "densenet_1.summary()"
   ]
  },
  {
   "cell_type": "markdown",
   "metadata": {},
   "source": [
    "## Fine Tune\n",
    "### Fine Tune Round 1"
   ]
  },
  {
   "cell_type": "code",
   "execution_count": 9,
   "metadata": {},
   "outputs": [
    {
     "name": "stdout",
     "output_type": "stream",
     "text": [
      "Model: \"model\"\n",
      "_________________________________________________________________\n",
      " Layer (type)                Output Shape              Param #   \n",
      "=================================================================\n",
      " input_layer (InputLayer)    [(None, 224, 224, 3)]     0         \n",
      "                                                                 \n",
      " tf.math.truediv (TFOpLambda  (None, 224, 224, 3)      0         \n",
      " )                                                               \n",
      "                                                                 \n",
      " tf.nn.bias_add (TFOpLambda)  (None, 224, 224, 3)      0         \n",
      "                                                                 \n",
      " tf.math.truediv_1 (TFOpLamb  (None, 224, 224, 3)      0         \n",
      " da)                                                             \n",
      "                                                                 \n",
      " data_augmentation (Sequenti  (None, None, None, 3)    0         \n",
      " al)                                                             \n",
      "                                                                 \n",
      " densenet201 (Functional)    (None, None, None, 1920)  18321984  \n",
      "                                                                 \n",
      " global_average_pooling_laye  (None, 1920)             0         \n",
      " r (GlobalAveragePooling2D)                                      \n",
      "                                                                 \n",
      " output_layer (Dense)        (None, 1)                 1921      \n",
      "                                                                 \n",
      "=================================================================\n",
      "Total params: 18,323,905\n",
      "Trainable params: 1,373,441\n",
      "Non-trainable params: 16,950,464\n",
      "_________________________________________________________________\n"
     ]
    }
   ],
   "source": [
    "fine_tune_round = 1\n",
    "densenet_1_ft_epochs = initial_epochs + (fine_tune_epochs * fine_tune_round)\n",
    "\n",
    "# Determine the number of layers to thaw.\n",
    "densenet_1_base_layer = 5\n",
    "densenet_1_base = densenet_1.layers[densenet_1_base_layer]\n",
    "densenet_1_layers = densenet_1_base.layers\n",
    "densenet_1_n_layers = len(densenet_1_layers)\n",
    "thaw_n_layers = int(densenet_1_n_layers * fine_tune_thaw_rate) * fine_tune_round\n",
    "\n",
    "# Freeze all but the top thaw_n_layers\n",
    "densenet_1 = thaw(n=thaw_n_layers, model=densenet_1, base_model_layer=densenet_1_base_layer)\n",
    "\n",
    "# Recompile the model\n",
    "densenet_1.compile(loss=loss, optimizer=tf.keras.optimizers.Adam(learning_rate=(learning_rate_base/(learning_rate_decay**fine_tune_round))), metrics=[metric])\n",
    "\n",
    "# Check trainable weights in summary\n",
    "densenet_1.summary()\n"
   ]
  },
  {
   "cell_type": "code",
   "execution_count": 10,
   "metadata": {},
   "outputs": [
    {
     "name": "stdout",
     "output_type": "stream",
     "text": [
      "Epoch 10/110\n",
      "7/7 [==============================] - ETA: 0s - loss: 0.7018 - accuracy: 0.5475\n",
      "Epoch 10: val_loss did not improve from 0.67297\n",
      "7/7 [==============================] - 60s 6s/step - loss: 0.7018 - accuracy: 0.5475 - val_loss: 0.6852 - val_accuracy: 0.5636\n",
      "Epoch 11/110\n",
      "7/7 [==============================] - ETA: 0s - loss: 0.6888 - accuracy: 0.5928\n",
      "Epoch 11: val_loss did not improve from 0.67297\n",
      "7/7 [==============================] - 44s 6s/step - loss: 0.6888 - accuracy: 0.5928 - val_loss: 0.6781 - val_accuracy: 0.6364\n",
      "Epoch 12/110\n",
      "7/7 [==============================] - ETA: 0s - loss: 0.7061 - accuracy: 0.5158\n",
      "Epoch 12: val_loss improved from 0.67297 to 0.67114, saving model to models/checkpoints/densenet.ckpt\n",
      "7/7 [==============================] - 44s 6s/step - loss: 0.7061 - accuracy: 0.5158 - val_loss: 0.6711 - val_accuracy: 0.6000\n",
      "Epoch 13/110\n",
      "7/7 [==============================] - ETA: 0s - loss: 0.6627 - accuracy: 0.5973\n",
      "Epoch 13: val_loss improved from 0.67114 to 0.66672, saving model to models/checkpoints/densenet.ckpt\n",
      "7/7 [==============================] - 45s 6s/step - loss: 0.6627 - accuracy: 0.5973 - val_loss: 0.6667 - val_accuracy: 0.6000\n",
      "Epoch 14/110\n",
      "7/7 [==============================] - ETA: 0s - loss: 0.6953 - accuracy: 0.5566\n",
      "Epoch 14: val_loss improved from 0.66672 to 0.66481, saving model to models/checkpoints/densenet.ckpt\n",
      "7/7 [==============================] - 42s 6s/step - loss: 0.6953 - accuracy: 0.5566 - val_loss: 0.6648 - val_accuracy: 0.6182\n",
      "Epoch 15/110\n",
      "7/7 [==============================] - ETA: 0s - loss: 0.6737 - accuracy: 0.5656\n",
      "Epoch 15: val_loss did not improve from 0.66481\n",
      "7/7 [==============================] - 45s 6s/step - loss: 0.6737 - accuracy: 0.5656 - val_loss: 0.6650 - val_accuracy: 0.6182\n",
      "Epoch 16/110\n",
      "7/7 [==============================] - ETA: 0s - loss: 0.6791 - accuracy: 0.5882\n",
      "Epoch 16: val_loss improved from 0.66481 to 0.66478, saving model to models/checkpoints/densenet.ckpt\n",
      "7/7 [==============================] - 41s 6s/step - loss: 0.6791 - accuracy: 0.5882 - val_loss: 0.6648 - val_accuracy: 0.6000\n",
      "Epoch 17/110\n",
      "7/7 [==============================] - ETA: 0s - loss: 0.6805 - accuracy: 0.5701\n",
      "Epoch 17: val_loss improved from 0.66478 to 0.66336, saving model to models/checkpoints/densenet.ckpt\n",
      "7/7 [==============================] - 44s 6s/step - loss: 0.6805 - accuracy: 0.5701 - val_loss: 0.6634 - val_accuracy: 0.6000\n",
      "Epoch 18/110\n",
      "7/7 [==============================] - ETA: 0s - loss: 0.6821 - accuracy: 0.5611\n",
      "Epoch 18: val_loss did not improve from 0.66336\n",
      "7/7 [==============================] - 45s 6s/step - loss: 0.6821 - accuracy: 0.5611 - val_loss: 0.6660 - val_accuracy: 0.6000\n",
      "Epoch 19/110\n",
      "7/7 [==============================] - ETA: 0s - loss: 0.6900 - accuracy: 0.5339\n",
      "Epoch 19: val_loss improved from 0.66336 to 0.66244, saving model to models/checkpoints/densenet.ckpt\n",
      "7/7 [==============================] - 43s 6s/step - loss: 0.6900 - accuracy: 0.5339 - val_loss: 0.6624 - val_accuracy: 0.6364\n",
      "Epoch 20/110\n",
      "7/7 [==============================] - ETA: 0s - loss: 0.7001 - accuracy: 0.5656\n",
      "Epoch 20: val_loss improved from 0.66244 to 0.65930, saving model to models/checkpoints/densenet.ckpt\n",
      "7/7 [==============================] - 42s 6s/step - loss: 0.7001 - accuracy: 0.5656 - val_loss: 0.6593 - val_accuracy: 0.6364\n",
      "Epoch 21/110\n",
      "7/7 [==============================] - ETA: 0s - loss: 0.6767 - accuracy: 0.5973\n",
      "Epoch 21: val_loss improved from 0.65930 to 0.65854, saving model to models/checkpoints/densenet.ckpt\n",
      "7/7 [==============================] - 48s 6s/step - loss: 0.6767 - accuracy: 0.5973 - val_loss: 0.6585 - val_accuracy: 0.6364\n",
      "Epoch 22/110\n",
      "7/7 [==============================] - ETA: 0s - loss: 0.6589 - accuracy: 0.6199\n",
      "Epoch 22: val_loss improved from 0.65854 to 0.65357, saving model to models/checkpoints/densenet.ckpt\n",
      "7/7 [==============================] - 50s 7s/step - loss: 0.6589 - accuracy: 0.6199 - val_loss: 0.6536 - val_accuracy: 0.6545\n",
      "Epoch 23/110\n",
      "7/7 [==============================] - ETA: 0s - loss: 0.6628 - accuracy: 0.6244\n",
      "Epoch 23: val_loss improved from 0.65357 to 0.65130, saving model to models/checkpoints/densenet.ckpt\n",
      "7/7 [==============================] - 43s 6s/step - loss: 0.6628 - accuracy: 0.6244 - val_loss: 0.6513 - val_accuracy: 0.6545\n",
      "Epoch 24/110\n",
      "7/7 [==============================] - ETA: 0s - loss: 0.6628 - accuracy: 0.6109\n",
      "Epoch 24: val_loss improved from 0.65130 to 0.64970, saving model to models/checkpoints/densenet.ckpt\n",
      "7/7 [==============================] - 45s 6s/step - loss: 0.6628 - accuracy: 0.6109 - val_loss: 0.6497 - val_accuracy: 0.6545\n",
      "Epoch 25/110\n",
      "7/7 [==============================] - ETA: 0s - loss: 0.6560 - accuracy: 0.5928\n",
      "Epoch 25: val_loss did not improve from 0.64970\n",
      "7/7 [==============================] - 41s 6s/step - loss: 0.6560 - accuracy: 0.5928 - val_loss: 0.6507 - val_accuracy: 0.6364\n",
      "Epoch 26/110\n",
      "7/7 [==============================] - ETA: 0s - loss: 0.6504 - accuracy: 0.6063\n",
      "Epoch 26: val_loss improved from 0.64970 to 0.64770, saving model to models/checkpoints/densenet.ckpt\n",
      "7/7 [==============================] - 43s 6s/step - loss: 0.6504 - accuracy: 0.6063 - val_loss: 0.6477 - val_accuracy: 0.6545\n",
      "Epoch 27/110\n",
      "7/7 [==============================] - ETA: 0s - loss: 0.6690 - accuracy: 0.5928\n",
      "Epoch 27: val_loss did not improve from 0.64770\n",
      "7/7 [==============================] - 42s 6s/step - loss: 0.6690 - accuracy: 0.5928 - val_loss: 0.6486 - val_accuracy: 0.6364\n",
      "Epoch 28/110\n",
      "7/7 [==============================] - ETA: 0s - loss: 0.6651 - accuracy: 0.6109\n",
      "Epoch 28: val_loss improved from 0.64770 to 0.64728, saving model to models/checkpoints/densenet.ckpt\n",
      "7/7 [==============================] - 45s 6s/step - loss: 0.6651 - accuracy: 0.6109 - val_loss: 0.6473 - val_accuracy: 0.6364\n",
      "Epoch 29/110\n",
      "7/7 [==============================] - ETA: 0s - loss: 0.6512 - accuracy: 0.6290\n",
      "Epoch 29: val_loss improved from 0.64728 to 0.64539, saving model to models/checkpoints/densenet.ckpt\n",
      "7/7 [==============================] - 42s 6s/step - loss: 0.6512 - accuracy: 0.6290 - val_loss: 0.6454 - val_accuracy: 0.6727\n",
      "Epoch 30/110\n",
      "7/7 [==============================] - ETA: 0s - loss: 0.6589 - accuracy: 0.6063\n",
      "Epoch 30: val_loss did not improve from 0.64539\n",
      "7/7 [==============================] - 38s 5s/step - loss: 0.6589 - accuracy: 0.6063 - val_loss: 0.6529 - val_accuracy: 0.6182\n",
      "Epoch 31/110\n",
      "7/7 [==============================] - ETA: 0s - loss: 0.6450 - accuracy: 0.6380\n",
      "Epoch 31: val_loss did not improve from 0.64539\n",
      "7/7 [==============================] - 45s 6s/step - loss: 0.6450 - accuracy: 0.6380 - val_loss: 0.6539 - val_accuracy: 0.6182\n",
      "Epoch 32/110\n",
      "7/7 [==============================] - ETA: 0s - loss: 0.6679 - accuracy: 0.5928\n",
      "Epoch 32: val_loss did not improve from 0.64539\n",
      "7/7 [==============================] - 40s 5s/step - loss: 0.6679 - accuracy: 0.5928 - val_loss: 0.6504 - val_accuracy: 0.6364\n"
     ]
    }
   ],
   "source": [
    "\n",
    "densenet_1_history_ft_1 = densenet_1.fit(train_ds_10, epochs=densenet_1_ft_epochs, validation_data=val_ds_10, \n",
    "                                         initial_epoch=densenet_1_history.epoch[-1],\n",
    "                                         callbacks=[checkpoint_callback, early_stop_callback])"
   ]
  },
  {
   "cell_type": "markdown",
   "metadata": {},
   "source": [
    "### Fine Tune Round 2"
   ]
  },
  {
   "cell_type": "code",
   "execution_count": 11,
   "metadata": {},
   "outputs": [
    {
     "name": "stdout",
     "output_type": "stream",
     "text": [
      "Model: \"model\"\n",
      "_________________________________________________________________\n",
      " Layer (type)                Output Shape              Param #   \n",
      "=================================================================\n",
      " input_layer (InputLayer)    [(None, 224, 224, 3)]     0         \n",
      "                                                                 \n",
      " tf.math.truediv (TFOpLambda  (None, 224, 224, 3)      0         \n",
      " )                                                               \n",
      "                                                                 \n",
      " tf.nn.bias_add (TFOpLambda)  (None, 224, 224, 3)      0         \n",
      "                                                                 \n",
      " tf.math.truediv_1 (TFOpLamb  (None, 224, 224, 3)      0         \n",
      " da)                                                             \n",
      "                                                                 \n",
      " data_augmentation (Sequenti  (None, None, None, 3)    0         \n",
      " al)                                                             \n",
      "                                                                 \n",
      " densenet201 (Functional)    (None, None, None, 1920)  18321984  \n",
      "                                                                 \n",
      " global_average_pooling_laye  (None, 1920)             0         \n",
      " r (GlobalAveragePooling2D)                                      \n",
      "                                                                 \n",
      " output_layer (Dense)        (None, 1)                 1921      \n",
      "                                                                 \n",
      "=================================================================\n",
      "Total params: 18,323,905\n",
      "Trainable params: 2,640,961\n",
      "Non-trainable params: 15,682,944\n",
      "_________________________________________________________________\n"
     ]
    }
   ],
   "source": [
    "fine_tune_round = 2\n",
    "densenet_1_ft_epochs = initial_epochs + (fine_tune_epochs * fine_tune_round)\n",
    "\n",
    "# Determine the number of layers to thaw.\n",
    "thaw_n_layers = thaw_n_layers * fine_tune_round\n",
    "\n",
    "# Freeze all but the top thaw_n_layers\n",
    "densenet_1 = thaw(n=thaw_n_layers, model=densenet_1, base_model_layer=densenet_1_base_layer)\n",
    "\n",
    "# Recompile the model\n",
    "densenet_1.compile(loss=loss, optimizer=tf.keras.optimizers.Adam(learning_rate=(learning_rate_base/(learning_rate_decay**fine_tune_round))), metrics=[metric])\n",
    "\n",
    "# Check trainable weights in summary\n",
    "densenet_1.summary()"
   ]
  },
  {
   "cell_type": "code",
   "execution_count": 12,
   "metadata": {},
   "outputs": [
    {
     "name": "stdout",
     "output_type": "stream",
     "text": [
      "Epoch 32/120\n",
      "7/7 [==============================] - ETA: 0s - loss: 0.6573 - accuracy: 0.6199\n",
      "Epoch 32: val_loss improved from 0.64539 to 0.64479, saving model to models/checkpoints/densenet.ckpt\n",
      "7/7 [==============================] - 62s 6s/step - loss: 0.6573 - accuracy: 0.6199 - val_loss: 0.6448 - val_accuracy: 0.6727\n",
      "Epoch 33/120\n",
      "7/7 [==============================] - ETA: 0s - loss: 0.6656 - accuracy: 0.6018\n",
      "Epoch 33: val_loss did not improve from 0.64479\n",
      "7/7 [==============================] - 41s 6s/step - loss: 0.6656 - accuracy: 0.6018 - val_loss: 0.6455 - val_accuracy: 0.6727\n",
      "Epoch 34/120\n",
      "7/7 [==============================] - ETA: 0s - loss: 0.6301 - accuracy: 0.6742\n",
      "Epoch 34: val_loss did not improve from 0.64479\n",
      "7/7 [==============================] - 39s 5s/step - loss: 0.6301 - accuracy: 0.6742 - val_loss: 0.6461 - val_accuracy: 0.6727\n",
      "Epoch 35/120\n",
      "7/7 [==============================] - ETA: 0s - loss: 0.6584 - accuracy: 0.6063\n",
      "Epoch 35: val_loss did not improve from 0.64479\n",
      "7/7 [==============================] - 42s 6s/step - loss: 0.6584 - accuracy: 0.6063 - val_loss: 0.6465 - val_accuracy: 0.6727\n"
     ]
    }
   ],
   "source": [
    "\n",
    "densenet_1_history_ft_2 = densenet_1.fit(train_ds_10, epochs=densenet_1_ft_epochs, validation_data=val_ds_10, \n",
    "                                         initial_epoch=densenet_1_history_ft_1.epoch[-1],\n",
    "                                         callbacks=[checkpoint_callback, early_stop_callback])"
   ]
  }
 ],
 "metadata": {
  "kernelspec": {
   "display_name": "bcd",
   "language": "python",
   "name": "python3"
  },
  "language_info": {
   "codemirror_mode": {
    "name": "ipython",
    "version": 3
   },
   "file_extension": ".py",
   "mimetype": "text/x-python",
   "name": "python",
   "nbconvert_exporter": "python",
   "pygments_lexer": "ipython3",
   "version": "3.10.12"
  }
 },
 "nbformat": 4,
 "nbformat_minor": 2
}
