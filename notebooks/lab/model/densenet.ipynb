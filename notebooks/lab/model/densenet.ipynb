{
 "cells": [
  {
   "cell_type": "markdown",
   "metadata": {},
   "source": [
    "# DenseNet \n",
    "Todo: Discussion"
   ]
  },
  {
   "cell_type": "code",
   "execution_count": 1,
   "metadata": {},
   "outputs": [],
   "source": [
    "import os\n",
    "import pathlib\n",
    "from glob import glob\n",
    "from typing import Union\n",
    "\n",
    "import tensorflow as tf\n",
    "from bcd.model.repo import ModelRepo\n",
    "from bcd.model.factory import DenseNetFactory\n",
    "from bcd.model.visual import X4LearningVisualizer\n",
    "from bcd.model.transfer import thaw\n"
   ]
  },
  {
   "cell_type": "markdown",
   "metadata": {},
   "source": [
    "## Configuration"
   ]
  },
  {
   "cell_type": "code",
   "execution_count": 2,
   "metadata": {},
   "outputs": [],
   "source": [
    "# Data params\n",
    "batch_size = 32\n",
    "input_shape = (224,224,3)\n",
    "output_shape = 1\n",
    "train_dir_10 = pathlib.Path(\"data/image/1_final/training_10/training/\").with_suffix('')\n",
    "test_dir = pathlib.Path(\"data/image/1_final/test/test/\").with_suffix('')\n",
    "\n",
    "# Training Params\n",
    "initial_epochs = 100  # Number of epochs to train for feature extraction\n",
    "fine_tune_epochs = 50  # Number of epochs for each fine tune session\n",
    "initial_learning_rate = 0.0001  # Base learning rate for the Adam optimizer \n",
    "loss = \"binary_crossentropy\"\n",
    "activation = \"sigmoid\"\n",
    "\n",
    "# Early stop callback \n",
    "min_delta = 0.0001\n",
    "monitor = \"val_loss\"  # Monitor validation loss for early stopping\n",
    "patience = 3  # The number of consecutive epochs for which lack of improvement is tolerated \n",
    "restore_best_weights = True  # Returns the best weights rather than the weights at the last epoch.\n",
    "\n",
    "\n",
    "# ModelCheckpoint Callback parameters\n",
    "location = \"models/\"\n",
    "mode = \"auto\"\n",
    "save_weights_only = False\n",
    "save_best_only = True\n",
    "save_freq = \"epoch\"\n",
    "verbose = 1\n",
    "\n",
    "# Model Parameters\n",
    "name = \"densenet\"\n",
    "metric = \"accuracy\"\n",
    "model_factory = DenseNetFactory\n",
    "force = False  # Whether to retrain if the model and weights already exist from a prior training session.\n",
    "base_model_layer = 5 # Layer of the DenseNet base model"
   ]
  },
  {
   "cell_type": "markdown",
   "metadata": {},
   "source": [
    "## Dependencies\n",
    "Several dependencies will be used throughout this notebook, including:\n",
    "- Early Stop Callback\n",
    "- Model Repository\n",
    "- DenseNet Model Factory\n",
    "- Transfer Learning Visualizer\n",
    "\n",
    "We'll make those objects available here."
   ]
  },
  {
   "cell_type": "code",
   "execution_count": 3,
   "metadata": {},
   "outputs": [],
   "source": [
    "early_stop_callback = tf.keras.callbacks.EarlyStopping(monitor=monitor, \n",
    "                                                       min_delta=min_delta,\n",
    "                                                       patience=patience, \n",
    "                                                       restore_best_weights=restore_best_weights)\n",
    "repo = ModelRepo(location=location)\n",
    "factory = model_factory()\n",
    "x4v = X4LearningVisualizer(name=name)"
   ]
  },
  {
   "cell_type": "markdown",
   "metadata": {},
   "source": [
    "## Load Data"
   ]
  },
  {
   "cell_type": "code",
   "execution_count": 4,
   "metadata": {},
   "outputs": [
    {
     "name": "stdout",
     "output_type": "stream",
     "text": [
      "Found 276 files belonging to 2 classes.\n",
      "Using 221 files for training.\n",
      "Found 276 files belonging to 2 classes.\n",
      "Using 55 files for validation.\n",
      "Found 649 files belonging to 2 classes.\n"
     ]
    }
   ],
   "source": [
    "# Training DataSet (10%)\n",
    "train_ds_10 = tf.keras.utils.image_dataset_from_directory(\n",
    "    train_dir_10,\n",
    "    labels=\"inferred\",\n",
    "    color_mode=\"rgb\",\n",
    "    image_size=(224,224),\n",
    "    shuffle=True,\n",
    "    validation_split=0.2,\n",
    "    subset='training',\n",
    "    interpolation=\"bilinear\",\n",
    "    seed=123,\n",
    "    batch_size=batch_size)\n",
    "\n",
    "# Validation DataSet (10%)\n",
    "val_ds_10 = tf.keras.utils.image_dataset_from_directory(\n",
    "    train_dir_10,\n",
    "    labels=\"inferred\",\n",
    "    color_mode=\"rgb\",\n",
    "    image_size=(224,224),\n",
    "    shuffle=True,\n",
    "    validation_split=0.2,\n",
    "    subset='validation',\n",
    "    interpolation=\"bilinear\",\n",
    "    seed=123,\n",
    "    batch_size=batch_size)\n",
    "\n",
    "# Test Set\n",
    "test_ds = tf.keras.utils.image_dataset_from_directory(\n",
    "    test_dir,\n",
    "    labels=\"inferred\",\n",
    "    color_mode=\"rgb\",\n",
    "    image_size=(224,224),\n",
    "    shuffle=True)"
   ]
  },
  {
   "cell_type": "markdown",
   "metadata": {},
   "source": [
    "## Feature Extraction\n",
    "If the model already exists, obtain it from the repository. Otherwise, create the model and perform feature extraction."
   ]
  },
  {
   "cell_type": "code",
   "execution_count": 5,
   "metadata": {},
   "outputs": [
    {
     "name": "stdout",
     "output_type": "stream",
     "text": [
      "DEBUG:ModelRepo:45-val_loss_0.64.keras\n",
      "INFO:ModelRepo:Model densenet-feature_extraction epoch: 45 was found in the repository.\n"
     ]
    }
   ],
   "source": [
    "stage = \"feature_extraction\"\n",
    "if force or not repo.exists(name=name, stage=stage):\n",
    "    model = factory.create(input_shape=input_shape, \n",
    "                            output_shape=output_shape, \n",
    "                            learning_rate=initial_learning_rate, \n",
    "                            trainable=False, \n",
    "                            loss=loss, \n",
    "                            activation=activation, \n",
    "                            metric=metric)\n",
    "    # Obtain a checkpoint callback from the model repository \n",
    "    checkpoint_callback = repo.create_callback(name=name, stage=\"feature_extraction\")\n",
    "    # Fit the model \n",
    "    history = model.fit(train_ds_10, epochs=initial_epochs, validation_data=val_ds_10, callbacks=[checkpoint_callback, early_stop_callback])    \n",
    "    # Extract initial epoch\n",
    "    last_epoch = history.epoch[-1]\n",
    "    # Visualize the learning curves.\n",
    "    x4v(history=history)\n",
    "else:\n",
    "    model, last_epoch = repo.get(name=name, stage=stage)"
   ]
  },
  {
   "cell_type": "markdown",
   "metadata": {},
   "source": [
    "As expected, only the 1921 parameters in the output layer are trainable. The DenseNet model occupies the 5th layer in our overall model. This will be relevant at the fine-tuning stage as we target layers in the DenseNet model to thaw.\n",
    "\n",
    "Let's create a checkpoint callback and fit the model with early stopping."
   ]
  },
  {
   "cell_type": "markdown",
   "metadata": {},
   "source": [
    "Excellent. We can now move on to the fine tuning stage."
   ]
  },
  {
   "cell_type": "markdown",
   "metadata": {},
   "source": [
    "## Fine Tuning \n",
    "Our objective is to adapt the DenseNet201 model, which was trained on the ImageNet dataset, to our target domain, biomedical imaging, specifically, digital mammography. An iterative-gradual fine-tuning approach is undertaken in which the model progressively adapts to the target domain by gradually unfreezing layers and training the model on the CBIS-DDSM data.\n",
    "\n",
    "A common approach is to unfreeze the top layer, train the model until convergence, then unfreeze the next top layer, and so on. However, the DenseNet model has over 700 layers making this approach impractical. Rather than unfreezing the layers one at a time, we will adopt a gradual unfreezing of layer groups. The number of layers in each group will range from 1 to 707 on a logarithmic scale. Concretely, the unfreezing schedule will be as follows:\n",
    "\n",
    "```{table} Gradual Fine-Tuning Schedule\n",
    "| Layer Group | Group Size | Learning Rate |\n",
    "|-------------|------------|---------------|\n",
    "| 1           | 1          | 1.00E-05      |\n",
    "| 2           | 5          | 1.00E-06      |\n",
    "| 3           | 27         | 1.00E-07      |\n",
    "| 4           | 137        | 1.00E-08      |\n",
    "| 5           | 707        | 1.00E-09      |\n",
    "```\n",
    "\n",
    "Each fine-tuning session will trained until convergence.\n"
   ]
  },
  {
   "cell_type": "code",
   "execution_count": 6,
   "metadata": {},
   "outputs": [],
   "source": [
    "gradual_fine_tuning_schedule = {1: {\"layers\": 1, \"learning_rate\": 1e-5},\n",
    "                                2: {\"layers\": 5, \"learning_rate\": 1e-6},\n",
    "                                3: {\"layers\": 27, \"learning_rate\": 1e-7},\n",
    "                                4: {\"layers\": 137, \"learning_rate\": 1e-8},\n",
    "                                5: {\"layers\": 707, \"learning_rate\": 1e-9},\n",
    "                                }"
   ]
  },
  {
   "cell_type": "code",
   "execution_count": 7,
   "metadata": {},
   "outputs": [],
   "source": [
    "def fine_tune(name: str, \n",
    "              stage: str, \n",
    "              model: tf.keras.Model, \n",
    "              train_ds: tf.data.Dataset, \n",
    "              validation_ds: tf.data.Dataset, \n",
    "              base_model_layer: int,\n",
    "              layers: int, \n",
    "              learning_rate: float, \n",
    "              last_epoch: int, \n",
    "              fine_tune_epochs: int = fine_tune_epochs, \n",
    "              callbacks: Union[list, tf.keras.callbacks.Callback] = None) -> Union[tf.keras.Model, tf.keras.callbacks.History]:\n",
    "    \"\"\"Performs fine tuning of a model and returns the model and last epoch\n",
    "    \n",
    "    Args:\n",
    "        name (str): Name of the model\n",
    "        stage (str): Fine tuning session\n",
    "        model (tf.keras.Model): The model to be trained\n",
    "        train_ds (tf.data.Dataset): Training dataset\n",
    "        validation_ds (tf.data.Dataset): Validation dataset\n",
    "        base_model_layer (int): Layer that contains the base model\n",
    "        layers (int): Top n layers to train\n",
    "        learning_rate (float): Learning rate for training\n",
    "        last_epoch (int): Last epoch trained in the prior session or feature extraction stage\n",
    "        fine_tune_epochs (int): Number of fine tuning epochs to train, subject to early stopping.\n",
    "        callbacks (Union[list, tf.keras.callbacks.Callback]): Callbacks for the fit method.\n",
    "\n",
    "    Returns: model (tf.keras.Model) and history (tf.keras.callbacks.History)\n",
    "    \"\"\"\n",
    "\n",
    "    # Remove existing \n",
    "    epochs = last_epoch + fine_tune_epochs\n",
    "\n",
    "    # Obtain a checkpoint callback for the stage and add to callbacks\n",
    "    checkpoint_callback = repo.create_callback(name=name, stage=stage)\n",
    "    if callbacks is None:\n",
    "        callbacks = [checkpoint_callback]\n",
    "    elif isinstance(callbacks,list):\n",
    "        callbacks.extend(checkpoint_callback)\n",
    "    else:\n",
    "        callbacks = [callbacks, checkpoint_callback]\n",
    "\n",
    "    # Thaw the top n layers\n",
    "    model = thaw(model=model, base_model_layer=base_model_layer, n=layers)\n",
    "\n",
    "    # Recompile the model\n",
    "    model.compile(loss=loss, optimizer=tf.keras.optimizers.Adam(learning_rate=learning_rate), metrics=[metric])\n",
    "\n",
    "    # Fit the model\n",
    "    history = model.fit(train_ds, \n",
    "                        validation_data=validation_ds, \n",
    "                        epochs=epochs,                         \n",
    "                        initial_epoch=last_epoch,\n",
    "                        callbacks=callbacks)\n",
    "\n",
    "    return model, history"
   ]
  },
  {
   "cell_type": "markdown",
   "metadata": {},
   "source": [
    "### Fine Tune Session 1"
   ]
  },
  {
   "cell_type": "code",
   "execution_count": 8,
   "metadata": {},
   "outputs": [
    {
     "name": "stdout",
     "output_type": "stream",
     "text": [
      "DEBUG:ModelRepo:56-val_loss_0.64.keras\n",
      "INFO:ModelRepo:Model densenet-fine_tuning_session_1 epoch: 56 was found in the repository.\n"
     ]
    }
   ],
   "source": [
    "\n",
    "fine_tune_layer = 1\n",
    "# Order up a checkpoint callback\n",
    "stage=f\"fine_tuning_session_{fine_tune_layer}\"\n",
    "layers = gradual_fine_tuning_schedule[fine_tune_layer][\"layers\"]\n",
    "learning_rate = gradual_fine_tuning_schedule[fine_tune_layer][\"learning_rate\"]\n",
    "\n",
    "if not force and repo.exists(name=name, stage=stage):\n",
    "    model, last_epoch = repo.get(name=name, stage=stage)\n",
    "else:\n",
    "    repo.remove(name=name, stage=stage) # Remove existing models for the stage\n",
    "    \n",
    "    model, history = fine_tune(name=name,\n",
    "                                    stage=stage,\n",
    "                                    model=model,\n",
    "                                    train_ds=train_ds_10,\n",
    "                                    validation_ds=val_ds_10,\n",
    "                                    base_model_layer=base_model_layer,\n",
    "                                    layers=layers,\n",
    "                                    learning_rate=learning_rate,\n",
    "                                    last_epoch=last_epoch,\n",
    "                                    fine_tune_epochs=fine_tune_epochs,\n",
    "                                    callbacks=early_stop_callback)\n",
    "    # Check model summary\n",
    "    model.summary()\n",
    "    # Visualize learning curve\n",
    "    x4v(history=history)\n",
    "    # Extract the last epoch.\n",
    "    last_epoch = history.epoch[-1]"
   ]
  },
  {
   "cell_type": "markdown",
   "metadata": {},
   "source": [
    "### Fine Tune Session 2"
   ]
  },
  {
   "cell_type": "code",
   "execution_count": 9,
   "metadata": {},
   "outputs": [
    {
     "name": "stdout",
     "output_type": "stream",
     "text": [
      "DEBUG:ModelRepo:81-val_loss_0.64.keras\n",
      "INFO:ModelRepo:Model densenet-fine_tuning_session_2 epoch: 81 was found in the repository.\n"
     ]
    }
   ],
   "source": [
    "\n",
    "fine_tune_layer = 2\n",
    "# Order up a checkpoint callback\n",
    "stage=f\"fine_tuning_session_{fine_tune_layer}\"\n",
    "layers = gradual_fine_tuning_schedule[fine_tune_layer][\"layers\"]\n",
    "learning_rate = gradual_fine_tuning_schedule[fine_tune_layer][\"learning_rate\"]\n",
    "\n",
    "if not force and repo.exists(name=name, stage=stage):\n",
    "    model, last_epoch = repo.get(name=name, stage=stage)\n",
    "else:\n",
    "    repo.remove(name=name, stage=stage) # Remove existing models for the stage\n",
    "    \n",
    "    model, history = fine_tune(name=name,\n",
    "                                    stage=stage,\n",
    "                                    model=model,\n",
    "                                    train_ds=train_ds_10,\n",
    "                                    validation_ds=val_ds_10,\n",
    "                                    base_model_layer=base_model_layer,\n",
    "                                    layers=layers,\n",
    "                                    learning_rate=learning_rate,\n",
    "                                    last_epoch=last_epoch,\n",
    "                                    fine_tune_epochs=fine_tune_epochs,\n",
    "                                    callbacks=early_stop_callback)\n",
    "    # Check model summary\n",
    "    model.summary()\n",
    "    # Visualize learning curve\n",
    "    x4v(history=history)\n",
    "    # Extract the last epoch.\n",
    "    last_epoch = history.epoch[-1]"
   ]
  },
  {
   "cell_type": "markdown",
   "metadata": {},
   "source": [
    "### Fine Tune Session 3"
   ]
  },
  {
   "cell_type": "code",
   "execution_count": 10,
   "metadata": {},
   "outputs": [
    {
     "name": "stdout",
     "output_type": "stream",
     "text": [
      "INFO:ModelRepo:Deleted 0 densenet models from stage fine_tuning_session_3.\n",
      "Model: \"model\"\n",
      "_________________________________________________________________\n",
      " Layer (type)                Output Shape              Param #   \n",
      "=================================================================\n",
      " input_layer (InputLayer)    [(None, 224, 224, 3)]     0         \n",
      "                                                                 \n",
      " tf.math.truediv (TFOpLambda  (None, 224, 224, 3)      0         \n",
      " )                                                               \n",
      "                                                                 \n",
      " tf.nn.bias_add (TFOpLambda)  (None, 224, 224, 3)      0         \n",
      "                                                                 \n",
      " tf.math.truediv_1 (TFOpLamb  (None, 224, 224, 3)      0         \n",
      " da)                                                             \n",
      "                                                                 \n",
      " data_augmentation (Sequenti  (None, 224, 224, 3)      0         \n",
      " al)                                                             \n",
      "                                                                 \n",
      " densenet201 (Functional)    (None, None, None, 1920)  18321984  \n",
      "                                                                 \n",
      " global_average_pooling_laye  (None, 1920)             0         \n",
      " r (GlobalAveragePooling2D)                                      \n",
      "                                                                 \n",
      " output_layer (Dense)        (None, 1)                 1921      \n",
      "                                                                 \n",
      "=================================================================\n",
      "Total params: 18,323,905\n",
      "Trainable params: 878,081\n",
      "Non-trainable params: 17,445,824\n",
      "_________________________________________________________________\n",
      "Epoch 82/131\n",
      "7/7 [==============================] - ETA: 0s - loss: 0.6820 - accuracy: 0.5882\n",
      "Epoch 82: val_loss improved from inf to 0.63789, saving model to models/densenet/fine_tuning_session_3/densenet_fine_tuning_session_3_82-val_loss_0.64.keras\n",
      "7/7 [==============================] - 72s 8s/step - loss: 0.6820 - accuracy: 0.5882 - val_loss: 0.6379 - val_accuracy: 0.6909\n",
      "Epoch 83/131\n",
      "7/7 [==============================] - ETA: 0s - loss: 0.6867 - accuracy: 0.5792\n",
      "Epoch 83: val_loss did not improve from 0.63789\n",
      "7/7 [==============================] - 47s 6s/step - loss: 0.6867 - accuracy: 0.5792 - val_loss: 0.6379 - val_accuracy: 0.6909\n",
      "Epoch 84/131\n",
      "7/7 [==============================] - ETA: 0s - loss: 0.6619 - accuracy: 0.6335\n",
      "Epoch 84: val_loss did not improve from 0.63789\n",
      "7/7 [==============================] - 46s 6s/step - loss: 0.6619 - accuracy: 0.6335 - val_loss: 0.6379 - val_accuracy: 0.6909\n",
      "Epoch 85/131\n",
      "7/7 [==============================] - ETA: 0s - loss: 0.6393 - accuracy: 0.6471\n",
      "Epoch 85: val_loss did not improve from 0.63789\n",
      "7/7 [==============================] - 43s 6s/step - loss: 0.6393 - accuracy: 0.6471 - val_loss: 0.6379 - val_accuracy: 0.6909\n",
      "Model: \"model\"\n",
      "_________________________________________________________________\n",
      " Layer (type)                Output Shape              Param #   \n",
      "=================================================================\n",
      " input_layer (InputLayer)    [(None, 224, 224, 3)]     0         \n",
      "                                                                 \n",
      " tf.math.truediv (TFOpLambda  (None, 224, 224, 3)      0         \n",
      " )                                                               \n",
      "                                                                 \n",
      " tf.nn.bias_add (TFOpLambda)  (None, 224, 224, 3)      0         \n",
      "                                                                 \n",
      " tf.math.truediv_1 (TFOpLamb  (None, 224, 224, 3)      0         \n",
      " da)                                                             \n",
      "                                                                 \n",
      " data_augmentation (Sequenti  (None, 224, 224, 3)      0         \n",
      " al)                                                             \n",
      "                                                                 \n",
      " densenet201 (Functional)    (None, None, None, 1920)  18321984  \n",
      "                                                                 \n",
      " global_average_pooling_laye  (None, 1920)             0         \n",
      " r (GlobalAveragePooling2D)                                      \n",
      "                                                                 \n",
      " output_layer (Dense)        (None, 1)                 1921      \n",
      "                                                                 \n",
      "=================================================================\n",
      "Total params: 18,323,905\n",
      "Trainable params: 878,081\n",
      "Non-trainable params: 17,445,824\n",
      "_________________________________________________________________\n"
     ]
    },
    {
     "data": {
      "image/png": "[encoded data removed]",
      "text/plain": [
       "<Figure size 1200x400 with 2 Axes>"
      ]
     },
     "metadata": {},
     "output_type": "display_data"
    }
   ],
   "source": [
    "\n",
    "fine_tune_layer = 3\n",
    "# Order up a checkpoint callback\n",
    "stage=f\"fine_tuning_session_{fine_tune_layer}\"\n",
    "layers = gradual_fine_tuning_schedule[fine_tune_layer][\"layers\"]\n",
    "learning_rate = gradual_fine_tuning_schedule[fine_tune_layer][\"learning_rate\"]\n",
    "\n",
    "if not force and repo.exists(name=name, stage=stage):\n",
    "    model, last_epoch = repo.get(name=name, stage=stage)\n",
    "else:\n",
    "    repo.remove(name=name, stage=stage) # Remove existing models for the stage\n",
    "    \n",
    "    model, history = fine_tune(name=name,\n",
    "                                    stage=stage,\n",
    "                                    model=model,\n",
    "                                    train_ds=train_ds_10,\n",
    "                                    validation_ds=val_ds_10,\n",
    "                                    base_model_layer=base_model_layer,\n",
    "                                    layers=layers,\n",
    "                                    learning_rate=learning_rate,\n",
    "                                    last_epoch=last_epoch,\n",
    "                                    fine_tune_epochs=fine_tune_epochs,\n",
    "                                    callbacks=early_stop_callback)\n",
    "    # Check model summary\n",
    "    model.summary()\n",
    "    # Visualize learning curve\n",
    "    x4v(history=history)\n",
    "    # Extract the last epoch.\n",
    "    last_epoch = history.epoch[-1]"
   ]
  },
  {
   "cell_type": "markdown",
   "metadata": {},
   "source": [
    "### Fine Tune Session 4"
   ]
  },
  {
   "cell_type": "code",
   "execution_count": 11,
   "metadata": {},
   "outputs": [
    {
     "name": "stdout",
     "output_type": "stream",
     "text": [
      "Model: \"model\"\n",
      "_________________________________________________________________\n",
      " Layer (type)                Output Shape              Param #   \n",
      "=================================================================\n",
      " input_layer (InputLayer)    [(None, 224, 224, 3)]     0         \n",
      "                                                                 \n",
      " tf.math.truediv (TFOpLambda  (None, 224, 224, 3)      0         \n",
      " )                                                               \n",
      "                                                                 \n",
      " tf.nn.bias_add (TFOpLambda)  (None, 224, 224, 3)      0         \n",
      "                                                                 \n",
      " tf.math.truediv_1 (TFOpLamb  (None, 224, 224, 3)      0         \n",
      " da)                                                             \n",
      "                                                                 \n",
      " data_augmentation (Sequenti  (None, 224, 224, 3)      0         \n",
      " al)                                                             \n",
      "                                                                 \n",
      " densenet201 (Functional)    (None, None, None, 1920)  18321984  \n",
      "                                                                 \n",
      " global_average_pooling_laye  (None, 1920)             0         \n",
      " r (GlobalAveragePooling2D)                                      \n",
      "                                                                 \n",
      " output_layer (Dense)        (None, 1)                 1921      \n",
      "                                                                 \n",
      "=================================================================\n",
      "Total params: 18,323,905\n",
      "Trainable params: 4,699,905\n",
      "Non-trainable params: 13,624,000\n",
      "_________________________________________________________________\n",
      "Epoch 85/134\n",
      "7/7 [==============================] - ETA: 0s - loss: 0.6604 - accuracy: 0.5701\n",
      "Epoch 85: val_loss improved from inf to 0.63789, saving model to models/densenet/fine_tuning_session_4/densenet_fine_tuning_session_4_85-val_loss_0.64.keras\n",
      "7/7 [==============================] - 77s 9s/step - loss: 0.6604 - accuracy: 0.5701 - val_loss: 0.6379 - val_accuracy: 0.6909\n",
      "Epoch 86/134\n",
      "7/7 [==============================] - ETA: 0s - loss: 0.6903 - accuracy: 0.5882\n",
      "Epoch 86: val_loss improved from 0.63789 to 0.63789, saving model to models/densenet/fine_tuning_session_4/densenet_fine_tuning_session_4_86-val_loss_0.64.keras\n",
      "7/7 [==============================] - 50s 7s/step - loss: 0.6903 - accuracy: 0.5882 - val_loss: 0.6379 - val_accuracy: 0.6909\n",
      "Epoch 87/134\n",
      "7/7 [==============================] - ETA: 0s - loss: 0.6862 - accuracy: 0.5747\n",
      "Epoch 87: val_loss improved from 0.63789 to 0.63789, saving model to models/densenet/fine_tuning_session_4/densenet_fine_tuning_session_4_87-val_loss_0.64.keras\n",
      "7/7 [==============================] - 51s 7s/step - loss: 0.6862 - accuracy: 0.5747 - val_loss: 0.6379 - val_accuracy: 0.6909\n",
      "Epoch 88/134\n",
      "7/7 [==============================] - ETA: 0s - loss: 0.6734 - accuracy: 0.6063\n",
      "Epoch 88: val_loss improved from 0.63789 to 0.63789, saving model to models/densenet/fine_tuning_session_4/densenet_fine_tuning_session_4_88-val_loss_0.64.keras\n",
      "7/7 [==============================] - 47s 7s/step - loss: 0.6734 - accuracy: 0.6063 - val_loss: 0.6379 - val_accuracy: 0.6909\n",
      "Model: \"model\"\n",
      "_________________________________________________________________\n",
      " Layer (type)                Output Shape              Param #   \n",
      "=================================================================\n",
      " input_layer (InputLayer)    [(None, 224, 224, 3)]     0         \n",
      "                                                                 \n",
      " tf.math.truediv (TFOpLambda  (None, 224, 224, 3)      0         \n",
      " )                                                               \n",
      "                                                                 \n",
      " tf.nn.bias_add (TFOpLambda)  (None, 224, 224, 3)      0         \n",
      "                                                                 \n",
      " tf.math.truediv_1 (TFOpLamb  (None, 224, 224, 3)      0         \n",
      " da)                                                             \n",
      "                                                                 \n",
      " data_augmentation (Sequenti  (None, 224, 224, 3)      0         \n",
      " al)                                                             \n",
      "                                                                 \n",
      " densenet201 (Functional)    (None, None, None, 1920)  18321984  \n",
      "                                                                 \n",
      " global_average_pooling_laye  (None, 1920)             0         \n",
      " r (GlobalAveragePooling2D)                                      \n",
      "                                                                 \n",
      " output_layer (Dense)        (None, 1)                 1921      \n",
      "                                                                 \n",
      "=================================================================\n",
      "Total params: 18,323,905\n",
      "Trainable params: 4,699,905\n",
      "Non-trainable params: 13,624,000\n",
      "_________________________________________________________________\n"
     ]
    },
    {
     "data": {
      "image/png": "[encoded data removed]",
      "text/plain": [
       "<Figure size 1200x400 with 2 Axes>"
      ]
     },
     "metadata": {},
     "output_type": "display_data"
    }
   ],
   "source": [
    "\n",
    "fine_tune_layer = 4\n",
    "# Order up a checkpoint callback\n",
    "stage=f\"fine_tuning_session_{fine_tune_layer}\"\n",
    "layers = gradual_fine_tuning_schedule[fine_tune_layer][\"layers\"]\n",
    "learning_rate = gradual_fine_tuning_schedule[fine_tune_layer][\"learning_rate\"]\n",
    "\n",
    "if not force and repo.exists(name=name, stage=stage):\n",
    "    model, last_epoch = repo.get(name=name, stage=stage)\n",
    "else:\n",
    "    repo.remove(name=name, stage=stage) # Remove existing models for the stage\n",
    "    \n",
    "    model, history = fine_tune(name=name,\n",
    "                                    stage=stage,\n",
    "                                    model=model,\n",
    "                                    train_ds=train_ds_10,\n",
    "                                    validation_ds=val_ds_10,\n",
    "                                    base_model_layer=base_model_layer,\n",
    "                                    layers=layers,\n",
    "                                    learning_rate=learning_rate,\n",
    "                                    last_epoch=last_epoch,\n",
    "                                    fine_tune_epochs=fine_tune_epochs,\n",
    "                                    callbacks=early_stop_callback)\n",
    "    # Check model summary\n",
    "    model.summary()\n",
    "    # Visualize learning curve\n",
    "    x4v(history=history)\n",
    "    # Extract the last epoch.\n",
    "    last_epoch = history.epoch[-1]"
   ]
  },
  {
   "cell_type": "markdown",
   "metadata": {},
   "source": [
    "### Fine Tune Session 5"
   ]
  },
  {
   "cell_type": "code",
   "execution_count": 12,
   "metadata": {},
   "outputs": [
    {
     "name": "stdout",
     "output_type": "stream",
     "text": [
      "Model: \"model\"\n",
      "_________________________________________________________________\n",
      " Layer (type)                Output Shape              Param #   \n",
      "=================================================================\n",
      " input_layer (InputLayer)    [(None, 224, 224, 3)]     0         \n",
      "                                                                 \n",
      " tf.math.truediv (TFOpLambda  (None, 224, 224, 3)      0         \n",
      " )                                                               \n",
      "                                                                 \n",
      " tf.nn.bias_add (TFOpLambda)  (None, 224, 224, 3)      0         \n",
      "                                                                 \n",
      " tf.math.truediv_1 (TFOpLamb  (None, 224, 224, 3)      0         \n",
      " da)                                                             \n",
      "                                                                 \n",
      " data_augmentation (Sequenti  (None, 224, 224, 3)      0         \n",
      " al)                                                             \n",
      "                                                                 \n",
      " densenet201 (Functional)    (None, None, None, 1920)  18321984  \n",
      "                                                                 \n",
      " global_average_pooling_laye  (None, 1920)             0         \n",
      " r (GlobalAveragePooling2D)                                      \n",
      "                                                                 \n",
      " output_layer (Dense)        (None, 1)                 1921      \n",
      "                                                                 \n",
      "=================================================================\n",
      "Total params: 18,323,905\n",
      "Trainable params: 18,094,849\n",
      "Non-trainable params: 229,056\n",
      "_________________________________________________________________\n",
      "Epoch 88/137\n",
      "3/7 [===========>..................] - ETA: 1:15 - loss: 0.6488 - accuracy: 0.5938"
     ]
    }
   ],
   "source": [
    "\n",
    "fine_tune_layer = 5\n",
    "# Order up a checkpoint callback\n",
    "stage=f\"fine_tuning_session_{fine_tune_layer}\"\n",
    "layers = gradual_fine_tuning_schedule[fine_tune_layer][\"layers\"]\n",
    "learning_rate = gradual_fine_tuning_schedule[fine_tune_layer][\"learning_rate\"]\n",
    "\n",
    "if not force and repo.exists(name=name, stage=stage):\n",
    "    model, last_epoch = repo.get(name=name, stage=stage)\n",
    "else:\n",
    "    repo.remove(name=name, stage=stage) # Remove existing models for the stage\n",
    "    \n",
    "    model, history = fine_tune(name=name,\n",
    "                                    stage=stage,\n",
    "                                    model=model,\n",
    "                                    train_ds=train_ds_10,\n",
    "                                    validation_ds=val_ds_10,\n",
    "                                    base_model_layer=base_model_layer,\n",
    "                                    layers=layers,\n",
    "                                    learning_rate=learning_rate,\n",
    "                                    last_epoch=last_epoch,\n",
    "                                    fine_tune_epochs=fine_tune_epochs,\n",
    "                                    callbacks=early_stop_callback)\n",
    "    # Check model summary\n",
    "    model.summary()\n",
    "    # Visualize learning curve\n",
    "    x4v(history=history)\n",
    "    # Extract the last epoch.\n",
    "    last_epoch = history.epoch[-1]"
   ]
  }
 ],
 "metadata": {
  "kernelspec": {
   "display_name": "bcd",
   "language": "python",
   "name": "python3"
  },
  "language_info": {
   "codemirror_mode": {
    "name": "ipython",
    "version": 3
   },
   "file_extension": ".py",
   "mimetype": "text/x-python",
   "name": "python",
   "nbconvert_exporter": "python",
   "pygments_lexer": "ipython3",
   "version": "3.10.12"
  }
 },
 "nbformat": 4,
 "nbformat_minor": 2
}
