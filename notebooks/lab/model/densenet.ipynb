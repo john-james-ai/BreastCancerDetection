{
 "cells": [
  {
   "cell_type": "markdown",
   "metadata": {},
   "source": [
    "# DenseNet Architecture"
   ]
  },
  {
   "cell_type": "code",
   "execution_count": 1,
   "metadata": {},
   "outputs": [],
   "source": [
    "import os\n",
    "import pathlib\n",
    "\n",
    "import tensorflow as tf\n",
    "from bcd.model.repo import ModelRepo\n",
    "from bcd.model.factory import DenseNetFactory\n",
    "from bcd.model.visual import X4LearningVisualizer\n",
    "from bcd.model.transfer import thaw"
   ]
  },
  {
   "cell_type": "code",
   "execution_count": 2,
   "metadata": {},
   "outputs": [],
   "source": [
    "batch_size = 32\n",
    "input_shape = (224,224,3)\n",
    "output_shape = 1\n",
    "\n",
    "initial_epochs = 100  # Number of epochs to train for feature extraction\n",
    "\n",
    "fine_tune_epochs = 10  # Number of epochs for each fine tune session\n",
    "fine_tune_thaw_rate = 0.05  # Additional proportion of layers to unthaw each fine tune session. \n",
    "\n",
    "early_stop_monitor = \"val_loss\"  # Monitor validation loss for early stopping\n",
    "early_stop_patience = 3  # The number of consecutive epochs for which lack of improvement is tolerated \n",
    "early_stop_restore_best_weights = True  # Returns the best weights rather than the weights at the last epoch.\n",
    "\n",
    "learning_rate = 0.0001  # Base learning rate for the Adam optimizer \n",
    "learning_rate_decay = 10 # The factor by which learning rate decays for each fine tune session.\n",
    "\n",
    "loss = \"binary_crossentropy\"\n",
    "activation = \"sigmoid\"\n",
    "metric = \"accuracy\"\n",
    "\n",
    "train_dir_10 = pathlib.Path(\"data/image/1_final/training_10/training/\").with_suffix('')\n",
    "test_dir = pathlib.Path(\"data/image/1_final/test/test/\").with_suffix('')\n",
    "checkpoint_filepath = \"models/densenet/densenet{epoch:02d}-{val_loss:.2f}.keras\""
   ]
  },
  {
   "cell_type": "markdown",
   "metadata": {},
   "source": [
    "## Preliminaries - Callbacks\n",
    "Create a callback checkpoint that will automatically save model weights at each epoch."
   ]
  },
  {
   "cell_type": "code",
   "execution_count": 3,
   "metadata": {},
   "outputs": [],
   "source": [
    "# Create a ModelCheckpoint callback that saves the model's weights only\n",
    "checkpoint_callback = tf.keras.callbacks.ModelCheckpoint(filepath=checkpoint_filepath,\n",
    "                                                         mode=\"auto\",\n",
    "                                                         save_weights_only=False,\n",
    "                                                         save_best_only=True, # save only the best model weights instead of a model every epoch\n",
    "                                                         save_freq=\"epoch\", # save every epoch\n",
    "                                                         verbose=1)"
   ]
  },
  {
   "cell_type": "code",
   "execution_count": 4,
   "metadata": {},
   "outputs": [],
   "source": [
    "# Create an early stopping callback that will stop training if validation loss doesn't improve in n epochs\n",
    "early_stop_callback = tf.keras.callbacks.EarlyStopping(monitor=early_stop_monitor, patience=early_stop_patience, restore_best_weights=early_stop_restore_best_weights)"
   ]
  },
  {
   "cell_type": "markdown",
   "metadata": {},
   "source": [
    "## Load Data"
   ]
  },
  {
   "cell_type": "code",
   "execution_count": 5,
   "metadata": {},
   "outputs": [
    {
     "name": "stdout",
     "output_type": "stream",
     "text": [
      "Found 276 files belonging to 2 classes.\n",
      "Using 221 files for training.\n",
      "Found 276 files belonging to 2 classes.\n",
      "Using 55 files for validation.\n",
      "Found 649 files belonging to 2 classes.\n"
     ]
    }
   ],
   "source": [
    "# Training DataSet (10%)\n",
    "train_ds_10 = tf.keras.utils.image_dataset_from_directory(\n",
    "    train_dir_10,\n",
    "    labels=\"inferred\",\n",
    "    color_mode=\"rgb\",\n",
    "    image_size=(224,224),\n",
    "    shuffle=True,\n",
    "    validation_split=0.2,\n",
    "    subset='training',\n",
    "    interpolation=\"bilinear\",\n",
    "    seed=123,\n",
    "    batch_size=batch_size)\n",
    "\n",
    "# Validation DataSet (10%)\n",
    "val_ds_10 = tf.keras.utils.image_dataset_from_directory(\n",
    "    train_dir_10,\n",
    "    labels=\"inferred\",\n",
    "    color_mode=\"rgb\",\n",
    "    image_size=(224,224),\n",
    "    shuffle=True,\n",
    "    validation_split=0.2,\n",
    "    subset='validation',\n",
    "    interpolation=\"bilinear\",\n",
    "    seed=123,\n",
    "    batch_size=batch_size)\n",
    "\n",
    "# Test Set\n",
    "test_ds = tf.keras.utils.image_dataset_from_directory(\n",
    "    test_dir,\n",
    "    labels=\"inferred\",\n",
    "    color_mode=\"rgb\",\n",
    "    image_size=(224,224),\n",
    "    shuffle=True)"
   ]
  },
  {
   "cell_type": "markdown",
   "metadata": {},
   "source": [
    "## Feature Extraction"
   ]
  },
  {
   "cell_type": "code",
   "execution_count": 6,
   "metadata": {},
   "outputs": [
    {
     "name": "stdout",
     "output_type": "stream",
     "text": [
      "Epoch 1/5\n",
      "7/7 [==============================] - ETA: 0s - loss: 0.7051 - accuracy: 0.5339\n",
      "Epoch 1: val_loss improved from inf to 0.67693, saving model to models/checkpoints/densenet.ckpt\n",
      "7/7 [==============================] - 57s 6s/step - loss: 0.7051 - accuracy: 0.5339 - val_loss: 0.6769 - val_accuracy: 0.5818\n",
      "Epoch 2/5\n",
      "7/7 [==============================] - ETA: 0s - loss: 0.7149 - accuracy: 0.5475\n",
      "Epoch 2: val_loss improved from 0.67693 to 0.66639, saving model to models/checkpoints/densenet.ckpt\n",
      "7/7 [==============================] - 40s 5s/step - loss: 0.7149 - accuracy: 0.5475 - val_loss: 0.6664 - val_accuracy: 0.5818\n",
      "Epoch 3/5\n",
      "7/7 [==============================] - ETA: 0s - loss: 0.6905 - accuracy: 0.6154\n",
      "Epoch 3: val_loss improved from 0.66639 to 0.65959, saving model to models/checkpoints/densenet.ckpt\n",
      "7/7 [==============================] - 39s 5s/step - loss: 0.6905 - accuracy: 0.6154 - val_loss: 0.6596 - val_accuracy: 0.6182\n",
      "Epoch 4/5\n",
      "7/7 [==============================] - ETA: 0s - loss: 0.6853 - accuracy: 0.5973\n",
      "Epoch 4: val_loss did not improve from 0.65959\n",
      "7/7 [==============================] - 39s 5s/step - loss: 0.6853 - accuracy: 0.5973 - val_loss: 0.6600 - val_accuracy: 0.6000\n",
      "Epoch 5/5\n",
      "7/7 [==============================] - ETA: 0s - loss: 0.6962 - accuracy: 0.5928\n",
      "Epoch 5: val_loss improved from 0.65959 to 0.65648, saving model to models/checkpoints/densenet.ckpt\n",
      "7/7 [==============================] - 37s 5s/step - loss: 0.6962 - accuracy: 0.5928 - val_loss: 0.6565 - val_accuracy: 0.6182\n"
     ]
    }
   ],
   "source": [
    "factory = DenseNetFactory()\n",
    "densenet = factory.create(input_shape=input_shape, output_shape=output_shape, learning_rate=learning_rate, trainable=False, loss=loss, activation=activation, metric=metric)\n",
    "densenet_history = densenet.fit(train_ds_10, epochs=initial_epochs, validation_data=val_ds_10, callbacks=[checkpoint_callback, early_stop_callback])"
   ]
  },
  {
   "cell_type": "code",
   "execution_count": 7,
   "metadata": {},
   "outputs": [
    {
     "data": {
      "image/png": "[encoded data removed]",
      "text/plain": [
       "<Figure size 1200x400 with 2 Axes>"
      ]
     },
     "metadata": {},
     "output_type": "display_data"
    }
   ],
   "source": [
    "x4v = X4LearningVisualizer(name=\"densenet\")\n",
    "x4v(history=densenet_history)"
   ]
  },
  {
   "cell_type": "markdown",
   "metadata": {},
   "source": [
    "We have an training accuracy of 60% and validation accuracy of 70% on 10% of the data in just 5 epochs. "
   ]
  },
  {
   "cell_type": "code",
   "execution_count": 8,
   "metadata": {},
   "outputs": [
    {
     "name": "stdout",
     "output_type": "stream",
     "text": [
      "Model: \"model\"\n",
      "_________________________________________________________________\n",
      " Layer (type)                Output Shape              Param #   \n",
      "=================================================================\n",
      " input_layer (InputLayer)    [(None, 224, 224, 3)]     0         \n",
      "                                                                 \n",
      " tf.math.truediv (TFOpLambda  (None, 224, 224, 3)      0         \n",
      " )                                                               \n",
      "                                                                 \n",
      " tf.nn.bias_add (TFOpLambda)  (None, 224, 224, 3)      0         \n",
      "                                                                 \n",
      " tf.math.truediv_1 (TFOpLamb  (None, 224, 224, 3)      0         \n",
      " da)                                                             \n",
      "                                                                 \n",
      " data_augmentation (Sequenti  (None, None, None, 3)    0         \n",
      " al)                                                             \n",
      "                                                                 \n",
      " densenet201 (Functional)    (None, None, None, 1920)  18321984  \n",
      "                                                                 \n",
      " global_average_pooling_laye  (None, 1920)             0         \n",
      " r (GlobalAveragePooling2D)                                      \n",
      "                                                                 \n",
      " output_layer (Dense)        (None, 1)                 1921      \n",
      "                                                                 \n",
      "=================================================================\n",
      "Total params: 18,323,905\n",
      "Trainable params: 1,921\n",
      "Non-trainable params: 18,321,984\n",
      "_________________________________________________________________\n"
     ]
    }
   ],
   "source": [
    "densenet.summary()"
   ]
  },
  {
   "cell_type": "markdown",
   "metadata": {},
   "source": [
    "Save the model."
   ]
  },
  {
   "cell_type": "code",
   "execution_count": null,
   "metadata": {},
   "outputs": [],
   "source": [
    "name=\"densenet\"\n",
    "description = \"feature_extraction\"\n",
    "repo = ModelRepo()\n",
    "repo.add(model=densenet, name=name, description=description, history=densenet_history)"
   ]
  },
  {
   "cell_type": "markdown",
   "metadata": {},
   "source": [
    "## Fine Tune"
   ]
  },
  {
   "cell_type": "markdown",
   "metadata": {},
   "source": [
    "### Resume Strategy"
   ]
  },
  {
   "cell_type": "markdown",
   "metadata": {},
   "source": [
    "#### Fine Tune Session 1"
   ]
  },
  {
   "cell_type": "code",
   "execution_count": 9,
   "metadata": {},
   "outputs": [
    {
     "name": "stdout",
     "output_type": "stream",
     "text": [
      "Model: \"model\"\n",
      "_________________________________________________________________\n",
      " Layer (type)                Output Shape              Param #   \n",
      "=================================================================\n",
      " input_layer (InputLayer)    [(None, 224, 224, 3)]     0         \n",
      "                                                                 \n",
      " tf.math.truediv (TFOpLambda  (None, 224, 224, 3)      0         \n",
      " )                                                               \n",
      "                                                                 \n",
      " tf.nn.bias_add (TFOpLambda)  (None, 224, 224, 3)      0         \n",
      "                                                                 \n",
      " tf.math.truediv_1 (TFOpLamb  (None, 224, 224, 3)      0         \n",
      " da)                                                             \n",
      "                                                                 \n",
      " data_augmentation (Sequenti  (None, None, None, 3)    0         \n",
      " al)                                                             \n",
      "                                                                 \n",
      " densenet201 (Functional)    (None, None, None, 1920)  18321984  \n",
      "                                                                 \n",
      " global_average_pooling_laye  (None, 1920)             0         \n",
      " r (GlobalAveragePooling2D)                                      \n",
      "                                                                 \n",
      " output_layer (Dense)        (None, 1)                 1921      \n",
      "                                                                 \n",
      "=================================================================\n",
      "Total params: 18,323,905\n",
      "Trainable params: 1,373,441\n",
      "Non-trainable params: 16,950,464\n",
      "_________________________________________________________________\n"
     ]
    }
   ],
   "source": [
    "fine_tune_session = 1\n",
    "densenet_ft_epochs = initial_epochs + (fine_tune_epochs * fine_tune_session)\n",
    "densenet_base_layer = 5\n",
    "\n",
    "# Thaw the top n layers\n",
    "densenet = thaw(model=densenet, base_model_layer=densenet_base_layer, session=fine_tune_session, thaw_rate = 0.05)\n",
    "\n",
    "# Decay the learning rate\n",
    "learning_rate = learning_rate / learning_rate_decay\n",
    "\n",
    "# Recompile the model\n",
    "densenet.compile(loss=loss, optimizer=tf.keras.optimizers.Adam(learning_rate=(learning_rate/(learning_rate_decay**fine_tune_session))), metrics=[metric])\n",
    "\n",
    "# Check trainable weights in summary\n",
    "densenet.summary()\n"
   ]
  },
  {
   "cell_type": "code",
   "execution_count": 10,
   "metadata": {},
   "outputs": [
    {
     "name": "stdout",
     "output_type": "stream",
     "text": [
      "Epoch 5/110\n",
      "7/7 [==============================] - ETA: 0s - loss: 0.7087 - accuracy: 0.5792\n",
      "Epoch 5: val_loss improved from 0.65648 to 0.65601, saving model to models/checkpoints/densenet.ckpt\n",
      "7/7 [==============================] - 59s 6s/step - loss: 0.7087 - accuracy: 0.5792 - val_loss: 0.6560 - val_accuracy: 0.6182\n",
      "Epoch 6/110\n",
      "7/7 [==============================] - ETA: 0s - loss: 0.6741 - accuracy: 0.5882\n",
      "Epoch 6: val_loss did not improve from 0.65601\n",
      "7/7 [==============================] - 44s 6s/step - loss: 0.6741 - accuracy: 0.5882 - val_loss: 0.6563 - val_accuracy: 0.6182\n",
      "Epoch 7/110\n",
      "7/7 [==============================] - ETA: 0s - loss: 0.6956 - accuracy: 0.5611\n",
      "Epoch 7: val_loss did not improve from 0.65601\n",
      "7/7 [==============================] - 42s 6s/step - loss: 0.6956 - accuracy: 0.5611 - val_loss: 0.6566 - val_accuracy: 0.6182\n",
      "Epoch 8/110\n",
      "7/7 [==============================] - ETA: 0s - loss: 0.6902 - accuracy: 0.5792\n",
      "Epoch 8: val_loss did not improve from 0.65601\n",
      "7/7 [==============================] - 45s 6s/step - loss: 0.6902 - accuracy: 0.5792 - val_loss: 0.6566 - val_accuracy: 0.6182\n"
     ]
    }
   ],
   "source": [
    "\n",
    "densenet_history_ft_1 = densenet.fit(train_ds_10, epochs=densenet_ft_epochs, validation_data=val_ds_10, \n",
    "                                         initial_epoch=densenet_history.epoch[-1],\n",
    "                                         callbacks=[checkpoint_callback, early_stop_callback])\n",
    "filename = \"densenet_fine_tuning_1_1.keras\"\n",
    "filepath = os.path.join(model_directory, filename)\n",
    "densenet.save(filepath)"
   ]
  },
  {
   "cell_type": "markdown",
   "metadata": {},
   "source": [
    "#### Fine Tune Session 2"
   ]
  },
  {
   "cell_type": "code",
   "execution_count": null,
   "metadata": {},
   "outputs": [],
   "source": [
    "fine_tune_session = 2\n",
    "densenet_ft_epochs = initial_epochs + (fine_tune_epochs * fine_tune_session)\n",
    "\n",
    "# Determine the number of layers to thaw.\n",
    "thaw_n_layers = thaw_n_layers * fine_tune_session\n",
    "\n",
    "# Freeze all but the top thaw_n_layers\n",
    "densenet = thaw(n=thaw_n_layers, model=densenet, base_model_layer=densenet_base_layer)\n",
    "\n",
    "# Decay the learning rate\n",
    "learning_rate \n",
    "\n",
    "# Recompile the model\n",
    "densenet.compile(loss=loss, optimizer=tf.keras.optimizers.Adam(learning_rate=(learning_rate/(learning_rate_decay**fine_tune_session))), metrics=[metric])\n",
    "\n",
    "# Check trainable weights in summary\n",
    "densenet.summary()"
   ]
  },
  {
   "cell_type": "code",
   "execution_count": null,
   "metadata": {},
   "outputs": [],
   "source": [
    "\n",
    "densenet_history_ft_2 = densenet.fit(train_ds_10, epochs=densenet_ft_epochs, validation_data=val_ds_10, \n",
    "                                         initial_epoch=densenet_history_ft_1.epoch[-1],\n",
    "                                         callbacks=[checkpoint_callback, early_stop_callback])\n",
    "filename = \"densenet_fine_tuning_1_2.keras\"\n",
    "filepath = os.path.join(model_directory, filename)\n",
    "densenet.save(filepath)"
   ]
  },
  {
   "cell_type": "markdown",
   "metadata": {},
   "source": [
    "#### Fine Tune Session 3"
   ]
  },
  {
   "cell_type": "code",
   "execution_count": null,
   "metadata": {},
   "outputs": [],
   "source": [
    "fine_tune_session = 3\n",
    "densenet_ft_epochs = initial_epochs + (fine_tune_epochs * fine_tune_session)\n",
    "\n",
    "# Determine the number of layers to thaw.\n",
    "thaw_n_layers = thaw_n_layers * fine_tune_session\n",
    "\n",
    "# Freeze all but the top thaw_n_layers\n",
    "densenet = thaw(n=thaw_n_layers, model=densenet, base_model_layer=densenet_base_layer)\n",
    "\n",
    "# Recompile the model\n",
    "densenet.compile(loss=loss, optimizer=tf.keras.optimizers.Adam(learning_rate=(learning_rate/(learning_rate_decay**fine_tune_session))), metrics=[metric])\n",
    "\n",
    "# Check trainable weights in summary\n",
    "densenet.summary()"
   ]
  },
  {
   "cell_type": "code",
   "execution_count": null,
   "metadata": {},
   "outputs": [],
   "source": [
    "\n",
    "densenet_history_ft_3 = densenet.fit(train_ds_10, epochs=densenet_ft_epochs, validation_data=val_ds_10, \n",
    "                                         initial_epoch=densenet_history_ft_2.epoch[-1],\n",
    "                                         callbacks=[checkpoint_callback, early_stop_callback])\n",
    "filename = \"densenet_fine_tuning_1_3.keras\"\n",
    "filepath = os.path.join(model_directory, filename)\n",
    "densenet.save(filepath)"
   ]
  },
  {
   "cell_type": "markdown",
   "metadata": {},
   "source": [
    "### Restart Strategy"
   ]
  },
  {
   "cell_type": "markdown",
   "metadata": {},
   "source": [
    "#### Fine Tuning Session 1"
   ]
  },
  {
   "cell_type": "code",
   "execution_count": null,
   "metadata": {},
   "outputs": [],
   "source": [
    "# Reload Weights from Feature Extraction Stage\n",
    "filename = \"densenet_feature_extraction.keras\"\n",
    "filepath = os.path.join(model_directory, filename)\n",
    "densenet = tf.keras.models.load_model(filepath)\n"
   ]
  },
  {
   "cell_type": "code",
   "execution_count": null,
   "metadata": {},
   "outputs": [],
   "source": [
    "fine_tune_session = 1\n",
    "densenet_ft_epochs = initial_epochs + (fine_tune_epochs * fine_tune_session)\n",
    "\n",
    "# Determine the number of layers to thaw.\n",
    "thaw_n_layers = thaw_n_layers * fine_tune_session\n",
    "\n",
    "# Freeze all but the top thaw_n_layers\n",
    "densenet = thaw(n=thaw_n_layers, model=densenet, base_model_layer=densenet_base_layer)\n",
    "\n",
    "# Recompile the model\n",
    "densenet.compile(loss=loss, optimizer=tf.keras.optimizers.Adam(learning_rate=(learning_rate/(learning_rate_decay**fine_tune_session))), metrics=[metric])\n",
    "\n",
    "# Check trainable weights in summary\n",
    "densenet.summary()"
   ]
  },
  {
   "cell_type": "code",
   "execution_count": null,
   "metadata": {},
   "outputs": [],
   "source": [
    "\n",
    "densenet_history_ft_2_1 = densenet.fit(train_ds_10, epochs=densenet_ft_epochs, validation_data=val_ds_10, \n",
    "                                         initial_epoch=densenet_history.epoch[-1],\n",
    "                                         callbacks=[checkpoint_callback, early_stop_callback])\n",
    "filename = \"densenet_fine_tuning_2_1.keras\"\n",
    "filepath = os.path.join(model_directory, filename)\n",
    "densenet.save(filepath)"
   ]
  },
  {
   "cell_type": "markdown",
   "metadata": {},
   "source": [
    "#### Fine Tuning Session 2"
   ]
  },
  {
   "cell_type": "code",
   "execution_count": null,
   "metadata": {},
   "outputs": [],
   "source": [
    "fine_tune_session = 2\n",
    "densenet_ft_epochs = initial_epochs + (fine_tune_epochs * fine_tune_session)\n",
    "\n",
    "# Determine the number of layers to thaw.\n",
    "thaw_n_layers = thaw_n_layers * fine_tune_session\n",
    "\n",
    "# Freeze all but the top thaw_n_layers\n",
    "densenet = thaw(n=thaw_n_layers, model=densenet, base_model_layer=densenet_base_layer)\n",
    "\n",
    "# Recompile the model\n",
    "densenet.compile(loss=loss, optimizer=tf.keras.optimizers.Adam(learning_rate=(learning_rate/(learning_rate_decay**fine_tune_session))), metrics=[metric])\n",
    "\n",
    "# Check trainable weights in summary\n",
    "densenet.summary()"
   ]
  },
  {
   "cell_type": "code",
   "execution_count": null,
   "metadata": {},
   "outputs": [],
   "source": [
    "\n",
    "densenet_history_ft_2_2 = densenet.fit(train_ds_10, epochs=densenet_ft_epochs, validation_data=val_ds_10, \n",
    "                                         initial_epoch=densenet_history_ft_2_1.epoch[-1],\n",
    "                                         callbacks=[checkpoint_callback, early_stop_callback])\n",
    "filename = \"densenet_fine_tuning_2_2.keras\"\n",
    "filepath = os.path.join(model_directory, filename)\n",
    "densenet.save(filepath)"
   ]
  },
  {
   "cell_type": "markdown",
   "metadata": {},
   "source": [
    "#### Fine Tuning Session 3"
   ]
  },
  {
   "cell_type": "code",
   "execution_count": null,
   "metadata": {},
   "outputs": [],
   "source": [
    "fine_tune_session = 3\n",
    "densenet_ft_epochs = initial_epochs + (fine_tune_epochs * fine_tune_session)\n",
    "\n",
    "# Determine the number of layers to thaw.\n",
    "thaw_n_layers = thaw_n_layers * fine_tune_session\n",
    "\n",
    "# Freeze all but the top thaw_n_layers\n",
    "densenet = thaw(n=thaw_n_layers, model=densenet, base_model_layer=densenet_base_layer)\n",
    "\n",
    "# Recompile the model\n",
    "densenet.compile(loss=loss, optimizer=tf.keras.optimizers.Adam(learning_rate=(learning_rate/(learning_rate_decay**fine_tune_session))), metrics=[metric])\n",
    "\n",
    "# Check trainable weights in summary\n",
    "densenet.summary()"
   ]
  },
  {
   "cell_type": "code",
   "execution_count": null,
   "metadata": {},
   "outputs": [],
   "source": [
    "\n",
    "densenet_history_ft_2_3 = densenet.fit(train_ds_10, epochs=densenet_ft_epochs, validation_data=val_ds_10, \n",
    "                                         initial_epoch=densenet_history_ft_2_2.epoch[-1],\n",
    "                                         callbacks=[checkpoint_callback, early_stop_callback])\n",
    "filename = \"densenet_fine_tuning_2_3.keras\"\n",
    "filepath = os.path.join(model_directory, filename)\n",
    "densenet.save(filepath)"
   ]
  },
  {
   "cell_type": "code",
   "execution_count": null,
   "metadata": {},
   "outputs": [],
   "source": [
    "densenet_history_ft_2_3.history"
   ]
  }
 ],
 "metadata": {
  "kernelspec": {
   "display_name": "bcd",
   "language": "python",
   "name": "python3"
  },
  "language_info": {
   "codemirror_mode": {
    "name": "ipython",
    "version": 3
   },
   "file_extension": ".py",
   "mimetype": "text/x-python",
   "name": "python",
   "nbconvert_exporter": "python",
   "pygments_lexer": "ipython3",
   "version": "3.10.12"
  }
 },
 "nbformat": 4,
 "nbformat_minor": 2
}
