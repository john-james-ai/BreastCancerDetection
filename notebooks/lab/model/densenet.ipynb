{
 "cells": [
  {
   "cell_type": "markdown",
   "metadata": {},
   "source": [
    "# DenseNet Architecture\n",
    "Todo: Discussion"
   ]
  },
  {
   "cell_type": "code",
   "execution_count": 1,
   "metadata": {},
   "outputs": [],
   "source": [
    "import os\n",
    "import pathlib\n",
    "from glob import glob\n",
    "\n",
    "import tensorflow as tf\n",
    "from bcd.model.repo import ModelRepo\n",
    "from bcd.model.factory import DenseNetFactory\n",
    "from bcd.model.visual import X4LearningVisualizer\n",
    "from bcd.model.transfer import thaw\n",
    "from bcd.model.callback import CheckpointCallbackFactory"
   ]
  },
  {
   "cell_type": "code",
   "execution_count": 2,
   "metadata": {},
   "outputs": [],
   "source": [
    "batch_size = 32\n",
    "input_shape = (224,224,3)\n",
    "output_shape = 1\n",
    "\n",
    "# Training Params\n",
    "initial_epochs = 100  # Number of epochs to train for feature extraction\n",
    "fine_tune_epochs = 50  # Number of epochs for each fine tune session\n",
    "initial_learning_rate = 0.0001  # Base learning rate for the Adam optimizer \n",
    "loss = \"binary_crossentropy\"\n",
    "activation = \"sigmoid\"\n",
    "\n",
    "# Early stop callback parameters\n",
    "monitor = \"val_loss\"  # Monitor validation loss for early stopping\n",
    "patience = 3  # The number of consecutive epochs for which lack of improvement is tolerated \n",
    "restore_best_weights = True  # Returns the best weights rather than the weights at the last epoch.\n",
    "\n",
    "# ModelCheckpoint Callback parameters\n",
    "location = \"models/\"\n",
    "mode = \"auto\"\n",
    "save_weights_only = False\n",
    "save_best_only = True\n",
    "save_freq = \"epoch\"\n",
    "verbose = 1\n",
    "\n",
    "# DenseNet \n",
    "metric = \"accuracy\"\n",
    "\n",
    "# Data Params\n",
    "train_dir_10 = pathlib.Path(\"data/image/1_final/training_10/training/\").with_suffix('')\n",
    "test_dir = pathlib.Path(\"data/image/1_final/test/test/\").with_suffix('')"
   ]
  },
  {
   "cell_type": "markdown",
   "metadata": {},
   "source": [
    "## Preliminaries - Callbacks\n",
    "Create a callback checkpoint factory which will be used to generate a callback for models at various stages. We'll also create an early stopping callback which monitors validation loss and stops training when it hasn't improved in patience = 3 epochs."
   ]
  },
  {
   "cell_type": "code",
   "execution_count": 3,
   "metadata": {},
   "outputs": [],
   "source": [
    "# Create a ModelCheckpoint callback that saves the model's weights only\n",
    "checkpoint_callback_factory = CheckpointCallbackFactory(location=location,                                     \n",
    "                                    mode=mode, \n",
    "                                    monitor=monitor,\n",
    "                                    save_weights_only=save_weights_only, \n",
    "                                    save_best_only=save_best_only, \n",
    "                                    save_freq=save_freq,\n",
    "                                    verbose=verbose)"
   ]
  },
  {
   "cell_type": "code",
   "execution_count": 4,
   "metadata": {},
   "outputs": [],
   "source": [
    "# Create an early stopping callback that will stop training if validation loss doesn't improve in n epochs\n",
    "early_stop_callback = tf.keras.callbacks.EarlyStopping(monitor=monitor, patience=patience, restore_best_weights=restore_best_weights)"
   ]
  },
  {
   "cell_type": "markdown",
   "metadata": {},
   "source": [
    "## Load Data"
   ]
  },
  {
   "cell_type": "code",
   "execution_count": 5,
   "metadata": {},
   "outputs": [
    {
     "name": "stdout",
     "output_type": "stream",
     "text": [
      "Found 276 files belonging to 2 classes.\n",
      "Using 221 files for training.\n",
      "Found 276 files belonging to 2 classes.\n",
      "Using 55 files for validation.\n",
      "Found 649 files belonging to 2 classes.\n"
     ]
    }
   ],
   "source": [
    "# Training DataSet (10%)\n",
    "train_ds_10 = tf.keras.utils.image_dataset_from_directory(\n",
    "    train_dir_10,\n",
    "    labels=\"inferred\",\n",
    "    color_mode=\"rgb\",\n",
    "    image_size=(224,224),\n",
    "    shuffle=True,\n",
    "    validation_split=0.2,\n",
    "    subset='training',\n",
    "    interpolation=\"bilinear\",\n",
    "    seed=123,\n",
    "    batch_size=batch_size)\n",
    "\n",
    "# Validation DataSet (10%)\n",
    "val_ds_10 = tf.keras.utils.image_dataset_from_directory(\n",
    "    train_dir_10,\n",
    "    labels=\"inferred\",\n",
    "    color_mode=\"rgb\",\n",
    "    image_size=(224,224),\n",
    "    shuffle=True,\n",
    "    validation_split=0.2,\n",
    "    subset='validation',\n",
    "    interpolation=\"bilinear\",\n",
    "    seed=123,\n",
    "    batch_size=batch_size)\n",
    "\n",
    "# Test Set\n",
    "test_ds = tf.keras.utils.image_dataset_from_directory(\n",
    "    test_dir,\n",
    "    labels=\"inferred\",\n",
    "    color_mode=\"rgb\",\n",
    "    image_size=(224,224),\n",
    "    shuffle=True)"
   ]
  },
  {
   "cell_type": "markdown",
   "metadata": {},
   "source": [
    "## DenseNet Transfer Learning Model"
   ]
  },
  {
   "cell_type": "code",
   "execution_count": 6,
   "metadata": {},
   "outputs": [
    {
     "name": "stdout",
     "output_type": "stream",
     "text": [
      "Model: \"model\"\n",
      "_________________________________________________________________\n",
      " Layer (type)                Output Shape              Param #   \n",
      "=================================================================\n",
      " input_layer (InputLayer)    [(None, 224, 224, 3)]     0         \n",
      "                                                                 \n",
      " tf.math.truediv (TFOpLambda  (None, 224, 224, 3)      0         \n",
      " )                                                               \n",
      "                                                                 \n",
      " tf.nn.bias_add (TFOpLambda)  (None, 224, 224, 3)      0         \n",
      "                                                                 \n",
      " tf.math.truediv_1 (TFOpLamb  (None, 224, 224, 3)      0         \n",
      " da)                                                             \n",
      "                                                                 \n",
      " data_augmentation (Sequenti  (None, None, None, 3)    0         \n",
      " al)                                                             \n",
      "                                                                 \n",
      " densenet201 (Functional)    (None, None, None, 1920)  18321984  \n",
      "                                                                 \n",
      " global_average_pooling_laye  (None, 1920)             0         \n",
      " r (GlobalAveragePooling2D)                                      \n",
      "                                                                 \n",
      " output_layer (Dense)        (None, 1)                 1921      \n",
      "                                                                 \n",
      "=================================================================\n",
      "Total params: 18,323,905\n",
      "Trainable params: 1,921\n",
      "Non-trainable params: 18,321,984\n",
      "_________________________________________________________________\n"
     ]
    }
   ],
   "source": [
    "def get_model():\n",
    "    # Instantiate a Densenet model factory and create the Densenet transfer learning model\n",
    "    factory = DenseNetFactory()\n",
    "    densenet = factory.create(input_shape=input_shape, \n",
    "                            output_shape=output_shape, \n",
    "                            learning_rate=initial_learning_rate, \n",
    "                            trainable=False, \n",
    "                            loss=loss, \n",
    "                            activation=activation, \n",
    "                            metric=metric)\n",
    "    return DenseNetFactory\n",
    "    # Let's summarize the model and confirm that trainable parameters are limited to our classification model.\n",
    "densenet.summary()"
   ]
  },
  {
   "cell_type": "markdown",
   "metadata": {},
   "source": [
    "As expected, only the 1921 parameters in the output layer are trainable. The DenseNet model occupies the 5th layer in our overall model. This will be relevant at the fine-tuning stage as we target layers in the DenseNet model to thaw.\n",
    "\n",
    "Let's create a checkpoint callback and fit the model with early stopping."
   ]
  },
  {
   "cell_type": "code",
   "execution_count": 7,
   "metadata": {},
   "outputs": [
    {
     "name": "stdout",
     "output_type": "stream",
     "text": [
      "Epoch 1/100\n",
      "7/7 [==============================] - ETA: 0s - loss: 0.7293 - accuracy: 0.5701\n",
      "Epoch 1: val_loss improved from inf to 0.65752, saving model to models/densenet/densenet_feature_extraction_01-val_loss_0.66.keras\n",
      "7/7 [==============================] - 68s 7s/step - loss: 0.7293 - accuracy: 0.5701 - val_loss: 0.6575 - val_accuracy: 0.6909\n",
      "Epoch 2/100\n",
      "7/7 [==============================] - ETA: 0s - loss: 0.7043 - accuracy: 0.5611\n",
      "Epoch 2: val_loss improved from 0.65752 to 0.65116, saving model to models/densenet/densenet_feature_extraction_02-val_loss_0.65.keras\n",
      "7/7 [==============================] - 51s 7s/step - loss: 0.7043 - accuracy: 0.5611 - val_loss: 0.6512 - val_accuracy: 0.6909\n",
      "Epoch 3/100\n",
      "7/7 [==============================] - ETA: 0s - loss: 0.7008 - accuracy: 0.5385\n",
      "Epoch 3: val_loss improved from 0.65116 to 0.64969, saving model to models/densenet/densenet_feature_extraction_03-val_loss_0.65.keras\n",
      "7/7 [==============================] - 49s 7s/step - loss: 0.7008 - accuracy: 0.5385 - val_loss: 0.6497 - val_accuracy: 0.6909\n",
      "Epoch 4/100\n",
      "7/7 [==============================] - ETA: 0s - loss: 0.7095 - accuracy: 0.5339\n",
      "Epoch 4: val_loss improved from 0.64969 to 0.64916, saving model to models/densenet/densenet_feature_extraction_04-val_loss_0.65.keras\n",
      "7/7 [==============================] - 48s 7s/step - loss: 0.7095 - accuracy: 0.5339 - val_loss: 0.6492 - val_accuracy: 0.6909\n",
      "Epoch 5/100\n",
      "7/7 [==============================] - ETA: 0s - loss: 0.6961 - accuracy: 0.5294\n",
      "Epoch 5: val_loss improved from 0.64916 to 0.64882, saving model to models/densenet/densenet_feature_extraction_05-val_loss_0.65.keras\n",
      "7/7 [==============================] - 53s 7s/step - loss: 0.6961 - accuracy: 0.5294 - val_loss: 0.6488 - val_accuracy: 0.6909\n",
      "Epoch 6/100\n",
      "7/7 [==============================] - ETA: 0s - loss: 0.7068 - accuracy: 0.5158\n",
      "Epoch 6: val_loss improved from 0.64882 to 0.64842, saving model to models/densenet/densenet_feature_extraction_06-val_loss_0.65.keras\n",
      "7/7 [==============================] - 52s 7s/step - loss: 0.7068 - accuracy: 0.5158 - val_loss: 0.6484 - val_accuracy: 0.6909\n",
      "Epoch 7/100\n",
      "7/7 [==============================] - ETA: 0s - loss: 0.6987 - accuracy: 0.5475\n",
      "Epoch 7: val_loss improved from 0.64842 to 0.64820, saving model to models/densenet/densenet_feature_extraction_07-val_loss_0.65.keras\n",
      "7/7 [==============================] - 50s 7s/step - loss: 0.6987 - accuracy: 0.5475 - val_loss: 0.6482 - val_accuracy: 0.6909\n",
      "Epoch 8/100\n",
      "7/7 [==============================] - ETA: 0s - loss: 0.6841 - accuracy: 0.5792\n",
      "Epoch 8: val_loss improved from 0.64820 to 0.64797, saving model to models/densenet/densenet_feature_extraction_08-val_loss_0.65.keras\n",
      "7/7 [==============================] - 54s 7s/step - loss: 0.6841 - accuracy: 0.5792 - val_loss: 0.6480 - val_accuracy: 0.6909\n",
      "Epoch 9/100\n",
      "7/7 [==============================] - ETA: 0s - loss: 0.7017 - accuracy: 0.5520\n",
      "Epoch 9: val_loss improved from 0.64797 to 0.64763, saving model to models/densenet/densenet_feature_extraction_09-val_loss_0.65.keras\n",
      "7/7 [==============================] - 50s 7s/step - loss: 0.7017 - accuracy: 0.5520 - val_loss: 0.6476 - val_accuracy: 0.6909\n",
      "Epoch 10/100\n",
      "7/7 [==============================] - ETA: 0s - loss: 0.7199 - accuracy: 0.5430\n",
      "Epoch 10: val_loss improved from 0.64763 to 0.64733, saving model to models/densenet/densenet_feature_extraction_10-val_loss_0.65.keras\n",
      "7/7 [==============================] - 50s 7s/step - loss: 0.7199 - accuracy: 0.5430 - val_loss: 0.6473 - val_accuracy: 0.6909\n",
      "Epoch 11/100\n",
      "7/7 [==============================] - ETA: 0s - loss: 0.7174 - accuracy: 0.5520\n",
      "Epoch 11: val_loss improved from 0.64733 to 0.64696, saving model to models/densenet/densenet_feature_extraction_11-val_loss_0.65.keras\n",
      "7/7 [==============================] - 47s 6s/step - loss: 0.7174 - accuracy: 0.5520 - val_loss: 0.6470 - val_accuracy: 0.6909\n",
      "Epoch 12/100\n",
      "7/7 [==============================] - ETA: 0s - loss: 0.6843 - accuracy: 0.6018\n",
      "Epoch 12: val_loss improved from 0.64696 to 0.64666, saving model to models/densenet/densenet_feature_extraction_12-val_loss_0.65.keras\n",
      "7/7 [==============================] - 48s 7s/step - loss: 0.6843 - accuracy: 0.6018 - val_loss: 0.6467 - val_accuracy: 0.6909\n",
      "Epoch 13/100\n",
      "7/7 [==============================] - ETA: 0s - loss: 0.6905 - accuracy: 0.5430\n",
      "Epoch 13: val_loss improved from 0.64666 to 0.64620, saving model to models/densenet/densenet_feature_extraction_13-val_loss_0.65.keras\n",
      "7/7 [==============================] - 55s 7s/step - loss: 0.6905 - accuracy: 0.5430 - val_loss: 0.6462 - val_accuracy: 0.6909\n",
      "Epoch 14/100\n",
      "7/7 [==============================] - ETA: 0s - loss: 0.6995 - accuracy: 0.5973\n",
      "Epoch 14: val_loss improved from 0.64620 to 0.64599, saving model to models/densenet/densenet_feature_extraction_14-val_loss_0.65.keras\n",
      "7/7 [==============================] - 58s 8s/step - loss: 0.6995 - accuracy: 0.5973 - val_loss: 0.6460 - val_accuracy: 0.6909\n",
      "Epoch 15/100\n",
      "7/7 [==============================] - ETA: 0s - loss: 0.7018 - accuracy: 0.5656\n",
      "Epoch 15: val_loss improved from 0.64599 to 0.64579, saving model to models/densenet/densenet_feature_extraction_15-val_loss_0.65.keras\n",
      "7/7 [==============================] - 53s 7s/step - loss: 0.7018 - accuracy: 0.5656 - val_loss: 0.6458 - val_accuracy: 0.6909\n",
      "Epoch 16/100\n",
      "7/7 [==============================] - ETA: 0s - loss: 0.6510 - accuracy: 0.5928\n",
      "Epoch 16: val_loss improved from 0.64579 to 0.64575, saving model to models/densenet/densenet_feature_extraction_16-val_loss_0.65.keras\n",
      "7/7 [==============================] - 50s 7s/step - loss: 0.6510 - accuracy: 0.5928 - val_loss: 0.6457 - val_accuracy: 0.6909\n",
      "Epoch 17/100\n",
      "7/7 [==============================] - ETA: 0s - loss: 0.6941 - accuracy: 0.5701\n",
      "Epoch 17: val_loss improved from 0.64575 to 0.64554, saving model to models/densenet/densenet_feature_extraction_17-val_loss_0.65.keras\n",
      "7/7 [==============================] - 50s 7s/step - loss: 0.6941 - accuracy: 0.5701 - val_loss: 0.6455 - val_accuracy: 0.6909\n",
      "Epoch 18/100\n",
      "7/7 [==============================] - ETA: 0s - loss: 0.7042 - accuracy: 0.5475\n",
      "Epoch 18: val_loss improved from 0.64554 to 0.64535, saving model to models/densenet/densenet_feature_extraction_18-val_loss_0.65.keras\n",
      "7/7 [==============================] - 51s 7s/step - loss: 0.7042 - accuracy: 0.5475 - val_loss: 0.6453 - val_accuracy: 0.6909\n",
      "Epoch 19/100\n",
      "7/7 [==============================] - ETA: 0s - loss: 0.7052 - accuracy: 0.5294\n",
      "Epoch 19: val_loss improved from 0.64535 to 0.64504, saving model to models/densenet/densenet_feature_extraction_19-val_loss_0.65.keras\n",
      "7/7 [==============================] - 55s 8s/step - loss: 0.7052 - accuracy: 0.5294 - val_loss: 0.6450 - val_accuracy: 0.6909\n",
      "Epoch 20/100\n",
      "7/7 [==============================] - ETA: 0s - loss: 0.6956 - accuracy: 0.5566\n",
      "Epoch 20: val_loss improved from 0.64504 to 0.64500, saving model to models/densenet/densenet_feature_extraction_20-val_loss_0.64.keras\n",
      "7/7 [==============================] - 53s 7s/step - loss: 0.6956 - accuracy: 0.5566 - val_loss: 0.6450 - val_accuracy: 0.6909\n",
      "Epoch 21/100\n",
      "7/7 [==============================] - ETA: 0s - loss: 0.6828 - accuracy: 0.5837\n",
      "Epoch 21: val_loss improved from 0.64500 to 0.64459, saving model to models/densenet/densenet_feature_extraction_21-val_loss_0.64.keras\n",
      "7/7 [==============================] - 60s 8s/step - loss: 0.6828 - accuracy: 0.5837 - val_loss: 0.6446 - val_accuracy: 0.6909\n",
      "Epoch 22/100\n",
      "7/7 [==============================] - ETA: 0s - loss: 0.7074 - accuracy: 0.5566\n",
      "Epoch 22: val_loss improved from 0.64459 to 0.64423, saving model to models/densenet/densenet_feature_extraction_22-val_loss_0.64.keras\n",
      "7/7 [==============================] - 56s 8s/step - loss: 0.7074 - accuracy: 0.5566 - val_loss: 0.6442 - val_accuracy: 0.6909\n",
      "Epoch 23/100\n",
      "7/7 [==============================] - ETA: 0s - loss: 0.6950 - accuracy: 0.5701\n",
      "Epoch 23: val_loss improved from 0.64423 to 0.64389, saving model to models/densenet/densenet_feature_extraction_23-val_loss_0.64.keras\n",
      "7/7 [==============================] - 60s 8s/step - loss: 0.6950 - accuracy: 0.5701 - val_loss: 0.6439 - val_accuracy: 0.6909\n",
      "Epoch 24/100\n",
      "7/7 [==============================] - ETA: 0s - loss: 0.6813 - accuracy: 0.5973\n",
      "Epoch 24: val_loss improved from 0.64389 to 0.64348, saving model to models/densenet/densenet_feature_extraction_24-val_loss_0.64.keras\n",
      "7/7 [==============================] - 59s 8s/step - loss: 0.6813 - accuracy: 0.5973 - val_loss: 0.6435 - val_accuracy: 0.6909\n",
      "Epoch 25/100\n",
      "7/7 [==============================] - ETA: 0s - loss: 0.6601 - accuracy: 0.5973\n",
      "Epoch 25: val_loss improved from 0.64348 to 0.64303, saving model to models/densenet/densenet_feature_extraction_25-val_loss_0.64.keras\n",
      "7/7 [==============================] - 56s 8s/step - loss: 0.6601 - accuracy: 0.5973 - val_loss: 0.6430 - val_accuracy: 0.6909\n",
      "Epoch 26/100\n",
      "7/7 [==============================] - ETA: 0s - loss: 0.6784 - accuracy: 0.5882\n",
      "Epoch 26: val_loss improved from 0.64303 to 0.64256, saving model to models/densenet/densenet_feature_extraction_26-val_loss_0.64.keras\n",
      "7/7 [==============================] - 56s 8s/step - loss: 0.6784 - accuracy: 0.5882 - val_loss: 0.6426 - val_accuracy: 0.6909\n",
      "Epoch 27/100\n",
      "7/7 [==============================] - ETA: 0s - loss: 0.6852 - accuracy: 0.5611\n",
      "Epoch 27: val_loss improved from 0.64256 to 0.64228, saving model to models/densenet/densenet_feature_extraction_27-val_loss_0.64.keras\n",
      "7/7 [==============================] - 55s 7s/step - loss: 0.6852 - accuracy: 0.5611 - val_loss: 0.6423 - val_accuracy: 0.6909\n",
      "Epoch 28/100\n",
      "7/7 [==============================] - ETA: 0s - loss: 0.6658 - accuracy: 0.6109\n",
      "Epoch 28: val_loss improved from 0.64228 to 0.64198, saving model to models/densenet/densenet_feature_extraction_28-val_loss_0.64.keras\n",
      "7/7 [==============================] - 61s 9s/step - loss: 0.6658 - accuracy: 0.6109 - val_loss: 0.6420 - val_accuracy: 0.6909\n",
      "Epoch 29/100\n",
      "7/7 [==============================] - ETA: 0s - loss: 0.6595 - accuracy: 0.5973\n",
      "Epoch 29: val_loss improved from 0.64198 to 0.64170, saving model to models/densenet/densenet_feature_extraction_29-val_loss_0.64.keras\n",
      "7/7 [==============================] - 66s 9s/step - loss: 0.6595 - accuracy: 0.5973 - val_loss: 0.6417 - val_accuracy: 0.6909\n",
      "Epoch 30/100\n",
      "7/7 [==============================] - ETA: 0s - loss: 0.6752 - accuracy: 0.5792\n",
      "Epoch 30: val_loss improved from 0.64170 to 0.64157, saving model to models/densenet/densenet_feature_extraction_30-val_loss_0.64.keras\n",
      "7/7 [==============================] - 52s 7s/step - loss: 0.6752 - accuracy: 0.5792 - val_loss: 0.6416 - val_accuracy: 0.6909\n",
      "Epoch 31/100\n",
      "7/7 [==============================] - ETA: 0s - loss: 0.6904 - accuracy: 0.5792\n",
      "Epoch 31: val_loss improved from 0.64157 to 0.64136, saving model to models/densenet/densenet_feature_extraction_31-val_loss_0.64.keras\n",
      "7/7 [==============================] - 56s 7s/step - loss: 0.6904 - accuracy: 0.5792 - val_loss: 0.6414 - val_accuracy: 0.6909\n",
      "Epoch 32/100\n",
      "7/7 [==============================] - ETA: 0s - loss: 0.7174 - accuracy: 0.5520\n",
      "Epoch 32: val_loss did not improve from 0.64136\n",
      "7/7 [==============================] - 50s 6s/step - loss: 0.7174 - accuracy: 0.5520 - val_loss: 0.6415 - val_accuracy: 0.6909\n",
      "Epoch 33/100\n",
      "7/7 [==============================] - ETA: 0s - loss: 0.6602 - accuracy: 0.6154\n",
      "Epoch 33: val_loss improved from 0.64136 to 0.64131, saving model to models/densenet/densenet_feature_extraction_33-val_loss_0.64.keras\n",
      "7/7 [==============================] - 56s 8s/step - loss: 0.6602 - accuracy: 0.6154 - val_loss: 0.6413 - val_accuracy: 0.6909\n",
      "Epoch 34/100\n",
      "7/7 [==============================] - ETA: 0s - loss: 0.6814 - accuracy: 0.5792\n",
      "Epoch 34: val_loss improved from 0.64131 to 0.64116, saving model to models/densenet/densenet_feature_extraction_34-val_loss_0.64.keras\n",
      "7/7 [==============================] - 51s 7s/step - loss: 0.6814 - accuracy: 0.5792 - val_loss: 0.6412 - val_accuracy: 0.6909\n",
      "Epoch 35/100\n",
      "7/7 [==============================] - ETA: 0s - loss: 0.6984 - accuracy: 0.5747\n",
      "Epoch 35: val_loss improved from 0.64116 to 0.64105, saving model to models/densenet/densenet_feature_extraction_35-val_loss_0.64.keras\n",
      "7/7 [==============================] - 56s 8s/step - loss: 0.6984 - accuracy: 0.5747 - val_loss: 0.6411 - val_accuracy: 0.6909\n",
      "Epoch 36/100\n",
      "7/7 [==============================] - ETA: 0s - loss: 0.6672 - accuracy: 0.6290\n",
      "Epoch 36: val_loss improved from 0.64105 to 0.64026, saving model to models/densenet/densenet_feature_extraction_36-val_loss_0.64.keras\n",
      "7/7 [==============================] - 55s 8s/step - loss: 0.6672 - accuracy: 0.6290 - val_loss: 0.6403 - val_accuracy: 0.6909\n",
      "Epoch 37/100\n",
      "7/7 [==============================] - ETA: 0s - loss: 0.6864 - accuracy: 0.5701\n",
      "Epoch 37: val_loss improved from 0.64026 to 0.64000, saving model to models/densenet/densenet_feature_extraction_37-val_loss_0.64.keras\n",
      "7/7 [==============================] - 59s 8s/step - loss: 0.6864 - accuracy: 0.5701 - val_loss: 0.6400 - val_accuracy: 0.6909\n",
      "Epoch 38/100\n",
      "7/7 [==============================] - ETA: 0s - loss: 0.6487 - accuracy: 0.6109\n",
      "Epoch 38: val_loss improved from 0.64000 to 0.63971, saving model to models/densenet/densenet_feature_extraction_38-val_loss_0.64.keras\n",
      "7/7 [==============================] - 54s 7s/step - loss: 0.6487 - accuracy: 0.6109 - val_loss: 0.6397 - val_accuracy: 0.6909\n",
      "Epoch 39/100\n",
      "7/7 [==============================] - ETA: 0s - loss: 0.7069 - accuracy: 0.5611\n",
      "Epoch 39: val_loss improved from 0.63971 to 0.63949, saving model to models/densenet/densenet_feature_extraction_39-val_loss_0.64.keras\n",
      "7/7 [==============================] - 53s 7s/step - loss: 0.7069 - accuracy: 0.5611 - val_loss: 0.6395 - val_accuracy: 0.6909\n",
      "Epoch 40/100\n",
      "7/7 [==============================] - ETA: 0s - loss: 0.6807 - accuracy: 0.5747\n",
      "Epoch 40: val_loss improved from 0.63949 to 0.63934, saving model to models/densenet/densenet_feature_extraction_40-val_loss_0.64.keras\n",
      "7/7 [==============================] - 53s 7s/step - loss: 0.6807 - accuracy: 0.5747 - val_loss: 0.6393 - val_accuracy: 0.6909\n",
      "Epoch 41/100\n",
      "7/7 [==============================] - ETA: 0s - loss: 0.6611 - accuracy: 0.6109\n",
      "Epoch 41: val_loss improved from 0.63934 to 0.63883, saving model to models/densenet/densenet_feature_extraction_41-val_loss_0.64.keras\n",
      "7/7 [==============================] - 50s 7s/step - loss: 0.6611 - accuracy: 0.6109 - val_loss: 0.6388 - val_accuracy: 0.6909\n",
      "Epoch 42/100\n",
      "7/7 [==============================] - ETA: 0s - loss: 0.6615 - accuracy: 0.5882\n",
      "Epoch 42: val_loss did not improve from 0.63883\n",
      "7/7 [==============================] - 50s 7s/step - loss: 0.6615 - accuracy: 0.5882 - val_loss: 0.6388 - val_accuracy: 0.6909\n",
      "Epoch 43/100\n",
      "7/7 [==============================] - ETA: 0s - loss: 0.6703 - accuracy: 0.6109\n",
      "Epoch 43: val_loss improved from 0.63883 to 0.63841, saving model to models/densenet/densenet_feature_extraction_43-val_loss_0.64.keras\n",
      "7/7 [==============================] - 54s 7s/step - loss: 0.6703 - accuracy: 0.6109 - val_loss: 0.6384 - val_accuracy: 0.6909\n",
      "Epoch 44/100\n",
      "7/7 [==============================] - ETA: 0s - loss: 0.6803 - accuracy: 0.5973\n",
      "Epoch 44: val_loss improved from 0.63841 to 0.63816, saving model to models/densenet/densenet_feature_extraction_44-val_loss_0.64.keras\n",
      "7/7 [==============================] - 47s 6s/step - loss: 0.6803 - accuracy: 0.5973 - val_loss: 0.6382 - val_accuracy: 0.6909\n",
      "Epoch 45/100\n",
      "7/7 [==============================] - ETA: 0s - loss: 0.6721 - accuracy: 0.5973\n",
      "Epoch 45: val_loss improved from 0.63816 to 0.63814, saving model to models/densenet/densenet_feature_extraction_45-val_loss_0.64.keras\n",
      "7/7 [==============================] - 54s 7s/step - loss: 0.6721 - accuracy: 0.5973 - val_loss: 0.6381 - val_accuracy: 0.6909\n",
      "Epoch 46/100\n",
      "7/7 [==============================] - ETA: 0s - loss: 0.6509 - accuracy: 0.6154\n",
      "Epoch 46: val_loss did not improve from 0.63814\n",
      "7/7 [==============================] - 50s 7s/step - loss: 0.6509 - accuracy: 0.6154 - val_loss: 0.6385 - val_accuracy: 0.6909\n",
      "Epoch 47/100\n",
      "7/7 [==============================] - ETA: 0s - loss: 0.6571 - accuracy: 0.5973\n",
      "Epoch 47: val_loss did not improve from 0.63814\n",
      "7/7 [==============================] - 52s 7s/step - loss: 0.6571 - accuracy: 0.5973 - val_loss: 0.6383 - val_accuracy: 0.6909\n",
      "Epoch 48/100\n",
      "7/7 [==============================] - ETA: 0s - loss: 0.6545 - accuracy: 0.6244\n",
      "Epoch 48: val_loss did not improve from 0.63814\n",
      "7/7 [==============================] - 53s 7s/step - loss: 0.6545 - accuracy: 0.6244 - val_loss: 0.6384 - val_accuracy: 0.6909\n"
     ]
    }
   ],
   "source": [
    "def feature_extraction(model: tf.keras.Model) -> tf.keras.callbacks.History:\n",
    "    # Obtain the callback from the factory.\n",
    "    checkpoint_callback = checkpoint_callback_factory(name=\"densenet\", stage=\"feature_extraction\")\n",
    "    # Fit the model with our callbacks.\n",
    "    history = model.fit(train_ds_10, epochs=initial_epochs, validation_data=val_ds_10, callbacks=[checkpoint_callback, early_stop_callback])\n",
    "    return history"
   ]
  },
  {
   "cell_type": "markdown",
   "metadata": {},
   "source": [
    "Our model checkpoints have been created for future reference.  Let's check the learning curves."
   ]
  },
  {
   "cell_type": "code",
   "execution_count": null,
   "metadata": {},
   "outputs": [],
   "source": [
    "def load_model(name: str) -> tf.keras.Model:\n",
    "    "
   ]
  },
  {
   "cell_type": "code",
   "execution_count": 8,
   "metadata": {},
   "outputs": [
    {
     "data": {
      "image/png": "[encoded data removed]",
      "text/plain": [
       "<Figure size 1200x400 with 2 Axes>"
      ]
     },
     "metadata": {},
     "output_type": "display_data"
    }
   ],
   "source": [
    "x4v = X4LearningVisualizer(name=\"densenet\")\n",
    "x4v(history=densenet_history)"
   ]
  },
  {
   "cell_type": "markdown",
   "metadata": {},
   "source": [
    "Excellent. We can now move on to the fine tuning stage."
   ]
  },
  {
   "cell_type": "markdown",
   "metadata": {},
   "source": [
    "## Fine Tuning \n",
    "Our objective is to adapt the DenseNet201 model, which was trained on the ImageNet dataset, to our target domain, biomedical imaging, specifically, digital mammography. An iterative-gradual fine-tuning approach is undertaken in which the model progressively adapts to the target domain by gradually unfreezing layers and training the model on the CBIS-DDSM data.\n",
    "\n",
    "A common approach is to unfreeze the top layer, train the model until convergence, then unfreeze the next top layer, and so on. However, the DenseNet model has over 700 layers making this approach impractical. Rather than unfreezing the layers one at a time, we will adopt a gradual unfreezing of layer groups. The number of layers in each group will range from 1 to 707 on a logarithmic scale. Concretely, the unfreezing schedule will be as follows:\n",
    "\n",
    "```{table} Gradual Fine-Tuning Schedule\n",
    "| Layer Group | Group Size | Learning Rate |\n",
    "|-------------|------------|---------------|\n",
    "| 1           | 1          | 1.00E-05      |\n",
    "| 2           | 5          | 1.00E-06      |\n",
    "| 3           | 27         | 1.00E-07      |\n",
    "| 4           | 137        | 1.00E-08      |\n",
    "| 5           | 707        | 1.00E-09      |\n",
    "```\n",
    "\n",
    "Each fine-tuning session will trained until convergence.\n"
   ]
  },
  {
   "cell_type": "code",
   "execution_count": 9,
   "metadata": {},
   "outputs": [],
   "source": [
    "gradual_fine_tuning_schedule = {1: {\"layers\": 1, \"learning_rate\": 1e-5},\n",
    "                                2: {\"layers\": 5, \"learning_rate\": 1e-6},\n",
    "                                3: {\"layers\": 27, \"learning_rate\": 1e-7},\n",
    "                                4: {\"layers\": 137, \"learning_rate\": 1e-8},\n",
    "                                5: {\"layers\": 707, \"learning_rate\": 1e-9},\n",
    "                                }"
   ]
  },
  {
   "cell_type": "markdown",
   "metadata": {},
   "source": [
    "#### Fine Tune Session 1"
   ]
  },
  {
   "cell_type": "code",
   "execution_count": 11,
   "metadata": {},
   "outputs": [
    {
     "name": "stdout",
     "output_type": "stream",
     "text": [
      "Model: \"model\"\n",
      "_________________________________________________________________\n",
      " Layer (type)                Output Shape              Param #   \n",
      "=================================================================\n",
      " input_layer (InputLayer)    [(None, 224, 224, 3)]     0         \n",
      "                                                                 \n",
      " tf.math.truediv (TFOpLambda  (None, 224, 224, 3)      0         \n",
      " )                                                               \n",
      "                                                                 \n",
      " tf.nn.bias_add (TFOpLambda)  (None, 224, 224, 3)      0         \n",
      "                                                                 \n",
      " tf.math.truediv_1 (TFOpLamb  (None, 224, 224, 3)      0         \n",
      " da)                                                             \n",
      "                                                                 \n",
      " data_augmentation (Sequenti  (None, None, None, 3)    0         \n",
      " al)                                                             \n",
      "                                                                 \n",
      " densenet201 (Functional)    (None, None, None, 1920)  18321984  \n",
      "                                                                 \n",
      " global_average_pooling_laye  (None, 1920)             0         \n",
      " r (GlobalAveragePooling2D)                                      \n",
      "                                                                 \n",
      " output_layer (Dense)        (None, 1)                 1921      \n",
      "                                                                 \n",
      "=================================================================\n"
     ]
    },
    {
     "name": "stdout",
     "output_type": "stream",
     "text": [
      "Total params: 18,323,905\n",
      "Trainable params: 18,094,849\n",
      "Non-trainable params: 229,056\n",
      "_________________________________________________________________\n",
      "Epoch 48/97\n",
      "1/7 [===>..........................] - ETA: 5:24 - loss: 0.6733 - accuracy: 0.5312"
     ]
    }
   ],
   "source": [
    "fine_tune_session = 1\n",
    "epochs = densenet_history.epoch[-1] + fine_tune_epochs # We pick up where we left off\n",
    "densenet_base_layer = 5 # Layer of the DenseNet base model\n",
    "\n",
    "# Order up a checkpoint callback\n",
    "name=\"densenet\"\n",
    "stage=\"fine_tuning_session_1\"\n",
    "checkpoint_callback = checkpoint_callback_factory(name=name, stage=stage)\n",
    "\n",
    "# Thaw the top n layers\n",
    "densenet = thaw(model=densenet, base_model_layer=densenet_base_layer, session=fine_tune_session, thaw_rate =gradual_fine_tuning_schedule[fine_tune_session][\"layers\"])\n",
    "\n",
    "# Decay the learning rate\n",
    "learning_rate = gradual_fine_tuning_schedule[fine_tune_session][\"learning_rate\"]\n",
    "\n",
    "# Recompile the model\n",
    "densenet.compile(loss=loss, optimizer=tf.keras.optimizers.Adam(learning_rate=learning_rate), metrics=[metric])\n",
    "\n",
    "# Check trainable weights in summary\n",
    "densenet.summary()\n",
    "\n",
    "# Fit the model\n",
    "densenet_history = densenet.fit(train_ds_10, epochs=epochs, validation_data=val_ds_10, \n",
    "                                         initial_epoch=densenet_history.epoch[-1],\n",
    "                                         callbacks=[checkpoint_callback, early_stop_callback])\n",
    "\n",
    "# Visualize the learning\n",
    "x4v(history=densenet_history)"
   ]
  },
  {
   "cell_type": "markdown",
   "metadata": {},
   "source": [
    "#### Fine Tune Session 2"
   ]
  },
  {
   "cell_type": "code",
   "execution_count": null,
   "metadata": {},
   "outputs": [],
   "source": [
    "fine_tune_session = 2\n",
    "epochs = densenet_history.epoch[-1] + fine_tune_epochs \n",
    "\n",
    "# Order up a checkpoint callback\n",
    "name=\"densenet\"\n",
    "stage=\"fine_tuning_session_2\"\n",
    "checkpoint_callback = checkpoint_callback_factory(name=name, stage=stage)\n",
    "\n",
    "# Thaw the top n layers\n",
    "densenet = thaw(model=densenet, base_model_layer=densenet_base_layer, session=fine_tune_session, thaw_rate =gradual_fine_tuning_schedule[fine_tune_session][\"layers\"])\n",
    "\n",
    "# Decay the learning rate\n",
    "learning_rate = gradual_fine_tuning_schedule[fine_tune_session][\"learning_rate\"]\n",
    "\n",
    "# Recompile the model\n",
    "densenet.compile(loss=loss, optimizer=tf.keras.optimizers.Adam(learning_rate=learning_rate), metrics=[metric])\n",
    "\n",
    "# Check trainable weights in summary\n",
    "densenet.summary()\n",
    "\n",
    "# Fit the model\n",
    "densenet_history = densenet.fit(train_ds_10, epochs=epochs, validation_data=val_ds_10, \n",
    "                                         initial_epoch=densenet_history.epoch[-1],\n",
    "                                         callbacks=[checkpoint_callback, early_stop_callback])\n",
    "\n",
    "# Visualize the learning\n",
    "x4v(history=densenet_history)"
   ]
  },
  {
   "cell_type": "markdown",
   "metadata": {},
   "source": [
    "#### Fine Tune Session 3"
   ]
  },
  {
   "cell_type": "code",
   "execution_count": null,
   "metadata": {},
   "outputs": [],
   "source": [
    "fine_tune_session = 3\n",
    "epochs = densenet_history.epoch[-1] + fine_tune_epochs \n",
    "\n",
    "# Order up a checkpoint callback\n",
    "name=\"densenet\"\n",
    "stage=\"fine_tuning_session_3\"\n",
    "checkpoint_callback = checkpoint_callback_factory(name=name, stage=stage)\n",
    "\n",
    "# Thaw the top n layers\n",
    "densenet = thaw(model=densenet, base_model_layer=densenet_base_layer, session=fine_tune_session, thaw_rate =gradual_fine_tuning_schedule[fine_tune_session][\"layers\"])\n",
    "\n",
    "# Decay the learning rate\n",
    "learning_rate = gradual_fine_tuning_schedule[fine_tune_session][\"learning_rate\"]\n",
    "\n",
    "# Recompile the model\n",
    "densenet.compile(loss=loss, optimizer=tf.keras.optimizers.Adam(learning_rate=learning_rate), metrics=[metric])\n",
    "\n",
    "# Check trainable weights in summary\n",
    "densenet.summary()\n",
    "\n",
    "# Fit the model\n",
    "densenet_history = densenet.fit(train_ds_10, epochs=epochs, validation_data=val_ds_10, \n",
    "                                         initial_epoch=densenet_history.epoch[-1],\n",
    "                                         callbacks=[checkpoint_callback, early_stop_callback])\n",
    "\n",
    "# Visualize the learning\n",
    "x4v(history=densenet_history)"
   ]
  },
  {
   "cell_type": "markdown",
   "metadata": {},
   "source": [
    "#### Fine Tune Session 4"
   ]
  },
  {
   "cell_type": "code",
   "execution_count": null,
   "metadata": {},
   "outputs": [],
   "source": [
    "fine_tune_session = 4\n",
    "epochs = densenet_history.epoch[-1] + fine_tune_epochs \n",
    "\n",
    "# Order up a checkpoint callback\n",
    "name=\"densenet\"\n",
    "stage=\"fine_tuning_session_4\"\n",
    "checkpoint_callback = checkpoint_callback_factory(name=name, stage=stage)\n",
    "\n",
    "# Thaw the top n layers\n",
    "densenet = thaw(model=densenet, base_model_layer=densenet_base_layer, session=fine_tune_session, thaw_rate =gradual_fine_tuning_schedule[fine_tune_session][\"layers\"])\n",
    "\n",
    "# Decay the learning rate\n",
    "learning_rate = gradual_fine_tuning_schedule[fine_tune_session][\"learning_rate\"]\n",
    "\n",
    "# Recompile the model\n",
    "densenet.compile(loss=loss, optimizer=tf.keras.optimizers.Adam(learning_rate=learning_rate), metrics=[metric])\n",
    "\n",
    "# Check trainable weights in summary\n",
    "densenet.summary()\n",
    "\n",
    "# Fit the model\n",
    "densenet_history = densenet.fit(train_ds_10, epochs=epochs, validation_data=val_ds_10, \n",
    "                                         initial_epoch=densenet_history.epoch[-1],\n",
    "                                         callbacks=[checkpoint_callback, early_stop_callback])\n",
    "\n",
    "# Visualize the learning\n",
    "x4v(history=densenet_history)"
   ]
  },
  {
   "cell_type": "markdown",
   "metadata": {},
   "source": [
    "#### Fine Tune Session 5"
   ]
  },
  {
   "cell_type": "code",
   "execution_count": null,
   "metadata": {},
   "outputs": [],
   "source": [
    "fine_tune_session = 5\n",
    "epochs = densenet_history.epoch[-1] + fine_tune_epochs \n",
    "\n",
    "# Order up a checkpoint callback\n",
    "name=\"densenet\"\n",
    "stage=\"fine_tuning_session_5\"\n",
    "checkpoint_callback = checkpoint_callback_factory(name=name, stage=stage)\n",
    "\n",
    "# Thaw the top n layers\n",
    "densenet = thaw(model=densenet, base_model_layer=densenet_base_layer, session=fine_tune_session, thaw_rate =gradual_fine_tuning_schedule[fine_tune_session][\"layers\"])\n",
    "\n",
    "# Decay the learning rate\n",
    "learning_rate = gradual_fine_tuning_schedule[fine_tune_session][\"learning_rate\"]\n",
    "\n",
    "# Recompile the model\n",
    "densenet.compile(loss=loss, optimizer=tf.keras.optimizers.Adam(learning_rate=learning_rate), metrics=[metric])\n",
    "\n",
    "# Check trainable weights in summary\n",
    "densenet.summary()\n",
    "\n",
    "# Fit the model\n",
    "densenet_history = densenet.fit(train_ds_10, epochs=epochs, validation_data=val_ds_10, \n",
    "                                         initial_epoch=densenet_history.epoch[-1],\n",
    "                                         callbacks=[checkpoint_callback, early_stop_callback])\n",
    "\n",
    "# Visualize the learning\n",
    "x4v(history=densenet_history)"
   ]
  }
 ],
 "metadata": {
  "kernelspec": {
   "display_name": "bcd",
   "language": "python",
   "name": "python3"
  },
  "language_info": {
   "codemirror_mode": {
    "name": "ipython",
    "version": 3
   },
   "file_extension": ".py",
   "mimetype": "text/x-python",
   "name": "python",
   "nbconvert_exporter": "python",
   "pygments_lexer": "ipython3",
   "version": "3.10.12"
  }
 },
 "nbformat": 4,
 "nbformat_minor": 2
}
