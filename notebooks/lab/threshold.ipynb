{
 "cells": [
  {
   "cell_type": "markdown",
   "metadata": {},
   "source": [
    "# Automated Threshold Lab"
   ]
  },
  {
   "cell_type": "code",
   "execution_count": 4,
   "metadata": {},
   "outputs": [],
   "source": [
    "import numpy as np\n",
    "from skimage.filters import threshold_minimum\n",
    "from scipy import ndimage\n",
    "from bcd.container import BCDContainer"
   ]
  },
  {
   "cell_type": "code",
   "execution_count": 5,
   "metadata": {},
   "outputs": [],
   "source": [
    "ctr = BCDContainer()\n",
    "ctr.init_resources()\n",
    "ctr.wire(\n",
    "    packages=[\n",
    "        \"bcd.preprocess.image\",\n",
    "    ]\n",
    ")"
   ]
  },
  {
   "cell_type": "code",
   "execution_count": 6,
   "metadata": {},
   "outputs": [],
   "source": [
    "fp = \"data/image/1_dev/b2c667da-c96d-46be-be71-a1383d4ea62c.png\""
   ]
  },
  {
   "cell_type": "code",
   "execution_count": 7,
   "metadata": {},
   "outputs": [],
   "source": [
    "repo = ctr.dal.image_repo()\n",
    "image = repo.get(uid=\"b2c667da-c96d-46be-be71-a1383d4ea62c\")"
   ]
  },
  {
   "cell_type": "code",
   "execution_count": 8,
   "metadata": {},
   "outputs": [
    {
     "ename": "RuntimeError",
     "evalue": "Unable to find 2 maxima in smoothed histogram!",
     "output_type": "error",
     "traceback": [
      "\u001b[0;31m---------------------------------------------------------------------------\u001b[0m",
      "\u001b[0;31mRuntimeError\u001b[0m                              Traceback (most recent call last)",
      "\u001b[1;32m/home/john/projects/bcd/notebooks/lab/threshold.ipynb Cell 6\u001b[0m line \u001b[0;36m4\n\u001b[1;32m     <a href='vscode-notebook-cell://wsl%2Bubuntu/home/john/projects/bcd/notebooks/lab/threshold.ipynb#W6sdnNjb2RlLXJlbW90ZQ%3D%3D?line=44'>45</a>\u001b[0m im \u001b[39m=\u001b[39m image\u001b[39m.\u001b[39mpixel_data\n\u001b[1;32m     <a href='vscode-notebook-cell://wsl%2Bubuntu/home/john/projects/bcd/notebooks/lab/threshold.ipynb#W6sdnNjb2RlLXJlbW90ZQ%3D%3D?line=45'>46</a>\u001b[0m thresh_cell \u001b[39m=\u001b[39m threshold_minimum(im)\n\u001b[0;32m---> <a href='vscode-notebook-cell://wsl%2Bubuntu/home/john/projects/bcd/notebooks/lab/threshold.ipynb#W6sdnNjb2RlLXJlbW90ZQ%3D%3D?line=46'>47</a>\u001b[0m thresh \u001b[39m=\u001b[39m get_minimum_threshold(im, bins\u001b[39m=\u001b[39;49mnp\u001b[39m.\u001b[39;49marange(\u001b[39m256\u001b[39;49m), thresh\u001b[39m=\u001b[39;49mthresh_cell)\n\u001b[1;32m     <a href='vscode-notebook-cell://wsl%2Bubuntu/home/john/projects/bcd/notebooks/lab/threshold.ipynb#W6sdnNjb2RlLXJlbW90ZQ%3D%3D?line=47'>48</a>\u001b[0m thresh\n",
      "\u001b[1;32m/home/john/projects/bcd/notebooks/lab/threshold.ipynb Cell 6\u001b[0m line \u001b[0;36m3\n\u001b[1;32m     <a href='vscode-notebook-cell://wsl%2Bubuntu/home/john/projects/bcd/notebooks/lab/threshold.ipynb#W6sdnNjb2RlLXJlbW90ZQ%3D%3D?line=35'>36</a>\u001b[0m \u001b[39m# Check this worked\u001b[39;00m\n\u001b[1;32m     <a href='vscode-notebook-cell://wsl%2Bubuntu/home/john/projects/bcd/notebooks/lab/threshold.ipynb#W6sdnNjb2RlLXJlbW90ZQ%3D%3D?line=36'>37</a>\u001b[0m \u001b[39mif\u001b[39;00m \u001b[39mlen\u001b[39m(max_inds) \u001b[39m!=\u001b[39m \u001b[39m2\u001b[39m:\n\u001b[0;32m---> <a href='vscode-notebook-cell://wsl%2Bubuntu/home/john/projects/bcd/notebooks/lab/threshold.ipynb#W6sdnNjb2RlLXJlbW90ZQ%3D%3D?line=37'>38</a>\u001b[0m     \u001b[39mraise\u001b[39;00m \u001b[39mRuntimeError\u001b[39;00m(\u001b[39m'\u001b[39m\u001b[39mUnable to find 2 maxima in smoothed histogram!\u001b[39m\u001b[39m'\u001b[39m)\n\u001b[1;32m     <a href='vscode-notebook-cell://wsl%2Bubuntu/home/john/projects/bcd/notebooks/lab/threshold.ipynb#W6sdnNjb2RlLXJlbW90ZQ%3D%3D?line=39'>40</a>\u001b[0m \u001b[39mreturn\u001b[39;00m centers[max_inds]\n",
      "\u001b[0;31mRuntimeError\u001b[0m: Unable to find 2 maxima in smoothed histogram!"
     ]
    }
   ],
   "source": [
    "from skimage.filters import threshold_triangle\n",
    "\n",
    "bins = np.arange(0, 256)\n",
    "im = image.pixel_data\n",
    "\n",
    "def get_triangle_threshold(im, bins, thresh, pos=None):\n",
    "    if pos:\n",
    "        plt.subplot(pos)\n",
    "\n",
    "    # Create a histogram, identify peak and normalize counts between 0 and 1\n",
    "    # Note: here we assume the peak is always to the left and we threshold to the right!\n",
    "    # The proper triangle threshold flips sometimes\n",
    "    hist, bin_edges = np.histogram(im.ravel(), bins=bins)\n",
    "    peak_ind = np.argmax(hist)\n",
    "    peak_height = hist[peak_ind]\n",
    "    hist = hist / peak_height\n",
    "\n",
    "    # Identify bin centers\n",
    "    # Find last bin with non-zero count\n",
    "    centers = (bin_edges[1:] + bin_edges[:-1])/2.0\n",
    "    ind_low, ind_high = np.where(hist > 0)[0][[0, -1]]    \n",
    "\n",
    "    # Shift bin centers according to peak (simplified plotting)\n",
    "    centers = centers - centers[peak_ind]\n",
    "\n",
    "    # Compute 'width' of the triangle (base length)\n",
    "    # Normalize centers so width becomes 1\n",
    "    width = (centers[ind_high] - centers[peak_ind])\n",
    "    centers = centers / width\n",
    "\n",
    "    # Plot histogram with new values\n",
    "    plt.hist(centers, bins=len(hist), weights=hist, color=(0.1, 0.1, 0.2, 0.6))\n",
    "\n",
    "    # Plot from peak to base\n",
    "    x1 = centers[peak_ind]\n",
    "    y1 = hist[peak_ind]\n",
    "    x2 = centers[-1]\n",
    "    y2 = hist[-1]\n",
    "    plt.plot([x1, x2], [y1, y2])\n",
    "\n",
    "    # Plot from threshold to peak line\n",
    "    x3 = centers[int(thresh)]\n",
    "    y3 = hist[int(thresh)]\n",
    "    n = np.sqrt((y2 - y1)**2 + (x2 - x1)**2)\n",
    "    x4 = (y2 - y1) / n\n",
    "    y4 = -(x2 - x1) / n\n",
    "    # Find intersection\n",
    "    # Thank you, wikipedia\n",
    "    # https://en.wikipedia.org/wiki/Line–line_intersection#Given_two_points_on_each_line\n",
    "    D = (x1 - x2)*(y3 - y4) - (y1 - y2)*(x3 - x4)\n",
    "    px = ((x1*y2 - y1*x2)*(x3 - x4) - (x1 - x2)*(x3*y4 - y3*x4))/D\n",
    "    py = ((x1*y2 - y1*x2)*(y3 - y4) - (y1 - y2)*(x3*y4 - y3*x4))/D\n",
    "    plt.plot([x3, px], [y3, py])\n",
    "\n",
    "    # Setup display\n",
    "    plt.xlim([0, 1])\n",
    "    plt.ylim([0, 1])\n",
    "    plt.xticks([0, 0.5, 1.0])\n",
    "    plt.yticks([0, 0.5, 1.0])\n",
    "    plt.gca().set_aspect('equal')\n",
    "\n",
    "\n",
    "thresh = threshold_triangle(im)\n",
    "thresh"
   ]
  }
 ],
 "metadata": {
  "kernelspec": {
   "display_name": "bcd",
   "language": "python",
   "name": "python3"
  },
  "language_info": {
   "codemirror_mode": {
    "name": "ipython",
    "version": 3
   },
   "file_extension": ".py",
   "mimetype": "text/x-python",
   "name": "python",
   "nbconvert_exporter": "python",
   "pygments_lexer": "ipython3",
   "version": "3.10.12"
  }
 },
 "nbformat": 4,
 "nbformat_minor": 2
}
