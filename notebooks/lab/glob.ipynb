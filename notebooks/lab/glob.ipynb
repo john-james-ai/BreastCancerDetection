{
 "cells": [
  {
   "cell_type": "code",
   "execution_count": null,
   "metadata": {},
   "outputs": [],
   "source": [
    "import os\n",
    "from glob import glob\n",
    "import pydicom"
   ]
  },
  {
   "cell_type": "code",
   "execution_count": null,
   "metadata": {},
   "outputs": [],
   "source": [
    "basedir = \"/home/john/projects/bcd\"\n",
    "location = \"data/raw/CBIS-DDSM\"\n",
    "location = os.path.abspath(location)\n",
    "pattern = location + \"/**/*.dcm\"\n",
    "pattern\n",
    "corrupt_image = \"Mass-Training_P_01382_LEFT_MLO/07-20-2016-DDSM-93921/1.000000-full mammogram images-05891/1-1.dcm\""
   ]
  },
  {
   "cell_type": "code",
   "execution_count": null,
   "metadata": {},
   "outputs": [],
   "source": [
    "filepaths = glob(pattern, recursive=True)\n",
    "filtered = []\n",
    "for filepath in filepaths:\n",
    "    if not corrupt_image in filepath:\n",
    "        filtered.append(filepath)\n",
    "\n",
    "assert len(filepaths) == len(filtered) + 1\n",
    "\n"
   ]
  },
  {
   "cell_type": "code",
   "execution_count": null,
   "metadata": {},
   "outputs": [],
   "source": [
    "fp = \"data/raw/CBIS-DDSM/Calc-Test_P_00100_RIGHT_CC_1/08-29-2017-DDSM-29651/1.000000-ROI mask images-97035/1-2.dcm\"\n",
    "dcm = pydicom.dcmread(fp)"
   ]
  },
  {
   "cell_type": "code",
   "execution_count": 27,
   "metadata": {},
   "outputs": [
    {
     "data": {
      "text/plain": [
       "{'patient_id': 'P_00100',\n",
       " 'series_uid': '1.3.6.1.4.1.9590.100.1.2.416175242512972515029128682820201897035',\n",
       " 'study_uid': '1.3.6.1.4.1.9590.100.1.2.207198724713893842216305292043033029651',\n",
       " 'side': 'RIGHT',\n",
       " 'image_view': 'CC',\n",
       " 'height': 4831,\n",
       " 'width': 2731,\n",
       " 'bit_depth': 8,\n",
       " 'min_pixel_value': 0,\n",
       " 'largest_image_pixel': 255,\n",
       " 'range_pixel_values': 255}"
      ]
     },
     "execution_count": 27,
     "metadata": {},
     "output_type": "execute_result"
    }
   ],
   "source": [
    "dcm_data = {}\n",
    "dcm_data['patient_id'] = str(dcm.PatientName).split('^')[0]\n",
    "dcm_data['series_uid'] = dcm.SeriesInstanceUID\n",
    "dcm_data['side'] = str(dcm.BodyPartExamined).split(' ')[0].upper()\n",
    "dcm_data['image_view'] = dcm.PatientOrientation\n",
    "dcm_data['height'] = int(dcm.Rows)\n",
    "dcm_data['width'] = int(dcm.Columns)\n",
    "dcm_data['bit_depth'] = int(dcm.BitsStored)\n",
    "dcm_data['min_pixel_value'] = int(dcm.SmallestImagePixelValue)\n",
    "dcm_data['largest_image_pixel'] = int(dcm.LargestImagePixelValue)\n",
    "dcm_data['range_pixel_values'] = int(dcm.LargestImagePixelValue) - int(dcm.SmallestImagePixelValue)\n",
    "dcm_data"
   ]
  },
  {
   "cell_type": "code",
   "execution_count": 1,
   "metadata": {},
   "outputs": [
    {
     "data": {
      "text/plain": [
       "'1.3.6.1.4.1.9590.100.1.2.342386194811267636608694132590482924515'"
      ]
     },
     "execution_count": 1,
     "metadata": {},
     "output_type": "execute_result"
    }
   ],
   "source": [
    "fp = \"Mass-Training_P_00001_LEFT_CC/1.3.6.1.4.1.9590.100.1.2.422112722213189649807611434612228974994/1.3.6.1.4.1.9590.100.1.2.342386194811267636608694132590482924515/000000.dcm\"\n",
    "fp.split(\"/\")[2]"
   ]
  }
 ],
 "metadata": {
  "kernelspec": {
   "display_name": "bcd",
   "language": "python",
   "name": "python3"
  },
  "language_info": {
   "codemirror_mode": {
    "name": "ipython",
    "version": 3
   },
   "file_extension": ".py",
   "mimetype": "text/x-python",
   "name": "python",
   "nbconvert_exporter": "python",
   "pygments_lexer": "ipython3",
   "version": "3.10.12"
  },
  "orig_nbformat": 4
 },
 "nbformat": 4,
 "nbformat_minor": 2
}
