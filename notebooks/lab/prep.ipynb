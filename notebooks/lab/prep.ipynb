{
 "cells": [
  {
   "cell_type": "markdown",
   "metadata": {},
   "source": [
    "# Data Prep Lab"
   ]
  },
  {
   "cell_type": "code",
   "execution_count": 1,
   "metadata": {},
   "outputs": [],
   "source": [
    "import pandas as pd"
   ]
  },
  {
   "cell_type": "code",
   "execution_count": 2,
   "metadata": {},
   "outputs": [],
   "source": [
    "fpc = \"data/clean/cases.csv\"\n",
    "fpd = \"data/meta/1_staged/dicom.csv\"\n",
    "fpx = \"data/meta/1_staged/case_series_xref.csv\"\n",
    "fpdc = \"data/clean/dicom_case.csv\""
   ]
  },
  {
   "cell_type": "code",
   "execution_count": 3,
   "metadata": {},
   "outputs": [],
   "source": [
    "dfc = pd.read_csv(fpc)\n",
    "dfd = pd.read_csv(fpd)\n",
    "dfx = pd.read_csv(fpx)"
   ]
  },
  {
   "cell_type": "code",
   "execution_count": 4,
   "metadata": {},
   "outputs": [
    {
     "name": "stdout",
     "output_type": "stream",
     "text": [
      "<class 'pandas.core.frame.DataFrame'>\n",
      "RangeIndex: 3566 entries, 0 to 3565\n",
      "Data columns (total 16 columns):\n",
      " #   Column                Non-Null Count  Dtype \n",
      "---  ------                --------------  ----- \n",
      " 0   patient_id            3566 non-null   object\n",
      " 1   breast_density        3566 non-null   int64 \n",
      " 2   left_or_right_breast  3566 non-null   object\n",
      " 3   image_view            3566 non-null   object\n",
      " 4   abnormality_id        3566 non-null   int64 \n",
      " 5   abnormality_type      3566 non-null   object\n",
      " 6   calc_type             3566 non-null   object\n",
      " 7   calc_distribution     3566 non-null   object\n",
      " 8   assessment            3566 non-null   int64 \n",
      " 9   pathology             3566 non-null   object\n",
      " 10  subtlety              3566 non-null   int64 \n",
      " 11  fileset               3566 non-null   object\n",
      " 12  mass_shape            3566 non-null   object\n",
      " 13  mass_margins          3566 non-null   object\n",
      " 14  case_id               3566 non-null   object\n",
      " 15  cancer                3566 non-null   bool  \n",
      "dtypes: bool(1), int64(4), object(11)\n",
      "memory usage: 421.5+ KB\n",
      "<class 'pandas.core.frame.DataFrame'>\n",
      "RangeIndex: 10238 entries, 0 to 10237\n",
      "Data columns (total 17 columns):\n",
      " #   Column                      Non-Null Count  Dtype  \n",
      "---  ------                      --------------  -----  \n",
      " 0   series_uid                  10238 non-null  object \n",
      " 1   filepath                    10238 non-null  object \n",
      " 2   patient_id                  10238 non-null  object \n",
      " 3   side                        10238 non-null  object \n",
      " 4   image_view                  10238 non-null  object \n",
      " 5   photometric_interpretation  10238 non-null  object \n",
      " 6   samples_per_pixel           10238 non-null  int64  \n",
      " 7   height                      10238 non-null  int64  \n",
      " 8   width                       10238 non-null  int64  \n",
      " 9   size                        10238 non-null  int64  \n",
      " 10  aspect_ratio                10238 non-null  float64\n",
      " 11  bit_depth                        10238 non-null  int64  \n",
      " 12  min_pixel_value        10238 non-null  int64  \n",
      " 13  largest_image_pixel         10238 non-null  int64  \n",
      " 14  range_pixel_values           10238 non-null  int64  \n",
      " 15  brisque                     10238 non-null  float64\n",
      " 16  series_description          10238 non-null  object \n",
      "dtypes: float64(2), int64(8), object(7)\n",
      "memory usage: 1.3+ MB\n",
      "<class 'pandas.core.frame.DataFrame'>\n",
      "RangeIndex: 7240 entries, 0 to 7239\n",
      "Data columns (total 3 columns):\n",
      " #   Column              Non-Null Count  Dtype \n",
      "---  ------              --------------  ----- \n",
      " 0   case_id             7240 non-null   object\n",
      " 1   series_uid          7240 non-null   object\n",
      " 2   series_description  7240 non-null   object\n",
      "dtypes: object(3)\n",
      "memory usage: 169.8+ KB\n"
     ]
    }
   ],
   "source": [
    "dfc.info()\n",
    "dfd.info()\n",
    "dfx.info()"
   ]
  },
  {
   "cell_type": "code",
   "execution_count": 8,
   "metadata": {},
   "outputs": [
    {
     "ename": "TypeError",
     "evalue": "bad operand type for unary ~: 'list'",
     "output_type": "error",
     "traceback": [
      "\u001b[0;31m---------------------------------------------------------------------------\u001b[0m",
      "\u001b[0;31mTypeError\u001b[0m                                 Traceback (most recent call last)",
      "\u001b[1;32m/home/john/projects/bcd/notebooks/lab/prep.ipynb Cell 6\u001b[0m line \u001b[0;36m2\n\u001b[1;32m      <a href='vscode-notebook-cell://wsl%2Bubuntu/home/john/projects/bcd/notebooks/lab/prep.ipynb#X14sdnNjb2RlLXJlbW90ZQ%3D%3D?line=0'>1</a>\u001b[0m cols_to_ignore \u001b[39m=\u001b[39m [\u001b[39m'\u001b[39m\u001b[39mpatient_id\u001b[39m\u001b[39m'\u001b[39m, \u001b[39m'\u001b[39m\u001b[39mleft_or_right_breast\u001b[39m\u001b[39m'\u001b[39m, \u001b[39m'\u001b[39m\u001b[39mimage_view\u001b[39m\u001b[39m'\u001b[39m,]\n\u001b[0;32m----> <a href='vscode-notebook-cell://wsl%2Bubuntu/home/john/projects/bcd/notebooks/lab/prep.ipynb#X14sdnNjb2RlLXJlbW90ZQ%3D%3D?line=1'>2</a>\u001b[0m dfc2 \u001b[39m=\u001b[39m dfc[\u001b[39m~\u001b[39;49mcols_to_ignore]\n\u001b[1;32m      <a href='vscode-notebook-cell://wsl%2Bubuntu/home/john/projects/bcd/notebooks/lab/prep.ipynb#X14sdnNjb2RlLXJlbW90ZQ%3D%3D?line=2'>3</a>\u001b[0m dfc2\u001b[39m.\u001b[39minfo()\n",
      "\u001b[0;31mTypeError\u001b[0m: bad operand type for unary ~: 'list'"
     ]
    }
   ],
   "source": [
    "cols_to_ignore = np.array(['patient_id', 'left_or_right_breast', 'image_view'])\n",
    "dfc2 = dfc[~cols_to_ignore]\n",
    "dfc2.info()"
   ]
  },
  {
   "cell_type": "code",
   "execution_count": 6,
   "metadata": {},
   "outputs": [
    {
     "name": "stdout",
     "output_type": "stream",
     "text": [
      "<class 'pandas.core.frame.DataFrame'>\n",
      "RangeIndex: 10703 entries, 0 to 10702\n",
      "Data columns (total 33 columns):\n",
      " #   Column                      Non-Null Count  Dtype  \n",
      "---  ------                      --------------  -----  \n",
      " 0   series_uid                  10703 non-null  object \n",
      " 1   filepath                    10703 non-null  object \n",
      " 2   patient_id_x                10703 non-null  object \n",
      " 3   side                        10703 non-null  object \n",
      " 4   image_view_x                10703 non-null  object \n",
      " 5   photometric_interpretation  10703 non-null  object \n",
      " 6   samples_per_pixel           10703 non-null  int64  \n",
      " 7   height                      10703 non-null  int64  \n",
      " 8   width                       10703 non-null  int64  \n",
      " 9   size                        10703 non-null  int64  \n",
      " 10  aspect_ratio                10703 non-null  float64\n",
      " 11  bit_depth                        10703 non-null  int64  \n",
      " 12  min_pixel_value        10703 non-null  int64  \n",
      " 13  largest_image_pixel         10703 non-null  int64  \n",
      " 14  range_pixel_values           10703 non-null  int64  \n",
      " 15  brisque                     10703 non-null  float64\n",
      " 16  series_description          10703 non-null  object \n",
      " 17  case_id                     10703 non-null  object \n",
      " 18  patient_id_y                10697 non-null  object \n",
      " 19  breast_density              10697 non-null  float64\n",
      " 20  left_or_right_breast        10697 non-null  object \n",
      " 21  image_view_y                10697 non-null  object \n",
      " 22  abnormality_id              10697 non-null  float64\n",
      " 23  abnormality_type            10697 non-null  object \n",
      " 24  calc_type                   10697 non-null  object \n",
      " 25  calc_distribution           10697 non-null  object \n",
      " 26  assessment                  10697 non-null  float64\n",
      " 27  pathology                   10697 non-null  object \n",
      " 28  subtlety                    10697 non-null  float64\n",
      " 29  fileset                     10697 non-null  object \n",
      " 30  mass_shape                  10697 non-null  object \n",
      " 31  mass_margins                10697 non-null  object \n",
      " 32  cancer                      10697 non-null  object \n",
      "dtypes: float64(6), int64(8), object(19)\n",
      "memory usage: 2.7+ MB\n"
     ]
    }
   ],
   "source": [
    "dfdc = dfd.merge(dfx[['case_id', 'series_uid']], how='left', on='series_uid')\n",
    "dfdc = dfdc.merge(dfc, how='left', on='case_id')\n",
    "dfdc.info()"
   ]
  }
 ],
 "metadata": {
  "kernelspec": {
   "display_name": "bcd",
   "language": "python",
   "name": "python3"
  },
  "language_info": {
   "codemirror_mode": {
    "name": "ipython",
    "version": 3
   },
   "file_extension": ".py",
   "mimetype": "text/x-python",
   "name": "python",
   "nbconvert_exporter": "python",
   "pygments_lexer": "ipython3",
   "version": "3.10.12"
  },
  "orig_nbformat": 4
 },
 "nbformat": 4,
 "nbformat_minor": 2
}
