{
 "cells": [
  {
   "cell_type": "markdown",
   "metadata": {},
   "source": [
    "# DataClass Lab"
   ]
  },
  {
   "cell_type": "code",
   "execution_count": 5,
   "metadata": {},
   "outputs": [],
   "source": [
    "from dataclasses import dataclass\n",
    "from bcd import DataClass\n",
    "from bcd.utils.hash import dict_hash"
   ]
  },
  {
   "cell_type": "code",
   "execution_count": 6,
   "metadata": {},
   "outputs": [],
   "source": [
    "@dataclass\n",
    "class A(DataClass):\n",
    "    learning_rate: float = 1e-5\n",
    "    loss: str = \"loss\"\n",
    "\n",
    "@dataclass\n",
    "class B(DataClass):\n",
    "    fine_tune: bool = True\n",
    "    epochs: int = 100\n",
    "\n",
    "@dataclass\n",
    "class C(DataClass):\n",
    "    monitor: str = \"val_loss\"\n",
    "    mode: str = \"auto\""
   ]
  },
  {
   "cell_type": "code",
   "execution_count": 7,
   "metadata": {},
   "outputs": [],
   "source": [
    "@dataclass\n",
    "class Config(DataClass):\n",
    "    a: A = A()\n",
    "    b: B = B()\n",
    "    c: C = C()\n",
    "\n",
    "    def as_dict(self) -> dict:\n",
    "        config = super().as_dict()\n",
    "        config['hash'] = dict_hash(config)\n",
    "        return config\n",
    "\n",
    "    \n",
    "\n"
   ]
  },
  {
   "cell_type": "code",
   "execution_count": 8,
   "metadata": {},
   "outputs": [
    {
     "data": {
      "text/plain": [
       "{'a': {'learning_rate': 1e-05, 'loss': 'loss'},\n",
       " 'b': {'fine_tune': True, 'epochs': 100},\n",
       " 'c': {'monitor': 'val_loss', 'mode': 'auto'},\n",
       " 'hash': 'a2022cbc07c09f1df7513816e63bb954'}"
      ]
     },
     "execution_count": 8,
     "metadata": {},
     "output_type": "execute_result"
    }
   ],
   "source": [
    "config = Config()\n",
    "config.as_dict()"
   ]
  },
  {
   "cell_type": "code",
   "execution_count": 9,
   "metadata": {},
   "outputs": [
    {
     "data": {
      "text/plain": [
       "{'a': {'learning_rate': 1e-05, 'loss': 'loss'},\n",
       " 'b': {'fine_tune': True, 'epochs': 100},\n",
       " 'c': {'monitor': 'val_loss', 'mode': 'auto'},\n",
       " 'hash': 'a2022cbc07c09f1df7513816e63bb954'}"
      ]
     },
     "execution_count": 9,
     "metadata": {},
     "output_type": "execute_result"
    }
   ],
   "source": [
    "config.as_dict()"
   ]
  }
 ],
 "metadata": {
  "kernelspec": {
   "display_name": "bcd",
   "language": "python",
   "name": "python3"
  },
  "language_info": {
   "codemirror_mode": {
    "name": "ipython",
    "version": 3
   },
   "file_extension": ".py",
   "mimetype": "text/x-python",
   "name": "python",
   "nbconvert_exporter": "python",
   "pygments_lexer": "ipython3",
   "version": "3.10.12"
  }
 },
 "nbformat": 4,
 "nbformat_minor": 2
}
