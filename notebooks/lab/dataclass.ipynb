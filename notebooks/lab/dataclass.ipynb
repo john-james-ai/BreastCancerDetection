{
 "cells": [
  {
   "cell_type": "markdown",
   "metadata": {},
   "source": [
    "# DataClass Lab"
   ]
  },
  {
   "cell_type": "code",
   "execution_count": 1,
   "metadata": {},
   "outputs": [
    {
     "ename": "ModuleNotFoundError",
     "evalue": "No module named 'kaggle'",
     "output_type": "error",
     "traceback": [
      "\u001b[0;31m---------------------------------------------------------------------------\u001b[0m",
      "\u001b[0;31mModuleNotFoundError\u001b[0m                       Traceback (most recent call last)",
      "Cell \u001b[0;32mIn[1], line 4\u001b[0m\n\u001b[1;32m      2\u001b[0m \u001b[38;5;28;01mfrom\u001b[39;00m \u001b[38;5;21;01mbcd\u001b[39;00m \u001b[38;5;28;01mimport\u001b[39;00m DataClass\n\u001b[1;32m      3\u001b[0m \u001b[38;5;28;01mfrom\u001b[39;00m \u001b[38;5;21;01mbcd\u001b[39;00m\u001b[38;5;21;01m.\u001b[39;00m\u001b[38;5;21;01mutils\u001b[39;00m\u001b[38;5;21;01m.\u001b[39;00m\u001b[38;5;21;01mhash\u001b[39;00m \u001b[38;5;28;01mimport\u001b[39;00m dict_hash\n\u001b[0;32m----> 4\u001b[0m \u001b[38;5;28;01mimport\u001b[39;00m \u001b[38;5;21;01mkaggle\u001b[39;00m\n\u001b[1;32m      5\u001b[0m \u001b[38;5;28mprint\u001b[39m(kaggle\u001b[38;5;241m.\u001b[39m__version\u001b[38;5;241m.\u001b[39m__)\n",
      "\u001b[0;31mModuleNotFoundError\u001b[0m: No module named 'kaggle'"
     ]
    }
   ],
   "source": [
    "from dataclasses import dataclass\n",
    "from bcd import DataClass\n",
    "from bcd.utils.hash import dict_hash"
   ]
  },
  {
   "cell_type": "code",
   "execution_count": 2,
   "metadata": {},
   "outputs": [],
   "source": [
    "@dataclass\n",
    "class A(DataClass):\n",
    "    learning_rate: float = 1e-5\n",
    "    loss: str = \"loss\"\n",
    "\n",
    "@dataclass\n",
    "class B(DataClass):\n",
    "    fine_tune: bool = True\n",
    "    epochs: int = 100\n",
    "\n",
    "@dataclass\n",
    "class C(DataClass):\n",
    "    monitor: str = \"val_loss\"\n",
    "    mode: str = \"auto\""
   ]
  },
  {
   "cell_type": "code",
   "execution_count": 3,
   "metadata": {},
   "outputs": [],
   "source": [
    "@dataclass\n",
    "class Config(DataClass):\n",
    "    a: A = A()\n",
    "    b: B = B()\n",
    "    c: C = C()\n",
    "\n",
    "    def as_dict(self) -> dict:\n",
    "        config = super().as_dict()\n",
    "        config['hash'] = dict_hash(config)\n",
    "        return config\n",
    "\n",
    "    \n",
    "\n"
   ]
  },
  {
   "cell_type": "code",
   "execution_count": 4,
   "metadata": {},
   "outputs": [
    {
     "data": {
      "text/plain": [
       "{'a': {'learning_rate': 1e-05, 'loss': 'loss'},\n",
       " 'b': {'fine_tune': True, 'epochs': 100},\n",
       " 'c': {'monitor': 'val_loss', 'mode': 'auto'},\n",
       " 'hash': 'a2022cbc07c09f1df7513816e63bb954'}"
      ]
     },
     "execution_count": 4,
     "metadata": {},
     "output_type": "execute_result"
    }
   ],
   "source": [
    "config = Config()\n",
    "config.as_dict()"
   ]
  },
  {
   "cell_type": "code",
   "execution_count": 6,
   "metadata": {},
   "outputs": [
    {
     "name": "stdout",
     "output_type": "stream",
     "text": [
      "\n",
      "\n",
      "                               A                                \n",
      "                   Learning Rate | 1e-05\n",
      "                            Loss | loss\n",
      "\n",
      "\n"
     ]
    }
   ],
   "source": [
    "print(A())"
   ]
  }
 ],
 "metadata": {
  "kernelspec": {
   "display_name": "bcd",
   "language": "python",
   "name": "python3"
  },
  "language_info": {
   "codemirror_mode": {
    "name": "ipython",
    "version": 3
   },
   "file_extension": ".py",
   "mimetype": "text/x-python",
   "name": "python",
   "nbconvert_exporter": "python",
   "pygments_lexer": "ipython3",
   "version": "3.10.12"
  }
 },
 "nbformat": 4,
 "nbformat_minor": 2
}
