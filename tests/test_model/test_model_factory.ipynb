{
 "cells": [
  {
   "cell_type": "markdown",
   "metadata": {},
   "source": [
    "# Test ModelFactory"
   ]
  },
  {
   "cell_type": "code",
   "execution_count": 1,
   "metadata": {},
   "outputs": [],
   "source": [
    "from bcd.model.factory import ShainNetFactory\n",
    "from bcd.model.base import DenseNet"
   ]
  },
  {
   "cell_type": "markdown",
   "metadata": {},
   "source": [
    "# DenseNet"
   ]
  },
  {
   "cell_type": "code",
   "execution_count": 2,
   "metadata": {},
   "outputs": [
    {
     "name": "stdout",
     "output_type": "stream",
     "text": [
      "Model: \"model\"\n",
      "_________________________________________________________________\n",
      " Layer (type)                Output Shape              Param #   \n",
      "=================================================================\n",
      " ShainNet_DenseNet_input_lay  [(None, 224, 224, 3)]    0         \n",
      " er (InputLayer)                                                 \n",
      "                                                                 \n",
      " tf.math.truediv (TFOpLambda  (None, 224, 224, 3)      0         \n",
      " )                                                               \n",
      "                                                                 \n",
      " tf.nn.bias_add (TFOpLambda)  (None, 224, 224, 3)      0         \n",
      "                                                                 \n",
      " tf.math.truediv_1 (TFOpLamb  (None, 224, 224, 3)      0         \n",
      " da)                                                             \n",
      "                                                                 \n",
      " data_augmentation (Sequenti  (None, 224, 224, 3)      0         \n",
      " al)                                                             \n",
      "                                                                 \n",
      " densenet201 (Functional)    (None, None, None, 1920)  18321984  \n",
      "                                                                 \n",
      " ShainNet_DenseNet_global_av  (None, 1920)             0         \n",
      " erage_pooling (GlobalAverag                                     \n",
      " ePooling2D)                                                     \n",
      "                                                                 \n",
      " ShainNet_DenseNet_dense_1 (  (None, 1024)             1967104   \n",
      " Dense)                                                          \n",
      "                                                                 \n",
      " ShainNet_DenseNet_dropout_1  (None, 1024)             0         \n",
      "  (Dropout)                                                      \n",
      "                                                                 \n",
      " ShainNet_DenseNet_dense_2 (  (None, 1024)             1049600   \n",
      " Dense)                                                          \n",
      "                                                                 \n",
      " ShainNet_DenseNet_dropout_2  (None, 1024)             0         \n",
      "  (Dropout)                                                      \n",
      "                                                                 \n",
      " ShainNet_DenseNet_dense_3 (  (None, 512)              524800    \n",
      " Dense)                                                          \n",
      "                                                                 \n",
      " ShainNet_DenseNet_dense_4 (  (None, 128)              65664     \n",
      " Dense)                                                          \n",
      "                                                                 \n",
      " ShainNet_DenseNet_output_la  (None, 1)                129       \n",
      " yer (Dense)                                                     \n",
      "                                                                 \n",
      "=================================================================\n",
      "Total params: 21,929,281\n",
      "Trainable params: 3,607,297\n",
      "Non-trainable params: 18,321,984\n",
      "_________________________________________________________________\n"
     ]
    }
   ],
   "source": [
    "base_model = DenseNet()\n",
    "factory = ShainNetFactory()\n",
    "model = factory.create(base_model=base_model)\n",
    "model.summary()"
   ]
  }
 ],
 "metadata": {
  "kernelspec": {
   "display_name": "bcd",
   "language": "python",
   "name": "python3"
  },
  "language_info": {
   "codemirror_mode": {
    "name": "ipython",
    "version": 3
   },
   "file_extension": ".py",
   "mimetype": "text/x-python",
   "name": "python",
   "nbconvert_exporter": "python",
   "pygments_lexer": "ipython3",
   "version": "3.10.12"
  }
 },
 "nbformat": 4,
 "nbformat_minor": 2
}
