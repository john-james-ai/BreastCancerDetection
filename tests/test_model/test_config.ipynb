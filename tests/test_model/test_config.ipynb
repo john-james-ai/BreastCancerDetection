{
 "cells": [
  {
   "cell_type": "markdown",
   "metadata": {},
   "source": [
    "# Config Validation"
   ]
  },
  {
   "cell_type": "code",
   "execution_count": 1,
   "metadata": {},
   "outputs": [],
   "source": [
    "from bcd.model.config import *\n",
    "from bcd.model.network.shainnet import ShainNetConfig"
   ]
  },
  {
   "cell_type": "code",
   "execution_count": 2,
   "metadata": {},
   "outputs": [],
   "source": [
    "mode = \"Development\""
   ]
  },
  {
   "cell_type": "code",
   "execution_count": 3,
   "metadata": {},
   "outputs": [
    {
     "name": "stdout",
     "output_type": "stream",
     "text": [
      "\n",
      "\n",
      "                             Config                             \n",
      "                            Hash | 31ae4b6dbffaa6813125f13da058e64f\n",
      "\n",
      "\n"
     ]
    },
    {
     "data": {
      "text/plain": [
       "{'project': {'mode': 'Development',\n",
       "  'name': 'Breast-Cancer-Detection-Development'},\n",
       " 'dataset': {'mode': 'Development',\n",
       "  'dataset': 'CBIS-DDSM_10',\n",
       "  'batch_size': 32,\n",
       "  'input_shape': (224, 224, 3),\n",
       "  'output_shape': 1,\n",
       "  'train_dir': 'data/image/1_final/training_10/training/'},\n",
       " 'train': {'epochs': 5,\n",
       "  'learning_rate': 0.0001,\n",
       "  'loss': 'binary_crossentropy'},\n",
       " 'network': {'activation': 'sigmoid',\n",
       "  'dense1': 1024,\n",
       "  'dropout1': 0.5,\n",
       "  'dense2': 1024,\n",
       "  'dropout2': 0.3,\n",
       "  'dense3': 512,\n",
       "  'dense4': 128},\n",
       " 'checkpoint': {'monitor': 'val_accuracy',\n",
       "  'verbose': 1,\n",
       "  'save_best_only': True,\n",
       "  'save_weights_only': False,\n",
       "  'mode': 'auto'},\n",
       " 'early_stop': {'min_delta': 0.0001,\n",
       "  'monitor': 'val_loss',\n",
       "  'patience': 10,\n",
       "  'restore_best_weights': True,\n",
       "  'verbose': 1},\n",
       " 'learning_rate_schedule': {'min_delta': 0.0001,\n",
       "  'monitor': 'val_loss',\n",
       "  'factor': 0.5,\n",
       "  'patience': 3,\n",
       "  'restore_best_weights': True,\n",
       "  'verbose': 1,\n",
       "  'mode': 'auto'},\n",
       " 'hash': '31ae4b6dbffaa6813125f13da058e64f'}"
      ]
     },
     "execution_count": 3,
     "metadata": {},
     "output_type": "execute_result"
    }
   ],
   "source": [
    "project_config = ProjectConfig(mode=mode)\n",
    "train_config = TrainConfig(epochs=5)\n",
    "network_config = ShainNetConfig()\n",
    "dataset_config = DatasetConfig(mode=mode)\n",
    "checkpoint_config = CheckPointConfig()\n",
    "early_stop_config = EarlyStopConfig()\n",
    "learning_rate_schedule_config = LearningRateScheduleConfig()\n",
    "config = Config(project=project_config, dataset=dataset_config, train=train_config, network=network_config, checkpoint=checkpoint_config, early_stop=early_stop_config, learning_rate_schedule=learning_rate_schedule_config)\n",
    "print(config)\n",
    "config.as_dict()\n"
   ]
  },
  {
   "cell_type": "code",
   "execution_count": 7,
   "metadata": {},
   "outputs": [
    {
     "data": {
      "text/plain": [
       "5"
      ]
     },
     "execution_count": 7,
     "metadata": {},
     "output_type": "execute_result"
    },
    {
     "data": {
      "text/plain": [
       "'31ae4b6dbffaa6813125f13da058e64f'"
      ]
     },
     "execution_count": 7,
     "metadata": {},
     "output_type": "execute_result"
    }
   ],
   "source": [
    "config.train.epochs\n",
    "c = config.as_dict()\n",
    "c[\"hash\"]"
   ]
  }
 ],
 "metadata": {
  "kernelspec": {
   "display_name": "bcd",
   "language": "python",
   "name": "python3"
  },
  "language_info": {
   "codemirror_mode": {
    "name": "ipython",
    "version": 3
   },
   "file_extension": ".py",
   "mimetype": "text/x-python",
   "name": "python",
   "nbconvert_exporter": "python",
   "pygments_lexer": "ipython3",
   "version": "3.10.12"
  }
 },
 "nbformat": 4,
 "nbformat_minor": 2
}
