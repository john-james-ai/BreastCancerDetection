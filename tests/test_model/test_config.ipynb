{
 "cells": [
  {
   "cell_type": "markdown",
   "metadata": {},
   "source": [
    "# Config Validation"
   ]
  },
  {
   "cell_type": "code",
   "execution_count": null,
   "metadata": {},
   "outputs": [],
   "source": [
    "from bcd.model.config import *\n",
    "from bcd.model.network.shainnet import ShainNetConfig"
   ]
  },
  {
   "cell_type": "code",
   "execution_count": null,
   "metadata": {},
   "outputs": [],
   "source": [
    "mode = \"Development\""
   ]
  },
  {
   "cell_type": "code",
   "execution_count": null,
   "metadata": {},
   "outputs": [],
   "source": [
    "project_config = ProjectConfig(mode=mode)\n",
    "train_config = TrainConfig(epochs=5)\n",
    "network_config = ShainNetConfig()\n",
    "dataset_config = DatasetConfig(mode=mode)\n",
    "checkpoint_config = CheckPointConfig()\n",
    "early_stop_config = EarlyStopConfig()\n",
    "learning_rate_schedule_config = LearningRateScheduleConfig()\n",
    "config = Config(project=project_config, dataset=dataset_config, train=train_config, network=network_config, checkpoint=checkpoint_config, early_stop=early_stop_config, learning_rate_schedule=learning_rate_schedule_config)\n",
    "print(config)\n",
    "config.as_dict()\n"
   ]
  }
 ],
 "metadata": {
  "language_info": {
   "name": "python"
  }
 },
 "nbformat": 4,
 "nbformat_minor": 2
}
