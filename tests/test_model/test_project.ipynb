{
 "cells": [
  {
   "cell_type": "markdown",
   "metadata": {},
   "source": [
    "# Test Project"
   ]
  },
  {
   "cell_type": "code",
   "execution_count": 1,
   "metadata": {},
   "outputs": [],
   "source": [
    "from bcd.model.project import Project"
   ]
  },
  {
   "cell_type": "code",
   "execution_count": 2,
   "metadata": {},
   "outputs": [],
   "source": [
    "project_name = \"BCD_V1_CBIS-DDSM-10\"\n",
    "run_name = \"DenseNet\""
   ]
  },
  {
   "cell_type": "code",
   "execution_count": 4,
   "metadata": {},
   "outputs": [],
   "source": [
    "project = Project(name=project_name)\n"
   ]
  },
  {
   "cell_type": "code",
   "execution_count": null,
   "metadata": {},
   "outputs": [],
   "source": [
    "project.plot_learning_curve(name=run_name)"
   ]
  },
  {
   "cell_type": "code",
   "execution_count": null,
   "metadata": {},
   "outputs": [],
   "source": [
    "project.plot_validation_curve(name=run_name)"
   ]
  },
  {
   "cell_type": "code",
   "execution_count": null,
   "metadata": {},
   "outputs": [],
   "source": [
    "project.plot_performance_curves(name=run_name)"
   ]
  },
  {
   "cell_type": "code",
   "execution_count": 5,
   "metadata": {},
   "outputs": [
    {
     "data": {
      "text/plain": [
       "{'_step': 14, '_runtime': 648.2011873722076, 'epoch/epoch': 14, 'evaluation/test_auc': 0.546310544013977, 'evaluation/test_loss': 0.6787679195404053, 'evaluation/test_precision': 1, '_wandb': {'runtime': 815}, 'epoch/auc': 0.7788169384002686, 'epoch/loss': 0.5720508098602295, 'epoch/val_loss': 0.6375754475593567, 'epoch/learning_rate': 1.249999968422344e-05, 'epoch/val_precision': 0.3636363744735718, 'epoch/recall': 0.52173912525177, 'epoch/val_auc': 0.5719814300537109, 'epoch/accuracy': 0.7239819169044495, 'epoch/val_accuracy': 0.6363636255264282, 'evaluation/test_recall': 0.011363636702299118, 'epoch/lr': 1.249999968422344e-05, '_timestamp': 1707399721.5635853, 'epoch/precision': 0.7384615540504456, 'epoch/val_recall': 0.23529411852359772, 'evaluation/test_accuracy': 0.597842812538147}"
      ]
     },
     "execution_count": 5,
     "metadata": {},
     "output_type": "execute_result"
    }
   ],
   "source": [
    "project.summarize_run(name=run_name)"
   ]
  },
  {
   "cell_type": "code",
   "execution_count": null,
   "metadata": {},
   "outputs": [],
   "source": [
    "project.compare_models()"
   ]
  }
 ],
 "metadata": {
  "kernelspec": {
   "display_name": "bcd",
   "language": "python",
   "name": "python3"
  },
  "language_info": {
   "codemirror_mode": {
    "name": "ipython",
    "version": 3
   },
   "file_extension": ".py",
   "mimetype": "text/x-python",
   "name": "python",
   "nbconvert_exporter": "python",
   "pygments_lexer": "ipython3",
   "version": "3.10.12"
  }
 },
 "nbformat": 4,
 "nbformat_minor": 2
}
