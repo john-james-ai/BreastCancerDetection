{
 "cells": [
  {
   "cell_type": "markdown",
   "metadata": {},
   "source": [
    "# ShainNet Feature Extraction"
   ]
  },
  {
   "cell_type": "code",
   "execution_count": 1,
   "metadata": {},
   "outputs": [],
   "source": [
    "import os\n",
    "import pathlib\n",
    "from dataclasses import dataclass\n",
    "import tensorflow as tf\n",
    "import pandas as pd\n",
    "import wandb\n",
    "\n",
    "from bcd.model.network.shainnet import ShainNetConfig, ShainNetFactory\n",
    "from bcd.model.repo import ExperimentRepo\n",
    "from bcd.model.base import *\n",
    "from bcd.model.experiment import FeatureExtractionExperiment\n",
    "from bcd.model.config import *\n",
    "\n",
    "pd.set_option('display.max_rows',999)"
   ]
  },
  {
   "cell_type": "markdown",
   "metadata": {},
   "source": [
    "## Preliminaries"
   ]
  },
  {
   "cell_type": "markdown",
   "metadata": {},
   "source": [
    "### Configuration"
   ]
  },
  {
   "cell_type": "code",
   "execution_count": 2,
   "metadata": {},
   "outputs": [
    {
     "name": "stdout",
     "output_type": "stream",
     "text": [
      "env: \"WANDB_NOTEBOOK_NAME\"=\"experiments.ipynb\"\n"
     ]
    }
   ],
   "source": [
    "# Experiment Parameters\n",
    "%env \"WANDB_NOTEBOOK_NAME\" \"experiments.ipynb\"\n",
    "mode = \"Development\"\n",
    "force = False  # Whether to retrain if the model and config already exists."
   ]
  },
  {
   "cell_type": "code",
   "execution_count": 3,
   "metadata": {},
   "outputs": [],
   "source": [
    "\n",
    "project_config = ProjectConfig(mode=mode)\n",
    "\n",
    "train_config = TrainConfig(epochs=5, learning_rate=1e-4)\n",
    "\n",
    "network_config = ShainNetConfig(dense1=1024, dropout1=0.5, dense2=1024, dropout2=0.3, dense3=512, dense4=128)\n",
    "\n",
    "dataset_config = DatasetConfig(mode=mode)\n",
    "\n",
    "checkpoint_config = CheckPointConfig(monitor=\"val_accuracy\", verbose=1, save_best_only=True, save_weights_only=False, mode=\"auto\")\n",
    "\n",
    "early_stop_config = EarlyStopConfig(min_delta=1e-4, monitor=\"val_loss\", patience=10, restore_best_weights=True, verbose=1)\n",
    "\n",
    "learning_rate_schedule_config = LearningRateScheduleConfig(min_delta=1e-4, monitor=\"val_loss\", factor=0.5, patience=3, restore_best_weights=True, verbose=1, mode=\"auto\")\n",
    "\n",
    "config = Config(project=project_config, \n",
    "                dataset=dataset_config, \n",
    "                train=train_config, \n",
    "                network=network_config, \n",
    "                checkpoint=checkpoint_config, \n",
    "                early_stop=early_stop_config, \n",
    "                learning_rate_schedule=learning_rate_schedule_config)\n"
   ]
  },
  {
   "cell_type": "markdown",
   "metadata": {},
   "source": [
    "### Load Data"
   ]
  },
  {
   "cell_type": "code",
   "execution_count": 4,
   "metadata": {},
   "outputs": [
    {
     "name": "stdout",
     "output_type": "stream",
     "text": [
      "Found 276 files belonging to 2 classes.\n",
      "Using 221 files for training.\n",
      "Found 276 files belonging to 2 classes.\n",
      "Using 55 files for validation.\n"
     ]
    }
   ],
   "source": [
    "train_dir = pathlib.Path(config.dataset.train_dir).with_suffix('') \n",
    "train_ds = tf.keras.utils.image_dataset_from_directory(\n",
    "    train_dir,\n",
    "    labels=\"inferred\",\n",
    "    color_mode=\"rgb\",\n",
    "    image_size=(224,224),\n",
    "    shuffle=True,\n",
    "    validation_split=0.2,\n",
    "    subset='training',\n",
    "    interpolation=\"bilinear\",\n",
    "    seed=123,\n",
    "    batch_size=config.dataset.batch_size)\n",
    "\n",
    "# Validation DataSet (10%)\n",
    "val_ds = tf.keras.utils.image_dataset_from_directory(\n",
    "    train_dir,\n",
    "    labels=\"inferred\",\n",
    "    color_mode=\"rgb\",\n",
    "    image_size=(224,224),\n",
    "    shuffle=True,\n",
    "    validation_split=0.2,\n",
    "    subset='validation',\n",
    "    interpolation=\"bilinear\",\n",
    "    seed=123,\n",
    "    batch_size=config.dataset.batch_size)"
   ]
  },
  {
   "cell_type": "markdown",
   "metadata": {},
   "source": [
    "### Callbacks"
   ]
  },
  {
   "cell_type": "code",
   "execution_count": 5,
   "metadata": {},
   "outputs": [],
   "source": [
    "early_stop_callback = tf.keras.callbacks.EarlyStopping(monitor=config.early_stop.monitor, \n",
    "                                                       min_delta=config.early_stop.min_delta,\n",
    "                                                       patience=config.early_stop.patience, \n",
    "                                                       restore_best_weights=config.early_stop.restore_best_weights,\n",
    "                                                       verbose=config.early_stop.verbose)\n",
    "\n",
    "reduce_lr_callback = tf.keras.callbacks.ReduceLROnPlateau(monitor=config.learning_rate_schedule.monitor,\n",
    "                                                          factor=config.learning_rate_schedule.factor,\n",
    "                                                          patience=config.learning_rate_schedule.patience,\n",
    "                                                          verbose=config.learning_rate_schedule.verbose,\n",
    "                                                          mode=config.learning_rate_schedule.mode,\n",
    "                                                          min_delta=config.learning_rate_schedule.min_delta,\n",
    "                                                          min_lr=config.learning_rate_schedule.min_lr)\n",
    "callbacks = [early_stop_callback, reduce_lr_callback]"
   ]
  },
  {
   "cell_type": "markdown",
   "metadata": {},
   "source": [
    "### Dependencies"
   ]
  },
  {
   "cell_type": "code",
   "execution_count": 6,
   "metadata": {},
   "outputs": [],
   "source": [
    "repo = ExperimentRepo(mode = mode, project=config.project.name)\n",
    "optimizer=tf.keras.optimizers.Adam\n",
    "metrics = ['accuracy', tf.keras.metrics.AUC(), tf.keras.metrics.Precision(), tf.keras.metrics.Recall()]"
   ]
  },
  {
   "cell_type": "markdown",
   "metadata": {},
   "source": [
    "## Build Model"
   ]
  },
  {
   "cell_type": "code",
   "execution_count": 7,
   "metadata": {},
   "outputs": [],
   "source": [
    "factory = ShainNetFactory(config=config.network)\n",
    "network = factory.create(base_model=DenseNet())\n"
   ]
  },
  {
   "cell_type": "markdown",
   "metadata": {},
   "source": [
    "## Run Experiment"
   ]
  },
  {
   "cell_type": "code",
   "execution_count": 8,
   "metadata": {},
   "outputs": [
    {
     "name": "stdout",
     "output_type": "stream",
     "text": [
      "# ================================================================================================ #\n",
      "                                         ShainNet_DenseNet                                          \n",
      "# ------------------------------------------------------------------------------------------------ #\n",
      "Model: \"model\"\n",
      "_________________________________________________________________\n",
      " Layer (type)                Output Shape              Param #   \n",
      "=================================================================\n",
      " ShainNet_DenseNet_input_lay  [(None, 224, 224, 3)]    0         \n",
      " er (InputLayer)                                                 \n",
      "                                                                 \n",
      " tf.math.truediv (TFOpLambda  (None, 224, 224, 3)      0         \n",
      " )                                                               \n",
      "                                                                 \n",
      " tf.nn.bias_add (TFOpLambda)  (None, 224, 224, 3)      0         \n",
      "                                                                 \n",
      " tf.math.truediv_1 (TFOpLamb  (None, 224, 224, 3)      0         \n",
      " da)                                                             \n",
      "                                                                 \n",
      " data_augmentation (Sequenti  (None, 224, 224, 3)      0         \n",
      " al)                                                             \n",
      "                                                                 \n",
      " densenet201 (Functional)    (None, None, None, 1920)  18321984  \n",
      "                                                                 \n",
      " ShainNet_DenseNet_global_av  (None, 1920)             0         \n",
      " erage_pooling (GlobalAverag                                     \n",
      " ePooling2D)                                                     \n",
      "                                                                 \n",
      " ShainNet_DenseNet_dense_1 (  (None, 1024)             1967104   \n",
      " Dense)                                                          \n",
      "                                                                 \n",
      " ShainNet_DenseNet_dropout_1  (None, 1024)             0         \n",
      "  (Dropout)                                                      \n",
      "                                                                 \n",
      " ShainNet_DenseNet_dense_2 (  (None, 1024)             1049600   \n",
      " Dense)                                                          \n",
      "                                                                 \n",
      " ShainNet_DenseNet_dropout_2  (None, 1024)             0         \n",
      "  (Dropout)                                                      \n",
      "                                                                 \n",
      " ShainNet_DenseNet_dense_3 (  (None, 512)              524800    \n",
      " Dense)                                                          \n",
      "                                                                 \n",
      " ShainNet_DenseNet_dense_4 (  (None, 128)              65664     \n",
      " Dense)                                                          \n",
      "                                                                 \n",
      " ShainNet_DenseNet_output_la  (None, 1)                129       \n",
      " yer (Dense)                                                     \n",
      "                                                                 \n",
      "=================================================================\n",
      "Total params: 21,929,281\n",
      "Trainable params: 3,607,297\n",
      "Non-trainable params: 18,321,984\n",
      "_________________________________________________________________\n",
      "# ------------------------------------------------------------------------------------------------ #\n",
      "\n",
      "\n",
      "                                           ShainNetConfig                                           \n",
      "                                        Activation | sigmoid\n",
      "                                      Output Shape | 1\n",
      "                                            Dense1 | 1024\n",
      "                                          Dropout1 | 0.5\n",
      "                                            Dense2 | 1024\n",
      "                                          Dropout2 | 0.3\n",
      "                                            Dense3 | 512\n",
      "                                            Dense4 | 128\n",
      "\n",
      "\n",
      "# ================================================================================================ #\n",
      "WARNING:FeatureExtractionExperiment:Experiment ShainNet_DenseNet already exists. Experiment aborted.\n"
     ]
    }
   ],
   "source": [
    "experiment = FeatureExtractionExperiment(network=network, config=config, optimizer=optimizer, repo=repo, callbacks=callbacks, metrics=metrics,notes=\"test\", tags=[\"ShainNet\", \"DenseNet\"], force=False)\n",
    "experiment.run(train_ds=train_ds, val_ds=val_ds)"
   ]
  },
  {
   "cell_type": "markdown",
   "metadata": {},
   "source": [
    "# Test Model Exists."
   ]
  },
  {
   "cell_type": "code",
   "execution_count": 9,
   "metadata": {},
   "outputs": [
    {
     "name": "stdout",
     "output_type": "stream",
     "text": [
      "# ================================================================================================ #\n",
      "                                         ShainNet_DenseNet                                          \n",
      "# ------------------------------------------------------------------------------------------------ #\n",
      "Model: \"model\"\n",
      "_________________________________________________________________\n",
      " Layer (type)                Output Shape              Param #   \n",
      "=================================================================\n",
      " ShainNet_DenseNet_input_lay  [(None, 224, 224, 3)]    0         \n",
      " er (InputLayer)                                                 \n",
      "                                                                 \n",
      " tf.math.truediv (TFOpLambda  (None, 224, 224, 3)      0         \n",
      " )                                                               \n",
      "                                                                 \n",
      " tf.nn.bias_add (TFOpLambda)  (None, 224, 224, 3)      0         \n",
      "                                                                 \n",
      " tf.math.truediv_1 (TFOpLamb  (None, 224, 224, 3)      0         \n",
      " da)                                                             \n",
      "                                                                 \n",
      " data_augmentation (Sequenti  (None, 224, 224, 3)      0         \n",
      " al)                                                             \n",
      "                                                                 \n",
      " densenet201 (Functional)    (None, None, None, 1920)  18321984  \n",
      "                                                                 \n",
      " ShainNet_DenseNet_global_av  (None, 1920)             0         \n",
      " erage_pooling (GlobalAverag                                     \n",
      " ePooling2D)                                                     \n",
      "                                                                 \n",
      " ShainNet_DenseNet_dense_1 (  (None, 1024)             1967104   \n",
      " Dense)                                                          \n",
      "                                                                 \n",
      " ShainNet_DenseNet_dropout_1  (None, 1024)             0         \n",
      "  (Dropout)                                                      \n",
      "                                                                 \n",
      " ShainNet_DenseNet_dense_2 (  (None, 1024)             1049600   \n",
      " Dense)                                                          \n",
      "                                                                 \n",
      " ShainNet_DenseNet_dropout_2  (None, 1024)             0         \n",
      "  (Dropout)                                                      \n",
      "                                                                 \n",
      " ShainNet_DenseNet_dense_3 (  (None, 512)              524800    \n",
      " Dense)                                                          \n",
      "                                                                 \n",
      " ShainNet_DenseNet_dense_4 (  (None, 128)              65664     \n",
      " Dense)                                                          \n",
      "                                                                 \n",
      " ShainNet_DenseNet_output_la  (None, 1)                129       \n",
      " yer (Dense)                                                     \n",
      "                                                                 \n",
      "=================================================================\n",
      "Total params: 21,929,281\n",
      "Trainable params: 3,607,297\n",
      "Non-trainable params: 18,321,984\n",
      "_________________________________________________________________\n",
      "# ------------------------------------------------------------------------------------------------ #\n",
      "\n",
      "\n",
      "                                           ShainNetConfig                                           \n",
      "                                        Activation | sigmoid\n",
      "                                      Output Shape | 1\n",
      "                                            Dense1 | 1024\n",
      "                                          Dropout1 | 0.5\n",
      "                                            Dense2 | 1024\n",
      "                                          Dropout2 | 0.3\n",
      "                                            Dense3 | 512\n",
      "                                            Dense4 | 128\n",
      "\n",
      "\n",
      "# ================================================================================================ #\n",
      "WARNING:FeatureExtractionExperiment:Experiment ShainNet_DenseNet already exists. Experiment aborted.\n"
     ]
    }
   ],
   "source": [
    "experiment.run(train_ds=train_ds, val_ds=val_ds)"
   ]
  }
 ],
 "metadata": {
  "kernelspec": {
   "display_name": "bcd",
   "language": "python",
   "name": "python3"
  },
  "language_info": {
   "codemirror_mode": {
    "name": "ipython",
    "version": 3
   },
   "file_extension": ".py",
   "mimetype": "text/x-python",
   "name": "python",
   "nbconvert_exporter": "python",
   "pygments_lexer": "ipython3",
   "version": "3.10.12"
  }
 },
 "nbformat": 4,
 "nbformat_minor": 2
}
