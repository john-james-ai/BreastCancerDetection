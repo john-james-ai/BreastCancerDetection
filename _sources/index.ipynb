{
 "cells": [
  {
   "cell_type": "markdown",
   "id": "57dad526",
   "metadata": {},
   "source": [
    "# Deep Learning for Breast Cancer Detection in Digital Mammography\n",
    "\n",
    "[![Jupyter Book Badge](https://jupyterbook.org/badge.svg)]()\n",
    "\n",
    "```{tableofcontents}\n",
    "\n",
    "```"
   ]
  }
 ],
 "metadata": {
  "jupytext": {
   "text_representation": {
    "extension": ".md",
    "format_name": "myst",
    "format_version": 0.13,
    "jupytext_version": "1.15.1"
   }
  },
  "kernelspec": {
   "display_name": "Python 3",
   "language": "python",
   "name": "python3"
  },
  "language_info": {
   "codemirror_mode": {
    "name": "ipython",
    "version": 3
   },
   "file_extension": ".py",
   "mimetype": "text/x-python",
   "name": "python",
   "nbconvert_exporter": "python",
   "pygments_lexer": "ipython3",
   "version": "3.10.12"
  },
  "source_map": [
   12
  ]
 },
 "nbformat": 4,
 "nbformat_minor": 5
}