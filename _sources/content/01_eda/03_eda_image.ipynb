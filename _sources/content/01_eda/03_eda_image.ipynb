{
 "cells": [
  {
   "cell_type": "markdown",
   "id": "24afa1e4",
   "metadata": {},
   "source": [
    "# Exploratory Data Analysis of Images\n",
    "\n",
    "Image quality factors such as resolution, the presence of noise and artifacts, contrast, and size affect the visual information contained in mammography, and crucially determine the performance of deep learning classification models.\n",
    "\n",
    "In this section, we conduct an exploratory data analysis of the CBIS-DDSM full mammogram imaging data to assess data quality and to characterize and parameterize image preprocessing tasks such as denoising, artifact and pectoral muscle removal, contrast enhancement, and data augmentation."
   ]
  },
  {
   "cell_type": "code",
   "execution_count": 1,
   "id": "4a68b19b",
   "metadata": {
    "tags": [
     "remove-input"
    ]
   },
   "outputs": [
    {
     "ename": "ModuleNotFoundError",
     "evalue": "No module named 'bcd.explore'",
     "output_type": "error",
     "traceback": [
      "\u001b[0;31m---------------------------------------------------------------------------\u001b[0m",
      "\u001b[0;31mModuleNotFoundError\u001b[0m                       Traceback (most recent call last)",
      "Cell \u001b[0;32mIn[1], line 7\u001b[0m\n\u001b[1;32m      5\u001b[0m \u001b[38;5;28;01mfrom\u001b[39;00m \u001b[38;5;21;01mmyst_nb\u001b[39;00m \u001b[38;5;28;01mimport\u001b[39;00m glue\n\u001b[1;32m      6\u001b[0m \u001b[38;5;28;01mimport\u001b[39;00m \u001b[38;5;21;01mwarnings\u001b[39;00m\n\u001b[0;32m----> 7\u001b[0m \u001b[38;5;28;01mfrom\u001b[39;00m \u001b[38;5;21;01mbcd\u001b[39;00m\u001b[38;5;21;01m.\u001b[39;00m\u001b[38;5;21;01mexplore\u001b[39;00m\u001b[38;5;21;01m.\u001b[39;00m\u001b[38;5;21;01mimage\u001b[39;00m\u001b[38;5;21;01m.\u001b[39;00m\u001b[38;5;21;01meda_image\u001b[39;00m \u001b[38;5;28;01mimport\u001b[39;00m ImageExplorer\n\u001b[1;32m      8\u001b[0m warnings\u001b[38;5;241m.\u001b[39mfilterwarnings(\u001b[38;5;124m\"\u001b[39m\u001b[38;5;124mignore\u001b[39m\u001b[38;5;124m\"\u001b[39m)\n",
      "\u001b[0;31mModuleNotFoundError\u001b[0m: No module named 'bcd.explore'"
     ]
    }
   ],
   "source": [
    "import os\n",
    "if 'jbook' in os.getcwd():\n",
    "    os.chdir(os.path.abspath(os.path.join(\"../../../..\")))\n",
    "\n",
    "from myst_nb import glue\n",
    "import warnings\n",
    "from bcd.explore.image.eda_image import ImageExplorer\n",
    "warnings.filterwarnings(\"ignore\")"
   ]
  },
  {
   "cell_type": "code",
   "execution_count": null,
   "id": "2427491a",
   "metadata": {
    "tags": [
     "remove-input",
     "remove-output"
    ]
   },
   "outputs": [],
   "source": [
    "x = ImageExplorer()\n",
    "ax = x.summary()\n",
    "glue(\"edai_summary\", ax)"
   ]
  },
  {
   "cell_type": "markdown",
   "id": "35071530",
   "metadata": {},
   "source": [
    "```{glue:figure} edai_summary\n",
    "---\n",
    "align: center\n",
    "name: edai_summary_fig\n",
    "---\n",
    "CBIS-DDSM Dataset Summary\n",
    "```"
   ]
  }
 ],
 "metadata": {
  "jupytext": {
   "text_representation": {
    "extension": ".md",
    "format_name": "myst",
    "format_version": 0.13,
    "jupytext_version": "1.15.1"
   }
  },
  "kernelspec": {
   "display_name": "bcd",
   "language": "python",
   "name": "python3"
  },
  "language_info": {
   "codemirror_mode": {
    "name": "ipython",
    "version": 3
   },
   "file_extension": ".py",
   "mimetype": "text/x-python",
   "name": "python",
   "nbconvert_exporter": "python",
   "pygments_lexer": "ipython3",
   "version": "3.10.12"
  },
  "source_map": [
   12,
   20,
   33,
   38
  ]
 },
 "nbformat": 4,
 "nbformat_minor": 5
}