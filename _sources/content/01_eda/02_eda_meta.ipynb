{
 "cells": [
  {
   "cell_type": "markdown",
   "id": "f09ae436",
   "metadata": {
    "tags": [
     "hide-input"
    ]
   },
   "source": [
    "# Exploratory Data Analysis (EDA) 1.0 - Metadata\n",
    "\n",
    "In this section, we conduct an exploratory data analysis of the CBIS-DDSM Case and DICOM datasets prepared in prior sections. The purpose of this EDA is three-fold:\n",
    "\n",
    "1. Discover the relationships among the features\n",
    "2. Explore the nature of the relationships between the features and the diagnostic target.\n",
    "3. Identify features that have the greatest influence classification accuracy.\n",
    "\n",
    "## The Dataset\n",
    "\n",
    "In this section, we will be analyzing the Case Dataset: calcification and mass datasets containing patient, abnormality, BI-RADS assessment, image image_view, breast density, subtlety, and pathology (diagnosis) information. The dataset dictionary is outlined in {numref}`eda1_case_dataset`.\n",
    "\n",
    "```{table} Case Dataset Dictionary\n",
    ":name: eda1_case_dataset\n",
    "\n",
    "| #  | Variable             | Type        | Description                                                                                                                  |\n",
    "|----|----------------------|-------------|------------------------------------------------------------------------------------------------------------------------------|\n",
    "| 1  | patient_id           | Nominal     | Unique identifier for each patient.                                                                                          |\n",
    "| 2  | breast_density       | Discrete    | BI-RADS overall assessment of the volume of attenuating tissues in the breast.                                             |\n",
    "| 3  | left_or_right_breast | Nominal     | Which breast was imaged.                                                                                                     |\n",
    "| 4  | image_view           | Dichotomous | Either cranialcaudal or mediolateral oblique image_view.                                                                            |\n",
    "| 5  | abnormality_id       | Discrete    | Number of abnormalities for the patient.                                                                                       |\n",
    "| 6  | abnormality_type     | Dichotomous | BI-RADS category of the abnormality.                                                                                         |\n",
    "| 7  | calc_type            | Nominal     | Characterization of the type of calcification (where applicable)                                                             |\n",
    "| 8  | calc_distribution    | Nominal     | The arrangement of the calcifications inside the breast and, relative to the probability of malignancy. (where applicable) |\n",
    "| 9  | mass_shape           | Nominal     | Shape of the mass                                                                                                            |\n",
    "| 10 | mass_margins         | Nominal     | Feature that separates the mass from the adjacent breast parenchyma.                                                         |\n",
    "| 11 | assessment           | Discrete    | Overall BI-RADS assessment of the mammography                                                                                |\n",
    "| 12 | pathology            | Nominal     | Determination of the malignancy of the case.                                                                                 |\n",
    "| 13 | subtlety             | Discrete    | Degree of diagnostic difficulty                                                                                              |\n",
    "| 14 | fileset              | Nominal     | Indicates training or test set.                                                                                              |\n",
    "| 15 | case_id              | Nominal     | Unique identifier for the case.                                                                                              |\n",
    "| 16 | cancer               | Dichotomous | Indicates whether the cancer is diagnosed.                                                                                   |\n",
    "```\n",
    "\n",
    "## Guiding Questions\n",
    "\n",
    "```{tip}\n",
    "“Far better an approximate answer to the right question, which is often vague, than an exact answer to the wrong question, which can always be made precise.” — John Tukey\n",
    "```\n",
    "\n",
    "Here, we'll put forward a set of questions to motivate and guide the discovery process.\n",
    "\n",
    "1. What are the relationships between calcification and mass morphological features and malignancy?\n",
    "2. To what degree does breast density relate to abnormality types and malignancy?\n",
    "3. Are certain abnormalities more or less subtle?\n",
    "4. What are the relative features of importance concerning screening?\n",
    "\n",
    "## Exploratory Data Analysis Plan\n",
    "\n",
    "The EDA will be conducted in three primary stages:\n",
    "\n",
    "1. **Univariate**: Examination of the variables independently\n",
    "2. **Bivariate**: Evaluate the relations among the features and between the features and the target.\n",
    "3. **Multivariate**: Discover feature importance w.r.t. screening and diagnosis."
   ]
  },
  {
   "cell_type": "code",
   "execution_count": 1,
   "id": "b55cbd7d",
   "metadata": {
    "tags": [
     "remove-cell",
     "hide-input"
    ]
   },
   "outputs": [],
   "source": [
    "import sys\n",
    "import os\n",
    "if 'jbook' in os.getcwd():\n",
    "    os.chdir(os.path.abspath(os.path.join(\"../../../..\")))\n",
    "import warnings\n",
    "warnings.filterwarnings(\"ignore\")"
   ]
  },
  {
   "cell_type": "code",
   "execution_count": 2,
   "id": "f94ff330",
   "metadata": {
    "tags": [
     "hide-input"
    ]
   },
   "outputs": [
    {
     "ename": "ModuleNotFoundError",
     "evalue": "No module named 'bcd.explore'",
     "output_type": "error",
     "traceback": [
      "\u001b[0;31m---------------------------------------------------------------------------\u001b[0m",
      "\u001b[0;31mModuleNotFoundError\u001b[0m                       Traceback (most recent call last)",
      "Cell \u001b[0;32mIn[2], line 12\u001b[0m\n\u001b[1;32m      9\u001b[0m \u001b[38;5;28;01mfrom\u001b[39;00m \u001b[38;5;21;01msklearn\u001b[39;00m\u001b[38;5;21;01m.\u001b[39;00m\u001b[38;5;21;01mlinear_model\u001b[39;00m \u001b[38;5;28;01mimport\u001b[39;00m LogisticRegression\n\u001b[1;32m     10\u001b[0m \u001b[38;5;28;01mfrom\u001b[39;00m \u001b[38;5;21;01msklearn\u001b[39;00m\u001b[38;5;21;01m.\u001b[39;00m\u001b[38;5;21;01mensemble\u001b[39;00m \u001b[38;5;28;01mimport\u001b[39;00m RandomForestClassifier\n\u001b[0;32m---> 12\u001b[0m \u001b[38;5;28;01mfrom\u001b[39;00m \u001b[38;5;21;01mbcd\u001b[39;00m\u001b[38;5;21;01m.\u001b[39;00m\u001b[38;5;21;01mexplore\u001b[39;00m\u001b[38;5;21;01m.\u001b[39;00m\u001b[38;5;21;01mmeta\u001b[39;00m\u001b[38;5;21;01m.\u001b[39;00m\u001b[38;5;21;01mcase\u001b[39;00m \u001b[38;5;28;01mimport\u001b[39;00m CaseExplorer\n\u001b[1;32m     13\u001b[0m \u001b[38;5;28;01mfrom\u001b[39;00m \u001b[38;5;21;01mbcd\u001b[39;00m\u001b[38;5;21;01m.\u001b[39;00m\u001b[38;5;21;01mexplore\u001b[39;00m\u001b[38;5;21;01m.\u001b[39;00m\u001b[38;5;21;01mmeta\u001b[39;00m\u001b[38;5;21;01m.\u001b[39;00m\u001b[38;5;21;01mmultivariate\u001b[39;00m\u001b[38;5;21;01m.\u001b[39;00m\u001b[38;5;21;01mpipeline\u001b[39;00m \u001b[38;5;28;01mimport\u001b[39;00m PipelineBuilder\n\u001b[1;32m     14\u001b[0m \u001b[38;5;28;01mfrom\u001b[39;00m \u001b[38;5;21;01mbcd\u001b[39;00m\u001b[38;5;21;01m.\u001b[39;00m\u001b[38;5;21;01mexplore\u001b[39;00m\u001b[38;5;21;01m.\u001b[39;00m\u001b[38;5;21;01mmeta\u001b[39;00m\u001b[38;5;21;01m.\u001b[39;00m\u001b[38;5;21;01mmultivariate\u001b[39;00m\u001b[38;5;21;01m.\u001b[39;00m\u001b[38;5;21;01mselection\u001b[39;00m \u001b[38;5;28;01mimport\u001b[39;00m ModelSelector\n",
      "\u001b[0;31mModuleNotFoundError\u001b[0m: No module named 'bcd.explore'"
     ]
    }
   ],
   "source": [
    "import pandas as pd\n",
    "from scipy import stats\n",
    "import pickle\n",
    "import numpy as np\n",
    "import matplotlib.pyplot as plt\n",
    "import seaborn as sns\n",
    "import seaborn.objects as so\n",
    "from sklearn.svm import SVC\n",
    "from sklearn.linear_model import LogisticRegression\n",
    "from sklearn.ensemble import RandomForestClassifier\n",
    "\n",
    "from bcd.explore.meta.case import CaseExplorer\n",
    "from bcd.explore.meta.multivariate.pipeline import PipelineBuilder\n",
    "from bcd.explore.meta.multivariate.selection import ModelSelector\n",
    "\n",
    "pd.options.display.max_rows = 999\n",
    "pd.options.display.max_columns = 999\n",
    "sns.set_style('whitegrid')\n",
    "sns.set_palette(\"Blues_r\")"
   ]
  },
  {
   "cell_type": "code",
   "execution_count": null,
   "id": "0aa9d61e",
   "metadata": {
    "tags": [
     "remove-cell",
     "hide-input"
    ]
   },
   "outputs": [],
   "source": [
    "CASE_FP = \"data/meta/3_cooked/cases.csv\""
   ]
  },
  {
   "cell_type": "code",
   "execution_count": null,
   "id": "a4d5f088",
   "metadata": {
    "tags": [
     "hide-input"
    ]
   },
   "outputs": [],
   "source": [
    "cases = CaseExplorer(filepath=CASE_FP)\n",
    "calc = CaseExplorer(df=cases.get_calc_data())\n",
    "mass = CaseExplorer(df=cases.get_mass_data())"
   ]
  },
  {
   "cell_type": "markdown",
   "id": "3b9ee483",
   "metadata": {
    "tags": [
     "hide-input"
    ]
   },
   "source": [
    "## Univariate Analysis\n",
    "\n",
    "Let's get an overall sense of the data."
   ]
  },
  {
   "cell_type": "code",
   "execution_count": null,
   "id": "2190c9e7",
   "metadata": {
    "tags": [
     "remove-output"
    ]
   },
   "outputs": [],
   "source": [
    "summary = cases.summary()\n",
    "glue(\"eda1_summary\", summary)"
   ]
  },
  {
   "cell_type": "markdown",
   "id": "591fe623",
   "metadata": {},
   "source": [
    "```{glue:figure} eda1_summary\n",
    "---\n",
    "align: center\n",
    "name: eda1_summary_df\n",
    "---\n",
    "CBIS-DDSM Dataset Summary\n",
    "```"
   ]
  },
  {
   "cell_type": "code",
   "execution_count": null,
   "id": "b546107b",
   "metadata": {
    "tags": [
     "hide-input"
    ]
   },
   "outputs": [],
   "source": [
    "st = summary.T\n",
    "pct_calc = round(st['Calcification Cases'] / st['Cases'] * 100,2).values[0]\n",
    "pct_mass = round(st['Mass Cases'] / st['Cases'] * 100,2).values[0]\n",
    "pct_calc_mal = round(st['Calcification Cases - Malignant'] / st['Calcification Cases'] * 100,2).values[0]\n",
    "pct_calc_bn = round(st['Calcification Cases - Benign'] / st['Calcification Cases'] * 100,2).values[0]\n",
    "pct_mass_mal = round(st['Mass Cases - Malignant'] / st['Mass Cases'] * 100,2).values[0]\n",
    "pct_mass_bn = round(st['Mass Cases - Benign'] / st['Mass Cases'] * 100,2).values[0]\n",
    "cases_per_patient = round(st['Cases'] / st['Patients'],2).values[0]\n",
    "\n",
    "glue(\"pct_calc\", pct_calc)\n",
    "glue(\"pct_mass\", pct_mass)\n",
    "glue(\"pct_calc_mal\", pct_calc_mal)\n",
    "glue(\"pct_calc_bn\", pct_calc_bn)\n",
    "glue(\"pct_mass_mal\", pct_mass_mal)\n",
    "glue(\"pct_mass_bn\", pct_mass_bn)\n",
    "glue(\"cases_per_patient\", cases_per_patient)"
   ]
  },
  {
   "cell_type": "markdown",
   "id": "5965d3c6",
   "metadata": {},
   "source": [
    "From {numref}`eda1_summary_df`, several observations can be made:\n",
    "\n",
    "1. We have 3566 cases, {glue:}`pct_calc`% are calcification cases and {glue:}`pct_mass`% are mass cases.\n",
    "2. Of the calcification cases, {glue:}`pct_calc_bn`% are benign and {glue:}`pct_calc_mal`% are malignant.\n",
    "3. Of the mass cases, {glue:}`pct_mass_bn`% are benign and {glue:}`pct_mass_mal`% are malignant.\n",
    "4. On average, we have approximately {glue:}`cases_per_patient` cases per patient.\n",
    "\n",
    "Case, as defined in {cite}`leeCuratedMammographyData2017`, indicates a particular abnormality, seen on the craniocaudal (CC) and/or mediolateral oblique (MLO) views."
   ]
  },
  {
   "cell_type": "markdown",
   "id": "d0045702",
   "metadata": {},
   "source": [
    "Let's take a look at the calcification and mass data."
   ]
  },
  {
   "cell_type": "code",
   "execution_count": null,
   "id": "8d7c41ef",
   "metadata": {
    "tags": [
     "hide-input"
    ]
   },
   "outputs": [],
   "source": [
    "cases.get_calc_data().sample(5)\n",
    "cases.get_mass_data().sample(5)"
   ]
  },
  {
   "cell_type": "markdown",
   "id": "c30bdfbe",
   "metadata": {},
   "source": [
    "Our univariate analysis will cover:\n",
    "\n",
    "- Breast Density\n",
    "- Left or Right Breast\n",
    "- Image View\n",
    "- Abnormality Id\n",
    "- Abnormality Type\n",
    "- Subtlety\n",
    "- BI-RADS Assessment\n",
    "- Calcification Type\n",
    "- Calcification Distribution\n",
    "- Mass Shape\n",
    "- Mass Margins\n",
    "- Pathology\n",
    "- Cancer (Target)"
   ]
  },
  {
   "cell_type": "markdown",
   "id": "61eb7ab2",
   "metadata": {},
   "source": [
    "### Breast Density\n",
    "\n",
    "Radiologists classify breast density using a 4-level density scale {cite}`americancollegeofradiologyACRBIRADSAtlas2013`:\n",
    "\n",
    "1. Almost entirely fatty\n",
    "2. Scattered areas of fibroglandular density\n",
    "3. Heterogeneously dense\n",
    "4. Extremely dense\n",
    "\n",
    "Note: the corresponding BI-RADS breast density categories are a, b, c, and d (not 1,2,3, and 4 as listed above) so as not to be confused with the BI-RADS assessment categories. Notwithstanding, CBIS-DDSM data encodes these values as ordinal numeric variables.   The following chart illustrates the distribution of BI-RADS breast density categories within the CBIS-DDSM."
   ]
  },
  {
   "cell_type": "code",
   "execution_count": null,
   "id": "1c1d3042",
   "metadata": {
    "tags": [
     "remove-output",
     "hide-input"
    ]
   },
   "outputs": [],
   "source": [
    "fig, ax = plt.subplots(figsize=(12,4))\n",
    "ax = cases.plot.countplot(x='breast_density', ax=ax, title =\"Distribution of Breast Density in CBIS-DDSM\", plot_counts=True)\n",
    "glue(\"eda1_univariate_breast_density\", ax)"
   ]
  },
  {
   "cell_type": "markdown",
   "id": "70e2d4cc",
   "metadata": {},
   "source": [
    "```{glue:figure} eda1_univariate_breast_density\n",
    "---\n",
    "align: center\n",
    "name: eda1_univariate_breast_density_fig\n",
    "---\n",
    "Breast Density Distribution in the CBIS-DDSM dataset.\n",
    "```"
   ]
  },
  {
   "cell_type": "markdown",
   "id": "8431e65a",
   "metadata": {},
   "source": [
    "### Left or Right Side"
   ]
  },
  {
   "cell_type": "code",
   "execution_count": null,
   "id": "d159c079",
   "metadata": {
    "tags": [
     "remove-output",
     "hide-input"
    ]
   },
   "outputs": [],
   "source": [
    "fig, ax = plt.subplots(figsize=(12,4))\n",
    "ax = cases.plot.countplot(x='left_or_right_breast', ax=ax, title =\"Distribution of Left/Right Breasts in CBIS-DDSM\", plot_counts=True)\n",
    "glue(\"eda1_univariate_breast_density\", ax)"
   ]
  },
  {
   "cell_type": "markdown",
   "id": "537bfe75",
   "metadata": {},
   "source": [
    "```{glue:figure} eda1_univariate_breast_density\n",
    "---\n",
    "align: center\n",
    "name: eda1_univariate_breast_density_fig\n",
    "---\n",
    "Breast Density Distribution in the CBIS-DDSM dataset.\n",
    "```\n",
    "\n",
    "The dataset is approximately balanced with respect to left or right breast images."
   ]
  },
  {
   "cell_type": "markdown",
   "id": "b89c3cff",
   "metadata": {},
   "source": [
    "### Image View\n",
    "\n",
    "CBIS-DDSM contains digital mammography images in two different image_views: cranial-caudal (CC) and mediolateral oblique (MLO). The CC image_view is taken from above the breast, and best visualizes the subarcolar, central, medial, and posteromedial aspects of the breast. The MLO projection (side-image_view) images the breast in its entirety and best visualizes the posterior and upper-outer quadrants of the breast {cite}`lilleMammographicImagingPractical2019`."
   ]
  },
  {
   "cell_type": "code",
   "execution_count": null,
   "id": "5689e8e4",
   "metadata": {
    "tags": [
     "remove-output",
     "hide-input"
    ]
   },
   "outputs": [],
   "source": [
    "fig, ax = plt.subplots(figsize=(12,4))\n",
    "ax = cases.plot.countplot(x='image_view', ax=ax, title =\"Distribution of Image View in CBIS-DDSM\", plot_counts=True)\n",
    "glue(\"eda1_univariate_view\", ax)"
   ]
  },
  {
   "cell_type": "markdown",
   "id": "a5331eb9",
   "metadata": {},
   "source": [
    "```{glue:figure} eda1_univariate_view\n",
    "---\n",
    "align: center\n",
    "name: eda1_univariate_view_fig\n",
    "---\n",
    "CBIS-DDSM Image Views\n",
    "```\n",
    "\n",
    "The proportions of CC and MLO image_views are approximately 47% and 53% respectively."
   ]
  },
  {
   "cell_type": "markdown",
   "id": "558d316d",
   "metadata": {},
   "source": [
    "### Abnormality Id\n",
    "\n",
    "The abnormality id is a sequence number assigned to each abnormality for a patient."
   ]
  },
  {
   "cell_type": "code",
   "execution_count": null,
   "id": "55adc5b0",
   "metadata": {
    "tags": [
     "remove-output",
     "hide-input"
    ]
   },
   "outputs": [],
   "source": [
    "fig, ax = plt.subplots(figsize=(12,4))\n",
    "ax = cases.plot.countplot(x='abnormality_id', ax=ax, title =\"Distribution of Abnormality Counts per Patient in CBIS-DDSM\", plot_counts=True)\n",
    "glue(\"eda1_univariate_ab_id\", ax)"
   ]
  },
  {
   "cell_type": "markdown",
   "id": "e30c04f4",
   "metadata": {},
   "source": [
    "```{glue:figure} eda1_univariate_ab_id\n",
    "---\n",
    "align: center\n",
    "name: eda1_univariate_ab_id_fig\n",
    "---\n",
    "Distribution of Abnormality Counts per Patient in CBIS-DDSM\n",
    "```\n",
    "\n",
    "The vast majority of patients present with a single abnormality; although, a considerable number have two or more."
   ]
  },
  {
   "cell_type": "markdown",
   "id": "cb62beb8",
   "metadata": {},
   "source": [
    "### Abnormality Type\n",
    "\n",
    "CBIS-DDSM contains two abnormality types: calcification and mass.\n",
    "\n",
    "Calcifications, common on mammograms, especially after age 50, are calcium deposits within the breast tissue. Typically benign, calcifications show up as either macrocalcifications or microcalcifications. Macrocalcifications appear as large white dots or dashes which are almost always noncancerous, requiring no further testing or follow-up. Microcalcifications show up as fine, white specks, similar to grains of salt. Usually noncancerous, but certain patterns can be an early sign of cancer.\n",
    "\n",
    "Masses are also common, particularly among women of reproductive age. For the 25% of women affected by breast disease in their lifetime, the vast majority will present initially with a new breast mass in the primary care setting. Breast masses have a wide range of causes, from physiological adenosis to highly aggressive malignancy.\n",
    "\n",
    "As shown below, the dataset contains a balance of calcification and mass cases."
   ]
  },
  {
   "cell_type": "code",
   "execution_count": null,
   "id": "771773ed",
   "metadata": {
    "tags": [
     "remove-output",
     "hide-input"
    ]
   },
   "outputs": [],
   "source": [
    "fig, ax = plt.subplots(figsize=(12,4))\n",
    "ax = cases.plot.countplot(x='abnormality_type', ax=ax, title =\"Distribution of Abnormality Types in CBIS-DDSM\", plot_counts=True)\n",
    "glue(\"eda1_univariate_ab_type\", ax)"
   ]
  },
  {
   "cell_type": "markdown",
   "id": "f9a840b4",
   "metadata": {},
   "source": [
    "```{glue:figure} eda1_univariate_ab_type\n",
    "---\n",
    "align: center\n",
    "name: eda1_univariate_ab_type_fig\n",
    "---\n",
    "Distribution of Abnormality Types in CBIS-DDSM\n",
    "```"
   ]
  },
  {
   "cell_type": "markdown",
   "id": "aeca8430",
   "metadata": {},
   "source": [
    "### Subtlety\n",
    "\n",
    "Subtlety is a measure of the degree to which a particular case is difficult to diagnose. Values range from 1 (highly subtle) to 5 (obvious)."
   ]
  },
  {
   "cell_type": "code",
   "execution_count": null,
   "id": "5b063253",
   "metadata": {
    "tags": [
     "remove-output",
     "hide-input"
    ]
   },
   "outputs": [],
   "source": [
    "fig, ax = plt.subplots(figsize=(12,4))\n",
    "ax = cases.plot.countplot(x='subtlety', ax=ax, title =\"Distribution of Subtlety in CBIS-DDSM\", plot_counts=True)\n",
    "glue(\"eda1_univariate_subtlety\", ax)"
   ]
  },
  {
   "cell_type": "markdown",
   "id": "688ef1e0",
   "metadata": {},
   "source": [
    "```{glue:figure} eda1_univariate_subtlety\n",
    "---\n",
    "align: center\n",
    "name: eda1_univariate_subtlety_fig\n",
    "---\n",
    "Distribution of Subtlety in CBIS-DDSM\n",
    "```\n",
    "\n",
    "Approximately 17% of the cases are highly subtle (1,2). A plurality of cases are moderately to slightly subtle and nearly a 1/3rd of the cases are considered obvious."
   ]
  },
  {
   "cell_type": "markdown",
   "id": "29aa1b46",
   "metadata": {},
   "source": [
    "### BI-RADS Assessment\n",
    "\n",
    "A BI-RADS assessment is based upon a thorough evaluation of the mammographic features of concern and has the following six categories {cite}`americancollegeofradiologyACRBIRADSAtlas2013`:\n",
    "\n",
    "```{table} BI-RADS Assessment\n",
    ":name: eda1_univariate_birads\n",
    "| Category | Definition                                                                                                                                                         |\n",
    "|----------|--------------------------------------------------------------------------------------------------------------------------------------------------------------------|\n",
    "| 0        | Means the findings are unclear. The radiologist will need more images to determine a score                                                                       |\n",
    "| 1        | Means the findings are negative and the breast tissue appears normal. No masses, calcifications, asymmetry, or other abnormalities have been found.             |\n",
    "| 2        | Means the findings are benign, which is also negative for cancer. While a   mass, calcification, or other abnormality may have been detected, it’s not cancerous. |\n",
    "| 3        | Means the findings are probably benign. While a mass, calcification, or other abnormality may have been found, it’s most likely not cancerous.                    |\n",
    "| 4        | Means cancer is suspected. Four subcategories relate the probability of a malignancy: 4A (2-10%) 4B (10-50%) 4C (50-95%)                       |\n",
    "| 5        | Means cancer is highly suspected. Findings have a 95% chance or higher of being cancerous.                                                                       |\n",
    "| 6        | Cancer was previously diagnosed using a biopsy.\n",
    "                                                                                                                  |\n",
    "```"
   ]
  },
  {
   "cell_type": "code",
   "execution_count": null,
   "id": "ebd87a3d",
   "metadata": {
    "tags": [
     "remove-output",
     "hide-input"
    ]
   },
   "outputs": [],
   "source": [
    "fig, ax = plt.subplots(figsize=(12,4))\n",
    "ax = cases.plot.countplot(x='assessment', ax=ax, title =\"Distribution of BI-RADS Assessment in CBIS-DDSM\", plot_counts=True)\n",
    "glue(\"eda1_univariate_birads_plot\", ax)"
   ]
  },
  {
   "cell_type": "markdown",
   "id": "4bfd1067",
   "metadata": {},
   "source": [
    "```{glue:figure} eda1_univariate_birads_plot\n",
    "---\n",
    "align: center\n",
    "name: eda1_univariate_birads_plot_fig\n",
    "---\n",
    "Distribution of BI-RADS Assessment in CBIS-DDSM\n",
    "```"
   ]
  },
  {
   "cell_type": "markdown",
   "id": "f09d8d10",
   "metadata": {},
   "source": [
    "### Calcification Type\n",
    "\n",
    "Calcification type describes the morphology of a case and is the most important factor in the differentiation between benign and malignant cases. There are over 40 different categories of calc_type in the dataset; and, the some of the main categories are {cite}`americancollegeofradiologyACRBIRADSAtlas2013`:\n",
    "\n",
    "```{table} BI-RADS Assessment\n",
    ":name: eda1_univariate_calc_type\n",
    "| #  | Morphology            |                                                                                                                | Assessment     |\n",
    "|----|-----------------------|----------------------------------------------------------------------------------------------------------------|----------------|\n",
    "| 1  | Amorphous             | Indistinct calcifications, without clearly defined shape, small and/or   hazy in appearance                    | BI-RADS 4B     |\n",
    "| 2  | Coarse Heterogeneous  | Irregular, conspicuous calcifications, typically larger than 0.5 mm.                                           | BI-RADS 3      |\n",
    "| 3  | Dystrophic            | Irregular, 'lava-shaped', larger than 0.5 mm, which develop 3-5 years   after treatment in about 30% of women. | BI-RADS 1 or 2 |\n",
    "| 4  | Eggshell              | Very thin benign calcifications that appear as calcium                                                         | BI-RADS 1 or 2 |\n",
    "| 5  | Fine Linear Branching | Thin linear or curvilinear irregular.                                                                          | BI-RADS 4B     |\n",
    "| 6  | Large Rod-like        | Benign calcifications that form continuous rods that may occassionally be   branching.                         | BI-RADS 1 or 2 |\n",
    "| 7  | Lucent-Centered       | Round or oval calcifications, typically result of fat necrosis, or   calcified debris in ducts                 | BI-RADS 1 or 2 |\n",
    "| 8  | Milk of Calcium       | Benign sedimented calcifications in macro or microcysts.                                                       | BI-RADS 1 or 2 |\n",
    "| 9  | Pleomorphic           | Calcifications varying in size and shape, more conspicuous than amorphic   calcifications.                     | BI-RADS 4B     |\n",
    "| 10 | Punctate              | Round calcifications 0.5-1 mm in size.                                                                         | BI-RADS 2,3,4  |\n",
    "| 11 | Skin                  | Skin calcifications, usually lucent-centered deposits                                                          | BI-RADS 1 or 2 |\n",
    "| 12 | Vascular              | Linear or form parallel tracks, usually associated with blood vessels.                                         | BI-RADS 1 or 2 |\n",
    "```"
   ]
  },
  {
   "cell_type": "code",
   "execution_count": null,
   "id": "d5a900ff",
   "metadata": {
    "tags": [
     "remove-output",
     "hide-input"
    ]
   },
   "outputs": [],
   "source": [
    "fig, ax = plt.subplots(figsize=(12,10))\n",
    "ax = calc.plot.countplot(y='calc_type', ax=ax, title =\"Distribution of Calcification Types in CBIS-DDSM\", plot_counts=True, order_by_count=True)\n",
    "glue(\"eda1_univariate_calc_type\", ax)"
   ]
  },
  {
   "cell_type": "markdown",
   "id": "bbe972c0",
   "metadata": {},
   "source": [
    "```{glue:figure} eda1_univariate_calc_type\n",
    "---\n",
    "align: center\n",
    "name: eda1_univariate_calc_type_fig\n",
    "---\n",
    "Distribution of Calcification Types in CBIS-DDSM\n",
    "```\n",
    "\n",
    "Pleomorphic and amorphous calcifications account for over half of the calcification cases in the dataset. Nearly 75% of the calcification cases are represented by five types."
   ]
  },
  {
   "cell_type": "markdown",
   "id": "9ea562ad",
   "metadata": {},
   "source": [
    "### Calcification Distribution\n",
    "\n",
    "Calcification distribution refers to the arrangement of the calcifications inside the breast. BI-RADS describes the following categories of calcification distribution {cite}`americancollegeofradiologyACRBIRADSAtlas2013`:\n",
    "\n",
    "1. Diffuse or Scattered: Calcifications throughout the whole breast.\n",
    "2. Regional: Scattered in a larger volume (> 2 cc) of breast tissue and not in the expected ductal distribution.\n",
    "3. Clustered: Groups of at least 5 calcifications in a small volume of tissue\n",
    "4. Segmental: Calcium deposits appear in ducts or branches of a segment or lobe."
   ]
  },
  {
   "cell_type": "code",
   "execution_count": null,
   "id": "a9417cab",
   "metadata": {
    "tags": [
     "remove-output",
     "hide-input"
    ]
   },
   "outputs": [],
   "source": [
    "fig, ax = plt.subplots(figsize=(12,6))\n",
    "ax = calc.plot.countplot(y='calc_distribution', ax=ax, title =\"Distribution of Calcification Distributions in CBIS-DDSM\", plot_counts=True, order_by_count=True)\n",
    "glue(\"eda1_univariate_calc_dist\", ax)"
   ]
  },
  {
   "cell_type": "markdown",
   "id": "e1b3f681",
   "metadata": {},
   "source": [
    "```{glue:figure} eda1_univariate_calc_dist\n",
    "---\n",
    "align: center\n",
    "name: eda1_univariate_calc_dist_fig\n",
    "---\n",
    "Distribution of Calcification Distributions in CBIS-DDSM\n",
    "```\n",
    "\n",
    "Over 80% of the calfication cases have either clustered or segmental distributions."
   ]
  },
  {
   "cell_type": "markdown",
   "id": "b214f951",
   "metadata": {},
   "source": [
    "### Mass Shape\n",
    "\n",
    "The BI-RADS lexicon defines three mass shapes {cite}`americancollegeofradiologyACRBIRADSAtlas2013`:\n",
    "1. Round\n",
    "2. Oval\n",
    "3. Irregular\n",
    "\n",
    "The CBIS-DDSM; however, includes additional categories that further describe the mass shape, symmetry, and architecture."
   ]
  },
  {
   "cell_type": "code",
   "execution_count": null,
   "id": "2030ea6d",
   "metadata": {
    "tags": [
     "remove-output",
     "hide-input"
    ]
   },
   "outputs": [],
   "source": [
    "fig, ax = plt.subplots(figsize=(12,6))\n",
    "ax = mass.plot.countplot(y='mass_shape', ax=ax, title =\"Distribution of Mass Shapes in CBIS-DDSM\", plot_counts=True, order_by_count=True)\n",
    "glue(\"eda1_univariate_mass_shape\", ax)"
   ]
  },
  {
   "cell_type": "markdown",
   "id": "244a5bc4",
   "metadata": {},
   "source": [
    "```{glue:figure} eda1_univariate_mass_shape\n",
    "---\n",
    "align: center\n",
    "name: eda1_univariate_mass_shape_fig\n",
    "---\n",
    "Distribution of Mass Shapes in CBIS-DDSM\n",
    "```"
   ]
  },
  {
   "cell_type": "markdown",
   "id": "56ef4ac9",
   "metadata": {},
   "source": [
    "### Mass Margins\n",
    "\n",
    "Mass margins are features that separate the mass from the adjacent breast parenchyma. Mass margins can be {cite}`americancollegeofradiologyACRBIRADSAtlas2013`:\n",
    "\n",
    "1. Circumscribed: Low probability of malignancy.\n",
    "2. Obscured: Undetermined likelihood of malignancy.\n",
    "3. Spiculated: Higher likelihood of malignancy.\n",
    "4. Microlobulated: Suspicious for breast carcinoma:\n",
    "5. Ill-Defined: Also called 'indistinct'. Generally suspicious of malignancy."
   ]
  },
  {
   "cell_type": "code",
   "execution_count": null,
   "id": "79d78446",
   "metadata": {
    "tags": [
     "remove-output",
     "hide-input"
    ]
   },
   "outputs": [],
   "source": [
    "fig, ax = plt.subplots(figsize=(12,6))\n",
    "ax = mass.plot.countplot(y='mass_margins', ax=ax, title =\"Distribution of Mass Margins in CBIS-DDSM\", plot_counts=True, order_by_count=True)\n",
    "glue(\"eda1_univariate_mass_margins\", ax)"
   ]
  },
  {
   "cell_type": "markdown",
   "id": "b76ba771",
   "metadata": {},
   "source": [
    "```{glue:figure} eda1_univariate_mass_margins\n",
    "---\n",
    "align: center\n",
    "name: eda1_univariate_mass_margins_fig\n",
    "---\n",
    "Distribution of Mass Margins in CBIS-DDSM\n",
    "```\n",
    "\n",
    "Spiculated, circumscribed and ill-defined make up nearly 70% of the mass abnormalities."
   ]
  },
  {
   "cell_type": "markdown",
   "id": "15726904",
   "metadata": {},
   "source": [
    "### Pathology\n",
    "\n",
    "The dataset distinguishes three outcomes: malignant, benign, and benign without callback. The latter indicates that the region may be suspicious, and should be monitored, but no further investigation is required."
   ]
  },
  {
   "cell_type": "code",
   "execution_count": null,
   "id": "88173140",
   "metadata": {
    "tags": [
     "remove-output",
     "hide-input"
    ]
   },
   "outputs": [],
   "source": [
    "fig, ax = plt.subplots(figsize=(12,4))\n",
    "ax = cases.plot.countplot(x='pathology', ax=ax, title =\"Distribution of Pathology in CBIS-DDSM\", plot_counts=True, order_by_count=True)\n",
    "glue(\"eda1_univariate_pathology\", ax)"
   ]
  },
  {
   "cell_type": "markdown",
   "id": "10c1c7b6",
   "metadata": {},
   "source": [
    "```{glue:figure} eda1_univariate_pathology\n",
    "---\n",
    "align: center\n",
    "name: eda1_univariate_pathology_fig\n",
    "---\n",
    "Distribution of Pathology in CBIS-DDSM\n",
    "```\n",
    "\n",
    "The majority of cases are benign; although, benign without callback represents a considerable proportion of the cases."
   ]
  },
  {
   "cell_type": "markdown",
   "id": "b814781a",
   "metadata": {},
   "source": [
    "### Cancer\n",
    "\n",
    "Here, we collapse BENIGN and BENIGN_WITHOUT_CALLBACK into a single category."
   ]
  },
  {
   "cell_type": "code",
   "execution_count": null,
   "id": "b1e2674b",
   "metadata": {
    "tags": [
     "remove-output",
     "hide-input"
    ]
   },
   "outputs": [],
   "source": [
    "fig, ax = plt.subplots(figsize=(12,4))\n",
    "ax = cases.plot.countplot(x='cancer', ax=ax, title =\"Distribution of Cancer Diagnoses in CBIS-DDSM\")\n",
    "glue(\"eda1_univariate_cancer\", ax)"
   ]
  },
  {
   "cell_type": "markdown",
   "id": "1cf90580",
   "metadata": {},
   "source": [
    "```{glue:figure} eda1_univariate_cancer\n",
    "---\n",
    "align: center\n",
    "name: eda1_univariate_cancer_fig\n",
    "---\n",
    "Distribution of Cancer Diagnoses in CBIS-DDSM\n",
    "```"
   ]
  },
  {
   "cell_type": "markdown",
   "id": "0b0ae548",
   "metadata": {},
   "source": [
    "### Summary CBIS-DDSM Case Univariate Analysis\n",
    "\n",
    "Several observations can be made at this stage.\n",
    "\n",
    "1. The CBIS-DDSM is well-balanced with respect to breast density, morphology, subtlety, BI-RADS assessment, and pathology.\n",
    "2. Over 40 calcification types are represented; however, the majority of cases fall into one of five types.\n",
    "3. Similarly, there are nearly 20 categories of mass margins; yet, but most cases fall into one of the five major classes:\n",
    "   1. Spiculated\n",
    "   2. Circumscribed\n",
    "   3. Obscured\n",
    "   4. Ill-Defined\n",
    "\n",
    "Next up? Bivariate analysis."
   ]
  },
  {
   "cell_type": "markdown",
   "id": "0ab6061d",
   "metadata": {
    "tags": [
     "hide-input"
    ]
   },
   "source": [
    "## Case Bivariate Analysis\n",
    "\n",
    "This bivariate analysis will comprise a dependency analysis and an inter-dependence analysis.  The former assesses the degree to which a cancer diagnosis depends upon the values of the explanatory variables, such as breast density, type and distribution of calcifications, and the shape and margins of masses. The inter-dependence analysis explores the association between two independent variables."
   ]
  },
  {
   "cell_type": "code",
   "execution_count": null,
   "id": "5d84ea5f",
   "metadata": {
    "tags": [
     "hide-input"
    ]
   },
   "outputs": [],
   "source": [
    "df = cases.as_df(categorize_ordinals=True)"
   ]
  },
  {
   "cell_type": "markdown",
   "id": "4cd81379",
   "metadata": {},
   "source": [
    "### Bivariate Target Variable Association Analysis\n",
    "\n",
    "#### Cancer Diagnosis by Breast Density"
   ]
  },
  {
   "cell_type": "code",
   "execution_count": null,
   "id": "ebdeb645",
   "metadata": {
    "tags": [
     "hide-input",
     "remove-output"
    ]
   },
   "outputs": [],
   "source": [
    "p = sns.objects.Plot(df, x='breast_density', color='cancer').add(so.Bar(), so.Count(), so.Stack()).theme({**sns.axes_style(\"whitegrid\"), \"grid.linestyle\": \":\"}).label(title=\"Diagnosis by Breast Density\").layout(size=(12,4), engine='tight')\n",
    "glue(\"eda1_bivariate_diagnosis_density\", p)"
   ]
  },
  {
   "cell_type": "markdown",
   "id": "1845e9a7",
   "metadata": {},
   "source": [
    "```{glue:figure} eda1_bivariate_diagnosis_density\n",
    "---\n",
    "align: center\n",
    "name: eda1_bivariate_diagnosis_density_fig\n",
    "---\n",
    "Diagnosis by Breast Density\n",
    "```\n",
    "\n",
    "It's rather difficult to assess the degree to which breast density related to a diagnosis. Let's plot the relative proportions."
   ]
  },
  {
   "cell_type": "code",
   "execution_count": null,
   "id": "a5afe30a",
   "metadata": {
    "tags": [
     "hide-input",
     "remove-output"
    ]
   },
   "outputs": [],
   "source": [
    "prop = df[['breast_density', 'cancer']].groupby(by=['breast_density']).value_counts(normalize=True).to_frame().reset_index().sort_values(by=['breast_density','cancer'])\n",
    "p = sns.objects.Plot(prop, x='breast_density', y='proportion', color='cancer').add(so.Bar(), so.Stack()).theme({**sns.axes_style(\"whitegrid\"), \"grid.linestyle\": \":\"}).label(title=\"Diagnosis by Breast Density\").layout(size=(12,4), engine='tight')\n",
    "glue(\"eda1_bivariate_diagnosis_density_prop\", p)"
   ]
  },
  {
   "cell_type": "markdown",
   "id": "73231fbd",
   "metadata": {},
   "source": [
    "```{glue:figure} eda1_bivariate_diagnosis_density_prop\n",
    "---\n",
    "align: center\n",
    "name: eda1_bivariate_diagnosis_density_prop_fig\n",
    "---\n",
    "Diagnosis by Breast Density\n",
    "```\n",
    "\n",
    "Breast density is considered a risk factor for breast cancer, as women with dense breasts have a higher risk of breast cancer than women with fatty breasts {cite}`DenseBreastsAnswers2018`. Notwithstanding, the CBIS-DDSM data don't reveal a strong relationship between breast density and diagnosis. Let's see if a test of association supports our inference."
   ]
  },
  {
   "cell_type": "code",
   "execution_count": null,
   "id": "6008c35c",
   "metadata": {
    "tags": [
     "hide-input"
    ]
   },
   "outputs": [],
   "source": [
    "kt = cases.stats.kendallstau(a='breast_density', b='cancer')\n",
    "print(kt)"
   ]
  },
  {
   "cell_type": "markdown",
   "id": "3424ff8e",
   "metadata": {},
   "source": [
    "The Kendall's Tau test measuring the association between breast density and malignancy indicated a non-significant association of weak effect, ($\\phi_\\tau$ = 0.01, p = 0.54)."
   ]
  },
  {
   "cell_type": "markdown",
   "id": "e869270d",
   "metadata": {},
   "source": [
    "#### Cancer Diagnosis by Breast Side\n",
    "\n",
    "A 2022 study published in Nature {cite}`abdouLeftSidedBreast2022` suggests that breast cancer is slightly more prevalent on the left side of the body than it is on the right. Do the CBIS-DDSM data support this finding?"
   ]
  },
  {
   "cell_type": "code",
   "execution_count": null,
   "id": "a73df5ac",
   "metadata": {
    "tags": [
     "hide-input"
    ]
   },
   "outputs": [],
   "source": [
    "p = sns.objects.Plot(df, x='left_or_right_breast', color='cancer').add(so.Bar(), so.Count(), so.Stack()).theme({**sns.axes_style(\"whitegrid\"), \"grid.linestyle\": \":\"}).label(title=\"Diagnosis by Breast Side\").layout(size=(12,4), engine='tight')\n",
    "glue(\"eda1_bivariate_diagnosis_side\", p)"
   ]
  },
  {
   "cell_type": "markdown",
   "id": "57cd1d55",
   "metadata": {},
   "source": [
    "```{glue:figure} eda1_bivariate_diagnosis_side\n",
    "---\n",
    "align: center\n",
    "name: eda1_bivariate_diagnosis_side_fig\n",
    "---\n",
    "Diagnosis by Breast Side\n",
    "```\n",
    "\n",
    "If there is a slightly greater risk of cancer in the left breast, it would not be evident in the CBIS-DDSM data."
   ]
  },
  {
   "cell_type": "code",
   "execution_count": null,
   "id": "b2996e09",
   "metadata": {
    "tags": [
     "hide-input"
    ]
   },
   "outputs": [],
   "source": [
    "cv = cases.stats.cramersv(a='left_or_right_breast', b='cancer')\n",
    "print(cv)"
   ]
  },
  {
   "cell_type": "markdown",
   "id": "7ef56ad6",
   "metadata": {},
   "source": [
    "The chi-square test above, indicates a non-significant association of negligible effect between breast and diagnosis, ($X^2$ (1,n=3566)=2.97 p=0.08, $\\phi$=.03)."
   ]
  },
  {
   "cell_type": "markdown",
   "id": "be119a0b",
   "metadata": {},
   "source": [
    "#### Cancer by Image View\n",
    "\n",
    "A study published in RSNA Journals {cite}`korhonenBreastCancerConspicuity2019` analyzed breast cancer conspicuity by image_view and determined that cancers were more likely to have high conspicuity in the craniocaudal (CC) than the mediolateral oblique (MLO) image_view.  Let's see what our data suggest."
   ]
  },
  {
   "cell_type": "code",
   "execution_count": null,
   "id": "0115af24",
   "metadata": {
    "tags": [
     "hide-input"
    ]
   },
   "outputs": [],
   "source": [
    "p = sns.objects.Plot(df, x='image_view', color='cancer').add(so.Bar(), so.Count(), so.Stack()).theme({**sns.axes_style(\"whitegrid\"), \"grid.linestyle\": \":\"}).label(title=\"Diagnosis by Image View\").layout(size=(12,4), engine='tight')\n",
    "glue(\"eda1_bivariate_diagnosis_view\", p)"
   ]
  },
  {
   "cell_type": "markdown",
   "id": "f3ea4b04",
   "metadata": {},
   "source": [
    "```{glue:figure} eda1_bivariate_diagnosis_view\n",
    "---\n",
    "align: center\n",
    "name: eda1_bivariate_diagnosis_view_fig\n",
    "---\n",
    "Diagnosis by Image View\n",
    "```"
   ]
  },
  {
   "cell_type": "code",
   "execution_count": null,
   "id": "4d881802",
   "metadata": {
    "tags": [
     "hide-input",
     "remove-output"
    ]
   },
   "outputs": [],
   "source": [
    "df_cancer_by_view = df[[ 'cancer', 'image_view']].groupby(by=['image_view']).value_counts(normalize=True).to_frame()\n",
    "glue(\"eda1_bivariate_cancer_by_view\", df_cancer_by_view)"
   ]
  },
  {
   "cell_type": "markdown",
   "id": "32991f2c",
   "metadata": {},
   "source": [
    "```{glue:figure} eda1_bivariate_cancer_by_view\n",
    "---\n",
    "align: center\n",
    "name: eda1_bivariate_cancer_by_view_fig\n",
    "---\n",
    "Diagnosis by Image View\n",
    "```\n",
    "\n",
    "Both image_views have the same proportion of malignancies suggesting no association between image image_view and the diagnosis."
   ]
  },
  {
   "cell_type": "code",
   "execution_count": null,
   "id": "1beef062",
   "metadata": {
    "tags": [
     "hide-input"
    ]
   },
   "outputs": [],
   "source": [
    "cv = cases.stats.cramersv(a='image_view', b='cancer')\n",
    "print(cv)"
   ]
  },
  {
   "cell_type": "markdown",
   "id": "6e881df2",
   "metadata": {},
   "source": [
    "The chi-square test above, indicates a non-significant association of negligible effect between image image_view and diagnosis, ($X^2$ (1,n=3566)=0.007 p=0.93, $\\phi$=.002)."
   ]
  },
  {
   "cell_type": "markdown",
   "id": "09868468",
   "metadata": {},
   "source": [
    "#### Cancer by Abnormality Type\n",
    "\n",
    "Are masses more or less malignant than calcifications?"
   ]
  },
  {
   "cell_type": "code",
   "execution_count": null,
   "id": "1bb7a081",
   "metadata": {
    "tags": [
     "hide-input"
    ]
   },
   "outputs": [],
   "source": [
    "p = sns.objects.Plot(df, x='abnormality_type', color='cancer').add(so.Bar(), so.Count(), so.Stack()).theme({**sns.axes_style(\"whitegrid\"), \"grid.linestyle\": \":\"}).label(title=\"Diagnosis by Abnormality Type\").layout(size=(12,4), engine='tight')\n",
    "glue(\"eda1_bivariate_cancer_by_view)"
   ]
  },
  {
   "cell_type": "markdown",
   "id": "6853cec6",
   "metadata": {},
   "source": [
    "```{glue:figure} eda1_bivariate_cancer_by_view\n",
    "---\n",
    "align: center\n",
    "name: eda1_bivariate_cancer_by_view_fig\n",
    "---\n",
    "Diagnosis by Abnormality Type\n",
    "```"
   ]
  },
  {
   "cell_type": "code",
   "execution_count": null,
   "id": "5ca89079",
   "metadata": {
    "tags": [
     "hide-input"
    ]
   },
   "outputs": [],
   "source": [
    "df_cancer_by_ab_type = df[[ 'cancer', 'abnormality_type']].groupby(by=['cancer']).value_counts(normalize=True).to_frame()\n",
    "glue(\"eda1_bivariate_cancer_by_ab_type\", df_cancer_by_ab_type)"
   ]
  },
  {
   "cell_type": "markdown",
   "id": "332727aa",
   "metadata": {},
   "source": [
    "```{glue:figure} eda1_bivariate_cancer_by_ab_type\n",
    "---\n",
    "align: center\n",
    "name: eda1_bivariate_cancer_by_ab_type_fig\n",
    "---\n",
    "Diagnosis by Abnormality Type\n",
    "```\n",
    "\n",
    "These data indicate that the probability of a malignancy is slightly higher for masses than calcifications. Is this significant?"
   ]
  },
  {
   "cell_type": "code",
   "execution_count": null,
   "id": "bb4d15a0",
   "metadata": {
    "tags": [
     "hide-input"
    ]
   },
   "outputs": [],
   "source": [
    "cv = cases.stats.cramersv(a='abnormality_type', b='cancer')\n",
    "print(cv)"
   ]
  },
  {
   "cell_type": "markdown",
   "id": "620907f7",
   "metadata": {},
   "source": [
    "The chi-square test above, indicates a significant association of small effect between abnormality type and diagnosis, ($X^2$ (1,n=3566)=38.85 p<0.01, $\\phi$=.10). More malignancies were diagnosed among the mass cases, compared to calcifications (54% vs 46%)."
   ]
  },
  {
   "cell_type": "markdown",
   "id": "7b8054b1",
   "metadata": {},
   "source": [
    "#### BI-RADS Assessment and Cancer\n",
    "\n",
    "To what degree is there (dis)agreement between the BI-RADS assessment the diagnosis. The BI-RADS assessment is an overall summary of the mammography report and has seven categories.\n",
    "\n",
    "```{table} BI-RADS Assessments\n",
    ":name: eda1_birads_assessment\n",
    "\n",
    "| Label | Description                                                                              | Likelihood of Cancer                                                        |\n",
    "| ----- | ---------------------------------------------------------------------------------------- | --------------------------------------------------------------------------- |\n",
    "| 0     | Incomplete . Need Additional   Imaging Evaluation and/or Prior Mammograms for Comparison | NA                                                                          |\n",
    "| 1     | Negative Routine mammography                                                             | Essentially 0% likelihood of malignancy                                     |\n",
    "| 2     | Benign Routine mammography                                                               | Essentially 0% likelihood of malignancy                                     |\n",
    "| 3     | Probably Benign Short-interval   (6-month)                                               | > 0% but . 2% likelihood of malignancy                                      |\n",
    "| 4     | Suspicious                                                                               | Low: 2% to ≤ 10%      Moderate: > 10% to ≤ 50%       High: > 50% to < 95% |\n",
    "| 5     | Highly Suggestive of Malignancy                                                          | > 95% likelihood of malignancy                                              |\n",
    "| 6     | Known Biopsy-Proven Malignancy                                                           | NA                                                                          |\n",
    "```\n",
    "\n",
    "To what degree is there agreement between the BI-RADS assessments and diagnosis."
   ]
  },
  {
   "cell_type": "code",
   "execution_count": null,
   "id": "eeaf8ff4",
   "metadata": {
    "tags": [
     "hide-input"
    ]
   },
   "outputs": [],
   "source": [
    "sns.objects.Plot(df, x='assessment', color='cancer').add(so.Bar(), so.Count(), so.Stack()).theme({**sns.axes_style(\"whitegrid\"), \"grid.linestyle\": \":\"}).label(title=\"Diagnosis by BI-RADS Assessment\").layout(size=(12,4), engine='tight')\n",
    "prop = df[['assessment', 'cancer']].groupby(by=['assessment']).value_counts(normalize=True).to_frame().reset_index().sort_values(by=['assessment','cancer'])\n",
    "sns.objects.Plot(prop, x='assessment', y='proportion', color='cancer').add(so.Bar(), so.Stack()).theme({**sns.axes_style(\"whitegrid\"), \"grid.linestyle\": \":\"}).label(title=\"Diagnosis by BI-RADS Assessment\").layout(size=(12,4), engine='tight')"
   ]
  },
  {
   "cell_type": "code",
   "execution_count": null,
   "id": "46b91275",
   "metadata": {
    "tags": [
     "hide-input"
    ]
   },
   "outputs": [],
   "source": [
    "counts = df[[ 'assessment', 'cancer']].groupby(by=['assessment']).value_counts(normalize=False).to_frame().sort_values(by=['assessment', 'cancer'])\n",
    "prop = df[[ 'assessment', 'cancer']].groupby(by=['assessment']).value_counts(normalize=True).to_frame().sort_values(by=['assessment', 'cancer'])\n",
    "pd.concat([counts, prop], axis=1)"
   ]
  },
  {
   "cell_type": "markdown",
   "id": "474cf39f",
   "metadata": {
    "tags": [
     "hide-input"
    ]
   },
   "source": [
    "These data do show a relationship between BI-RADS assessment and diagnosis. Let's evaluate the effect size."
   ]
  },
  {
   "cell_type": "code",
   "execution_count": null,
   "id": "35e4e558",
   "metadata": {
    "tags": [
     "hide-input"
    ]
   },
   "outputs": [],
   "source": [
    "kt = cases.stats.kendallstau(a='assessment', b='cancer')\n",
    "print(kt)"
   ]
  },
  {
   "cell_type": "markdown",
   "id": "79f0c67d",
   "metadata": {
    "tags": [
     "hide-input"
    ]
   },
   "source": [
    "Indeed, the Kendall's Tau test above, indicates a significant association of strong effect between BI-RADS assessment and diagnosis, ($\\phi_\\tau$=0.60, p<0.01)."
   ]
  },
  {
   "cell_type": "markdown",
   "id": "df75ddb5",
   "metadata": {
    "tags": [
     "hide-input"
    ]
   },
   "source": [
    "Several observations.\n",
    "1. Incomplete assessments had a malignancy approaching 25%.\n",
    "2. There were only three BI-RADS Category 1 assessments.\n",
    "3. Category 2 assessments, were all negative for cancer.\n",
    "4. Approximately 20% of the BI-RADS category 3, probably benign, were ultimately diagnosed as malignant.\n",
    "5. Suspicious cases (BI-RADS 4) were nearly 50/50 benign/malignant.\n",
    "6. Just 2% of the highly suspicious cases were benign."
   ]
  },
  {
   "cell_type": "markdown",
   "id": "a9a47478",
   "metadata": {
    "tags": [
     "hide-input"
    ]
   },
   "source": [
    "##### Subtlety and Cancer\n",
    "Are malignancies more or less conspicuous?"
   ]
  },
  {
   "cell_type": "code",
   "execution_count": null,
   "id": "08279652",
   "metadata": {
    "tags": [
     "hide-input"
    ]
   },
   "outputs": [],
   "source": [
    "sns.objects.Plot(df, x='subtlety', color='cancer').add(so.Bar(), so.Count(), so.Stack()).theme({**sns.axes_style(\"whitegrid\"), \"grid.linestyle\": \":\"}).label(title=\"Diagnosis by Subtlety\").layout(size=(12,4), engine='tight')"
   ]
  },
  {
   "cell_type": "markdown",
   "id": "5cbbb453",
   "metadata": {
    "tags": [
     "hide-input"
    ]
   },
   "source": [
    "Any association between subtlety and malignancy isn't clear from the above. Let's examine the relative proportions of malignancy vis-a-vis subtlety."
   ]
  },
  {
   "cell_type": "code",
   "execution_count": null,
   "id": "e9b64e86",
   "metadata": {
    "tags": [
     "hide-input"
    ]
   },
   "outputs": [],
   "source": [
    "prop = df[['subtlety', 'cancer']].groupby(by=['subtlety']).value_counts(normalize=True).to_frame().reset_index().sort_values(by=['subtlety','cancer'])\n",
    "sns.objects.Plot(prop, x='subtlety', y='proportion', color='cancer').add(so.Bar(), so.Stack()).theme({**sns.axes_style(\"whitegrid\"), \"grid.linestyle\": \":\"}).label(title=\"Diagnosis by Subtlety\").layout(size=(12,4), engine='tight')"
   ]
  },
  {
   "cell_type": "markdown",
   "id": "66544ab0",
   "metadata": {
    "tags": [
     "hide-input"
    ]
   },
   "source": [
    "An association seems to be present. Let's look at the numbers."
   ]
  },
  {
   "cell_type": "code",
   "execution_count": null,
   "id": "5b33cd23",
   "metadata": {
    "tags": [
     "hide-input"
    ]
   },
   "outputs": [],
   "source": [
    "counts = df[[ 'subtlety', 'cancer']].groupby(by=['subtlety']).value_counts(normalize=False).to_frame().sort_values(by=['subtlety', 'cancer'])\n",
    "prop = df[[ 'subtlety', 'cancer']].groupby(by=['subtlety']).value_counts(normalize=True).to_frame().sort_values(by=['subtlety', 'cancer'])\n",
    "pd.concat([counts, prop], axis=1)"
   ]
  },
  {
   "cell_type": "markdown",
   "id": "eca71c58",
   "metadata": {
    "tags": [
     "hide-input"
    ]
   },
   "source": [
    "Again, it would be difficult to draw an inference of association between subtlety and diagnosis."
   ]
  },
  {
   "cell_type": "code",
   "execution_count": null,
   "id": "e28f57bf",
   "metadata": {
    "tags": [
     "hide-input"
    ]
   },
   "outputs": [],
   "source": [
    "kt = cases.stats.kendallstau(a='subtlety', b='cancer')\n",
    "print(kt)"
   ]
  },
  {
   "cell_type": "markdown",
   "id": "838b0bf3",
   "metadata": {
    "tags": [
     "hide-input"
    ]
   },
   "source": [
    "The Kendall's Tau test measuring the association between subtlety and malignancy indicated a non-significant association of weak effect, $\\phi_\\tau$ = 0.003, p = 0.86."
   ]
  },
  {
   "cell_type": "markdown",
   "id": "0de01e5e",
   "metadata": {
    "tags": [
     "hide-input"
    ]
   },
   "source": [
    "##### Calcification Type and Cancer\n",
    "What is the association between calcification type and malignancy. According to the literature, fine linear branching, and pleomorphic calcifications are of the highest concern, followed by amorphous and coarse heterogenous abnormalities."
   ]
  },
  {
   "cell_type": "code",
   "execution_count": null,
   "id": "1f40e122",
   "metadata": {
    "tags": [
     "hide-input"
    ]
   },
   "outputs": [],
   "source": [
    "df_calc = calc.as_df()\n",
    "prop = df_calc[['calc_type', 'cancer']].groupby(by=['calc_type']).value_counts(normalize=True).to_frame().reset_index().sort_values(by=['calc_type','cancer'])\n",
    "sns.objects.Plot(prop, y='calc_type', x='proportion', color='cancer').add(so.Bar(), so.Stack()).theme({**sns.axes_style(\"whitegrid\"), \"grid.linestyle\": \":\"}).label(title=\"Diagnosis by Calcification Type\").layout(size=(12,12), engine='tight')"
   ]
  },
  {
   "cell_type": "markdown",
   "id": "68a60d6a",
   "metadata": {
    "tags": [
     "remove-output",
     "hide-input"
    ]
   },
   "source": [
    "As this plot suggests, an association between calcification type and diagnosis is extant. Let's check the strength of this association."
   ]
  },
  {
   "cell_type": "code",
   "execution_count": null,
   "id": "d2987d38",
   "metadata": {
    "tags": [
     "hide-input"
    ]
   },
   "outputs": [],
   "source": [
    "cv = calc.stats.cramersv(a='calc_type', b='cancer')\n",
    "print(cv)"
   ]
  },
  {
   "cell_type": "markdown",
   "id": "261215f0",
   "metadata": {
    "tags": [
     "hide-input"
    ]
   },
   "source": [
    "This chi-square test of independence between calcification type and diagnosis indicates a significant association of large effect ($X^2$(1,n=1872)=539.69 p<0.01, $V$=0.54)."
   ]
  },
  {
   "cell_type": "markdown",
   "id": "a96b5ad4",
   "metadata": {
    "tags": [
     "hide-input"
    ]
   },
   "source": [
    "The following lists the top 10 most malignant calcification types by proportion in the CBIS-DDSM."
   ]
  },
  {
   "cell_type": "code",
   "execution_count": null,
   "id": "89057f01",
   "metadata": {
    "tags": [
     "remove-output",
     "hide-input"
    ]
   },
   "outputs": [],
   "source": [
    "fig, ax = plt.subplots(figsize=(12,6))\n",
    "calc_types = cases.get_most_malignant_calc(x='calc_type', n=10)\n",
    "calc.plot.barplot(data=calc_types, y='calc_type', x='proportion', title='Malignancy by Calcification Type', ax=ax)"
   ]
  },
  {
   "cell_type": "markdown",
   "id": "40bfed31",
   "metadata": {
    "tags": [
     "hide-input"
    ]
   },
   "source": [
    "##### Calcification Distribution\n",
    "How do we characterize the association between calcification distribution and malignancy?"
   ]
  },
  {
   "cell_type": "code",
   "execution_count": null,
   "id": "952161bc",
   "metadata": {
    "tags": [
     "hide-input"
    ]
   },
   "outputs": [],
   "source": [
    "df_calc = calc.as_df()\n",
    "prop = df_calc[['calc_distribution', 'cancer']].groupby(by=['calc_distribution']).value_counts(normalize=True).to_frame().reset_index().sort_values(by=['calc_distribution','cancer'])\n",
    "sns.objects.Plot(prop, y='calc_distribution', x='proportion', color='cancer').add(so.Bar(), so.Stack()).theme({**sns.axes_style(\"whitegrid\"), \"grid.linestyle\": \":\"}).label(title=\"Diagnosis by Calcification Distribution\").layout(size=(12,8), engine='tight')"
   ]
  },
  {
   "cell_type": "markdown",
   "id": "f0885e61",
   "metadata": {
    "tags": [
     "hide-input"
    ]
   },
   "source": [
    "Again, we see an association between calcification distribution and malignancy.  Let's check the most malignant calcification distributions."
   ]
  },
  {
   "cell_type": "code",
   "execution_count": null,
   "id": "6fdd7e85",
   "metadata": {
    "tags": [
     "remove-output",
     "hide-input"
    ]
   },
   "outputs": [],
   "source": [
    "fig, ax = plt.subplots(figsize=(12,4))\n",
    "calc_types = cases.get_most_malignant_calc(x='calc_distribution', n=5)\n",
    "calc.plot.barplot(data=calc_types, y='calc_distribution', x='proportion', title='Malignancy by Calcification Distribution', ax=ax)"
   ]
  },
  {
   "cell_type": "code",
   "execution_count": null,
   "id": "65c60b05",
   "metadata": {
    "tags": [
     "hide-input"
    ]
   },
   "outputs": [],
   "source": [
    "cv = calc.stats.cramersv(a='calc_distribution', b='cancer')\n",
    "print(cv)"
   ]
  },
  {
   "cell_type": "markdown",
   "id": "c32686ca",
   "metadata": {
    "tags": [
     "hide-input"
    ]
   },
   "source": [
    "This chi-square test of independence between calcification distribution and diagnosis indicates a moderate and significant association ($X^2$(1,n=1872)=198.56 p<0.01, $V$=0.33)."
   ]
  },
  {
   "cell_type": "markdown",
   "id": "d4f5fbea",
   "metadata": {
    "tags": [
     "hide-input"
    ]
   },
   "source": [
    "##### Mass Shape and Cancer\n",
    "Mass shape and mass margins are the most significant features that indicate whether a mass is benign or malignant {cite}`bassettAbnormalMammogram2003`."
   ]
  },
  {
   "cell_type": "code",
   "execution_count": null,
   "id": "cc54685e",
   "metadata": {
    "tags": [
     "hide-input"
    ]
   },
   "outputs": [],
   "source": [
    "df_mass = mass.as_df()\n",
    "prop = df_mass[['mass_shape', 'cancer']].groupby(by=['mass_shape']).value_counts(normalize=True).to_frame().reset_index().sort_values(by=['mass_shape','cancer'])\n",
    "sns.objects.Plot(prop, y='mass_shape', x='proportion', color='cancer').add(so.Bar(), so.Stack()).theme({**sns.axes_style(\"whitegrid\"), \"grid.linestyle\": \":\"}).label(title=\"Diagnosis by Mass Shape\").layout(size=(12,8), engine='tight')"
   ]
  },
  {
   "cell_type": "markdown",
   "id": "b414d474",
   "metadata": {
    "tags": [
     "hide-input"
    ]
   },
   "source": [
    "As suggested, an association between mass shape and diagnosis is evident. Which mass shapes are most malignant?"
   ]
  },
  {
   "cell_type": "code",
   "execution_count": null,
   "id": "6333ac0f",
   "metadata": {
    "tags": [
     "remove-output",
     "hide-input"
    ]
   },
   "outputs": [],
   "source": [
    "fig, ax = plt.subplots(figsize=(12,4))\n",
    "mass_shapes = cases.get_most_malignant_mass(x='mass_shape', n=10)\n",
    "mass.plot.barplot(data=mass_shapes, y='mass_shape', x='proportion', title='Malignancy by Mass Shape', ax=ax)"
   ]
  },
  {
   "cell_type": "code",
   "execution_count": null,
   "id": "c3cb8a6a",
   "metadata": {
    "tags": [
     "hide-input"
    ]
   },
   "outputs": [],
   "source": [
    "cv = mass.stats.cramersv(a='mass_shape', b='cancer')\n",
    "print(cv)"
   ]
  },
  {
   "cell_type": "markdown",
   "id": "a70b3a50",
   "metadata": {
    "tags": [
     "hide-input"
    ]
   },
   "source": [
    "This chi-square test of independence between mass shape and diagnosis indicates a large and significant association ($X^2$(1,n=1694)=440.92 p<0.01, $V$=0.51)."
   ]
  },
  {
   "cell_type": "markdown",
   "id": "f1a6f194",
   "metadata": {
    "tags": [
     "hide-input"
    ]
   },
   "source": [
    "##### Mass Margins and Cancer\n",
    "Mass margins, a feature that separates the mass from the adjacent breast parenchyma, is often the feature which enables differentiation between benign and malignant."
   ]
  },
  {
   "cell_type": "code",
   "execution_count": null,
   "id": "01f422d8",
   "metadata": {
    "tags": [
     "hide-input"
    ]
   },
   "outputs": [],
   "source": [
    "prop = df_mass[['mass_margins', 'cancer']].groupby(by=['mass_margins']).value_counts(normalize=True).to_frame().reset_index().sort_values(by=['mass_margins','cancer'])\n",
    "sns.objects.Plot(prop, y='mass_margins', x='proportion', color='cancer').add(so.Bar(), so.Stack()).theme({**sns.axes_style(\"whitegrid\"), \"grid.linestyle\": \":\"}).label(title=\"Diagnosis by Mass Margins\").layout(size=(12,8), engine='tight')"
   ]
  },
  {
   "cell_type": "markdown",
   "id": "3d47ed7d",
   "metadata": {
    "tags": [
     "hide-input"
    ]
   },
   "source": [
    "As expected, mass margins appear determinative. Which mass margins are most concerning?"
   ]
  },
  {
   "cell_type": "code",
   "execution_count": null,
   "id": "15a8d970",
   "metadata": {
    "tags": [
     "remove-output",
     "hide-input"
    ]
   },
   "outputs": [],
   "source": [
    "fig, ax = plt.subplots(figsize=(12,4))\n",
    "mass_margins = cases.get_most_malignant_mass(x='mass_margins', n=10)\n",
    "mass.plot.barplot(data=mass_margins, y='mass_margins', x='proportion', title='Malignancy by Mass Margins', ax=ax)"
   ]
  },
  {
   "cell_type": "code",
   "execution_count": null,
   "id": "da4d150a",
   "metadata": {
    "tags": [
     "hide-input"
    ]
   },
   "outputs": [],
   "source": [
    "cv = mass.stats.cramersv(a='mass_margins', b='cancer')\n",
    "print(cv)"
   ]
  },
  {
   "cell_type": "markdown",
   "id": "8bb9b39f",
   "metadata": {
    "tags": [
     "hide-input"
    ]
   },
   "source": [
    "This chi-square test of independence between mass margins and diagnosis indicates a large and significant association ($X^2$(1,n=1694)=588.62 p<0.01, $V$=0.59).\n",
    "\n",
    "That concludes the target association section of the bivariate analysis. Let's examine the relationships among the features."
   ]
  },
  {
   "cell_type": "markdown",
   "id": "89751fe3",
   "metadata": {
    "tags": [
     "hide-input"
    ]
   },
   "source": [
    "#### Case Bivariate Feature Association Analysis\n",
    "What does calcification type imply about calcification distribution? To what degree is mass shape and mass margin related? Are certain morphologies more or less subtle? In this section, we examine the strength of associations among the features in the CBIS-DDSM using Cramer's V effect size measurement. For this exercise, we'll interpret the Cramer's V effect sizes as follows:\n",
    "\n",
    "|      V      |   Effect   |\n",
    "|:-----------:|:----------:|\n",
    "|    ≥ 0.5    |    Large   |\n",
    "| ≥ 0.3 < 0.5 |  Moderate  |\n",
    "| ≥ 0.1 < 0.3 |    Small   |\n",
    "|   0 < 0.1   | Negligible |\n",
    "\n",
    "We'll start with the full dataset, to investigate the relationships between non-morphological features. Then, we'll analyze mass and calcification cases separately to avoid in spurious associations across abnormality types."
   ]
  },
  {
   "cell_type": "code",
   "execution_count": null,
   "id": "86444116",
   "metadata": {
    "tags": [
     "remove-output",
     "hide-input"
    ]
   },
   "outputs": [],
   "source": [
    "fig, ax = plt.subplots(figsize=(8,8))\n",
    "cases.plot_feature_associations(ax=ax)"
   ]
  },
  {
   "cell_type": "markdown",
   "id": "64dd0ec5",
   "metadata": {
    "tags": [
     "hide-input"
    ]
   },
   "source": [
    "We'll ignore abnormality type and the morphology associationss for now. Calcification and mass morphology associations will be analyzed separately. That said, several observations can be made:\n",
    "1. Abnormality type has a moderate association with BI-RADS assessment.\n",
    "2. There appears to be weak associations among the non-morphological features.\n",
    "\n",
    "Let's take a look breast density vis-a-vis abnormality type."
   ]
  },
  {
   "cell_type": "code",
   "execution_count": null,
   "id": "f82825b9",
   "metadata": {
    "tags": [
     "remove-output",
     "hide-input"
    ]
   },
   "outputs": [],
   "source": [
    "fig, ax = plt.subplots(figsize=(12,4))\n",
    "df = cases.as_df()\n",
    "df_props = df[['abnormality_type', 'breast_density']].groupby(by=['abnormality_type']).value_counts(normalize=True, sort=False).to_frame().reset_index()\n",
    "cases.plot.barplot(data=df_props, x='breast_density', y='proportion', hue='abnormality_type', ax=ax)"
   ]
  },
  {
   "cell_type": "markdown",
   "id": "b3e60901",
   "metadata": {
    "tags": [
     "hide-input"
    ]
   },
   "source": [
    "Abnormality types tends to behave similarly across breast density categories, thus the weak association."
   ]
  },
  {
   "cell_type": "markdown",
   "id": "53c64557",
   "metadata": {
    "tags": [
     "hide-input"
    ]
   },
   "source": [
    "##### Calcification Feature Bivariate Analysis\n",
    "Let's examine the relationships among the features among the calcification cases."
   ]
  },
  {
   "cell_type": "code",
   "execution_count": null,
   "id": "ff68cbdb",
   "metadata": {
    "tags": [
     "remove-output",
     "hide-input"
    ]
   },
   "outputs": [],
   "source": [
    "fig, ax = plt.subplots(figsize=(8,8))\n",
    "calc.plot_calc_feature_associations(ax=ax)"
   ]
  },
  {
   "cell_type": "markdown",
   "id": "fcc6d81d",
   "metadata": {
    "tags": [
     "hide-input"
    ]
   },
   "source": [
    "The moderate to strong associations of note are:\n",
    "- Calcification Type and BI-RADS assessment (0.54)\n",
    "- Calcification Type and Distribution (0.45)\n",
    "- Calcification Distribution and BI-RADS assessment (0.39)\n",
    "- Breast Density and Calcification Type (0.36)\n",
    "- Calcification Type and Subtlety (0.33)\n",
    "\n",
    "Let's visualize these relationships and assess their statistical significance."
   ]
  },
  {
   "cell_type": "markdown",
   "id": "213ff83f",
   "metadata": {
    "tags": [
     "hide-input"
    ]
   },
   "source": [
    "###### Calcification Type and Assessment"
   ]
  },
  {
   "cell_type": "code",
   "execution_count": null,
   "id": "05d71eb2",
   "metadata": {
    "tags": [
     "hide-input"
    ]
   },
   "outputs": [],
   "source": [
    "_ = cases.summarize_morphology_by_feature(morphology='calc_type', by='assessment', figsize=(12,12))"
   ]
  },
  {
   "cell_type": "markdown",
   "id": "48f2375f",
   "metadata": {
    "tags": [
     "hide-input"
    ]
   },
   "source": [
    "Above, we show the proportion of BI-RADS assessments for each calcification type. Pleomorphic, fine linear branching and amorphous calcifications appear to render the highest levels of suspicion with BI-RADS 4 and 5 assessments. Those of intermediate concern are dystrophic and punctate. The remaining are associated with generally benign classifications.\n",
    "\n",
    "There is a strong association between calcification type and BI-RADS assessment, but is it a statistically significant finding?"
   ]
  },
  {
   "cell_type": "code",
   "execution_count": null,
   "id": "3bd586ec",
   "metadata": {
    "tags": [
     "hide-input"
    ]
   },
   "outputs": [],
   "source": [
    "cv = calc.stats.cramersv(a='calc_type', b='assessment')\n",
    "print(cv)"
   ]
  },
  {
   "cell_type": "markdown",
   "id": "5bc680b6",
   "metadata": {
    "tags": [
     "hide-input"
    ]
   },
   "source": [
    "Indeed, the result is signficant ($X^2$(4,n=1872)=2183.62 p<0.01, $V$=0.54).\n",
    "\n",
    "In the prior section, we separated compound calcification types into separate categories; thereby, reducing the number of calcification types from 40 to 13. Let's examine the relationship between these calcification types and assessment."
   ]
  },
  {
   "cell_type": "markdown",
   "id": "288d057d",
   "metadata": {
    "tags": [
     "hide-input"
    ]
   },
   "source": [
    "###### Calcification Type and Calcification Distribution"
   ]
  },
  {
   "cell_type": "code",
   "execution_count": null,
   "id": "2a3de6e4",
   "metadata": {
    "tags": [
     "hide-input"
    ]
   },
   "outputs": [],
   "source": [
    "_ = cases.compare_morphology(m1='calc_type', m2='calc_distribution', figsize=(12,12))"
   ]
  },
  {
   "cell_type": "markdown",
   "id": "8f9bcaca",
   "metadata": {
    "tags": [
     "hide-input"
    ]
   },
   "source": [
    "For each calcification type, we show the calcification distributions by proportion of calcification type cases in which they co-occur. For instance, amorphous types tend to co-occur with clustered distributions. Eggshell calcifications appear exclusively with segmental distributions in the CBIS-DDSM.  Let's check the statistical signficance."
   ]
  },
  {
   "cell_type": "code",
   "execution_count": null,
   "id": "72d8ea69",
   "metadata": {
    "tags": [
     "hide-input"
    ]
   },
   "outputs": [],
   "source": [
    "cv = calc.stats.cramersv(a='calc_type', b='calc_distribution')\n",
    "print(cv)"
   ]
  },
  {
   "cell_type": "markdown",
   "id": "b372a0c8",
   "metadata": {
    "tags": [
     "hide-input"
    ]
   },
   "source": [
    "Again, we observe a statistically significant large association between calcification type and distribution ($X^2$(8,n=1872)=3087.3 p<0.01, $V$=0.45)."
   ]
  },
  {
   "cell_type": "markdown",
   "id": "d77fbb5e",
   "metadata": {
    "tags": [
     "hide-input"
    ]
   },
   "source": [
    "###### Calcification Type and Subtlety"
   ]
  },
  {
   "cell_type": "code",
   "execution_count": null,
   "id": "c6cff998",
   "metadata": {
    "tags": [
     "hide-input"
    ]
   },
   "outputs": [],
   "source": [
    "_ = cases.summarize_morphology_by_feature(morphology='calc_type', by='subtlety')"
   ]
  },
  {
   "cell_type": "markdown",
   "id": "17c36757",
   "metadata": {
    "tags": [
     "hide-input"
    ]
   },
   "source": [
    "Here, we see that dystrophic, course, large_rodlike, lucent_centered, and round and regular calcifications present less conspicuously than the others."
   ]
  },
  {
   "cell_type": "code",
   "execution_count": null,
   "id": "0c964f2b",
   "metadata": {
    "tags": [
     "hide-input"
    ]
   },
   "outputs": [],
   "source": [
    "cv = calc.stats.cramersv(a='calc_type', b='subtlety')\n",
    "print(cv)"
   ]
  },
  {
   "cell_type": "markdown",
   "id": "e84e5350",
   "metadata": {
    "tags": [
     "hide-input"
    ]
   },
   "source": [
    "Calcification type and subtlety are strongly related ($X^2$(4,n=1872)=793 p<0.01, $V$=0.33)."
   ]
  },
  {
   "cell_type": "markdown",
   "id": "d35dd740",
   "metadata": {
    "tags": [
     "hide-input"
    ]
   },
   "source": [
    "###### Calcification Distribution and BI-RADS Assessment"
   ]
  },
  {
   "cell_type": "code",
   "execution_count": null,
   "id": "86b9aded",
   "metadata": {
    "tags": [
     "hide-input"
    ]
   },
   "outputs": [],
   "source": [
    "_ = cases.summarize_morphology_by_feature(morphology='calc_distribution', by='assessment', figsize=(12,6))"
   ]
  },
  {
   "cell_type": "markdown",
   "id": "7810aa24",
   "metadata": {
    "tags": [
     "hide-input"
    ]
   },
   "source": [
    "Clustered and linear calcification distributions tend to be suspicious with assessments in the BI-RADS 4 range. Regional distributions can indicate anything from benign to highly suspicious. Diffusely scattered and segmental distributions are primarily considered benign in the CBIS-DDSM."
   ]
  },
  {
   "cell_type": "code",
   "execution_count": null,
   "id": "fcdfe1b8",
   "metadata": {
    "tags": [
     "hide-input"
    ]
   },
   "outputs": [],
   "source": [
    "cv = calc.stats.cramersv(a='calc_distribution', b='assessment')\n",
    "print(cv)"
   ]
  },
  {
   "cell_type": "markdown",
   "id": "78dad138",
   "metadata": {
    "tags": [
     "hide-input"
    ]
   },
   "source": [
    "Calcification distribution and BI-RADS assessment are strongly related ($X^2$(4,n=1872)=1127 p<0.01, $V$=0.39)."
   ]
  },
  {
   "cell_type": "markdown",
   "id": "f9b90432",
   "metadata": {
    "tags": [
     "hide-input"
    ]
   },
   "source": [
    "###### Calcification Type and Breast Density"
   ]
  },
  {
   "cell_type": "code",
   "execution_count": null,
   "id": "525fcaac",
   "metadata": {
    "tags": [
     "hide-input"
    ]
   },
   "outputs": [],
   "source": [
    "_ = cases.summarize_morphology_by_feature(morphology='calc_type', by='breast_density', figsize=(12,8))"
   ]
  },
  {
   "cell_type": "markdown",
   "id": "30d77237",
   "metadata": {
    "tags": [
     "hide-input"
    ]
   },
   "source": [
    "Amorphous, course, fine linear branching, lucent centered, and pleomorphic almost follow a normal distribution. Some cases have fatty breasts, some extremely dense; but, most are in the middle categories 2 and 3. Eggshell, large rodlike, milk of calcium, skin, and vascular types stand out as co-occuring with breasts of specific densities."
   ]
  },
  {
   "cell_type": "code",
   "execution_count": null,
   "id": "8dc93e8d",
   "metadata": {
    "tags": [
     "hide-input"
    ]
   },
   "outputs": [],
   "source": [
    "cv = calc.stats.cramersv(a='breast_density', b='calc_type')\n",
    "print(cv)"
   ]
  },
  {
   "cell_type": "markdown",
   "id": "fe588443",
   "metadata": {
    "tags": [
     "hide-input"
    ]
   },
   "source": [
    "Again, we obsere a strong association between calcification type and breast density ($X^2$(3,n=1872)=709 p<0.01, $V$=0.36)."
   ]
  },
  {
   "cell_type": "markdown",
   "id": "0878dde2",
   "metadata": {
    "tags": [
     "hide-input"
    ]
   },
   "source": [
    "##### Mass Feature Bivariate Analysis\n",
    "Next, let's examine feature relationships for mass cases."
   ]
  },
  {
   "cell_type": "code",
   "execution_count": null,
   "id": "d0fa95de",
   "metadata": {
    "tags": [
     "remove-output",
     "hide-input"
    ]
   },
   "outputs": [],
   "source": [
    "fig, ax = plt.subplots(figsize=(8,8))\n",
    "mass.plot_mass_feature_associations(ax=ax)"
   ]
  },
  {
   "cell_type": "markdown",
   "id": "04bda4c9",
   "metadata": {
    "tags": [
     "hide-input"
    ]
   },
   "source": [
    "Here, we have the following moderate to strong associations within the mass dataset:\n",
    "- Mass Margin and BI-RADS Assesment (0.40)\n",
    "- Mass Shape and BI-RADS Assesment (0.37)\n",
    "\n",
    "It's notable that mass shape and mass margins are weakly associated."
   ]
  },
  {
   "cell_type": "markdown",
   "id": "4e85f503",
   "metadata": {
    "tags": [
     "hide-input"
    ]
   },
   "source": [
    "###### Mass Margins and BI-RADS Assessment"
   ]
  },
  {
   "cell_type": "code",
   "execution_count": null,
   "id": "814b4cb6",
   "metadata": {
    "tags": [
     "hide-input"
    ]
   },
   "outputs": [],
   "source": [
    "_ = cases.summarize_morphology_by_feature(morphology='mass_margins', by='assessment', figsize=(12,8))"
   ]
  },
  {
   "cell_type": "markdown",
   "id": "d6e28127",
   "metadata": {
    "tags": [
     "hide-input"
    ]
   },
   "source": [
    "Spiculated, ill-defined, and microlobulated masses appear to be of greater concern than obscured, and perhaps circumscribed mass margins."
   ]
  },
  {
   "cell_type": "code",
   "execution_count": null,
   "id": "04b6e839",
   "metadata": {
    "tags": [
     "hide-input"
    ]
   },
   "outputs": [],
   "source": [
    "cv = mass.stats.cramersv(a='mass_margins', b='assessment')\n",
    "print(cv)"
   ]
  },
  {
   "cell_type": "markdown",
   "id": "7f5a2cc6",
   "metadata": {
    "tags": [
     "hide-input"
    ]
   },
   "source": [
    "The relationship between mass margins and BI-RADS assessment is strong ($X^2$(5,n=1694)=1358 p<0.01, $V$=0.40)."
   ]
  },
  {
   "cell_type": "markdown",
   "id": "307ab675",
   "metadata": {
    "tags": [
     "hide-input"
    ]
   },
   "source": [
    "###### Mass Shape and Assessment"
   ]
  },
  {
   "cell_type": "code",
   "execution_count": null,
   "id": "54912f82",
   "metadata": {
    "tags": [
     "hide-input"
    ]
   },
   "outputs": [],
   "source": [
    "_ = cases.summarize_morphology_by_feature(morphology='mass_shape', by='assessment', figsize=(12,8))"
   ]
  },
  {
   "cell_type": "markdown",
   "id": "2b1e7ce1",
   "metadata": {
    "tags": [
     "hide-input"
    ]
   },
   "source": [
    "Architectural distortion, irregular, oval, and round shapes tend to render the most concern."
   ]
  },
  {
   "cell_type": "code",
   "execution_count": null,
   "id": "dca03dbb",
   "metadata": {
    "tags": [
     "hide-input"
    ]
   },
   "outputs": [],
   "source": [
    "cv = mass.stats.cramersv(a='mass_shape', b='assessment')\n",
    "print(cv)"
   ]
  },
  {
   "cell_type": "markdown",
   "id": "619dc9e7",
   "metadata": {
    "tags": [
     "hide-input"
    ]
   },
   "source": [
    "Similarly, the relationship between mass shape and BI-RADS assessment is strong ($X^2$(5,n=1694)=1156 p<0.01, $V$=0.37)."
   ]
  },
  {
   "cell_type": "markdown",
   "id": "a12e67e7",
   "metadata": {
    "tags": [
     "hide-input"
    ]
   },
   "source": [
    "#### Summary CBIS-DDSM Case Bivariate Analysis\n",
    "This concludes the bivariate component of this exploratory data analysis. Let's summarize our observations thus far.\n",
    "\n",
    "Our bivariate analysis was conducted in two parts:\n",
    "1. Bivariate Target Variable Association Analysis\n",
    "2. Bivariate Feature Association Analysis\n",
    "\n",
    "The former examined the relationships between the features and the target variable, 'cancer' and the latter explored the relationships between feature pairs."
   ]
  },
  {
   "cell_type": "code",
   "execution_count": null,
   "id": "886d7211",
   "metadata": {
    "tags": [
     "remove-output",
     "hide-input"
    ]
   },
   "outputs": [],
   "source": [
    "cases.plot_target_associations()"
   ]
  },
  {
   "cell_type": "markdown",
   "id": "65004e9d",
   "metadata": {
    "tags": [
     "remove-output",
     "hide-input"
    ]
   },
   "source": [
    "##### Bivariate Target Association Analysis Summary\n",
    "The plot above depicts the Cramer's V associations between the independent variables and our target variable, 'cancer'. The main observations are as follows:\n",
    "1. There was strong agreement between the BI-RADS assessments and the pathology ($\\tau$=0.60, p<0.01); an expected finding as many of the BI-RADS assessments were likely updated as additional information was gathered by the physician {cite}`leeCuratedMammographyData2017`.\n",
    "2. Mass margins had the strongest association with pathology ($X^2$(1,n=1694)=588.62 p<0.01, $V$=0.59). Of the 19 categories, the margins most associated with malignancy were:\n",
    "   1. Obscured-Spiculated,\n",
    "   2. Obscured-Ill-Defined,\n",
    "   3. Circumscribed-Spiculated,\n",
    "   4. Microlobulated-Spiculated, and\n",
    "   5. Microlobulated-Ill-Defined-Spiculated\n",
    "   Indeed, 100% of the above cases were malignant.\n",
    "3. Calcification type was also strongly associated with pathology ($X^2$(1,n=1872)=539.69 p<0.01, $V$=0.54). Punctate fine linear branching, punctate amorphous pleomorphic, and amorphous round and regular had malignancy rates of 100% in the dataset. Pleomorphic fine linear branching, fine linear branching, amorphous pleomorphic, and pleomorphic all had malignancy rates exceeding 50%.\n",
    "4. Mass shape had a large and significant effect on pathology in the dataset ($X^2$(1,n=1694)=440.92 p<0.01, $V$=0.51). Lobulated, round irregular, and irregular architectural distortion were associated with malignancy rates exceeding 80%.\n",
    "5. Calcification distribution had a moderate effect on pathology.  ($X^2$(1,n=1872)=198.56 p<0.01, $V$=0.33). Linear segmental, clustered linear, and linear calcification distributions were associated with malignancy rates above 50%.\n",
    "6. Subtlety, abnormality type, breast, breast density, and image image_view were all weakly associated with pathology."
   ]
  },
  {
   "cell_type": "markdown",
   "id": "06915a6e",
   "metadata": {
    "tags": [
     "hide-input"
    ]
   },
   "source": [
    "##### Bivariate Feature Association Analysis Summary\n",
    "Cramer's V was used to measure the degree of association between the features. We observed several strong associations in both calcification and mass cases:\n",
    "1. Calcification Cases:\n",
    "   1. There was a strong association (V=0.54) between calcification type and BI-RADS assessment.\n",
    "   2. Moderate associations were observed between:\n",
    "      1. breast density and calcification type\n",
    "      2. calcification type and distribution\n",
    "      3. calcification type and subtlety\n",
    "      4. calcification distribution and BI-RADS assessment\n",
    "   3. The other features were weakly associated.\n",
    "2. Mass Cases:\n",
    "   1. No strong associations were observed among the features in the mass dataset.\n",
    "   2. Moderate associations were observed between:\n",
    "      1. mass shape and BI-RADS assessment\n",
    "      2. mass margins and BI-RADS assessment\n",
    "   3. Other features were weakly associated.\n",
    "\n",
    "Next, multivariate data analysis."
   ]
  },
  {
   "cell_type": "markdown",
   "id": "2175495f",
   "metadata": {
    "tags": [
     "hide-input"
    ]
   },
   "source": [
    "### Case Data Multivariate Analysis\n",
    "The purpose of the multivariate analysis is to elucidate features of the data, beyond that which can be derived from the univariate, and bivariate analyses above. Our objectives; therefore, are to:\n",
    "1. Identify the variables that most impact the diagnosis of cancer,\n",
    "2. Estimate the importance of each independent variable in explaining the diagnosis.\n",
    "3. Establish a model to predict a diagnosis, given the independent variables.\n",
    "\n",
    " Logistic Regression, Support Vector Machines, and Random Forests classifiers will be trained on the calcification and mass training data. The models will be evaluated using cross-validation, and the best algorithm will make predictions on the entire mass or calcification dataset."
   ]
  },
  {
   "cell_type": "code",
   "execution_count": null,
   "id": "0abeb19d",
   "metadata": {
    "tags": [
     "remove-cell",
     "hide-input"
    ]
   },
   "outputs": [],
   "source": [
    "FORCE_MODEL_FIT = False"
   ]
  },
  {
   "cell_type": "markdown",
   "id": "6c5eb564",
   "metadata": {
    "tags": [
     "hide-input"
    ]
   },
   "source": [
    "#### Build Pipelines\n",
    "Pipelines are built for each classifier."
   ]
  },
  {
   "cell_type": "code",
   "execution_count": null,
   "id": "952e6649",
   "metadata": {
    "tags": [
     "hide-input"
    ]
   },
   "outputs": [],
   "source": [
    "pb = PipelineBuilder()\n",
    "pb.set_jobs(6)\n",
    "pb.set_standard_scaler()\n",
    "pb.set_scorer('accuracy')\n",
    "\n",
    "# Build Logistic Regression Pipeline\n",
    "params_lr = [{'clf__penalty': ['l1', 'l2'],\n",
    "\t\t      'clf__C': [1.0, 0.5, 0.1],\n",
    "\t\t      'clf__solver': ['liblinear']}]\n",
    "clf = LogisticRegression(random_state=5)\n",
    "pb.set_classifier(classifier=clf, params=params_lr)\n",
    "pb.build_gridsearch_cv()\n",
    "lr = pb.pipeline\n",
    "\n",
    "# Build SVM Pipeline\n",
    "clf = SVC(random_state=5)\n",
    "params_svc = [{'clf__kernel': ['linear'],\n",
    "\t\t       'clf__C': [1,2,3,4,5, 6, 7, 8, 9, 10]}]\n",
    "pb.set_classifier(classifier=clf, params=params_svc)\n",
    "pb.build_gridsearch_cv()\n",
    "svc = pb.pipeline\n",
    "\n",
    "# Build Random Forest Pipeline\n",
    "clf = RandomForestClassifier(random_state=5)\n",
    "param_range = [1,2,3,4,5]\n",
    "params_rf = [{'clf__criterion': ['gini', 'entropy'],\n",
    "\t\t      'clf__min_samples_leaf': param_range,\n",
    "\t\t      'clf__max_depth': param_range,\n",
    "\t\t      'clf__min_samples_split': param_range[1:]}]\n",
    "pb.set_classifier(classifier=clf, params=params_rf)\n",
    "pb.build_gridsearch_cv()\n",
    "rf = pb.pipeline"
   ]
  },
  {
   "cell_type": "markdown",
   "id": "017aed03",
   "metadata": {
    "tags": [
     "hide-input"
    ]
   },
   "source": [
    "#### Calcification Case Multivariate Analysis\n",
    "##### Get Model Data"
   ]
  },
  {
   "cell_type": "code",
   "execution_count": null,
   "id": "35bdc40d",
   "metadata": {
    "tags": [
     "hide-input"
    ]
   },
   "outputs": [],
   "source": [
    "X_train, y_train, X_test, y_test = cases.get_calc_model_data()\n",
    "X = pd.concat([X_train, X_test], axis=0)\n",
    "y = pd.concat([y_train, y_test], axis=0)"
   ]
  },
  {
   "cell_type": "markdown",
   "id": "71471704",
   "metadata": {
    "tags": [
     "hide-input"
    ]
   },
   "source": [
    "##### Build and Execute Model Selection"
   ]
  },
  {
   "cell_type": "code",
   "execution_count": null,
   "id": "a5f3e108",
   "metadata": {
    "tags": [
     "hide-input"
    ]
   },
   "outputs": [],
   "source": [
    "BEST_CALC_MODEL_FP = os.path.abspath('model/eda/best_calc_pipeline.pkl')"
   ]
  },
  {
   "cell_type": "code",
   "execution_count": null,
   "id": "e8faf673",
   "metadata": {
    "tags": [
     "hide-input"
    ]
   },
   "outputs": [],
   "source": [
    "# Build Model Selector\n",
    "calc_ms = ModelSelector(filepath=BEST_CALC_MODEL_FP)\n",
    "calc_ms.add_pipeline(pipeline=lr, name=\"Logistic Regression\")\n",
    "calc_ms.add_pipeline(pipeline=svc, name=\"Support Vector Classifier\")\n",
    "calc_ms.add_pipeline(pipeline=rf, name=\"Random Forest\")"
   ]
  },
  {
   "cell_type": "markdown",
   "id": "d40b6142",
   "metadata": {
    "tags": [
     "hide-input"
    ]
   },
   "source": [
    "##### Prediction Results"
   ]
  },
  {
   "cell_type": "code",
   "execution_count": null,
   "id": "0acff892",
   "metadata": {
    "tags": [
     "hide-input"
    ]
   },
   "outputs": [],
   "source": [
    "calc_ms.run(X_train=X_train, y_train=y_train, X_test=X_test, y_test=y_test, force=FORCE_MODEL_FIT)\n",
    "y_pred = calc_ms.predict(X=X)\n",
    "calc_ms.score(y_true=y, y_pred=y_pred)"
   ]
  },
  {
   "cell_type": "markdown",
   "id": "9302615c",
   "metadata": {
    "tags": [
     "hide-input"
    ]
   },
   "source": [
    "Logistic Regression outperformed Support Vector Machine and Random Forest on the calcification dataset. It achieved an overall accuracy of 0.72. The precision (positive class), or the ability of the classifier not to classify false negatives was 0.58. The ability of the classifier to find all positive (malignant) cases was 0.79. The weighted harmonic mean of precision and recall was 0.67."
   ]
  },
  {
   "cell_type": "markdown",
   "id": "52298fe8",
   "metadata": {
    "tags": [
     "hide-input"
    ]
   },
   "source": [
    "##### Calcification Variable Importance"
   ]
  },
  {
   "cell_type": "markdown",
   "id": "3a0d6b8a",
   "metadata": {
    "tags": [
     "hide-input"
    ]
   },
   "source": [
    "The coefficients of the model indicate the importance of the feature to the prediction task. A positive value provides evidence that the instance being classified belongs to the positive or malignant class; whereas, a negative value provides evidence that the instance being classified belongs to the negative or benign class. Let's take a look."
   ]
  },
  {
   "cell_type": "code",
   "execution_count": null,
   "id": "ff7f784a",
   "metadata": {
    "tags": [
     "remove-output",
     "hide-input"
    ]
   },
   "outputs": [],
   "source": [
    "fig, ax = plt.subplots(figsize=(12,8))\n",
    "title = f\"CBIS-DDSM Multivariate Analysis\\nCalcification Cases\\nFeature Importance\"\n",
    "calc_ms.plot_feature_importance(title=title, ax=ax)"
   ]
  },
  {
   "cell_type": "markdown",
   "id": "3dc44af1",
   "metadata": {
    "tags": [
     "hide-input"
    ]
   },
   "source": [
    "We see that calcification types have the greatest impact on the classification task. Further, the feature weight of evidence aligns with current literature on the differential of breast calcifications. For instance, pleomorphic, fine linear, and fine linear branching calcifications are understood to have a higher probability of malignancy. In contrast, lucent centered, and vascular calcifications are typically classified as BI-RADS 1 or 2."
   ]
  },
  {
   "cell_type": "markdown",
   "id": "6b02f95a",
   "metadata": {
    "tags": [
     "hide-input"
    ]
   },
   "source": [
    "#### Mass Case Multivariate Analysis\n",
    "##### Get Model Data"
   ]
  },
  {
   "cell_type": "code",
   "execution_count": null,
   "id": "93b7bbc9",
   "metadata": {
    "tags": [
     "hide-input"
    ]
   },
   "outputs": [],
   "source": [
    "X_train, y_train, X_test, y_test = cases.get_mass_model_data()\n",
    "X = pd.concat([X_train, X_test], axis=0)\n",
    "y = pd.concat([y_train, y_test], axis=0)"
   ]
  },
  {
   "cell_type": "markdown",
   "id": "01caf202",
   "metadata": {
    "tags": [
     "hide-input"
    ]
   },
   "source": [
    "##### Build and Execute Model Selection"
   ]
  },
  {
   "cell_type": "code",
   "execution_count": null,
   "id": "9ffa4371",
   "metadata": {
    "tags": [
     "hide-input"
    ]
   },
   "outputs": [],
   "source": [
    "BEST_MASS_MODEL_FP = os.path.abspath('model/eda/best_mass_pipeline.pkl')"
   ]
  },
  {
   "cell_type": "code",
   "execution_count": null,
   "id": "c3a82e8f",
   "metadata": {
    "tags": [
     "hide-input"
    ]
   },
   "outputs": [],
   "source": [
    "# Build Model Selector\n",
    "mass_ms = ModelSelector(filepath=BEST_MASS_MODEL_FP)\n",
    "mass_ms.add_pipeline(pipeline=lr, name=\"Logistic Regression\")\n",
    "mass_ms.add_pipeline(pipeline=svc, name=\"Support Vector Classifier\")\n",
    "mass_ms.add_pipeline(pipeline=rf, name=\"Random Forest\")"
   ]
  },
  {
   "cell_type": "markdown",
   "id": "61a71afc",
   "metadata": {
    "tags": [
     "hide-input"
    ]
   },
   "source": [
    "##### Prediction Results"
   ]
  },
  {
   "cell_type": "code",
   "execution_count": null,
   "id": "79e14059",
   "metadata": {
    "tags": [
     "hide-input"
    ]
   },
   "outputs": [],
   "source": [
    "mass_ms.run(X_train=X_train, y_train=y_train, X_test=X_test, y_test=y_test, force=FORCE_MODEL_FIT)\n",
    "y_pred = mass_ms.predict(X=X)\n",
    "mass_ms.score(y_true=y, y_pred=y_pred)"
   ]
  },
  {
   "cell_type": "markdown",
   "id": "45580786",
   "metadata": {
    "tags": [
     "hide-input"
    ]
   },
   "source": [
    "Random Forest performed the best on the mass data. It achieved an accuracy of 0.80. Precision and recall were 0.77, and 0.78 respectively."
   ]
  },
  {
   "cell_type": "markdown",
   "id": "ac8ed19b",
   "metadata": {
    "tags": [
     "hide-input"
    ]
   },
   "source": [
    "##### Mass Variable Importance"
   ]
  },
  {
   "cell_type": "code",
   "execution_count": null,
   "id": "c11bb273",
   "metadata": {
    "tags": [
     "remove-output",
     "hide-input"
    ]
   },
   "outputs": [],
   "source": [
    "fig, ax = plt.subplots(figsize=(12,12))\n",
    "title = f\"CBIS-DDSM Multivariate Analysis\\nMass Cases\\nFeature Importance\"\n",
    "mass_ms.plot_feature_importance(title=title, ax=ax)"
   ]
  },
  {
   "cell_type": "markdown",
   "id": "d16f1f9b",
   "metadata": {
    "tags": [
     "hide-input"
    ]
   },
   "source": [
    "Random Forest performed best of the three models on the mass data. Unlike Logistic Regression, Random Forest has no coefficients to provide weight of evidence for (or against) the positive class. Rather, Random Forest computes a feature's non-negative importance according to its ability to increase the purity of the leaves in each tree. Pure leaves have data points from only one class. Therefore, we would expect the most important features to be strongly associated with a benign or malignant finding. Let's examine a few of the top features.\n",
    "\n",
    "Spiculated masses are characterized by lines of varying length and thickness radiating from the margins of the mass and are considered very suspicious for malignancy {cite}`braggOncologicImaging2002`. Circumscribed masses have margins with a sharp demarcation between the lesion and surrounding tissue {cite}`princeMultipleCircumscribedMasses2018`. Most circumscribed masses are benign. Irregular masses, those having margins that are neither round nor oval, tend to imply a more suspicious finding {cite}`princeMultipleIrregularMasses2018`.  An obscured mass is a mass with greater than 25% of its margin hidden by surrounding fibro glandular tissue on the mammography; hence, it cannot be fully assessed. {cite}`elezabyObscuredMass2018`. In practice; however, this term is commonly used when the portion of the margin that is visualized is circumscribed, implying a lower likelihood of malignancy."
   ]
  },
  {
   "cell_type": "markdown",
   "id": "249d0d4d",
   "metadata": {
    "tags": [
     "hide-input"
    ]
   },
   "source": [
    "## Summary\n",
    "\n",
    "The purpose of this section was to analyze and explore the CBIS-DDSM metadata."
   ]
  }
 ],
 "metadata": {
  "jupytext": {
   "text_representation": {
    "extension": ".md",
    "format_name": "myst",
    "format_version": 0.13,
    "jupytext_version": "1.15.1"
   }
  },
  "kernelspec": {
   "display_name": "Python 3",
   "language": "python",
   "name": "python3"
  },
  "language_info": {
   "codemirror_mode": {
    "name": "ipython",
    "version": 3
   },
   "file_extension": ".py",
   "mimetype": "text/x-python",
   "name": "python",
   "nbconvert_exporter": "python",
   "pygments_lexer": "ipython3",
   "version": "3.10.12"
  },
  "source_map": [
   14,
   74,
   85,
   109,
   115,
   123,
   129,
   134,
   144,
   163,
   174,
   178,
   185,
   203,
   216,
   222,
   232,
   236,
   242,
   254,
   260,
   266,
   278,
   284,
   290,
   302,
   314,
   320,
   330,
   336,
   342,
   354,
   374,
   380,
   390,
   414,
   420,
   432,
   443,
   449,
   461,
   472,
   478,
   488,
   500,
   506,
   518,
   524,
   530,
   542,
   548,
   554,
   564,
   580,
   586,
   592,
   598,
   603,
   615,
   621,
   633,
   638,
   642,
   648,
   653,
   665,
   670,
   674,
   680,
   685,
   695,
   700,
   712,
   717,
   721,
   727,
   732,
   742,
   747,
   759,
   764,
   768,
   790,
   798,
   806,
   810,
   817,
   821,
   831,
   836,
   842,
   846,
   853,
   857,
   865,
   869,
   876,
   880,
   885,
   893,
   897,
   904,
   908,
   912,
   920,
   925,
   933,
   937,
   945,
   952,
   956,
   961,
   969,
   973,
   981,
   988,
   992,
   997,
   1004,
   1008,
   1016,
   1023,
   1029,
   1043,
   1050,
   1058,
   1067,
   1071,
   1076,
   1083,
   1094,
   1098,
   1104,
   1110,
   1117,
   1123,
   1127,
   1133,
   1137,
   1144,
   1148,
   1152,
   1158,
   1162,
   1169,
   1173,
   1177,
   1183,
   1187,
   1194,
   1198,
   1202,
   1208,
   1212,
   1219,
   1223,
   1228,
   1235,
   1243,
   1247,
   1253,
   1257,
   1264,
   1268,
   1272,
   1278,
   1282,
   1289,
   1293,
   1304,
   1310,
   1327,
   1348,
   1358,
   1364,
   1369,
   1406,
   1411,
   1419,
   1423,
   1429,
   1439,
   1443,
   1451,
   1455,
   1459,
   1463,
   1471,
   1475,
   1480,
   1488,
   1492,
   1498,
   1508,
   1512,
   1520,
   1524,
   1528,
   1536,
   1542
  ]
 },
 "nbformat": 4,
 "nbformat_minor": 5
}