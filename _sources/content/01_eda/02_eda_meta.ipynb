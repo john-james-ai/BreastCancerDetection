{
 "cells": [
  {
   "cell_type": "markdown",
   "id": "1d772539",
   "metadata": {},
   "source": [
    "# Exploratory Data Analysis (EDA) 1.0 - Metadata\n",
    "\n",
    "In this section, we conduct an exploratory data analysis of the CBIS-DDSM Case and DICOM datasets prepared in prior sections. The purpose of this EDA is three-fold:\n",
    "\n",
    "1. Discover the relationships among the features\n",
    "2. Explore the nature of the relationships between the features and the diagnostic target.\n",
    "3. Identify features that have the greatest influence classification accuracy.\n",
    "\n",
    "## The Dataset\n",
    "\n",
    "In this section, we will be analyzing the Case Dataset: calcification and mass datasets containing patient, abnormality, BI-RADS assessment, image image_view, breast density, subtlety, and pathology (diagnosis) information. The dataset dictionary is outlined in {numref}`eda1_case_dataset`.\n",
    "\n",
    "```{table} Case Dataset Dictionary\n",
    ":name: eda1_case_dataset\n",
    "\n",
    "| #  | Variable             | Type        | Description                                                                                                                  |\n",
    "|----|----------------------|-------------|------------------------------------------------------------------------------------------------------------------------------|\n",
    "| 1  | patient_id           | Nominal     | Unique identifier for each patient.                                                                                          |\n",
    "| 2  | breast_density       | Discrete    | BI-RADS overall assessment of the volume of attenuating tissues in the breast.                                             |\n",
    "| 3  | left_or_right_breast | Nominal     | Which breast was imaged.                                                                                                     |\n",
    "| 4  | image_view           | Dichotomous | Either cranialcaudal or mediolateral oblique image_view.                                                                            |\n",
    "| 5  | abnormality_id       | Discrete    | Number of abnormalities for the patient.                                                                                       |\n",
    "| 6  | abnormality_type     | Dichotomous | BI-RADS category of the abnormality.                                                                                         |\n",
    "| 7  | calc_type            | Nominal     | Characterization of the type of calcification (where applicable)                                                             |\n",
    "| 8  | calc_distribution    | Nominal     | The arrangement of the calcifications inside the breast and, relative to the probability of malignancy. (where applicable) |\n",
    "| 9  | mass_shape           | Nominal     | Shape of the mass                                                                                                            |\n",
    "| 10 | mass_margins         | Nominal     | Feature that separates the mass from the adjacent breast parenchyma.                                                         |\n",
    "| 11 | assessment           | Discrete    | Overall BI-RADS assessment of the mammography                                                                                |\n",
    "| 12 | pathology            | Nominal     | Determination of the malignancy of the case.                                                                                 |\n",
    "| 13 | subtlety             | Discrete    | Degree of diagnostic difficulty                                                                                              |\n",
    "| 14 | fileset              | Nominal     | Indicates training or test set.                                                                                              |\n",
    "| 15 | case_id              | Nominal     | Unique identifier for the case.                                                                                              |\n",
    "| 16 | cancer               | Dichotomous | Indicates whether the cancer is diagnosed.                                                                                   |\n",
    "```\n",
    "\n",
    "## Guiding Questions\n",
    "\n",
    "```{tip}\n",
    "“Far better an approximate answer to the right question, which is often vague, than an exact answer to the wrong question, which can always be made precise.” — John Tukey\n",
    "```\n",
    "\n",
    "Here, we'll put forward a set of questions to motivate and guide the discovery process.\n",
    "\n",
    "1. What are the relationships between calcification and mass morphological features and malignancy?\n",
    "2. To what degree does breast density relate to abnormality types and malignancy?\n",
    "3. Are certain abnormalities more or less subtle?\n",
    "4. What are the relative features of importance concerning screening?\n",
    "\n",
    "## Exploratory Data Analysis Plan\n",
    "\n",
    "The EDA will be conducted in three primary stages:\n",
    "\n",
    "1. **Univariate**: Examination of the variables independently\n",
    "2. **Bivariate**: Evaluate the relations among the features and between the features and the target.\n",
    "3. **Multivariate**: Discover feature importance w.r.t. screening and diagnosis."
   ]
  },
  {
   "cell_type": "code",
   "execution_count": 1,
   "id": "3a7676c7",
   "metadata": {
    "tags": [
     "remove-cell",
     "hide-input"
    ]
   },
   "outputs": [],
   "source": [
    "import sys\n",
    "import os\n",
    "if 'jbook' in os.getcwd():\n",
    "    os.chdir(os.path.abspath(os.path.join(\"../../..\")))\n",
    "import warnings\n",
    "warnings.filterwarnings(\"ignore\")"
   ]
  },
  {
   "cell_type": "code",
   "execution_count": 2,
   "id": "ea694a4f",
   "metadata": {
    "tags": [
     "hide-input"
    ]
   },
   "outputs": [],
   "source": [
    "import pandas as pd\n",
    "from scipy import stats\n",
    "import pickle\n",
    "import numpy as np\n",
    "import matplotlib.pyplot as plt\n",
    "import seaborn as sns\n",
    "import seaborn.objects as so\n",
    "from sklearn.svm import SVC\n",
    "from sklearn.linear_model import LogisticRegression\n",
    "from sklearn.ensemble import RandomForestClassifier\n",
    "\n",
    "from bcd.explore.meta.case import CaseExplorer\n",
    "from bcd.explore.meta.multivariate.pipeline import PipelineBuilder\n",
    "from bcd.explore.meta.multivariate.selection import ModelSelector\n",
    "\n",
    "pd.options.display.max_rows = 999\n",
    "pd.options.display.max_columns = 999\n",
    "sns.set_style('whitegrid')\n",
    "sns.set_palette(\"Blues_r\")"
   ]
  },
  {
   "cell_type": "code",
   "execution_count": 3,
   "id": "89271d04",
   "metadata": {
    "tags": [
     "remove-cell",
     "hide-input"
    ]
   },
   "outputs": [],
   "source": [
    "CASE_FP = \"data/meta/3_cooked/cases.csv\""
   ]
  },
  {
   "cell_type": "code",
   "execution_count": 4,
   "id": "e6dc702a",
   "metadata": {
    "tags": [
     "hide-input"
    ]
   },
   "outputs": [],
   "source": [
    "cases = CaseExplorer(filepath=CASE_FP)\n",
    "calc = CaseExplorer(df=cases.get_calc_data())\n",
    "mass = CaseExplorer(df=cases.get_mass_data())"
   ]
  },
  {
   "cell_type": "markdown",
   "id": "2d3c8ba2",
   "metadata": {},
   "source": [
    "## Univariate Analysis\n",
    "\n",
    "Let's get an overall sense of the data."
   ]
  },
  {
   "cell_type": "code",
   "execution_count": 5,
   "id": "f6f29cb6",
   "metadata": {
    "tags": [
     "remove-output"
    ]
   },
   "outputs": [
    {
     "ename": "NameError",
     "evalue": "name 'glue' is not defined",
     "output_type": "error",
     "traceback": [
      "\u001b[0;31m---------------------------------------------------------------------------\u001b[0m",
      "\u001b[0;31mNameError\u001b[0m                                 Traceback (most recent call last)",
      "Cell \u001b[0;32mIn[5], line 2\u001b[0m\n\u001b[1;32m      1\u001b[0m summary \u001b[38;5;241m=\u001b[39m cases\u001b[38;5;241m.\u001b[39msummary()\n\u001b[0;32m----> 2\u001b[0m \u001b[43mglue\u001b[49m(\u001b[38;5;124m\"\u001b[39m\u001b[38;5;124meda1_summary\u001b[39m\u001b[38;5;124m\"\u001b[39m, summary)\n",
      "\u001b[0;31mNameError\u001b[0m: name 'glue' is not defined"
     ]
    }
   ],
   "source": [
    "summary = cases.summary()\n",
    "glue(\"eda1_summary\", summary)"
   ]
  },
  {
   "cell_type": "markdown",
   "id": "33da4f44",
   "metadata": {},
   "source": [
    "```{glue:figure} eda1_summary\n",
    "---\n",
    "align: center\n",
    "name: eda1_summary_df\n",
    "---\n",
    "CBIS-DDSM Dataset Summary\n",
    "```"
   ]
  },
  {
   "cell_type": "code",
   "execution_count": null,
   "id": "91da04d6",
   "metadata": {
    "tags": [
     "hide-input"
    ]
   },
   "outputs": [],
   "source": [
    "st = summary.T\n",
    "pct_calc = round(st['Calcification Cases'] / st['Cases'] * 100,2).values[0]\n",
    "pct_mass = round(st['Mass Cases'] / st['Cases'] * 100,2).values[0]\n",
    "pct_calc_mal = round(st['Calcification Cases - Malignant'] / st['Calcification Cases'] * 100,2).values[0]\n",
    "pct_calc_bn = round(st['Calcification Cases - Benign'] / st['Calcification Cases'] * 100,2).values[0]\n",
    "pct_mass_mal = round(st['Mass Cases - Malignant'] / st['Mass Cases'] * 100,2).values[0]\n",
    "pct_mass_bn = round(st['Mass Cases - Benign'] / st['Mass Cases'] * 100,2).values[0]\n",
    "cases_per_patient = round(st['Cases'] / st['Patients'],2).values[0]\n",
    "\n",
    "glue(\"pct_calc\", pct_calc)\n",
    "glue(\"pct_mass\", pct_mass)\n",
    "glue(\"pct_calc_mal\", pct_calc_mal)\n",
    "glue(\"pct_calc_bn\", pct_calc_bn)\n",
    "glue(\"pct_mass_mal\", pct_mass_mal)\n",
    "glue(\"pct_mass_bn\", pct_mass_bn)\n",
    "glue(\"cases_per_patient\", cases_per_patient)"
   ]
  },
  {
   "cell_type": "markdown",
   "id": "761b3d44",
   "metadata": {},
   "source": [
    "From {numref}`eda1_summary_df`, several observations can be made:\n",
    "\n",
    "1. We have 3566 cases, {glue:}`pct_calc`% are calcification cases and {glue:}`pct_mass`% are mass cases.\n",
    "2. Of the calcification cases, {glue:}`pct_calc_bn`% are benign and {glue:}`pct_calc_mal`% are malignant.\n",
    "3. Of the mass cases, {glue:}`pct_mass_bn`% are benign and {glue:}`pct_mass_mal`% are malignant.\n",
    "4. On average, we have approximately {glue:}`cases_per_patient` cases per patient.\n",
    "\n",
    "Case, as defined in {cite}`leeCuratedMammographyData2017`, indicates a particular abnormality, seen on the craniocaudal (CC) and/or mediolateral oblique (MLO) views."
   ]
  },
  {
   "cell_type": "markdown",
   "id": "500ce525",
   "metadata": {},
   "source": [
    "Let's take a look at the calcification and mass data."
   ]
  },
  {
   "cell_type": "code",
   "execution_count": null,
   "id": "0cd23879",
   "metadata": {
    "tags": [
     "hide-input"
    ]
   },
   "outputs": [],
   "source": [
    "cases.get_calc_data().sample(5)\n",
    "cases.get_mass_data().sample(5)"
   ]
  },
  {
   "cell_type": "markdown",
   "id": "56efa697",
   "metadata": {},
   "source": [
    "Our univariate analysis will cover:\n",
    "\n",
    "- Breast Density\n",
    "- Left or Right Breast\n",
    "- Image View\n",
    "- Abnormality Id\n",
    "- Abnormality Type\n",
    "- Subtlety\n",
    "- BI-RADS Assessment\n",
    "- Calcification Type\n",
    "- Calcification Distribution\n",
    "- Mass Shape\n",
    "- Mass Margins\n",
    "- Pathology\n",
    "- Cancer (Target)"
   ]
  }
 ],
 "metadata": {
  "jupytext": {
   "text_representation": {
    "extension": ".md",
    "format_name": "myst",
    "format_version": 0.13,
    "jupytext_version": "1.15.1"
   }
  },
  "kernelspec": {
   "display_name": "Python 3",
   "language": "python",
   "name": "python3"
  },
  "language_info": {
   "codemirror_mode": {
    "name": "ipython",
    "version": 3
   },
   "file_extension": ".py",
   "mimetype": "text/x-python",
   "name": "python",
   "nbconvert_exporter": "python",
   "pygments_lexer": "ipython3",
   "version": "3.10.12"
  },
  "source_map": [
   14,
   74,
   85,
   109,
   115,
   123,
   129,
   134,
   144,
   163,
   174,
   178,
   185
  ]
 },
 "nbformat": 4,
 "nbformat_minor": 5
}