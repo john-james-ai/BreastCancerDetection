{
 "cells": [
  {
   "cell_type": "markdown",
   "id": "1a68f8a4",
   "metadata": {},
   "source": [
    "(eda1)=\n",
    "# EDA Part I: Case Dataset\n",
    "\n",
    "In this section, we will be analyzing the Case Dataset ({numref}`eda1_case_dataset`): calcification and mass datasets containing patient, abnormality, BI-RADS assessment, image image_view, breast density, subtlety, and pathology (diagnosis) information. We aim to obtain insight into the CBIS-DATASET, specifically regarding factors that distinguish benign from malignant diagnoses in digital mammography screening.\n",
    "\n",
    "```{table} Case Dataset Dictionary\n",
    ":name: eda1_case_dataset\n",
    "| #  | Variable             | Type        | Description                                                                                                                  | \n",
    "|----|----------------------|-------------|------------------------------------------------------------------------------------------------------------------------------|\n",
    "| 1  | patient_id           | Nominal     | Unique identifier for each patient.                                                                                          |\n",
    "| 2  | breast_density       | Discrete    | BI-RADS overall assessment of the volume of attenuating tissues in the breast.                                             |\n",
    "| 3  | left_or_right_breast | Nominal     | Which breast was imaged.                                                                                                     |\n",
    "| 4  | image_view           | Dichotomous | Either cranialcaudal or mediolateral oblique image_view.                                                                            |\n",
    "| 5  | abnormality_id       | Discrete    | Number of abnormalities for the patient.                                                                                       |\n",
    "| 6  | abnormality_type     | Dichotomous | BI-RADS category of the abnormality.                                                                                         | \n",
    "| 7  | calc_type            | Nominal     | Characterization of the type of calcification (where applicable)                                                             | \n",
    "| 8  | calc_distribution    | Nominal     | The arrangement of the calcifications inside the breast and, relative to the probability of malignancy. (where applicable) | \n",
    "| 9  | mass_shape           | Nominal     | Shape of the mass                                                                                                            |\n",
    "| 10 | mass_margins         | Nominal     | Feature that separates the mass from the adjacent breast parenchyma.                                                         |\n",
    "| 11 | assessment           | Discrete    | Overall BI-RADS assessment of the mammography                                                                                |\n",
    "| 12 | pathology            | Nominal     | Determination of the malignancy of the case.                                                                                 |\n",
    "| 13 | subtlety             | Discrete    | Degree of diagnostic difficulty                                                                                              |\n",
    "| 14 | fileset              | Nominal     | Indicates training or test set.                                                                                              |\n",
    "| 15 | case_id              | Nominal     | Unique identifier for the case.                                                                                              |\n",
    "| 16 | cancer               | Dichotomous | Indicates whether the cancer is diagnosed.                                                                                   |\n",
    "```\n",
    "\n",
    "## Guiding Questions\n",
    "```{tip}\n",
    "“Far better an approximate answer to the right question, which is often vague, than an exact answer to the wrong question, which can always be made precise.” — John Tukey\n",
    "```\n",
    "\n",
    "Here, we put forward a set of questions to motivate and guide the discovery process.\n",
    "\n",
    "1. What are the relationships between calcification and mass morphological features and malignancy?\n",
    "2. To what degree do breast density, image view, left or right side, and subtlety relate to abnormality types and malignancy?\n",
    "3. What are the relative features of importance concerning diagnosis?\n",
    "\n",
    "\n",
    "## Exploratory Data Analysis Plan\n",
    "\n",
    "The EDA will be conducted in three primary stages:\n",
    "\n",
    "1. **Univariate**: Examination of the variables independently\n",
    "2. **Bivariate**: Evaluate the relations among the features and between the features and the target.\n",
    "3. **Multivariate**: Discover feature importance w.r.t. screening and diagnosis."
   ]
  },
  {
   "cell_type": "code",
   "execution_count": null,
   "id": "8e2e7746",
   "metadata": {
    "tags": [
     "remove-cell"
    ]
   },
   "outputs": [],
   "source": [
    "import os\n",
    "if 'jbook' in os.getcwd():\n",
    "    os.chdir(os.path.abspath(os.path.join(\"../../..\")))\n",
    "import warnings\n",
    "warnings.filterwarnings(\"ignore\")"
   ]
  },
  {
   "cell_type": "code",
   "execution_count": null,
   "id": "6a6c70b7",
   "metadata": {
    "tags": [
     "hide-input"
    ]
   },
   "outputs": [],
   "source": [
    "import pandas as pd\n",
    "from scipy import stats\n",
    "import pickle\n",
    "import numpy as np\n",
    "import matplotlib.pyplot as plt\n",
    "from myst_nb import glue\n",
    "import seaborn as sns\n",
    "import seaborn.objects as so\n",
    "from sklearn.svm import SVC\n",
    "from sklearn.linear_model import LogisticRegression\n",
    "from sklearn.ensemble import RandomForestClassifier\n",
    "\n",
    "from bcd.explore.meta.case import CaseExplorer\n",
    "from bcd.explore.meta.dicom import DicomExplorer\n",
    "from bcd.explore.meta.multivariate.pipeline import PipelineBuilder\n",
    "from bcd.explore.meta.multivariate.selection import ModelSelector\n",
    "\n",
    "pd.options.display.max_rows = 999\n",
    "pd.options.display.max_columns = 999\n",
    "sns.set_style('whitegrid')\n",
    "sns.set_palette(\"Blues_r\")"
   ]
  },
  {
   "cell_type": "code",
   "execution_count": null,
   "id": "33b25f6c",
   "metadata": {
    "tags": [
     "hide-input"
    ]
   },
   "outputs": [],
   "source": [
    "CASE_FP = \"data/meta/3_cooked/cases.csv\"\n",
    "DICOM_FP = \"data/meta/2_clean/dicom.csv\""
   ]
  },
  {
   "cell_type": "code",
   "execution_count": null,
   "id": "a602b1ba",
   "metadata": {
    "tags": [
     "hide-input"
    ]
   },
   "outputs": [],
   "source": [
    "cases = CaseExplorer(filepath=CASE_FP)\n",
    "calc = CaseExplorer(df=cases.get_calc_data())\n",
    "mass = CaseExplorer(df=cases.get_mass_data())"
   ]
  },
  {
   "cell_type": "markdown",
   "id": "0e56c05c",
   "metadata": {},
   "source": [
    "## Univariate Analysis\n",
    "Let's get an overall sense of the data."
   ]
  },
  {
   "cell_type": "code",
   "execution_count": null,
   "id": "ed825323",
   "metadata": {
    "tags": [
     "hide-input",
     "remove-output"
    ]
   },
   "outputs": [],
   "source": [
    "summary = cases.summary\n",
    "glue(\"eda1_summary\", summary)"
   ]
  },
  {
   "cell_type": "markdown",
   "id": "aabb7671",
   "metadata": {},
   "source": [
    "```{glue:figure} eda1_summary\n",
    "---\n",
    "align: center\n",
    "name: eda1_summary_df\n",
    "---\n",
    "CBIS-DDSM Dataset Summary\n",
    "```"
   ]
  },
  {
   "cell_type": "code",
   "execution_count": null,
   "id": "b420d987",
   "metadata": {
    "tags": [
     "hide-input",
     "remove-output"
    ]
   },
   "outputs": [],
   "source": [
    "st = summary.T\n",
    "pct_calc = round(st['Calcification Cases'] / st['Cases'] * 100,2).values[0]\n",
    "pct_mass = round(st['Mass Cases'] / st['Cases'] * 100,2).values[0]\n",
    "pct_calc_mal = round(st['Calcification Cases - Malignant'] / st['Calcification Cases'] * 100,2).values[0]\n",
    "pct_calc_bn = round(st['Calcification Cases - Benign'] / st['Calcification Cases'] * 100,2).values[0]\n",
    "pct_mass_mal = round(st['Mass Cases - Malignant'] / st['Mass Cases'] * 100,2).values[0]\n",
    "pct_mass_bn = round(st['Mass Cases - Benign'] / st['Mass Cases'] * 100,2).values[0]\n",
    "cases_per_patient = round(st['Cases'] / st['Patients'],2).values[0]\n",
    "\n",
    "glue(\"pct_calc\", pct_calc)\n",
    "glue(\"pct_mass\", pct_mass)\n",
    "glue(\"pct_calc_mal\", pct_calc_mal)\n",
    "glue(\"pct_calc_bn\", pct_calc_bn)\n",
    "glue(\"pct_mass_mal\", pct_mass_mal)\n",
    "glue(\"pct_mass_bn\", pct_mass_bn)\n",
    "glue(\"cases_per_patient\", cases_per_patient)"
   ]
  },
  {
   "cell_type": "markdown",
   "id": "90decb86",
   "metadata": {},
   "source": [
    "From {numref}`eda1_summary_df`, several observations can be made:\n",
    "\n",
    "1. We have 3566 cases, {glue:}`pct_calc`% are calcification cases and {glue:}`pct_mass`% are mass cases.\n",
    "2. Of the calcification cases, {glue:}`pct_calc_bn`% are benign and {glue:}`pct_calc_mal`% are malignant.\n",
    "3. Of the mass cases, {glue:}`pct_mass_bn`% are benign and {glue:}`pct_mass_mal`% are malignant.\n",
    "4. On average, we have approximately {glue:}`cases_per_patient` cases per patient.\n",
    "\n",
    "Case, as defined in {cite}`leeCuratedMammographyData2017`, indicates a particular abnormality, seen on the craniocaudal (CC) and/or mediolateral oblique (MLO) views."
   ]
  },
  {
   "cell_type": "markdown",
   "id": "80bbbd3e",
   "metadata": {},
   "source": [
    "Let's take a look at the calcification and mass data."
   ]
  },
  {
   "cell_type": "code",
   "execution_count": null,
   "id": "b5d588cf",
   "metadata": {
    "tags": [
     "hide-input"
    ]
   },
   "outputs": [],
   "source": [
    "cases.get_calc_data().sample(5)\n",
    "cases.get_mass_data().sample(5)"
   ]
  },
  {
   "cell_type": "markdown",
   "id": "2025e4a7",
   "metadata": {},
   "source": [
    "Our univariate analysis will cover:\n",
    "- Breast Density\n",
    "- Left or Right Breast\n",
    "- Image View\n",
    "- Abnormality Id\n",
    "- Abnormality Type\n",
    "- Subtlety\n",
    "- BI-RADS Assessment\n",
    "- Calcification Type\n",
    "- Calcification Distribution\n",
    "- Mass Shape\n",
    "- Mass Margins\n",
    "- Pathology\n",
    "- Cancer (Target)"
   ]
  },
  {
   "cell_type": "markdown",
   "id": "5fafd65e",
   "metadata": {},
   "source": [
    "### Breast Density\n",
    "Radiologists classify breast density using a 4-level density scale {cite}`BreastImagingReporting`:\n",
    "\n",
    "1. Almost entirely fatty\n",
    "2. Scattered areas of fibroglandular density\n",
    "3. Heterogeneously dense\n",
    "4. Extremely dense\n",
    "\n",
    "Note: the corresponding BI-RADS breast density categories are a, b, c, and d (not 1,2,3, and 4 as listed above) so as not to be confused with the BI-RADS assessment categories. Notwithstanding, CBIS-DDSM data encodes these values as ordinal numeric variables.   The following chart illustrates the distribution of BI-RADS breast density categories within the CBIS-DDSM."
   ]
  },
  {
   "cell_type": "code",
   "execution_count": null,
   "id": "6c4a37ba",
   "metadata": {
    "tags": [
     "remove-output",
     "hide-input"
    ]
   },
   "outputs": [],
   "source": [
    "fig, ax = plt.subplots(figsize=(12,4))\n",
    "ax = cases.plot.countplot(x='breast_density', ax=ax, title =\"Distribution of Breast Density in CBIS-DDSM\", plot_counts=True)\n",
    "glue(\"eda1_univariate_breast_density\", ax)"
   ]
  },
  {
   "cell_type": "markdown",
   "id": "f0b58ecd",
   "metadata": {},
   "source": [
    "```{glue:figure} eda1_univariate_breast_density\n",
    "---\n",
    "align: center\n",
    "name: eda1_univariate_breast_density_fig\n",
    "---\n",
    "Distribution of Breast Density in CBIS-DDSM\n",
    "```"
   ]
  },
  {
   "cell_type": "markdown",
   "id": "d15679e4",
   "metadata": {},
   "source": [
    "### Left or Right Side"
   ]
  },
  {
   "cell_type": "code",
   "execution_count": null,
   "id": "411aa7a0",
   "metadata": {
    "tags": [
     "remove-output",
     "hide-input"
    ]
   },
   "outputs": [],
   "source": [
    "fig, ax = plt.subplots(figsize=(12,4))\n",
    "ax = cases.plot.countplot(x='left_or_right_breast', ax=ax, title =\"Distribution of Left/Right Breasts in CBIS-DDSM\", plot_counts=True)\n",
    "glue(\"eda1_univariate_side\", ax)"
   ]
  },
  {
   "cell_type": "markdown",
   "id": "8194eb87",
   "metadata": {},
   "source": [
    "```{glue:figure} eda1_univariate_side\n",
    "---\n",
    "align: center\n",
    "name: eda1_univariate_side_fig\n",
    "---\n",
    "Distribution of Breast Density in CBIS-DDSM\n",
    "```"
   ]
  },
  {
   "cell_type": "markdown",
   "id": "fc5897fd",
   "metadata": {},
   "source": [
    "As shown in {numref}`eda1_univariate_side_fig` the dataset is approximately balanced with respect to left or right breast images."
   ]
  },
  {
   "cell_type": "markdown",
   "id": "4231e46a",
   "metadata": {},
   "source": [
    "### Image View\n",
    "CBIS-DDSM contains digital mammography images in two different image_views: cranial-caudal (CC) and mediolateral oblique (MLO). The CC image_view is taken from above the breast, and best visualizes the subarcolar, central, medial, and posteromedial aspects of the breast. The MLO projection (side-image_view) images the breast in its entirety and best visualizes the posterior and upper-outer quadrants of the breast {cite}`lilleMammographicImagingPractical2019`."
   ]
  },
  {
   "cell_type": "code",
   "execution_count": null,
   "id": "5ad1e190",
   "metadata": {
    "tags": [
     "remove-output",
     "hide-input"
    ]
   },
   "outputs": [],
   "source": [
    "fig, ax = plt.subplots(figsize=(12,4))\n",
    "ax = cases.plot.countplot(x='image_view', ax=ax, title =\"Distribution of Image View in CBIS-DDSM\", plot_counts=True)\n",
    "glue(\"eda1_univariate_view\", ax)"
   ]
  },
  {
   "cell_type": "markdown",
   "id": "cbd76c7f",
   "metadata": {},
   "source": [
    "```{glue:figure} eda1_univariate_view\n",
    "---\n",
    "align: center\n",
    "name: eda1_univariate_view_fig\n",
    "---\n",
    "Distribution of Image View in CBIS-DDSM\n",
    "```"
   ]
  },
  {
   "cell_type": "markdown",
   "id": "13cb3a5a",
   "metadata": {},
   "source": [
    "As shown in {numref}`eda1_univariate_view_fig`, the proportions of CC and MLO image_views are approximately 47% and 53% respectively."
   ]
  },
  {
   "cell_type": "markdown",
   "id": "0c292009",
   "metadata": {},
   "source": [
    "### Abnormality Id\n",
    "The abnormality id is a sequence number assigned to each abnormality for a patient."
   ]
  },
  {
   "cell_type": "code",
   "execution_count": null,
   "id": "4bed9909",
   "metadata": {
    "tags": [
     "remove-output",
     "hide-input"
    ]
   },
   "outputs": [],
   "source": [
    "fig, ax = plt.subplots(figsize=(12,4))\n",
    "ax = cases.plot.countplot(x='abnormality_id', ax=ax, title =\"Distribution of Abnormality Counts per Patient in CBIS-DDSM\", plot_counts=True)\n",
    "glue(\"eda1_univariate_abnormality_id\", ax)"
   ]
  },
  {
   "cell_type": "markdown",
   "id": "527c95fb",
   "metadata": {},
   "source": [
    "```{glue:figure} eda1_univariate_abnormality_id\n",
    "---\n",
    "align: center\n",
    "name: eda1_univariate_abnormality_id_fig\n",
    "---\n",
    "Distribution of Abnormality Counts per Patient in CBIS-DDSM\n",
    "```"
   ]
  },
  {
   "cell_type": "markdown",
   "id": "e8825861",
   "metadata": {},
   "source": [
    "As indicated in {numref}`eda1_univariate_abnormality_id_fig`, the vast majority of patients present with a single abnormality."
   ]
  },
  {
   "cell_type": "markdown",
   "id": "9b16706f",
   "metadata": {},
   "source": [
    "### Abnormality Type\n",
    "CBIS-DDSM contains two abnormality types: calcification and mass. \n",
    "\n",
    "Calcifications, common on mammograms, especially after age 50, are calcium deposits within the breast tissue. Typically benign, calcifications show up as either macrocalcifications or microcalcifications. Macrocalcifications appear as large white dots or dashes which are almost always noncancerous, requiring no further testing or follow-up. Microcalcifications show up as fine, white specks, similar to grains of salt. Usually noncancerous, but certain patterns can be an early sign of cancer.\n",
    "\n",
    "Masses are also common, particularly among women of reproductive age. For the 25% of women affected by breast disease in their lifetime, the vast majority will present initially with a new breast mass in the primary care setting. Breast masses have a wide range of causes, from physiological adenosis to highly aggressive malignancy."
   ]
  },
  {
   "cell_type": "code",
   "execution_count": null,
   "id": "271eb791",
   "metadata": {
    "tags": [
     "remove-output",
     "hide-input"
    ]
   },
   "outputs": [],
   "source": [
    "fig, ax = plt.subplots(figsize=(12,4))\n",
    "ax = cases.plot.countplot(x='abnormality_type', ax=ax, title =\"Distribution of Abnormality Types in CBIS-DDSM\", plot_counts=True)\n",
    "glue(\"eda1_univariate_abnormality_type\", ax)"
   ]
  },
  {
   "cell_type": "markdown",
   "id": "759ef879",
   "metadata": {},
   "source": [
    "```{glue:figure} eda1_univariate_abnormality_type\n",
    "---\n",
    "align: center\n",
    "name: eda1_univariate_abnormality_type_fig\n",
    "---\n",
    "Distribution of Abnormality Types in CBIS-DDSM\n",
    "```"
   ]
  },
  {
   "cell_type": "markdown",
   "id": "4227ab22",
   "metadata": {},
   "source": [
    "As shown in {numref}`eda1_univariate_abnormality_type_fig`, the dataset contains a balance of calcification and mass cases."
   ]
  },
  {
   "cell_type": "markdown",
   "id": "36266323",
   "metadata": {},
   "source": [
    "### Subtlety\n",
    "Subtlety is a measure of the degree to which a particular case is difficult to diagnose. Values range from 1 (highly subtle) to 5 (obvious)."
   ]
  },
  {
   "cell_type": "code",
   "execution_count": null,
   "id": "19ecf32b",
   "metadata": {
    "tags": [
     "remove-output",
     "hide-input"
    ]
   },
   "outputs": [],
   "source": [
    "fig, ax = plt.subplots(figsize=(12,4))\n",
    "ax = cases.plot.countplot(x='subtlety', ax=ax, title =\"Distribution of Subtlety in CBIS-DDSM\", plot_counts=True)\n",
    "glue(\"eda1_univariate_subtlety\", ax)"
   ]
  },
  {
   "cell_type": "markdown",
   "id": "a36ed19b",
   "metadata": {},
   "source": [
    "```{glue:figure} eda1_univariate_subtlety\n",
    "---\n",
    "align: center\n",
    "name: eda1_univariate_subtlety_fig\n",
    "---\n",
    "Distribution of Subtlety in CBIS-DDSM\n",
    "```"
   ]
  },
  {
   "cell_type": "markdown",
   "id": "c5ef44f3",
   "metadata": {},
   "source": [
    "As depicted in {numref}`eda1_univariate_subtlety_fig`, approximately 17% of the cases are highly subtle (1,2). A plurality of cases are moderately to slightly subtle and nearly a 1/3rd of the cases are considered obvious."
   ]
  },
  {
   "cell_type": "markdown",
   "id": "8a8c21b8",
   "metadata": {},
   "source": [
    "### BI-RADS Assessment\n",
    "A BI-RADS assessment is based upon a thorough evaluation of the mammographic features of concern and has the following six categories {cite}`BreastImagingReporting`:\n",
    "\n",
    "| Category | Definition                                                                                                                                                         |\n",
    "|----------|--------------------------------------------------------------------------------------------------------------------------------------------------------------------|\n",
    "| 0        | Means the findings are unclear. The radiologist will need more images to determine a score                                                                       |\n",
    "| 1        | Means the findings are negative and the breast tissue appears normal. No masses, calcifications, asymmetry, or other abnormalities have been found.             |\n",
    "| 2        | Means the findings are benign, which is also negative for cancer. While a   mass, calcification, or other abnormality may have been detected, it’s not cancerous. |\n",
    "| 3        | Means the findings are probably benign. While a mass, calcification, or other abnormality may have been found, it’s most likely not cancerous.                    |\n",
    "| 4        | Means cancer is suspected. Four subcategories relate the probability of a malignancy: 4A (2-10%) 4B (10-50%) 4C (50-95%)                       |\n",
    "| 5        | Means cancer is highly suspected. Findings have a 95% chance or higher of being cancerous.                                                                       |\n",
    "| 6        | Cancer was previously diagnosed using a biopsy.       \n",
    "                                                                                                                  |"
   ]
  },
  {
   "cell_type": "code",
   "execution_count": null,
   "id": "325a2ad8",
   "metadata": {
    "tags": [
     "remove-output",
     "hide-input"
    ]
   },
   "outputs": [],
   "source": [
    "fig, ax = plt.subplots(figsize=(12,4))\n",
    "ax = cases.plot.countplot(x='assessment', ax=ax, title =\"Distribution of BI-RADS Assessment in CBIS-DDSM\", plot_counts=True)\n",
    "glue(\"eda1_univariate_assessment\", ax)"
   ]
  },
  {
   "cell_type": "markdown",
   "id": "c8ab5a04",
   "metadata": {},
   "source": [
    "```{glue:figure} eda1_univariate_assessment\n",
    "---\n",
    "align: center\n",
    "name: eda1_univariate_assessment_fig\n",
    "---\n",
    "Distribution of BI-RADS Assessment in CBIS-DDSM\n",
    "```"
   ]
  },
  {
   "cell_type": "markdown",
   "id": "1db8e5c0",
   "metadata": {},
   "source": [
    "{numref}`eda1_univariate_assessment_fig` indicates a majority of cases in the CBIS-DDSM are suspected or highly suspected of malignancy."
   ]
  },
  {
   "cell_type": "markdown",
   "id": "483d3135",
   "metadata": {},
   "source": [
    "### Calcification Type\n",
    "Calcification type describes the morphology of a case and is the most important factor in the differentiation between benign and malignant calcifications. There are over 40 different categories of calc_type in the dataset. Some of which are {cite}`BreastImagingReporting`:\n",
    "\n",
    "| #  | Morphology            |                                                                                                                | Assessment     |\n",
    "|----|-----------------------|----------------------------------------------------------------------------------------------------------------|----------------|\n",
    "| 1  | Amorphous             | Indistinct calcifications, without clearly defined shape, small and/or   hazy in appearance                    | BI-RADS 4B     |\n",
    "| 2  | Coarse Heterogeneous  | Irregular, conspicuous calcifications, typically larger than 0.5 mm.                                           | BI-RADS 3      |\n",
    "| 3  | Dystrophic            | Irregular, 'lava-shaped', larger than 0.5 mm, which develop 3-5 years   after treatment in about 30% of women. | BI-RADS 1 or 2 |\n",
    "| 4  | Eggshell              | Very thin benign calcifications that appear as calcium                                                         | BI-RADS 1 or 2 |\n",
    "| 5  | Fine Linear Branching | Thin linear or curvilinear irregular.                                                                          | BI-RADS 4B     |\n",
    "| 6  | Large Rod-like        | Benign calcifications that form continuous rods that may occassionally be   branching.                         | BI-RADS 1 or 2 |\n",
    "| 7  | Lucent-Centered       | Round or oval calcifications, typically result of fat necrosis, or   calcified debris in ducts                 | BI-RADS 1 or 2 |\n",
    "| 8  | Milk of Calcium       | Benign sedimented calcifications in macro or microcysts.                                                       | BI-RADS 1 or 2 |\n",
    "| 9  | Pleomorphic           | Calcifications varying in size and shape, more conspicuous than amorphic   calcifications.                     | BI-RADS 4B     |\n",
    "| 10 | Punctate              | Round calcifications 0.5-1 mm in size.                                                                         | BI-RADS 2,3,4  |\n",
    "| 11 | Skin                  | Skin calcifications, usually lucent-centered deposits                                                          | BI-RADS 1 or 2 |\n",
    "| 12 | Vascular              | Linear or form parallel tracks, usually associated with blood vessels.                                         | BI-RADS 1 or 2 |"
   ]
  },
  {
   "cell_type": "code",
   "execution_count": null,
   "id": "5ce6aaae",
   "metadata": {
    "tags": [
     "remove-output",
     "hide-input"
    ]
   },
   "outputs": [],
   "source": [
    "fig, ax = plt.subplots(figsize=(12,10))\n",
    "ax = calc.plot.countplot(y='calc_type', ax=ax, title =\"Distribution of Calcification Types in CBIS-DDSM\", plot_counts=True, order_by_count=True)\n",
    "glue(\"eda1_univariate_calc_types\", ax)"
   ]
  },
  {
   "cell_type": "markdown",
   "id": "8f22a53d",
   "metadata": {},
   "source": [
    "```{glue:figure} eda1_univariate_calc_types\n",
    "---\n",
    "align: center\n",
    "name: eda1_univariate_calc_types_fig\n",
    "---\n",
    "Distribution of Calcification Types in CBIS-DDSM\n",
    "```"
   ]
  },
  {
   "cell_type": "markdown",
   "id": "e4ce3a48",
   "metadata": {},
   "source": [
    "As shown in {numref}`eda1_univariate_calc_types_fig`, pleomorphic and amorphous calcifications account for over half of the calcification cases in the dataset. Nearly 75% of the calcification cases are represented by five types."
   ]
  },
  {
   "cell_type": "markdown",
   "id": "4772a7c4",
   "metadata": {},
   "source": [
    "### Calcification Distribution\n",
    "\n",
    "Calcification distribution refers to the arrangement of the calcifications inside the breast. BI-RADS describes the following categories of calcification distribution {cite}`BreastImagingReporting`:\n",
    "\n",
    "1. Diffuse or Scattered: Calcifications throughout the whole breast.\n",
    "2. Regional: Scattered in a larger volume (> 2 cc) of breast tissue and not in the expected ductal distribution.\n",
    "3. Clustered: Groups of at least 5 calcifications in a small volume of tissue\n",
    "4. Segmental: Calcium deposits appear in ducts or branches of a segment or lobe."
   ]
  },
  {
   "cell_type": "code",
   "execution_count": null,
   "id": "0f69f512",
   "metadata": {
    "tags": [
     "remove-output",
     "hide-input"
    ]
   },
   "outputs": [],
   "source": [
    "fig, ax = plt.subplots(figsize=(12,6))\n",
    "ax = calc.plot.countplot(y='calc_distribution', ax=ax, title =\"Calcification Distributions in CBIS-DDSM\", plot_counts=True, order_by_count=True)\n",
    "glue(\"eda1_univariate_calc_dist\", ax)"
   ]
  },
  {
   "cell_type": "markdown",
   "id": "d66c79a5",
   "metadata": {},
   "source": [
    "```{glue:figure} eda1_univariate_calc_dist\n",
    "---\n",
    "align: center\n",
    "name: eda1_univariate_calc_dist_fig\n",
    "---\n",
    "Calcification Distributions in CBIS-DDSM\n",
    "```"
   ]
  },
  {
   "cell_type": "markdown",
   "id": "fb631171",
   "metadata": {},
   "source": [
    "As indicated in {numref}`eda1_univariate_calc_dist_fig`, over 80% of the calfication cases have either clustered or segmental distributions."
   ]
  },
  {
   "cell_type": "markdown",
   "id": "5af2df2c",
   "metadata": {},
   "source": [
    "### Mass Shape\n",
    "The BI-RADS lexicon defines three mass shapes {cite}`BreastImagingReporting`:\n",
    "1. Round\n",
    "2. Oval\n",
    "3. Irregular\n",
    "\n",
    "The CBIS-DDSM; however, includes additional categories that further describe the mass shape, symmetry, and architecture."
   ]
  },
  {
   "cell_type": "code",
   "execution_count": null,
   "id": "311d78bb",
   "metadata": {
    "tags": [
     "remove-output",
     "hide-input"
    ]
   },
   "outputs": [],
   "source": [
    "fig, ax = plt.subplots(figsize=(12,6))\n",
    "ax = mass.plot.countplot(y='mass_shape', ax=ax, title =\"Distribution of Mass Shapes in CBIS-DDSM\", plot_counts=True, order_by_count=True)\n",
    "glue(\"eda1_univariate_mass_shape\", ax)"
   ]
  },
  {
   "cell_type": "markdown",
   "id": "009331f8",
   "metadata": {},
   "source": [
    "```{glue:figure} eda1_univariate_mass_shape\n",
    "---\n",
    "align: center\n",
    "name: eda1_univariate_mass_shape_fig\n",
    "---\n",
    "Distribution of Mass Shapes in CBIS-DDSM\n",
    "```"
   ]
  },
  {
   "cell_type": "markdown",
   "id": "3d6b20e0",
   "metadata": {},
   "source": [
    "As shown in {numref}`eda1_univariate_mass_shape_fig` the vast majority of mass shapes (84%) are irregular, oval, lobulated, or round."
   ]
  },
  {
   "cell_type": "markdown",
   "id": "88bbcd96",
   "metadata": {},
   "source": [
    "### Mass Margins\n",
    "\n",
    "Mass margins are features that separate the mass from the adjacent breast parenchyma. Mass margins can be {cite}`BreastImagingReporting`:\n",
    "\n",
    "1. Circumscribed: Low probability of malignancy.\n",
    "2. Obscured: Undetermined likelihood of malignancy.\n",
    "3. Spiculated: Higher likelihood of malignancy.\n",
    "4. Microlobulated: Suspicious for breast carcinoma: \n",
    "5. Ill-Defined: Also called 'indistinct'. Generally suspicious of malignancy."
   ]
  },
  {
   "cell_type": "code",
   "execution_count": null,
   "id": "1d1021f3",
   "metadata": {
    "tags": [
     "remove-output",
     "hide-input"
    ]
   },
   "outputs": [],
   "source": [
    "fig, ax = plt.subplots(figsize=(12,6))\n",
    "ax = mass.plot.countplot(y='mass_margins', ax=ax, title =\"Distribution of Mass Margins in CBIS-DDSM\", plot_counts=True, order_by_count=True)\n",
    "glue(\"eda1_univariate_mass_margins\", ax)"
   ]
  },
  {
   "cell_type": "markdown",
   "id": "fd00e864",
   "metadata": {},
   "source": [
    "```{glue:figure} eda1_univariate_mass_margins\n",
    "---\n",
    "align: center\n",
    "name: eda1_univariate_mass_margins_fig\n",
    "---\n",
    "Distribution of Mass Margins in CBIS-DDSM\n",
    "```"
   ]
  },
  {
   "cell_type": "markdown",
   "id": "9c9951da",
   "metadata": {},
   "source": [
    "As depicted in {numref}`eda1_univariate_mass_margins_fig`, spiculated, circumscribed and ill-defined make up nearly 70% of the mass margins in the dataset."
   ]
  },
  {
   "cell_type": "markdown",
   "id": "37a2a721",
   "metadata": {},
   "source": [
    "### Pathology\n",
    "The dataset distinguishes three outcomes: malignant, benign, and benign without callback. The latter indicates that the region may be suspicious, and should be monitored, but no further investigation is required."
   ]
  },
  {
   "cell_type": "code",
   "execution_count": null,
   "id": "f61c9468",
   "metadata": {
    "tags": [
     "remove-output",
     "hide-input"
    ]
   },
   "outputs": [],
   "source": [
    "fig, ax = plt.subplots(figsize=(12,4))\n",
    "ax = cases.plot.countplot(x='pathology', ax=ax, title =\"Distribution of Pathology in CBIS-DDSM\", plot_counts=True, order_by_count=True)\n",
    "glue(\"eda1_univariate_pathology\", ax)"
   ]
  },
  {
   "cell_type": "markdown",
   "id": "ffa1b3f5",
   "metadata": {},
   "source": [
    "```{glue:figure} eda1_univariate_pathology\n",
    "---\n",
    "align: center\n",
    "name: eda1_univariate_pathology_fig\n",
    "---\n",
    "Distribution of Pathology in CBIS-DDSM\n",
    "```"
   ]
  },
  {
   "cell_type": "markdown",
   "id": "b0221123",
   "metadata": {},
   "source": [
    "As shown in {numref}`eda1_univariate_pathology_fig`, the majority of cases are benign (~60%), indicating a slight class imbalance."
   ]
  },
  {
   "cell_type": "markdown",
   "id": "cc34fca5",
   "metadata": {},
   "source": [
    "### Cancer\n",
    "In {numref}`eda1_univariate_cancer_fig`, we collapse BENIGN and BENIGN_WITHOUT_CALLBACK into a single category."
   ]
  },
  {
   "cell_type": "code",
   "execution_count": null,
   "id": "02989e9e",
   "metadata": {
    "tags": [
     "remove-output",
     "hide-input"
    ]
   },
   "outputs": [],
   "source": [
    "fig, ax = plt.subplots(figsize=(12,4))\n",
    "ax = cases.plot.countplot(x='cancer', ax=ax, title =\"Distribution of Cancer Diagnoses in CBIS-DDSM\", plot_counts=True)\n",
    "glue(\"eda1_univariate_cancer\", ax)"
   ]
  },
  {
   "cell_type": "markdown",
   "id": "9e089eae",
   "metadata": {},
   "source": [
    "```{glue:figure} eda1_univariate_cancer\n",
    "---\n",
    "align: center\n",
    "name: eda1_univariate_cancer_fig\n",
    "---\n",
    "Distribution of Cancer Diagnoses in CBIS-DDSM\n",
    "```"
   ]
  },
  {
   "cell_type": "markdown",
   "id": "03dd3048",
   "metadata": {},
   "source": [
    "### Summary CBIS-DDSM Case Univariate Analysis\n",
    "\n",
    "Several observations can be made at this stage.\n",
    "\n",
    "1. The CBIS-DDSM is well-balanced for breast side, image view, and abnormality type. \n",
    "2. The majority (~70%) of cases have BI-RADS b and c breast densities, the remainder is evenly split between BI-RADS a and d densities.  \n",
    "3. Calcification Cases\n",
    "   1. Pleomorphic, amorphous, punctate, lucent-centered, and fine linear branching calcification types account for ~75% of the calcification case types in the dataset. Pleomorphic calcifications represent a plurality (~44%). \n",
    "   2. Clustered and segmental calcification distributions account for ~85% of the calcification distributions in the dataset. \n",
    "4. Mass Cases\n",
    "   1. Irregular, oval, lobulated, and round masses account for ~85% of the mass cases.\n",
    "   2. Spiculated, circumscribed, ill-defined, obscured, and microlobulated mass margins account for ~93% of the mass margins in the dataset.\n",
    "5. Approximately 60% of the cases are benign, indicating a slight class imbalance which could lead to biased predictions.  \n",
    " \n",
    "Next up? Bivariate analysis."
   ]
  },
  {
   "cell_type": "markdown",
   "id": "cf565418",
   "metadata": {},
   "source": [
    "## Bivariate Analysis\n",
    "\n",
    "This bivariate analysis will comprise a dependence analysis and an inter-dependence analysis.  The former assesses the degree to which a cancer diagnosis depends upon the values of the explanatory variables, such as breast density, type and distribution of calcifications, and the shape and margins of masses. The inter-dependence analysis explores the association between two independent variables."
   ]
  },
  {
   "cell_type": "code",
   "execution_count": null,
   "id": "6ceb8e0c",
   "metadata": {
    "tags": [
     "hide-input"
    ]
   },
   "outputs": [],
   "source": [
    "df = cases.as_df(categorize_ordinals=True)"
   ]
  },
  {
   "cell_type": "markdown",
   "id": "57e232d8",
   "metadata": {},
   "source": [
    "### Bivariate Target Variable Association Analysis"
   ]
  },
  {
   "cell_type": "markdown",
   "id": "f77490ea",
   "metadata": {},
   "source": [
    "#### Cancer Diagnosis by Breast Density"
   ]
  },
  {
   "cell_type": "code",
   "execution_count": null,
   "id": "1e10d8ab",
   "metadata": {
    "tags": [
     "hide-input",
     "remove-output"
    ]
   },
   "outputs": [],
   "source": [
    "prop = df[['breast_density', 'cancer']].groupby(by=['breast_density']).value_counts(normalize=True).to_frame().reset_index().sort_values(by=['breast_density','cancer'])\n",
    "p = sns.objects.Plot(prop, x='breast_density', y='proportion', color='cancer').add(so.Bar(), so.Stack()).theme({**sns.axes_style(\"whitegrid\"), \"grid.linestyle\": \":\"}).label(title=\"Diagnosis by Breast Density\").layout(size=(12,4), engine='tight').scale(color='crest')\n",
    "glue(\"eda1_bivariate_density\", p)"
   ]
  },
  {
   "cell_type": "markdown",
   "id": "fd563b26",
   "metadata": {},
   "source": [
    "```{glue:figure} eda1_bivariate_density\n",
    "---\n",
    "align: center\n",
    "name: eda1_bivariate_density_fig\n",
    "---\n",
    "Diagnosis by Breast Density\n",
    "```"
   ]
  },
  {
   "cell_type": "markdown",
   "id": "2847dc3d",
   "metadata": {},
   "source": [
    "Breast density is considered a risk factor for breast cancer, as women with dense breasts have a higher risk of breast cancer than women with fatty breasts {cite}`DenseBreastsAnswers2018`. Notwithstanding, {numref}`eda1_bivariate_density_fig` doesn't reveal a strong relationship between breast density and diagnosis. Let's see if a test of association supports our inference."
   ]
  },
  {
   "cell_type": "code",
   "execution_count": null,
   "id": "df3e72fd",
   "metadata": {
    "tags": [
     "hide-input"
    ]
   },
   "outputs": [],
   "source": [
    "kt = cases.stats.kendallstau(a='breast_density', b='cancer')\n",
    "print(kt)"
   ]
  },
  {
   "cell_type": "markdown",
   "id": "6520146e",
   "metadata": {},
   "source": [
    "The Kendall's Tau test measuring the association between breast density and malignancy indicated a non-significant association of weak effect, ($\\phi_\\tau$ = 0.01, p = 0.54)."
   ]
  },
  {
   "cell_type": "markdown",
   "id": "0c3987a4",
   "metadata": {},
   "source": [
    "#### Cancer Diagnosis by Breast Side\n",
    "\n",
    "A 2022 study published in Nature {cite}`abdouLeftSidedBreast2022` suggests that breast cancer is slightly more prevalent on the left side of the body than it is on the right. Do the CBIS-DDSM data support this finding?"
   ]
  },
  {
   "cell_type": "code",
   "execution_count": null,
   "id": "65c0b87b",
   "metadata": {
    "tags": [
     "hide-input"
    ]
   },
   "outputs": [],
   "source": [
    "prop = df[['left_or_right_breast', 'cancer']].groupby(by=['left_or_right_breast']).value_counts(normalize=True).to_frame().reset_index().sort_values(by=['left_or_right_breast','cancer'])\n",
    "p = sns.objects.Plot(prop, x='left_or_right_breast', y='proportion', color='cancer').add(so.Bar(), so.Count(), so.Stack()).theme({**sns.axes_style(\"whitegrid\"), \"grid.linestyle\": \":\"}).label(title=\"Diagnosis by Breast Side\").layout(size=(12,4), engine='tight').scale(color='crest')\n",
    "glue(\"eda1_bivariate_left_right\", p)"
   ]
  },
  {
   "cell_type": "markdown",
   "id": "45ee258b",
   "metadata": {},
   "source": [
    "```{glue:figure} eda1_bivariate_left_right\n",
    "---\n",
    "align: center\n",
    "name: eda1_bivariate_left_right_fig\n",
    "---\n",
    "Diagnosis by Breast Side\n",
    "```"
   ]
  },
  {
   "cell_type": "markdown",
   "id": "4c1049ff",
   "metadata": {},
   "source": [
    "If there is a slightly greater risk of cancer in the left breast, it is not evident in {numref}`eda1_bivariate_left_right_fig`. Let's test the hypothesis."
   ]
  },
  {
   "cell_type": "code",
   "execution_count": null,
   "id": "2f4f798c",
   "metadata": {
    "tags": [
     "hide-input"
    ]
   },
   "outputs": [],
   "source": [
    "cv = cases.stats.cramersv(a='left_or_right_breast', b='cancer')\n",
    "print(cv)"
   ]
  },
  {
   "cell_type": "markdown",
   "id": "57204227",
   "metadata": {},
   "source": [
    "The chi-square test above, indicates a non-significant association of negligible effect between breast and diagnosis, ($X^2$ (1,n=3566)=2.97 p=0.08, $\\phi$=.03)."
   ]
  },
  {
   "cell_type": "markdown",
   "id": "10bb8242",
   "metadata": {},
   "source": [
    "#### Cancer by Image View\n",
    "\n",
    "A study published in RSNA Journals {cite}`korhonenBreastCancerConspicuity2019` analyzed breast cancer conspicuity by image_view and determined that cancers were more likely to have high conspicuity in the craniocaudal (CC) than in the mediolateral oblique (MLO) image view.  Does this imply a higher proportion of malignancies detected in the CC view? Let's see what our data suggest."
   ]
  },
  {
   "cell_type": "code",
   "execution_count": null,
   "id": "3472ae21",
   "metadata": {
    "tags": [
     "hide-input"
    ]
   },
   "outputs": [],
   "source": [
    "prop = df[['image_view', 'cancer']].groupby(by=['image_view']).value_counts(normalize=True).to_frame().reset_index().sort_values(by=['image_view','cancer'])\n",
    "p = sns.objects.Plot(prop, x='image_view', y='proportion', color='cancer').add(so.Bar(), so.Count(), so.Stack()).theme({**sns.axes_style(\"whitegrid\"), \"grid.linestyle\": \":\"}).label(title=\"Diagnosis by Image View\").layout(size=(12,4), engine='tight').scale(color='crest')\n",
    "glue(\"eda1_bivariate_view\", p)"
   ]
  },
  {
   "cell_type": "markdown",
   "id": "7f4734a8",
   "metadata": {},
   "source": [
    "```{glue:figure} eda1_bivariate_view\n",
    "---\n",
    "align: center\n",
    "name: eda1_bivariate_view_fig\n",
    "---\n",
    "Diagnosis by Image View\n",
    "```"
   ]
  },
  {
   "cell_type": "markdown",
   "id": "af2061bd",
   "metadata": {},
   "source": [
    "{numref}`eda1_bivariate_view_fig` suggests no difference in malignancies detected in the CC and MLO views."
   ]
  },
  {
   "cell_type": "code",
   "execution_count": null,
   "id": "4ded4dfc",
   "metadata": {
    "tags": [
     "hide-input"
    ]
   },
   "outputs": [],
   "source": [
    "cv = cases.stats.cramersv(a='image_view', b='cancer')\n",
    "print(cv)"
   ]
  },
  {
   "cell_type": "markdown",
   "id": "5e1eb201",
   "metadata": {},
   "source": [
    "The chi-square test above, indicates a non-significant association of negligible effect between image image_view and diagnosis, ($X^2$ (1,n=3566)=0.007 p=0.93, $\\phi$=.002)."
   ]
  },
  {
   "cell_type": "markdown",
   "id": "ac73de47",
   "metadata": {},
   "source": [
    "#### Cancer by Abnormality Type\n",
    "\n",
    "Is abnormality type an indicator of malignancy?"
   ]
  },
  {
   "cell_type": "code",
   "execution_count": null,
   "id": "13c2e16c",
   "metadata": {
    "tags": [
     "hide-input"
    ]
   },
   "outputs": [],
   "source": [
    "prop = df[['abnormality_type', 'cancer']].groupby(by=['abnormality_type']).value_counts(normalize=True).to_frame().reset_index().sort_values(by=['abnormality_type','cancer'])\n",
    "p = sns.objects.Plot(prop, x='abnormality_type',y='proportion', color='cancer').add(so.Bar(), so.Count(), so.Stack()).theme({**sns.axes_style(\"whitegrid\"), \"grid.linestyle\": \":\"}).label(title=\"Diagnosis by Abnormality Type\").layout(size=(12,4), engine='tight').scale(color='crest')\n",
    "glue(\"eda1_bivariate_abtype\", p)"
   ]
  },
  {
   "cell_type": "markdown",
   "id": "5fff5fce",
   "metadata": {},
   "source": [
    "```{glue:figure} eda1_bivariate_abtype\n",
    "---\n",
    "align: center\n",
    "name: eda1_bivariate_abtype_fig\n",
    "---\n",
    "Diagnosis by Abnormality Type\n",
    "```"
   ]
  },
  {
   "cell_type": "markdown",
   "id": "87afc2a1",
   "metadata": {},
   "source": [
    "{numref}`eda1_bivariate_abtype_fig` indicates that the probability of a malignancy is slightly higher for masses than for calcifications. Is this significant?"
   ]
  },
  {
   "cell_type": "code",
   "execution_count": null,
   "id": "58038f72",
   "metadata": {},
   "outputs": [],
   "source": [
    "cv = cases.stats.cramersv(a='abnormality_type', b='cancer')\n",
    "print(cv)"
   ]
  },
  {
   "cell_type": "markdown",
   "id": "4b7ede43",
   "metadata": {},
   "source": [
    "The chi-square test above, indicates a significant association of small effect between abnormality type and diagnosis, ($X^2$ (1,n=3566)=38.85 p<0.01, $\\phi$=.10). More malignancies were diagnosed among the mass cases, compared to calcifications (54% vs 46%)."
   ]
  },
  {
   "cell_type": "markdown",
   "id": "be3f5ec7",
   "metadata": {},
   "source": [
    "#### BI-RADS Assessment and Cancer\n",
    "To what degree is there (dis)agreement between the BI-RADS assessment the diagnosis. The BI-RADS assessment is an overall summary of the mammography report and has seven categories.\n",
    "\n",
    "| Label | Description                                                                              | Likelihood of Cancer                                                        |\n",
    "| ----- | ---------------------------------------------------------------------------------------- | --------------------------------------------------------------------------- |\n",
    "| 0     | Incomplete . Need Additional   Imaging Evaluation and/or Prior Mammograms for Comparison | NA                                                                          |\n",
    "| 1     | Negative Routine mammography                                                             | Essentially 0% likelihood of malignancy                                     |\n",
    "| 2     | Benign Routine mammography                                                               | Essentially 0% likelihood of malignancy                                     |\n",
    "| 3     | Probably Benign Short-interval   (6-month)                                               | > 0% but . 2% likelihood of malignancy                                      |\n",
    "| 4     | Suspicious                                                                               | Low: 2% to ≤ 10%      Moderate: > 10% to ≤ 50%       High: > 50% to < 95% |\n",
    "| 5     | Highly Suggestive of Malignancy                                                          | > 95% likelihood of malignancy                                              |\n",
    "| 6     | Known Biopsy-Proven Malignancy                                                           | NA                                                                          |\n",
    "\n",
    "To what degree is there agreement between the BI-RADS assessments and diagnosis."
   ]
  },
  {
   "cell_type": "code",
   "execution_count": null,
   "id": "e5df551b",
   "metadata": {
    "tags": [
     "hide-input"
    ]
   },
   "outputs": [],
   "source": [
    "p1 = sns.objects.Plot(df, x='assessment', color='cancer').add(so.Bar(), so.Count(), so.Stack()).theme({**sns.axes_style(\"whitegrid\"), \"grid.linestyle\": \":\"}).label(title=\"Diagnosis by BI-RADS Assessment\").layout(size=(12,4), engine='tight').scale(color='crest')\n",
    "prop = df[['assessment', 'cancer']].groupby(by=['assessment']).value_counts(normalize=True).to_frame().reset_index().sort_values(by=['assessment','cancer'])\n",
    "p2 = sns.objects.Plot(prop, x='assessment', y='proportion', color='cancer').add(so.Bar(), so.Stack()).theme({**sns.axes_style(\"whitegrid\"), \"grid.linestyle\": \":\"}).label(title=\"Diagnosis by BI-RADS Assessment\").layout(size=(12,4), engine='tight').scale(color='crest')\n",
    "\n",
    "glue(\"eda1_bivariate_assessment_count\", p1)\n",
    "glue(\"eda1_bivariate_assessment_prop\", p2)"
   ]
  },
  {
   "cell_type": "markdown",
   "id": "025b5e0b",
   "metadata": {},
   "source": [
    "```{glue:figure} eda1_bivariate_assessment_count\n",
    "---\n",
    "align: center\n",
    "name: eda1_bivariate_assessment_count_fig\n",
    "---\n",
    "Diagnosis by BI-RADS Assessment (Count)\n",
    "```"
   ]
  },
  {
   "cell_type": "markdown",
   "id": "2ae8e156",
   "metadata": {},
   "source": [
    "```{glue:figure} eda1_bivariate_assessment_prop\n",
    "---\n",
    "align: center\n",
    "name: eda1_bivariate_assessment_prop_fig\n",
    "---\n",
    "Diagnosis by BI-RADS Assessment (Proportion)\n",
    "```"
   ]
  },
  {
   "cell_type": "markdown",
   "id": "cbfff924",
   "metadata": {},
   "source": [
    "{numref}`eda1_bivariate_assessment_count_fig` and {numref}`eda1_bivariate_assessment_prop_fig` suggest a relationship between BI-RADS assessment and diagnosis. Let's evaluate the effect size."
   ]
  },
  {
   "cell_type": "code",
   "execution_count": null,
   "id": "a7453639",
   "metadata": {
    "tags": [
     "hide-input"
    ]
   },
   "outputs": [],
   "source": [
    "kt = cases.stats.kendallstau(a='assessment', b='cancer')\n",
    "print(kt)"
   ]
  },
  {
   "cell_type": "markdown",
   "id": "8d09352f",
   "metadata": {},
   "source": [
    "Indeed, the Kendall's Tau test above, indicates a significant association of strong effect between BI-RADS assessment and diagnosis, ($\\phi_\\tau$=0.60, p<0.01)."
   ]
  },
  {
   "cell_type": "markdown",
   "id": "ffdd16d0",
   "metadata": {},
   "source": [
    "Several observations are worth note:\n",
    "\n",
    "1. There were only three BI-RADS Category 1 assessments.\n",
    "2. Category 2 assessments, were all negative for cancer.\n",
    "3. Approximately 20% of the BI-RADS category 3, probably benign, were ultimately diagnosed as malignant.\n",
    "4. Suspicious cases (BI-RADS 4) were nearly 50/50 benign/malignant.\n",
    "5. Just 2% of the highly suspicious cases were benign."
   ]
  },
  {
   "cell_type": "markdown",
   "id": "d221cc86",
   "metadata": {},
   "source": [
    "##### Subtlety and Cancer\n",
    "Are malignancies more or less conspicuous?"
   ]
  },
  {
   "cell_type": "code",
   "execution_count": null,
   "id": "7a191ae8",
   "metadata": {
    "tags": [
     "hide-input"
    ]
   },
   "outputs": [],
   "source": [
    "prop = df[['subtlety', 'cancer']].groupby(by=['subtlety']).value_counts(normalize=True).to_frame().reset_index().sort_values(by=['subtlety','cancer'])\n",
    "p = sns.objects.Plot(prop, x='subtlety', y='proportion', color='cancer').add(so.Bar(), so.Count(), so.Stack()).theme({**sns.axes_style(\"whitegrid\"), \"grid.linestyle\": \":\"}).label(title=\"Diagnosis by Subtlety\").layout(size=(12,4), engine='tight').scale(color='crest')\n",
    "glue(\"eda1_bivariate_subtlety\", p)"
   ]
  },
  {
   "cell_type": "markdown",
   "id": "0ce3c4de",
   "metadata": {},
   "source": [
    "```{glue:figure} eda1_bivariate_subtlety\n",
    "---\n",
    "align: center\n",
    "name: eda1_bivariate_subtlety_fig\n",
    "---\n",
    "Diagnosis by Subtlety\n",
    "```"
   ]
  },
  {
   "cell_type": "markdown",
   "id": "cb6956a9",
   "metadata": {},
   "source": [
    "Based upon {numref}`eda1_bivariate_subtlety_fig`, it would be difficult to draw an inference of association between subtlety and diagnosis. Let's test the effect of subtlety on diagnosis."
   ]
  },
  {
   "cell_type": "code",
   "execution_count": null,
   "id": "5e58b4e2",
   "metadata": {
    "tags": [
     "hide-input"
    ]
   },
   "outputs": [],
   "source": [
    "kt = cases.stats.kendallstau(a='subtlety', b='cancer')\n",
    "print(kt)"
   ]
  },
  {
   "cell_type": "markdown",
   "id": "0bbfbaa9",
   "metadata": {},
   "source": [
    "The Kendall's Tau test measuring the association between subtlety and malignancy indicated a non-significant association of weak effect, $\\phi_\\tau$ = 0.003, p = 0.86."
   ]
  },
  {
   "cell_type": "markdown",
   "id": "870f2ea7",
   "metadata": {},
   "source": [
    "#### Calcification Type and Cancer\n",
    "What is the association between calcification type and malignancy. For this analysis, we'll focus on the top five calcification types in the CBIS-DDSM: pleomorphic, amorphous, pnctate, lucent-centered and fine linear branching."
   ]
  },
  {
   "cell_type": "code",
   "execution_count": null,
   "id": "5762ff35",
   "metadata": {
    "tags": [
     "hide-input"
    ]
   },
   "outputs": [],
   "source": [
    "df_calc = calc.as_df()\n",
    "df_calc['calc_type'] = df_calc['calc_type'].astype(str)\n",
    "df_calc = df_calc.loc[df_calc['calc_type'].isin(['PLEOMORPHIC', 'AMORPHOUS', 'PUNCTATE', 'LUCENT_CENTERED', 'FINE_LINEAR_BRANCHING'])].reset_index()\n",
    "prop = df_calc[['calc_type', 'cancer']].groupby(by=['calc_type']).value_counts(normalize=True).to_frame().reset_index()\n",
    "p = sns.objects.Plot(prop, x='calc_type', y='proportion', color='cancer').add(so.Bar(), so.Stack()).theme({**sns.axes_style(\"whitegrid\"), \"grid.linestyle\": \":\" }).label(title=\"Diagnosis by Calcification Type\").layout(size=(12,4), engine='tight').scale(color='crest')\n",
    "glue(\"eda1_bivariate_calc_type\", p)"
   ]
  },
  {
   "cell_type": "markdown",
   "id": "12f8ce09",
   "metadata": {},
   "source": [
    "```{glue:figure} eda1_bivariate_calc_type\n",
    "---\n",
    "align: center\n",
    "name: eda1_bivariate_calc_type_fig\n",
    "---\n",
    "Diagnosis by Calcification Type\n",
    "```"
   ]
  },
  {
   "cell_type": "markdown",
   "id": "f2f5f74e",
   "metadata": {},
   "source": [
    "Fine linear branching, pleomorphic, and amorphous calcifications have the highest rates of malignancy. Punctate calcifications are of some concern; whereas, lucent centered calcifications appear to indicate a benign pathology. Let's evaluate the effect of calcification type on pathology."
   ]
  },
  {
   "cell_type": "code",
   "execution_count": null,
   "id": "82d96afe",
   "metadata": {
    "tags": [
     "hide-input"
    ]
   },
   "outputs": [],
   "source": [
    "cv = calc.stats.cramersv(a='calc_type', b='cancer')\n",
    "print(cv)"
   ]
  },
  {
   "cell_type": "markdown",
   "id": "fb5c51a3",
   "metadata": {},
   "source": [
    "Cramer's V indicates a large effect ($X^2$(1,n=1872)=539.69 p<0.01, $V$=0.54)."
   ]
  },
  {
   "cell_type": "markdown",
   "id": "8e0f3abf",
   "metadata": {
    "tags": [
     "hide-input"
    ]
   },
   "source": [
    "{numref}`eda1_bivariate_calc_types_top_10_fig` lists the top 10 most malignant calcification types by proportion in the CBIS-DDSM."
   ]
  },
  {
   "cell_type": "code",
   "execution_count": null,
   "id": "27642cac",
   "metadata": {
    "tags": [
     "remove-output",
     "hide-input"
    ]
   },
   "outputs": [],
   "source": [
    "fig, ax = plt.subplots(figsize=(12,6))\n",
    "calc_types = cases.get_most_malignant_calc(x='calc_type', n=10)\n",
    "ax = calc.plot.barplot(data=calc_types, y='calc_type', x='proportion', title='Malignancy by Calcification Type', ax=ax)\n",
    "glue(\"eda1_bivariate_calc_types_top_10\", ax)"
   ]
  },
  {
   "cell_type": "markdown",
   "id": "c2dfa16f",
   "metadata": {},
   "source": [
    "```{glue:figure} eda1_bivariate_calc_types_top_10\n",
    "---\n",
    "align: center\n",
    "name: eda1_bivariate_calc_types_top_10_fig\n",
    "---\n",
    "Most Malignant Calcification Types\n",
    "```"
   ]
  },
  {
   "cell_type": "markdown",
   "id": "190e2356",
   "metadata": {},
   "source": [
    "#### Calcification Distribution\n",
    "How do we characterize the association between calcification distribution and malignancy? For this analysis, we will focus on clustered, segmental, linear, regional, and diffusely scattered calcification distributions."
   ]
  },
  {
   "cell_type": "code",
   "execution_count": null,
   "id": "a5314064",
   "metadata": {
    "tags": [
     "hide-input"
    ]
   },
   "outputs": [],
   "source": [
    "df_calc = calc.as_df()\n",
    "df_calc['calc_distribution'] = df_calc['calc_distribution'].astype(str)\n",
    "df_calc = df_calc.loc[df_calc['calc_distribution'].isin(['CLUSTERED', 'SEGMENTAL', 'LINEAR', 'REGIONAL', 'DIFFUSELY_SCATTERED'])].reset_index()\n",
    "prop = df_calc[['calc_distribution', 'cancer']].groupby(by=['calc_distribution']).value_counts(normalize=True).to_frame().reset_index().sort_values(by=['calc_distribution','cancer'])\n",
    "p = sns.objects.Plot(prop, x='calc_distribution', y='proportion', color='cancer').add(so.Bar(), so.Stack()).theme({**sns.axes_style(\"whitegrid\"), \"grid.linestyle\": \":\"}).label(title=\"Diagnosis by Calcification Distribution\").layout(size=(12,4), engine='tight').scale(color='crest')\n",
    "glue(\"eda1_bivariate_calc_dist\", p)"
   ]
  },
  {
   "cell_type": "markdown",
   "id": "318c6ae0",
   "metadata": {},
   "source": [
    "```{glue:figure} eda1_bivariate_calc_dist\n",
    "---\n",
    "align: center\n",
    "name: eda1_bivariate_calc_dist_fig\n",
    "---\n",
    "Diagnosis by Calcification Distribution\n",
    "```"
   ]
  },
  {
   "cell_type": "markdown",
   "id": "d7a14dc8",
   "metadata": {},
   "source": [
    "Linear, regional, and clustered calcifications have the highest rates of malignancy. Segmental and diffusely scattered calcifications tend to indicate a benign diagnosis in this dataset.\n",
    "\n",
    "The Cramer's V test below provides a measure of the effect of calcification distribution on diagnosis."
   ]
  },
  {
   "cell_type": "code",
   "execution_count": null,
   "id": "1a04b539",
   "metadata": {
    "tags": [
     "hide-input"
    ]
   },
   "outputs": [],
   "source": [
    "cv = calc.stats.cramersv(a='calc_distribution', b='cancer')\n",
    "print(cv)"
   ]
  },
  {
   "cell_type": "markdown",
   "id": "2615c368",
   "metadata": {},
   "source": [
    "This chi-square test of independence between calcification distribution and diagnosis indicates a moderate and significant association ($X^2$(1,n=1872)=198.56 p<0.01, $V$=0.33)."
   ]
  },
  {
   "cell_type": "markdown",
   "id": "a7d8e4a8",
   "metadata": {},
   "source": [
    "#### Mass Shape and Cancer\n",
    "\n",
    "Mass shape and mass margins are the most significant features that indicate whether a mass is benign or malignant {cite}`bassettAbnormalMammogram2003`. Here, we will focus on the top five mass shapes in the CBIS-DDSM: irregular, oval, lobulated, round, and architectural distortion."
   ]
  },
  {
   "cell_type": "code",
   "execution_count": null,
   "id": "4fcf5157",
   "metadata": {
    "tags": [
     "hide-input"
    ]
   },
   "outputs": [],
   "source": [
    "df_mass = mass.as_df()\n",
    "df_mass['mass_shape'] = df_mass['mass_shape'].astype(str)\n",
    "df_mass = df_mass.loc[df_mass['mass_shape'].isin(['IRREGULAR', 'OVAL', 'LOBULATED', 'ROUND', 'ARCHITECTURAL_DISTORTION'])].reset_index()\n",
    "prop = df_mass[['mass_shape', 'cancer']].groupby(by=['mass_shape']).value_counts(normalize=True).to_frame().reset_index().sort_values(by=['mass_shape','cancer'])\n",
    "p = sns.objects.Plot(prop, x='mass_shape', y='proportion', color='cancer').add(so.Bar(), so.Stack()).theme({**sns.axes_style(\"whitegrid\"), \"grid.linestyle\": \":\"}).label(title=\"Diagnosis by Mass Shape\").layout(size=(12,4), engine='tight').scale(color='crest')\n",
    "glue(\"eda1_bivariate_mass_shape\", p)"
   ]
  },
  {
   "cell_type": "markdown",
   "id": "966694d0",
   "metadata": {},
   "source": [
    "```{glue:figure} eda1_bivariate_mass_shape\n",
    "---\n",
    "align: center\n",
    "name: eda1_bivariate_mass_shape_fig\n",
    "---\n",
    "Diagnosis by Mass Shape\n",
    "```"
   ]
  },
  {
   "cell_type": "markdown",
   "id": "1939950c",
   "metadata": {},
   "source": [
    "Irregular, and architectural distortion masses tend to indicate malignancy. Lobulated, oval and round masses appear to suggest intermediate concern of malignancy."
   ]
  },
  {
   "cell_type": "code",
   "execution_count": null,
   "id": "4180b53c",
   "metadata": {
    "tags": [
     "hide-input"
    ]
   },
   "outputs": [],
   "source": [
    "cv = mass.stats.cramersv(a='mass_shape', b='cancer')\n",
    "print(cv)"
   ]
  },
  {
   "cell_type": "markdown",
   "id": "03fbe0f8",
   "metadata": {},
   "source": [
    "This chi-square test of independence between mass shape and diagnosis indicates a large and significant association ($X^2$(1,n=1694)=440.92 p<0.01, $V$=0.51)."
   ]
  },
  {
   "cell_type": "markdown",
   "id": "6516bc5e",
   "metadata": {},
   "source": [
    "#### Mass Margins and Cancer\n",
    "\n",
    "Mass margins, a feature that separates the mass from the adjacent breast parenchyma, is often the feature which enables differentiation between benign and malignant."
   ]
  },
  {
   "cell_type": "code",
   "execution_count": null,
   "id": "71aad432",
   "metadata": {
    "tags": [
     "hide-input"
    ]
   },
   "outputs": [],
   "source": [
    "df_mass['mass_margins'] = df_mass['mass_margins'].astype(str)\n",
    "df_mass = df_mass.loc[df_mass['mass_margins'].isin(['SPICULATED', 'CIRCUMSCRIBED', 'ILL_DEFINED', 'OBSCURED', 'MICROLOBULATED'])].reset_index()\n",
    "prop = df_mass[['mass_margins', 'cancer']].groupby(by=['mass_margins']).value_counts(normalize=True).to_frame().reset_index().sort_values(by=['mass_margins','cancer'])\n",
    "p = sns.objects.Plot(prop, x='mass_margins', y='proportion', color='cancer').add(so.Bar(), so.Stack()).theme({**sns.axes_style(\"whitegrid\"), \"grid.linestyle\": \":\"}).label(title=\"Diagnosis by Mass Margins\").layout(size=(12,4), engine='tight').scale(color='crest')\n",
    "glue(\"eda1_bivariate_mass_margins\", p)"
   ]
  },
  {
   "cell_type": "markdown",
   "id": "7d74c7ed",
   "metadata": {},
   "source": [
    "```{glue:figure} eda1_bivariate_mass_margins\n",
    "---\n",
    "align: center\n",
    "name: eda1_bivariate_mass_margins_fig\n",
    "---\n",
    "Diagnosis by Mass Shape\n",
    "```"
   ]
  },
  {
   "cell_type": "markdown",
   "id": "f2fb1925",
   "metadata": {},
   "source": [
    "As shown in {numref}`eda1_bivariate_mass_margins_fig`, spiculated, ill-defined, and microlobulated masses are associated with malignancy in the CBIS-DDSM. Circumscribed and obscured masses appear to indicate non-cancer.\n",
    "\n",
    "Let's check the effect size of mass margins on diagnosis."
   ]
  },
  {
   "cell_type": "code",
   "execution_count": null,
   "id": "12b563b7",
   "metadata": {
    "tags": [
     "hide-input"
    ]
   },
   "outputs": [],
   "source": [
    "cv = mass.stats.cramersv(a='mass_margins', b='cancer')\n",
    "print(cv)"
   ]
  },
  {
   "cell_type": "markdown",
   "id": "e1492bab",
   "metadata": {},
   "source": [
    "This chi-square test of independence between mass margins and diagnosis indicates a large and significant association ($X^2$(1,n=1694)=588.62 p<0.01, $V$=0.59).\n",
    "\n",
    "That concludes the target association section of the bivariate analysis. Let's examine the relationships among the features."
   ]
  },
  {
   "cell_type": "markdown",
   "id": "62dd6e5f",
   "metadata": {},
   "source": [
    "### Case Bivariate Feature Association Analysis\n",
    "What does calcification type imply about calcification distribution? To what degree is mass shape and mass margin related? Are certain morphologies more or less subtle? In this section, we examine the strength of associations among the features in the CBIS-DDSM using Cramer's V effect size measurement. For this exercise, we'll interpret the Cramer's V effect sizes as follows:\n",
    "\n",
    "|      V      |   Effect   |\n",
    "|:-----------:|:----------:|\n",
    "|    ≥ 0.5    |    Large   |\n",
    "| ≥ 0.3 < 0.5 |  Moderate  |\n",
    "| ≥ 0.1 < 0.3 |    Small   |\n",
    "|   0 < 0.1   | Negligible |\n",
    "\n",
    "We'll start with the full dataset to investigate the relationships between non-morphological features. Then, we'll analyze mass and calcification cases separately to avoid in spurious associations across abnormality types."
   ]
  },
  {
   "cell_type": "code",
   "execution_count": null,
   "id": "468b9a64",
   "metadata": {
    "tags": [
     "remove-output",
     "hide-input"
    ]
   },
   "outputs": [],
   "source": [
    "fig, ax = plt.subplots(figsize=(8,8))\n",
    "ax = cases.plot_feature_associations(ax=ax)\n",
    "glue(\"eda1_bivariate_feature_association\", ax)"
   ]
  },
  {
   "cell_type": "markdown",
   "id": "331aed51",
   "metadata": {},
   "source": [
    "```{glue:figure} eda1_bivariate_feature_association\n",
    "---\n",
    "align: center\n",
    "name: eda1_bivariate_feature_association_fig\n",
    "---\n",
    "CBIS-DDSM Case Feature Association Plot\n",
    "```"
   ]
  },
  {
   "cell_type": "markdown",
   "id": "f4604496",
   "metadata": {},
   "source": [
    "The moderate to strong associations of note are:\n",
    "\n",
    "- Abnormality type and BI-RADS assessment (V=0.40)\n",
    "- Calcification type and calcification distribution (V=0.54)\n",
    "- Calcification type and BI-RADS assessment (V=0.42)\n",
    "- Calcification distribution and BI-RADS assessment  (V=0.34)\n",
    "- Mass shape and mass margins (V=0.35)\n",
    "- Mass margins and BI-RADS assessment (V=0.37)\n",
    "\n",
    "{numref}`eda1_bivariate_feature_association_fig` also illuminates several weak associations worthy of note:\n",
    "- Breast density is weakly associated with BI-RADS assessment.\n",
    "- Breast density doesn't appear to be a predictor of abnormality type\n",
    "- Breast density and subtlety appear to be uncorrelated.\n",
    "- Masses don't appear to be any more or less subtle than calcifications.\n",
    "\n",
    "Let's take a closer look at the moderate to strong relationships in the CBIS-DDSM."
   ]
  },
  {
   "cell_type": "markdown",
   "id": "ef6b5be8",
   "metadata": {},
   "source": [
    "#### BI-RADS Assessment and Abnormality Type"
   ]
  },
  {
   "cell_type": "code",
   "execution_count": null,
   "id": "f4a14520",
   "metadata": {},
   "outputs": [],
   "source": [
    "p1 = sns.objects.Plot(df, x='assessment', color='abnormality_type').add(so.Bar(), so.Count(), so.Stack()).theme({**sns.axes_style(\"whitegrid\"), \"grid.linestyle\": \":\"}).label(title=\"Abnormality Type and BI-RADS Assessment\").layout(size=(12,4), engine='tight').scale(color='crest')\n",
    "\n",
    "prop = df[['assessment', 'abnormality_type']].groupby(by=['assessment']).value_counts(normalize=True).to_frame().reset_index().sort_values(by='assessment')\n",
    "p2 = sns.objects.Plot(prop, x='assessment', y='proportion', color='abnormality_type').add(so.Bar(), so.Stack()).theme({**sns.axes_style(\"whitegrid\"), \"grid.linestyle\": \":\"}).label(title=\"Abnormality Type and BI-RADS Assessment\").layout(size=(12,4), engine='tight').scale(color='crest')\n",
    "\n",
    "glue(\"eda1_bivariate_abtype_assessment_count\", p1)\n",
    "glue(\"eda1_bivariate_abtype_assessment_prop\", p2)"
   ]
  },
  {
   "cell_type": "markdown",
   "id": "ba5d6aab",
   "metadata": {},
   "source": [
    "```{glue:figure} eda1_bivariate_abtype_assessment_count\n",
    "---\n",
    "align: center\n",
    "name: eda1_bivariate_abtype_assessment_count_fig\n",
    "---\n",
    "Abnormality Type and BI-RADS Assessment (Counts)\n",
    "```"
   ]
  },
  {
   "cell_type": "markdown",
   "id": "8c351676",
   "metadata": {},
   "source": [
    "```{glue:figure} eda1_bivariate_abtype_assessment_prop\n",
    "---\n",
    "align: center\n",
    "name: eda1_bivariate_abtype_assessment_prop_fig\n",
    "---\n",
    "Abnormality Type and BI-RADS Assessment (Proportion)\n",
    "```"
   ]
  },
  {
   "cell_type": "markdown",
   "id": "312a6953",
   "metadata": {},
   "source": [
    "{numref}`eda1_bivariate_abtype_assessment_count_fig` and {numref}`eda1_bivariate_abtype_assessment_prop_fig`  illuminate the relationship between abnormality type and BI-RADS assessment. Since we have less than five BI-RADS 1 (b) assessments, we'll ignore those for now. Masses appear to have a majority the  BI-RADS 0, 3, and 5 assessments; whereas, calcification cases are most prevalent in BI-RADS 2 and 4 assessments. However, the effect is moderate and so this may be an aspect specific to the CBIS-DDSM dataset."
   ]
  },
  {
   "cell_type": "markdown",
   "id": "132c0701",
   "metadata": {},
   "source": [
    "#### Calcification Type and Calcification Distribution\n",
    "Which calcification types and distributions co-occur most frequently?"
   ]
  },
  {
   "cell_type": "code",
   "execution_count": null,
   "id": "d20b647d",
   "metadata": {},
   "outputs": [],
   "source": [
    "fig, _ = cases.compare_morphology(m1='calc_type', m2='calc_distribution', figsize=(12,12))\n",
    "glue(\"eda1_bivariate_calc_type_dist\", fig)"
   ]
  },
  {
   "cell_type": "markdown",
   "id": "7f459c25",
   "metadata": {},
   "source": [
    "```{glue:figure} eda1_bivariate_calc_type_dist\n",
    "---\n",
    "align: center\n",
    "name: eda1_bivariate_calc_type_dist_fig\n",
    "---\n",
    "Calcification Type and Distribution\n",
    "```"
   ]
  },
  {
   "cell_type": "markdown",
   "id": "e240a30d",
   "metadata": {},
   "source": [
    "{numref}`eda1_bivariate_calc_type_dist_fig` illuminates the calcification types and distributions that co-occur with greater than 50% probability. \n",
    "\n",
    "Segmental distributions tended to co-occur with a range of calcification types, including Coarse, Eggshell, Lucent-Centered, Round and Regular, Skin, and Vascular calcification types. Clustered distributions tended to present with Amorphous, Dystrophic, Milk of Calcium, Pleomorphic, and Punctate calcification types. Finally, Regional / Large Rodlike calcifications presented together in the CBIS-DDSM."
   ]
  },
  {
   "cell_type": "markdown",
   "id": "d62cf592",
   "metadata": {},
   "source": [
    "#### Calcification Type and Assessment"
   ]
  },
  {
   "cell_type": "code",
   "execution_count": null,
   "id": "e7197680",
   "metadata": {
    "tags": [
     "hide-input"
    ]
   },
   "outputs": [],
   "source": [
    "fig, _ = cases.summarize_morphology_by_feature(morphology='calc_type', by='assessment', figsize=(12,12))\n",
    "glue(\"eda1_bivariate_calc_type_assessment\", fig)"
   ]
  },
  {
   "cell_type": "markdown",
   "id": "fb917213",
   "metadata": {},
   "source": [
    "```{glue:figure} eda1_bivariate_calc_type_assessment\n",
    "---\n",
    "align: center\n",
    "name: eda1_bivariate_calc_type_assessment_fig\n",
    "---\n",
    "Calcification Type and BI-RADS Assessment\n",
    "```"
   ]
  },
  {
   "cell_type": "markdown",
   "id": "300fd9bf",
   "metadata": {},
   "source": [
    "In {numref}`eda1_bivariate_calc_type_assessment_fig`, we show the proportion of BI-RADS assessments for each calcification type. Pleomorphic, fine linear branching and amorphous calcifications appear to render the highest levels of suspicion with BI-RADS 4 and 5 assessments. Those of intermediate concern are dystrophic and punctate. The remaining are associated with generally benign classifications."
   ]
  },
  {
   "cell_type": "markdown",
   "id": "930c27b9",
   "metadata": {},
   "source": [
    "#### Calcification Distribution and Assessment"
   ]
  },
  {
   "cell_type": "code",
   "execution_count": null,
   "id": "7022bcd3",
   "metadata": {
    "tags": [
     "hide-input"
    ]
   },
   "outputs": [],
   "source": [
    "fig, _ = cases.summarize_morphology_by_feature(morphology='calc_distribution', by='assessment', figsize=(12,6))\n",
    "glue(\"eda1_bivariate_calc_dist_assessment\", fig)"
   ]
  },
  {
   "cell_type": "markdown",
   "id": "3f3cd783",
   "metadata": {},
   "source": [
    "```{glue:figure} eda1_bivariate_calc_dist_assessment\n",
    "---\n",
    "align: center\n",
    "name: eda1_bivariate_calc_dist_assessment_fig\n",
    "---\n",
    "Calcification Distribution and BI-RADS Assessment\n",
    "```"
   ]
  },
  {
   "cell_type": "markdown",
   "id": "186feb09",
   "metadata": {},
   "source": [
    "{numref}`eda1_bivariate_calc_dist_assessment_fig` displays the proportional relationships between calcification distribution and BI-RADS assessment. \n",
    "\n",
    "Segmental and diffusely scattered calcifications presented with BI-RADS 2 - Benign and clustered and linear calcifications were assessed as suspicious (BI-RADS 4) with greater than 60% probablity. Regional calcifications had assessments ranging from benign to highly suspicous of malignancy."
   ]
  },
  {
   "cell_type": "markdown",
   "id": "5317ab05",
   "metadata": {},
   "source": [
    "#### Mass Shape and Mass Margins\n",
    "What is the relationship between mass shape and margins in the CBIS-DDSM dataset?"
   ]
  },
  {
   "cell_type": "code",
   "execution_count": null,
   "id": "e96d2925",
   "metadata": {},
   "outputs": [],
   "source": [
    "fig, _ = cases.compare_morphology(m1='mass_shape', m2='mass_margins', figsize=(12,6))\n",
    "glue(\"eda1_bivariate_mass_shape_margins\", fig)"
   ]
  },
  {
   "cell_type": "markdown",
   "id": "14044f67",
   "metadata": {},
   "source": [
    "```{glue:figure} eda1_bivariate_mass_shape_margins\n",
    "---\n",
    "align: center\n",
    "name: eda1_bivariate_mass_shape_margins_fig\n",
    "---\n",
    "Mass Shape and Mass Margins\n",
    "```"
   ]
  },
  {
   "cell_type": "markdown",
   "id": "58b2fbf2",
   "metadata": {},
   "source": [
    "{numref}`eda1_bivariate_mass_shape_margins_fig` presents the relationships between the mass shapes and margins in the CBIS-DDSM dataset. Architectural distortion and spiculated masses co-occurred with greater than 50% probability. Asymmetric breast tissue and focal asymmetric density presented most frequently with ill-defined and spiculated masses. Irregular masses co-occurred with spiculated masses with greater than 50% probability. Finally, lobulated, lymph node, oval, and round masses co-occurred most frequently with circumscribed mass margins."
   ]
  },
  {
   "cell_type": "markdown",
   "id": "8a92d8b9",
   "metadata": {},
   "source": [
    "### Summary CBIS-DDSM Case Bivariate Analysis\n",
    "This concludes the bivariate component of this exploratory data analysis. Let's summarize our observations thus far.\n",
    "\n",
    "Our bivariate analysis was conducted in two parts:\n",
    "1. Bivariate Target Variable Association Analysis\n",
    "2. Bivariate Feature Association Analysis\n",
    "\n",
    "The former examined the relationships between the features and the target variable, 'cancer' and the latter explored the relationships between feature pairs."
   ]
  },
  {
   "cell_type": "code",
   "execution_count": null,
   "id": "bfbeb3f0",
   "metadata": {
    "tags": [
     "remove-output",
     "hide-input"
    ]
   },
   "outputs": [],
   "source": [
    "ax = cases.plot_target_associations()\n",
    "glue(\"eda1_bivariate_target_associations\", ax)"
   ]
  },
  {
   "cell_type": "markdown",
   "id": "07d1c8a8",
   "metadata": {},
   "source": [
    "```{glue:figure} eda1_bivariate_target_associations\n",
    "---\n",
    "align: center\n",
    "name: eda1_bivariate_target_associations_fig\n",
    "---\n",
    "Mass Shape and Mass Margins\n",
    "```"
   ]
  },
  {
   "cell_type": "markdown",
   "id": "32fcfee9",
   "metadata": {},
   "source": [
    "#### Bivariate Target Association Analysis Summary\n",
    "\n",
    "{numref}`eda1_bivariate_target_associations_fig` depicts the Cramer's V associations between the independent variables and our target variable, 'cancer'. The main observations are as follows:\n",
    "\n",
    "1. There was strong agreement between the BI-RADS assessments and the pathology ($\\tau$=0.60, p<0.01); an expected finding as many of the BI-RADS assessments were likely updated as additional information was gathered by the physician {cite}`leeCuratedMammographyData2017`.\n",
    "2. Of the morphological features, mass margins had the strongest association with the diagnostic outcome. ($X^2$(1,n=1694)=588.62 p<0.01, $V$=0.59). The margins most associated with malignancy were ill-defined, microlobulated, and spiculated.\n",
    "3. Calcification type was also strongly associated with pathology ($X^2$(1,n=1872)=539.69 p<0.01, $V$=0.54). Pleomorphic and fine linear branching were most highly associated with malignancy. \n",
    "4. Mass shape had a large and significant effect on pathology in the dataset ($X^2$(1,n=1694)=440.92 p<0.01, $V$=0.51). Lobulated, round, and oval masses had malignancy rates exceeding 60% in the CBIS-DDSM dataset.\n",
    "5. Calcification distribution had a moderate effect on pathology.  ($X^2$(1,n=1872)=198.56 p<0.01, $V$=0.33). Linear calcifications had the greatest rate of malignancy, followed by regional, clustered calcifications. Segmental and diffusely scattered calcifications were more indicative of a benign pathology.\n",
    "6. Subtlety, abnormality type, breast, breast density, and image image_view were all weakly associated with pathology."
   ]
  },
  {
   "cell_type": "markdown",
   "id": "4ecc57c2",
   "metadata": {},
   "source": [
    "#### Bivariate Feature Association Analysis Summary\n",
    "Cramer's V was used to measure the degree of association between the features. We observed several strong associations in both calcification and mass cases:\n",
    "1. Calcification Cases: \n",
    "   1. There was a strong association (V=0.54) between calcification type and BI-RADS assessment. \n",
    "   2. Moderate associations were observed between:\n",
    "      1. breast density and calcification type\n",
    "      2. calcification type and distribution\n",
    "      3. calcification type and subtlety\n",
    "      4. calcification distribution and BI-RADS assessment\n",
    "   3. The other features were weakly associated. \n",
    "2. Mass Cases:\n",
    "   1. No strong associations were observed among the features in the mass dataset.\n",
    "   2. Moderate associations were observed between:\n",
    "      1. mass shape and BI-RADS assessment\n",
    "      2. mass margins and BI-RADS assessment\n",
    "   3. Other features were weakly associated.\n",
    "\n",
    "Next, multivariate data analysis."
   ]
  },
  {
   "cell_type": "markdown",
   "id": "c3849d5f",
   "metadata": {},
   "source": [
    "## Multivariate Analysis\n",
    "\n",
    "The purpose of the multivariate analysis is to elucidate features of the data, beyond that which can be derived from the univariate, and bivariate analyses above. Our objectives; therefore, are to:\n",
    "\n",
    "1. Examine the relationships among the morphological features and the diagnosis.\n",
    "2. Estimate the importance of each independent variable in explaining the diagnosis.\n",
    "3. Establish a model to predict a diagnosis, given the independent variables.\n",
    "\n",
    "We begin with the morphological feature analysis."
   ]
  },
  {
   "cell_type": "markdown",
   "id": "a2cd5cec",
   "metadata": {},
   "source": [
    "### Morphological Analysis\n",
    "\n",
    "The morphology, the form and structure of the abnormality, is the most important factor in the differentiation between a benign and malignant diagnosis. Here, we explore the relationship between the morphological factors and the diagnostic outcome. Concretely, we ask which combinations of morphologies are most malignant. \n",
    "\n",
    "We’ll start with mass shape and margins."
   ]
  },
  {
   "cell_type": "markdown",
   "id": "e7faf92f",
   "metadata": {},
   "source": [
    "#### Probability of Malignancy by Mass Shape and Margin"
   ]
  },
  {
   "cell_type": "code",
   "execution_count": null,
   "id": "602ce9db",
   "metadata": {},
   "outputs": [],
   "source": [
    "ax = cases.morphology_analysis(a='mass_shape', b='mass_margins')\n",
    "glue(\"eda1_multivariate_mass_analysis\", ax)"
   ]
  },
  {
   "cell_type": "markdown",
   "id": "4aff402e",
   "metadata": {},
   "source": [
    "```{glue:figure} eda1_multivariate_mass_analysis\n",
    "---\n",
    "align: center\n",
    "name: eda1_multivariate_mass_analysis_fig\n",
    "---\n",
    "Probability of Malignancy by Mass Shape and Margin \n",
    "```"
   ]
  },
  {
   "cell_type": "markdown",
   "id": "270281b1",
   "metadata": {},
   "source": [
    "{numref}`eda1_multivariate_mass_analysis_fig` shows a heat map of probabilities of malignancy by mass shape and margin. \n",
    "\n",
    "Note: this analysis was restricted to the five most frequently occurring mass shapes and margins which account for ~87% and ~93% of the cases respectively.\n",
    "\n",
    "The values in the heat map are the sum of the boolean cancer variable for each mass shape/mass margin combination, normalized by the total number of observations in the subset. \n",
    "\n",
    "Irregular masses have a ~48% chance of malignancy as indicated by our data. Of the irregular masses, those with a spiculated and ill-defined margin have a probability of malignancy of ~31% and ~17% respectively."
   ]
  },
  {
   "cell_type": "markdown",
   "id": "eb2a086e",
   "metadata": {},
   "source": [
    "#### Probability of Malignancy by Calcification Type and Distribution"
   ]
  },
  {
   "cell_type": "code",
   "execution_count": null,
   "id": "156f4209",
   "metadata": {},
   "outputs": [],
   "source": [
    "ax = cases.morphology_analysis(a='calc_type', b='calc_distribution')\n",
    "glue(\"eda1_multivariate_calc_analysis\", ax)"
   ]
  },
  {
   "cell_type": "markdown",
   "id": "39525739",
   "metadata": {},
   "source": [
    "```{glue:figure} eda1_multivariate_calc_analysis\n",
    "---\n",
    "align: center\n",
    "name: eda1_multivariate_calc_analysis_fig\n",
    "---\n",
    "Probability of Malignancy by Calcification Type and Distribution \n",
    "```"
   ]
  },
  {
   "cell_type": "markdown",
   "id": "f2ad4660",
   "metadata": {},
   "source": [
    "{numref}`eda1_multivariate_mass_analysis_fig` shows a heat map of probabilities of malignancy by calcification type and distribution. \n",
    "\n",
    "Again, we've restricted the analysis to the most frequently occurring calcification types and distributions which represent ~80% and ~97% of the cases respectively. \n",
    "\n",
    "Pleomorphic calcifications account for ~60% of the malignancies in the CBIS-DDSM dataset. Of those, clustered and segmental distributions represent malignancies at probabilities of ~47% and ~13% respectively."
   ]
  },
  {
   "cell_type": "markdown",
   "id": "ebd32297",
   "metadata": {},
   "source": [
    "### Model Selection\n",
    "\n",
    " Logistic Regression, Support Vector Machines, and Random Forests classifiers will be trained on the calcification and mass training data separately. The models will be evaluated on unseen test data and the best performing algorithm will provide feature importances. \n",
    "\n",
    " Given the high cost of a false negative, we will use recall as the metric for evaluating model performance."
   ]
  },
  {
   "cell_type": "code",
   "execution_count": null,
   "id": "205c54bf",
   "metadata": {
    "tags": [
     "remove-cell",
     "hide-input"
    ]
   },
   "outputs": [],
   "source": [
    "FORCE_MODEL_FIT = False"
   ]
  },
  {
   "cell_type": "markdown",
   "id": "cdd1e7cb",
   "metadata": {
    "tags": [
     "hide-input"
    ]
   },
   "source": [
    "#### Build Pipelines\n",
    "Pipelines are built for each classifier."
   ]
  },
  {
   "cell_type": "code",
   "execution_count": null,
   "id": "6b9dc02f",
   "metadata": {
    "tags": [
     "hide-input"
    ]
   },
   "outputs": [],
   "source": [
    "pb = PipelineBuilder()\n",
    "pb.set_jobs(6)\n",
    "pb.set_standard_scaler()\n",
    "pb.set_scorer('accuracy')\n",
    "\n",
    "# Build Logistic Regression Pipeline\n",
    "params_lr = [{'clf__penalty': ['l1', 'l2'],\n",
    "\t\t      'clf__C': [1.0, 0.5, 0.1],\n",
    "\t\t      'clf__solver': ['liblinear']}] \n",
    "clf = LogisticRegression(random_state=5)\n",
    "pb.set_classifier(classifier=clf, params=params_lr)\n",
    "pb.build_gridsearch_cv()\n",
    "lr = pb.pipeline\n",
    "\n",
    "# Build SVM Pipeline\n",
    "clf = SVC(random_state=5)\n",
    "params_svc = [{'clf__kernel': ['linear'], \n",
    "\t\t       'clf__C': [1,2,3,4,5, 6, 7, 8, 9, 10]}]\n",
    "pb.set_classifier(classifier=clf, params=params_svc)\n",
    "pb.build_gridsearch_cv()\n",
    "svc = pb.pipeline\n",
    "\n",
    "# Build Random Forest Pipeline\n",
    "clf = RandomForestClassifier(random_state=5)\n",
    "param_range = [1,2,3,4,5]\n",
    "params_rf = [{'clf__criterion': ['gini', 'entropy'],\n",
    "\t\t      'clf__min_samples_leaf': param_range,\n",
    "\t\t      'clf__max_depth': param_range,\n",
    "\t\t      'clf__min_samples_split': param_range[1:]}]  \n",
    "pb.set_classifier(classifier=clf, params=params_rf)\n",
    "pb.build_gridsearch_cv()\n",
    "rf = pb.pipeline"
   ]
  },
  {
   "cell_type": "markdown",
   "id": "64d4962e",
   "metadata": {
    "tags": [
     "hide-input"
    ]
   },
   "source": [
    "#### Calcification Case Multivariate Analysis\n",
    "##### Get Model Data"
   ]
  },
  {
   "cell_type": "code",
   "execution_count": null,
   "id": "4cb3a130",
   "metadata": {
    "tags": [
     "hide-input"
    ]
   },
   "outputs": [],
   "source": [
    "X_train, y_train, X_test, y_test = cases.get_calc_model_data()\n",
    "X = pd.concat([X_train, X_test], axis=0)\n",
    "y = pd.concat([y_train, y_test], axis=0)"
   ]
  },
  {
   "cell_type": "markdown",
   "id": "98de70fe",
   "metadata": {
    "tags": [
     "hide-input"
    ]
   },
   "source": [
    "##### Build and Execute Model Selection"
   ]
  },
  {
   "cell_type": "code",
   "execution_count": null,
   "id": "65089e1d",
   "metadata": {
    "tags": [
     "hide-input"
    ]
   },
   "outputs": [],
   "source": [
    "BEST_CALC_MODEL_FP = os.path.abspath('model/eda/best_calc_pipeline.pkl')"
   ]
  },
  {
   "cell_type": "code",
   "execution_count": null,
   "id": "305df5e6",
   "metadata": {
    "tags": [
     "hide-input"
    ]
   },
   "outputs": [],
   "source": [
    "\n",
    "# Build Model Selector\n",
    "calc_ms = ModelSelector(filepath=BEST_CALC_MODEL_FP)\n",
    "calc_ms.add_pipeline(pipeline=lr, name=\"Logistic Regression\")\n",
    "calc_ms.add_pipeline(pipeline=svc, name=\"Support Vector Classifier\")\n",
    "calc_ms.add_pipeline(pipeline=rf, name=\"Random Forest\")"
   ]
  },
  {
   "cell_type": "markdown",
   "id": "317afa54",
   "metadata": {
    "tags": [
     "hide-input"
    ]
   },
   "source": [
    "##### Prediction Results"
   ]
  },
  {
   "cell_type": "code",
   "execution_count": null,
   "id": "acff3b1f",
   "metadata": {
    "tags": [
     "hide-input"
    ]
   },
   "outputs": [],
   "source": [
    "calc_ms.run(X_train=X_train, y_train=y_train, X_test=X_test, y_test=y_test, force=FORCE_MODEL_FIT)\n",
    "y_pred = calc_ms.predict(X=X)\n",
    "calc_ms.score(y_true=y, y_pred=y_pred)"
   ]
  },
  {
   "cell_type": "markdown",
   "id": "a88e546d",
   "metadata": {},
   "source": [
    "The Support Vector Classifier outperformed Random Forest and Logistic Regression on the calcification dataset. It achieved an overall accuracy of 0.79 and a recall of 0.79."
   ]
  },
  {
   "cell_type": "markdown",
   "id": "765d2a65",
   "metadata": {
    "tags": [
     "hide-input"
    ]
   },
   "source": [
    "##### Calcification Variable Importance"
   ]
  },
  {
   "cell_type": "markdown",
   "id": "d44f643e",
   "metadata": {},
   "source": [
    "The magnitude of the model coefficients indicate the importance of the feature to the prediction task. A positive value provides evidence that the instance being classified belongs to the positive or malignant class; whereas, a negative value provides evidence that the instance being classified belongs to the negative or benign class. Let's take a look."
   ]
  },
  {
   "cell_type": "code",
   "execution_count": null,
   "id": "c1e1b9a7",
   "metadata": {
    "tags": [
     "remove-output",
     "hide-input"
    ]
   },
   "outputs": [],
   "source": [
    "fig, ax = plt.subplots(figsize=(12,6))\n",
    "title = f\"CBIS-DDSM Multivariate Analysis\\nCalcification Cases\\nFeature Importance\"\n",
    "ax = calc_ms.plot_feature_importance(title=title, ax=ax)\n",
    "glue(\"eda1_multivariate_calc_feature_importance\", ax)"
   ]
  },
  {
   "cell_type": "markdown",
   "id": "516bf6ce",
   "metadata": {},
   "source": [
    "```{glue:figure} eda1_multivariate_calc_feature_importance\n",
    "---\n",
    "align: center\n",
    "name: eda1_multivariate_calc_feature_importance_fig\n",
    "---\n",
    "Feature Importance for Calcification Cases in the CBIS-DDSM Dataset\n",
    "```"
   ]
  },
  {
   "cell_type": "markdown",
   "id": "47584def",
   "metadata": {},
   "source": [
    "In {numref}`eda1_multivariate_calc_feature_importance_fig`, we see that calcification types have the greatest impact on the classification task. Further, the feature weight of evidence aligns with current literature on the differential of breast calcifications. For instance, lucent-centered, punctate, amorphous, and vascular calcifications are typically classified as BI-RADS 2, benign."
   ]
  },
  {
   "cell_type": "markdown",
   "id": "2be8260e",
   "metadata": {
    "tags": [
     "hide-input"
    ]
   },
   "source": [
    "#### Mass Case Multivariate Analysis\n",
    "##### Get Model Data"
   ]
  },
  {
   "cell_type": "code",
   "execution_count": null,
   "id": "3280da8b",
   "metadata": {
    "tags": [
     "hide-input"
    ]
   },
   "outputs": [],
   "source": [
    "X_train, y_train, X_test, y_test = cases.get_mass_model_data()\n",
    "X = pd.concat([X_train, X_test], axis=0)\n",
    "y = pd.concat([y_train, y_test], axis=0)"
   ]
  },
  {
   "cell_type": "markdown",
   "id": "1a60c878",
   "metadata": {
    "tags": [
     "hide-input"
    ]
   },
   "source": [
    "##### Build and Execute Model Selection"
   ]
  },
  {
   "cell_type": "code",
   "execution_count": null,
   "id": "824dd150",
   "metadata": {
    "tags": [
     "hide-input"
    ]
   },
   "outputs": [],
   "source": [
    "BEST_MASS_MODEL_FP = os.path.abspath('model/eda/best_mass_pipeline.pkl')"
   ]
  },
  {
   "cell_type": "code",
   "execution_count": null,
   "id": "72133213",
   "metadata": {
    "tags": [
     "hide-input"
    ]
   },
   "outputs": [],
   "source": [
    "# Build Model Selector\n",
    "mass_ms = ModelSelector(filepath=BEST_MASS_MODEL_FP)\n",
    "mass_ms.add_pipeline(pipeline=lr, name=\"Logistic Regression\")\n",
    "mass_ms.add_pipeline(pipeline=svc, name=\"Support Vector Classifier\")\n",
    "mass_ms.add_pipeline(pipeline=rf, name=\"Random Forest\")"
   ]
  },
  {
   "cell_type": "markdown",
   "id": "7da4bc61",
   "metadata": {
    "tags": [
     "hide-input"
    ]
   },
   "source": [
    "##### Prediction Results"
   ]
  },
  {
   "cell_type": "code",
   "execution_count": null,
   "id": "ede706a9",
   "metadata": {
    "tags": [
     "hide-input"
    ]
   },
   "outputs": [],
   "source": [
    "mass_ms.run(X_train=X_train, y_train=y_train, X_test=X_test, y_test=y_test, force=FORCE_MODEL_FIT)\n",
    "y_pred = mass_ms.predict(X=X)\n",
    "mass_ms.score(y_true=y, y_pred=y_pred)"
   ]
  },
  {
   "cell_type": "markdown",
   "id": "b90ea266",
   "metadata": {},
   "source": [
    "Again, the Support Vector Classifier performed best on the mass dataset with accuracy and recall of 0.88 and 0.88 respectively. \n",
    "\n",
    "Let's examine feature importance."
   ]
  },
  {
   "cell_type": "markdown",
   "id": "0ef77137",
   "metadata": {
    "tags": [
     "hide-input"
    ]
   },
   "source": [
    "##### Mass Variable Importance"
   ]
  },
  {
   "cell_type": "code",
   "execution_count": null,
   "id": "8796abac",
   "metadata": {
    "tags": [
     "remove-output",
     "hide-input"
    ]
   },
   "outputs": [],
   "source": [
    "fig, ax = plt.subplots(figsize=(12,6))\n",
    "title = f\"CBIS-DDSM Multivariate Analysis\\nMass Cases\\nFeature Importance\"\n",
    "ax = mass_ms.plot_feature_importance(title=title, ax=ax)\n",
    "glue(\"eda1_multivariate_mass_feature_importance\", ax)"
   ]
  },
  {
   "cell_type": "markdown",
   "id": "25702451",
   "metadata": {},
   "source": [
    "```{glue:figure} eda1_multivariate_mass_feature_importance\n",
    "---\n",
    "align: center\n",
    "name: eda1_multivariate_mass_feature_importance_fig\n",
    "---\n",
    "Feature Importance for Mass Cases in the CBIS-DDSM Dataset\n",
    "```"
   ]
  },
  {
   "cell_type": "markdown",
   "id": "c9c26927",
   "metadata": {},
   "source": [
    "As shown in {numref}`eda1_multivariate_mass_feature_importance_fig`, ill-defined, spiculated, and microlobulated mass margins were the most important features, followed by lymph node and focal asymmetric density mass shapes. \n",
    "\n",
    "This concludes the multivariate analysis portion of the exploratory data analysis part 1. Let's summarize our findings."
   ]
  },
  {
   "cell_type": "markdown",
   "id": "acf74b32",
   "metadata": {},
   "source": [
    "## Summary\n",
    "\n",
    "Our aim for this section was to acquire insight into the CBIS-DDSM dataset and the factors that distinguish benign from malignant diagnoses in digital mammography screening. To that end, univariate, bivariate, and multivariate analyses were undertaken to understand how the data were distributed within the CBIS-DDSM dataset, to determine whether a statistical association exists between the features and between the features and the diagnosis, to evaluate how morphological features relate to a diagnosis and finally, to ascertain the relative importance of features to the classification task. Here we summarize the key findings from the analysis effort.\n",
    "\n",
    "### Distribution of Data\n",
    "\n",
    "1.\tApproximately 60% of the cases are benign, indicating a slight class imbalance which could lead to biased predictions.  \n",
    "2.\tFor calcification cases, pleomorphic, amorphous, punctate, lucent-centered, and fine linear branching calcification types account for ~75% of the calcification case types.\n",
    "3.\tApproximately 85% of the calcification cases had either clustered or segmental classification distributions.\n",
    "4.\tFor mass cases, irregular, oval, lobulated, and round masses represented ~85% of all mass cases.\n",
    "5.\tThe five most frequently encountered mass margins: spiculated, circumscribed, ill-defined, obscured, and microlobulated, covered over 93% of the mass cases.\n",
    "6.\tThe majority (~70%) of cases have BI-RADS b and c breast densities, the remainder is evenly split between BI-RADS a and d densities.  \n",
    "\n",
    "### Feature and Target Associations\n",
    "\n",
    "1.\tOf the morphological features, mass margins had the strongest association with the diagnostic outcome. Ill-defined, microlobulated,  and spiculated margins were associated with the highest rates of malignancy.\n",
    "2.\tCalcification type was also strongly associated with pathology. Pleomorphic and fine linear branching were most highly associated with malignancy.\n",
    "3.\tCalcification distribution had a moderate effect on classification outcome. Linear calcification distributions had the highest rate of malignancy, followed by regional, and clustered distributions. Segmental and diffusely scattered distributions tended to indicate a benign pathology.\n",
    "4.\tSubtlety, image view, left-or-right side, and breast density were all weakly associated with the outcome.\n",
    "\n",
    "### Feature Importance\n",
    "\n",
    "1.\tThe three most important features for mass differential diagnoses were ill-defined, spiculated, and microlobulated mass margins. Lymph node, focal asymmetrical density, and asymmetric breast tissue were three mass shapes that had a strong, but lesser degree of importance than the mass margins.\n",
    "2.\tFor calcification cases, calcification type dominated the feature list in terms of importance. The top five included lucent-centered, punctate, amorphous, round and regular, and vascular calcification types. \n",
    "\n",
    "This concludes part 1 of the exploratory analysis. Next, we analyze the CBIS-DDSM imaging data."
   ]
  }
 ],
 "metadata": {
  "jupytext": {
   "formats": "md:myst",
   "text_representation": {
    "extension": ".md",
    "format_name": "myst",
    "format_version": 0.13,
    "jupytext_version": "1.16.0"
   }
  },
  "kernelspec": {
   "display_name": "Python 3",
   "language": "python",
   "name": "python3"
  },
  "source_map": [
   13,
   62,
   72,
   98,
   105,
   111,
   116,
   121,
   131,
   150,
   161,
   166,
   171,
   188,
   200,
   206,
   216,
   220,
   226,
   236,
   240,
   245,
   251,
   261,
   265,
   270,
   276,
   286,
   290,
   299,
   305,
   315,
   319,
   324,
   330,
   340,
   344,
   360,
   366,
   376,
   380,
   401,
   407,
   417,
   421,
   432,
   438,
   448,
   452,
   462,
   468,
   478,
   482,
   494,
   500,
   510,
   514,
   519,
   525,
   535,
   539,
   544,
   550,
   560,
   578,
   584,
   588,
   592,
   596,
   602,
   612,
   616,
   621,
   625,
   631,
   637,
   647,
   651,
   656,
   660,
   666,
   672,
   682,
   686,
   691,
   695,
   701,
   707,
   717,
   721,
   724,
   728,
   745,
   754,
   764,
   774,
   778,
   783,
   787,
   797,
   802,
   808,
   818,
   822,
   827,
   831,
   836,
   845,
   855,
   859,
   864,
   868,
   872,
   879,
   889,
   894,
   903,
   913,
   919,
   924,
   928,
   934,
   943,
   953,
   957,
   962,
   966,
   972,
   980,
   990,
   996,
   1001,
   1007,
   1021,
   1027,
   1037,
   1056,
   1060,
   1068,
   1078,
   1088,
   1092,
   1097,
   1100,
   1110,
   1116,
   1120,
   1125,
   1135,
   1139,
   1143,
   1148,
   1158,
   1164,
   1169,
   1172,
   1182,
   1186,
   1197,
   1202,
   1212,
   1225,
   1246,
   1258,
   1266,
   1270,
   1273,
   1283,
   1293,
   1297,
   1300,
   1310,
   1318,
   1326,
   1332,
   1337,
   1375,
   1380,
   1388,
   1392,
   1398,
   1409,
   1413,
   1419,
   1423,
   1427,
   1431,
   1438,
   1448,
   1452,
   1457,
   1465,
   1469,
   1475,
   1485,
   1489,
   1495,
   1501,
   1505,
   1512,
   1522,
   1528
  ]
 },
 "nbformat": 4,
 "nbformat_minor": 5
}