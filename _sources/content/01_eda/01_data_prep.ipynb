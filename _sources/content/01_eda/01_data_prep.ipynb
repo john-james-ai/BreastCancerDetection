{
 "cells": [
  {
   "cell_type": "markdown",
   "id": "7b680e05",
   "metadata": {},
   "source": [
    "# CBIS-DDSM Data Preparation\n",
    "In the prior section, we obtained the CBIS-DDSM data from [The Cancer Imaging Archive](https://wiki.cancerimagingarchive.net/pages/image_viewpage.action?pageId=22516629) (TCIA). This brief section aims to convert the data to a form suitable for exploratory data analyses.  Once complete, we'll have the following four datasets for subsequent phase analysis:\n",
    "\n",
    "| # | Dataset              | Description                                                        |\n",
    "|---|----------------------|--------------------------------------------------------------------|\n",
    "| 1 | calc_cases.csv       | Calcification cases from the training and test sets.               |\n",
    "| 2 | mass_cases.csv       | Mass cases from the training and test sets.                        |\n",
    "| 3 | case_series_xref.csv | Case / Series Cross-Reference                                      |\n",
    "| 4 | dicom.csv            | DICOM dataset containing properties, and quality assessments for each image. |\n",
    "\n",
    "First, we'll build the case datasets (1,2,3), then we'll construct the DICOM image metadata and quality assessment dataset (4). \n",
    ", four datasets will be produced \n",
    "This Our tasks are as follows:\n",
    "\n",
    "5. **Assess Image Quality**: \n",
    "6. **Extract DICOM Image Metadata**: Extract image metadata such as height, width, bit-depth, pixel values, and photometric interpretation from DICOM image files.\n",
    "\n",
    "Once complete, we will have the following datasets for analysis:"
   ]
  },
  {
   "cell_type": "code",
   "execution_count": 1,
   "id": "3cbcb639",
   "metadata": {
    "tags": [
     "hide-input"
    ]
   },
   "outputs": [
    {
     "ename": "ModuleNotFoundError",
     "evalue": "No module named 'bcd'",
     "output_type": "error",
     "traceback": [
      "\u001b[0;31m---------------------------------------------------------------------------\u001b[0m",
      "\u001b[0;31mModuleNotFoundError\u001b[0m                       Traceback (most recent call last)",
      "Cell \u001b[0;32mIn[1], line 7\u001b[0m\n\u001b[1;32m      3\u001b[0m     os\u001b[38;5;241m.\u001b[39mchdir(os\u001b[38;5;241m.\u001b[39mpath\u001b[38;5;241m.\u001b[39mabspath(os\u001b[38;5;241m.\u001b[39mpath\u001b[38;5;241m.\u001b[39mjoin(\u001b[38;5;124m\"\u001b[39m\u001b[38;5;124m../..\u001b[39m\u001b[38;5;124m\"\u001b[39m)))\n\u001b[1;32m      5\u001b[0m \u001b[38;5;28;01mimport\u001b[39;00m \u001b[38;5;21;01mpandas\u001b[39;00m \u001b[38;5;28;01mas\u001b[39;00m  \u001b[38;5;21;01mpd\u001b[39;00m\n\u001b[0;32m----> 7\u001b[0m \u001b[38;5;28;01mfrom\u001b[39;00m \u001b[38;5;21;01mbcd\u001b[39;00m\u001b[38;5;21;01m.\u001b[39;00m\u001b[38;5;21;01mpreprocess\u001b[39;00m\u001b[38;5;21;01m.\u001b[39;00m\u001b[38;5;21;01mmetadata\u001b[39;00m\u001b[38;5;21;01m.\u001b[39;00m\u001b[38;5;21;01mcase\u001b[39;00m \u001b[38;5;28;01mimport\u001b[39;00m CasePrep\n\u001b[1;32m      8\u001b[0m \u001b[38;5;28;01mfrom\u001b[39;00m \u001b[38;5;21;01mbcd\u001b[39;00m\u001b[38;5;21;01m.\u001b[39;00m\u001b[38;5;21;01mpreprocess\u001b[39;00m\u001b[38;5;21;01m.\u001b[39;00m\u001b[38;5;21;01mmetadata\u001b[39;00m\u001b[38;5;21;01m.\u001b[39;00m\u001b[38;5;21;01mdicom\u001b[39;00m \u001b[38;5;28;01mimport\u001b[39;00m DicomPrep\n",
      "\u001b[0;31mModuleNotFoundError\u001b[0m: No module named 'bcd'"
     ]
    }
   ],
   "source": [
    "import os\n",
    "if 'jbook' in os.getcwd():\n",
    "    os.chdir(os.path.abspath(os.path.join(\"../..\")))\n",
    "\n",
    "import pandas as  pd\n",
    "\n",
    "from bcd.preprocess.metadata.case import CasePrep\n",
    "from bcd.preprocess.metadata.dicom import DicomPrep"
   ]
  },
  {
   "cell_type": "markdown",
   "id": "55c74564",
   "metadata": {},
   "source": [
    "## Build Case Dataset\n",
    "The data are currently split into train and test sets by BI-RADS category. While convenient for modeling, this is rather cumbersome for the exploratory data analysis which considers the entire dataset, before making any assumptions. Our first task is to combine the calcification and mass train and test sets into a single case dataset, facilitating a top-down, comprehensive image_view of all the data for analysis. \n",
    "\n",
    "The target variable, pathology, has three values: 'MALIGNANT', 'BENIGN', and 'BENIGN_WITHOUT_CALLBACK. The latter indicates that some aspect of the case as worth tracking; but, no follow-up is required. For our purposes, that is a distinction without a difference. Nonetheless, rather than modifying the variable and lose potentially useful information, we'll create a new target variable, 'cancer', which will be True if pathology is 'MALIGNANT', and False otherwise. \n",
    "\n",
    "The CBIS-DDSM creators define a case as a particular abnormality as seen in the cranial caudal (CC) or mediolateral oblique (MLO) image_views; yet, the dataset lacks a unique case identifier. Consequently, five different variables are required to map metadata with their associated image. To enable direct matching between metadata and DICOM images, each case will be assigned a unique identifier, which will be cross-referenced to a full mammogram, ROI mask, or cropped image series dataset."
   ]
  },
  {
   "cell_type": "code",
   "execution_count": null,
   "id": "82182acc",
   "metadata": {
    "tags": [
     "hide-cell"
    ]
   },
   "outputs": [],
   "source": [
    "CALC_TRAIN_FP = \"data/meta/0_raw/calc_train.csv\"\n",
    "CALC_TEST_FP = \"data/meta/0_raw/calc_test.csv\"\n",
    "MASS_TRAIN_FP = \"data/meta/0_raw/mass_train.csv\"\n",
    "MASS_TEST_FP = \"data/meta/0_raw/mass_test.csv\"\n",
    "CASE_FP = \"data/meta/1_staged/cases.csv\"\n",
    "CASE_SERIES_XREF_FP = \"data/meta/1_staged/case_series_xref.csv\""
   ]
  },
  {
   "cell_type": "code",
   "execution_count": null,
   "id": "b1d01e39",
   "metadata": {},
   "outputs": [],
   "source": [
    "case = CasePrep()\n",
    "df, df_xref = case.prep(calc_train_fp=CALC_TRAIN_FP, calc_test_fp=CALC_TEST_FP, mass_train_fp=MASS_TRAIN_FP, mass_test_fp=MASS_TEST_FP, case_fp=CASE_FP, case_series_fp=CASE_SERIES_XREF_FP, result=True, force=False)\n",
    "print(f\"The Case Dataset has been created with {df.shape[0]} rows and {df.shape[1]} columns.\")\n",
    "print(f\"The Case/Series XRef Dataset has been created with {df_xref.shape[0]} rows and {df_xref.shape[1]} columns.\")"
   ]
  },
  {
   "cell_type": "markdown",
   "id": "582dafe8",
   "metadata": {},
   "source": [
    "## Build DICOM Dataset\n",
    "Developing an image preprocessing approach requires visibility into image metadata, currently buried in individual DICOM files. Our first task is to extract these data and store them in a more accessible format. Note: There are 10,239 images in the dataset according to [TCIA](https://wiki.cancerimagingarchive.net/pages/image_viewpage.action?pageId=22516629#2251662935562334b1e043a3a0512554ef512cad). The DICOM image file for case_id 'P_01382_LEFT_mass_MLO_1' was corrupt, and could not be read. Therefore, we will have a total of 10,238 images."
   ]
  },
  {
   "cell_type": "code",
   "execution_count": null,
   "id": "a4da1fb2",
   "metadata": {},
   "outputs": [],
   "source": [
    "LOCATION = \"data/image/0_raw\"\n",
    "DICOM_FP = \"data/meta/1_staged/dicom.csv\"\n",
    "SKIP_LIST = [\"Mass-Training_P_01382_LEFT_MLO/07-20-2016-DDSM-93921/1.000000-full mammogram images-05891/1-1.dcm\"]"
   ]
  },
  {
   "cell_type": "code",
   "execution_count": null,
   "id": "6b036e90",
   "metadata": {},
   "outputs": [],
   "source": [
    "dicom = DicomPrep()\n",
    "dfd = dicom.prep(location=LOCATION, dicom_fp=DICOM_FP, skip_list=SKIP_LIST, result=True, force=True)\n",
    "dfd = dicom.add_series_description(dicom_fp=DICOM_FP, series_fp=CASE_SERIES_XREF_FP)\n",
    "print(f\"The DICOM Dataset has been created with {dfd.shape[0]} rows and {dfd.shape[1]} columns.\")"
   ]
  }
 ],
 "metadata": {
  "jupytext": {
   "text_representation": {
    "extension": ".md",
    "format_name": "myst",
    "format_version": 0.13,
    "jupytext_version": "1.15.1"
   }
  },
  "kernelspec": {
   "display_name": "bcd",
   "language": "python",
   "name": "python3"
  },
  "language_info": {
   "codemirror_mode": {
    "name": "ipython",
    "version": 3
   },
   "file_extension": ".py",
   "mimetype": "text/x-python",
   "name": "python",
   "nbconvert_exporter": "python",
   "pygments_lexer": "ipython3",
   "version": "3.10.12"
  },
  "source_map": [
   12,
   34,
   45,
   54,
   65,
   70,
   75,
   81
  ]
 },
 "nbformat": 4,
 "nbformat_minor": 5
}