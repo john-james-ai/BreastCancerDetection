{
 "cells": [
  {
   "cell_type": "markdown",
   "id": "53ce10cc",
   "metadata": {},
   "source": [
    "# Image Preprocessing\n",
    "\n",
    "Discriminating between benign and malignant lesions in mammograms involves the detection and analysis of different structural changes in the breast tissue. Deep learning algorithms, specifically, convolutional neural networks, can extract features from regions of interest (ROIs) based on pixel intensity; however, this task is complicated by:\n",
    "\n",
    "- the structural complexity of ROIs,\n",
    "- presence of artifacts (large texts and annotations) in the mammograms which resemble the pixel intensity of the ROI,\n",
    "- noise in the form of random variations in pixel intensity that may have been produced during image capture,\n",
    "- poor brightness and contrast levels in some mammograms,\n",
    "- dense breast tissue with pixel intensities similar to that of cancerous tissue, and\n",
    "- the limited number of mammogram images available for model training.\n",
    "\n",
    "The performance of a breast cancer detection and classification model rests upon the degree to which these issues are addressed during the image preprocessing stage.  This section describes the image preprocessing approach for the CBIS-DDSM dataset in terms of the methods employed and their comparative performance evaluation experiments. The following figure depicts the image preprocessing procedure.\n",
    "\n",
    "```{figure} ../figures/ImagePrep.png\n",
    "---\n",
    "name: image_prep\n",
    "---\n",
    "Image preprocessing procedure of this study.\n",
    "```"
   ]
  }
 ],
 "metadata": {
  "jupytext": {
   "text_representation": {
    "extension": ".md",
    "format_name": "myst",
    "format_version": 0.13,
    "jupytext_version": "1.15.1"
   }
  },
  "kernelspec": {
   "display_name": "bcd",
   "language": "python",
   "name": "python3"
  },
  "language_info": {
   "codemirror_mode": {
    "name": "ipython",
    "version": 3
   },
   "file_extension": ".py",
   "mimetype": "text/x-python",
   "name": "python",
   "nbconvert_exporter": "python",
   "pygments_lexer": "ipython3",
   "version": "3.10.12"
  },
  "source_map": [
   12
  ]
 },
 "nbformat": 4,
 "nbformat_minor": 5
}