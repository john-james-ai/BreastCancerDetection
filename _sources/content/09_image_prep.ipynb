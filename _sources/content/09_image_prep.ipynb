{
 "cells": [
  {
   "cell_type": "markdown",
   "id": "1bb64097",
   "metadata": {},
   "source": [
    "# Image Preprocessing\n",
    "\n",
    "Optimizing mammography for deep learning will comprise a series of image preprocessing steps. Denoising, artifact removal, pectoral muscle removal, and image enhancement are among the most essential steps in medical image preprocessing, and determining the optimal methods for these steps will be to a degree, an exercise in experimentation.  In this section, we conduct experiments that will determine the image preprocessing methods that will ultimately be applied to each image before model training.\n",
    "\n",
    "This section will be organized as follows:\n",
    "\n",
    "1. **Setup**: Initialize the repositories that will contain the images, preprocessing tasks, and image quality evaluations and extract a multivariate stratified sample of the images for experimentation.\n",
    "2. **Denoise**: Conduct our first experiments with denoising methods\n",
    "\n",
    "\n",
    "Import modules"
   ]
  },
  {
   "cell_type": "code",
   "execution_count": 1,
   "id": "0c3ecfde",
   "metadata": {},
   "outputs": [],
   "source": [
    "import os\n",
    "if 'jbook' in os.getcwd():\n",
    "    os.chdir(os.path.abspath(os.path.join(\"../..\")))\n",
    "from bcd.config import Config\n",
    "from bcd.container import BCDContainer\n",
    "from bcd.etl.load import Loader\n",
    "from bcd.preprocess.image.experiment.denoise import DenoiseExperiment\n",
    "from bcd.preprocess.image.method.denoise import (\n",
    "    BilateralFilter,\n",
    "    GaussianFilter,\n",
    "    MeanFilter,\n",
    "    MedianFilter,\n",
    ")"
   ]
  },
  {
   "cell_type": "code",
   "execution_count": 2,
   "id": "d4bf3b34",
   "metadata": {
    "tags": [
     "remove-cell"
    ]
   },
   "outputs": [],
   "source": [
    "Config.set_log_level('INFO')\n",
    "Config.set_mode('exp')"
   ]
  },
  {
   "cell_type": "markdown",
   "id": "1c318948",
   "metadata": {},
   "source": [
    "Wire our dependencies."
   ]
  },
  {
   "cell_type": "code",
   "execution_count": 3,
   "id": "96b8f4d8",
   "metadata": {},
   "outputs": [],
   "source": [
    "container = BCDContainer()\n",
    "container.init_resources()\n",
    "container.wire(\n",
    "    packages=[\n",
    "        \"bcd.dal.repo\", \"bcd.preprocess.image.experiment\", \"bcd.dal.io\", \"bcd.etl\"\n",
    "    ]\n",
    ")"
   ]
  },
  {
   "cell_type": "code",
   "execution_count": 4,
   "id": "d3a6871c",
   "metadata": {
    "tags": [
     "parameters"
    ]
   },
   "outputs": [],
   "source": [
    "# Section parameters\n",
    "SETUP_COMPLETE = False\n",
    "DENOISE_COMPLETE = False\n",
    "BATCHSIZE = 16"
   ]
  },
  {
   "cell_type": "markdown",
   "id": "c1f1dea2",
   "metadata": {},
   "source": [
    "## Setup\n",
    "\n",
    "### Initialize Repositories\n",
    "\n",
    "Experiment repositories are reset."
   ]
  },
  {
   "cell_type": "code",
   "execution_count": 5,
   "id": "0cfd9c44",
   "metadata": {},
   "outputs": [
    {
     "ename": "StdinNotImplementedError",
     "evalue": "raw_input was called, but this frontend does not support input requests.",
     "output_type": "error",
     "traceback": [
      "\u001b[0;31m---------------------------------------------------------------------------\u001b[0m",
      "\u001b[0;31mStdinNotImplementedError\u001b[0m                  Traceback (most recent call last)",
      "Cell \u001b[0;32mIn[5], line 3\u001b[0m\n\u001b[1;32m      1\u001b[0m \u001b[38;5;28;01mif\u001b[39;00m \u001b[38;5;129;01mnot\u001b[39;00m SETUP_COMPLETE:\n\u001b[1;32m      2\u001b[0m     uow \u001b[38;5;241m=\u001b[39m container\u001b[38;5;241m.\u001b[39mdal\u001b[38;5;241m.\u001b[39muow()\n\u001b[0;32m----> 3\u001b[0m     \u001b[43muow\u001b[49m\u001b[38;5;241;43m.\u001b[39;49m\u001b[43mreset\u001b[49m\u001b[43m(\u001b[49m\u001b[43m)\u001b[49m\n",
      "File \u001b[0;32m~/projects/bcd/bcd/dal/repo/uow.py:100\u001b[0m, in \u001b[0;36mUoW.reset\u001b[0;34m(self)\u001b[0m\n\u001b[1;32m     98\u001b[0m \u001b[38;5;250m\u001b[39m\u001b[38;5;124;03m\"\"\"Resets all repositories for the current mode.\"\"\"\u001b[39;00m\n\u001b[1;32m     99\u001b[0m msg \u001b[38;5;241m=\u001b[39m \u001b[38;5;124m\"\u001b[39m\u001b[38;5;124mThis will restore all repositories in the current mode to their initial state. Proceed? [Y/N]\u001b[39m\u001b[38;5;124m\"\u001b[39m\n\u001b[0;32m--> 100\u001b[0m proceed \u001b[38;5;241m=\u001b[39m \u001b[38;5;28;43minput\u001b[39;49m\u001b[43m(\u001b[49m\u001b[43mmsg\u001b[49m\u001b[43m)\u001b[49m\n\u001b[1;32m    101\u001b[0m \u001b[38;5;28;01mif\u001b[39;00m \u001b[38;5;124m\"\u001b[39m\u001b[38;5;124my\u001b[39m\u001b[38;5;124m\"\u001b[39m \u001b[38;5;129;01min\u001b[39;00m proceed\u001b[38;5;241m.\u001b[39mlower():\n\u001b[1;32m    102\u001b[0m     \u001b[38;5;28mself\u001b[39m\u001b[38;5;241m.\u001b[39mimage_repo\u001b[38;5;241m.\u001b[39mdelete_by_mode()\n",
      "File \u001b[0;32m~/anaconda3/envs/bcd/lib/python3.10/site-packages/ipykernel/kernelbase.py:1201\u001b[0m, in \u001b[0;36mKernel.raw_input\u001b[0;34m(self, prompt)\u001b[0m\n\u001b[1;32m   1199\u001b[0m \u001b[38;5;28;01mif\u001b[39;00m \u001b[38;5;129;01mnot\u001b[39;00m \u001b[38;5;28mself\u001b[39m\u001b[38;5;241m.\u001b[39m_allow_stdin:\n\u001b[1;32m   1200\u001b[0m     msg \u001b[38;5;241m=\u001b[39m \u001b[38;5;124m\"\u001b[39m\u001b[38;5;124mraw_input was called, but this frontend does not support input requests.\u001b[39m\u001b[38;5;124m\"\u001b[39m\n\u001b[0;32m-> 1201\u001b[0m     \u001b[38;5;28;01mraise\u001b[39;00m StdinNotImplementedError(msg)\n\u001b[1;32m   1202\u001b[0m \u001b[38;5;28;01mreturn\u001b[39;00m \u001b[38;5;28mself\u001b[39m\u001b[38;5;241m.\u001b[39m_input_request(\n\u001b[1;32m   1203\u001b[0m     \u001b[38;5;28mstr\u001b[39m(prompt),\n\u001b[1;32m   1204\u001b[0m     \u001b[38;5;28mself\u001b[39m\u001b[38;5;241m.\u001b[39m_parent_ident[\u001b[38;5;124m\"\u001b[39m\u001b[38;5;124mshell\u001b[39m\u001b[38;5;124m\"\u001b[39m],\n\u001b[1;32m   1205\u001b[0m     \u001b[38;5;28mself\u001b[39m\u001b[38;5;241m.\u001b[39mget_parent(\u001b[38;5;124m\"\u001b[39m\u001b[38;5;124mshell\u001b[39m\u001b[38;5;124m\"\u001b[39m),\n\u001b[1;32m   1206\u001b[0m     password\u001b[38;5;241m=\u001b[39m\u001b[38;5;28;01mFalse\u001b[39;00m,\n\u001b[1;32m   1207\u001b[0m )\n",
      "\u001b[0;31mStdinNotImplementedError\u001b[0m: raw_input was called, but this frontend does not support input requests."
     ]
    }
   ],
   "source": [
    "if not SETUP_COMPLETE:\n",
    "    uow = container.dal.uow()\n",
    "    uow.reset()"
   ]
  },
  {
   "cell_type": "markdown",
   "id": "aa564044",
   "metadata": {},
   "source": [
    "### Load Data\n",
    "\n",
    "We will load 5% of the data, stratified by abnormality type, image view, BI-RADS assessment and cancer diagnosis."
   ]
  },
  {
   "cell_type": "code",
   "execution_count": null,
   "id": "fb27b5b4",
   "metadata": {},
   "outputs": [],
   "source": [
    "if not SETUP_COMPLETE:\n",
    "    loader = Loader(frac=0.05, groupby=['abnormality_type', 'image_view', 'assessment', 'cancer'])\n",
    "    loader.run()"
   ]
  },
  {
   "cell_type": "markdown",
   "id": "59914a6b",
   "metadata": {},
   "source": [
    "## Denoise\n",
    "\n",
    "Noise in mammography is random variations in image brightness, color, or contrast that may have been produced during the image capture process. These fluctuations are largely categorized as salt and pepper noise, speckle noise, Gaussian noise, and Poisson noise. Salt and pepper noise, also known as spike noise, impulsive noise or flat-tail distributed noise will appear as black and white dots on the image.  Speckle noise is mainly found in radar images whereby the return signal from an object causes random fluctuations within the image. Gaussian noise is additive in nature and follows a Gaussian distribution. Finally, Poisson noise or shot noise appears when there is statistical variation in image brightness, primarily due to characteristics of the capturing device, such as the number of photons used in low-dose X-ray mammography.\n",
    "\n",
    "\n",
    "### Image Denoising Problem Statement\n",
    "\n",
    "Mathematically, the problem of image denoising can be modeled as:\n",
    "\n",
    "$$\n",
    "y = x + n\n",
    "$$\n",
    "\n",
    "where y is the observed noisy image, x is the unknown clean image and n represents additive white Gaussian noise (AWGN) with a standard deviation $\\sigma_n$. Mammography is inherently noisy and usually contains low-contrast regions. Our challenges; therefore are to:\n",
    "\n",
    "- ensure flat areas are smooth,\n",
    "- protect edges from blurring,\n",
    "- preserve textures in the mammography, and\n",
    "- generate no new artifacts\n",
    "\n",
    "An additional challenge that we'll introduce relates to the computational efficiency of the denoising technique. Given the volume of images to preprocess, our focus will be the methods that have linear time complexity or better.\n",
    "\n",
    "Since there is no single unique solution x to the denoising model above, our problem is ill-posed. Yet, the literature is replete with techniques for estimating $\\hat{x}$. We'll introduce a few of the most commonly used, and\n",
    "computationally efficient, techniques, which are roughly classified as spatial domain methods and transform domain methods.\n",
    "\n",
    "#### Spatial Domain Methods\n",
    "\n",
    "Spatial domain methods remove noise by replacing image pixels with values derived from the pixel values in neighboring pixels. These are further classified into spatial domain filtering and variational denoising\n",
    "methods.\n",
    "\n",
    "##### Spatial Domain Filtering\n",
    "\n",
    "The vast range of spatial domain filters is further classified into linear and non-linear filters. The original linear filters, MeanFilter and GaussianFilter are simple, computationally efficient, and intuitive. Non-linear filters such as the MedianFilter and Non-Local Means Filter reduce noise while preserving edges and textures from the original image.\n",
    "\n",
    "###### MeanFilter\n",
    "\n",
    "The MeanFilter, commonly used to reduce Gaussian noise, simply replaces each pixel value in an image with the mean value of its neighbors, including itself. A kernel specifies the shape and size of the neighborhood to\n",
    "be sampled when computing the mean and must be a positive and odd integer. Typical kernel sizes of 3,5, or 7 are used and represent square kernels of 3,5, or 7 pixels in the horizontal and vertical directions. The larger the kernel, the greater the blurring or smoothing effect in the image.\n",
    "\n",
    "The filter works by convolving the kernel over the image, estimating the local average intensities at each output pixel position. While, simple, and easy to implement, the MeanFilter has two drawbacks, namely:\n",
    "\n",
    "- A single outlier pixel value can significantly affect the mean value of all the\n",
    "  pixels in its neighborhood, and\n",
    "- Edges are blurred, which can be problematic if sharp edges are required in the output.\n",
    "\n",
    "#### GuassianFilter\n",
    "\n",
    "Like the MeanFilter, the GaussianFilter is a 2-D convolution operator that is used to remove noise. By contrast; however, the GaussianFilter uses a different kernel that represents the shape of an isotropic (i.e. circularly symmetric) Gaussian distribution with the following form:\n",
    "\n",
    "$$\n",
    "G(x,y,\\sigma) = \\frac{1}{2\\pi\\sigma^2}e^-{\\frac{x^2+y^2}{2\\sigma^2}}\n",
    "$$\n",
    "\n",
    "where $x$ is the distance from the origin in the horizontal axis, $y$ is the distance from the origin in the vertical axis, and $\\sigma$ is the standard deviation of the distribution, which is assumed to have a zero mean. The standard deviation, or scale of the Gaussian determines the amount of smoothing.\n",
    "\n",
    "The distribution is illustrated as follows:\n",
    "\n",
    "![2D Gaussian Distribution](/home/john/projects/bcd/jbook/figures/gaussian.png)\n",
    "\n",
    "The GaussianFilter works by convolving this 2-D distribution as a point-spread function, giving more weight to the central pixels, having the highest Gaussian value, and lesser weights to the neighbors as the distances from the original pixel increase.  Since the image is stored as a collection of discrete pixels, we need to compute a discrete approximation of the Gaussian function before we can perform the convolution. We'll explore an approach to the problem of discretizing the Gaussian function, but first, let's review some of the properties of the Gaussian kernel.\n",
    "\n",
    "#### Normalization\n",
    "\n",
    "The $\\frac{1}{2\\pi\\sigma^2}$ term in the Gaussian distribution is a normalization constant that ensures that its integral over its full domain is unity for every $\\sigma$ and that the grey level of the image remains the same when we blur the image with this kernel. This means that increasing the $\\sigma$ of the kernel substantially reduces the amplitude This property is known as average grey level invariance.\n",
    "\n",
    "#### Cascading Property\n",
    "\n",
    "The shape of the Gaussian kernel is scale-invariant. When we convolve two Gaussian kernels we get a new wider Gaussian with a variance $\\sigma^2$, which is the sum of the variances of the constituting Gaussians. In this way, the Gaussian is known to be a self-similar function. As such, we can concatenate Gaussians to create larger blurring Gaussian analogous to a cascade of waterfalls spanning the same height as the total waterfall.\n",
    "\n",
    "#### Separability\n",
    "\n",
    "An N-dimensional Gaussian kernel can be described in terms of a regular product of N one-dimensional kernels. For instance:\n",
    "\n",
    "$$\n",
    "g_{2D}(x, y, \\sigma^2_1+\\sigma^2_2=g_{1D}(x,\\sigma_1^2)\\otimes\n",
    "g_{1D}(x,\\sigma_2^2)\n",
    "$$\n",
    "\n",
    "Since higher dimensional Gaussian kernels can be described in terms of separate 1D kernels, they are called separable. The property of separability is elemental to discrete Gaussian kernel estimation.\n",
    "\n",
    "#### Discrete Gaussian Kernel\n",
    "\n",
    "Now, we move to the task of estimating the discrete Gaussian kernel. One popular approach is to convolve the original image with the discrete Gaussian kernel $T(n,t)$ {cite `}` lindebergScalespaceDiscreteSignals1990`\n",
    "\n",
    "$$\n",
    "L(x,t)=\\displaystyle\\sum_{n=-\\infty}^\\infty f(x-n)T(n,t)\n",
    "$$\n",
    "\n",
    "where\n",
    "\n",
    "$$\n",
    "T(n,t)=e^{-t}I_n(t)\n",
    "$$\n",
    "\n",
    "and $I_n(t)$ denotes the modified Bessel functions of integer order, n. This discrete counterpart to the continuous Gaussian kernel is also the solution to the discrete diffusion equation in discrete space, continuous time.\n",
    "\n",
    "In theory, the Gaussian function is for $x\\in (-\\infty,\\infty)$ and is non-zero for every point on the image., requiring an infinitely wide kernel. In practice, however, values at a distance beyond three standard deviations\n",
    "from the mean are small enough to be considered effectively zero.  Hence, this filter can be truncated in the spatial domain as follows:\n",
    "\n",
    "$$\n",
    "L(x,t)=\\displaystyle\\sum_{n=-M}^M f(x-n)T(n,t)\n",
    "$$\n",
    "\n",
    "where $M=C\\sigma+1$, where $C$ is often chosen to be somewhere between 3 and 6.\n",
    "\n",
    "\n",
    "### Denoising Methods\n",
    "\n",
    "These experiments will focus on linear (MeanFilter, GaussianFilter) and non-linear (MedianFilter) spatial domain filters for noise reduction. The literature is replete with \n",
    "\n",
    "#### MeanFilter\n",
    "\n",
    "The MeanFilter simply replaces each pixel value in an image with the mean value of its neighbors, including itself. A kernel specifies the shape and size of the neighborhood to be sampled when computing the mean and must be a positive and odd integer. Typical kernel sizes of 3,5, or 7 are used and represent square kernels of 3,5, or 7 pixels in the horizontal and vertical directions. The larger the kernel, the greater the blurring or smoothing effect in the image.\n",
    "MeanFilter is simple, intuitive, and easy to implement; however, it has two drawbacks, namely:\n",
    "\n",
    "- A single outlier pixel value can significantly affect the mean value of all the pixels in its neighborhood, and\n",
    "- Edges are blurred, which can be problematic if sharp edges are required in the output.\n",
    "\n",
    "#### GaussianFilter\n",
    "\n",
    "Like the MeanFilter, the GaussianFilter is a 2-D convolution operator that is used to remove noise. By contrast, the GaussianFilter uses a different kernel that represents the shape of an isotropic (i.e. circularly symmetric) Gaussian distribution with the following form:\n",
    "\n",
    "$$\n",
    "G(x,y) = \\frac{1}{2\\pi\\sigma^2}e^{-{\\frac{x^2+y^2}{2\\sigma^2}}}\n",
    "$$\n",
    "\n",
    "---\n",
    "\n",
    "The distribution is shown in {ref}`gaussian`"
   ]
  },
  {
   "cell_type": "code",
   "execution_count": null,
   "id": "6b25897a",
   "metadata": {},
   "outputs": [],
   "source": []
  },
  {
   "cell_type": "markdown",
   "id": "1532a5fd",
   "metadata": {},
   "source": [
    "### Mean Filter"
   ]
  },
  {
   "cell_type": "code",
   "execution_count": null,
   "id": "98ddd4e2",
   "metadata": {},
   "outputs": [],
   "source": [
    "params = {\"kernel\": [3, 5, 7]}\n",
    "task = DenoiseExperiment(method=MeanFilter, params=params, batchsize=BATCHSIZE)\n",
    "task.run()"
   ]
  },
  {
   "cell_type": "markdown",
   "id": "589fdaa4",
   "metadata": {},
   "source": [
    "## Median Filter"
   ]
  },
  {
   "cell_type": "code",
   "execution_count": null,
   "id": "0287d4d0",
   "metadata": {},
   "outputs": [],
   "source": [
    "params = {\"kernel\": [3, 5, 7]}\n",
    "task = DenoiseExperiment(method=MedianFilter, params=params, batchsize=BATCHSIZE)\n",
    "task.run()"
   ]
  },
  {
   "cell_type": "markdown",
   "id": "5ef1c231",
   "metadata": {},
   "source": [
    "## Gaussian Filter"
   ]
  },
  {
   "cell_type": "code",
   "execution_count": null,
   "id": "1d5729a2",
   "metadata": {},
   "outputs": [],
   "source": [
    "params = {\"kernel\": [3, 5, 7]}\n",
    "task = DenoiseExperiment(method=GaussianFilter, params=params, batchsize=BATCHSIZE)\n",
    "task.run()"
   ]
  },
  {
   "cell_type": "markdown",
   "id": "ae6c43b6",
   "metadata": {},
   "source": [
    "## Bilateral Filter"
   ]
  },
  {
   "cell_type": "raw",
   "id": "400c92b1",
   "metadata": {},
   "source": [
    "params = {\"sigma_color_factor\": [1], \"sigma_space_factor\": [1]}\n",
    "task = DenoiseExperiment(method=BilateralFilter, params=params, batchsize=BATCHSIZE)\n",
    "task.run()"
   ]
  }
 ],
 "metadata": {
  "jupytext": {
   "text_representation": {
    "extension": ".md",
    "format_name": "myst",
    "format_version": 0.13,
    "jupytext_version": "1.15.1"
   }
  },
  "kernelspec": {
   "display_name": "bcd",
   "language": "python",
   "name": "python3"
  },
  "language_info": {
   "codemirror_mode": {
    "name": "ipython",
    "version": 3
   },
   "file_extension": ".py",
   "mimetype": "text/x-python",
   "name": "python",
   "nbconvert_exporter": "python",
   "pygments_lexer": "ipython3",
   "version": "3.10.12"
  },
  "source_map": [
   12,
   25,
   41,
   46,
   50,
   60,
   67,
   75,
   79,
   85,
   89,
   221,
   223,
   227,
   231,
   235,
   239,
   243,
   247,
   251
  ]
 },
 "nbformat": 4,
 "nbformat_minor": 5
}