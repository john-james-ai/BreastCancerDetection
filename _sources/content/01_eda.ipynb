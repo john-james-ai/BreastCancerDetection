{
 "cells": [
  {
   "cell_type": "markdown",
   "id": "ec045c49",
   "metadata": {},
   "source": [
    "# Exploratory Data Analysis\n",
    "## CBIS-DDSM Dataset\n",
    "Developed in 1997 through a grant from the DOD Breast Cancer Research Program and the US Army Research and Material Command, the Digital Database for Screening Mammography (DDSM) {cite}`USFDigitalMammography` is a collection of 2620 cases obtained by patient consent from Massachusetts General Hospital, Wake Forest University School of Medicine, Sacred Heart Hospital, and Washington University of St. Louis School of Medicine. Its cases are annotated with ROIs for calcifications and masses, they include Breast Imaging Reporting and Data System (BI-RADS) descriptors for mass shape, mass margin, calcification type, calcification distribution, and breast density, and an overall BI-RADS assessment from 0 to 5, and a rating of the subtlety of the abnormality from 1 to 5.\n",
    "\n",
    "The DDSM, a powerful and extensively used resource for imaging research, presented certain challenges in terms of accessibility and practical utility. For instance, the original DDSM is saved in a non-standard compression format no longer supported in modern computer systems. Regions of interest mark the general area of legions; but, lack the specificity of precise image segmentation, requiring researchers to implement segmentation algorithms for accurate feature extraction.\n",
    "\n",
    "This Curated Breast Imaging Subset of DDSM (CBIS-DDSM) {cite}`leeCuratedMammographyData2017` is an updated and standardized version of the original DDSM, developed to address some of the challenges of the DDSM. The original DDSM images were distributed as lossless JPEG files (LJPEG); an obsolete image format. Raw pixel data were converted into 64-bit optical density values, then re-mapped to 16-bit grayscale TIFF format and finally converted to DICOM format for the data repository. Linux bash and C tools were re-implemented in Python to support cross-platform accessibility. A set of convenience images were cropped around the region of interest for researchers analyzing only the abnormalities and not the full mammogram image. Metadata, including patient age, date of the study, date of digitization, the dense tissue category, the scanner used to digitize, and the resolution of the image, stored in .ics files were extracted and compiled into a single CSV file. Three-hundred thirty-nine images deemed to have annotations of suspicious lesions that could not be seen, were removed from the dataset.  Segmentation was performed for the mass images and the data were split into train (80%) and test (20%) sets for method evaluation purposes.\n",
    "\n",
    "CBIS-DDSM was obtained from the Cancer Imaging Archive {cite}`sawyer-leeCuratedBreastImaging2016` and is summarized below:\n",
    "\n",
    "| Collection Statistics  |        |\n",
    "|------------------------|--------|\n",
    "| Image Size (GB)        | 163.6  |\n",
    "| Modalities             | MG     |\n",
    "| Number of Images       | 10239  |\n",
    "| Number of Participants | 1,566* |\n",
    "| Number of Series       | 6775   |\n",
    "| Number of Studies      | 6775   |\n",
    "\n",
    "Note, the data are structured such that a single participant has multiple patient IDs, where each id corresponds to a scan.\n",
    "\n",
    "The following files contain the mammography and ROIs for the cases with calcifications.\n",
    "\n",
    "| Type   | Filename                              | Format |\n",
    "|--------|---------------------------------------|--------|\n",
    "| Images | Calc-Test Full Mammogram Images       | DICOM  |\n",
    "| Images | Calc-Test ROI and Cropped Images      | DICOM  |\n",
    "| Images | Calc-Training Full Mammogram Images   | DICOM  |\n",
    "| Images | Calc-Training ROI and Cropped Images  | DICOM  |\n",
    "\n",
    "The following files contain the mammography and ROIs for the mass cases.\n",
    "\n",
    "| Type   | Filename                              | Format |\n",
    "|--------|---------------------------------------|--------|\n",
    "| Images | Mass-Test Full Mammogram Images       | DICOM  |\n",
    "| Images | Mass-Test ROI and Cropped Images      | DICOM  |\n",
    "| Images | Mass-Training Full Mammogram Images   | DICOM  |\n",
    "| Images | Mass-Training ROI and Cropped Images  | DICOM  |\n",
    "\n",
    "There are separate metadata files for the train and test calcification and mass cases.\n",
    "\n",
    "| Type     | Filename                   | Format |\n",
    "|----------|----------------------------|--------|\n",
    "| Metadata | Calc-Test-Description      | csv    |\n",
    "| Metadata | Calc-Training-Description  | csv    |\n",
    "| Metadata | Mass-Test-Description      | csv    |\n",
    "| Metadata | Mass-Training-Description  | csv    |\n",
    "\n",
    "Metadata for each abnormality above contains:\n",
    "- Patient ID: the first 7 characters of images in the case file\n",
    "- Density category\n",
    "- Breast: Left or Right\n",
    "- View: CC or MLO\n",
    "- Number of abnormality for the image (This is necessary as there are some cases containing multiple abnormalities.\n",
    "- Mass shape (when applicable)\n",
    "- Mass margin (when applicable)\n",
    "- Calcification type (when applicable)\n",
    "- Calcification distribution (when applicable)\n",
    "- BI-RADS assessment\n",
    "- Pathology: Benign, Benign without call-back, or Malignant\n",
    "- Subtlety rating: Radiologists’ rating of difficulty in viewing the abnormality in the image\n",
    "- Path to image files"
   ]
  },
  {
   "cell_type": "code",
   "execution_count": 1,
   "id": "3cf36e62",
   "metadata": {},
   "outputs": [
    {
     "name": "stdout",
     "output_type": "stream",
     "text": [
      "['/home/john/projects/bcd/jbook/content', '/home/john/anaconda3/envs/bcd/lib/python310.zip', '/home/john/anaconda3/envs/bcd/lib/python3.10', '/home/john/anaconda3/envs/bcd/lib/python3.10/lib-dynload', '', '/home/john/anaconda3/envs/bcd/lib/python3.10/site-packages', '/home/john/anaconda3/envs/bcd/lib/python3.10/site-packages/PyQt5_sip-12.11.0-py3.10-linux-x86_64.egg']\n"
     ]
    },
    {
     "ename": "ModuleNotFoundError",
     "evalue": "No module named 'bcd'",
     "output_type": "error",
     "traceback": [
      "\u001b[0;31m---------------------------------------------------------------------------\u001b[0m",
      "\u001b[0;31mModuleNotFoundError\u001b[0m                       Traceback (most recent call last)",
      "Cell \u001b[0;32mIn[1], line 15\u001b[0m\n\u001b[1;32m     13\u001b[0m \u001b[38;5;28;01mimport\u001b[39;00m \u001b[38;5;21;01mpydicom\u001b[39;00m\n\u001b[1;32m     14\u001b[0m \u001b[38;5;28;01mfrom\u001b[39;00m \u001b[38;5;21;01mPIL\u001b[39;00m \u001b[38;5;28;01mimport\u001b[39;00m Image\n\u001b[0;32m---> 15\u001b[0m \u001b[38;5;28;01mfrom\u001b[39;00m \u001b[38;5;21;01mbcd\u001b[39;00m\u001b[38;5;21;01m.\u001b[39;00m\u001b[38;5;21;01mdata\u001b[39;00m\u001b[38;5;21;01m.\u001b[39;00m\u001b[38;5;21;01mdataset\u001b[39;00m \u001b[38;5;28;01mimport\u001b[39;00m CBISMeta\n",
      "\u001b[0;31mModuleNotFoundError\u001b[0m: No module named 'bcd'"
     ]
    }
   ],
   "source": [
    "import sys\n",
    "import warnings\n",
    "warnings.filterwarnings(\"ignore\")\n",
    "import os\n",
    "print(sys.path)\n",
    "os.chdir(os.path.abspath(os.path.join(\"../../..\",os.getcwd())))\n",
    "sys.path.insert(0,os.path.abspath(os.path.join(\"../../..\",os.getcwd())))\n",
    "from tqdm import tqdm\n",
    "import pandas as pd\n",
    "import numpy as np\n",
    "import matplotlib.pyplot as plt\n",
    "import seaborn as sns\n",
    "import pydicom\n",
    "from PIL import Image\n",
    "from bcd.data.dataset import CBISMeta"
   ]
  },
  {
   "cell_type": "code",
   "execution_count": null,
   "id": "b2a2f73e",
   "metadata": {},
   "outputs": [],
   "source": [
    "fpc = \"data/raw/meta/calc_case_description_train_set.csv\"\n",
    "fpm = \"data/raw/meta/mass_case_description_train_set.csv\""
   ]
  },
  {
   "cell_type": "markdown",
   "id": "a6da728f",
   "metadata": {},
   "source": [
    "## Calcifications"
   ]
  },
  {
   "cell_type": "code",
   "execution_count": null,
   "id": "d8f7713b",
   "metadata": {},
   "outputs": [],
   "source": [
    "dfc = pd.read_csv(fpc)\n",
    "dsc = CBISMeta(df=dfc)"
   ]
  },
  {
   "cell_type": "code",
   "execution_count": null,
   "id": "31295389",
   "metadata": {},
   "outputs": [],
   "source": [
    "dsc.head()"
   ]
  },
  {
   "cell_type": "code",
   "execution_count": null,
   "id": "fce594ed",
   "metadata": {},
   "outputs": [],
   "source": [
    "dsc.info"
   ]
  }
 ],
 "metadata": {
  "jupytext": {
   "formats": "md:myst",
   "text_representation": {
    "extension": ".md",
    "format_name": "myst"
   }
  },
  "kernelspec": {
   "display_name": "Python 3",
   "language": "python",
   "name": "python3"
  },
  "language_info": {
   "codemirror_mode": {
    "name": "ipython",
    "version": 3
   },
   "file_extension": ".py",
   "mimetype": "text/x-python",
   "name": "python",
   "nbconvert_exporter": "python",
   "pygments_lexer": "ipython3",
   "version": "3.10.12"
  },
  "source_map": [
   11,
   76,
   94,
   97,
   101,
   106,
   110
  ]
 },
 "nbformat": 4,
 "nbformat_minor": 5
}