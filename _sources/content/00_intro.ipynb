{
 "cells": [
  {
   "cell_type": "markdown",
   "id": "fcd396a4",
   "metadata": {},
   "source": [
    "This is a small sample book to give you a feel for how book content is\n",
    "structured.\n",
    "It shows off a few of the major file types, as well as some sample content.\n",
    "It does not go in-depth into any particular topic - check out [the Jupyter Book documentation](https://jupyterbook.org) for more information.\n",
    "\n",
    "Check out the content pages bundled with this sample book to see more.\n",
    "\n",
    "```{tableofcontents}\n",
    "\n",
    "```\n",
    "\n",
    "```python\n",
    "import logging\n",
    "import os\n",
    "import sys\n",
    "logger.debug(os.getcwd)\n",
    "logger.debug(os.path.abspath(os.path.join(\"../../\",os.getcwd())))\n",
    "os.chdir(os.path.abspath(os.path.join(\"../../\",os.getcwd())))\n",
    "sys.path.insert(0,os.path.abspath(os.path.join(\"../../\",os.getcwd()))))\n",
    "\n",
    "```"
   ]
  }
 ],
 "metadata": {
  "jupytext": {
   "text_representation": {
    "extension": ".md",
    "format_name": "myst",
    "format_version": 0.13,
    "jupytext_version": "1.15.1"
   }
  },
  "kernelspec": {
   "display_name": "bcd",
   "language": "python",
   "name": "python3"
  },
  "source_map": [
   12
  ]
 },
 "nbformat": 4,
 "nbformat_minor": 5
}