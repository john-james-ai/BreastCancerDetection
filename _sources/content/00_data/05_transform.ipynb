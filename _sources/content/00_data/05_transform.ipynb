{
 "cells": [
  {
   "cell_type": "markdown",
   "id": "82ebf344",
   "metadata": {},
   "source": [
    "# Data Transformation\n",
    "\n",
    "Our final data preparation task before exploratory data analysis is to prepare a dataset for multivariate analysis.   For multivariate modeling, we will be one-hot encoding the morphological features and normalizing numeric data to range [0,1]. \n",
    "\n",
    "The multivariate analysis will include 12 independent variables: breast_density, laterality, image_view, abnormality_id, abnormality_type, assessment,  calc_type, calc_distribution, subtlety, mass_shape, mass_margins, mean_pixel_value, and std_pixel_value. The binary dependent target variable will be cancer. Pathology will not be included in the multivariate analysis; however, BI-RADS assessment is expected to be a major influence on the target. It would be notable to the degree it is not."
   ]
  },
  {
   "cell_type": "code",
   "execution_count": null,
   "id": "303f33c5",
   "metadata": {
    "tags": [
     "remove-cell"
    ]
   },
   "outputs": [],
   "source": [
    "import os\n",
    "if 'jbook' in os.getcwd():\n",
    "    os.chdir(os.path.abspath(os.path.join(\"../../..\")))"
   ]
  },
  {
   "cell_type": "code",
   "execution_count": null,
   "id": "4680e889",
   "metadata": {
    "tags": [
     "hide-cell"
    ]
   },
   "outputs": [],
   "source": [
    "\n",
    "\n",
    "import pandas as pd\n",
    "import numpy as np\n",
    "\n",
    "from bcd.data_prep.transform import CBISTransformer\n",
    "pd.options.display.max_columns = 99"
   ]
  },
  {
   "cell_type": "code",
   "execution_count": null,
   "id": "cb0b1c0f",
   "metadata": {},
   "outputs": [],
   "source": [
    "FP_CLEAN = \"data/meta/3_clean/cbis.csv\"\n",
    "FP_COOKED = \"data/meta/4_cooked/cbis.csv\""
   ]
  },
  {
   "cell_type": "code",
   "execution_count": null,
   "id": "ede0d32d",
   "metadata": {},
   "outputs": [],
   "source": [
    "x4mr = CBISTransformer(source_fp=FP_CLEAN, destination_fp=FP_COOKED, force=True)\n",
    "df = x4mr.transform()"
   ]
  },
  {
   "cell_type": "markdown",
   "id": "fadfe475",
   "metadata": {},
   "source": [
    "Ok, let's check the results."
   ]
  },
  {
   "cell_type": "code",
   "execution_count": null,
   "id": "ef9fd9ce",
   "metadata": {},
   "outputs": [],
   "source": [
    "df.info()"
   ]
  },
  {
   "cell_type": "markdown",
   "id": "2b35d28c",
   "metadata": {},
   "source": [
    "We have 64 variables, 37 of which are one-hot encoded."
   ]
  },
  {
   "cell_type": "code",
   "execution_count": null,
   "id": "533921e1",
   "metadata": {},
   "outputs": [],
   "source": [
    "df.sample(n=5, random_state=22)"
   ]
  },
  {
   "cell_type": "markdown",
   "id": "c15b9ea1",
   "metadata": {},
   "source": [
    "All values have been normalized and this completes the data transformation section. On to exploratory data analysis...finally!"
   ]
  }
 ],
 "metadata": {
  "jupytext": {
   "text_representation": {
    "extension": ".md",
    "format_name": "myst",
    "format_version": 0.13,
    "jupytext_version": "1.16.0"
   }
  },
  "kernelspec": {
   "display_name": "bcd",
   "language": "python",
   "name": "python3"
  },
  "source_map": [
   12,
   20,
   28,
   40,
   45,
   48,
   52,
   54,
   58,
   60
  ]
 },
 "nbformat": 4,
 "nbformat_minor": 5
}