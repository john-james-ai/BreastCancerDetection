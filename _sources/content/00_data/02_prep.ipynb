{
 "cells": [
  {
   "cell_type": "markdown",
   "id": "b4a619e2",
   "metadata": {},
   "source": [
    "# Data Preparation\n",
    "\n",
    "In the prior section, we identified a few structural concerns worth addressing before any quality or exploratory analysis analyses take place. Here, we extract the relevant task-specific information from the CBIS-DDSM case and dicom datasets and integrate the data into a single, combined full mammogram dataset. \n",
    "\n",
    "Our process will take three steps: \n",
    "1. Combine the calcification mass training and test sets into a single full mammogram dataset, \n",
    "2. Add DICOM image file paths to the *series* metadata,\n",
    "3. Extract the *DICOM* image metadata using the file paths above, and merge them with the case data from #1. \n",
    "\n",
    "The full dataset will have a few upgrades that will facilitate the analysis, detection, and classification tasks:\n",
    "1. A mammogram ID, consisting of abnormality type, fileset (train/test), patient_id, breast laterality, and view will uniquely identify each full mammogram image.\n",
    "2. A Boolean target variable, 'cancer', will be added combining BENIGN and BENIGN_WITHOUT_CALLBACK into a single Boolean value.\n",
    "3. Pixel statistics such as the minimum, maximum, mean, and standard deviation, will be added to the dataset.\n",
    "\n",
    "## Case Dataset Integration\n",
    "The following code cells will integrate all case data into a single file. This doesn't rule out separation of mass and calcification cases as may be needed downstream, but it reduces a certain amount of redundancy and allows us to see both the forest and the trees."
   ]
  },
  {
   "cell_type": "code",
   "execution_count": null,
   "id": "b10fb1a0",
   "metadata": {
    "tags": [
     "remove-cell"
    ]
   },
   "outputs": [],
   "source": [
    "import os\n",
    "if 'jbook' in os.getcwd():\n",
    "    os.chdir(os.path.abspath(os.path.join(\"../../..\")))"
   ]
  },
  {
   "cell_type": "code",
   "execution_count": null,
   "id": "14709a31",
   "metadata": {
    "tags": [
     "hide-cell"
    ]
   },
   "outputs": [],
   "source": [
    "from typing import Union\n",
    "from glob import glob\n",
    "\n",
    "import dask\n",
    "import numpy as np\n",
    "import pandas as pd\n",
    "import pydicom\n",
    "\n",
    "from bcd.dal.file import IOService\n",
    "from bcd.utils.file import getsize\n",
    "from bcd.utils.profile import profiler\n",
    "from bcd.data_prep.base import DataPrep\n",
    "from bcd.data_prep.prep import CasePrep\n",
    "from bcd.data_prep.prep import SeriesPrep\n",
    "from bcd.data_prep.prep import CBISPrep"
   ]
  },
  {
   "cell_type": "code",
   "execution_count": null,
   "id": "95ca7e73",
   "metadata": {},
   "outputs": [],
   "source": [
    "calc_test = \"data/meta/0_raw/calc_case_description_test_set.csv\"\n",
    "calc_train = \"data/meta/0_raw/calc_case_description_train_set.csv\"\n",
    "mass_test = \"data/meta/0_raw/mass_case_description_test_set.csv\"\n",
    "mass_train = \"data/meta/0_raw/mass_case_description_train_set.csv\"\n",
    "\n",
    "case_fp = \"data/meta/1_interim/cases.csv\"\n",
    "\n",
    "cp = CasePrep(calc_train_fp=calc_train, calc_test_fp=calc_test, mass_train_fp=mass_train, mass_test_fp=mass_test, case_fp=case_fp, force=False)\n",
    "cases = cp.prep()\n",
    "cases.info()\n",
    "cases.sample(n=5, random_state=55)"
   ]
  },
  {
   "cell_type": "markdown",
   "id": "8ee3e438",
   "metadata": {},
   "source": [
    "The dataset above has both mass and calcification training and test data, as well as a mammogram id, 'mmmg_id', and a Boolean target 'cancer'."
   ]
  },
  {
   "cell_type": "markdown",
   "id": "ed3ee46c",
   "metadata": {},
   "source": [
    "## Series Metadata\n",
    "Next, we add filepaths to the series metadata."
   ]
  },
  {
   "cell_type": "code",
   "execution_count": null,
   "id": "07b97bd0",
   "metadata": {},
   "outputs": [],
   "source": [
    "fpi = \"data/meta/0_raw/metadata.csv\"\n",
    "fpo = \"data/meta/3_clean/series.csv\"\n",
    "sp = SeriesPrep(filepath=fpi, series_filepath=fpo, force=False)\n",
    "series = sp.prep()\n",
    "series.info()\n",
    "series.sample(n=5, random_state=55)"
   ]
  },
  {
   "cell_type": "markdown",
   "id": "0aefb24c",
   "metadata": {},
   "source": [
    "Full filepaths have been added for all 10,239 images in the CBIS-DDSM."
   ]
  },
  {
   "cell_type": "markdown",
   "id": "1bb1e28f",
   "metadata": {},
   "source": [
    "## DICOM Image Metadata\n",
    "\n",
    "Finally, we extract the DICOM data described in {numref}`dicom_image_metadata` and merge that with the case data.\n",
    "\n",
    "```{table} DICOM Image Metadata\n",
    ":name: dicom_image_metadata\n",
    "\n",
    "| # | Name                       | Description                                                                              |\n",
    "|---|----------------------------|------------------------------------------------------------------------------------------|\n",
    "| 1 | bit_depth                  | Number of bits used to define each pixel                                                 |\n",
    "| 2 | rows                       | Number of pixel rows in the image                                                        |\n",
    "| 3 | cols                       | Number of pixel columns in the image                                                     |\n",
    "| 4 | aspect_ratio               | Ratio of width to height in image                                                        |\n",
    "| 5 | size                       | Product of width and height in image                                                     |\n",
    "| 6 | min_pixel_value            | Minimum pixel value                                                                      |\n",
    "| 7 | max_pixel_value            | Maximum pixel value                                                                      |\n",
    "| 8 | mean_pixel_value           | Average pixel value                                                                      |\n",
    "| 9 | std_pixel_value            | Standard deviation of pixel values                                                       |\n",
    "\n",
    "```"
   ]
  },
  {
   "cell_type": "code",
   "execution_count": null,
   "id": "3fb0bfd1",
   "metadata": {},
   "outputs": [],
   "source": [
    "cases = \"data/meta/1_interim/cases.csv\"\n",
    "series = \"data/meta/3_clean/series.csv\"\n",
    "cbis = \"data/meta/2_staged/cbis.csv\"\n",
    "cp = CBISPrep(case_filepath=cases, series_filepath=series, cbis_filepath=cbis, force=False)\n",
    "cbis = cp.prep()\n",
    "cbis.info()\n",
    "cbis.sample(n=5, random_state=55)"
   ]
  },
  {
   "cell_type": "markdown",
   "id": "d8877dec",
   "metadata": {},
   "source": [
    "We have all case information along with the DICOM image metadata in a single dataset."
   ]
  }
 ],
 "metadata": {
  "jupytext": {
   "text_representation": {
    "extension": ".md",
    "format_name": "myst",
    "format_version": 0.13,
    "jupytext_version": "1.16.0"
   }
  },
  "kernelspec": {
   "display_name": "bcd",
   "language": "python",
   "name": "python3"
  },
  "source_map": [
   12,
   31,
   39,
   59,
   72,
   76,
   81,
   88,
   92,
   115,
   123
  ]
 },
 "nbformat": 4,
 "nbformat_minor": 5
}