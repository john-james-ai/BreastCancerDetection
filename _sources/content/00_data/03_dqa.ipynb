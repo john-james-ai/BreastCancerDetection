{
 "cells": [
  {
   "cell_type": "markdown",
   "id": "0b9618d5",
   "metadata": {},
   "source": [
    "# Data Quality Analysis (DQA)\n",
    "In the previous section, we began the process of transforming the raw CBIS-DDSM case and DICOM data into a structure and format more suitable for analysis. The purpose of this effort is to identify potential data quality issues, errors, and anomalies requiring further data preprocessing, prior to the analysis stage. \n",
    "\n",
    "## Approach\n",
    "Our approach will touch on three dimensions of data quality.\n",
    "\n",
    "| # | Dimension | Definition | Metric | Metric Definition |\n",
    "|---|----------------|-------------------------------------|----------------|-------------------------------------|\n",
    "| 1 | Completeness | Are the data complete? | Completeness Ratio | Ratio of non-null data values / rows over the total number of data values / rows |\n",
    "| 2 | Uniqueness | Are their duplicate records | Uniqueness Ratio | Ratio of unique data values / rows over total number of data values / rows |\n",
    "| 3 | Validity   | Are the values consistent with defined rules? | Validity Ratio | Ratio of valid cells / rows over total number of data cells / rows |\n",
    "\n",
    "Note, accuracy and relevance, two additional dimensions of data quality, are missing from this analysis. An accuracy evaluation requires an external source-of-truth against which, the CBIS-DDSM data are compared. As we lack such a data source, we have no basis for evaluating the accuracy of the CBIS-DDSM data collection. With respect to relevance, duplicate and irrelevant data were removed from the data collection during the previous data preparation exercise."
   ]
  },
  {
   "cell_type": "code",
   "execution_count": null,
   "id": "76066ad1",
   "metadata": {
    "tags": [
     "hide-cell"
    ]
   },
   "outputs": [],
   "source": [
    "import os\n",
    "if 'jbook' in os.getcwd():\n",
    "    os.chdir(os.path.abspath(os.path.join(\"../../..\")))\n",
    "\n",
    "import pandas as pd\n",
    "from IPython.display import HTML, display_html\n",
    "import numpy as np\n",
    "\n",
    "from bcd.analyze.dqa.cbis import CBISDQA\n",
    "from bcd.data.dataset import CBISDataset\n",
    "\n",
    "pd.set_option('display.max_colwidth', 200)"
   ]
  },
  {
   "cell_type": "markdown",
   "id": "16ebb5a8",
   "metadata": {},
   "source": [
    "## Preliminaries\n",
    "As a first step, we'll create the CBIS-DDSM Dataset object and install the DQA module."
   ]
  },
  {
   "cell_type": "code",
   "execution_count": null,
   "id": "64d2bfe4",
   "metadata": {},
   "outputs": [],
   "source": [
    "filepath = \"data/meta/2_staged/cbis.csv\"\n",
    "cbis = CBISDataset(filepath=filepath)"
   ]
  },
  {
   "cell_type": "markdown",
   "id": "188d8d4c",
   "metadata": {},
   "source": [
    "## Completeness Analysis"
   ]
  },
  {
   "cell_type": "code",
   "execution_count": null,
   "id": "7d05d968",
   "metadata": {},
   "outputs": [],
   "source": [
    "dqc = cbis.dqa.analyze_completeness()\n",
    "print(dqc.summary, end=\" \")"
   ]
  },
  {
   "cell_type": "markdown",
   "id": "942880d1",
   "metadata": {},
   "source": [
    "Record and data value completeness are 0.85 and 0.99 respectively. Let's take a closer look."
   ]
  },
  {
   "cell_type": "code",
   "execution_count": null,
   "id": "753ed9fc",
   "metadata": {},
   "outputs": [],
   "source": [
    "dqc.detail"
   ]
  },
  {
   "cell_type": "markdown",
   "id": "b3fa40ca",
   "metadata": {},
   "source": [
    "Missingness for calc type, mass_shape, and mass_margins is 1%, < 1%, and 2% respectively. Strictly speaking, we could drop those observations without a considerable loss of data. On the other hand, calc distribution missingness deserves a closer look. Let's examine missingness vis-a-vis the pathology target."
   ]
  },
  {
   "cell_type": "code",
   "execution_count": null,
   "id": "f15789f3",
   "metadata": {},
   "outputs": [],
   "source": [
    "cbis.dqa.get_incomplete_data(subset='calc_distribution')['pathology'].value_counts().to_frame()"
   ]
  },
  {
   "cell_type": "markdown",
   "id": "b23319c1",
   "metadata": {},
   "source": [
    "This is interesting. Over 98% of the records with missing calcification distribution have a pathology of BENIGN_WITHOUT_CALLBACK. This suggests that the calcification distribution data are Missing at Random (MAR). That is, the probability of encountering missing calcification distribution may be systematically related to a benign pathology. As the missingness seems to be related to *observed* data, the multiple imputation by chained equations (MICE) {cite}`schaferMultipleImputationPrimer1999` is a principled method for dealing with such missing data while mitigating data loss and bias in the dataset.\n",
    "\n",
    "Let's move on to the uniqueness analysis."
   ]
  },
  {
   "cell_type": "markdown",
   "id": "10574f7d",
   "metadata": {},
   "source": [
    "## Uniqueness Analysis"
   ]
  },
  {
   "cell_type": "code",
   "execution_count": null,
   "id": "068cb1d3",
   "metadata": {},
   "outputs": [],
   "source": [
    "dqu = cbis.dqa.analyze_uniqueness()\n",
    "print(dqu.summary)"
   ]
  },
  {
   "cell_type": "markdown",
   "id": "1b346e98",
   "metadata": {},
   "source": [
    "No duplicate records exist in the data."
   ]
  },
  {
   "cell_type": "markdown",
   "id": "0ff6e116",
   "metadata": {},
   "source": [
    "### Validity Analysis\n",
    "Here, we assess the degree to which the datasets contain valid values."
   ]
  },
  {
   "cell_type": "code",
   "execution_count": null,
   "id": "55bd0ef4",
   "metadata": {},
   "outputs": [],
   "source": [
    "dqv = cbis.dqa.analyze_validity()\n",
    "print(dqv.summary)"
   ]
  },
  {
   "cell_type": "markdown",
   "id": "b1df99c1",
   "metadata": {},
   "source": [
    "Record and data value validity are 0.84 and 0.99, respectively. Note, missing data will have an impact on record validity. Still, let's take a closer look at the invalid data."
   ]
  },
  {
   "cell_type": "code",
   "execution_count": null,
   "id": "10cd3145",
   "metadata": {},
   "outputs": [],
   "source": [
    "dqv.detail"
   ]
  },
  {
   "cell_type": "markdown",
   "id": "441eec5c",
   "metadata": {},
   "source": [
    "The invalidity of calc distribution and mass_margins is explained by the missing data. Approximately 6% of the observations have invalid calcification types. Let's take a look."
   ]
  },
  {
   "cell_type": "code",
   "execution_count": null,
   "id": "7c05dd65",
   "metadata": {},
   "outputs": [],
   "source": [
    "cbis.dqa.get_invalid_data(subset='calc_type')['calc_type'].unique()"
   ]
  },
  {
   "cell_type": "markdown",
   "id": "2becf2f3",
   "metadata": {},
   "source": [
    "A common thread among these invalid values is the type, 'LUCENT_CENTER', which should be 'LUCENT_CENTERED'. 'PLEOMORPHIC-PLEOMORPHIC', should be 'PLEOMORPHIC' and there are some NaN values extant. We'll make those changes in the next section. Now, the invalid breast density records."
   ]
  },
  {
   "cell_type": "code",
   "execution_count": null,
   "id": "cc00fae5",
   "metadata": {},
   "outputs": [],
   "source": [
    "cbis.dqa.get_invalid_data(subset='breast_density')"
   ]
  },
  {
   "cell_type": "markdown",
   "id": "268b17d3",
   "metadata": {},
   "source": [
    "Both observations with breast density values of zero, are for the same patient. Let's see what densities we have for similar malignant calcification cases."
   ]
  },
  {
   "cell_type": "code",
   "execution_count": null,
   "id": "5a048e46",
   "metadata": {},
   "outputs": [],
   "source": [
    "df = cbis.dqa.get_complete_data()\n",
    "df_similar_type = df.loc[(df['calc_type'] == 'PLEOMORPHIC') & (df['cancer'] == True)]\n",
    "df_similar_dist = df.loc[(df['calc_distribution'] == 'DIFFUSELY_SCATTERED') & (df['cancer'] == True)]"
   ]
  },
  {
   "cell_type": "markdown",
   "id": "23a5e5a1",
   "metadata": {},
   "source": [
    "The breast density counts below are for PLEOMORPHIC calcification cases."
   ]
  },
  {
   "cell_type": "code",
   "execution_count": null,
   "id": "01c522ca",
   "metadata": {},
   "outputs": [],
   "source": [
    "df_similar_type['breast_density'].value_counts().to_frame()"
   ]
  },
  {
   "cell_type": "markdown",
   "id": "498d89ce",
   "metadata": {},
   "source": [
    "Statistically, breast densities of 2,3 and 4 are equally probable for malignant PLEOMORPHIC cases. Let's see if calcification distribution is more discriminative."
   ]
  },
  {
   "cell_type": "code",
   "execution_count": null,
   "id": "46871b11",
   "metadata": {},
   "outputs": [],
   "source": [
    "df_similar_dist['breast_density'].value_counts().to_frame()"
   ]
  },
  {
   "cell_type": "markdown",
   "id": "375b73da",
   "metadata": {},
   "source": [
    "We only have five DIFFUSELY_SCATTERED calcification cases, two of which are our invalid cases. Two cases have breast densities of 2, and another with a value of 3. Not a statistically significant difference in breast densities for DIFFUSELY_SCATTERED calcification cases. Though these invalid observations are relative, they represent 40% of the DIFFUSELY_SCATTERED calcification cases. We'll attempt to impute these values rather than delete them."
   ]
  },
  {
   "cell_type": "markdown",
   "id": "7ac0e146",
   "metadata": {},
   "source": [
    "#### Invalid Mass Case Analysis\n",
    "The invalid mass cases have subtlety values of zero. Let's take a look at the data."
   ]
  },
  {
   "cell_type": "code",
   "execution_count": null,
   "id": "cd730161",
   "metadata": {},
   "outputs": [],
   "source": [
    "cbis.dqa.get_invalid_data(subset='subtlety')"
   ]
  },
  {
   "cell_type": "markdown",
   "id": "81d575a7",
   "metadata": {},
   "source": [
    "Similarly, these cases are for the same patient. Notably, these cases convey little information: missing mass shape and margins data. In this case deletion would be the best option."
   ]
  },
  {
   "cell_type": "markdown",
   "id": "01f0755f",
   "metadata": {},
   "source": [
    "### Summary\n",
    "A brief data quality analysis of the CBIS-DDSM case and DICOM data examined completeness, uniqueness, and validity. Our data cleaning tasks are as follows:\n",
    "\n",
    "1. The following observations have zero for breast density, values that will be marked as missing and imputed.\n",
    "   1. P_01743_RIGHT_calcification_CC_1\n",
    "   2. P_01743_RIGHT_calcification_MLO_1\n",
    "2. The following cases have zero subtlety. These values will be marked as missing and imputed.\n",
    "   1. P_00710_RIGHT_mass_MLO_1\n",
    "   2. P_00710_RIGHT_mass_CC_1\n",
    "3. For calcification type, we'll perform the following replacements:\n",
    "   1. 'LUCENT_CENTERED' for 'LUCENT_CENTER'\n",
    "   2. 'PLEOMORHIC' for 'PLEOMORHIC-PLEOMORHIC'\n",
    "4. We will use Multivariate Imputation by Chained Equations (MICE) to predict missing values for the following variables:\n",
    "   1. calc distribution\n",
    "   2. mass_margins\n",
    "   3. mass shape\n",
    "   4. calc type\n",
    "   5. breast_density\n",
    "   6. subtlety"
   ]
  }
 ],
 "metadata": {
  "jupytext": {
   "text_representation": {
    "extension": ".md",
    "format_name": "myst",
    "format_version": 0.13,
    "jupytext_version": "1.16.0"
   }
  },
  "kernelspec": {
   "display_name": "bcd",
   "language": "python",
   "name": "python3"
  },
  "source_map": [
   12,
   28,
   43,
   48,
   51,
   55,
   58,
   62,
   64,
   68,
   70,
   76,
   80,
   83,
   87,
   92,
   95,
   99,
   101,
   105,
   107,
   111,
   113,
   117,
   121,
   125,
   127,
   131,
   133,
   137,
   142,
   144,
   148
  ]
 },
 "nbformat": 4,
 "nbformat_minor": 5
}