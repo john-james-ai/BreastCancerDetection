{
 "cells": [
  {
   "cell_type": "markdown",
   "id": "25b86537",
   "metadata": {},
   "source": [
    "# Data Quality Analysis (DQA)\n",
    "In the previous section, we began the process of transforming the raw CBIS-DDSM case and DICOM data into a structure and format more suitable for analysis. The purpose of this effort is to identify potential data quality issues, errors, and anomalies requiring further data preprocessing, prior to the analysis stage. \n",
    "\n",
    "## Approach\n",
    "Our approach will touch on three dimensions of data quality.\n",
    "\n",
    "| # | Dimension | Definition | Metric | Metric Definition |\n",
    "|---|----------------|-------------------------------------|----------------|-------------------------------------|\n",
    "| 1 | Completeness | Are the data complete? | Completeness Ratio | Ratio of non-null data values / rows over the total number of data values / rows |\n",
    "| 2 | Uniqueness | Are their duplicate records | Uniqueness Ratio | Ratio of unique data values / rows over total number of data values / rows |\n",
    "| 3 | Validity   | Are the values consistent with defined rules? | Validity Ratio | Ratio of valid cells / rows over total number of data cells / rows |\n",
    "\n",
    "Note, accuracy and relevance, two additional dimensions of data quality, are missing from this analysis. An accuracy evaluation requires an external source-of-truth against which, the CBIS-DDSM data are compared. As we lack such a data source, we have no basis for evaluating the accuracy of the CBIS-DDSM data collection. With respect to relevance, duplicate and irrelevant data were removed from the data collection during the previous data preparation exercise."
   ]
  },
  {
   "cell_type": "code",
   "execution_count": 1,
   "id": "58d5a44b",
   "metadata": {
    "tags": [
     "hide-cell"
    ]
   },
   "outputs": [],
   "source": [
    "import os\n",
    "if 'jbook' in os.getcwd():\n",
    "    os.chdir(os.path.abspath(os.path.join(\"../../..\")))\n",
    "\n",
    "import pandas as pd\n",
    "from IPython.display import HTML, display_html\n",
    "import numpy as np\n",
    "\n",
    "from bcd.analyze.dqa.cbis import CBISDQA\n",
    "from bcd.data.dataset import CBISDataset\n",
    "\n",
    "pd.set_option('display.max_colwidth', 200)"
   ]
  },
  {
   "cell_type": "markdown",
   "id": "1c1bdcd3",
   "metadata": {},
   "source": [
    "## Preliminaries\n",
    "As a first step, we'll create the CBIS-DDSM Dataset object and install the DQA module."
   ]
  },
  {
   "cell_type": "code",
   "execution_count": 2,
   "id": "48fdc981",
   "metadata": {},
   "outputs": [
    {
     "ename": "AttributeError",
     "evalue": "can't set attribute 'dqa'",
     "output_type": "error",
     "traceback": [
      "\u001b[0;31m---------------------------------------------------------------------------\u001b[0m",
      "\u001b[0;31mAttributeError\u001b[0m                            Traceback (most recent call last)",
      "Cell \u001b[0;32mIn[2], line 3\u001b[0m\n\u001b[1;32m      1\u001b[0m filepath \u001b[38;5;241m=\u001b[39m \u001b[38;5;124m\"\u001b[39m\u001b[38;5;124mdata/meta/2_staged/cbis.csv\u001b[39m\u001b[38;5;124m\"\u001b[39m\n\u001b[1;32m      2\u001b[0m cbis \u001b[38;5;241m=\u001b[39m CBISDataset(filepath\u001b[38;5;241m=\u001b[39mfilepath)\n\u001b[0;32m----> 3\u001b[0m \u001b[43mcbis\u001b[49m\u001b[38;5;241;43m.\u001b[39;49m\u001b[43mdqa\u001b[49m \u001b[38;5;241m=\u001b[39m CBISDQA\n",
      "\u001b[0;31mAttributeError\u001b[0m: can't set attribute 'dqa'"
     ]
    }
   ],
   "source": [
    "filepath = \"data/meta/2_staged/cbis.csv\"\n",
    "cbis = CBISDataset(filepath=filepath)\n",
    "cbis.dqa = CBISDQA"
   ]
  },
  {
   "cell_type": "markdown",
   "id": "05199cde",
   "metadata": {},
   "source": [
    "## Completeness Analysis"
   ]
  },
  {
   "cell_type": "code",
   "execution_count": null,
   "id": "5d051077",
   "metadata": {},
   "outputs": [],
   "source": [
    "dqc = cbis.dqa.analyze_completeness()\n",
    "print(dqc.summary, end=\" \")"
   ]
  },
  {
   "cell_type": "markdown",
   "id": "4613edb7",
   "metadata": {},
   "source": [
    "Record and data value completeness are 0.85 and 0.99 respectively. Let's take a closer look."
   ]
  },
  {
   "cell_type": "code",
   "execution_count": null,
   "id": "4ab82ed7",
   "metadata": {},
   "outputs": [],
   "source": [
    "dqc.detail"
   ]
  },
  {
   "cell_type": "markdown",
   "id": "1df8a73d",
   "metadata": {},
   "source": [
    "Missingness for calc type, mass_shape, and mass_margins is 1%, < 1%, and 2% respectively. Strictly speaking, we could drop those observations without a considerable loss of data. On the other hand, calc distribution missingness deserves a closer look. Let's examine missingness vis-a-vis the pathology target."
   ]
  },
  {
   "cell_type": "code",
   "execution_count": null,
   "id": "56614461",
   "metadata": {},
   "outputs": [],
   "source": [
    "cbis.dqa.get_incomplete_data(subset='calc_distribution')['pathology'].value_counts().to_frame()"
   ]
  },
  {
   "cell_type": "markdown",
   "id": "790ed64a",
   "metadata": {},
   "source": [
    "This is interesting. Over 98% of the records with missing calcification distribution have a pathology of BENIGN_WITHOUT_CALLBACK. This suggests that the calcification distribution data are Missing at Random (MAR). That is, the probability of encountering missing calcification distribution may be systematically related to a benign pathology. As the missingness seems to be related to *observed* data, the multiple imputation by chained equations (MICE) {cite}`schaferMultipleImputationPrimer1999` is a principled method for dealing with such missing data while mitigating data loss and bias in the dataset.\n",
    "\n",
    "Let's move on to the uniqueness analysis."
   ]
  },
  {
   "cell_type": "markdown",
   "id": "40a325b1",
   "metadata": {},
   "source": [
    "## Uniqueness Analysis"
   ]
  },
  {
   "cell_type": "code",
   "execution_count": null,
   "id": "b5869968",
   "metadata": {},
   "outputs": [],
   "source": [
    "dqu = cbis.dqa.analyze_uniqueness()\n",
    "print(dqu.summary)"
   ]
  },
  {
   "cell_type": "markdown",
   "id": "8e353ba0",
   "metadata": {},
   "source": [
    "No duplicate records exist in the data."
   ]
  },
  {
   "cell_type": "markdown",
   "id": "0f7b462e",
   "metadata": {},
   "source": [
    "### Validity Analysis\n",
    "Here, we assess the degree to which the datasets contain valid values."
   ]
  },
  {
   "cell_type": "code",
   "execution_count": null,
   "id": "c56dd140",
   "metadata": {},
   "outputs": [],
   "source": [
    "dqv = cbis.dqa.analyze_validity()\n",
    "print(dqv.summary)"
   ]
  },
  {
   "cell_type": "markdown",
   "id": "3ae0e3f8",
   "metadata": {},
   "source": [
    "Record and data value validity are 0.84 and 0.99, respectively. Note, missing data will have an impact on record validity. Still, let's take a closer look at the invalid data."
   ]
  },
  {
   "cell_type": "code",
   "execution_count": null,
   "id": "cb2ef02f",
   "metadata": {},
   "outputs": [],
   "source": [
    "dqv.detail"
   ]
  },
  {
   "cell_type": "markdown",
   "id": "63e2cdb9",
   "metadata": {},
   "source": [
    "The invalidity of calc distribution and mass_margins is explained by the missing data. Approximately 6% of the observations have invalid calcification types. Let's take a look."
   ]
  },
  {
   "cell_type": "code",
   "execution_count": null,
   "id": "cb55e43d",
   "metadata": {},
   "outputs": [],
   "source": [
    "cbis.dqa.get_invalid_data(subset='calc_type')['calc_type'].unique()"
   ]
  },
  {
   "cell_type": "markdown",
   "id": "9e1288ae",
   "metadata": {},
   "source": [
    "A common thread among these invalid values is the type, 'LUCENT_CENTER', which should be 'LUCENT_CENTERED'. 'PLEOMORPHIC-PLEOMORPHIC', should be 'PLEOMORPHIC' and there are some NaN values extant. We'll make those changes in the next section. Now, the invalid breast density records."
   ]
  },
  {
   "cell_type": "code",
   "execution_count": null,
   "id": "1c6b0255",
   "metadata": {},
   "outputs": [],
   "source": [
    "cbis.dqa.get_invalid_data(subset='breast_density')"
   ]
  },
  {
   "cell_type": "markdown",
   "id": "c48d3c46",
   "metadata": {},
   "source": [
    "Both observations with breast density values of zero, are for the same patient. Let's see what densities we have for similar malignant calcification cases."
   ]
  },
  {
   "cell_type": "code",
   "execution_count": null,
   "id": "8be9c67d",
   "metadata": {},
   "outputs": [],
   "source": [
    "df = cbis.dqa.get_complete_data()\n",
    "df_similar_type = df.loc[(df['calc_type'] == 'PLEOMORPHIC') & (df['cancer'] == True)]\n",
    "df_similar_dist = df.loc[(df['calc_distribution'] == 'DIFFUSELY_SCATTERED') & (df['cancer'] == True)]"
   ]
  },
  {
   "cell_type": "markdown",
   "id": "bff2f6ff",
   "metadata": {},
   "source": [
    "The breast density counts below are for PLEOMORPHIC calcification cases."
   ]
  },
  {
   "cell_type": "code",
   "execution_count": null,
   "id": "a9ec1088",
   "metadata": {},
   "outputs": [],
   "source": [
    "df_similar_type['breast_density'].value_counts().to_frame()"
   ]
  },
  {
   "cell_type": "markdown",
   "id": "2fb8b9d3",
   "metadata": {},
   "source": [
    "Statistically, breast densities of 2,3 and 4 are equally probable for malignant PLEOMORPHIC cases. Let's see if calcification distribution is more discriminative."
   ]
  },
  {
   "cell_type": "code",
   "execution_count": null,
   "id": "7f684d24",
   "metadata": {},
   "outputs": [],
   "source": [
    "df_similar_dist['breast_density'].value_counts().to_frame()"
   ]
  },
  {
   "cell_type": "markdown",
   "id": "b651c473",
   "metadata": {},
   "source": [
    "We only have five DIFFUSELY_SCATTERED calcification cases, two of which are our invalid cases. Two cases have breast densities of 2, and another with a value of 3. Not a statistically significant difference in breast densities for DIFFUSELY_SCATTERED calcification cases. Though these invalid observations are relative, they represent 40% of the DIFFUSELY_SCATTERED calcification cases. We'll attempt to impute these values rather than delete them."
   ]
  },
  {
   "cell_type": "markdown",
   "id": "4d9b2ad7",
   "metadata": {},
   "source": [
    "#### Invalid Mass Case Analysis\n",
    "The invalid mass cases have subtlety values of zero. Let's take a look at the data."
   ]
  },
  {
   "cell_type": "code",
   "execution_count": null,
   "id": "eca12ea9",
   "metadata": {},
   "outputs": [],
   "source": [
    "cbis.dqa.get_invalid_data(subset='subtlety')"
   ]
  },
  {
   "cell_type": "markdown",
   "id": "7c0c0eb4",
   "metadata": {},
   "source": [
    "Similarly, these cases are for the same patient. Notably, these cases convey little information: missing mass shape and margins data. In this case deletion would be the best option."
   ]
  },
  {
   "cell_type": "markdown",
   "id": "e64215d8",
   "metadata": {},
   "source": [
    "### Summary\n",
    "A brief data quality analysis of the CBIS-DDSM case and DICOM data examined completeness, uniqueness, and validity. Our data cleaning tasks are as follows:\n",
    "\n",
    "1. The following observations have zero for breast density, values that will be marked as missing and imputed.\n",
    "   1. P_01743_RIGHT_calcification_CC_1\n",
    "   2. P_01743_RIGHT_calcification_MLO_1\n",
    "2. The following cases have zero subtlety. These values will be marked as missing and imputed.\n",
    "   1. P_00710_RIGHT_mass_MLO_1\n",
    "   2. P_00710_RIGHT_mass_CC_1\n",
    "3. For calcification type, we'll perform the following replacements:\n",
    "   1. 'LUCENT_CENTERED' for 'LUCENT_CENTER'\n",
    "   2. 'PLEOMORHIC' for 'PLEOMORHIC-PLEOMORHIC'\n",
    "4. We will use Multivariate Imputation by Chained Equations (MICE) to predict missing values for the following variables:\n",
    "   1. calc distribution\n",
    "   2. mass_margins\n",
    "   3. mass shape\n",
    "   4. calc type\n",
    "   5. breast_density\n",
    "   6. subtlety"
   ]
  }
 ],
 "metadata": {
  "jupytext": {
   "text_representation": {
    "extension": ".md",
    "format_name": "myst",
    "format_version": 0.13,
    "jupytext_version": "1.16.0"
   }
  },
  "kernelspec": {
   "display_name": "bcd",
   "language": "python",
   "name": "python3"
  },
  "language_info": {
   "codemirror_mode": {
    "name": "ipython",
    "version": 3
   },
   "file_extension": ".py",
   "mimetype": "text/x-python",
   "name": "python",
   "nbconvert_exporter": "python",
   "pygments_lexer": "ipython3",
   "version": "3.10.12"
  },
  "source_map": [
   12,
   28,
   43,
   48,
   52,
   56,
   59,
   63,
   65,
   69,
   71,
   77,
   81,
   84,
   88,
   93,
   96,
   100,
   102,
   106,
   108,
   112,
   114,
   118,
   122,
   126,
   128,
   132,
   134,
   138,
   143,
   145,
   149
  ]
 },
 "nbformat": 4,
 "nbformat_minor": 5
}