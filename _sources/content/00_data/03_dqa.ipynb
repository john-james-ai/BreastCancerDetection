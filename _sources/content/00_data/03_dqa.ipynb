{
 "cells": [
  {
   "cell_type": "markdown",
   "id": "4ae624fe",
   "metadata": {},
   "source": [
    "# Data Quality Analysis (DQA)\n",
    "In the previous section, we began the process of transforming the raw CBIS-DDSM case and DICOM data into a structure and format more suitable for analysis. The purpose of this effort is to identify potential data quality issues, errors, and anomalies requiring further data preprocessing, prior to the analysis stage. \n",
    "\n",
    "## Approach\n",
    "Our approach will touch on three dimensions of data quality.\n",
    "\n",
    "| # | Dimension | Definition | Metric | Metric Definition |\n",
    "|---|----------------|-------------------------------------|----------------|-------------------------------------|\n",
    "| 1 | Completeness | Are the data complete? | Completeness Ratio | Ratio of non-null data values / rows over the total number of data values / rows |\n",
    "| 2 | Uniqueness | Are their duplicate records | Uniqueness Ratio | Ratio of unique data values / rows over total number of data values / rows |\n",
    "| 3 | Validity   | Are the values consistent with defined rules? | Validity Ratio | Ratio of valid cells / rows over total number of data cells / rows |\n",
    "\n",
    "Note, accuracy and relevance, two additional dimensions of data quality, are missing from this analysis. An accuracy evaluation requires an external source-of-truth against which, the CBIS-DDSM data are compared. As we lack such a data source, we have no basis for evaluating the accuracy of the CBIS-DDSM data collection. With respect to relevance, duplicate and irrelevant data were removed from the data collection during the previous data preparation exercise."
   ]
  },
  {
   "cell_type": "code",
   "execution_count": null,
   "id": "06733658",
   "metadata": {
    "tags": [
     "hide-cell"
    ]
   },
   "outputs": [],
   "source": [
    "import os\n",
    "if 'jbook' in os.getcwd():\n",
    "    os.chdir(os.path.abspath(os.path.join(\"../../..\")))\n",
    "\n",
    "import pandas as pd\n",
    "from IPython.display import HTML, display_html\n",
    "import numpy as np\n",
    "\n",
    "from bcd.analyze.dqa.cbis import CBISDQA\n",
    "from bcd.data.dataset import CBISDataset\n",
    "\n",
    "pd.set_option('display.max_colwidth', 200)"
   ]
  },
  {
   "cell_type": "markdown",
   "id": "66ea22b0",
   "metadata": {},
   "source": [
    "## Preliminaries\n",
    "As a first step, we'll create the CBIS-DDSM Dataset object and install the DQA module."
   ]
  },
  {
   "cell_type": "code",
   "execution_count": null,
   "id": "ede69f08",
   "metadata": {},
   "outputs": [],
   "source": [
    "filepath = \"data/meta/2_staged/cbis.csv\"\n",
    "cbis = CBISDataset(filepath=filepath)"
   ]
  },
  {
   "cell_type": "markdown",
   "id": "71dc3df3",
   "metadata": {},
   "source": [
    "## Completeness Analysis"
   ]
  },
  {
   "cell_type": "code",
   "execution_count": null,
   "id": "96ae9ea2",
   "metadata": {},
   "outputs": [],
   "source": [
    "dqc = cbis.dqa.analyze_completeness()\n",
    "print(dqc.summary, end=\" \")"
   ]
  },
  {
   "cell_type": "markdown",
   "id": "bb95b70d",
   "metadata": {},
   "source": [
    "Record and data value completeness are 0.85 and 0.99 respectively. Let's take a closer look."
   ]
  },
  {
   "cell_type": "code",
   "execution_count": null,
   "id": "74e305c5",
   "metadata": {},
   "outputs": [],
   "source": [
    "dqc.detail"
   ]
  },
  {
   "cell_type": "markdown",
   "id": "a5c16448",
   "metadata": {},
   "source": [
    "Missingness for calc type, mass_shape, and mass_margins is 1%, < 1%, and 2% respectively. Strictly speaking, we could drop those observations without a considerable loss of data. On the other hand, calc distribution missingness deserves a closer look. Let's examine missingness vis-a-vis the pathology target."
   ]
  },
  {
   "cell_type": "code",
   "execution_count": null,
   "id": "e6bdd26a",
   "metadata": {},
   "outputs": [],
   "source": [
    "cbis.dqa.get_incomplete_data(subset='calc_distribution')['pathology'].value_counts().to_frame()"
   ]
  },
  {
   "cell_type": "markdown",
   "id": "a83bc769",
   "metadata": {},
   "source": [
    "This is interesting. Over 98% of the records with missing calcification distribution have a pathology of BENIGN_WITHOUT_CALLBACK. This suggests that the calcification distribution data are Missing at Random (MAR). That is, the probability of encountering missing calcification distribution may be systematically related to a benign pathology. As the missingness seems to be related to *observed* data, the multiple imputation by chained equations (MICE) {cite}`schaferMultipleImputationPrimer1999` is a principled method for dealing with such missing data while mitigating data loss and bias in the dataset.\n",
    "\n",
    "Let's move on to the uniqueness analysis."
   ]
  },
  {
   "cell_type": "markdown",
   "id": "774e1aa4",
   "metadata": {},
   "source": [
    "## Uniqueness Analysis"
   ]
  },
  {
   "cell_type": "code",
   "execution_count": null,
   "id": "8d585fca",
   "metadata": {},
   "outputs": [],
   "source": [
    "dqu = cbis.dqa.analyze_uniqueness()\n",
    "print(dqu.summary)"
   ]
  },
  {
   "cell_type": "markdown",
   "id": "a1599086",
   "metadata": {},
   "source": [
    "No duplicate records exist in the data."
   ]
  },
  {
   "cell_type": "markdown",
   "id": "480a8c6e",
   "metadata": {},
   "source": [
    "### Validity Analysis\n",
    "Here, we assess the degree to which the datasets contain valid values."
   ]
  },
  {
   "cell_type": "code",
   "execution_count": null,
   "id": "1f1b92dd",
   "metadata": {},
   "outputs": [],
   "source": [
    "dqv = cbis.dqa.analyze_validity()\n",
    "print(dqv.summary)"
   ]
  },
  {
   "cell_type": "markdown",
   "id": "cf122887",
   "metadata": {},
   "source": [
    "Record and data value validity are 0.84 and 0.99, respectively. Note, missing data will have an impact on record validity. Still, let's take a closer look at the invalid data."
   ]
  },
  {
   "cell_type": "code",
   "execution_count": null,
   "id": "5f01589a",
   "metadata": {},
   "outputs": [],
   "source": [
    "dqv.detail"
   ]
  },
  {
   "cell_type": "markdown",
   "id": "c9097a7c",
   "metadata": {},
   "source": [
    "The invalidity of calc distribution and mass_margins is explained by the missing data. Approximately 6% of the observations have invalid calcification types. Let's take a look."
   ]
  },
  {
   "cell_type": "code",
   "execution_count": null,
   "id": "b5ab0b5f",
   "metadata": {},
   "outputs": [],
   "source": [
    "cbis.dqa.get_invalid_data(subset='calc_type')['calc_type'].unique()"
   ]
  },
  {
   "cell_type": "markdown",
   "id": "ad8e3b44",
   "metadata": {},
   "source": [
    "A common thread among these invalid values is the type, 'LUCENT_CENTER', which should be 'LUCENT_CENTERED'. 'PLEOMORPHIC-PLEOMORPHIC', should be 'PLEOMORPHIC' and there are some NaN values extant. We'll make those changes in the next section. Now, the invalid breast density records."
   ]
  },
  {
   "cell_type": "code",
   "execution_count": null,
   "id": "24c3f800",
   "metadata": {},
   "outputs": [],
   "source": [
    "cbis.dqa.get_invalid_data(subset='breast_density')"
   ]
  },
  {
   "cell_type": "markdown",
   "id": "7f972c08",
   "metadata": {},
   "source": [
    "Both observations with breast density values of zero, are for the same patient. Let's see what densities we have for similar malignant calcification cases."
   ]
  },
  {
   "cell_type": "code",
   "execution_count": null,
   "id": "4feda79d",
   "metadata": {},
   "outputs": [],
   "source": [
    "df = cbis.dqa.get_complete_data()\n",
    "df_similar_type = df.loc[(df['calc_type'] == 'PLEOMORPHIC') & (df['cancer'] == True)]\n",
    "df_similar_dist = df.loc[(df['calc_distribution'] == 'DIFFUSELY_SCATTERED') & (df['cancer'] == True)]"
   ]
  },
  {
   "cell_type": "markdown",
   "id": "a6c26ba3",
   "metadata": {},
   "source": [
    "The breast density counts below are for PLEOMORPHIC calcification cases."
   ]
  },
  {
   "cell_type": "code",
   "execution_count": null,
   "id": "069af5b0",
   "metadata": {},
   "outputs": [],
   "source": [
    "df_similar_type['breast_density'].value_counts().to_frame()"
   ]
  },
  {
   "cell_type": "markdown",
   "id": "7286ed6c",
   "metadata": {},
   "source": [
    "Statistically, breast densities of 2,3 and 4 are equally probable for malignant PLEOMORPHIC cases. Let's see if calcification distribution is more discriminative."
   ]
  },
  {
   "cell_type": "code",
   "execution_count": null,
   "id": "c05ba263",
   "metadata": {},
   "outputs": [],
   "source": [
    "df_similar_dist['breast_density'].value_counts().to_frame()"
   ]
  },
  {
   "cell_type": "markdown",
   "id": "f5b4d8c3",
   "metadata": {},
   "source": [
    "We only have five DIFFUSELY_SCATTERED calcification cases, two of which are our invalid cases. Two cases have breast densities of 2, and another with a value of 3. Not a statistically significant difference in breast densities for DIFFUSELY_SCATTERED calcification cases. Though these invalid observations are relative, they represent 40% of the DIFFUSELY_SCATTERED calcification cases. We'll attempt to impute these values rather than delete them."
   ]
  },
  {
   "cell_type": "markdown",
   "id": "fe23d569",
   "metadata": {},
   "source": [
    "#### Invalid Mass Case Analysis\n",
    "The invalid mass cases have subtlety values of zero. Let's take a look at the data."
   ]
  },
  {
   "cell_type": "code",
   "execution_count": null,
   "id": "a20f8997",
   "metadata": {},
   "outputs": [],
   "source": [
    "cbis.dqa.get_invalid_data(subset='subtlety')"
   ]
  },
  {
   "cell_type": "markdown",
   "id": "7578d343",
   "metadata": {},
   "source": [
    "Similarly, these cases are for the same patient. Notably, these cases convey little information: missing mass shape and margins data. In this case deletion would be the best option."
   ]
  },
  {
   "cell_type": "markdown",
   "id": "7428f95b",
   "metadata": {},
   "source": [
    "### Summary\n",
    "A brief data quality analysis of the CBIS-DDSM case and DICOM data examined completeness, uniqueness, and validity. Our data cleaning tasks are as follows:\n",
    "\n",
    "1. The following observations have zero for breast density, values that will be marked as missing and imputed.\n",
    "   1. P_01743_RIGHT_calcification_CC_1\n",
    "   2. P_01743_RIGHT_calcification_MLO_1\n",
    "2. The following cases have zero subtlety. These values will be marked as missing and imputed.\n",
    "   1. P_00710_RIGHT_mass_MLO_1\n",
    "   2. P_00710_RIGHT_mass_CC_1\n",
    "3. For calcification type, we'll perform the following replacements:\n",
    "   1. 'LUCENT_CENTERED' for 'LUCENT_CENTER'\n",
    "   2. 'PLEOMORHIC' for 'PLEOMORHIC-PLEOMORHIC'\n",
    "4. We will use Multivariate Imputation by Chained Equations (MICE) to predict missing values for the following variables:\n",
    "   1. calc distribution\n",
    "   2. mass_margins\n",
    "   3. mass shape\n",
    "   4. calc type\n",
    "   5. breast_density\n",
    "   6. subtlety"
   ]
  }
 ],
 "metadata": {
  "jupytext": {
   "text_representation": {
    "extension": ".md",
    "format_name": "myst",
    "format_version": 0.13,
    "jupytext_version": "1.16.0"
   }
  },
  "kernelspec": {
   "display_name": "bcd",
   "language": "python",
   "name": "python3"
  },
  "source_map": [
   12,
   28,
   43,
   48,
   51,
   55,
   58,
   62,
   64,
   68,
   70,
   76,
   80,
   83,
   87,
   92,
   95,
   99,
   101,
   105,
   107,
   111,
   113,
   117,
   121,
   125,
   127,
   131,
   133,
   137,
   142,
   144,
   148
  ]
 },
 "nbformat": 4,
 "nbformat_minor": 5
}