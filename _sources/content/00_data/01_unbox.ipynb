{
 "cells": [
  {
   "cell_type": "markdown",
   "id": "a3f88d36",
   "metadata": {},
   "source": [
    "# Unboxing CBIS-DDSM\n",
    "\n",
    "Before conducting the exploratory analyses, we'll unbox the data to ensure that the structure supports the analyses and that ...*' we got what we paid for*. In the next section, we'll perform an analysis of the data quality along dimensions of validity, completeness, consistency, and uniqueness. The following exploratory analysis will harvest insight from the data. \n",
    "\n",
    "Our aim here is to get a general sense of the data *structure* and to make any structural changes necessary to facilitate the next stages of the analysis. First, we'll examine the case training sets, then the series metadata, and finally, we'll discover the structure of the DICOM metadata."
   ]
  },
  {
   "cell_type": "code",
   "execution_count": null,
   "id": "57b64319",
   "metadata": {
    "tags": [
     "remove-cell"
    ]
   },
   "outputs": [],
   "source": [
    "import os\n",
    "if 'jbook' in os.getcwd():\n",
    "    os.chdir(os.path.abspath(os.path.join(\"../../..\")))"
   ]
  },
  {
   "cell_type": "code",
   "execution_count": null,
   "id": "f8ded966",
   "metadata": {
    "tags": [
     "hide-input"
    ]
   },
   "outputs": [],
   "source": [
    "from myst_nb import glue\n",
    "import pandas as pd\n",
    "import pydicom\n",
    "\n",
    "fp_calc_train = \"data/meta/0_raw/calc_case_description_train_set.csv\"\n",
    "fp_mass_train = \"data/meta/0_raw/mass_case_description_train_set.csv\"\n",
    "fp_metadata = \"data/meta/0_raw/metadata.csv\""
   ]
  },
  {
   "cell_type": "markdown",
   "id": "a37688b2",
   "metadata": {},
   "source": [
    "## Case Data\n",
    "\n",
    "### Calcification Training Cases"
   ]
  },
  {
   "cell_type": "code",
   "execution_count": null,
   "id": "d5ccdd11",
   "metadata": {
    "tags": [
     "hide-input"
    ]
   },
   "outputs": [],
   "source": [
    "df = pd.read_csv(fp_calc_train)\n",
    "df.info()"
   ]
  },
  {
   "cell_type": "markdown",
   "id": "0a273c9d",
   "metadata": {},
   "source": [
    "We have 1546 observations and 14 columns *(with spaces in the column names, which is somewhat vexing)* in the calcification training set. Let's take a look at the data."
   ]
  },
  {
   "cell_type": "code",
   "execution_count": null,
   "id": "6cdd906a",
   "metadata": {},
   "outputs": [],
   "source": [
    "df.sample(n=5, random_state=57)"
   ]
  },
  {
   "cell_type": "markdown",
   "id": "f77fd5bb",
   "metadata": {},
   "source": [
    "Ok, let's take a look at the mass training set.\n",
    "\n",
    "### Mass Train Cases"
   ]
  },
  {
   "cell_type": "code",
   "execution_count": null,
   "id": "747bf5e2",
   "metadata": {
    "tags": [
     "hide-input"
    ]
   },
   "outputs": [],
   "source": [
    "df = pd.read_csv(fp_mass_train)\n",
    "df.info()"
   ]
  },
  {
   "cell_type": "markdown",
   "id": "fbef72f8",
   "metadata": {},
   "source": [
    "And the data..."
   ]
  },
  {
   "cell_type": "code",
   "execution_count": null,
   "id": "2f3f1585",
   "metadata": {
    "tags": [
     "hide-input"
    ]
   },
   "outputs": [],
   "source": [
    "df.sample(n=5, random_state=240)"
   ]
  },
  {
   "cell_type": "markdown",
   "id": "8e4e79d2",
   "metadata": {},
   "source": [
    "Ok, let's inspect the series metadata."
   ]
  },
  {
   "cell_type": "markdown",
   "id": "547263a4",
   "metadata": {},
   "source": [
    "## Series Metadata\n",
    "\n",
    "The series metadata contains study and series information for the DICOM files that were downloaded from the TCIA."
   ]
  },
  {
   "cell_type": "code",
   "execution_count": null,
   "id": "97487a7f",
   "metadata": {
    "tags": [
     "hide-input"
    ]
   },
   "outputs": [],
   "source": [
    "df = pd.read_csv(fp_metadata)\n",
    "df.info()"
   ]
  },
  {
   "cell_type": "code",
   "execution_count": null,
   "id": "061e2404",
   "metadata": {
    "tags": [
     "hide-input"
    ]
   },
   "outputs": [],
   "source": [
    "df.sample(n=5, random_state=55)"
   ]
  },
  {
   "cell_type": "markdown",
   "id": "d3fef4cf",
   "metadata": {},
   "source": [
    "Very alright! Now the DICOM image metadata.\n",
    "\n",
    "## DICOM Image Metadata"
   ]
  },
  {
   "cell_type": "code",
   "execution_count": null,
   "id": "5a2b33be",
   "metadata": {},
   "outputs": [],
   "source": [
    "fp = \"data/image/0_raw/CBIS-DDSM/Mass-Training_P_01981_RIGHT_CC/07-20-2016-DDSM-94258/1.000000-full mammogram images-07312/1-1.dcm\"\n",
    "pydicom.dcmread(fp)"
   ]
  },
  {
   "cell_type": "markdown",
   "id": "3ed05b81",
   "metadata": {},
   "source": [
    "## Summary of Structural Concerns\n",
    "\n",
    "1. The data are currently split into train and test sets by BI-RADS category. While convenient for modeling, this is rather cumbersome for the exploratory data analysis which considers the entire dataset, before making any assumptions. As such, bringing the calcification and mass train and test sets together with the associated full mammogram image metadata into a single dataset will facilitate a top-down, comprehensive view of all the data for analysis.\n",
    "2. Our binary classification target variable can take one of three values: 'MALIGNANT', 'BENIGN', and 'BENIGN_WITHOUT_CALLBACK. The latter indicates that some aspect of the case is worth tracking; but, no follow-up is required. For our purposes, that is a distinction without a difference. Nonetheless, rather than modifying the variable and losing potentially useful information, we'll create a new target variable, 'cancer', which will be True if the pathology is 'MALIGNANT', and False otherwise.\n",
    "3. The CBIS-DDSM creators define a case as a particular abnormality as seen in the cranial-caudal (CC) or mediolateral oblique (MLO) image views; yet, there is no formal identification of a unique *mammogram*. A mammogram is defined here as a CC or MLO image of the left or right breast taken for a specific patient. Such a mammogram identifier would allow us to bring the case and the *full* mammogram imaging data together into a single dataset. ROI masks and cropped images are abnormality-level constructs and can remain as such.\n",
    "\n",
    "Overall, this is an advocation for a single dataset containing only the information relevant to the analyses and modeling tasks. In the next section, a single task-specific dataset will be harvested from the CBIS-DDSM data."
   ]
  }
 ],
 "metadata": {
  "jupytext": {
   "text_representation": {
    "extension": ".md",
    "format_name": "myst",
    "format_version": 0.13,
    "jupytext_version": "1.16.0"
   }
  },
  "kernelspec": {
   "display_name": "bcd",
   "language": "python",
   "name": "python3"
  },
  "source_map": [
   12,
   20,
   28,
   38,
   44,
   49,
   53,
   55,
   61,
   66,
   70,
   74,
   78,
   84,
   91,
   95,
   101,
   104
  ]
 },
 "nbformat": 4,
 "nbformat_minor": 5
}