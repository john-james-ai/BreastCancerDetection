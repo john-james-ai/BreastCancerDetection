{
 "cells": [
  {
   "cell_type": "markdown",
   "id": "d13027d9",
   "metadata": {},
   "source": [
    "# CBIS-DDSM - Unbox\n",
    "\n",
    "Before conducting data quality or exploratory analyses, we unbox the data to ensure that, well...*'we got what we paid for'*. Our aim here is to:\n",
    "\n",
    "1. Ensure that record counts are correct,\n",
    "2. Variable names are consistent across files,\n",
    "3. Data structure facilitates the next stage of data quality analysis."
   ]
  },
  {
   "cell_type": "code",
   "execution_count": 1,
   "id": "e37182e5",
   "metadata": {
    "tags": [
     "hide-input"
    ]
   },
   "outputs": [],
   "source": [
    "import os\n",
    "if 'jbook' in os.getcwd():\n",
    "    os.chdir(os.path.abspath(os.path.join(\"../../..\")))\n",
    "from myst_nb import glue\n",
    "import pandas as pd"
   ]
  },
  {
   "cell_type": "code",
   "execution_count": 2,
   "id": "c0643015",
   "metadata": {},
   "outputs": [],
   "source": [
    "fp_calc_train = \"data/meta/0_raw/calc_case_description_train_set.csv\"\n",
    "fp_calc_test = \"data/meta/0_raw/calc_case_description_test_set.csv\"\n",
    "fp_mass_train = \"data/meta/0_raw/mass_case_description_train_set.csv\"\n",
    "fp_mass_test = \"data/meta/0_raw/mass_case_description_test_set.csv\"\n",
    "fp_metadata = \"data/meta/0_raw/metadata.csv\""
   ]
  },
  {
   "cell_type": "markdown",
   "id": "5cc126f8",
   "metadata": {},
   "source": [
    "## Calcification Cases"
   ]
  },
  {
   "cell_type": "markdown",
   "id": "e88db60e",
   "metadata": {},
   "source": [
    "### Calcification Train Cases\n",
    "\n",
    "We expect a total of 602 cases, 329 are benign and 273 are malignant."
   ]
  },
  {
   "cell_type": "code",
   "execution_count": 3,
   "id": "e1198f02",
   "metadata": {
    "tags": [
     "hide-input"
    ]
   },
   "outputs": [
    {
     "name": "stdout",
     "output_type": "stream",
     "text": [
      "<class 'pandas.core.frame.DataFrame'>\n",
      "RangeIndex: 1546 entries, 0 to 1545\n",
      "Data columns (total 14 columns):\n",
      " #   Column                   Non-Null Count  Dtype \n",
      "---  ------                   --------------  ----- \n",
      " 0   patient_id               1546 non-null   object\n",
      " 1   breast density           1546 non-null   int64 \n",
      " 2   left or right breast     1546 non-null   object\n",
      " 3   image view               1546 non-null   object\n",
      " 4   abnormality id           1546 non-null   int64 \n",
      " 5   abnormality type         1546 non-null   object\n",
      " 6   calc type                1526 non-null   object\n",
      " 7   calc distribution        1170 non-null   object\n",
      " 8   assessment               1546 non-null   int64 \n",
      " 9   pathology                1546 non-null   object\n",
      " 10  subtlety                 1546 non-null   int64 \n",
      " 11  image file path          1546 non-null   object\n",
      " 12  cropped image file path  1546 non-null   object\n",
      " 13  ROI mask file path       1546 non-null   object\n",
      "dtypes: int64(4), object(10)\n",
      "memory usage: 169.2+ KB\n"
     ]
    }
   ],
   "source": [
    "df = pd.read_csv(fp_calc_train)\n",
    "df.info()"
   ]
  },
  {
   "cell_type": "markdown",
   "id": "319a9baa",
   "metadata": {},
   "source": [
    "We have 1546 observations and 14 columns *(with spaces in the column names, which is somewhat vexing)* in the calcification training set."
   ]
  },
  {
   "cell_type": "code",
   "execution_count": 4,
   "id": "8b1bccc6",
   "metadata": {
    "tags": [
     "hide-input",
     "remove-output"
    ]
   },
   "outputs": [
    {
     "data": {
      "text/plain": [
       "1546"
      ]
     },
     "metadata": {
      "scrapbook": {
       "mime_prefix": "",
       "name": "n_records"
      }
     },
     "output_type": "display_data"
    },
    {
     "data": {
      "text/plain": [
       "602"
      ]
     },
     "metadata": {
      "scrapbook": {
       "mime_prefix": "",
       "name": "n_cases"
      }
     },
     "output_type": "display_data"
    },
    {
     "data": {
      "text/html": [
       "<div>\n",
       "<style scoped>\n",
       "    .dataframe tbody tr th:only-of-type {\n",
       "        vertical-align: middle;\n",
       "    }\n",
       "\n",
       "    .dataframe tbody tr th {\n",
       "        vertical-align: top;\n",
       "    }\n",
       "\n",
       "    .dataframe thead th {\n",
       "        text-align: right;\n",
       "    }\n",
       "</style>\n",
       "<table border=\"1\" class=\"dataframe\">\n",
       "  <thead>\n",
       "    <tr style=\"text-align: right;\">\n",
       "      <th></th>\n",
       "      <th>pathology</th>\n",
       "    </tr>\n",
       "    <tr>\n",
       "      <th>patient_id</th>\n",
       "      <th></th>\n",
       "    </tr>\n",
       "  </thead>\n",
       "  <tbody>\n",
       "    <tr>\n",
       "      <th>P_00005</th>\n",
       "      <td>1</td>\n",
       "    </tr>\n",
       "    <tr>\n",
       "      <th>P_00007</th>\n",
       "      <td>1</td>\n",
       "    </tr>\n",
       "    <tr>\n",
       "      <th>P_00008</th>\n",
       "      <td>1</td>\n",
       "    </tr>\n",
       "    <tr>\n",
       "      <th>P_00010</th>\n",
       "      <td>1</td>\n",
       "    </tr>\n",
       "    <tr>\n",
       "      <th>P_00011</th>\n",
       "      <td>1</td>\n",
       "    </tr>\n",
       "    <tr>\n",
       "      <th>...</th>\n",
       "      <td>...</td>\n",
       "    </tr>\n",
       "    <tr>\n",
       "      <th>P_02559</th>\n",
       "      <td>1</td>\n",
       "    </tr>\n",
       "    <tr>\n",
       "      <th>P_02563</th>\n",
       "      <td>1</td>\n",
       "    </tr>\n",
       "    <tr>\n",
       "      <th>P_02566</th>\n",
       "      <td>1</td>\n",
       "    </tr>\n",
       "    <tr>\n",
       "      <th>P_02572</th>\n",
       "      <td>1</td>\n",
       "    </tr>\n",
       "    <tr>\n",
       "      <th>P_02584</th>\n",
       "      <td>1</td>\n",
       "    </tr>\n",
       "  </tbody>\n",
       "</table>\n",
       "<p>602 rows × 1 columns</p>\n",
       "</div>"
      ],
      "text/plain": [
       "            pathology\n",
       "patient_id           \n",
       "P_00005             1\n",
       "P_00007             1\n",
       "P_00008             1\n",
       "P_00010             1\n",
       "P_00011             1\n",
       "...               ...\n",
       "P_02559             1\n",
       "P_02563             1\n",
       "P_02566             1\n",
       "P_02572             1\n",
       "P_02584             1\n",
       "\n",
       "[602 rows x 1 columns]"
      ]
     },
     "metadata": {
      "scrapbook": {
       "mime_prefix": "",
       "name": "case_pathologies"
      }
     },
     "output_type": "display_data"
    },
    {
     "data": {
      "text/plain": [
       "14"
      ]
     },
     "metadata": {
      "scrapbook": {
       "mime_prefix": "",
       "name": "n_cases_multiple_pathologies"
      }
     },
     "output_type": "display_data"
    }
   ],
   "source": [
    "n_records = len(df)\n",
    "n_cases =  df['patient_id'].nunique()\n",
    "case_pathologies = df[['patient_id', 'pathology']].drop_duplicates().groupby(by='patient_id').count()\n",
    "n_cases_multiple_pathologies = len(case_pathologies.loc[case_pathologies['pathology']==2])\n",
    "glue('n_records', n_records)\n",
    "glue('n_cases', n_cases)\n",
    "glue('case_pathologies', case_pathologies)\n",
    "glue('n_cases_multiple_pathologies', n_cases_multiple_pathologies)"
   ]
  },
  {
   "cell_type": "markdown",
   "id": "35f7be27",
   "metadata": {},
   "source": [
    "```{glue:figure} case_pathologies\n",
    "---\n",
    "align: center\n",
    "name: case_pathologies_df\n",
    "---\n",
    "CBIS-DDSM Case Pathologies\n",
    "```"
   ]
  },
  {
   "cell_type": "markdown",
   "id": "66ea96e2",
   "metadata": {},
   "source": [
    "Several observations can be made:\n",
    "\n",
    "1. It would appear that we have three values for pathology: MALIGNANT, BENIGN, and BENIGN_WITHOUT_CALLBACK. While changing this to BENIGN might simplify things, we lose information that might be useful in understanding missing values, such as #2.\n",
    "2. About 2% of the cases in the training set have missing calcification types. One case is illustrated above. Might the missing value be associated with the pathology?\n",
    "3. A quick check of the file paths reveals, unfortunately, that they are not valid. If the other case files contain invalid file paths, we can safely drop these them from the dataset.\n",
    "4. One slightly vexing"
   ]
  },
  {
   "cell_type": "markdown",
   "id": "a8e8c655",
   "metadata": {},
   "source": [
    "### Calcification Test Cases"
   ]
  }
 ],
 "metadata": {
  "jupytext": {
   "text_representation": {
    "extension": ".md",
    "format_name": "myst",
    "format_version": 0.13,
    "jupytext_version": "1.16.0"
   }
  },
  "kernelspec": {
   "display_name": "bcd",
   "language": "python",
   "name": "python3"
  },
  "language_info": {
   "codemirror_mode": {
    "name": "ipython",
    "version": 3
   },
   "file_extension": ".py",
   "mimetype": "text/x-python",
   "name": "python",
   "nbconvert_exporter": "python",
   "pygments_lexer": "ipython3",
   "version": "3.10.12"
  },
  "source_map": [
   12,
   21,
   30,
   36,
   40,
   46,
   51,
   55,
   66,
   76,
   85
  ]
 },
 "nbformat": 4,
 "nbformat_minor": 5
}