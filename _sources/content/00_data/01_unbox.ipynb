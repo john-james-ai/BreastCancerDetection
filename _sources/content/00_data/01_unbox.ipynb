{
 "cells": [
  {
   "cell_type": "markdown",
   "id": "aed4e7f0",
   "metadata": {},
   "source": [
    "# Unboxing CBIS-DDSM - A Structural Analysis\n",
    "\n",
    "Before conducting the exploratory analyses, we'll unbox the data to ensure that the structure supports the analyses and that ...*' we got what we paid for*. In the next section, we'll perform an analysis of the data quality along dimensions of validity, completeness, consistency, and uniqueness. The following exploratory analysis will harvest insight from the data. \n",
    "\n",
    "Our aim here is to get a general sense of the data *structure* and to make any structural changes necessary to facilitate the next stages of the analysis. First, we'll examine the case training sets, then the series metadata, and finally, we'll discover the structure of the DICOM metadata."
   ]
  },
  {
   "cell_type": "code",
   "execution_count": null,
   "id": "e78a20b9",
   "metadata": {
    "tags": [
     "hide-input"
    ]
   },
   "outputs": [],
   "source": [
    "import os\n",
    "if 'jbook' in os.getcwd():\n",
    "    os.chdir(os.path.abspath(os.path.join(\"../../..\")))\n",
    "from myst_nb import glue\n",
    "import pandas as pd\n",
    "import pydicom\n",
    "\n",
    "fp_calc_train = \"data/meta/0_raw/calc_case_description_train_set.csv\"\n",
    "fp_mass_train = \"data/meta/0_raw/mass_case_description_train_set.csv\"\n",
    "fp_metadata = \"data/meta/0_raw/metadata.csv\""
   ]
  },
  {
   "cell_type": "markdown",
   "id": "3159f16e",
   "metadata": {},
   "source": [
    "## Case Data\n",
    "\n",
    "### Calcification Training Cases"
   ]
  },
  {
   "cell_type": "code",
   "execution_count": null,
   "id": "df647196",
   "metadata": {
    "tags": [
     "hide-input"
    ]
   },
   "outputs": [],
   "source": [
    "df = pd.read_csv(fp_calc_train)\n",
    "df.info()"
   ]
  },
  {
   "cell_type": "markdown",
   "id": "9f58eb8d",
   "metadata": {},
   "source": [
    "We have 1546 observations and 14 columns *(with spaces in the column names, which is somewhat vexing)* in the calcification training set. Let's take a look at the data."
   ]
  },
  {
   "cell_type": "code",
   "execution_count": null,
   "id": "c0a3de76",
   "metadata": {},
   "outputs": [],
   "source": [
    "df.sample(n=5, random_state=57)"
   ]
  },
  {
   "cell_type": "markdown",
   "id": "74d2d3ff",
   "metadata": {},
   "source": [
    "Ok, let's take a look at the mass training set.\n",
    "\n",
    "### Mass Train Cases"
   ]
  },
  {
   "cell_type": "code",
   "execution_count": null,
   "id": "53b1f4de",
   "metadata": {
    "tags": [
     "hide-input"
    ]
   },
   "outputs": [],
   "source": [
    "df = pd.read_csv(fp_mass_train)\n",
    "df.info()"
   ]
  },
  {
   "cell_type": "markdown",
   "id": "ee9af31e",
   "metadata": {},
   "source": [
    "And the data..."
   ]
  },
  {
   "cell_type": "code",
   "execution_count": null,
   "id": "d218188d",
   "metadata": {
    "tags": [
     "hide-input"
    ]
   },
   "outputs": [],
   "source": [
    "df.sample(n=5, random_state=240)"
   ]
  },
  {
   "cell_type": "markdown",
   "id": "3a698d10",
   "metadata": {},
   "source": [
    "Ok, let's inspect the series metadata."
   ]
  },
  {
   "cell_type": "markdown",
   "id": "be1c2f4d",
   "metadata": {},
   "source": [
    "## Series Metadata\n",
    "\n",
    "The series metadata contains study and series information for the DICOM files that were downloaded from the TCIA."
   ]
  },
  {
   "cell_type": "code",
   "execution_count": null,
   "id": "273050bf",
   "metadata": {
    "tags": [
     "hide-input"
    ]
   },
   "outputs": [],
   "source": [
    "df = pd.read_csv(fp_metadata)\n",
    "df.info()"
   ]
  },
  {
   "cell_type": "code",
   "execution_count": null,
   "id": "3f3f943e",
   "metadata": {
    "tags": [
     "hide-input"
    ]
   },
   "outputs": [],
   "source": [
    "df.sample(n=5, random_state=55)"
   ]
  },
  {
   "cell_type": "markdown",
   "id": "680474ee",
   "metadata": {},
   "source": [
    "Very alright! Now the DICOM image metadata.\n",
    "\n",
    "## DICOM Image Metadata"
   ]
  },
  {
   "cell_type": "code",
   "execution_count": null,
   "id": "998c1673",
   "metadata": {},
   "outputs": [],
   "source": [
    "fp = \"data/image/0_raw/Calc-Training_P_01823_LEFT_MLO/08-07-2016-DDSM-99626/1.000000-full mammogram images-81312/1-1.dcm\"\n",
    "pydicom.dcmread(fp)"
   ]
  },
  {
   "cell_type": "markdown",
   "id": "71de4bb3",
   "metadata": {},
   "source": [
    "## Summary of Structural Concerns\n",
    "\n",
    "### Cases\n",
    "\n",
    "1. The data are currently split into train and test sets by BI-RADS category. While convenient for modeling, this is rather cumbersome for the exploratory data analysis which considers the entire dataset, before making any assumptions. Combining the calcification and mass train and test sets into a single case dataset will facilitate a top-down, comprehensive view of all the data for analysis.\n",
    "2. Our binary classification target variable can take one of three values: 'MALIGNANT', 'BENIGN', and 'BENIGN_WITHOUT_CALLBACK. The latter indicates that some aspect of the case is worth tracking; but, no follow-up is required. For our purposes, that is a distinction without a difference. Nonetheless, rather than modifying the variable and losing potentially useful information, we'll create a new target variable, 'cancer', which will be True if the pathology is 'MALIGNANT', and False otherwise.\n",
    "3. The CBIS-DDSM creators define a case as a particular abnormality as seen in the cranial-caudal (CC) or mediolateral oblique (MLO) image views; yet, there is no way to uniquely identify a case without parsing patient_id, abnormality type, the file set, left or right breast, and image_view. A unique case_id variable will uniquely identify each case, defined as a specific abnormality viewed by either a CC or MLO view. Distinguishing a view as a separate case allows us to link more precisely to individual  DICOM full mammogram images. \n",
    "4. Finally, there are inconsistencies in the variable names and the file paths are not valid, although the file paths contain series_uid and study_uid, which may serve as another link to the DICOM dataset.\n",
    "\n",
    "### Series Metadata\n",
    "\n",
    "1. The most important variables in series metadata dataset are:\n",
    "\n",
    "```{table} Series Metadata\n",
    ":name: series_metadata\n",
    "| Field             | Description                                                        |\n",
    "|-------------------|--------------------------------------------------------------------|\n",
    "| series_uid        | DICOM Series Instance UID: Tag (0020, 000E)                        |\n",
    "| subject_id        | Abnormality type, fileset, patient_id, breast side, and image view |\n",
    "| study_uid         | DICOM Study Instance UID: Tag (0020,000D)                          |\n",
    "| study_description | full mammography images, cropped images, or ROI images             |\n",
    "| number_of_images  | Number of images at the file location                              |\n",
    "| file_location     | Relative directory path to image(s)                                |\n",
    "```\n",
    "\n",
    "2. The subject_id {numref}`series_metadata` can be used to map the DICOM images to cases. Still, since a file location can have more than one image, there is no way to uniquely identify an image. This is less of a problem for full mammogram images, as there is only one per file location; however, we may have two cropped or ROI images per location. A unique identifier per image will simplify the process of image-to-case mapping.\n",
    "\n",
    "### DICOM Image Metadata\n",
    "\n",
    "The DICOM structure has several variables of interest:\n",
    "1.  Series description\n",
    "2.  Patient's Name / Patient ID\n",
    "3.  Study Instance UID\n",
    "4.  Series Instance UID\n",
    "5.  Patient Orientation\n",
    "6.  Samples per Pixel\n",
    "7.  Rows and Columns\n",
    "8.  Bits Allocated and Stored\n",
    "9.  Smallest and Largest Image Pixel Value\n",
    "10. Pixel Data\n",
    "\n",
    "Two additional variables not included in the DICOM structure would be of interest: Mean Pixel Value and Standard Deviation of the Pixel Values. For ease of accessibility, these data can be extracted into a format that supports DataFrames.\n",
    "\n",
    "Finally, images do not have a single identifier that uniquely defines each image. This is especially true for ROI and cropped images which may share a common study_uid and series_uid. \n",
    "\n",
    "That summarizes the structural concerns from this unboxing effort. Next, we'll implement the structural changes raised in this section."
   ]
  }
 ],
 "metadata": {
  "jupytext": {
   "text_representation": {
    "extension": ".md",
    "format_name": "myst",
    "format_version": 0.13,
    "jupytext_version": "1.16.0"
   }
  },
  "kernelspec": {
   "display_name": "bcd",
   "language": "python",
   "name": "python3"
  },
  "source_map": [
   12,
   20,
   33,
   39,
   44,
   48,
   50,
   56,
   61,
   65,
   69,
   73,
   79,
   86,
   90,
   96,
   99
  ]
 },
 "nbformat": 4,
 "nbformat_minor": 5
}