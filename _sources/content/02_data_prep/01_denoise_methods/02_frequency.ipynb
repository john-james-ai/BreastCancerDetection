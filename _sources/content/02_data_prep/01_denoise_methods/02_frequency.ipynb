{
 "cells": [
  {
   "cell_type": "markdown",
   "id": "8e005982",
   "metadata": {},
   "source": [
    "# Frequency Domain Filtering\n",
    "\n",
    "Normally, we think of an image as a rectangular array of pixels, each pixel representing an intensity at a position in the spatial domain. However, some operations are complicated, or impossible to perform in the spatial domain, and; therefore, a different representation is required.\n",
    "\n",
    "Representing an image as the sum of sinusoidal waves places it in the frequency domain in which certain denoising and smoothing operations on the periodic structure are possible.\n",
    "We convert an image to a spectrum in the frequency domain via the Fourier transformation (FT) {cite}` fourierAnalyticalTheoryHeat2007. It has two components: **magnitude** and **phase**. The magnitude tells us *how much* a certain frequency component is present, and the phase tells us *where* the frequency component is in the image.\n",
    "\n",
    "To get some intuition into the frequency domain representation, we plot a few the Fourier transformation of a few simple images. In general, we plot the *magnitude* images and **not** the *phase* images [^phase].\n",
    "\n",
    "[^phase]: The case reports of people who have studied phase images shortly thereafter succumbing to hallucinogenics or ending up in a Tibetan monastery {cite}`IntroductionFourierTransform`  have not been corroborated. Nonetheless, the study of phase images in the frequency domain is best avoided."
   ]
  },
  {
   "cell_type": "code",
   "execution_count": 1,
   "id": "0f5663ee",
   "metadata": {
    "tags": [
     "hide-cell",
     "remove-output"
    ]
   },
   "outputs": [
    {
     "ename": "NameError",
     "evalue": "name 'glue' is not defined",
     "output_type": "error",
     "traceback": [
      "\u001b[0;31m---------------------------------------------------------------------------\u001b[0m",
      "\u001b[0;31mNameError\u001b[0m                                 Traceback (most recent call last)",
      "Cell \u001b[0;32mIn[1], line 42\u001b[0m\n\u001b[1;32m     40\u001b[0m img_fft \u001b[38;5;241m=\u001b[39m transform_image(img)\n\u001b[1;32m     41\u001b[0m fig \u001b[38;5;241m=\u001b[39m plot_images(img1\u001b[38;5;241m=\u001b[39mimg,img2\u001b[38;5;241m=\u001b[39mimg_fft)\n\u001b[0;32m---> 42\u001b[0m \u001b[43mglue\u001b[49m(\u001b[38;5;124m\"\u001b[39m\u001b[38;5;124mfft_uniform\u001b[39m\u001b[38;5;124m\"\u001b[39m, fig)\n",
      "\u001b[0;31mNameError\u001b[0m: name 'glue' is not defined"
     ]
    },
    {
     "data": {
      "image/png": "[encoded data removed]",
      "text/plain": [
       "<Figure size 1200x600 with 2 Axes>"
      ]
     },
     "metadata": {},
     "output_type": "display_data"
    }
   ],
   "source": [
    "import os\n",
    "if 'jbook' in os.getcwd():\n",
    "    os.chdir(os.path.abspath(os.path.join(\"../../../..\")))\n",
    "import cv2\n",
    "import matplotlib.pyplot as plt\n",
    "import numpy as np\n",
    "from bcd.utils.image import convert_uint8\n",
    "\n",
    "FP_WHITE = \"jbook/figures/frequency_white.jpg\"\n",
    "FP_HLINE = \"jbook/figures/frequency_hline.png\"\n",
    "FP_VLINE = \"jbook/figures/frequency_vline.png\"\n",
    "\n",
    "def get_image(fp: str, size: int = 200):\n",
    "    img = cv2.imread(fp, cv2.IMREAD_GRAYSCALE)\n",
    "    return cv2.resize(img, (size,size))\n",
    "\n",
    "def transform_image(img):\n",
    "    # Compute fourier transformation\n",
    "    img_fft = np.fft.fft2(img)\n",
    "    # Shift the zero-frequency to the center\n",
    "    img_shifted = np.fft.fftshift(img_fft)\n",
    "    # Compute amplitude\n",
    "    img_amp = np.abs(img_shifted)\n",
    "    img_amp = np.clip(img_amp, a_min=0, a_max=50000)\n",
    "    return img_amp\n",
    "\n",
    "def plot_images(img1, img2, size=(12,6)):\n",
    "    fig, axes = plt.subplots(nrows=1, ncols=2, figsize=size)\n",
    "    _ = axes[0].imshow(img1, cmap='gray')\n",
    "    _ = axes[1].imshow(img2, cmap='gray')\n",
    "\n",
    "    for i in range(2):\n",
    "        _ = axes[i].set_xticks([])\n",
    "        _ = axes[i].set_yticks([])\n",
    "    plt.tight_layout()\n",
    "    return fig\n",
    "\n",
    "# obtain the original images\n",
    "img = get_image(fp=FP_WHITE)\n",
    "img_fft = transform_image(img)\n",
    "fig = plot_images(img1=img,img2=img_fft)\n",
    "glue(\"fft_uniform\", fig)"
   ]
  },
  {
   "cell_type": "markdown",
   "id": "0619d36b",
   "metadata": {},
   "source": [
    "```{glue:figure} fft_uniform\n",
    "---\n",
    "align: center\n",
    "name: fft_uniform_fig\n",
    "---\n",
    "Fourier Transformation of a White Background\n",
    "```\n",
    "\n",
    "In {numref}`fft_uniform_fig` we see a constant white image on the left along with its frequency spectrum image on the right. The white dot we see in the center of the  frequency domain"
   ]
  }
 ],
 "metadata": {
  "jupytext": {
   "text_representation": {
    "extension": ".md",
    "format_name": "myst",
    "format_version": 0.13,
    "jupytext_version": "1.15.1"
   }
  },
  "kernelspec": {
   "display_name": "bcd",
   "language": "python",
   "name": "python3"
  },
  "language_info": {
   "codemirror_mode": {
    "name": "ipython",
    "version": 3
   },
   "file_extension": ".py",
   "mimetype": "text/x-python",
   "name": "python",
   "nbconvert_exporter": "python",
   "pygments_lexer": "ipython3",
   "version": "3.10.12"
  },
  "source_map": [
   12,
   24,
   68
  ]
 },
 "nbformat": 4,
 "nbformat_minor": 5
}