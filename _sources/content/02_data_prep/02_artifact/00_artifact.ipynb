{
 "cells": [
  {
   "cell_type": "markdown",
   "id": "6f00521d",
   "metadata": {},
   "source": [
    "# Artifact Removal\n",
    "\n",
    "Various types of artifacts were found on breast mammogram images, as shown below."
   ]
  },
  {
   "cell_type": "code",
   "execution_count": 1,
   "id": "d19d0a0c",
   "metadata": {
    "tags": [
     "hide-cell",
     "remove-output"
    ]
   },
   "outputs": [
    {
     "ename": "ModuleNotFoundError",
     "evalue": "No module named 'bcd'",
     "output_type": "error",
     "traceback": [
      "\u001b[0;31m---------------------------------------------------------------------------\u001b[0m",
      "\u001b[0;31mModuleNotFoundError\u001b[0m                       Traceback (most recent call last)",
      "Cell \u001b[0;32mIn[1], line 5\u001b[0m\n\u001b[1;32m      3\u001b[0m \u001b[38;5;28;01mimport\u001b[39;00m \u001b[38;5;21;01mcv2\u001b[39;00m\n\u001b[1;32m      4\u001b[0m \u001b[38;5;28;01mimport\u001b[39;00m \u001b[38;5;21;01mmatplotlib\u001b[39;00m\u001b[38;5;21;01m.\u001b[39;00m\u001b[38;5;21;01mpyplot\u001b[39;00m \u001b[38;5;28;01mas\u001b[39;00m \u001b[38;5;21;01mplt\u001b[39;00m\n\u001b[0;32m----> 5\u001b[0m \u001b[38;5;28;01mfrom\u001b[39;00m \u001b[38;5;21;01mbcd\u001b[39;00m\u001b[38;5;21;01m.\u001b[39;00m\u001b[38;5;21;01mutils\u001b[39;00m\u001b[38;5;21;01m.\u001b[39;00m\u001b[38;5;21;01mimage\u001b[39;00m \u001b[38;5;28;01mimport\u001b[39;00m convert_uint8\n\u001b[1;32m      7\u001b[0m img1 \u001b[38;5;241m=\u001b[39m \u001b[38;5;124m\"\u001b[39m\u001b[38;5;124mdata/image/2_exp/train/benign/2a44122c-f831-4220-95a8-408bcafcf2ce.png\u001b[39m\u001b[38;5;124m\"\u001b[39m\n\u001b[1;32m      8\u001b[0m img2 \u001b[38;5;241m=\u001b[39m \u001b[38;5;124m\"\u001b[39m\u001b[38;5;124mdata/image/2_exp/train/benign/3f72309d-7cd9-4e30-ae81-073adb541bcd.png\u001b[39m\u001b[38;5;124m\"\u001b[39m\n",
      "\u001b[0;31mModuleNotFoundError\u001b[0m: No module named 'bcd'"
     ]
    }
   ],
   "source": [
    "import os\n",
    "import numpy as np\n",
    "import cv2\n",
    "import matplotlib.pyplot as plt\n",
    "from bcd.utils.image import convert_uint8\n",
    "\n",
    "img1 = \"data/image/2_exp/train/benign/2a44122c-f831-4220-95a8-408bcafcf2ce.png\"\n",
    "img2 = \"data/image/2_exp/train/benign/3f72309d-7cd9-4e30-ae81-073adb541bcd.png\"\n",
    "img3 = \"data/image/2_exp/train/benign/97556037-b959-4395-830b-380dcac2d58e.png\"\n",
    "img4 = \"data/image/2_exp/train/malignant/6cdf46d8-596b-47ab-a428-c8769733c93c.png\"\n",
    "\n",
    "img1 = cv2.imread(img1, cv2.IMREAD_GRAYSCALE)\n",
    "img2 = cv2.imread(img2, cv2.IMREAD_GRAYSCALE)\n",
    "img3 = cv2.imread(img3, cv2.IMREAD_GRAYSCALE)\n",
    "img4 = cv2.imread(img4, cv2.IMREAD_GRAYSCALE)\n",
    "\n",
    "img1 = convert_uint8(img1)\n",
    "img2 = convert_uint8(img2)\n",
    "img3 = convert_uint8(img3)\n",
    "img4 = convert_uint8(img4)\n",
    "\n",
    "fig, axes = plt.subplots(nrows=1, ncols=4, figsize=(12,6))\n",
    "_ = axes[0].imshow(img1, cmap='gray', aspect='auto')\n",
    "_ = axes[1].imshow(img2, cmap='gray',aspect='auto')\n",
    "_ = axes[2].imshow(img3, cmap='gray',aspect='auto')\n",
    "_ = axes[3].imshow(img4, cmap='gray',aspect='auto')\n",
    "plt.tight_layout()\n",
    "\n",
    "glue(\"artifacts\", fig)"
   ]
  },
  {
   "cell_type": "markdown",
   "id": "b1a6e09c",
   "metadata": {},
   "source": [
    "```{glue:figure} artifacts\n",
    "---\n",
    "align: center\n",
    "name: artifacts_fig\n",
    "---\n",
    "Artifacts in Mammogram Images\n",
    "```"
   ]
  }
 ],
 "metadata": {
  "jupytext": {
   "text_representation": {
    "extension": ".md",
    "format_name": "myst",
    "format_version": 0.13,
    "jupytext_version": "1.15.1"
   }
  },
  "kernelspec": {
   "display_name": "bcd",
   "language": "python",
   "name": "python3"
  },
  "language_info": {
   "codemirror_mode": {
    "name": "ipython",
    "version": 3
   },
   "file_extension": ".py",
   "mimetype": "text/x-python",
   "name": "python",
   "nbconvert_exporter": "python",
   "pygments_lexer": "ipython3",
   "version": "3.10.12"
  },
  "source_map": [
   12,
   18,
   50
  ]
 },
 "nbformat": 4,
 "nbformat_minor": 5
}