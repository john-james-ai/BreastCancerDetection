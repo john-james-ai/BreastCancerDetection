{
 "cells": [
  {
   "cell_type": "markdown",
   "id": "87d776ef",
   "metadata": {},
   "source": [
    "# Segmentation\n",
    "\n",
    "Segmentation is the process by which an image is partitioned into separate regions to detect and extract the region of interest (ROI), breast tissue containing one or more masses or calcifications, from the image. However, ROI detection and segmentation can be affected by pectoral muscles, text, and other artifacts which may cause over-segmentation, and lead to misclassification of breast tissue abnormalities. Below, four randomly selected mammogram images illustrate the artifact removal challenge."
   ]
  },
  {
   "cell_type": "code",
   "execution_count": null,
   "id": "87371343",
   "metadata": {
    "tags": [
     "remove-input",
     "remove-output"
    ]
   },
   "outputs": [],
   "source": [
    "import os\n",
    "if 'jbook' in os.getcwd():\n",
    "    os.chdir(os.path.abspath(os.path.join(\"../../../..\")))\n",
    "\n",
    "import numpy as np\n",
    "import cv2\n",
    "import matplotlib.pyplot as plt\n",
    "from bcd.utils.image import convert_uint8\n",
    "from myst_nb import glue\n",
    "\n",
    "img1 = \"data/image/2_exp/train/benign/2a44122c-f831-4220-95a8-408bcafcf2ce.png\"\n",
    "img2 = \"data/image/2_exp/train/benign/3f72309d-7cd9-4e30-ae81-073adb541bcd.png\"\n",
    "img3 = \"data/image/2_exp/train/benign/97556037-b959-4395-830b-380dcac2d58e.png\"\n",
    "img4 = \"data/image/2_exp/train/malignant/6cdf46d8-596b-47ab-a428-c8769733c93c.png\"\n",
    "\n",
    "img1 = cv2.imread(img1, cv2.IMREAD_GRAYSCALE)\n",
    "img2 = cv2.imread(img2, cv2.IMREAD_GRAYSCALE)\n",
    "img3 = cv2.imread(img3, cv2.IMREAD_GRAYSCALE)\n",
    "img4 = cv2.imread(img4, cv2.IMREAD_GRAYSCALE)\n",
    "\n",
    "img1 = convert_uint8(img1)\n",
    "img2 = convert_uint8(img2)\n",
    "img3 = convert_uint8(img3)\n",
    "img4 = convert_uint8(img4)\n",
    "\n",
    "fig, axes = plt.subplots(nrows=1, ncols=4, figsize=(12,6))\n",
    "_ = axes[0].imshow(img1, cmap='gray', aspect='auto')\n",
    "_ = axes[1].imshow(img2, cmap='gray',aspect='auto')\n",
    "_ = axes[2].imshow(img3, cmap='gray',aspect='auto')\n",
    "_ = axes[3].imshow(img4, cmap='gray',aspect='auto')\n",
    "\n",
    "labels = np.array([\"(a)\", \"(b)\", \"(c)\", \"(d)\"])\n",
    "for i in range(4):\n",
    "    _ = axes[i].set_xlabel(labels[i])\n",
    "    _ = axes[i].set_xticks([])\n",
    "    _ = axes[i].set_yticks([])\n",
    "\n",
    "\n",
    "plt.tight_layout()\n",
    "\n",
    "glue(\"artifacts\", fig)"
   ]
  },
  {
   "cell_type": "markdown",
   "id": "422b0bef",
   "metadata": {},
   "source": [
    "```{glue:figure} artifacts\n",
    "---\n",
    "align: center\n",
    "name: artifacts_fig\n",
    "---\n",
    "Artifacts in Mammogram Images\n",
    "```\n",
    "\n",
    "As shown in {numref}`artifacts_fig`, edges, text, annotations, and other anomalies can have pixel intensity characteristics similar to those of the ROI. Consequently, artifacts and other anomalies must be removed before ROI detection and segmentation can occur.\n",
    "\n",
    "## Segmentation for Artifact Removal\n",
    "\n",
    "This section highlights the classical segmentation methods most commonly used to remove artifacts in biomedical imaging in general, and in mammography specifically. These methods can be categorized as threshold-based segmentation, edge-based segmentation, and region-based segmentation {cite}`michaelBreastCancerSegmentation2021`.\n",
    "\n",
    "- Threshold-Based Segmentation (TBS) partitions regions of an image by applying a mask formed by applying one or more pixel intensity thresholds to the image. Such methods include Otsu thresholding, morphological thresholding, and global and adaptive thresholding.\n",
    "- Edge-Based Segmentation (EBS) uses contours and gradients in the image to detect the edges surrounding one or more regions of interest. Canny Edge Detection, Active Contour, and Sobel segmentation are among the most common EBS methods.\n",
    "- Region-Based Segmentation (RBS) separates the image into regions with similar characteristics. The Watershed algorithm and certain morphological methods are prominent in this category.\n",
    "\n",
    "In the next sections, we’ll review the most prominent Threshold-Based, Edge-Based, and Region-Based methods and evaluate their performance, strengths, and shortcomings."
   ]
  }
 ],
 "metadata": {
  "jupytext": {
   "text_representation": {
    "extension": ".md",
    "format_name": "myst",
    "format_version": 0.13,
    "jupytext_version": "1.15.1"
   }
  },
  "kernelspec": {
   "display_name": "bcd",
   "language": "python",
   "name": "python3"
  },
  "source_map": [
   12,
   17,
   61
  ]
 },
 "nbformat": 4,
 "nbformat_minor": 5
}