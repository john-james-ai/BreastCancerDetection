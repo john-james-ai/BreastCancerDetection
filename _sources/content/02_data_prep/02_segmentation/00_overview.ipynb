{
 "cells": [
  {
   "cell_type": "markdown",
   "id": "67c9e819",
   "metadata": {},
   "source": [
    "# Image Segmentation for Mammography\n",
    "\n",
    "Image segmentation\n",
    "Segmentation is the process by which an image is partitioned into separate regions for the purposes of to detect and extract the region of interest (ROI), breast tissue containing one or more masses or calcifications. However, ROI detection and segmentation can be affected by pectoral muscles, text, and other artifacts which may cause over-segmentation, and lead to misclassification of breast tissue abnormalities. Below, four randomly selected mammogram images from the CBIS-DDSM dataset illustrate the challenge."
   ]
  },
  {
   "cell_type": "code",
   "execution_count": null,
   "id": "ccc65f02",
   "metadata": {
    "tags": [
     "remove-input",
     "remove-output"
    ]
   },
   "outputs": [],
   "source": [
    "import os\n",
    "if 'jbook' in os.getcwd():\n",
    "    os.chdir(os.path.abspath(os.path.join(\"../../../..\")))\n",
    "\n",
    "import numpy as np\n",
    "import cv2\n",
    "import matplotlib.pyplot as plt\n",
    "from bcd.utils.image import convert_uint8\n",
    "from myst_nb import glue\n",
    "\n",
    "img1 = \"data/image/2_exp/train/benign/2a44122c-f831-4220-95a8-408bcafcf2ce.png\"\n",
    "img2 = \"data/image/2_exp/train/benign/3f72309d-7cd9-4e30-ae81-073adb541bcd.png\"\n",
    "img3 = \"data/image/2_exp/train/benign/97556037-b959-4395-830b-380dcac2d58e.png\"\n",
    "img4 = \"data/image/2_exp/train/malignant/6cdf46d8-596b-47ab-a428-c8769733c93c.png\"\n",
    "\n",
    "img1 = cv2.imread(img1, cv2.IMREAD_GRAYSCALE)\n",
    "img2 = cv2.imread(img2, cv2.IMREAD_GRAYSCALE)\n",
    "img3 = cv2.imread(img3, cv2.IMREAD_GRAYSCALE)\n",
    "img4 = cv2.imread(img4, cv2.IMREAD_GRAYSCALE)\n",
    "\n",
    "img1 = convert_uint8(img1)\n",
    "img2 = convert_uint8(img2)\n",
    "img3 = convert_uint8(img3)\n",
    "img4 = convert_uint8(img4)\n",
    "\n",
    "fig, axes = plt.subplots(nrows=1, ncols=4, figsize=(12,6))\n",
    "_ = axes[0].imshow(img1, cmap='gray', aspect='auto')\n",
    "_ = axes[1].imshow(img2, cmap='gray',aspect='auto')\n",
    "_ = axes[2].imshow(img3, cmap='gray',aspect='auto')\n",
    "_ = axes[3].imshow(img4, cmap='gray',aspect='auto')\n",
    "\n",
    "labels = np.array([\"(a)\", \"(b)\", \"(c)\", \"(d)\"])\n",
    "for i in range(4):\n",
    "    _ = axes[i].set_xlabel(labels[i])\n",
    "    _ = axes[i].set_xticks([])\n",
    "    _ = axes[i].set_yticks([])\n",
    "\n",
    "\n",
    "plt.tight_layout()\n",
    "\n",
    "glue(\"artifacts\", fig)"
   ]
  },
  {
   "cell_type": "markdown",
   "id": "1f9c376d",
   "metadata": {},
   "source": [
    "```{glue:figure} artifacts\n",
    "---\n",
    "align: center\n",
    "name: artifacts_fig\n",
    "---\n",
    "Artifacts in Mammogram Images\n",
    "```\n",
    "\n",
    "As shown in {numref}`artifacts_fig`, edges, text, annotations, and other anomalies can have pixel characteristics similar to those of the ROI. Consequently, artifacts and other anomalies must be removed before ROI detection and segmentation can occur.\n",
    "\n",
    "This section highlights the classical segmentation methods most commonly used to remove artifacts in biomedical imaging in general, and in mammography specifically. We'll be focusing on three classifications of image segmentation: threshold-based segmentation, edge-based segmentation, and region-based segmentation.\n",
    "\n",
    "- Threshold-Based Segmentation (TBS) partitions regions of an image by applying a mask formed by applying one or more pixel intensity thresholds to the image. Such methods include Otsu thresholding, morphological thresholding, and global and adaptive thresholding.\n",
    "- Edge-Based Segmentation (EBS) uses contours and gradients in the image to detect the edges surrounding one or more regions of interest. Canny Edge Detection, Active Contour, and Sobel segmentation are among the most common EBS methods.\n",
    "- Region-Based Segmentation (RBS) separates the image into regions with similar characteristics. The Watershed algorithm and certain morphological methods are prominent in this category.\n",
    "\n",
    "We’ll review the most prominent threshold-Based, edge-Based, and region-Based methods, evaluate their performance, and characterize their relative strengths, and shortcomings."
   ]
  }
 ],
 "metadata": {
  "jupytext": {
   "text_representation": {
    "extension": ".md",
    "format_name": "myst",
    "format_version": 0.13,
    "jupytext_version": "1.15.1"
   }
  },
  "kernelspec": {
   "display_name": "bcd",
   "language": "python",
   "name": "python3"
  },
  "source_map": [
   12,
   18,
   62
  ]
 },
 "nbformat": 4,
 "nbformat_minor": 5
}