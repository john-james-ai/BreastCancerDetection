{
 "cells": [
  {
   "cell_type": "markdown",
   "id": "25829bbb",
   "metadata": {},
   "source": [
    "# Threshold-Based Segmentation\n",
    "\n",
    "Our first step in breast segmentation is to separate the foreground of the mammogram containing the breast ROI from the background. From a grayscale mammogram, we can use threshold-based segmentation to create a binary image or mask, that, when applied to the original image, separates the foreground and the ROI from the background.\n",
    "\n",
    "In the binary mask, each pixel has one of two values: ‘0’ representing the background, and ‘1’, corresponding to the image foreground.  Whether the pixel value in the binary mask is assigned a 0 or 1 depends on whether the associated *image* pixel value meets a designated or automatically selected threshold. Generally speaking, image pixel values less than or equal to the threshold are 0 in the corresponding binary mask, and all other pixel values are set to 1.\n",
    "\n",
    "Two commonly used threshold-based segmentation techniques are global threshold segmentation and adaptive local threshold segmentation.\n",
    "\n",
    "## Global Threshold Segmentation\n",
    "\n",
    "Global threshold segmentation applies a single designated or automatically selected threshold value to the entire image.  Specifically, let $I$ be the input image with height $H$ and width $W$ pixels, and that $I_{x,y}$ represents the gray value of row $x$ and column $y$ of $I$, such that $0 \\le x < H, 0 \\le y < W$. Then, $B_{x,y}$ represents the binary value in row $x$ and column $y$ of binary mask $B$, and is given by:\n",
    "\n",
    "```{math}\n",
    ":label: global_threshold\n",
    "B_{x,y} = \\begin{cases}\n",
    "1 & if I_{x,y} > T \\\\\n",
    "0 & if I_{x,y} \\le T \\\\\n",
    "\\end{cases}\n",
    "```\n",
    "\n",
    "where $T$ is a global threshold.\n",
    "\n",
    "To illustrate, let’s create some binary masks for our test images using a manually set threshold $T=10$."
   ]
  },
  {
   "cell_type": "code",
   "execution_count": 1,
   "id": "8bd6b81d",
   "metadata": {
    "tags": [
     "remove-input",
     "remove-output"
    ]
   },
   "outputs": [
    {
     "name": "stderr",
     "output_type": "stream",
     "text": [
      "/home/john/projects/bcd/bcd/preprocess/image/analysis/threshold.py:114: SyntaxWarning: list indices must be integers or slices, not tuple; perhaps you missed a comma?\n",
      "  [\"a\", \"b\", \"c\", \"d\"][\"e\", \"f\", \"g\", \"h\"], [\"i\", \"j\", \"k\", \"l\"]\n"
     ]
    },
    {
     "name": "stderr",
     "output_type": "stream",
     "text": [
      "/home/john/projects/bcd/bcd/preprocess/image/analysis/threshold.py:114: SyntaxWarning: list indices must be integers or slices, not tuple; perhaps you missed a comma?\n",
      "  [\"a\", \"b\", \"c\", \"d\"][\"e\", \"f\", \"g\", \"h\"], [\"i\", \"j\", \"k\", \"l\"]\n",
      "/home/john/projects/bcd/bcd/preprocess/image/analysis/threshold.py:114: SyntaxWarning: list indices must be integers or slices, not tuple; perhaps you missed a comma?\n",
      "  [\"a\", \"b\", \"c\", \"d\"][\"e\", \"f\", \"g\", \"h\"], [\"i\", \"j\", \"k\", \"l\"]\n",
      "/home/john/projects/bcd/bcd/preprocess/image/analysis/threshold.py:114: SyntaxWarning: list indices must be integers or slices, not tuple; perhaps you missed a comma?\n",
      "  [\"a\", \"b\", \"c\", \"d\"][\"e\", \"f\", \"g\", \"h\"], [\"i\", \"j\", \"k\", \"l\"]\n",
      "/home/john/projects/bcd/bcd/preprocess/image/analysis/threshold.py:114: SyntaxWarning: list indices must be integers or slices, not tuple; perhaps you missed a comma?\n",
      "  [\"a\", \"b\", \"c\", \"d\"][\"e\", \"f\", \"g\", \"h\"], [\"i\", \"j\", \"k\", \"l\"]\n"
     ]
    },
    {
     "ename": "TypeError",
     "evalue": "list indices must be integers or slices, not tuple",
     "output_type": "error",
     "traceback": [
      "\u001b[0;31m---------------------------------------------------------------------------\u001b[0m",
      "\u001b[0;31mTypeError\u001b[0m                                 Traceback (most recent call last)",
      "Cell \u001b[0;32mIn[1], line 28\u001b[0m\n\u001b[1;32m     25\u001b[0m images \u001b[38;5;241m=\u001b[39m (img1,img2,img3,img4)\n\u001b[1;32m     27\u001b[0m analysis \u001b[38;5;241m=\u001b[39m ThresholdManual(threshold\u001b[38;5;241m=\u001b[39m\u001b[38;5;241m10\u001b[39m)\n\u001b[0;32m---> 28\u001b[0m fig \u001b[38;5;241m=\u001b[39m \u001b[43manalysis\u001b[49m\u001b[38;5;241;43m.\u001b[39;49m\u001b[43manalyze\u001b[49m\u001b[43m(\u001b[49m\u001b[43mimages\u001b[49m\u001b[38;5;241;43m=\u001b[39;49m\u001b[43mimages\u001b[49m\u001b[43m)\u001b[49m\n\u001b[1;32m     30\u001b[0m glue(\u001b[38;5;124m\"\u001b[39m\u001b[38;5;124mthreshold_manual_10\u001b[39m\u001b[38;5;124m\"\u001b[39m, fig)\n",
      "File \u001b[0;32m~/projects/bcd/bcd/preprocess/image/analysis/threshold.py:86\u001b[0m, in \u001b[0;36mThresholdAnalyzer.analyze\u001b[0;34m(self, images)\u001b[0m\n\u001b[1;32m     83\u001b[0m \u001b[38;5;28mself\u001b[39m\u001b[38;5;241m.\u001b[39m_images \u001b[38;5;241m=\u001b[39m images\n\u001b[1;32m     85\u001b[0m \u001b[38;5;28mself\u001b[39m\u001b[38;5;241m.\u001b[39m_compare_thresholds(images\u001b[38;5;241m=\u001b[39mimages)\n\u001b[0;32m---> 86\u001b[0m fig \u001b[38;5;241m=\u001b[39m \u001b[38;5;28;43mself\u001b[39;49m\u001b[38;5;241;43m.\u001b[39;49m\u001b[43m_build_analysis_plot\u001b[49m\u001b[43m(\u001b[49m\u001b[43m)\u001b[49m\n\u001b[1;32m     87\u001b[0m \u001b[38;5;28;01mreturn\u001b[39;00m fig\n",
      "File \u001b[0;32m~/projects/bcd/bcd/preprocess/image/analysis/threshold.py:114\u001b[0m, in \u001b[0;36mThresholdAnalyzer._build_analysis_plot\u001b[0;34m(self)\u001b[0m\n\u001b[1;32m    110\u001b[0m height \u001b[38;5;241m=\u001b[39m nrows \u001b[38;5;241m*\u001b[39m \u001b[38;5;28mself\u001b[39m\u001b[38;5;241m.\u001b[39m__ROWHEIGHT\n\u001b[1;32m    112\u001b[0m fig, axes \u001b[38;5;241m=\u001b[39m plt\u001b[38;5;241m.\u001b[39msubplots(nrows\u001b[38;5;241m=\u001b[39mnrows, ncols\u001b[38;5;241m=\u001b[39mncols, figsize\u001b[38;5;241m=\u001b[39m(\u001b[38;5;241m12\u001b[39m, height))\n\u001b[1;32m    113\u001b[0m labels \u001b[38;5;241m=\u001b[39m np\u001b[38;5;241m.\u001b[39marray(\n\u001b[0;32m--> 114\u001b[0m     \u001b[43m[\u001b[49m\u001b[38;5;124;43m\"\u001b[39;49m\u001b[38;5;124;43ma\u001b[39;49m\u001b[38;5;124;43m\"\u001b[39;49m\u001b[43m,\u001b[49m\u001b[43m \u001b[49m\u001b[38;5;124;43m\"\u001b[39;49m\u001b[38;5;124;43mb\u001b[39;49m\u001b[38;5;124;43m\"\u001b[39;49m\u001b[43m,\u001b[49m\u001b[43m \u001b[49m\u001b[38;5;124;43m\"\u001b[39;49m\u001b[38;5;124;43mc\u001b[39;49m\u001b[38;5;124;43m\"\u001b[39;49m\u001b[43m,\u001b[49m\u001b[43m \u001b[49m\u001b[38;5;124;43m\"\u001b[39;49m\u001b[38;5;124;43md\u001b[39;49m\u001b[38;5;124;43m\"\u001b[39;49m\u001b[43m]\u001b[49m\u001b[43m[\u001b[49m\u001b[38;5;124;43m\"\u001b[39;49m\u001b[38;5;124;43me\u001b[39;49m\u001b[38;5;124;43m\"\u001b[39;49m\u001b[43m,\u001b[49m\u001b[43m \u001b[49m\u001b[38;5;124;43m\"\u001b[39;49m\u001b[38;5;124;43mf\u001b[39;49m\u001b[38;5;124;43m\"\u001b[39;49m\u001b[43m,\u001b[49m\u001b[43m \u001b[49m\u001b[38;5;124;43m\"\u001b[39;49m\u001b[38;5;124;43mg\u001b[39;49m\u001b[38;5;124;43m\"\u001b[39;49m\u001b[43m,\u001b[49m\u001b[43m \u001b[49m\u001b[38;5;124;43m\"\u001b[39;49m\u001b[38;5;124;43mh\u001b[39;49m\u001b[38;5;124;43m\"\u001b[39;49m\u001b[43m]\u001b[49m, [\u001b[38;5;124m\"\u001b[39m\u001b[38;5;124mi\u001b[39m\u001b[38;5;124m\"\u001b[39m, \u001b[38;5;124m\"\u001b[39m\u001b[38;5;124mj\u001b[39m\u001b[38;5;124m\"\u001b[39m, \u001b[38;5;124m\"\u001b[39m\u001b[38;5;124mk\u001b[39m\u001b[38;5;124m\"\u001b[39m, \u001b[38;5;124m\"\u001b[39m\u001b[38;5;124ml\u001b[39m\u001b[38;5;124m\"\u001b[39m]\n\u001b[1;32m    115\u001b[0m )\n\u001b[1;32m    117\u001b[0m \u001b[38;5;66;03m# Plot images\u001b[39;00m\n\u001b[1;32m    118\u001b[0m \u001b[38;5;28;01mfor\u001b[39;00m i, img \u001b[38;5;129;01min\u001b[39;00m \u001b[38;5;28menumerate\u001b[39m(\u001b[38;5;28mself\u001b[39m\u001b[38;5;241m.\u001b[39m_images):\n",
      "\u001b[0;31mTypeError\u001b[0m: list indices must be integers or slices, not tuple"
     ]
    },
    {
     "data": {
      "image/png": "[encoded data removed]",
      "text/plain": [
       "<Figure size 1200x900 with 12 Axes>"
      ]
     },
     "metadata": {},
     "output_type": "display_data"
    }
   ],
   "source": [
    "import os\n",
    "import os\n",
    "if 'jbook' in os.getcwd():\n",
    "    os.chdir(os.path.abspath(os.path.join(\"../../../..\")))\n",
    "\n",
    "import numpy as np\n",
    "import cv2\n",
    "import matplotlib.pyplot as plt\n",
    "from myst_nb import glue\n",
    "\n",
    "from bcd.preprocess.image.analysis.threshold import (\n",
    "    ThresholdLi, ThresholdISOData, ThresholdTriangle, ThresholdOTSU, ThresholdAdaptiveMean, ThresholdAdaptiveGaussian, TryAllThresholds, ThresholdManual\n",
    ")\n",
    "\n",
    "img1 = \"data/image/1_dev/converted/train/benign/347c2455-cb62-40f8-a173-9e4eb9a21902.png\"\n",
    "img2 = \"data/image/1_dev/converted/train/benign/4ed91643-1e06-4b2c-8efb-bc60dd9e0313.png\"\n",
    "img3 = \"data/image/1_dev/converted/train/malignant/7dcc12fd-88f0-4048-a6ab-5dd0bd836f08.png\"\n",
    "img4 = \"data/image/1_dev/converted/train/malignant/596ef5db-9610-4f13-9c1a-4c411b1d957c.png\"\n",
    "\n",
    "img1 = cv2.imread(img1, cv2.IMREAD_GRAYSCALE)\n",
    "img2 = cv2.imread(img2, cv2.IMREAD_GRAYSCALE)\n",
    "img3 = cv2.imread(img3, cv2.IMREAD_GRAYSCALE)\n",
    "img4 = cv2.imread(img4, cv2.IMREAD_GRAYSCALE)\n",
    "\n",
    "images = (img1,img2,img3,img4)\n",
    "\n",
    "analysis = ThresholdManual(threshold=10)\n",
    "fig = analysis.analyze(images=images)\n",
    "\n",
    "glue(\"threshold_manual_10\", fig)"
   ]
  },
  {
   "cell_type": "markdown",
   "id": "bad0b7ce",
   "metadata": {},
   "source": [
    "```{glue:figure} threshold_manual_10\n",
    "---\n",
    "align: center\n",
    "name: threshold_manual_10_fig\n",
    "---\n",
    "Manual Threshold-Based Segmentation with $T=10$\n",
    "```\n",
    "\n",
    "In {numref}`threshold_manual_10_fig`, we have our four randomly selected images, the associated binary masks, and the output images. At threshold $T=10$, we have a clear separation between foreground and background; however, we have little to no artifact suppression.\n",
    "\n",
    "Let’s examine the effect of increasing the threshold to $T=100$."
   ]
  },
  {
   "cell_type": "code",
   "execution_count": null,
   "id": "387ac64d",
   "metadata": {
    "tags": [
     "remove-input",
     "remove-output"
    ]
   },
   "outputs": [],
   "source": [
    "analysis = ThresholdManual(threshold=100)\n",
    "fig = analysis.analyze(images=images)\n",
    "\n",
    "glue(\"threshold_manual_100\", fig)"
   ]
  },
  {
   "cell_type": "markdown",
   "id": "c1abe04a",
   "metadata": {},
   "source": [
    "```{glue:figure} threshold_manual_100\n",
    "---\n",
    "align: center\n",
    "name: threshold_manual_100_fig\n",
    "---\n",
    "Manual Threshold-Based Segmentation with $T=100$\n",
    "```\n",
    "\n",
    "{numref}`threshold_manual_10_fig` and {numref}`threshold_manual_100_fig` illustrate the first key takeaway of this section.\n",
    "\n",
    "`````{admonition} In threshold segmentation, the choice of threshold is crucial!\n",
    ":class: tip\n",
    "Different thresholds may yield dramatically different segmentation results.\n",
    "`````\n",
    "\n",
    "A threshold that is too low tends to produce over-segmentation, failing to separate artifacts from regions of interest, and combining distinct objects into single structures.  A high threshold can make objects smaller, as structures of interest are designated to the background. So, what are the principled ways by which an appropriate threshold is selected?\n",
    "\n",
    "This leads to our second key takeaway.\n",
    "\n",
    "`````{admonition} Choosing a threshold manually should be avoided, when possible!\n",
    ":class: tip\n",
    "Manual thresholding is inefficient, irreproducible, and a huge source of user bias\n",
    "`````\n",
    "\n",
    "...rant inbound in 3,…2,…\n",
    "\n",
    "Selecting thresholds manually is tedious, time-consuming, and a huge source of user bias. It is based upon human perception of what information should be extracted from the image, leading to high intra- and inter-user variability; further compounded by the inherent variability in digital mammography. One fixed threshold will not extract similar features from different images. Manual thresholding has little to no reproducibility and it is incompatible with automatic, image-driven thresholding that is based on image-intrinsic properties and not on subjective real-time user decisions.\n",
    "\n",
    "## Automatic Thresholding\n",
    "\n",
    "Image processing literature is replete with automatic thresholding algorithms that are based on a wide range of image properties. The benefits of automatic thresholding are:\n",
    "\n",
    "- No user bias is introduced during thresholding,\n",
    "- Thresholds are objectively determined and image-specific,\n",
    "- They are reproducible, in that an image will always have the same binarization result,\n",
    "- They are fast and computationally efficient, lending themselves to image preprocessing automation."
   ]
  }
 ],
 "metadata": {
  "jupytext": {
   "text_representation": {
    "extension": ".md",
    "format_name": "myst",
    "format_version": 0.13,
    "jupytext_version": "1.15.1"
   }
  },
  "kernelspec": {
   "display_name": "bcd",
   "language": "python",
   "name": "python3"
  },
  "language_info": {
   "codemirror_mode": {
    "name": "ipython",
    "version": 3
   },
   "file_extension": ".py",
   "mimetype": "text/x-python",
   "name": "python",
   "nbconvert_exporter": "python",
   "pygments_lexer": "ipython3",
   "version": "3.10.12"
  },
  "source_map": [
   12,
   37,
   70,
   84,
   91
  ]
 },
 "nbformat": 4,
 "nbformat_minor": 5
}