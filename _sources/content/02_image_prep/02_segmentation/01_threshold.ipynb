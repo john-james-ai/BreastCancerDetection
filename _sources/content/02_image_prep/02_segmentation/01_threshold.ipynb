{
 "cells": [
  {
   "cell_type": "markdown",
   "id": "f6aef589",
   "metadata": {},
   "source": [
    "# Threshold-Based Segmentation\n",
    "\n",
    "Our first step in the segmentation process is to separate the foreground of the mammogram containing the breast region of interest (ROI) from the background.  The result of this *binarization* process is a binary image or mask that can be used to isolate ROIs, label structures within the image, detect edges and contours, classify abnormalities, and perform other tasks across the image analysis workflow.\n",
    "\n",
    "This *binarization* of the image can be accomplished using a range of statistical approaches and sophisticated machine-learning classification methods that group pixels of an image into different classes. However, the simplest approach would be to set a pixel value cut-off point, or *threshold*, that separates groups of pixel intensities from each other. From a grayscale mammogram, a binary image or mask is created whereby all pixel values less than or equal to the threshold are set to 0 and all other pixel values are set to 1  [^binary].\n",
    "\n",
    "[^binary]: WLOG some software packages equivalently set pixel values above the threshold to 255, instead of 1. Converting between these representations can be achieved via normalization of the pixel values.\n",
    "\n",
    "Image binarization using pixel intensity thresholds is suitable in digital mammography where pixel intensity is the parameter that most directly relates to the spatial characteristics of the structures within a mammogram. Hence, binarization using threshold-based segmentation is often a critical first step in many biomedical image analysis workflows.\n",
    "\n",
    "The taxonomy of threshold-based segmentation techniques can be roughly characterized as global threshold segmentation and adaptive local threshold segmentation.\n",
    "\n",
    "## Global Threshold Segmentation\n",
    "\n",
    "Global threshold segmentation applies a single designated or automatically selected threshold value to the entire image.  Specifically, let $I$ be the input image with height $H$ and width $W$ pixels, and that $I_{x,y}$ represents the gray value of row $x$ and column $y$ of $I$, such that $0 \\le x < H, 0 \\le y < W$. Then, $B_{x,y}$ represents the binary value in row $x$ and column $y$ of binary mask $B$, and is given by:\n",
    "\n",
    "```{math}\n",
    ":label: global_threshold\n",
    "B_{x,y} = \\begin{cases}\n",
    "1 & if I_{x,y} > T \\\\\n",
    "0 & if I_{x,y} \\le T \\\\\n",
    "\\end{cases}\n",
    "```\n",
    "\n",
    "where $T$ is a global threshold.\n",
    "\n",
    "To illustrate, let’s create some binary masks for our test images using a manually set threshold $T=10$."
   ]
  },
  {
   "cell_type": "code",
   "execution_count": null,
   "id": "6d0a74dd",
   "metadata": {
    "tags": [
     "remove-input",
     "remove-output"
    ]
   },
   "outputs": [],
   "source": [
    "import os\n",
    "import os\n",
    "if 'jbook' in os.getcwd():\n",
    "    os.chdir(os.path.abspath(os.path.join(\"../../../..\")))\n",
    "\n",
    "import numpy as np\n",
    "import cv2\n",
    "import matplotlib.pyplot as plt\n",
    "from myst_nb import glue\n",
    "\n",
    "from bcd.preprocess.image.analysis.threshold import (\n",
    "    ThresholdLi, ThresholdISOData, ThresholdTriangle, ThresholdOTSU, ThresholdAdaptiveMean, ThresholdAdaptiveGaussian, TryAllThresholds, ThresholdManual\n",
    ")\n",
    "\n",
    "img1 = \"data/image/1_dev/converted/train/benign/347c2455-cb62-40f8-a173-9e4eb9a21902.png\"\n",
    "img2 = \"data/image/1_dev/converted/train/benign/4ed91643-1e06-4b2c-8efb-bc60dd9e0313.png\"\n",
    "img3 = \"data/image/1_dev/converted/train/malignant/7dcc12fd-88f0-4048-a6ab-5dd0bd836f08.png\"\n",
    "img4 = \"data/image/1_dev/converted/train/malignant/596ef5db-9610-4f13-9c1a-4c411b1d957c.png\"\n",
    "\n",
    "img1 = cv2.imread(img1, cv2.IMREAD_GRAYSCALE)\n",
    "img2 = cv2.imread(img2, cv2.IMREAD_GRAYSCALE)\n",
    "img3 = cv2.imread(img3, cv2.IMREAD_GRAYSCALE)\n",
    "img4 = cv2.imread(img4, cv2.IMREAD_GRAYSCALE)\n",
    "\n",
    "images = (img1,img2,img3,img4)\n",
    "\n",
    "analysis = ThresholdManual(threshold=10)\n",
    "fig = analysis.analyze(images=images)\n",
    "\n",
    "glue(\"threshold_manual_10\", fig)"
   ]
  },
  {
   "cell_type": "markdown",
   "id": "20b19084",
   "metadata": {},
   "source": [
    "```{glue:figure} threshold_manual_10\n",
    "---\n",
    "align: center\n",
    "name: threshold_manual_10_fig\n",
    "---\n",
    "Manual Threshold-Based Segmentation with $T=10$\n",
    "```\n",
    "\n",
    "In {numref}`threshold_manual_10_fig`, we have our four randomly selected images, the associated binary masks, and the output images. At threshold $T=10$, we have a clear separation between foreground and background; however, we have little to no artifact suppression.\n",
    "\n",
    "Let’s examine the effect of increasing the threshold to $T=100$."
   ]
  },
  {
   "cell_type": "code",
   "execution_count": null,
   "id": "382546c3",
   "metadata": {
    "tags": [
     "remove-input",
     "remove-output"
    ]
   },
   "outputs": [],
   "source": [
    "analysis = ThresholdManual(threshold=100)\n",
    "fig = analysis.analyze(images=images)\n",
    "\n",
    "glue(\"threshold_manual_100\", fig)"
   ]
  },
  {
   "cell_type": "markdown",
   "id": "c6122d20",
   "metadata": {},
   "source": [
    "```{glue:figure} threshold_manual_100\n",
    "---\n",
    "align: center\n",
    "name: threshold_manual_100_fig\n",
    "---\n",
    "Manual Threshold-Based Segmentation with $T=100$\n",
    "```\n",
    "\n",
    "{numref}`threshold_manual_10_fig` and {numref}`threshold_manual_100_fig` illustrate the first key takeaway of this section.\n",
    "\n",
    "`````{admonition} In threshold segmentation, the choice of threshold is crucial!\n",
    ":class: tip\n",
    "Different thresholds may yield dramatically different segmentation results.\n",
    "`````\n",
    "\n",
    "A threshold that is too low tends to produce over-segmentation, combining distinct objects into single structures and failing to separate artifacts from regions of interest as shown in {numref}`threshold_manual_10_fig`  (i)-(l). On the other hand, a high threshold can make objects smaller, resulting in loss of information as structures of interest are designated to the background as evidenced in {numref}`threshold_manual_100_fig`  (i)-(l).\n",
    "\n",
    "So, what are the principled ways by which an appropriate threshold is selected? This leads to our second key takeaway.\n",
    "\n",
    "`````{admonition} Choosing a threshold manually should be avoided, when possible!\n",
    ":class: tip\n",
    "Manual thresholding is inefficient, irreproducible, and a huge source of user bias.\n",
    "`````\n",
    "\n",
    "...rant inbound in 3,…2,…\n",
    "\n",
    "Selecting thresholds manually is tedious, time-consuming, and a huge source of user bias. It is based upon human perception of what information should be extracted from the image, leading to high intra- and inter-user variability; further compounded by the inherent variability in digital mammography. One fixed threshold will not extract similar features from different images. Manual thresholding has little to no reproducibility and it is incompatible with automatic, image-driven thresholding that is based on image-intrinsic properties and not on subjective real-time user decisions.\n",
    "\n",
    "So, what is the alternative?\n",
    "\n",
    "## Automatic Thresholding\n",
    "\n",
    "Image processing literature is replete with automatic thresholding algorithms that are based on a vast array of image-intrinsic properties. What are the benefits of automatic thresholding?\n",
    "\n",
    "- No user bias is introduced during *thresholding*,\n",
    "- Thresholds are objectively determined and image-specific,\n",
    "- They are reproducible, in that an algorithm will always produce the same binarization result for a given image,\n",
    "- They are fast, computationally efficient, and easily automated in image analysis and preprocessing workflows.\n",
    "\n",
    "Still, automatic thresholding algorithms are not a universal, purely objective, and bias-free remedy to the threshold segmentation challenges in biomedical imaging and other applications.\n",
    "\n",
    "### The Universally Superior Automatic Thresholding Algorithm\n",
    "\n",
    "Selecting an automatic thresholding algorithm from among the space of candidate algorithms can be described in terms of Wolpert and Macreary’s {eq}`lunch`.\n",
    "\n",
    "```{math}\n",
    ":label: lunch\n",
    "\\sum_f P(d^y_m|f,m,a_1) = \\sum_f P(d^y_m|f,m,a_2),\n",
    "```\n",
    "\n",
    "{eq}`lunch` was derived within the context of machine learning algorithms {cite}`wolpertNoFreeLunch1997a`, and classes of objective functions, and states that for any pair of algorithms, the probability distribution of results over the domain of objective functions is independent of the algorithm and identically distributed. In other words, “any two algorithms are equivalent when their performance is averaged across all possible problems.”{cite}`wolpertCoevolutionaryFreeLunches2005`\n",
    "\n",
    "The so-called “No Free Lunch Theorem for Optimization #1” (NFL) {cite}`wolpertNoFreeLunch1997a` explicitly demonstrates, under certain conditions [^nfl], that no algorithm performs well on all classes of problems within the domain. For instance, an automatic thresholding algorithm that performs well on average for mammograms with bimodal pixel value distributions, necessarily does worse on average over the remaining classes and modalities – a problem widely documented in literature surveys {cite}`al-bayatiMammogramImagesThresholding2013` {cite}`sankurSurveyImageThresholding2004`  {cite}`niuResearchAnalysisThreshold2019`.\n",
    "\n",
    "[^nfl]: NLF holds if and only if the distribution on objective functions is invariant under the permutation of the space of candidate algorithms{cite}`Streeter2003TwoBC`  {cite}`englishNoMoreLunch2004`. Although this condition is theoretically possible, some have argued that it doesn’t necessarily hold in practice.\n",
    "\n",
    "So, no universally superior automatic threshold algorithm has been invented that will perform well for all images, modalities, conditions, and needs.\n",
    "\n",
    "\n",
    "### Automatic Thresholding Algorithm Selection is Biased\n",
    "\n",
    "Wait. Didn’t we just cast automatic thresholding as based upon image-intrinsic properties and free of user bias during thresholding? Yes, but this doesn’t mean that *algorithm selection* is rigidly objective and bias-free.\n",
    "Just as the choice of a manual threshold in [0,256] is based upon user experience, human perception, problem characteristics, and prior expectations concerning the information to be extracted from an image, so too is the choice of an algorithm from the increasing candidate space of thresholding algorithms.\n",
    "On one hand, this is a reasonable basis upon which an algorithm can be selected. Indeed, the NFL theorem further establishes that the probability distribution of results $P(f)$ is uniform , ,that the probability distribution of performance over a class of that selection of an algorithm is only justified that without knowledge of problem-specific characteristics problem specific knowledge"
   ]
  }
 ],
 "metadata": {
  "jupytext": {
   "text_representation": {
    "extension": ".md",
    "format_name": "myst",
    "format_version": 0.13,
    "jupytext_version": "1.15.1"
   }
  },
  "kernelspec": {
   "display_name": "bcd",
   "language": "python",
   "name": "python3"
  },
  "source_map": [
   12,
   41,
   74,
   88,
   95
  ]
 },
 "nbformat": 4,
 "nbformat_minor": 5
}