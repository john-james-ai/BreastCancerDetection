{
 "cells": [
  {
   "cell_type": "markdown",
   "id": "fb691e94",
   "metadata": {},
   "source": [
    "# Threshold-Based Segmentation\n",
    "\n",
    "Our first step in breast segmentation is to separate the foreground of the mammogram containing the breast ROI from the background. From a grayscale mammogram, we can use threshold-based segmentation to create a binary image or mask, that, when applied to the original image, separates the foreground and the ROI from the background.\n",
    "\n",
    "In the binary mask, each pixel has one of two values: ‘0’ representing the background, and ‘1’, corresponding to the image foreground.  Whether the pixel value in the binary mask is assigned a 0 or 1 depends on whether the associated *image* pixel value meets a designated or automatically selected threshold. Generally speaking, image pixel values less than or equal to the threshold are 0 in the corresponding binary mask, and all other pixel values are set to 1.\n",
    "\n",
    "Two commonly used threshold-based segmentation techniques are global threshold segmentation and adaptive local threshold segmentation.\n",
    "\n",
    "## Global Threshold Segmentation\n",
    "\n",
    "Global threshold segmentation applies a single designated or automatically selected threshold value to the entire image.  Specifically, let $I$ be the input image with height $H$ and width $W$ pixels, and that $I_{x,y}$ represents the gray value of row $x$ and column $y$ of $I$, such that $0 \\le x < H, 0 \\le y < W$. Then, $B_{x,y}$ represents the binary value in row $x$ and column $y$ of binary mask $B$, and is given by:\n",
    "\n",
    "```{math}\n",
    ":label: global_threshold\n",
    "B_{x,y} = \\begin{cases}\n",
    "1 & if I_{x,y} > T \\\\\n",
    "0 & if I_{x,y} \\le T \\\\\n",
    "\\end{cases}\n",
    "```\n",
    "\n",
    "where $T$ is a global threshold.\n",
    "\n",
    "To illustrate, let’s create some binary masks for our test images using a manually set threshold $T=10$."
   ]
  },
  {
   "cell_type": "code",
   "execution_count": 1,
   "id": "8dc63b04",
   "metadata": {
    "tags": [
     "remove-input",
     "remove-output"
    ]
   },
   "outputs": [
    {
     "ename": "ImportError",
     "evalue": "cannot import name 'ThresholdMean' from 'bcd.preprocess.image.analysis.threshold' (/home/john/projects/bcd/bcd/preprocess/image/analysis/threshold.py)",
     "output_type": "error",
     "traceback": [
      "\u001b[0;31m---------------------------------------------------------------------------\u001b[0m",
      "\u001b[0;31mImportError\u001b[0m                               Traceback (most recent call last)",
      "Cell \u001b[0;32mIn[1], line 11\u001b[0m\n\u001b[1;32m      8\u001b[0m \u001b[38;5;28;01mimport\u001b[39;00m \u001b[38;5;21;01mmatplotlib\u001b[39;00m\u001b[38;5;21;01m.\u001b[39;00m\u001b[38;5;21;01mpyplot\u001b[39;00m \u001b[38;5;28;01mas\u001b[39;00m \u001b[38;5;21;01mplt\u001b[39;00m\n\u001b[1;32m      9\u001b[0m \u001b[38;5;28;01mfrom\u001b[39;00m \u001b[38;5;21;01mmyst_nb\u001b[39;00m \u001b[38;5;28;01mimport\u001b[39;00m glue\n\u001b[0;32m---> 11\u001b[0m \u001b[38;5;28;01mfrom\u001b[39;00m \u001b[38;5;21;01mbcd\u001b[39;00m\u001b[38;5;21;01m.\u001b[39;00m\u001b[38;5;21;01mpreprocess\u001b[39;00m\u001b[38;5;21;01m.\u001b[39;00m\u001b[38;5;21;01mimage\u001b[39;00m\u001b[38;5;21;01m.\u001b[39;00m\u001b[38;5;21;01manalysis\u001b[39;00m\u001b[38;5;21;01m.\u001b[39;00m\u001b[38;5;21;01mthreshold\u001b[39;00m \u001b[38;5;28;01mimport\u001b[39;00m ThresholdMean, ThresholdLi, ThresholdYen, ThresholdMinimum, ThresholdISOData, ThresholdTriangle, ThresholdOTSU, ThresholdAdaptiveMean, TryAllThresholds, ThresholdManual\n\u001b[1;32m     13\u001b[0m img1 \u001b[38;5;241m=\u001b[39m \u001b[38;5;124m\"\u001b[39m\u001b[38;5;124mdata/image/1_dev/converted/train/benign/347c2455-cb62-40f8-a173-9e4eb9a21902.png\u001b[39m\u001b[38;5;124m\"\u001b[39m\n\u001b[1;32m     14\u001b[0m img2 \u001b[38;5;241m=\u001b[39m \u001b[38;5;124m\"\u001b[39m\u001b[38;5;124mdata/image/1_dev/converted/train/benign/4ed91643-1e06-4b2c-8efb-bc60dd9e0313.png\u001b[39m\u001b[38;5;124m\"\u001b[39m\n",
      "\u001b[0;31mImportError\u001b[0m: cannot import name 'ThresholdMean' from 'bcd.preprocess.image.analysis.threshold' (/home/john/projects/bcd/bcd/preprocess/image/analysis/threshold.py)"
     ]
    }
   ],
   "source": [
    "import os\n",
    "import os\n",
    "if 'jbook' in os.getcwd():\n",
    "    os.chdir(os.path.abspath(os.path.join(\"../../../..\")))\n",
    "\n",
    "import numpy as np\n",
    "import cv2\n",
    "import matplotlib.pyplot as plt\n",
    "from myst_nb import glue\n",
    "\n",
    "from bcd.preprocess.image.analysis.threshold import ThresholdMean, ThresholdLi, ThresholdYen, ThresholdMinimum, ThresholdISOData, ThresholdTriangle, ThresholdOTSU, ThresholdAdaptiveMean, TryAllThresholds, ThresholdManual\n",
    "\n",
    "img1 = \"data/image/1_dev/converted/train/benign/347c2455-cb62-40f8-a173-9e4eb9a21902.png\"\n",
    "img2 = \"data/image/1_dev/converted/train/benign/4ed91643-1e06-4b2c-8efb-bc60dd9e0313.png\"\n",
    "img3 = \"data/image/1_dev/converted/train/malignant/7dcc12fd-88f0-4048-a6ab-5dd0bd836f08.png\"\n",
    "img4 = \"data/image/1_dev/converted/train/malignant/596ef5db-9610-4f13-9c1a-4c411b1d957c.png\"\n",
    "\n",
    "img1 = cv2.imread(img1, cv2.IMREAD_GRAYSCALE)\n",
    "img2 = cv2.imread(img2, cv2.IMREAD_GRAYSCALE)\n",
    "img3 = cv2.imread(img3, cv2.IMREAD_GRAYSCALE)\n",
    "img4 = cv2.imread(img4, cv2.IMREAD_GRAYSCALE)\n",
    "\n",
    "images = (img1,img2,img3,img4)\n",
    "\n",
    "analysis = ThresholdManual(threshold=10)\n",
    "fig = analysis.analyze(images=images)\n",
    "\n",
    "glue(\"threshold_manual_10\", fig)"
   ]
  },
  {
   "cell_type": "markdown",
   "id": "3f624acc",
   "metadata": {},
   "source": [
    "```{glue:figure} threshold_manual_10\n",
    "---\n",
    "align: center\n",
    "name: threshold_manual_10_fig\n",
    "---\n",
    "Manual Threshold-Based Segmentation with $T=10$\n",
    "```\n",
    "\n",
    "In {numref}`threshold_manual_10_fig`, we have our four randomly selected images, the associated binary masks, and the output images. At threshold $T=10$, we have a clear separation between foreground and background; however, we have little to no artifact suppression.\n",
    "\n",
    "Let’s examine the effect of increasing the threshold to $T=100$."
   ]
  },
  {
   "cell_type": "code",
   "execution_count": null,
   "id": "16893de1",
   "metadata": {
    "tags": [
     "remove-input",
     "remove-output"
    ]
   },
   "outputs": [],
   "source": [
    "analysis = ThresholdManual(threshold=100)\n",
    "fig = analysis.analyze(images=images)\n",
    "\n",
    "glue(\"threshold_manual_100\", fig)"
   ]
  },
  {
   "cell_type": "markdown",
   "id": "a270f9de",
   "metadata": {},
   "source": [
    "```{glue:figure} threshold_manual_100\n",
    "---\n",
    "align: center\n",
    "name: threshold_manual_100_fig\n",
    "---\n",
    "Manual Threshold-Based Segmentation with $T=100$\n",
    "```\n",
    "\n",
    "{numref}`threshold_manual_10_fig` and {numref}`threshold_manual_100_fig` illustrate the first key takeaway of this section.\n",
    "\n",
    "`````{admonition} In threshold segmentation, the choice of threshold is crucial!\n",
    ":class: tip\n",
    "Different thresholds may yield dramatically different segmentation results.\n",
    "`````\n",
    "\n",
    "A threshold that is too low tends to produce over-segmentation, combining artifacts and regions of interest into single structures. A high threshold can make objects smaller, as structures of interest are designated to the background. So, what are the principled ways by which an appropriate threshold is selected?\n",
    "\n",
    "This leads to our second key takeaway.\n",
    "\n",
    "`````{admonition} Choosing a threshold manually should be avoided, when possible!\n",
    ":class: tip\n",
    "Manual thresholding is inefficient, irreproducible, and a huge source of user bias\n",
    "`````\n",
    "\n",
    "...rant inbound in 3,…2,…\n",
    "\n",
    "Selecting thresholds manually is tedious, time-consuming, and a huge source of user bias. It is based upon human perception of what information should be extracted from the image, leading to high intra- and inter-user variability; further compounded by the inherent variability in digital mammography. One fixed threshold will not extract similar features from different images. Manual thresholding has little to no reproducibility and it is incompatible with automatic, image-driven thresholding that is based on image-intrinsic properties and not on subjective real-time user decisions.\n",
    "\n",
    "## Automatic Thresholding\n",
    "\n",
    "Image processing literature is replete with automatic thresholding algorithms that are based on a wide range of image properties. The benefits of automatic thresholding are:\n",
    "\n",
    "- No user bias is introduced during thresholding,\n",
    "- Thresholds are objectively determined and image-specific,\n",
    "- They are reproducible, in that an image will always have the same binarization result,\n",
    "- They are fast and computationally efficient, lending themselves to image preprocessing automation."
   ]
  }
 ],
 "metadata": {
  "jupytext": {
   "text_representation": {
    "extension": ".md",
    "format_name": "myst",
    "format_version": 0.13,
    "jupytext_version": "1.15.1"
   }
  },
  "kernelspec": {
   "display_name": "bcd",
   "language": "python",
   "name": "python3"
  },
  "language_info": {
   "codemirror_mode": {
    "name": "ipython",
    "version": 3
   },
   "file_extension": ".py",
   "mimetype": "text/x-python",
   "name": "python",
   "nbconvert_exporter": "python",
   "pygments_lexer": "ipython3",
   "version": "3.10.12"
  },
  "source_map": [
   12,
   37,
   68,
   82,
   89
  ]
 },
 "nbformat": 4,
 "nbformat_minor": 5
}