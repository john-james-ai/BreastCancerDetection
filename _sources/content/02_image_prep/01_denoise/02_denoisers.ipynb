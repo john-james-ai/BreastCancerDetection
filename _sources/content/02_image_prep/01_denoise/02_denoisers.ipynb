{
 "cells": [
  {
   "cell_type": "markdown",
   "id": "003dc46b",
   "metadata": {},
   "source": [
    "# Denoiser Methods\n",
    "\n",
    "Having defined an image $f(x,y)$ as a function of an original image $s(x,y)$ and a noise component $n(x,y)$ ({eq}`additive_noise_model`, and {eq}`multiplicative_noise_model`), we can define the denoising task as follows:\n",
    "\n",
    "> Image denoising aims to provide a function $d(x) \\approx s$ that takes a noisy image $f$ as input and returns an approximation of the true clean image $\\hat{s}$ as output.\n",
    "\n",
    "Our objective is to create an approximation of the original image, $\\hat{s}$ in which:\n",
    "\n",
    "- flat areas are smooth,\n",
    "- edges are protected without blurring\n",
    "- textures are preserved, and\n",
    "- no new artifacts are generated.\n",
    "\n",
    "Over the past two decades, a considerable body of research has been devoted to the design, development, and testing of denoising methods for biomedical imaging. While a systematic review of the denoising landscape is well beyond the scope of this effort, we will introduce a few of the most commonly used biomedical image denoising methods, with a focus on applications in mammography. Specifically, we will be evaluating the following five methods:\n",
    "\n",
    "In general, the denoiser method space is comprised of spatial domain methods and transform domain methods, which we will introduce in the next couple of subsections."
   ]
  }
 ],
 "metadata": {
  "jupytext": {
   "text_representation": {
    "extension": ".md",
    "format_name": "myst",
    "format_version": 0.13,
    "jupytext_version": "1.15.1"
   }
  },
  "kernelspec": {
   "display_name": "bcd",
   "language": "python",
   "name": "python3"
  },
  "source_map": [
   12
  ]
 },
 "nbformat": 4,
 "nbformat_minor": 5
}