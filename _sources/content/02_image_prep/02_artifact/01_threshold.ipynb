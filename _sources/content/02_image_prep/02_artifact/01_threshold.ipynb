{
 "cells": [
  {
   "cell_type": "markdown",
   "id": "0878648f",
   "metadata": {},
   "source": [
    "# Thresholding"
   ]
  },
  {
   "cell_type": "code",
   "execution_count": 1,
   "id": "7b614656",
   "metadata": {
    "tags": [
     "remove-input",
     "remove-output"
    ]
   },
   "outputs": [],
   "source": [
    "import os\n",
    "import os\n",
    "if 'jbook' in os.getcwd():\n",
    "    os.chdir(os.path.abspath(os.path.join(\"../../../..\")))\n",
    "\n",
    "import numpy as np\n",
    "import cv2\n",
    "import matplotlib.pyplot as plt\n",
    "from myst_nb import glue\n",
    "\n",
    "from bcd.preprocess.image.threshold import (ThresholdAnalyzer,\n",
    "    ThresholdLi, ThresholdISOData, ThresholdTriangle, ThresholdOTSU, ThresholdAdaptiveMean, ThresholdAdaptiveGaussian, ThresholdManual, ThresholdYen, ThresholdTriangleAnalyzer\n",
    ")\n",
    "\n",
    "img1 = \"data/image/1_dev/converted/train/benign/347c2455-cb62-40f8-a173-9e4eb9a21902.png\"\n",
    "img2 = \"data/image/1_dev/converted/train/benign/4ed91643-1e06-4b2c-8efb-bc60dd9e0313.png\"\n",
    "img3 = \"data/image/1_dev/converted/train/malignant/7dcc12fd-88f0-4048-a6ab-5dd0bd836f08.png\"\n",
    "img4 = \"data/image/1_dev/converted/train/malignant/596ef5db-9610-4f13-9c1a-4c411b1d957c.png\"\n",
    "\n",
    "img1 = cv2.imread(img1, cv2.IMREAD_GRAYSCALE)\n",
    "img2 = cv2.imread(img2, cv2.IMREAD_GRAYSCALE)\n",
    "img3 = cv2.imread(img3, cv2.IMREAD_GRAYSCALE)\n",
    "img4 = cv2.imread(img4, cv2.IMREAD_GRAYSCALE)\n",
    "\n",
    "images = (img1,img2,img3,img4)"
   ]
  },
  {
   "cell_type": "markdown",
   "id": "cf21010e",
   "metadata": {},
   "source": [
    "In digital mammography preprocessing, thresholding separates structures, features, and regions of interest (ROIs) from the image background based on pixel intensity values and a designated cut-off value or threshold.  From a grayscale image, a binary image is created where the pixel intensity values in the grayscale image are reduced to just two pixel intensity values in the binary image: 0 corresponding to all pixels in the grayscale image that are less than or equal to the threshold, and 1 (or 255 for 8-bit grayscale binary images) corresponding to all pixels in the grayscale image that are greater than the threshold.\n",
    "\n",
    "## Thresholding in Digital Mammography\n",
    "\n",
    "Segmentation based on pixel intensity thresholds is justified in digital mammography where pixel intensity is the parameter that most directly relates to the spatial characteristics of the structures within a mammogram. For this reason, threshold-based algorithm segmentation is a crucial early step in almost any digital mammography image analysis and preprocessing workflow.\n",
    "\n",
    "## Critical Importance of Threshold\n",
    "\n",
    "The selection of the threshold critically determines the quality of the thresholding result."
   ]
  },
  {
   "cell_type": "code",
   "execution_count": 2,
   "id": "d7843bc3",
   "metadata": {
    "tags": [
     "remove-input",
     "remove-output"
    ]
   },
   "outputs": [
    {
     "ename": "NameError",
     "evalue": "name 'plot_images' is not defined",
     "output_type": "error",
     "traceback": [
      "\u001b[0;31m---------------------------------------------------------------------------\u001b[0m",
      "\u001b[0;31mNameError\u001b[0m                                 Traceback (most recent call last)",
      "Cell \u001b[0;32mIn[2], line 13\u001b[0m\n\u001b[1;32m     10\u001b[0m     \u001b[38;5;28;01mreturn\u001b[39;00m plot_images(images\u001b[38;5;241m=\u001b[39mimages, titles\u001b[38;5;241m=\u001b[39mtitles, title\u001b[38;5;241m=\u001b[39mtitle)\n\u001b[1;32m     12\u001b[0m thresholds \u001b[38;5;241m=\u001b[39m [\u001b[38;5;241m32\u001b[39m,\u001b[38;5;241m64\u001b[39m,\u001b[38;5;241m128\u001b[39m]\n\u001b[0;32m---> 13\u001b[0m fig \u001b[38;5;241m=\u001b[39m \u001b[43mplot_binary_images\u001b[49m\u001b[43m(\u001b[49m\u001b[43mimage\u001b[49m\u001b[38;5;241;43m=\u001b[39;49m\u001b[43mimg3\u001b[49m\u001b[43m,\u001b[49m\u001b[43m \u001b[49m\u001b[43mthresholds\u001b[49m\u001b[38;5;241;43m=\u001b[39;49m\u001b[43mthresholds\u001b[49m\u001b[43m)\u001b[49m\n\u001b[1;32m     14\u001b[0m glue(\u001b[38;5;124m\"\u001b[39m\u001b[38;5;124mvarious_thresholds\u001b[39m\u001b[38;5;124m\"\u001b[39m, fig)\n",
      "Cell \u001b[0;32mIn[2], line 10\u001b[0m, in \u001b[0;36mplot_binary_images\u001b[0;34m(image, thresholds)\u001b[0m\n\u001b[1;32m      8\u001b[0m titles \u001b[38;5;241m=\u001b[39m [\u001b[38;5;124m\"\u001b[39m\u001b[38;5;124mOriginal Image\u001b[39m\u001b[38;5;124m\"\u001b[39m] \u001b[38;5;241m+\u001b[39m titles\n\u001b[1;32m      9\u001b[0m title \u001b[38;5;241m=\u001b[39m \u001b[38;5;124m\"\u001b[39m\u001b[38;5;124mBinary Thresholding at Various Threshold Values\u001b[39m\u001b[38;5;124m\"\u001b[39m\n\u001b[0;32m---> 10\u001b[0m \u001b[38;5;28;01mreturn\u001b[39;00m \u001b[43mplot_images\u001b[49m(images\u001b[38;5;241m=\u001b[39mimages, titles\u001b[38;5;241m=\u001b[39mtitles, title\u001b[38;5;241m=\u001b[39mtitle)\n",
      "\u001b[0;31mNameError\u001b[0m: name 'plot_images' is not defined"
     ]
    }
   ],
   "source": [
    "def plot_binary_images(image: np.ndarray, thresholds: list):\n",
    "    thresholds = [32,64,128]\n",
    "    images = [img3]\n",
    "    for t in thresholds:\n",
    "        _, img = cv2.threshold(img3, thresh=t, maxval=np.max(img3), type=cv2.THRESH_BINARY)\n",
    "        images.append(img)\n",
    "    titles = [f\"Binary Image T={t}\" for t in thresholds]\n",
    "    titles = [\"Original Image\"] + titles\n",
    "    title = \"Binary Thresholding at Various Threshold Values\"\n",
    "    return plot_images(images=images, titles=titles, title=title)\n",
    "\n",
    "thresholds = [32,64,128]\n",
    "fig = plot_binary_images(image=img3, thresholds=thresholds)\n",
    "glue(\"various_thresholds\", fig)"
   ]
  },
  {
   "cell_type": "markdown",
   "id": "4824375f",
   "metadata": {},
   "source": [
    "```{glue:figure} various_thresholds\n",
    "---\n",
    "align: center\n",
    "name: various_thresholds_fig\n",
    "---\n",
    "Impact of Threshold Value on Binarization\n",
    "```\n",
    "\n",
    "{numref}`various_thresholds_fig` illustrates the impact of various threshold values on the binarization result.  As the threshold value increases from $T=32$ to $T=128$, we notice a few things:\n",
    "\n",
    "- **Border Smoothness**:  Borders tend to become increasingly rough as threshold value increases.\n",
    "- **Information Loss**.  Threshold value and information loss are positively correlated. High thresholds can shrink objects to the background as indicated in {numref}`various_thresholds_fig`  (d).\n",
    "- **Artifact Removal**: “Beauty is in the eye of the beholder” {cite}`1886molly`. Some information loss is acceptable if that information is an artifact. Higher thresholds tend to be associated with greater artifact removal.\n",
    "\n",
    "{numref}`various_thresholds_fig` also illustrates the trade-off between artifact removal and information loss. Lower thresholds leave a larger pixel intensity distribution to the foreground, which may include certain artifacts. As the threshold increases, more artifact removal is extant, at the expense of some information loss.\n",
    "\n",
    "As {numref}`various_thresholds_fig` clearly illustrates, the selection of the threshold value is a determining factor in threshold-based segmentation."
   ]
  }
 ],
 "metadata": {
  "jupytext": {
   "text_representation": {
    "extension": ".md",
    "format_name": "myst",
    "format_version": 0.13,
    "jupytext_version": "1.15.1"
   }
  },
  "kernelspec": {
   "display_name": "bcd",
   "language": "python",
   "name": "python3"
  },
  "language_info": {
   "codemirror_mode": {
    "name": "ipython",
    "version": 3
   },
   "file_extension": ".py",
   "mimetype": "text/x-python",
   "name": "python",
   "nbconvert_exporter": "python",
   "pygments_lexer": "ipython3",
   "version": "3.10.12"
  },
  "source_map": [
   12,
   15,
   43,
   56,
   73
  ]
 },
 "nbformat": 4,
 "nbformat_minor": 5
}